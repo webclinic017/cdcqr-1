{
 "cells": [
  {
   "cell_type": "code",
   "execution_count": null,
   "id": "4953d826-3272-487e-946a-f9684722ef48",
   "metadata": {},
   "outputs": [],
   "source": [
    "import sys\n",
    "import pandas as pd\n",
    "import os\n",
    "from cdcqr.common.config import LOCAL_DATA_DIR\n",
    "sys.path.append('/core/github/cryptoderiv-quant/')\n",
    "from ct.alfafactory import runsignal, cleaninorder\n",
    "import time\n",
    "from cdcqr.common.utils import play_sound\n",
    "from IPython.display import Audio\n",
    "sound_file = '/core/tmp/ding.wav'\n",
    "import numpy as np\n",
    "from cdcqr.data.glassnode import glassnode_data as gnd\n",
    "import matplotlib.pyplot as plt\n",
    "%matplotlib inline\n",
    "from numba import jit"
   ]
  },
  {
   "cell_type": "code",
   "execution_count": null,
   "id": "a90c87d6-5aa9-4461-8bd9-5109880a11fe",
   "metadata": {},
   "outputs": [],
   "source": [
    "gn = gnd.GlassnodeData()"
   ]
  },
  {
   "cell_type": "code",
   "execution_count": null,
   "id": "63ce1962-c3c6-4f9d-8e5f-0cea88c2a19e",
   "metadata": {},
   "outputs": [],
   "source": [
    "fs =  ['PriceUsdOhlc']\n",
    "a = 'BTC'\n",
    "df = gn.load_features(fs,a)\n",
    "price0 = df.tail(1000).rename(columns={'BTC-PriceUsdOhlc-c':'c','BTC-PriceUsdOhlc-h':'h','BTC-PriceUsdOhlc-o':'o','BTC-PriceUsdOhlc-l':'l',})"
   ]
  },
  {
   "cell_type": "code",
   "execution_count": null,
   "id": "3aff91fc-eab6-4e9c-a312-404fa9c871ea",
   "metadata": {},
   "outputs": [],
   "source": [
    "#price0 = pd.read_pickle(os.path.join(LOCAL_DATA_DIR, 'btc1min.pkl'))"
   ]
  },
  {
   "cell_type": "code",
   "execution_count": null,
   "id": "9b4af36f-0329-4bd5-baf8-68473590339d",
   "metadata": {},
   "outputs": [],
   "source": [
    "price0.head(2)"
   ]
  },
  {
   "cell_type": "code",
   "execution_count": null,
   "id": "df19b1cf-1fd0-4366-bccd-72d6053e63fa",
   "metadata": {},
   "outputs": [],
   "source": []
  },
  {
   "cell_type": "code",
   "execution_count": null,
   "id": "58f7700a-0612-4b99-a876-ae18a22c9c34",
   "metadata": {},
   "outputs": [],
   "source": [
    "ma_ = price0['c'].rolling(50).mean()\n",
    "std_ = price0['c'].rolling(50).std()\n",
    "signal0 = price0['c'] > (ma_ + 2*std_)\n",
    "signal0.mean()"
   ]
  },
  {
   "cell_type": "code",
   "execution_count": null,
   "id": "5f65a415-1393-457c-8656-530b014bb64b",
   "metadata": {},
   "outputs": [],
   "source": [
    "t0 = time.time()\n",
    "n=200\n",
    "ret = runsignal(price0.tail(n), signal0.tail(n), n1=None, n2=None)\n",
    "print(time.time()-t0)\n",
    "Audio(sound_file, autoplay=True)"
   ]
  },
  {
   "cell_type": "code",
   "execution_count": null,
   "id": "f60632a0-05cc-4f57-88c1-e95b7cd84c5a",
   "metadata": {},
   "outputs": [],
   "source": [
    "t0 = time.time()\n",
    "n=200\n",
    "ret = runsignal(price0.tail(n), signal0.tail(n), n1=None, n2=None)\n",
    "print(time.time()-t0)\n",
    "Audio(sound_file, autoplay=True)"
   ]
  },
  {
   "cell_type": "markdown",
   "id": "08c75f4b-6519-466a-84c9-07433524fe93",
   "metadata": {},
   "source": [
    "#### check runsignal function "
   ]
  },
  {
   "cell_type": "code",
   "execution_count": null,
   "id": "834071c4-50ae-4507-9daf-f3c626f3a87d",
   "metadata": {},
   "outputs": [],
   "source": [
    "n=1000\n",
    "price = price0.tail(n).copy()\n",
    "signal = signal0.tail(n).copy()"
   ]
  },
  {
   "cell_type": "code",
   "execution_count": null,
   "id": "a3dc5a2f-f645-4ccf-ab6a-68cbd59b1d3e",
   "metadata": {},
   "outputs": [],
   "source": [
    "price0"
   ]
  },
  {
   "cell_type": "code",
   "execution_count": null,
   "id": "8879dc8a-f39d-454b-953c-d1b2dd17e9f8",
   "metadata": {},
   "outputs": [],
   "source": [
    "tp=6\n",
    "sl=2\n",
    "ts=5\n",
    "n1=1\n",
    "n2=100\n",
    "rsil=30\n",
    "rsih=50\n",
    "rsilag=14\n",
    "maf=5\n",
    "mas=15\n",
    "short=False\n",
    "size=np.inf\n",
    "fees=0.07/100\n",
    "freq='1h'\n",
    "init_cash=10000\n",
    "request=None"
   ]
  },
  {
   "cell_type": "code",
   "execution_count": null,
   "id": "a6e029f3-40d1-44e7-834e-bb413183bd55",
   "metadata": {},
   "outputs": [],
   "source": [
    "signalclean=pd.Series.vbt.signals.empty_like(price['c'])"
   ]
  },
  {
   "cell_type": "code",
   "execution_count": null,
   "id": "182fa524-4a23-4902-bcdf-dcf54809c52c",
   "metadata": {},
   "outputs": [],
   "source": [
    "signal.mean()"
   ]
  },
  {
   "cell_type": "code",
   "execution_count": null,
   "id": "66efb52e-c1e1-45f8-8e58-e8f85b94e41a",
   "metadata": {},
   "outputs": [],
   "source": [
    "res={}\n",
    "ifigs=[]\n",
    "\n",
    "runma=True\n",
    "runrsi=True\n",
    "runn=True\n",
    "if maf is None or mas is None:\n",
    "    runma=False\n",
    "if rsil is None or rsih is None:\n",
    "    runrsi=False\n",
    "if n1 is None or n2 is None:\n",
    "    runn=False\n",
    "\n",
    "#clean price\n",
    "price=price.resample(freq).last()\n",
    "\n",
    "ifigs=[]\n",
    "\n",
    "\n",
    "signalclean=pd.Series.vbt.signals.empty_like(price['c'])"
   ]
  },
  {
   "cell_type": "code",
   "execution_count": null,
   "id": "d5a89038-f091-4498-b419-f4907ec94bd0",
   "metadata": {},
   "outputs": [],
   "source": [
    "signalclean.loc[signal[signal].index]=True            "
   ]
  },
  {
   "cell_type": "code",
   "execution_count": null,
   "id": "2750eec9-30aa-4bd0-be97-7d836ee33b8b",
   "metadata": {},
   "outputs": [],
   "source": [
    "signalclean.loc[signal[signal].index]=True            \n",
    "signal=signalclean\n",
    "signal=signal.ffill()"
   ]
  },
  {
   "cell_type": "code",
   "execution_count": null,
   "id": "8227545e-a20c-4feb-9da8-89f5c4460f95",
   "metadata": {},
   "outputs": [],
   "source": [
    "#print(\"signal\",signal)\n",
    "\n",
    "\n",
    "SHORT=short\n",
    "\n",
    "rsibelow=rsil\n",
    "rsiabove=rsih\n",
    "rsiperiod=rsilag\n",
    "\n",
    "pf_kwargs = dict(size=size, fees=fees, freq=freq,init_cash=init_cash) #bidask spred 1bps    3bps cdc\n",
    "\n",
    "fastmawindow=maf\n",
    "slowmawindow=mas\n",
    "#     signal=pd.Series.vbt.signals.empty_like(price['c'])\n",
    "#     signal.loc[glass[glass['v'].shift(2)>700].index]=True"
   ]
  },
  {
   "cell_type": "code",
   "execution_count": null,
   "id": "e49b71ba-4361-47e5-b12b-73ab279d9c5d",
   "metadata": {},
   "outputs": [],
   "source": [
    "signal.mean()"
   ]
  },
  {
   "cell_type": "code",
   "execution_count": null,
   "id": "ed3cc57c-2b00-433b-a37f-a14b31b6971a",
   "metadata": {},
   "outputs": [],
   "source": [
    "entryn = n1  # entry after n periods\n",
    "exitn = n2  # exit after n periods after entry\n",
    "entriesn=signal.shift(entryn).fillna(False)\n",
    "exitsnn=entriesn.shift(exitn).fillna(False)"
   ]
  },
  {
   "cell_type": "code",
   "execution_count": null,
   "id": "2c947f67-4da4-4083-98c2-a57cb1c98d05",
   "metadata": {},
   "outputs": [],
   "source": [
    "entriesn.mean()"
   ]
  },
  {
   "cell_type": "code",
   "execution_count": null,
   "id": "92315411-e236-48fe-ad22-0f9ca82fe416",
   "metadata": {},
   "outputs": [],
   "source": [
    "signal[signal].shape"
   ]
  },
  {
   "cell_type": "code",
   "execution_count": null,
   "id": "f46e1492-ea5c-458a-94cd-058f4038081a",
   "metadata": {},
   "outputs": [],
   "source": [
    "exitsnn[exitsnn].shape"
   ]
  },
  {
   "cell_type": "code",
   "execution_count": null,
   "id": "3ca1cd8a-08ce-491e-a7fc-8bcd2fd5735b",
   "metadata": {},
   "outputs": [],
   "source": [
    "%%time\n",
    "entriesnn_clean1,exitsnn_clean1=cleaninorder(entriesn,exitsnn)"
   ]
  },
  {
   "cell_type": "code",
   "execution_count": null,
   "id": "a7ed4d41-ba97-4f71-932d-57e621d85836",
   "metadata": {},
   "outputs": [],
   "source": [
    "%%time\n",
    "entriesnn_clean2,exitsnn_clean2=cleaninorder2(entriesn,exitsnn)"
   ]
  },
  {
   "cell_type": "code",
   "execution_count": null,
   "id": "2192f860-a1aa-4280-8bd6-1c5dddd73f48",
   "metadata": {},
   "outputs": [],
   "source": [
    "display(entriesnn_clean1[entriesnn_clean1])\n",
    "display(exitsnn_clean1[exitsnn_clean1])"
   ]
  },
  {
   "cell_type": "code",
   "execution_count": null,
   "id": "8ffaf6fb-5fec-49ce-8182-6cff0d0909ec",
   "metadata": {},
   "outputs": [],
   "source": [
    "display(entriesnn_clean2[entriesnn_clean2])\n",
    "display(exitsnn_clean2[exitsnn_clean2])"
   ]
  },
  {
   "cell_type": "code",
   "execution_count": null,
   "id": "ff2e18ff-c48b-437c-b043-30def53b056e",
   "metadata": {},
   "outputs": [],
   "source": [
    "exitsnn_clean[exitsnn_clean]"
   ]
  },
  {
   "cell_type": "code",
   "execution_count": null,
   "id": "40ee5333-40aa-427c-86fe-106e0cbff1d1",
   "metadata": {},
   "outputs": [],
   "source": [
    "def cleaninorder2(entriesn,exitsnn):\n",
    "    x = pd.DataFrame()\n",
    "    x['entries'] = entriesn\n",
    "    x['exits'] = exitsnn\n",
    "    x = x.astype(float)\n",
    "    x['pos'] = x['entries'].replace(0,np.nan)\n",
    "    # when entry is true we set exit to be false\n",
    "    x['exits'].loc[x['entries']==1]=0\n",
    "    s = x['exits'].eq(1).cumsum()\n",
    "    x['pos'] = x.groupby(s)['pos'].ffill().fillna(0)\n",
    "    diff = x['pos'].diff()\n",
    "    newentries = diff==1\n",
    "    newexits = diff==-1\n",
    "    return newentries, newexits"
   ]
  },
  {
   "cell_type": "code",
   "execution_count": null,
   "id": "1276b0b3-5489-4dac-abfc-079465ddc9da",
   "metadata": {},
   "outputs": [],
   "source": [
    "entriesnn_clean,exitsnn_clean=cleaninorder2(entriesn,exitsnn)"
   ]
  },
  {
   "cell_type": "code",
   "execution_count": null,
   "id": "c53a929e-353d-4bcc-8644-53974c18ebac",
   "metadata": {},
   "outputs": [],
   "source": [
    "entriesnn_clean[entriesnn_clean]"
   ]
  },
  {
   "cell_type": "code",
   "execution_count": null,
   "id": "27a6dccf-bf2e-4e69-9c58-f53d6832bf8d",
   "metadata": {},
   "outputs": [],
   "source": [
    "exitsnn_clean[exitsnn_clean]"
   ]
  },
  {
   "cell_type": "code",
   "execution_count": null,
   "id": "2cec7b87-7f18-4a6b-a1aa-1490ee4de7de",
   "metadata": {},
   "outputs": [],
   "source": [
    "entries = entriesn.copy()\n",
    "exits = exitsnn.copy()\n",
    "x = pd.DataFrame()\n",
    "x['entries'] = entries\n",
    "x['exits'] = exits\n",
    "x['entrysignal'] = 1 * x['entries'] \n",
    "x['exitsignal']  = 1 * x['exits']\n",
    "x['entrysignalsum'] = 0\n",
    "x['entrysignalsum'][x['entrysignal']==1] = x['entrysignal'].cumsum()\n",
    "x['exitsignalsum'] = 0\n",
    "x['exitsignalsum'][x['exitsignal']==1] = x['exitsignal'].cumsum()\n",
    "x['currenttrade'] = 0\n",
    "for i in range(len(x)):\n",
    "    # check current trade before, if zero fetch whatever entrysignal is \n",
    "    if (i == 0) or (x['currenttrade'][np.max([i-1,0])] == 0):\n",
    "        x['currenttrade'][i] = x['entrysignalsum'][i]\n",
    "    # otherwise check if current trade has ended now, --> no current trade\n",
    "    elif x['currenttrade'][np.max([i-1,0])] == x['exitsignalsum'][i]:\n",
    "        x['currenttrade'][i] = 0\n",
    "    # else, current trade stays\n",
    "    else:\n",
    "        x['currenttrade'][i] = x['currenttrade'][i-1]\n",
    "x['diff'] = x['currenttrade'].diff().fillna(x['currenttrade'][0])\n",
    "x['newentries'] = (x['diff']>0)\n",
    "x['newexits'] = (x['diff']<0)"
   ]
  },
  {
   "cell_type": "code",
   "execution_count": null,
   "id": "fa214356-e9d5-472e-a526-8ba59099f3f3",
   "metadata": {
    "scrolled": true,
    "tags": []
   },
   "outputs": [],
   "source": [
    "x[(x.index>='20220124') & (x.index<='20220130')].tail(140)"
   ]
  },
  {
   "cell_type": "code",
   "execution_count": null,
   "id": "6a988682-fc4f-482d-a53a-e1268cf311a4",
   "metadata": {},
   "outputs": [],
   "source": [
    "@jit(parallel=True)\n",
    "def cleaninorder(entries, exits):\n",
    "    \"\"\"\n",
    "    \n",
    "    cleans entries and exits where each exit corresponds to entry in order of appearence\n",
    "    \n",
    "    \"\"\"\n",
    "    x = pd.DataFrame()\n",
    "    x['entries'] = entries\n",
    "    x['exits'] = exits\n",
    "    x['entrysignal'] = 1 * x['entries'] \n",
    "    x['exitsignal']  = 1 * x['exits']\n",
    "    x['entrysignalsum'] = 0\n",
    "    x['entrysignalsum'][x['entrysignal']==1] = x['entrysignal'].cumsum()\n",
    "    x['exitsignalsum'] = 0\n",
    "    x['exitsignalsum'][x['exitsignal']==1] = x['exitsignal'].cumsum()\n",
    "    x['currenttrade'] = 0\n",
    "    for i in range(len(x)):\n",
    "        # check current trade before, if zero fetch whatever entrysignal is \n",
    "        if (i == 0) or (x['currenttrade'][np.max([i-1,0])] == 0):\n",
    "            x['currenttrade'][i] = x['entrysignalsum'][i]\n",
    "        # otherwise check if current trade has ended now, --> no current trade\n",
    "        elif x['currenttrade'][np.max([i-1,0])] == x['exitsignalsum'][i]:\n",
    "            x['currenttrade'][i] = 0\n",
    "        # else, current trade stays\n",
    "        else:\n",
    "            x['currenttrade'][i] = x['currenttrade'][i-1]\n",
    "    x['diff'] = x['currenttrade'].diff().fillna(x['currenttrade'][0])\n",
    "    x['newentries'] = (x['diff']>0)\n",
    "    x['newexits'] = (x['diff']<0)\n",
    "    return x['newentries'],x['newexits']"
   ]
  }
 ],
 "metadata": {
  "kernelspec": {
   "display_name": "Python 3 (ipykernel)",
   "language": "python",
   "name": "python3"
  },
  "language_info": {
   "codemirror_mode": {
    "name": "ipython",
    "version": 3
   },
   "file_extension": ".py",
   "mimetype": "text/x-python",
   "name": "python",
   "nbconvert_exporter": "python",
   "pygments_lexer": "ipython3",
   "version": "3.8.8"
  }
 },
 "nbformat": 4,
 "nbformat_minor": 5
}
