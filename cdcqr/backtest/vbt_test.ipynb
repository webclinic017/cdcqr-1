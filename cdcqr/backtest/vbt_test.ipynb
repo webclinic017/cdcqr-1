{
 "cells": [
  {
   "cell_type": "code",
   "execution_count": 28,
   "id": "7d408809-4a99-481d-8a32-ca21086e75a1",
   "metadata": {},
   "outputs": [],
   "source": [
    "from ct.fs import *\n",
    "%matplotlib inline\n",
    "from ct.alfafactory import *\n",
    "from croqr.common.utils import load_df"
   ]
  },
  {
   "cell_type": "code",
   "execution_count": 11,
   "id": "b9bcf150-d599-4525-9611-9b0ff35ec789",
   "metadata": {},
   "outputs": [
    {
     "data": {
      "text/html": [
       "<div>\n",
       "<style scoped>\n",
       "    .dataframe tbody tr th:only-of-type {\n",
       "        vertical-align: middle;\n",
       "    }\n",
       "\n",
       "    .dataframe tbody tr th {\n",
       "        vertical-align: top;\n",
       "    }\n",
       "\n",
       "    .dataframe thead th {\n",
       "        text-align: right;\n",
       "    }\n",
       "</style>\n",
       "<table border=\"1\" class=\"dataframe\">\n",
       "  <thead>\n",
       "    <tr style=\"text-align: right;\">\n",
       "      <th></th>\n",
       "      <th>o</th>\n",
       "      <th>c</th>\n",
       "      <th>h</th>\n",
       "      <th>l</th>\n",
       "      <th>v</th>\n",
       "    </tr>\n",
       "    <tr>\n",
       "      <th>datetime</th>\n",
       "      <th></th>\n",
       "      <th></th>\n",
       "      <th></th>\n",
       "      <th></th>\n",
       "      <th></th>\n",
       "    </tr>\n",
       "  </thead>\n",
       "  <tbody>\n",
       "    <tr>\n",
       "      <th>2016-06-14 03:00:00</th>\n",
       "      <td>694.85</td>\n",
       "      <td>694.895</td>\n",
       "      <td>694.85</td>\n",
       "      <td>694.86</td>\n",
       "      <td>694</td>\n",
       "    </tr>\n",
       "    <tr>\n",
       "      <th>2016-06-14 03:15:00</th>\n",
       "      <td>695.62</td>\n",
       "      <td>695.625</td>\n",
       "      <td>695.44</td>\n",
       "      <td>695.625</td>\n",
       "      <td>695</td>\n",
       "    </tr>\n",
       "    <tr>\n",
       "      <th>2016-06-14 03:30:00</th>\n",
       "      <td>693.67</td>\n",
       "      <td>693.68</td>\n",
       "      <td>693.355</td>\n",
       "      <td>693.365</td>\n",
       "      <td>693</td>\n",
       "    </tr>\n",
       "    <tr>\n",
       "      <th>2016-06-14 03:45:00</th>\n",
       "      <td>693.615</td>\n",
       "      <td>693.645</td>\n",
       "      <td>693.61</td>\n",
       "      <td>693.645</td>\n",
       "      <td>693</td>\n",
       "    </tr>\n",
       "    <tr>\n",
       "      <th>2016-06-14 04:00:00</th>\n",
       "      <td>694.105</td>\n",
       "      <td>694.105</td>\n",
       "      <td>693.47</td>\n",
       "      <td>693.47</td>\n",
       "      <td>693</td>\n",
       "    </tr>\n",
       "  </tbody>\n",
       "</table>\n",
       "</div>"
      ],
      "text/plain": [
       "                          o       c       h       l    v\n",
       "datetime                                                \n",
       "2016-06-14 03:00:00 694.85  694.895 694.85  694.86   694\n",
       "2016-06-14 03:15:00 695.62  695.625 695.44  695.625  695\n",
       "2016-06-14 03:30:00 693.67  693.68  693.355 693.365  693\n",
       "2016-06-14 03:45:00 693.615 693.645 693.61  693.645  693\n",
       "2016-06-14 04:00:00 694.105 694.105 693.47  693.47   693"
      ]
     },
     "metadata": {},
     "output_type": "display_data"
    }
   ],
   "source": [
    "df0 = load_df('df0')\n",
    "df0.columns = ['o','c','h','l']\n",
    "df0['v'] = df0['h'].astype(int)\n",
    "df0 = df0.resample('15Min').last().ffill()\n",
    "display(df0.head(5))"
   ]
  },
  {
   "cell_type": "code",
   "execution_count": 45,
   "id": "62b3e157-39d6-4df9-9c68-ca4b208c424d",
   "metadata": {},
   "outputs": [],
   "source": [
    "def vbtstrat(df0,df1,lag=20,nstdl=2,nstdh=2,methodma='ma',methodstd='ma',verbose=0,plot=False):\n",
    "    spread_bps = (df0.c-df1.c)/df1.c\n",
    "    bb=addbb(df=DF({'spread':spread_bps}), lags=lag,methodma=methodma,methodstd=methodstd,nstdh=nstdh,nstdl=nstdl,dropna=False)\n",
    "    bb.iplot()\n",
    "    entries_dirty = bb['spread'] < bb['bbl.spread']\n",
    "    exits_dirty = bb['spread'] > bb['bbh.spread']\n",
    "    #entries[entries==True]\n",
    "    entries,exits = pd.Series.vbt.signals.clean(entries_dirty,exits_dirty, entry_first=True, broadcast_kwargs=dict(columns_from='keep'))\n",
    "    \n",
    "    \n",
    "    if plot:\n",
    "        fig = vbt.make_subplots(specs=[[{\"secondary_y\": True}]])\n",
    "        \n",
    "        \n",
    "#         fig = vbt.make_subplots(\n",
    "#         rows=5, cols=1, shared_xaxes=True, \n",
    "#         row_heights=[*[0.5 / 3] * len(symbols), 0.25, 0.25], vertical_spacing=0.05,\n",
    "#         subplot_titles=(*symbols, '%B', 'Bandwidth'))\n",
    "        \n",
    "        \n",
    "        fig = spread_bps.vbt.plot(trace_kwargs=dict(name='df0.c'), fig=fig)\n",
    "        #fig = df1['c'].vbt.plot(trace_kwargs=dict(name='df1.c'), fig=fig)\n",
    "        fig = entries.vbt.signals.plot_as_entry_markers(spread_bps, fig=fig)\n",
    "        fig = exits.vbt.signals.plot_as_exit_markers(spread_bps, fig=fig)\n",
    "        fig.update_layout(template='vbt_dark', showlegend=False, width=1600, height=300)\n",
    "        fig.show()\n",
    "    \n",
    "    # #ts exits\n",
    "    # # Execute at the next bar\n",
    "    # vbt_entries= pd.Series.vbt.signals.empty_like(dfbtc1['c'])\n",
    "    # vbt_entries.loc[dfliq1[dfliq1['v'].shift(1)>liqlimit].index]=True\n",
    "    # ts_exits = vbt.OHLCSTEX.run(vbt_entries,df0['o'],df0['h'],dfbtc1['l'],dfbtc1['c'],ts_stop=list(stops),wait=1,stop_type=None, hit_price=None).exits\n",
    "    # vbt_entries, vbt_exits = pd.DataFrame.vbt.signals.clean(vbt_entries, ts_exits)\n",
    "    # portf = vbt.Portfolio.from_signals(dfbtc1['o'], vbt_entries, ts_exits, price=dfbtc1['o'])#.vbt.fshift(1))\n",
    "    #percentage order size\n",
    "    symbol_cols = pd.Index([0, 1], name='symbol')\n",
    "    ordersize = pd.DataFrame(index=entries.index, columns=symbol_cols)\n",
    "    ordersize[0] = np.nan\n",
    "    ordersize[1] = np.nan\n",
    "    ordersize.loc[exits, 0] = -1\n",
    "    ordersize.loc[entries, 0] = 1\n",
    "    ordersize.loc[exits, 1] = 1\n",
    "    ordersize.loc[entries, 1] = -1\n",
    "\n",
    "    #shoft ordersize\n",
    "    ordersize = ordersize.vbt.fshift(1)\n",
    "\n",
    "    portf=vbt.Portfolio.from_orders(\n",
    "            close=pd.concat((df0['c'], df1['c']), axis=1, keys=symbol_cols),  # current close as reference price\n",
    "            size=ordersize,  \n",
    "            price=pd.concat((df0['o'], df1['o']), axis=1, keys=symbol_cols),  # current open as execution price\n",
    "            size_type='targetpercent', \n",
    "            val_price=pd.concat((df0['c'], df1['c']), axis=1, keys=symbol_cols),#.vbt.fshift(1),  # previous close as group valuation price\n",
    "            init_cash=10000,\n",
    "            fees=0.0006,\n",
    "            cash_sharing=True,  # share capital between assets in the same group\n",
    "            group_by=True,  # all columns belong to the same group\n",
    "            call_seq='auto',  # sell before buying\n",
    "            freq='d'  # index frequency for annualization\n",
    "        )\n",
    "\n",
    "    if verbose:\n",
    "        entries.astype('float').plot()\n",
    "        exits.astype('float').plot()\n",
    "        ordersize.dropna().plot(marker='x')\n",
    "        portf.orders.records_readable\n",
    "        portf.trades.records_readable\n",
    "        portf.stats()\n",
    "        \n",
    "        \n",
    "    #for nstdl in np.linspace(1,2.2,20):\n",
    "    for nstdh in np.linspace(1,2.2,20):\n",
    "        vbstratres=vbtstrat(df0,df1,lag=100,nstdl=nstdl,nstdh=nstdh)\n",
    "        dff[nstdl,nstdh]=vbstratres['portf'].returns()\n",
    "        resSRtotal.append({'nstdl':nstdl,'nstdh':nstdh,'SR':vbstratres['portf'].sharpe_ratio()})\n",
    "        resNTtotal.append({'nstdl':nstdl,'nstdh':nstdh,'NT':(vbstratres['entries'].astype(float).sum()+vbstratres['exits'].astype(float).sum())/((dff.index[-1]-dff.index[0])/pd.Timedelta('4.33w'))\n",
    "    })    \n",
    "        \n",
    "        \n",
    "        \n",
    "    return {'portf':portf,'entries':entries,'exits':exits,'entries_dirty':entries_dirty,'exits_dirty':exits_dirty,'SR':portf.sharpe_ratio(),'ind':bb}\n",
    "#vbtstrat(df0,df1,spreadL=-600,spreadH=-100,verbose=0)"
   ]
  },
  {
   "cell_type": "code",
   "execution_count": null,
   "id": "eae5c79a-958c-4778-80d3-af49d7285df3",
   "metadata": {},
   "outputs": [],
   "source": [
    "dff=pd.DataFrame(columns=pd.MultiIndex.from_tuples([(np.nan,np.nan)],names=['nstdl','nstdh']),index=df0['c'].index)\n",
    "dff.head(2)\n",
    "\n",
    "resSRtotal=[]\n",
    "resNTtotal=[]\n",
    "\n",
    "for nstdl in np.linspace(1,5,3):\n",
    "    for nstdh in np.linspace(1,5,3):\n",
    "        print(nstdl, nstdh)\n",
    "        vbstratres=vbtstrat(df0,df1,lag=100,nstdl=nstdl,nstdh=nstdh)\n",
    "        dff[nstdl,nstdh]=vbstratres['portf'].returns()\n",
    "        resSRtotal.append({'nstdl':nstdl,'nstdh':nstdh,'SR':vbstratres['portf'].sharpe_ratio()})\n",
    "        resNTtotal.append({'nstdl':nstdl,'nstdh':nstdh,'NT':(vbstratres['entries'].astype(float).sum()+vbstratres['exits'].astype(float).sum())/((dff.index[-1]-dff.index[0])/pd.Timedelta('4.33w'))\n",
    "})\n",
    "        \n",
    "\n",
    "dff.drop(np.nan, axis=1, level=1,inplace=True)\n",
    "dff.head()        \n",
    "#dff.plot()\n",
    "DF(resSRtotal).pivot('nstdl','nstdh').vbt.heatmap()\n",
    "\n",
    "DF(resNTtotal).pivot('nstdl','nstdh').vbt.heatmap()# if very few trades, do not consider these params, exclude them form PBO calculation\n",
    "\n",
    "\n",
    "DF(resSRtotal).pivot('nstdl','nstdh')\n",
    "\n",
    "#Entirely possible that all the N strategy configs have high but similar Sharpe ratios. Therefore, PBO may appear high, however, 'overfitting' here is among many 'skilful' strategies.\n",
    "\n",
    "pypbo.pbo(dff, S=8, metric_func=lambda x: perf.sharpe_iid(x), threshold=1, n_jobs=4,plot=True, verbose=False, hist=False)"
   ]
  },
  {
   "cell_type": "code",
   "execution_count": 17,
   "id": "f04e8c01-f92b-4be5-a7ed-b324d87684ea",
   "metadata": {},
   "outputs": [],
   "source": [
    "df1 = df0.copy()"
   ]
  },
  {
   "cell_type": "code",
   "execution_count": null,
   "id": "a46432d1-6390-48c8-9df4-17a81506a580",
   "metadata": {},
   "outputs": [],
   "source": [
    "df1.addbb(lags=1)"
   ]
  },
  {
   "cell_type": "code",
   "execution_count": 31,
   "id": "aa6d1810-d74d-48c0-9629-b2c4095cc7ba",
   "metadata": {},
   "outputs": [],
   "source": [
    "spread_bps = (df0.c-df1.c)/df1.c"
   ]
  },
  {
   "cell_type": "code",
   "execution_count": 33,
   "id": "2c1ae3f7-6503-4dd0-8727-9ee7b7427ccb",
   "metadata": {},
   "outputs": [
    {
     "data": {
      "text/plain": [
       "<AxesSubplot:xlabel='datetime'>"
      ]
     },
     "execution_count": 33,
     "metadata": {},
     "output_type": "execute_result"
    },
    {
     "data": {
      "image/png": "[encoded data removed]",
      "text/plain": [
       "<Figure size 432x288 with 1 Axes>"
      ]
     },
     "metadata": {
      "needs_background": "light"
     },
     "output_type": "display_data"
    }
   ],
   "source": [
    "spread_bps.plot()"
   ]
  },
  {
   "cell_type": "code",
   "execution_count": 42,
   "id": "f516d660-49d0-48aa-bd6a-09cf894f1166",
   "metadata": {},
   "outputs": [
    {
     "ename": "NameError",
     "evalue": "name 'lag' is not defined",
     "output_type": "error",
     "traceback": [
      "\u001b[1;31m---------------------------------------------------------------------------\u001b[0m",
      "\u001b[1;31mNameError\u001b[0m                                 Traceback (most recent call last)",
      "\u001b[1;32m~\\AppData\\Local\\Temp/ipykernel_18116/2778646987.py\u001b[0m in \u001b[0;36m<module>\u001b[1;34m\u001b[0m\n\u001b[1;32m----> 1\u001b[1;33m \u001b[0mDF\u001b[0m\u001b[1;33m(\u001b[0m\u001b[1;33m{\u001b[0m\u001b[1;34m'spread'\u001b[0m\u001b[1;33m:\u001b[0m\u001b[0mspread_bps\u001b[0m\u001b[1;33m}\u001b[0m\u001b[1;33m)\u001b[0m\u001b[1;33m.\u001b[0m\u001b[0mpipe\u001b[0m\u001b[1;33m(\u001b[0m\u001b[0maddbb\u001b[0m\u001b[1;33m(\u001b[0m\u001b[0mlags\u001b[0m\u001b[1;33m=\u001b[0m\u001b[0mlag\u001b[0m\u001b[1;33m,\u001b[0m\u001b[0mmethodma\u001b[0m\u001b[1;33m=\u001b[0m\u001b[0mmethodma\u001b[0m\u001b[1;33m,\u001b[0m\u001b[0mmethodstd\u001b[0m\u001b[1;33m=\u001b[0m\u001b[0mmethodstd\u001b[0m\u001b[1;33m,\u001b[0m\u001b[0mnstdh\u001b[0m\u001b[1;33m=\u001b[0m\u001b[0mnstdh\u001b[0m\u001b[1;33m,\u001b[0m\u001b[0mnstdl\u001b[0m\u001b[1;33m=\u001b[0m\u001b[0mnstdl\u001b[0m\u001b[1;33m,\u001b[0m\u001b[0mdropna\u001b[0m\u001b[1;33m=\u001b[0m\u001b[1;32mFalse\u001b[0m\u001b[1;33m)\u001b[0m\u001b[1;33m)\u001b[0m\u001b[1;33m\u001b[0m\u001b[1;33m\u001b[0m\u001b[0m\n\u001b[0m",
      "\u001b[1;31mNameError\u001b[0m: name 'lag' is not defined"
     ]
    }
   ],
   "source": [
    "lag = \n",
    "DF({'spread':spread_bps}).pipe(addbb(lags=lag,methodma=methodma,methodstd=methodstd,nstdh=nstdh,nstdl=nstdl,dropna=False))"
   ]
  },
  {
   "cell_type": "code",
   "execution_count": 53,
   "id": "79465ac4-e3c4-4cc8-9417-f16384b8facf",
   "metadata": {},
   "outputs": [],
   "source": [
    "lag=20\n",
    "nstdl=2\n",
    "nstdh=2\n",
    "methodma='ma'\n",
    "methodstd='ma'\n",
    "verbose=0\n",
    "plot=False\n",
    "bb=addbb(df=DF({'spread':spread_bps}), lags=lag,methodma=methodma,methodstd=methodstd,nstdh=nstdh,nstdl=nstdl,dropna=False)\n",
    "\n",
    "entries_dirty = bb['spread'] < bb['bbl.spread']\n",
    "exits_dirty = bb['spread'] > bb['bbh.spread']\n",
    "#entries[entries==True]\n",
    "entries,exits = pd.Series.vbt.signals.clean(entries_dirty,exits_dirty, entry_first=True, broadcast_kwargs=dict(columns_from='keep'))"
   ]
  },
  {
   "cell_type": "code",
   "execution_count": 57,
   "id": "8c7ff24f-3018-4b99-b4bc-ba58779ffc33",
   "metadata": {},
   "outputs": [
    {
     "data": {
      "text/plain": [
       "\u001b[1;31mInit signature:\u001b[0m \u001b[0mpd\u001b[0m\u001b[1;33m.\u001b[0m\u001b[0mSeries\u001b[0m\u001b[1;33m.\u001b[0m\u001b[0mvbt\u001b[0m\u001b[1;33m(\u001b[0m\u001b[0mobj\u001b[0m\u001b[1;33m:\u001b[0m \u001b[0mpandas\u001b[0m\u001b[1;33m.\u001b[0m\u001b[0mcore\u001b[0m\u001b[1;33m.\u001b[0m\u001b[0mseries\u001b[0m\u001b[1;33m.\u001b[0m\u001b[0mSeries\u001b[0m\u001b[1;33m,\u001b[0m \u001b[1;33m**\u001b[0m\u001b[0mkwargs\u001b[0m\u001b[1;33m)\u001b[0m \u001b[1;33m->\u001b[0m \u001b[1;32mNone\u001b[0m\u001b[1;33m\u001b[0m\u001b[1;33m\u001b[0m\u001b[0m\n",
       "\u001b[1;31mSource:\u001b[0m        \n",
       "\u001b[1;32mclass\u001b[0m \u001b[0mVbt_SRAccessor\u001b[0m\u001b[1;33m(\u001b[0m\u001b[0mDirNamesMixin\u001b[0m\u001b[1;33m,\u001b[0m \u001b[0mGenericSRAccessor\u001b[0m\u001b[1;33m)\u001b[0m\u001b[1;33m:\u001b[0m\u001b[1;33m\n",
       "\u001b[0m    \u001b[1;34m\"\"\"The main vectorbt accessor for `pd.Series`.\"\"\"\u001b[0m\u001b[1;33m\n",
       "\u001b[0m\u001b[1;33m\n",
       "\u001b[0m    \u001b[1;32mdef\u001b[0m \u001b[0m__init__\u001b[0m\u001b[1;33m(\u001b[0m\u001b[0mself\u001b[0m\u001b[1;33m,\u001b[0m \u001b[0mobj\u001b[0m\u001b[1;33m:\u001b[0m \u001b[0mtp\u001b[0m\u001b[1;33m.\u001b[0m\u001b[0mSeries\u001b[0m\u001b[1;33m,\u001b[0m \u001b[1;33m**\u001b[0m\u001b[0mkwargs\u001b[0m\u001b[1;33m)\u001b[0m \u001b[1;33m->\u001b[0m \u001b[1;32mNone\u001b[0m\u001b[1;33m:\u001b[0m\u001b[1;33m\n",
       "\u001b[0m        \u001b[0mself\u001b[0m\u001b[1;33m.\u001b[0m\u001b[0m_obj\u001b[0m \u001b[1;33m=\u001b[0m \u001b[0mobj\u001b[0m\u001b[1;33m\n",
       "\u001b[0m\u001b[1;33m\n",
       "\u001b[0m        \u001b[0mDirNamesMixin\u001b[0m\u001b[1;33m.\u001b[0m\u001b[0m__init__\u001b[0m\u001b[1;33m(\u001b[0m\u001b[0mself\u001b[0m\u001b[1;33m)\u001b[0m\u001b[1;33m\n",
       "\u001b[0m        \u001b[0mGenericSRAccessor\u001b[0m\u001b[1;33m.\u001b[0m\u001b[0m__init__\u001b[0m\u001b[1;33m(\u001b[0m\u001b[0mself\u001b[0m\u001b[1;33m,\u001b[0m \u001b[0mobj\u001b[0m\u001b[1;33m,\u001b[0m \u001b[1;33m**\u001b[0m\u001b[0mkwargs\u001b[0m\u001b[1;33m)\u001b[0m\u001b[1;33m\u001b[0m\u001b[1;33m\u001b[0m\u001b[0m\n",
       "\u001b[1;31mFile:\u001b[0m           c:\\users\\wang\\anaconda3\\lib\\site-packages\\vectorbt\\root_accessors.py\n",
       "\u001b[1;31mType:\u001b[0m           MetaGenericAccessor\n",
       "\u001b[1;31mSubclasses:\u001b[0m     \n"
      ]
     },
     "metadata": {},
     "output_type": "display_data"
    }
   ],
   "source": [
    "pd.Series.vbt??"
   ]
  }
 ],
 "metadata": {
  "kernelspec": {
   "display_name": "Python 3 (ipykernel)",
   "language": "python",
   "name": "python3"
  },
  "language_info": {
   "codemirror_mode": {
    "name": "ipython",
    "version": 3
   },
   "file_extension": ".py",
   "mimetype": "text/x-python",
   "name": "python",
   "nbconvert_exporter": "python",
   "pygments_lexer": "ipython3",
   "version": "3.8.8"
  }
 },
 "nbformat": 4,
 "nbformat_minor": 5
}
