{
 "cells": [
  {
   "cell_type": "code",
   "execution_count": null,
   "id": "2c2171dd-5ca7-47de-aede-2d9a8d74dc12",
   "metadata": {},
   "outputs": [],
   "source": [
    "import vectorbt as vbt\n",
    "\n",
    "price = vbt.YFData.download('BTC-USD').get('Close')\n",
    "\n",
    "pf = vbt.Portfolio.from_holding(price, init_cash=100)\n",
    "pf.total_profit()"
   ]
  },
  {
   "cell_type": "code",
   "execution_count": null,
   "id": "4a073b9c-dd06-4b05-bb7e-3a71471f17ce",
   "metadata": {},
   "outputs": [],
   "source": [
    "price"
   ]
  },
  {
   "cell_type": "code",
   "execution_count": null,
   "id": "689ba1b8-4338-4c80-b5d6-fe8e286b835c",
   "metadata": {},
   "outputs": [],
   "source": [
    "fast_ma = vbt.MA.run(price, 10)\n",
    "slow_ma = vbt.MA.run(price, 50)\n",
    "entries = fast_ma.ma_above(slow_ma, crossover=True)\n",
    "exits = fast_ma.ma_below(slow_ma, crossover=True)"
   ]
  },
  {
   "cell_type": "code",
   "execution_count": null,
   "id": "371bb0e4-1463-47de-b205-a026d7e952cf",
   "metadata": {},
   "outputs": [],
   "source": [
    "price"
   ]
  },
  {
   "cell_type": "code",
   "execution_count": null,
   "id": "040add77-49a2-46c6-a2a9-cbaab0582ba2",
   "metadata": {},
   "outputs": [],
   "source": [
    "exits[exits]"
   ]
  },
  {
   "cell_type": "code",
   "execution_count": null,
   "id": "c221460e-e5c2-4dea-8298-19f49cf76e15",
   "metadata": {},
   "outputs": [],
   "source": [
    "entries[entries]"
   ]
  },
  {
   "cell_type": "code",
   "execution_count": null,
   "id": "8fcd983a-1c4d-40e5-bf87-e523e20dd7fc",
   "metadata": {},
   "outputs": [],
   "source": [
    "pf_kwargs = dict(fees=0.00075, freq='10Min')\n",
    "pf = vbt.Portfolio.from_signals(price, entries, exits, init_cash=100, **pf_kwargs)\n",
    "pf.sharpe_ratio()"
   ]
  },
  {
   "cell_type": "code",
   "execution_count": null,
   "id": "97bb150a-83ad-4562-a1a9-c2b66aa5e0a6",
   "metadata": {},
   "outputs": [],
   "source": [
    "entries"
   ]
  }
 ],
 "metadata": {
  "kernelspec": {
   "display_name": "Python 3 (ipykernel)",
   "language": "python",
   "name": "python3"
  },
  "language_info": {
   "codemirror_mode": {
    "name": "ipython",
    "version": 3
   },
   "file_extension": ".py",
   "mimetype": "text/x-python",
   "name": "python",
   "nbconvert_exporter": "python",
   "pygments_lexer": "ipython3",
   "version": "3.8.8"
  }
 },
 "nbformat": 4,
 "nbformat_minor": 5
}
