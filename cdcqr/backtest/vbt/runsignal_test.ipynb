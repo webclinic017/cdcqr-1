{
 "cells": [
  {
   "cell_type": "code",
   "execution_count": null,
   "id": "7c85eebb-57d8-4eed-9edf-c7f8489b2365",
   "metadata": {},
   "outputs": [],
   "source": [
    "import logging\n",
    "LOG_FILENAME = '/core/logs/backtest.log'\n",
    "logging.basicConfig(\n",
    "    format='%(asctime)s %(levelname)-8s %(message)s',\n",
    "    level=logging.INFO,\n",
    "    datefmt='%Y-%m-%d %H:%M:%S',filename=LOG_FILENAME)\n",
    "from cdcqr.backtest.vbt.runsignal import runsignal\n",
    "from cdcqr.common.utils import parallel_jobs\n",
    "import numpy as np\n",
    "from cdcqr.common.utils import LOCAL_DATA_DIR, dict_hash\n",
    "import pandas as pd\n",
    "import os\n",
    "import warnings\n",
    "warnings.filterwarnings(\"ignore\")\n",
    "from cdcqr.common.utils import LOCAL_DATA_DIR\n",
    "import json\n",
    "from cdcqr.data.glassnode.features.feature_loaders import produce_feature_BTCSSR\n",
    "from cdcqr.backtest.vbt.runsignal import wrapped_runsignal\n",
    "\n",
    "from cdcqr.backtest.vbt.sample_params import param_dict"
   ]
  },
  {
   "cell_type": "code",
   "execution_count": null,
   "id": "443ce162-0229-4504-b79e-8584f6346664",
   "metadata": {},
   "outputs": [],
   "source": [
    "pctrank = lambda x: pd.Series(x).rank(pct=True).iloc[-1]\n",
    "\n",
    "price = pd.read_pickle(os.path.join(LOCAL_DATA_DIR,'BTC-PERP@ftx.pickle'))"
   ]
  },
  {
   "cell_type": "code",
   "execution_count": null,
   "id": "088871d1-9a70-4101-a54a-e469c84c51e8",
   "metadata": {},
   "outputs": [],
   "source": [
    "signal = pd.read_pickle('/core/tmp/sample_signal.pickle')"
   ]
  },
  {
   "cell_type": "code",
   "execution_count": null,
   "id": "654f4dd3-06b0-4f75-9241-cbf6170bbc4a",
   "metadata": {},
   "outputs": [],
   "source": [
    "param_dict['price'] = price\n",
    "param_dict['signal'] = signal"
   ]
  },
  {
   "cell_type": "code",
   "execution_count": null,
   "id": "9d926f7a-1a60-4319-b760-d952c014676d",
   "metadata": {},
   "outputs": [],
   "source": [
    "ret = wrapped_runsignal(param_dict)"
   ]
  },
  {
   "cell_type": "code",
   "execution_count": null,
   "id": "27b999e3-b093-4e7a-8fdd-345ec17bc4a4",
   "metadata": {},
   "outputs": [],
   "source": [
    "ret"
   ]
  },
  {
   "cell_type": "code",
   "execution_count": null,
   "id": "8b4fda4a-3e65-4653-8303-14c50288152e",
   "metadata": {},
   "outputs": [],
   "source": []
  }
 ],
 "metadata": {
  "kernelspec": {
   "display_name": "Python 3 (ipykernel)",
   "language": "python",
   "name": "python3"
  },
  "language_info": {
   "codemirror_mode": {
    "name": "ipython",
    "version": 3
   },
   "file_extension": ".py",
   "mimetype": "text/x-python",
   "name": "python",
   "nbconvert_exporter": "python",
   "pygments_lexer": "ipython3",
   "version": "3.8.8"
  }
 },
 "nbformat": 4,
 "nbformat_minor": 5
}
