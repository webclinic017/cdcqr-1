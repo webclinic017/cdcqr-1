{
 "cells": [
  {
   "cell_type": "markdown",
   "metadata": {},
   "source": [
    "perps price ~ liquidations\n",
    "spot price ~ liquidations\n",
    "perps price ~ liquidations , reserves\n",
    "spot price ~liquidations, reserves\n",
    "repeat same with liquidations -> only binance liquidations, binance price\n",
    "binance liquidations, binance price, + reserves\n",
    "reserves -> exponential smoothing,  trend =d reserves.ewm / dt\n",
    "liquidations ERC20 better?\n",
    "vectorbt implementation to find optimal trialing stop\n",
    "constant time position, small stop loss"
   ]
  },
  {
   "cell_type": "code",
   "execution_count": null,
   "metadata": {},
   "outputs": [],
   "source": [
    "%run base.ipynb\n",
    "from ct.fs import *\n",
    "%matplotlib inline\n",
    "from ct.alfafactory import *"
   ]
  },
  {
   "cell_type": "markdown",
   "metadata": {},
   "source": [
    "# market data"
   ]
  },
  {
   "cell_type": "code",
   "execution_count": null,
   "metadata": {},
   "outputs": [],
   "source": [
    "qbars('BTCUSDT@binance',freq=\"15Min\",table='ppttrades', date=date(2021,2,9),addwhere=', vol>0.01').resample('1H').last().ffill()"
   ]
  },
  {
   "cell_type": "code",
   "execution_count": null,
   "metadata": {},
   "outputs": [],
   "source": [
    "import vectorbt as vbt"
   ]
  },
  {
   "cell_type": "code",
   "execution_count": null,
   "metadata": {},
   "outputs": [],
   "source": [
    "vbt?"
   ]
  },
  {
   "cell_type": "code",
   "execution_count": null,
   "metadata": {},
   "outputs": [],
   "source": [
    "df0.shape"
   ]
  },
  {
   "cell_type": "code",
   "execution_count": null,
   "metadata": {},
   "outputs": [],
   "source": [
    "df0=qbars('BTCUSDT@binance',freq=\"15Min\",table='ppttrades',date=[date(2021,5,9),date(2021,5,25)],addwhere=', vol>0.01').resample('15Min').last().ffill()"
   ]
  },
  {
   "cell_type": "code",
   "execution_count": null,
   "metadata": {},
   "outputs": [],
   "source": [
    "df0.join(dfcq['btc-binance-market-data-price-usd'].head(1000)).dropna().iplot()#loc['2021-05-24 16:10:00':].head()"
   ]
  },
  {
   "cell_type": "markdown",
   "metadata": {},
   "source": [
    "# alternative data"
   ]
  },
  {
   "cell_type": "code",
   "execution_count": null,
   "metadata": {},
   "outputs": [],
   "source": [
    "dfcq=pd.read_pickle('/core/cq2.pkl')"
   ]
  },
  {
   "cell_type": "code",
   "execution_count": null,
   "metadata": {},
   "outputs": [],
   "source": [
    "for f in dfcq:print(f)"
   ]
  },
  {
   "cell_type": "markdown",
   "metadata": {},
   "source": [
    "btc-binance-market-data-price-usd\n",
    "btc-all_exchange-exchange-flows-netflow\n",
    "btc-all_exchange-exchange-flows-inflow\n",
    "btc-all_exchange-exchange-flows-outflow\n",
    "btc-all_exchange-miner-flows-inflow\n",
    "btc-all_exchange-miner-flows-outflow\n",
    "btc-all_exchange-miner-flows-netflow\n",
    "btc-binance-exchange-flows-netflow\n",
    "btc-binance-exchange-flows-reserve\n",
    "btc-binance-exchange-flows-inflow\n",
    "btc-binance-exchange-flows-outflow\n",
    "btc-binance-miner-flows-inflow\n",
    "btc-binance-miner-flows-outflow\n",
    "btc-binance-miner-flows-netflow\n",
    "btc-spot_exchange-exchange-flows-reserve\n",
    "btc-spot_exchange-exchange-flows-inflow\n",
    "btc-spot_exchange-exchange-flows-outflow\n",
    "btc-spot_exchange-miner-flows-inflow\n",
    "btc-spot_exchange-miner-flows-outflow\n",
    "btc-spot_exchange-miner-flows-netflow"
   ]
  },
  {
   "cell_type": "code",
   "execution_count": null,
   "metadata": {},
   "outputs": [],
   "source": [
    "dfcq['btc-all_exchange-exchange-flows-inflow'].head(20)\n",
    "#btc-all_exchange-exchange-flows-netflow"
   ]
  },
  {
   "cell_type": "code",
   "execution_count": null,
   "metadata": {},
   "outputs": [],
   "source": [
    "df1=qbars('ETHUSDT_210326@binance',freq=\"1H\",table='ppttrades',date=[date(2021,2,9),date(2021,5,21)],addwhere=', vol>0.01').resample('1H').last().ffill()"
   ]
  },
  {
   "cell_type": "code",
   "execution_count": null,
   "metadata": {},
   "outputs": [],
   "source": [
    "df0=df0.loc['2021-02-09':]\n",
    "df1=df1.loc['2021-02-09':]"
   ]
  },
  {
   "cell_type": "code",
   "execution_count": null,
   "metadata": {},
   "outputs": [],
   "source": [
    "df1"
   ]
  },
  {
   "cell_type": "code",
   "execution_count": null,
   "metadata": {},
   "outputs": [],
   "source": [
    "1+1"
   ]
  },
  {
   "cell_type": "markdown",
   "metadata": {},
   "source": [
    "# indicator viz"
   ]
  },
  {
   "cell_type": "code",
   "execution_count": null,
   "metadata": {},
   "outputs": [],
   "source": [
    "dfcq['btc-binance-market-data-price-usd'].loc['2021'].shape#.iplot()"
   ]
  },
  {
   "cell_type": "code",
   "execution_count": null,
   "metadata": {},
   "outputs": [],
   "source": [
    "DF(dfcq['btc-all_exchange-exchange-flows-inflow']['inflow_mean']).loc['2021'].query('inflow_total>0').addma(lags=1440).addma(cols=['inflow_total'],lags=10).iplot()"
   ]
  },
  {
   "cell_type": "code",
   "execution_count": null,
   "metadata": {},
   "outputs": [],
   "source": [
    "DF(dfcq['btc-all_exchange-exchange-flows-inflow']['inflow_mean']).loc['2021'].addma(cols=['inflow_mean'],lags=10).iplot()"
   ]
  },
  {
   "cell_type": "code",
   "execution_count": null,
   "metadata": {},
   "outputs": [],
   "source": [
    "DF(dfcq['btc-all_exchange-exchange-flows-netflow']['netflow_total']).addbb?"
   ]
  },
  {
   "cell_type": "code",
   "execution_count": null,
   "metadata": {},
   "outputs": [],
   "source": [
    "DF(dfcq['btc-all_exchange-exchange-flows-netflow']['netflow_total']).addbb"
   ]
  },
  {
   "cell_type": "code",
   "execution_count": null,
   "metadata": {},
   "outputs": [],
   "source": [
    "plt.rcParams['figure.figsize'] = (10.0, 8.0)\n",
    "#df0[['c']].subtract(df1[['c']]).iplot()\n",
    "DF(dfcq['btc-all_exchange-exchange-flows-netflow']['netflow_total']).addbb(lags=50,methodma='ewm',methodstd='ewm',nstdh=2,nstdl=2).plot()\n",
    "#DF(df0['c']-df1['c']).gr()"
   ]
  },
  {
   "cell_type": "code",
   "execution_count": null,
   "metadata": {},
   "outputs": [],
   "source": [
    "datetime.time(23,59,59)"
   ]
  },
  {
   "cell_type": "code",
   "execution_count": null,
   "metadata": {},
   "outputs": [],
   "source": [
    "len(pd.date_range(start='2020-01-01', end='2020-01-02',freq='1H'))"
   ]
  },
  {
   "cell_type": "code",
   "execution_count": null,
   "metadata": {},
   "outputs": [],
   "source": [
    "df0.index[-1].time()<datetime.time(23,59,59)"
   ]
  },
  {
   "cell_type": "code",
   "execution_count": null,
   "metadata": {},
   "outputs": [],
   "source": [
    "#sym,freq=None,ts='exchtm',table=None,date=None,"
   ]
  },
  {
   "cell_type": "code",
   "execution_count": null,
   "metadata": {},
   "outputs": [],
   "source": [
    "bt?"
   ]
  },
  {
   "cell_type": "markdown",
   "metadata": {},
   "source": [
    "# backtrader strategy backtest"
   ]
  },
  {
   "cell_type": "code",
   "execution_count": null,
   "metadata": {},
   "outputs": [],
   "source": [
    "def initcerebro(icap=10000, fees=0.0006,multi=False,futures=False,margin=0.01,mult=1.0):\n",
    "    cerebro = bt.Cerebro(stdstats=False)\n",
    "    \n",
    "    cerebro.addobserver(bt.observers.Value)\n",
    "    cerebro.addobserver(bt.observers.DrawDown)\n",
    "    cerebro.addobserver(bt.observers.Trades)\n",
    "    if multi:\n",
    "        cerebro.addobservermulti(bt.observers.BuySell)    \n",
    "    else:\n",
    "        cerebro.addobserver(bt.observers.BuySell)\n",
    "    percslippage=0# 10bps\n",
    "    cerebro.broker.setcash(icap)\n",
    "    if futures:\n",
    "        cerebro.broker.setcommission(commission=fees,margin=margin,mult=mult)\n",
    "    else:\n",
    "        cerebro.broker.setcommission(commission=fees)\n",
    "    \n",
    "    cerebro.broker.set_slippage_perc(percslippage, slip_open=True, slip_limit=True, slip_match=True, slip_out=False)\n",
    "    cerebro.addanalyzer(bt.analyzers.TradeAnalyzer, _name='ta')\n",
    "    cerebro.addanalyzer(trade_list,_name='tradelist')\n",
    "    cerebro.addanalyzer(bt.analyzers.DrawDown, _name='drawdown')\n",
    "    cerebro.addanalyzer(bt.analyzers.SharpeRatio, _name='sharpe', riskfreerate=0.0, annualize=True, timeframe=bt.TimeFrame.Days)\n",
    "    cerebro.addanalyzer(bt.analyzers.Transactions, _name='txn')\n",
    "    cerebro.addanalyzer(bt.analyzers.TimeReturn,_name='timereturn')\n",
    "    #cerebro.addanalyzer(bt.analyzers.Returns,_name='returns')\n",
    "    cerebro.addanalyzer(bt.analyzers.LogReturnsRolling,_name='logreturnsrolling')\n",
    "\n",
    "\n",
    "    return cerebro"
   ]
  },
  {
   "cell_type": "code",
   "execution_count": null,
   "metadata": {},
   "outputs": [],
   "source": [
    "trade_list"
   ]
  },
  {
   "cell_type": "code",
   "execution_count": null,
   "metadata": {},
   "outputs": [],
   "source": [
    "bt_trailpercent=0.005 #0.5%\n",
    "liqlimit=1000\n",
    "\n",
    "# class Spread2(bt.indicators.Indicator):\n",
    "#     #lines = ('spread',)\n",
    "#     #params = {'period':20}#, movav=btind.MovAv.Simple)\n",
    "#     def next(self):\n",
    "#         print(f\"self.spread0={self.spread[0]}\")\n",
    "#         #self.lines.spread[0]=self.data0[0].close-self.data1[0].close\n",
    "#     def __init__(self):\n",
    "#         self.spread=self.data0[0].close-self.data1[0].close\n",
    "#         self.spread=movav = self.p.movav(self.data, period=self.p.period)\n",
    "#         self.l.spread = bt.Cmp(movav, self.data)    \n",
    "\n",
    "\n",
    "#     spread_bps = (df0.c-df1.c)/df1.c\n",
    "#     bb=DF({'spread':spread_bps}).addbb(lags=50,methodma='ewm',methodstd='ewm',nstdh=nstdh,nstdl=nstdl,dropna=False)\n",
    "#     entries = bb['spread'] < bb['bbl.spread']\n",
    "#     exits = bb['spread'] > bb['bbh.spread']\n",
    "\n",
    "ole=1\n",
    "\n",
    "class Spread(bt.indicators.Indicator):\n",
    "    params = (('lags', 5), ('nstdh', 1.0), ('nstdl',1.0 ),('methodma','ma'),('methodstd','ma'),)\n",
    "    _mindatas = 20\n",
    "    lines = ('spread','spreadBBH','spreadBBL','buy','sell',)\n",
    "    def next(self):\n",
    "        print(\"!!nextspread\")\n",
    "        \n",
    "        df0c=DF(npa(self.data0.get(size=self.p.lags)))\n",
    "        df1c=DF(npa(self.data1.get(size=self.p.lags)))\n",
    "        #print(f\"df0c={df0c}, {npa(df0c)}\")\n",
    "        if not len(df0c):return\n",
    "        spread_bps=((df0c-df1c)/df1c).rename(columns={0:'spread'})\n",
    "        #display(spread_bps)\n",
    "        self.lines.spread[0]=spread_bps.iloc[-1]\n",
    "        #print(f\"spread_bps.values = {spread_bps.values}\")\n",
    "        #print(f\" len spread_bps.values = {len(spread_bps.values).flatten()}\")\n",
    "        #print(f\"DF spread_bps = {DF({'spread':spread_bps.values.flatten()})}\")\n",
    "        #print(f\"self.p.nstdh={self.p.nstdh}\")\n",
    "        bb=spread_bps.addbb(lags=self.p.lags,methodma=self.p.methodma,methodstd=self.p.methodstd,nstdh=self.p.nstdh,nstdl=self.p.nstdl,dropna=False)\n",
    "#         spread_bps1 = (df0.c-df1.c)/df1.c\n",
    "#         bb1=DF({'spread':spread_bps1}).addbb(lags=self.p.lags,methodma=self.p.methodstd,methodstd=self.p.methodstd,nstdh=self.p.nstdh,nstdl=self.p.nstdl,dropna=False)\n",
    "#         display(bb)\n",
    "#         display(bb1)\n",
    "        \n",
    "#         global ole\n",
    "#         ole+=1\n",
    "#         if ole>5:\n",
    "#             raise 1\n",
    "        #print(bb)\n",
    "        \n",
    "        \n",
    "        \n",
    "#             spread_bps = (df0.c-df1.c)/df1.c\n",
    "#             bb=DF({'spread':spread_bps}).addbb(lags=20,methodma='ewm',methodstd='ewm',nstdh=nstdh,nstdl=nstdl,dropna=False)\n",
    "#             entries = bb['spread'] < bb['bbl.spread']\n",
    "#             exits = bb['spread'] > bb['bbh.spread']\n",
    "\n",
    "        self.lines.spreadBBH[0]=bb['bbh.spread'].iloc[-1]#(self.data0[0]-self.data1[0])/self.data1[0]\n",
    "        self.lines.spreadBBL[0]=bb['bbl.spread'].iloc[-1]\n",
    "        self.lines.buy[0]=float(self.lines.spread[0]<self.lines.spreadBBL[0])/100\n",
    "        #print(f\"self.lines.buy[0] {self.lines.buy[0]}\")\n",
    "        #ipdb.set_trace()\n",
    "        self.lines.sell[0]=float(self.lines.spread[0]>self.lines.spreadBBH[0])/100\n",
    "        #print(f\"self.lines.sell[0] {self.lines.sell[0]}\")\n",
    "\n",
    "class Strategy(bt.Strategy):\n",
    "    params = (('trailpercent', bt_trailpercent),('lags',20),('nstdh',1.4),('nstdl',1.8),('methodma','ma'),('methodstd','ma'),)\n",
    "\n",
    "    def notify_order(self, order):\n",
    "        if not order.alive():\n",
    "            self.order = None  # No pending orders\n",
    "\n",
    "    def __init__(self):\n",
    "        self.spread=Spread(self.data0,self.data1,lags=self.p.lags,nstdh=self.p.nstdh,nstdl=self.p.nstdl,methodma=self.p.methodma,methodstd=self.p.methodma)\n",
    "        pass\n",
    "        \n",
    "    \n",
    "    def start(self):\n",
    "        self.order = None  # Avoid operrations on pending order\n",
    "\n",
    "    def next(self):\n",
    "        \n",
    "        print(f\"self.data0.close[0]={self.data0.close[0]}\")\n",
    "        \n",
    "        if self.order:\n",
    "            return  # pending order execution\n",
    "        \n",
    "        if not self.position:  # not in the market\n",
    "            if (self.spread.buy[0] and not np.isnan(self.spread.buy[0])):\n",
    "                #print(f\"buy 0 -1 {self.spread.buy[0], bool(self.spread.buy[0])}\")\n",
    "                self.order = self.buy(data=self.data0,exectype=bt.Order.Market)#,size=1)\n",
    "                self.order = self.sell(data=self.data1,exectype=bt.Order.Market)#,size=1)                \n",
    "                self.order = 'none'\n",
    "        elif self.order is None: \n",
    "            if (self.spread.sell[0] and not np.isnan(self.spread.sell[0])) :\n",
    "                self.order = self.sell(data=self.data0,exectype=bt.Order.Market)#,size=1)\n",
    "                self.order = self.buy(data=self.data1,exectype=bt.Order.Market)#,size=1)            \n",
    "        \n",
    "#         if not self.position:  # not in the market\n",
    "#             if (self.data0.close[0] - self.data1.close[0])<-800 :\n",
    "#                 self.order = self.buy(data=self.data0,exectype=bt.Order.Market,size=1)\n",
    "#                 self.order = self.sell(data=self.data1,exectype=bt.Order.Market,size=1)                \n",
    "#                 self.order = 'none'\n",
    "#         elif self.order is None: \n",
    "#             if (self.data0.close[0] - self.data1.close[0])>-100 :\n",
    "#                 self.order = self.sell(data=self.data0,exectype=bt.Order.Market,size=1)\n",
    "#                 self.order = self.buy(data=self.data1,exectype=bt.Order.Market,size=1)                \n",
    "                \n",
    "            "
   ]
  },
  {
   "cell_type": "code",
   "execution_count": null,
   "metadata": {},
   "outputs": [],
   "source": [
    "API_KEY = '1wvlrc0JsEMIWF6enI69cWiOojq'\n",
    "\n",
    "def glassnode(url='https://api.glassnode.com/v1/metrics/transactions/transfers_volume_to_exchanges_mean',a='BTC',i='10m',s=1629500000):\n",
    "    res = requests.get(url,params={'a': a,'i':i,s:s,'api_key': API_KEY}) #, 's':1629500000\n",
    "    df = pd.read_json(res.text, convert_dates=['t']).set_index('t') \n",
    "    return df\n",
    "                       \n",
    "dfgsi=glassnode('https://api.glassnode.com/v1/metrics/transactions/transfers_volume_to_exchanges_mean',a='BTC',i='10m')[::-1]\n",
    "#dfgsbtc=glassnode('https://api.glassnode.com/v1/metrics/market/price_usd_close',a='BTC',i='10m',s=1629500000)[::-1]"
   ]
  },
  {
   "cell_type": "code",
   "execution_count": null,
   "metadata": {},
   "outputs": [],
   "source": [
    "BACKTEST=True\n",
    "PRINTCANDLE=False\n",
    "class Strategy(bt.Strategy):\n",
    "    params = (('betsize',0.1),('lags', 20),('delay',4),('trailpercent', 3),('inflowlimit',5),('inflowlimit2',12),('nstd',2))# ('entryz', 1.2), ('exitz',1.2),('methodma','ewm'),('methodstd','ewm'),('trailpercent', 2),('liqlimit',35))\n",
    "    \n",
    "    def notify_order(self, order): \n",
    "        if not order.alive():\n",
    "            self.order = None  # No pending orders\n",
    "        logging.critical(f\"|notify_order|{order}|position={self.position.size}|brokerpos={self.broker.getposition(self.datas[0]).size}|c={self.data0.close[0]}|o={self.data0.open[0]}|order={order} \")\n",
    "         #The logic in the strategy has to remember when a position was entered, probably in notify_order by checking the date from the notified order\n",
    "        #order.executed.dt which can be translated to a datetime instance like this for example: order.data.num2date(order.executed.dt)`\n",
    "        #And then checking when the data hits a month later self.data.datetime, where you can get instances with self.data.datetime.datetime() for example.\n",
    "    def __init__(self):\n",
    "        print(\"strat init()\")\n",
    "        self.order = None\n",
    "        #self.lastliq=DummyIndicator()\n",
    "         \n",
    "        \n",
    "    def start(self):\n",
    "        print(\"strat start()\")\n",
    "        self.order = None  # Avoid operrations on pending order\n",
    "\n",
    "    def next(self):\n",
    "        if not BACKTEST:\n",
    "            if self.live_data==False:\n",
    "                return\n",
    "        if self.order:\n",
    "            return  # pending order execution\n",
    "\n",
    "        curdt=bt.num2date(self.data0.datetime[0])\n",
    "        o,h,l,c,v=self.data0.open[0],self.data0.high[0],self.data0.low[0],self.data0.close[0],self.data0.volume[0]\n",
    "        if PRINTCANDLE:print(f\"curdt={curdt}\")\n",
    "        #dfpn=dfcq['btc-all_exchange-exchange-flows-netflow']['netflow_total']#.loc[:curdt]#dfcq['']#qbars(sym='BTCUSDT@binance',freq='5Min',ts='exchtm',table='pptliqs',date=[(curdt-pd.Timedelta(\"10M\")).date(),dt.today().date()],addwhere=', side=`sell , vol>0.01',verbose=0)\n",
    "        \n",
    "        \n",
    "        #dfpn=dfcq['btc-all_exchange-exchange-flows-inflow']['inflow_mean']#.loc[:curdt]#dfcq['']#qbars(sym='BTCUSDT@binance',freq='5Min',ts='exchtm',table='pptliqs',date=[(curdt-pd.Timedelta(\"10M\")).date(),dt.today().date()],addwhere=', side=`sell , vol>0.01',verbose=0)\n",
    "        dfpn=dfgsi#[::-1]\n",
    "        dfp=dfpn[dfpn.index<curdt].head(self.p.lags)['v']\n",
    "        #ipdb.set_trace()\n",
    "        \n",
    "        #display(dfp)\n",
    "        #display(dfn)\n",
    "\n",
    "#        df5m=df5m.resample(\"10Min\").last()#10Min?! 5Min?\n",
    "        if PRINTCANDLE:print(f\"\\n {dt.now()} next() self.dt={self.datetime.datetime(0)} data0close={self.data0.close[0]} data1close={self.data1.close[0] if hasattr(self,'data1') else 'not present'}  data1close={self.data2.close[0] if hasattr(self,'data2') else 'not present'}  \\n\")    \n",
    "        if PRINTCANDLE:print(f\"data0 get5={self.data0.close.get(size=5) if hasattr(self,'data0') else 'not present'}\")\n",
    "\n",
    "        if self.position.size==0: # not in the market\n",
    "#             if len(dfp) and dfp.iloc[0]>dfp.mean():#['netflow_total'] >df5m.iloc[-1]['netflow_total'].mean():#self.p.liqlimit :# and self.data1.reserve<10000000:\n",
    "#                 logging.critical(f\"dfp={dfp}\")\n",
    "#                 self.order = self.sell(data=self.data0,exectype=bt.Order.Market,size=self.p.betsize)\n",
    "#                 logging.critical(f\"{self.order}\")\n",
    "#                 self.order = None\n",
    "            #display(dfn)\n",
    "            #print(f\"dfn.iloc[0]<dfn.mean(){dfn.iloc[0]}<{dfn.mean()}\")\n",
    "            if PRINTCANDLE:print(f\"dfp.iloc[0] {dfp.iloc[0]}\")\n",
    "            #if len(dfn) and dfn.iloc[0]<dfn.mean()-self.p.nstd*dfn.std():#['netflow_total'] >df5m.iloc[-1]['netflow_total'].mean():#self.p.liqlimit :# and self.data1.reserve<10000000:\n",
    "            #ipdb.set_trace()\n",
    "            \n",
    "            ##iloc==4 cuz 40 minutes delay\n",
    "            \n",
    "            if len(dfp)>5 and dfp.iloc[self.p.delay]>self.p.inflowlimit and dfp.iloc[self.p.delay]<self.p.inflowlimit2 :#dfn.mean()-self.p.nstd*dfn.std():#['netflow_total'] >df5m.iloc[-1]['netflow_total'].mean():#self.p.liqlimit :# and self.data1.reserve<10000000:\n",
    "            # and  momentum is not strong   use rsi from bt?\n",
    "            #display(dfn)\n",
    "                #self.order = self.buy(data=self.data0,exectype=bt.Order.Market,size=self.p.betsize)\n",
    "                self.order = self.sell(data=self.data0,exectype=bt.Order.Market,size=self.p.betsize)\n",
    "                \n",
    "                logging.critical(f\"{self.order}\")\n",
    "                self.order = None\n",
    "\n",
    "        elif self.order is None: # Position in Market\n",
    "            #self.order = self.sell(data=self.data0,exectype=bt.Order.StopTrail,trailpercent=self.p.trailpercent/100,price=self.data0.open[0],size=self.p.betsize,params={'reduceOnly':True,'callbackRate':self.p.trailpercent}) #If no price is specified, the latest close price is used\n",
    "            self.order = self.buy(data=self.data0,exectype=bt.Order.StopTrail,trailpercent=self.p.trailpercent/100,price=self.data0.open[0],size=self.p.betsize,params={'reduceOnly':True,'callbackRate':self.p.trailpercent}) #If no price is specified, the latest close price is used\n",
    "            \n",
    "            logging.critical(f\"{self.order}\")\n",
    "            #close_position = binance.create_order(symbol=symbol, type=\"MARKET\", side=\"buy\", amount=pos['positionAmt'], params={\"reduceOnly\": True}) \n",
    "\n",
    "    def notify_data(self, data, status, *args, **kwargs):\n",
    "        if data._getstatusname(status) == 'LIVE':\n",
    "            self.live_data = True\n",
    "        else:\n",
    "            self.live_data = False\n",
    "\n",
    "\n",
    "    def log(self,txt,dummy=True):\n",
    "        logging.debug(txt)\n"
   ]
  },
  {
   "cell_type": "code",
   "execution_count": null,
   "metadata": {},
   "outputs": [],
   "source": [
    "        \n",
    "def btstrat(df0,lags=20,nstd=2,trailpercent=3,inflowlimit=5,inflowlimit2=12,delay=4,methodma='ma',methodstd='ma',verbose=0,plot=False):        \n",
    "\n",
    "    cerebro=initcerebro(multi=False,futures=True,fees=0.0006,margin=0.1)#,margin=0.1,mult=10.)fees=0.0006\n",
    "    #df0=dfcq['btc-binance-market-data-price-usd'].loc['2021'].rename(columns={'price_usd_open':'o','price_usd_high':'h','price_usd_low':'l','price_usd_close':'c'})[::-1]\n",
    "    data0=bt.feeds.PandasData(dataname=df0.rename(columns={'o':'open','h':'high','l':'low','c':'close','v':'volume'}),openinterest=None,timeframe=bt.TimeFrame.Minutes,compression=1)\n",
    "    cerebro.adddata(data0,name='BTCUSD@cq')\n",
    "#   data1=bt.feeds.PandasData(dataname=df1.rename(columns={'o':'open','h':'high','l':'low','c':'close','v':'volume'}),openinterest=None)#,timeframe=bt.TimeFrame.Hours)\n",
    "#   cerebro.adddata(data1,name='BTCUSDT_210326@binance')\n",
    "\n",
    "#    data0=KDBFeed(sym='ETHUSD_210326@binance',freq='1H',ts='exchtm',table=None, date=[date(2021,2,10),date(2021,3,25)],addwhere=', vol>0.01')\n",
    "#    cerebro.adddata(data0,name='BTCUSD_210326@binance')\n",
    "    \n",
    "#    data1=KDBFeed(sym='ETHUSDT_210326@binance',freq=\"1H\",table='ppttrades',addwhere=', vol>0.01',date=[date(2021,2,10),date(2021,3,25)])\n",
    "#    cerebro.adddata(data1,name='BTCUSDT_210326@binance')\n",
    "\n",
    "    cerebro.addstrategy(Strategy,lags=lags,nstd=nstd,trailpercent=trailpercent,inflowlimit=inflowlimit,inflowlimit2=inflowlimit2,delay=delay)#,nstdh=nstdh,nstdl=nstdl,methodma=methodma,methodstd=methodstd)\n",
    "    #cerebro.addsizer(Sizer10Percent)\n",
    "\n",
    "    backtest = cerebro.run(runonce=False,tradehistory=True)\n",
    "    btres = backtest[0]\n",
    "    \n",
    "    rets=pd.DataFrame.from_dict(dict(btres.analyzers.timereturn.get_analysis()),orient='index', columns=['ret'])\n",
    "    if plot:\n",
    "        \n",
    "        for k in ['total','pnl']:#backtest[0].analyzers.ta.get_analysis():\n",
    "            print (k,dict(backtest[0].analyzers.ta.get_analysis()[k]))\n",
    "        print(dict(backtest[0].analyzers.sharpe.get_analysis()))\n",
    "\n",
    "        printTradeAnalysis(cerebro, backtest[0].analyzers)\n",
    "        print(\"amount,price,sid,symbol,value\")\n",
    "        display(DF(btres.analyzers.tradelist.get_analysis()).set_index('datein'))\n",
    "        \n",
    "        rcsave=plt.rcParams['figure.figsize']\n",
    "        plt.rcParams['figure.figsize']=[30, 16]\n",
    "        cerebro.plot(style='line', rowsmajor=1, rowsminor=1,volume=True, iplot=False, barup='green', bardown='grey',fmt_x_ticks = '%Y-%b-%d %H:%M',fmt_x_data = '%Y-%b-%d %H:%M')\n",
    "        plt.rcParams['figure.figsize']=rcsave\n",
    "        \n",
    "        #getinds(cerebro)[0].iplot()\n",
    "    try:\n",
    "        nt=btres.analyzers.ta.get_analysis()['total']['closed']\n",
    "    except:\n",
    "        nt=0\n",
    "    try:\n",
    "        sr=btres.analyzers.sharpe.get_analysis()['sharperatio']\n",
    "    except:\n",
    "        sr=0\n",
    "    return {'cerebro':cerebro,'btres':btres,'rets':rets,'nt':nt,'SR':sr}#,'ind':bb}"
   ]
  },
  {
   "cell_type": "code",
   "execution_count": null,
   "metadata": {},
   "outputs": [],
   "source": [
    "df0=qbars('BTCUSDT@binance',freq=\"1Min\",table='ppttrades',date=[date(2021,1,1),date(2021,8,10)],addwhere=', vol>0.01')\n",
    "#df0['volume']=1"
   ]
  },
  {
   "cell_type": "code",
   "execution_count": null,
   "metadata": {},
   "outputs": [],
   "source": [
    "    cerebro=initcerebro(multi=False,futures=True,fees=0.0006,margin=0.1)#,margin=0.1,mult=10.)fees=0.0006\n",
    "    #df0=dfcq['btc-binance-market-data-price-usd'].loc['2021'].rename(columns={'price_usd_open':'o','price_usd_high':'h','price_usd_low':'l','price_usd_close':'c'})[::-1]\n",
    "    data0=bt.feeds.PandasData(dataname=df0.rename(columns={'o':'open','h':'high','l':'low','c':'close','v':'volume'}),openinterest=None,timeframe=bt.TimeFrame.Minutes,compression=1)\n",
    "    cerebro.adddata(data0,name='BTCUSD@cq')\n",
    "#   data1=bt.feeds.PandasData(dataname=df1.rename(columns={'o':'open','h':'high','l':'low','c':'close','v':'volume'}),openinterest=None)#,timeframe=bt.TimeFrame.Hours)\n",
    "#   cerebro.adddata(data1,name='BTCUSDT_210326@binance')\n",
    "\n",
    "#    data0=KDBFeed(sym='ETHUSD_210326@binance',freq='1H',ts='exchtm',table=None, date=[date(2021,2,10),date(2021,3,25)],addwhere=', vol>0.01')\n",
    "#    cerebro.adddata(data0,name='BTCUSD_210326@binance')\n",
    "    \n",
    "#    data1=KDBFeed(sym='ETHUSDT_210326@binance',freq=\"1H\",table='ppttrades',addwhere=', vol>0.01',date=[date(2021,2,10),date(2021,3,25)])\n",
    "#    cerebro.adddata(data1,name='BTCUSDT_210326@binance')\n",
    "\n",
    "    cerebro.addstrategy(Strategy,lags=lags,nstd=nstd,trailpercent=trailpercent,inflowlimit=inflowlimit,inflowlimit2=inflowlimit2,delay=delay)#,nstdh=nstdh,nstdl=nstdl,methodma=methodma,methodstd=methodstd)\n",
    "    #cerebro.addsizer(Sizer10Percent)\n",
    "\n",
    "    backtest = cerebro.run(runonce=False,tradehistory=True)\n",
    "    btres = backtest[0]"
   ]
  },
  {
   "cell_type": "code",
   "execution_count": null,
   "metadata": {
    "tags": []
   },
   "outputs": [],
   "source": [
    "btstrat(df0,lags=200,inflowlimit=5,inflowlimit2=12,trailpercent=3,delay=0,plot=True)"
   ]
  },
  {
   "cell_type": "code",
   "execution_count": null,
   "metadata": {},
   "outputs": [],
   "source": [
    "qbars('BTCUSDT@binance',freq=\"1Min\",table='ppttrades',date=[date(2021,1,1),date(2021,8,20)],addwhere=', vol>0.01').join(dfgsi,rsuffix='i').dropna().describe(percentiles=[0.9])"
   ]
  },
  {
   "cell_type": "code",
   "execution_count": null,
   "metadata": {
    "tags": []
   },
   "outputs": [],
   "source": [
    "curdt= datetime.datetime(2021, 5, 1, 23, 59)\n",
    "df1=dfcq['btc-all_exchange-exchange-flows-netflow']['netflow_total'].loc['2021']\n",
    "df1[df1.index<curdt].apply(lambda x:x if x>0 else 0)"
   ]
  },
  {
   "cell_type": "code",
   "execution_count": null,
   "metadata": {},
   "outputs": [],
   "source": [
    "(dff.index[-1]-dff.index[0])/pd.Timedelta('4.33w')"
   ]
  },
  {
   "cell_type": "code",
   "execution_count": null,
   "metadata": {
    "tags": []
   },
   "outputs": [],
   "source": [
    "#dff=pd.DataFrame(columns=pd.MultiIndex.from_tuples([(np.nan,np.nan)],names=['trailpercent','inflowlimit']),index=dfcq['btc-binance-market-data-price-usd'].loc['2021'].index)\n",
    "dff=pd.DataFrame(columns=pd.MultiIndex.from_tuples([(np.nan,np.nan)],names=['trailpercent','inflowlimit']),index=df0.index)\n",
    "\n",
    "dff.head(2)\n",
    "\n",
    "resSRtotal=[]\n",
    "resNTtotal=[]\n",
    "\n",
    "\n",
    "for trailpercent in np.linspace(1,10,20):\n",
    "    for inflowlimit in np.linspace(1,30,30):\n",
    "        stratres=btstrat(df0,lags=100,trailpercent=trailpercent,inflowlimit=inflowlimit,plot=False)\n",
    "        print({'trailpercent':trailpercent,'inflowlimit':inflowlimit,'SR':stratres['SR']})\n",
    "        dff[trailpercent,inflowlimit]=stratres['rets']#.copy()\n",
    "        resSRtotal.append({'trailpercent':trailpercent,'inflowlimit':inflowlimit,'SR':stratres['SR']})\n",
    "        resNTtotal.append({'trailpercent':trailpercent,'inflowlimit':inflowlimit,'NT':stratres['nt']/((dff.index[-1]-dff.index[0])/pd.Timedelta('4.33w'))\n",
    "})\n",
    "        \n",
    "\n",
    "dff.drop(np.nan, axis=1, level=1,inplace=True)\n",
    "dff.head()        \n",
    "#dff.plot()"
   ]
  },
  {
   "cell_type": "code",
   "execution_count": null,
   "metadata": {
    "tags": []
   },
   "outputs": [],
   "source": [
    "DF(resSRtotal)"
   ]
  },
  {
   "cell_type": "code",
   "execution_count": null,
   "metadata": {
    "tags": []
   },
   "outputs": [],
   "source": [
    "dff"
   ]
  },
  {
   "cell_type": "code",
   "execution_count": null,
   "metadata": {},
   "outputs": [],
   "source": [
    "plt.rcParams['figure.figsize'] = (20.0, 20.0)\n",
    "DF(resSRtotal).pivot('trailpercent','inflowlimit').heatmap()\n",
    "plt.show()\n",
    "DF(resNTtotal).pivot('trailpercent','inflowlimit').heatmap()#figsize=(20,20))#cmap='RdYlGn',fmt='.3g',annot=True)"
   ]
  },
  {
   "cell_type": "code",
   "execution_count": null,
   "metadata": {},
   "outputs": [],
   "source": [
    "dff.dropna().cumsum().iplot()\n",
    "#possible that all the N strategy configs have high but similar Sharpe ratios. Therefore, PBO may appear high, however, 'overfitting' here is among many 'skilful' strategies.\n",
    "#pypbo.pbo(dff.dropna(), S=8, metric_func=lambda x: perf.sharpe_iid(x), threshold=1, n_jobs=4,plot=True, verbose=False, hist=False)\n",
    "#pbo stability\n",
    "pbos=[]\n",
    "for S in [4,6,8,10,12,14]:\n",
    "    pbos.append({\"S\":S,'pbo':pypbo.pbo(dff.dropna(), S=S, metric_func=lambda x: perf.sharpe_iid(x), threshold=1, n_jobs=4,plot=False, verbose=False, hist=False).pbo})\n",
    "DF(pbos).set_index('S').plot()"
   ]
  },
  {
   "cell_type": "code",
   "execution_count": null,
   "metadata": {},
   "outputs": [],
   "source": [
    "SR,profit per week 2021, 2020"
   ]
  },
  {
   "cell_type": "code",
   "execution_count": null,
   "metadata": {},
   "outputs": [],
   "source": [
    "dff=pd.DataFrame(columns=pd.MultiIndex.from_tuples([(np.nan,np.nan)],names=['nstdl','nstdh']),index=df0['c'].index)\n",
    "dff.head(2)\n",
    "\n",
    "resSRtotal=[]\n",
    "resNTtotal=[]\n",
    "\n",
    "\n",
    "for nstdl in np.linspace(1,2.2,10):\n",
    "    for nstdh in np.linspace(1,2.2,10):\n",
    "        stratres=btstrat(df0,df1,lags=100,nstdl=nstdl,nstdh=nstdh,plot=False)\n",
    "        dff[nstdl,nstdh]=stratres['rets']#.copy()\n",
    "        resSRtotal.append({'nstdl':nstdl,'nstdh':nstdh,'SR':stratres['SR']})\n",
    "        resNTtotal.append({'nstdl':nstdl,'nstdh':nstdh,'NT':stratres['nt']/((dff.index[-1]-dff.index[0])/pd.Timedelta('4.33w'))\n",
    "})\n",
    "        \n",
    "\n",
    "dff.drop(np.nan, axis=1, level=1,inplace=True)\n",
    "dff.head()        \n",
    "#dff.plot()\n",
    "\n",
    "\n",
    "DF(resSRtotal).pivot('nstdl','nstdh').heatmap()\n",
    "plt.show()\n",
    "DF(resNTtotal).pivot('nstdl','nstdh').heatmap()#figsize=(20,20))#cmap='RdYlGn',fmt='.3g',annot=True)\n",
    "dff.dropna().cumsum().iplot()\n",
    "#possible that all the N strategy configs have high but similar Sharpe ratios. Therefore, PBO may appear high, however, 'overfitting' here is among many 'skilful' strategies.\n",
    "#pypbo.pbo(dff.dropna(), S=8, metric_func=lambda x: perf.sharpe_iid(x), threshold=1, n_jobs=4,plot=True, verbose=False, hist=False)\n",
    "#pbo stability\n",
    "pbos=[]\n",
    "for S in [4,6,8,10,12,14]:\n",
    "    pbos.append({\"S\":S,'pbo':pypbo.pbo(dff.dropna(), S=S, metric_func=lambda x: perf.sharpe_iid(x), threshold=1, n_jobs=4,plot=False, verbose=False, hist=False).pbo})\n",
    "DF(pbos).set_index('S').plot()"
   ]
  },
  {
   "cell_type": "code",
   "execution_count": null,
   "metadata": {},
   "outputs": [],
   "source": []
  },
  {
   "cell_type": "markdown",
   "metadata": {},
   "source": [
    "# rolling sharpe"
   ]
  },
  {
   "cell_type": "code",
   "execution_count": null,
   "metadata": {},
   "outputs": [],
   "source": [
    "ax=DF({'median':dff.dropna().resample('1D').sum().median(axis=1).asfreq('1D').vbt.returns().rolling_sharpe_ratio(30)}).plot(alpha=0.7)\n",
    "ax=DF({'mean':dff.dropna().resample('1D').sum().mean(axis=1).asfreq('1D').vbt.returns().rolling_sharpe_ratio(30)}).plot(ax=ax,alpha=0.7)\n",
    "#DF(dff.resample('1D').sum().asfreq('1D').vbt.returns().rolling_sharpe_ratio(30)).plot(alpha=0.7,ax=ax)"
   ]
  },
  {
   "cell_type": "markdown",
   "metadata": {},
   "source": [
    "# vectorbt"
   ]
  },
  {
   "cell_type": "code",
   "execution_count": null,
   "metadata": {},
   "outputs": [],
   "source": [
    "def vbtstrat(df0,df1,lag=20,nstdl=2,nstdh=2,methodma='ma',methodstd='ma',verbose=0,plot=False):\n",
    "    spread_bps = (df0.c-df1.c)/df1.c\n",
    "    bb=DF({'spread':spread_bps}).addbb(lags=lag,methodma=methodma,methodstd=methodstd,nstdh=nstdh,nstdl=nstdl,dropna=False)\n",
    "    bb.iplot()\n",
    "    entries_dirty = bb['spread'] < bb['bbl.spread']\n",
    "    exits_dirty = bb['spread'] > bb['bbh.spread']\n",
    "    #entries[entries==True]\n",
    "    entries,exits = pd.Series.vbt.signals.clean(entries_dirty,exits_dirty, entry_first=True, broadcast_kwargs=dict(columns_from='keep'))\n",
    "    \n",
    "    \n",
    "    if plot:\n",
    "        fig = vbt.make_subplots(specs=[[{\"secondary_y\": True}]])\n",
    "        \n",
    "        \n",
    "#         fig = vbt.make_subplots(\n",
    "#         rows=5, cols=1, shared_xaxes=True, \n",
    "#         row_heights=[*[0.5 / 3] * len(symbols), 0.25, 0.25], vertical_spacing=0.05,\n",
    "#         subplot_titles=(*symbols, '%B', 'Bandwidth'))\n",
    "        \n",
    "        \n",
    "        fig = spread_bps.vbt.plot(trace_kwargs=dict(name='df0.c'), fig=fig)\n",
    "        #fig = df1['c'].vbt.plot(trace_kwargs=dict(name='df1.c'), fig=fig)\n",
    "        fig = entries.vbt.signals.plot_as_entry_markers(spread_bps, fig=fig)\n",
    "        fig = exits.vbt.signals.plot_as_exit_markers(spread_bps, fig=fig)\n",
    "        fig.update_layout(template='vbt_dark', showlegend=False, width=1600, height=300)\n",
    "        fig.show()\n",
    "    \n",
    "    # #ts exits\n",
    "    # # Execute at the next bar\n",
    "    # vbt_entries= pd.Series.vbt.signals.empty_like(dfbtc1['c'])\n",
    "    # vbt_entries.loc[dfliq1[dfliq1['v'].shift(1)>liqlimit].index]=True\n",
    "    # ts_exits = vbt.OHLCSTEX.run(vbt_entries,df0['o'],df0['h'],dfbtc1['l'],dfbtc1['c'],ts_stop=list(stops),wait=1,stop_type=None, hit_price=None).exits\n",
    "    # vbt_entries, vbt_exits = pd.DataFrame.vbt.signals.clean(vbt_entries, ts_exits)\n",
    "    # portf = vbt.Portfolio.from_signals(dfbtc1['o'], vbt_entries, ts_exits, price=dfbtc1['o'])#.vbt.fshift(1))\n",
    "    #percentage order size\n",
    "    symbol_cols = pd.Index([0, 1], name='symbol')\n",
    "    ordersize = pd.DataFrame(index=entries.index, columns=symbol_cols)\n",
    "    ordersize[0] = np.nan\n",
    "    ordersize[1] = np.nan\n",
    "    ordersize.loc[exits, 0] = -1\n",
    "    ordersize.loc[entries, 0] = 1\n",
    "    ordersize.loc[exits, 1] = 1\n",
    "    ordersize.loc[entries, 1] = -1\n",
    "\n",
    "    #shoft ordersize\n",
    "    ordersize = ordersize.vbt.fshift(1)\n",
    "\n",
    "    portf=vbt.Portfolio.from_orders(\n",
    "            close=pd.concat((df0['c'], df1['c']), axis=1, keys=symbol_cols),  # current close as reference price\n",
    "            size=ordersize,  \n",
    "            price=pd.concat((df0['o'], df1['o']), axis=1, keys=symbol_cols),  # current open as execution price\n",
    "            size_type='targetpercent', \n",
    "            val_price=pd.concat((df0['c'], df1['c']), axis=1, keys=symbol_cols),#.vbt.fshift(1),  # previous close as group valuation price\n",
    "            init_cash=10000,\n",
    "            fees=0.0006,\n",
    "            cash_sharing=True,  # share capital between assets in the same group\n",
    "            group_by=True,  # all columns belong to the same group\n",
    "            call_seq='auto',  # sell before buying\n",
    "            freq='d'  # index frequency for annualization\n",
    "        )\n",
    "\n",
    "    if verbose:\n",
    "        entries.astype('float').plot()\n",
    "        exits.astype('float').plot()\n",
    "        ordersize.dropna().plot(marker='x')\n",
    "        portf.orders.records_readable\n",
    "        portf.trades.records_readable\n",
    "        portf.stats()\n",
    "        \n",
    "        \n",
    "    #for nstdl in np.linspace(1,2.2,20):\n",
    "    for nstdh in np.linspace(1,2.2,20):\n",
    "        vbstratres=vbtstrat(df0,df1,lag=100,nstdl=nstdl,nstdh=nstdh)\n",
    "        dff[nstdl,nstdh]=vbstratres['portf'].returns()\n",
    "        resSRtotal.append({'nstdl':nstdl,'nstdh':nstdh,'SR':vbstratres['portf'].sharpe_ratio()})\n",
    "        resNTtotal.append({'nstdl':nstdl,'nstdh':nstdh,'NT':(vbstratres['entries'].astype(float).sum()+vbstratres['exits'].astype(float).sum())/((dff.index[-1]-dff.index[0])/pd.Timedelta('4.33w'))\n",
    "    })    \n",
    "        \n",
    "        \n",
    "        \n",
    "    return {'portf':portf,'entries':entries,'exits':exits,'entries_dirty':entries_dirty,'exits_dirty':exits_dirty,'SR':portf.sharpe_ratio(),'ind':bb}\n",
    "#vbtstrat(df0,df1,spreadL=-600,spreadH=-100,verbose=0)"
   ]
  },
  {
   "cell_type": "code",
   "execution_count": null,
   "metadata": {},
   "outputs": [],
   "source": [
    "dff=pd.DataFrame(columns=pd.MultiIndex.from_tuples([(np.nan,np.nan)],names=['nstdl','nstdh']),index=df0['c'].index)\n",
    "dff.head(2)\n",
    "\n",
    "resSRtotal=[]\n",
    "resNTtotal=[]\n",
    "\n",
    "for nstdl in np.linspace(1,2.2,20):\n",
    "    for nstdh in np.linspace(1,2.2,20):\n",
    "        vbstratres=vbtstrat(df0,df1,lag=100,nstdl=nstdl,nstdh=nstdh)\n",
    "        dff[nstdl,nstdh]=vbstratres['portf'].returns()\n",
    "        resSRtotal.append({'nstdl':nstdl,'nstdh':nstdh,'SR':vbstratres['portf'].sharpe_ratio()})\n",
    "        resNTtotal.append({'nstdl':nstdl,'nstdh':nstdh,'NT':(vbstratres['entries'].astype(float).sum()+vbstratres['exits'].astype(float).sum())/((dff.index[-1]-dff.index[0])/pd.Timedelta('4.33w'))\n",
    "})\n",
    "        \n",
    "\n",
    "dff.drop(np.nan, axis=1, level=1,inplace=True)\n",
    "dff.head()        \n",
    "#dff.plot()\n",
    "DF(resSRtotal).pivot('nstdl','nstdh').vbt.heatmap()\n",
    "\n",
    "DF(resNTtotal).pivot('nstdl','nstdh').vbt.heatmap()# if very few trades, do not consider these params, exclude them form PBO calculation\n",
    "\n",
    "\n",
    "DF(resSRtotal).pivot('nstdl','nstdh')\n",
    "\n",
    "#Entirely possible that all the N strategy configs have high but similar Sharpe ratios. Therefore, PBO may appear high, however, 'overfitting' here is among many 'skilful' strategies.\n",
    "\n",
    "pypbo.pbo(dff, S=8, metric_func=lambda x: perf.sharpe_iid(x), threshold=1, n_jobs=4,plot=True, verbose=False, hist=False)"
   ]
  },
  {
   "cell_type": "markdown",
   "metadata": {},
   "source": [
    "# best strategy viz"
   ]
  },
  {
   "cell_type": "code",
   "execution_count": null,
   "metadata": {},
   "outputs": [],
   "source": [
    "#res=vbtstrat(df0,df1,nstdl=1.4,nstdh=1.8,lag=100,plot=True)\n",
    "res=vbtstrat(df0,df1,nstdl=1.8,nstdh=1.3,lag=20,plot=True,methodma='ma',methodstd='ma',verbose=1)\n",
    "print('SR',res['SR'])\n",
    "res['portf'].stats()\n",
    "\n",
    "ax=DF({'median':dff.resample('1D').sum().median(axis=1).asfreq('1D').vbt.returns().rolling_sharpe_ratio(30)}).plot(alpha=0.7)\n",
    "ax=DF({'mean':dff.resample('1D').sum().mean(axis=1).asfreq('1D').vbt.returns().rolling_sharpe_ratio(30)}).plot(ax=ax,alpha=0.7)\n",
    "DF(res['portf'].returns().resample('1D').sum().asfreq('1D').vbt.returns().rolling_sharpe_ratio(30)).plot(alpha=0.7,ax=ax)\n",
    "res['ind'].plot()\n",
    "\n"
   ]
  },
  {
   "cell_type": "markdown",
   "metadata": {},
   "source": [
    "# bt vs vectorbt"
   ]
  },
  {
   "cell_type": "markdown",
   "metadata": {},
   "source": [
    "## equity curve"
   ]
  },
  {
   "cell_type": "code",
   "execution_count": null,
   "metadata": {},
   "outputs": [],
   "source": [
    "res['portf'].value().vbt.plot(width=1200)\n",
    "cerebro.plot(iplot=False)"
   ]
  },
  {
   "cell_type": "markdown",
   "metadata": {},
   "source": [
    "## returns"
   ]
  },
  {
   "cell_type": "code",
   "execution_count": null,
   "metadata": {},
   "outputs": [],
   "source": [
    "#daily returns\n",
    "\n",
    "rets=DF(res['portf'].returns().resample('1D').sum().asfreq('1D'),columns=['vbt']).join(pd.DataFrame.from_dict(dict(btres.analyzers.timereturn.get_analysis()),orient='index', columns=['bt']))\n",
    "rets.expanding().sum().iplot()"
   ]
  },
  {
   "cell_type": "markdown",
   "metadata": {},
   "source": [
    "## indicators"
   ]
  },
  {
   "cell_type": "code",
   "execution_count": null,
   "metadata": {},
   "outputs": [],
   "source": [
    "res['ind'].join(getinds(cerebro)[0]).iplot()"
   ]
  },
  {
   "cell_type": "markdown",
   "metadata": {},
   "source": [
    "## signals"
   ]
  },
  {
   "cell_type": "code",
   "execution_count": null,
   "metadata": {},
   "outputs": [],
   "source": [
    "#check indocator bt vs vbt\n",
    "\n",
    "(DF({'entry_dirty':res['entries_dirty'],'entry_clean':res['entries']}).astype(float)/100).join(getinds(cerebro)[0],rsuffix='bt').iplot()"
   ]
  },
  {
   "cell_type": "markdown",
   "metadata": {},
   "source": [
    "## orders"
   ]
  },
  {
   "cell_type": "code",
   "execution_count": null,
   "metadata": {},
   "outputs": [],
   "source": [
    "# vectorbt\n",
    "res['portf'].orders.records_readable\n"
   ]
  },
  {
   "cell_type": "code",
   "execution_count": null,
   "metadata": {},
   "outputs": [],
   "source": [
    "# bt\n"
   ]
  },
  {
   "cell_type": "markdown",
   "metadata": {},
   "source": [
    "## trades"
   ]
  },
  {
   "cell_type": "code",
   "execution_count": null,
   "metadata": {},
   "outputs": [],
   "source": [
    "#bt \n",
    "#DF(btres.analyzers.tradelist.get_analysis()).set_index('datein')\n",
    "#vectorbt\n",
    "res['portf'].trades.records_readable.set_index('Entry Date').query('Column==0').add_suffix('vbt').head(1)\n",
    "res['portf'].trades.records_readable.set_index('Entry Date').query('Column==1').add_suffix('vbt').head(1)\n",
    "DF(btres.analyzers.tradelist.get_analysis()).set_index('datein').head(2)"
   ]
  },
  {
   "cell_type": "code",
   "execution_count": null,
   "metadata": {},
   "outputs": [],
   "source": [
    "# vectorbt replication using backtrader entries exits\n",
    "\n",
    "\n",
    "\n",
    "bt_entries_mask = btt[btt.amount > 0]\n",
    "bt_entries_mask.index = bt_entries_mask.index\n",
    "bt_exits_mask = btt[btt.amount < 0]\n",
    "bt_exits_mask.index = bt_exits_mask.index\n",
    "bt_entries = pd.Series.vbt.signals.empty_like(df0['c'])\n",
    "bt_entries.loc[bt_entries_mask.index] = True\n",
    "bt_exits = pd.Series.vbt.signals.empty_like(df0['c'])\n",
    "bt_exits.loc[bt_exits_mask.index] = True\n",
    "btp = vbt.Portfolio.from_signals(df0['o'], bt_entries, bt_exits, price=df0['o'])#.vbt.fshift(1))\n",
    "# display trades and cashflow\n",
    "btp.get_trades().records_readable\n",
    "btp.get_orders().records_readable\n",
    "btp.share_flow().replace(0,np.nan).dropna()\n",
    "btp.cash_flow().replace(0,np.nan).dropna()\n",
    "btp.stats()\n",
    "#viz\n",
    "fig = vbt.make_subplots(specs=[[{\"secondary_y\": True}]])\n",
    "fig = dfbtc1['c'].vbt.plot(trace_kwargs=dict(name='Price'), fig=fig)\n",
    "fig = bt_entries.vbt.signals.plot_as_entry_markers(dfbtc1['c'], fig=fig)\n",
    "fig = bt_exits.vbt.signals.plot_as_exit_markers(dfbtc1['c'], fig=fig)\n",
    "fig.show_svg()\n",
    "\n",
    "# vectorbt replication bt strategy  entries, exits calculated by vectorbt\n",
    "\n",
    "\n",
    "step = 0.01  # 1%\n",
    "stops =npa([bt_trailpercent])\n",
    "vbt_entries= pd.Series.vbt.signals.empty_like(dfbtc1['c'])\n",
    "vbt_entries.loc[dfliq1[dfliq1['v'].shift(1)>liqlimit].index]=True\n",
    "ts_exits = vbt.OHLCSTEX.run(vbt_entries,dfbtc1['o'], dfbtc1['h'],dfbtc1['l'],dfbtc1['c'],ts_stop=list(stops),wait=1,stop_type=None, hit_price=None).exits\n",
    "vbt_entries, vbt_exits = pd.DataFrame.vbt.signals.clean(vbt_entries, ts_exits)\n",
    "portf = vbt.Portfolio.from_signals(dfbtc1['o'], vbt_entries, ts_exits, price=dfbtc1['o'])#.vbt.fshift(1))\n",
    "portf.stats()\n",
    "\n",
    "# visualizaitons\n",
    "vbt_entries.astype(int).plot()\n",
    "bt_entries.astype(int).plot()\n",
    "fig = vbt.make_subplots(specs=[[{\"secondary_y\": True}]])\n",
    "fig = dfbtc1['o'].vbt.plot(trace_kwargs=dict(name='Price'), fig=fig)\n",
    "fig = vbt_entries.vbt.signals.plot_as_entry_markers(dfbtc1['o'], fig=fig)\n",
    "fig = vbt_exits.vbt.signals.plot_as_exit_markers(dfbtc1['o'], fig=fig)\n",
    "fig.show_svg()\n",
    "\n",
    "portf.get_trades().records_readable\n",
    "portf.get_orders().records_readable\n",
    "portf.share_flow().replace(0,np.nan).dropna()\n",
    "portf.cash_flow().replace(0,np.nan).dropna()\n",
    "\n",
    "# vectorization 1d ts stops"
   ]
  },
  {
   "cell_type": "code",
   "execution_count": null,
   "metadata": {},
   "outputs": [],
   "source": [
    "dff.columns = [f\"{x}_{y}\" for x, y in dff.columns.to_flat_index()]\n",
    "dff"
   ]
  },
  {
   "cell_type": "code",
   "execution_count": null,
   "metadata": {},
   "outputs": [],
   "source": [
    "dff[dff.columns[50:55]].plot()"
   ]
  },
  {
   "cell_type": "code",
   "execution_count": null,
   "metadata": {},
   "outputs": [],
   "source": [
    "\n",
    "portf.final_value().plot()\n",
    "plt.show()\n",
    "portf.sharpe_ratio().plot(title='sharpe')"
   ]
  },
  {
   "cell_type": "markdown",
   "metadata": {},
   "source": [
    "# vectorization 2d limit"
   ]
  },
  {
   "cell_type": "code",
   "execution_count": null,
   "metadata": {},
   "outputs": [],
   "source": [
    "step = 0.005  \n",
    "stops =list(np.arange(step, 0.20, step))\n",
    "liqstep=200.\n",
    "liqlimits=np.arange(liqstep, 2000, liqstep)\n",
    "\n",
    "\n",
    "vbt_entries= pd.Series.vbt.signals.empty_like(DF(index=dfbtc1['c'].index,columns=np.arange(len(liqlimits))))\n",
    "\n",
    "#strategy\n",
    "dfentr=DF(dfliq1[['v']].shift(1).values>liqlimits,index=dfliq1['v'].index)\n",
    "vbt_entries.update(dfentr)\n",
    "vbt_entries.fillna(False,inplace=True)\n",
    "\n",
    "\n",
    "\n",
    "ts_exits = vbt.OHLCSTEX.run(vbt_entries,dfbtc1['o'],dfbtc1['h'],dfbtc1['l'],dfbtc1['c'],ts_stop=list(stops), wait=1,stop_type=None, hit_price=None).exits\n",
    "vbt_entries, vbt_exits = pd.DataFrame.vbt.signals.clean(vbt_entries, ts_exits)\n",
    "portf = vbt.Portfolio.from_signals(dfbtc1['o'], vbt_entries, ts_exits, price=dfbtc1['o'])#.vbt.fshift(1))\n",
    "#end strategy"
   ]
  },
  {
   "cell_type": "code",
   "execution_count": null,
   "metadata": {},
   "outputs": [],
   "source": [
    "#viz\n",
    "#median, mean   strat  rolling sharpe\n",
    "ax=DF(portf.returns().resample('1D').sum().median(axis=1).asfreq('1D').vbt.returns().rolling_sharpe_ratio(30)).plot(alpha=0.7)\n",
    "DF(portf.returns().resample('1D').sum().mean(axis=1).asfreq('1D').vbt.returns().rolling_sharpe_ratio(30)).plot(ax=ax,alpha=0.7)\n",
    "\n",
    "#total heatmaps\n",
    "portf.final_value().subtract(10000).unstack().plot()\n",
    "portf.final_value().subtract(10000).unstack().vbt.heatmap()#xaxis={\"title\": 'Traits',\"tickangle\": 45}\n",
    "portf.sharpe_ratio().unstack().rename(columns=dict(zip(np.arange(len(liqlimits)),list(liqlimits)))).vbt.heatmap(width=800,height=800,yaxis_nticks=40)\n",
    "portf.final_value().subtract(10000).unstack().rename(columns=dict(zip(np.arange(len(liqlimits)),list(liqlimits)))).vbt.heatmap(width=800,height=800,yaxis_nticks=40)"
   ]
  },
  {
   "cell_type": "code",
   "execution_count": null,
   "metadata": {},
   "outputs": [],
   "source": [
    "#best params\n",
    "#ighest sharpe of rolling sharpe ratios  \n",
    "portf.returns().resample('1D').sum().vbt.returns().rolling_sharpe_ratio(30).vbt.returns.sharpe_ratio().argmax()\n",
    "#portf.returns().T.index[portf.returns().resample('1D').sum().vbt.returns.sharpe_ratio().argmax()]\n",
    "#highest minimal rolling sharpe\n",
    "portf.returns().resample('1D').sum().vbt.returns().rolling_sharpe_ratio(30).min().argmax()"
   ]
  },
  {
   "cell_type": "code",
   "execution_count": null,
   "metadata": {},
   "outputs": [],
   "source": [
    "#portf.returns().resample('1D').sum().median(axis=1)\n",
    "portf.returns()[0.1][1].resample('1D').sum().vbt.returns().sharpe_ratio()\n",
    "portf.returns().resample('1D').sum().median(axis=1).asfreq('1D').vbt.returns().sharpe_ratio()\n",
    "portf.returns()[0.005][0].resample('1D').sum().vbt.returns().sharpe_ratio()"
   ]
  },
  {
   "cell_type": "code",
   "execution_count": null,
   "metadata": {},
   "outputs": [],
   "source": [
    "#DF(portf.returns()[0.1][1].resample('1D').sum().vbt.returns().rolling_sharpe_ratio(30)).join(dfbtc['c']).plot2(1,'c')\n",
    "DF(portf.returns()[0.1][1].resample('1D').sum().vbt.returns().daily()).join(dfbtc['c']).plot2(1,'c')\n",
    "DF(portf.returns()[0.1][1].resample('1D').sum().vbt.returns().cumulative()).join(dfbtc['c']).plot2(1,'c')"
   ]
  },
  {
   "cell_type": "code",
   "execution_count": null,
   "metadata": {},
   "outputs": [],
   "source": [
    "ax=DF(portf.returns()[0.1][1].resample('1D').sum().vbt.returns().rolling_sharpe_ratio(30)).plot()\n",
    "ax=DF(portf.returns()[0.005][0].resample('1D').sum().vbt.returns().rolling_sharpe_ratio(30)).plot(ax=ax,alpha=0.7)\n",
    "ax=DF(portf.returns()[0.085][2].resample('1D').sum().vbt.returns().rolling_sharpe_ratio(30)).plot(ax=ax,alpha=0.7)\n",
    "ax=DF(portf.returns()[0.13][2].resample('1D').sum().vbt.returns().rolling_sharpe_ratio(30)).plot(ax=ax,alpha=0.7)\n",
    "ax=DF(portf.returns()[0.065][0].resample('1D').sum().vbt.returns().rolling_sharpe_ratio(30)).plot(ax=ax,alpha=0.7)\n",
    "\n",
    "#ax=DF(portf.returns().resample('1D').sum().median(axis=1).asfreq('1D').vbt.returns().rolling_sharpe_ratio(30)).plot(ax=ax,alpha=0.7)\n",
    "\n"
   ]
  },
  {
   "cell_type": "code",
   "execution_count": null,
   "metadata": {},
   "outputs": [],
   "source": [
    "df1.c.loc['2021-03-02'].resample('1H').last().ffill()"
   ]
  },
  {
   "cell_type": "markdown",
   "metadata": {},
   "source": [
    "## attemps at geenralization for n params,   not efficient  entries contstruction. \n",
    "\n",
    "import itertools\n",
    "\n",
    "def f(s):\n",
    "    print()\n",
    "    print(s.head())\n",
    "    raise 1\n",
    "    \n",
    "entries.apply(f,entries)\n",
    "\n",
    "liqstep=200\n",
    "liqlimits=np.arange(liqstep, 2000, liqstep)\n",
    "\n",
    "step = 0.005  \n",
    "ts_stops =list(np.arange(step, 0.20, step))\n",
    "\n",
    "params={\n",
    "    'liqlimit':liqlimits\n",
    "    #'ts_stop':ts_stops\n",
    "}\n",
    "\n",
    "#list(itertools.product(*params.values()))\n",
    "entries=pd.DataFrame(False,columns=pd.MultiIndex.from_tuples(  list(itertools.product(*params.values())) ,names=list(params.keys()) ),index=dfbtc1['c'].index)\n",
    "#entries=pd.DataFrame(columns=pd.MultiIndex.from_tuples([len(params)*(np.nan,)],names=list(params.keys()),index=dfbtc1['c'].index)\n",
    "#entries=pd.DataFrame(columns=pd.MultiIndex.from_tuples([len(params)*(np.nan,)],names=['p'+str(i) for i in range(nparams)]),index=dfbtc1['c'].index)\n",
    "entries.head()\n",
    "# entry strategy\n",
    "dfentr=DF((dfliq1[['v']].shift(1).values>params['liqlimit']),index=dfliq1['v'].index)\n",
    "dfentr.astype(float).sum().sum()\n",
    "entries.update(dfentr,errors='raise')                                                                                                     \n",
    "\n",
    "entries.sum().sum()\n",
    "entries.astype(float).plot()\n",
    "# exit strategy\n",
    "exits=vbt.OHLCSTEX.run(entries,dfbtc1['o'],dfbtc1['h'],dfbtc1['l'],dfbtc1['c'],ts_stop=ts_stops, wait=1,stop_type=None, hit_price=None).exits\n",
    "exits.head()\n",
    "entries,exits=pd.DataFrame.vbt.signals.clean(entries, exits)\n",
    "entries.head()\n",
    "# entry is on 'open'\n",
    "portr=vbt.Portfolio.from_signals(dfbtc1['o'], entries, exits, price=dfbtc1['o']).returns()#.head()#.resample('1D').sum().vbt.returns().rolling_sharpe_ratio(30).head()\n",
    "\n",
    "portr.head()\n",
    "\n",
    "# for i in range(len(params)):\n",
    "#     portr.columns=portr.columns.droplevel()\n",
    "\n",
    "#portr.head()\n",
    "# param fix plots    \n",
    "    \n",
    "fixparams={'liqlimit':200,'ohlcstex_ts_stop':0.005}\n",
    "\n",
    "#dff=portr.loc[:,(portr.columns.get_level_values('param1')==5)&(portr.columns.get_level_values('param0')==1)]#.head().columns.droplevel('param0')\n",
    "#dff.columns=dff.columns.droplevel(['param0','param1'],axis='columns')\n",
    "#portr.loc[:,(portr.columns.get_level_values('param1')==5)&(portr.columns.get_level_values('param0')==1)].droplevel(['param0','param1'],axis='columns')#.vbt.returns.daily().vbt.returns.sharpe_ratio().unstack().vbt.heatmap()\n",
    "\n",
    "#def rolling_daily_sharpe_ratio_plot(df,fixedparams,window=30):\n",
    "def dffixparams(df,fixparams):\n",
    "    cond=True\n",
    "    for k,v in fixparams.items():\n",
    "        print(f\"{k,v}\")\n",
    "        cond=(df.columns.get_level_values(k)==v)&cond\n",
    "    print(f\"cond={cond}\")\n",
    "    return df.loc[:,cond]#.droplevel(list(fixparams.keys()),axis='columns')\n",
    "\n",
    "dffixparams(portr,fixparams).vbt.returns.daily().vbt.returns.rolling_sharpe_ratio(100).plot()#.unstack().vbt.heatmap()\n",
    "    \n",
    "\n",
    "\n",
    "raise 1\n",
    "\n",
    "#strategy\n",
    "dfentr=DF((dfliq1[['v']].shift(1).values>liqlimits1)&(dfliq1[['v']].shift(1).values<liqlimits2),index=dfliq1['v'].index)\n",
    "vbt_entries.update(dfentr)                                                                                                     \n",
    "vbt_entries.fillna(False,inplace=True)\n",
    "\n",
    "\n",
    "ts_exits = vbt.OHLCSTEX.run(vbt_entries,dfbtc1['o'],dfbtc1['h'],dfbtc1['l'],dfbtc1['c'],ts_stop=list(tsstops), wait=1,stop_type=None, hit_price=None).exits\n",
    "vbt_entries, vbt_exits = pd.DataFrame.vbt.signals.clean(vbt_entries, ts_exits)\n",
    "portf = vbt.Portfolio.from_signals(dfbtc1['o'], vbt_entries, ts_exits, price=dfbtc1['o'])#.vbt.fshift(1))\n",
    "#end strategy\n",
    "\n",
    "\n",
    "#viz\n",
    "#median, mean   strat  rolling sharpe\n",
    "ax=DF(portf.returns().resample('1D').sum().median(axis=1).asfreq('1D').vbt.returns().rolling_sharpe_ratio(30)).plot(alpha=0.7)\n",
    "DF(portf.returns().resample('1D').sum().mean(axis=1).asfreq('1D').vbt.returns().rolling_sharpe_ratio(30)).plot(ax=ax,alpha=0.7)\n",
    "\n",
    "#heatmaps\n",
    "portf.final_value().subtract(icap).unstack().plot()\n",
    "portf.final_value().subtract(icap).unstack().vbt.heatmap()#xaxis={\"title\": 'Traits',\"tickangle\": 45}\n",
    "portf.sharpe_ratio().unstack().rename(columns=dict(zip(np.arange(len(liqlimits)),list(liqlimits)))).vbt.heatmap(width=800,height=800,yaxis_nticks=40)\n",
    "portf.final_value().subtract(icap).unstack().rename(columns=dict(zip(np.arange(len(liqlimits)),list(liqlimits)))).vbt.heatmap(width=800,height=800,yaxis_nticks=40)"
   ]
  },
  {
   "cell_type": "code",
   "execution_count": null,
   "metadata": {},
   "outputs": [],
   "source": [
    "1"
   ]
  },
  {
   "cell_type": "code",
   "execution_count": null,
   "metadata": {},
   "outputs": [],
   "source": []
  }
 ],
 "metadata": {
  "kernelspec": {
   "display_name": "Python 3 (ipykernel)",
   "language": "python",
   "name": "python3"
  },
  "language_info": {
   "codemirror_mode": {
    "name": "ipython",
    "version": 3
   },
   "file_extension": ".py",
   "mimetype": "text/x-python",
   "name": "python",
   "nbconvert_exporter": "python",
   "pygments_lexer": "ipython3",
   "version": "3.8.8"
  }
 },
 "nbformat": 4,
 "nbformat_minor": 4
}
