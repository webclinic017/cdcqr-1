{
 "cells": [
  {
   "cell_type": "markdown",
   "metadata": {},
   "source": [
    "perps price ~ liquidations\n",
    "spot price ~ liquidations\n",
    "perps price ~ liquidations , reserves\n",
    "spot price ~liquidations, reserves\n",
    "repeat same with liquidations -> only binance liquidations, binance price\n",
    "binance liquidations, binance price, + reserves\n",
    "reserves -> exponential smoothing,  trend =d reserves.ewm / dt\n",
    "liquidations ERC20 better?\n",
    "vectorbt implementation to find optimal trialing stop\n",
    "constant time position, small stop loss"
   ]
  },
  {
   "cell_type": "code",
   "execution_count": null,
   "metadata": {},
   "outputs": [],
   "source": [
    "%run base.ipynb\n",
    "from ct.fs import *\n",
    "%matplotlib inline\n",
    "from ct.alfafactory import *"
   ]
  },
  {
   "cell_type": "markdown",
   "metadata": {},
   "source": [
    "# market data"
   ]
  },
  {
   "cell_type": "code",
   "execution_count": null,
   "metadata": {},
   "outputs": [],
   "source": [
    "qbars('ETHUSDT_210326@binance',freq=\"1H\",table='ppttrades',date=date(2021,2,9),addwhere=', vol>0.01').resample('1H').last().ffill()"
   ]
  },
  {
   "cell_type": "code",
   "execution_count": null,
   "metadata": {},
   "outputs": [],
   "source": [
    "df0=qbars('ETHUSD_210326@binance',freq=\"1H\",table='futtrades',date=[date(2021,2,9),date(2021,5,21)],addwhere=', vol>0.01').resample('1H').last().ffill()"
   ]
  },
  {
   "cell_type": "markdown",
   "metadata": {},
   "source": [
    "# alternative data"
   ]
  },
  {
   "cell_type": "code",
   "execution_count": null,
   "metadata": {},
   "outputs": [],
   "source": [
    "df1=qbars('ETHUSDT_210326@binance',freq=\"1H\",table='ppttrades',date=[date(2021,2,9),date(2021,5,21)],addwhere=', vol>0.01').resample('1H').last().ffill()"
   ]
  },
  {
   "cell_type": "code",
   "execution_count": null,
   "metadata": {},
   "outputs": [],
   "source": [
    "df0=df0.loc['2021-02-09':]\n",
    "df1=df1.loc['2021-02-09':]"
   ]
  },
  {
   "cell_type": "markdown",
   "metadata": {},
   "source": [
    "# indicator viz"
   ]
  },
  {
   "cell_type": "code",
   "execution_count": null,
   "metadata": {},
   "outputs": [],
   "source": [
    "plt.rcParams['figure.figsize'] = (10.0, 8.0)\n",
    "#df0[['c']].subtract(df1[['c']]).iplot()\n",
    "DF((df0.c-df1.c)/df1.c*10000).addbb(lags=50,methodma='ewm',methodstd='ewm',nstdh=2,nstdl=2).plot()\n",
    "#DF(df0['c']-df1['c']).gr()"
   ]
  },
  {
   "cell_type": "code",
   "execution_count": null,
   "metadata": {},
   "outputs": [],
   "source": [
    "datetime.time(23,59,59)"
   ]
  },
  {
   "cell_type": "code",
   "execution_count": null,
   "metadata": {},
   "outputs": [],
   "source": [
    "len(pd.date_range(start='2020-01-01', end='2020-01-02',freq='1H'))"
   ]
  },
  {
   "cell_type": "code",
   "execution_count": null,
   "metadata": {},
   "outputs": [],
   "source": [
    "df0.index[-1].time()<datetime.time(23,59,59)"
   ]
  },
  {
   "cell_type": "code",
   "execution_count": null,
   "metadata": {},
   "outputs": [],
   "source": [
    "#sym,freq=None,ts='exchtm',table=None,date=None,\n",
    "\n"
   ]
  },
  {
   "cell_type": "markdown",
   "metadata": {},
   "source": [
    "# backtrader strategy backtest"
   ]
  },
  {
   "cell_type": "code",
   "execution_count": null,
   "metadata": {},
   "outputs": [],
   "source": [
    "def initcerebro(icap=10000, fees=0.0006,multi=False,futures=False,margin=0.01,mult=1.0):\n",
    "    cerebro = bt.Cerebro(stdstats=False)\n",
    "    \n",
    "    cerebro.addobserver(bt.observers.Value)\n",
    "    cerebro.addobserver(bt.observers.DrawDown)\n",
    "    cerebro.addobserver(bt.observers.Trades)\n",
    "    if multi:\n",
    "        cerebro.addobservermulti(bt.observers.BuySell)    \n",
    "    else:\n",
    "        cerebro.addobserver(bt.observers.BuySell)\n",
    "    percslippage=0# 10bps\n",
    "    cerebro.broker.setcash(icap)\n",
    "    if futures:\n",
    "        cerebro.broker.setcommission(commission=fees,margin=margin,mult=mult)\n",
    "    else:\n",
    "        cerebro.broker.setcommission(commission=fees)\n",
    "    \n",
    "    cerebro.broker.set_slippage_perc(percslippage, slip_open=True, slip_limit=True, slip_match=True, slip_out=False)\n",
    "    cerebro.addanalyzer(bt.analyzers.TradeAnalyzer, _name='ta')\n",
    "    cerebro.addanalyzer(trade_list,_name='tradelist')\n",
    "    cerebro.addanalyzer(bt.analyzers.DrawDown, _name='drawdown')\n",
    "    cerebro.addanalyzer(bt.analyzers.SharpeRatio, _name='sharpe', riskfreerate=0.0, annualize=True, timeframe=bt.TimeFrame.Days)\n",
    "    cerebro.addanalyzer(bt.analyzers.Transactions, _name='txn')\n",
    "    cerebro.addanalyzer(bt.analyzers.TimeReturn,_name='timereturn')\n",
    "    #cerebro.addanalyzer(bt.analyzers.Returns,_name='returns')\n",
    "    cerebro.addanalyzer(bt.analyzers.LogReturnsRolling,_name='logreturnsrolling')\n",
    "\n",
    "\n",
    "    return cerebro\n"
   ]
  },
  {
   "cell_type": "code",
   "execution_count": null,
   "metadata": {},
   "outputs": [],
   "source": [
    "bt_trailpercent=0.005 #0.5%\n",
    "liqlimit=1000\n",
    "\n",
    "# class Spread2(bt.indicators.Indicator):\n",
    "#     #lines = ('spread',)\n",
    "#     #params = {'period':20}#, movav=btind.MovAv.Simple)\n",
    "#     def next(self):\n",
    "#         print(f\"self.spread0={self.spread[0]}\")\n",
    "#         #self.lines.spread[0]=self.data0[0].close-self.data1[0].close\n",
    "#     def __init__(self):\n",
    "#         self.spread=self.data0[0].close-self.data1[0].close\n",
    "#         self.spread=movav = self.p.movav(self.data, period=self.p.period)\n",
    "#         self.l.spread = bt.Cmp(movav, self.data)    \n",
    "\n",
    "\n",
    "#     spread_bps = (df0.c-df1.c)/df1.c\n",
    "#     bb=DF({'spread':spread_bps}).addbb(lags=50,methodma='ewm',methodstd='ewm',nstdh=nstdh,nstdl=nstdl,dropna=False)\n",
    "#     entries = bb['spread'] < bb['bbl.spread']\n",
    "#     exits = bb['spread'] > bb['bbh.spread']\n",
    "\n",
    "ole=1\n",
    "\n",
    "class Spread(bt.indicators.Indicator):\n",
    "    params = (('lags', 5), ('nstdh', 1.0), ('nstdl',1.0 ),('methodma','ma'),('methodstd','ma'),)\n",
    "    _mindatas = 20\n",
    "    lines = ('spread','spreadBBH','spreadBBL','buy','sell',)\n",
    "    def next(self):\n",
    "        print(\"!!nextspread\")\n",
    "        \n",
    "        df0c=DF(npa(self.data0.get(size=self.p.lags)))\n",
    "        df1c=DF(npa(self.data1.get(size=self.p.lags)))\n",
    "        #print(f\"df0c={df0c}, {npa(df0c)}\")\n",
    "        if not len(df0c):return\n",
    "        spread_bps=((df0c-df1c)/df1c).rename(columns={0:'spread'})\n",
    "        #display(spread_bps)\n",
    "        self.lines.spread[0]=spread_bps.iloc[-1]\n",
    "        #print(f\"spread_bps.values = {spread_bps.values}\")\n",
    "        #print(f\" len spread_bps.values = {len(spread_bps.values).flatten()}\")\n",
    "        #print(f\"DF spread_bps = {DF({'spread':spread_bps.values.flatten()})}\")\n",
    "        #print(f\"self.p.nstdh={self.p.nstdh}\")\n",
    "        bb=spread_bps.addbb(lags=self.p.lags,methodma=self.p.methodma,methodstd=self.p.methodstd,nstdh=self.p.nstdh,nstdl=self.p.nstdl,dropna=False)\n",
    "#         spread_bps1 = (df0.c-df1.c)/df1.c\n",
    "#         bb1=DF({'spread':spread_bps1}).addbb(lags=self.p.lags,methodma=self.p.methodstd,methodstd=self.p.methodstd,nstdh=self.p.nstdh,nstdl=self.p.nstdl,dropna=False)\n",
    "#         display(bb)\n",
    "#         display(bb1)\n",
    "        \n",
    "#         global ole\n",
    "#         ole+=1\n",
    "#         if ole>5:\n",
    "#             raise 1\n",
    "        #print(bb)\n",
    "        \n",
    "        \n",
    "        \n",
    "#             spread_bps = (df0.c-df1.c)/df1.c\n",
    "#             bb=DF({'spread':spread_bps}).addbb(lags=20,methodma='ewm',methodstd='ewm',nstdh=nstdh,nstdl=nstdl,dropna=False)\n",
    "#             entries = bb['spread'] < bb['bbl.spread']\n",
    "#             exits = bb['spread'] > bb['bbh.spread']\n",
    "\n",
    "        self.lines.spreadBBH[0]=bb['bbh.spread'].iloc[-1]#(self.data0[0]-self.data1[0])/self.data1[0]\n",
    "        self.lines.spreadBBL[0]=bb['bbl.spread'].iloc[-1]\n",
    "        self.lines.buy[0]=float(self.lines.spread[0]<self.lines.spreadBBL[0])/100\n",
    "        #print(f\"self.lines.buy[0] {self.lines.buy[0]}\")\n",
    "        #ipdb.set_trace()\n",
    "        self.lines.sell[0]=float(self.lines.spread[0]>self.lines.spreadBBH[0])/100\n",
    "        #print(f\"self.lines.sell[0] {self.lines.sell[0]}\")\n",
    "\n",
    "class Strategy(bt.Strategy):\n",
    "    params = (('trailpercent', bt_trailpercent),('lags',20),('nstdh',1.4),('nstdl',1.8),('methodma','ma'),('methodstd','ma'),)\n",
    "\n",
    "    def notify_order(self, order):\n",
    "        if not order.alive():\n",
    "            self.order = None  # No pending orders\n",
    "\n",
    "    def __init__(self):\n",
    "        self.spread=Spread(self.data0,self.data1,lags=self.p.lags,nstdh=self.p.nstdh,nstdl=self.p.nstdl,methodma=self.p.methodma,methodstd=self.p.methodma)\n",
    "        #self.spread=self.data0.close(0)-self.data1.close(1)\n",
    "        pass#self.spread=self.datas[0].close-self.datas[1].close\n",
    "        \n",
    "    \n",
    "    def start(self):\n",
    "        self.order = None  # Avoid operrations on pending order\n",
    "\n",
    "    def next(self):\n",
    "        \n",
    "        print(f\"self.data0.close[0]={self.data0.close[0]}\")\n",
    "        \n",
    "        if self.order:\n",
    "            return  # pending order execution\n",
    "\n",
    "        \n",
    "        if not self.position:  # not in the market\n",
    "            if (self.spread.buy[0] and not np.isnan(self.spread.buy[0])):\n",
    "                #print(f\"buy 0 -1 {self.spread.buy[0], bool(self.spread.buy[0])}\")\n",
    "                self.order = self.buy(data=self.data0,exectype=bt.Order.Market)#,size=1)\n",
    "                self.order = self.sell(data=self.data1,exectype=bt.Order.Market)#,size=1)                \n",
    "                self.order = 'none'\n",
    "        elif self.order is None: \n",
    "            if (self.spread.sell[0] and not np.isnan(self.spread.sell[0])) :\n",
    "                self.order = self.sell(data=self.data0,exectype=bt.Order.Market)#,size=1)\n",
    "                self.order = self.buy(data=self.data1,exectype=bt.Order.Market)#,size=1)            \n",
    "        \n",
    "#         if not self.position:  # not in the market\n",
    "#             if (self.data0.close[0] - self.data1.close[0])<-800 :\n",
    "#                 self.order = self.buy(data=self.data0,exectype=bt.Order.Market,size=1)\n",
    "#                 self.order = self.sell(data=self.data1,exectype=bt.Order.Market,size=1)                \n",
    "#                 self.order = 'none'\n",
    "#         elif self.order is None: \n",
    "#             if (self.data0.close[0] - self.data1.close[0])>-100 :\n",
    "#                 self.order = self.sell(data=self.data0,exectype=bt.Order.Market,size=1)\n",
    "#                 self.order = self.buy(data=self.data1,exectype=bt.Order.Market,size=1)                \n",
    "                \n",
    "            \n",
    "\n",
    "        \n",
    "def btstrat(df0,df1,lags=20,nstdl=2,nstdh=2,methodma='ma',methodstd='ma',verbose=0,plot=False):        \n",
    "\n",
    "    cerebro=initcerebro(multi=True,futures=True,fees=0.0006,margin=0.1,mult=10.)\n",
    "\n",
    "#     data0=bt.feeds.PandasData(dataname=df0.rename(columns={'o':'open','h':'high','l':'low','c':'close','v':'volume'}),openinterest=None)#,timeframe=bt.TimeFrame.Hours)\n",
    "#     cerebro.adddata(data0,name='BTCUSD_210326@binance')\n",
    "#     data1=bt.feeds.PandasData(dataname=df1.rename(columns={'o':'open','h':'high','l':'low','c':'close','v':'volume'}),openinterest=None)#,timeframe=bt.TimeFrame.Hours)\n",
    "#     cerebro.adddata(data1,name='BTCUSDT_210326@binance')\n",
    "\n",
    "    data0=KDBFeed(sym='ETHUSD_210326@binance',freq='1H',ts='exchtm',table=None, date=[date(2021,2,10),date(2021,3,25)],addwhere=', vol>0.01')\n",
    "    cerebro.adddata(data0,name='BTCUSD_210326@binance')\n",
    "    \n",
    "    data1=KDBFeed(sym='ETHUSDT_210326@binance',freq=\"1H\",table='ppttrades',addwhere=', vol>0.01',date=[date(2021,2,10),date(2021,3,25)])\n",
    "    cerebro.adddata(data1,name='BTCUSDT_210326@binance')\n",
    "\n",
    "    cerebro.addstrategy(Strategy,lags=lags,nstdh=nstdh,nstdl=nstdl,methodma=methodma,methodstd=methodstd)\n",
    "    cerebro.addsizer(Sizer10Percent)\n",
    "\n",
    "    backtest = cerebro.run(runonce=False,tradehistory=True)\n",
    "#     btres = backtest[0]\n",
    "#     for k in ['total','pnl']:#backtest[0].analyzers.ta.get_analysis():\n",
    "#         print (k,dict(backtest[0].analyzers.ta.get_analysis()[k]))\n",
    "#     print(dict(backtest[0].analyzers.sharpe.get_analysis()))\n",
    "\n",
    "#     printTradeAnalysis(cerebro, backtest[0].analyzers)\n",
    "#     print(\"amount,price,sid,symbol,value\")\n",
    "#     DF(btres.analyzers.tradelist.get_analysis()).set_index('datein')\n",
    "    \n",
    "#     DF(btres.analyzers.tradelist.get_analysis()).set_index('datein').head(2)\n",
    "#     rets=pd.DataFrame.from_dict(dict(btres.analyzers.timereturn.get_analysis()),orient='index', columns=['ret'])\n",
    "    \n",
    "    \n",
    "    if plot:\n",
    "        rcsave=plt.rcParams['figure.figsize']\n",
    "        plt.rcParams['figure.figsize']=[30, 16]\n",
    "        cerebro.plot(style='line', rowsmajor=1, rowsminor=1,volume=True, iplot=False, barup='green', bardown='grey',fmt_x_ticks = '%Y-%b-%d %H:%M',fmt_x_data = '%Y-%b-%d %H:%M')\n",
    "        plt.rcParams['figure.figsize']=rcsave\n",
    "        \n",
    "        getinds(cerebro)[0].iplot()\n",
    "    \n",
    "    return {'cerebro':cerebro,'btres':btres,'rets':rets,'nt':btres.analyzers.ta.get_analysis()['total']['closed'],'SR':btres.analyzers.sharpe.get_analysis()['sharperatio']}#,'ind':bb}\n",
    "btstrat(df0,df1,lags=100,nstdl=1,nstdh=1,plot=True)"
   ]
  },
  {
   "cell_type": "code",
   "execution_count": null,
   "metadata": {},
   "outputs": [],
   "source": [
    "dff=pd.DataFrame(columns=pd.MultiIndex.from_tuples([(np.nan,np.nan)],names=['nstdl','nstdh']),index=df0['c'].index)\n",
    "dff.head(2)\n",
    "\n",
    "resSRtotal=[]\n",
    "resNTtotal=[]\n",
    "\n",
    "for nstdl in np.linspace(1,2.2,10):\n",
    "    for nstdh in np.linspace(1,2.2,10):\n",
    "        stratres=btstrat(df0,df1,lags=100,nstdl=nstdl,nstdh=nstdh,plot=False)\n",
    "        dff[nstdl,nstdh]=stratres['rets']#.copy()\n",
    "        resSRtotal.append({'nstdl':nstdl,'nstdh':nstdh,'SR':stratres['SR']})\n",
    "        resNTtotal.append({'nstdl':nstdl,'nstdh':nstdh,'NT':stratres['nt']/((dff.index[-1]-dff.index[0])/pd.Timedelta('4.33w'))\n",
    "})\n",
    "        \n",
    "\n",
    "dff.drop(np.nan, axis=1, level=1,inplace=True)\n",
    "dff.head()        \n",
    "#dff.plot()\n",
    "\n",
    "\n",
    "DF(resSRtotal).pivot('nstdl','nstdh').heatmap()\n",
    "plt.show()\n",
    "DF(resNTtotal).pivot('nstdl','nstdh').heatmap()#figsize=(20,20))#cmap='RdYlGn',fmt='.3g',annot=True)\n",
    "dff.dropna().cumsum().iplot()\n",
    "#possible that all the N strategy configs have high but similar Sharpe ratios. Therefore, PBO may appear high, however, 'overfitting' here is among many 'skilful' strategies.\n",
    "#pypbo.pbo(dff.dropna(), S=8, metric_func=lambda x: perf.sharpe_iid(x), threshold=1, n_jobs=4,plot=True, verbose=False, hist=False)\n",
    "#pbo stability\n",
    "pbos=[]\n",
    "for S in [4,6,8,10,12,14]:\n",
    "    pbos.append({\"S\":S,'pbo':pypbo.pbo(dff.dropna(), S=S, metric_func=lambda x: perf.sharpe_iid(x), threshold=1, n_jobs=4,plot=False, verbose=False, hist=False).pbo})\n",
    "DF(pbos).set_index('S').plot()"
   ]
  },
  {
   "cell_type": "markdown",
   "metadata": {},
   "source": [
    "# rolling sharpe"
   ]
  },
  {
   "cell_type": "code",
   "execution_count": null,
   "metadata": {},
   "outputs": [],
   "source": [
    "ax=DF({'median':dff.dropna().resample('1D').sum().median(axis=1).asfreq('1D').vbt.returns().rolling_sharpe_ratio(30)}).plot(alpha=0.7)\n",
    "ax=DF({'mean':dff.dropna().resample('1D').sum().mean(axis=1).asfreq('1D').vbt.returns().rolling_sharpe_ratio(30)}).plot(ax=ax,alpha=0.7)\n",
    "#DF(dff.resample('1D').sum().asfreq('1D').vbt.returns().rolling_sharpe_ratio(30)).plot(alpha=0.7,ax=ax)"
   ]
  },
  {
   "cell_type": "markdown",
   "metadata": {},
   "source": [
    "# vectorbt"
   ]
  },
  {
   "cell_type": "code",
   "execution_count": null,
   "metadata": {},
   "outputs": [],
   "source": [
    "def vbtstrat(df0,df1,lag=20,nstdl=2,nstdh=2,methodma='ma',methodstd='ma',verbose=0,plot=False):\n",
    "    spread_bps = (df0.c-df1.c)/df1.c\n",
    "    bb=DF({'spread':spread_bps}).addbb(lags=lag,methodma=methodma,methodstd=methodstd,nstdh=nstdh,nstdl=nstdl,dropna=False)\n",
    "    bb.iplot()\n",
    "    entries_dirty = bb['spread'] < bb['bbl.spread']\n",
    "    exits_dirty = bb['spread'] > bb['bbh.spread']\n",
    "    #entries[entries==True]\n",
    "    entries,exits = pd.Series.vbt.signals.clean(entries_dirty,exits_dirty, entry_first=True, broadcast_kwargs=dict(columns_from='keep'))\n",
    "    \n",
    "    \n",
    "    if plot:\n",
    "        fig = vbt.make_subplots(specs=[[{\"secondary_y\": True}]])\n",
    "        \n",
    "        \n",
    "#         fig = vbt.make_subplots(\n",
    "#         rows=5, cols=1, shared_xaxes=True, \n",
    "#         row_heights=[*[0.5 / 3] * len(symbols), 0.25, 0.25], vertical_spacing=0.05,\n",
    "#         subplot_titles=(*symbols, '%B', 'Bandwidth'))\n",
    "        \n",
    "        \n",
    "        fig = spread_bps.vbt.plot(trace_kwargs=dict(name='df0.c'), fig=fig)\n",
    "        #fig = df1['c'].vbt.plot(trace_kwargs=dict(name='df1.c'), fig=fig)\n",
    "        fig = entries.vbt.signals.plot_as_entry_markers(spread_bps, fig=fig)\n",
    "        fig = exits.vbt.signals.plot_as_exit_markers(spread_bps, fig=fig)\n",
    "        fig.update_layout(template='vbt_dark', showlegend=False, width=1600, height=300)\n",
    "        fig.show()\n",
    "    \n",
    "    # #ts exits\n",
    "    # # Execute at the next bar\n",
    "    # vbt_entries= pd.Series.vbt.signals.empty_like(dfbtc1['c'])\n",
    "    # vbt_entries.loc[dfliq1[dfliq1['v'].shift(1)>liqlimit].index]=True\n",
    "    # ts_exits = vbt.OHLCSTEX.run(vbt_entries,df0['o'],df0['h'],dfbtc1['l'],dfbtc1['c'],ts_stop=list(stops),wait=1,stop_type=None, hit_price=None).exits\n",
    "    # vbt_entries, vbt_exits = pd.DataFrame.vbt.signals.clean(vbt_entries, ts_exits)\n",
    "    # portf = vbt.Portfolio.from_signals(dfbtc1['o'], vbt_entries, ts_exits, price=dfbtc1['o'])#.vbt.fshift(1))\n",
    "    #percentage order size\n",
    "    symbol_cols = pd.Index([0, 1], name='symbol')\n",
    "    ordersize = pd.DataFrame(index=entries.index, columns=symbol_cols)\n",
    "    ordersize[0] = np.nan\n",
    "    ordersize[1] = np.nan\n",
    "    ordersize.loc[exits, 0] = -1\n",
    "    ordersize.loc[entries, 0] = 1\n",
    "    ordersize.loc[exits, 1] = 1\n",
    "    ordersize.loc[entries, 1] = -1\n",
    "\n",
    "    #shoft ordersize\n",
    "    ordersize = ordersize.vbt.fshift(1)\n",
    "\n",
    "    portf=vbt.Portfolio.from_orders(\n",
    "            close=pd.concat((df0['c'], df1['c']), axis=1, keys=symbol_cols),  # current close as reference price\n",
    "            size=ordersize,  \n",
    "            price=pd.concat((df0['o'], df1['o']), axis=1, keys=symbol_cols),  # current open as execution price\n",
    "            size_type='targetpercent', \n",
    "            val_price=pd.concat((df0['c'], df1['c']), axis=1, keys=symbol_cols),#.vbt.fshift(1),  # previous close as group valuation price\n",
    "            init_cash=10000,\n",
    "            fees=0.0006,\n",
    "            cash_sharing=True,  # share capital between assets in the same group\n",
    "            group_by=True,  # all columns belong to the same group\n",
    "            call_seq='auto',  # sell before buying\n",
    "            freq='d'  # index frequency for annualization\n",
    "        )\n",
    "\n",
    "    if verbose:\n",
    "        entries.astype('float').plot()\n",
    "        exits.astype('float').plot()\n",
    "        ordersize.dropna().plot(marker='x')\n",
    "        portf.orders.records_readable\n",
    "        portf.trades.records_readable\n",
    "        portf.stats()\n",
    "        \n",
    "        \n",
    "    for nstdl in np.linspace(1,2.2,20):\n",
    "    for nstdh in np.linspace(1,2.2,20):\n",
    "        vbstratres=vbtstrat(df0,df1,lag=100,nstdl=nstdl,nstdh=nstdh)\n",
    "        dff[nstdl,nstdh]=vbstratres['portf'].returns()\n",
    "        resSRtotal.append({'nstdl':nstdl,'nstdh':nstdh,'SR':vbstratres['portf'].sharpe_ratio()})\n",
    "        resNTtotal.append({'nstdl':nstdl,'nstdh':nstdh,'NT':(vbstratres['entries'].astype(float).sum()+vbstratres['exits'].astype(float).sum())/((dff.index[-1]-dff.index[0])/pd.Timedelta('4.33w'))\n",
    "    })    \n",
    "        \n",
    "        \n",
    "        \n",
    "    return {'portf':portf,'entries':entries,'exits':exits,'entries_dirty':entries_dirty,'exits_dirty':exits_dirty,'SR':portf.sharpe_ratio(),'ind':bb}\n",
    "#vbtstrat(df0,df1,spreadL=-600,spreadH=-100,verbose=0)"
   ]
  },
  {
   "cell_type": "code",
   "execution_count": null,
   "metadata": {},
   "outputs": [],
   "source": [
    "dff=pd.DataFrame(columns=pd.MultiIndex.from_tuples([(np.nan,np.nan)],names=['nstdl','nstdh']),index=df0['c'].index)\n",
    "dff.head(2)\n",
    "\n",
    "resSRtotal=[]\n",
    "resNTtotal=[]\n",
    "\n",
    "for nstdl in np.linspace(1,2.2,20):\n",
    "    for nstdh in np.linspace(1,2.2,20):\n",
    "        vbstratres=vbtstrat(df0,df1,lag=100,nstdl=nstdl,nstdh=nstdh)\n",
    "        dff[nstdl,nstdh]=vbstratres['portf'].returns()\n",
    "        resSRtotal.append({'nstdl':nstdl,'nstdh':nstdh,'SR':vbstratres['portf'].sharpe_ratio()})\n",
    "        resNTtotal.append({'nstdl':nstdl,'nstdh':nstdh,'NT':(vbstratres['entries'].astype(float).sum()+vbstratres['exits'].astype(float).sum())/((dff.index[-1]-dff.index[0])/pd.Timedelta('4.33w'))\n",
    "})\n",
    "        \n",
    "\n",
    "dff.drop(np.nan, axis=1, level=1,inplace=True)\n",
    "dff.head()        \n",
    "#dff.plot()\n",
    "DF(resSRtotal).pivot('nstdl','nstdh').vbt.heatmap()\n",
    "\n",
    "DF(resNTtotal).pivot('nstdl','nstdh').vbt.heatmap()# if very few trades, do not consider these params, exclude them form PBO calculation\n",
    "\n",
    "\n",
    "DF(resSRtotal).pivot('nstdl','nstdh')\n",
    "\n",
    "#Entirely possible that all the N strategy configs have high but similar Sharpe ratios. Therefore, PBO may appear high, however, 'overfitting' here is among many 'skilful' strategies.\n",
    "\n",
    "pypbo.pbo(dff, S=8, metric_func=lambda x: perf.sharpe_iid(x), threshold=1, n_jobs=4,plot=True, verbose=False, hist=False)"
   ]
  },
  {
   "cell_type": "markdown",
   "metadata": {},
   "source": [
    "# best strategy viz"
   ]
  },
  {
   "cell_type": "code",
   "execution_count": null,
   "metadata": {},
   "outputs": [],
   "source": [
    "#res=vbtstrat(df0,df1,nstdl=1.4,nstdh=1.8,lag=100,plot=True)\n",
    "res=vbtstrat(df0,df1,nstdl=1.8,nstdh=1.3,lag=20,plot=True,methodma='ma',methodstd='ma',verbose=1)\n",
    "print('SR',res['SR'])\n",
    "res['portf'].stats()\n",
    "\n",
    "ax=DF({'median':dff.resample('1D').sum().median(axis=1).asfreq('1D').vbt.returns().rolling_sharpe_ratio(30)}).plot(alpha=0.7)\n",
    "ax=DF({'mean':dff.resample('1D').sum().mean(axis=1).asfreq('1D').vbt.returns().rolling_sharpe_ratio(30)}).plot(ax=ax,alpha=0.7)\n",
    "DF(res['portf'].returns().resample('1D').sum().asfreq('1D').vbt.returns().rolling_sharpe_ratio(30)).plot(alpha=0.7,ax=ax)\n",
    "res['ind'].plot()\n",
    "\n"
   ]
  },
  {
   "cell_type": "markdown",
   "metadata": {},
   "source": [
    "# bt vs vectorbt"
   ]
  },
  {
   "cell_type": "markdown",
   "metadata": {},
   "source": [
    "## equity curve"
   ]
  },
  {
   "cell_type": "code",
   "execution_count": null,
   "metadata": {},
   "outputs": [],
   "source": [
    "res['portf'].value().vbt.plot(width=1200)\n",
    "cerebro.plot(iplot=False)"
   ]
  },
  {
   "cell_type": "markdown",
   "metadata": {},
   "source": [
    "## returns"
   ]
  },
  {
   "cell_type": "code",
   "execution_count": null,
   "metadata": {},
   "outputs": [],
   "source": [
    "#daily returns\n",
    "\n",
    "rets=DF(res['portf'].returns().resample('1D').sum().asfreq('1D'),columns=['vbt']).join(pd.DataFrame.from_dict(dict(btres.analyzers.timereturn.get_analysis()),orient='index', columns=['bt']))\n",
    "rets.expanding().sum().iplot()"
   ]
  },
  {
   "cell_type": "markdown",
   "metadata": {},
   "source": [
    "## indicators"
   ]
  },
  {
   "cell_type": "code",
   "execution_count": null,
   "metadata": {},
   "outputs": [],
   "source": [
    "res['ind'].join(getinds(cerebro)[0]).iplot()"
   ]
  },
  {
   "cell_type": "markdown",
   "metadata": {},
   "source": [
    "## signals"
   ]
  },
  {
   "cell_type": "code",
   "execution_count": null,
   "metadata": {},
   "outputs": [],
   "source": [
    "#check indocator bt vs vbt\n",
    "\n",
    "(DF({'entry_dirty':res['entries_dirty'],'entry_clean':res['entries']}).astype(float)/100).join(getinds(cerebro)[0],rsuffix='bt').iplot()"
   ]
  },
  {
   "cell_type": "markdown",
   "metadata": {},
   "source": [
    "## orders"
   ]
  },
  {
   "cell_type": "code",
   "execution_count": null,
   "metadata": {},
   "outputs": [],
   "source": [
    "# vectorbt\n",
    "res['portf'].orders.records_readable\n"
   ]
  },
  {
   "cell_type": "code",
   "execution_count": null,
   "metadata": {},
   "outputs": [],
   "source": [
    "# bt\n"
   ]
  },
  {
   "cell_type": "markdown",
   "metadata": {},
   "source": [
    "## trades"
   ]
  },
  {
   "cell_type": "code",
   "execution_count": null,
   "metadata": {},
   "outputs": [],
   "source": [
    "#bt \n",
    "#DF(btres.analyzers.tradelist.get_analysis()).set_index('datein')\n",
    "#vectorbt\n",
    "res['portf'].trades.records_readable.set_index('Entry Date').query('Column==0').add_suffix('vbt').head(1)\n",
    "res['portf'].trades.records_readable.set_index('Entry Date').query('Column==1').add_suffix('vbt').head(1)\n",
    "DF(btres.analyzers.tradelist.get_analysis()).set_index('datein').head(2)"
   ]
  },
  {
   "cell_type": "code",
   "execution_count": null,
   "metadata": {},
   "outputs": [],
   "source": [
    "# vectorbt replication using backtrader entries exits\n",
    "\n",
    "\n",
    "\n",
    "bt_entries_mask = btt[btt.amount > 0]\n",
    "bt_entries_mask.index = bt_entries_mask.index\n",
    "bt_exits_mask = btt[btt.amount < 0]\n",
    "bt_exits_mask.index = bt_exits_mask.index\n",
    "bt_entries = pd.Series.vbt.signals.empty_like(df0['c'])\n",
    "bt_entries.loc[bt_entries_mask.index] = True\n",
    "bt_exits = pd.Series.vbt.signals.empty_like(df0['c'])\n",
    "bt_exits.loc[bt_exits_mask.index] = True\n",
    "btp = vbt.Portfolio.from_signals(df0['o'], bt_entries, bt_exits, price=df0['o'])#.vbt.fshift(1))\n",
    "# display trades and cashflow\n",
    "btp.get_trades().records_readable\n",
    "btp.get_orders().records_readable\n",
    "btp.share_flow().replace(0,np.nan).dropna()\n",
    "btp.cash_flow().replace(0,np.nan).dropna()\n",
    "btp.stats()\n",
    "#viz\n",
    "fig = vbt.make_subplots(specs=[[{\"secondary_y\": True}]])\n",
    "fig = dfbtc1['c'].vbt.plot(trace_kwargs=dict(name='Price'), fig=fig)\n",
    "fig = bt_entries.vbt.signals.plot_as_entry_markers(dfbtc1['c'], fig=fig)\n",
    "fig = bt_exits.vbt.signals.plot_as_exit_markers(dfbtc1['c'], fig=fig)\n",
    "fig.show_svg()\n",
    "\n",
    "# vectorbt replication bt strategy  entries, exits calculated by vectorbt\n",
    "\n",
    "\n",
    "step = 0.01  # 1%\n",
    "stops =npa([bt_trailpercent])\n",
    "vbt_entries= pd.Series.vbt.signals.empty_like(dfbtc1['c'])\n",
    "vbt_entries.loc[dfliq1[dfliq1['v'].shift(1)>liqlimit].index]=True\n",
    "ts_exits = vbt.OHLCSTEX.run(vbt_entries,dfbtc1['o'], dfbtc1['h'],dfbtc1['l'],dfbtc1['c'],ts_stop=list(stops),wait=1,stop_type=None, hit_price=None).exits\n",
    "vbt_entries, vbt_exits = pd.DataFrame.vbt.signals.clean(vbt_entries, ts_exits)\n",
    "portf = vbt.Portfolio.from_signals(dfbtc1['o'], vbt_entries, ts_exits, price=dfbtc1['o'])#.vbt.fshift(1))\n",
    "portf.stats()\n",
    "\n",
    "# visualizaitons\n",
    "vbt_entries.astype(int).plot()\n",
    "bt_entries.astype(int).plot()\n",
    "fig = vbt.make_subplots(specs=[[{\"secondary_y\": True}]])\n",
    "fig = dfbtc1['o'].vbt.plot(trace_kwargs=dict(name='Price'), fig=fig)\n",
    "fig = vbt_entries.vbt.signals.plot_as_entry_markers(dfbtc1['o'], fig=fig)\n",
    "fig = vbt_exits.vbt.signals.plot_as_exit_markers(dfbtc1['o'], fig=fig)\n",
    "fig.show_svg()\n",
    "\n",
    "portf.get_trades().records_readable\n",
    "portf.get_orders().records_readable\n",
    "portf.share_flow().replace(0,np.nan).dropna()\n",
    "portf.cash_flow().replace(0,np.nan).dropna()\n",
    "\n",
    "# vectorization 1d ts stops"
   ]
  },
  {
   "cell_type": "code",
   "execution_count": null,
   "metadata": {},
   "outputs": [],
   "source": [
    "dff.columns = [f\"{x}_{y}\" for x, y in dff.columns.to_flat_index()]\n",
    "dff"
   ]
  },
  {
   "cell_type": "code",
   "execution_count": null,
   "metadata": {},
   "outputs": [],
   "source": [
    "dff[dff.columns[50:55]].plot()"
   ]
  },
  {
   "cell_type": "code",
   "execution_count": null,
   "metadata": {},
   "outputs": [],
   "source": [
    "\n",
    "portf.final_value().plot()\n",
    "plt.show()\n",
    "portf.sharpe_ratio().plot(title='sharpe')"
   ]
  },
  {
   "cell_type": "markdown",
   "metadata": {},
   "source": [
    "# vectorization 2d limit"
   ]
  },
  {
   "cell_type": "code",
   "execution_count": null,
   "metadata": {},
   "outputs": [],
   "source": [
    "step = 0.005  \n",
    "stops =list(np.arange(step, 0.20, step))\n",
    "liqstep=200.\n",
    "liqlimits=np.arange(liqstep, 2000, liqstep)\n",
    "\n",
    "\n",
    "vbt_entries= pd.Series.vbt.signals.empty_like(DF(index=dfbtc1['c'].index,columns=np.arange(len(liqlimits))))\n",
    "\n",
    "#strategy\n",
    "dfentr=DF(dfliq1[['v']].shift(1).values>liqlimits,index=dfliq1['v'].index)\n",
    "vbt_entries.update(dfentr)\n",
    "vbt_entries.fillna(False,inplace=True)\n",
    "\n",
    "\n",
    "\n",
    "ts_exits = vbt.OHLCSTEX.run(vbt_entries,dfbtc1['o'],dfbtc1['h'],dfbtc1['l'],dfbtc1['c'],ts_stop=list(stops), wait=1,stop_type=None, hit_price=None).exits\n",
    "vbt_entries, vbt_exits = pd.DataFrame.vbt.signals.clean(vbt_entries, ts_exits)\n",
    "portf = vbt.Portfolio.from_signals(dfbtc1['o'], vbt_entries, ts_exits, price=dfbtc1['o'])#.vbt.fshift(1))\n",
    "#end strategy"
   ]
  },
  {
   "cell_type": "code",
   "execution_count": null,
   "metadata": {},
   "outputs": [],
   "source": [
    "#viz\n",
    "#median, mean   strat  rolling sharpe\n",
    "ax=DF(portf.returns().resample('1D').sum().median(axis=1).asfreq('1D').vbt.returns().rolling_sharpe_ratio(30)).plot(alpha=0.7)\n",
    "DF(portf.returns().resample('1D').sum().mean(axis=1).asfreq('1D').vbt.returns().rolling_sharpe_ratio(30)).plot(ax=ax,alpha=0.7)\n",
    "\n",
    "#total heatmaps\n",
    "portf.final_value().subtract(10000).unstack().plot()\n",
    "portf.final_value().subtract(10000).unstack().vbt.heatmap()#xaxis={\"title\": 'Traits',\"tickangle\": 45}\n",
    "portf.sharpe_ratio().unstack().rename(columns=dict(zip(np.arange(len(liqlimits)),list(liqlimits)))).vbt.heatmap(width=800,height=800,yaxis_nticks=40)\n",
    "portf.final_value().subtract(10000).unstack().rename(columns=dict(zip(np.arange(len(liqlimits)),list(liqlimits)))).vbt.heatmap(width=800,height=800,yaxis_nticks=40)"
   ]
  },
  {
   "cell_type": "code",
   "execution_count": null,
   "metadata": {},
   "outputs": [],
   "source": [
    "#best params\n",
    "#ighest sharpe of rolling sharpe ratios  \n",
    "portf.returns().resample('1D').sum().vbt.returns().rolling_sharpe_ratio(30).vbt.returns.sharpe_ratio().argmax()\n",
    "#portf.returns().T.index[portf.returns().resample('1D').sum().vbt.returns.sharpe_ratio().argmax()]\n",
    "#highest minimal rolling sharpe\n",
    "portf.returns().resample('1D').sum().vbt.returns().rolling_sharpe_ratio(30).min().argmax()"
   ]
  },
  {
   "cell_type": "code",
   "execution_count": null,
   "metadata": {},
   "outputs": [],
   "source": [
    "#portf.returns().resample('1D').sum().median(axis=1)\n",
    "portf.returns()[0.1][1].resample('1D').sum().vbt.returns().sharpe_ratio()\n",
    "portf.returns().resample('1D').sum().median(axis=1).asfreq('1D').vbt.returns().sharpe_ratio()\n",
    "portf.returns()[0.005][0].resample('1D').sum().vbt.returns().sharpe_ratio()"
   ]
  },
  {
   "cell_type": "code",
   "execution_count": null,
   "metadata": {},
   "outputs": [],
   "source": [
    "#DF(portf.returns()[0.1][1].resample('1D').sum().vbt.returns().rolling_sharpe_ratio(30)).join(dfbtc['c']).plot2(1,'c')\n",
    "DF(portf.returns()[0.1][1].resample('1D').sum().vbt.returns().daily()).join(dfbtc['c']).plot2(1,'c')\n",
    "DF(portf.returns()[0.1][1].resample('1D').sum().vbt.returns().cumulative()).join(dfbtc['c']).plot2(1,'c')"
   ]
  },
  {
   "cell_type": "code",
   "execution_count": null,
   "metadata": {},
   "outputs": [],
   "source": [
    "ax=DF(portf.returns()[0.1][1].resample('1D').sum().vbt.returns().rolling_sharpe_ratio(30)).plot()\n",
    "ax=DF(portf.returns()[0.005][0].resample('1D').sum().vbt.returns().rolling_sharpe_ratio(30)).plot(ax=ax,alpha=0.7)\n",
    "ax=DF(portf.returns()[0.085][2].resample('1D').sum().vbt.returns().rolling_sharpe_ratio(30)).plot(ax=ax,alpha=0.7)\n",
    "ax=DF(portf.returns()[0.13][2].resample('1D').sum().vbt.returns().rolling_sharpe_ratio(30)).plot(ax=ax,alpha=0.7)\n",
    "ax=DF(portf.returns()[0.065][0].resample('1D').sum().vbt.returns().rolling_sharpe_ratio(30)).plot(ax=ax,alpha=0.7)\n",
    "\n",
    "#ax=DF(portf.returns().resample('1D').sum().median(axis=1).asfreq('1D').vbt.returns().rolling_sharpe_ratio(30)).plot(ax=ax,alpha=0.7)\n",
    "\n"
   ]
  },
  {
   "cell_type": "code",
   "execution_count": null,
   "metadata": {},
   "outputs": [],
   "source": [
    "df1.c.loc['2021-03-02'].resample('1H').last().ffill()"
   ]
  },
  {
   "cell_type": "markdown",
   "metadata": {},
   "source": [
    "## attemps at geenralization for n params,   not efficient  entries contstruction. \n",
    "\n",
    "import itertools\n",
    "\n",
    "def f(s):\n",
    "    print()\n",
    "    print(s.head())\n",
    "    raise 1\n",
    "    \n",
    "entries.apply(f,entries)\n",
    "\n",
    "liqstep=200\n",
    "liqlimits=np.arange(liqstep, 2000, liqstep)\n",
    "\n",
    "step = 0.005  \n",
    "ts_stops =list(np.arange(step, 0.20, step))\n",
    "\n",
    "params={\n",
    "    'liqlimit':liqlimits\n",
    "    #'ts_stop':ts_stops\n",
    "}\n",
    "\n",
    "#list(itertools.product(*params.values()))\n",
    "entries=pd.DataFrame(False,columns=pd.MultiIndex.from_tuples(  list(itertools.product(*params.values())) ,names=list(params.keys()) ),index=dfbtc1['c'].index)\n",
    "#entries=pd.DataFrame(columns=pd.MultiIndex.from_tuples([len(params)*(np.nan,)],names=list(params.keys()),index=dfbtc1['c'].index)\n",
    "#entries=pd.DataFrame(columns=pd.MultiIndex.from_tuples([len(params)*(np.nan,)],names=['p'+str(i) for i in range(nparams)]),index=dfbtc1['c'].index)\n",
    "entries.head()\n",
    "# entry strategy\n",
    "dfentr=DF((dfliq1[['v']].shift(1).values>params['liqlimit']),index=dfliq1['v'].index)\n",
    "dfentr.astype(float).sum().sum()\n",
    "entries.update(dfentr,errors='raise')                                                                                                     \n",
    "\n",
    "entries.sum().sum()\n",
    "entries.astype(float).plot()\n",
    "# exit strategy\n",
    "exits=vbt.OHLCSTEX.run(entries,dfbtc1['o'],dfbtc1['h'],dfbtc1['l'],dfbtc1['c'],ts_stop=ts_stops, wait=1,stop_type=None, hit_price=None).exits\n",
    "exits.head()\n",
    "entries,exits=pd.DataFrame.vbt.signals.clean(entries, exits)\n",
    "entries.head()\n",
    "# entry is on 'open'\n",
    "portr=vbt.Portfolio.from_signals(dfbtc1['o'], entries, exits, price=dfbtc1['o']).returns()#.head()#.resample('1D').sum().vbt.returns().rolling_sharpe_ratio(30).head()\n",
    "\n",
    "portr.head()\n",
    "\n",
    "# for i in range(len(params)):\n",
    "#     portr.columns=portr.columns.droplevel()\n",
    "\n",
    "#portr.head()\n",
    "# param fix plots    \n",
    "    \n",
    "fixparams={'liqlimit':200,'ohlcstex_ts_stop':0.005}\n",
    "\n",
    "#dff=portr.loc[:,(portr.columns.get_level_values('param1')==5)&(portr.columns.get_level_values('param0')==1)]#.head().columns.droplevel('param0')\n",
    "#dff.columns=dff.columns.droplevel(['param0','param1'],axis='columns')\n",
    "#portr.loc[:,(portr.columns.get_level_values('param1')==5)&(portr.columns.get_level_values('param0')==1)].droplevel(['param0','param1'],axis='columns')#.vbt.returns.daily().vbt.returns.sharpe_ratio().unstack().vbt.heatmap()\n",
    "\n",
    "#def rolling_daily_sharpe_ratio_plot(df,fixedparams,window=30):\n",
    "def dffixparams(df,fixparams):\n",
    "    cond=True\n",
    "    for k,v in fixparams.items():\n",
    "        print(f\"{k,v}\")\n",
    "        cond=(df.columns.get_level_values(k)==v)&cond\n",
    "    print(f\"cond={cond}\")\n",
    "    return df.loc[:,cond]#.droplevel(list(fixparams.keys()),axis='columns')\n",
    "\n",
    "dffixparams(portr,fixparams).vbt.returns.daily().vbt.returns.rolling_sharpe_ratio(100).plot()#.unstack().vbt.heatmap()\n",
    "    \n",
    "\n",
    "\n",
    "raise 1\n",
    "\n",
    "#strategy\n",
    "dfentr=DF((dfliq1[['v']].shift(1).values>liqlimits1)&(dfliq1[['v']].shift(1).values<liqlimits2),index=dfliq1['v'].index)\n",
    "vbt_entries.update(dfentr)                                                                                                     \n",
    "vbt_entries.fillna(False,inplace=True)\n",
    "\n",
    "\n",
    "ts_exits = vbt.OHLCSTEX.run(vbt_entries,dfbtc1['o'],dfbtc1['h'],dfbtc1['l'],dfbtc1['c'],ts_stop=list(tsstops), wait=1,stop_type=None, hit_price=None).exits\n",
    "vbt_entries, vbt_exits = pd.DataFrame.vbt.signals.clean(vbt_entries, ts_exits)\n",
    "portf = vbt.Portfolio.from_signals(dfbtc1['o'], vbt_entries, ts_exits, price=dfbtc1['o'])#.vbt.fshift(1))\n",
    "#end strategy\n",
    "\n",
    "\n",
    "#viz\n",
    "#median, mean   strat  rolling sharpe\n",
    "ax=DF(portf.returns().resample('1D').sum().median(axis=1).asfreq('1D').vbt.returns().rolling_sharpe_ratio(30)).plot(alpha=0.7)\n",
    "DF(portf.returns().resample('1D').sum().mean(axis=1).asfreq('1D').vbt.returns().rolling_sharpe_ratio(30)).plot(ax=ax,alpha=0.7)\n",
    "\n",
    "#heatmaps\n",
    "portf.final_value().subtract(icap).unstack().plot()\n",
    "portf.final_value().subtract(icap).unstack().vbt.heatmap()#xaxis={\"title\": 'Traits',\"tickangle\": 45}\n",
    "portf.sharpe_ratio().unstack().rename(columns=dict(zip(np.arange(len(liqlimits)),list(liqlimits)))).vbt.heatmap(width=800,height=800,yaxis_nticks=40)\n",
    "portf.final_value().subtract(icap).unstack().rename(columns=dict(zip(np.arange(len(liqlimits)),list(liqlimits)))).vbt.heatmap(width=800,height=800,yaxis_nticks=40)"
   ]
  },
  {
   "cell_type": "code",
   "execution_count": null,
   "metadata": {},
   "outputs": [],
   "source": []
  }
 ],
 "metadata": {
  "kernelspec": {
   "display_name": "Python 3 (ipykernel)",
   "language": "python",
   "name": "python3"
  },
  "language_info": {
   "codemirror_mode": {
    "name": "ipython",
    "version": 3
   },
   "file_extension": ".py",
   "mimetype": "text/x-python",
   "name": "python",
   "nbconvert_exporter": "python",
   "pygments_lexer": "ipython3",
   "version": "3.8.8"
  }
 },
 "nbformat": 4,
 "nbformat_minor": 4
}
