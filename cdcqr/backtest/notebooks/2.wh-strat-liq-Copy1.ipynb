{
 "cells": [
  {
   "cell_type": "markdown",
   "metadata": {},
   "source": [
    "perps price ~ liquidations\n",
    "spot price ~ liquidations\n",
    "perps price ~ liquidations , reserves\n",
    "spot price ~liquidations, reserves\n",
    "repeat same with liquidations -> only binance liquidations, binance price\n",
    "binance liquidations, binance price, + reserves\n",
    "reserves -> exponential smoothing,  trend =d reserves.ewm / dt\n",
    "liquidations ERC20 better?\n",
    "vectorbt implementation to find optimal trialing stop\n",
    "constant time position, small stop loss"
   ]
  },
  {
   "cell_type": "code",
   "execution_count": null,
   "metadata": {},
   "outputs": [],
   "source": [
    "%run base.ipynb\n",
    "from ct.fs import *\n",
    "%matplotlib inline\n",
    "from ct.alfafactory import *"
   ]
  },
  {
   "cell_type": "markdown",
   "metadata": {},
   "source": [
    "# market data"
   ]
  },
  {
   "cell_type": "code",
   "execution_count": null,
   "metadata": {},
   "outputs": [],
   "source": [
    "dfbtc=qbars('BTCUSDT@binance',freq=\"5Min\",table='ppttrades',date=[date(2021,5,1),date(2021,5,21)],addwhere=', vol>0.01')"
   ]
  },
  {
   "cell_type": "markdown",
   "metadata": {},
   "source": [
    "# alternative data"
   ]
  },
  {
   "cell_type": "code",
   "execution_count": null,
   "metadata": {},
   "outputs": [],
   "source": [
    "dfliq=qbars('BTCUSDT@binance',freq=\"5Min\",table='pptliqs',date=[date(2021,5,1),date(2021,5,21)],addwhere=', side=`sell , vol>0.01')"
   ]
  },
  {
   "cell_type": "code",
   "execution_count": null,
   "metadata": {},
   "outputs": [],
   "source": [
    "dfbtc1=dfbtc.loc['2021-05']\n",
    "dfliq1=dfliq.loc['2021-05']"
   ]
  },
  {
   "cell_type": "code",
   "execution_count": null,
   "metadata": {},
   "outputs": [],
   "source": []
  },
  {
   "cell_type": "code",
   "execution_count": null,
   "metadata": {},
   "outputs": [],
   "source": [
    "query=\"\"\"system \"l /core/data/rdb/binance\";\n",
    "0!select  o:first px,h:max px,l:min px,c:last px ,v:sum vol by date, symbol, 0D00:01 xbar exchtm from ppttrades where symbol=`BTCUSDT , exchtm>2021.07.13D16:35:00 \"\"\"\n",
    "\n",
    "runq2(folder='binance',query=query,rdb=False)"
   ]
  },
  {
   "cell_type": "code",
   "execution_count": null,
   "metadata": {},
   "outputs": [],
   "source": [
    "dt.min.strftime(format='%Y.%m.%dD%H:%M:%S.%f')"
   ]
  },
  {
   "cell_type": "markdown",
   "metadata": {},
   "source": [
    "# backtrader strategy backtest"
   ]
  },
  {
   "cell_type": "code",
   "execution_count": null,
   "metadata": {},
   "outputs": [],
   "source": [
    "bt_trailpercent=0.005 #0.5%\n",
    "liqlimit=1000\n",
    "   \n",
    "class Strategy(bt.Strategy):\n",
    "    params = (('trailpercent', bt_trailpercent),)\n",
    "\n",
    "    def notify_order(self, order):\n",
    "        if not order.alive():\n",
    "            self.order = None  # No pending orders\n",
    "\n",
    "    def __init__(self):        \n",
    "        pass\n",
    "\n",
    "    def start(self):\n",
    "        self.order = None  # Avoid operrations on pending order\n",
    "\n",
    "    def next(self):\n",
    "        if self.order:\n",
    "            return  # pending order execution\n",
    "\n",
    "        if not self.position:  # not in the market\n",
    "            if self.data1.volume[0] >liqlimit :# and self.data1.reserve<10000000:\n",
    "                self.order = self.buy(data=self.data0,exectype=bt.Order.Market)#,size=1)\n",
    "                self.order = 'none'\n",
    "\n",
    "        elif self.order is None: # Position in Market\n",
    "            self.order = self.sell(data=self.data0,exectype=bt.Order.StopTrail,trailpercent=self.p.trailpercent,price=self.data0.open[0]) #If no price is specified, the latest close price is used\n",
    "            \n",
    "\n",
    "cerebro=initcerebro()\n",
    "cerebro.addobserver(bt.observers.BuySell)\n",
    "cerebro.addstrategy(Strategy)\n",
    "\n",
    "data0=bt.feeds.PandasData(dataname=dfbtc1.rename(columns={'o':'open','h':'high','l':'low','c':'close','v':'volume'}),openinterest=None,timeframe=bt.TimeFrame.Minutes)\n",
    "cerebro.adddata(data0)\n",
    "# data1=bt.feeds.PandasData(dataname=dfliq1.rename(columns={'o':'open','h':'high','l':'low','c':'close','v':'volume'}),openinterest=None,timeframe=bt.TimeFrame.Minutes)\n",
    "#data1=KDBFeed(sym='BTCUSDT@binance',freq=\"5Min\",table='ppttrades',fromdate=date(2021,5,1),todate=date(2021,5,21),addwhere=', side=`sell , vol>0.01',timeframe=bt.TimeFrame.Minutes )\n",
    "data1=KDBFeed(sym='BTCUSDT@binance',freq=\"5Min\",table='ppttrades',fromdate=date(2021,5,1),todate=date(2021,5,21),addwhere=', side=`sell , vol>0.01',timeframe=bt.TimeFrame.Minutes )\n",
    "cerebro.adddata(data1)\n",
    "\n",
    "backtest = cerebro.run()\n",
    "backtestres = backtest[0]\n",
    "for k in backtest[0].analyzers.ta.get_analysis():\n",
    "    print (k,dict(backtest[0].analyzers.ta.get_analysis()[k]))\n",
    "print(dict(backtest[0].analyzers.sharpe.get_analysis()))"
   ]
  },
  {
   "cell_type": "code",
   "execution_count": null,
   "metadata": {},
   "outputs": [],
   "source": [
    "def btstrat(df0,df1,lags=20,nstdl=2,nstdh=2,methodma='ma',methodstd='ma',verbose=0,plot=False):        \n",
    "\n",
    "    cerebro=initcerebro(multi=True,futures=True,fees=0.0006,margin=0.1,mult=10.)\n",
    "\n",
    "#     data0=bt.feeds.PandasData(dataname=df0.rename(columns={'o':'open','h':'high','l':'low','c':'close','v':'volume'}),openinterest=None)#,timeframe=bt.TimeFrame.Hours)\n",
    "#     cerebro.adddata(data0,name='BTCUSD_210326@binance')\n",
    "#     data1=bt.feeds.PandasData(dataname=df1.rename(columns={'o':'open','h':'high','l':'low','c':'close','v':'volume'}),openinterest=None)#,timeframe=bt.TimeFrame.Hours)\n",
    "#     cerebro.adddata(data1,name='BTCUSDT_210326@binance')\n",
    "\n",
    "    data0=KDBFeed(sym='ETHUSD_210326@binance',freq='1H',ts='exchtm',table=None, date=[date(2021,2,10),date(2021,3,25)],addwhere=', vol>0.01')\n",
    "    cerebro.adddata(data0,name='BTCUSD_210326@binance')\n",
    "    \n",
    "    data1=KDBFeed(sym='ETHUSDT_210326@binance',freq=\"1H\",table='ppttrades',addwhere=', vol>0.01',date=[date(2021,2,10),date(2021,3,25)])\n",
    "    cerebro.adddata(data1,name='BTCUSDT_210326@binance')\n",
    "\n",
    "    cerebro.addstrategy(Strategy,lags=lags,nstdh=nstdh,nstdl=nstdl,methodma=methodma,methodstd=methodstd)\n",
    "    cerebro.addsizer(Sizer10Percent)\n",
    "\n",
    "    backtest = cerebro.run(runonce=False,tradehistory=True)\n",
    "#     btres = backtest[0]\n",
    "#     for k in ['total','pnl']:#backtest[0].analyzers.ta.get_analysis():\n",
    "#         print (k,dict(backtest[0].analyzers.ta.get_analysis()[k]))\n",
    "#     print(dict(backtest[0].analyzers.sharpe.get_analysis()))\n",
    "\n",
    "#     printTradeAnalysis(cerebro, backtest[0].analyzers)\n",
    "#     print(\"amount,price,sid,symbol,value\")\n",
    "#     DF(btres.analyzers.tradelist.get_analysis()).set_index('datein')\n",
    "    \n",
    "#     DF(btres.analyzers.tradelist.get_analysis()).set_index('datein').head(2)\n",
    "#     rets=pd.DataFrame.from_dict(dict(btres.analyzers.timereturn.get_analysis()),orient='index', columns=['ret'])\n",
    "    \n",
    "    \n",
    "    if plot:\n",
    "        rcsave=plt.rcParams['figure.figsize']\n",
    "        plt.rcParams['figure.figsize']=[30, 16]\n",
    "        cerebro.plot(style='line', rowsmajor=1, rowsminor=1,volume=True, iplot=False, barup='green', bardown='grey',fmt_x_ticks = '%Y-%b-%d %H:%M',fmt_x_data = '%Y-%b-%d %H:%M')\n",
    "        plt.rcParams['figure.figsize']=rcsave\n",
    "        \n",
    "        getinds(cerebro)[0].iplot()\n",
    "    \n",
    "    return {'cerebro':cerebro,'btres':btres,'rets':rets,'nt':btres.analyzers.ta.get_analysis()['total']['closed'],'SR':btres.analyzers.sharpe.get_analysis()['sharperatio']}#,'ind':bb}\n",
    "btstrat(df0,df1,lags=100,nstdl=1,nstdh=1,plot=True)"
   ]
  },
  {
   "cell_type": "code",
   "execution_count": null,
   "metadata": {},
   "outputs": [],
   "source": [
    "\n",
    "printTradeAnalysis(cerebro, backtest[0].analyzers)\n",
    "plt.rcParams['figure.figsize']=[30, 16]\n",
    "cerebro.plot(style='line', volume=True, iplot=False, barup='green', bardown='grey') #candlestick\n",
    "plt.rcParams['figure.figsize']=[12, 12]"
   ]
  },
  {
   "cell_type": "markdown",
   "metadata": {},
   "source": [
    "# vectorbt replication using backtrader entries exits"
   ]
  },
  {
   "cell_type": "code",
   "execution_count": null,
   "metadata": {},
   "outputs": [],
   "source": [
    "\n",
    "data = backtestres.analyzers.txn.get_analysis()\n",
    "dfbacktest = pd.DataFrame.from_dict(data, orient='index', columns=['data'])\n",
    "btt = pd.DataFrame(dfbacktest.data.values.tolist(), dfbacktest.index, columns=['amount', 'price', 'sid', 'symbol', 'value'])\n",
    "btt.head()\n",
    "bt_entries_mask = btt[btt.amount > 0]\n",
    "bt_entries_mask.index = bt_entries_mask.index\n",
    "bt_exits_mask = btt[btt.amount < 0]\n",
    "bt_exits_mask.index = bt_exits_mask.index\n",
    "bt_entries = pd.Series.vbt.signals.empty_like(dfbtc1['c'])\n",
    "bt_entries.loc[bt_entries_mask.index] = True\n",
    "bt_exits = pd.Series.vbt.signals.empty_like(dfbtc1['c'])\n",
    "bt_exits.loc[bt_exits_mask.index] = True\n",
    "btp = vbt.Portfolio.from_signals(dfbtc1['o'], bt_entries, bt_exits, price=dfbtc1['o'])#.vbt.fshift(1))\n",
    "# display trades and cashflow\n",
    "btp.get_trades().records_readable\n",
    "btp.get_orders().records_readable\n",
    "btp.share_flow().replace(0,np.nan).dropna()\n",
    "btp.cash_flow().replace(0,np.nan).dropna()\n",
    "btp.stats()\n",
    "#viz\n",
    "fig = vbt.make_subplots(specs=[[{\"secondary_y\": True}]])\n",
    "fig = dfbtc1['c'].vbt.plot(trace_kwargs=dict(name='Price'), fig=fig)\n",
    "fig = bt_entries.vbt.signals.plot_as_entry_markers(dfbtc1['c'], fig=fig)\n",
    "fig = bt_exits.vbt.signals.plot_as_exit_markers(dfbtc1['c'], fig=fig)\n",
    "fig.show_svg()"
   ]
  },
  {
   "cell_type": "markdown",
   "metadata": {},
   "source": [
    "# vectorbt replication bt strategy  entries, exits calculated by vectorbt"
   ]
  },
  {
   "cell_type": "code",
   "execution_count": null,
   "metadata": {},
   "outputs": [],
   "source": [
    "\n",
    "step = 0.01  # 1%\n",
    "stops =npa([bt_trailpercent])\n",
    "vbt_entries= pd.Series.vbt.signals.empty_like(dfbtc1['c'])\n",
    "vbt_entries.loc[dfliq1[dfliq1['v'].shift(1)>liqlimit].index]=True\n",
    "ts_exits = vbt.OHLCSTEX.run(vbt_entries,dfbtc1['o'], dfbtc1['h'],dfbtc1['l'],dfbtc1['c'],ts_stop=list(stops),wait=1,stop_type=None, hit_price=None).exits\n",
    "vbt_entries, vbt_exits = pd.DataFrame.vbt.signals.clean(vbt_entries, ts_exits)\n",
    "vbtp = vbt.Portfolio.from_signals(dfbtc1['o'], vbt_entries, ts_exits, price=dfbtc1['o'])#.vbt.fshift(1))\n",
    "vbtp.stats()"
   ]
  },
  {
   "cell_type": "code",
   "execution_count": null,
   "metadata": {},
   "outputs": [],
   "source": [
    "# visualizaitons\n",
    "vbt_entries.astype(int).plot()\n",
    "bt_entries.astype(int).plot()\n",
    "fig = vbt.make_subplots(specs=[[{\"secondary_y\": True}]])\n",
    "fig = dfbtc1['o'].vbt.plot(trace_kwargs=dict(name='Price'), fig=fig)\n",
    "fig = vbt_entries.vbt.signals.plot_as_entry_markers(dfbtc1['o'], fig=fig)\n",
    "fig = vbt_exits.vbt.signals.plot_as_exit_markers(dfbtc1['o'], fig=fig)\n",
    "fig.show_svg()\n",
    "\n",
    "vbtp.get_trades().records_readable\n",
    "vbtp.get_orders().records_readable\n",
    "vbtp.share_flow().replace(0,np.nan).dropna()\n",
    "vbtp.cash_flow().replace(0,np.nan).dropna()"
   ]
  },
  {
   "cell_type": "markdown",
   "metadata": {},
   "source": [
    "# vectorization 1d ts stops"
   ]
  },
  {
   "cell_type": "code",
   "execution_count": null,
   "metadata": {},
   "outputs": [],
   "source": [
    "step = 0.001  # 1%\n",
    "stops =list(np.arange(step, 0.20, step))#npa([bt_trailpercent])+\n",
    "vbt_entries= pd.Series.vbt.signals.empty_like(dfbtc1['c'])\n",
    "\n",
    "#strategy\n",
    "vbt_entries.loc[dfliq1[dfliq1['v'].shift(1)>liqlimit].index]=True\n",
    "ts_exits = vbt.OHLCSTEX.run(vbt_entries,dfbtc1['o'],dfbtc1['h'],dfbtc1['l'],dfbtc1['c'],ts_stop=list(stops),wait=1,stop_type=None, hit_price=None).exits\n",
    "#end strategy\n",
    "\n",
    "vbt_entries, vbt_exits = pd.DataFrame.vbt.signals.clean(vbt_entries, ts_exits)\n",
    "vbtp = vbt.Portfolio.from_signals(dfbtc1['o'], vbt_entries, ts_exits, price=dfbtc1['o'])#.vbt.fshift(1))\n",
    "vbtp.final_value().plot()\n",
    "plt.show()\n",
    "vbtp.sharpe_ratio().plot(title='sharpe')"
   ]
  },
  {
   "cell_type": "markdown",
   "metadata": {},
   "source": [
    "# vectorization 2d limit"
   ]
  },
  {
   "cell_type": "code",
   "execution_count": null,
   "metadata": {},
   "outputs": [],
   "source": [
    "step = 0.005  \n",
    "stops =list(np.arange(step, 0.20, step))\n",
    "liqstep=200.\n",
    "liqlimits=np.arange(liqstep, 2000, liqstep)\n",
    "\n",
    "\n",
    "vbt_entries= pd.Series.vbt.signals.empty_like(DF(index=dfbtc1['c'].index,columns=np.arange(len(liqlimits))))\n",
    "\n",
    "#strategy\n",
    "dfentr=DF(dfliq1[['v']].shift(1).values>liqlimits,index=dfliq1['v'].index)\n",
    "vbt_entries.update(dfentr)\n",
    "vbt_entries.fillna(False,inplace=True)\n",
    "\n",
    "\n",
    "\n",
    "ts_exits = vbt.OHLCSTEX.run(vbt_entries,dfbtc1['o'],dfbtc1['h'],dfbtc1['l'],dfbtc1['c'],ts_stop=list(stops), wait=1,stop_type=None, hit_price=None).exits\n",
    "vbt_entries, vbt_exits = pd.DataFrame.vbt.signals.clean(vbt_entries, ts_exits)\n",
    "vbtp = vbt.Portfolio.from_signals(dfbtc1['o'], vbt_entries, ts_exits, price=dfbtc1['o'])#.vbt.fshift(1))\n",
    "#end strategy"
   ]
  },
  {
   "cell_type": "code",
   "execution_count": null,
   "metadata": {},
   "outputs": [],
   "source": [
    "vbtp.returns()"
   ]
  },
  {
   "cell_type": "code",
   "execution_count": null,
   "metadata": {},
   "outputs": [],
   "source": [
    "#viz\n",
    "#median, mean   strat  rolling sharpe\n",
    "ax=DF(vbtp.returns().resample('1D').sum().median(axis=1).asfreq('1D').vbt.returns().rolling_sharpe_ratio(30)).plot(alpha=0.7)\n",
    "DF(vbtp.returns().resample('1D').sum().mean(axis=1).asfreq('1D').vbt.returns().rolling_sharpe_ratio(30)).plot(ax=ax,alpha=0.7)\n",
    "\n",
    "#total heatmaps\n",
    "vbtp.final_value().subtract(10000).unstack().plot()\n",
    "vbtp.final_value().subtract(10000).unstack().vbt.heatmap()#xaxis={\"title\": 'Traits',\"tickangle\": 45}\n",
    "vbtp.sharpe_ratio().unstack().rename(columns=dict(zip(np.arange(len(liqlimits)),list(liqlimits)))).vbt.heatmap(width=800,height=800,yaxis_nticks=40)\n",
    "vbtp.final_value().subtract(10000).unstack().rename(columns=dict(zip(np.arange(len(liqlimits)),list(liqlimits)))).vbt.heatmap(width=800,height=800,yaxis_nticks=40)"
   ]
  },
  {
   "cell_type": "code",
   "execution_count": null,
   "metadata": {},
   "outputs": [],
   "source": [
    "#best params\n",
    "#ighest sharpe of rolling sharpe ratios  \n",
    "vbtp.returns().resample('1D').sum().vbt.returns().rolling_sharpe_ratio(30).vbt.returns.sharpe_ratio().argmax()\n",
    "#vbtp.returns().T.index[vbtp.returns().resample('1D').sum().vbt.returns.sharpe_ratio().argmax()]\n",
    "#highest minimal rolling sharpe\n",
    "vbtp.returns().resample('1D').sum().vbt.returns().rolling_sharpe_ratio(30).min().argmax()"
   ]
  },
  {
   "cell_type": "code",
   "execution_count": null,
   "metadata": {},
   "outputs": [],
   "source": [
    "#vbtp.returns().resample('1D').sum().median(axis=1)\n",
    "vbtp.returns()[0.1][1].resample('1D').sum().vbt.returns().sharpe_ratio()\n",
    "vbtp.returns().resample('1D').sum().median(axis=1).asfreq('1D').vbt.returns().sharpe_ratio()\n",
    "vbtp.returns()[0.005][0].resample('1D').sum().vbt.returns().sharpe_ratio()"
   ]
  },
  {
   "cell_type": "code",
   "execution_count": null,
   "metadata": {},
   "outputs": [],
   "source": [
    "#DF(vbtp.returns()[0.1][1].resample('1D').sum().vbt.returns().rolling_sharpe_ratio(30)).join(dfbtc['c']).plot2(1,'c')\n",
    "DF(vbtp.returns()[0.1][1].resample('1D').sum().vbt.returns().daily()).join(dfbtc['c']).plot2(1,'c')\n",
    "DF(vbtp.returns()[0.1][1].resample('1D').sum().vbt.returns().cumulative()).join(dfbtc['c']).plot2(1,'c')"
   ]
  },
  {
   "cell_type": "code",
   "execution_count": null,
   "metadata": {},
   "outputs": [],
   "source": [
    "ax=DF(vbtp.returns()[0.1][1].resample('1D').sum().vbt.returns().rolling_sharpe_ratio(30)).plot()  \n",
    "ax=DF(vbtp.returns()[0.005][0].resample('1D').sum().vbt.returns().rolling_sharpe_ratio(30)).plot(ax=ax,alpha=0.7)\n",
    "ax=DF(vbtp.returns()[0.085][2].resample('1D').sum().vbt.returns().rolling_sharpe_ratio(30)).plot(ax=ax,alpha=0.7)\n",
    "ax=DF(vbtp.returns()[0.13][2].resample('1D').sum().vbt.returns().rolling_sharpe_ratio(30)).plot(ax=ax,alpha=0.7)\n",
    "ax=DF(vbtp.returns()[0.065][0].resample('1D').sum().vbt.returns().rolling_sharpe_ratio(30)).plot(ax=ax,alpha=0.7)\n",
    "\n",
    "#ax=DF(vbtp.returns().resample('1D').sum().median(axis=1).asfreq('1D').vbt.returns().rolling_sharpe_ratio(30)).plot(ax=ax,alpha=0.7)\n",
    "\n"
   ]
  },
  {
   "cell_type": "markdown",
   "metadata": {},
   "source": [
    "## attemps at geenralization for n params,   not efficient  entries contstruction. \n",
    "\n",
    "import itertools\n",
    "\n",
    "def f(s):\n",
    "    print()\n",
    "    print(s.head())\n",
    "    raise 1\n",
    "    \n",
    "entries.apply(f,entries)\n",
    "\n",
    "liqstep=200\n",
    "liqlimits=np.arange(liqstep, 2000, liqstep)\n",
    "\n",
    "step = 0.005  \n",
    "ts_stops =list(np.arange(step, 0.20, step))\n",
    "\n",
    "params={\n",
    "    'liqlimit':liqlimits\n",
    "    #'ts_stop':ts_stops\n",
    "}\n",
    "\n",
    "#list(itertools.product(*params.values()))\n",
    "entries=pd.DataFrame(False,columns=pd.MultiIndex.from_tuples(  list(itertools.product(*params.values())) ,names=list(params.keys()) ),index=dfbtc1['c'].index)\n",
    "#entries=pd.DataFrame(columns=pd.MultiIndex.from_tuples([len(params)*(np.nan,)],names=list(params.keys()),index=dfbtc1['c'].index)\n",
    "#entries=pd.DataFrame(columns=pd.MultiIndex.from_tuples([len(params)*(np.nan,)],names=['p'+str(i) for i in range(nparams)]),index=dfbtc1['c'].index)\n",
    "entries.head()\n",
    "# entry strategy\n",
    "dfentr=DF((dfliq1[['v']].shift(1).values>params['liqlimit']),index=dfliq1['v'].index)\n",
    "dfentr.astype(float).sum().sum()\n",
    "entries.update(dfentr,errors='raise')                                                                                                     \n",
    "\n",
    "entries.sum().sum()\n",
    "entries.astype(float).plot()\n",
    "# exit strategy\n",
    "exits=vbt.OHLCSTEX.run(entries,dfbtc1['o'],dfbtc1['h'],dfbtc1['l'],dfbtc1['c'],ts_stop=ts_stops, wait=1,stop_type=None, hit_price=None).exits\n",
    "exits.head()\n",
    "entries,exits=pd.DataFrame.vbt.signals.clean(entries, exits)\n",
    "entries.head()\n",
    "# entry is on 'open'\n",
    "portr=vbt.Portfolio.from_signals(dfbtc1['o'], entries, exits, price=dfbtc1['o']).returns()#.head()#.resample('1D').sum().vbt.returns().rolling_sharpe_ratio(30).head()\n",
    "\n",
    "portr.head()\n",
    "\n",
    "# for i in range(len(params)):\n",
    "#     portr.columns=portr.columns.droplevel()\n",
    "\n",
    "#portr.head()\n",
    "# param fix plots    \n",
    "    \n",
    "fixparams={'liqlimit':200,'ohlcstex_ts_stop':0.005}\n",
    "\n",
    "#dff=portr.loc[:,(portr.columns.get_level_values('param1')==5)&(portr.columns.get_level_values('param0')==1)]#.head().columns.droplevel('param0')\n",
    "#dff.columns=dff.columns.droplevel(['param0','param1'],axis='columns')\n",
    "#portr.loc[:,(portr.columns.get_level_values('param1')==5)&(portr.columns.get_level_values('param0')==1)].droplevel(['param0','param1'],axis='columns')#.vbt.returns.daily().vbt.returns.sharpe_ratio().unstack().vbt.heatmap()\n",
    "\n",
    "#def rolling_daily_sharpe_ratio_plot(df,fixedparams,window=30):\n",
    "def dffixparams(df,fixparams):\n",
    "    cond=True\n",
    "    for k,v in fixparams.items():\n",
    "        print(f\"{k,v}\")\n",
    "        cond=(df.columns.get_level_values(k)==v)&cond\n",
    "    print(f\"cond={cond}\")\n",
    "    return df.loc[:,cond]#.droplevel(list(fixparams.keys()),axis='columns')\n",
    "\n",
    "dffixparams(portr,fixparams).vbt.returns.daily().vbt.returns.rolling_sharpe_ratio(100).plot()#.unstack().vbt.heatmap()\n",
    "    \n",
    "\n",
    "\n",
    "raise 1\n",
    "\n",
    "#strategy\n",
    "dfentr=DF((dfliq1[['v']].shift(1).values>liqlimits1)&(dfliq1[['v']].shift(1).values<liqlimits2),index=dfliq1['v'].index)\n",
    "vbt_entries.update(dfentr)                                                                                                     \n",
    "vbt_entries.fillna(False,inplace=True)\n",
    "\n",
    "\n",
    "ts_exits = vbt.OHLCSTEX.run(vbt_entries,dfbtc1['o'],dfbtc1['h'],dfbtc1['l'],dfbtc1['c'],ts_stop=list(tsstops), wait=1,stop_type=None, hit_price=None).exits\n",
    "vbt_entries, vbt_exits = pd.DataFrame.vbt.signals.clean(vbt_entries, ts_exits)\n",
    "vbtp = vbt.Portfolio.from_signals(dfbtc1['o'], vbt_entries, ts_exits, price=dfbtc1['o'])#.vbt.fshift(1))\n",
    "#end strategy\n",
    "\n",
    "\n",
    "#viz\n",
    "#median, mean   strat  rolling sharpe\n",
    "ax=DF(vbtp.returns().resample('1D').sum().median(axis=1).asfreq('1D').vbt.returns().rolling_sharpe_ratio(30)).plot(alpha=0.7)\n",
    "DF(vbtp.returns().resample('1D').sum().mean(axis=1).asfreq('1D').vbt.returns().rolling_sharpe_ratio(30)).plot(ax=ax,alpha=0.7)\n",
    "\n",
    "#heatmaps\n",
    "vbtp.final_value().subtract(icap).unstack().plot()\n",
    "vbtp.final_value().subtract(icap).unstack().vbt.heatmap()#xaxis={\"title\": 'Traits',\"tickangle\": 45}\n",
    "vbtp.sharpe_ratio().unstack().rename(columns=dict(zip(np.arange(len(liqlimits)),list(liqlimits)))).vbt.heatmap(width=800,height=800,yaxis_nticks=40)\n",
    "vbtp.final_value().subtract(icap).unstack().rename(columns=dict(zip(np.arange(len(liqlimits)),list(liqlimits)))).vbt.heatmap(width=800,height=800,yaxis_nticks=40)"
   ]
  },
  {
   "cell_type": "code",
   "execution_count": null,
   "metadata": {},
   "outputs": [],
   "source": []
  }
 ],
 "metadata": {
  "kernelspec": {
   "display_name": "Python 3 (ipykernel)",
   "language": "python",
   "name": "python3"
  },
  "language_info": {
   "codemirror_mode": {
    "name": "ipython",
    "version": 3
   },
   "file_extension": ".py",
   "mimetype": "text/x-python",
   "name": "python",
   "nbconvert_exporter": "python",
   "pygments_lexer": "ipython3",
   "version": "3.8.8"
  }
 },
 "nbformat": 4,
 "nbformat_minor": 4
}
