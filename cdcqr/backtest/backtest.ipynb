{
 "cells": [
  {
   "cell_type": "code",
   "execution_count": null,
   "id": "25b6c3ca-2d71-4ff7-8b31-5ed2538a31f3",
   "metadata": {
    "slideshow": {
     "slide_type": "subslide"
    },
    "tags": [
     "test"
    ]
   },
   "outputs": [],
   "source": [
    "from cdcqr.common.config import CDQ_REPO_DIR\n",
    "from cdcqr.common.utils import load_df, save_df\n",
    "import sys\n",
    "sys.path.append('/home/user/python-libs')\n",
    "import cdcqr.backtest.utils as bt_util\n",
    "from importlib import reload"
   ]
  },
  {
   "cell_type": "code",
   "execution_count": null,
   "id": "39399879-0e98-4023-9d73-21ea5d00f66c",
   "metadata": {},
   "outputs": [],
   "source": [
    "reload(bt_util)"
   ]
  },
  {
   "cell_type": "code",
   "execution_count": null,
   "id": "dd95cfb0-e4db-4cb3-97b5-888fabc302b3",
   "metadata": {},
   "outputs": [],
   "source": [
    "from cdcqr.backtest.utils import initcerebro"
   ]
  },
  {
   "cell_type": "code",
   "execution_count": null,
   "id": "c276e4f5-5cb4-4ce9-bf06-329137097c39",
   "metadata": {},
   "outputs": [],
   "source": [
    "from ct.utils import *\n",
    "from ct.fs import *\n",
    "from ct.alfafactory import *"
   ]
  },
  {
   "cell_type": "code",
   "execution_count": null,
   "id": "5e320faa-133b-4ef4-ab68-e8c55b570530",
   "metadata": {},
   "outputs": [],
   "source": [
    "API_KEY = '1wvlrc0JsEMIWF6enI69cWiOojq'\n",
    "\n",
    "def glassnode(url='https://api.glassnode.com/v1/metrics/transactions/transfers_volume_to_exchanges_mean',a='BTC',i='10m',s=1629500000):\n",
    "    res = requests.get(url,params={'a': a,'i':i,s:s,'api_key': API_KEY}) #, 's':1629500000\n",
    "    df = pd.read_json(res.text, convert_dates=['t']).set_index('t') \n",
    "    return df\n",
    "                       \n",
    "dfgsi=glassnode('https://api.glassnode.com/v1/metrics/transactions/transfers_volume_to_exchanges_mean',a='BTC',i='10m')[::-1]\n",
    "#dfgsbtc=glassnode('https://api.glassnode.com/v1/metrics/market/price_usd_close',a='BTC',i='10m',s=1629500000)[::-1]"
   ]
  },
  {
   "cell_type": "code",
   "execution_count": null,
   "id": "52739f58-0d49-4da6-bbc7-58f257567efb",
   "metadata": {},
   "outputs": [],
   "source": [
    "dfgsi.head()"
   ]
  },
  {
   "cell_type": "code",
   "execution_count": null,
   "id": "0b4c30c1-87fd-4849-9d91-be575058b25b",
   "metadata": {},
   "outputs": [],
   "source": [
    "! pip install pandas -U"
   ]
  },
  {
   "cell_type": "code",
   "execution_count": null,
   "id": "867ff34e-3a74-4cbe-8aa2-34be2c491433",
   "metadata": {},
   "outputs": [],
   "source": [
    "df0 = load_df('df0')\n",
    "df0.columns = ['o','c','h','l']\n",
    "df0['v'] = df0['h'].astype(int)\n",
    "df0 = df0.resample('15Min').last().ffill()\n",
    "display(df0.head(5))"
   ]
  },
  {
   "cell_type": "code",
   "execution_count": null,
   "id": "8fde61ae-bceb-4c3e-89e7-046c05f42bd2",
   "metadata": {},
   "outputs": [],
   "source": [
    "2021-10-12 12:14:52,414 [CRITICAL] 8544 26736 2605667408: |notify_order|Ref: 1|OrdType: 1|OrdType: Sell|Status: 1|Status: Submitted|Size: -0.1|Price: None|Price Limit: None|TrailAmount: None|TrailPercent: None|ExecType: 0|ExecType: Market|CommInfo: None|End of Session: 736129.9999999999|Info: AutoOrderedDict()|Broker: None|Alive: True|position=-0.1|brokerpos=-0.1|c=690.405|o=690.315|order=Ref: 1|OrdType: 1|OrdType: Sell|Status: 1|Status: Submitted|Size: -0.1|Price: None|Price Limit: None|TrailAmount: None|TrailPercent: None|ExecType: 0|ExecType: Market|CommInfo: None|End of Session: 736129.9999999999|Info: AutoOrderedDict()|Broker: None|Alive: True \n"
   ]
  },
  {
   "cell_type": "code",
   "execution_count": null,
   "id": "b1bc8793-d462-4ebf-aea7-41b01fcc2157",
   "metadata": {
    "tags": []
   },
   "outputs": [],
   "source": [
    "BACKTEST=True\n",
    "PRINTCANDLE=True\n",
    "class Strategy(bt.Strategy):\n",
    "    params = (('betsize',0.1),('lags', 20),('delay',4),('trailpercent', 3),('inflowlimit',5),('inflowlimit2',12),('nstd',2))# ('entryz', 1.2), ('exitz',1.2),('methodma','ewm'),('methodstd','ewm'),('trailpercent', 2),('liqlimit',35))\n",
    "    \n",
    "    def notify_order(self, order): \n",
    "        if not order.alive():\n",
    "            self.order = None  # No pending orders\n",
    "        logging.critical(f\"|notify_order|{order}|position={self.position.size}|brokerpos={self.broker.getposition(self.datas[0]).size}|c={self.data0.close[0]}|o={self.data0.open[0]}\")\n",
    "         #The logic in the strategy has to remember when a position was entered, probably in notify_order by checking the date from the notified order\n",
    "        #order.executed.dt which can be translated to a datetime instance like this for example: order.data.num2date(order.executed.dt)`\n",
    "        #And then checking when the data hits a month later self.data.datetime, where you can get instances with self.data.datetime.datetime() for example.\n",
    "    def __init__(self):\n",
    "        print(\"strat init()\")\n",
    "        self.order = None\n",
    "        #self.lastliq=DummyIndicator()\n",
    "         \n",
    "        \n",
    "    def start(self):\n",
    "        print(\"strat start()\")\n",
    "        self.order = None  # Avoid operrations on pending order\n",
    "\n",
    "    def next(self):\n",
    "        if not BACKTEST:\n",
    "            if self.live_data==False:\n",
    "                return\n",
    "        if self.order:\n",
    "            return  # pending order execution\n",
    "\n",
    "        curdt=bt.num2date(self.data0.datetime[0])\n",
    "        o,h,l,c,v=self.data0.open[0],self.data0.high[0],self.data0.low[0],self.data0.close[0],self.data0.volume[0]\n",
    "        if PRINTCANDLE:print(f\"curdt={curdt}\")\n",
    "        #dfpn=dfcq['btc-all_exchange-exchange-flows-netflow']['netflow_total']#.loc[:curdt]#dfcq['']#qbars(sym='BTCUSDT@binance',freq='5Min',ts='exchtm',table='pptliqs',date=[(curdt-pd.Timedelta(\"10M\")).date(),dt.today().date()],addwhere=', side=`sell , vol>0.01',verbose=0)\n",
    "        \n",
    "        \n",
    "        #dfpn=dfcq['btc-all_exchange-exchange-flows-inflow']['inflow_mean']#.loc[:curdt]#dfcq['']#qbars(sym='BTCUSDT@binance',freq='5Min',ts='exchtm',table='pptliqs',date=[(curdt-pd.Timedelta(\"10M\")).date(),dt.today().date()],addwhere=', side=`sell , vol>0.01',verbose=0)\n",
    "        dfpn=dfgsi#[::-1]\n",
    "        dfp=dfpn[dfpn.index<curdt].head(self.p.lags)['v']\n",
    "        #ipdb.set_trace()\n",
    "        \n",
    "        #display(dfp)\n",
    "        #display(dfn)\n",
    "\n",
    "#        df5m=df5m.resample(\"10Min\").last()#10Min?! 5Min?\n",
    "        if PRINTCANDLE:print(f\"\\n {dt.now()} next() self.dt={self.datetime.datetime(0)} data0close={self.data0.close[0]} data1close={self.data1.close[0] if hasattr(self,'data1') else 'not present'}  data1close={self.data2.close[0] if hasattr(self,'data2') else 'not present'}  \\n\")    \n",
    "        if PRINTCANDLE:print(f\"data0 get5={self.data0.close.get(size=5) if hasattr(self,'data0') else 'not present'}\")\n",
    "\n",
    "        if self.position.size==0: # not in the market\n",
    "#             if len(dfp) and dfp.iloc[0]>dfp.mean():#['netflow_total'] >df5m.iloc[-1]['netflow_total'].mean():#self.p.liqlimit :# and self.data1.reserve<10000000:\n",
    "#                 logging.critical(f\"dfp={dfp}\")\n",
    "#                 self.order = self.sell(data=self.data0,exectype=bt.Order.Market,size=self.p.betsize)\n",
    "#                 logging.critical(f\"{self.order}\")\n",
    "#                 self.order = None\n",
    "            #display(dfn)\n",
    "            #print(f\"dfn.iloc[0]<dfn.mean(){dfn.iloc[0]}<{dfn.mean()}\")\n",
    "            if PRINTCANDLE:print(f\"dfp.iloc[0] {dfp.iloc[0]}\")\n",
    "            #if len(dfn) and dfn.iloc[0]<dfn.mean()-self.p.nstd*dfn.std():#['netflow_total'] >df5m.iloc[-1]['netflow_total'].mean():#self.p.liqlimit :# and self.data1.reserve<10000000:\n",
    "            #ipdb.set_trace()\n",
    "            \n",
    "            ##iloc==4 cuz 40 minutes delay\n",
    "            \n",
    "            if len(dfp)>5 and dfp.iloc[self.p.delay]>self.p.inflowlimit and dfp.iloc[self.p.delay]<self.p.inflowlimit2 :#dfn.mean()-self.p.nstd*dfn.std():#['netflow_total'] >df5m.iloc[-1]['netflow_total'].mean():#self.p.liqlimit :# and self.data1.reserve<10000000:\n",
    "            # and  momentum is not strong   use rsi from bt?\n",
    "            #display(dfn)\n",
    "                #self.order = self.buy(data=self.data0,exectype=bt.Order.Market,size=self.p.betsize)\n",
    "                self.order = self.sell(data=self.data0,exectype=bt.Order.Market,size=self.p.betsize)\n",
    "                \n",
    "                logging.critical(f\"{self.order}\")\n",
    "                self.order = None\n",
    "\n",
    "        elif self.order is None: # Position in Market\n",
    "            #self.order = self.sell(data=self.data0,exectype=bt.Order.StopTrail,trailpercent=self.p.trailpercent/100,price=self.data0.open[0],size=self.p.betsize,params={'reduceOnly':True,'callbackRate':self.p.trailpercent}) #If no price is specified, the latest close price is used\n",
    "            self.order = self.buy(data=self.data0,exectype=bt.Order.StopTrail,trailpercent=self.p.trailpercent/100,price=self.data0.open[0],size=self.p.betsize,params={'reduceOnly':True,'callbackRate':self.p.trailpercent}) #If no price is specified, the latest close price is used\n",
    "            \n",
    "            logging.critical(f\"{self.order}\")\n",
    "            #close_position = binance.create_order(symbol=symbol, type=\"MARKET\", side=\"buy\", amount=pos['positionAmt'], params={\"reduceOnly\": True}) \n",
    "\n",
    "    def notify_data(self, data, status, *args, **kwargs):\n",
    "        if data._getstatusname(status) == 'LIVE':\n",
    "            self.live_data = True\n",
    "        else:\n",
    "            self.live_data = False\n",
    "\n",
    "\n",
    "    def log(self,txt,dummy=True):\n",
    "        logging.debug(txt)\n"
   ]
  },
  {
   "cell_type": "code",
   "execution_count": null,
   "id": "854d682b-b6dd-4fad-9e78-ffd0a31d2348",
   "metadata": {},
   "outputs": [],
   "source": [
    "        \n",
    "def btstrat(df0,lags=20,nstd=2,trailpercent=3,inflowlimit=5,inflowlimit2=12,delay=4,methodma='ma',methodstd='ma',verbose=0,plot=False):        \n",
    "\n",
    "    cerebro=initcerebro(multi=False,futures=True,fees=0.0006,margin=0.1)#,margin=0.1,mult=10.)fees=0.0006\n",
    "    #df0=dfcq['btc-binance-market-data-price-usd'].loc['2021'].rename(columns={'price_usd_open':'o','price_usd_high':'h','price_usd_low':'l','price_usd_close':'c'})[::-1]\n",
    "    data0=bt.feeds.PandasData(dataname=df0.rename(columns={'o':'open','h':'high','l':'low','c':'close','v':'volume'}),openinterest=None,timeframe=bt.TimeFrame.Minutes,compression=1)\n",
    "    cerebro.adddata(data0,name='BTCUSD@cq')\n",
    "#   data1=bt.feeds.PandasData(dataname=df1.rename(columns={'o':'open','h':'high','l':'low','c':'close','v':'volume'}),openinterest=None)#,timeframe=bt.TimeFrame.Hours)\n",
    "#   cerebro.adddata(data1,name='BTCUSDT_210326@binance')\n",
    "\n",
    "#    data0=KDBFeed(sym='ETHUSD_210326@binance',freq='1H',ts='exchtm',table=None, date=[date(2021,2,10),date(2021,3,25)],addwhere=', vol>0.01')\n",
    "#    cerebro.adddata(data0,name='BTCUSD_210326@binance')\n",
    "    \n",
    "#    data1=KDBFeed(sym='ETHUSDT_210326@binance',freq=\"1H\",table='ppttrades',addwhere=', vol>0.01',date=[date(2021,2,10),date(2021,3,25)])\n",
    "#    cerebro.adddata(data1,name='BTCUSDT_210326@binance')\n",
    "\n",
    "    cerebro.addstrategy(Strategy,lags=lags,nstd=nstd,trailpercent=trailpercent,inflowlimit=inflowlimit,inflowlimit2=inflowlimit2,delay=delay)#,nstdh=nstdh,nstdl=nstdl,methodma=methodma,methodstd=methodstd)\n",
    "    #cerebro.addsizer(Sizer10Percent)\n",
    "\n",
    "    backtest = cerebro.run(runonce=False,tradehistory=True)\n",
    "    btres = backtest[0]\n",
    "    \n",
    "    rets=pd.DataFrame.from_dict(dict(btres.analyzers.timereturn.get_analysis()),orient='index', columns=['ret'])\n",
    "    if plot:\n",
    "        \n",
    "        for k in ['total','pnl']:#backtest[0].analyzers.ta.get_analysis():\n",
    "            print (k,dict(backtest[0].analyzers.ta.get_analysis()[k]))\n",
    "        print(dict(backtest[0].analyzers.sharpe.get_analysis()))\n",
    "\n",
    "        printTradeAnalysis(cerebro, backtest[0].analyzers)\n",
    "        print(\"amount,price,sid,symbol,value\")\n",
    "        display(DF(btres.analyzers.tradelist.get_analysis()).set_index('datein'))\n",
    "        \n",
    "        rcsave=plt.rcParams['figure.figsize']\n",
    "        plt.rcParams['figure.figsize']=[30, 16]\n",
    "        cerebro.plot(style='line', rowsmajor=1, rowsminor=1,volume=True, iplot=False, barup='green', bardown='grey',fmt_x_ticks = '%Y-%b-%d %H:%M',fmt_x_data = '%Y-%b-%d %H:%M')\n",
    "        plt.rcParams['figure.figsize']=rcsave\n",
    "        \n",
    "        #getinds(cerebro)[0].iplot()\n",
    "    try:\n",
    "        nt=btres.analyzers.ta.get_analysis()['total']['closed']\n",
    "    except:\n",
    "        nt=0\n",
    "    try:\n",
    "        sr=btres.analyzers.sharpe.get_analysis()['sharperatio']\n",
    "    except:\n",
    "        sr=0\n",
    "    return {'cerebro':cerebro,'btres':btres,'rets':rets,'nt':nt,'SR':sr}#,'ind':bb}\n",
    "df0=qbars('BTCUSDT@binance',freq=\"1Min\",table='ppttrades',date=[date(2021,1,1),date(2021,8,10)],addwhere=', vol>0.01')\n",
    "#df0['volume']=1\n",
    "btstrat(df0,lags=200,inflowlimit=5,inflowlimit2=12,trailpercent=3,delay=0,plot=True)"
   ]
  },
  {
   "cell_type": "code",
   "execution_count": null,
   "id": "476eaaeb-39b7-4ae1-a5ae-e6f0553044d4",
   "metadata": {},
   "outputs": [],
   "source": [
    "cerebro=initcerebro(multi=False,futures=True,fees=0.0006,margin=0.1)#,margin=0.1,mult=10.)fees=0.0006"
   ]
  },
  {
   "cell_type": "code",
   "execution_count": null,
   "id": "57f67d09-e2ce-489d-882d-4d77f064c59a",
   "metadata": {},
   "outputs": [],
   "source": [
    "data0=bt.feeds.PandasData(dataname=df0.rename(columns={'o':'open','h':'high','l':'low','c':'close','v':'volume'}),openinterest=None,timeframe=bt.TimeFrame.Minutes,compression=1)"
   ]
  },
  {
   "cell_type": "code",
   "execution_count": null,
   "id": "0af1d43e-8cb7-4dcf-82c4-838a21e7f94a",
   "metadata": {},
   "outputs": [],
   "source": [
    "cerebro.adddata(data0,name='BTCUSD@cq')"
   ]
  },
  {
   "cell_type": "code",
   "execution_count": null,
   "id": "3092b13e-bcc5-43a0-8c66-60ffa96f629b",
   "metadata": {},
   "outputs": [],
   "source": [
    "lags=20\n",
    "nstd=2\n",
    "trailpercent=3\n",
    "inflowlimit=5\n",
    "inflowlimit2=12\n",
    "delay=4\n",
    "methodma='ma'\n",
    "methodstd='ma'\n",
    "verbose=0\n",
    "cerebro.addstrategy(Strategy,lags=lags,nstd=nstd,trailpercent=trailpercent,inflowlimit=inflowlimit,inflowlimit2=inflowlimit2,delay=delay)#,nstdh=nstdh,nstdl=nstdl,methodma=methodma,methodstd=methodstd)\n",
    "    #cerebro.addsizer(Sizer10Percent)\n"
   ]
  },
  {
   "cell_type": "code",
   "execution_count": null,
   "id": "f0fe3fc3-0892-49e5-bfb7-fb2422f49bbe",
   "metadata": {
    "tags": []
   },
   "outputs": [],
   "source": [
    "backtest = cerebro.run(runonce=False,tradehistory=True)"
   ]
  },
  {
   "cell_type": "code",
   "execution_count": null,
   "id": "3eeeb5a8-cfce-4390-945d-99b034efa322",
   "metadata": {},
   "outputs": [],
   "source": [
    "backtest"
   ]
  },
  {
   "cell_type": "code",
   "execution_count": null,
   "id": "47645d2c-4dc9-48d0-abfa-37fed5c06bef",
   "metadata": {},
   "outputs": [],
   "source": [
    "btres = backtest[0]\n",
    "    \n",
    "rets=pd.DataFrame.from_dict(dict(btres.analyzers.timereturn.get_analysis()),orient='index', columns=['ret'])"
   ]
  },
  {
   "cell_type": "code",
   "execution_count": null,
   "id": "30165977-9f88-4447-8ae7-9d3f57f4dc1f",
   "metadata": {},
   "outputs": [],
   "source": [
    "backtest[0].analyzers.ta.get_analysis()"
   ]
  },
  {
   "cell_type": "code",
   "execution_count": null,
   "id": "3442eb5c-2094-4597-8318-a81aefec8941",
   "metadata": {},
   "outputs": [],
   "source": [
    "plot=True\n",
    "if plot:\n",
    "\n",
    "    for k in ['total']:#backtest[0].analyzers.ta.get_analysis():\n",
    "        print (k,dict(backtest[0].analyzers.ta.get_analysis()[k]))\n",
    "    print(dict(backtest[0].analyzers.sharpe.get_analysis()))\n",
    "\n",
    "    printTradeAnalysis(cerebro, backtest[0].analyzers)\n",
    "    print(\"amount,price,sid,symbol,value\")\n",
    "    display(DF(btres.analyzers.tradelist.get_analysis()).set_index('datein'))\n",
    "\n",
    "    rcsave=plt.rcParams['figure.figsize']\n",
    "    plt.rcParams['figure.figsize']=[30, 16]\n",
    "    cerebro.plot(style='line', rowsmajor=1, rowsminor=1,volume=True, iplot=False, barup='green', bardown='grey',fmt_x_ticks = '%Y-%b-%d %H:%M',fmt_x_data = '%Y-%b-%d %H:%M')\n",
    "    plt.rcParams['figure.figsize']=rcsave\n"
   ]
  },
  {
   "cell_type": "code",
   "execution_count": null,
   "id": "e1f161de-ed71-453a-b8e8-96d107690b41",
   "metadata": {},
   "outputs": [],
   "source": [
    "backtest[0].analyzers.ta.get_analysis().keys()"
   ]
  }
 ],
 "metadata": {
  "kernelspec": {
   "display_name": "Python 3 (ipykernel)",
   "language": "python",
   "name": "python3"
  },
  "language_info": {
   "codemirror_mode": {
    "name": "ipython",
    "version": 3
   },
   "file_extension": ".py",
   "mimetype": "text/x-python",
   "name": "python",
   "nbconvert_exporter": "python",
   "pygments_lexer": "ipython3",
   "version": "3.8.8"
  }
 },
 "nbformat": 4,
 "nbformat_minor": 5
}
