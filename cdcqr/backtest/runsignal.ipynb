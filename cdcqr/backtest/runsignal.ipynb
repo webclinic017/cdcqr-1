{
 "cells": [
  {
   "cell_type": "code",
   "execution_count": null,
   "id": "4953d826-3272-487e-946a-f9684722ef48",
   "metadata": {},
   "outputs": [],
   "source": [
    "from ct.alfafactory import runsignal\n",
    "import sys\n",
    "sys.path.append('/github/cryptoderiv-quant/')"
   ]
  },
  {
   "cell_type": "code",
   "execution_count": null,
   "id": "36895f95-0a9d-4bee-bcb9-77c76795efce",
   "metadata": {},
   "outputs": [],
   "source": [
    "price=qbars(\"ETH-PERPETUAL@deribit\",freq='1H',date=[date(2021,1,1),date(2021,10,1)]).loc[:'2021.10.01 00:20:00']\n",
    "\n",
    "glass=glassnode('metrics~transactions~transfers_volume_to_exchanges_mean',a='ETH',i='1h',s='2021-01-01',price=False).loc[:'2021.10.01 00:20:00'].resample(\"1H\").last().ffill()['v'].shift(2)"
   ]
  },
  {
   "cell_type": "code",
   "execution_count": null,
   "id": "bda5d7a7-bc87-41c7-8a31-ffda786b0978",
   "metadata": {},
   "outputs": [],
   "source": []
  },
  {
   "cell_type": "code",
   "execution_count": null,
   "id": "58f7700a-0612-4b99-a876-ae18a22c9c34",
   "metadata": {},
   "outputs": [],
   "source": []
  },
  {
   "cell_type": "code",
   "execution_count": null,
   "id": "a512a549-57f5-41a9-b479-a42c087ca447",
   "metadata": {},
   "outputs": [],
   "source": []
  }
 ],
 "metadata": {
  "kernelspec": {
   "display_name": "Python 3 (ipykernel)",
   "language": "python",
   "name": "python3"
  },
  "language_info": {
   "codemirror_mode": {
    "name": "ipython",
    "version": 3
   },
   "file_extension": ".py",
   "mimetype": "text/x-python",
   "name": "python",
   "nbconvert_exporter": "python",
   "pygments_lexer": "ipython3",
   "version": "3.8.8"
  }
 },
 "nbformat": 4,
 "nbformat_minor": 5
}
