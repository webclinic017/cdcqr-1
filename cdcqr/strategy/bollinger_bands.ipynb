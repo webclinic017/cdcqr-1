{
 "cells": [
  {
   "cell_type": "code",
   "execution_count": null,
   "id": "b76d6443-e020-4bf7-8e69-d877e1b49eaa",
   "metadata": {},
   "outputs": [],
   "source": [
    "import pandas as pd\n",
    "import numpy as np\n",
    "from cdcqr.common.config import LOCAL_DATA_DIR\n",
    "from cdcqr.common.utils import load_df, save, resample_pv\n",
    "from cdcqr.common.stats_utils import remove_outlier\n",
    "import sys\n",
    "sys.path.append('/github/cryptoderiv-quant/')\n",
    "import matplotlib.pyplot as plt\n",
    "%matplotlib inline\n",
    "from cdcqr.backtest.utils import pos2pnl\n",
    "\n",
    "from cdcqr.backtest.utils import signal_backtester_light"
   ]
  },
  {
   "cell_type": "code",
   "execution_count": null,
   "id": "b42a845f-6930-48a7-bd9e-8a25d43765a6",
   "metadata": {},
   "outputs": [],
   "source": [
    "from ct.alfafactory import runsignallight\n",
    "from ct.fs import addma"
   ]
  },
  {
   "cell_type": "code",
   "execution_count": null,
   "id": "acdad3b5-e79d-4b3e-9117-ce546b1fe28f",
   "metadata": {},
   "outputs": [],
   "source": [
    "a1 = 'BTCUSD_PERP@binance'"
   ]
  },
  {
   "cell_type": "code",
   "execution_count": null,
   "id": "b88cd110-225e-4d7c-b749-7613dd54b439",
   "metadata": {},
   "outputs": [],
   "source": [
    "df_btc = load_df(a1)\n",
    "df_btc.head()"
   ]
  },
  {
   "cell_type": "code",
   "execution_count": null,
   "id": "0e8cfa0d-71ac-4d35-9dac-79edf1ea0cd1",
   "metadata": {},
   "outputs": [],
   "source": [
    "res=[]\n",
    "for freq in ['1Min', '3Min', '5Min', '10Min', '30Min']:\n",
    "    price = df_btc['c'].resample(freq).last().to_frame()\n",
    "    for lbw in [5,10,20,30,60,120]:\n",
    "        price['ma'] = price['c'].rolling(lbw).mean()\n",
    "        for nstd in [2,3,4]:\n",
    "            price['std'] = price['c'].rolling(lbw).std()\n",
    "            price['hi'] = price['ma']+nstd*price['std']\n",
    "            price['lo'] = price['ma']-nstd*price['std']\n",
    "            for short in [True, False]:\n",
    "                if short:\n",
    "                    signal = price['c']>price['hi']\n",
    "                else:\n",
    "                    signal = price['c']<price['lo']\n",
    "                num_signal = signal.sum()\n",
    "                \n",
    "                for n in [100,200,500,1000]:\n",
    "                    ressig=runsignallight(price,signal=signal,n=n,short=short, fees=0.0007)\n",
    "                    resd={\"freq\":freq, \"lbw\":lbw, 'short':short,'nstd':nstd,'n':n,\"p\":ressig, 'num_signal':num_signal}        \n",
    "                    res.append(resd)"
   ]
  },
  {
   "cell_type": "code",
   "execution_count": null,
   "id": "5f4571f7-65a7-433a-bb86-9006c2aedf01",
   "metadata": {},
   "outputs": [],
   "source": [
    "pd.DataFrame(res).query('num_signal>50').groupby(['nstd','freq','lbw'])['p'].mean()"
   ]
  },
  {
   "cell_type": "code",
   "execution_count": null,
   "id": "69fda439-e4cb-4c08-bc8d-68211c463bb8",
   "metadata": {},
   "outputs": [],
   "source": [
    "pd.DataFrame(res).query('num_signal>50').pv()"
   ]
  },
  {
   "cell_type": "code",
   "execution_count": null,
   "id": "61d62e48-6b96-4755-b5b8-251af3da1922",
   "metadata": {},
   "outputs": [],
   "source": [
    "pd.DataFrame(res).query('num_signal>50').pv()"
   ]
  },
  {
   "cell_type": "markdown",
   "id": "916c5a58-bba5-4b87-9c5f-ca127a741ab9",
   "metadata": {},
   "source": [
    "### using new backtester"
   ]
  },
  {
   "cell_type": "code",
   "execution_count": null,
   "id": "9d1207f5-8904-4301-a322-3cbf7caab5da",
   "metadata": {
    "tags": []
   },
   "outputs": [],
   "source": [
    "res=[]\n",
    "for freq in ['1Min', '3Min', '5Min', '10Min', '30Min', '1H']:\n",
    "    print(freq)\n",
    "    df = df_btc['c'].resample(freq).last().to_frame()\n",
    "    for lbw in [10,20,30,60,120,240]:\n",
    "        print(lbw)\n",
    "        df['ma'] = df['c'].rolling(lbw).mean()\n",
    "        for nstd in [2.5,3, 3.5, 4, 4.5]:\n",
    "            df['std'] = df['c'].rolling(lbw).std()\n",
    "            df['hi'] = df['ma']+nstd*df['std']\n",
    "            df['lo'] = df['ma']-nstd*df['std']\n",
    "            df['signal'] = 0 \n",
    "            df['signal'][df['c']>df['hi']]=-1\n",
    "            df['signal'][df['c']<df['lo']]= 1\n",
    "            for n in [100,200,500,1000]:\n",
    "                resd = signal_backtester_light(df['c'], df['signal'], n=n)\n",
    "                resd['freq']=freq\n",
    "                resd['lbw']=lbw\n",
    "                resd['nstd']=nstd\n",
    "                resd['n']=n\n",
    "                res.append(resd)"
   ]
  },
  {
   "cell_type": "code",
   "execution_count": null,
   "id": "c1c3fdbc-180f-405a-a607-6a809768e5c7",
   "metadata": {
    "tags": []
   },
   "outputs": [],
   "source": [
    "pd.DataFrame(res).query('cost2alpha>0 & avg_num_trades_per_day>5').sort_values(['cost2alpha', 'avg_num_trades_per_day'])"
   ]
  },
  {
   "cell_type": "code",
   "execution_count": null,
   "id": "286c5721-3a52-47eb-a610-3dedada9e677",
   "metadata": {},
   "outputs": [],
   "source": [
    "pd.DataFrame(res).pv()"
   ]
  },
  {
   "cell_type": "code",
   "execution_count": null,
   "id": "a5228cc0-708d-4424-accd-0d67f0c1fbfd",
   "metadata": {
    "tags": []
   },
   "outputs": [],
   "source": [
    "df_btc_train = df_btc[df_btc.index<'20210901']\n",
    "df_btc_test = df_btc[df_btc.index>='20210901']"
   ]
  },
  {
   "cell_type": "code",
   "execution_count": null,
   "id": "17dc9298-adf9-4ee0-a0c3-f4b8aae6732b",
   "metadata": {},
   "outputs": [],
   "source": [
    "df_btc_train.shape,df_btc_test.shape"
   ]
  },
  {
   "cell_type": "code",
   "execution_count": null,
   "id": "a436abc8-7b34-4f02-8777-d97cbababa23",
   "metadata": {
    "tags": []
   },
   "outputs": [],
   "source": [
    "res=[]\n",
    "for freq in ['1Min']:\n",
    "    df = df_btc_train['c'].resample(freq).last().to_frame()\n",
    "    for lbw in [10, 20, 30, 60, 120, 240]:\n",
    "        print(lbw)\n",
    "        df['ma'] = df['c'].rolling(lbw).mean()\n",
    "        for nstd in [2, 2.5, 3, 3.5, 4, 4.5, 5]:\n",
    "            df['std'] = df['c'].rolling(lbw).std()\n",
    "            df['hi'] = df['ma']+nstd*df['std']\n",
    "            df['lo'] = df['ma']-nstd*df['std']\n",
    "            df['signal'] = 0 \n",
    "            df['signal'][df['c']>df['hi']]=-1\n",
    "            df['signal'][df['c']<df['lo']]= 1\n",
    "            for n in [10, 20, 50, 100,200,500,1000]:\n",
    "                resd = signal_backtester_light(df['c'], df['signal'], n=n)\n",
    "                resd['lbw']=lbw\n",
    "                resd['nstd']=nstd\n",
    "                resd['n']=n\n",
    "                resd['freq']='1Min'\n",
    "                res.append(resd)"
   ]
  },
  {
   "cell_type": "code",
   "execution_count": null,
   "id": "574e147f-21e7-497b-b272-1c40de1e0708",
   "metadata": {
    "tags": []
   },
   "outputs": [],
   "source": [
    "cond = 'cost2alpha>0 & avg_num_trades_per_day>2 & cost2alpha<0.9'\n",
    "pd.DataFrame(res).query(cond).sort_values(['cost2alpha', 'avg_num_trades_per_day'])"
   ]
  },
  {
   "cell_type": "markdown",
   "id": "7e04b2c8-4597-48aa-a18e-b508230b754b",
   "metadata": {},
   "source": [
    "### signal combination"
   ]
  },
  {
   "cell_type": "code",
   "execution_count": null,
   "id": "5c9a2d2a-76cb-4639-8b23-295378cda2c5",
   "metadata": {},
   "outputs": [],
   "source": [
    "def bb_params2pos(df0, params_dict,lag=1):\n",
    "    freq=params_dict['freq'].values[0]\n",
    "    lbw=params_dict['lbw'].values[0]\n",
    "    nstd=params_dict['nstd'].values[0]\n",
    "    n = params_dict['n'].values[0]\n",
    "    \n",
    "    df = df0['c'].resample(freq).last().to_frame()\n",
    "    df['ma'] = df['c'].rolling(lbw).mean()\n",
    "    df['std'] = df['c'].rolling(lbw).std()\n",
    "    df['hi'] = df['ma']+nstd*df['std']\n",
    "    df['lo'] = df['ma']-nstd*df['std']\n",
    "    df['signal'] = 0 \n",
    "    df['signal'][df['c']>df['hi']]=-1\n",
    "    df['signal'][df['c']<df['lo']]= 1\n",
    "    df['share_pos'] = df['signal'].shift(lag).replace(0, np.nan).ffill(limit=n).fillna(0)\n",
    "    df['share_pos'][-1] = 0\n",
    "    return df['share_pos']"
   ]
  },
  {
   "cell_type": "code",
   "execution_count": null,
   "id": "bc2dd326-a041-45bb-8cc4-49bcaa19a677",
   "metadata": {},
   "outputs": [],
   "source": [
    "def bb_params2io(df0, params_dict,lag=1):\n",
    "    freq=params_dict['freq'].values[0]\n",
    "    lbw=params_dict['lbw'].values[0]\n",
    "    nstd=params_dict['nstd'].values[0]\n",
    "    n = params_dict['n'].values[0]\n",
    "\n",
    "    df = df0['c'].resample(freq).last().to_frame()\n",
    "    df['ma'] = df['c'].rolling(lbw).mean()\n",
    "    df['std'] = df['c'].rolling(lbw).std()\n",
    "    df['hi'] = df['ma']+nstd*df['std']\n",
    "    df['lo'] = df['ma']-nstd*df['std']\n",
    "    df['signal'] = 0 \n",
    "    df['signal'][df['c']>df['hi']]=-1\n",
    "    df['signal'][df['c']<df['lo']]= 1\n",
    "    df['share_pos'] = df['signal'].shift(lag).replace(0, np.nan).ffill(limit=n).fillna(0)\n",
    "    df['share_pos'][-1] = 0\n",
    "    ret = pos2pnl(df)\n",
    "    return ret['io']"
   ]
  },
  {
   "cell_type": "code",
   "execution_count": null,
   "id": "d085aa11-99a1-4ab8-bf8b-df39e0d06e74",
   "metadata": {},
   "outputs": [],
   "source": [
    "selected_params = pd.DataFrame(res).query(cond)\n",
    "selected_params[['freq','lbw','nstd','n']].iloc[0,:].to_dict()"
   ]
  },
  {
   "cell_type": "code",
   "execution_count": null,
   "id": "1a9825e3-d89a-4b7c-88fd-d8f1d6b67637",
   "metadata": {},
   "outputs": [],
   "source": [
    "pos1 = bb_params2pos(df_btc_test, selected_params[['freq','lbw','nstd','n']].iloc[0,:].to_dict())"
   ]
  },
  {
   "cell_type": "code",
   "execution_count": null,
   "id": "c92ffa4a-84fb-4bb4-9003-54ed2098376f",
   "metadata": {},
   "outputs": [],
   "source": [
    "df_params = selected_params[['freq','lbw','nstd','n']]"
   ]
  },
  {
   "cell_type": "code",
   "execution_count": null,
   "id": "78cdd80a-6496-41eb-bfbc-a8068be2d8c0",
   "metadata": {},
   "outputs": [],
   "source": [
    "selected_params"
   ]
  },
  {
   "cell_type": "markdown",
   "id": "f18dea2d-b4d8-4939-ad0b-32b8303d8178",
   "metadata": {},
   "source": [
    "### out of sample test"
   ]
  },
  {
   "cell_type": "code",
   "execution_count": null,
   "id": "11cadb5a-8348-49b9-b3bf-17c4cf1d5c54",
   "metadata": {},
   "outputs": [],
   "source": [
    "df11 = df_params.groupby(['freq','lbw','nstd','n']).apply(lambda x : bb_params2pos(df_btc_train, x)).T"
   ]
  },
  {
   "cell_type": "code",
   "execution_count": null,
   "id": "45584426-22e9-448d-b59c-24729163edb4",
   "metadata": {
    "tags": []
   },
   "outputs": [],
   "source": [
    "df11.head()"
   ]
  },
  {
   "cell_type": "code",
   "execution_count": null,
   "id": "4ce139db-bf29-46a9-a44c-5a7b43846c08",
   "metadata": {},
   "outputs": [],
   "source": [
    "df11 = df_params.groupby(['freq','lbw','nstd','n']).apply(lambda x : bb_params2io(df_btc_test, x)).T"
   ]
  },
  {
   "cell_type": "code",
   "execution_count": null,
   "id": "6635cd83-0980-4332-b66c-4fc8b6ad4e65",
   "metadata": {},
   "outputs": [],
   "source": [
    "df11"
   ]
  }
 ],
 "metadata": {
  "kernelspec": {
   "display_name": "Python 3 (ipykernel)",
   "language": "python",
   "name": "python3"
  },
  "language_info": {
   "codemirror_mode": {
    "name": "ipython",
    "version": 3
   },
   "file_extension": ".py",
   "mimetype": "text/x-python",
   "name": "python",
   "nbconvert_exporter": "python",
   "pygments_lexer": "ipython3",
   "version": "3.8.8"
  }
 },
 "nbformat": 4,
 "nbformat_minor": 5
}
