{
 "cells": [
  {
   "cell_type": "code",
   "execution_count": null,
   "id": "b76d6443-e020-4bf7-8e69-d877e1b49eaa",
   "metadata": {},
   "outputs": [],
   "source": [
    "import pandas as pd\n",
    "from cdcqr.common.config import LOCAL_DATA_DIR\n",
    "from cdcqr.common.utils import load_df, save, resample_pv\n",
    "from cdcqr.common.stats_utils import remove_outlier\n",
    "import sys\n",
    "sys.path.append('/github/cryptoderiv-quant/')\n",
    "import matplotlib.pyplot as plt"
   ]
  },
  {
   "cell_type": "code",
   "execution_count": null,
   "id": "b42a845f-6930-48a7-bd9e-8a25d43765a6",
   "metadata": {},
   "outputs": [],
   "source": [
    "from ct.alfafactory import runsignallight\n",
    "from ct.fs import addma"
   ]
  },
  {
   "cell_type": "code",
   "execution_count": null,
   "id": "acdad3b5-e79d-4b3e-9117-ce546b1fe28f",
   "metadata": {},
   "outputs": [],
   "source": [
    "a1 = 'BTCUSD_PERP@binance'"
   ]
  },
  {
   "cell_type": "code",
   "execution_count": null,
   "id": "b88cd110-225e-4d7c-b749-7613dd54b439",
   "metadata": {},
   "outputs": [],
   "source": [
    "df_btc = load_df(a1)\n",
    "df_btc.head()"
   ]
  },
  {
   "cell_type": "code",
   "execution_count": null,
   "id": "0e8cfa0d-71ac-4d35-9dac-79edf1ea0cd1",
   "metadata": {},
   "outputs": [],
   "source": [
    "res=[]\n",
    "for freq in ['1Min', '3Min', '5Min', '10Min', '30Min']:\n",
    "    price = df_btc['c'].resample(freq).last().to_frame()\n",
    "    num_period = len(price)\n",
    "    for lbw in [5,10,20,30,60,120]:\n",
    "        price['ma'] = price['c'].rolling(lbw).mean()\n",
    "        for nstd in [2,3,4]:\n",
    "            price['std'] = price['c'].rolling(lbw).std()\n",
    "            price['hi'] = price['ma']+nstd*price['std']\n",
    "            price['lo'] = price['ma']-nstd*price['std']\n",
    "            for short in [True, False]:\n",
    "                if short:\n",
    "                    signal = price['c']>price['hi']\n",
    "                else:\n",
    "                    signal = price['c']<price['lo']\n",
    "                num_signal = signal.sum()\n",
    "                \n",
    "                for n in [100,200,500,1000]:\n",
    "                    ressig=runsignallight(price,signal=signal,n=n,short=short,fees=0.0007)\n",
    "                    resd={\"freq\":freq, \"lbw\":lbw, 'short':short,'nstd':nstd,'n':n,\"p\":ressig, 'num_signal':num_signal, 'num_period':num_period}        \n",
    "                    res.append(resd)"
   ]
  },
  {
   "cell_type": "code",
   "execution_count": null,
   "id": "5f4571f7-65a7-433a-bb86-9006c2aedf01",
   "metadata": {},
   "outputs": [],
   "source": [
    "pd.DataFrame(res).query('num_signal>50').groupby(['nstd','freq','lbw'])['p'].mean()"
   ]
  },
  {
   "cell_type": "code",
   "execution_count": null,
   "id": "61d62e48-6b96-4755-b5b8-251af3da1922",
   "metadata": {},
   "outputs": [],
   "source": [
    "pd.DataFrame(res).query('num_signal>50').pv()"
   ]
  },
  {
   "cell_type": "code",
   "execution_count": null,
   "id": "95aee7b2-ce00-4a60-9c6a-d5807a0766f3",
   "metadata": {},
   "outputs": [],
   "source": []
  },
  {
   "cell_type": "code",
   "execution_count": null,
   "id": "4efc7bae-0f19-4636-8b48-fac0c568a5b7",
   "metadata": {},
   "outputs": [],
   "source": []
  }
 ],
 "metadata": {
  "kernelspec": {
   "display_name": "Python 3 (ipykernel)",
   "language": "python",
   "name": "python3"
  },
  "language_info": {
   "codemirror_mode": {
    "name": "ipython",
    "version": 3
   },
   "file_extension": ".py",
   "mimetype": "text/x-python",
   "name": "python",
   "nbconvert_exporter": "python",
   "pygments_lexer": "ipython3",
   "version": "3.8.8"
  }
 },
 "nbformat": 4,
 "nbformat_minor": 5
}
