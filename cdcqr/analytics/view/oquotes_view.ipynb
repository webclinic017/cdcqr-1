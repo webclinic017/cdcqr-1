{
 "cells": [
  {
   "cell_type": "code",
   "execution_count": null,
   "id": "58008c68-3e61-4c09-bf33-d1e3f6bffbfb",
   "metadata": {},
   "outputs": [],
   "source": [
    "import sys\n",
    "sys.path.append('C:\\\\github\\\\cryptoderiv-quant')\n",
    "from datetime import datetime"
   ]
  },
  {
   "cell_type": "code",
   "execution_count": null,
   "id": "7d684683-6832-4d4b-a2f8-99cf151b615a",
   "metadata": {},
   "outputs": [],
   "source": [
    "import nest_asyncio\n",
    "nest_asyncio.apply()"
   ]
  },
  {
   "cell_type": "code",
   "execution_count": null,
   "id": "b82c3f5e-36dd-4b70-bda6-6d3e28775849",
   "metadata": {},
   "outputs": [],
   "source": [
    "from ct.crowang.oquotes_view import deribit_option_quote_plot"
   ]
  },
  {
   "cell_type": "code",
   "execution_count": null,
   "id": "4a8ddcec-67c6-4019-a822-3b3f029f41b0",
   "metadata": {},
   "outputs": [],
   "source": [
    "day = datetime(2021,11,26)\n",
    "maturity_date = datetime(2021,12,31)\n",
    "freq = '1Min'\n",
    "local_run=True\n",
    "coin='BTC'"
   ]
  },
  {
   "cell_type": "code",
   "execution_count": null,
   "id": "0ca79852-e357-4405-bd11-f8bac259de8c",
   "metadata": {},
   "outputs": [],
   "source": [
    "df_combined_ext, df_underlying = deribit_option_quote_plot(day, maturity_date, freq=freq, coin=coin, local_run=local_run)"
   ]
  },
  {
   "cell_type": "code",
   "execution_count": null,
   "id": "fe523246-eb70-481d-909e-da5bfd3aaaa6",
   "metadata": {},
   "outputs": [],
   "source": []
  },
  {
   "cell_type": "code",
   "execution_count": null,
   "id": "6ad64d04-831b-4f2d-9124-5b38c940083d",
   "metadata": {},
   "outputs": [],
   "source": [
    "import os\n",
    "from glob import glob\n",
    "\n",
    "files = []\n",
    "start_dir = 'C:\\github\\cryptoderiv-quant'\n",
    "pattern   = \"*.html\"\n",
    "\n",
    "for dir,_,_ in os.walk(start_dir):\n",
    "    files.extend(glob(os.path.join(dir,pattern))) "
   ]
  },
  {
   "cell_type": "code",
   "execution_count": null,
   "id": "658182ea-98b6-45dd-89d6-021af226794d",
   "metadata": {},
   "outputs": [],
   "source": [
    "files"
   ]
  }
 ],
 "metadata": {
  "kernelspec": {
   "display_name": "Python 3 (ipykernel)",
   "language": "python",
   "name": "python3"
  },
  "language_info": {
   "codemirror_mode": {
    "name": "ipython",
    "version": 3
   },
   "file_extension": ".py",
   "mimetype": "text/x-python",
   "name": "python",
   "nbconvert_exporter": "python",
   "pygments_lexer": "ipython3",
   "version": "3.8.8"
  }
 },
 "nbformat": 4,
 "nbformat_minor": 5
}
