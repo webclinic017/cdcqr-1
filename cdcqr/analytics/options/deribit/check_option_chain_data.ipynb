{
 "cells": [
  {
   "cell_type": "code",
   "execution_count": 6,
   "id": "e14d8057-1c39-49cf-aea6-25502a2ade19",
   "metadata": {},
   "outputs": [],
   "source": [
    "from croqr.data.deribit.config import get_deribit_sample_data_url\n",
    "from croqr.data.deribit.data_utils import url_csv_zip_file_reader\n",
    "from croqr.analytics.options.option_utils import euro_vanilla\n",
    "from croqr.analytics.options.option_utils import find_vol\n",
    "from croqr.common.dt_utils import DataTimeUtil\n",
    "from croqr.common.config import SECONDS_PER_DAY\n",
    "from croqr.analytics.options.option_utils import euro_vanilla, Put"
   ]
  },
  {
   "cell_type": "markdown",
   "id": "3508b544-673d-41ff-be9e-17e4484d906e",
   "metadata": {},
   "source": [
    "## Load Deribit sample data"
   ]
  },
  {
   "cell_type": "code",
   "execution_count": 3,
   "id": "ad1189c7-9333-4eef-9b62-99c4c43729eb",
   "metadata": {},
   "outputs": [
    {
     "name": "stdout",
     "output_type": "stream",
     "text": [
      "loading cached Deribit_OPTIONS_options_chain_2020-07-01_2020-07-31.csv.gz\n",
      "file size > 500MB, load top 5000 rows\n"
     ]
    }
   ],
   "source": [
    "url = get_deribit_sample_data_url('OPTIONS', 'options_chain')\n",
    "df = url_csv_zip_file_reader(url)"
   ]
  },
  {
   "cell_type": "code",
   "execution_count": 4,
   "id": "806eb2e5-0c0d-4957-ac4e-1ebbb6562578",
   "metadata": {},
   "outputs": [
    {
     "data": {
      "text/html": [
       "<div>\n",
       "<style scoped>\n",
       "    .dataframe tbody tr th:only-of-type {\n",
       "        vertical-align: middle;\n",
       "    }\n",
       "\n",
       "    .dataframe tbody tr th {\n",
       "        vertical-align: top;\n",
       "    }\n",
       "\n",
       "    .dataframe thead th {\n",
       "        text-align: right;\n",
       "    }\n",
       "</style>\n",
       "<table border=\"1\" class=\"dataframe\">\n",
       "  <thead>\n",
       "    <tr style=\"text-align: right;\">\n",
       "      <th></th>\n",
       "      <th>symbol</th>\n",
       "      <th>timestamp</th>\n",
       "      <th>local_timestamp</th>\n",
       "      <th>type</th>\n",
       "      <th>strike_price</th>\n",
       "      <th>expiration</th>\n",
       "      <th>open_interest</th>\n",
       "      <th>last_price</th>\n",
       "      <th>bid_price</th>\n",
       "      <th>bid_amount</th>\n",
       "      <th>...</th>\n",
       "      <th>ask_iv</th>\n",
       "      <th>mark_price</th>\n",
       "      <th>mark_iv</th>\n",
       "      <th>underlying_index</th>\n",
       "      <th>underlying_price</th>\n",
       "      <th>delta</th>\n",
       "      <th>gamma</th>\n",
       "      <th>vega</th>\n",
       "      <th>theta</th>\n",
       "      <th>rho</th>\n",
       "    </tr>\n",
       "    <tr>\n",
       "      <th>exchange</th>\n",
       "      <th></th>\n",
       "      <th></th>\n",
       "      <th></th>\n",
       "      <th></th>\n",
       "      <th></th>\n",
       "      <th></th>\n",
       "      <th></th>\n",
       "      <th></th>\n",
       "      <th></th>\n",
       "      <th></th>\n",
       "      <th></th>\n",
       "      <th></th>\n",
       "      <th></th>\n",
       "      <th></th>\n",
       "      <th></th>\n",
       "      <th></th>\n",
       "      <th></th>\n",
       "      <th></th>\n",
       "      <th></th>\n",
       "      <th></th>\n",
       "      <th></th>\n",
       "    </tr>\n",
       "  </thead>\n",
       "  <tbody>\n",
       "    <tr>\n",
       "      <th>deribit</th>\n",
       "      <td>BTC-3JUL20-9500-C</td>\n",
       "      <td>1593561597178000</td>\n",
       "      <td>1593561600161993</td>\n",
       "      <td>call</td>\n",
       "      <td>9500</td>\n",
       "      <td>1593763200000000</td>\n",
       "      <td>1186.0</td>\n",
       "      <td>0.0035</td>\n",
       "      <td>0.0030</td>\n",
       "      <td>0.7</td>\n",
       "      <td>...</td>\n",
       "      <td>52.12</td>\n",
       "      <td>0.003461</td>\n",
       "      <td>49.50</td>\n",
       "      <td>SYN.BTC-3JUL20</td>\n",
       "      <td>9136.98</td>\n",
       "      <td>0.16736</td>\n",
       "      <td>0.00069</td>\n",
       "      <td>1.83013</td>\n",
       "      <td>-19.41256</td>\n",
       "      <td>0.09573</td>\n",
       "    </tr>\n",
       "    <tr>\n",
       "      <th>deribit</th>\n",
       "      <td>BTC-3JUL20-9250-P</td>\n",
       "      <td>1593561598001000</td>\n",
       "      <td>1593561600161994</td>\n",
       "      <td>put</td>\n",
       "      <td>9250</td>\n",
       "      <td>1593763200000000</td>\n",
       "      <td>785.0</td>\n",
       "      <td>0.0205</td>\n",
       "      <td>0.0195</td>\n",
       "      <td>0.3</td>\n",
       "      <td>...</td>\n",
       "      <td>48.45</td>\n",
       "      <td>0.022261</td>\n",
       "      <td>47.63</td>\n",
       "      <td>SYN.BTC-3JUL20</td>\n",
       "      <td>9137.12</td>\n",
       "      <td>-0.61919</td>\n",
       "      <td>0.00109</td>\n",
       "      <td>2.78342</td>\n",
       "      <td>-28.40972</td>\n",
       "      <td>-0.37467</td>\n",
       "    </tr>\n",
       "    <tr>\n",
       "      <th>deribit</th>\n",
       "      <td>BTC-3JUL20-8250-P</td>\n",
       "      <td>1593561592616000</td>\n",
       "      <td>1593561600161995</td>\n",
       "      <td>put</td>\n",
       "      <td>8250</td>\n",
       "      <td>1593763200000000</td>\n",
       "      <td>468.8</td>\n",
       "      <td>0.0015</td>\n",
       "      <td>0.0010</td>\n",
       "      <td>8.2</td>\n",
       "      <td>...</td>\n",
       "      <td>80.88</td>\n",
       "      <td>0.001244</td>\n",
       "      <td>77.79</td>\n",
       "      <td>SYN.BTC-3JUL20</td>\n",
       "      <td>9136.84</td>\n",
       "      <td>-0.04719</td>\n",
       "      <td>0.00017</td>\n",
       "      <td>0.71940</td>\n",
       "      <td>-11.36439</td>\n",
       "      <td>-0.02829</td>\n",
       "    </tr>\n",
       "    <tr>\n",
       "      <th>deribit</th>\n",
       "      <td>BTC-3JUL20-7750-P</td>\n",
       "      <td>1593561597884000</td>\n",
       "      <td>1593561600161997</td>\n",
       "      <td>put</td>\n",
       "      <td>7750</td>\n",
       "      <td>1593763200000000</td>\n",
       "      <td>306.3</td>\n",
       "      <td>0.0005</td>\n",
       "      <td>NaN</td>\n",
       "      <td>NaN</td>\n",
       "      <td>...</td>\n",
       "      <td>110.75</td>\n",
       "      <td>0.000283</td>\n",
       "      <td>91.41</td>\n",
       "      <td>SYN.BTC-3JUL20</td>\n",
       "      <td>9137.12</td>\n",
       "      <td>-0.01103</td>\n",
       "      <td>0.00004</td>\n",
       "      <td>0.21207</td>\n",
       "      <td>-2.58385</td>\n",
       "      <td>-0.00661</td>\n",
       "    </tr>\n",
       "    <tr>\n",
       "      <th>deribit</th>\n",
       "      <td>BTC-3JUL20-6750-C</td>\n",
       "      <td>1593561594862000</td>\n",
       "      <td>1593561600161998</td>\n",
       "      <td>call</td>\n",
       "      <td>6750</td>\n",
       "      <td>1593763200000000</td>\n",
       "      <td>0.0</td>\n",
       "      <td>NaN</td>\n",
       "      <td>0.0855</td>\n",
       "      <td>11.5</td>\n",
       "      <td>...</td>\n",
       "      <td>500.00</td>\n",
       "      <td>0.261225</td>\n",
       "      <td>91.78</td>\n",
       "      <td>SYN.BTC-3JUL20</td>\n",
       "      <td>9136.71</td>\n",
       "      <td>0.99998</td>\n",
       "      <td>0.00000</td>\n",
       "      <td>0.00050</td>\n",
       "      <td>-0.00991</td>\n",
       "      <td>0.43150</td>\n",
       "    </tr>\n",
       "  </tbody>\n",
       "</table>\n",
       "<p>5 rows × 23 columns</p>\n",
       "</div>"
      ],
      "text/plain": [
       "                     symbol         timestamp   local_timestamp  type  \\\n",
       "exchange                                                                \n",
       "deribit   BTC-3JUL20-9500-C  1593561597178000  1593561600161993  call   \n",
       "deribit   BTC-3JUL20-9250-P  1593561598001000  1593561600161994   put   \n",
       "deribit   BTC-3JUL20-8250-P  1593561592616000  1593561600161995   put   \n",
       "deribit   BTC-3JUL20-7750-P  1593561597884000  1593561600161997   put   \n",
       "deribit   BTC-3JUL20-6750-C  1593561594862000  1593561600161998  call   \n",
       "\n",
       "          strike_price        expiration  open_interest  last_price  \\\n",
       "exchange                                                              \n",
       "deribit           9500  1593763200000000         1186.0      0.0035   \n",
       "deribit           9250  1593763200000000          785.0      0.0205   \n",
       "deribit           8250  1593763200000000          468.8      0.0015   \n",
       "deribit           7750  1593763200000000          306.3      0.0005   \n",
       "deribit           6750  1593763200000000            0.0         NaN   \n",
       "\n",
       "          bid_price  bid_amount  ...  ask_iv  mark_price  mark_iv  \\\n",
       "exchange                         ...                                \n",
       "deribit      0.0030         0.7  ...   52.12    0.003461    49.50   \n",
       "deribit      0.0195         0.3  ...   48.45    0.022261    47.63   \n",
       "deribit      0.0010         8.2  ...   80.88    0.001244    77.79   \n",
       "deribit         NaN         NaN  ...  110.75    0.000283    91.41   \n",
       "deribit      0.0855        11.5  ...  500.00    0.261225    91.78   \n",
       "\n",
       "          underlying_index  underlying_price    delta    gamma     vega  \\\n",
       "exchange                                                                  \n",
       "deribit     SYN.BTC-3JUL20           9136.98  0.16736  0.00069  1.83013   \n",
       "deribit     SYN.BTC-3JUL20           9137.12 -0.61919  0.00109  2.78342   \n",
       "deribit     SYN.BTC-3JUL20           9136.84 -0.04719  0.00017  0.71940   \n",
       "deribit     SYN.BTC-3JUL20           9137.12 -0.01103  0.00004  0.21207   \n",
       "deribit     SYN.BTC-3JUL20           9136.71  0.99998  0.00000  0.00050   \n",
       "\n",
       "             theta      rho  \n",
       "exchange                     \n",
       "deribit  -19.41256  0.09573  \n",
       "deribit  -28.40972 -0.37467  \n",
       "deribit  -11.36439 -0.02829  \n",
       "deribit   -2.58385 -0.00661  \n",
       "deribit   -0.00991  0.43150  \n",
       "\n",
       "[5 rows x 23 columns]"
      ]
     },
     "execution_count": 4,
     "metadata": {},
     "output_type": "execute_result"
    }
   ],
   "source": [
    "df.head(5)"
   ]
  },
  {
   "cell_type": "code",
   "execution_count": 5,
   "id": "650212b1-39ce-4152-8da7-35f8c8196446",
   "metadata": {},
   "outputs": [],
   "source": [
    "all_symbols = list(df['symbol'].unique())"
   ]
  },
  {
   "cell_type": "code",
   "execution_count": 6,
   "id": "ddc5d027-8f43-4aaf-957e-32aaca626fc6",
   "metadata": {},
   "outputs": [],
   "source": [
    "dates = sorted(list(set([x.split('-')[1] for x in all_symbols])))"
   ]
  },
  {
   "cell_type": "code",
   "execution_count": 7,
   "id": "bb9f7684-a9a2-46a8-873c-d0376e7c555e",
   "metadata": {},
   "outputs": [],
   "source": [
    "df['timestamp_s'], df['microsec'] = zip(*df['timestamp'].apply(DataTimeUtil.epoch_time_converter, 1))\n",
    "df['exp_timestamp_s'], df['exp_microsec'] = zip(*df['expiration'].apply(DataTimeUtil.epoch_time_converter, 1))"
   ]
  },
  {
   "cell_type": "code",
   "execution_count": 8,
   "id": "05bff431-8528-40c1-98e1-1700cc52ea2e",
   "metadata": {},
   "outputs": [
    {
     "data": {
      "text/plain": [
       "array(['SYN.BTC-3JUL20', 'SYN.BTC-31JUL20', 'SYN.BTC-2JUL20',\n",
       "       'SYN.BTC-28AUG20', 'BTC-26MAR21', 'BTC-25SEP20', 'BTC-25DEC20',\n",
       "       'SYN.BTC-1JUL20', 'SYN.BTC-10JUL20', 'SYN.ETH-3JUL20',\n",
       "       'SYN.ETH-31JUL20', 'SYN.ETH-2JUL20', 'SYN.ETH-28AUG20',\n",
       "       'ETH-26MAR21', 'ETH-25SEP20', 'ETH-25DEC20', 'SYN.ETH-1JUL20',\n",
       "       'SYN.ETH-10JUL20'], dtype=object)"
      ]
     },
     "execution_count": 8,
     "metadata": {},
     "output_type": "execute_result"
    }
   ],
   "source": [
    "df['underlying_index'].unique()"
   ]
  },
  {
   "cell_type": "code",
   "execution_count": 9,
   "id": "3725537a-7dec-4886-bb3e-f347ed36541f",
   "metadata": {},
   "outputs": [
    {
     "data": {
      "text/plain": [
       "symbol                BTC-3JUL20-9250-P\n",
       "timestamp              1593561598001000\n",
       "local_timestamp        1593561600161994\n",
       "type                                put\n",
       "strike_price                       9250\n",
       "expiration             1593763200000000\n",
       "open_interest                     785.0\n",
       "last_price                       0.0205\n",
       "bid_price                        0.0195\n",
       "bid_amount                          0.3\n",
       "bid_iv                            38.49\n",
       "ask_price                        0.0225\n",
       "ask_amount                          0.3\n",
       "ask_iv                            48.45\n",
       "mark_price                     0.022261\n",
       "mark_iv                           47.63\n",
       "underlying_index         SYN.BTC-3JUL20\n",
       "underlying_price                9137.12\n",
       "delta                          -0.61919\n",
       "gamma                           0.00109\n",
       "vega                            2.78342\n",
       "theta                         -28.40972\n",
       "rho                            -0.37467\n",
       "timestamp_s         2020-07-01 00:59:58\n",
       "microsec                           1000\n",
       "exp_timestamp_s     2020-07-03 09:00:00\n",
       "exp_microsec                          0\n",
       "Name: deribit, dtype: object"
      ]
     },
     "execution_count": 9,
     "metadata": {},
     "output_type": "execute_result"
    }
   ],
   "source": [
    "opt1 = df.iloc[1,:]\n",
    "opt1"
   ]
  },
  {
   "cell_type": "markdown",
   "id": "587ef626-3c18-4821-983d-e3995a8c4ffb",
   "metadata": {},
   "source": [
    "### Verify BS formula"
   ]
  },
  {
   "cell_type": "code",
   "execution_count": 10,
   "id": "b67634b0-c6a0-4a4d-bfa9-1e5862567516",
   "metadata": {},
   "outputs": [
    {
     "data": {
      "text/plain": [
       "0.006392757451801116"
      ]
     },
     "execution_count": 10,
     "metadata": {},
     "output_type": "execute_result"
    }
   ],
   "source": [
    "T = (opt1['expiration'] - opt1['timestamp'])/(1e6*SECONDS_PER_DAY*365)\n",
    "T"
   ]
  },
  {
   "cell_type": "code",
   "execution_count": 11,
   "id": "38c82873-8e61-451f-b87d-2eef39dc8fce",
   "metadata": {},
   "outputs": [],
   "source": [
    "target_value = opt1['bid_price']\n",
    "S = opt1['underlying_price']\n",
    "K = opt1['strike_price']\n",
    "sigma = opt1['ask_iv']/100\n",
    "r = 0 "
   ]
  },
  {
   "cell_type": "code",
   "execution_count": 12,
   "id": "862772b2-427c-4df6-a750-1bd19fe0391d",
   "metadata": {},
   "outputs": [
    {
     "name": "stdout",
     "output_type": "stream",
     "text": [
      "S=9137.12, K=9250, T=0.006392757451801116, r=0, sgima=0.48450000000000004,\n"
     ]
    }
   ],
   "source": [
    "print('S={},'.format(S), 'K={},'.format(K), 'T={},'.format(T), 'r={},'.format(r), 'sgima={},'.format(sigma))"
   ]
  },
  {
   "cell_type": "code",
   "execution_count": 13,
   "id": "653a5f14-67fd-4b2e-8032-e9df7083b094",
   "metadata": {},
   "outputs": [],
   "source": [
    "put_ask_iv = euro_vanilla(S, K, T, r, sigma, option='put')"
   ]
  },
  {
   "cell_type": "code",
   "execution_count": 14,
   "id": "1a799bf5-ad70-4212-a338-16d5b7467621",
   "metadata": {},
   "outputs": [
    {
     "data": {
      "text/plain": [
       "(205.58690614397256, 205.58520000000001)"
      ]
     },
     "execution_count": 14,
     "metadata": {},
     "output_type": "execute_result"
    }
   ],
   "source": [
    "put_ask_iv, opt1['ask_price']*opt1['underlying_price']"
   ]
  },
  {
   "cell_type": "markdown",
   "id": "71e436d2-1859-4342-9e57-1526af296a3c",
   "metadata": {},
   "source": [
    "### chceck greeks using opstrat"
   ]
  },
  {
   "cell_type": "code",
   "execution_count": 15,
   "id": "e67ea2dd-365e-4305-8726-c3cefd557824",
   "metadata": {},
   "outputs": [
    {
     "data": {
      "text/plain": [
       "\u001b[1;31mSignature:\u001b[0m \u001b[0mPut\u001b[0m\u001b[1;33m.\u001b[0m\u001b[0mPrice\u001b[0m\u001b[1;33m(\u001b[0m\u001b[0mS\u001b[0m\u001b[1;33m,\u001b[0m \u001b[0mK\u001b[0m\u001b[1;33m,\u001b[0m \u001b[0mr\u001b[0m\u001b[1;33m,\u001b[0m \u001b[0msigma\u001b[0m\u001b[1;33m,\u001b[0m \u001b[0mT\u001b[0m\u001b[1;33m)\u001b[0m\u001b[1;33m\u001b[0m\u001b[1;33m\u001b[0m\u001b[0m\n",
       "\u001b[1;31mDocstring:\u001b[0m <no docstring>\n",
       "\u001b[1;31mFile:\u001b[0m      c:\\users\\wang\\documents\\github\\croqr\\croqr\\analytics\\options\\option_utils.py\n",
       "\u001b[1;31mType:\u001b[0m      function\n"
      ]
     },
     "metadata": {},
     "output_type": "display_data"
    }
   ],
   "source": [
    "Put.Price?"
   ]
  },
  {
   "cell_type": "code",
   "execution_count": 16,
   "id": "46d8dd0c-5689-4c16-aff0-1e4ad30b09bf",
   "metadata": {},
   "outputs": [
    {
     "data": {
      "text/plain": [
       "205.58690614397256"
      ]
     },
     "execution_count": 16,
     "metadata": {},
     "output_type": "execute_result"
    }
   ],
   "source": [
    "Put.Price(S, K, r, sigma, T)"
   ]
  },
  {
   "cell_type": "code",
   "execution_count": 17,
   "id": "e2113e3a-d66c-4f2c-8b96-3d8ba895119d",
   "metadata": {},
   "outputs": [
    {
     "data": {
      "text/plain": [
       "-0.6169913099694828"
      ]
     },
     "execution_count": 17,
     "metadata": {},
     "output_type": "execute_result"
    }
   ],
   "source": [
    "Put.Delta(S, K, r, sigma, T)"
   ]
  },
  {
   "cell_type": "code",
   "execution_count": 18,
   "id": "79f69930-3057-4dd2-99ef-85e6d6c810f0",
   "metadata": {},
   "outputs": [
    {
     "data": {
      "text/plain": [
       "0.0010782824572031426"
      ]
     },
     "execution_count": 18,
     "metadata": {},
     "output_type": "execute_result"
    }
   ],
   "source": [
    "Put.Gamma(S, K, r, sigma, T)"
   ]
  },
  {
   "cell_type": "code",
   "execution_count": 22,
   "id": "464e0b02-5dd1-4249-a443-e31a5b818a35",
   "metadata": {},
   "outputs": [
    {
     "data": {
      "text/plain": [
       "2.788259595507463"
      ]
     },
     "execution_count": 22,
     "metadata": {},
     "output_type": "execute_result"
    }
   ],
   "source": [
    "Put.Vega(S, K, r, sigma, T)/100"
   ]
  },
  {
   "cell_type": "code",
   "execution_count": 27,
   "id": "6107c3b1-af23-4376-a79f-6f8dc79c0336",
   "metadata": {},
   "outputs": [
    {
     "data": {
      "text/plain": [
       "-28.94782240617039"
      ]
     },
     "execution_count": 27,
     "metadata": {},
     "output_type": "execute_result"
    }
   ],
   "source": [
    "Put.Theta(S, K, r, sigma, T)/365"
   ]
  },
  {
   "cell_type": "code",
   "execution_count": 26,
   "id": "771273c0-e7f4-4cb2-a0f6-a94431353015",
   "metadata": {},
   "outputs": [
    {
     "data": {
      "text/plain": [
       "-0.3735358847372249"
      ]
     },
     "execution_count": 26,
     "metadata": {},
     "output_type": "execute_result"
    }
   ],
   "source": [
    "Put.Rho(S, K, r, sigma, T)/100"
   ]
  },
  {
   "cell_type": "code",
   "execution_count": null,
   "id": "e89d66bb-825e-4867-aa8a-7abbf51637b3",
   "metadata": {},
   "outputs": [],
   "source": [
    "delta                          -0.61919\n",
    "gamma                           0.00109\n",
    "vega                            2.78342\n",
    "theta                         -28.40972\n",
    "rho                            -0.37467"
   ]
  },
  {
   "cell_type": "markdown",
   "id": "e1f82fa3-c5b8-474b-8c56-f1f211e3b2b0",
   "metadata": {},
   "source": [
    "### snapshot example from 30SEP2021"
   ]
  },
  {
   "cell_type": "code",
   "execution_count": 121,
   "id": "4e756d59-21b8-46ca-8615-043f371082cb",
   "metadata": {},
   "outputs": [],
   "source": [
    "bid = 0.0095\n",
    "ask = 0.0105\n",
    "\n",
    "IV_bid = 0.854\n",
    "IV_ask = 0.874\n",
    "bid_price = 400.75\n",
    "ask_price = 421.84\n",
    "S = 42166\n",
    "K = 60000\n",
    "r=0\n",
    "T = 30/365\n",
    "sigma = IV_bid"
   ]
  },
  {
   "cell_type": "code",
   "execution_count": 122,
   "id": "c28c0993-49e7-48e4-9cee-a3ed13ae920f",
   "metadata": {},
   "outputs": [
    {
     "name": "stdout",
     "output_type": "stream",
     "text": [
      "S=42166, K=60000, T=0.0821917808219178, r=0, sgima=0.854,\n"
     ]
    }
   ],
   "source": [
    "print('S={},'.format(S), 'K={},'.format(K), 'T={},'.format(T), 'r={},'.format(r), 'sgima={},'.format(sigma))"
   ]
  },
  {
   "cell_type": "code",
   "execution_count": 115,
   "id": "2c391f12-dc1d-45a8-8211-7ec2b97975e8",
   "metadata": {},
   "outputs": [
    {
     "name": "stdout",
     "output_type": "stream",
     "text": [
      "call price using IV bid (0.854) =  410.39147470840635 \n",
      "call bid price 400.75\n",
      "call price using IV ask (0.874) =  451.812848334489 \n",
      "call ask price 421.84\n"
     ]
    }
   ],
   "source": [
    "call_price_IV_bid = euro_vanilla(S, K, T, r, IV_bid, option='call')\n",
    "print('call price using IV bid ({}) =  {} '.format(IV_bid, call_price_IV_bid))\n",
    "print('call bid price {}'.format(bid_price))\n",
    "\n",
    "call_price_IV_ask = euro_vanilla(S, K, T, r, IV_ask, option='call')\n",
    "print('call price using IV ask ({}) =  {} '.format(IV_ask, call_price_IV_ask))\n",
    "print('call ask price {}'.format(ask_price))"
   ]
  },
  {
   "cell_type": "code",
   "execution_count": 116,
   "id": "20924045-c57c-416d-8602-f971307af485",
   "metadata": {},
   "outputs": [],
   "source": [
    "IV_bid = find_vol(bid_price, S, K, T, r)\n",
    "IV_ask = find_vol(ask_price, S, K, T, r)"
   ]
  },
  {
   "cell_type": "code",
   "execution_count": 117,
   "id": "1db15505-c19a-4469-a867-eb3d3cb73937",
   "metadata": {},
   "outputs": [
    {
     "data": {
      "text/plain": [
       "(0.8492054360526142, 0.8596221403404919)"
      ]
     },
     "execution_count": 117,
     "metadata": {},
     "output_type": "execute_result"
    }
   ],
   "source": [
    "IV_bid, IV_ask"
   ]
  },
  {
   "cell_type": "code",
   "execution_count": 125,
   "id": "2b855af6-9568-4fa1-8857-14f409883c4f",
   "metadata": {},
   "outputs": [],
   "source": [
    "bsm=op.black_scholes(K=K, St=S, r=r, t=T, v=sigma, type='c')"
   ]
  },
  {
   "cell_type": "code",
   "execution_count": 126,
   "id": "7d814abf-af10-4202-8f10-ac9322ace925",
   "metadata": {},
   "outputs": [
    {
     "data": {
      "text/plain": [
       "{'option value': 0.0, 'intrinsic value': 0, 'time value': 0.0}"
      ]
     },
     "execution_count": 126,
     "metadata": {},
     "output_type": "execute_result"
    }
   ],
   "source": [
    "bsm['value']"
   ]
  }
 ],
 "metadata": {
  "kernelspec": {
   "display_name": "Python 3 (ipykernel)",
   "language": "python",
   "name": "python3"
  },
  "language_info": {
   "codemirror_mode": {
    "name": "ipython",
    "version": 3
   },
   "file_extension": ".py",
   "mimetype": "text/x-python",
   "name": "python",
   "nbconvert_exporter": "python",
   "pygments_lexer": "ipython3",
   "version": "3.8.8"
  }
 },
 "nbformat": 4,
 "nbformat_minor": 5
}
