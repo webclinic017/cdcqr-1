{
 "cells": [
  {
   "cell_type": "code",
   "execution_count": null,
   "id": "ce8f8a64-f92c-4d6e-a1d6-3a20021b3e3b",
   "metadata": {},
   "outputs": [],
   "source": [
    "import pandas as pd\n",
    "import numpy as np\n",
    "import sys\n",
    "sys.path.insert(1,\"/core/github/cryptoderiv-quant-lib\")\n",
    "\n",
    "from cdcqr.analytics.derivatives.vol_fitting.smoothing.utils import cumsum_getTEvents, fit_fun2\n",
    "from scipy.interpolate import interp1d\n",
    "\n",
    "from cryptoderiv_quantlib import VolModels\n",
    "from cryptoderiv_quantlib import VolCurve, VolSurface, StickyOptions\n",
    "\n",
    "from cdcqr.analytics.derivatives.vol_fitting.smoothing import kalman_filter as kf\n",
    "from numpy.linalg import inv"
   ]
  },
  {
   "cell_type": "code",
   "execution_count": null,
   "id": "2e539462-e937-4661-81a7-9b467fe62bdc",
   "metadata": {},
   "outputs": [],
   "source": [
    "from importlib import reload"
   ]
  },
  {
   "cell_type": "code",
   "execution_count": null,
   "id": "0669f4fa-13d6-4d68-ac93-27ae952932a1",
   "metadata": {},
   "outputs": [],
   "source": [
    "MODEL_TO_TEST = \"parabolic_linear6\"\n",
    "model = VolModels.vol_model(MODEL_TO_TEST)"
   ]
  },
  {
   "cell_type": "code",
   "execution_count": null,
   "id": "a063a60c-d530-44b5-9fc6-70bf9e51245c",
   "metadata": {},
   "outputs": [],
   "source": [
    "df0 =  pd.read_pickle('/core/data/bt_spikeDec_MAR22.pkl')"
   ]
  },
  {
   "cell_type": "code",
   "execution_count": null,
   "id": "906545de-4fff-4d04-b25c-e93a954522d1",
   "metadata": {},
   "outputs": [],
   "source": [
    "df0.head(2).T"
   ]
  },
  {
   "cell_type": "code",
   "execution_count": null,
   "id": "9f488928-d13b-40fe-8e5c-291962182294",
   "metadata": {},
   "outputs": [],
   "source": [
    "df0"
   ]
  },
  {
   "cell_type": "code",
   "execution_count": null,
   "id": "0c750a44-2a59-4ebf-a942-f207d171bf60",
   "metadata": {},
   "outputs": [],
   "source": [
    "df = pd.read_pickle('/core/data/fitted_vol_1.pkl')"
   ]
  },
  {
   "cell_type": "markdown",
   "id": "65cd1b42-5597-4cb7-a385-49355caf29c8",
   "metadata": {},
   "source": [
    "### 1) use vol_atm --> find rolling mean and std --> apply cusum"
   ]
  },
  {
   "cell_type": "code",
   "execution_count": null,
   "id": "0f89ee7c-3498-4907-8849-85022662f61a",
   "metadata": {},
   "outputs": [],
   "source": [
    "print(df.shape)\n",
    "print(df.columns)\n",
    "lbw = 50"
   ]
  },
  {
   "cell_type": "code",
   "execution_count": null,
   "id": "f6f3cac4-5e4c-4e58-9d88-fce71cde8533",
   "metadata": {},
   "outputs": [],
   "source": [
    "df['ma_localvol_atm'] = df['localvol_atm'].rolling(lbw).mean()\n",
    "df['rstd_localvol_atm'] = df['localvol_atm'].rolling(lbw).std()\n",
    "df['zscore_localvol_atm'] = (df['localvol_atm']-df['ma_localvol_atm'])/df['rstd_localvol_atm']"
   ]
  },
  {
   "cell_type": "markdown",
   "id": "a996fa06-2c91-41c2-8e9d-db7b8e3e542f",
   "metadata": {
    "tags": []
   },
   "source": [
    "### 1.1) test a range of threshold for CUMSUM algo"
   ]
  },
  {
   "cell_type": "code",
   "execution_count": null,
   "id": "41503aec-4cd6-49f0-bd62-4b09c5717a54",
   "metadata": {
    "scrolled": true,
    "tags": []
   },
   "outputs": [],
   "source": [
    "h2events_ratio = {}\n",
    "n = df.shape[0] - lbw\n",
    "for h in np.linspace(0.5, 5, 100):\n",
    "    m = len(cumsum_getTEvents(df['zscore_localvol_atm'], h))\n",
    "    r = m/n\n",
    "    h2events_ratio[h] = r"
   ]
  },
  {
   "cell_type": "code",
   "execution_count": null,
   "id": "d65dc50b-df4e-4504-adcd-5777c40f2d15",
   "metadata": {},
   "outputs": [],
   "source": [
    "df_h2events_ratio = pd.DataFrame(h2events_ratio, index=[0]).T.reset_index()\n",
    "df_h2events_ratio.columns = ['cumsum_threshold', 'event_ratio']\n",
    "df_h2events_ratio = df_h2events_ratio.set_index('cumsum_threshold')\n",
    "df_h2events_ratio.plot()"
   ]
  },
  {
   "cell_type": "markdown",
   "id": "52ef3ecd-c692-4bca-b419-b2cb082b4160",
   "metadata": {},
   "source": [
    "#### 1.2) take h = 3 for example"
   ]
  },
  {
   "cell_type": "code",
   "execution_count": null,
   "id": "65652a90-cd7d-4c4d-bf61-613a4ee364cf",
   "metadata": {},
   "outputs": [],
   "source": [
    "h = 3\n",
    "interp1d(df_h2events_ratio.index, df_h2events_ratio['event_ratio'])([3])[0]"
   ]
  },
  {
   "cell_type": "code",
   "execution_count": null,
   "id": "7f94dbc0-2c7a-4b1a-80af-057f943ead18",
   "metadata": {},
   "outputs": [],
   "source": [
    "cumsum_event_index = cumsum_getTEvents(df['zscore_localvol_atm'], h)\n",
    "df['cumsum_event'] = False\n",
    "df.loc[cumsum_event_index, ['cumsum_event']]=True\n",
    "df['cumsum_event'].iloc[0]=True"
   ]
  },
  {
   "cell_type": "code",
   "execution_count": null,
   "id": "37170b17-24cf-40ba-9682-2d517891ae65",
   "metadata": {},
   "outputs": [],
   "source": [
    "df['cumsum_curve'] = df['localcurve']\n",
    "df['cumsum_curve'] = df['cumsum_curve'].where(df['cumsum_event'], np.nan)\n",
    "df['cumsum_curve'] = df['cumsum_curve'].ffill()"
   ]
  },
  {
   "cell_type": "markdown",
   "id": "04b07f57-d6b5-48c3-9e1f-a68c648991f3",
   "metadata": {},
   "source": [
    "#### 1.3) apply metric to check is the CUMSUM algo with h = 3 is good or not?"
   ]
  },
  {
   "cell_type": "code",
   "execution_count": null,
   "id": "88c064a8-dbc7-4489-b3cb-eae56c20936d",
   "metadata": {},
   "outputs": [],
   "source": [
    "error =  df[['cumsum_curve','df']].apply(lambda x: fit_fun2(*x), axis=1).mean(1)"
   ]
  },
  {
   "cell_type": "code",
   "execution_count": null,
   "id": "1efb51c4-f976-4e28-a64f-f76413fba0d3",
   "metadata": {},
   "outputs": [],
   "source": [
    "df.shape"
   ]
  },
  {
   "cell_type": "code",
   "execution_count": null,
   "id": "3939fb7d-4700-429c-b454-14eacb6e8866",
   "metadata": {},
   "outputs": [],
   "source": [
    "display(error.mean())"
   ]
  },
  {
   "cell_type": "markdown",
   "id": "72eecc53-acc4-4d48-8ec9-a55719ced5be",
   "metadata": {},
   "source": [
    "### 2) at each time t, use the time series of mid iv of each strke = miv = (biv+aiv)/2 --> find the mean and std --> aggregate the z value --> apply cusum (or some variation of this)"
   ]
  },
  {
   "cell_type": "code",
   "execution_count": null,
   "id": "636e3c8f-5588-4c12-875d-38d76adea42a",
   "metadata": {},
   "outputs": [],
   "source": [
    "df0 = pd.read_pickle('/core/data/vol_smoothing_base_1.pkl')"
   ]
  },
  {
   "cell_type": "code",
   "execution_count": null,
   "id": "48701e68-64cf-4f93-9ac2-3c6612f4315d",
   "metadata": {},
   "outputs": [],
   "source": [
    "display(df0.head(2))\n",
    "display(df.head(2))"
   ]
  },
  {
   "cell_type": "code",
   "execution_count": null,
   "id": "03df21cb-bacf-4a5e-995e-e25274fd3288",
   "metadata": {},
   "outputs": [],
   "source": [
    "df1 = pd.merge(left=df, right=df0[['tm','aiv','biv',]], left_on=['t'], right_on=['tm'], how='left').groupby('t').first().reset_index()"
   ]
  },
  {
   "cell_type": "code",
   "execution_count": null,
   "id": "a2eb01fa-93e3-4b11-a9a9-cf7ba1242aac",
   "metadata": {},
   "outputs": [],
   "source": [
    "df1['miv'] = 0.5*(df1['biv'] + df1['aiv'])"
   ]
  },
  {
   "cell_type": "code",
   "execution_count": null,
   "id": "e143dd3c-2cbf-4c9d-a55a-f57d232e3157",
   "metadata": {},
   "outputs": [],
   "source": [
    "df1['ma_miv'] = df1['miv'].rolling(lbw).mean()\n",
    "df1['rstd_miv'] = df1['miv'].rolling(lbw).std()\n",
    "df1['zscore_miv'] = (df1['miv']-df1['ma_miv'])/df1['rstd_miv']"
   ]
  },
  {
   "cell_type": "code",
   "execution_count": null,
   "id": "c35ab17a-7024-4cad-8c32-b82edfc8f589",
   "metadata": {},
   "outputs": [],
   "source": [
    "cumsum_event_index = cumsum_getTEvents(df1['zscore_miv'], h)\n",
    "df1['cumsum_event'] = False\n",
    "df1.loc[cumsum_event_index, ['cumsum_event']]=True\n",
    "df1['cumsum_event'].iloc[0]=True"
   ]
  },
  {
   "cell_type": "code",
   "execution_count": null,
   "id": "0708090e-f0bf-49b6-9b35-b0c09b4e0f27",
   "metadata": {},
   "outputs": [],
   "source": [
    "df1['cumsum_curve'] = df1['localcurve']\n",
    "df1['cumsum_curve'] = df1['cumsum_curve'].where(df1['cumsum_event'], np.nan)\n",
    "df1['cumsum_curve'] = df1['cumsum_curve'].ffill()"
   ]
  },
  {
   "cell_type": "markdown",
   "id": "b321811e-30cc-4a62-8471-05fb64a4966e",
   "metadata": {},
   "source": [
    "#### apply metric to check is the CUMSUM algo with h = 3 is good or not?"
   ]
  },
  {
   "cell_type": "code",
   "execution_count": null,
   "id": "a4aa9600-9646-460a-8d50-9ecab93d4b2f",
   "metadata": {},
   "outputs": [],
   "source": [
    "error =  df1[['cumsum_curve','df']].apply(lambda x: fit_fun2(*x), axis=1).mean(1)"
   ]
  },
  {
   "cell_type": "code",
   "execution_count": null,
   "id": "07f6bc2c-5187-450f-9519-9a05011c6103",
   "metadata": {},
   "outputs": [],
   "source": [
    "display(error.mean())"
   ]
  },
  {
   "cell_type": "markdown",
   "id": "98eae583-28f0-43d3-b1f6-f670fd6048c0",
   "metadata": {},
   "source": [
    "### 3) at each time t, use the spread = aiv - biv as a measure of std (maybe spread = 2 std) --> use miv as the mean --> z value --> aggregate --> apply cusum"
   ]
  },
  {
   "cell_type": "code",
   "execution_count": null,
   "id": "56177862-b3bc-42a0-9c22-3eff3da653a3",
   "metadata": {},
   "outputs": [],
   "source": [
    "df2 = df1.copy()\n",
    "df2['iv_range'] = df2['biv'] - df2['aiv']\n",
    "df2['normalized_miv'] = (df2['miv']-df2['ma_miv'])/df2['iv_range']\n",
    "# try more methods"
   ]
  },
  {
   "cell_type": "code",
   "execution_count": null,
   "id": "eab8bac1-851a-4e55-97db-fdc4a729b2c1",
   "metadata": {},
   "outputs": [],
   "source": [
    "cumsum_event_index = cumsum_getTEvents(df2['normalized_miv'], h)\n",
    "df2['cumsum_event'] = False\n",
    "df2.loc[cumsum_event_index, ['cumsum_event']]=True\n",
    "df2['cumsum_event'].iloc[0]=True"
   ]
  },
  {
   "cell_type": "code",
   "execution_count": null,
   "id": "e03396d5-c030-4d0d-860b-4b03e5f3497c",
   "metadata": {},
   "outputs": [],
   "source": [
    "df2['cumsum_curve'] = df2['localcurve']\n",
    "df2['cumsum_curve'] = df2['cumsum_curve'].where(df2['cumsum_event'], np.nan)\n",
    "df2['cumsum_curve'] = df2['cumsum_curve'].ffill()"
   ]
  },
  {
   "cell_type": "markdown",
   "id": "7e613b99-89fd-4031-80b7-59a23800031f",
   "metadata": {},
   "source": [
    "#### apply metric to check is the CUMSUM algo with h = 3 is good or not?\n",
    "     * plot w.r.t time\n",
    "     * confluence"
   ]
  },
  {
   "cell_type": "code",
   "execution_count": null,
   "id": "0ed0e249-a7a2-4463-a606-426e62044475",
   "metadata": {},
   "outputs": [],
   "source": [
    "error2 =  df2[['cumsum_curve','df']].apply(lambda x: fit_fun2(*x), axis=1).mean(1)"
   ]
  },
  {
   "cell_type": "code",
   "execution_count": null,
   "id": "f845ca9d-cb1d-40a1-9f24-6f1d19ca5e8e",
   "metadata": {},
   "outputs": [],
   "source": [
    "error2.plot()"
   ]
  },
  {
   "cell_type": "code",
   "execution_count": null,
   "id": "9f6ccc52-be56-42a7-8424-282250924c2d",
   "metadata": {},
   "outputs": [],
   "source": [
    "error2.mean()"
   ]
  },
  {
   "cell_type": "markdown",
   "id": "ea753435-9529-4988-87ad-f7a10a7a1bed",
   "metadata": {},
   "source": [
    "## Kalman filter smoothing"
   ]
  },
  {
   "cell_type": "code",
   "execution_count": null,
   "id": "2bd90694-ed60-4933-9321-e4522a76ff06",
   "metadata": {},
   "outputs": [],
   "source": [
    "reload(kf)"
   ]
  },
  {
   "cell_type": "code",
   "execution_count": null,
   "id": "085e379c-b3d3-4599-83c2-b0a8c76a08cb",
   "metadata": {},
   "outputs": [],
   "source": [
    "kf.simple_kalman_filter?"
   ]
  },
  {
   "cell_type": "code",
   "execution_count": null,
   "id": "9f51988b-fb3c-4d53-81ac-abd3dcb3bd77",
   "metadata": {},
   "outputs": [],
   "source": [
    "pre_params = df['localcurve'].iloc[0].params\n",
    "pre_x = np.array([1, pre_params['skew_left'], pre_params['skew_right'], pre_params['conv_left'], pre_params['conv_right'], pre_params['rightwing'], pre_params['leftwing']])\n",
    "pre_x"
   ]
  },
  {
   "cell_type": "code",
   "execution_count": null,
   "id": "8007859a-f757-4ab9-b0dd-01ceda04ef02",
   "metadata": {},
   "outputs": [],
   "source": [
    "df1 = df['df'][1]"
   ]
  },
  {
   "cell_type": "code",
   "execution_count": null,
   "id": "34ffe962-1624-4091-80cd-3b9fa64f682d",
   "metadata": {},
   "outputs": [],
   "source": [
    "kright = 1.5\n",
    "kleft = -1.5"
   ]
  },
  {
   "cell_type": "code",
   "execution_count": null,
   "id": "c1c1a2d8-951d-4aae-a9b8-02194475107e",
   "metadata": {},
   "outputs": [],
   "source": [
    "S = df1['s'].iloc[0]\n",
    "\n",
    "volATM = interp1d(df1.index, df1['m'])([S])[0]"
   ]
  },
  {
   "cell_type": "code",
   "execution_count": null,
   "id": "44cd5f1a-fb8c-416c-80ca-6f9518b8d636",
   "metadata": {},
   "outputs": [],
   "source": [
    "df1.head(5)"
   ]
  },
  {
   "cell_type": "code",
   "execution_count": null,
   "id": "7143c672-0f1b-4457-94d1-6d2c320f327a",
   "metadata": {},
   "outputs": [],
   "source": [
    "# observations\n",
    "z = df1['m'].values"
   ]
  },
  {
   "cell_type": "code",
   "execution_count": null,
   "id": "1218a5a2-dee5-49a0-a00c-61b14274cd52",
   "metadata": {},
   "outputs": [],
   "source": [
    "# transformation matrix\n",
    "\n",
    "df1['col0'] = volATM\n",
    "df1['col1'] = (df1['logKFtau']<0).astype(int)*kleft\n",
    "df1['col2'] = (df1['logKFtau']>0).astype(int)*kright\n",
    "df1['col3'] = (df1['logKFtau']<0).astype(int)*kleft**2\n",
    "df1['col4'] = (df1['logKFtau']>0).astype(int)*kright**2\n",
    "df1['col5'] = (df1['logKFtau']>kright).astype(int)*(df1['logKFtau']-kright)\n",
    "df1['col6'] = (df1['logKFtau']<kleft).astype(int)*(df1['logKFtau']-kleft)\n",
    "\n",
    "h_mat = df1[['col0','col1','col2','col3','col4','col5','col6']].values"
   ]
  },
  {
   "cell_type": "code",
   "execution_count": null,
   "id": "fb4b78a9-3fb9-45bf-8575-8aca53cb0a34",
   "metadata": {},
   "outputs": [],
   "source": [
    "kalman_vc = VolCurve()"
   ]
  },
  {
   "cell_type": "code",
   "execution_count": null,
   "id": "60612db6-3995-4c42-99ac-6eca47bc800a",
   "metadata": {},
   "outputs": [],
   "source": [
    "df['localcurve'][0].params"
   ]
  },
  {
   "cell_type": "code",
   "execution_count": null,
   "id": "be6eb45f-4527-4096-a2b4-daf43b275e64",
   "metadata": {},
   "outputs": [],
   "source": [
    "df_parames = df[['localskew_left','localskew_right','localconv_left','localconv_right','localrightwing','localleftwing']]#['localcurve'][10].params"
   ]
  },
  {
   "cell_type": "code",
   "execution_count": null,
   "id": "3c9f5508-e1c0-4156-b2be-0d399e19af72",
   "metadata": {},
   "outputs": [],
   "source": [
    "df_parames.describe()"
   ]
  },
  {
   "cell_type": "code",
   "execution_count": null,
   "id": "e9bac173-e864-4dbc-bcd6-3b813c66caae",
   "metadata": {},
   "outputs": [],
   "source": [
    "reload(kf)\n",
    "display(pre_x)\n",
    "sigma = 0.001\n",
    "kf_params = kf.simple_kalman_filter(z, pre_x, sigma, h_mat, sigma)"
   ]
  },
  {
   "cell_type": "code",
   "execution_count": null,
   "id": "00202318-9bee-486e-ba03-3c9e42848d99",
   "metadata": {
    "scrolled": true,
    "tags": []
   },
   "outputs": [],
   "source": [
    "df['kfcurve'] = None\n",
    "df['kfcurve'].iloc[0] = df['localcurve'].iloc[0]\n",
    "\n",
    "localcurve0 =  df['localcurve'].iloc[0]\n",
    "pre_params = localcurvei.params\n",
    "pre_x = np.array([1, pre_params['skew_left'], pre_params['skew_right'], pre_params['conv_left'], pre_params['conv_right'], pre_params['rightwing'], pre_params['leftwing']])\n",
    "sigma = 0.001 # using spread informaiton\n",
    "\n",
    "for i in range(1, df.shape[0]):        \n",
    "    print('---------------------------', i, '---------------------------')\n",
    "    \n",
    "    df1 = df['df'].iloc[i]\n",
    "    \n",
    "    pre_params = df['kfcurve'].iloc[i-1].params\n",
    "    kleft = pre_params['kleft']\n",
    "    kright = pre_params['kright']\n",
    "    \n",
    "    S = df1['s'].iloc[0]\n",
    "    volATM = interp1d(df1.index, df1['m'])([S])[0]\n",
    "    df1['col0'] = volATM\n",
    "    df1['col1'] = (df1['logKFtau']<0).astype(int)*kleft\n",
    "    df1['col2'] = (df1['logKFtau']>0).astype(int)*kright\n",
    "    df1['col3'] = (df1['logKFtau']<0).astype(int)*kleft**2\n",
    "    df1['col4'] = (df1['logKFtau']>0).astype(int)*kright**2\n",
    "    df1['col5'] = (df1['logKFtau']>kright).astype(int)*(df1['logKFtau']-kright)\n",
    "    df1['col6'] = (df1['logKFtau']<kleft).astype(int)*(df1['logKFtau']-kleft)\n",
    "    h_mat = df1[['col0','col1','col2','col3','col4','col5','col6']].values\n",
    "    \n",
    " \n",
    "    pre_x = np.array([1, pre_params['skew_left'], pre_params['skew_right'], pre_params['conv_left'], pre_params['conv_right'], pre_params['rightwing'], pre_params['leftwing']])\n",
    "    z = df1['m'].values\n",
    "    kf_params = kf.simple_kalman_filter(z, pre_x, sigma, h_mat, sigma)\n",
    "\n",
    "    print(pre_x)\n",
    "    print(kf_params)\n",
    "    \n",
    "    lc_i = df['localcurve'].iloc[i]\n",
    "    kfc_param_dict = lc_i.params\n",
    "    kfc_param_dict['skew_left'] = kf_params[1]\n",
    "    kfc_param_dict['skew_right'] = kf_params[2]\n",
    "    kfc_param_dict['conv_left'] = kf_params[3]\n",
    "    kfc_param_dict['conv_right'] = kf_params[4]\n",
    "    kfc_param_dict['rightwing'] = kf_params[5]\n",
    "    kfc_param_dict['leftwing'] = kf_params[6]\n",
    "    kfc = VolCurve(lc_i.expiry_time_ms, kfc_param_dict)\n",
    "    \n",
    "    df['kfcurve'].iloc[i] = kfc"
   ]
  },
  {
   "cell_type": "code",
   "execution_count": null,
   "id": "938bee48-5451-477c-976c-5dadd7eda143",
   "metadata": {},
   "outputs": [],
   "source": [
    "df"
   ]
  },
  {
   "cell_type": "markdown",
   "id": "538680a8-ae5c-442f-9917-4293c25f8985",
   "metadata": {},
   "source": [
    "#### apply metric to check if the Kalman filter with sigma=0.001 is good or not?\n",
    "     * plot w.r.t time\n",
    "     * confluence"
   ]
  },
  {
   "cell_type": "code",
   "execution_count": null,
   "id": "9e5e5c53-689a-48e2-8d60-4fedebdd3f9a",
   "metadata": {},
   "outputs": [],
   "source": [
    "error3 =  df[['kfcurve','df']].apply(lambda x: fit_fun2(*x), axis=1).mean(1)"
   ]
  },
  {
   "cell_type": "code",
   "execution_count": null,
   "id": "1646d8bd-8c36-4eb1-b9fc-41914cbe8295",
   "metadata": {},
   "outputs": [],
   "source": [
    "error3.plot()"
   ]
  },
  {
   "cell_type": "code",
   "execution_count": null,
   "id": "53e1b4ae-355f-4dd5-ae9a-18b773f200a9",
   "metadata": {},
   "outputs": [],
   "source": [
    "error3.mean()"
   ]
  },
  {
   "cell_type": "code",
   "execution_count": null,
   "id": "e3c26dc8-2b68-4d4f-8b86-0ea4501d2f95",
   "metadata": {},
   "outputs": [],
   "source": [
    "error3.discribe()"
   ]
  }
 ],
 "metadata": {
  "kernelspec": {
   "display_name": "Python 3 (ipykernel)",
   "language": "python",
   "name": "python3"
  },
  "language_info": {
   "codemirror_mode": {
    "name": "ipython",
    "version": 3
   },
   "file_extension": ".py",
   "mimetype": "text/x-python",
   "name": "python",
   "nbconvert_exporter": "python",
   "pygments_lexer": "ipython3",
   "version": "3.8.8"
  }
 },
 "nbformat": 4,
 "nbformat_minor": 5
}
