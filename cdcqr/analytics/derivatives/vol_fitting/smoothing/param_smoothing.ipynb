{
 "cells": [
  {
   "cell_type": "code",
   "execution_count": null,
   "id": "ce8f8a64-f92c-4d6e-a1d6-3a20021b3e3b",
   "metadata": {},
   "outputs": [],
   "source": [
    "import pandas as pd\n",
    "import numpy as np\n",
    "import sys\n",
    "sys.path.insert(1,\"/core/github/cryptoderiv-quant-lib\")\n",
    "\n",
    "from cdcqr.analytics.derivatives.vol_fitting.smoothing.utils import cumsum_getTEvents, fit_fun2\n",
    "from scipy.interpolate import interp1d\n",
    "\n",
    "from cryptoderiv_quantlib import VolModels\n",
    "from cryptoderiv_quantlib import VolCurve, VolSurface, StickyOptions\n",
    "\n",
    "from cdcqr.analytics.derivatives.vol_fitting.smoothing import kalman_filter as kf\n",
    "from numpy.linalg import inv"
   ]
  },
  {
   "cell_type": "code",
   "execution_count": null,
   "id": "2e539462-e937-4661-81a7-9b467fe62bdc",
   "metadata": {},
   "outputs": [],
   "source": [
    "from importlib import reload"
   ]
  },
  {
   "cell_type": "code",
   "execution_count": null,
   "id": "0669f4fa-13d6-4d68-ac93-27ae952932a1",
   "metadata": {},
   "outputs": [],
   "source": [
    "MODEL_TO_TEST = \"parabolic_linear6\"\n",
    "model = VolModels.vol_model(MODEL_TO_TEST)"
   ]
  },
  {
   "cell_type": "code",
   "execution_count": null,
   "id": "906545de-4fff-4d04-b25c-e93a954522d1",
   "metadata": {},
   "outputs": [],
   "source": [
    "df1 = pd.read_pickle('/core/tmp/res2.pkl')\n",
    "df1['dt'] = pd.to_datetime(df1['t'], unit='ms')\n",
    "df1['exp_dt'] = pd.to_datetime(df1['expire'], unit='ms')\n",
    "df1.head(2)"
   ]
  },
  {
   "cell_type": "code",
   "execution_count": null,
   "id": "0c750a44-2a59-4ebf-a942-f207d171bf60",
   "metadata": {},
   "outputs": [],
   "source": [
    "df = df1.rename(columns={'localATM':'localvol_atm'})"
   ]
  },
  {
   "cell_type": "markdown",
   "id": "65cd1b42-5597-4cb7-a385-49355caf29c8",
   "metadata": {},
   "source": [
    "### 1) use vol_atm --> find rolling mean and std --> apply cumsum"
   ]
  },
  {
   "cell_type": "code",
   "execution_count": null,
   "id": "0f89ee7c-3498-4907-8849-85022662f61a",
   "metadata": {},
   "outputs": [],
   "source": [
    "print(df.shape)\n",
    "print(df.columns)\n",
    "lbw = 50"
   ]
  },
  {
   "cell_type": "code",
   "execution_count": null,
   "id": "f6f3cac4-5e4c-4e58-9d88-fce71cde8533",
   "metadata": {},
   "outputs": [],
   "source": [
    "df['ma_localvol_atm'] = df['localvol_atm'].rolling(lbw).mean()\n",
    "df['rstd_localvol_atm'] = df['localvol_atm'].rolling(lbw).std()\n",
    "df['zscore_localvol_atm'] = (df['localvol_atm']-df['ma_localvol_atm'])/df['rstd_localvol_atm']"
   ]
  },
  {
   "cell_type": "markdown",
   "id": "a996fa06-2c91-41c2-8e9d-db7b8e3e542f",
   "metadata": {
    "tags": []
   },
   "source": [
    "### 1.1) test a range of threshold for CUMSUM algo"
   ]
  },
  {
   "cell_type": "code",
   "execution_count": null,
   "id": "41503aec-4cd6-49f0-bd62-4b09c5717a54",
   "metadata": {
    "scrolled": true,
    "tags": []
   },
   "outputs": [],
   "source": [
    "h2events_ratio = {}\n",
    "n = df.shape[0] - lbw\n",
    "for h in np.linspace(0.5, 5, 100):\n",
    "    m = len(cumsum_getTEvents(df['zscore_localvol_atm'], h))\n",
    "    r = m/n\n",
    "    h2events_ratio[h] = r"
   ]
  },
  {
   "cell_type": "code",
   "execution_count": null,
   "id": "d65dc50b-df4e-4504-adcd-5777c40f2d15",
   "metadata": {},
   "outputs": [],
   "source": [
    "df_h2events_ratio = pd.DataFrame(h2events_ratio, index=[0]).T.reset_index()\n",
    "df_h2events_ratio.columns = ['cumsum_threshold', 'event_ratio']\n",
    "df_h2events_ratio = df_h2events_ratio.set_index('cumsum_threshold')\n",
    "df_h2events_ratio.plot()"
   ]
  },
  {
   "cell_type": "markdown",
   "id": "52ef3ecd-c692-4bca-b419-b2cb082b4160",
   "metadata": {},
   "source": [
    "#### 1.2) take h = 3 for example"
   ]
  },
  {
   "cell_type": "code",
   "execution_count": null,
   "id": "65652a90-cd7d-4c4d-bf61-613a4ee364cf",
   "metadata": {},
   "outputs": [],
   "source": [
    "h = 3\n",
    "interp1d(df_h2events_ratio.index, df_h2events_ratio['event_ratio'])([3])[0]"
   ]
  },
  {
   "cell_type": "code",
   "execution_count": null,
   "id": "7f94dbc0-2c7a-4b1a-80af-057f943ead18",
   "metadata": {},
   "outputs": [],
   "source": [
    "cumsum_event_index = cumsum_getTEvents(df['zscore_localvol_atm'], h)\n",
    "df['cumsum_event'] = False\n",
    "df.loc[cumsum_event_index, ['cumsum_event']]=True\n",
    "df['cumsum_event'].iloc[0]=True"
   ]
  },
  {
   "cell_type": "code",
   "execution_count": null,
   "id": "37170b17-24cf-40ba-9682-2d517891ae65",
   "metadata": {},
   "outputs": [],
   "source": [
    "df['cumsum_curve'] = df['localcurve']\n",
    "df['cumsum_curve'] = df['cumsum_curve'].where(df['cumsum_event'], np.nan)\n",
    "df['cumsum_curve'] = df['cumsum_curve'].ffill()"
   ]
  },
  {
   "cell_type": "markdown",
   "id": "04b07f57-d6b5-48c3-9e1f-a68c648991f3",
   "metadata": {},
   "source": [
    "#### 1.3) apply metric to check is the CUMSUM algo with h = 3 is good or not?"
   ]
  },
  {
   "cell_type": "code",
   "execution_count": null,
   "id": "88c064a8-dbc7-4489-b3cb-eae56c20936d",
   "metadata": {},
   "outputs": [],
   "source": [
    "error =  df[['cumsum_curve','df']].apply(lambda x: fit_fun2(*x), axis=1).mean(1)"
   ]
  },
  {
   "cell_type": "code",
   "execution_count": null,
   "id": "1efb51c4-f976-4e28-a64f-f76413fba0d3",
   "metadata": {},
   "outputs": [],
   "source": [
    "df.shape"
   ]
  },
  {
   "cell_type": "code",
   "execution_count": null,
   "id": "3939fb7d-4700-429c-b454-14eacb6e8866",
   "metadata": {},
   "outputs": [],
   "source": [
    "display(error.mean())"
   ]
  },
  {
   "cell_type": "code",
   "execution_count": null,
   "id": "1fee2629-f4eb-4f3a-aef2-9d804f10d92f",
   "metadata": {},
   "outputs": [],
   "source": [
    "df['error'] = error\n",
    "display(df.set_index('dt')['error'].plot())\n",
    "display(df.set_index('dt')['error'].describe())"
   ]
  },
  {
   "cell_type": "markdown",
   "id": "72eecc53-acc4-4d48-8ec9-a55719ced5be",
   "metadata": {},
   "source": [
    "### 2) at each time t, use the time series of mid iv of each strke = miv = (biv+aiv)/2 --> find the mean and std --> aggregate the z value --> apply cusum (or some variation of this)"
   ]
  },
  {
   "cell_type": "code",
   "execution_count": null,
   "id": "636e3c8f-5588-4c12-875d-38d76adea42a",
   "metadata": {},
   "outputs": [],
   "source": [
    "df0 = pd.read_pickle('/core/data/vol_smoothing_base_1.pkl')\n",
    "df0['dt'] = pd.to_datetime(df0['tm'], unit='ms')\n",
    "df0.head(2)"
   ]
  },
  {
   "cell_type": "code",
   "execution_count": null,
   "id": "48701e68-64cf-4f93-9ac2-3c6612f4315d",
   "metadata": {},
   "outputs": [],
   "source": [
    "display(df0.head(2))\n",
    "display(df.head(2))"
   ]
  },
  {
   "cell_type": "code",
   "execution_count": null,
   "id": "03df21cb-bacf-4a5e-995e-e25274fd3288",
   "metadata": {},
   "outputs": [],
   "source": [
    "df1 = pd.merge(left=df, right=df0[['tm','aiv','biv',]], left_on=['t'], right_on=['tm'], how='left').groupby('t').first().reset_index()"
   ]
  },
  {
   "cell_type": "code",
   "execution_count": null,
   "id": "a2eb01fa-93e3-4b11-a9a9-cf7ba1242aac",
   "metadata": {},
   "outputs": [],
   "source": [
    "df1['miv'] = 0.5*(df1['biv'] + df1['aiv'])"
   ]
  },
  {
   "cell_type": "code",
   "execution_count": null,
   "id": "e143dd3c-2cbf-4c9d-a55a-f57d232e3157",
   "metadata": {},
   "outputs": [],
   "source": [
    "df1['ma_miv'] = df1['miv'].rolling(lbw).mean()\n",
    "df1['rstd_miv'] = df1['miv'].rolling(lbw).std()\n",
    "df1['zscore_miv'] = (df1['miv']-df1['ma_miv'])/df1['rstd_miv']"
   ]
  },
  {
   "cell_type": "code",
   "execution_count": null,
   "id": "c35ab17a-7024-4cad-8c32-b82edfc8f589",
   "metadata": {},
   "outputs": [],
   "source": [
    "cumsum_event_index = cumsum_getTEvents(df1['zscore_miv'], h)\n",
    "df1['cumsum_event'] = False\n",
    "df1.loc[cumsum_event_index, ['cumsum_event']]=True\n",
    "df1['cumsum_event'].iloc[0]=True"
   ]
  },
  {
   "cell_type": "code",
   "execution_count": null,
   "id": "0708090e-f0bf-49b6-9b35-b0c09b4e0f27",
   "metadata": {},
   "outputs": [],
   "source": [
    "df1['cumsum_curve'] = df1['localcurve']\n",
    "df1['cumsum_curve'] = df1['cumsum_curve'].where(df1['cumsum_event'], np.nan)\n",
    "df1['cumsum_curve'] = df1['cumsum_curve'].ffill()"
   ]
  },
  {
   "cell_type": "markdown",
   "id": "b321811e-30cc-4a62-8471-05fb64a4966e",
   "metadata": {},
   "source": [
    "#### apply metric to check is the CUMSUM algo with h = 3 is good or not?"
   ]
  },
  {
   "cell_type": "code",
   "execution_count": null,
   "id": "a4aa9600-9646-460a-8d50-9ecab93d4b2f",
   "metadata": {},
   "outputs": [],
   "source": [
    "error =  df1[['cumsum_curve','df']].apply(lambda x: fit_fun2(*x), axis=1).mean(1)"
   ]
  },
  {
   "cell_type": "code",
   "execution_count": null,
   "id": "07f6bc2c-5187-450f-9519-9a05011c6103",
   "metadata": {},
   "outputs": [],
   "source": [
    "display(error.mean())"
   ]
  },
  {
   "cell_type": "code",
   "execution_count": null,
   "id": "e5fc395f-0f68-43f3-b8a0-c26c3d20eaef",
   "metadata": {},
   "outputs": [],
   "source": [
    "df['error'] = error\n",
    "display(df.set_index('dt')['error'].plot())"
   ]
  },
  {
   "cell_type": "code",
   "execution_count": null,
   "id": "2e0f5a68-5091-4184-b02d-a93b7c8cb1a7",
   "metadata": {},
   "outputs": [],
   "source": [
    "display(df.set_index('dt')['error'].describe())"
   ]
  },
  {
   "cell_type": "markdown",
   "id": "98eae583-28f0-43d3-b1f6-f670fd6048c0",
   "metadata": {},
   "source": [
    "### 3) at each time t, use the spread = aiv - biv as a measure of std (maybe spread = 2 std) --> use miv as the mean --> z value --> aggregate --> apply cusum"
   ]
  },
  {
   "cell_type": "code",
   "execution_count": null,
   "id": "56177862-b3bc-42a0-9c22-3eff3da653a3",
   "metadata": {},
   "outputs": [],
   "source": [
    "df2 = df1.copy()\n",
    "df2['iv_range'] = df2['biv'] - df2['aiv']\n",
    "df2['normalized_miv'] = (df2['miv']-df2['ma_miv'])/df2['iv_range']\n",
    "# try more methods"
   ]
  },
  {
   "cell_type": "code",
   "execution_count": null,
   "id": "eab8bac1-851a-4e55-97db-fdc4a729b2c1",
   "metadata": {},
   "outputs": [],
   "source": [
    "cumsum_event_index = cumsum_getTEvents(df2['normalized_miv'], h)\n",
    "df2['cumsum_event'] = False\n",
    "df2.loc[cumsum_event_index, ['cumsum_event']]=True\n",
    "df2['cumsum_event'].iloc[0]=True"
   ]
  },
  {
   "cell_type": "code",
   "execution_count": null,
   "id": "e03396d5-c030-4d0d-860b-4b03e5f3497c",
   "metadata": {},
   "outputs": [],
   "source": [
    "df2['cumsum_curve'] = df2['localcurve']\n",
    "df2['cumsum_curve'] = df2['cumsum_curve'].where(df2['cumsum_event'], np.nan)\n",
    "df2['cumsum_curve'] = df2['cumsum_curve'].ffill()"
   ]
  },
  {
   "cell_type": "markdown",
   "id": "7e613b99-89fd-4031-80b7-59a23800031f",
   "metadata": {},
   "source": [
    "#### apply metric to check is the CUMSUM algo with h = 3 is good or not?\n",
    "     * plot w.r.t time\n",
    "     * confluence"
   ]
  },
  {
   "cell_type": "code",
   "execution_count": null,
   "id": "0ed0e249-a7a2-4463-a606-426e62044475",
   "metadata": {},
   "outputs": [],
   "source": [
    "error2 =  df2[['cumsum_curve','df']].apply(lambda x: fit_fun2(*x), axis=1).mean(1)"
   ]
  },
  {
   "cell_type": "code",
   "execution_count": null,
   "id": "f845ca9d-cb1d-40a1-9f24-6f1d19ca5e8e",
   "metadata": {},
   "outputs": [],
   "source": [
    "df['error'] = error2\n",
    "display(df.set_index('dt')['error'].plot())"
   ]
  },
  {
   "cell_type": "code",
   "execution_count": null,
   "id": "9f6ccc52-be56-42a7-8424-282250924c2d",
   "metadata": {},
   "outputs": [],
   "source": [
    "display(df.set_index('dt')['error'].describe())"
   ]
  },
  {
   "cell_type": "markdown",
   "id": "ea753435-9529-4988-87ad-f7a10a7a1bed",
   "metadata": {},
   "source": [
    "## Kalman filter smoothing"
   ]
  },
  {
   "cell_type": "code",
   "execution_count": null,
   "id": "34ffe962-1624-4091-80cd-3b9fa64f682d",
   "metadata": {},
   "outputs": [],
   "source": [
    "kright = 1.5\n",
    "kleft = -1.5"
   ]
  },
  {
   "cell_type": "code",
   "execution_count": null,
   "id": "c1c1a2d8-951d-4aae-a9b8-02194475107e",
   "metadata": {},
   "outputs": [],
   "source": [
    "S = df1['s'].iloc[0]\n",
    "\n",
    "volATM = interp1d(df1.index, df1['m'])([S])[0]"
   ]
  },
  {
   "cell_type": "code",
   "execution_count": null,
   "id": "44cd5f1a-fb8c-416c-80ca-6f9518b8d636",
   "metadata": {},
   "outputs": [],
   "source": [
    "df1.head(5)"
   ]
  },
  {
   "cell_type": "code",
   "execution_count": null,
   "id": "7143c672-0f1b-4457-94d1-6d2c320f327a",
   "metadata": {},
   "outputs": [],
   "source": [
    "# observations\n",
    "z = df1['m'].values"
   ]
  },
  {
   "cell_type": "code",
   "execution_count": null,
   "id": "1218a5a2-dee5-49a0-a00c-61b14274cd52",
   "metadata": {},
   "outputs": [],
   "source": [
    "# transformation matrix\n",
    "\n",
    "df1['col0'] = volATM\n",
    "df1['col1'] = (df1['logKFtau']<0).astype(int)*kleft\n",
    "df1['col2'] = (df1['logKFtau']>0).astype(int)*kright\n",
    "df1['col3'] = (df1['logKFtau']<0).astype(int)*kleft**2\n",
    "df1['col4'] = (df1['logKFtau']>0).astype(int)*kright**2\n",
    "df1['col5'] = (df1['logKFtau']>kright).astype(int)*(df1['logKFtau']-kright)\n",
    "df1['col6'] = (df1['logKFtau']<kleft).astype(int)*(df1['logKFtau']-kleft)\n",
    "\n",
    "h_mat = df1[['col0','col1','col2','col3','col4','col5','col6']].values"
   ]
  },
  {
   "cell_type": "code",
   "execution_count": null,
   "id": "fb4b78a9-3fb9-45bf-8575-8aca53cb0a34",
   "metadata": {},
   "outputs": [],
   "source": [
    "kalman_vc = VolCurve()"
   ]
  },
  {
   "cell_type": "code",
   "execution_count": null,
   "id": "60612db6-3995-4c42-99ac-6eca47bc800a",
   "metadata": {},
   "outputs": [],
   "source": [
    "df['localcurve'][0].params"
   ]
  },
  {
   "cell_type": "code",
   "execution_count": null,
   "id": "be6eb45f-4527-4096-a2b4-daf43b275e64",
   "metadata": {},
   "outputs": [],
   "source": [
    "df_parames = df[['localskew_left','localskew_right','localconv_left','localconv_right','localrightwing','localleftwing']]#['localcurve'][10].params"
   ]
  },
  {
   "cell_type": "code",
   "execution_count": null,
   "id": "3c9f5508-e1c0-4156-b2be-0d399e19af72",
   "metadata": {},
   "outputs": [],
   "source": [
    "df_parames.describe()"
   ]
  },
  {
   "cell_type": "code",
   "execution_count": null,
   "id": "e9bac173-e864-4dbc-bcd6-3b813c66caae",
   "metadata": {},
   "outputs": [],
   "source": [
    "reload(kf)\n",
    "display(pre_x)\n",
    "sigma = 0.001\n",
    "kf_params = kf.simple_kalman_filter(z, pre_x, sigma, h_mat, sigma, sigma)"
   ]
  },
  {
   "cell_type": "code",
   "execution_count": null,
   "id": "00202318-9bee-486e-ba03-3c9e42848d99",
   "metadata": {
    "scrolled": true,
    "tags": []
   },
   "outputs": [],
   "source": [
    "df['kfcurve'] = None\n",
    "df['kfcurve'].iloc[0] = df['localcurve'].iloc[0]\n",
    "\n",
    "localcurve0 =  df['localcurve'].iloc[0]\n",
    "pre_params = localcurve0.params\n",
    "pre_x = np.array([1, pre_params['skew_left'], pre_params['skew_right'], pre_params['conv_left'], pre_params['conv_right'], pre_params['rightwing'], pre_params['leftwing']])\n",
    "sigma = 0.001\n",
    "sigma1 = 0.000001 # using spread informaiton\n",
    "sigma2 = 0.01 # using spread informaiton\n",
    "for i in range(1, df.shape[0]):        \n",
    "    print('---------------------------', i, '---------------------------')\n",
    "    \n",
    "    df1 = df['df'].iloc[i]\n",
    "    \n",
    "    pre_params = df['kfcurve'].iloc[i-1].params\n",
    "    kleft = pre_params['kleft']\n",
    "    kright = pre_params['kright']\n",
    "    \n",
    "    S = df1['s'].iloc[0]\n",
    "    volATM = interp1d(df1.index, df1['m'])([S])[0]\n",
    "    df1['col0'] = volATM\n",
    "    df1['col1'] = (df1['logKFtau']<0).astype(int)*kleft\n",
    "    df1['col2'] = (df1['logKFtau']>0).astype(int)*kright\n",
    "    df1['col3'] = (df1['logKFtau']<0).astype(int)*kleft**2\n",
    "    df1['col4'] = (df1['logKFtau']>0).astype(int)*kright**2\n",
    "    df1['col5'] = (df1['logKFtau']>kright).astype(int)*(df1['logKFtau']-kright)\n",
    "    df1['col6'] = (df1['logKFtau']<kleft).astype(int)*(df1['logKFtau']-kleft)\n",
    "    h_mat = df1[['col0','col1','col2','col3','col4','col5','col6']].values\n",
    "    \n",
    " \n",
    "    pre_x = np.array([1, pre_params['skew_left'], pre_params['skew_right'], pre_params['conv_left'], pre_params['conv_right'], pre_params['rightwing'], pre_params['leftwing']])\n",
    "    z = df1['m'].values\n",
    "    aiv = df1.loc[df1['myvol'].idxmin()]['aiv']\n",
    "    biv = df1.loc[df1['myvol'].idxmin()]['biv']\n",
    "    scale = (1+aiv-biv)**3\n",
    "    kf_params = kf.simple_kalman_filter(z, pre_x, sigma, h_mat, sigma1, sigma2)\n",
    "\n",
    "    print(pre_x)\n",
    "    print(kf_params)\n",
    "    \n",
    "    lc_i = df['localcurve'].iloc[i]\n",
    "    kfc_param_dict = lc_i.params\n",
    "    kfc_param_dict['skew_left'] = kf_params[1]\n",
    "    kfc_param_dict['skew_right'] = kf_params[2]\n",
    "    kfc_param_dict['conv_left'] = kf_params[3]\n",
    "    kfc_param_dict['conv_right'] = kf_params[4]\n",
    "    kfc_param_dict['rightwing'] = kf_params[5]\n",
    "    kfc_param_dict['leftwing'] = kf_params[6]\n",
    "    kfc = VolCurve(lc_i.expiry_time_ms, kfc_param_dict)\n",
    "    \n",
    "    df['kfcurve'].iloc[i] = kfc"
   ]
  },
  {
   "cell_type": "markdown",
   "id": "538680a8-ae5c-442f-9917-4293c25f8985",
   "metadata": {},
   "source": [
    "#### apply metric to check if the Kalman filter with sigma=0.001 is good or not?\n",
    "     * plot w.r.t time\n",
    "     * confluence"
   ]
  },
  {
   "cell_type": "code",
   "execution_count": null,
   "id": "9e5e5c53-689a-48e2-8d60-4fedebdd3f9a",
   "metadata": {},
   "outputs": [],
   "source": [
    "error3 =  df[['kfcurve','df']].apply(lambda x: fit_fun2(*x), axis=1).mean(1)"
   ]
  },
  {
   "cell_type": "code",
   "execution_count": null,
   "id": "1646d8bd-8c36-4eb1-b9fc-41914cbe8295",
   "metadata": {},
   "outputs": [],
   "source": [
    "df['error'] = error3\n",
    "display(df.set_index('dt')['error'].plot())"
   ]
  },
  {
   "cell_type": "code",
   "execution_count": null,
   "id": "5fe7befe-4d30-47df-9fc0-69cd9cd6a557",
   "metadata": {},
   "outputs": [],
   "source": [
    "error3.describe()"
   ]
  },
  {
   "cell_type": "markdown",
   "id": "d8bd8268-9762-4050-ae36-eff3db5a8171",
   "metadata": {},
   "source": [
    "### EWMA Methods"
   ]
  },
  {
   "cell_type": "code",
   "execution_count": null,
   "id": "f4d043a6-553d-42c1-a402-9a25ff7fd6ce",
   "metadata": {
    "scrolled": true,
    "tags": []
   },
   "outputs": [],
   "source": [
    "def curve2params(curve):\n",
    "    d = curve.params\n",
    "    return d['skew_left'],d['skew_right'],d['conv_left'],d['conv_right'],d['rightwing'],d['leftwing']"
   ]
  },
  {
   "cell_type": "code",
   "execution_count": null,
   "id": "db98b79d-31d6-427c-9407-e6d260d00f21",
   "metadata": {},
   "outputs": [],
   "source": [
    "df['skew_left'], df['skew_right'], df['conv_left'], df['conv_right'], df['rightwing'], df['leftwing'] = zip(*df['localcurve'].map(curve2params))"
   ]
  },
  {
   "cell_type": "code",
   "execution_count": null,
   "id": "d77a8c09-ccfb-4fd2-90e1-57df01a69a8f",
   "metadata": {},
   "outputs": [],
   "source": [
    "alpha = 0.1\n",
    "for param in ['skew_left','skew_right','conv_left','conv_right','rightwing','leftwing']:\n",
    "    new_param = '{}_ewma'.format(param)\n",
    "    df[new_param] = df[param].ewm(alpha=alpha).mean()"
   ]
  },
  {
   "cell_type": "code",
   "execution_count": null,
   "id": "2e28503a-2fd3-43e9-9f6c-58859cff4550",
   "metadata": {},
   "outputs": [],
   "source": [
    "df['ewma_curve'] = df['localcurve']\n",
    "for i in range(df.shape[0]):\n",
    "    row = df.iloc[i,:]\n",
    "    curve = df['ewma_curve'].iloc[i]\n",
    "    d = curve.params\n",
    "    for param in ['skew_left','skew_right','conv_left','conv_right','rightwing','leftwing']:\n",
    "        new_param = '{}_ewma'.format(param)\n",
    "        d[param] = row[new_param]\n",
    "    \n",
    "    new_curve = VolCurve(curve.expiry_time_ms, d, curve.is_valid)\n",
    "    df.loc[i, 'ewma_curve'] = new_curve"
   ]
  },
  {
   "cell_type": "code",
   "execution_count": null,
   "id": "1729285d-0d04-46f3-bf89-c4e0c00dcb0a",
   "metadata": {},
   "outputs": [],
   "source": [
    "error_ewma =  df[['ewma_curve','df']].apply(lambda x: fit_fun2(*x), axis=1).mean(1)"
   ]
  },
  {
   "cell_type": "code",
   "execution_count": null,
   "id": "32f34fcb-ace7-40d6-aa6e-32715c5f4215",
   "metadata": {},
   "outputs": [],
   "source": [
    "df['error_ewma'] = error_ewma\n",
    "display(df.set_index('dt')['error_ewma'].plot())"
   ]
  },
  {
   "cell_type": "code",
   "execution_count": null,
   "id": "1f70b71b-64f8-477b-9ac2-d6705b7d6b5c",
   "metadata": {},
   "outputs": [],
   "source": [
    "df['error_ewma'].describe()"
   ]
  },
  {
   "cell_type": "code",
   "execution_count": null,
   "id": "f66d69e1-740f-473f-a6cf-abe0b97923a8",
   "metadata": {},
   "outputs": [],
   "source": [
    "error_local =  df[['localcurve','df']].apply(lambda x: fit_fun2(*x), axis=1).mean(1)"
   ]
  },
  {
   "cell_type": "code",
   "execution_count": null,
   "id": "e8095c9d-ec2a-4290-97c5-30984a1141d0",
   "metadata": {},
   "outputs": [],
   "source": [
    "df['error_local'] = error_local\n",
    "display(df.set_index('dt')['error_local'].plot())"
   ]
  },
  {
   "cell_type": "code",
   "execution_count": null,
   "id": "21d03193-2454-446d-8415-b3fe84b3511a",
   "metadata": {},
   "outputs": [],
   "source": [
    "error_local.describe()"
   ]
  }
 ],
 "metadata": {
  "kernelspec": {
   "display_name": "Python 3 (ipykernel)",
   "language": "python",
   "name": "python3"
  },
  "language_info": {
   "codemirror_mode": {
    "name": "ipython",
    "version": 3
   },
   "file_extension": ".py",
   "mimetype": "text/x-python",
   "name": "python",
   "nbconvert_exporter": "python",
   "pygments_lexer": "ipython3",
   "version": "3.8.8"
  }
 },
 "nbformat": 4,
 "nbformat_minor": 5
}
