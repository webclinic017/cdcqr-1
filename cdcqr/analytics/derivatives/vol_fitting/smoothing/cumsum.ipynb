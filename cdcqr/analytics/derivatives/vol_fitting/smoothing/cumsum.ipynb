{
 "cells": [
  {
   "cell_type": "code",
   "execution_count": 10,
   "id": "ce8f8a64-f92c-4d6e-a1d6-3a20021b3e3b",
   "metadata": {},
   "outputs": [],
   "source": [
    "import pandas as pd\n",
    "import numpy as np"
   ]
  },
  {
   "cell_type": "code",
   "execution_count": 2,
   "id": "c803d767-c066-42f9-9b7a-0957be3f10c7",
   "metadata": {},
   "outputs": [],
   "source": [
    "def cusum_events(df: pd.DataFrame,\n",
    "                 h: float=None,\n",
    "                 span: int=100,\n",
    "                 devs: float=2.5) -> pd.DataFrame:\n",
    "    '''    \n",
    "    Compute CUSUM events for a given price series.    \n",
    "    Args:        \n",
    "    df (pd.DataFrame): Dataframe with price time series                           \n",
    "    in a single column.        \n",
    "    h (float): Arbitrary cumulative returns value limit to trigger                   \n",
    "    the CUSUM filter. \n",
    "    The filter is symmetric. \n",
    "    If h is None exponentially weighted standard deviation will                   \n",
    "    be used.        \n",
    "    span (int): Span for exponential weighting of standard deviation.        \n",
    "    devs (float): Standard deviations to compute variable                       \n",
    "    trigger limits if h is not defined.\n",
    "    Returns:        \n",
    "    pd.DataFrame: Dataframe containing differentiated series.    \n",
    "    '''    \n",
    "    # Events e:\n",
    "    e = pd.DataFrame(0, index=df.index,\n",
    "                     columns=['CUSUM_Event'])\n",
    "    s_pos = 0\n",
    "    s_neg = 0\n",
    "    r = df.pct_change()\n",
    "    \n",
    "    for idx in r.index:\n",
    "        if h is None:\n",
    "            h_ = r[:idx].ewm(span=span).std().values[-1][0]*devs\n",
    "        else: h_ = h\n",
    "        s_pos = max(0, s_pos+r.loc[idx].values)\n",
    "        s_neg = min(0, s_neg+r.loc[idx].values)        \n",
    "        if s_neg < -h_:\n",
    "            s_neg = 0\n",
    "            e.loc[idx] = -1 \n",
    "        elif s_pos > h_:\n",
    "            s_pos = 0\n",
    "            e.loc[idx] = 1\n",
    "    \n",
    "    return e"
   ]
  },
  {
   "cell_type": "code",
   "execution_count": null,
   "id": "d9837335-0edb-4579-ba38-6221ad367c0e",
   "metadata": {},
   "outputs": [],
   "source": [
    "This function takes a price series dataframe and an arbitrary returns limit h to calculate fixed events. If no h limit is defined, span and devs will control the ewm and the deviations to generate events.\n",
    "\n",
    "\n",
    "Let us get some very common close prices for our testing and checking of the function:\n",
    "\n",
    "self = QuantBook()\n",
    "spy = self.AddEquity('SPY').Symbol\n",
    "bonds = self.AddEquity('TLT').Symbol\n",
    "start = datetime(2010,1,1)\n",
    "end = datetime(2020,1,1)\n",
    "spy_close = self.History(spy, start, end, Resolution.Daily).unstack(level=0)['close']\n",
    "bonds_close = self.History(bonds, start, end, Resolution.Daily).unstack(level=0)['close']"
   ]
  },
  {
   "cell_type": "code",
   "execution_count": 42,
   "id": "8f27ff62-6db7-4b47-bcb9-f35fab1ff487",
   "metadata": {},
   "outputs": [],
   "source": [
    "def getTEvents(gRaw,h):\n",
    "    tEvents = []\n",
    "    sPos = 0\n",
    "    sNeg = 0\n",
    "    diff=gRaw.diff()\n",
    "    for i in diff.index[1:]:\n",
    "        sPos = max(0,sPos+diff.loc[i][0])\n",
    "        sNeg = min(0,sNeg+diff.loc[i][0])\n",
    "        if sNeg<-h:\n",
    "            sNeg=0;\n",
    "            tEvents.append(i)\n",
    "        elif sPos>h:\n",
    "            sPos=0;\n",
    "            tEvents.append(i)\n",
    "    # return pd.DatetimeIndex(tEvents)\n",
    "    return tEvents"
   ]
  },
  {
   "cell_type": "code",
   "execution_count": 44,
   "id": "101dd394-48fa-4615-85b9-f8c088c0e129",
   "metadata": {},
   "outputs": [
    {
     "data": {
      "text/plain": [
       "[1, 4, 7, 9]"
      ]
     },
     "execution_count": 44,
     "metadata": {},
     "output_type": "execute_result"
    }
   ],
   "source": [
    "gRaw = v \n",
    "getTEvents(gRaw,0.2)"
   ]
  },
  {
   "cell_type": "code",
   "execution_count": null,
   "id": "159a7060-4160-43a7-8ad6-b99beb982475",
   "metadata": {},
   "outputs": [],
   "source": [
    "v"
   ]
  },
  {
   "cell_type": "code",
   "execution_count": 25,
   "id": "6373fcb9-88b1-49cb-8b15-4bc03726afc9",
   "metadata": {},
   "outputs": [
    {
     "data": {
      "text/html": [
       "<div>\n",
       "<style scoped>\n",
       "    .dataframe tbody tr th:only-of-type {\n",
       "        vertical-align: middle;\n",
       "    }\n",
       "\n",
       "    .dataframe tbody tr th {\n",
       "        vertical-align: top;\n",
       "    }\n",
       "\n",
       "    .dataframe thead th {\n",
       "        text-align: right;\n",
       "    }\n",
       "</style>\n",
       "<table border=\"1\" class=\"dataframe\">\n",
       "  <thead>\n",
       "    <tr style=\"text-align: right;\">\n",
       "      <th></th>\n",
       "      <th>0</th>\n",
       "    </tr>\n",
       "  </thead>\n",
       "  <tbody>\n",
       "    <tr>\n",
       "      <th>0</th>\n",
       "      <td>0.000000</td>\n",
       "    </tr>\n",
       "    <tr>\n",
       "      <th>1</th>\n",
       "      <td>-0.436992</td>\n",
       "    </tr>\n",
       "    <tr>\n",
       "      <th>2</th>\n",
       "      <td>-0.195239</td>\n",
       "    </tr>\n",
       "    <tr>\n",
       "      <th>3</th>\n",
       "      <td>0.051552</td>\n",
       "    </tr>\n",
       "    <tr>\n",
       "      <th>4</th>\n",
       "      <td>0.193897</td>\n",
       "    </tr>\n",
       "    <tr>\n",
       "      <th>5</th>\n",
       "      <td>0.191819</td>\n",
       "    </tr>\n",
       "    <tr>\n",
       "      <th>6</th>\n",
       "      <td>-0.152077</td>\n",
       "    </tr>\n",
       "    <tr>\n",
       "      <th>7</th>\n",
       "      <td>0.203788</td>\n",
       "    </tr>\n",
       "    <tr>\n",
       "      <th>8</th>\n",
       "      <td>0.024416</td>\n",
       "    </tr>\n",
       "    <tr>\n",
       "      <th>9</th>\n",
       "      <td>-0.225164</td>\n",
       "    </tr>\n",
       "  </tbody>\n",
       "</table>\n",
       "</div>"
      ],
      "text/plain": [
       "          0\n",
       "0  0.000000\n",
       "1 -0.436992\n",
       "2 -0.195239\n",
       "3  0.051552\n",
       "4  0.193897\n",
       "5  0.191819\n",
       "6 -0.152077\n",
       "7  0.203788\n",
       "8  0.024416\n",
       "9 -0.225164"
      ]
     },
     "execution_count": 25,
     "metadata": {},
     "output_type": "execute_result"
    }
   ],
   "source": [
    "tEvents = []\n",
    "sPos = 0\n",
    "sNeg = 0\n",
    "diff=gRaw.diff().fillna(0)\n",
    "diff"
   ]
  },
  {
   "cell_type": "code",
   "execution_count": 30,
   "id": "fd27a0b3-56f4-47b6-ac90-d40a1146b739",
   "metadata": {},
   "outputs": [
    {
     "data": {
      "text/plain": [
       "-0.4369916510575701"
      ]
     },
     "execution_count": 30,
     "metadata": {},
     "output_type": "execute_result"
    }
   ],
   "source": [
    "diff.loc[i][0]"
   ]
  },
  {
   "cell_type": "code",
   "execution_count": 31,
   "id": "2f4d7107-301c-4045-88ae-603b2e65ad29",
   "metadata": {},
   "outputs": [
    {
     "ename": "NameError",
     "evalue": "name 'h' is not defined",
     "output_type": "error",
     "traceback": [
      "\u001b[1;31m---------------------------------------------------------------------------\u001b[0m",
      "\u001b[1;31mNameError\u001b[0m                                 Traceback (most recent call last)",
      "\u001b[1;32m~\\AppData\\Local\\Temp/ipykernel_35436/1833819786.py\u001b[0m in \u001b[0;36m<module>\u001b[1;34m\u001b[0m\n\u001b[0;32m      3\u001b[0m     \u001b[0msNeg\u001b[0m \u001b[1;33m=\u001b[0m \u001b[0mmin\u001b[0m\u001b[1;33m(\u001b[0m\u001b[1;36m0\u001b[0m\u001b[1;33m,\u001b[0m\u001b[0msNeg\u001b[0m\u001b[1;33m+\u001b[0m\u001b[0mdiff\u001b[0m\u001b[1;33m.\u001b[0m\u001b[0mloc\u001b[0m\u001b[1;33m[\u001b[0m\u001b[0mi\u001b[0m\u001b[1;33m]\u001b[0m\u001b[1;33m[\u001b[0m\u001b[1;36m0\u001b[0m\u001b[1;33m]\u001b[0m\u001b[1;33m)\u001b[0m\u001b[1;33m\u001b[0m\u001b[1;33m\u001b[0m\u001b[0m\n\u001b[0;32m      4\u001b[0m \u001b[1;33m\u001b[0m\u001b[0m\n\u001b[1;32m----> 5\u001b[1;33m     \u001b[1;32mif\u001b[0m \u001b[0msNeg\u001b[0m\u001b[1;33m<\u001b[0m\u001b[1;33m-\u001b[0m\u001b[0mh\u001b[0m\u001b[1;33m:\u001b[0m\u001b[1;33m\u001b[0m\u001b[1;33m\u001b[0m\u001b[0m\n\u001b[0m\u001b[0;32m      6\u001b[0m         \u001b[0msNeg\u001b[0m\u001b[1;33m=\u001b[0m\u001b[1;36m0\u001b[0m\u001b[1;33m;\u001b[0m\u001b[0mtEvents\u001b[0m\u001b[1;33m.\u001b[0m\u001b[0mappend\u001b[0m\u001b[1;33m(\u001b[0m\u001b[0mi\u001b[0m\u001b[1;33m)\u001b[0m\u001b[1;33m\u001b[0m\u001b[1;33m\u001b[0m\u001b[0m\n\u001b[0;32m      7\u001b[0m     \u001b[1;32melif\u001b[0m \u001b[0msPos\u001b[0m\u001b[1;33m>\u001b[0m\u001b[0mh\u001b[0m\u001b[1;33m:\u001b[0m\u001b[1;33m\u001b[0m\u001b[1;33m\u001b[0m\u001b[0m\n",
      "\u001b[1;31mNameError\u001b[0m: name 'h' is not defined"
     ]
    }
   ],
   "source": [
    "for i in diff.index[1:]:\n",
    "    sPos = max(0,sPos+diff.loc[i][0])\n",
    "    sNeg = min(0,sNeg+diff.loc[i][0])\n",
    "   \n",
    "    if sNeg<-h:\n",
    "        sNeg=0;tEvents.append(i)\n",
    "    elif sPos>h:\n",
    "        sPos=0;tEvents.append(i)"
   ]
  },
  {
   "cell_type": "code",
   "execution_count": null,
   "id": "0c750a44-2a59-4ebf-a942-f207d171bf60",
   "metadata": {},
   "outputs": [],
   "source": []
  }
 ],
 "metadata": {
  "kernelspec": {
   "display_name": "Python 3 (ipykernel)",
   "language": "python",
   "name": "python3"
  },
  "language_info": {
   "codemirror_mode": {
    "name": "ipython",
    "version": 3
   },
   "file_extension": ".py",
   "mimetype": "text/x-python",
   "name": "python",
   "nbconvert_exporter": "python",
   "pygments_lexer": "ipython3",
   "version": "3.8.8"
  }
 },
 "nbformat": 4,
 "nbformat_minor": 5
}
