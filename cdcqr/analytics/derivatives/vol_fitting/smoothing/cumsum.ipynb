{
 "cells": [
  {
   "cell_type": "code",
   "execution_count": null,
   "id": "ce8f8a64-f92c-4d6e-a1d6-3a20021b3e3b",
   "metadata": {},
   "outputs": [],
   "source": [
    "import pandas as pd\n",
    "import numpy as np"
   ]
  },
  {
   "cell_type": "code",
   "execution_count": null,
   "id": "c803d767-c066-42f9-9b7a-0957be3f10c7",
   "metadata": {},
   "outputs": [],
   "source": [
    "def cusum_events(df: pd.DataFrame,\n",
    "                 h: float=None,\n",
    "                 span: int=100,\n",
    "                 devs: float=2.5) -> pd.DataFrame:\n",
    "    '''    \n",
    "    Compute CUSUM events for a given price series.    \n",
    "    Args:        \n",
    "    df (pd.DataFrame): Dataframe with price time series                           \n",
    "    in a single column.        \n",
    "    h (float): Arbitrary cumulative returns value limit to trigger                   \n",
    "    the CUSUM filter. \n",
    "    The filter is symmetric. \n",
    "    If h is None exponentially weighted standard deviation will                   \n",
    "    be used.        \n",
    "    span (int): Span for exponential weighting of standard deviation.        \n",
    "    devs (float): Standard deviations to compute variable                       \n",
    "    trigger limits if h is not defined.\n",
    "    Returns:        \n",
    "    pd.DataFrame: Dataframe containing differentiated series.    \n",
    "    '''    \n",
    "    # Events e:\n",
    "    e = pd.DataFrame(0, index=df.index,\n",
    "                     columns=['CUSUM_Event'])\n",
    "    s_pos = 0\n",
    "    s_neg = 0\n",
    "    r = df.pct_change()\n",
    "    \n",
    "    for idx in r.index:\n",
    "        if h is None:\n",
    "            h_ = r[:idx].ewm(span=span).std().values[-1][0]*devs\n",
    "        else: h_ = h\n",
    "        s_pos = max(0, s_pos+r.loc[idx].values)\n",
    "        s_neg = min(0, s_neg+r.loc[idx].values)        \n",
    "        if s_neg < -h_:\n",
    "            s_neg = 0\n",
    "            e.loc[idx] = -1 \n",
    "        elif s_pos > h_:\n",
    "            s_pos = 0\n",
    "            e.loc[idx] = 1\n",
    "    \n",
    "    return e"
   ]
  },
  {
   "cell_type": "code",
   "execution_count": null,
   "id": "d9837335-0edb-4579-ba38-6221ad367c0e",
   "metadata": {},
   "outputs": [],
   "source": [
    "This function takes a price series dataframe and an arbitrary returns limit h to calculate fixed events. If no h limit is defined, span and devs will control the ewm and the deviations to generate events.\n",
    "\n",
    "\n",
    "Let us get some very common close prices for our testing and checking of the function:\n",
    "\n",
    "self = QuantBook()\n",
    "spy = self.AddEquity('SPY').Symbol\n",
    "bonds = self.AddEquity('TLT').Symbol\n",
    "start = datetime(2010,1,1)\n",
    "end = datetime(2020,1,1)\n",
    "spy_close = self.History(spy, start, end, Resolution.Daily).unstack(level=0)['close']\n",
    "bonds_close = self.History(bonds, start, end, Resolution.Daily).unstack(level=0)['close']"
   ]
  },
  {
   "cell_type": "code",
   "execution_count": null,
   "id": "8f27ff62-6db7-4b47-bcb9-f35fab1ff487",
   "metadata": {},
   "outputs": [],
   "source": [
    "def getTEvents(gRaw,h):\n",
    "    tEvents = []\n",
    "    sPos = 0\n",
    "    sNeg = 0\n",
    "    diff=gRaw.diff()\n",
    "    for i in diff.index[1:]:\n",
    "        sPos = max(0,sPos+diff.loc[i][0])\n",
    "        sNeg = min(0,sNeg+diff.loc[i][0])\n",
    "        if sNeg<-h:\n",
    "            sNeg=0;\n",
    "            tEvents.append(i)\n",
    "        elif sPos>h:\n",
    "            sPos=0;\n",
    "            tEvents.append(i)\n",
    "    # return pd.DatetimeIndex(tEvents)\n",
    "    return tEvents"
   ]
  },
  {
   "cell_type": "code",
   "execution_count": null,
   "id": "101dd394-48fa-4615-85b9-f8c088c0e129",
   "metadata": {},
   "outputs": [],
   "source": [
    "gRaw = v \n",
    "getTEvents(gRaw,0.2)"
   ]
  },
  {
   "cell_type": "code",
   "execution_count": null,
   "id": "159a7060-4160-43a7-8ad6-b99beb982475",
   "metadata": {},
   "outputs": [],
   "source": [
    "v"
   ]
  },
  {
   "cell_type": "code",
   "execution_count": null,
   "id": "6373fcb9-88b1-49cb-8b15-4bc03726afc9",
   "metadata": {},
   "outputs": [],
   "source": [
    "tEvents = []\n",
    "sPos = 0\n",
    "sNeg = 0\n",
    "diff=gRaw.diff().fillna(0)\n",
    "diff"
   ]
  },
  {
   "cell_type": "code",
   "execution_count": null,
   "id": "fd27a0b3-56f4-47b6-ac90-d40a1146b739",
   "metadata": {},
   "outputs": [],
   "source": [
    "diff.loc[i][0]"
   ]
  },
  {
   "cell_type": "code",
   "execution_count": null,
   "id": "2f4d7107-301c-4045-88ae-603b2e65ad29",
   "metadata": {},
   "outputs": [],
   "source": [
    "for i in diff.index[1:]:\n",
    "    sPos = max(0,sPos+diff.loc[i][0])\n",
    "    sNeg = min(0,sNeg+diff.loc[i][0])\n",
    "   \n",
    "    if sNeg<-h:\n",
    "        sNeg=0;tEvents.append(i)\n",
    "    elif sPos>h:\n",
    "        sPos=0;tEvents.append(i)"
   ]
  },
  {
   "cell_type": "code",
   "execution_count": null,
   "id": "0c750a44-2a59-4ebf-a942-f207d171bf60",
   "metadata": {},
   "outputs": [],
   "source": []
  }
 ],
 "metadata": {
  "kernelspec": {
   "display_name": "Python 3 (ipykernel)",
   "language": "python",
   "name": "python3"
  },
  "language_info": {
   "codemirror_mode": {
    "name": "ipython",
    "version": 3
   },
   "file_extension": ".py",
   "mimetype": "text/x-python",
   "name": "python",
   "nbconvert_exporter": "python",
   "pygments_lexer": "ipython3",
   "version": "3.8.8"
  }
 },
 "nbformat": 4,
 "nbformat_minor": 5
}
