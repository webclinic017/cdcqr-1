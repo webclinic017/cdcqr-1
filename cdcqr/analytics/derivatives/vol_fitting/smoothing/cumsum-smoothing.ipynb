{
 "cells": [
  {
   "cell_type": "code",
   "execution_count": 13,
   "id": "ce8f8a64-f92c-4d6e-a1d6-3a20021b3e3b",
   "metadata": {},
   "outputs": [],
   "source": [
    "import pandas as pd\n",
    "import numpy as np\n",
    "import sys\n",
    "sys.path.insert(1,\"/core/github/cryptoderiv-quant-lib\")\n",
    "\n",
    "from cdcqr.analytics.derivatives.vol_fitting.smoothing.utils import cumsum_getTEvents, fit_fun2\n",
    "from scipy.interpolate import interp1d\n",
    "\n",
    "from cryptoderiv_quantlib import VolModels\n",
    "from cryptoderiv_quantlib import VolCurve, VolSurface, StickyOptions\n",
    "\n",
    "from cdcqr.analytics.derivatives.vol_fitting.smoothing import kalman_filter as kf"
   ]
  },
  {
   "cell_type": "code",
   "execution_count": 14,
   "id": "2e539462-e937-4661-81a7-9b467fe62bdc",
   "metadata": {},
   "outputs": [],
   "source": [
    "from importlib import reload"
   ]
  },
  {
   "cell_type": "code",
   "execution_count": 15,
   "id": "0669f4fa-13d6-4d68-ac93-27ae952932a1",
   "metadata": {},
   "outputs": [],
   "source": [
    "MODEL_TO_TEST = \"parabolic_linear6\"\n",
    "model = VolModels.vol_model(MODEL_TO_TEST)"
   ]
  },
  {
   "cell_type": "code",
   "execution_count": 34,
   "id": "0c750a44-2a59-4ebf-a942-f207d171bf60",
   "metadata": {},
   "outputs": [],
   "source": [
    "df = pd.read_pickle('/core/data/fitted_vol_1.pkl')"
   ]
  },
  {
   "cell_type": "markdown",
   "id": "65cd1b42-5597-4cb7-a385-49355caf29c8",
   "metadata": {},
   "source": [
    "### 1) use vol_atm --> find rolling mean and std --> apply cusum"
   ]
  },
  {
   "cell_type": "code",
   "execution_count": 235,
   "id": "0f89ee7c-3498-4907-8849-85022662f61a",
   "metadata": {},
   "outputs": [
    {
     "name": "stdout",
     "output_type": "stream",
     "text": [
      "(4695, 34)\n",
      "Index(['t', 'expire', 'df', 'localcurve', 'currcurve', 'err1', 'err2',\n",
      "       'currerr', 'changecurvecounter', 'localATM', 'currATM',\n",
      "       'localskew_left', 'currskew_left', 'ewmskew_left', 'localskew_right',\n",
      "       'currskew_right', 'ewmskew_right', 'localconv_left', 'currconv_left',\n",
      "       'ewmconv_left', 'localconv_right', 'currconv_right', 'ewmconv_right',\n",
      "       'localrightwing', 'currrightwing', 'ewmrightwing', 'localleftwing',\n",
      "       'currleftwing', 'ewmleftwing', 'localvol_atm', 'currvol_atm',\n",
      "       'ewmvol_atm', 'ewm_x', 'ewmerr'],\n",
      "      dtype='object')\n"
     ]
    }
   ],
   "source": [
    "print(df.shape)\n",
    "print(df.columns)\n",
    "lbw = 50"
   ]
  },
  {
   "cell_type": "code",
   "execution_count": 236,
   "id": "f6f3cac4-5e4c-4e58-9d88-fce71cde8533",
   "metadata": {},
   "outputs": [],
   "source": [
    "df['ma_localvol_atm'] = df['localvol_atm'].rolling(lbw).mean()\n",
    "df['rstd_localvol_atm'] = df['localvol_atm'].rolling(lbw).std()\n",
    "df['zscore_localvol_atm'] = (df['localvol_atm']-df['ma_localvol_atm'])/df['rstd_localvol_atm']"
   ]
  },
  {
   "cell_type": "markdown",
   "id": "a996fa06-2c91-41c2-8e9d-db7b8e3e542f",
   "metadata": {
    "tags": []
   },
   "source": [
    "### 1.1) test a range of threshold for CUMSUM algo"
   ]
  },
  {
   "cell_type": "code",
   "execution_count": 237,
   "id": "41503aec-4cd6-49f0-bd62-4b09c5717a54",
   "metadata": {
    "scrolled": true,
    "tags": []
   },
   "outputs": [],
   "source": [
    "h2events_ratio = {}\n",
    "n = df.shape[0] - lbw\n",
    "for h in np.linspace(0.5, 5, 100):\n",
    "    m = len(cumsum_getTEvents(df['zscore_localvol_atm'], h))\n",
    "    r = m/n\n",
    "    h2events_ratio[h] = r"
   ]
  },
  {
   "cell_type": "code",
   "execution_count": 238,
   "id": "d65dc50b-df4e-4504-adcd-5777c40f2d15",
   "metadata": {},
   "outputs": [
    {
     "data": {
      "text/plain": [
       "<AxesSubplot:xlabel='cumsum_threshold'>"
      ]
     },
     "execution_count": 238,
     "metadata": {},
     "output_type": "execute_result"
    },
    {
     "data": {
      "image/png": "[encoded data removed]",
      "text/plain": [
       "<Figure size 432x288 with 1 Axes>"
      ]
     },
     "metadata": {
      "needs_background": "light"
     },
     "output_type": "display_data"
    }
   ],
   "source": [
    "df_h2events_ratio = pd.DataFrame(h2events_ratio, index=[0]).T.reset_index()\n",
    "df_h2events_ratio.columns = ['cumsum_threshold', 'event_ratio']\n",
    "df_h2events_ratio = df_h2events_ratio.set_index('cumsum_threshold')\n",
    "df_h2events_ratio.plot()"
   ]
  },
  {
   "cell_type": "markdown",
   "id": "52ef3ecd-c692-4bca-b419-b2cb082b4160",
   "metadata": {},
   "source": [
    "#### 1.2) take h = 3 for example"
   ]
  },
  {
   "cell_type": "code",
   "execution_count": 239,
   "id": "65652a90-cd7d-4c4d-bf61-613a4ee364cf",
   "metadata": {},
   "outputs": [
    {
     "data": {
      "text/plain": [
       "0.05403659849300323"
      ]
     },
     "execution_count": 239,
     "metadata": {},
     "output_type": "execute_result"
    }
   ],
   "source": [
    "h = 3\n",
    "interp1d(df_h2events_ratio.index, df_h2events_ratio['event_ratio'])([3])[0]"
   ]
  },
  {
   "cell_type": "code",
   "execution_count": 240,
   "id": "7f94dbc0-2c7a-4b1a-80af-057f943ead18",
   "metadata": {},
   "outputs": [
    {
     "name": "stderr",
     "output_type": "stream",
     "text": [
      "C:\\Users\\Wang\\anaconda3\\lib\\site-packages\\pandas\\core\\indexing.py:1732: SettingWithCopyWarning: \n",
      "A value is trying to be set on a copy of a slice from a DataFrame\n",
      "\n",
      "See the caveats in the documentation: https://pandas.pydata.org/pandas-docs/stable/user_guide/indexing.html#returning-a-view-versus-a-copy\n",
      "  self._setitem_single_block(indexer, value, name)\n"
     ]
    }
   ],
   "source": [
    "cumsum_event_index = cumsum_getTEvents(df['zscore_localvol_atm'], h)\n",
    "df['cumsum_event'] = False\n",
    "df.loc[cumsum_event_index, ['cumsum_event']]=True\n",
    "df['cumsum_event'].iloc[0]=True"
   ]
  },
  {
   "cell_type": "code",
   "execution_count": 241,
   "id": "37170b17-24cf-40ba-9682-2d517891ae65",
   "metadata": {},
   "outputs": [],
   "source": [
    "df['cumsum_curve'] = df['localcurve']\n",
    "df['cumsum_curve'] = df['cumsum_curve'].where(df['cumsum_event'], np.nan)\n",
    "df['cumsum_curve'] = df['cumsum_curve'].ffill()"
   ]
  },
  {
   "cell_type": "markdown",
   "id": "04b07f57-d6b5-48c3-9e1f-a68c648991f3",
   "metadata": {},
   "source": [
    "#### 1.3) apply metric to check is the CUMSUM algo with h = 3 is good or not?"
   ]
  },
  {
   "cell_type": "code",
   "execution_count": 242,
   "id": "88c064a8-dbc7-4489-b3cb-eae56c20936d",
   "metadata": {},
   "outputs": [],
   "source": [
    "error =  df[['cumsum_curve','df']].apply(lambda x: fit_fun2(*x), axis=1).mean(1)"
   ]
  },
  {
   "cell_type": "code",
   "execution_count": 243,
   "id": "1efb51c4-f976-4e28-a64f-f76413fba0d3",
   "metadata": {},
   "outputs": [
    {
     "data": {
      "text/plain": [
       "(4695, 39)"
      ]
     },
     "execution_count": 243,
     "metadata": {},
     "output_type": "execute_result"
    }
   ],
   "source": [
    "df.shape"
   ]
  },
  {
   "cell_type": "code",
   "execution_count": 244,
   "id": "3939fb7d-4700-429c-b454-14eacb6e8866",
   "metadata": {},
   "outputs": [
    {
     "data": {
      "text/plain": [
       "0.9428090018595959"
      ]
     },
     "metadata": {},
     "output_type": "display_data"
    }
   ],
   "source": [
    "display(error.mean())"
   ]
  },
  {
   "cell_type": "markdown",
   "id": "72eecc53-acc4-4d48-8ec9-a55719ced5be",
   "metadata": {},
   "source": [
    "### 2) at each time t, use the time series of mid iv of each strke = miv = (biv+aiv)/2 --> find the mean and std --> aggregate the z value --> apply cusum (or some variation of this)"
   ]
  },
  {
   "cell_type": "code",
   "execution_count": 245,
   "id": "636e3c8f-5588-4c12-875d-38d76adea42a",
   "metadata": {},
   "outputs": [],
   "source": [
    "df0 = pd.read_pickle('/core/data/vol_smoothing_base_1.pkl')"
   ]
  },
  {
   "cell_type": "code",
   "execution_count": 246,
   "id": "48701e68-64cf-4f93-9ac2-3c6612f4315d",
   "metadata": {},
   "outputs": [
    {
     "data": {
      "text/html": [
       "<div>\n",
       "<style scoped>\n",
       "    .dataframe tbody tr th:only-of-type {\n",
       "        vertical-align: middle;\n",
       "    }\n",
       "\n",
       "    .dataframe tbody tr th {\n",
       "        vertical-align: top;\n",
       "    }\n",
       "\n",
       "    .dataframe thead th {\n",
       "        text-align: right;\n",
       "    }\n",
       "</style>\n",
       "<table border=\"1\" class=\"dataframe\">\n",
       "  <thead>\n",
       "    <tr style=\"text-align: right;\">\n",
       "      <th></th>\n",
       "      <th>tm</th>\n",
       "      <th>expire</th>\n",
       "      <th>strike</th>\n",
       "      <th>ty</th>\n",
       "      <th>s</th>\n",
       "      <th>aiv</th>\n",
       "      <th>biv</th>\n",
       "      <th>vega</th>\n",
       "      <th>params</th>\n",
       "    </tr>\n",
       "  </thead>\n",
       "  <tbody>\n",
       "    <tr>\n",
       "      <th>0</th>\n",
       "      <td>1638316800000</td>\n",
       "      <td>1640937600000</td>\n",
       "      <td>22000.0</td>\n",
       "      <td>-1</td>\n",
       "      <td>57406.67</td>\n",
       "      <td>1.4606</td>\n",
       "      <td>1.3408</td>\n",
       "      <td>2.40936</td>\n",
       "      <td>{}</td>\n",
       "    </tr>\n",
       "    <tr>\n",
       "      <th>1</th>\n",
       "      <td>1638316800000</td>\n",
       "      <td>1640937600000</td>\n",
       "      <td>24000.0</td>\n",
       "      <td>-1</td>\n",
       "      <td>57439.75</td>\n",
       "      <td>1.3375</td>\n",
       "      <td>1.2269</td>\n",
       "      <td>2.60587</td>\n",
       "      <td>{}</td>\n",
       "    </tr>\n",
       "  </tbody>\n",
       "</table>\n",
       "</div>"
      ],
      "text/plain": [
       "              tm         expire   strike  ty         s     aiv     biv  \\\n",
       "0  1638316800000  1640937600000  22000.0  -1  57406.67  1.4606  1.3408   \n",
       "1  1638316800000  1640937600000  24000.0  -1  57439.75  1.3375  1.2269   \n",
       "\n",
       "      vega params  \n",
       "0  2.40936     {}  \n",
       "1  2.60587     {}  "
      ]
     },
     "metadata": {},
     "output_type": "display_data"
    },
    {
     "data": {
      "text/html": [
       "<div>\n",
       "<style scoped>\n",
       "    .dataframe tbody tr th:only-of-type {\n",
       "        vertical-align: middle;\n",
       "    }\n",
       "\n",
       "    .dataframe tbody tr th {\n",
       "        vertical-align: top;\n",
       "    }\n",
       "\n",
       "    .dataframe thead th {\n",
       "        text-align: right;\n",
       "    }\n",
       "</style>\n",
       "<table border=\"1\" class=\"dataframe\">\n",
       "  <thead>\n",
       "    <tr style=\"text-align: right;\">\n",
       "      <th></th>\n",
       "      <th>t</th>\n",
       "      <th>expire</th>\n",
       "      <th>df</th>\n",
       "      <th>localcurve</th>\n",
       "      <th>currcurve</th>\n",
       "      <th>err1</th>\n",
       "      <th>err2</th>\n",
       "      <th>currerr</th>\n",
       "      <th>changecurvecounter</th>\n",
       "      <th>localATM</th>\n",
       "      <th>...</th>\n",
       "      <th>localvol_atm</th>\n",
       "      <th>currvol_atm</th>\n",
       "      <th>ewmvol_atm</th>\n",
       "      <th>ewm_x</th>\n",
       "      <th>ewmerr</th>\n",
       "      <th>ma_localvol_atm</th>\n",
       "      <th>rstd_localvol_atm</th>\n",
       "      <th>zscore_localvol_atm</th>\n",
       "      <th>cumsum_event</th>\n",
       "      <th>cumsum_curve</th>\n",
       "    </tr>\n",
       "  </thead>\n",
       "  <tbody>\n",
       "    <tr>\n",
       "      <th>0</th>\n",
       "      <td>1638316800000</td>\n",
       "      <td>1640937600000</td>\n",
       "      <td>ty         s     aiv     biv      ve...</td>\n",
       "      <td>&lt;cryptoderiv_quantlib.volatility.data_objects....</td>\n",
       "      <td>&lt;cryptoderiv_quantlib.volatility.data_objects....</td>\n",
       "      <td>0.001184</td>\n",
       "      <td>0.001184</td>\n",
       "      <td>0.001184</td>\n",
       "      <td>0</td>\n",
       "      <td>0.799385</td>\n",
       "      <td>...</td>\n",
       "      <td>0.799385</td>\n",
       "      <td>0.799385</td>\n",
       "      <td>0.799385</td>\n",
       "      <td>[0.05706715921572881, -0.025751727294213003, 0...</td>\n",
       "      <td>0.001184</td>\n",
       "      <td>NaN</td>\n",
       "      <td>NaN</td>\n",
       "      <td>NaN</td>\n",
       "      <td>True</td>\n",
       "      <td>&lt;cryptoderiv_quantlib.volatility.data_objects....</td>\n",
       "    </tr>\n",
       "    <tr>\n",
       "      <th>1</th>\n",
       "      <td>1638316860000</td>\n",
       "      <td>1640937600000</td>\n",
       "      <td>ty         s     aiv     biv      ve...</td>\n",
       "      <td>&lt;cryptoderiv_quantlib.volatility.data_objects....</td>\n",
       "      <td>&lt;cryptoderiv_quantlib.volatility.data_objects....</td>\n",
       "      <td>0.001212</td>\n",
       "      <td>0.001223</td>\n",
       "      <td>0.001223</td>\n",
       "      <td>0</td>\n",
       "      <td>0.801711</td>\n",
       "      <td>...</td>\n",
       "      <td>0.801711</td>\n",
       "      <td>0.799385</td>\n",
       "      <td>0.800609</td>\n",
       "      <td>[0.05493853329443952, -0.02816033204865347, 0....</td>\n",
       "      <td>0.001209</td>\n",
       "      <td>NaN</td>\n",
       "      <td>NaN</td>\n",
       "      <td>NaN</td>\n",
       "      <td>False</td>\n",
       "      <td>&lt;cryptoderiv_quantlib.volatility.data_objects....</td>\n",
       "    </tr>\n",
       "  </tbody>\n",
       "</table>\n",
       "<p>2 rows × 39 columns</p>\n",
       "</div>"
      ],
      "text/plain": [
       "               t         expire  \\\n",
       "0  1638316800000  1640937600000   \n",
       "1  1638316860000  1640937600000   \n",
       "\n",
       "                                                  df  \\\n",
       "0            ty         s     aiv     biv      ve...   \n",
       "1            ty         s     aiv     biv      ve...   \n",
       "\n",
       "                                          localcurve  \\\n",
       "0  <cryptoderiv_quantlib.volatility.data_objects....   \n",
       "1  <cryptoderiv_quantlib.volatility.data_objects....   \n",
       "\n",
       "                                           currcurve      err1      err2  \\\n",
       "0  <cryptoderiv_quantlib.volatility.data_objects....  0.001184  0.001184   \n",
       "1  <cryptoderiv_quantlib.volatility.data_objects....  0.001212  0.001223   \n",
       "\n",
       "    currerr  changecurvecounter  localATM  ...  localvol_atm  currvol_atm  \\\n",
       "0  0.001184                   0  0.799385  ...      0.799385     0.799385   \n",
       "1  0.001223                   0  0.801711  ...      0.801711     0.799385   \n",
       "\n",
       "   ewmvol_atm                                              ewm_x    ewmerr  \\\n",
       "0    0.799385  [0.05706715921572881, -0.025751727294213003, 0...  0.001184   \n",
       "1    0.800609  [0.05493853329443952, -0.02816033204865347, 0....  0.001209   \n",
       "\n",
       "   ma_localvol_atm  rstd_localvol_atm  zscore_localvol_atm  cumsum_event  \\\n",
       "0              NaN                NaN                  NaN          True   \n",
       "1              NaN                NaN                  NaN         False   \n",
       "\n",
       "                                        cumsum_curve  \n",
       "0  <cryptoderiv_quantlib.volatility.data_objects....  \n",
       "1  <cryptoderiv_quantlib.volatility.data_objects....  \n",
       "\n",
       "[2 rows x 39 columns]"
      ]
     },
     "metadata": {},
     "output_type": "display_data"
    }
   ],
   "source": [
    "display(df0.head(2))\n",
    "display(df.head(2))"
   ]
  },
  {
   "cell_type": "code",
   "execution_count": 256,
   "id": "03df21cb-bacf-4a5e-995e-e25274fd3288",
   "metadata": {},
   "outputs": [],
   "source": [
    "df1 = pd.merge(left=df, right=df0[['tm','aiv','biv',]], left_on=['t'], right_on=['tm'], how='left').groupby('t').first().reset_index()"
   ]
  },
  {
   "cell_type": "code",
   "execution_count": 258,
   "id": "a2eb01fa-93e3-4b11-a9a9-cf7ba1242aac",
   "metadata": {},
   "outputs": [],
   "source": [
    "df1['miv'] = 0.5*(df1['biv'] + df1['aiv'])"
   ]
  },
  {
   "cell_type": "code",
   "execution_count": 259,
   "id": "e143dd3c-2cbf-4c9d-a55a-f57d232e3157",
   "metadata": {},
   "outputs": [],
   "source": [
    "df1['ma_miv'] = df1['miv'].rolling(lbw).mean()\n",
    "df1['rstd_miv'] = df1['miv'].rolling(lbw).std()\n",
    "df1['zscore_miv'] = (df1['miv']-df1['ma_miv'])/df1['rstd_miv']"
   ]
  },
  {
   "cell_type": "code",
   "execution_count": 260,
   "id": "c35ab17a-7024-4cad-8c32-b82edfc8f589",
   "metadata": {},
   "outputs": [
    {
     "name": "stderr",
     "output_type": "stream",
     "text": [
      "C:\\Users\\Wang\\anaconda3\\lib\\site-packages\\pandas\\core\\indexing.py:1732: SettingWithCopyWarning: \n",
      "A value is trying to be set on a copy of a slice from a DataFrame\n",
      "\n",
      "See the caveats in the documentation: https://pandas.pydata.org/pandas-docs/stable/user_guide/indexing.html#returning-a-view-versus-a-copy\n",
      "  self._setitem_single_block(indexer, value, name)\n"
     ]
    }
   ],
   "source": [
    "cumsum_event_index = cumsum_getTEvents(df1['zscore_miv'], h)\n",
    "df1['cumsum_event'] = False\n",
    "df1.loc[cumsum_event_index, ['cumsum_event']]=True\n",
    "df1['cumsum_event'].iloc[0]=True"
   ]
  },
  {
   "cell_type": "code",
   "execution_count": 261,
   "id": "0708090e-f0bf-49b6-9b35-b0c09b4e0f27",
   "metadata": {},
   "outputs": [],
   "source": [
    "df1['cumsum_curve'] = df1['localcurve']\n",
    "df1['cumsum_curve'] = df1['cumsum_curve'].where(df1['cumsum_event'], np.nan)\n",
    "df1['cumsum_curve'] = df1['cumsum_curve'].ffill()"
   ]
  },
  {
   "cell_type": "markdown",
   "id": "b321811e-30cc-4a62-8471-05fb64a4966e",
   "metadata": {},
   "source": [
    "#### apply metric to check is the CUMSUM algo with h = 3 is good or not?"
   ]
  },
  {
   "cell_type": "code",
   "execution_count": 262,
   "id": "a4aa9600-9646-460a-8d50-9ecab93d4b2f",
   "metadata": {},
   "outputs": [],
   "source": [
    "error =  df1[['cumsum_curve','df']].apply(lambda x: fit_fun2(*x), axis=1).mean(1)"
   ]
  },
  {
   "cell_type": "code",
   "execution_count": 263,
   "id": "07f6bc2c-5187-450f-9519-9a05011c6103",
   "metadata": {},
   "outputs": [
    {
     "data": {
      "text/plain": [
       "0.9268391680899355"
      ]
     },
     "metadata": {},
     "output_type": "display_data"
    }
   ],
   "source": [
    "display(error.mean())"
   ]
  },
  {
   "cell_type": "markdown",
   "id": "98eae583-28f0-43d3-b1f6-f670fd6048c0",
   "metadata": {},
   "source": [
    "### 3) at each time t, use the spread = aiv - biv as a measure of std (maybe spread = 2 std) --> use miv as the mean --> z value --> aggregate --> apply cusum"
   ]
  },
  {
   "cell_type": "code",
   "execution_count": 269,
   "id": "56177862-b3bc-42a0-9c22-3eff3da653a3",
   "metadata": {},
   "outputs": [],
   "source": [
    "df2 = df1.copy()\n",
    "df2['iv_range'] = df2['biv'] - df2['aiv']\n",
    "df2['normalized_miv'] = (df2['miv']-df2['ma_miv'])/df2['iv_range']\n",
    "# try more methods"
   ]
  },
  {
   "cell_type": "code",
   "execution_count": 270,
   "id": "eab8bac1-851a-4e55-97db-fdc4a729b2c1",
   "metadata": {},
   "outputs": [],
   "source": [
    "cumsum_event_index = cumsum_getTEvents(df2['normalized_miv'], h)\n",
    "df2['cumsum_event'] = False\n",
    "df2.loc[cumsum_event_index, ['cumsum_event']]=True\n",
    "df2['cumsum_event'].iloc[0]=True"
   ]
  },
  {
   "cell_type": "code",
   "execution_count": 271,
   "id": "e03396d5-c030-4d0d-860b-4b03e5f3497c",
   "metadata": {},
   "outputs": [],
   "source": [
    "df2['cumsum_curve'] = df2['localcurve']\n",
    "df2['cumsum_curve'] = df2['cumsum_curve'].where(df2['cumsum_event'], np.nan)\n",
    "df2['cumsum_curve'] = df2['cumsum_curve'].ffill()"
   ]
  },
  {
   "cell_type": "markdown",
   "id": "7e613b99-89fd-4031-80b7-59a23800031f",
   "metadata": {},
   "source": [
    "#### apply metric to check is the CUMSUM algo with h = 3 is good or not?"
   ]
  },
  {
   "cell_type": "code",
   "execution_count": 272,
   "id": "cde78211-9627-4c06-98fe-5e5d75c3e59e",
   "metadata": {},
   "outputs": [],
   "source": [
    "error2 =  df2[['cumsum_curve','df']].apply(lambda x: fit_fun2(*x), axis=1).mean(1)"
   ]
  },
  {
   "cell_type": "code",
   "execution_count": 273,
   "id": "bbd07d94-1d9e-4450-ac8b-375b0155cd8d",
   "metadata": {},
   "outputs": [
    {
     "data": {
      "text/plain": [
       "0.4383904663541086"
      ]
     },
     "execution_count": 273,
     "metadata": {},
     "output_type": "execute_result"
    }
   ],
   "source": [
    "error2.mean()"
   ]
  },
  {
   "cell_type": "markdown",
   "id": "ea753435-9529-4988-87ad-f7a10a7a1bed",
   "metadata": {},
   "source": [
    "## Kalman filter smoothing"
   ]
  },
  {
   "cell_type": "code",
   "execution_count": 98,
   "id": "2bd90694-ed60-4933-9321-e4522a76ff06",
   "metadata": {},
   "outputs": [
    {
     "data": {
      "text/plain": [
       "<module 'cdcqr.analytics.derivatives.vol_fitting.smoothing.kalman_filter' from 'c:\\\\core\\\\github\\\\cdcqr\\\\cdcqr\\\\analytics\\\\derivatives\\\\vol_fitting\\\\smoothing\\\\kalman_filter.py'>"
      ]
     },
     "execution_count": 98,
     "metadata": {},
     "output_type": "execute_result"
    }
   ],
   "source": [
    "reload(kf)"
   ]
  },
  {
   "cell_type": "code",
   "execution_count": 99,
   "id": "085e379c-b3d3-4599-83c2-b0a8c76a08cb",
   "metadata": {},
   "outputs": [
    {
     "data": {
      "text/plain": [
       "\u001b[1;31mSignature:\u001b[0m \u001b[0mkf\u001b[0m\u001b[1;33m.\u001b[0m\u001b[0msimple_kalman_filter\u001b[0m\u001b[1;33m(\u001b[0m\u001b[0mz\u001b[0m\u001b[1;33m,\u001b[0m \u001b[0mx_prev\u001b[0m\u001b[1;33m,\u001b[0m \u001b[0msigma1\u001b[0m\u001b[1;33m,\u001b[0m \u001b[0mh_mat\u001b[0m\u001b[1;33m,\u001b[0m \u001b[0msigma2\u001b[0m\u001b[1;33m)\u001b[0m\u001b[1;33m\u001b[0m\u001b[1;33m\u001b[0m\u001b[0m\n",
       "\u001b[1;31mDocstring:\u001b[0m <no docstring>\n",
       "\u001b[1;31mFile:\u001b[0m      c:\\core\\github\\cdcqr\\cdcqr\\analytics\\derivatives\\vol_fitting\\smoothing\\kalman_filter.py\n",
       "\u001b[1;31mType:\u001b[0m      function\n"
      ]
     },
     "metadata": {},
     "output_type": "display_data"
    }
   ],
   "source": [
    "kf.simple_kalman_filter?"
   ]
  },
  {
   "cell_type": "code",
   "execution_count": 100,
   "id": "9f51988b-fb3c-4d53-81ac-abd3dcb3bd77",
   "metadata": {},
   "outputs": [
    {
     "data": {
      "text/plain": [
       "array([ 1.        ,  0.05706716, -0.02575173,  0.01570563,  0.05909604,\n",
       "        0.16671032,  0.22418722])"
      ]
     },
     "execution_count": 100,
     "metadata": {},
     "output_type": "execute_result"
    }
   ],
   "source": [
    "pre_params = df['localcurve'].iloc[0].params\n",
    "pre_x = np.array([1, pre_params['skew_left'], pre_params['skew_right'], pre_params['conv_left'], pre_params['conv_right'], pre_params['rightwing'], pre_params['leftwing']])\n",
    "pre_x"
   ]
  },
  {
   "cell_type": "code",
   "execution_count": 101,
   "id": "8007859a-f757-4ab9-b0dd-01ceda04ef02",
   "metadata": {},
   "outputs": [],
   "source": [
    "df1 = df['df'][1]"
   ]
  },
  {
   "cell_type": "code",
   "execution_count": 102,
   "id": "34ffe962-1624-4091-80cd-3b9fa64f682d",
   "metadata": {},
   "outputs": [],
   "source": [
    "kright = 1.5\n",
    "kleft = -1.5"
   ]
  },
  {
   "cell_type": "code",
   "execution_count": 103,
   "id": "e3461281-ef0c-432f-83f0-39bf37c7d357",
   "metadata": {},
   "outputs": [],
   "source": [
    "S = df1['s'].iloc[0]"
   ]
  },
  {
   "cell_type": "code",
   "execution_count": 104,
   "id": "d77a33d6-e7e1-45b6-bc8f-ab5b824b4396",
   "metadata": {},
   "outputs": [],
   "source": [
    "volATM = interp1d(df1.index, df1['m'])([S])[0]"
   ]
  },
  {
   "cell_type": "code",
   "execution_count": 105,
   "id": "7143c672-0f1b-4457-94d1-6d2c320f327a",
   "metadata": {},
   "outputs": [],
   "source": [
    "# observations\n",
    "z = df1['m'].values"
   ]
  },
  {
   "cell_type": "code",
   "execution_count": 106,
   "id": "a8b4cf52-f34b-453c-b5f1-43b015085ca9",
   "metadata": {},
   "outputs": [],
   "source": [
    "# transformation matrix\n",
    "\n",
    "df1['col0'] = volATM\n",
    "df1['col1'] = (df1['logKFtau']<0).astype(int)*kleft\n",
    "df1['col2'] = (df1['logKFtau']>0).astype(int)*kright\n",
    "df1['col3'] = (df1['logKFtau']<0).astype(int)*kleft**2\n",
    "df1['col4'] = (df1['logKFtau']>0).astype(int)*kright**2\n",
    "df1['col5'] = (df1['logKFtau']>0).astype(int)*(df1['logKFtau']-kright)\n",
    "df1['col6'] = (df1['logKFtau']<0).astype(int)*(df1['logKFtau']-kleft)\n",
    "\n",
    "h_mat = df1[['col0','col1','col2','col3','col4','col5','col6']].values"
   ]
  },
  {
   "cell_type": "code",
   "execution_count": 107,
   "id": "e9bac173-e864-4dbc-bcd6-3b813c66caae",
   "metadata": {},
   "outputs": [
    {
     "ename": "ValueError",
     "evalue": "operands could not be broadcast together with shapes (7,31) (31,31) ",
     "output_type": "error",
     "traceback": [
      "\u001b[1;31m---------------------------------------------------------------------------\u001b[0m",
      "\u001b[1;31mValueError\u001b[0m                                Traceback (most recent call last)",
      "\u001b[1;32m~\\AppData\\Local\\Temp/ipykernel_18656/1407556153.py\u001b[0m in \u001b[0;36m<module>\u001b[1;34m\u001b[0m\n\u001b[1;32m----> 1\u001b[1;33m \u001b[0mkf\u001b[0m\u001b[1;33m.\u001b[0m\u001b[0msimple_kalman_filter\u001b[0m\u001b[1;33m(\u001b[0m\u001b[0mz\u001b[0m\u001b[1;33m,\u001b[0m \u001b[0mpre_x\u001b[0m\u001b[1;33m,\u001b[0m \u001b[1;36m0.01\u001b[0m\u001b[1;33m,\u001b[0m \u001b[0mh_mat\u001b[0m\u001b[1;33m,\u001b[0m \u001b[1;36m0.01\u001b[0m\u001b[1;33m)\u001b[0m\u001b[1;33m\u001b[0m\u001b[1;33m\u001b[0m\u001b[0m\n\u001b[0m",
      "\u001b[1;32mc:\\core\\github\\cdcqr\\cdcqr\\analytics\\derivatives\\vol_fitting\\smoothing\\kalman_filter.py\u001b[0m in \u001b[0;36msimple_kalman_filter\u001b[1;34m(z, x_prev, sigma1, h_mat, sigma2)\u001b[0m\n\u001b[0;32m     33\u001b[0m     \u001b[1;31m# Compute Kalman Gain\u001b[0m\u001b[1;33m\u001b[0m\u001b[1;33m\u001b[0m\u001b[1;33m\u001b[0m\u001b[0m\n\u001b[0;32m     34\u001b[0m     \u001b[0mS\u001b[0m \u001b[1;33m=\u001b[0m \u001b[0mfilter\u001b[0m\u001b[1;33m.\u001b[0m\u001b[0mH\u001b[0m\u001b[1;33m.\u001b[0m\u001b[0mdot\u001b[0m\u001b[1;33m(\u001b[0m\u001b[0mP_p\u001b[0m\u001b[1;33m)\u001b[0m\u001b[1;33m.\u001b[0m\u001b[0mdot\u001b[0m\u001b[1;33m(\u001b[0m\u001b[0mfilter\u001b[0m\u001b[1;33m.\u001b[0m\u001b[0mHT\u001b[0m\u001b[1;33m)\u001b[0m\u001b[1;33m\u001b[0m\u001b[1;33m\u001b[0m\u001b[0m\n\u001b[1;32m---> 35\u001b[1;33m     \u001b[0mK\u001b[0m \u001b[1;33m=\u001b[0m \u001b[0mP_p\u001b[0m\u001b[1;33m.\u001b[0m\u001b[0mdot\u001b[0m\u001b[1;33m(\u001b[0m\u001b[0mfilter\u001b[0m\u001b[1;33m.\u001b[0m\u001b[0mHT\u001b[0m\u001b[1;33m)\u001b[0m\u001b[1;33m*\u001b[0m\u001b[1;33m(\u001b[0m\u001b[1;36m1\u001b[0m\u001b[1;33m/\u001b[0m\u001b[0mS\u001b[0m\u001b[1;33m)\u001b[0m\u001b[1;33m\u001b[0m\u001b[1;33m\u001b[0m\u001b[0m\n\u001b[0m\u001b[0;32m     36\u001b[0m     \u001b[1;31m# Estimate State\u001b[0m\u001b[1;33m\u001b[0m\u001b[1;33m\u001b[0m\u001b[1;33m\u001b[0m\u001b[0m\n\u001b[0;32m     37\u001b[0m     \u001b[0mresidual\u001b[0m \u001b[1;33m=\u001b[0m \u001b[0mz\u001b[0m \u001b[1;33m-\u001b[0m \u001b[0mfilter\u001b[0m\u001b[1;33m.\u001b[0m\u001b[0mH\u001b[0m\u001b[1;33m.\u001b[0m\u001b[0mdot\u001b[0m\u001b[1;33m(\u001b[0m\u001b[0mx_p\u001b[0m\u001b[1;33m)\u001b[0m\u001b[1;33m\u001b[0m\u001b[1;33m\u001b[0m\u001b[0m\n",
      "\u001b[1;31mValueError\u001b[0m: operands could not be broadcast together with shapes (7,31) (31,31) "
     ]
    }
   ],
   "source": [
    "kf.simple_kalman_filter(z, pre_x, 0.01, h_mat, 0.01)"
   ]
  },
  {
   "cell_type": "code",
   "execution_count": 88,
   "id": "ecde6c92-5a24-4b3e-884e-487447738a22",
   "metadata": {},
   "outputs": [
    {
     "ename": "AttributeError",
     "evalue": "'function' object has no attribute 'A'",
     "output_type": "error",
     "traceback": [
      "\u001b[1;31m---------------------------------------------------------------------------\u001b[0m",
      "\u001b[1;31mAttributeError\u001b[0m                            Traceback (most recent call last)",
      "\u001b[1;32m~\\AppData\\Local\\Temp/ipykernel_18656/800296819.py\u001b[0m in \u001b[0;36m<module>\u001b[1;34m\u001b[0m\n\u001b[1;32m----> 1\u001b[1;33m \u001b[0mP_p\u001b[0m \u001b[1;33m=\u001b[0m \u001b[0mfilter\u001b[0m\u001b[1;33m.\u001b[0m\u001b[0mA\u001b[0m\u001b[1;33m.\u001b[0m\u001b[0mdot\u001b[0m\u001b[1;33m(\u001b[0m\u001b[0mfilter\u001b[0m\u001b[1;33m.\u001b[0m\u001b[0mP\u001b[0m\u001b[1;33m)\u001b[0m\u001b[1;33m.\u001b[0m\u001b[0mdot\u001b[0m\u001b[1;33m(\u001b[0m\u001b[0mfilter\u001b[0m\u001b[1;33m.\u001b[0m\u001b[0mA\u001b[0m\u001b[1;33m.\u001b[0m\u001b[0mT\u001b[0m\u001b[1;33m)\u001b[0m \u001b[1;33m+\u001b[0m \u001b[0mfilter\u001b[0m\u001b[1;33m.\u001b[0m\u001b[0mQ\u001b[0m\u001b[1;33m\u001b[0m\u001b[1;33m\u001b[0m\u001b[0m\n\u001b[0m",
      "\u001b[1;31mAttributeError\u001b[0m: 'function' object has no attribute 'A'"
     ]
    }
   ],
   "source": [
    "P_p = filter.A.dot(filter.P).dot(filter.A.T) + filter.Q"
   ]
  },
  {
   "cell_type": "code",
   "execution_count": 110,
   "id": "724a8ce3-37cb-4d62-b5bb-461c07fd33f0",
   "metadata": {},
   "outputs": [],
   "source": [
    "    n = 7\n",
    "    m = np.shape(h_mat)[0]\n",
    "    sigma1 = 0.01\n",
    "    sigma2 = 0.01\n",
    "    filter.x = pre_x\n",
    "    filter.P = sigma1*np.eye(n)\n",
    "    filter.A = np.eye(n)\n",
    "    filter.H = h_mat\n",
    "    filter.HT = filter.H.T\n",
    "    filter.Q = sigma2*np.eye(n)"
   ]
  },
  {
   "cell_type": "code",
   "execution_count": 115,
   "id": "2b3c0f69-5a4c-4c3c-b318-22d45aef07bc",
   "metadata": {},
   "outputs": [
    {
     "data": {
      "text/plain": [
       "(7, 31)"
      ]
     },
     "execution_count": 115,
     "metadata": {},
     "output_type": "execute_result"
    }
   ],
   "source": [
    "np.shape(filter.HT)"
   ]
  },
  {
   "cell_type": "code",
   "execution_count": 111,
   "id": "7f7bbd4d-2574-4d40-ae2b-071a683262ed",
   "metadata": {},
   "outputs": [
    {
     "ename": "ValueError",
     "evalue": "operands could not be broadcast together with shapes (7,31) (31,31) ",
     "output_type": "error",
     "traceback": [
      "\u001b[1;31m---------------------------------------------------------------------------\u001b[0m",
      "\u001b[1;31mValueError\u001b[0m                                Traceback (most recent call last)",
      "\u001b[1;32m~\\AppData\\Local\\Temp/ipykernel_18656/191917705.py\u001b[0m in \u001b[0;36m<module>\u001b[1;34m\u001b[0m\n\u001b[0;32m      5\u001b[0m \u001b[1;31m# Compute Kalman Gain\u001b[0m\u001b[1;33m\u001b[0m\u001b[1;33m\u001b[0m\u001b[1;33m\u001b[0m\u001b[0m\n\u001b[0;32m      6\u001b[0m \u001b[0mS\u001b[0m \u001b[1;33m=\u001b[0m \u001b[0mfilter\u001b[0m\u001b[1;33m.\u001b[0m\u001b[0mH\u001b[0m\u001b[1;33m.\u001b[0m\u001b[0mdot\u001b[0m\u001b[1;33m(\u001b[0m\u001b[0mP_p\u001b[0m\u001b[1;33m)\u001b[0m\u001b[1;33m.\u001b[0m\u001b[0mdot\u001b[0m\u001b[1;33m(\u001b[0m\u001b[0mfilter\u001b[0m\u001b[1;33m.\u001b[0m\u001b[0mHT\u001b[0m\u001b[1;33m)\u001b[0m\u001b[1;33m\u001b[0m\u001b[1;33m\u001b[0m\u001b[0m\n\u001b[1;32m----> 7\u001b[1;33m \u001b[0mK\u001b[0m \u001b[1;33m=\u001b[0m \u001b[0mP_p\u001b[0m\u001b[1;33m.\u001b[0m\u001b[0mdot\u001b[0m\u001b[1;33m(\u001b[0m\u001b[0mfilter\u001b[0m\u001b[1;33m.\u001b[0m\u001b[0mHT\u001b[0m\u001b[1;33m)\u001b[0m\u001b[1;33m*\u001b[0m\u001b[1;33m(\u001b[0m\u001b[1;36m1\u001b[0m\u001b[1;33m/\u001b[0m\u001b[0mS\u001b[0m\u001b[1;33m)\u001b[0m\u001b[1;33m\u001b[0m\u001b[1;33m\u001b[0m\u001b[0m\n\u001b[0m\u001b[0;32m      8\u001b[0m \u001b[1;31m# Estimate State\u001b[0m\u001b[1;33m\u001b[0m\u001b[1;33m\u001b[0m\u001b[1;33m\u001b[0m\u001b[0m\n\u001b[0;32m      9\u001b[0m \u001b[0mresidual\u001b[0m \u001b[1;33m=\u001b[0m \u001b[0mz\u001b[0m \u001b[1;33m-\u001b[0m \u001b[0mfilter\u001b[0m\u001b[1;33m.\u001b[0m\u001b[0mH\u001b[0m\u001b[1;33m.\u001b[0m\u001b[0mdot\u001b[0m\u001b[1;33m(\u001b[0m\u001b[0mx_p\u001b[0m\u001b[1;33m)\u001b[0m\u001b[1;33m\u001b[0m\u001b[1;33m\u001b[0m\u001b[0m\n",
      "\u001b[1;31mValueError\u001b[0m: operands could not be broadcast together with shapes (7,31) (31,31) "
     ]
    }
   ],
   "source": [
    "    # Predict State Forward\n",
    "    x_p = filter.A.dot(filter.x)\n",
    "    # Predict Covariance Forward\n",
    "    P_p = filter.A.dot(filter.P).dot(filter.A.T) + filter.Q\n",
    "    # Compute Kalman Gain\n",
    "    S = filter.H.dot(P_p).dot(filter.HT)\n",
    "    K = P_p.dot(filter.HT)*(1/S)\n",
    "    # Estimate State\n",
    "    residual = z - filter.H.dot(x_p)\n",
    "    filter.x = x_p + K*residual\n",
    "    # Estimate Covariance\n",
    "    filter.P = P_p - K.dot(filter.H).dot(P_p)"
   ]
  },
  {
   "cell_type": "code",
   "execution_count": 119,
   "id": "20374576-b59a-4af6-8d3c-13006981c532",
   "metadata": {},
   "outputs": [
    {
     "data": {
      "text/plain": [
       "(7, 7)"
      ]
     },
     "metadata": {},
     "output_type": "display_data"
    },
    {
     "data": {
      "text/plain": [
       "(7, 31)"
      ]
     },
     "metadata": {},
     "output_type": "display_data"
    }
   ],
   "source": [
    "display(np.shape(P_p))\n",
    "display(np.shape(filter.HT))"
   ]
  },
  {
   "cell_type": "code",
   "execution_count": 123,
   "id": "bb52bbe0-c9ef-46b9-8238-75abf2a4734e",
   "metadata": {},
   "outputs": [
    {
     "ename": "ValueError",
     "evalue": "operands could not be broadcast together with shapes (7,31) (31,31) ",
     "output_type": "error",
     "traceback": [
      "\u001b[1;31m---------------------------------------------------------------------------\u001b[0m",
      "\u001b[1;31mValueError\u001b[0m                                Traceback (most recent call last)",
      "\u001b[1;32m~\\AppData\\Local\\Temp/ipykernel_18656/2190464298.py\u001b[0m in \u001b[0;36m<module>\u001b[1;34m\u001b[0m\n\u001b[1;32m----> 1\u001b[1;33m \u001b[0mK\u001b[0m \u001b[1;33m=\u001b[0m \u001b[0mP_p\u001b[0m\u001b[1;33m.\u001b[0m\u001b[0mdot\u001b[0m\u001b[1;33m(\u001b[0m\u001b[0mfilter\u001b[0m\u001b[1;33m.\u001b[0m\u001b[0mHT\u001b[0m\u001b[1;33m)\u001b[0m\u001b[1;33m*\u001b[0m\u001b[1;33m(\u001b[0m\u001b[1;36m1\u001b[0m\u001b[1;33m/\u001b[0m\u001b[0mS\u001b[0m\u001b[1;33m)\u001b[0m\u001b[1;33m\u001b[0m\u001b[1;33m\u001b[0m\u001b[0m\n\u001b[0m",
      "\u001b[1;31mValueError\u001b[0m: operands could not be broadcast together with shapes (7,31) (31,31) "
     ]
    }
   ],
   "source": [
    "    K = P_p.dot(filter.HT)*(1/S)\n"
   ]
  }
 ],
 "metadata": {
  "kernelspec": {
   "display_name": "Python 3 (ipykernel)",
   "language": "python",
   "name": "python3"
  },
  "language_info": {
   "codemirror_mode": {
    "name": "ipython",
    "version": 3
   },
   "file_extension": ".py",
   "mimetype": "text/x-python",
   "name": "python",
   "nbconvert_exporter": "python",
   "pygments_lexer": "ipython3",
   "version": "3.8.8"
  }
 },
 "nbformat": 4,
 "nbformat_minor": 5
}
