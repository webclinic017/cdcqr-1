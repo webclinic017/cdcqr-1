{
 "cells": [
  {
   "cell_type": "code",
   "execution_count": null,
   "id": "7d3d5645-65c4-475a-a304-5b22f234c23a",
   "metadata": {},
   "outputs": [],
   "source": [
    "import numpy as np\n",
    "from numpy.linalg import inv"
   ]
  },
  {
   "cell_type": "code",
   "execution_count": null,
   "id": "390069ee-e66a-4f7b-98dc-c61ec4650d76",
   "metadata": {},
   "outputs": [],
   "source": [
    "x_observations = np.array([4000, 4260, 4550, 4860, 5110])\n",
    "v_observations = np.array([280, 282, 285, 286, 290])\n",
    "\n",
    "z = np.c_[x_observations, v_observations]\n",
    "\n",
    "# Initial Conditions\n",
    "a = 2  # Acceleration\n",
    "v = 280\n",
    "t = 1  # Difference in time\n",
    "\n",
    "# Process / Estimation Errors\n",
    "error_est_x = 20\n",
    "error_est_v = 5\n",
    "\n",
    "# Observation Errors\n",
    "error_obs_x = 25  # Uncertainty in the measurement\n",
    "error_obs_v = 6"
   ]
  },
  {
   "cell_type": "code",
   "execution_count": null,
   "id": "08750c74-4dd0-44d3-aac1-7ef747496371",
   "metadata": {},
   "outputs": [],
   "source": [
    "def prediction2d(x, v, t, a):\n",
    "    A = np.array([[1, t],\n",
    "                  [0, 1]])\n",
    "    X = np.array([[x],\n",
    "                  [v]])\n",
    "    B = np.array([[0.5 * t ** 2],\n",
    "                  [t]])\n",
    "    X_prime = A.dot(X) + B.dot(a)\n",
    "    return X_prime\n",
    "\n",
    "\n",
    "def covariance2d(sigma1, sigma2):\n",
    "    cov1_2 = sigma1 * sigma2\n",
    "    cov2_1 = sigma2 * sigma1\n",
    "    cov_matrix = np.array([[sigma1 ** 2, cov1_2],\n",
    "                           [cov2_1, sigma2 ** 2]])\n",
    "    return np.diag(np.diag(cov_matrix))"
   ]
  },
  {
   "cell_type": "code",
   "execution_count": null,
   "id": "612352f0-42ba-4978-b960-433dfd1c6e83",
   "metadata": {},
   "outputs": [],
   "source": [
    "# Initial Estimation Covariance Matrix\n",
    "P = covariance2d(error_est_x, error_est_v)\n",
    "A = np.array([[1, t],\n",
    "              [0, 1]])\n",
    "\n",
    "# Initial State Matrix\n",
    "X = np.array([[z[0][0]],\n",
    "              [v]])\n",
    "n = len(z[0])"
   ]
  },
  {
   "cell_type": "code",
   "execution_count": null,
   "id": "7ee3a7e5-9316-4133-a22f-6134cd98a5dd",
   "metadata": {},
   "outputs": [],
   "source": [
    "\n",
    "for data in z[1:]:\n",
    "    X = prediction2d(X[0][0], X[1][0], t, a)\n",
    "    # To simplify the problem, professor\n",
    "    # set off-diagonal terms to 0.\n",
    "    P = np.diag(np.diag(A.dot(P).dot(A.T)))\n",
    "\n",
    "    # Calculating the Kalman Gain\n",
    "    H = np.identity(n)\n",
    "    R = covariance2d(error_obs_x, error_obs_v)\n",
    "    S = H.dot(P).dot(H.T) + R\n",
    "    K = P.dot(H).dot(inv(S))\n",
    "\n",
    "    # Reshape the new data into the measurement space.\n",
    "    Y = H.dot(data).reshape(n, -1)\n",
    "\n",
    "    # Update the State Matrix\n",
    "    # Combination of the predicted state, measured values, covariance matrix and Kalman Gain\n",
    "    X = X + K.dot(Y - H.dot(X))\n",
    "\n",
    "    # Update Process Covariance Matrix\n",
    "    P = (np.identity(len(K)) - K.dot(H)).dot(P)\n",
    "\n",
    "print(\"Kalman Filter State Matrix:\\n\", X)"
   ]
  },
  {
   "cell_type": "code",
   "execution_count": null,
   "id": "12368276-49b0-4f0d-839e-bccdfe8047c7",
   "metadata": {},
   "outputs": [],
   "source": []
  },
  {
   "cell_type": "code",
   "execution_count": null,
   "id": "57aed9ab-06c7-4121-ba12-f0fa1a24ebcb",
   "metadata": {},
   "outputs": [],
   "source": []
  },
  {
   "cell_type": "markdown",
   "id": "8497f88f-2125-4040-b66b-5eed1dd07d20",
   "metadata": {},
   "source": [
    "https://thekalmanfilter.com/kalman-filter-python-example/"
   ]
  },
  {
   "cell_type": "code",
   "execution_count": null,
   "id": "5fc72e2b-d431-4bc2-9027-eae45713ef06",
   "metadata": {},
   "outputs": [],
   "source": [
    "import numpy as np\n",
    "from numpy.linalg import inv\n",
    "import matplotlib.pyplot as plt"
   ]
  },
  {
   "cell_type": "code",
   "execution_count": null,
   "id": "0f2e6ec4-2e54-4012-bfcc-0a9691f6e292",
   "metadata": {},
   "outputs": [],
   "source": [
    "def getMeasurement(updateNumber):\n",
    "    if updateNumber == 1:\n",
    "        getMeasurement.currentPosition = 0\n",
    "        getMeasurement.currentVelocity = 60 # m/s\n",
    "    dt = 0.1\n",
    "    w = 8 * np.random.randn(1)\n",
    "    v = 8 * np.random.randn(1)\n",
    "    z = getMeasurement.currentPosition + getMeasurement.currentVelocity*dt + v\n",
    "    getMeasurement.currentPosition = z - v\n",
    "    getMeasurement.currentVelocity = 60 + w\n",
    "    return [z, getMeasurement.currentPosition, getMeasurement.currentVelocity]"
   ]
  },
  {
   "cell_type": "code",
   "execution_count": null,
   "id": "49d1fe9b-cb08-4313-916d-18714851c0cb",
   "metadata": {},
   "outputs": [],
   "source": [
    "getMeasurement(1)\n"
   ]
  },
  {
   "cell_type": "code",
   "execution_count": null,
   "id": "78024e13-22f7-4913-8672-774f8ac382c4",
   "metadata": {},
   "outputs": [],
   "source": [
    "def filter(z, updateNumber):\n",
    "    dt = 0.1\n",
    "    # Initialize State\n",
    "    if updateNumber == 1:\n",
    "        filter.x = np.array([[0],\n",
    "                            [20]])\n",
    "        filter.P = np.array([[5, 0],\n",
    "                                 [0, 5]])\n",
    "        filter.A = np.array([[1, dt],\n",
    "                             [0, 1]])\n",
    "        filter.H = np.array([[1, 0]])\n",
    "        filter.HT = np.array([[1],\n",
    "                              [0]])\n",
    "        filter.R = 10\n",
    "        filter.Q = np.array([[1, 0],\n",
    "                             [0, 3]])\n",
    "    # Predict State Forward\n",
    "    x_p = filter.A.dot(filter.x)\n",
    "    \n",
    "    \n",
    "    # Predict Covariance Forward\n",
    "    P_p = filter.A.dot(filter.P).dot(filter.A.T) + filter.Q   #nxn\n",
    "    # Compute Kalman Gain\n",
    "    S = filter.H.dot(P_p).dot(filter.HT) + filter.R # mxm\n",
    "    K = P_p.dot(filter.HT)*(inv(S)) #nxm\n",
    "    # Estimate State\n",
    "    residual = z - filter.H.dot(x_p) # mx1 \n",
    "    filter.x = x_p + K*residual #nx1\n",
    "    # Estimate Covariance\n",
    "    filter.P = P_p - K.dot(filter.H).dot(P_p)\n",
    "    return [filter.x[0], filter.x[1], filter.P];\n",
    "\n",
    "def testFilter():\n",
    "    dt = 0.1\n",
    "    t = np.linspace(0, 10, num=300)\n",
    "    numOfMeasurements = len(t)\n",
    "    measTime = []\n",
    "    measPos = []\n",
    "    measDifPos = []\n",
    "    estDifPos = []\n",
    "    estPos = []\n",
    "    estVel = []\n",
    "    posBound3Sigma = []\n",
    "    for k in range(1,numOfMeasurements):\n",
    "        z = getMeasurement(k)\n",
    "        # Call Filter and return new State\n",
    "        f = filter(z[0], k)\n",
    "        # Save off that state so that it could be plotted\n",
    "        measTime.append(k)\n",
    "        measPos.append(z[0])\n",
    "        measDifPos.append(z[0]-z[1])\n",
    "        estDifPos.append(f[0]-z[1])\n",
    "        estPos.append(f[0])\n",
    "        estVel.append(f[1])\n",
    "        posVar = f[2]\n",
    "        posBound3Sigma.append(3*np.sqrt(posVar[0][0]))\n",
    "    return [measTime, measPos, estPos, estVel, measDifPos, estDifPos, posBound3Sigma];"
   ]
  },
  {
   "cell_type": "code",
   "execution_count": null,
   "id": "73065349-1c2e-4e0d-8e27-0ccfb584fac5",
   "metadata": {
    "tags": []
   },
   "outputs": [],
   "source": [
    "t = testFilter()\n",
    "plot1 = plt.figure(1)\n",
    "plt.scatter(t[0], t[1])\n",
    "plt.plot(t[0], t[2])\n",
    "plt.ylabel('Position')\n",
    "plt.xlabel('Time')\n",
    "plt.grid(True)\n",
    "plot2 = plt.figure(2)\n",
    "plt.plot(t[0], t[3])\n",
    "plt.ylabel('Velocity (meters/seconds)')\n",
    "plt.xlabel('Update Number')\n",
    "plt.title('Velocity Estimate On Each Measurement Update \\n', fontweight=\"bold\")\n",
    "plt.legend(['Estimate'])\n",
    "plt.grid(True)\n",
    "plot3 = plt.figure(3)\n",
    "plt.scatter(t[0], t[4], color = 'red')\n",
    "plt.plot(t[0], t[5])\n",
    "plt.legend(['Estimate', 'Measurement'])\n",
    "plt.title('Position Errors On Each Measurement Update \\n', fontweight=\"bold\")\n",
    "#plt.plot(t[0], t[6])\n",
    "plt.ylabel('Position Error (meters)')\n",
    "plt.xlabel('Update Number')\n",
    "plt.grid(True)\n",
    "plt.xlim([0, 300])\n",
    "plt.show()"
   ]
  },
  {
   "cell_type": "code",
   "execution_count": null,
   "id": "2c9ddcca-d9ca-465d-9c18-2f70786eae75",
   "metadata": {},
   "outputs": [],
   "source": []
  }
 ],
 "metadata": {
  "kernelspec": {
   "display_name": "Python 3 (ipykernel)",
   "language": "python",
   "name": "python3"
  },
  "language_info": {
   "codemirror_mode": {
    "name": "ipython",
    "version": 3
   },
   "file_extension": ".py",
   "mimetype": "text/x-python",
   "name": "python",
   "nbconvert_exporter": "python",
   "pygments_lexer": "ipython3",
   "version": "3.8.8"
  }
 },
 "nbformat": 4,
 "nbformat_minor": 5
}
