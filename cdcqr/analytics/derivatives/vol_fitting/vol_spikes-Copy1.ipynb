{
 "cells": [
  {
   "cell_type": "markdown",
   "id": "bbf69db4-cfd3-449d-b3b5-cd3648702983",
   "metadata": {},
   "source": [
    "### Finding the vol fitting outliers\n",
    "   * produce the ATM option spread in 2021\n",
    "   * find <20 periods of spikes\n",
    "   * go to CT to check the vol fitting curves\n",
    "   * write down the summaries into confluence"
   ]
  },
  {
   "cell_type": "code",
   "execution_count": null,
   "id": "d789aca5-d9b3-4923-809c-a60d9fcf8311",
   "metadata": {},
   "outputs": [],
   "source": [
    "from cdcqr.data.deribit.data_utils import quoto_and_trade_analysis\n",
    "from datetime import datetime\n",
    "import sys\n",
    "import pandas as pd\n",
    "from cdcqr.data.deribit.data_utils import get_spread_from_ATM_option_quote_data\n",
    "from cdcqr.common.utils import parallel_jobs\n",
    "from cdcqr.common.config import LOCAL_DATA_DIR\n",
    "sys.path.append('C://github/cryptoderiv-quant/')\n",
    "\n",
    "import matplotlib.pyplot as plt"
   ]
  },
  {
   "cell_type": "code",
   "execution_count": null,
   "id": "acd3a2cb-9903-430a-af22-879b107b52c4",
   "metadata": {},
   "outputs": [],
   "source": [
    "from ct.utils import plot2"
   ]
  },
  {
   "cell_type": "markdown",
   "id": "6b60110a-7e6b-49d4-99cf-de975c5fcf29",
   "metadata": {},
   "source": [
    "quoto_and_trade_analysis?"
   ]
  },
  {
   "cell_type": "code",
   "execution_count": null,
   "id": "cb40b170-ff25-46fc-ad31-862407aa1d22",
   "metadata": {},
   "outputs": [],
   "source": [
    "ret_dict, ret_df = quoto_and_trade_analysis(contract='BTC-25JUN21-60000-C', date='2021-04-18')"
   ]
  },
  {
   "cell_type": "code",
   "execution_count": null,
   "id": "4cc04b33-aa20-43f7-b19a-c2d3596fb519",
   "metadata": {},
   "outputs": [],
   "source": [
    "ret_df.head()"
   ]
  },
  {
   "cell_type": "code",
   "execution_count": null,
   "id": "caa95dd5-f266-4640-a503-3f2fc5d60f1d",
   "metadata": {},
   "outputs": [],
   "source": [
    "ret_df.set_index('timestamp_dt')['spread'].pipe(df2)"
   ]
  },
  {
   "cell_type": "markdown",
   "id": "451b2a8a-d03b-4ab7-81d1-af39dbf8b536",
   "metadata": {},
   "source": [
    "### 1) Load quote data, finding the ATM option, produce the spread at minutes level"
   ]
  },
  {
   "cell_type": "code",
   "execution_count": null,
   "id": "4d9b6e9b-973a-4dba-ae59-8f2a4aa856fe",
   "metadata": {},
   "outputs": [],
   "source": [
    "def get_spread_from_ATM_option_quote_data(date):\n",
    "    \"\"\"\n",
    "    load quote data -> find the ATM call -> calcuate spread, resample at 1 min level -> return the max spread time series\n",
    "    \"\"\"\n",
    "    df = data_loader(exchange='deribit', date = date.strftime('%Y-%m-%d'), data_type='quotes', symbol='OPTIONS', )\n",
    "    df1 = df[['symbol','timestamp','ask_price','bid_price']]\n",
    "    df2 = df1[df1['symbol'].str.contains('BTC') & df1['symbol'].str.contains('-C')]\n",
    "    df2['spread'] = df2['ask_price'] - df2['bid_price']\n",
    "    df3 = df2[['symbol','timestamp','spread']]\n",
    "    ATM_call = df3.groupby('symbol')['spread'].count().sort_values(ascending=False).index[0]\n",
    "    df4 = df3.query('symbol==@ATM_call')\n",
    "    df4['dt'] = pd.to_datetime(df4['timestamp'], unit='us')\n",
    "    df5 = df4.set_index('dt').resample('1T')['spread'].max()\n",
    "    df5 = df5[df5.index>=date]\n",
    "    return df5"
   ]
  },
  {
   "cell_type": "code",
   "execution_count": null,
   "id": "5d0b0e89-aa4a-47cc-b7e6-305f5670fd78",
   "metadata": {},
   "outputs": [],
   "source": [
    "from cdcqr.data.dataloader import data_loader\n",
    "dates = pd.date_range(datetime(2021,1,1), datetime(2021,10,28))\n",
    "date = dates[0]"
   ]
  },
  {
   "cell_type": "code",
   "execution_count": null,
   "id": "23e65da4-5721-4706-ba0e-f15d5ab81cb7",
   "metadata": {},
   "outputs": [],
   "source": [
    "get_spread_from_ATM_option_quote_data(date)"
   ]
  },
  {
   "cell_type": "markdown",
   "id": "53df6b67-f39d-4640-af35-5b85881b3867",
   "metadata": {},
   "source": [
    "### 2) run the above function in parallel"
   ]
  },
  {
   "cell_type": "code",
   "execution_count": null,
   "id": "95b76794-c663-4e5a-98b6-dc805dd8e8e8",
   "metadata": {},
   "outputs": [],
   "source": [
    "dates = pd.date_range(datetime(2021,1,1), datetime(2021,4,1))\n",
    "dates2 = pd.date_range(datetime(2021,4,2), datetime(2021,7,1))\n",
    "dates3 = pd.date_range(datetime(2021,7,2), datetime(2021,10,27))\n"
   ]
  },
  {
   "cell_type": "code",
   "execution_count": null,
   "id": "745f5608-a194-4619-bf0b-db0c7361d616",
   "metadata": {},
   "outputs": [],
   "source": [
    "ret_dict = parallel_jobs(get_spread_from_ATM_option_quote_data, dates3)"
   ]
  },
  {
   "cell_type": "code",
   "execution_count": null,
   "id": "82fe42cb-b9cc-4b5c-aa6b-310b99a5b706",
   "metadata": {},
   "outputs": [],
   "source": [
    "ret_df = pd.concat(ret_dict.values()).sort_index()"
   ]
  },
  {
   "cell_type": "code",
   "execution_count": null,
   "id": "7d4f92ec-c4b5-44ed-b831-d3b6fc3a8f2c",
   "metadata": {},
   "outputs": [],
   "source": [
    "ret_df_08_10= ret_df.copy()"
   ]
  },
  {
   "cell_type": "code",
   "execution_count": null,
   "id": "846a7ddc-d555-41b9-b0a4-3b0a737bb071",
   "metadata": {},
   "outputs": [],
   "source": [
    "ret_df_04_07 = ret_df.copy()"
   ]
  },
  {
   "cell_type": "code",
   "execution_count": null,
   "id": "4c28d74c-df64-4adb-9c1c-c6b2b6382402",
   "metadata": {},
   "outputs": [],
   "source": [
    "ret_df.plot()"
   ]
  },
  {
   "cell_type": "code",
   "execution_count": null,
   "id": "1418c7b3-2224-44cd-92d5-b34c43269fe2",
   "metadata": {},
   "outputs": [],
   "source": [
    "ret_df_01_03 = ret_df.copy()"
   ]
  },
  {
   "cell_type": "code",
   "execution_count": null,
   "id": "0f03edf2-2032-4949-951e-2d7df9a68533",
   "metadata": {},
   "outputs": [],
   "source": [
    "ret_df_04_07.plot()"
   ]
  },
  {
   "cell_type": "code",
   "execution_count": null,
   "id": "16785dab-148f-4ac4-b0f5-0c9f2e97fc5f",
   "metadata": {},
   "outputs": [],
   "source": [
    "df_2021[(df_2021['dt']>=datetime(2021,7,8,0,0)) & (df_2021['dt']<datetime(2021,7,9,0,0))].set_index('dt')['spread'].plot()"
   ]
  },
  {
   "cell_type": "code",
   "execution_count": null,
   "id": "70366c54-a619-4984-92d8-bd81f3641139",
   "metadata": {},
   "outputs": [],
   "source": [
    "df_2021[(df_2021['dt']>=datetime(2021,5,23,0,0)) & (df_2021['dt']<datetime(2021,5,24,0,0))].set_index('dt')['spread'].plot()"
   ]
  },
  {
   "cell_type": "code",
   "execution_count": null,
   "id": "4d95bb37-1674-44bb-9e3c-ff6d302471e8",
   "metadata": {},
   "outputs": [],
   "source": [
    "ret_df_04_07.shape"
   ]
  },
  {
   "cell_type": "code",
   "execution_count": null,
   "id": "0e0e903a-520a-44b1-a3d5-8b8143131afa",
   "metadata": {},
   "outputs": [],
   "source": [
    "ret_df_08_10.shape"
   ]
  },
  {
   "cell_type": "code",
   "execution_count": null,
   "id": "5e03823e-fba2-4bbe-b1a2-efc8f3dd41a1",
   "metadata": {},
   "outputs": [],
   "source": [
    "df_2021 = ret_df_01_03.append(ret_df_04_07).append(ret_df_08_10)"
   ]
  },
  {
   "cell_type": "code",
   "execution_count": null,
   "id": "cc12edd7-1866-4d4b-af1a-78930e9ad632",
   "metadata": {},
   "outputs": [],
   "source": [
    "df_2021['date'] = df_2021['dt'].dt.date"
   ]
  },
  {
   "cell_type": "code",
   "execution_count": null,
   "id": "cd974c89-0072-41be-a0e3-45049856675e",
   "metadata": {},
   "outputs": [],
   "source": [
    "df_2021.to_pickle()"
   ]
  },
  {
   "cell_type": "markdown",
   "id": "dc81daef-df93-4a50-baad-90f20d2109f1",
   "metadata": {},
   "source": [
    "### 3) find the spike periods"
   ]
  },
  {
   "cell_type": "code",
   "execution_count": null,
   "id": "009d369a-fa45-4ec4-b540-ef0e05403af1",
   "metadata": {},
   "outputs": [],
   "source": [
    "df_2021.plot()"
   ]
  },
  {
   "cell_type": "code",
   "execution_count": null,
   "id": "10acdac9-2efb-42c1-aa78-f84bd0ffbd07",
   "metadata": {},
   "outputs": [],
   "source": [
    "df_2021 = df_2021.reset_index()"
   ]
  },
  {
   "cell_type": "markdown",
   "id": "fef99040-1b06-4fa3-ba0a-c9a991e88ad6",
   "metadata": {},
   "source": [
    "#### spikes >=0.5"
   ]
  },
  {
   "cell_type": "code",
   "execution_count": null,
   "id": "b1238875-3492-49d9-8ea2-05847789e23c",
   "metadata": {},
   "outputs": [],
   "source": [
    "spikes_lv1 = df_2021[df_2021>=0.5].reset_index()"
   ]
  },
  {
   "cell_type": "code",
   "execution_count": null,
   "id": "4f255115-0c70-429b-a376-f072e8c01aa2",
   "metadata": {},
   "outputs": [],
   "source": [
    "spikes_lv1['date'] = spikes_lv1['dt'].dt.date"
   ]
  },
  {
   "cell_type": "code",
   "execution_count": null,
   "id": "2d765f02-00cc-4906-ac3e-b7d5ff8a4225",
   "metadata": {},
   "outputs": [],
   "source": [
    "spikes_lv1.groupby('date').count()"
   ]
  },
  {
   "cell_type": "code",
   "execution_count": null,
   "id": "e143867b-7ff6-472f-bea3-81d3dee4e05f",
   "metadata": {},
   "outputs": [],
   "source": []
  },
  {
   "cell_type": "code",
   "execution_count": null,
   "id": "841e6b15-b52e-4431-916b-26756046098b",
   "metadata": {},
   "outputs": [],
   "source": [
    "df_2021[(df_2021['dt']>=datetime(2021,9,27,0,0)) & (df_2021['dt']<datetime(2021,9,28,0,0))].set_index('dt')['spread'].plot()"
   ]
  },
  {
   "cell_type": "code",
   "execution_count": null,
   "id": "6c364730-99c3-4ea1-be8c-f85dedbb4472",
   "metadata": {},
   "outputs": [],
   "source": [
    "### check ATM bid/ask quantity, "
   ]
  },
  {
   "cell_type": "code",
   "execution_count": null,
   "id": "9bdebeec-fca0-44d4-ba0b-3706b4bf4f43",
   "metadata": {},
   "outputs": [],
   "source": [
    "ret_dict, ret_df_40C = quoto_and_trade_analysis(contract='BTC-31DEC21-40000-C', date='2021-05-19')"
   ]
  },
  {
   "cell_type": "code",
   "execution_count": null,
   "id": "3b0f8de1-ff8f-461c-8292-272a6f1a645b",
   "metadata": {},
   "outputs": [],
   "source": [
    "ret_dict, ret_df_40P = quoto_and_trade_analysis(contract='BTC-31DEC21-40000-P', date='2021-05-19')"
   ]
  },
  {
   "cell_type": "code",
   "execution_count": null,
   "id": "a992353b-a265-4a5d-bd6f-f6d10d5e50d5",
   "metadata": {},
   "outputs": [],
   "source": [
    "ret_dict, ret_df_32P = quoto_and_trade_analysis(contract='BTC-31DEC21-32000-P', date='2021-05-19')"
   ]
  },
  {
   "cell_type": "code",
   "execution_count": null,
   "id": "2a212195-c870-4a13-bf56-4437c9ab4b28",
   "metadata": {},
   "outputs": [],
   "source": [
    "ret_dict, ret_df_32C = quoto_and_trade_analysis(contract='BTC-31DEC21-32000-C', date='2021-05-19')"
   ]
  },
  {
   "cell_type": "code",
   "execution_count": null,
   "id": "a4a1fbff-4d61-4192-8982-2f0735ba6ef6",
   "metadata": {},
   "outputs": [],
   "source": [
    "ret_dict, ret_df_48C = quoto_and_trade_analysis(contract='BTC-31DEC21-48000-C', date='2021-05-19')"
   ]
  },
  {
   "cell_type": "code",
   "execution_count": null,
   "id": "4441893c-1f3e-4c63-99f6-247b6bf06b5d",
   "metadata": {},
   "outputs": [],
   "source": [
    "ret_dict, ret_df_48P = quoto_and_trade_analysis(contract='BTC-31DEC21-48000-P', date='2021-05-19')"
   ]
  },
  {
   "cell_type": "code",
   "execution_count": null,
   "id": "c51b0d47-fa22-4810-9024-80c8dbac5160",
   "metadata": {},
   "outputs": [],
   "source": [
    "df2plot = ret_df_40C.query('timestamp_dt>=datetime(2021,5,19,22,30)').query('timestamp_dt<=datetime(2021,5,19,23,30)').set_index('timestamp_dt')[['ask_price','bid_price','flow']]\n",
    "fig, ax1 = plt.subplots(1,1, figsize=(8*4,6))\n",
    "df2plot[['ask_price','bid_price',]].plot(ax=ax1, linestyle='None', marker = '.')\n",
    "ax2 = ax1.twinx()\n",
    "df2plot['flow'].plot(ax=ax2, legend=['trade'], color = ['b'])\n",
    "plt.title('BTC-31DEC21-40000-C')\n",
    "plt.show()"
   ]
  },
  {
   "cell_type": "code",
   "execution_count": null,
   "id": "7ecb26f8-06d2-41ce-981d-a9a124b23963",
   "metadata": {
    "tags": []
   },
   "outputs": [],
   "source": [
    "df2plot = ret_df_40P.query('timestamp_dt>=datetime(2021,5,19,22,30,15)').query('timestamp_dt<=datetime(2021,5,19,22,30,20)').set_index('timestamp_dt')[['ask_price','bid_price','flow']]\n",
    "fig, ax1 = plt.subplots(1,1, figsize=(8*4,6))\n",
    "df2plot[['ask_price','bid_price',]].plot(ax=ax1, linestyle='None', marker = '.')\n",
    "ax2 = ax1.twinx()\n",
    "df2plot['flow'].plot(ax=ax2, legend=['trade'], color = ['b'])\n",
    "plt.title('BTC-31DEC21-40000-P')\n",
    "plt.show()"
   ]
  },
  {
   "cell_type": "code",
   "execution_count": null,
   "id": "3492c1a1-f6b2-4ea7-8d25-278b078db5f3",
   "metadata": {
    "jupyter": {
     "source_hidden": true
    },
    "tags": []
   },
   "outputs": [],
   "source": [
    "df2plot = ret_df_40P.query('timestamp_dt>=datetime(2021,5,19,22,30,15)').query('timestamp_dt<=datetime(2021,5,19,22,30,20)').set_index('timestamp_dt')[['ask_amount','bid_amount']]\n",
    "fig, ax1 = plt.subplots(1,1, figsize=(8*4,6))\n",
    "df2plot[['ask_amount',]].plot(ax=ax1, linestyle='None', marker = '.',  legend=['bid_amount'])\n",
    "plt.title('BTC-31DEC21-40000-P')\n",
    "plt.show()"
   ]
  },
  {
   "cell_type": "code",
   "execution_count": null,
   "id": "05f891f8-c27d-4205-aab6-817fcc0d543f",
   "metadata": {},
   "outputs": [],
   "source": [
    "ret_df_40P.query('timestamp_dt>=datetime(2021,5,19,22,30,15)').query('timestamp_dt<=datetime(2021,5,19,22,30,20)')[['timestamp_dt','','','','']]"
   ]
  },
  {
   "cell_type": "code",
   "execution_count": null,
   "id": "3859bc8a-98a3-473a-85ec-82136aa1632a",
   "metadata": {},
   "outputs": [],
   "source": [
    "df2plot = ret_df_32P.query('timestamp_dt>=datetime(2021,5,19,22,30)').query('timestamp_dt<=datetime(2021,5,19,23,30)').set_index('timestamp_dt')[['ask_price','bid_price','flow']]\n",
    "fig, ax1 = plt.subplots(1,1, figsize=(8*4,6))\n",
    "df2plot[['ask_price','bid_price',]].plot(ax=ax1, linestyle='None', marker = '.')\n",
    "ax2 = ax1.twinx()\n",
    "df2plot['flow'].plot(ax=ax2, legend=['trade'], color = ['b'])\n",
    "plt.title('BTC-31DEC21-32000-P')\n",
    "plt.show()"
   ]
  },
  {
   "cell_type": "code",
   "execution_count": null,
   "id": "0e2926fd-ac9d-424a-b71e-c6c907acd070",
   "metadata": {},
   "outputs": [],
   "source": [
    "df2plot = ret_df_32C.query('timestamp_dt>=datetime(2021,5,19,22,30)').query('timestamp_dt<=datetime(2021,5,19,23,30)').set_index('timestamp_dt')[['ask_price','bid_price','flow']]\n",
    "fig, ax1 = plt.subplots(1,1, figsize=(8*4,6))\n",
    "df2plot[['ask_price','bid_price',]].plot(ax=ax1, linestyle='None', marker = '.')\n",
    "ax2 = ax1.twinx()\n",
    "df2plot['flow'].plot(ax=ax2, legend=['trade'], color = ['b'])\n",
    "plt.title('BTC-31DEC21-32000-C')\n",
    "plt.show()"
   ]
  },
  {
   "cell_type": "code",
   "execution_count": null,
   "id": "829916b5-21b9-4402-95cf-2aba4e00f739",
   "metadata": {},
   "outputs": [],
   "source": [
    "#df2plot = ret_df_48P.query('timestamp_dt>=datetime(2021,5,19,22,30)').query('timestamp_dt<=datetime(2021,5,19,23,30)').set_index('timestamp_dt')[['ask_price','bid_price','flow']]\n",
    "df2plot = ret_df_48P.query('timestamp_dt>=datetime(2021,5,19,15,30)').query('timestamp_dt<=datetime(2021,5,19,15,35)').set_index('timestamp_dt')[['ask_price','bid_price','flow']]\n",
    "\n",
    "fig, ax1 = plt.subplots(1,1, figsize=(8*4,6))\n",
    "df2plot[['ask_price','bid_price',]].plot(ax=ax1, linestyle='None', marker = '.')\n",
    "ax2 = ax1.twinx()\n",
    "df2plot['flow'].plot(ax=ax2, legend=['trade'], color = ['b'], linestyle='None', marker = 'x')\n",
    "plt.title('BTC-31DEC21-48000-P')\n",
    "plt.show()"
   ]
  },
  {
   "cell_type": "code",
   "execution_count": null,
   "id": "b6ff84bc-64e9-4e63-9062-ebb4c5608d88",
   "metadata": {},
   "outputs": [],
   "source": [
    "df2plot = ret_df_48P.query('timestamp_dt>=datetime(2021,5,19,22,30)').query('timestamp_dt<=datetime(2021,5,19,23,30)').set_index('timestamp_dt')[['ask_price','bid_price','flow']]\n",
    "df2plot = ret_df_48P.set_index('timestamp_dt')[['ask_price','bid_price','flow']]\n",
    "fig, ax1 = plt.subplots(1,1, figsize=(8*4,6))\n",
    "df2plot[['ask_price','bid_price',]].plot(ax=ax1, linestyle='None', marker = '.')\n",
    "ax2 = ax1.twinx()\n",
    "df2plot['flow'].plot(ax=ax2, legend=['trade'], color = ['b'])\n",
    "plt.title('BTC-31DEC21-48000-P')\n",
    "plt.show()"
   ]
  },
  {
   "cell_type": "code",
   "execution_count": null,
   "id": "fe167348-fe75-4824-a172-49b03698d568",
   "metadata": {},
   "outputs": [],
   "source": [
    "df = data_loader(exchange='deribit', date = '2021-05-19', data_type='quotes', symbol='OPTIONS', )"
   ]
  },
  {
   "cell_type": "code",
   "execution_count": null,
   "id": "541fa9a2-5c69-40bc-b248-8f5b2a427781",
   "metadata": {},
   "outputs": [],
   "source": []
  },
  {
   "cell_type": "code",
   "execution_count": null,
   "id": "1ce3fa00-3da5-45a4-95fc-7c8fb6852bfc",
   "metadata": {},
   "outputs": [],
   "source": []
  },
  {
   "cell_type": "code",
   "execution_count": null,
   "id": "8aa7862e-5017-468a-ba0b-3f37977b6d16",
   "metadata": {
    "tags": []
   },
   "outputs": [],
   "source": [
    "[x for x in list(df['symbol'].unique()) if 'BTC-31DEC21' in x]"
   ]
  },
  {
   "cell_type": "code",
   "execution_count": null,
   "id": "86329f4f-b51c-4d62-9602-55a0c1bb8190",
   "metadata": {},
   "outputs": [],
   "source": [
    "quoto_and_trade_analysis??"
   ]
  },
  {
   "cell_type": "code",
   "execution_count": null,
   "id": "96882c27-c406-4ba7-8b47-c3fc9a3f20a3",
   "metadata": {},
   "outputs": [],
   "source": [
    "exchange = 'deribit'\n",
    "date = '2021-05-19'\n",
    "symbol = 'OPTIONS'\n",
    "df_opt_trade = data_loader(exchange, date,\"trades\",symbol)"
   ]
  },
  {
   "cell_type": "code",
   "execution_count": null,
   "id": "73fed115-f67b-460e-8b0f-2f514be5d90e",
   "metadata": {},
   "outputs": [],
   "source": [
    "df_opt_trade = df_opt_trade.query('symbol==\"BTC-31DEC21-40000-P\"')"
   ]
  },
  {
   "cell_type": "code",
   "execution_count": null,
   "id": "8a631470-dcb7-4492-87af-a40ac050ade2",
   "metadata": {},
   "outputs": [],
   "source": [
    "df_opt_trade['dt'] = pd.to_datetime(df_opt_trade['timestamp'], unit='us') # check convert ts"
   ]
  },
  {
   "cell_type": "code",
   "execution_count": null,
   "id": "415f081b-02a2-4711-a7d9-a42cc4f9e06b",
   "metadata": {},
   "outputs": [],
   "source": [
    "pd.set_option('display.max_rows', 500)"
   ]
  },
  {
   "cell_type": "code",
   "execution_count": null,
   "id": "0d1e8e28-0db0-4087-9b0b-5a42a75ec167",
   "metadata": {},
   "outputs": [],
   "source": [
    "df_opt_trade.set_index('dt')"
   ]
  },
  {
   "cell_type": "code",
   "execution_count": null,
   "id": "81615ed0-dadc-4f9c-a4d5-c878d3a5b8d3",
   "metadata": {},
   "outputs": [],
   "source": [
    "ret_df_48P.query('timestamp_dt>=datetime(2021,5,19,15,00)').query('timestamp_dt<=datetime(2021,5,19,16,00)')"
   ]
  },
  {
   "cell_type": "code",
   "execution_count": null,
   "id": "ec2c2de2-3a51-475b-89d8-9d80be372dd5",
   "metadata": {},
   "outputs": [],
   "source": []
  }
 ],
 "metadata": {
  "kernelspec": {
   "display_name": "Python 3 (ipykernel)",
   "language": "python",
   "name": "python3"
  },
  "language_info": {
   "codemirror_mode": {
    "name": "ipython",
    "version": 3
   },
   "file_extension": ".py",
   "mimetype": "text/x-python",
   "name": "python",
   "nbconvert_exporter": "python",
   "pygments_lexer": "ipython3",
   "version": "3.8.8"
  }
 },
 "nbformat": 4,
 "nbformat_minor": 5
}
