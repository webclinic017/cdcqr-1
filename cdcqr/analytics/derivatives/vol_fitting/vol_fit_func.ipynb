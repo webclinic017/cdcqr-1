{
 "cells": [
  {
   "cell_type": "code",
   "execution_count": 1,
   "id": "aecb63af-b0d4-4ffe-90c7-039edad222f7",
   "metadata": {},
   "outputs": [
    {
     "data": {
      "text/html": [
       "        <script type=\"text/javascript\">\n",
       "        window.PlotlyConfig = {MathJaxConfig: 'local'};\n",
       "        if (window.MathJax) {MathJax.Hub.Config({SVG: {font: \"STIX-Web\"}});}\n",
       "        if (typeof require !== 'undefined') {\n",
       "        require.undef(\"plotly\");\n",
       "        requirejs.config({\n",
       "            paths: {\n",
       "                'plotly': ['https://cdn.plot.ly/plotly-2.4.2.min']\n",
       "            }\n",
       "        });\n",
       "        require(['plotly'], function(Plotly) {\n",
       "            window._Plotly = Plotly;\n",
       "        });\n",
       "        }\n",
       "        </script>\n",
       "        "
      ]
     },
     "metadata": {},
     "output_type": "display_data"
    }
   ],
   "source": [
    "import pandas as pd\n",
    "from cdcqr.common.config import LOCAL_DATA_DIR\n",
    "import os\n",
    "from scipy.optimize import minimize\n",
    "from scipy.interpolate import interp1d\n",
    "from functools import partial\n",
    "import numpy as np\n",
    "DF= pd.DataFrame\n",
    "from importlib import reload\n",
    "import cufflinks as cf\n",
    "cf.go_offline()\n",
    "cf.set_config_file(offline=False, world_readable=True)\n",
    "\n",
    "import cdcqr.analytics.derivatives.option_utils as optUtil\n",
    "import statsmodels.api as sm\n",
    "import seaborn as sns\n",
    "import matplotlib.pyplot as plt\n",
    "from cdcqr.common.config import LOCAL_FIGURE_DIR"
   ]
  },
  {
   "cell_type": "code",
   "execution_count": 2,
   "id": "52fa3598-fa59-458a-8bce-892e37c0a617",
   "metadata": {},
   "outputs": [
    {
     "data": {
      "text/plain": [
       "'/core/figure/'"
      ]
     },
     "execution_count": 2,
     "metadata": {},
     "output_type": "execute_result"
    }
   ],
   "source": [
    "LOCAL_FIGURE_DIR"
   ]
  },
  {
   "cell_type": "code",
   "execution_count": 3,
   "id": "e857bb20-f0ec-40a2-9efd-b5430f269f95",
   "metadata": {},
   "outputs": [
    {
     "data": {
      "text/plain": [
       "<module 'cdcqr.analytics.derivatives.option_utils' from 'c:\\\\core\\\\github\\\\cdcqr\\\\cdcqr\\\\analytics\\\\derivatives\\\\option_utils.py'>"
      ]
     },
     "execution_count": 3,
     "metadata": {},
     "output_type": "execute_result"
    }
   ],
   "source": [
    "reload(optUtil)"
   ]
  },
  {
   "cell_type": "code",
   "execution_count": 9,
   "id": "ba7a0ce5-5701-490d-8fd2-a1d06f4d1208",
   "metadata": {},
   "outputs": [],
   "source": [
    "df=pd.read_pickle(os.path.join(LOCAL_DATA_DIR, 'optchain5Min.pkl'))"
   ]
  },
  {
   "cell_type": "code",
   "execution_count": 10,
   "id": "3830bfda-3327-4e91-8b98-e3b7db2dc3a0",
   "metadata": {
    "scrolled": true,
    "tags": []
   },
   "outputs": [
    {
     "data": {
      "text/html": [
       "<div>\n",
       "<style scoped>\n",
       "    .dataframe tbody tr th:only-of-type {\n",
       "        vertical-align: middle;\n",
       "    }\n",
       "\n",
       "    .dataframe tbody tr th {\n",
       "        vertical-align: top;\n",
       "    }\n",
       "\n",
       "    .dataframe thead th {\n",
       "        text-align: right;\n",
       "    }\n",
       "</style>\n",
       "<table border=\"1\" class=\"dataframe\">\n",
       "  <thead>\n",
       "    <tr style=\"text-align: right;\">\n",
       "      <th>tm</th>\n",
       "      <th>2021-07-01 00:05:00</th>\n",
       "      <th>2021-07-01 00:10:00</th>\n",
       "    </tr>\n",
       "  </thead>\n",
       "  <tbody>\n",
       "    <tr>\n",
       "      <th>symbol</th>\n",
       "      <td>ETH-24SEP21-1600-C</td>\n",
       "      <td>ETH-24SEP21-1600-C</td>\n",
       "    </tr>\n",
       "    <tr>\n",
       "      <th>tm</th>\n",
       "      <td>2021-07-01 00:00:00</td>\n",
       "      <td>2021-07-01 00:05:00</td>\n",
       "    </tr>\n",
       "    <tr>\n",
       "      <th>aiv</th>\n",
       "      <td>2.0024</td>\n",
       "      <td>2.0031</td>\n",
       "    </tr>\n",
       "    <tr>\n",
       "      <th>ap</th>\n",
       "      <td>0.4855</td>\n",
       "      <td>0.4835</td>\n",
       "    </tr>\n",
       "    <tr>\n",
       "      <th>av</th>\n",
       "      <td>1.0</td>\n",
       "      <td>1.0</td>\n",
       "    </tr>\n",
       "    <tr>\n",
       "      <th>biv</th>\n",
       "      <td>0.8025</td>\n",
       "      <td>0.8026</td>\n",
       "    </tr>\n",
       "    <tr>\n",
       "      <th>bp</th>\n",
       "      <td>0.3315</td>\n",
       "      <td>0.328</td>\n",
       "    </tr>\n",
       "    <tr>\n",
       "      <th>bv</th>\n",
       "      <td>5.0</td>\n",
       "      <td>5.0</td>\n",
       "    </tr>\n",
       "    <tr>\n",
       "      <th>delta</th>\n",
       "      <td>0.82375</td>\n",
       "      <td>0.82068</td>\n",
       "    </tr>\n",
       "    <tr>\n",
       "      <th>exch</th>\n",
       "      <td>deribit</td>\n",
       "      <td>deribit</td>\n",
       "    </tr>\n",
       "    <tr>\n",
       "      <th>exchtm</th>\n",
       "      <td>2021-07-01 00:04:59.129000</td>\n",
       "      <td>2021-07-01 00:09:55.337000</td>\n",
       "    </tr>\n",
       "    <tr>\n",
       "      <th>expire</th>\n",
       "      <td>2021-09-24 08:00:00</td>\n",
       "      <td>2021-09-24 08:00:00</td>\n",
       "    </tr>\n",
       "    <tr>\n",
       "      <th>gamma</th>\n",
       "      <td>0.00021</td>\n",
       "      <td>0.00021</td>\n",
       "    </tr>\n",
       "    <tr>\n",
       "      <th>lpx</th>\n",
       "      <td>0.335</td>\n",
       "      <td>0.335</td>\n",
       "    </tr>\n",
       "    <tr>\n",
       "      <th>mark</th>\n",
       "      <td>0.3687</td>\n",
       "      <td>0.365606</td>\n",
       "    </tr>\n",
       "    <tr>\n",
       "      <th>markiv</th>\n",
       "      <td>1.1229</td>\n",
       "      <td>1.1221</td>\n",
       "    </tr>\n",
       "    <tr>\n",
       "      <th>oint</th>\n",
       "      <td>1129.0</td>\n",
       "      <td>1129.0</td>\n",
       "    </tr>\n",
       "    <tr>\n",
       "      <th>rho</th>\n",
       "      <td>2.43339</td>\n",
       "      <td>2.41753</td>\n",
       "    </tr>\n",
       "    <tr>\n",
       "      <th>strike</th>\n",
       "      <td>1600.0</td>\n",
       "      <td>1600.0</td>\n",
       "    </tr>\n",
       "    <tr>\n",
       "      <th>theta</th>\n",
       "      <td>-1.88435</td>\n",
       "      <td>-1.89113</td>\n",
       "    </tr>\n",
       "    <tr>\n",
       "      <th>ty</th>\n",
       "      <td>1</td>\n",
       "      <td>1</td>\n",
       "    </tr>\n",
       "    <tr>\n",
       "      <th>underly</th>\n",
       "      <td>ETH-24SEP21</td>\n",
       "      <td>ETH-24SEP21</td>\n",
       "    </tr>\n",
       "    <tr>\n",
       "      <th>s</th>\n",
       "      <td>2287.4</td>\n",
       "      <td>2272.45</td>\n",
       "    </tr>\n",
       "    <tr>\n",
       "      <th>vega</th>\n",
       "      <td>2.8638</td>\n",
       "      <td>2.87617</td>\n",
       "    </tr>\n",
       "    <tr>\n",
       "      <th>tau</th>\n",
       "      <td>0.23378</td>\n",
       "      <td>0.233771</td>\n",
       "    </tr>\n",
       "  </tbody>\n",
       "</table>\n",
       "</div>"
      ],
      "text/plain": [
       "tm              2021-07-01 00:05:00         2021-07-01 00:10:00\n",
       "symbol           ETH-24SEP21-1600-C          ETH-24SEP21-1600-C\n",
       "tm              2021-07-01 00:00:00         2021-07-01 00:05:00\n",
       "aiv                          2.0024                      2.0031\n",
       "ap                           0.4855                      0.4835\n",
       "av                              1.0                         1.0\n",
       "biv                          0.8025                      0.8026\n",
       "bp                           0.3315                       0.328\n",
       "bv                              5.0                         5.0\n",
       "delta                       0.82375                     0.82068\n",
       "exch                        deribit                     deribit\n",
       "exchtm   2021-07-01 00:04:59.129000  2021-07-01 00:09:55.337000\n",
       "expire          2021-09-24 08:00:00         2021-09-24 08:00:00\n",
       "gamma                       0.00021                     0.00021\n",
       "lpx                           0.335                       0.335\n",
       "mark                         0.3687                    0.365606\n",
       "markiv                       1.1229                      1.1221\n",
       "oint                         1129.0                      1129.0\n",
       "rho                         2.43339                     2.41753\n",
       "strike                       1600.0                      1600.0\n",
       "theta                      -1.88435                    -1.89113\n",
       "ty                                1                           1\n",
       "underly                 ETH-24SEP21                 ETH-24SEP21\n",
       "s                            2287.4                     2272.45\n",
       "vega                         2.8638                     2.87617\n",
       "tau                         0.23378                    0.233771"
      ]
     },
     "execution_count": 10,
     "metadata": {},
     "output_type": "execute_result"
    }
   ],
   "source": [
    "df.head(2).T"
   ]
  },
  {
   "cell_type": "code",
   "execution_count": 11,
   "id": "578b852f-3397-446a-b54a-ef435185a0ff",
   "metadata": {
    "tags": []
   },
   "outputs": [],
   "source": [
    "df=df[df.symbol.str.contains('BTC')]\n",
    "df=df.set_index(['tm','expire','strike']).sort_index()"
   ]
  },
  {
   "cell_type": "code",
   "execution_count": 15,
   "id": "22e626f3-2279-44dd-a7cf-05eb65cea09f",
   "metadata": {},
   "outputs": [
    {
     "data": {
      "text/html": [
       "<div>\n",
       "<style scoped>\n",
       "    .dataframe tbody tr th:only-of-type {\n",
       "        vertical-align: middle;\n",
       "    }\n",
       "\n",
       "    .dataframe tbody tr th {\n",
       "        vertical-align: top;\n",
       "    }\n",
       "\n",
       "    .dataframe thead th {\n",
       "        text-align: right;\n",
       "    }\n",
       "</style>\n",
       "<table border=\"1\" class=\"dataframe\">\n",
       "  <thead>\n",
       "    <tr style=\"text-align: right;\">\n",
       "      <th></th>\n",
       "      <th></th>\n",
       "      <th></th>\n",
       "      <th>symbol</th>\n",
       "      <th>aiv</th>\n",
       "      <th>ap</th>\n",
       "      <th>av</th>\n",
       "      <th>biv</th>\n",
       "      <th>bp</th>\n",
       "      <th>bv</th>\n",
       "      <th>delta</th>\n",
       "      <th>exch</th>\n",
       "      <th>exchtm</th>\n",
       "      <th>...</th>\n",
       "      <th>mark</th>\n",
       "      <th>markiv</th>\n",
       "      <th>oint</th>\n",
       "      <th>rho</th>\n",
       "      <th>theta</th>\n",
       "      <th>ty</th>\n",
       "      <th>underly</th>\n",
       "      <th>s</th>\n",
       "      <th>vega</th>\n",
       "      <th>tau</th>\n",
       "    </tr>\n",
       "    <tr>\n",
       "      <th>tm</th>\n",
       "      <th>expire</th>\n",
       "      <th>strike</th>\n",
       "      <th></th>\n",
       "      <th></th>\n",
       "      <th></th>\n",
       "      <th></th>\n",
       "      <th></th>\n",
       "      <th></th>\n",
       "      <th></th>\n",
       "      <th></th>\n",
       "      <th></th>\n",
       "      <th></th>\n",
       "      <th></th>\n",
       "      <th></th>\n",
       "      <th></th>\n",
       "      <th></th>\n",
       "      <th></th>\n",
       "      <th></th>\n",
       "      <th></th>\n",
       "      <th></th>\n",
       "      <th></th>\n",
       "      <th></th>\n",
       "      <th></th>\n",
       "    </tr>\n",
       "  </thead>\n",
       "  <tbody>\n",
       "    <tr>\n",
       "      <th rowspan=\"2\" valign=\"top\">2021-07-01</th>\n",
       "      <th rowspan=\"2\" valign=\"top\">2021-09-24 08:00:00</th>\n",
       "      <th>8000.0</th>\n",
       "      <td>BTC-24SEP21-8000-P</td>\n",
       "      <td>1.505</td>\n",
       "      <td>0.0025</td>\n",
       "      <td>41.6</td>\n",
       "      <td>1.3961</td>\n",
       "      <td>0.0015</td>\n",
       "      <td>6.7</td>\n",
       "      <td>-0.00682</td>\n",
       "      <td>deribit</td>\n",
       "      <td>2021-07-01 00:04:59.301</td>\n",
       "      <td>...</td>\n",
       "      <td>0.001969</td>\n",
       "      <td>1.4516</td>\n",
       "      <td>697.4</td>\n",
       "      <td>-0.7255</td>\n",
       "      <td>-2.7653</td>\n",
       "      <td>-1</td>\n",
       "      <td>BTC-24SEP21</td>\n",
       "      <td>35319.66</td>\n",
       "      <td>3.25109</td>\n",
       "      <td>0.23378</td>\n",
       "    </tr>\n",
       "    <tr>\n",
       "      <th>8000.0</th>\n",
       "      <td>BTC-24SEP21-8000-P</td>\n",
       "      <td>1.505</td>\n",
       "      <td>0.0025</td>\n",
       "      <td>41.6</td>\n",
       "      <td>1.3961</td>\n",
       "      <td>0.0015</td>\n",
       "      <td>6.7</td>\n",
       "      <td>-0.00682</td>\n",
       "      <td>deribit</td>\n",
       "      <td>2021-07-01 00:04:59.301</td>\n",
       "      <td>...</td>\n",
       "      <td>0.001969</td>\n",
       "      <td>1.4516</td>\n",
       "      <td>697.4</td>\n",
       "      <td>-0.7255</td>\n",
       "      <td>-2.7653</td>\n",
       "      <td>-1</td>\n",
       "      <td>BTC-24SEP21</td>\n",
       "      <td>35319.66</td>\n",
       "      <td>3.25109</td>\n",
       "      <td>0.23378</td>\n",
       "    </tr>\n",
       "  </tbody>\n",
       "</table>\n",
       "<p>2 rows × 22 columns</p>\n",
       "</div>"
      ],
      "text/plain": [
       "                                                   symbol    aiv      ap  \\\n",
       "tm         expire              strike                                      \n",
       "2021-07-01 2021-09-24 08:00:00 8000.0  BTC-24SEP21-8000-P  1.505  0.0025   \n",
       "                               8000.0  BTC-24SEP21-8000-P  1.505  0.0025   \n",
       "\n",
       "                                         av     biv      bp   bv    delta  \\\n",
       "tm         expire              strike                                       \n",
       "2021-07-01 2021-09-24 08:00:00 8000.0  41.6  1.3961  0.0015  6.7 -0.00682   \n",
       "                               8000.0  41.6  1.3961  0.0015  6.7 -0.00682   \n",
       "\n",
       "                                          exch                  exchtm  ...  \\\n",
       "tm         expire              strike                                   ...   \n",
       "2021-07-01 2021-09-24 08:00:00 8000.0  deribit 2021-07-01 00:04:59.301  ...   \n",
       "                               8000.0  deribit 2021-07-01 00:04:59.301  ...   \n",
       "\n",
       "                                           mark  markiv   oint     rho  \\\n",
       "tm         expire              strike                                    \n",
       "2021-07-01 2021-09-24 08:00:00 8000.0  0.001969  1.4516  697.4 -0.7255   \n",
       "                               8000.0  0.001969  1.4516  697.4 -0.7255   \n",
       "\n",
       "                                        theta  ty      underly         s  \\\n",
       "tm         expire              strike                                      \n",
       "2021-07-01 2021-09-24 08:00:00 8000.0 -2.7653  -1  BTC-24SEP21  35319.66   \n",
       "                               8000.0 -2.7653  -1  BTC-24SEP21  35319.66   \n",
       "\n",
       "                                          vega      tau  \n",
       "tm         expire              strike                    \n",
       "2021-07-01 2021-09-24 08:00:00 8000.0  3.25109  0.23378  \n",
       "                               8000.0  3.25109  0.23378  \n",
       "\n",
       "[2 rows x 22 columns]"
      ]
     },
     "execution_count": 15,
     "metadata": {},
     "output_type": "execute_result"
    }
   ],
   "source": [
    "df.head(2)"
   ]
  },
  {
   "cell_type": "code",
   "execution_count": null,
   "id": "6bbc3729-c088-448e-8625-843a3a387aa9",
   "metadata": {
    "tags": []
   },
   "outputs": [],
   "source": [
    "reload(optUtil)\n",
    "optUtil.volfit(df,plot=3,model=\"errfunc_parabolic_linear6\",kleft=-1.5,kright=1.5)"
   ]
  },
  {
   "cell_type": "code",
   "execution_count": null,
   "id": "37b3e0b4-8c6d-4780-8c80-d2e7a223f862",
   "metadata": {
    "tags": []
   },
   "outputs": [],
   "source": [
    "vfres=optUtil.volfit(df,plot=0,model='errfunc_parabolic_linear6',kleft=-2,kright=1.5)"
   ]
  },
  {
   "cell_type": "code",
   "execution_count": null,
   "id": "28817172-36e1-494c-996f-69ccb0efe7ae",
   "metadata": {},
   "outputs": [],
   "source": [
    "DF(vfres).set_index('t')[['p0','p1','p2','p3','p4','p5']].plot()"
   ]
  },
  {
   "cell_type": "code",
   "execution_count": null,
   "id": "95d97275-ef0c-4cbd-a00e-e584ad3d1a9d",
   "metadata": {},
   "outputs": [],
   "source": [
    "import time\n",
    "t = (2009, 2, 17, 17, 3, 38, 1, 48, 0)\n",
    "t = time.mktime(t)\n",
    "print (time.strftime(\"%Y%M%d%H%M%S\", time.gmtime(t)))"
   ]
  },
  {
   "cell_type": "code",
   "execution_count": null,
   "id": "02bfda40-49d7-445b-b265-931529e6009e",
   "metadata": {
    "tags": []
   },
   "outputs": [],
   "source": [
    "df = df_8_1m.copy()\n",
    "df=df[df.symbol.str.contains('BTC')]\n",
    "df=df.set_index(['tm','expire','strike']).sort_index()\n",
    "optUtil.volfit(df,plot=3,model=\"errfunc_parabolic_linear6\",kleft=-1.5,kright=2.3)"
   ]
  },
  {
   "cell_type": "code",
   "execution_count": null,
   "id": "e6e3b146-e31c-4f43-a928-00bb3538a8a5",
   "metadata": {},
   "outputs": [],
   "source": [
    "vfres=volfit(df,plot=0,model='errfunc_parabolic_linear6',kleft=-2,kright=1.5)"
   ]
  },
  {
   "cell_type": "code",
   "execution_count": null,
   "id": "4e98e8b8-f594-40ef-a061-ec964446e730",
   "metadata": {},
   "outputs": [],
   "source": [
    "DF(vfres).set_index('t')[['p0','p1','p2','p3','p4','p5']].plot()"
   ]
  }
 ],
 "metadata": {
  "kernelspec": {
   "display_name": "Python 3 (ipykernel)",
   "language": "python",
   "name": "python3"
  },
  "language_info": {
   "codemirror_mode": {
    "name": "ipython",
    "version": 3
   },
   "file_extension": ".py",
   "mimetype": "text/x-python",
   "name": "python",
   "nbconvert_exporter": "python",
   "pygments_lexer": "ipython3",
   "version": "3.8.8"
  }
 },
 "nbformat": 4,
 "nbformat_minor": 5
}
