{
 "cells": [
  {
   "cell_type": "code",
   "execution_count": 29,
   "id": "c029781c-fcfb-4c15-aed6-82c458443ccd",
   "metadata": {},
   "outputs": [
    {
     "data": {
      "text/html": [
       "        <script type=\"text/javascript\">\n",
       "        window.PlotlyConfig = {MathJaxConfig: 'local'};\n",
       "        if (window.MathJax) {MathJax.Hub.Config({SVG: {font: \"STIX-Web\"}});}\n",
       "        if (typeof require !== 'undefined') {\n",
       "        require.undef(\"plotly\");\n",
       "        requirejs.config({\n",
       "            paths: {\n",
       "                'plotly': ['https://cdn.plot.ly/plotly-2.4.2.min']\n",
       "            }\n",
       "        });\n",
       "        require(['plotly'], function(Plotly) {\n",
       "            window._Plotly = Plotly;\n",
       "        });\n",
       "        }\n",
       "        </script>\n",
       "        "
      ]
     },
     "metadata": {},
     "output_type": "display_data"
    }
   ],
   "source": [
    "import pandas as pd\n",
    "from cdcqr.common.config import LOCAL_DATA_DIR, CDQ_REPO_DIR\n",
    "import os\n",
    "from scipy.optimize import minimize\n",
    "from scipy.interpolate import interp1d\n",
    "from functools import partial\n",
    "import numpy as np\n",
    "DF= pd.DataFrame\n",
    "from importlib import reload\n",
    "import cufflinks as cf\n",
    "cf.go_offline()\n",
    "cf.set_config_file(offline=False, world_readable=True)\n",
    "\n",
    "import cdcqr.analytics.derivatives.option_utils as optUtil\n",
    "import statsmodels.api as sm\n",
    "import seaborn as sns\n",
    "import matplotlib.pyplot as plt\n",
    "from datetime import datetime \n",
    "import sys\n",
    "sys.path.append(CDQ_REPO_DIR)\n",
    "from ct.utils import plot2\n",
    "from cdcqr.analytics.derivatives.option_utils import errfunc_parabolic_linear6"
   ]
  },
  {
   "cell_type": "code",
   "execution_count": 2,
   "id": "e857bb20-f0ec-40a2-9efd-b5430f269f95",
   "metadata": {},
   "outputs": [
    {
     "data": {
      "text/plain": [
       "<module 'cdcqr.analytics.derivatives.option_utils' from 'c:\\\\core\\\\github\\\\cdcqr\\\\cdcqr\\\\analytics\\\\derivatives\\\\option_utils.py'>"
      ]
     },
     "execution_count": 2,
     "metadata": {},
     "output_type": "execute_result"
    }
   ],
   "source": [
    "reload(optUtil)"
   ]
  },
  {
   "cell_type": "code",
   "execution_count": 3,
   "id": "dd104dc2-0d0c-428d-8275-190067fca92f",
   "metadata": {},
   "outputs": [],
   "source": [
    "df=pd.read_pickle(os.path.join(LOCAL_DATA_DIR, 'optchain5Min.pkl'))\n",
    "df_518_1m=pd.read_pickle(os.path.join(LOCAL_DATA_DIR, 'optchain5Min.pkl'))\n",
    "df_518_3m=pd.read_pickle(os.path.join(LOCAL_DATA_DIR, 'optchain5Min.pkl'))\n",
    "df_519_1m=pd.read_pickle(os.path.join(LOCAL_DATA_DIR, 'optchain30Min_20210519_1M.pkl'))\n",
    "df_519_3m=pd.read_pickle(os.path.join(LOCAL_DATA_DIR, 'optchain30Min_20210519_3M.pkl'))\n",
    "df_8_1m = pd.read_pickle(os.path.join(LOCAL_DATA_DIR, 'optchain1H_202108_1M.pkl'))"
   ]
  },
  {
   "cell_type": "code",
   "execution_count": 4,
   "id": "d732c62c-72d5-4098-81aa-ce8c8d714d2a",
   "metadata": {},
   "outputs": [],
   "source": [
    "df_829_1m=pd.read_pickle(os.path.join(LOCAL_DATA_DIR, 'optchain5Min_20210829_1M.pkl'))\n",
    "df_830_1m=pd.read_pickle(os.path.join(LOCAL_DATA_DIR, 'optchain5Min_20210830_1M.pkl'))\n",
    "df_831_1m=pd.read_pickle(os.path.join(LOCAL_DATA_DIR, 'optchain5Min_20210831_1M.pkl'))"
   ]
  },
  {
   "cell_type": "code",
   "execution_count": 5,
   "id": "ddba847b-dd38-4c7f-aa85-51ee3826baed",
   "metadata": {},
   "outputs": [],
   "source": [
    "df_202104_1H_June=pd.read_pickle(os.path.join(LOCAL_DATA_DIR, 'optchain1H_202104_1M.pkl'))\n",
    "df_202105_1H_June=pd.read_pickle(os.path.join(LOCAL_DATA_DIR, 'optchain1H_202105_1M.pkl'))"
   ]
  },
  {
   "cell_type": "code",
   "execution_count": 6,
   "id": "da8d9cbc-1c1a-4f94-8bd3-b6fc49dfe014",
   "metadata": {},
   "outputs": [],
   "source": [
    "df_20210829_20210831_20220624_5min = pd.read_pickle(os.path.join(LOCAL_DATA_DIR, 'optchain5Min_20210829_20210831_20220624.pkl'))"
   ]
  },
  {
   "cell_type": "markdown",
   "id": "d65fad02-cc16-4cc9-afc3-647b1524f7ca",
   "metadata": {},
   "source": [
    "---------test start----------"
   ]
  },
  {
   "cell_type": "code",
   "execution_count": 35,
   "id": "8abf3656-fa64-4c1f-89c4-9f94c206ebff",
   "metadata": {},
   "outputs": [],
   "source": [
    "res = []"
   ]
  },
  {
   "cell_type": "code",
   "execution_count": 14,
   "id": "33de01cc-c4aa-422c-825c-bb8da95c8478",
   "metadata": {},
   "outputs": [],
   "source": [
    "ts = df.index.get_level_values('tm').drop_duplicates()"
   ]
  },
  {
   "cell_type": "code",
   "execution_count": 25,
   "id": "7da6f0c0-e48b-4d63-a5f8-37ccab3576e5",
   "metadata": {},
   "outputs": [
    {
     "data": {
      "text/html": [
       "<div>\n",
       "<style scoped>\n",
       "    .dataframe tbody tr th:only-of-type {\n",
       "        vertical-align: middle;\n",
       "    }\n",
       "\n",
       "    .dataframe tbody tr th {\n",
       "        vertical-align: top;\n",
       "    }\n",
       "\n",
       "    .dataframe thead th {\n",
       "        text-align: right;\n",
       "    }\n",
       "</style>\n",
       "<table border=\"1\" class=\"dataframe\">\n",
       "  <thead>\n",
       "    <tr style=\"text-align: right;\">\n",
       "      <th></th>\n",
       "      <th>symbol</th>\n",
       "      <th>aiv</th>\n",
       "      <th>ap</th>\n",
       "      <th>av</th>\n",
       "      <th>biv</th>\n",
       "      <th>bp</th>\n",
       "      <th>bv</th>\n",
       "      <th>delta</th>\n",
       "      <th>exch</th>\n",
       "      <th>exchtm</th>\n",
       "      <th>gamma</th>\n",
       "      <th>lpx</th>\n",
       "      <th>mark</th>\n",
       "      <th>markiv</th>\n",
       "      <th>oint</th>\n",
       "      <th>rho</th>\n",
       "      <th>theta</th>\n",
       "      <th>ty</th>\n",
       "      <th>underly</th>\n",
       "      <th>s</th>\n",
       "      <th>vega</th>\n",
       "      <th>tau</th>\n",
       "      <th>logKFtau</th>\n",
       "    </tr>\n",
       "    <tr>\n",
       "      <th>strike</th>\n",
       "      <th></th>\n",
       "      <th></th>\n",
       "      <th></th>\n",
       "      <th></th>\n",
       "      <th></th>\n",
       "      <th></th>\n",
       "      <th></th>\n",
       "      <th></th>\n",
       "      <th></th>\n",
       "      <th></th>\n",
       "      <th></th>\n",
       "      <th></th>\n",
       "      <th></th>\n",
       "      <th></th>\n",
       "      <th></th>\n",
       "      <th></th>\n",
       "      <th></th>\n",
       "      <th></th>\n",
       "      <th></th>\n",
       "      <th></th>\n",
       "      <th></th>\n",
       "      <th></th>\n",
       "      <th></th>\n",
       "    </tr>\n",
       "  </thead>\n",
       "  <tbody>\n",
       "    <tr>\n",
       "      <th>10000</th>\n",
       "      <td>BTC-25JUN21-10000-P</td>\n",
       "      <td>2.0905</td>\n",
       "      <td>0.0015</td>\n",
       "      <td>0.6</td>\n",
       "      <td>1.821</td>\n",
       "      <td>0.0005</td>\n",
       "      <td>8.1</td>\n",
       "      <td>-0.00391</td>\n",
       "      <td>deribit</td>\n",
       "      <td>2021-05-19 00:29:58.726</td>\n",
       "      <td>0</td>\n",
       "      <td>0.001</td>\n",
       "      <td>0.00092099</td>\n",
       "      <td>1.9593</td>\n",
       "      <td>764.9</td>\n",
       "      <td>-0.21473</td>\n",
       "      <td>-4.23703</td>\n",
       "      <td>-1</td>\n",
       "      <td>BTC-25JUN21</td>\n",
       "      <td>43493.61</td>\n",
       "      <td>1.61378</td>\n",
       "      <td>0.1022260678</td>\n",
       "      <td>-4.596464733</td>\n",
       "    </tr>\n",
       "    <tr>\n",
       "      <th>12000</th>\n",
       "      <td>BTC-25JUN21-12000-P</td>\n",
       "      <td>1.9831</td>\n",
       "      <td>0.0025</td>\n",
       "      <td>21.5</td>\n",
       "      <td>1.7417</td>\n",
       "      <td>0.001</td>\n",
       "      <td>117.6</td>\n",
       "      <td>-0.0065</td>\n",
       "      <td>deribit</td>\n",
       "      <td>2021-05-19 00:29:58.728</td>\n",
       "      <td>0</td>\n",
       "      <td>0.0015</td>\n",
       "      <td>0.0015032</td>\n",
       "      <td>1.8396</td>\n",
       "      <td>665.6</td>\n",
       "      <td>-0.35599</td>\n",
       "      <td>-6.26032</td>\n",
       "      <td>-1</td>\n",
       "      <td>BTC-25JUN21</td>\n",
       "      <td>43497.09</td>\n",
       "      <td>2.53957</td>\n",
       "      <td>0.1022260677</td>\n",
       "      <td>-4.026634556</td>\n",
       "    </tr>\n",
       "  </tbody>\n",
       "</table>\n",
       "</div>"
      ],
      "text/plain": [
       "                     symbol    aiv     ap   av    biv     bp    bv    delta     exch                  exchtm  gamma    lpx       mark  markiv  oint      rho    theta  ty      underly        s    vega          tau     logKFtau\n",
       "strike                                                                                                                                                                                                                           \n",
       "10000   BTC-25JUN21-10000-P 2.0905 0.0015 0.6  1.821  0.0005 8.1   -0.00391  deribit 2021-05-19 00:29:58.726 0      0.001  0.00092099 1.9593  764.9 -0.21473 -4.23703 -1   BTC-25JUN21 43493.61 1.61378 0.1022260678 -4.596464733\n",
       "12000   BTC-25JUN21-12000-P 1.9831 0.0025 21.5 1.7417 0.001  117.6 -0.0065   deribit 2021-05-19 00:29:58.728 0      0.0015 0.0015032  1.8396  665.6 -0.35599 -6.26032 -1   BTC-25JUN21 43497.09 2.53957 0.1022260677 -4.026634556"
      ]
     },
     "execution_count": 25,
     "metadata": {},
     "output_type": "execute_result"
    }
   ],
   "source": [
    "t = ts[0]\n",
    "dft = df.loc[[t]].droplevel('tm')\n",
    "Ts = dft.index.get_level_values('expire').drop_duplicates()\n",
    "T = Ts[0]\n",
    "dftT = dft.loc[[T]].droplevel('expire').drop_duplicates()\n",
    "tau = (T - t) / pd.to_timedelta(1, unit='D') / 365\n",
    "dftT['logKFtau'] = np.log(dftT.index / dftT['s']) / np.sqrt(tau)\n",
    "S = dftT['s'].iloc[0]\n",
    "dftTOTM = dftT[((dftT.ty == 1) & (S < dftT.index)) | ((dftT.ty == -1) & (S > dftT.index))]\n",
    "dftTOTM.head(2)"
   ]
  },
  {
   "cell_type": "code",
   "execution_count": 31,
   "id": "e97887d2-1b64-473b-97df-d55d95d17a32",
   "metadata": {},
   "outputs": [],
   "source": [
    "usevega = True\n",
    "model=\"errfunc_parabolic_linear6\"\n",
    "prevparams = [0.2, 0.2, 0.2, -0.2] if model[-1] == '4' else [0.2] * int(model[-1])\n",
    "kwargs={}\n",
    "kwargs['kleft'] = 1.5\n",
    "kwargs['kright'] = 2.3\n",
    "\n",
    "minres = minimize(\n",
    "    partial(eval(model), usevega=usevega, df=dftTOTM, PRICECALL=False, stats=False, plot=False,\n",
    "            kleft=kwargs['kleft'], kright=kwargs['kright']), prevparams, method='L-BFGS-B',\n",
    "    options={'eps': 1e-09, 'maxfun': 100, 'maxiter': 100})"
   ]
  },
  {
   "cell_type": "code",
   "execution_count": 50,
   "id": "ab020b0c-3215-4835-a80f-b9bb097f7ff1",
   "metadata": {},
   "outputs": [],
   "source": [
    "plot=3\n",
    "dt = pd.to_datetime(t)\n",
    "expiry_date = T\n",
    "\n",
    "fig_name = '{}_{}'.format(dt.strftime(\"%Y%m%d%H%M%S\"), expiry_date)\n",
    "\n",
    "plotres = partial(eval(model), usevega=usevega, df=dftTOTM, PRICECALL=True, plot=plot, info=f't={t} T={T}',\n",
    "                  kleft=kwargs['kleft'], kright=kwargs['kright'], fig_name=fig_name)(minres.x)"
   ]
  },
  {
   "cell_type": "code",
   "execution_count": 51,
   "id": "01a762ce-1dd7-4f83-b9c6-256063cf1d62",
   "metadata": {},
   "outputs": [
    {
     "data": {
      "text/plain": [
       "{'volATM': 1.0549179745,\n",
       " 'perc': 0.2857142857142857,\n",
       " 'rr': -0.05386019265499509,\n",
       " 'conv': 0.04512697977408653,\n",
       " 'figs': []}"
      ]
     },
     "execution_count": 51,
     "metadata": {},
     "output_type": "execute_result"
    }
   ],
   "source": [
    "plotres"
   ]
  },
  {
   "cell_type": "code",
   "execution_count": 43,
   "id": "e1575d9a-54af-4cab-afc9-8ec033d6d9a3",
   "metadata": {},
   "outputs": [],
   "source": [
    "resd = {'t': t, 'T': T, 'volATM': plotres['volATM'], 's': S, 'rr': plotres['rr'], 'conv': plotres['conv'],\n",
    "        'perc': plotres['perc']}\n",
    "for i in range(len(minres.x)):\n",
    "    resd['p' + str(i)] = minres.x[i]\n",
    "res.append(resd)"
   ]
  },
  {
   "cell_type": "code",
   "execution_count": 52,
   "id": "cb2fa3da-fd21-4863-a54e-3b3e32301d6d",
   "metadata": {},
   "outputs": [],
   "source": [
    "### test error function"
   ]
  },
  {
   "cell_type": "code",
   "execution_count": 57,
   "id": "309b3986-e0b2-46fa-b914-7fde28d1c91c",
   "metadata": {},
   "outputs": [],
   "source": [
    "x = prevparams\n",
    "usevega=False\n",
    "useweights=False\n",
    "df=dftTOTM\n",
    "PRICECALL=False\n",
    "plot=False\n",
    "info=\"\"\n",
    "\n",
    "res = {}\n",
    "figs = []\n",
    "skewleft = x[0]\n",
    "skewright = x[1]\n",
    "leftconv = x[2]\n",
    "rightconv = x[3]\n",
    "rightwing = x[4]\n",
    "leftwing = x[5]\n",
    "\n",
    "kright = kwargs['kright']\n",
    "kleft = kwargs['kleft']"
   ]
  },
  {
   "cell_type": "code",
   "execution_count": 58,
   "id": "654a648f-d43e-4c68-816b-df4faba26766",
   "metadata": {},
   "outputs": [],
   "source": [
    "df['m'] = 0.5 * (df['aiv'] + df['biv'])\n",
    "S = df['s'].iloc[0]"
   ]
  },
  {
   "cell_type": "code",
   "execution_count": 62,
   "id": "766bed7c-41b1-4920-a937-7fd67722d1d2",
   "metadata": {},
   "outputs": [],
   "source": [
    "volATM = interp1d(df.index, df['m'])([S])[0]"
   ]
  },
  {
   "cell_type": "code",
   "execution_count": null,
   "id": "fd145479-37ec-47f7-b4d8-f798f6c7fdbc",
   "metadata": {},
   "outputs": [],
   "source": [
    "df['logKFtau']"
   ]
  },
  {
   "cell_type": "code",
   "execution_count": null,
   "id": "2f52a767-ceca-4ca4-982d-6a52f7e6767c",
   "metadata": {},
   "outputs": [],
   "source": [
    "df.loc[(df.logKFtau > 0) & (df.logKFtau < kright), 'myvol'] = volATM + (\n",
    "        skewright * df['logKFtau'] + rightconv * df['logKFtau'] ** 2)"
   ]
  },
  {
   "cell_type": "code",
   "execution_count": null,
   "id": "325ec20d-9edb-497d-90f4-396918fb503d",
   "metadata": {},
   "outputs": [],
   "source": [
    "df.loc[(df.logKFtau < 0) & (df.logKFtau > kleft), 'myvol'] = volATM + (\n",
    "        skewleft * df['logKFtau'] + leftconv * df['logKFtau'] ** 2)"
   ]
  },
  {
   "cell_type": "markdown",
   "id": "4dfab92a-0d49-4df5-ac09-f81df42300f1",
   "metadata": {},
   "source": [
    "----------test end------------"
   ]
  },
  {
   "cell_type": "code",
   "execution_count": 13,
   "id": "e5a1f71d-f8bd-4dd0-b9cf-e72c75f2b595",
   "metadata": {
    "scrolled": true,
    "tags": []
   },
   "outputs": [
    {
     "name": "stdout",
     "output_type": "stream",
     "text": [
      "--------------sampling time= 2021-05-19 00:00:00 expire= 2021-06-25 08:00:00\n",
      "prevparams=[0.2, 0.2, 0.2, 0.2, 0.2, 0.2] model=errfunc_parabolic_linear6\n",
      "optimized params:[-0.16502719 -0.18850574  0.03216582  0.10089888  0.18363569 -0.20551079]\n",
      "--------------sampling time= 2021-05-19 00:30:00 expire= 2021-06-25 08:00:00\n",
      "prevparams=[0.2, 0.2, 0.2, 0.2, 0.2, 0.2] model=errfunc_parabolic_linear6\n",
      "optimized params:[-0.17572048 -0.20228266  0.02357751  0.09491295  0.17020698 -0.18194015]\n",
      "--------------sampling time= 2021-05-19 01:00:00 expire= 2021-06-25 08:00:00\n",
      "prevparams=[0.2, 0.2, 0.2, 0.2, 0.2, 0.2] model=errfunc_parabolic_linear6\n",
      "optimized params:[-0.19762811 -0.20685828  0.0062706   0.09434525  0.15879918 -0.18145017]\n",
      "--------------sampling time= 2021-05-19 01:30:00 expire= 2021-06-25 08:00:00\n",
      "prevparams=[0.2, 0.2, 0.2, 0.2, 0.2, 0.2] model=errfunc_parabolic_linear6\n",
      "optimized params:[-0.1752297  -0.20997553  0.01916198  0.09140906  0.15972021 -0.15401731]\n",
      "--------------sampling time= 2021-05-19 02:00:00 expire= 2021-06-25 08:00:00\n",
      "prevparams=[0.2, 0.2, 0.2, 0.2, 0.2, 0.2] model=errfunc_parabolic_linear6\n",
      "optimized params:[-0.20321822 -0.20756271 -0.01457561  0.08639029  0.19257257 -0.15833595]\n",
      "--------------sampling time= 2021-05-19 02:30:00 expire= 2021-06-25 08:00:00\n",
      "prevparams=[0.2, 0.2, 0.2, 0.2, 0.2, 0.2] model=errfunc_parabolic_linear6\n",
      "optimized params:[-0.17510657 -0.19418177 -0.00801781  0.07652317  0.18769898 -0.15574747]\n",
      "--------------sampling time= 2021-05-19 03:00:00 expire= 2021-06-25 08:00:00\n",
      "prevparams=[0.2, 0.2, 0.2, 0.2, 0.2, 0.2] model=errfunc_parabolic_linear6\n",
      "optimized params:[-1.66151149e-01 -1.93893042e-01  8.22927130e-05  8.07882307e-02\n",
      "  1.87054459e-01 -1.46787594e-01]\n",
      "--------------sampling time= 2021-05-19 03:30:00 expire= 2021-06-25 08:00:00\n",
      "prevparams=[0.2, 0.2, 0.2, 0.2, 0.2, 0.2] model=errfunc_parabolic_linear6\n",
      "optimized params:[-0.15270266 -0.19378314 -0.00156752  0.07892624  0.18067938 -0.17128671]\n",
      "--------------sampling time= 2021-05-19 04:00:00 expire= 2021-06-25 08:00:00\n",
      "prevparams=[0.2, 0.2, 0.2, 0.2, 0.2, 0.2] model=errfunc_parabolic_linear6\n",
      "optimized params:[-0.18660126 -0.17466034 -0.02193268  0.06605596  0.1661993  -0.17926195]\n",
      "--------------sampling time= 2021-05-19 04:30:00 expire= 2021-06-25 08:00:00\n",
      "prevparams=[0.2, 0.2, 0.2, 0.2, 0.2, 0.2] model=errfunc_parabolic_linear6\n",
      "optimized params:[-0.20907589 -0.18994048 -0.04741854  0.0655463   0.18911116 -0.15868847]\n",
      "--------------sampling time= 2021-05-19 05:00:00 expire= 2021-06-25 08:00:00\n",
      "prevparams=[0.2, 0.2, 0.2, 0.2, 0.2, 0.2] model=errfunc_parabolic_linear6\n",
      "optimized params:[-0.16872432 -0.20370714 -0.01085807  0.08189026  0.22456413 -0.16300066]\n",
      "--------------sampling time= 2021-05-19 05:30:00 expire= 2021-06-25 08:00:00\n",
      "prevparams=[0.2, 0.2, 0.2, 0.2, 0.2, 0.2] model=errfunc_parabolic_linear6\n",
      "optimized params:[-0.17887011 -0.20080012 -0.01122969  0.08429133  0.21020909 -0.1910712 ]\n",
      "--------------sampling time= 2021-05-19 06:00:00 expire= 2021-06-25 08:00:00\n",
      "prevparams=[0.2, 0.2, 0.2, 0.2, 0.2, 0.2] model=errfunc_parabolic_linear6\n",
      "optimized params:[-0.14503318 -0.20524488  0.01180934  0.0891186   0.20813124 -0.17541207]\n",
      "--------------sampling time= 2021-05-19 06:30:00 expire= 2021-06-25 08:00:00\n",
      "prevparams=[0.2, 0.2, 0.2, 0.2, 0.2, 0.2] model=errfunc_parabolic_linear6\n",
      "optimized params:[-0.1577035  -0.20193112  0.00663047  0.09100019  0.20822737 -0.1789643 ]\n",
      "--------------sampling time= 2021-05-19 07:00:00 expire= 2021-06-25 08:00:00\n",
      "prevparams=[0.2, 0.2, 0.2, 0.2, 0.2, 0.2] model=errfunc_parabolic_linear6\n",
      "optimized params:[-0.16335088 -0.18975384  0.00088375  0.08426974  0.22527569 -0.17348076]\n",
      "--------------sampling time= 2021-05-19 07:30:00 expire= 2021-06-25 08:00:00\n",
      "prevparams=[0.2, 0.2, 0.2, 0.2, 0.2, 0.2] model=errfunc_parabolic_linear6\n",
      "optimized params:[-0.15671614 -0.20269902  0.00687533  0.09436429  0.21425714 -0.14369194]\n",
      "--------------sampling time= 2021-05-19 08:00:00 expire= 2021-06-25 08:00:00\n",
      "prevparams=[0.2, 0.2, 0.2, 0.2, 0.2, 0.2] model=errfunc_parabolic_linear6\n",
      "optimized params:[-0.16038819 -0.20113492  0.00382482  0.09389397  0.2025519  -0.14963633]\n",
      "--------------sampling time= 2021-05-19 08:30:00 expire= 2021-06-25 08:00:00\n",
      "prevparams=[0.2, 0.2, 0.2, 0.2, 0.2, 0.2] model=errfunc_parabolic_linear6\n",
      "optimized params:[-0.14458645 -0.16886433  0.01378151  0.079743    0.22362647 -0.15644281]\n",
      "--------------sampling time= 2021-05-19 09:00:00 expire= 2021-06-25 08:00:00\n",
      "prevparams=[0.2, 0.2, 0.2, 0.2, 0.2, 0.2] model=errfunc_parabolic_linear6\n",
      "optimized params:[-0.14554997 -0.20648816  0.00931376  0.09955549  0.19038979 -0.15178888]\n",
      "--------------sampling time= 2021-05-19 09:30:00 expire= 2021-06-25 08:00:00\n",
      "prevparams=[0.2, 0.2, 0.2, 0.2, 0.2, 0.2] model=errfunc_parabolic_linear6\n",
      "optimized params:[-0.16319354 -0.19044801 -0.00252746  0.09048276  0.21844157 -0.16297047]\n",
      "--------------sampling time= 2021-05-19 10:00:00 expire= 2021-06-25 08:00:00\n",
      "prevparams=[0.2, 0.2, 0.2, 0.2, 0.2, 0.2] model=errfunc_parabolic_linear6\n",
      "optimized params:[-0.15995704 -0.20049405  0.00209221  0.09697801  0.19997247 -0.16231558]\n",
      "--------------sampling time= 2021-05-19 10:30:00 expire= 2021-06-25 08:00:00\n",
      "prevparams=[0.2, 0.2, 0.2, 0.2, 0.2, 0.2] model=errfunc_parabolic_linear6\n",
      "optimized params:[-0.17535072 -0.20074416 -0.00788523  0.09492446  0.21360905 -0.18281928]\n",
      "--------------sampling time= 2021-05-19 11:00:00 expire= 2021-06-25 08:00:00\n",
      "prevparams=[0.2, 0.2, 0.2, 0.2, 0.2, 0.2] model=errfunc_parabolic_linear6\n",
      "optimized params:[-0.17265958 -0.19657809 -0.00455507  0.09580097  0.18036859 -0.15673473]\n",
      "--------------sampling time= 2021-05-19 11:30:00 expire= 2021-06-25 08:00:00\n",
      "prevparams=[0.2, 0.2, 0.2, 0.2, 0.2, 0.2] model=errfunc_parabolic_linear6\n",
      "optimized params:[-0.12366387 -0.16898225  0.02569084  0.08140383  0.19358746 -0.16652383]\n",
      "--------------sampling time= 2021-05-19 12:00:00 expire= 2021-06-25 08:00:00\n",
      "prevparams=[0.2, 0.2, 0.2, 0.2, 0.2, 0.2] model=errfunc_parabolic_linear6\n",
      "optimized params:[-0.13538464 -0.17329196  0.02138559  0.08629413  0.17605146 -0.1524232 ]\n",
      "--------------sampling time= 2021-05-19 12:30:00 expire= 2021-06-25 08:00:00\n",
      "prevparams=[0.2, 0.2, 0.2, 0.2, 0.2, 0.2] model=errfunc_parabolic_linear6\n",
      "optimized params:[ 2.80085272 -1.27981078  1.45279723  0.39084891  0.1805824  -0.38298322]\n",
      "--------------sampling time= 2021-05-19 13:00:00 expire= 2021-06-25 08:00:00\n",
      "prevparams=[0.2, 0.2, 0.2, 0.2, 0.2, 0.2] model=errfunc_parabolic_linear6\n",
      "optimized params:[ 0.04665242 -0.02299064  0.06135384 -0.01114744  0.55689049 -0.50565404]\n",
      "--------------sampling time= 2021-05-19 13:30:00 expire= 2021-06-25 08:00:00\n",
      "prevparams=[0.2, 0.2, 0.2, 0.2, 0.2, 0.2] model=errfunc_parabolic_linear6\n",
      "optimized params:[-0.34019458 -0.11440364 -0.12528736  0.03235604  0.39550363 -0.09478628]\n",
      "--------------sampling time= 2021-05-19 14:00:00 expire= 2021-06-25 08:00:00\n",
      "prevparams=[0.2, 0.2, 0.2, 0.2, 0.2, 0.2] model=errfunc_parabolic_linear6\n",
      "optimized params:[-0.22180484 -0.1826939  -0.043884    0.071928    0.21398589 -0.12273824]\n",
      "--------------sampling time= 2021-05-19 14:30:00 expire= 2021-06-25 08:00:00\n",
      "prevparams=[0.2, 0.2, 0.2, 0.2, 0.2, 0.2] model=errfunc_parabolic_linear6\n",
      "optimized params:[-0.1973616  -0.27124239 -0.05446821  0.11243183  0.17790103 -0.2087579 ]\n",
      "--------------sampling time= 2021-05-19 15:00:00 expire= 2021-06-25 08:00:00\n",
      "prevparams=[0.2, 0.2, 0.2, 0.2, 0.2, 0.2] model=errfunc_parabolic_linear6\n",
      "optimized params:[-0.18388548 -0.20787717 -0.01142545  0.08590475  0.25552298 -0.1891166 ]\n",
      "--------------sampling time= 2021-05-19 15:30:00 expire= 2021-06-25 08:00:00\n",
      "prevparams=[0.2, 0.2, 0.2, 0.2, 0.2, 0.2] model=errfunc_parabolic_linear6\n",
      "optimized params:[-0.10754674 -0.16389858  0.03296369  0.07524583  0.25880377 -0.20617793]\n",
      "--------------sampling time= 2021-05-19 16:00:00 expire= 2021-06-25 08:00:00\n",
      "prevparams=[0.2, 0.2, 0.2, 0.2, 0.2, 0.2] model=errfunc_parabolic_linear6\n",
      "optimized params:[-0.07518365 -0.18034873  0.05150723  0.0795533   0.25667683 -0.20012562]\n",
      "--------------sampling time= 2021-05-19 16:30:00 expire= 2021-06-25 08:00:00\n",
      "prevparams=[0.2, 0.2, 0.2, 0.2, 0.2, 0.2] model=errfunc_parabolic_linear6\n",
      "optimized params:[-0.08849907 -0.15439228  0.04402398  0.06959759  0.28018219 -0.20671428]\n",
      "--------------sampling time= 2021-05-19 17:00:00 expire= 2021-06-25 08:00:00\n",
      "prevparams=[0.2, 0.2, 0.2, 0.2, 0.2, 0.2] model=errfunc_parabolic_linear6\n",
      "optimized params:[-0.1234081  -0.15720198 -0.00175308  0.07245679  0.30670852 -0.23808762]\n",
      "--------------sampling time= 2021-05-19 17:30:00 expire= 2021-06-25 08:00:00\n",
      "prevparams=[0.2, 0.2, 0.2, 0.2, 0.2, 0.2] model=errfunc_parabolic_linear6\n",
      "optimized params:[-0.1099376  -0.16712079  0.02890416  0.0819972   0.24310185 -0.22786987]\n",
      "--------------sampling time= 2021-05-19 18:00:00 expire= 2021-06-25 08:00:00\n",
      "prevparams=[0.2, 0.2, 0.2, 0.2, 0.2, 0.2] model=errfunc_parabolic_linear6\n",
      "optimized params:[-0.09020946 -0.14188173  0.06410489  0.07046506  0.21251565 -0.21712107]\n",
      "--------------sampling time= 2021-05-19 18:30:00 expire= 2021-06-25 08:00:00\n",
      "prevparams=[0.2, 0.2, 0.2, 0.2, 0.2, 0.2] model=errfunc_parabolic_linear6\n",
      "optimized params:[-0.10266485 -0.15066683  0.05953674  0.07558296  0.20828789 -0.21157481]\n",
      "--------------sampling time= 2021-05-19 19:00:00 expire= 2021-06-25 08:00:00\n",
      "prevparams=[0.2, 0.2, 0.2, 0.2, 0.2, 0.2] model=errfunc_parabolic_linear6\n",
      "optimized params:[-0.10263106 -0.15392035  0.05374397  0.07499234  0.20645416 -0.22399348]\n",
      "--------------sampling time= 2021-05-19 19:30:00 expire= 2021-06-25 08:00:00\n",
      "prevparams=[0.2, 0.2, 0.2, 0.2, 0.2, 0.2] model=errfunc_parabolic_linear6\n",
      "optimized params:[-0.1011986  -0.17625528  0.06418726  0.09116221  0.17793158 -0.2197635 ]\n",
      "--------------sampling time= 2021-05-19 20:00:00 expire= 2021-06-25 08:00:00\n",
      "prevparams=[0.2, 0.2, 0.2, 0.2, 0.2, 0.2] model=errfunc_parabolic_linear6\n",
      "optimized params:[-0.1347017  -0.1683121   0.03404757  0.08804461  0.18942227 -0.22253503]\n",
      "--------------sampling time= 2021-05-19 20:30:00 expire= 2021-06-25 08:00:00\n",
      "prevparams=[0.2, 0.2, 0.2, 0.2, 0.2, 0.2] model=errfunc_parabolic_linear6\n",
      "optimized params:[-0.1314659  -0.16662292  0.03787021  0.07887078  0.23184675 -0.22004971]\n",
      "--------------sampling time= 2021-05-19 21:00:00 expire= 2021-06-25 08:00:00\n",
      "prevparams=[0.2, 0.2, 0.2, 0.2, 0.2, 0.2] model=errfunc_parabolic_linear6\n",
      "optimized params:[-0.12583231 -0.14647766  0.03681804  0.0743366   0.24419915 -0.22150967]\n",
      "--------------sampling time= 2021-05-19 21:30:00 expire= 2021-06-25 08:00:00\n",
      "prevparams=[0.2, 0.2, 0.2, 0.2, 0.2, 0.2] model=errfunc_parabolic_linear6\n",
      "optimized params:[-0.1043817  -0.16012611  0.04102881  0.07625379  0.22231789 -0.24026955]\n",
      "--------------sampling time= 2021-05-19 22:00:00 expire= 2021-06-25 08:00:00\n",
      "prevparams=[0.2, 0.2, 0.2, 0.2, 0.2, 0.2] model=errfunc_parabolic_linear6\n",
      "optimized params:[-0.10689341 -0.15351747  0.04587594  0.07511747  0.21945663 -0.22359218]\n",
      "--------------sampling time= 2021-05-19 22:30:00 expire= 2021-06-25 08:00:00\n",
      "prevparams=[0.2, 0.2, 0.2, 0.2, 0.2, 0.2] model=errfunc_parabolic_linear6\n",
      "optimized params:[-0.0921514  -0.19836077  0.04721933  0.09429697  0.21613137 -0.2324901 ]\n",
      "--------------sampling time= 2021-05-19 23:00:00 expire= 2021-06-25 08:00:00\n",
      "prevparams=[0.2, 0.2, 0.2, 0.2, 0.2, 0.2] model=errfunc_parabolic_linear6\n",
      "optimized params:[-0.1115202  -0.18213889  0.04171928  0.08872509  0.21812308 -0.22457536]\n",
      "--------------sampling time= 2021-05-19 23:30:00 expire= 2021-06-25 08:00:00\n",
      "prevparams=[0.2, 0.2, 0.2, 0.2, 0.2, 0.2] model=errfunc_parabolic_linear6\n",
      "optimized params:[-0.09882871 -0.15010546  0.04439352  0.07632485  0.20859977 -0.22621474]\n"
     ]
    }
   ],
   "source": [
    "reload(optUtil)\n",
    "df = df_519_1m.copy()\n",
    "df=df[df.symbol.str.contains('BTC')]\n",
    "df=df.set_index(['tm','expire','strike']).sort_index()\n",
    "_ = optUtil.volfit(df,plot=3,model=\"errfunc_parabolic_linear6\",kleft=-1.5,kright=2.3, )"
   ]
  },
  {
   "cell_type": "code",
   "execution_count": null,
   "id": "f94668e6-06ca-42cf-b10e-2ee9437b786d",
   "metadata": {
    "tags": []
   },
   "outputs": [],
   "source": [
    "df = df_518_1m.copy()\n",
    "df=df[df.symbol.str.contains('BTC')]\n",
    "df=df.set_index(['tm','expire','strike']).sort_index()\n",
    "optUtil.volfit(df,plot=3,model=\"errfunc_parabolic_linear6\",kleft=-1.5,kright=2.3)"
   ]
  },
  {
   "cell_type": "code",
   "execution_count": null,
   "id": "37b3e0b4-8c6d-4780-8c80-d2e7a223f862",
   "metadata": {
    "tags": []
   },
   "outputs": [],
   "source": [
    "vfres=volfit(df,plot=0,model='errfunc_parabolic_linear6',kleft=-2,kright=1.5)"
   ]
  },
  {
   "cell_type": "code",
   "execution_count": null,
   "id": "f2bcda6a-d248-4b69-9045-7f8e2bb52b33",
   "metadata": {},
   "outputs": [],
   "source": [
    "#5Min\n",
    "dfv=DF(vfres)\n",
    "\n",
    "dfv['r']=dfv['s'].pct_change()#*dfv['rr'].shift(1)\n",
    "dfv['r*rrprev']=dfv['r']*dfv['rr'].shift(1)\n",
    "dfv['r*p0prev']=dfv['r']*dfv['p0'].shift(1)\n",
    "dfv['r*convprev']=dfv['r']*dfv['conv'].shift(1)\n",
    "\n",
    "dfv['dv']=dfv['volATM'].diff(1)\n",
    "dfv.head()\n",
    "sm.OLS(dfv['dv'],dfv['r'],missing='drop').fit().params\n",
    "\n",
    "sns.regplot(x='r*p0prev',y='dv',data=dfv).set_title(f\"r*p0prev beta={sm.OLS(dfv['dv'],dfv['r*p0prev'],missing='drop').fit().params[0]} corr={dfv.corr()['dv']['r*p0prev']}\")\n",
    "plt.show()\n",
    "sns.regplot(x='r*rrprev',y='dv',data=dfv).set_title(f\"r*rrprev beta={sm.OLS(dfv['dv'],dfv['r*rrprev'],missing='drop').fit().params[0]} corr={dfv.corr()['dv']['r*rrprev']}\")\n",
    "plt.show()\n",
    "sns.regplot(x='r',y='dv',data=dfv).set_title(f\"r beta={sm.OLS(dfv['dv'],dfv['r'],missing='drop').fit().params[0]} corr={dfv.corr()['dv']['r']}\")"
   ]
  },
  {
   "cell_type": "code",
   "execution_count": null,
   "id": "28817172-36e1-494c-996f-69ccb0efe7ae",
   "metadata": {},
   "outputs": [],
   "source": [
    "DF(vfres).set_index('t')[['p0','p1','p2','p3','p4','p5']].plot()"
   ]
  },
  {
   "cell_type": "markdown",
   "id": "449231c9-819c-44b2-88d0-86fa618a5e87",
   "metadata": {},
   "source": [
    "### 2021 AUG 1H "
   ]
  },
  {
   "cell_type": "code",
   "execution_count": null,
   "id": "02bfda40-49d7-445b-b265-931529e6009e",
   "metadata": {
    "tags": []
   },
   "outputs": [],
   "source": [
    "df = df_8_1m.copy()\n",
    "df=df[df.symbol.str.contains('BTC')]\n",
    "df=df.set_index(['tm','expire','strike']).sort_index()\n",
    "optUtil.volfit(df,plot=3,model=\"errfunc_parabolic_linear6\",kleft=-1.5,kright=2.3)"
   ]
  },
  {
   "cell_type": "code",
   "execution_count": null,
   "id": "e05efb92-14f7-4dd8-84f3-d4fd99f08dac",
   "metadata": {},
   "outputs": [],
   "source": [
    "vfres=volfit(df,plot=0,model='errfunc_parabolic_linear6',kleft=-2,kright=1.5)\n",
    "DF(vfres).set_index('t')[['p0','p1','p2','p3','p4','p5']].plot()"
   ]
  },
  {
   "cell_type": "markdown",
   "id": "d4fa3e40-3220-4a2e-8bc1-6931256d800f",
   "metadata": {},
   "source": [
    "### 2021 AUG 29 5min "
   ]
  },
  {
   "cell_type": "code",
   "execution_count": 11,
   "id": "e2b88455-6130-4908-8302-1e0ce23d0a63",
   "metadata": {
    "tags": []
   },
   "outputs": [
    {
     "name": "stdout",
     "output_type": "stream",
     "text": [
      "T=2021-09-24 08:00:00 t=2021-08-29 00:00:00\n",
      "prevparams=[0.2, 0.2, 0.2, 0.2, 0.2, 0.2] model=errfunc_parabolic_linear6\n",
      "optimized params:[-0.01167822 -0.01212231  0.07229385  0.05164996  0.22916306 -0.26050212]\n",
      "<class 'pandas._libs.tslibs.timestamps.Timestamp'>\n"
     ]
    },
    {
     "ename": "KeyError",
     "evalue": "'expiry_date'",
     "output_type": "error",
     "traceback": [
      "\u001b[1;31m---------------------------------------------------------------------------\u001b[0m",
      "\u001b[1;31mKeyError\u001b[0m                                  Traceback (most recent call last)",
      "\u001b[1;32m~\\AppData\\Local\\Temp/ipykernel_17696/3612335151.py\u001b[0m in \u001b[0;36m<module>\u001b[1;34m\u001b[0m\n\u001b[0;32m      2\u001b[0m \u001b[0mdf\u001b[0m\u001b[1;33m=\u001b[0m\u001b[0mdf\u001b[0m\u001b[1;33m[\u001b[0m\u001b[0mdf\u001b[0m\u001b[1;33m.\u001b[0m\u001b[0msymbol\u001b[0m\u001b[1;33m.\u001b[0m\u001b[0mstr\u001b[0m\u001b[1;33m.\u001b[0m\u001b[0mcontains\u001b[0m\u001b[1;33m(\u001b[0m\u001b[1;34m'BTC'\u001b[0m\u001b[1;33m)\u001b[0m\u001b[1;33m]\u001b[0m\u001b[1;33m\u001b[0m\u001b[1;33m\u001b[0m\u001b[0m\n\u001b[0;32m      3\u001b[0m \u001b[0mdf\u001b[0m\u001b[1;33m=\u001b[0m\u001b[0mdf\u001b[0m\u001b[1;33m.\u001b[0m\u001b[0mset_index\u001b[0m\u001b[1;33m(\u001b[0m\u001b[1;33m[\u001b[0m\u001b[1;34m'tm'\u001b[0m\u001b[1;33m,\u001b[0m\u001b[1;34m'expire'\u001b[0m\u001b[1;33m,\u001b[0m\u001b[1;34m'strike'\u001b[0m\u001b[1;33m]\u001b[0m\u001b[1;33m)\u001b[0m\u001b[1;33m.\u001b[0m\u001b[0msort_index\u001b[0m\u001b[1;33m(\u001b[0m\u001b[1;33m)\u001b[0m\u001b[1;33m\u001b[0m\u001b[1;33m\u001b[0m\u001b[0m\n\u001b[1;32m----> 4\u001b[1;33m \u001b[0moptUtil\u001b[0m\u001b[1;33m.\u001b[0m\u001b[0mvolfit\u001b[0m\u001b[1;33m(\u001b[0m\u001b[0mdf\u001b[0m\u001b[1;33m,\u001b[0m\u001b[0mplot\u001b[0m\u001b[1;33m=\u001b[0m\u001b[1;36m3\u001b[0m\u001b[1;33m,\u001b[0m\u001b[0mmodel\u001b[0m\u001b[1;33m=\u001b[0m\u001b[1;34m\"errfunc_parabolic_linear6\"\u001b[0m\u001b[1;33m,\u001b[0m\u001b[0mkleft\u001b[0m\u001b[1;33m=\u001b[0m\u001b[1;33m-\u001b[0m\u001b[1;36m1.5\u001b[0m\u001b[1;33m,\u001b[0m\u001b[0mkright\u001b[0m\u001b[1;33m=\u001b[0m\u001b[1;36m2.3\u001b[0m\u001b[1;33m)\u001b[0m\u001b[1;33m\u001b[0m\u001b[1;33m\u001b[0m\u001b[0m\n\u001b[0m",
      "\u001b[1;32mc:\\core\\github\\cdcqr\\cdcqr\\analytics\\derivatives\\option_utils.py\u001b[0m in \u001b[0;36mvolfit\u001b[1;34m(df, plot, model, **kwargs)\u001b[0m\n\u001b[0;32m    157\u001b[0m             \u001b[0mprint\u001b[0m\u001b[1;33m(\u001b[0m\u001b[0mtype\u001b[0m\u001b[1;33m(\u001b[0m\u001b[0mt\u001b[0m\u001b[1;33m)\u001b[0m\u001b[1;33m)\u001b[0m\u001b[1;33m\u001b[0m\u001b[1;33m\u001b[0m\u001b[0m\n\u001b[0;32m    158\u001b[0m             \u001b[0mdt\u001b[0m \u001b[1;33m=\u001b[0m \u001b[0mpd\u001b[0m\u001b[1;33m.\u001b[0m\u001b[0mto_datetime\u001b[0m\u001b[1;33m(\u001b[0m\u001b[0mt\u001b[0m\u001b[1;33m)\u001b[0m\u001b[1;33m\u001b[0m\u001b[1;33m\u001b[0m\u001b[0m\n\u001b[1;32m--> 159\u001b[1;33m             \u001b[0mexpiry_date\u001b[0m \u001b[1;33m=\u001b[0m \u001b[0mkwargs\u001b[0m\u001b[1;33m[\u001b[0m\u001b[1;34m'expiry_date'\u001b[0m\u001b[1;33m]\u001b[0m\u001b[1;33m\u001b[0m\u001b[1;33m\u001b[0m\u001b[0m\n\u001b[0m\u001b[0;32m    160\u001b[0m             \u001b[0mfig_name\u001b[0m \u001b[1;33m=\u001b[0m \u001b[1;34m'{}_{}'\u001b[0m\u001b[1;33m.\u001b[0m\u001b[0mformat\u001b[0m\u001b[1;33m(\u001b[0m\u001b[0mdt\u001b[0m\u001b[1;33m.\u001b[0m\u001b[0mstrftime\u001b[0m\u001b[1;33m(\u001b[0m\u001b[1;34m\"%Y%m%d%H%M%S\"\u001b[0m\u001b[1;33m)\u001b[0m\u001b[1;33m,\u001b[0m \u001b[0mexpiry_date\u001b[0m\u001b[1;33m)\u001b[0m\u001b[1;33m\u001b[0m\u001b[1;33m\u001b[0m\u001b[0m\n\u001b[0;32m    161\u001b[0m             plotres = partial(eval(model), usevega=usevega, df=dftTOTM, PRICECALL=True, plot=plot, info=f't={t} T={T}',\n",
      "\u001b[1;31mKeyError\u001b[0m: 'expiry_date'"
     ]
    }
   ],
   "source": [
    "df = df_829_1m.copy()\n",
    "df=df[df.symbol.str.contains('BTC')]\n",
    "df=df.set_index(['tm','expire','strike']).sort_index()\n",
    "optUtil.volfit(df,plot=3,model=\"errfunc_parabolic_linear6\",kleft=-1.5,kright=2.3)"
   ]
  },
  {
   "cell_type": "code",
   "execution_count": null,
   "id": "134bdacd-a6c7-4732-aad3-187418275171",
   "metadata": {
    "tags": []
   },
   "outputs": [],
   "source": [
    "vfres=volfit(df,plot=0,model='errfunc_parabolic_linear6',kleft=-2,kright=1.5)\n",
    "DF(vfres).set_index('t')[['p0','p1','p2','p3','p4','p5']].plot()"
   ]
  },
  {
   "cell_type": "code",
   "execution_count": 12,
   "id": "e0fbe730-f097-4545-83e6-fe8702da2354",
   "metadata": {
    "tags": []
   },
   "outputs": [
    {
     "ename": "NameError",
     "evalue": "name 'vfres' is not defined",
     "output_type": "error",
     "traceback": [
      "\u001b[1;31m---------------------------------------------------------------------------\u001b[0m",
      "\u001b[1;31mNameError\u001b[0m                                 Traceback (most recent call last)",
      "\u001b[1;32m~\\AppData\\Local\\Temp/ipykernel_17696/1684824471.py\u001b[0m in \u001b[0;36m<module>\u001b[1;34m\u001b[0m\n\u001b[1;32m----> 1\u001b[1;33m \u001b[0mvfres\u001b[0m\u001b[1;33m\u001b[0m\u001b[1;33m\u001b[0m\u001b[0m\n\u001b[0m",
      "\u001b[1;31mNameError\u001b[0m: name 'vfres' is not defined"
     ]
    }
   ],
   "source": [
    "vfres"
   ]
  },
  {
   "cell_type": "markdown",
   "id": "34deb194-c87a-492c-b5c9-39837a79d5f4",
   "metadata": {},
   "source": [
    "#### 2021 AUG 30 5min "
   ]
  },
  {
   "cell_type": "code",
   "execution_count": null,
   "id": "bddc24e1-943d-4979-8ae2-33bb671aebae",
   "metadata": {
    "tags": []
   },
   "outputs": [],
   "source": [
    "df = df_830_1m.copy()\n",
    "df=df[df.symbol.str.contains('BTC')]\n",
    "df=df.set_index(['tm','expire','strike']).sort_index()\n",
    "optUtil.volfit(df,plot=3,model=\"errfunc_parabolic_linear6\",kleft=-1.5,kright=2.3)"
   ]
  },
  {
   "cell_type": "code",
   "execution_count": null,
   "id": "b90a1210-c92f-41f0-b202-b4e11ab43fec",
   "metadata": {},
   "outputs": [],
   "source": [
    "vfres=volfit(df,plot=0,model='errfunc_parabolic_linear6',kleft=-2,kright=1.5)\n",
    "DF(vfres).set_index('t')[['p0','p1','p2','p3','p4','p5']].plot()"
   ]
  },
  {
   "cell_type": "code",
   "execution_count": null,
   "id": "22fb133f-c26c-43c9-aa3a-8c062caa2bad",
   "metadata": {},
   "outputs": [],
   "source": []
  },
  {
   "cell_type": "markdown",
   "id": "ff6438f5-3f45-45de-8937-71ee07d7548b",
   "metadata": {},
   "source": [
    "#### 2021 AUG 31 5min "
   ]
  },
  {
   "cell_type": "code",
   "execution_count": null,
   "id": "a2c879b1-5a40-471a-aebe-8b9f8dbcd5aa",
   "metadata": {
    "tags": []
   },
   "outputs": [],
   "source": [
    "df = df_831_1m.copy()\n",
    "df=df[df.symbol.str.contains('BTC')]\n",
    "df=df.set_index(['tm','expire','strike']).sort_index()\n",
    "optUtil.volfit(df,plot=3,model=\"errfunc_parabolic_linear6\",kleft=-1.5,kright=2.3)"
   ]
  },
  {
   "cell_type": "code",
   "execution_count": null,
   "id": "aa759546-0760-475f-803a-99cc12a6700b",
   "metadata": {},
   "outputs": [],
   "source": [
    "vfres=volfit(df,plot=0,model='errfunc_parabolic_linear6',kleft=-2,kright=1.5)\n",
    "DF(vfres).set_index('t')[['p0','p1','p2','p3','p4','p5']].plot()"
   ]
  },
  {
   "cell_type": "markdown",
   "id": "322ae050-bafc-4ac7-8a15-66a6e27b720d",
   "metadata": {},
   "source": [
    "#### 2021 April 1H "
   ]
  },
  {
   "cell_type": "code",
   "execution_count": null,
   "id": "926497db-59ac-4a86-8242-7c9388fd9273",
   "metadata": {},
   "outputs": [],
   "source": [
    "df = df_202104_1H_June.copy()\n",
    "df=df[df.symbol.str.contains('BTC')]\n",
    "df=df.set_index(['tm','expire','strike']).sort_index()\n",
    "vfres = optUtil.volfit(df,plot=3,model=\"errfunc_parabolic_linear6\",kleft=-1.5,kright=2.3)\n",
    "\n",
    "DF(vfres).set_index('t')[['p0','p1','p2','p3','p4','p5']].plot()"
   ]
  },
  {
   "cell_type": "markdown",
   "id": "01d792db-0997-4671-b2f3-83365d19fe04",
   "metadata": {},
   "source": [
    "#### 2021 May 1H "
   ]
  },
  {
   "cell_type": "code",
   "execution_count": null,
   "id": "5dfd5f90-3652-44ca-9975-d0a5fdd82a0a",
   "metadata": {},
   "outputs": [],
   "source": [
    "df_202105_1H_June[df_202105_1H_June.index>datetime(2021,5,21,0,0)]"
   ]
  },
  {
   "cell_type": "code",
   "execution_count": null,
   "id": "0810b735-23e6-4201-b3c4-04fadd3faf62",
   "metadata": {
    "tags": []
   },
   "outputs": [],
   "source": [
    "df = df_202105_1H_June.copy()\n",
    "df=df[df.symbol.str.contains('BTC')]\n",
    "df=df.set_index(['tm','expire','strike']).sort_index()\n",
    "vfres = optUtil.volfit(df,plot=3,model=\"errfunc_parabolic_linear6\",kleft=-1.5,kright=2.3)"
   ]
  },
  {
   "cell_type": "code",
   "execution_count": null,
   "id": "bca164b6-cf85-432c-9786-e2b2e14b0b9c",
   "metadata": {},
   "outputs": [],
   "source": [
    "df"
   ]
  },
  {
   "cell_type": "code",
   "execution_count": null,
   "id": "e7d7f923-94c2-44f0-aadd-ea9d7e26cf39",
   "metadata": {},
   "outputs": [],
   "source": [
    "DF(vfres).set_index('t')[['p0','p1','p2','p3','p4','p5']].plot()"
   ]
  },
  {
   "cell_type": "markdown",
   "id": "5b3237e4-8564-49ee-9201-3edd364cf58a",
   "metadata": {},
   "source": [
    "#### 202104 spike analysis"
   ]
  },
  {
   "cell_type": "code",
   "execution_count": null,
   "id": "22cbf9c2-cafa-4e5c-94d7-0d11cac0d652",
   "metadata": {},
   "outputs": [],
   "source": [
    "df_202104_spikes = pd.read_pickle(os.path.join(LOCAL_DATA_DIR, 'optchain5Min_202104_spike_days.pkl'))"
   ]
  },
  {
   "cell_type": "code",
   "execution_count": null,
   "id": "72dd0264-43ee-40db-bdf7-7ab590ef498d",
   "metadata": {
    "tags": []
   },
   "outputs": [],
   "source": [
    "df = df_202104_spikes.copy()\n",
    "df=df[df.symbol.str.contains('BTC')]\n",
    "df=df.set_index(['tm','expire','strike']).sort_index()\n",
    "vfres = optUtil.volfit(df,plot=3,model=\"errfunc_parabolic_linear6\",kleft=-1.5,kright=2.3)"
   ]
  },
  {
   "cell_type": "code",
   "execution_count": null,
   "id": "5feae8fb-9e57-4441-bd33-034154f4885c",
   "metadata": {
    "tags": []
   },
   "outputs": [],
   "source": [
    "df_202104_spikes_18 = df_202104_spikes[(df_202104_spikes['tm']<datetime(2021,4,19,0,0)) & (df_202104_spikes['tm']>=datetime(2021,4,18,0,0))]"
   ]
  },
  {
   "cell_type": "code",
   "execution_count": null,
   "id": "bb9daaab-9372-46ce-8e53-f95e4b34b1b5",
   "metadata": {
    "tags": []
   },
   "outputs": [],
   "source": [
    "df = df_202104_spikes_18.copy()\n",
    "df=df[df.symbol.str.contains('BTC')]\n",
    "df=df.set_index(['tm','expire','strike']).sort_index()\n",
    "vfres = optUtil.volfit(df,plot=3,model=\"errfunc_parabolic_linear6\",kleft=-1.5,kright=2.3)"
   ]
  },
  {
   "cell_type": "code",
   "execution_count": null,
   "id": "daa7552f-e61b-4ad6-aa9c-56cb0900dacb",
   "metadata": {},
   "outputs": [],
   "source": [
    "DF(vfres).set_index('t')[['volATM','p0','p1','p2','p3','p4','p5']].plot()"
   ]
  },
  {
   "cell_type": "markdown",
   "id": "b2b3dd55-80d5-497b-87b4-c49734655817",
   "metadata": {},
   "source": [
    "#### 202105 spike analysis\n"
   ]
  },
  {
   "cell_type": "code",
   "execution_count": null,
   "id": "3db12d9a-8513-4106-a3c6-85268f667b6a",
   "metadata": {},
   "outputs": [],
   "source": [
    "df_202105_spikes = pd.read_pickle(os.path.join(LOCAL_DATA_DIR, 'optchain5Min_202105_spike_days.pkl'))"
   ]
  },
  {
   "cell_type": "code",
   "execution_count": null,
   "id": "33116252-0f29-4427-8682-46ea082ea1f8",
   "metadata": {},
   "outputs": [],
   "source": [
    "df_20210519_spikes = pd.read_pickle(os.path.join(LOCAL_DATA_DIR, 'optchain1Min_20210519_20211231.pkl'))"
   ]
  },
  {
   "cell_type": "code",
   "execution_count": null,
   "id": "ab48a25b-7651-4779-aa2a-790b9afd39d2",
   "metadata": {},
   "outputs": [],
   "source": [
    "df_20210519_spikes"
   ]
  },
  {
   "cell_type": "code",
   "execution_count": null,
   "id": "a44581ee-6f3e-48af-ac16-95dd4ebf55e0",
   "metadata": {},
   "outputs": [],
   "source": []
  },
  {
   "cell_type": "code",
   "execution_count": null,
   "id": "21e8fcd6-85ff-438a-a259-1196756eaa66",
   "metadata": {},
   "outputs": [],
   "source": []
  },
  {
   "cell_type": "code",
   "execution_count": null,
   "id": "88e6ad53-9af1-4275-a35b-d69b249b6b39",
   "metadata": {},
   "outputs": [],
   "source": []
  },
  {
   "cell_type": "code",
   "execution_count": null,
   "id": "7cb7f0bb-6bcc-4fc7-82ef-67bcbbef19b2",
   "metadata": {},
   "outputs": [],
   "source": []
  },
  {
   "cell_type": "code",
   "execution_count": null,
   "id": "189c2e51-ea5c-4e89-bc26-a0a333639870",
   "metadata": {},
   "outputs": [],
   "source": []
  },
  {
   "cell_type": "code",
   "execution_count": null,
   "id": "4f5eedbc-7fe4-4a61-ae85-e63da236fbb6",
   "metadata": {
    "tags": []
   },
   "outputs": [],
   "source": [
    "df = df_202105_spikes"
   ]
  },
  {
   "cell_type": "code",
   "execution_count": null,
   "id": "9a80ea03-e3d9-4e1f-923e-b246c145d480",
   "metadata": {},
   "outputs": [],
   "source": [
    "df = df_202105_spikes[df_202105_spikes.index<=datetime(2021,5,16,2,0,0)]"
   ]
  },
  {
   "cell_type": "code",
   "execution_count": null,
   "id": "77c4c6ae-6044-401f-9844-6dd92c5f389a",
   "metadata": {
    "tags": []
   },
   "outputs": [],
   "source": [
    "df  = df_202105_spikes[df_202105_spikes['symbol'].str.contains('BTC')].head(500)"
   ]
  },
  {
   "cell_type": "code",
   "execution_count": null,
   "id": "c173b640-0f85-4faf-8af9-28ca5d0683d8",
   "metadata": {
    "tags": []
   },
   "outputs": [],
   "source": [
    "\\df"
   ]
  },
  {
   "cell_type": "code",
   "execution_count": null,
   "id": "2bdfcec8-563e-46f9-8c8a-0066b3a8e1bf",
   "metadata": {
    "tags": []
   },
   "outputs": [],
   "source": [
    "df=df[df.symbol.str.contains('BTC')]\n",
    "df=df.set_index(['tm','expire','strike']).sort_index()\n",
    "vfres = optUtil.volfit(df,plot=3,model=\"errfunc_parabolic_linear6\",kleft=-1.5,kright=2.3)"
   ]
  },
  {
   "cell_type": "code",
   "execution_count": null,
   "id": "d1c8bbee-6d65-44ff-9abd-0be9eaba173f",
   "metadata": {},
   "outputs": [],
   "source": [
    "vfres"
   ]
  },
  {
   "cell_type": "code",
   "execution_count": null,
   "id": "b3a858c1-390c-4d7d-a64a-e6057667e3f1",
   "metadata": {},
   "outputs": [],
   "source": [
    "df.iloc[:3,:]"
   ]
  },
  {
   "cell_type": "code",
   "execution_count": null,
   "id": "9e220b65-6916-40ea-a4e1-96974a0554fd",
   "metadata": {},
   "outputs": [],
   "source": [
    "DF(vfres).set_index('t')[['volATM','p0','p1','p2','p3','p4','p5']].plot()"
   ]
  },
  {
   "cell_type": "markdown",
   "id": "e725c536-af46-4558-8788-e6f4c6fe4ba5",
   "metadata": {},
   "source": [
    "### df_20210829_20210831_20220624_5min"
   ]
  },
  {
   "cell_type": "code",
   "execution_count": null,
   "id": "28b50705-397a-4f0e-b1b0-d6158f365215",
   "metadata": {
    "tags": []
   },
   "outputs": [],
   "source": [
    "df = df_20210829_20210831_20220624_5min.copy()\n",
    "df=df[df.symbol.str.contains('BTC')]\n",
    "df=df.set_index(['tm','expire','strike']).sort_index()\n",
    "vfres = optUtil.volfit(df,plot=3,model=\"errfunc_parabolic_linear6\",kleft=-1.5,kright=2.3, expiry_date='20220624')"
   ]
  },
  {
   "cell_type": "code",
   "execution_count": null,
   "id": "836c94f8-a4ef-4f80-a90c-84c3aa35ed08",
   "metadata": {},
   "outputs": [],
   "source": [
    "DF(vfres).set_index('t')[['p0','p1','p2','p3','p4','p5']].iplot()"
   ]
  },
  {
   "cell_type": "code",
   "execution_count": null,
   "id": "b99ba47a-6b70-4133-a61c-b9ab973ccd7d",
   "metadata": {},
   "outputs": [],
   "source": [
    "DF(vfres).set_index('t')[['p0','p1','p2','p3','p4','p5']].plot()"
   ]
  }
 ],
 "metadata": {
  "kernelspec": {
   "display_name": "Python 3 (ipykernel)",
   "language": "python",
   "name": "python3"
  },
  "language_info": {
   "codemirror_mode": {
    "name": "ipython",
    "version": 3
   },
   "file_extension": ".py",
   "mimetype": "text/x-python",
   "name": "python",
   "nbconvert_exporter": "python",
   "pygments_lexer": "ipython3",
   "version": "3.8.8"
  }
 },
 "nbformat": 4,
 "nbformat_minor": 5
}
