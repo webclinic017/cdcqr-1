{
 "cells": [
  {
   "cell_type": "code",
   "execution_count": 1,
   "id": "c4168e01-d310-4444-b1e6-b0dc680fceaf",
   "metadata": {},
   "outputs": [
    {
     "name": "stdout",
     "output_type": "stream",
     "text": [
      "logging to C:\\core\\logs\\ct.log\n"
     ]
    },
    {
     "data": {
      "text/html": [
       "        <script type=\"text/javascript\">\n",
       "        window.PlotlyConfig = {MathJaxConfig: 'local'};\n",
       "        if (window.MathJax) {MathJax.Hub.Config({SVG: {font: \"STIX-Web\"}});}\n",
       "        if (typeof require !== 'undefined') {\n",
       "        require.undef(\"plotly\");\n",
       "        requirejs.config({\n",
       "            paths: {\n",
       "                'plotly': ['https://cdn.plot.ly/plotly-2.4.2.min']\n",
       "            }\n",
       "        });\n",
       "        require(['plotly'], function(Plotly) {\n",
       "            window._Plotly = Plotly;\n",
       "        });\n",
       "        }\n",
       "        </script>\n",
       "        "
      ]
     },
     "metadata": {},
     "output_type": "display_data"
    }
   ],
   "source": [
    "from cdcqr.analytics.derivatives.eda.option_quote_plot import deribit_option_quote_plot, load_and_process_option_quote_and_perp_data, load_optchain_data\n",
    "import datetime"
   ]
  },
  {
   "cell_type": "code",
   "execution_count": 2,
   "id": "702533f8-7b0e-4458-9641-85b1acde6549",
   "metadata": {},
   "outputs": [
    {
     "data": {
      "text/plain": [
       "\u001b[1;31mSignature:\u001b[0m \u001b[0mload_and_process_option_quote_and_perp_data\u001b[0m\u001b[1;33m(\u001b[0m\u001b[0mdate1\u001b[0m\u001b[1;33m,\u001b[0m \u001b[0mcoin\u001b[0m\u001b[1;33m,\u001b[0m \u001b[0mlocal_run\u001b[0m\u001b[1;33m=\u001b[0m\u001b[1;32mFalse\u001b[0m\u001b[1;33m)\u001b[0m\u001b[1;33m\u001b[0m\u001b[1;33m\u001b[0m\u001b[0m\n",
       "\u001b[1;31mDocstring:\u001b[0m <no docstring>\n",
       "\u001b[1;31mFile:\u001b[0m      c:\\users\\wang\\documents\\github\\cdcqr\\cdcqr\\analytics\\derivatives\\eda\\option_quote_plot.py\n",
       "\u001b[1;31mType:\u001b[0m      function\n"
      ]
     },
     "metadata": {},
     "output_type": "display_data"
    }
   ],
   "source": [
    "load_and_process_option_quote_and_perp_data?"
   ]
  },
  {
   "cell_type": "code",
   "execution_count": 3,
   "id": "a410f6e6-3996-4a2e-aa79-f8c1d5472ac6",
   "metadata": {},
   "outputs": [],
   "source": [
    "data1 = datetime.date(2021,10, 29)\n",
    "coin ='BTC'\n"
   ]
  },
  {
   "cell_type": "code",
   "execution_count": 4,
   "id": "2877245f-741b-43fe-ad96-14dfa1659be9",
   "metadata": {},
   "outputs": [
    {
     "name": "stdout",
     "output_type": "stream",
     "text": [
      "download and read data at C:\\Users\\Wang\\Documents\\GitHub\\data\\tardis\\deribit_quotes_2021-10-29_OPTIONS.csv.gz\n",
      "download and read data at C:\\Users\\Wang\\Documents\\GitHub\\data\\tardis\\deribit_quotes_2021-10-29_BTC-PERPETUAL.csv.gz\n",
      "'parse_optSymbol_col'  10.04 sec\n"
     ]
    }
   ],
   "source": [
    "df1, df2 = load_and_process_option_quote_and_perp_data(data1, coin, local_run= True)"
   ]
  },
  {
   "cell_type": "code",
   "execution_count": 5,
   "id": "25c539d9-4145-4e0b-ac69-d8fe3275e50a",
   "metadata": {},
   "outputs": [
    {
     "data": {
      "text/html": [
       "<div>\n",
       "<style scoped>\n",
       "    .dataframe tbody tr th:only-of-type {\n",
       "        vertical-align: middle;\n",
       "    }\n",
       "\n",
       "    .dataframe tbody tr th {\n",
       "        vertical-align: top;\n",
       "    }\n",
       "\n",
       "    .dataframe thead th {\n",
       "        text-align: right;\n",
       "    }\n",
       "</style>\n",
       "<table border=\"1\" class=\"dataframe\">\n",
       "  <thead>\n",
       "    <tr style=\"text-align: right;\">\n",
       "      <th></th>\n",
       "      <th>exchange</th>\n",
       "      <th>symbol</th>\n",
       "      <th>timestamp</th>\n",
       "      <th>local_timestamp</th>\n",
       "      <th>ask_amount</th>\n",
       "      <th>ask_price</th>\n",
       "      <th>bid_price</th>\n",
       "      <th>bid_amount</th>\n",
       "      <th>instrument</th>\n",
       "      <th>expire</th>\n",
       "      <th>strike</th>\n",
       "      <th>type</th>\n",
       "      <th>timestamp_dt</th>\n",
       "      <th>exp_date</th>\n",
       "    </tr>\n",
       "  </thead>\n",
       "  <tbody>\n",
       "    <tr>\n",
       "      <th>173</th>\n",
       "      <td>deribit</td>\n",
       "      <td>BTC-5NOV21-78000-C</td>\n",
       "      <td>1635465595983000</td>\n",
       "      <td>1635465600365586</td>\n",
       "      <td>77.3</td>\n",
       "      <td>0.0025</td>\n",
       "      <td>0.0015</td>\n",
       "      <td>17.9</td>\n",
       "      <td>BTC</td>\n",
       "      <td>2021-11-05</td>\n",
       "      <td>78000</td>\n",
       "      <td>C</td>\n",
       "      <td>2021-10-28 23:59:55.983</td>\n",
       "      <td>2021-11-05</td>\n",
       "    </tr>\n",
       "    <tr>\n",
       "      <th>174</th>\n",
       "      <td>deribit</td>\n",
       "      <td>BTC-5NOV21-75000-C</td>\n",
       "      <td>1635465599207000</td>\n",
       "      <td>1635465600365644</td>\n",
       "      <td>4.5</td>\n",
       "      <td>0.0035</td>\n",
       "      <td>0.0025</td>\n",
       "      <td>48.4</td>\n",
       "      <td>BTC</td>\n",
       "      <td>2021-11-05</td>\n",
       "      <td>75000</td>\n",
       "      <td>C</td>\n",
       "      <td>2021-10-28 23:59:59.207</td>\n",
       "      <td>2021-11-05</td>\n",
       "    </tr>\n",
       "    <tr>\n",
       "      <th>175</th>\n",
       "      <td>deribit</td>\n",
       "      <td>BTC-5NOV21-74000-P</td>\n",
       "      <td>1635465599185000</td>\n",
       "      <td>1635465600365698</td>\n",
       "      <td>5</td>\n",
       "      <td>0.619</td>\n",
       "      <td>NaN</td>\n",
       "      <td>NaN</td>\n",
       "      <td>BTC</td>\n",
       "      <td>2021-11-05</td>\n",
       "      <td>74000</td>\n",
       "      <td>P</td>\n",
       "      <td>2021-10-28 23:59:59.185</td>\n",
       "      <td>2021-11-05</td>\n",
       "    </tr>\n",
       "    <tr>\n",
       "      <th>176</th>\n",
       "      <td>deribit</td>\n",
       "      <td>BTC-5NOV21-74000-C</td>\n",
       "      <td>1635465590639000</td>\n",
       "      <td>1635465600365838</td>\n",
       "      <td>4</td>\n",
       "      <td>0.004</td>\n",
       "      <td>0.003</td>\n",
       "      <td>75.8</td>\n",
       "      <td>BTC</td>\n",
       "      <td>2021-11-05</td>\n",
       "      <td>74000</td>\n",
       "      <td>C</td>\n",
       "      <td>2021-10-28 23:59:50.639</td>\n",
       "      <td>2021-11-05</td>\n",
       "    </tr>\n",
       "    <tr>\n",
       "      <th>177</th>\n",
       "      <td>deribit</td>\n",
       "      <td>BTC-5NOV21-70000-C</td>\n",
       "      <td>1635465595985000</td>\n",
       "      <td>1635465600365840</td>\n",
       "      <td>33.2</td>\n",
       "      <td>0.0085</td>\n",
       "      <td>0.0075</td>\n",
       "      <td>40.4</td>\n",
       "      <td>BTC</td>\n",
       "      <td>2021-11-05</td>\n",
       "      <td>70000</td>\n",
       "      <td>C</td>\n",
       "      <td>2021-10-28 23:59:55.985</td>\n",
       "      <td>2021-11-05</td>\n",
       "    </tr>\n",
       "  </tbody>\n",
       "</table>\n",
       "</div>"
      ],
      "text/plain": [
       "    exchange              symbol         timestamp   local_timestamp  \\\n",
       "173  deribit  BTC-5NOV21-78000-C  1635465595983000  1635465600365586   \n",
       "174  deribit  BTC-5NOV21-75000-C  1635465599207000  1635465600365644   \n",
       "175  deribit  BTC-5NOV21-74000-P  1635465599185000  1635465600365698   \n",
       "176  deribit  BTC-5NOV21-74000-C  1635465590639000  1635465600365838   \n",
       "177  deribit  BTC-5NOV21-70000-C  1635465595985000  1635465600365840   \n",
       "\n",
       "     ask_amount  ask_price  bid_price  bid_amount instrument     expire  \\\n",
       "173 77.3        0.0025     0.0015     17.9         BTC       2021-11-05   \n",
       "174 4.5         0.0035     0.0025     48.4         BTC       2021-11-05   \n",
       "175 5           0.619      NaN        NaN          BTC       2021-11-05   \n",
       "176 4           0.004      0.003      75.8         BTC       2021-11-05   \n",
       "177 33.2        0.0085     0.0075     40.4         BTC       2021-11-05   \n",
       "\n",
       "     strike type            timestamp_dt    exp_date  \n",
       "173 78000    C   2021-10-28 23:59:55.983  2021-11-05  \n",
       "174 75000    C   2021-10-28 23:59:59.207  2021-11-05  \n",
       "175 74000    P   2021-10-28 23:59:59.185  2021-11-05  \n",
       "176 74000    C   2021-10-28 23:59:50.639  2021-11-05  \n",
       "177 70000    C   2021-10-28 23:59:55.985  2021-11-05  "
      ]
     },
     "execution_count": 5,
     "metadata": {},
     "output_type": "execute_result"
    }
   ],
   "source": [
    "df1.head()"
   ]
  },
  {
   "cell_type": "code",
   "execution_count": null,
   "id": "30156573-f964-4b18-9e09-813a85f18a06",
   "metadata": {},
   "outputs": [],
   "source": [
    "df2"
   ]
  }
 ],
 "metadata": {
  "kernelspec": {
   "display_name": "Python 3 (ipykernel)",
   "language": "python",
   "name": "python3"
  },
  "language_info": {
   "codemirror_mode": {
    "name": "ipython",
    "version": 3
   },
   "file_extension": ".py",
   "mimetype": "text/x-python",
   "name": "python",
   "nbconvert_exporter": "python",
   "pygments_lexer": "ipython3",
   "version": "3.8.8"
  }
 },
 "nbformat": 4,
 "nbformat_minor": 5
}
