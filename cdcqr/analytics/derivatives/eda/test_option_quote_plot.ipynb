{
 "cells": [
  {
   "cell_type": "code",
   "execution_count": null,
   "id": "c4168e01-d310-4444-b1e6-b0dc680fceaf",
   "metadata": {},
   "outputs": [],
   "source": [
    "from cdcqr.analytics.derivatives.eda.option_quote_plot import deribit_option_quote_plot, load_and_process_option_quote_and_perp_data, load_optchain_data\n",
    "import datetime"
   ]
  },
  {
   "cell_type": "code",
   "execution_count": null,
   "id": "702533f8-7b0e-4458-9641-85b1acde6549",
   "metadata": {},
   "outputs": [],
   "source": [
    "load_and_process_option_quote_and_perp_data?"
   ]
  },
  {
   "cell_type": "code",
   "execution_count": null,
   "id": "a410f6e6-3996-4a2e-aa79-f8c1d5472ac6",
   "metadata": {},
   "outputs": [],
   "source": [
    "data1 = datetime.date(2021,10, 29)\n",
    "coin ='BTC'\n"
   ]
  },
  {
   "cell_type": "code",
   "execution_count": null,
   "id": "2877245f-741b-43fe-ad96-14dfa1659be9",
   "metadata": {},
   "outputs": [],
   "source": [
    "df1, df2 = load_and_process_option_quote_and_perp_data(data1, coin, local_run= True)"
   ]
  },
  {
   "cell_type": "code",
   "execution_count": null,
   "id": "25c539d9-4145-4e0b-ac69-d8fe3275e50a",
   "metadata": {},
   "outputs": [],
   "source": [
    "df1.head()"
   ]
  },
  {
   "cell_type": "code",
   "execution_count": null,
   "id": "30156573-f964-4b18-9e09-813a85f18a06",
   "metadata": {},
   "outputs": [],
   "source": [
    "df2"
   ]
  }
 ],
 "metadata": {
  "kernelspec": {
   "display_name": "Python 3 (ipykernel)",
   "language": "python",
   "name": "python3"
  },
  "language_info": {
   "codemirror_mode": {
    "name": "ipython",
    "version": 3
   },
   "file_extension": ".py",
   "mimetype": "text/x-python",
   "name": "python",
   "nbconvert_exporter": "python",
   "pygments_lexer": "ipython3",
   "version": "3.8.8"
  }
 },
 "nbformat": 4,
 "nbformat_minor": 5
}
