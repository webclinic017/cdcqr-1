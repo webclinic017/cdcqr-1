{
 "cells": [
  {
   "cell_type": "markdown",
   "id": "eb1eb5b1-fb00-46a5-b8dc-630be73fb842",
   "metadata": {},
   "source": [
    "## Features from Option data\n",
    "   * large flows"
   ]
  },
  {
   "cell_type": "code",
   "execution_count": null,
   "id": "6dcca2d9-59ec-452c-8aa8-89ec014adc1d",
   "metadata": {},
   "outputs": [],
   "source": [
    "from datetime import datetime, timedelta\n",
    "import pandas as pd\n",
    "from cdcqr.data.dataloader import data_loader\n",
    "from cdcqr.data.deribit.data_utils import DeribitUtils, quoto_and_trade_analysis\n",
    "from cdcqr.common.config import LOCAL_DATA_DIR\n",
    "import os"
   ]
  },
  {
   "cell_type": "markdown",
   "id": "067b4bc3-61b6-474d-93a6-82b479f7a8b7",
   "metadata": {},
   "source": [
    "### Data commom"
   ]
  },
  {
   "cell_type": "code",
   "execution_count": null,
   "id": "2124c5dd-cf25-43ba-b782-a532d5540f35",
   "metadata": {},
   "outputs": [],
   "source": [
    "exchange = 'deribit'"
   ]
  },
  {
   "cell_type": "code",
   "execution_count": null,
   "id": "d09f47a0-ce25-43dd-b20a-0d63be712301",
   "metadata": {},
   "outputs": [],
   "source": [
    "date_range = pd.date_range(datetime(2021,1,1), datetime(2021,10,31))"
   ]
  },
  {
   "cell_type": "code",
   "execution_count": null,
   "id": "966c3245-f09c-4b95-a166-48ecadd55993",
   "metadata": {},
   "outputs": [],
   "source": [
    "data_type= 'trades'\n",
    "date = date_range[0]\n",
    "symbol='OPTIONS'"
   ]
  },
  {
   "cell_type": "code",
   "execution_count": null,
   "id": "131db8ae-76d9-4427-b803-4b6f96fd69a6",
   "metadata": {},
   "outputs": [],
   "source": [
    "df_opt_trade = data_loader(exchange, date,\"trades\", symbol).pipe(DeribitUtils.parse_time_col).pipe(DeribitUtils.parse_optSymbol_col)"
   ]
  },
  {
   "cell_type": "code",
   "execution_count": null,
   "id": "fab85402-39f4-401e-ae2c-1b1e0d5d4e28",
   "metadata": {},
   "outputs": [],
   "source": [
    "df_opt_trade.head()"
   ]
  },
  {
   "cell_type": "markdown",
   "id": "2cf4b54a-5a74-472d-a3e1-907341c521a4",
   "metadata": {},
   "source": [
    "### large flows\n",
    "   * calculate the total flow imblance"
   ]
  },
  {
   "cell_type": "code",
   "execution_count": null,
   "id": "96058b78-d67b-4a46-a09f-56244d5d72fb",
   "metadata": {},
   "outputs": [],
   "source": [
    "all_index = pd.date_range(start=date, end=date+timedelta(days=1), freq='1Min')[:-1]"
   ]
  },
  {
   "cell_type": "code",
   "execution_count": null,
   "id": "c92d4297-b25a-4971-8b52-963391ec1aba",
   "metadata": {},
   "outputs": [],
   "source": [
    "def get_total_flow(df_opt_trade_i):\n",
    "    df_opt_trade_i_f = df_opt_trade_i[['timestamp_dt','amount']]\n",
    "    return df_opt_trade_i_f.set_index('timestamp_dt').resample('1T', label='right').sum().reindex(all_index).fillna(0)"
   ]
  },
  {
   "cell_type": "code",
   "execution_count": null,
   "id": "f9292bcb-b467-43a1-ab77-b3e85f7d774f",
   "metadata": {},
   "outputs": [],
   "source": [
    "df_ret = df_opt_trade.groupby(['type', 'instrument', 'side']).apply(get_total_flow)\n",
    "\n",
    "df_features = df_ret.unstack('type').unstack('side').unstack('instrument')\n",
    "\n",
    "flatten_cols = ['_'.join(col).strip() for col in df_features.columns.values]\n",
    "\n",
    "df_features.columns = flatten_cols"
   ]
  },
  {
   "cell_type": "code",
   "execution_count": null,
   "id": "8272bbc2-384d-492b-b3d1-0f7d7cdb4226",
   "metadata": {},
   "outputs": [],
   "source": [
    "def trade2flow_features(date):\n",
    "    exchange = 'deribit'\n",
    "    data_type= 'trades'\n",
    "    symbol='OPTIONS'\n",
    "    df_opt_trade = data_loader(exchange, date, data_type, symbol).pipe(DeribitUtils.parse_time_col).pipe(DeribitUtils.parse_optSymbol_col)\n",
    "    all_index = pd.date_range(start=date, end=date+timedelta(days=1), freq='1Min')[:-1]\n",
    "    def get_total_flow(df_opt_trade_i):\n",
    "        df_opt_trade_i_f = df_opt_trade_i[['timestamp_dt','amount']]\n",
    "        return df_opt_trade_i_f.set_index('timestamp_dt').resample('1T', label='right').sum().reindex(all_index).fillna(0)\n",
    "    \n",
    "    df_ret = df_opt_trade.groupby(['type', 'instrument', 'side']).apply(get_total_flow)\n",
    "    df_features = df_ret.unstack('type').unstack('side').unstack('instrument')\n",
    "    flatten_cols = ['_'.join(col).strip() for col in df_features.columns.values]\n",
    "    df_features.columns = flatten_cols\n",
    "    return df_features"
   ]
  },
  {
   "cell_type": "code",
   "execution_count": null,
   "id": "f5895638-782b-45cc-8568-bcf00607682d",
   "metadata": {
    "scrolled": true,
    "tags": []
   },
   "outputs": [],
   "source": [
    "rets = []\n",
    "for date in date_range:\n",
    "    print(date)\n",
    "    rets.append(trade2flow_features(date))"
   ]
  },
  {
   "cell_type": "code",
   "execution_count": null,
   "id": "284dbe0b-f312-43f5-93e4-3a4dafaafe68",
   "metadata": {},
   "outputs": [],
   "source": [
    "df_flow = pd.concat(rets)"
   ]
  },
  {
   "cell_type": "code",
   "execution_count": null,
   "id": "0567e607-1b43-4a31-b899-1cd09d1328a8",
   "metadata": {},
   "outputs": [],
   "source": [
    "df_flow.describe()"
   ]
  },
  {
   "cell_type": "code",
   "execution_count": null,
   "id": "f4a06f3e-1f85-41a9-a1d9-c13ecb599b09",
   "metadata": {},
   "outputs": [],
   "source": [
    "df_flow['Call_imb_BTC'] = df_flow['amount_C_buy_BTC'] - df_flow['amount_C_sell_BTC']\n",
    "df_flow['Put_imb_BTC'] = df_flow['amount_P_sell_BTC'] - df_flow['amount_P_buy_BTC']\n",
    "df_flow['imb_BTC'] = df_flow['Call_imb_BTC'] - df_flow['Put_imb_BTC']\n",
    "\n",
    "df_flow['Call_imb_ETH'] = df_flow['amount_C_buy_ETH'] - df_flow['amount_C_sell_ETH']\n",
    "df_flow['Put_imb_ETH'] = df_flow['amount_P_sell_ETH'] - df_flow['amount_P_buy_ETH']\n",
    "df_flow['imb_ETH'] = df_flow['Call_imb_ETH'] - df_flow['Put_imb_ETH']\n"
   ]
  },
  {
   "cell_type": "code",
   "execution_count": null,
   "id": "0b4950af-8a5c-419e-ae84-9617f3ebc6fc",
   "metadata": {},
   "outputs": [],
   "source": [
    "df_flow.to_pickle(os.path.join(LOCAL_DATA_DIR, 'features','trade_flow.pickle'))"
   ]
  },
  {
   "cell_type": "code",
   "execution_count": null,
   "id": "13c53609-89e1-454f-a32e-d812491b76e7",
   "metadata": {},
   "outputs": [],
   "source": [
    "pd.__version__"
   ]
  },
  {
   "cell_type": "code",
   "execution_count": null,
   "id": "85d422b1-e394-4fa7-a297-c2074db8b9c8",
   "metadata": {},
   "outputs": [],
   "source": []
  }
 ],
 "metadata": {
  "kernelspec": {
   "display_name": "Python 3 (ipykernel)",
   "language": "python",
   "name": "python3"
  },
  "language_info": {
   "codemirror_mode": {
    "name": "ipython",
    "version": 3
   },
   "file_extension": ".py",
   "mimetype": "text/x-python",
   "name": "python",
   "nbconvert_exporter": "python",
   "pygments_lexer": "ipython3",
   "version": "3.8.8"
  }
 },
 "nbformat": 4,
 "nbformat_minor": 5
}
