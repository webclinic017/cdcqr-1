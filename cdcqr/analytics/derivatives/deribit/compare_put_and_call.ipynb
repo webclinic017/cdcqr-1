{
 "cells": [
  {
   "cell_type": "code",
   "execution_count": null,
   "id": "9ad6f0b7-ef2e-46e5-b9a4-edb6b7439355",
   "metadata": {},
   "outputs": [],
   "source": [
    "import pandas as pd\n",
    "import os\n",
    "from cdcqr.data.dataloader import data_loader\n",
    "from cdcqr.common.stats_utils import winsorize_df, remove_outlier\n",
    "import seaborn as sns\n",
    "import numpy as np\n",
    "from cdcqr.data.deribit.data_utils import DeribitUtils\n",
    "import time\n",
    "from cdcqr.common.utils import print_time_from_t0\n",
    "import warnings\n",
    "warnings.filterwarnings(\"ignore\")"
   ]
  },
  {
   "cell_type": "markdown",
   "id": "12583a45-559f-43c2-9661-065a0ea155cb",
   "metadata": {},
   "source": [
    "#### load quote data for options"
   ]
  },
  {
   "cell_type": "code",
   "execution_count": null,
   "id": "8fe0d5eb-bb37-4754-a8d8-d6fcb4daf687",
   "metadata": {},
   "outputs": [],
   "source": [
    "\n",
    "date = \"2021-10-01\"\n",
    "data_type = \"quotes\" #\"quotes\""
   ]
  },
  {
   "cell_type": "code",
   "execution_count": null,
   "id": "0f59cd26-bf74-4386-80b1-36b4c46ac038",
   "metadata": {},
   "outputs": [],
   "source": [
    "df1= data_loader('deribit',\"2021-10-01\",\"quotes\",'BTC-PERPETUAL')"
   ]
  },
  {
   "cell_type": "code",
   "execution_count": null,
   "id": "6b5b9e82-9436-43f8-a4c1-8e1112741f44",
   "metadata": {},
   "outputs": [],
   "source": [
    "df1"
   ]
  },
  {
   "cell_type": "markdown",
   "id": "3920a078-336b-4c02-93c8-844fed350362",
   "metadata": {},
   "source": [
    "#### load trade data for options"
   ]
  },
  {
   "cell_type": "code",
   "execution_count": null,
   "id": "2d3b7ace-a455-4561-ab87-a9dcd943b47c",
   "metadata": {},
   "outputs": [],
   "source": [
    "df_opt_quote = data_loader('deribit',\"2021-10-01\",\"quotes\",'options').pipe(DeribitUtils.parse_optSymbol_col).pipe(DeribitUtils.parse_time_col)\n",
    "df_opt_quote.head(2)"
   ]
  },
  {
   "cell_type": "code",
   "execution_count": null,
   "id": "cedf790c-3fe4-4d04-89f1-a9f9726bba47",
   "metadata": {},
   "outputs": [],
   "source": [
    "df_opt_trade = data_loader('deribit',\"2021-10-01\",\"trades\",'options').pipe(DeribitUtils.parse_optSymbol_col).pipe(DeribitUtils.parse_time_col)\n",
    "df_opt_trade.head(2)"
   ]
  },
  {
   "cell_type": "code",
   "execution_count": null,
   "id": "18ed0e6d-45a3-45f1-8eca-03c8d90271eb",
   "metadata": {},
   "outputs": [],
   "source": [
    "df_opt_trade['dvol'] = df_opt_trade['price']*df_opt_trade['amount']"
   ]
  },
  {
   "cell_type": "code",
   "execution_count": null,
   "id": "f64ded76-d847-4ce1-8870-f750fbd70a61",
   "metadata": {
    "tags": []
   },
   "outputs": [],
   "source": [
    "df_opt_trade['symbol'].unique()"
   ]
  },
  {
   "cell_type": "markdown",
   "id": "24def01d-321b-4e48-b64a-8c4cc46cbacf",
   "metadata": {},
   "source": [
    "### check liquidity - number of trades"
   ]
  },
  {
   "cell_type": "code",
   "execution_count": null,
   "id": "70279b7c-9533-4d6c-8974-98de4182a05c",
   "metadata": {},
   "outputs": [],
   "source": [
    "trade_info = df_opt_trade.groupby('symbol')['dvol'].agg(['sum','count']).sort_values(['count','sum'], ascending=[False,False]).reset_index()\n",
    "trade_info.head()"
   ]
  },
  {
   "cell_type": "code",
   "execution_count": null,
   "id": "f5fe38ff-8e6c-49b6-9ada-e9647ad76657",
   "metadata": {
    "tags": []
   },
   "outputs": [],
   "source": [
    "df_opt_trade.query('symbol==\"ETH-24JUN22-4000-C\"')"
   ]
  },
  {
   "cell_type": "code",
   "execution_count": null,
   "id": "69f02d9c-1837-4fa4-995b-5427b3256afe",
   "metadata": {},
   "outputs": [],
   "source": [
    "trade_info['type'] = trade_info['symbol'].str.contains('-C')\n",
    "trade_info.head()"
   ]
  },
  {
   "cell_type": "code",
   "execution_count": null,
   "id": "e5866e90-09f5-4a78-b888-a124aa66a3b0",
   "metadata": {},
   "outputs": [],
   "source": [
    "sns.scatterplot(x=\"count\", y=\"sum\", data=trade_info, hue=\"type\")"
   ]
  },
  {
   "cell_type": "code",
   "execution_count": null,
   "id": "ba1ed74e-aee1-4fd0-aab8-146482bd9187",
   "metadata": {},
   "outputs": [],
   "source": [
    "trade_info_rmoutlier = remove_outlier(trade_info, cols2limits={'count':[0.1,0.9],'sum':[0.1,0.9]})"
   ]
  },
  {
   "cell_type": "code",
   "execution_count": null,
   "id": "cb5b0065-99ec-4f58-a01f-f7ff43368d17",
   "metadata": {},
   "outputs": [],
   "source": [
    "sns.scatterplot(x=\"count\", y=\"sum\", data=trade_info_rmoutlier, hue=\"type\")"
   ]
  },
  {
   "cell_type": "markdown",
   "id": "7299597c-726f-44b9-bb5b-99a152569c44",
   "metadata": {},
   "source": [
    "### identify trade/remove liquidity"
   ]
  },
  {
   "cell_type": "code",
   "execution_count": null,
   "id": "6d4028db-2b00-49c5-a4d1-340861c9b4dc",
   "metadata": {},
   "outputs": [],
   "source": [
    "ATM_btc_c = 'BTC-8OCT21-48000-C'\n",
    "df_opt_trade_i = df_opt_trade.query('symbol==@ATM_btc_c')\n",
    "df_opt_trade_i.head()\n",
    "display(df_opt_trade_i.shape)"
   ]
  },
  {
   "cell_type": "code",
   "execution_count": null,
   "id": "b04039ac-cd59-40a8-83f9-34f041f0972b",
   "metadata": {},
   "outputs": [],
   "source": [
    "df_opt_trade_i['flow_sgn'] = (df_opt_trade_i['side']=='buy').astype(int)\n",
    "df_opt_trade_i['flow_sgn'] = (df_opt_trade_i['flow_sgn']-0.5)*2\n",
    "df_opt_trade_i['flow'] = df_opt_trade_i['flow_sgn']*df_opt_trade_i['amount']\n",
    "df_opt_trade_i_no_dup = df_opt_trade_i.groupby('timestamp_dt')['flow'].sum().reset_index()"
   ]
  },
  {
   "cell_type": "code",
   "execution_count": null,
   "id": "5f9e86cf-6149-4200-85bc-304cb4e8d644",
   "metadata": {},
   "outputs": [],
   "source": [
    "df_opt_trade_i_no_dup.shape"
   ]
  },
  {
   "cell_type": "code",
   "execution_count": null,
   "id": "b6d2169d-2bb6-41b1-b328-8e366990cd62",
   "metadata": {},
   "outputs": [],
   "source": [
    "df_opt_quote_i = df_opt_quote.query('symbol==@ATM_btc_c')\n",
    "df_opt_quote_i_no_dup = df_opt_quote_i[~df_opt_quote_i['timestamp_dt'].duplicated(keep='last')]\n",
    "df_opt_quote_i_no_dup.head()"
   ]
  },
  {
   "cell_type": "code",
   "execution_count": null,
   "id": "f8118557-2b30-4489-83b3-bce6c82b9d67",
   "metadata": {},
   "outputs": [],
   "source": [
    "df_opt_quote_i_no_dup.shape"
   ]
  },
  {
   "cell_type": "code",
   "execution_count": null,
   "id": "eb06e83b-6a1a-48ec-befe-3210f6e64f86",
   "metadata": {},
   "outputs": [],
   "source": [
    "df_opt_trade_i_no_dup = df_opt_trade_i_no_dup.rename(columns={'timestamp_dt':'trade_time'})"
   ]
  },
  {
   "cell_type": "code",
   "execution_count": null,
   "id": "d0eafa84-fd03-436a-82f2-e51058d648c7",
   "metadata": {},
   "outputs": [],
   "source": [
    "B = df_opt_quote_i_no_dup['timestamp_dt'].values\n",
    "A = df_opt_trade_i_no_dup['trade_time'].values\n",
    "res = B[np.searchsorted(B, A)]\n",
    "df_opt_trade_i_no_dup['timestamp_dt'] = res"
   ]
  },
  {
   "cell_type": "code",
   "execution_count": null,
   "id": "cdd821e9-d3a8-4354-bba7-80995d19a06a",
   "metadata": {},
   "outputs": [],
   "source": [
    "df_opt_trade_i_no_dup2 = df_opt_trade_i_no_dup.groupby('timestamp_dt')['flow'].sum().reset_index()\n",
    "\n",
    "df_opt_trade_i_no_dup2['has_trade'] = True"
   ]
  },
  {
   "cell_type": "code",
   "execution_count": null,
   "id": "b3490ded-1688-4cab-8624-b0c3af320540",
   "metadata": {},
   "outputs": [],
   "source": [
    "df_opt_trade_i_no_dup2.head(2)"
   ]
  },
  {
   "cell_type": "code",
   "execution_count": null,
   "id": "94b7087e-5d9b-401f-a08f-8dbd9cf7d96f",
   "metadata": {},
   "outputs": [],
   "source": [
    "df_opt_quote_i_no_dup.head(2)"
   ]
  },
  {
   "cell_type": "code",
   "execution_count": null,
   "id": "8c75e990-481f-457f-86bd-25fe5c28454d",
   "metadata": {},
   "outputs": [],
   "source": [
    "df_combined = pd.merge(left=df_opt_quote_i_no_dup, right=df_opt_trade_i_no_dup2, on=['timestamp_dt'], how='left')"
   ]
  },
  {
   "cell_type": "code",
   "execution_count": null,
   "id": "36f4a261-595d-4090-89a3-80787552577e",
   "metadata": {},
   "outputs": [],
   "source": [
    "df_combined['flow'] = df_combined['flow'].fillna(0)\n",
    "\n",
    "df_combined['trade_neighbour'] = df_combined['has_trade']\n",
    "\n",
    "df_combined['trade_neighbour'] =df_combined['has_trade'].ffill(limit=1).bfill(limit=1).fillna(False)"
   ]
  },
  {
   "cell_type": "code",
   "execution_count": null,
   "id": "08ec3ef0-b34b-497e-a08d-26a388cd0962",
   "metadata": {},
   "outputs": [],
   "source": [
    "df_combined[df_combined['trade_neighbour']].head(2)"
   ]
  },
  {
   "cell_type": "code",
   "execution_count": null,
   "id": "514147a9-21e0-44c3-bbcc-ac86604806bd",
   "metadata": {},
   "outputs": [],
   "source": [
    "df_combined['mid_price'] = (df_combined['ask_price'] + df_combined['bid_price'])/2\n",
    "df_combined['wgt_mid_price'] = (df_combined['ask_price']*df_combined['ask_amount'] + df_combined['bid_price']*df_combined['bid_amount'])/(df_combined['ask_amount']+df_combined['bid_amount'])\n",
    "\n",
    "df_combined['midp_chg'] = df_combined['mid_price'].pct_change()\n",
    "df_combined['wgtmidp_chg'] = df_combined['wgt_mid_price'].pct_change()"
   ]
  },
  {
   "cell_type": "code",
   "execution_count": null,
   "id": "12e5396f-a1d2-4fe9-afe8-7d0239655aa1",
   "metadata": {},
   "outputs": [],
   "source": [
    "display('num trades: {}'.format(df_combined['has_trade'].sum()))\n",
    "display('midp_chg: {}'.format((df_combined['midp_chg']!=0).sum()))\n",
    "display('wgtmidp_chg: {}'.format((df_combined['wgtmidp_chg']!=0).sum()))"
   ]
  },
  {
   "cell_type": "code",
   "execution_count": null,
   "id": "f28403f5-2e3c-4120-9846-71dea3fc127a",
   "metadata": {},
   "outputs": [],
   "source": [
    "def get_order_book_dynamics(contract='BTC-8OCT21-48000-C', date =\"2021-10-01\" , symbol='options', exchange='deribit'):\n",
    "    display('BTC-8OCT21-48000-C', \"2021-10-01\", 'deribit')\n",
    "    df_opt_quote = data_loader(exchange, date,\"quotes\",symbol).pipe(DeribitUtils.parse_optSymbol_col).pipe(DeribitUtils.parse_time_col)\n",
    "    df_opt_trade = data_loader(exchange, date,\"trades\",symbol).pipe(DeribitUtils.parse_optSymbol_col).pipe(DeribitUtils.parse_time_col)\n",
    "    ATM_btc_c = contract\n",
    "    \n",
    "    # processing trade info\n",
    "    df_opt_trade_i = df_opt_trade.query('symbol==@ATM_btc_c')\n",
    "    df_opt_trade_i['flow_sgn'] = (df_opt_trade_i['side']=='buy').astype(int)\n",
    "    df_opt_trade_i['flow_sgn'] = (df_opt_trade_i['flow_sgn']-0.5)*2\n",
    "    df_opt_trade_i['flow'] = df_opt_trade_i['flow_sgn']*df_opt_trade_i['amount']\n",
    "    df_opt_trade_i_no_dup = df_opt_trade_i.groupby('timestamp_dt')['flow'].sum().reset_index()\n",
    "    df_opt_trade_i_no_dup = df_opt_trade_i_no_dup.rename(columns={'timestamp_dt':'trade_time'})\n",
    "    \n",
    "    \n",
    "    # processing quote info\n",
    "    df_opt_quote_i = df_opt_quote.query('symbol==@ATM_btc_c')\n",
    "    df_opt_quote_i_no_dup = df_opt_quote_i[~df_opt_quote_i['timestamp_dt'].duplicated(keep='last')]\n",
    "    \n",
    "    # align timestamps\n",
    "    B = df_opt_quote_i_no_dup['timestamp_dt'].values\n",
    "    A = df_opt_trade_i_no_dup['trade_time'].values\n",
    "    res = B[np.searchsorted(B, A)]\n",
    "    df_opt_trade_i_no_dup['timestamp_dt'] = res\n",
    "    \n",
    "    df_opt_trade_i_no_dup2 = df_opt_trade_i_no_dup.groupby('timestamp_dt')['flow'].sum().reset_index()\n",
    "    df_opt_trade_i_no_dup2['has_trade'] = True\n",
    "    \n",
    "    # combine\n",
    "    df_combined = pd.merge(left=df_opt_quote_i_no_dup, right=df_opt_trade_i_no_dup2, on=['timestamp_dt'], how='left')\n",
    "    \n",
    "    # adding features\n",
    "    df_combined['flow'] = df_combined['flow'].fillna(0)\n",
    "    df_combined['trade_neighbour'] = df_combined['has_trade']\n",
    "    df_combined['trade_neighbour'] =df_combined['has_trade'].ffill(limit=1).bfill(limit=1).fillna(False)\n",
    "    \n",
    "    df_combined['mid_price'] = (df_combined['ask_price'] + df_combined['bid_price'])/2\n",
    "    df_combined['wgt_mid_price'] = (df_combined['ask_price']*df_combined['ask_amount'] + df_combined['bid_price']*df_combined['bid_amount'])/(df_combined['ask_amount']+df_combined['bid_amount'])\n",
    "    df_combined['midp_chg'] = df_combined['mid_price'].pct_change()\n",
    "    df_combined['wgtmidp_chg'] = df_combined['wgt_mid_price'].pct_change()\n",
    "    \n",
    "    num_trades = df_combined['has_trade'].sum()\n",
    "    num_midp_chg = (df_combined['midp_chg']!=0).sum()\n",
    "    num_wgtmidp_chg = (df_combined['wgtmidp_chg']!=0).sum()\n",
    "    return {'num_trades':num_trades,'num_midp_chg':num_midp_chg,'num_wgtmidp_chg':num_wgtmidp_chg}, df_combined"
   ]
  },
  {
   "cell_type": "code",
   "execution_count": null,
   "id": "6f160c51-7085-4bef-b595-5bec500d371b",
   "metadata": {},
   "outputs": [],
   "source": [
    "ret_dict, ret_df = get_order_book_dynamics()"
   ]
  },
  {
   "cell_type": "code",
   "execution_count": null,
   "id": "779f4758-78b9-46e3-97ad-be7407b04caa",
   "metadata": {},
   "outputs": [],
   "source": [
    "ret_dict"
   ]
  }
 ],
 "metadata": {
  "kernelspec": {
   "display_name": "Python 3 (ipykernel)",
   "language": "python",
   "name": "python3"
  },
  "language_info": {
   "codemirror_mode": {
    "name": "ipython",
    "version": 3
   },
   "file_extension": ".py",
   "mimetype": "text/x-python",
   "name": "python",
   "nbconvert_exporter": "python",
   "pygments_lexer": "ipython3",
   "version": "3.8.8"
  }
 },
 "nbformat": 4,
 "nbformat_minor": 5
}
