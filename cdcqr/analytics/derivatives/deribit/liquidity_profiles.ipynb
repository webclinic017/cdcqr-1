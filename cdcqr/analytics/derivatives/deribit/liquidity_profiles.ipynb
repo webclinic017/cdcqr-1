{
 "cells": [
  {
   "cell_type": "markdown",
   "id": "02e1d804-2a31-4c66-b69a-e98752daaea6",
   "metadata": {},
   "source": [
    "### deribit options liquidity profile\n",
    "   * on day t, what are the options available\n",
    "   * on day t, what are the available options liquidiy, trade volume, spread, orderbook updates, across different strikes, put/call\n",
    " "
   ]
  },
  {
   "cell_type": "code",
   "execution_count": 22,
   "id": "83211667-c1f6-4fbf-826b-2bfa6c4dff56",
   "metadata": {},
   "outputs": [
    {
     "data": {
      "text/plain": [
       "<module 'cdcqr.data.deribit.data_utils' from 'c:\\\\users\\\\wang\\\\documents\\\\github\\\\cdcqr\\\\cdcqr\\\\data\\\\deribit\\\\data_utils.py'>"
      ]
     },
     "execution_count": 22,
     "metadata": {},
     "output_type": "execute_result"
    }
   ],
   "source": [
    "from cdcqr.data.dataloader import data_loader\n",
    "import cdcqr.data.deribit.data_utils as derU\n",
    "from datetime import datetime, timedelta, date\n",
    "import calendar\n",
    "import pandas as pd\n",
    "from importlib import reload\n",
    "reload(derU)"
   ]
  },
  {
   "cell_type": "code",
   "execution_count": 2,
   "id": "8312a0c2-cee4-4f41-878f-57e681cef566",
   "metadata": {},
   "outputs": [],
   "source": [
    "exchange = 'deribit'\n",
    "date = '2021-05-19'\n",
    "symbol = 'OPTIONS'\n",
    "data_type = 'trades'\n",
    "opt_trades = data_loader(exchange, date,data_type,symbol)"
   ]
  },
  {
   "cell_type": "code",
   "execution_count": 4,
   "id": "47ed9eb6-3d97-4eb5-a55d-19cdfef98d19",
   "metadata": {},
   "outputs": [],
   "source": [
    "opt_trades_parsed = opt_trades.pipe(DeribitUtils.parse_optSymbol_col).pipe(DeribitUtils.parse_time_col)"
   ]
  },
  {
   "cell_type": "code",
   "execution_count": 6,
   "id": "6802f0e9-d6df-4bd2-ba3c-989fd48fb921",
   "metadata": {},
   "outputs": [],
   "source": [
    "opt_trades_btc = opt_trades_parsed.query('instrument==\"BTC\"')"
   ]
  },
  {
   "cell_type": "code",
   "execution_count": 10,
   "id": "e95a3e5e-9d16-48fc-94d7-a58c71779d2f",
   "metadata": {},
   "outputs": [
    {
     "data": {
      "text/plain": [
       "expire\n",
       "2022-03-25 08:00:00      930.0\n",
       "2021-05-19 08:00:00     1150.9\n",
       "2021-06-04 08:00:00     2700.0\n",
       "2021-07-30 08:00:00     3523.7\n",
       "2021-05-20 08:00:00     3646.5\n",
       "2021-09-24 08:00:00     4059.4\n",
       "2021-12-31 08:00:00     5564.1\n",
       "2021-05-21 08:00:00     7945.8\n",
       "2021-05-28 08:00:00    12705.6\n",
       "2021-06-25 08:00:00    13012.3\n",
       "Name: amount, dtype: float64"
      ]
     },
     "execution_count": 10,
     "metadata": {},
     "output_type": "execute_result"
    }
   ],
   "source": [
    "opt_trades_btc.groupby('expire')['amount'].sum().sort_values()"
   ]
  },
  {
   "cell_type": "code",
   "execution_count": 18,
   "id": "af1648f0-a8ba-4303-859e-15bf97f3b924",
   "metadata": {},
   "outputs": [
    {
     "data": {
      "text/plain": [
       "datetime.datetime(2021, 12, 3, 0, 0)"
      ]
     },
     "metadata": {},
     "output_type": "display_data"
    },
    {
     "data": {
      "text/plain": [
       "datetime.date(2021, 12, 31)"
      ]
     },
     "metadata": {},
     "output_type": "display_data"
    },
    {
     "data": {
      "text/plain": [
       "datetime.date(2022, 1, 28)"
      ]
     },
     "metadata": {},
     "output_type": "display_data"
    },
    {
     "data": {
      "text/plain": [
       "datetime.date(2021, 12, 31)"
      ]
     },
     "metadata": {},
     "output_type": "display_data"
    },
    {
     "data": {
      "text/plain": [
       "datetime.date(2022, 3, 25)"
      ]
     },
     "metadata": {},
     "output_type": "display_data"
    },
    {
     "data": {
      "text/plain": [
       "datetime.date(2022, 6, 24)"
      ]
     },
     "metadata": {},
     "output_type": "display_data"
    }
   ],
   "source": [
    "## get important expiry dates\n",
    "dt = datetime(2021,12,1)\n",
    "display(derU.DeribitUtils.next_friday(dt))\n",
    "display(derU.DeribitUtils.last_friday_of_the_month(dt))\n",
    "display(derU.DeribitUtils.last_friday_of_next_month(dt))\n",
    "display(derU.DeribitUtils.last_friday_of_the_quarter(dt))\n",
    "display(derU.DeribitUtils.last_friday_of_the_2nd_to_next_quarter(dt))\n",
    "display(derU.DeribitUtils.last_friday_of_the_3rd_to_next_quarter(dt))"
   ]
  },
  {
   "cell_type": "code",
   "execution_count": 24,
   "id": "6ab52e39-efa6-4383-8929-ff210dd4cc9a",
   "metadata": {},
   "outputs": [
    {
     "data": {
      "text/plain": [
       "[datetime.date(2021, 5, 21),\n",
       " datetime.date(2021, 5, 28),\n",
       " datetime.date(2021, 6, 25),\n",
       " datetime.date(2021, 9, 24),\n",
       " datetime.date(2021, 12, 31)]"
      ]
     },
     "execution_count": 24,
     "metadata": {},
     "output_type": "execute_result"
    }
   ],
   "source": [
    "derU.DeribitUtils.get_important_option_expire_dates(datetime(2021,5,19))"
   ]
  }
 ],
 "metadata": {
  "kernelspec": {
   "display_name": "Python 3 (ipykernel)",
   "language": "python",
   "name": "python3"
  },
  "language_info": {
   "codemirror_mode": {
    "name": "ipython",
    "version": 3
   },
   "file_extension": ".py",
   "mimetype": "text/x-python",
   "name": "python",
   "nbconvert_exporter": "python",
   "pygments_lexer": "ipython3",
   "version": "3.8.8"
  }
 },
 "nbformat": 4,
 "nbformat_minor": 5
}
