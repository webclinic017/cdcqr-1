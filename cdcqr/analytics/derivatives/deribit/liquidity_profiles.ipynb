{
 "cells": [
  {
   "cell_type": "markdown",
   "id": "02e1d804-2a31-4c66-b69a-e98752daaea6",
   "metadata": {},
   "source": [
    "### deribit options liquidity profile\n",
    "   * on day t, what are the options available\n",
    "   * on day t, what are the available options liquidiy, trade volume, spread, orderbook updates, across different strikes, put/call\n",
    "   * spread information about options"
   ]
  },
  {
   "cell_type": "code",
   "execution_count": 17,
   "id": "83211667-c1f6-4fbf-826b-2bfa6c4dff56",
   "metadata": {},
   "outputs": [],
   "source": [
    "from cdcqr.data.dataloader import data_loader\n",
    "from cdcqr.data.deribit.data_utils import DeribitUtils as derU\n",
    "from datetime import datetime, timedelta\n",
    "import calendar\n",
    "import pandas as pd\n",
    "from importlib import reload\n",
    "import matplotlib.pyplot as plt\n",
    "import numpy as np\n",
    "from cdcqr.common.config import LOCAL_DATA_DIR\n",
    "import os"
   ]
  },
  {
   "cell_type": "code",
   "execution_count": null,
   "id": "8312a0c2-cee4-4f41-878f-57e681cef566",
   "metadata": {},
   "outputs": [],
   "source": [
    "exchange = 'deribit'\n",
    "date = '2021/09/22'\n",
    "symbol = 'OPTIONS'\n",
    "data_type = 'trades'\n",
    "opt_trades = data_loader(exchange, date,data_type, symbol)"
   ]
  },
  {
   "cell_type": "code",
   "execution_count": null,
   "id": "be4c4d65-c86f-4046-af8f-9da3fd052b4a",
   "metadata": {},
   "outputs": [],
   "source": [
    "opt_trades.head()"
   ]
  },
  {
   "cell_type": "code",
   "execution_count": null,
   "id": "47ed9eb6-3d97-4eb5-a55d-19cdfef98d19",
   "metadata": {},
   "outputs": [],
   "source": [
    "opt_trades_parsed = opt_trades.pipe(derU.parse_optSymbol_col).pipe(derU.parse_time_col)"
   ]
  },
  {
   "cell_type": "code",
   "execution_count": null,
   "id": "6802f0e9-d6df-4bd2-ba3c-989fd48fb921",
   "metadata": {},
   "outputs": [],
   "source": [
    "coin = 'BTC'\n",
    "opt_trades_i = opt_trades_parsed.query('instrument==@coin')"
   ]
  },
  {
   "cell_type": "code",
   "execution_count": null,
   "id": "e95a3e5e-9d16-48fc-94d7-a58c71779d2f",
   "metadata": {},
   "outputs": [],
   "source": [
    "df = opt_trades_i.groupby('expire')['amount'].sum().sort_values().to_frame().reset_index()"
   ]
  },
  {
   "cell_type": "code",
   "execution_count": null,
   "id": "73a9d1a3-b901-40ab-89f4-3d300cfeb25d",
   "metadata": {},
   "outputs": [],
   "source": [
    "df['date'] = date"
   ]
  },
  {
   "cell_type": "markdown",
   "id": "4bc3a5e3-be62-46b9-b929-d4d8578d5f52",
   "metadata": {},
   "source": [
    "### function test of important expiry dates"
   ]
  },
  {
   "cell_type": "code",
   "execution_count": null,
   "id": "af1648f0-a8ba-4303-859e-15bf97f3b924",
   "metadata": {},
   "outputs": [],
   "source": [
    "## get important expiry dates\n",
    "dt = datetime(2021,12,1)\n",
    "display(derU.DeribitUtils.next_friday(dt))\n",
    "display(derU.DeribitUtils.last_friday_of_the_month(dt))\n",
    "display(derU.DeribitUtils.last_friday_of_next_month(dt))\n",
    "display(derU.DeribitUtils.last_friday_of_the_quarter(dt))\n",
    "display(derU.DeribitUtils.last_friday_of_the_2nd_to_next_quarter(dt))\n",
    "display(derU.DeribitUtils.last_friday_of_the_3rd_to_next_quarter(dt))"
   ]
  },
  {
   "cell_type": "code",
   "execution_count": null,
   "id": "6ab52e39-efa6-4383-8929-ff210dd4cc9a",
   "metadata": {},
   "outputs": [],
   "source": [
    "derU.DeribitUtils.get_important_option_expire_dates(datetime(2021,5,19))"
   ]
  },
  {
   "cell_type": "markdown",
   "id": "eb06be31-1f10-4f8d-93ea-dfde2f092a95",
   "metadata": {},
   "source": [
    "#### daily trading volume"
   ]
  },
  {
   "cell_type": "code",
   "execution_count": null,
   "id": "946219c7-1cba-4d6b-98da-7653566b4129",
   "metadata": {},
   "outputs": [],
   "source": [
    "time_index = pd.date_range(datetime(2021,1,1), datetime(2021,10,31))\n",
    "dfs = []\n",
    "coin = 'BTC'\n",
    "exchange = 'deribit'\n",
    "symbol = 'OPTIONS'\n",
    "data_type = 'trades'\n",
    "for date in time_index:\n",
    "    opt_trades = data_loader(exchange, date, data_type, symbol)\n",
    "    opt_trades_parsed = opt_trades.pipe(derU.parse_optSymbol_col).pipe(derU.parse_time_col)\n",
    "    opt_trades_i = opt_trades_parsed.query('instrument==@coin')\n",
    "    df = opt_trades_i.groupby(['side','type'])['amount'].sum().reset_index()\n",
    "    df['weekday'] = date.weekday()\n",
    "    dfs.append(df)\n"
   ]
  },
  {
   "cell_type": "code",
   "execution_count": null,
   "id": "5e5d862e-6700-4b3e-92b4-7094e71c23b3",
   "metadata": {},
   "outputs": [],
   "source": [
    "df1 = pd.concat(dfs)"
   ]
  },
  {
   "cell_type": "code",
   "execution_count": null,
   "id": "1129a0e4-41b8-4c29-a199-5830565bbe71",
   "metadata": {},
   "outputs": [],
   "source": [
    "df2 = df1.groupby(['side','type','weekday'])['amount'].sum().reset_index()"
   ]
  },
  {
   "cell_type": "code",
   "execution_count": null,
   "id": "e3207e38-a482-4283-bed6-cc0135f043e0",
   "metadata": {},
   "outputs": [],
   "source": [
    "fig = px.bar(df2, x=\"weekday\", y=\"amount\", color=\"type\",\n",
    "             pattern_shape=\"side\", pattern_shape_sequence=[\"x\", \".\"])\n",
    "fig.show()"
   ]
  },
  {
   "cell_type": "code",
   "execution_count": null,
   "id": "8d9d8978-8812-4563-86f7-b157bb71cf4a",
   "metadata": {},
   "outputs": [],
   "source": [
    "df = pd.DataFrame(date2vol, index=[0]).T.reset_index()\n",
    "df"
   ]
  },
  {
   "cell_type": "code",
   "execution_count": null,
   "id": "37855235-cc46-4d99-948d-307c108d885c",
   "metadata": {},
   "outputs": [],
   "source": [
    "df['weekday'] = df['index'].dt.weekday"
   ]
  },
  {
   "cell_type": "code",
   "execution_count": null,
   "id": "f7d0ac0a-f366-4953-ba23-bc568038c3c6",
   "metadata": {},
   "outputs": [],
   "source": [
    "df.groupby('weekday').mean().plot()\n",
    "plt.ylim((0,30000))\n",
    "plt.legend(['avg_btc_traded'])\n",
    "plt.title('avg_btc_traded 2021 Jan-Oct')"
   ]
  },
  {
   "cell_type": "markdown",
   "id": "82ff908f-a4ab-47c8-a860-11004cc3f389",
   "metadata": {},
   "source": [
    "#### option availability across weekdays"
   ]
  },
  {
   "cell_type": "code",
   "execution_count": null,
   "id": "41d8e530-25bd-41df-8fd8-876487704441",
   "metadata": {},
   "outputs": [],
   "source": [
    "time_index = pd.date_range(datetime(2021,6,7), datetime(2021,6,13))"
   ]
  },
  {
   "cell_type": "code",
   "execution_count": null,
   "id": "4403d775-b372-454d-8f77-e332fd996f6f",
   "metadata": {},
   "outputs": [],
   "source": [
    "dfs = []\n",
    "coin = 'BTC'\n",
    "exchange = 'deribit'\n",
    "symbol = 'OPTIONS'\n",
    "data_type = 'trades'\n",
    "for date in time_index:\n",
    "    opt_trades = data_loader(exchange, date,data_type, symbol)\n",
    "    opt_trades_parsed = opt_trades.pipe(derU.parse_optSymbol_col).pipe(derU.parse_time_col)\n",
    "    opt_trades_i = opt_trades_parsed.query('instrument==@coin')\n",
    "    df = opt_trades_i.groupby('expire')['amount'].sum().sort_values().to_frame().reset_index()\n",
    "    df['date'] = date\n",
    "    dfs.append(df)"
   ]
  },
  {
   "cell_type": "code",
   "execution_count": null,
   "id": "ad685f14-6ffd-4d1f-82dc-9278d0ff1cfe",
   "metadata": {},
   "outputs": [],
   "source": [
    "df1 = pd.concat(dfs).set_index(['date','expire']).unstack()"
   ]
  },
  {
   "cell_type": "code",
   "execution_count": null,
   "id": "b68c450e-f338-462a-8816-8f54fd052ecd",
   "metadata": {},
   "outputs": [],
   "source": [
    "df1.columns = df1.columns.droplevel(0)"
   ]
  },
  {
   "cell_type": "code",
   "execution_count": null,
   "id": "332cb23e-2585-46b0-8881-a483dd6e9636",
   "metadata": {},
   "outputs": [],
   "source": [
    "df1.T"
   ]
  },
  {
   "cell_type": "markdown",
   "id": "cb213026-06fd-4a7a-9cdf-e36bf1c8cc48",
   "metadata": {},
   "source": [
    "#### total trade volume across all strikes"
   ]
  },
  {
   "cell_type": "code",
   "execution_count": null,
   "id": "32fd635c-972d-4a1f-8537-0ebaa4210154",
   "metadata": {},
   "outputs": [],
   "source": [
    "dfs = []\n",
    "coin = 'BTC'\n",
    "exchange = 'deribit'\n",
    "symbol = 'OPTIONS'\n",
    "data_type = 'trades'\n",
    "for date in time_index:\n",
    "    opt_trades = data_loader(exchange, date,data_type, symbol)\n",
    "    opt_trades_parsed = opt_trades.pipe(derU.parse_optSymbol_col).pipe(derU.parse_time_col)\n",
    "    opt_trades_i = opt_trades_parsed.query('instrument==@coin')\n",
    "    df = opt_trades_i.groupby(['strike','type'])['amount'].sum().reset_index()\n",
    "    df['date'] = date\n",
    "    df['log(K)'] = np.log(df['strike']) \n",
    "    dfs.append(df)"
   ]
  },
  {
   "cell_type": "code",
   "execution_count": null,
   "id": "cc2e2d74-2d01-44b3-a046-b9d2e9fb1aed",
   "metadata": {},
   "outputs": [],
   "source": [
    "df1 = pd.concat(dfs)\n",
    "df1.head()"
   ]
  },
  {
   "cell_type": "code",
   "execution_count": null,
   "id": "2e95a546-ad6c-4c76-b763-2740f5e80f75",
   "metadata": {},
   "outputs": [],
   "source": [
    "fig = px.scatter(df1, x = 'date', y='strike' , size=\"amount\", color='type',range_y=[0,220000], width=800, height=1200)\n",
    "fig.show()"
   ]
  },
  {
   "cell_type": "code",
   "execution_count": null,
   "id": "b585d650-d417-4b14-8ccc-b14783ce6194",
   "metadata": {},
   "outputs": [],
   "source": [
    "opt_trades_i"
   ]
  },
  {
   "cell_type": "markdown",
   "id": "b5cb622b-04ab-4a40-88c1-8e4848ed73ad",
   "metadata": {},
   "source": [
    "#### spread"
   ]
  },
  {
   "cell_type": "code",
   "execution_count": 2,
   "id": "8a497605-793a-46de-a082-0fd75aa18f34",
   "metadata": {},
   "outputs": [],
   "source": [
    "date_range = pd.date_range(datetime(2021,1,1), datetime(2021,10,31))"
   ]
  },
  {
   "cell_type": "code",
   "execution_count": 3,
   "id": "8e68090b-de43-4ef6-affa-71b5696df364",
   "metadata": {},
   "outputs": [],
   "source": [
    "exchange = 'deribit'"
   ]
  },
  {
   "cell_type": "code",
   "execution_count": 4,
   "id": "08e23bf7-9289-4eda-a9e3-e24429157e72",
   "metadata": {},
   "outputs": [],
   "source": [
    "data_type= 'quotes'\n",
    "date = date_range[0]\n",
    "symbol='OPTIONS'"
   ]
  },
  {
   "cell_type": "code",
   "execution_count": 5,
   "id": "9dd172f4-e8e0-434b-90b5-3e8f51655c69",
   "metadata": {},
   "outputs": [],
   "source": [
    "def date2quote_spread(date):\n",
    "    opt_quote = data_loader(exchange, date, data_type, symbol)\n",
    "\n",
    "    liq = opt_quote.groupby('symbol').count()['exchange'].sort_values(ascending=False)\n",
    "\n",
    "    liq_sym = liq[liq.index.str.contains('BTC')].index[0]\n",
    "\n",
    "    opt_quote_l = opt_quote.query('symbol==@liq_sym')\n",
    "\n",
    "    opt_quote_l = opt_quote_l[['symbol','timestamp','ask_price','bid_price']]\n",
    "\n",
    "    opt_quote_l['spread'] = opt_quote_l['ask_price']-opt_quote_l['bid_price']\n",
    "\n",
    "    opt_quote_l['mid'] = 0.5*(opt_quote_l['ask_price']+opt_quote_l['bid_price'])\n",
    "\n",
    "    opt_quote_l['spreadr'] = opt_quote_l['spread']/opt_quote_l['mid']\n",
    "\n",
    "    opt_quote_l1 = opt_quote_l.pipe(derU.parse_time_col).set_index('timestamp_dt').resample('1Min').last().iloc[1:,:].drop(columns=['timestamp'])\n",
    "\n",
    "    return opt_quote_l1"
   ]
  },
  {
   "cell_type": "code",
   "execution_count": null,
   "id": "9c5fe11a-5317-43e0-ac87-b2dd5336cb4d",
   "metadata": {
    "scrolled": true,
    "tags": []
   },
   "outputs": [],
   "source": [
    "ls = []\n",
    "for date in date_range:\n",
    "    print(date)\n",
    "    ls.append(date2quote_spread(date))"
   ]
  },
  {
   "cell_type": "code",
   "execution_count": 1,
   "id": "10237c7d-0c52-4e90-9058-8dd8fec5aeab",
   "metadata": {},
   "outputs": [
    {
     "ename": "NameError",
     "evalue": "name 'df_res' is not defined",
     "output_type": "error",
     "traceback": [
      "\u001b[1;31m---------------------------------------------------------------------------\u001b[0m",
      "\u001b[1;31mNameError\u001b[0m                                 Traceback (most recent call last)",
      "\u001b[1;32m~\\AppData\\Local\\Temp/ipykernel_29340/98753975.py\u001b[0m in \u001b[0;36m<module>\u001b[1;34m\u001b[0m\n\u001b[1;32m----> 1\u001b[1;33m \u001b[0mdf_res\u001b[0m\u001b[1;33m\u001b[0m\u001b[1;33m\u001b[0m\u001b[0m\n\u001b[0m",
      "\u001b[1;31mNameError\u001b[0m: name 'df_res' is not defined"
     ]
    }
   ],
   "source": [
    "df_res"
   ]
  },
  {
   "cell_type": "code",
   "execution_count": 10,
   "id": "9d2c4ff3-dbc1-49ed-91ba-58e56a0ab621",
   "metadata": {},
   "outputs": [],
   "source": [
    "df_res = pd.concat(ls)"
   ]
  },
  {
   "cell_type": "code",
   "execution_count": 23,
   "id": "09d51d09-975b-496b-b41d-5a695113be80",
   "metadata": {},
   "outputs": [
    {
     "data": {
      "text/html": [
       "<div>\n",
       "<style scoped>\n",
       "    .dataframe tbody tr th:only-of-type {\n",
       "        vertical-align: middle;\n",
       "    }\n",
       "\n",
       "    .dataframe tbody tr th {\n",
       "        vertical-align: top;\n",
       "    }\n",
       "\n",
       "    .dataframe thead th {\n",
       "        text-align: right;\n",
       "    }\n",
       "</style>\n",
       "<table border=\"1\" class=\"dataframe\">\n",
       "  <thead>\n",
       "    <tr style=\"text-align: right;\">\n",
       "      <th></th>\n",
       "      <th>ask_price</th>\n",
       "      <th>bid_price</th>\n",
       "      <th>spread</th>\n",
       "      <th>mid</th>\n",
       "      <th>spreadr</th>\n",
       "    </tr>\n",
       "  </thead>\n",
       "  <tbody>\n",
       "    <tr>\n",
       "      <th>count</th>\n",
       "      <td>385293.000000</td>\n",
       "      <td>392621.000000</td>\n",
       "      <td>383568.000000</td>\n",
       "      <td>383568.000000</td>\n",
       "      <td>383568.000000</td>\n",
       "    </tr>\n",
       "    <tr>\n",
       "      <th>mean</th>\n",
       "      <td>0.327633</td>\n",
       "      <td>0.303855</td>\n",
       "      <td>0.019695</td>\n",
       "      <td>0.319129</td>\n",
       "      <td>0.114927</td>\n",
       "    </tr>\n",
       "    <tr>\n",
       "      <th>std</th>\n",
       "      <td>0.761297</td>\n",
       "      <td>0.709166</td>\n",
       "      <td>0.077622</td>\n",
       "      <td>0.739460</td>\n",
       "      <td>0.245257</td>\n",
       "    </tr>\n",
       "    <tr>\n",
       "      <th>min</th>\n",
       "      <td>0.000500</td>\n",
       "      <td>0.000500</td>\n",
       "      <td>0.000500</td>\n",
       "      <td>0.000750</td>\n",
       "      <td>0.001059</td>\n",
       "    </tr>\n",
       "    <tr>\n",
       "      <th>25%</th>\n",
       "      <td>0.033000</td>\n",
       "      <td>0.031000</td>\n",
       "      <td>0.001500</td>\n",
       "      <td>0.032500</td>\n",
       "      <td>0.027027</td>\n",
       "    </tr>\n",
       "    <tr>\n",
       "      <th>50%</th>\n",
       "      <td>0.087000</td>\n",
       "      <td>0.082500</td>\n",
       "      <td>0.003000</td>\n",
       "      <td>0.085500</td>\n",
       "      <td>0.042553</td>\n",
       "    </tr>\n",
       "    <tr>\n",
       "      <th>75%</th>\n",
       "      <td>0.384000</td>\n",
       "      <td>0.342500</td>\n",
       "      <td>0.010500</td>\n",
       "      <td>0.372000</td>\n",
       "      <td>0.068966</td>\n",
       "    </tr>\n",
       "    <tr>\n",
       "      <th>max</th>\n",
       "      <td>5.750000</td>\n",
       "      <td>5.386000</td>\n",
       "      <td>5.724500</td>\n",
       "      <td>5.559500</td>\n",
       "      <td>1.999651</td>\n",
       "    </tr>\n",
       "  </tbody>\n",
       "</table>\n",
       "</div>"
      ],
      "text/plain": [
       "           ask_price      bid_price         spread            mid  \\\n",
       "count  385293.000000  392621.000000  383568.000000  383568.000000   \n",
       "mean        0.327633       0.303855       0.019695       0.319129   \n",
       "std         0.761297       0.709166       0.077622       0.739460   \n",
       "min         0.000500       0.000500       0.000500       0.000750   \n",
       "25%         0.033000       0.031000       0.001500       0.032500   \n",
       "50%         0.087000       0.082500       0.003000       0.085500   \n",
       "75%         0.384000       0.342500       0.010500       0.372000   \n",
       "max         5.750000       5.386000       5.724500       5.559500   \n",
       "\n",
       "             spreadr  \n",
       "count  383568.000000  \n",
       "mean        0.114927  \n",
       "std         0.245257  \n",
       "min         0.001059  \n",
       "25%         0.027027  \n",
       "50%         0.042553  \n",
       "75%         0.068966  \n",
       "max         1.999651  "
      ]
     },
     "execution_count": 23,
     "metadata": {},
     "output_type": "execute_result"
    }
   ],
   "source": [
    "df_res.describe()"
   ]
  },
  {
   "cell_type": "code",
   "execution_count": 22,
   "id": "ea42453c-6966-4e57-a32f-ab693f61ba3d",
   "metadata": {},
   "outputs": [
    {
     "data": {
      "text/plain": [
       "ask_price    5.361\n",
       "bid_price    4.968\n",
       "spread       0.369\n",
       "mid          5.169\n",
       "spreadr      1.000\n",
       "Name: 0.99, dtype: float64"
      ]
     },
     "execution_count": 22,
     "metadata": {},
     "output_type": "execute_result"
    }
   ],
   "source": [
    "df_res.quantile(0.99)"
   ]
  },
  {
   "cell_type": "code",
   "execution_count": 21,
   "id": "a76b6a9e-c294-4445-ad80-d317016f5480",
   "metadata": {},
   "outputs": [
    {
     "data": {
      "text/plain": [
       "ask_price    0.001500\n",
       "bid_price    0.000500\n",
       "spread       0.000500\n",
       "mid          0.001000\n",
       "spreadr      0.007905\n",
       "Name: 0.01, dtype: float64"
      ]
     },
     "execution_count": 21,
     "metadata": {},
     "output_type": "execute_result"
    }
   ],
   "source": [
    "df_res.quantile(0.01)"
   ]
  },
  {
   "cell_type": "code",
   "execution_count": 18,
   "id": "326f41c4-fbe8-4600-9782-5543eea1433b",
   "metadata": {},
   "outputs": [],
   "source": [
    "df_res.to_csv(os.path.join(LOCAL_DATA_DIR, 'quote_spread.csv'))"
   ]
  }
 ],
 "metadata": {
  "kernelspec": {
   "display_name": "Python 3 (ipykernel)",
   "language": "python",
   "name": "python3"
  },
  "language_info": {
   "codemirror_mode": {
    "name": "ipython",
    "version": 3
   },
   "file_extension": ".py",
   "mimetype": "text/x-python",
   "name": "python",
   "nbconvert_exporter": "python",
   "pygments_lexer": "ipython3",
   "version": "3.8.8"
  }
 },
 "nbformat": 4,
 "nbformat_minor": 5
}
