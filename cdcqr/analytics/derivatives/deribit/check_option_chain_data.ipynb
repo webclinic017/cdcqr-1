{
 "cells": [
  {
   "cell_type": "code",
   "execution_count": null,
   "id": "e14d8057-1c39-49cf-aea6-25502a2ade19",
   "metadata": {},
   "outputs": [],
   "source": [
    "from cdcqr.data.deribit.config import get_deribit_sample_data_url\n",
    "from cdcqr.data.deribit.data_utils import url_csv_zip_file_reader\n",
    "from cdcqr.analytics.derivatives.option_utils import euro_vanilla\n",
    "from cdcqr.analytics.derivatives.option_utils import find_vol\n",
    "from cdcqr.common.config import SECONDS_PER_DAY\n",
    "from cdcqr.analytics.derivatives.option_utils import euro_vanilla, Put\n",
    "import cdcqr.data.deribit.data_utils as datautils"
   ]
  },
  {
   "cell_type": "markdown",
   "id": "3508b544-673d-41ff-be9e-17e4484d906e",
   "metadata": {},
   "source": [
    "## Load Deribit sample data"
   ]
  },
  {
   "cell_type": "code",
   "execution_count": null,
   "id": "ad1189c7-9333-4eef-9b62-99c4c43729eb",
   "metadata": {},
   "outputs": [],
   "source": [
    "url = get_deribit_sample_data_url('OPTIONS', 'options_chain')\n",
    "df = url_csv_zip_file_reader(url)"
   ]
  },
  {
   "cell_type": "code",
   "execution_count": null,
   "id": "7f26b731-7b00-4347-b52f-6940706f6821",
   "metadata": {},
   "outputs": [],
   "source": [
    "df.head(2).T"
   ]
  },
  {
   "cell_type": "code",
   "execution_count": null,
   "id": "806eb2e5-0c0d-4957-ac4e-1ebbb6562578",
   "metadata": {},
   "outputs": [],
   "source": [
    "df1 = df.pipe(datautils.DeribitUtils.parse_optSymbol_col).pipe(datautils.DeribitUtils.parse_time_col)"
   ]
  },
  {
   "cell_type": "code",
   "execution_count": null,
   "id": "650212b1-39ce-4152-8da7-35f8c8196446",
   "metadata": {
    "tags": []
   },
   "outputs": [],
   "source": [
    "all_symbols = list(df1['symbol'].unique())\n",
    "all_symbols"
   ]
  },
  {
   "cell_type": "code",
   "execution_count": null,
   "id": "ddc5d027-8f43-4aaf-957e-32aaca626fc6",
   "metadata": {},
   "outputs": [],
   "source": [
    "dates = sorted(list(set([x.split('-')[1] for x in all_symbols])))"
   ]
  },
  {
   "cell_type": "code",
   "execution_count": null,
   "id": "bb9f7684-a9a2-46a8-873c-d0376e7c555e",
   "metadata": {},
   "outputs": [],
   "source": [
    "#df['timestamp_s'], df['microsec'] = zip(*df['timestamp'].apply(DataTimeUtils.epoch_time_converter, 1))\n",
    "#df['exp_timestamp_s'], df['exp_microsec'] = zip(*df['expiration'].apply(DataTimeUtils.epoch_time_converter, 1))"
   ]
  },
  {
   "cell_type": "code",
   "execution_count": null,
   "id": "05bff431-8528-40c1-98e1-1700cc52ea2e",
   "metadata": {},
   "outputs": [],
   "source": [
    "df1['underlying_index'].unique()"
   ]
  },
  {
   "cell_type": "code",
   "execution_count": null,
   "id": "3725537a-7dec-4886-bb3e-f347ed36541f",
   "metadata": {},
   "outputs": [],
   "source": [
    "opt1 = df.iloc[1,:]\n",
    "opt1"
   ]
  },
  {
   "cell_type": "markdown",
   "id": "587ef626-3c18-4821-983d-e3995a8c4ffb",
   "metadata": {},
   "source": [
    "### Verify BS formula"
   ]
  },
  {
   "cell_type": "code",
   "execution_count": null,
   "id": "b67634b0-c6a0-4a4d-bfa9-1e5862567516",
   "metadata": {},
   "outputs": [],
   "source": [
    "T = (opt1['expiration'] - opt1['timestamp'])/(1e6*SECONDS_PER_DAY*365)\n",
    "T"
   ]
  },
  {
   "cell_type": "code",
   "execution_count": null,
   "id": "38c82873-8e61-451f-b87d-2eef39dc8fce",
   "metadata": {},
   "outputs": [],
   "source": [
    "target_value = opt1['bid_price']\n",
    "S = opt1['underlying_price']\n",
    "K = opt1['strike_price']\n",
    "sigma = opt1['ask_iv']/100\n",
    "r = 0 "
   ]
  },
  {
   "cell_type": "code",
   "execution_count": null,
   "id": "862772b2-427c-4df6-a750-1bd19fe0391d",
   "metadata": {},
   "outputs": [],
   "source": [
    "print('S={},'.format(S), 'K={},'.format(K), 'T={},'.format(T), 'r={},'.format(r), 'sgima={},'.format(sigma))"
   ]
  },
  {
   "cell_type": "code",
   "execution_count": null,
   "id": "653a5f14-67fd-4b2e-8032-e9df7083b094",
   "metadata": {},
   "outputs": [],
   "source": [
    "put_ask_iv = euro_vanilla(S, K, T, r, sigma, option='put')"
   ]
  },
  {
   "cell_type": "code",
   "execution_count": null,
   "id": "1a799bf5-ad70-4212-a338-16d5b7467621",
   "metadata": {},
   "outputs": [],
   "source": [
    "put_ask_iv, opt1['ask_price']*opt1['underlying_price']"
   ]
  },
  {
   "cell_type": "markdown",
   "id": "71e436d2-1859-4342-9e57-1526af296a3c",
   "metadata": {},
   "source": [
    "### chceck greeks using opstrat"
   ]
  },
  {
   "cell_type": "code",
   "execution_count": null,
   "id": "e67ea2dd-365e-4305-8726-c3cefd557824",
   "metadata": {},
   "outputs": [],
   "source": [
    "Put.Price?"
   ]
  },
  {
   "cell_type": "code",
   "execution_count": null,
   "id": "46d8dd0c-5689-4c16-aff0-1e4ad30b09bf",
   "metadata": {},
   "outputs": [],
   "source": [
    "Put.Price(S, K, r, sigma, T)"
   ]
  },
  {
   "cell_type": "code",
   "execution_count": null,
   "id": "e2113e3a-d66c-4f2c-8b96-3d8ba895119d",
   "metadata": {},
   "outputs": [],
   "source": [
    "Put.Delta(S, K, r, sigma, T)"
   ]
  },
  {
   "cell_type": "code",
   "execution_count": null,
   "id": "79f69930-3057-4dd2-99ef-85e6d6c810f0",
   "metadata": {},
   "outputs": [],
   "source": [
    "Put.Gamma(S, K, r, sigma, T)"
   ]
  },
  {
   "cell_type": "code",
   "execution_count": null,
   "id": "464e0b02-5dd1-4249-a443-e31a5b818a35",
   "metadata": {},
   "outputs": [],
   "source": [
    "Put.Vega(S, K, r, sigma, T)/100"
   ]
  },
  {
   "cell_type": "code",
   "execution_count": null,
   "id": "6107c3b1-af23-4376-a79f-6f8dc79c0336",
   "metadata": {},
   "outputs": [],
   "source": [
    "Put.Theta(S, K, r, sigma, T)/365"
   ]
  },
  {
   "cell_type": "code",
   "execution_count": null,
   "id": "771273c0-e7f4-4cb2-a0f6-a94431353015",
   "metadata": {},
   "outputs": [],
   "source": [
    "Put.Rho(S, K, r, sigma, T)/100"
   ]
  },
  {
   "cell_type": "code",
   "execution_count": null,
   "id": "e89d66bb-825e-4867-aa8a-7abbf51637b3",
   "metadata": {},
   "outputs": [],
   "source": [
    "delta                          -0.61919\n",
    "gamma                           0.00109\n",
    "vega                            2.78342\n",
    "theta                         -28.40972\n",
    "rho                            -0.37467"
   ]
  },
  {
   "cell_type": "markdown",
   "id": "e1f82fa3-c5b8-474b-8c56-f1f211e3b2b0",
   "metadata": {},
   "source": [
    "### snapshot example from 30SEP2021"
   ]
  },
  {
   "cell_type": "code",
   "execution_count": null,
   "id": "4e756d59-21b8-46ca-8615-043f371082cb",
   "metadata": {},
   "outputs": [],
   "source": [
    "bid = 0.0095\n",
    "ask = 0.0105\n",
    "\n",
    "IV_bid = 0.854\n",
    "IV_ask = 0.874\n",
    "bid_price = 400.75\n",
    "ask_price = 421.84\n",
    "S = 42166\n",
    "K = 60000\n",
    "r=0\n",
    "T = 30/365\n",
    "sigma = IV_bid"
   ]
  },
  {
   "cell_type": "code",
   "execution_count": null,
   "id": "c28c0993-49e7-48e4-9cee-a3ed13ae920f",
   "metadata": {},
   "outputs": [],
   "source": [
    "print('S={},'.format(S), 'K={},'.format(K), 'T={},'.format(T), 'r={},'.format(r), 'sgima={},'.format(sigma))"
   ]
  },
  {
   "cell_type": "code",
   "execution_count": null,
   "id": "2c391f12-dc1d-45a8-8211-7ec2b97975e8",
   "metadata": {},
   "outputs": [],
   "source": [
    "call_price_IV_bid = euro_vanilla(S, K, T, r, IV_bid, option='call')\n",
    "print('call price using IV bid ({}) =  {} '.format(IV_bid, call_price_IV_bid))\n",
    "print('call bid price {}'.format(bid_price))\n",
    "\n",
    "call_price_IV_ask = euro_vanilla(S, K, T, r, IV_ask, option='call')\n",
    "print('call price using IV ask ({}) =  {} '.format(IV_ask, call_price_IV_ask))\n",
    "print('call ask price {}'.format(ask_price))"
   ]
  },
  {
   "cell_type": "code",
   "execution_count": null,
   "id": "20924045-c57c-416d-8602-f971307af485",
   "metadata": {},
   "outputs": [],
   "source": [
    "IV_bid = find_vol(bid_price, S, K, T, r)\n",
    "IV_ask = find_vol(ask_price, S, K, T, r)"
   ]
  },
  {
   "cell_type": "code",
   "execution_count": null,
   "id": "1db15505-c19a-4469-a867-eb3d3cb73937",
   "metadata": {},
   "outputs": [],
   "source": [
    "IV_bid, IV_ask"
   ]
  }
 ],
 "metadata": {
  "kernelspec": {
   "display_name": "Python 3 (ipykernel)",
   "language": "python",
   "name": "python3"
  },
  "language_info": {
   "codemirror_mode": {
    "name": "ipython",
    "version": 3
   },
   "file_extension": ".py",
   "mimetype": "text/x-python",
   "name": "python",
   "nbconvert_exporter": "python",
   "pygments_lexer": "ipython3",
   "version": "3.8.8"
  }
 },
 "nbformat": 4,
 "nbformat_minor": 5
}
