{
 "cells": [
  {
   "cell_type": "code",
   "execution_count": 2,
   "id": "2789b465-a802-4834-9a73-cac6fa944385",
   "metadata": {},
   "outputs": [],
   "source": [
    "from cdcqr.data.dataloader import data_loader\n",
    "from cdcqr.common.config import LOCAL_DATA_DIR\n"
   ]
  },
  {
   "cell_type": "code",
   "execution_count": 3,
   "id": "5e1f3d78-31ff-40a9-bdf3-949290537b38",
   "metadata": {},
   "outputs": [
    {
     "data": {
      "text/plain": [
       "\u001b[1;31mSignature:\u001b[0m \u001b[0mdata_loader\u001b[0m\u001b[1;33m(\u001b[0m\u001b[0mexchange\u001b[0m\u001b[1;33m,\u001b[0m \u001b[0mdate\u001b[0m\u001b[1;33m,\u001b[0m \u001b[0mdata_type\u001b[0m\u001b[1;33m,\u001b[0m \u001b[0msymbol\u001b[0m\u001b[1;33m,\u001b[0m \u001b[0mcondtition\u001b[0m\u001b[1;33m=\u001b[0m\u001b[1;33m[\u001b[0m\u001b[1;33m]\u001b[0m\u001b[1;33m)\u001b[0m\u001b[1;33m\u001b[0m\u001b[1;33m\u001b[0m\u001b[0m\n",
       "\u001b[1;31mDocstring:\u001b[0m <no docstring>\n",
       "\u001b[1;31mFile:\u001b[0m      c:\\users\\wang\\documents\\github\\cdcqr\\cdcqr\\data\\dataloader.py\n",
       "\u001b[1;31mType:\u001b[0m      function\n"
      ]
     },
     "metadata": {},
     "output_type": "display_data"
    }
   ],
   "source": [
    "data_loader?"
   ]
  },
  {
   "cell_type": "code",
   "execution_count": 4,
   "id": "2d03b154-8a37-43ed-ab6d-1e7f9985d225",
   "metadata": {},
   "outputs": [],
   "source": [
    "exchange = 'deribit'\n",
    "date = '2021-06-04'\n",
    "data_type = 'options_chain'\n",
    "symbol = 'options'\n",
    "df = data_loader(exchange, date, data_type, symbol)"
   ]
  },
  {
   "cell_type": "code",
   "execution_count": null,
   "id": "699a3fca-78b0-47be-b957-3d4ccf4b3ade",
   "metadata": {},
   "outputs": [],
   "source": [
    "df.head()"
   ]
  }
 ],
 "metadata": {
  "kernelspec": {
   "display_name": "Python 3 (ipykernel)",
   "language": "python",
   "name": "python3"
  },
  "language_info": {
   "codemirror_mode": {
    "name": "ipython",
    "version": 3
   },
   "file_extension": ".py",
   "mimetype": "text/x-python",
   "name": "python",
   "nbconvert_exporter": "python",
   "pygments_lexer": "ipython3",
   "version": "3.8.8"
  }
 },
 "nbformat": 4,
 "nbformat_minor": 5
}
