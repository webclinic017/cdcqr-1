{
 "cells": [
  {
   "cell_type": "markdown",
   "id": "910e38aa-dc36-4e1d-81ae-8312a7bb84f9",
   "metadata": {},
   "source": [
    "### Combine quote and trade data with additional features for analysis\n",
    "   * compare results for both options and PERP\n"
   ]
  },
  {
   "cell_type": "code",
   "execution_count": 1,
   "id": "29cb0639-3111-471a-ab32-7dafe94cbbca",
   "metadata": {},
   "outputs": [],
   "source": [
    "from cdcqr.data.deribit.data_utils import quoto_and_trade_analysis"
   ]
  },
  {
   "cell_type": "code",
   "execution_count": 2,
   "id": "e23f9d7e-8866-4c81-ab39-a69810cd9da0",
   "metadata": {},
   "outputs": [
    {
     "data": {
      "text/plain": [
       "\u001b[1;31mSignature:\u001b[0m\n",
       "\u001b[0mquoto_and_trade_analysis\u001b[0m\u001b[1;33m(\u001b[0m\u001b[1;33m\n",
       "\u001b[0m    \u001b[0mcontract\u001b[0m\u001b[1;33m=\u001b[0m\u001b[1;34m'BTC-8OCT21-48000-C'\u001b[0m\u001b[1;33m,\u001b[0m\u001b[1;33m\n",
       "\u001b[0m    \u001b[0mdate\u001b[0m\u001b[1;33m=\u001b[0m\u001b[1;34m'2021-10-01'\u001b[0m\u001b[1;33m,\u001b[0m\u001b[1;33m\n",
       "\u001b[0m    \u001b[0msymbol\u001b[0m\u001b[1;33m=\u001b[0m\u001b[1;34m'OPTIONS'\u001b[0m\u001b[1;33m,\u001b[0m\u001b[1;33m\n",
       "\u001b[0m    \u001b[0mexchange\u001b[0m\u001b[1;33m=\u001b[0m\u001b[1;34m'deribit'\u001b[0m\u001b[1;33m,\u001b[0m\u001b[1;33m\n",
       "\u001b[0m\u001b[1;33m)\u001b[0m\u001b[1;33m\u001b[0m\u001b[1;33m\u001b[0m\u001b[0m\n",
       "\u001b[1;31mDocstring:\u001b[0m <no docstring>\n",
       "\u001b[1;31mFile:\u001b[0m      c:\\users\\wang\\documents\\github\\cdcqr\\cdcqr\\data\\deribit\\data_utils.py\n",
       "\u001b[1;31mType:\u001b[0m      function\n"
      ]
     },
     "metadata": {},
     "output_type": "display_data"
    }
   ],
   "source": [
    "quoto_and_trade_analysis?"
   ]
  },
  {
   "cell_type": "markdown",
   "id": "7c851c5e-973d-4896-8f08-4085cf9f410a",
   "metadata": {},
   "source": [
    "#### check options"
   ]
  },
  {
   "cell_type": "code",
   "execution_count": 3,
   "id": "194a3094-ce60-4e45-89a2-88d755bf64a9",
   "metadata": {},
   "outputs": [
    {
     "name": "stdout",
     "output_type": "stream",
     "text": [
      "processing data BTC-8OCT21-48000-C 2021-10-01 deribit\n",
      "'parse_optSymbol_col'  17.13 sec\n",
      "'parse_time_col'  6.91 sec\n"
     ]
    }
   ],
   "source": [
    "ret_dict, ret_df = quoto_and_trade_analysis()"
   ]
  },
  {
   "cell_type": "code",
   "execution_count": 4,
   "id": "e3e96ab6-df92-4b6c-9ab3-6941ae05962d",
   "metadata": {},
   "outputs": [
    {
     "data": {
      "text/plain": [
       "{'num_trades': 220, 'num_midp_chg': 4877, 'num_wgtmidp_chg': 31305}"
      ]
     },
     "execution_count": 4,
     "metadata": {},
     "output_type": "execute_result"
    }
   ],
   "source": [
    "ret_dict"
   ]
  },
  {
   "cell_type": "code",
   "execution_count": 7,
   "id": "632aee52-04d5-4f56-a3d3-d961be7b01a8",
   "metadata": {},
   "outputs": [],
   "source": [
    "ret_df['spread'].plot()"
   ]
  },
  {
   "cell_type": "code",
   "execution_count": 12,
   "id": "0c3c918d-fc04-4f14-a40e-ffd72de716be",
   "metadata": {},
   "outputs": [
    {
     "data": {
      "text/plain": [
       "\u001b[1;31mSignature:\u001b[0m\n",
       "\u001b[0mquoto_and_trade_analysis\u001b[0m\u001b[1;33m(\u001b[0m\u001b[1;33m\n",
       "\u001b[0m    \u001b[0mcontract\u001b[0m\u001b[1;33m=\u001b[0m\u001b[1;34m'BTC-8OCT21-48000-C'\u001b[0m\u001b[1;33m,\u001b[0m\u001b[1;33m\n",
       "\u001b[0m    \u001b[0mdate\u001b[0m\u001b[1;33m=\u001b[0m\u001b[1;34m'2021-10-01'\u001b[0m\u001b[1;33m,\u001b[0m\u001b[1;33m\n",
       "\u001b[0m    \u001b[0msymbol\u001b[0m\u001b[1;33m=\u001b[0m\u001b[1;34m'OPTIONS'\u001b[0m\u001b[1;33m,\u001b[0m\u001b[1;33m\n",
       "\u001b[0m    \u001b[0mexchange\u001b[0m\u001b[1;33m=\u001b[0m\u001b[1;34m'deribit'\u001b[0m\u001b[1;33m,\u001b[0m\u001b[1;33m\n",
       "\u001b[0m\u001b[1;33m)\u001b[0m\u001b[1;33m\u001b[0m\u001b[1;33m\u001b[0m\u001b[0m\n",
       "\u001b[1;31mDocstring:\u001b[0m <no docstring>\n",
       "\u001b[1;31mFile:\u001b[0m      c:\\users\\wang\\documents\\github\\cdcqr\\cdcqr\\data\\deribit\\data_utils.py\n",
       "\u001b[1;31mType:\u001b[0m      function\n"
      ]
     },
     "metadata": {},
     "output_type": "display_data"
    }
   ],
   "source": [
    "quoto_and_trade_analysis?"
   ]
  },
  {
   "cell_type": "code",
   "execution_count": 10,
   "id": "0e2654cb-96bf-4690-b1ef-636c9c46fed4",
   "metadata": {},
   "outputs": [
    {
     "data": {
      "text/plain": [
       "<AxesSubplot:xlabel='timestamp_dt'>"
      ]
     },
     "execution_count": 10,
     "metadata": {},
     "output_type": "execute_result"
    },
    {
     "data": {
      "image/png": "[encoded data removed]",
      "text/plain": [
       "<Figure size 432x288 with 1 Axes>"
      ]
     },
     "metadata": {
      "needs_background": "light"
     },
     "output_type": "display_data"
    }
   ],
   "source": [
    "ret_df.set_index('timestamp_dt')['spread'].plot()"
   ]
  },
  {
   "cell_type": "markdown",
   "id": "209c9058-62e2-473e-95d3-ceb481893e9e",
   "metadata": {},
   "source": [
    "#### check PERP"
   ]
  },
  {
   "cell_type": "code",
   "execution_count": 6,
   "id": "918344a1-ed0c-457d-93b5-9894223eb942",
   "metadata": {},
   "outputs": [
    {
     "name": "stdout",
     "output_type": "stream",
     "text": [
      "processing data BTC-PERPETUAL 2021-10-01 deribit\n"
     ]
    }
   ],
   "source": [
    "ret_dict, ret_df = quoto_and_trade_analysis( contract='BTC-PERPETUAL',\n",
    "    date='2021-10-01',\n",
    "    symbol='BTC-PERPETUAL',\n",
    "    exchange='deribit',)"
   ]
  },
  {
   "cell_type": "code",
   "execution_count": 7,
   "id": "77aff2c6-e572-48d2-b6eb-2f6ab7499be6",
   "metadata": {},
   "outputs": [
    {
     "data": {
      "text/plain": [
       "{'num_trades': 93564, 'num_midp_chg': 410809, 'num_wgtmidp_chg': 1056088}"
      ]
     },
     "execution_count": 7,
     "metadata": {},
     "output_type": "execute_result"
    }
   ],
   "source": [
    "ret_dict"
   ]
  },
  {
   "cell_type": "code",
   "execution_count": 8,
   "id": "164778b9-5e93-4921-8e76-4f66494fef7b",
   "metadata": {},
   "outputs": [
    {
     "data": {
      "text/html": [
       "<div>\n",
       "<style scoped>\n",
       "    .dataframe tbody tr th:only-of-type {\n",
       "        vertical-align: middle;\n",
       "    }\n",
       "\n",
       "    .dataframe tbody tr th {\n",
       "        vertical-align: top;\n",
       "    }\n",
       "\n",
       "    .dataframe thead th {\n",
       "        text-align: right;\n",
       "    }\n",
       "</style>\n",
       "<table border=\"1\" class=\"dataframe\">\n",
       "  <thead>\n",
       "    <tr style=\"text-align: right;\">\n",
       "      <th></th>\n",
       "      <th>exchange</th>\n",
       "      <th>symbol</th>\n",
       "      <th>timestamp</th>\n",
       "      <th>local_timestamp</th>\n",
       "      <th>ask_amount</th>\n",
       "      <th>ask_price</th>\n",
       "      <th>bid_price</th>\n",
       "      <th>bid_amount</th>\n",
       "      <th>timestamp_dt</th>\n",
       "      <th>flow</th>\n",
       "      <th>has_trade</th>\n",
       "      <th>trade_neighbour</th>\n",
       "      <th>mid_price</th>\n",
       "      <th>wgt_mid_price</th>\n",
       "      <th>midp_chg</th>\n",
       "      <th>wgtmidp_chg</th>\n",
       "    </tr>\n",
       "  </thead>\n",
       "  <tbody>\n",
       "    <tr>\n",
       "      <th>0</th>\n",
       "      <td>deribit</td>\n",
       "      <td>BTC-PERPETUAL</td>\n",
       "      <td>1633046400147000</td>\n",
       "      <td>1633046400187795</td>\n",
       "      <td>12570</td>\n",
       "      <td>43821.5</td>\n",
       "      <td>43821.0</td>\n",
       "      <td>391820</td>\n",
       "      <td>2021-10-01 00:00:00.147</td>\n",
       "      <td>0.0</td>\n",
       "      <td>NaN</td>\n",
       "      <td>False</td>\n",
       "      <td>43821.25</td>\n",
       "      <td>43821.015542</td>\n",
       "      <td>NaN</td>\n",
       "      <td>NaN</td>\n",
       "    </tr>\n",
       "    <tr>\n",
       "      <th>1</th>\n",
       "      <td>deribit</td>\n",
       "      <td>BTC-PERPETUAL</td>\n",
       "      <td>1633046400401000</td>\n",
       "      <td>1633046400407847</td>\n",
       "      <td>13570</td>\n",
       "      <td>43821.5</td>\n",
       "      <td>43821.0</td>\n",
       "      <td>391820</td>\n",
       "      <td>2021-10-01 00:00:00.401</td>\n",
       "      <td>0.0</td>\n",
       "      <td>NaN</td>\n",
       "      <td>False</td>\n",
       "      <td>43821.25</td>\n",
       "      <td>43821.016737</td>\n",
       "      <td>0.0</td>\n",
       "      <td>2.727098e-08</td>\n",
       "    </tr>\n",
       "    <tr>\n",
       "      <th>2</th>\n",
       "      <td>deribit</td>\n",
       "      <td>BTC-PERPETUAL</td>\n",
       "      <td>1633046401176000</td>\n",
       "      <td>1633046401194893</td>\n",
       "      <td>13570</td>\n",
       "      <td>43821.5</td>\n",
       "      <td>43821.0</td>\n",
       "      <td>396570</td>\n",
       "      <td>2021-10-01 00:00:01.176</td>\n",
       "      <td>0.0</td>\n",
       "      <td>NaN</td>\n",
       "      <td>False</td>\n",
       "      <td>43821.25</td>\n",
       "      <td>43821.016543</td>\n",
       "      <td>0.0</td>\n",
       "      <td>-4.423396e-09</td>\n",
       "    </tr>\n",
       "    <tr>\n",
       "      <th>3</th>\n",
       "      <td>deribit</td>\n",
       "      <td>BTC-PERPETUAL</td>\n",
       "      <td>1633046401183000</td>\n",
       "      <td>1633046401208929</td>\n",
       "      <td>13570</td>\n",
       "      <td>43821.5</td>\n",
       "      <td>43821.0</td>\n",
       "      <td>401570</td>\n",
       "      <td>2021-10-01 00:00:01.183</td>\n",
       "      <td>0.0</td>\n",
       "      <td>NaN</td>\n",
       "      <td>False</td>\n",
       "      <td>43821.25</td>\n",
       "      <td>43821.016344</td>\n",
       "      <td>0.0</td>\n",
       "      <td>-4.546851e-09</td>\n",
       "    </tr>\n",
       "    <tr>\n",
       "      <th>4</th>\n",
       "      <td>deribit</td>\n",
       "      <td>BTC-PERPETUAL</td>\n",
       "      <td>1633046401184000</td>\n",
       "      <td>1633046401208930</td>\n",
       "      <td>13570</td>\n",
       "      <td>43821.5</td>\n",
       "      <td>43821.0</td>\n",
       "      <td>401820</td>\n",
       "      <td>2021-10-01 00:00:01.184</td>\n",
       "      <td>0.0</td>\n",
       "      <td>NaN</td>\n",
       "      <td>False</td>\n",
       "      <td>43821.25</td>\n",
       "      <td>43821.016334</td>\n",
       "      <td>0.0</td>\n",
       "      <td>-2.244692e-10</td>\n",
       "    </tr>\n",
       "  </tbody>\n",
       "</table>\n",
       "</div>"
      ],
      "text/plain": [
       "  exchange         symbol         timestamp   local_timestamp  ask_amount  \\\n",
       "0  deribit  BTC-PERPETUAL  1633046400147000  1633046400187795       12570   \n",
       "1  deribit  BTC-PERPETUAL  1633046400401000  1633046400407847       13570   \n",
       "2  deribit  BTC-PERPETUAL  1633046401176000  1633046401194893       13570   \n",
       "3  deribit  BTC-PERPETUAL  1633046401183000  1633046401208929       13570   \n",
       "4  deribit  BTC-PERPETUAL  1633046401184000  1633046401208930       13570   \n",
       "\n",
       "   ask_price  bid_price  bid_amount            timestamp_dt  flow has_trade  \\\n",
       "0    43821.5    43821.0      391820 2021-10-01 00:00:00.147   0.0       NaN   \n",
       "1    43821.5    43821.0      391820 2021-10-01 00:00:00.401   0.0       NaN   \n",
       "2    43821.5    43821.0      396570 2021-10-01 00:00:01.176   0.0       NaN   \n",
       "3    43821.5    43821.0      401570 2021-10-01 00:00:01.183   0.0       NaN   \n",
       "4    43821.5    43821.0      401820 2021-10-01 00:00:01.184   0.0       NaN   \n",
       "\n",
       "   trade_neighbour  mid_price  wgt_mid_price  midp_chg   wgtmidp_chg  \n",
       "0            False   43821.25   43821.015542       NaN           NaN  \n",
       "1            False   43821.25   43821.016737       0.0  2.727098e-08  \n",
       "2            False   43821.25   43821.016543       0.0 -4.423396e-09  \n",
       "3            False   43821.25   43821.016344       0.0 -4.546851e-09  \n",
       "4            False   43821.25   43821.016334       0.0 -2.244692e-10  "
      ]
     },
     "execution_count": 8,
     "metadata": {},
     "output_type": "execute_result"
    }
   ],
   "source": [
    "ret_df.head()"
   ]
  }
 ],
 "metadata": {
  "kernelspec": {
   "display_name": "Python 3 (ipykernel)",
   "language": "python",
   "name": "python3"
  },
  "language_info": {
   "codemirror_mode": {
    "name": "ipython",
    "version": 3
   },
   "file_extension": ".py",
   "mimetype": "text/x-python",
   "name": "python",
   "nbconvert_exporter": "python",
   "pygments_lexer": "ipython3",
   "version": "3.8.8"
  }
 },
 "nbformat": 4,
 "nbformat_minor": 5
}
