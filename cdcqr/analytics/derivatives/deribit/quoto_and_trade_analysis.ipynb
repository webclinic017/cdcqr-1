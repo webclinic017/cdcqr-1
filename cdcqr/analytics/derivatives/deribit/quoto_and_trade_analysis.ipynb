{
 "cells": [
  {
   "cell_type": "markdown",
   "id": "910e38aa-dc36-4e1d-81ae-8312a7bb84f9",
   "metadata": {},
   "source": [
    "### Combine quote and trade data with additional features for analysis\n",
    "   * compare results for both options and PERP\n"
   ]
  },
  {
   "cell_type": "code",
   "execution_count": null,
   "id": "29cb0639-3111-471a-ab32-7dafe94cbbca",
   "metadata": {},
   "outputs": [],
   "source": [
    "from cdcqr.data.deribit.data_utils import quoto_and_trade_analysis"
   ]
  },
  {
   "cell_type": "code",
   "execution_count": null,
   "id": "e23f9d7e-8866-4c81-ab39-a69810cd9da0",
   "metadata": {},
   "outputs": [],
   "source": [
    "quoto_and_trade_analysis?"
   ]
  },
  {
   "cell_type": "markdown",
   "id": "7c851c5e-973d-4896-8f08-4085cf9f410a",
   "metadata": {},
   "source": [
    "#### check options"
   ]
  },
  {
   "cell_type": "code",
   "execution_count": null,
   "id": "194a3094-ce60-4e45-89a2-88d755bf64a9",
   "metadata": {},
   "outputs": [],
   "source": [
    "ret_dict, ret_df = quoto_and_trade_analysis()"
   ]
  },
  {
   "cell_type": "code",
   "execution_count": null,
   "id": "e3e96ab6-df92-4b6c-9ab3-6941ae05962d",
   "metadata": {},
   "outputs": [],
   "source": [
    "ret_dict"
   ]
  },
  {
   "cell_type": "code",
   "execution_count": null,
   "id": "632aee52-04d5-4f56-a3d3-d961be7b01a8",
   "metadata": {},
   "outputs": [],
   "source": [
    "ret_df['spread'].plot()"
   ]
  },
  {
   "cell_type": "code",
   "execution_count": null,
   "id": "0c3c918d-fc04-4f14-a40e-ffd72de716be",
   "metadata": {},
   "outputs": [],
   "source": [
    "quoto_and_trade_analysis?"
   ]
  },
  {
   "cell_type": "code",
   "execution_count": null,
   "id": "0e2654cb-96bf-4690-b1ef-636c9c46fed4",
   "metadata": {},
   "outputs": [],
   "source": [
    "ret_df.set_index('timestamp_dt')['spread'].plot()"
   ]
  },
  {
   "cell_type": "markdown",
   "id": "209c9058-62e2-473e-95d3-ceb481893e9e",
   "metadata": {},
   "source": [
    "#### check PERP"
   ]
  },
  {
   "cell_type": "code",
   "execution_count": null,
   "id": "918344a1-ed0c-457d-93b5-9894223eb942",
   "metadata": {},
   "outputs": [],
   "source": [
    "ret_dict, ret_df = quoto_and_trade_analysis( contract='BTC-PERPETUAL',\n",
    "    date='2021-10-01',\n",
    "    symbol='BTC-PERPETUAL',\n",
    "    exchange='deribit',)"
   ]
  },
  {
   "cell_type": "code",
   "execution_count": null,
   "id": "77aff2c6-e572-48d2-b6eb-2f6ab7499be6",
   "metadata": {},
   "outputs": [],
   "source": [
    "ret_dict"
   ]
  },
  {
   "cell_type": "code",
   "execution_count": null,
   "id": "164778b9-5e93-4921-8e76-4f66494fef7b",
   "metadata": {},
   "outputs": [],
   "source": [
    "ret_df.head()"
   ]
  }
 ],
 "metadata": {
  "kernelspec": {
   "display_name": "Python 3 (ipykernel)",
   "language": "python",
   "name": "python3"
  },
  "language_info": {
   "codemirror_mode": {
    "name": "ipython",
    "version": 3
   },
   "file_extension": ".py",
   "mimetype": "text/x-python",
   "name": "python",
   "nbconvert_exporter": "python",
   "pygments_lexer": "ipython3",
   "version": "3.8.8"
  }
 },
 "nbformat": 4,
 "nbformat_minor": 5
}
