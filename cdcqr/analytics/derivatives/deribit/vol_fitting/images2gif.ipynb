{
 "cells": [
  {
   "cell_type": "markdown",
   "id": "5da3577b-9ad3-4c3c-b331-19bcfcc490a3",
   "metadata": {},
   "source": [
    "### Converting Images to gif"
   ]
  },
  {
   "cell_type": "code",
   "execution_count": null,
   "id": "3b888a50-f4d3-4601-bfa1-bac30a4d465f",
   "metadata": {},
   "outputs": [],
   "source": [
    "from PIL import Image\n",
    "import glob\n",
    "from cdcqr.common.config import LOCAL_FIGURE_DIR\n",
    "import os\n",
    "import pandas as pd\n",
    "from datetime import datetime, timedelta"
   ]
  },
  {
   "cell_type": "code",
   "execution_count": null,
   "id": "3ed0001b-46bb-4907-9b4d-6e9af1200ad1",
   "metadata": {},
   "outputs": [],
   "source": [
    "dir_202104 = os.path.join(LOCAL_FIGURE_DIR, 'volfit', '202104')\n",
    "dir_202105 = os.path.join(LOCAL_FIGURE_DIR, 'volfit', '202105')"
   ]
  },
  {
   "cell_type": "markdown",
   "id": "11e42552-02cd-4045-bf03-49b83094bcd7",
   "metadata": {
    "tags": []
   },
   "source": [
    "### spikes in 202104"
   ]
  },
  {
   "cell_type": "code",
   "execution_count": null,
   "id": "1ea87e5c-9818-4e20-8eeb-c7fa5ee56cfd",
   "metadata": {
    "tags": []
   },
   "outputs": [],
   "source": [
    "for date_ in pd.date_range(datetime(2021,4,17), datetime(2021,4,19)):\n",
    "    date_str8 = date_.strftime(\"%Y%m%d\")\n",
    "    date_str6 = date_.strftime(\"%Y%m\")\n",
    "    print(date_str8)\n",
    "    spike_files = ['{}.png'.format(x.strftime(\"%Y%m%d%H%M%S\")) for x in pd.date_range(date_, date_+timedelta(days=1) , freq='5min')]\n",
    "    spike_files_full_path = [os.path.join(LOCAL_FIGURE_DIR, 'volfit', date_str6, x) for x in spike_files]\n",
    "    frames = []\n",
    "    for i in spike_files_full_path:\n",
    "        try:\n",
    "            a = Image.open(i)\n",
    "            frames.append(a)\n",
    "        except:\n",
    "            print(i, 'not exist')\n",
    "            pass\n",
    "    frames[0].save(os.path.join(LOCAL_FIGURE_DIR, 'volfit', 'gif', '{}.gif'.format(date_str8)), format='GIF', append_images=frames[1:], save_all=True, duration=300, loop=0)"
   ]
  },
  {
   "cell_type": "markdown",
   "id": "c7b768d1-91ff-4719-ad6b-23739c0a33aa",
   "metadata": {},
   "source": [
    "### spikes in 202105"
   ]
  },
  {
   "cell_type": "code",
   "execution_count": null,
   "id": "3901f9be-cff1-4277-a379-d9b7ed8feed9",
   "metadata": {
    "tags": []
   },
   "outputs": [],
   "source": [
    "for date_ in pd.date_range(datetime(2021,5,16), datetime(2021,5,21)):\n",
    "    date_str8 = date_.strftime(\"%Y%m%d\")\n",
    "    date_str6 = date_.strftime(\"%Y%m\")\n",
    "    print(date_str8)\n",
    "    spike_files = ['{}.png'.format(x.strftime(\"%Y%m%d%H%M%S\")) for x in pd.date_range(date_, date_+timedelta(days=1) , freq='5min')]\n",
    "    spike_files_full_path = [os.path.join(LOCAL_FIGURE_DIR, 'volfit', date_str6, x) for x in spike_files]\n",
    "    frames = []\n",
    "    for i in spike_files_full_path:\n",
    "        try:\n",
    "            a = Image.open(i)\n",
    "            frames.append(a)\n",
    "        except:\n",
    "            print(i, 'not exist')\n",
    "            pass\n",
    "    frames[0].save(os.path.join(LOCAL_FIGURE_DIR, 'volfit', 'gif', '{}.gif'.format(date_str8)), format='GIF', append_images=frames[1:], save_all=True, duration=300, loop=0)"
   ]
  },
  {
   "cell_type": "markdown",
   "id": "728ba617-83e6-4069-b148-bf789e85137f",
   "metadata": {},
   "source": [
    "### spikes in 202108"
   ]
  },
  {
   "cell_type": "code",
   "execution_count": null,
   "id": "9089fd0f-caf3-41c3-8c54-695be896c4ef",
   "metadata": {},
   "outputs": [],
   "source": [
    "for date_ in pd.date_range(datetime(2021,8,29), datetime(2021,8,31)):\n",
    "    date_str8 = date_.strftime(\"%Y%m%d\")\n",
    "    date_str6 = date_.strftime(\"%Y%m\")\n",
    "    print(date_str8)\n",
    "    spike_files = ['{}.png'.format(x.strftime(\"%Y%m%d%H%M%S\")) for x in pd.date_range(date_, date_+timedelta(days=1) , freq='5min')]\n",
    "    spike_files_full_path = [os.path.join(LOCAL_FIGURE_DIR, 'volfit', date_str6, x) for x in spike_files]\n",
    "    frames = []\n",
    "    for i in spike_files_full_path:\n",
    "        try:\n",
    "            a = Image.open(i)\n",
    "            frames.append(a)\n",
    "        except:\n",
    "            print(i, 'not exist')\n",
    "            pass\n",
    "    frames[0].save(os.path.join(LOCAL_FIGURE_DIR, 'volfit', 'gif', '{}.gif'.format(date_str8)), format='GIF', append_images=frames[1:], save_all=True, duration=300, loop=0)"
   ]
  },
  {
   "cell_type": "code",
   "execution_count": null,
   "id": "45205b8a-ccf8-4e22-8ea1-311cd374f8a4",
   "metadata": {},
   "outputs": [],
   "source": [
    "! pip install MoviePy"
   ]
  },
  {
   "cell_type": "code",
   "execution_count": null,
   "id": "1cf126f5-a26f-481f-9441-7666ef097401",
   "metadata": {},
   "outputs": [],
   "source": [
    "import moviepy.editor as mp\n",
    "\n",
    "clip = mp.VideoFileClip(os.path.join(volfit_dir, \"volfit.gif\"))"
   ]
  },
  {
   "cell_type": "code",
   "execution_count": null,
   "id": "e7074a10-5c36-4942-8ca1-a84299e726ae",
   "metadata": {},
   "outputs": [],
   "source": [
    "clip"
   ]
  },
  {
   "cell_type": "code",
   "execution_count": null,
   "id": "c2e74809-5e27-462c-a9c6-5bfd2aa8d9b7",
   "metadata": {},
   "outputs": [],
   "source": [
    "os.path.join(volfit_dir, \"myvedio.mp4\")"
   ]
  },
  {
   "cell_type": "code",
   "execution_count": null,
   "id": "26ac37a5-a958-49e6-b1a7-33e2ccbea713",
   "metadata": {},
   "outputs": [],
   "source": [
    "clip.write_videofile(os.path.join(volfit_dir, \"myvedio.mp4\"))"
   ]
  }
 ],
 "metadata": {
  "kernelspec": {
   "display_name": "Python 3 (ipykernel)",
   "language": "python",
   "name": "python3"
  },
  "language_info": {
   "codemirror_mode": {
    "name": "ipython",
    "version": 3
   },
   "file_extension": ".py",
   "mimetype": "text/x-python",
   "name": "python",
   "nbconvert_exporter": "python",
   "pygments_lexer": "ipython3",
   "version": "3.8.8"
  }
 },
 "nbformat": 4,
 "nbformat_minor": 5
}
