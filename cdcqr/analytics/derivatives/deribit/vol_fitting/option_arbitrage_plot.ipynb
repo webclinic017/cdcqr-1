{
 "cells": [
  {
   "cell_type": "code",
   "execution_count": null,
   "id": "fa51f368-9023-48f0-9a11-867949e369bd",
   "metadata": {},
   "outputs": [],
   "source": [
    "import pandas as pd\n",
    "import numpy as np\n",
    "import plotly.express as px\n",
    "#import plotly as plotly\n",
    "#import plotly.graph_objs as go"
   ]
  },
  {
   "cell_type": "code",
   "execution_count": null,
   "id": "4600a58d-e205-44e9-9c88-1b152f5748ad",
   "metadata": {},
   "outputs": [],
   "source": [
    "fig3c = go.Figure(data=fig1c.data + fig2.data,)\n",
    "fig3c.update_layout(\n",
    "    autosize=False,\n",
    "    width=1500,\n",
    "    height=1200,\n",
    "    title='BTC price and total amount v.s. underlying & PERP')\n",
    "fig3c.show()\n",
    "fig3c.write_html(os.path.join(LOCAL_FIGURE_DIR, 'option_book', '202105', \"BTC_options_20210519_20211231_all_quotes.html\"))"
   ]
  },
  {
   "cell_type": "code",
   "execution_count": null,
   "id": "1c0c1ee3-8a7a-4298-9852-97f99bab53a1",
   "metadata": {},
   "outputs": [],
   "source": [
    "# data from book_underly_interactive_plot \n",
    "%store -r df_combined_ext_20211029"
   ]
  },
  {
   "cell_type": "code",
   "execution_count": null,
   "id": "4cb93b01-1af8-4469-8823-7c3ebf0cdc2e",
   "metadata": {},
   "outputs": [],
   "source": [
    "df_combined_ext_20211029"
   ]
  },
  {
   "cell_type": "code",
   "execution_count": null,
   "id": "28d2dba1-30a4-4821-979d-7185ad61264f",
   "metadata": {},
   "outputs": [],
   "source": [
    "fig = px.scatter(df_combined_ext_20211029, x=df_combined_ext_20211029.index, y=[['ask_price','bid_price']], color=\"C-source\")\n",
    "fig.show()"
   ]
  },
  {
   "cell_type": "code",
   "execution_count": null,
   "id": "b68d76ab-6def-4138-9b09-4657fc4163ae",
   "metadata": {},
   "outputs": [],
   "source": []
  }
 ],
 "metadata": {
  "kernelspec": {
   "display_name": "Python 3 (ipykernel)",
   "language": "python",
   "name": "python3"
  },
  "language_info": {
   "codemirror_mode": {
    "name": "ipython",
    "version": 3
   },
   "file_extension": ".py",
   "mimetype": "text/x-python",
   "name": "python",
   "nbconvert_exporter": "python",
   "pygments_lexer": "ipython3",
   "version": "3.8.8"
  }
 },
 "nbformat": 4,
 "nbformat_minor": 5
}
