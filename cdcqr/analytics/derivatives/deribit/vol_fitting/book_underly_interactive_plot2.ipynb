{
 "cells": [
  {
   "cell_type": "markdown",
   "id": "f6256476-115b-41c6-91a3-55783802d9b7",
   "metadata": {
    "tags": []
   },
   "source": [
    "## plot strike, bid/ask, call, put amount v.s. PERP and underlying\n",
    "   * using different marker size to represent amount of bid/ask\n",
    "   * using diffrernt color to mark bid and ask \n",
    "   * left y-axis for strike\n",
    "   * right y-axis for underlying price\n",
    "   * hover mouse to show option price\n",
    "   * 5 expire x put/call x bid/ask = 20 plots => 20 html files"
   ]
  },
  {
   "cell_type": "code",
   "execution_count": 15,
   "id": "c9df2033-d07d-4daa-a23f-d15c76f77503",
   "metadata": {},
   "outputs": [],
   "source": [
    "from cdcqr.common.config import LOCAL_DATA_DIR\n",
    "from cdcqr.data.dataloader import data_loader\n",
    "from cdcqr.data.deribit.data_utils import DeribitUtils\n",
    "import pandas as pd\n",
    "from datetime import datetime, timedelta\n",
    "import plotly.express as px\n",
    "import os\n",
    "from cdcqr.common.config import LOCAL_FIGURE_DIR\n",
    "import matplotlib.pyplot as plt\n",
    "import plotly.graph_objects as go"
   ]
  },
  {
   "cell_type": "markdown",
   "id": "c2cec5c5-875b-4f02-8288-1521c01cddff",
   "metadata": {
    "tags": []
   },
   "source": [
    "### setup"
   ]
  },
  {
   "cell_type": "code",
   "execution_count": 16,
   "id": "e10822c4-859a-477a-86e5-cf90fd4a078a",
   "metadata": {
    "tags": []
   },
   "outputs": [],
   "source": [
    "date = datetime(2021,10,29).date()\n",
    "exchange = 'deribit'\n",
    "maturity_date = datetime(2022,6,24).date()\n",
    "maturity_date = datetime(2021,12,31).date()\n",
    "\n",
    "freq = '1Min'\n",
    "coin = 'BTC'"
   ]
  },
  {
   "cell_type": "markdown",
   "id": "eca73479-c0ae-48c3-8116-632e49f87c19",
   "metadata": {
    "tags": []
   },
   "source": [
    "### load - option quote data"
   ]
  },
  {
   "cell_type": "code",
   "execution_count": 17,
   "id": "6180d5c3-a7a6-4c35-9d31-fdb9bf7f45e2",
   "metadata": {
    "tags": []
   },
   "outputs": [
    {
     "data": {
      "text/html": [
       "<div>\n",
       "<style scoped>\n",
       "    .dataframe tbody tr th:only-of-type {\n",
       "        vertical-align: middle;\n",
       "    }\n",
       "\n",
       "    .dataframe tbody tr th {\n",
       "        vertical-align: top;\n",
       "    }\n",
       "\n",
       "    .dataframe thead th {\n",
       "        text-align: right;\n",
       "    }\n",
       "</style>\n",
       "<table border=\"1\" class=\"dataframe\">\n",
       "  <thead>\n",
       "    <tr style=\"text-align: right;\">\n",
       "      <th></th>\n",
       "      <th>exchange</th>\n",
       "      <th>symbol</th>\n",
       "      <th>timestamp</th>\n",
       "      <th>local_timestamp</th>\n",
       "      <th>ask_amount</th>\n",
       "      <th>ask_price</th>\n",
       "      <th>bid_price</th>\n",
       "      <th>bid_amount</th>\n",
       "    </tr>\n",
       "  </thead>\n",
       "  <tbody>\n",
       "    <tr>\n",
       "      <th>0</th>\n",
       "      <td>deribit</td>\n",
       "      <td>ETH-30SEP22-50000-C</td>\n",
       "      <td>1635465597886000</td>\n",
       "      <td>1635465600307756</td>\n",
       "      <td>1.0</td>\n",
       "      <td>0.049</td>\n",
       "      <td>0.047</td>\n",
       "      <td>67.0</td>\n",
       "    </tr>\n",
       "  </tbody>\n",
       "</table>\n",
       "</div>"
      ],
      "text/plain": [
       "  exchange               symbol         timestamp   local_timestamp  \\\n",
       "0  deribit  ETH-30SEP22-50000-C  1635465597886000  1635465600307756   \n",
       "\n",
       "   ask_amount  ask_price  bid_price  bid_amount  \n",
       "0         1.0      0.049      0.047        67.0  "
      ]
     },
     "metadata": {},
     "output_type": "display_data"
    }
   ],
   "source": [
    "symbol = 'OPTIONS'\n",
    "data_type = 'quotes'\n",
    "date_ = date.strftime('%Y-%m-%d')\n",
    "opt_quote = data_loader(exchange, date_, data_type, symbol)\n",
    "display(opt_quote.head(1))"
   ]
  },
  {
   "cell_type": "markdown",
   "id": "55bcba1d-dbca-4a85-a520-e5ab4e561296",
   "metadata": {},
   "source": [
    "### load - option chain data"
   ]
  },
  {
   "cell_type": "code",
   "execution_count": null,
   "id": "d0613a1e-3e3e-4401-8857-4b11ea75d3d9",
   "metadata": {
    "tags": []
   },
   "outputs": [],
   "source": [
    "start_date = date\n",
    "end_date = date\n",
    "file_name = 'optchain_{}_{}_{}_{}.pkl'.format(start_date.strftime('%Y%m%d'), end_date.strftime('%Y%m%d'), maturity_date.strftime('%Y%m%d'), freq)\n",
    "optchain = pd.read_pickle(os.path.join(LOCAL_DATA_DIR, file_name))\n",
    "display(optchain.head(1))"
   ]
  },
  {
   "cell_type": "markdown",
   "id": "2828b826-8f42-4388-b6da-e7db9e85ce30",
   "metadata": {
    "tags": []
   },
   "source": [
    "### load - PERP data"
   ]
  },
  {
   "cell_type": "code",
   "execution_count": 18,
   "id": "d13ebc28-7f33-4b83-b380-4a6541983d3b",
   "metadata": {},
   "outputs": [
    {
     "data": {
      "text/html": [
       "<div>\n",
       "<style scoped>\n",
       "    .dataframe tbody tr th:only-of-type {\n",
       "        vertical-align: middle;\n",
       "    }\n",
       "\n",
       "    .dataframe tbody tr th {\n",
       "        vertical-align: top;\n",
       "    }\n",
       "\n",
       "    .dataframe thead th {\n",
       "        text-align: right;\n",
       "    }\n",
       "</style>\n",
       "<table border=\"1\" class=\"dataframe\">\n",
       "  <thead>\n",
       "    <tr style=\"text-align: right;\">\n",
       "      <th></th>\n",
       "      <th>exchange</th>\n",
       "      <th>symbol</th>\n",
       "      <th>timestamp</th>\n",
       "      <th>local_timestamp</th>\n",
       "      <th>ask_amount</th>\n",
       "      <th>ask_price</th>\n",
       "      <th>bid_price</th>\n",
       "      <th>bid_amount</th>\n",
       "    </tr>\n",
       "  </thead>\n",
       "  <tbody>\n",
       "    <tr>\n",
       "      <th>0</th>\n",
       "      <td>deribit</td>\n",
       "      <td>BTC-PERPETUAL</td>\n",
       "      <td>1635465600154000</td>\n",
       "      <td>1635465600184939</td>\n",
       "      <td>7120</td>\n",
       "      <td>60667.0</td>\n",
       "      <td>60666.5</td>\n",
       "      <td>27810</td>\n",
       "    </tr>\n",
       "  </tbody>\n",
       "</table>\n",
       "</div>"
      ],
      "text/plain": [
       "  exchange         symbol         timestamp   local_timestamp  ask_amount  \\\n",
       "0  deribit  BTC-PERPETUAL  1635465600154000  1635465600184939        7120   \n",
       "\n",
       "   ask_price  bid_price  bid_amount  \n",
       "0    60667.0    60666.5       27810  "
      ]
     },
     "metadata": {},
     "output_type": "display_data"
    }
   ],
   "source": [
    "symbol = '{}-PERPETUAL'.format(coin)\n",
    "data_type = 'quotes'\n",
    "PERP_quote = data_loader(exchange, date.strftime('%Y-%m-%d'), data_type, symbol)\n",
    "display(PERP_quote.head(1))"
   ]
  },
  {
   "cell_type": "markdown",
   "id": "7e30c115-8633-4605-aa96-8a7f70dc68d0",
   "metadata": {
    "tags": []
   },
   "source": [
    "### data processing - all"
   ]
  },
  {
   "cell_type": "code",
   "execution_count": 6,
   "id": "959723f8-633a-46f4-bcbc-cd77e748874f",
   "metadata": {
    "scrolled": true,
    "tags": []
   },
   "outputs": [],
   "source": [
    "uni_index = pd.date_range(start=date, end=date+timedelta(days=1), freq='1Min')[1:]"
   ]
  },
  {
   "cell_type": "markdown",
   "id": "c9e24f5e-3ccc-4b7e-b603-81ee2fae8483",
   "metadata": {
    "tags": []
   },
   "source": [
    "#### data processing - PERP quote"
   ]
  },
  {
   "cell_type": "code",
   "execution_count": 7,
   "id": "a9939072-7d0d-4870-93fe-bcdff1fccb75",
   "metadata": {},
   "outputs": [],
   "source": [
    "PERP_quote['dt'] = pd.to_datetime(PERP_quote['timestamp'], unit='us')\n",
    "PERP_quote['PERP_mid_price'] = (PERP_quote['ask_price']+PERP_quote['bid_price'])/2"
   ]
  },
  {
   "cell_type": "code",
   "execution_count": null,
   "id": "0bf35f79-df89-415e-9ed0-d87942602bcd",
   "metadata": {},
   "outputs": [],
   "source": [
    "PERP_quote_1 = PERP_quote.set_index('dt')['PERP_mid_price']\n",
    "PERP_quote_2 = PERP_quote_1[~PERP_quote_1.index.duplicated(keep='last')]\n",
    "PERP_quote_3 = PERP_quote_2.reindex(uni_index, method='ffill')"
   ]
  },
  {
   "cell_type": "markdown",
   "id": "28e86a6a-4570-4995-9fee-d919d9ff9364",
   "metadata": {
    "tags": []
   },
   "source": [
    "#### data processing - opt chain"
   ]
  },
  {
   "cell_type": "code",
   "execution_count": null,
   "id": "5385859e-bb72-4f24-b25d-e00e2579f785",
   "metadata": {},
   "outputs": [],
   "source": [
    "optchain['mid_vol'] = 0.5*(optchain['aiv'] + optchain['biv'])"
   ]
  },
  {
   "cell_type": "code",
   "execution_count": null,
   "id": "8952d179-a92d-4bd8-ab12-bb6734b2a373",
   "metadata": {},
   "outputs": [],
   "source": [
    "optchain_reduced = optchain[['symbol','strike','underly','s','aiv','biv']]\n",
    "optchain_reduced = optchain_reduced[optchain_reduced['symbol'].str.contains('{}-'.format(coin))]\n",
    "optchain_reduced = optchain_reduced.pipe(DeribitUtils.parse_optSymbol_col)"
   ]
  },
  {
   "cell_type": "code",
   "execution_count": null,
   "id": "e8a39425-1767-4c57-b0f8-f26c77f52855",
   "metadata": {},
   "outputs": [],
   "source": [
    "# 1. get underlying price\n",
    "optchain_reduced_1 = optchain_reduced['s']\n",
    "optchain_reduced_2 = optchain_reduced_1[~optchain_reduced_1.index.duplicated(keep='last')]\n",
    "optchain_reduced_2 = optchain_reduced_2.sort_index()\n",
    "optchain_reduced_3 = optchain_reduced_2.reindex(uni_index, method='ffill').to_frame()"
   ]
  },
  {
   "cell_type": "code",
   "execution_count": null,
   "id": "5218b515-a13b-454a-ae7f-cd609cd07520",
   "metadata": {},
   "outputs": [],
   "source": [
    "# 2. get ask iv per strike, per type\n",
    "optchain_reduced_1a = optchain_reduced[['aiv', 'biv', 'strike', 'type']]"
   ]
  },
  {
   "cell_type": "code",
   "execution_count": null,
   "id": "40645c7c-a14b-4f56-9ea2-b35d4f8cd76d",
   "metadata": {},
   "outputs": [],
   "source": [
    "optchain_reduced_1a = optchain_reduced_1a.reset_index().rename(columns={'tm':'index'})"
   ]
  },
  {
   "cell_type": "code",
   "execution_count": null,
   "id": "8ffd49de-a9e5-4f42-877a-c5213c853057",
   "metadata": {},
   "outputs": [],
   "source": [
    "# remove duplicates in opt chain\n",
    "optchain_reduced_1a = optchain_reduced_1a[~optchain_reduced_1a.set_index(['type','strike','index']).index.duplicated(keep='last')]"
   ]
  },
  {
   "cell_type": "code",
   "execution_count": null,
   "id": "5120c5eb-f74e-46db-b205-c1807bd0b812",
   "metadata": {},
   "outputs": [],
   "source": [
    "optchain_reduced_3.columns = ['underlying_price']\n",
    "df_underlying = optchain_reduced_3.join(PERP_quote_3).reset_index()"
   ]
  },
  {
   "cell_type": "code",
   "execution_count": null,
   "id": "47428503-bd0b-4de1-9c39-6221db8ee980",
   "metadata": {},
   "outputs": [],
   "source": [
    "display(df_underlying.head(2))"
   ]
  },
  {
   "cell_type": "code",
   "execution_count": null,
   "id": "d1efbac4-f500-4bac-926c-ae792a580e87",
   "metadata": {},
   "outputs": [],
   "source": [
    "optchain_reduced_1a.head(2)"
   ]
  },
  {
   "cell_type": "markdown",
   "id": "c4de2c8c-ef7d-4b77-bb56-f588ca82576e",
   "metadata": {
    "tags": []
   },
   "source": [
    "#### data processing - option quote"
   ]
  },
  {
   "cell_type": "code",
   "execution_count": 8,
   "id": "1284ff83-9ef3-48f7-8ba0-31025c5657ee",
   "metadata": {},
   "outputs": [
    {
     "name": "stdout",
     "output_type": "stream",
     "text": [
      "'parse_optSymbol_col'  14.16 sec\n"
     ]
    }
   ],
   "source": [
    "opt_quote_parsed = opt_quote.pipe(DeribitUtils.parse_optSymbol_col)"
   ]
  },
  {
   "cell_type": "code",
   "execution_count": 9,
   "id": "607e7da0-a746-45d6-8d40-25e0f5c25657",
   "metadata": {},
   "outputs": [],
   "source": [
    "opt_quote_parsed['timestamp_dt'] = pd.to_datetime(opt_quote_parsed['timestamp'], unit='us')"
   ]
  },
  {
   "cell_type": "code",
   "execution_count": 10,
   "id": "f16b833a-57be-471a-875b-c5258afa3816",
   "metadata": {},
   "outputs": [],
   "source": [
    "# only look at BTC\n",
    "opt_quote_parsed = opt_quote_parsed.query('instrument==\"BTC\"')"
   ]
  },
  {
   "cell_type": "code",
   "execution_count": 11,
   "id": "57b447fb-d7d0-4594-a396-24f0a0b31ffc",
   "metadata": {},
   "outputs": [
    {
     "data": {
      "text/html": [
       "<div>\n",
       "<style scoped>\n",
       "    .dataframe tbody tr th:only-of-type {\n",
       "        vertical-align: middle;\n",
       "    }\n",
       "\n",
       "    .dataframe tbody tr th {\n",
       "        vertical-align: top;\n",
       "    }\n",
       "\n",
       "    .dataframe thead th {\n",
       "        text-align: right;\n",
       "    }\n",
       "</style>\n",
       "<table border=\"1\" class=\"dataframe\">\n",
       "  <thead>\n",
       "    <tr style=\"text-align: right;\">\n",
       "      <th></th>\n",
       "      <th>exchange</th>\n",
       "      <th>symbol</th>\n",
       "      <th>timestamp</th>\n",
       "      <th>local_timestamp</th>\n",
       "      <th>ask_amount</th>\n",
       "      <th>ask_price</th>\n",
       "      <th>bid_price</th>\n",
       "      <th>bid_amount</th>\n",
       "      <th>instrument</th>\n",
       "      <th>expire</th>\n",
       "      <th>strike</th>\n",
       "      <th>type</th>\n",
       "      <th>timestamp_dt</th>\n",
       "    </tr>\n",
       "  </thead>\n",
       "  <tbody>\n",
       "    <tr>\n",
       "      <th>173</th>\n",
       "      <td>deribit</td>\n",
       "      <td>BTC-5NOV21-78000-C</td>\n",
       "      <td>1635465595983000</td>\n",
       "      <td>1635465600365586</td>\n",
       "      <td>77.3</td>\n",
       "      <td>0.0025</td>\n",
       "      <td>0.0015</td>\n",
       "      <td>17.9</td>\n",
       "      <td>BTC</td>\n",
       "      <td>2021-11-05</td>\n",
       "      <td>78000.0</td>\n",
       "      <td>C</td>\n",
       "      <td>2021-10-28 23:59:55.983</td>\n",
       "    </tr>\n",
       "    <tr>\n",
       "      <th>174</th>\n",
       "      <td>deribit</td>\n",
       "      <td>BTC-5NOV21-75000-C</td>\n",
       "      <td>1635465599207000</td>\n",
       "      <td>1635465600365644</td>\n",
       "      <td>4.5</td>\n",
       "      <td>0.0035</td>\n",
       "      <td>0.0025</td>\n",
       "      <td>48.4</td>\n",
       "      <td>BTC</td>\n",
       "      <td>2021-11-05</td>\n",
       "      <td>75000.0</td>\n",
       "      <td>C</td>\n",
       "      <td>2021-10-28 23:59:59.207</td>\n",
       "    </tr>\n",
       "    <tr>\n",
       "      <th>175</th>\n",
       "      <td>deribit</td>\n",
       "      <td>BTC-5NOV21-74000-P</td>\n",
       "      <td>1635465599185000</td>\n",
       "      <td>1635465600365698</td>\n",
       "      <td>5.0</td>\n",
       "      <td>0.6190</td>\n",
       "      <td>NaN</td>\n",
       "      <td>NaN</td>\n",
       "      <td>BTC</td>\n",
       "      <td>2021-11-05</td>\n",
       "      <td>74000.0</td>\n",
       "      <td>P</td>\n",
       "      <td>2021-10-28 23:59:59.185</td>\n",
       "    </tr>\n",
       "    <tr>\n",
       "      <th>176</th>\n",
       "      <td>deribit</td>\n",
       "      <td>BTC-5NOV21-74000-C</td>\n",
       "      <td>1635465590639000</td>\n",
       "      <td>1635465600365838</td>\n",
       "      <td>4.0</td>\n",
       "      <td>0.0040</td>\n",
       "      <td>0.0030</td>\n",
       "      <td>75.8</td>\n",
       "      <td>BTC</td>\n",
       "      <td>2021-11-05</td>\n",
       "      <td>74000.0</td>\n",
       "      <td>C</td>\n",
       "      <td>2021-10-28 23:59:50.639</td>\n",
       "    </tr>\n",
       "    <tr>\n",
       "      <th>177</th>\n",
       "      <td>deribit</td>\n",
       "      <td>BTC-5NOV21-70000-C</td>\n",
       "      <td>1635465595985000</td>\n",
       "      <td>1635465600365840</td>\n",
       "      <td>33.2</td>\n",
       "      <td>0.0085</td>\n",
       "      <td>0.0075</td>\n",
       "      <td>40.4</td>\n",
       "      <td>BTC</td>\n",
       "      <td>2021-11-05</td>\n",
       "      <td>70000.0</td>\n",
       "      <td>C</td>\n",
       "      <td>2021-10-28 23:59:55.985</td>\n",
       "    </tr>\n",
       "    <tr>\n",
       "      <th>...</th>\n",
       "      <td>...</td>\n",
       "      <td>...</td>\n",
       "      <td>...</td>\n",
       "      <td>...</td>\n",
       "      <td>...</td>\n",
       "      <td>...</td>\n",
       "      <td>...</td>\n",
       "      <td>...</td>\n",
       "      <td>...</td>\n",
       "      <td>...</td>\n",
       "      <td>...</td>\n",
       "      <td>...</td>\n",
       "      <td>...</td>\n",
       "    </tr>\n",
       "    <tr>\n",
       "      <th>8049083</th>\n",
       "      <td>deribit</td>\n",
       "      <td>BTC-31DEC21-50000-P</td>\n",
       "      <td>1635551999709000</td>\n",
       "      <td>1635551999714540</td>\n",
       "      <td>26.7</td>\n",
       "      <td>0.0495</td>\n",
       "      <td>0.0475</td>\n",
       "      <td>4.4</td>\n",
       "      <td>BTC</td>\n",
       "      <td>2021-12-31</td>\n",
       "      <td>50000.0</td>\n",
       "      <td>P</td>\n",
       "      <td>2021-10-29 23:59:59.709</td>\n",
       "    </tr>\n",
       "    <tr>\n",
       "      <th>8049084</th>\n",
       "      <td>deribit</td>\n",
       "      <td>BTC-5NOV21-58000-P</td>\n",
       "      <td>1635551999711000</td>\n",
       "      <td>1635551999714552</td>\n",
       "      <td>14.4</td>\n",
       "      <td>0.0130</td>\n",
       "      <td>0.0125</td>\n",
       "      <td>22.0</td>\n",
       "      <td>BTC</td>\n",
       "      <td>2021-11-05</td>\n",
       "      <td>58000.0</td>\n",
       "      <td>P</td>\n",
       "      <td>2021-10-29 23:59:59.711</td>\n",
       "    </tr>\n",
       "    <tr>\n",
       "      <th>8049100</th>\n",
       "      <td>deribit</td>\n",
       "      <td>BTC-26NOV21-66000-P</td>\n",
       "      <td>1635551999788000</td>\n",
       "      <td>1635551999797023</td>\n",
       "      <td>8.5</td>\n",
       "      <td>0.1180</td>\n",
       "      <td>0.1150</td>\n",
       "      <td>5.1</td>\n",
       "      <td>BTC</td>\n",
       "      <td>2021-11-26</td>\n",
       "      <td>66000.0</td>\n",
       "      <td>P</td>\n",
       "      <td>2021-10-29 23:59:59.788</td>\n",
       "    </tr>\n",
       "    <tr>\n",
       "      <th>8049101</th>\n",
       "      <td>deribit</td>\n",
       "      <td>BTC-12NOV21-62000-C</td>\n",
       "      <td>1635551999787000</td>\n",
       "      <td>1635551999797925</td>\n",
       "      <td>7.5</td>\n",
       "      <td>0.0680</td>\n",
       "      <td>0.0660</td>\n",
       "      <td>9.0</td>\n",
       "      <td>BTC</td>\n",
       "      <td>2021-11-12</td>\n",
       "      <td>62000.0</td>\n",
       "      <td>C</td>\n",
       "      <td>2021-10-29 23:59:59.787</td>\n",
       "    </tr>\n",
       "    <tr>\n",
       "      <th>8049178</th>\n",
       "      <td>deribit</td>\n",
       "      <td>BTC-31DEC21-16000-C</td>\n",
       "      <td>1635551999952000</td>\n",
       "      <td>1635551999961794</td>\n",
       "      <td>9.0</td>\n",
       "      <td>0.7540</td>\n",
       "      <td>0.7475</td>\n",
       "      <td>9.0</td>\n",
       "      <td>BTC</td>\n",
       "      <td>2021-12-31</td>\n",
       "      <td>16000.0</td>\n",
       "      <td>C</td>\n",
       "      <td>2021-10-29 23:59:59.952</td>\n",
       "    </tr>\n",
       "  </tbody>\n",
       "</table>\n",
       "<p>4346724 rows × 13 columns</p>\n",
       "</div>"
      ],
      "text/plain": [
       "        exchange               symbol         timestamp   local_timestamp  \\\n",
       "173      deribit   BTC-5NOV21-78000-C  1635465595983000  1635465600365586   \n",
       "174      deribit   BTC-5NOV21-75000-C  1635465599207000  1635465600365644   \n",
       "175      deribit   BTC-5NOV21-74000-P  1635465599185000  1635465600365698   \n",
       "176      deribit   BTC-5NOV21-74000-C  1635465590639000  1635465600365838   \n",
       "177      deribit   BTC-5NOV21-70000-C  1635465595985000  1635465600365840   \n",
       "...          ...                  ...               ...               ...   \n",
       "8049083  deribit  BTC-31DEC21-50000-P  1635551999709000  1635551999714540   \n",
       "8049084  deribit   BTC-5NOV21-58000-P  1635551999711000  1635551999714552   \n",
       "8049100  deribit  BTC-26NOV21-66000-P  1635551999788000  1635551999797023   \n",
       "8049101  deribit  BTC-12NOV21-62000-C  1635551999787000  1635551999797925   \n",
       "8049178  deribit  BTC-31DEC21-16000-C  1635551999952000  1635551999961794   \n",
       "\n",
       "         ask_amount  ask_price  bid_price  bid_amount instrument     expire  \\\n",
       "173            77.3     0.0025     0.0015        17.9        BTC 2021-11-05   \n",
       "174             4.5     0.0035     0.0025        48.4        BTC 2021-11-05   \n",
       "175             5.0     0.6190        NaN         NaN        BTC 2021-11-05   \n",
       "176             4.0     0.0040     0.0030        75.8        BTC 2021-11-05   \n",
       "177            33.2     0.0085     0.0075        40.4        BTC 2021-11-05   \n",
       "...             ...        ...        ...         ...        ...        ...   \n",
       "8049083        26.7     0.0495     0.0475         4.4        BTC 2021-12-31   \n",
       "8049084        14.4     0.0130     0.0125        22.0        BTC 2021-11-05   \n",
       "8049100         8.5     0.1180     0.1150         5.1        BTC 2021-11-26   \n",
       "8049101         7.5     0.0680     0.0660         9.0        BTC 2021-11-12   \n",
       "8049178         9.0     0.7540     0.7475         9.0        BTC 2021-12-31   \n",
       "\n",
       "          strike type            timestamp_dt  \n",
       "173      78000.0    C 2021-10-28 23:59:55.983  \n",
       "174      75000.0    C 2021-10-28 23:59:59.207  \n",
       "175      74000.0    P 2021-10-28 23:59:59.185  \n",
       "176      74000.0    C 2021-10-28 23:59:50.639  \n",
       "177      70000.0    C 2021-10-28 23:59:55.985  \n",
       "...          ...  ...                     ...  \n",
       "8049083  50000.0    P 2021-10-29 23:59:59.709  \n",
       "8049084  58000.0    P 2021-10-29 23:59:59.711  \n",
       "8049100  66000.0    P 2021-10-29 23:59:59.788  \n",
       "8049101  62000.0    C 2021-10-29 23:59:59.787  \n",
       "8049178  16000.0    C 2021-10-29 23:59:59.952  \n",
       "\n",
       "[4346724 rows x 13 columns]"
      ]
     },
     "execution_count": 11,
     "metadata": {},
     "output_type": "execute_result"
    }
   ],
   "source": [
    "opt_quote_parsed"
   ]
  },
  {
   "cell_type": "code",
   "execution_count": null,
   "id": "dcd5ef8d-4b67-46b5-8888-b3a7b826db35",
   "metadata": {},
   "outputs": [],
   "source": [
    "# select relevant expire dates\n",
    "selected_expr_dates = DeribitUtils.get_important_option_expire_dates(pd.to_datetime(date))\n",
    "display(maturity_date)\n",
    "display(selected_expr_dates)"
   ]
  },
  {
   "cell_type": "code",
   "execution_count": null,
   "id": "cbb0e9bb-6e3f-4af7-867a-c6a1beeacce6",
   "metadata": {
    "tags": []
   },
   "outputs": [],
   "source": [
    "opt_quote_parsed['exp_date'] = opt_quote_parsed['expire'].dt.date"
   ]
  },
  {
   "cell_type": "code",
   "execution_count": null,
   "id": "7f23795a-3a53-43ca-ac92-b7f85258dc4b",
   "metadata": {},
   "outputs": [],
   "source": [
    "opt_quote_parsed_expire_i_c = opt_quote_parsed.query('exp_date==@maturity_date & type ==\"C\"')\n",
    "opt_quote_parsed_expire_i_p = opt_quote_parsed.query('exp_date==@maturity_date & type ==\"P\"')"
   ]
  },
  {
   "cell_type": "code",
   "execution_count": null,
   "id": "624aaf1d-f3ba-4b98-b3c0-4c187eabcb14",
   "metadata": {},
   "outputs": [],
   "source": [
    "list(sorted(opt_quote_parsed_expire_i_c['strike'].unique())) == sorted(opt_quote_parsed_expire_i_c['strike'].unique())\n",
    "strike_list = list(sorted(opt_quote_parsed_expire_i_c['strike'].unique()))\n",
    "len(strike_list)"
   ]
  },
  {
   "cell_type": "code",
   "execution_count": null,
   "id": "f818086a-df2b-4320-93f4-96e541cd3295",
   "metadata": {},
   "outputs": [],
   "source": [
    "opt_quote_parsed_expire_i_c_reduced = opt_quote_parsed_expire_i_c.drop(labels=['exchange','symbol','timestamp','local_timestamp','type','expire','t2m'], axis=1, errors='ignore')\n",
    "opt_quote_parsed_expire_i_p_reduced = opt_quote_parsed_expire_i_p.drop(labels=['exchange','symbol','timestamp','local_timestamp','type','expire','t2m'], axis=1, errors='ignore')"
   ]
  },
  {
   "cell_type": "code",
   "execution_count": null,
   "id": "e87b3e0e-f669-490d-8ac8-def639a2573f",
   "metadata": {
    "tags": []
   },
   "outputs": [],
   "source": [
    "strike2df = {}\n",
    "for strike in strike_list:\n",
    "    #print(strike)\n",
    "    opt_quote_parsed_expire_i_c_reduced_k_1 = opt_quote_parsed_expire_i_c_reduced.query('strike==@strike').set_index('timestamp_dt')\n",
    "    opt_quote_parsed_expire_i_c_reduced_k_1 = opt_quote_parsed_expire_i_c_reduced_k_1[~opt_quote_parsed_expire_i_c_reduced_k_1.index.duplicated(keep='last')]\n",
    "    opt_quote_parsed_expire_i_c_reduced_k_1 = opt_quote_parsed_expire_i_c_reduced_k_1.reindex(uni_index, method='ffill')\n",
    "    strike2df[strike] = opt_quote_parsed_expire_i_c_reduced_k_1\n",
    "    #display(opt_quote_btc_expire_i_c_reduced_k_1_1min.head(2))\n",
    "df_combined = pd.concat(strike2df.values()).reset_index()\n",
    "df_combined['ask_amount'] = df_combined['ask_amount'].fillna(0)\n",
    "df_combined['bid_amount'] = df_combined['bid_amount'].fillna(0)\n",
    "df_combined_c = df_combined.copy()"
   ]
  },
  {
   "cell_type": "code",
   "execution_count": null,
   "id": "4f905b6b-3cf5-47c5-a2a6-4c12da6ba091",
   "metadata": {
    "tags": []
   },
   "outputs": [],
   "source": [
    "strike2df = {}\n",
    "for strike in opt_quote_parsed_expire_i_p_reduced['strike'].unique():\n",
    "    #print(strike)\n",
    "    opt_quote_parsed_expire_i_p_reduced_k_1 = opt_quote_parsed_expire_i_p_reduced.query('strike==@strike').set_index('timestamp_dt')\n",
    "    opt_quote_parsed_expire_i_p_reduced_k_1 = opt_quote_parsed_expire_i_p_reduced_k_1[~opt_quote_parsed_expire_i_p_reduced_k_1.index.duplicated(keep='last')]\n",
    "    opt_quote_parsed_expire_i_p_reduced_k_1_1min = opt_quote_parsed_expire_i_p_reduced_k_1.reindex(uni_index, method='ffill')\n",
    "    strike2df[strike] = opt_quote_parsed_expire_i_p_reduced_k_1_1min\n",
    "    #display(opt_quote_btc_expire_i_p_reduced_k_1_1min.head(2))\n",
    "df_combined = pd.concat(strike2df.values()).reset_index()\n",
    "df_combined['ask_amount'] = df_combined['ask_amount'].fillna(0)\n",
    "df_combined['bid_amount'] = df_combined['bid_amount'].fillna(0)\n",
    "df_combined_p = df_combined.copy()"
   ]
  },
  {
   "cell_type": "code",
   "execution_count": null,
   "id": "7ccc7691-bef5-4c7f-bd47-efbcf1fddfe1",
   "metadata": {},
   "outputs": [],
   "source": [
    "df_combined_c['type'] = 'C'\n",
    "df_combined_p['type'] = 'P'\n",
    "df_combined = df_combined_c.append(df_combined_p)"
   ]
  },
  {
   "cell_type": "code",
   "execution_count": null,
   "id": "5e0f87c9-9902-42c9-95a5-5f61b4f27994",
   "metadata": {},
   "outputs": [],
   "source": [
    "df_combined['strike_shifted'] = df_combined['strike'] + 100*((df_combined['type']=='C').astype(int)-0.5)*2"
   ]
  },
  {
   "cell_type": "code",
   "execution_count": null,
   "id": "66f22670-dc88-45eb-8167-c0b466f47151",
   "metadata": {},
   "outputs": [],
   "source": [
    "df_combined.head()"
   ]
  },
  {
   "cell_type": "markdown",
   "id": "bb669075-2cc5-4abb-9d44-7b2ce6a1e5f9",
   "metadata": {
    "tags": []
   },
   "source": [
    "#### data processing - all"
   ]
  },
  {
   "cell_type": "code",
   "execution_count": null,
   "id": "87bfd84a-7bab-44ef-a304-aae19962de8b",
   "metadata": {},
   "outputs": [],
   "source": [
    "df_combined_ext = pd.merge(left=df_combined, right = optchain_reduced_1a, on=['index','strike','type'], how='left')"
   ]
  },
  {
   "cell_type": "code",
   "execution_count": null,
   "id": "0e262fbd-8b49-4ab9-bf3d-1d2aeafa1056",
   "metadata": {},
   "outputs": [],
   "source": [
    "df_combined_ext['mvol'] = 0.5*(df_combined_ext['aiv']+df_combined_ext['biv'])"
   ]
  },
  {
   "cell_type": "code",
   "execution_count": null,
   "id": "13b0e918-893f-4359-ae9f-0b0362d4e61e",
   "metadata": {},
   "outputs": [],
   "source": [
    "display(df_combined.shape)\n",
    "display(df_combined_ext.shape)"
   ]
  },
  {
   "cell_type": "code",
   "execution_count": null,
   "id": "a68471c8-082b-44ad-9544-355f33c9023b",
   "metadata": {},
   "outputs": [],
   "source": [
    "df_combined_ext['total_amount'] = df_combined_ext['bid_amount'] + df_combined_ext['ask_amount']"
   ]
  },
  {
   "cell_type": "markdown",
   "id": "ff3f3604-36d4-4ad2-8c6e-c013110b8f82",
   "metadata": {
    "tags": []
   },
   "source": [
    "### make plot\n",
    "   * ask amount with call and put scatter plot\n",
    "   * bid amount with call and put scatter plot\n",
    "   * ask+bid amount with call and put scatter plot"
   ]
  },
  {
   "cell_type": "code",
   "execution_count": null,
   "id": "c2187cc2-4fe5-4e46-b727-662c110b0fc6",
   "metadata": {},
   "outputs": [],
   "source": [
    "from plotly.subplots import make_subplots\n",
    "subfig = make_subplots(specs=[[{\"secondary_y\": True}]])"
   ]
  },
  {
   "cell_type": "code",
   "execution_count": null,
   "id": "db74c8f8-4000-435b-bcdf-abd65985f050",
   "metadata": {},
   "outputs": [],
   "source": [
    "from plotly.subplots import make_subplots\n",
    "subfig = make_subplots(specs=[[{\"secondary_y\": True}]])\n",
    "fig1 = px.scatter(df_combined_ext, x=\"index\", y=\"strike_shifted\", size=\"ask_amount\",  hover_data=['strike','ask_price','ask_amount','type', 'biv'], color=\"biv\", title='',width=1500, height=1200)\n",
    "fig1b = px.scatter(df_combined_ext, x=\"index\", y=\"strike_shifted\", size=\"bid_amount\",  hover_data=['strike','bid_price','bid_amount','type', 'biv'], color=\"biv\", title='',width=1500, height=1200)\n",
    "fig1c = px.scatter(df_combined_ext, x=\"index\", y=\"strike_shifted\", size=\"total_amount\", hover_data=['strike','ask_price','ask_amount','bid_price','bid_amount','type', 'aiv','biv','mvol'], color=\"mvol\", title='',width=1500, height=1200)"
   ]
  },
  {
   "cell_type": "code",
   "execution_count": null,
   "id": "522a5445-5e68-47e7-8186-9c3a2077a33e",
   "metadata": {
    "tags": []
   },
   "outputs": [],
   "source": [
    "fig2 = px.line(df_underlying, x='index', y=['underlying_price', 'PERP_mid_price'], width=1500, height=1200)"
   ]
  },
  {
   "cell_type": "code",
   "execution_count": null,
   "id": "24ee9d9e-3d67-460d-ad0f-2ffcc59e9ee7",
   "metadata": {},
   "outputs": [],
   "source": [
    "#df_combined_ext_20211029 = df_combined_ext.copy()\n",
    "#%store df_combined_ext_20211029"
   ]
  },
  {
   "cell_type": "code",
   "execution_count": null,
   "id": "a90dd12c-a896-4d9d-9341-895edafe34b0",
   "metadata": {},
   "outputs": [],
   "source": [
    "fig3 = go.Figure(data=fig1.data + fig2.data,)\n",
    "fig3.update_layout(\n",
    "    autosize=False,\n",
    "    width=1500,\n",
    "    height=1200,\n",
    "    title='BTC ask price and amount v.s. underlying & PERP')\n",
    "fig3.show()\n",
    "fig3.write_html(os.path.join(LOCAL_FIGURE_DIR,'option_book',date.strftime('%Y%m'), \n",
    "                             \"{}_options_{}_{}_ask.html\".format(coin, date.strftime('%Y%m%d'), maturity_date.strftime('%Y%m%d'))))"
   ]
  },
  {
   "cell_type": "code",
   "execution_count": null,
   "id": "ec3f7b34-89ad-4114-b853-2be2ab9a4463",
   "metadata": {
    "tags": []
   },
   "outputs": [],
   "source": [
    "fig3 = go.Figure(data=fig1b.data + fig2.data,)\n",
    "fig3.update_layout(\n",
    "    autosize=False,\n",
    "    width=1500,\n",
    "    height=1200,\n",
    "    title='BTC bid price and amount v.s. underlying & PERP')\n",
    "fig3.show()\n",
    "fig3.write_html(os.path.join(LOCAL_FIGURE_DIR,'option_book', date.strftime('%Y%m'),\n",
    "                              \"{}_options_{}_{}_bid.html\".format(coin, date.strftime('%Y%m%d'), maturity_date.strftime('%Y%m%d'))))"
   ]
  },
  {
   "cell_type": "code",
   "execution_count": null,
   "id": "3313a010-4c00-4eb6-a8ff-6844f7e2b284",
   "metadata": {},
   "outputs": [],
   "source": [
    "fig3 = go.Figure(data=fig1c.data + fig2.data,)\n",
    "fig3.update_layout(\n",
    "    autosize=False,\n",
    "    width=1500,\n",
    "    height=1200,\n",
    "    title='BTC price and total amount v.s. underlying & PERP')\n",
    "#fig.show()\n",
    "fig3.write_html(os.path.join(LOCAL_FIGURE_DIR, 'option_book', date.strftime('%Y%m'),\n",
    "                              \"{}_options_{}_{}_all_quotes.html\".format(coin, date.strftime('%Y%m%d'), maturity_date.strftime('%Y%m%d'))))"
   ]
  },
  {
   "cell_type": "markdown",
   "id": "dd0cc993-bfda-4568-815f-9380639fa72a",
   "metadata": {},
   "source": [
    "### plot for ATM options"
   ]
  },
  {
   "cell_type": "code",
   "execution_count": null,
   "id": "10ba4133-f87f-45b9-a536-57f0f229fa09",
   "metadata": {},
   "outputs": [],
   "source": [
    "df_combined_ext_atm = df_combined_ext.query('strike==70000')\n",
    "df_combined_ext_atm.head(2)"
   ]
  },
  {
   "cell_type": "code",
   "execution_count": null,
   "id": "896faab0-58fd-4fd2-8b4b-9a30a9dbd181",
   "metadata": {},
   "outputs": [],
   "source": [
    "df_combined_ext_p = df_combined_ext_atm.query('type==\"P\"')\n",
    "df_combined_ext_c = df_combined_ext_atm.query('type==\"C\"')\n",
    "df_combined_ext_p['type'] = 'P'\n",
    "df_combined_ext_c['type'] = 'C'"
   ]
  },
  {
   "cell_type": "code",
   "execution_count": null,
   "id": "1be0f110-2a0f-4e67-a321-21fc53212686",
   "metadata": {},
   "outputs": [],
   "source": []
  },
  {
   "cell_type": "code",
   "execution_count": null,
   "id": "cb964a69-cd88-4d72-9bb3-7a57a79c2224",
   "metadata": {},
   "outputs": [],
   "source": [
    "df_combined_ext_p_a = df_combined_ext_p[['index','ask_price', 'ask_amount', 'type', 'aiv']].rename(columns={'ask_price':'price', 'ask_amount':'amount', 'aiv':'iv'})\n",
    "df_combined_ext_p_a['side'] = 'ask'\n",
    "df_combined_ext_p_b = df_combined_ext_p[['index','bid_price', 'bid_amount', 'type', 'biv']].rename(columns={'bid_price':'price', 'bid_amount':'amount', 'biv':'iv'})\n",
    "df_combined_ext_p_b['side'] = 'bid'\n",
    "\n",
    "df_combined_ext_c_a = df_combined_ext_c[['index','ask_price', 'ask_amount', 'type', 'aiv']].rename(columns={'ask_price':'price', 'ask_amount':'amount', 'aiv':'iv'})\n",
    "df_combined_ext_c_a['side'] = 'ask'\n",
    "df_combined_ext_c_b = df_combined_ext_c[['index','bid_price', 'bid_amount', 'type', 'biv']].rename(columns={'bid_price':'price', 'bid_amount':'amount', 'biv':'iv'})\n",
    "df_combined_ext_c_b['side'] = 'bid'"
   ]
  },
  {
   "cell_type": "code",
   "execution_count": null,
   "id": "4c6280b4-7295-4989-a682-6a48ccdfaa15",
   "metadata": {},
   "outputs": [],
   "source": [
    "df_combined_ext_transformed = df_combined_ext_p_a.append(df_combined_ext_p_b).append(df_combined_ext_c_a).append(df_combined_ext_c_b)\n",
    "df_combined_ext_transformed.groupby(['side','type']).count()"
   ]
  },
  {
   "cell_type": "code",
   "execution_count": null,
   "id": "c76c619e-06b3-47b5-8f24-2d0d178950b0",
   "metadata": {},
   "outputs": [],
   "source": [
    "df_combined_ext_transformed.head()"
   ]
  },
  {
   "cell_type": "code",
   "execution_count": null,
   "id": "03dacead-a39c-47ff-b09d-c6a7e55ca9fd",
   "metadata": {},
   "outputs": [],
   "source": [
    "px.scatter?"
   ]
  },
  {
   "cell_type": "code",
   "execution_count": null,
   "id": "ae76e49a-c859-4b0b-ba7c-fcd7e801751f",
   "metadata": {},
   "outputs": [],
   "source": [
    "df_combined_ext_transformed['color'] = df_combined_ext_transformed['type']+ df_combined_ext_transformed['side']"
   ]
  },
  {
   "cell_type": "code",
   "execution_count": null,
   "id": "7d3d9c82-e264-49bf-8be9-a3ff549e6460",
   "metadata": {},
   "outputs": [],
   "source": [
    "subfig = make_subplots(specs=[[{\"secondary_y\": True}]])\n",
    "strike = 70000\n",
    "fig1 = px.scatter(df_combined_ext_transformed, x=\"index\", y=\"price\", size=\"amount\",  hover_data=['price','amount','type','side','iv'],symbol='type', color=df_combined_ext_transformed.color, title='',width=1500, height=1200)\n",
    "fig1.show()\n",
    "#fig1.update_yaxes(range=[60000, 80000])"
   ]
  },
  {
   "cell_type": "code",
   "execution_count": null,
   "id": "a534917b-61bb-4110-900c-f70653ac0787",
   "metadata": {},
   "outputs": [],
   "source": [
    "fig2 = px.line(df_underlying, x=\"index\", y=['underlying_price','PERP_mid_price'], width=1500, height=1200, )\n",
    "fig2.update_traces(yaxis=\"y2\")\n",
    "#fig2.update_yaxes(range=[60000, 80000])"
   ]
  },
  {
   "cell_type": "code",
   "execution_count": null,
   "id": "ed317cc2-ed48-46dc-8e00-794ca086ef4b",
   "metadata": {},
   "outputs": [],
   "source": [
    "subfig.add_traces(fig1.data + fig2.data)\n",
    "subfig.update_layout(\n",
    "    autosize=False,\n",
    "    width=1500,\n",
    "    height=600,\n",
    "    title='{} price and total amount v.s. underlying & PERP, date:{}, k:{}, expire:{} '.format(coin, date, strike, maturity_date),)"
   ]
  },
  {
   "cell_type": "code",
   "execution_count": null,
   "id": "d98e439f-5942-4881-93c1-6024ddc48606",
   "metadata": {},
   "outputs": [],
   "source": [
    "subfig.write_html(os.path.join(LOCAL_FIGURE_DIR, 'option_book', date.strftime('%Y%m'), \"{}_option_{}_{}_{}.html\".format(coin, date.strftime('%Y%m%d'), maturity_date.strftime('%Y%m%d'), strike)))"
   ]
  }
 ],
 "metadata": {
  "kernelspec": {
   "display_name": "Python 3 (ipykernel)",
   "language": "python",
   "name": "python3"
  },
  "language_info": {
   "codemirror_mode": {
    "name": "ipython",
    "version": 3
   },
   "file_extension": ".py",
   "mimetype": "text/x-python",
   "name": "python",
   "nbconvert_exporter": "python",
   "pygments_lexer": "ipython3",
   "version": "3.8.8"
  }
 },
 "nbformat": 4,
 "nbformat_minor": 5
}
