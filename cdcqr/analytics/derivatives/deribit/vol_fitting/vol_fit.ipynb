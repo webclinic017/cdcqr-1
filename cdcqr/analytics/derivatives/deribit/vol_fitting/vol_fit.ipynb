{
 "cells": [
  {
   "cell_type": "code",
   "execution_count": null,
   "id": "c029781c-fcfb-4c15-aed6-82c458443ccd",
   "metadata": {},
   "outputs": [],
   "source": [
    "import pandas as pd\n",
    "from cdcqr.common.config import LOCAL_DATA_DIR\n",
    "import os\n",
    "from scipy.optimize import minimize\n",
    "from scipy.interpolate import interp1d\n",
    "from functools import partial\n",
    "import numpy as np\n",
    "DF= pd.DataFrame\n",
    "from importlib import reload\n",
    "import cufflinks as cf\n",
    "cf.go_offline()\n",
    "cf.set_config_file(offline=False, world_readable=True)\n",
    "\n",
    "import cdcqr.analytics.derivatives.option_utils as optUtil\n",
    "import statsmodels.api as sm\n",
    "import seaborn as sns\n",
    "import matplotlib.pyplot as plt\n",
    "from datetime import datetime \n",
    "import sys\n",
    "sys.path.append('C://github/cryptoderiv-quant/')\n",
    "from ct.utils import plot2"
   ]
  },
  {
   "cell_type": "code",
   "execution_count": null,
   "id": "e857bb20-f0ec-40a2-9efd-b5430f269f95",
   "metadata": {},
   "outputs": [],
   "source": [
    "reload(optUtil)"
   ]
  },
  {
   "cell_type": "code",
   "execution_count": null,
   "id": "dd104dc2-0d0c-428d-8275-190067fca92f",
   "metadata": {},
   "outputs": [],
   "source": [
    "df=pd.read_pickle(os.path.join(LOCAL_DATA_DIR, 'optchain5Min.pkl'))\n",
    "df_518_1m=pd.read_pickle(os.path.join(LOCAL_DATA_DIR, 'optchain5Min.pkl'))\n",
    "df_518_3m=pd.read_pickle(os.path.join(LOCAL_DATA_DIR, 'optchain5Min.pkl'))\n",
    "df_519_1m=pd.read_pickle(os.path.join(LOCAL_DATA_DIR, 'optchain30Min_20210519_1M.pkl'))\n",
    "df_519_3m=pd.read_pickle(os.path.join(LOCAL_DATA_DIR, 'optchain30Min_20210519_3M.pkl'))\n",
    "df_8_1m = pd.read_pickle(os.path.join(LOCAL_DATA_DIR, 'optchain1H_202108_1M.pkl'))"
   ]
  },
  {
   "cell_type": "code",
   "execution_count": null,
   "id": "d732c62c-72d5-4098-81aa-ce8c8d714d2a",
   "metadata": {},
   "outputs": [],
   "source": [
    "df_829_1m=pd.read_pickle(os.path.join(LOCAL_DATA_DIR, 'optchain5Min_20210829_1M.pkl'))\n",
    "df_830_1m=pd.read_pickle(os.path.join(LOCAL_DATA_DIR, 'optchain5Min_20210830_1M.pkl'))\n",
    "df_831_1m=pd.read_pickle(os.path.join(LOCAL_DATA_DIR, 'optchain5Min_20210831_1M.pkl'))"
   ]
  },
  {
   "cell_type": "code",
   "execution_count": null,
   "id": "ddba847b-dd38-4c7f-aa85-51ee3826baed",
   "metadata": {},
   "outputs": [],
   "source": [
    "df_202104_1H_June=pd.read_pickle(os.path.join(LOCAL_DATA_DIR, 'optchain1H_202104_1M.pkl'))\n",
    "df_202105_1H_June=pd.read_pickle(os.path.join(LOCAL_DATA_DIR, 'optchain1H_202105_1M.pkl'))"
   ]
  },
  {
   "cell_type": "code",
   "execution_count": null,
   "id": "da8d9cbc-1c1a-4f94-8bd3-b6fc49dfe014",
   "metadata": {},
   "outputs": [],
   "source": [
    "df_20210829_20210831_20220624_5min = pd.read_pickle(os.path.join(LOCAL_DATA_DIR, 'optchain5Min_20210829_20210831_20220624.pkl'))"
   ]
  },
  {
   "cell_type": "code",
   "execution_count": null,
   "id": "c7afad86-b536-414d-a11e-4d4ec5735b69",
   "metadata": {},
   "outputs": [],
   "source": [
    "df_20210829_20210831_20220624_5min"
   ]
  },
  {
   "cell_type": "code",
   "execution_count": null,
   "id": "e5a1f71d-f8bd-4dd0-b9cf-e72c75f2b595",
   "metadata": {
    "tags": []
   },
   "outputs": [],
   "source": [
    "df = df_519_1m.copy()\n",
    "df=df[df.symbol.str.contains('BTC')]\n",
    "df=df.set_index(['tm','expire','strike']).sort_index()\n",
    "optUtil.volfit(df,plot=3,model=\"errfunc_parabolic_linear6\",kleft=-1.5,kright=2.3)"
   ]
  },
  {
   "cell_type": "code",
   "execution_count": null,
   "id": "f94668e6-06ca-42cf-b10e-2ee9437b786d",
   "metadata": {
    "tags": []
   },
   "outputs": [],
   "source": [
    "df = df_518_1m.copy()\n",
    "df=df[df.symbol.str.contains('BTC')]\n",
    "df=df.set_index(['tm','expire','strike']).sort_index()\n",
    "optUtil.volfit(df,plot=3,model=\"errfunc_parabolic_linear6\",kleft=-1.5,kright=2.3)"
   ]
  },
  {
   "cell_type": "code",
   "execution_count": null,
   "id": "37b3e0b4-8c6d-4780-8c80-d2e7a223f862",
   "metadata": {
    "tags": []
   },
   "outputs": [],
   "source": [
    "vfres=volfit(df,plot=0,model='errfunc_parabolic_linear6',kleft=-2,kright=1.5)"
   ]
  },
  {
   "cell_type": "code",
   "execution_count": null,
   "id": "f2bcda6a-d248-4b69-9045-7f8e2bb52b33",
   "metadata": {},
   "outputs": [],
   "source": [
    "#5Min\n",
    "dfv=DF(vfres)\n",
    "\n",
    "dfv['r']=dfv['s'].pct_change()#*dfv['rr'].shift(1)\n",
    "dfv['r*rrprev']=dfv['r']*dfv['rr'].shift(1)\n",
    "dfv['r*p0prev']=dfv['r']*dfv['p0'].shift(1)\n",
    "dfv['r*convprev']=dfv['r']*dfv['conv'].shift(1)\n",
    "\n",
    "dfv['dv']=dfv['volATM'].diff(1)\n",
    "dfv.head()\n",
    "sm.OLS(dfv['dv'],dfv['r'],missing='drop').fit().params\n",
    "\n",
    "sns.regplot(x='r*p0prev',y='dv',data=dfv).set_title(f\"r*p0prev beta={sm.OLS(dfv['dv'],dfv['r*p0prev'],missing='drop').fit().params[0]} corr={dfv.corr()['dv']['r*p0prev']}\")\n",
    "plt.show()\n",
    "sns.regplot(x='r*rrprev',y='dv',data=dfv).set_title(f\"r*rrprev beta={sm.OLS(dfv['dv'],dfv['r*rrprev'],missing='drop').fit().params[0]} corr={dfv.corr()['dv']['r*rrprev']}\")\n",
    "plt.show()\n",
    "sns.regplot(x='r',y='dv',data=dfv).set_title(f\"r beta={sm.OLS(dfv['dv'],dfv['r'],missing='drop').fit().params[0]} corr={dfv.corr()['dv']['r']}\")"
   ]
  },
  {
   "cell_type": "code",
   "execution_count": null,
   "id": "28817172-36e1-494c-996f-69ccb0efe7ae",
   "metadata": {},
   "outputs": [],
   "source": [
    "DF(vfres).set_index('t')[['p0','p1','p2','p3','p4','p5']].plot()"
   ]
  },
  {
   "cell_type": "markdown",
   "id": "449231c9-819c-44b2-88d0-86fa618a5e87",
   "metadata": {},
   "source": [
    "### 2021 AUG 1H "
   ]
  },
  {
   "cell_type": "code",
   "execution_count": null,
   "id": "02bfda40-49d7-445b-b265-931529e6009e",
   "metadata": {
    "tags": []
   },
   "outputs": [],
   "source": [
    "df = df_8_1m.copy()\n",
    "df=df[df.symbol.str.contains('BTC')]\n",
    "df=df.set_index(['tm','expire','strike']).sort_index()\n",
    "optUtil.volfit(df,plot=3,model=\"errfunc_parabolic_linear6\",kleft=-1.5,kright=2.3)"
   ]
  },
  {
   "cell_type": "code",
   "execution_count": null,
   "id": "e05efb92-14f7-4dd8-84f3-d4fd99f08dac",
   "metadata": {},
   "outputs": [],
   "source": [
    "vfres=volfit(df,plot=0,model='errfunc_parabolic_linear6',kleft=-2,kright=1.5)\n",
    "DF(vfres).set_index('t')[['p0','p1','p2','p3','p4','p5']].plot()"
   ]
  },
  {
   "cell_type": "markdown",
   "id": "d4fa3e40-3220-4a2e-8bc1-6931256d800f",
   "metadata": {},
   "source": [
    "### 2021 AUG 29 5min "
   ]
  },
  {
   "cell_type": "code",
   "execution_count": null,
   "id": "e2b88455-6130-4908-8302-1e0ce23d0a63",
   "metadata": {
    "tags": []
   },
   "outputs": [],
   "source": [
    "df = df_829_1m.copy()\n",
    "df=df[df.symbol.str.contains('BTC')]\n",
    "df=df.set_index(['tm','expire','strike']).sort_index()\n",
    "optUtil.volfit(df,plot=3,model=\"errfunc_parabolic_linear6\",kleft=-1.5,kright=2.3)"
   ]
  },
  {
   "cell_type": "code",
   "execution_count": null,
   "id": "134bdacd-a6c7-4732-aad3-187418275171",
   "metadata": {
    "tags": []
   },
   "outputs": [],
   "source": [
    "vfres=volfit(df,plot=0,model='errfunc_parabolic_linear6',kleft=-2,kright=1.5)\n",
    "DF(vfres).set_index('t')[['p0','p1','p2','p3','p4','p5']].plot()"
   ]
  },
  {
   "cell_type": "code",
   "execution_count": null,
   "id": "e0fbe730-f097-4545-83e6-fe8702da2354",
   "metadata": {
    "tags": []
   },
   "outputs": [],
   "source": [
    "vfres"
   ]
  },
  {
   "cell_type": "markdown",
   "id": "34deb194-c87a-492c-b5c9-39837a79d5f4",
   "metadata": {},
   "source": [
    "#### 2021 AUG 30 5min "
   ]
  },
  {
   "cell_type": "code",
   "execution_count": null,
   "id": "bddc24e1-943d-4979-8ae2-33bb671aebae",
   "metadata": {
    "tags": []
   },
   "outputs": [],
   "source": [
    "df = df_830_1m.copy()\n",
    "df=df[df.symbol.str.contains('BTC')]\n",
    "df=df.set_index(['tm','expire','strike']).sort_index()\n",
    "optUtil.volfit(df,plot=3,model=\"errfunc_parabolic_linear6\",kleft=-1.5,kright=2.3)"
   ]
  },
  {
   "cell_type": "code",
   "execution_count": null,
   "id": "b90a1210-c92f-41f0-b202-b4e11ab43fec",
   "metadata": {},
   "outputs": [],
   "source": [
    "vfres=volfit(df,plot=0,model='errfunc_parabolic_linear6',kleft=-2,kright=1.5)\n",
    "DF(vfres).set_index('t')[['p0','p1','p2','p3','p4','p5']].plot()"
   ]
  },
  {
   "cell_type": "code",
   "execution_count": null,
   "id": "22fb133f-c26c-43c9-aa3a-8c062caa2bad",
   "metadata": {},
   "outputs": [],
   "source": []
  },
  {
   "cell_type": "markdown",
   "id": "ff6438f5-3f45-45de-8937-71ee07d7548b",
   "metadata": {},
   "source": [
    "#### 2021 AUG 31 5min "
   ]
  },
  {
   "cell_type": "code",
   "execution_count": null,
   "id": "a2c879b1-5a40-471a-aebe-8b9f8dbcd5aa",
   "metadata": {
    "tags": []
   },
   "outputs": [],
   "source": [
    "df = df_831_1m.copy()\n",
    "df=df[df.symbol.str.contains('BTC')]\n",
    "df=df.set_index(['tm','expire','strike']).sort_index()\n",
    "optUtil.volfit(df,plot=3,model=\"errfunc_parabolic_linear6\",kleft=-1.5,kright=2.3)"
   ]
  },
  {
   "cell_type": "code",
   "execution_count": null,
   "id": "aa759546-0760-475f-803a-99cc12a6700b",
   "metadata": {},
   "outputs": [],
   "source": [
    "vfres=volfit(df,plot=0,model='errfunc_parabolic_linear6',kleft=-2,kright=1.5)\n",
    "DF(vfres).set_index('t')[['p0','p1','p2','p3','p4','p5']].plot()"
   ]
  },
  {
   "cell_type": "markdown",
   "id": "322ae050-bafc-4ac7-8a15-66a6e27b720d",
   "metadata": {},
   "source": [
    "#### 2021 April 1H "
   ]
  },
  {
   "cell_type": "code",
   "execution_count": null,
   "id": "926497db-59ac-4a86-8242-7c9388fd9273",
   "metadata": {},
   "outputs": [],
   "source": [
    "df = df_202104_1H_June.copy()\n",
    "df=df[df.symbol.str.contains('BTC')]\n",
    "df=df.set_index(['tm','expire','strike']).sort_index()\n",
    "vfres = optUtil.volfit(df,plot=3,model=\"errfunc_parabolic_linear6\",kleft=-1.5,kright=2.3)\n",
    "\n",
    "DF(vfres).set_index('t')[['p0','p1','p2','p3','p4','p5']].plot()"
   ]
  },
  {
   "cell_type": "markdown",
   "id": "01d792db-0997-4671-b2f3-83365d19fe04",
   "metadata": {},
   "source": [
    "#### 2021 May 1H "
   ]
  },
  {
   "cell_type": "code",
   "execution_count": null,
   "id": "5dfd5f90-3652-44ca-9975-d0a5fdd82a0a",
   "metadata": {},
   "outputs": [],
   "source": [
    "df_202105_1H_June[df_202105_1H_June.index>datetime(2021,5,21,0,0)]"
   ]
  },
  {
   "cell_type": "code",
   "execution_count": null,
   "id": "0810b735-23e6-4201-b3c4-04fadd3faf62",
   "metadata": {
    "tags": []
   },
   "outputs": [],
   "source": [
    "df = df_202105_1H_June.copy()\n",
    "df=df[df.symbol.str.contains('BTC')]\n",
    "df=df.set_index(['tm','expire','strike']).sort_index()\n",
    "vfres = optUtil.volfit(df,plot=3,model=\"errfunc_parabolic_linear6\",kleft=-1.5,kright=2.3)"
   ]
  },
  {
   "cell_type": "code",
   "execution_count": null,
   "id": "bca164b6-cf85-432c-9786-e2b2e14b0b9c",
   "metadata": {},
   "outputs": [],
   "source": [
    "df"
   ]
  },
  {
   "cell_type": "code",
   "execution_count": null,
   "id": "e7d7f923-94c2-44f0-aadd-ea9d7e26cf39",
   "metadata": {},
   "outputs": [],
   "source": [
    "DF(vfres).set_index('t')[['p0','p1','p2','p3','p4','p5']].plot()"
   ]
  },
  {
   "cell_type": "markdown",
   "id": "5b3237e4-8564-49ee-9201-3edd364cf58a",
   "metadata": {},
   "source": [
    "#### 202104 spike analysis"
   ]
  },
  {
   "cell_type": "code",
   "execution_count": null,
   "id": "22cbf9c2-cafa-4e5c-94d7-0d11cac0d652",
   "metadata": {},
   "outputs": [],
   "source": [
    "df_202104_spikes = pd.read_pickle(os.path.join(LOCAL_DATA_DIR, 'optchain5Min_202104_spike_days.pkl'))"
   ]
  },
  {
   "cell_type": "code",
   "execution_count": null,
   "id": "72dd0264-43ee-40db-bdf7-7ab590ef498d",
   "metadata": {
    "tags": []
   },
   "outputs": [],
   "source": [
    "df = df_202104_spikes.copy()\n",
    "df=df[df.symbol.str.contains('BTC')]\n",
    "df=df.set_index(['tm','expire','strike']).sort_index()\n",
    "vfres = optUtil.volfit(df,plot=3,model=\"errfunc_parabolic_linear6\",kleft=-1.5,kright=2.3)"
   ]
  },
  {
   "cell_type": "code",
   "execution_count": null,
   "id": "5feae8fb-9e57-4441-bd33-034154f4885c",
   "metadata": {
    "tags": []
   },
   "outputs": [],
   "source": [
    "df_202104_spikes_18 = df_202104_spikes[(df_202104_spikes['tm']<datetime(2021,4,19,0,0)) & (df_202104_spikes['tm']>=datetime(2021,4,18,0,0))]"
   ]
  },
  {
   "cell_type": "code",
   "execution_count": null,
   "id": "bb9daaab-9372-46ce-8e53-f95e4b34b1b5",
   "metadata": {
    "tags": []
   },
   "outputs": [],
   "source": [
    "df = df_202104_spikes_18.copy()\n",
    "df=df[df.symbol.str.contains('BTC')]\n",
    "df=df.set_index(['tm','expire','strike']).sort_index()\n",
    "vfres = optUtil.volfit(df,plot=3,model=\"errfunc_parabolic_linear6\",kleft=-1.5,kright=2.3)"
   ]
  },
  {
   "cell_type": "code",
   "execution_count": null,
   "id": "daa7552f-e61b-4ad6-aa9c-56cb0900dacb",
   "metadata": {},
   "outputs": [],
   "source": [
    "DF(vfres).set_index('t')[['volATM','p0','p1','p2','p3','p4','p5']].plot()"
   ]
  },
  {
   "cell_type": "markdown",
   "id": "b2b3dd55-80d5-497b-87b4-c49734655817",
   "metadata": {},
   "source": [
    "#### 202105 spike analysis\n"
   ]
  },
  {
   "cell_type": "code",
   "execution_count": null,
   "id": "3db12d9a-8513-4106-a3c6-85268f667b6a",
   "metadata": {},
   "outputs": [],
   "source": [
    "df_202105_spikes = pd.read_pickle(os.path.join(LOCAL_DATA_DIR, 'optchain5Min_202105_spike_days.pkl'))"
   ]
  },
  {
   "cell_type": "code",
   "execution_count": null,
   "id": "33116252-0f29-4427-8682-46ea082ea1f8",
   "metadata": {},
   "outputs": [],
   "source": [
    "df_20210519_spikes = pd.read_pickle(os.path.join(LOCAL_DATA_DIR, 'optchain1Min_20210519_20211231.pkl'))"
   ]
  },
  {
   "cell_type": "code",
   "execution_count": null,
   "id": "ab48a25b-7651-4779-aa2a-790b9afd39d2",
   "metadata": {},
   "outputs": [],
   "source": [
    "df_20210519_spikes"
   ]
  },
  {
   "cell_type": "code",
   "execution_count": null,
   "id": "a44581ee-6f3e-48af-ac16-95dd4ebf55e0",
   "metadata": {},
   "outputs": [],
   "source": []
  },
  {
   "cell_type": "code",
   "execution_count": null,
   "id": "21e8fcd6-85ff-438a-a259-1196756eaa66",
   "metadata": {},
   "outputs": [],
   "source": []
  },
  {
   "cell_type": "code",
   "execution_count": null,
   "id": "88e6ad53-9af1-4275-a35b-d69b249b6b39",
   "metadata": {},
   "outputs": [],
   "source": []
  },
  {
   "cell_type": "code",
   "execution_count": null,
   "id": "7cb7f0bb-6bcc-4fc7-82ef-67bcbbef19b2",
   "metadata": {},
   "outputs": [],
   "source": []
  },
  {
   "cell_type": "code",
   "execution_count": null,
   "id": "189c2e51-ea5c-4e89-bc26-a0a333639870",
   "metadata": {},
   "outputs": [],
   "source": []
  },
  {
   "cell_type": "code",
   "execution_count": null,
   "id": "4f5eedbc-7fe4-4a61-ae85-e63da236fbb6",
   "metadata": {
    "tags": []
   },
   "outputs": [],
   "source": [
    "df = df_202105_spikes"
   ]
  },
  {
   "cell_type": "code",
   "execution_count": null,
   "id": "9a80ea03-e3d9-4e1f-923e-b246c145d480",
   "metadata": {},
   "outputs": [],
   "source": [
    "df = df_202105_spikes[df_202105_spikes.index<=datetime(2021,5,16,2,0,0)]"
   ]
  },
  {
   "cell_type": "code",
   "execution_count": null,
   "id": "77c4c6ae-6044-401f-9844-6dd92c5f389a",
   "metadata": {
    "tags": []
   },
   "outputs": [],
   "source": [
    "df  = df_202105_spikes[df_202105_spikes['symbol'].str.contains('BTC')].head(500)"
   ]
  },
  {
   "cell_type": "code",
   "execution_count": null,
   "id": "c173b640-0f85-4faf-8af9-28ca5d0683d8",
   "metadata": {
    "tags": []
   },
   "outputs": [],
   "source": [
    "\\df"
   ]
  },
  {
   "cell_type": "code",
   "execution_count": null,
   "id": "2bdfcec8-563e-46f9-8c8a-0066b3a8e1bf",
   "metadata": {
    "tags": []
   },
   "outputs": [],
   "source": [
    "df=df[df.symbol.str.contains('BTC')]\n",
    "df=df.set_index(['tm','expire','strike']).sort_index()\n",
    "vfres = optUtil.volfit(df,plot=3,model=\"errfunc_parabolic_linear6\",kleft=-1.5,kright=2.3)"
   ]
  },
  {
   "cell_type": "code",
   "execution_count": null,
   "id": "d1c8bbee-6d65-44ff-9abd-0be9eaba173f",
   "metadata": {},
   "outputs": [],
   "source": [
    "vfres"
   ]
  },
  {
   "cell_type": "code",
   "execution_count": null,
   "id": "b3a858c1-390c-4d7d-a64a-e6057667e3f1",
   "metadata": {},
   "outputs": [],
   "source": [
    "df.iloc[:3,:]"
   ]
  },
  {
   "cell_type": "code",
   "execution_count": null,
   "id": "9e220b65-6916-40ea-a4e1-96974a0554fd",
   "metadata": {},
   "outputs": [],
   "source": [
    "DF(vfres).set_index('t')[['volATM','p0','p1','p2','p3','p4','p5']].plot()"
   ]
  },
  {
   "cell_type": "markdown",
   "id": "e725c536-af46-4558-8788-e6f4c6fe4ba5",
   "metadata": {},
   "source": [
    "### df_20210829_20210831_20220624_5min"
   ]
  },
  {
   "cell_type": "code",
   "execution_count": null,
   "id": "28b50705-397a-4f0e-b1b0-d6158f365215",
   "metadata": {
    "tags": []
   },
   "outputs": [],
   "source": [
    "df = df_20210829_20210831_20220624_5min.copy()\n",
    "df=df[df.symbol.str.contains('BTC')]\n",
    "df=df.set_index(['tm','expire','strike']).sort_index()\n",
    "vfres = optUtil.volfit(df,plot=3,model=\"errfunc_parabolic_linear6\",kleft=-1.5,kright=2.3, expiry_date='20220624')"
   ]
  },
  {
   "cell_type": "code",
   "execution_count": null,
   "id": "836c94f8-a4ef-4f80-a90c-84c3aa35ed08",
   "metadata": {},
   "outputs": [],
   "source": [
    "DF(vfres).set_index('t')[['p0','p1','p2','p3','p4','p5']].iplot()"
   ]
  },
  {
   "cell_type": "code",
   "execution_count": null,
   "id": "b99ba47a-6b70-4133-a61c-b9ab973ccd7d",
   "metadata": {},
   "outputs": [],
   "source": [
    "DF(vfres).set_index('t')[['p0','p1','p2','p3','p4','p5']].plot()"
   ]
  }
 ],
 "metadata": {
  "kernelspec": {
   "display_name": "Python 3 (ipykernel)",
   "language": "python",
   "name": "python3"
  },
  "language_info": {
   "codemirror_mode": {
    "name": "ipython",
    "version": 3
   },
   "file_extension": ".py",
   "mimetype": "text/x-python",
   "name": "python",
   "nbconvert_exporter": "python",
   "pygments_lexer": "ipython3",
   "version": "3.8.8"
  }
 },
 "nbformat": 4,
 "nbformat_minor": 5
}
