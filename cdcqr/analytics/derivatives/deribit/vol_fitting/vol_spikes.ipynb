{
 "cells": [
  {
   "cell_type": "markdown",
   "id": "bbf69db4-cfd3-449d-b3b5-cd3648702983",
   "metadata": {},
   "source": [
    "### Finding the vol fitting outliers\n",
    "   * produce the ATM option spread in 2021\n",
    "   * find <20 periods of spikes\n",
    "   * go to CT to check the vol fitting curves\n",
    "   * write down the summaries into confluence"
   ]
  },
  {
   "cell_type": "code",
   "execution_count": null,
   "id": "d789aca5-d9b3-4923-809c-a60d9fcf8311",
   "metadata": {},
   "outputs": [],
   "source": [
    "from cdcqr.data.deribit.data_utils import quoto_and_trade_analysis\n",
    "from datetime import datetime\n",
    "import sys\n",
    "import pandas as pd\n",
    "from cdcqr.data.deribit.data_utils import get_spread_from_ATM_option_quote_data\n",
    "from cdcqr.common.utils import parallel_jobs\n",
    "from cdcqr.common.config import LOCAL_DATA_DIR\n",
    "sys.path.append('C://github/cryptoderiv-quant/')\n",
    "import numpy as np\n",
    "import matplotlib.pyplot as plt\n",
    "import os"
   ]
  },
  {
   "cell_type": "code",
   "execution_count": null,
   "id": "acd3a2cb-9903-430a-af22-879b107b52c4",
   "metadata": {},
   "outputs": [],
   "source": [
    "#from ct.utils import plot2"
   ]
  },
  {
   "cell_type": "markdown",
   "id": "6b60110a-7e6b-49d4-99cf-de975c5fcf29",
   "metadata": {},
   "source": [
    "quoto_and_trade_analysis?"
   ]
  },
  {
   "cell_type": "code",
   "execution_count": null,
   "id": "cb40b170-ff25-46fc-ad31-862407aa1d22",
   "metadata": {},
   "outputs": [],
   "source": [
    "ret_dict, ret_df = quoto_and_trade_analysis(contract='BTC-25JUN21-60000-C', date='2021-04-18')"
   ]
  },
  {
   "cell_type": "code",
   "execution_count": null,
   "id": "4cc04b33-aa20-43f7-b19a-c2d3596fb519",
   "metadata": {},
   "outputs": [],
   "source": [
    "ret_df['strike'].plot()"
   ]
  },
  {
   "cell_type": "markdown",
   "id": "451b2a8a-d03b-4ab7-81d1-af39dbf8b536",
   "metadata": {},
   "source": [
    "### 1) Load quote data, finding the ATM option, produce the spread at minutes level"
   ]
  },
  {
   "cell_type": "code",
   "execution_count": null,
   "id": "4d9b6e9b-973a-4dba-ae59-8f2a4aa856fe",
   "metadata": {},
   "outputs": [],
   "source": [
    "def get_spread_from_ATM_option_quote_data(date):\n",
    "    \"\"\"\n",
    "    load quote data -> find the ATM call -> calcuate spread, resample at 1 min level -> return the max spread time series\n",
    "    \"\"\"\n",
    "    df = data_loader(exchange='deribit', date = date.strftime('%Y-%m-%d'), data_type='quotes', symbol='OPTIONS', )\n",
    "    df1 = df[['symbol','timestamp','ask_price','bid_price']]\n",
    "    df2 = df1[df1['symbol'].str.contains('BTC') & df1['symbol'].str.contains('-C')]\n",
    "    df2['spread'] = df2['ask_price'] - df2['bid_price']\n",
    "    df3 = df2[['symbol','timestamp','spread']]\n",
    "    ATM_call = df3.groupby('symbol')['spread'].count().sort_values(ascending=False).index[0]\n",
    "    df4 = df3.query('symbol==@ATM_call')\n",
    "    df4['dt'] = pd.to_datetime(df4['timestamp'], unit='us')\n",
    "    df5 = df4.set_index('dt').resample('1T')['spread'].max()\n",
    "    df5 = df5[df5.index>=date]\n",
    "    return df5"
   ]
  },
  {
   "cell_type": "code",
   "execution_count": null,
   "id": "5d0b0e89-aa4a-47cc-b7e6-305f5670fd78",
   "metadata": {},
   "outputs": [],
   "source": [
    "from cdcqr.data.dataloader import data_loader\n",
    "dates = pd.date_range(datetime(2021,1,1), datetime(2021,10,28))\n",
    "date = dates[0]"
   ]
  },
  {
   "cell_type": "code",
   "execution_count": null,
   "id": "23e65da4-5721-4706-ba0e-f15d5ab81cb7",
   "metadata": {},
   "outputs": [],
   "source": [
    "get_spread_from_ATM_option_quote_data(date)"
   ]
  },
  {
   "cell_type": "markdown",
   "id": "53df6b67-f39d-4640-af35-5b85881b3867",
   "metadata": {},
   "source": [
    "### 2) run the above function in parallel"
   ]
  },
  {
   "cell_type": "code",
   "execution_count": null,
   "id": "95b76794-c663-4e5a-98b6-dc805dd8e8e8",
   "metadata": {},
   "outputs": [],
   "source": [
    "dates = pd.date_range(datetime(2021,1,1), datetime(2021,4,1))\n",
    "dates2 = pd.date_range(datetime(2021,4,2), datetime(2021,7,1))\n",
    "dates3 = pd.date_range(datetime(2021,7,2), datetime(2021,10,27))\n"
   ]
  },
  {
   "cell_type": "code",
   "execution_count": null,
   "id": "745f5608-a194-4619-bf0b-db0c7361d616",
   "metadata": {},
   "outputs": [],
   "source": [
    "ret_dict = parallel_jobs(get_spread_from_ATM_option_quote_data, dates3)"
   ]
  },
  {
   "cell_type": "code",
   "execution_count": null,
   "id": "82fe42cb-b9cc-4b5c-aa6b-310b99a5b706",
   "metadata": {},
   "outputs": [],
   "source": [
    "ret_df = pd.concat(ret_dict.values()).sort_index()"
   ]
  },
  {
   "cell_type": "code",
   "execution_count": null,
   "id": "7d4f92ec-c4b5-44ed-b831-d3b6fc3a8f2c",
   "metadata": {},
   "outputs": [],
   "source": [
    "ret_df_08_10= ret_df.copy()"
   ]
  },
  {
   "cell_type": "code",
   "execution_count": null,
   "id": "846a7ddc-d555-41b9-b0a4-3b0a737bb071",
   "metadata": {},
   "outputs": [],
   "source": [
    "ret_df_04_07 = ret_df.copy()"
   ]
  },
  {
   "cell_type": "code",
   "execution_count": null,
   "id": "4c28d74c-df64-4adb-9c1c-c6b2b6382402",
   "metadata": {},
   "outputs": [],
   "source": [
    "ret_df.plot()"
   ]
  },
  {
   "cell_type": "code",
   "execution_count": null,
   "id": "1418c7b3-2224-44cd-92d5-b34c43269fe2",
   "metadata": {},
   "outputs": [],
   "source": [
    "ret_df_01_03 = ret_df.copy()"
   ]
  },
  {
   "cell_type": "code",
   "execution_count": null,
   "id": "0f03edf2-2032-4949-951e-2d7df9a68533",
   "metadata": {},
   "outputs": [],
   "source": [
    "ret_df_04_07.plot()"
   ]
  },
  {
   "cell_type": "code",
   "execution_count": null,
   "id": "16785dab-148f-4ac4-b0f5-0c9f2e97fc5f",
   "metadata": {},
   "outputs": [],
   "source": [
    "df_2021[(df_2021['dt']>=datetime(2021,7,8,0,0)) & (df_2021['dt']<datetime(2021,7,9,0,0))].set_index('dt')['spread'].plot()"
   ]
  },
  {
   "cell_type": "code",
   "execution_count": null,
   "id": "70366c54-a619-4984-92d8-bd81f3641139",
   "metadata": {},
   "outputs": [],
   "source": [
    "df_2021[(df_2021['dt']>=datetime(2021,5,23,0,0)) & (df_2021['dt']<datetime(2021,5,24,0,0))].set_index('dt')['spread'].plot()"
   ]
  },
  {
   "cell_type": "code",
   "execution_count": null,
   "id": "4d95bb37-1674-44bb-9e3c-ff6d302471e8",
   "metadata": {},
   "outputs": [],
   "source": [
    "ret_df_04_07.shape"
   ]
  },
  {
   "cell_type": "code",
   "execution_count": null,
   "id": "0e0e903a-520a-44b1-a3d5-8b8143131afa",
   "metadata": {},
   "outputs": [],
   "source": [
    "ret_df_08_10.shape"
   ]
  },
  {
   "cell_type": "code",
   "execution_count": null,
   "id": "5e03823e-fba2-4bbe-b1a2-efc8f3dd41a1",
   "metadata": {},
   "outputs": [],
   "source": [
    "df_2021 = ret_df_01_03.append(ret_df_04_07).append(ret_df_08_10)"
   ]
  },
  {
   "cell_type": "code",
   "execution_count": null,
   "id": "cc12edd7-1866-4d4b-af1a-78930e9ad632",
   "metadata": {},
   "outputs": [],
   "source": [
    "df_2021['date'] = df_2021['dt'].dt.date"
   ]
  },
  {
   "cell_type": "code",
   "execution_count": null,
   "id": "cd974c89-0072-41be-a0e3-45049856675e",
   "metadata": {},
   "outputs": [],
   "source": [
    "df_2021.to_pickle()"
   ]
  },
  {
   "cell_type": "markdown",
   "id": "dc81daef-df93-4a50-baad-90f20d2109f1",
   "metadata": {},
   "source": [
    "### 3) find the spike periods"
   ]
  },
  {
   "cell_type": "code",
   "execution_count": null,
   "id": "009d369a-fa45-4ec4-b540-ef0e05403af1",
   "metadata": {},
   "outputs": [],
   "source": [
    "df_2021.plot()"
   ]
  },
  {
   "cell_type": "code",
   "execution_count": null,
   "id": "10acdac9-2efb-42c1-aa78-f84bd0ffbd07",
   "metadata": {},
   "outputs": [],
   "source": [
    "df_2021 = df_2021.reset_index()"
   ]
  },
  {
   "cell_type": "markdown",
   "id": "fef99040-1b06-4fa3-ba0a-c9a991e88ad6",
   "metadata": {},
   "source": [
    "#### spikes >=0.5"
   ]
  },
  {
   "cell_type": "code",
   "execution_count": null,
   "id": "b1238875-3492-49d9-8ea2-05847789e23c",
   "metadata": {},
   "outputs": [],
   "source": [
    "spikes_lv1 = df_2021[df_2021>=0.5].reset_index()"
   ]
  },
  {
   "cell_type": "code",
   "execution_count": null,
   "id": "4f255115-0c70-429b-a376-f072e8c01aa2",
   "metadata": {},
   "outputs": [],
   "source": [
    "spikes_lv1['date'] = spikes_lv1['dt'].dt.date"
   ]
  },
  {
   "cell_type": "code",
   "execution_count": null,
   "id": "2d765f02-00cc-4906-ac3e-b7d5ff8a4225",
   "metadata": {},
   "outputs": [],
   "source": [
    "spikes_lv1.groupby('date').count()"
   ]
  },
  {
   "cell_type": "code",
   "execution_count": null,
   "id": "e143867b-7ff6-472f-bea3-81d3dee4e05f",
   "metadata": {},
   "outputs": [],
   "source": []
  },
  {
   "cell_type": "code",
   "execution_count": null,
   "id": "841e6b15-b52e-4431-916b-26756046098b",
   "metadata": {},
   "outputs": [],
   "source": [
    "df_2021[(df_2021['dt']>=datetime(2021,9,27,0,0)) & (df_2021['dt']<datetime(2021,9,28,0,0))].set_index('dt')['spread'].plot()"
   ]
  },
  {
   "cell_type": "markdown",
   "id": "cb6fc7fb-c9f2-4d4a-8f7f-f75989f8c821",
   "metadata": {},
   "source": [
    "### on 20210519, check ATM bid/ask price, quantity and flow for 40k, 32k, 48k put/call with expire on 20211231 "
   ]
  },
  {
   "cell_type": "code",
   "execution_count": null,
   "id": "9bdebeec-fca0-44d4-ba0b-3706b4bf4f43",
   "metadata": {},
   "outputs": [],
   "source": [
    "ret_dict, ret_df_40C = quoto_and_trade_analysis(contract='BTC-31DEC21-40000-C', date='2021-05-19')"
   ]
  },
  {
   "cell_type": "code",
   "execution_count": null,
   "id": "3b0f8de1-ff8f-461c-8292-272a6f1a645b",
   "metadata": {},
   "outputs": [],
   "source": [
    "ret_dict, ret_df_40P = quoto_and_trade_analysis(contract='BTC-31DEC21-40000-P', date='2021-05-19')"
   ]
  },
  {
   "cell_type": "code",
   "execution_count": null,
   "id": "a992353b-a265-4a5d-bd6f-f6d10d5e50d5",
   "metadata": {},
   "outputs": [],
   "source": [
    "ret_dict, ret_df_32P = quoto_and_trade_analysis(contract='BTC-31DEC21-32000-P', date='2021-05-19')"
   ]
  },
  {
   "cell_type": "code",
   "execution_count": null,
   "id": "2a212195-c870-4a13-bf56-4437c9ab4b28",
   "metadata": {},
   "outputs": [],
   "source": [
    "ret_dict, ret_df_32C = quoto_and_trade_analysis(contract='BTC-31DEC21-32000-C', date='2021-05-19')"
   ]
  },
  {
   "cell_type": "code",
   "execution_count": null,
   "id": "a4a1fbff-4d61-4192-8982-2f0735ba6ef6",
   "metadata": {},
   "outputs": [],
   "source": [
    "ret_dict, ret_df_48C = quoto_and_trade_analysis(contract='BTC-31DEC21-48000-C', date='2021-05-19')"
   ]
  },
  {
   "cell_type": "code",
   "execution_count": null,
   "id": "ade3b5f6-3d12-4652-8ffc-797331984e40",
   "metadata": {},
   "outputs": [],
   "source": [
    "ret_dict, ret_df_48P = quoto_and_trade_analysis(contract='BTC-31DEC21-48000-P', date='2021-05-19')"
   ]
  },
  {
   "cell_type": "markdown",
   "id": "3b3ec32d-2c24-41ab-b0f7-c66894f8b7e0",
   "metadata": {},
   "source": [
    "### 40K CALL"
   ]
  },
  {
   "cell_type": "code",
   "execution_count": null,
   "id": "ae3a82fd-f966-430e-bdc0-ddf1c2153ceb",
   "metadata": {},
   "outputs": [],
   "source": [
    "df2plot = ret_df_40C.query('timestamp_dt>=datetime(2021,5,19,16,25)').query('timestamp_dt<=datetime(2021,5,19,16,40)').set_index('timestamp_dt')[['ask_price','bid_price','flow']]\n",
    "fig, ax1 = plt.subplots(1,1, figsize=(8*4,6))\n",
    "df2plot[['ask_price','bid_price',]].plot(ax=ax1, linestyle='None', marker = '.')\n",
    "ax2 = ax1.twinx()\n",
    "df2plot['flow'] = df2plot['flow'].replace(0, np.nan)\n",
    "df2plot['flow'].plot(ax=ax2, legend=['trade'], color = ['b'], linestyle='None', marker = 'x')\n",
    "plt.title('BTC-31DEC21-40000-C')\n",
    "plt.show()"
   ]
  },
  {
   "cell_type": "code",
   "execution_count": null,
   "id": "896690b6-a817-4804-bd44-7a9b0d29a0e1",
   "metadata": {},
   "outputs": [],
   "source": [
    "ret_df_40C.head(2)"
   ]
  },
  {
   "cell_type": "code",
   "execution_count": null,
   "id": "1513e497-d88c-4d26-a250-0d559349fd87",
   "metadata": {},
   "outputs": [],
   "source": [
    "df2plot = ret_df_40C.query('timestamp_dt>=datetime(2021,5,19,16,25)').query('timestamp_dt<=datetime(2021,5,19,16,40)').set_index('timestamp_dt')[['ask_amount','bid_amount','flow']]\n",
    "fig, ax1 = plt.subplots(1,1, figsize=(8*4,6))\n",
    "df2plot[['ask_amount','bid_amount',]].plot(ax=ax1, linestyle='None', marker = '.')\n",
    "plt.show()"
   ]
  },
  {
   "cell_type": "markdown",
   "id": "06396dda-3d48-4be2-a638-e2a6afc1f3f2",
   "metadata": {
    "tags": []
   },
   "source": [
    "### 40K PUT"
   ]
  },
  {
   "cell_type": "code",
   "execution_count": null,
   "id": "8899c826-7a31-4f27-8414-aedf9be70592",
   "metadata": {
    "tags": []
   },
   "outputs": [],
   "source": [
    "df2plot = ret_df_40P.query('timestamp_dt>=datetime(2021,5,19,16,25)').query('timestamp_dt<=datetime(2021,5,19,16,40)').set_index('timestamp_dt')[['ask_price','bid_price','flow']]\n",
    "fig, ax1 = plt.subplots(1,1, figsize=(8*4,6))\n",
    "df2plot[['ask_price','bid_price',]].plot(ax=ax1, linestyle='None', marker = '.')\n",
    "ax2 = ax1.twinx()\n",
    "df2plot['flow'] = df2plot['flow'].replace(0, np.nan)\n",
    "df2plot['flow'].plot(ax=ax2, legend=['trade'], color = ['b'], linestyle='None', marker = 'x')\n",
    "plt.title('BTC-31DEC21-40000-P')\n",
    "plt.show()"
   ]
  },
  {
   "cell_type": "code",
   "execution_count": null,
   "id": "85d6aa57-60ed-4275-928a-427f84eee471",
   "metadata": {
    "tags": []
   },
   "outputs": [],
   "source": [
    "df2plot = ret_df_40P.query('timestamp_dt>=datetime(2021,5,19,16,25)').query('timestamp_dt<=datetime(2021,5,19,16,40)').set_index('timestamp_dt')[['ask_amount','bid_amount','flow']]\n",
    "fig, ax1 = plt.subplots(1,1, figsize=(8*4,6))\n",
    "df2plot[['ask_amount','bid_amount',]].plot(ax=ax1, linestyle='None', marker = '.')\n",
    "plt.title('BTC-31DEC21-40000-P')\n",
    "plt.show()"
   ]
  },
  {
   "cell_type": "markdown",
   "id": "2b1a079e-4e56-4846-9f49-6470fb24d739",
   "metadata": {
    "tags": []
   },
   "source": [
    "#### 32K CALL"
   ]
  },
  {
   "cell_type": "code",
   "execution_count": null,
   "id": "6bda3568-0272-4ae4-80ab-bf4651967e89",
   "metadata": {
    "tags": []
   },
   "outputs": [],
   "source": [
    "df2plot = ret_df_32C.query('timestamp_dt>=datetime(2021,5,19,16,25)').query('timestamp_dt<=datetime(2021,5,19,16,40)').set_index('timestamp_dt')[['ask_price','bid_price','flow']]\n",
    "fig, ax1 = plt.subplots(1,1, figsize=(8*4,6))\n",
    "df2plot[['ask_price','bid_price',]].plot(ax=ax1, linestyle='None', marker = '.')\n",
    "ax2 = ax1.twinx()\n",
    "df2plot['flow'] = df2plot['flow'].replace(0, np.nan)\n",
    "df2plot['flow'].plot(ax=ax2, legend=['trade'], color = ['b'], linestyle='None', marker = 'x')\n",
    "plt.title('BTC-31DEC21-32000-C')\n",
    "plt.show()"
   ]
  },
  {
   "cell_type": "code",
   "execution_count": null,
   "id": "017ac4cc-f1cb-4f52-b23c-1f5f1867e604",
   "metadata": {
    "tags": []
   },
   "outputs": [],
   "source": [
    "df2plot = ret_df_32C.query('timestamp_dt>=datetime(2021,5,19,16,25)').query('timestamp_dt<=datetime(2021,5,19,16,40)').set_index('timestamp_dt')[['ask_amount','bid_amount','flow']]\n",
    "fig, ax1 = plt.subplots(1,1, figsize=(8*4,6))\n",
    "df2plot[['ask_amount','bid_amount',]].plot(ax=ax1, linestyle='None', marker = '.')\n",
    "plt.title('BTC-31DEC21-32000-C')\n",
    "plt.show()"
   ]
  },
  {
   "cell_type": "markdown",
   "id": "56f77d7b-4f28-4c8c-b657-afce7d76e872",
   "metadata": {
    "tags": []
   },
   "source": [
    "#### 32K PUT"
   ]
  },
  {
   "cell_type": "code",
   "execution_count": null,
   "id": "5efd3456-af29-4fc5-b7d7-3f1b2faa986e",
   "metadata": {
    "tags": []
   },
   "outputs": [],
   "source": [
    "df2plot = ret_df_32P.query('timestamp_dt>=datetime(2021,5,19,16,25)').query('timestamp_dt<=datetime(2021,5,19,16,40)').set_index('timestamp_dt')[['ask_price','bid_price','flow']]\n",
    "fig, ax1 = plt.subplots(1,1, figsize=(8*4,6))\n",
    "df2plot[['ask_price','bid_price',]].plot(ax=ax1, linestyle='None', marker = '.')\n",
    "ax2 = ax1.twinx()\n",
    "df2plot['flow'] = df2plot['flow'].replace(0, np.nan)\n",
    "df2plot['flow'].plot(ax=ax2, legend=['trade'], color = ['b'], linestyle='None', marker = 'x')\n",
    "plt.title('BTC-31DEC21-32000-P')\n",
    "plt.show()"
   ]
  },
  {
   "cell_type": "code",
   "execution_count": null,
   "id": "b480a627-8369-4491-a5d7-0a4d29275f09",
   "metadata": {
    "tags": []
   },
   "outputs": [],
   "source": [
    "df2plot = ret_df_32P.query('timestamp_dt>=datetime(2021,5,19,16,25)').query('timestamp_dt<=datetime(2021,5,19,16,40)').set_index('timestamp_dt')[['ask_amount','bid_amount','flow']]\n",
    "fig, ax1 = plt.subplots(1,1, figsize=(8*4,6))\n",
    "df2plot[['ask_amount','bid_amount',]].plot(ax=ax1, linestyle='None', marker = '.')\n",
    "plt.title('BTC-31DEC21-32000-P')\n",
    "plt.show()"
   ]
  },
  {
   "cell_type": "markdown",
   "id": "1a200bdf-1720-4745-9464-0009b6cd55dc",
   "metadata": {},
   "source": [
    "#### 48K CALL"
   ]
  },
  {
   "cell_type": "code",
   "execution_count": null,
   "id": "1c5ef874-9bdd-413c-8aa9-92315ffe2f1d",
   "metadata": {},
   "outputs": [],
   "source": [
    "df2plot = ret_df_48C.query('timestamp_dt>=datetime(2021,5,19,16,25)').query('timestamp_dt<=datetime(2021,5,19,16,40)').set_index('timestamp_dt')[['ask_price','bid_price','flow']]\n",
    "#df2plot = ret_df_48P.set_index('timestamp_dt')[['ask_price','bid_price','flow']]\n",
    "fig, ax1 = plt.subplots(1,1, figsize=(8*4,6))\n",
    "df2plot[['ask_price','bid_price',]].plot(ax=ax1, linestyle='None', marker = '.')\n",
    "ax2 = ax1.twinx()\n",
    "df2plot['flow'].plot(ax=ax2, legend=['trade'], color = ['b'], linestyle='None', marker = 'x')\n",
    "plt.title('BTC-31DEC21-48000-P')\n",
    "plt.show()"
   ]
  },
  {
   "cell_type": "code",
   "execution_count": null,
   "id": "0cb453d5-0b43-4e73-aa86-70852c8c2d79",
   "metadata": {},
   "outputs": [],
   "source": [
    "df2plot = ret_df_48C.query('timestamp_dt>=datetime(2021,5,19,16,25)').query('timestamp_dt<=datetime(2021,5,19,16,40)').set_index('timestamp_dt')[['ask_amount','bid_amount','flow']]\n",
    "fig, ax1 = plt.subplots(1,1, figsize=(8*4,6))\n",
    "df2plot[['ask_amount','bid_amount',]].plot(ax=ax1, linestyle='None', marker = '.')\n",
    "plt.title('BTC-31DEC21-48000-C')\n",
    "plt.show()"
   ]
  },
  {
   "cell_type": "markdown",
   "id": "65fa9221-a656-445a-a0f1-19af07f837d2",
   "metadata": {},
   "source": [
    "#### 48K PUT"
   ]
  },
  {
   "cell_type": "code",
   "execution_count": null,
   "id": "5a46a584-4cf8-4ea9-ae0e-68ed43190572",
   "metadata": {},
   "outputs": [],
   "source": [
    "df2plot = ret_df_48P.query('timestamp_dt>=datetime(2021,5,19,16,25)').query('timestamp_dt<=datetime(2021,5,19,16,40)').set_index('timestamp_dt')[['ask_price','bid_price','flow']]\n",
    "fig, ax1 = plt.subplots(1,1, figsize=(8*4,6))\n",
    "df2plot[['ask_price','bid_price',]].plot(ax=ax1, linestyle='None', marker = '.')\n",
    "ax2 = ax1.twinx()\n",
    "df2plot['flow'].plot(ax=ax2, legend=['trade'], color = ['b'], linestyle='None', marker = 'x')\n",
    "plt.title('BTC-31DEC21-48000-P')\n",
    "plt.show()"
   ]
  },
  {
   "cell_type": "code",
   "execution_count": null,
   "id": "c8a77428-157d-4e0b-8654-b76316464926",
   "metadata": {},
   "outputs": [],
   "source": [
    "df2plot = ret_df_48P.query('timestamp_dt>=datetime(2021,5,19,16,25)').query('timestamp_dt<=datetime(2021,5,19,16,40)').set_index('timestamp_dt')[['ask_amount','bid_amount','flow']]\n",
    "fig, ax1 = plt.subplots(1,1, figsize=(8*4,6))\n",
    "df2plot[['ask_amount','bid_amount',]].plot(ax=ax1, linestyle='None', marker = '.')\n",
    "plt.title('BTC-31DEC21-48000-P')\n",
    "plt.show()"
   ]
  },
  {
   "cell_type": "markdown",
   "id": "3e497d8a-d2c1-49e2-8102-326fd15083b4",
   "metadata": {},
   "source": [
    "#### PERP"
   ]
  },
  {
   "cell_type": "markdown",
   "id": "93081e27-8de3-48ee-96dd-6ce6446d0426",
   "metadata": {},
   "source": []
  },
  {
   "cell_type": "markdown",
   "id": "1d79b874-24e5-45b6-8720-875181ef15d6",
   "metadata": {},
   "source": [
    "#### OERDERBOOK"
   ]
  },
  {
   "cell_type": "code",
   "execution_count": null,
   "id": "1ce3fa00-3da5-45a4-95fc-7c8fb6852bfc",
   "metadata": {},
   "outputs": [],
   "source": []
  },
  {
   "cell_type": "code",
   "execution_count": null,
   "id": "8aa7862e-5017-468a-ba0b-3f37977b6d16",
   "metadata": {
    "scrolled": true,
    "tags": []
   },
   "outputs": [],
   "source": [
    "[x for x in list(df['symbol'].unique()) if 'BTC-31DEC21' in x]"
   ]
  },
  {
   "cell_type": "code",
   "execution_count": null,
   "id": "86329f4f-b51c-4d62-9602-55a0c1bb8190",
   "metadata": {},
   "outputs": [],
   "source": [
    "quoto_and_trade_analysis??"
   ]
  },
  {
   "cell_type": "code",
   "execution_count": null,
   "id": "96882c27-c406-4ba7-8b47-c3fc9a3f20a3",
   "metadata": {},
   "outputs": [],
   "source": [
    "exchange = 'deribit'\n",
    "date = '2021-05-19'\n",
    "symbol = 'OPTIONS'\n",
    "df_opt_trade = data_loader(exchange, date,\"trades\",symbol)"
   ]
  },
  {
   "cell_type": "code",
   "execution_count": null,
   "id": "73fed115-f67b-460e-8b0f-2f514be5d90e",
   "metadata": {},
   "outputs": [],
   "source": [
    "df_opt_trade = df_opt_trade.query('symbol==\"BTC-31DEC21-40000-P\"')"
   ]
  },
  {
   "cell_type": "code",
   "execution_count": null,
   "id": "8a631470-dcb7-4492-87af-a40ac050ade2",
   "metadata": {},
   "outputs": [],
   "source": [
    "df_opt_trade['dt'] = pd.to_datetime(df_opt_trade['timestamp'], unit='us') # check convert ts"
   ]
  },
  {
   "cell_type": "code",
   "execution_count": null,
   "id": "415f081b-02a2-4711-a7d9-a42cc4f9e06b",
   "metadata": {},
   "outputs": [],
   "source": [
    "pd.set_option('display.max_rows', 500)"
   ]
  },
  {
   "cell_type": "code",
   "execution_count": null,
   "id": "0d1e8e28-0db0-4087-9b0b-5a42a75ec167",
   "metadata": {},
   "outputs": [],
   "source": [
    "df_opt_trade.set_index('dt')"
   ]
  },
  {
   "cell_type": "code",
   "execution_count": null,
   "id": "81615ed0-dadc-4f9c-a4d5-c878d3a5b8d3",
   "metadata": {
    "scrolled": true,
    "tags": []
   },
   "outputs": [],
   "source": [
    "ret_df_48P.query('timestamp_dt>=datetime(2021,5,19,15,00)').query('timestamp_dt<=datetime(2021,5,19,16,00)')"
   ]
  },
  {
   "cell_type": "code",
   "execution_count": null,
   "id": "ec2c2de2-3a51-475b-89d8-9d80be372dd5",
   "metadata": {
    "scrolled": true,
    "tags": []
   },
   "outputs": [],
   "source": [
    "ret_df_40P.query('timestamp_dt>=datetime(2021,5,19,15,)').query('timestamp_dt<=datetime(2021,5,19,16,)')"
   ]
  },
  {
   "cell_type": "markdown",
   "id": "67cd4742-e049-42fb-9ad9-b301067ff7c9",
   "metadata": {},
   "source": [
    "### check order book snapshot"
   ]
  },
  {
   "cell_type": "code",
   "execution_count": null,
   "id": "1906c9f1-3505-4d99-b5c9-a194bc1c6cb6",
   "metadata": {},
   "outputs": [],
   "source": [
    "exchange = 'deribit'\n",
    "date = '2021-05-19'\n",
    "symbol = 'OPTIONS'\n",
    "data_type = 'book_snapshot_25'\n",
    "df_snapshot = data_loader(exchange, date,data_type,symbol)"
   ]
  },
  {
   "cell_type": "code",
   "execution_count": null,
   "id": "86b854d0-1ad7-4c28-b25d-42b8cfa040f3",
   "metadata": {},
   "outputs": [],
   "source": [
    "df_snapshot.head()"
   ]
  },
  {
   "cell_type": "code",
   "execution_count": null,
   "id": "7702aa50-c762-4b26-8823-71dc04ca0584",
   "metadata": {},
   "outputs": [],
   "source": [
    "optchain1Min_20210519_20211231 = pd.read_pickle(os.path.join(LOCAL_DATA_DIR, 'optchain1Min_20210519_20211231.pkl'))"
   ]
  },
  {
   "cell_type": "code",
   "execution_count": null,
   "id": "224c5c1c-f669-4677-ac4c-1b9296ab4cab",
   "metadata": {},
   "outputs": [],
   "source": [
    "optchain1Min_20210519_20211231['underly'].unique()"
   ]
  },
  {
   "cell_type": "code",
   "execution_count": null,
   "id": "79fb7964-d969-47df-95a7-2bb669d2d85b",
   "metadata": {},
   "outputs": [],
   "source": [
    "optchain1Min_20210519_20211231.query('underly==\"BTC-31DEC21\"')['s'].plot()"
   ]
  },
  {
   "cell_type": "code",
   "execution_count": null,
   "id": "9bde5e4e-7f4e-4d0e-8712-18a9d4180554",
   "metadata": {},
   "outputs": [],
   "source": [
    "optchain1Min_20210519_20211231.query('underly==\"BTC-31DEC21\"').query('symbol==\"BTC-31DEC21-32000-C\"').query('tm>=datetime(2021,5,19,16,25)').query('tm<=datetime(2021,5,19,16,40)')['s'].plot(title='32k')"
   ]
  },
  {
   "cell_type": "code",
   "execution_count": null,
   "id": "ad1e9bcf-19d9-42e2-ba52-73caf8e5c4cc",
   "metadata": {},
   "outputs": [],
   "source": [
    "optchain1Min_20210519_20211231.query('underly==\"BTC-31DEC21\"').query('symbol==\"BTC-31DEC21-40000-C\"').query('tm>=datetime(2021,5,19,16,25)').query('tm<=datetime(2021,5,19,16,40)')['s'].plot(title='40k')"
   ]
  },
  {
   "cell_type": "code",
   "execution_count": null,
   "id": "9b7da0de-7e8a-4e77-b7b8-6eb5ec724502",
   "metadata": {},
   "outputs": [],
   "source": [
    "optchain1Min_20210519_20211231.query('underly==\"BTC-31DEC21\"').query('symbol==\"BTC-31DEC21-48000-C\"').query('tm>=datetime(2021,5,19,16,25)').query('tm<=datetime(2021,5,19,16,40)')['s'].plot(title='48k')"
   ]
  },
  {
   "cell_type": "markdown",
   "id": "09197b8f-e6f7-43bc-b14c-ed6bddee308f",
   "metadata": {},
   "source": [
    "### time graph for all strikes near ATM of (bid+ask) amount , and on axis2  spot price and underlying futures price"
   ]
  },
  {
   "cell_type": "code",
   "execution_count": null,
   "id": "b4919a2a-7cdd-46c2-831a-af2b76c6653b",
   "metadata": {},
   "outputs": [],
   "source": [
    "## data 1: optchain\n",
    "optchain1Min_20210519_20211231 = pd.read_pickle(os.path.join(LOCAL_DATA_DIR, 'optchain1Min_20210519_20211231.pkl'))"
   ]
  },
  {
   "cell_type": "code",
   "execution_count": null,
   "id": "72104616-0bbc-40df-be67-abd645b19e6d",
   "metadata": {},
   "outputs": [],
   "source": [
    "# data 2: quote and trade\n",
    "ret_df_40C.head()"
   ]
  },
  {
   "cell_type": "code",
   "execution_count": null,
   "id": "ec09f98d-2cb6-4fd8-8c10-562c1c385748",
   "metadata": {},
   "outputs": [],
   "source": [
    "# data 3: PERP\n",
    "exchange = 'deribit'\n",
    "date = '2021-05-19'\n",
    "symbol = 'BTC-PERPETUAL'\n",
    "data_type = 'quotes'\n",
    "df_perp = data_loader(exchange, date,data_type,symbol)"
   ]
  },
  {
   "cell_type": "code",
   "execution_count": null,
   "id": "ad329888-6755-4bf7-b0e2-5aa38a77e0a3",
   "metadata": {},
   "outputs": [],
   "source": [
    "df_perp['dt'] = pd.to_datetime(df_perp['timestamp'], unit='us')\n",
    "df_perp['mid'] = (df_perp['ask_price']+df_perp['bid_price'])/2\n",
    "df_perp = df_perp.set_index('dt')\n",
    "df_perp_1min = df_perp.resample('1min').mean()['mid']"
   ]
  },
  {
   "cell_type": "code",
   "execution_count": null,
   "id": "b8519d6f-1603-4f5f-9de4-df1f9d7b27b9",
   "metadata": {},
   "outputs": [],
   "source": [
    "ret_df_40C_ext = ret_df_40C.set_index('timestamp_dt').reindex(optchina_btc_c.index, method='ffill').join(optchina_btc_c, lsuffix='_left', rsuffix='_right')\n",
    "\n",
    "ret_df_40C_ext2 = ret_df_40C_ext.join(df_perp_1min)\n",
    "\n",
    "df2plot = ret_df_40C_ext2[['total_amount','s','mid']]\n",
    "fig, ax1 = plt.subplots(1,1, figsize=(8*4,6))\n",
    "\n",
    "df2plot[['total_amount']].plot(ax=ax1,  linestyle='None', marker = '.', color=['r'])\n",
    "ax1.legend(loc=\"upper left\")\n",
    "ax2 = ax1.twinx()\n",
    "df2plot[['s','mid']].plot(ax=ax2,)\n",
    "ax2.legend(['underlying','PERP'], loc=\"upper right\")\n",
    "plt.title('20210519 BTC 40K call expire=20211231 v.s. PERP and underlying')\n",
    "plt.show()"
   ]
  },
  {
   "cell_type": "code",
   "execution_count": null,
   "id": "af7e675a-445e-4998-8a37-7aa949084429",
   "metadata": {},
   "outputs": [],
   "source": [
    "ret_df_40C['total_amount'] = ret_df_40C['ask_amount'] + ret_df_40C['bid_amount']"
   ]
  },
  {
   "cell_type": "code",
   "execution_count": null,
   "id": "017fbffc-bde6-4db1-8e1f-8ce323107dea",
   "metadata": {},
   "outputs": [],
   "source": [
    "ret_df_40C.set_index('timestamp_dt')['total_amount'].plot(linestyle='None', marker = '.')"
   ]
  },
  {
   "cell_type": "code",
   "execution_count": null,
   "id": "a38725e6-db1d-4376-80a8-b830b13da2b1",
   "metadata": {},
   "outputs": [],
   "source": [
    "for df_quote_str, symbol in zip(['32C','32P','40C','40P','48C','48P'],['BTC-31DEC21-32000-C', 'BTC-31DEC21-32000-P', 'BTC-31DEC21-40000-C', 'BTC-31DEC21-40000-P', 'BTC-31DEC21-48000-C', 'BTC-31DEC21-48000-P']):\n",
    "    print(df_quote_str, symbol)\n",
    "    df_quote = eval('ret_df_{}'.format(df_quote_str))\n",
    "    df_quote['total_amount'] = df_quote['ask_amount']+df_quote['bid_amount']\n",
    "    optchain = optchain1Min_20210519_20211231.query('underly==\"BTC-31DEC21\"').query('symbol==@symbol')\n",
    "    \n",
    "    df_quote_ext = df_quote.set_index('timestamp_dt').reindex(optchain.index, method='ffill').join(optchain, lsuffix='_left', rsuffix='_right')\n",
    "\n",
    "    df_quote_ext2 = df_quote_ext.join(df_perp_1min)\n",
    "\n",
    "    df2plot = df_quote_ext2[['total_amount','s','mid']]\n",
    "    fig, ax1 = plt.subplots(1,1, figsize=(8*4,6))\n",
    "\n",
    "    df2plot[['total_amount']].plot(ax=ax1,  linestyle='None', marker = '.', color=['r'])\n",
    "    ax1.legend(loc=\"upper left\")\n",
    "    ax2 = ax1.twinx()\n",
    "    df2plot[['s','mid']].plot(ax=ax2,)\n",
    "    ax2.legend(['underlying','PERP'], loc=\"upper right\")\n",
    "    plt.title('20210519 BTC {} expire=20211231 v.s. PERP and underlying'.format(df_quote_str))\n",
    "    plt.show()\n",
    "    "
   ]
  },
  {
   "cell_type": "markdown",
   "id": "7f76d948-fc4c-477f-994d-1ddc6b2e7891",
   "metadata": {},
   "source": [
    "### put above plots into a single plot\n",
    "   * using different marker size to represent amount of bid/ask\n",
    "   * using diffrernt color to mark bid and ask \n",
    "   * left y-axis for strike\n",
    "   * right y-axis for underlying price\n",
    "   * hover mouse to show option price"
   ]
  },
  {
   "cell_type": "code",
   "execution_count": null,
   "id": "df90a7c3-9963-43ba-879b-92c51feb121f",
   "metadata": {},
   "outputs": [],
   "source": [
    "df_quote = ret_df_40C\n",
    "df_quote['total_amount'] = df_quote['ask_amount']+df_quote['bid_amount']\n",
    "optchain = optchain1Min_20210519_20211231.query('underly==\"BTC-31DEC21\"').query('symbol==@symbol')\n",
    "\n",
    "df_quote_ext = df_quote.set_index('timestamp_dt').reindex(optchain.index, method='ffill').join(optchain, lsuffix='_left', rsuffix='_right')\n",
    "df_quote_ext2 = df_quote_ext.join(df_perp_1min)\n",
    "df2plot = df_quote_ext2[['total_amount','s','mid']]\n",
    "\n",
    "\n",
    "fig, ax1 = plt.subplots(1,1, figsize=(8*4,6))\n",
    "\n",
    "df2plot[['total_amount']].plot(ax=ax1,  linestyle='None', marker = '.', color=['r'])\n",
    "ax1.legend(loc=\"upper left\")\n",
    "\n",
    "ax2 = ax1.twinx()\n",
    "df2plot[['s','mid']].plot(ax=ax2,)\n",
    "ax2.legend(['underlying','PERP'], loc=\"upper right\")\n",
    "\n",
    "\n",
    "plt.title('20210519 BTC {} expire=20211231 v.s. PERP and underlying'.format(df_quote_str))\n",
    "plt.show()"
   ]
  },
  {
   "cell_type": "code",
   "execution_count": null,
   "id": "5fe29527-1515-47da-b3d3-027a0c2519da",
   "metadata": {},
   "outputs": [],
   "source": [
    "import plotly.express as px\n",
    "df = px.data.gapminder()\n",
    "fig = px.scatter(df.query(\"year==2007\"), x=\"gdpPercap\", y=\"lifeExp\", size=\"pop\", color=\"continent\",\n",
    "           hover_name=\"country\", log_x=True, size_max=60)\n",
    "fig.show()"
   ]
  },
  {
   "cell_type": "code",
   "execution_count": null,
   "id": "3f1e3bf4-6f8a-413b-bdc1-c81878f65b3c",
   "metadata": {},
   "outputs": [],
   "source": [
    "df2plot = df2plot.reset_index()"
   ]
  },
  {
   "cell_type": "code",
   "execution_count": null,
   "id": "c1ea1862-a1b9-4e0b-9229-a9bde7180a50",
   "metadata": {},
   "outputs": [],
   "source": [
    "df2plot['strike'] = 40000\n",
    "df2plot['strike2'] = 40000"
   ]
  },
  {
   "cell_type": "code",
   "execution_count": null,
   "id": "8bea40e4-d8c9-480a-8b60-8732a1f4d428",
   "metadata": {},
   "outputs": [],
   "source": [
    "df2plot"
   ]
  },
  {
   "cell_type": "code",
   "execution_count": null,
   "id": "f102eec1-dda7-46dc-be17-f9b444b0d04d",
   "metadata": {},
   "outputs": [],
   "source": [
    "fig = px.scatter(df2plot, x=\"index\", y=\"strike\", size=\"total_amount\",  hover_name=\"mid\")\n",
    "#fig = px.scatter(df2plot, x=\"index\", y=\"strike\", size=\"total_amount\",  hover_name=\"mid\")\n",
    "fig.show()"
   ]
  },
  {
   "cell_type": "code",
   "execution_count": null,
   "id": "fbb8492e-2869-43d3-9be1-e60a2d5bda76",
   "metadata": {},
   "outputs": [],
   "source": [
    "ret_df_40C_reduced = ret_df_40C[['ask_amount','ask_price','bid_price','bid_amount','timestamp_dt']]"
   ]
  },
  {
   "cell_type": "code",
   "execution_count": null,
   "id": "b6858c20-e714-46bb-bce1-08d1b2abe52d",
   "metadata": {},
   "outputs": [],
   "source": [
    "ret_df_40C_reduced['dt'] =  pd.to_datetime(ret_df_40C_reduced['timestamp_dt'], format='%Y')"
   ]
  },
  {
   "cell_type": "code",
   "execution_count": null,
   "id": "1a70ee68-bffd-4f27-a009-75b306d76987",
   "metadata": {},
   "outputs": [],
   "source": [
    "## resample time\n",
    "## catagoricaize columns \n",
    "ret_df_40C_reduced['dt'].resample('3T')"
   ]
  },
  {
   "cell_type": "code",
   "execution_count": null,
   "id": "e5fb6afc-0ecc-4609-90fa-4dd51fb2d0fe",
   "metadata": {},
   "outputs": [],
   "source": [
    "df_quote = ret_df_40C_reduced.copy()\n",
    "optchain = optchain1Min_20210519_20211231.query('underly==\"BTC-31DEC21\"').query('symbol==@symbol')\n",
    "\n",
    "df_quote_ext = df_quote.set_index('timestamp_dt').reindex(optchain.index, method='ffill').join(optchain, lsuffix='_left', rsuffix='_right')\n",
    "\n",
    "df_quote_ext2 = df_quote_ext.join(df_perp_1min)"
   ]
  },
  {
   "cell_type": "code",
   "execution_count": null,
   "id": "77014278-1432-428d-8096-dcc62ca48e1b",
   "metadata": {},
   "outputs": [],
   "source": [
    "df_quote_ext2.head(2)"
   ]
  },
  {
   "cell_type": "code",
   "execution_count": null,
   "id": "c57039ec-3655-476a-948d-94daa85f6b47",
   "metadata": {},
   "outputs": [],
   "source": [
    "df2plot = df_quote_ext2[['ask_amount','ask_price','bid_price','bid_amount','tm','strike','s','mid']]"
   ]
  },
  {
   "cell_type": "code",
   "execution_count": null,
   "id": "32cedd08-2951-4158-a150-1adf5fdc9624",
   "metadata": {},
   "outputs": [],
   "source": [
    "df2plot = df2plot[~df2plot.duplicated()]"
   ]
  },
  {
   "cell_type": "code",
   "execution_count": null,
   "id": "44ef0380-203c-4f14-8d7c-e851d844af30",
   "metadata": {},
   "outputs": [],
   "source": [
    "df2plot.head()"
   ]
  },
  {
   "cell_type": "code",
   "execution_count": null,
   "id": "ffa55788-9fc1-4a4a-bc43-92d1e0074883",
   "metadata": {},
   "outputs": [],
   "source": [
    "df2plot_ask = df2plot[['ask_amount','ask_price','tm','strike','s','mid']]\n",
    "df2plot_ask['type'] = 'ask'\n",
    "df2plot_ask.columns = ['amount','price','tm','strike','s','mid','type']\n",
    "\n",
    "df2plot_bid = df2plot[['bid_amount','bid_price','tm','strike','s','mid']]\n",
    "df2plot_bid['type'] = 'bid'\n",
    "df2plot_bid.columns = ['amount','price','tm','strike','s','mid','type']\n"
   ]
  },
  {
   "cell_type": "code",
   "execution_count": null,
   "id": "f97617f2-155e-4f48-a814-b49666562f01",
   "metadata": {},
   "outputs": [],
   "source": [
    "df2plot_new = df2plot_ask.append(df2plot_bid).reset_index()"
   ]
  },
  {
   "cell_type": "code",
   "execution_count": null,
   "id": "0c7f416f-1456-4d64-9582-22da7bb661a6",
   "metadata": {},
   "outputs": [],
   "source": [
    "df2plot_new[~df2plot_new.duplicated()]"
   ]
  },
  {
   "cell_type": "code",
   "execution_count": null,
   "id": "b3e47e8c-36eb-414a-95af-5e6ee8c0a00a",
   "metadata": {},
   "outputs": [],
   "source": [
    "from plotly.subplots import make_subplots\n",
    "subfig = make_subplots(specs=[[{\"secondary_y\": True}]])\n",
    "fig = px.scatter(df2plot_new, x=\"index\", y=\"strike\", size=\"amount\",  hover_name=\"price\", color=\"type\")\n",
    "\n",
    "fig.show()"
   ]
  },
  {
   "cell_type": "code",
   "execution_count": null,
   "id": "41080d4b-49e7-4a35-b992-4b94cf7dd05a",
   "metadata": {},
   "outputs": [],
   "source": [
    "fig2 = px.line(df2plot_new.query('type==\"ask\"'), x=\"index\", y=['s','mid'])\n",
    "fig2.show()"
   ]
  },
  {
   "cell_type": "code",
   "execution_count": null,
   "id": "feaf590e-7f3e-4170-b880-4f6df959defa",
   "metadata": {},
   "outputs": [],
   "source": [
    "import plotly.graph_objects as go\n",
    "\n",
    "fig3 = go.Figure(data=fig.data + fig2.data)"
   ]
  },
  {
   "cell_type": "code",
   "execution_count": null,
   "id": "19a88fdc-c86a-40fd-86b7-849000297b4b",
   "metadata": {},
   "outputs": [],
   "source": [
    "fig3.show()"
   ]
  },
  {
   "cell_type": "code",
   "execution_count": null,
   "id": "f69cbdaf-15cf-49c1-b332-c4ea95a99e74",
   "metadata": {},
   "outputs": [],
   "source": [
    "fig3.write_html(\"file.html\")"
   ]
  }
 ],
 "metadata": {
  "kernelspec": {
   "display_name": "Python 3 (ipykernel)",
   "language": "python",
   "name": "python3"
  },
  "language_info": {
   "codemirror_mode": {
    "name": "ipython",
    "version": 3
   },
   "file_extension": ".py",
   "mimetype": "text/x-python",
   "name": "python",
   "nbconvert_exporter": "python",
   "pygments_lexer": "ipython3",
   "version": "3.8.8"
  }
 },
 "nbformat": 4,
 "nbformat_minor": 5
}
