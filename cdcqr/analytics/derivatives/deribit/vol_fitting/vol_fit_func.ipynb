{
 "cells": [
  {
   "cell_type": "code",
   "execution_count": null,
   "id": "aecb63af-b0d4-4ffe-90c7-039edad222f7",
   "metadata": {},
   "outputs": [],
   "source": [
    "import pandas as pd\n",
    "from cdcqr.common.config import LOCAL_DATA_DIR\n",
    "import os\n",
    "from scipy.optimize import minimize\n",
    "from scipy.interpolate import interp1d\n",
    "from functools import partial\n",
    "import numpy as np\n",
    "DF= pd.DataFrame\n",
    "from importlib import reload\n",
    "import cufflinks as cf\n",
    "cf.go_offline()\n",
    "cf.set_config_file(offline=False, world_readable=True)\n",
    "\n",
    "import cdcqr.analytics.derivatives.option_utils as optUtil\n",
    "import statsmodels.api as sm\n",
    "import seaborn as sns\n",
    "import matplotlib.pyplot as plt\n",
    "from cdcqr.common.config import LOCAL_FIGURE_DIR"
   ]
  },
  {
   "cell_type": "code",
   "execution_count": null,
   "id": "52fa3598-fa59-458a-8bce-892e37c0a617",
   "metadata": {},
   "outputs": [],
   "source": [
    "LOCAL_FIGURE_DIR"
   ]
  },
  {
   "cell_type": "code",
   "execution_count": null,
   "id": "e857bb20-f0ec-40a2-9efd-b5430f269f95",
   "metadata": {},
   "outputs": [],
   "source": [
    "reload(optUtil)"
   ]
  },
  {
   "cell_type": "code",
   "execution_count": null,
   "id": "ba7a0ce5-5701-490d-8fd2-a1d06f4d1208",
   "metadata": {},
   "outputs": [],
   "source": [
    "df=pd.read_pickle(os.path.join(LOCAL_DATA_DIR, 'optchain5Min.pkl'))"
   ]
  },
  {
   "cell_type": "code",
   "execution_count": null,
   "id": "3830bfda-3327-4e91-8b98-e3b7db2dc3a0",
   "metadata": {
    "tags": []
   },
   "outputs": [],
   "source": [
    "df.head(2).T"
   ]
  },
  {
   "cell_type": "code",
   "execution_count": null,
   "id": "578b852f-3397-446a-b54a-ef435185a0ff",
   "metadata": {
    "tags": []
   },
   "outputs": [],
   "source": [
    "df=df[df.symbol.str.contains('BTC')]\n",
    "df=df.set_index(['tm','expire','strike']).sort_index()"
   ]
  },
  {
   "cell_type": "code",
   "execution_count": null,
   "id": "6bbc3729-c088-448e-8625-843a3a387aa9",
   "metadata": {
    "tags": []
   },
   "outputs": [],
   "source": [
    "reload(optUtil)\n",
    "optUtil.volfit(df,plot=3,model=\"errfunc_parabolic_linear6\",kleft=-1.5,kright=1.5)"
   ]
  },
  {
   "cell_type": "code",
   "execution_count": null,
   "id": "37b3e0b4-8c6d-4780-8c80-d2e7a223f862",
   "metadata": {
    "tags": []
   },
   "outputs": [],
   "source": [
    "vfres=optUtil.volfit(df,plot=0,model='errfunc_parabolic_linear6',kleft=-2,kright=1.5)"
   ]
  },
  {
   "cell_type": "code",
   "execution_count": null,
   "id": "28817172-36e1-494c-996f-69ccb0efe7ae",
   "metadata": {},
   "outputs": [],
   "source": [
    "DF(vfres).set_index('t')[['p0','p1','p2','p3','p4','p5']].plot()"
   ]
  },
  {
   "cell_type": "code",
   "execution_count": null,
   "id": "95d97275-ef0c-4cbd-a00e-e584ad3d1a9d",
   "metadata": {},
   "outputs": [],
   "source": [
    "import time\n",
    "t = (2009, 2, 17, 17, 3, 38, 1, 48, 0)\n",
    "t = time.mktime(t)\n",
    "print (time.strftime(\"%Y%M%d%H%M%S\", time.gmtime(t)))"
   ]
  },
  {
   "cell_type": "code",
   "execution_count": null,
   "id": "02bfda40-49d7-445b-b265-931529e6009e",
   "metadata": {
    "tags": []
   },
   "outputs": [],
   "source": [
    "df = df_8_1m.copy()\n",
    "df=df[df.symbol.str.contains('BTC')]\n",
    "df=df.set_index(['tm','expire','strike']).sort_index()\n",
    "optUtil.volfit(df,plot=3,model=\"errfunc_parabolic_linear6\",kleft=-1.5,kright=2.3)"
   ]
  },
  {
   "cell_type": "code",
   "execution_count": null,
   "id": "e6e3b146-e31c-4f43-a928-00bb3538a8a5",
   "metadata": {},
   "outputs": [],
   "source": [
    "vfres=volfit(df,plot=0,model='errfunc_parabolic_linear6',kleft=-2,kright=1.5)"
   ]
  },
  {
   "cell_type": "code",
   "execution_count": null,
   "id": "4e98e8b8-f594-40ef-a061-ec964446e730",
   "metadata": {},
   "outputs": [],
   "source": [
    "DF(vfres).set_index('t')[['p0','p1','p2','p3','p4','p5']].plot()"
   ]
  }
 ],
 "metadata": {
  "kernelspec": {
   "display_name": "Python 3 (ipykernel)",
   "language": "python",
   "name": "python3"
  },
  "language_info": {
   "codemirror_mode": {
    "name": "ipython",
    "version": 3
   },
   "file_extension": ".py",
   "mimetype": "text/x-python",
   "name": "python",
   "nbconvert_exporter": "python",
   "pygments_lexer": "ipython3",
   "version": "3.8.8"
  }
 },
 "nbformat": 4,
 "nbformat_minor": 5
}
