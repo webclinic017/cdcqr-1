{
 "cells": [
  {
   "cell_type": "code",
   "execution_count": 1,
   "id": "aecb63af-b0d4-4ffe-90c7-039edad222f7",
   "metadata": {},
   "outputs": [
    {
     "data": {
      "text/html": [
       "        <script type=\"text/javascript\">\n",
       "        window.PlotlyConfig = {MathJaxConfig: 'local'};\n",
       "        if (window.MathJax) {MathJax.Hub.Config({SVG: {font: \"STIX-Web\"}});}\n",
       "        if (typeof require !== 'undefined') {\n",
       "        require.undef(\"plotly\");\n",
       "        requirejs.config({\n",
       "            paths: {\n",
       "                'plotly': ['https://cdn.plot.ly/plotly-2.4.2.min']\n",
       "            }\n",
       "        });\n",
       "        require(['plotly'], function(Plotly) {\n",
       "            window._Plotly = Plotly;\n",
       "        });\n",
       "        }\n",
       "        </script>\n",
       "        "
      ]
     },
     "metadata": {},
     "output_type": "display_data"
    }
   ],
   "source": [
    "import pandas as pd\n",
    "from cdcqr.common.config import LOCAL_DATA_DIR\n",
    "import os\n",
    "from scipy.optimize import minimize\n",
    "from scipy.interpolate import interp1d\n",
    "from functools import partial\n",
    "import numpy as np\n",
    "DF= pd.DataFrame\n",
    "from importlib import reload\n",
    "import cufflinks as cf\n",
    "cf.go_offline()\n",
    "cf.set_config_file(offline=False, world_readable=True)\n",
    "\n",
    "import cdcqr.analytics.derivatives.option_utils as optUtil\n",
    "import statsmodels.api as sm\n",
    "import seaborn as sns\n",
    "import matplotlib.pyplot as plt\n",
    "from cdcqr.common.config import LOCAL_FIGURE_DIR"
   ]
  },
  {
   "cell_type": "code",
   "execution_count": 2,
   "id": "52fa3598-fa59-458a-8bce-892e37c0a617",
   "metadata": {},
   "outputs": [
    {
     "data": {
      "text/plain": [
       "'C:\\\\Users\\\\Wang\\\\Documents\\\\GitHub\\\\figure'"
      ]
     },
     "execution_count": 2,
     "metadata": {},
     "output_type": "execute_result"
    }
   ],
   "source": [
    "LOCAL_FIGURE_DIR"
   ]
  },
  {
   "cell_type": "code",
   "execution_count": 3,
   "id": "e857bb20-f0ec-40a2-9efd-b5430f269f95",
   "metadata": {},
   "outputs": [
    {
     "data": {
      "text/plain": [
       "<module 'cdcqr.analytics.derivatives.option_utils' from 'c:\\\\users\\\\wang\\\\documents\\\\github\\\\cdcqr\\\\cdcqr\\\\analytics\\\\derivatives\\\\option_utils.py'>"
      ]
     },
     "execution_count": 3,
     "metadata": {},
     "output_type": "execute_result"
    }
   ],
   "source": [
    "reload(optUtil)"
   ]
  },
  {
   "cell_type": "code",
   "execution_count": 4,
   "id": "ba7a0ce5-5701-490d-8fd2-a1d06f4d1208",
   "metadata": {},
   "outputs": [],
   "source": [
    "df=pd.read_pickle(os.path.join(LOCAL_DATA_DIR, 'optchain5Min.pkl'))"
   ]
  },
  {
   "cell_type": "code",
   "execution_count": 5,
   "id": "3830bfda-3327-4e91-8b98-e3b7db2dc3a0",
   "metadata": {
    "scrolled": true,
    "tags": []
   },
   "outputs": [
    {
     "data": {
      "text/html": [
       "<div>\n",
       "<style scoped>\n",
       "    .dataframe tbody tr th:only-of-type {\n",
       "        vertical-align: middle;\n",
       "    }\n",
       "\n",
       "    .dataframe tbody tr th {\n",
       "        vertical-align: top;\n",
       "    }\n",
       "\n",
       "    .dataframe thead th {\n",
       "        text-align: right;\n",
       "    }\n",
       "</style>\n",
       "<table border=\"1\" class=\"dataframe\">\n",
       "  <thead>\n",
       "    <tr style=\"text-align: right;\">\n",
       "      <th>tm</th>\n",
       "      <th>2021-07-01 00:05:00</th>\n",
       "      <th>2021-07-01 00:10:00</th>\n",
       "    </tr>\n",
       "  </thead>\n",
       "  <tbody>\n",
       "    <tr>\n",
       "      <th>symbol</th>\n",
       "      <td>ETH-24SEP21-1600-C</td>\n",
       "      <td>ETH-24SEP21-1600-C</td>\n",
       "    </tr>\n",
       "    <tr>\n",
       "      <th>tm</th>\n",
       "      <td>2021-07-01 00:00:00</td>\n",
       "      <td>2021-07-01 00:05:00</td>\n",
       "    </tr>\n",
       "    <tr>\n",
       "      <th>aiv</th>\n",
       "      <td>2.0024</td>\n",
       "      <td>2.0031</td>\n",
       "    </tr>\n",
       "    <tr>\n",
       "      <th>ap</th>\n",
       "      <td>0.4855</td>\n",
       "      <td>0.4835</td>\n",
       "    </tr>\n",
       "    <tr>\n",
       "      <th>av</th>\n",
       "      <td>1.0</td>\n",
       "      <td>1.0</td>\n",
       "    </tr>\n",
       "    <tr>\n",
       "      <th>biv</th>\n",
       "      <td>0.8025</td>\n",
       "      <td>0.8026</td>\n",
       "    </tr>\n",
       "    <tr>\n",
       "      <th>bp</th>\n",
       "      <td>0.3315</td>\n",
       "      <td>0.328</td>\n",
       "    </tr>\n",
       "    <tr>\n",
       "      <th>bv</th>\n",
       "      <td>5.0</td>\n",
       "      <td>5.0</td>\n",
       "    </tr>\n",
       "    <tr>\n",
       "      <th>delta</th>\n",
       "      <td>0.82375</td>\n",
       "      <td>0.82068</td>\n",
       "    </tr>\n",
       "    <tr>\n",
       "      <th>exch</th>\n",
       "      <td>deribit</td>\n",
       "      <td>deribit</td>\n",
       "    </tr>\n",
       "    <tr>\n",
       "      <th>exchtm</th>\n",
       "      <td>2021-07-01 00:04:59.129000</td>\n",
       "      <td>2021-07-01 00:09:55.337000</td>\n",
       "    </tr>\n",
       "    <tr>\n",
       "      <th>expire</th>\n",
       "      <td>2021-09-24 08:00:00</td>\n",
       "      <td>2021-09-24 08:00:00</td>\n",
       "    </tr>\n",
       "    <tr>\n",
       "      <th>gamma</th>\n",
       "      <td>0.00021</td>\n",
       "      <td>0.00021</td>\n",
       "    </tr>\n",
       "    <tr>\n",
       "      <th>lpx</th>\n",
       "      <td>0.335</td>\n",
       "      <td>0.335</td>\n",
       "    </tr>\n",
       "    <tr>\n",
       "      <th>mark</th>\n",
       "      <td>0.3687</td>\n",
       "      <td>0.365606</td>\n",
       "    </tr>\n",
       "    <tr>\n",
       "      <th>markiv</th>\n",
       "      <td>1.1229</td>\n",
       "      <td>1.1221</td>\n",
       "    </tr>\n",
       "    <tr>\n",
       "      <th>oint</th>\n",
       "      <td>1129.0</td>\n",
       "      <td>1129.0</td>\n",
       "    </tr>\n",
       "    <tr>\n",
       "      <th>rho</th>\n",
       "      <td>2.43339</td>\n",
       "      <td>2.41753</td>\n",
       "    </tr>\n",
       "    <tr>\n",
       "      <th>strike</th>\n",
       "      <td>1600.0</td>\n",
       "      <td>1600.0</td>\n",
       "    </tr>\n",
       "    <tr>\n",
       "      <th>theta</th>\n",
       "      <td>-1.88435</td>\n",
       "      <td>-1.89113</td>\n",
       "    </tr>\n",
       "    <tr>\n",
       "      <th>ty</th>\n",
       "      <td>1</td>\n",
       "      <td>1</td>\n",
       "    </tr>\n",
       "    <tr>\n",
       "      <th>underly</th>\n",
       "      <td>ETH-24SEP21</td>\n",
       "      <td>ETH-24SEP21</td>\n",
       "    </tr>\n",
       "    <tr>\n",
       "      <th>s</th>\n",
       "      <td>2287.4</td>\n",
       "      <td>2272.45</td>\n",
       "    </tr>\n",
       "    <tr>\n",
       "      <th>vega</th>\n",
       "      <td>2.8638</td>\n",
       "      <td>2.87617</td>\n",
       "    </tr>\n",
       "    <tr>\n",
       "      <th>tau</th>\n",
       "      <td>0.23378</td>\n",
       "      <td>0.233771</td>\n",
       "    </tr>\n",
       "  </tbody>\n",
       "</table>\n",
       "</div>"
      ],
      "text/plain": [
       "tm              2021-07-01 00:05:00         2021-07-01 00:10:00\n",
       "symbol           ETH-24SEP21-1600-C          ETH-24SEP21-1600-C\n",
       "tm              2021-07-01 00:00:00         2021-07-01 00:05:00\n",
       "aiv                          2.0024                      2.0031\n",
       "ap                           0.4855                      0.4835\n",
       "av                              1.0                         1.0\n",
       "biv                          0.8025                      0.8026\n",
       "bp                           0.3315                       0.328\n",
       "bv                              5.0                         5.0\n",
       "delta                       0.82375                     0.82068\n",
       "exch                        deribit                     deribit\n",
       "exchtm   2021-07-01 00:04:59.129000  2021-07-01 00:09:55.337000\n",
       "expire          2021-09-24 08:00:00         2021-09-24 08:00:00\n",
       "gamma                       0.00021                     0.00021\n",
       "lpx                           0.335                       0.335\n",
       "mark                         0.3687                    0.365606\n",
       "markiv                       1.1229                      1.1221\n",
       "oint                         1129.0                      1129.0\n",
       "rho                         2.43339                     2.41753\n",
       "strike                       1600.0                      1600.0\n",
       "theta                      -1.88435                    -1.89113\n",
       "ty                                1                           1\n",
       "underly                 ETH-24SEP21                 ETH-24SEP21\n",
       "s                            2287.4                     2272.45\n",
       "vega                         2.8638                     2.87617\n",
       "tau                         0.23378                    0.233771"
      ]
     },
     "execution_count": 5,
     "metadata": {},
     "output_type": "execute_result"
    }
   ],
   "source": [
    "df.head(2).T"
   ]
  },
  {
   "cell_type": "code",
   "execution_count": 6,
   "id": "578b852f-3397-446a-b54a-ef435185a0ff",
   "metadata": {
    "scrolled": true,
    "tags": []
   },
   "outputs": [],
   "source": [
    "df=df[df.symbol.str.contains('BTC')]\n",
    "df=df.set_index(['tm','expire','strike']).sort_index()"
   ]
  },
  {
   "cell_type": "code",
   "execution_count": 7,
   "id": "6bbc3729-c088-448e-8625-843a3a387aa9",
   "metadata": {
    "scrolled": true,
    "tags": []
   },
   "outputs": [
    {
     "name": "stdout",
     "output_type": "stream",
     "text": [
      "T=2021-09-24 08:00:00 t=2021-07-01 00:00:00\n",
      "prevparams=[0.2, 0.2, 0.2, 0.2, 0.2, 0.2] model=errfunc_parabolic_linear6\n",
      "optimized params:[-0.06356321 -0.06002285  0.04174802  0.05593092  0.15739165 -0.20932965]\n",
      "<class 'pandas._libs.tslibs.timestamps.Timestamp'>\n"
     ]
    },
    {
     "ename": "KeyError",
     "evalue": "'expiry_date'",
     "output_type": "error",
     "traceback": [
      "\u001b[1;31m---------------------------------------------------------------------------\u001b[0m",
      "\u001b[1;31mKeyError\u001b[0m                                  Traceback (most recent call last)",
      "\u001b[1;32m~\\AppData\\Local\\Temp/ipykernel_23848/788385515.py\u001b[0m in \u001b[0;36m<module>\u001b[1;34m\u001b[0m\n\u001b[0;32m      1\u001b[0m \u001b[0mreload\u001b[0m\u001b[1;33m(\u001b[0m\u001b[0moptUtil\u001b[0m\u001b[1;33m)\u001b[0m\u001b[1;33m\u001b[0m\u001b[1;33m\u001b[0m\u001b[0m\n\u001b[1;32m----> 2\u001b[1;33m \u001b[0moptUtil\u001b[0m\u001b[1;33m.\u001b[0m\u001b[0mvolfit\u001b[0m\u001b[1;33m(\u001b[0m\u001b[0mdf\u001b[0m\u001b[1;33m,\u001b[0m\u001b[0mplot\u001b[0m\u001b[1;33m=\u001b[0m\u001b[1;36m3\u001b[0m\u001b[1;33m,\u001b[0m\u001b[0mmodel\u001b[0m\u001b[1;33m=\u001b[0m\u001b[1;34m\"errfunc_parabolic_linear6\"\u001b[0m\u001b[1;33m,\u001b[0m\u001b[0mkleft\u001b[0m\u001b[1;33m=\u001b[0m\u001b[1;33m-\u001b[0m\u001b[1;36m1.5\u001b[0m\u001b[1;33m,\u001b[0m\u001b[0mkright\u001b[0m\u001b[1;33m=\u001b[0m\u001b[1;36m1.5\u001b[0m\u001b[1;33m)\u001b[0m\u001b[1;33m\u001b[0m\u001b[1;33m\u001b[0m\u001b[0m\n\u001b[0m",
      "\u001b[1;32mc:\\users\\wang\\documents\\github\\cdcqr\\cdcqr\\analytics\\derivatives\\option_utils.py\u001b[0m in \u001b[0;36mvolfit\u001b[1;34m(df, plot, model, **kwargs)\u001b[0m\n\u001b[0;32m    157\u001b[0m             \u001b[0mprint\u001b[0m\u001b[1;33m(\u001b[0m\u001b[0mtype\u001b[0m\u001b[1;33m(\u001b[0m\u001b[0mt\u001b[0m\u001b[1;33m)\u001b[0m\u001b[1;33m)\u001b[0m\u001b[1;33m\u001b[0m\u001b[1;33m\u001b[0m\u001b[0m\n\u001b[0;32m    158\u001b[0m             \u001b[0mdt\u001b[0m \u001b[1;33m=\u001b[0m \u001b[0mpd\u001b[0m\u001b[1;33m.\u001b[0m\u001b[0mto_datetime\u001b[0m\u001b[1;33m(\u001b[0m\u001b[0mt\u001b[0m\u001b[1;33m)\u001b[0m\u001b[1;33m\u001b[0m\u001b[1;33m\u001b[0m\u001b[0m\n\u001b[1;32m--> 159\u001b[1;33m             \u001b[0mexpiry_date\u001b[0m \u001b[1;33m=\u001b[0m \u001b[0mkwargs\u001b[0m\u001b[1;33m[\u001b[0m\u001b[1;34m'expiry_date'\u001b[0m\u001b[1;33m]\u001b[0m\u001b[1;33m\u001b[0m\u001b[1;33m\u001b[0m\u001b[0m\n\u001b[0m\u001b[0;32m    160\u001b[0m             \u001b[0mfig_name\u001b[0m \u001b[1;33m=\u001b[0m \u001b[1;34m'{}_{}'\u001b[0m\u001b[1;33m.\u001b[0m\u001b[0mformat\u001b[0m\u001b[1;33m(\u001b[0m\u001b[0mdt\u001b[0m\u001b[1;33m.\u001b[0m\u001b[0mstrftime\u001b[0m\u001b[1;33m(\u001b[0m\u001b[1;34m\"%Y%m%d%H%M%S\"\u001b[0m\u001b[1;33m)\u001b[0m\u001b[1;33m,\u001b[0m \u001b[0mexpiry_date\u001b[0m\u001b[1;33m)\u001b[0m\u001b[1;33m\u001b[0m\u001b[1;33m\u001b[0m\u001b[0m\n\u001b[0;32m    161\u001b[0m             plotres = partial(eval(model), usevega=usevega, df=dftTOTM, PRICECALL=True, plot=plot, info=f't={t} T={T}',\n",
      "\u001b[1;31mKeyError\u001b[0m: 'expiry_date'"
     ]
    }
   ],
   "source": [
    "reload(optUtil)\n",
    "optUtil.volfit(df,plot=3,model=\"errfunc_parabolic_linear6\",kleft=-1.5,kright=1.5)"
   ]
  },
  {
   "cell_type": "code",
   "execution_count": null,
   "id": "37b3e0b4-8c6d-4780-8c80-d2e7a223f862",
   "metadata": {
    "scrolled": true,
    "tags": []
   },
   "outputs": [],
   "source": [
    "vfres=optUtil.volfit(df,plot=0,model='errfunc_parabolic_linear6',kleft=-2,kright=1.5)"
   ]
  },
  {
   "cell_type": "code",
   "execution_count": null,
   "id": "28817172-36e1-494c-996f-69ccb0efe7ae",
   "metadata": {},
   "outputs": [],
   "source": [
    "DF(vfres).set_index('t')[['p0','p1','p2','p3','p4','p5']].plot()"
   ]
  },
  {
   "cell_type": "code",
   "execution_count": null,
   "id": "95d97275-ef0c-4cbd-a00e-e584ad3d1a9d",
   "metadata": {},
   "outputs": [],
   "source": [
    "import time\n",
    "t = (2009, 2, 17, 17, 3, 38, 1, 48, 0)\n",
    "t = time.mktime(t)\n",
    "print (time.strftime(\"%Y%M%d%H%M%S\", time.gmtime(t)))"
   ]
  },
  {
   "cell_type": "code",
   "execution_count": null,
   "id": "02bfda40-49d7-445b-b265-931529e6009e",
   "metadata": {
    "scrolled": true,
    "tags": []
   },
   "outputs": [],
   "source": [
    "df = df_8_1m.copy()\n",
    "df=df[df.symbol.str.contains('BTC')]\n",
    "df=df.set_index(['tm','expire','strike']).sort_index()\n",
    "optUtil.volfit(df,plot=3,model=\"errfunc_parabolic_linear6\",kleft=-1.5,kright=2.3)"
   ]
  },
  {
   "cell_type": "code",
   "execution_count": null,
   "id": "e6e3b146-e31c-4f43-a928-00bb3538a8a5",
   "metadata": {},
   "outputs": [],
   "source": [
    "vfres=volfit(df,plot=0,model='errfunc_parabolic_linear6',kleft=-2,kright=1.5)"
   ]
  },
  {
   "cell_type": "code",
   "execution_count": null,
   "id": "4e98e8b8-f594-40ef-a061-ec964446e730",
   "metadata": {},
   "outputs": [],
   "source": [
    "DF(vfres).set_index('t')[['p0','p1','p2','p3','p4','p5']].plot()"
   ]
  }
 ],
 "metadata": {
  "kernelspec": {
   "display_name": "Python 3 (ipykernel)",
   "language": "python",
   "name": "python3"
  },
  "language_info": {
   "codemirror_mode": {
    "name": "ipython",
    "version": 3
   },
   "file_extension": ".py",
   "mimetype": "text/x-python",
   "name": "python",
   "nbconvert_exporter": "python",
   "pygments_lexer": "ipython3",
   "version": "3.8.8"
  }
 },
 "nbformat": 4,
 "nbformat_minor": 5
}
