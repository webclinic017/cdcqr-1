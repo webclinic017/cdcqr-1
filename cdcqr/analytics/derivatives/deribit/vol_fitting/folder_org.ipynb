{
 "cells": [
  {
   "cell_type": "code",
   "execution_count": null,
   "id": "dce3a568-9278-40e8-90bb-ca483b140338",
   "metadata": {},
   "outputs": [],
   "source": [
    "import shutil\n",
    "import os\n",
    "from cdcqr.common.config import LOCAL_FIGURE_DIR"
   ]
  },
  {
   "cell_type": "code",
   "execution_count": null,
   "id": "27175866-b05c-4575-919d-4f6b0913dbee",
   "metadata": {},
   "outputs": [],
   "source": [
    "fig_root_path = os.path.join(LOCAL_FIGURE_DIR, 'volfit')"
   ]
  },
  {
   "cell_type": "code",
   "execution_count": null,
   "id": "80f7f2be-36a7-4db4-857d-1da3e4ae1c23",
   "metadata": {},
   "outputs": [],
   "source": [
    "all_files = os.listdir(fig_root_path)"
   ]
  },
  {
   "cell_type": "code",
   "execution_count": null,
   "id": "b2b32326-fb0a-4baf-ad12-f541fe864c8e",
   "metadata": {
    "tags": []
   },
   "outputs": [],
   "source": [
    "all_files"
   ]
  },
  {
   "cell_type": "code",
   "execution_count": null,
   "id": "d2b3db94-58d2-407d-8763-0495b5f8bd58",
   "metadata": {
    "tags": []
   },
   "outputs": [],
   "source": [
    "files_202104 = [x for x in all_files if x[:6]=='202104' and 'png' in x]\n",
    "files_202105 = [x for x in all_files if x[:6]=='202105' and 'png' in x]\n",
    "files_202108 = [x for x in all_files if x[:6]=='202108' and 'png' in x]"
   ]
  },
  {
   "cell_type": "code",
   "execution_count": null,
   "id": "5cd1bc88-acfd-4e23-881a-101a8350a5c3",
   "metadata": {},
   "outputs": [],
   "source": [
    "dir_202104 = os.path.join(fig_root_path, '202104')\n",
    "dir_202105 = os.path.join(fig_root_path, '202105')\n",
    "dir_202108 = os.path.join(fig_root_path, '202108')"
   ]
  },
  {
   "cell_type": "code",
   "execution_count": null,
   "id": "d1d14295-167f-43d9-878a-86f32a3d5e48",
   "metadata": {},
   "outputs": [],
   "source": [
    "dir_202104"
   ]
  },
  {
   "cell_type": "code",
   "execution_count": null,
   "id": "aaccf014-e3f7-417b-ab2a-41a1525f29fa",
   "metadata": {
    "tags": []
   },
   "outputs": [],
   "source": [
    "for file_name in files_202104:\n",
    "    # shutil.move(os.path.join(fig_root_path, file_name), dir_202104)\n",
    "    shutil.move(os.path.join(fig_root_path, file_name), os.path.join(dir_202104, file_name))"
   ]
  },
  {
   "cell_type": "code",
   "execution_count": null,
   "id": "89a7a654-2a84-4625-846b-056b980f2a95",
   "metadata": {},
   "outputs": [],
   "source": [
    "for file_name in files_202105:\n",
    "    shutil.move(os.path.join(fig_root_path, file_name), os.path.join(dir_202105, file_name))"
   ]
  },
  {
   "cell_type": "code",
   "execution_count": null,
   "id": "35bc728a-cae2-4f37-a822-8bf161b6edf2",
   "metadata": {},
   "outputs": [],
   "source": [
    "for file_name in files_202108:\n",
    "    shutil.move(os.path.join(fig_root_path, file_name), os.path.join(dir_202104, file_name))"
   ]
  },
  {
   "cell_type": "code",
   "execution_count": null,
   "id": "7b798b4a-dd6c-4234-b3b7-76c1ab10ead7",
   "metadata": {},
   "outputs": [],
   "source": [
    "for f in [x for x in os.listdir(dir_202104) if x[:6]=='202105']:\n",
    "    print(f)\n",
    "    shutil.move(os.path.join(dir_202104, f), os.path.join(dir_202105, f))"
   ]
  }
 ],
 "metadata": {
  "kernelspec": {
   "display_name": "Python 3 (ipykernel)",
   "language": "python",
   "name": "python3"
  },
  "language_info": {
   "codemirror_mode": {
    "name": "ipython",
    "version": 3
   },
   "file_extension": ".py",
   "mimetype": "text/x-python",
   "name": "python",
   "nbconvert_exporter": "python",
   "pygments_lexer": "ipython3",
   "version": "3.8.8"
  }
 },
 "nbformat": 4,
 "nbformat_minor": 5
}
