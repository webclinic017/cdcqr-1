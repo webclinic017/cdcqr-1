{
 "cells": [
  {
   "cell_type": "markdown",
   "id": "f6256476-115b-41c6-91a3-55783802d9b7",
   "metadata": {},
   "source": [
    "### plot strike, bid/ask, call, put amount v.s. PERP and underlying\n",
    "   * using different marker size to represent amount of bid/ask\n",
    "   * using diffrernt color to mark bid and ask \n",
    "   * left y-axis for strike\n",
    "   * right y-axis for underlying price\n",
    "   * hover mouse to show option price\n",
    "   * 5 expire x put/call x bid/ask = 20 plots => 20 html files"
   ]
  },
  {
   "cell_type": "code",
   "execution_count": null,
   "id": "c9df2033-d07d-4daa-a23f-d15c76f77503",
   "metadata": {},
   "outputs": [],
   "source": [
    "from cdcqr.common.config import LOCAL_DATA_DIR\n",
    "from cdcqr.data.dataloader import data_loader\n",
    "from cdcqr.data.deribit.data_utils import DeribitUtils\n",
    "import pandas as pd\n",
    "from datetime import datetime\n",
    "import plotly.express as px\n",
    "import os\n",
    "from cdcqr.common.config import LOCAL_FIGURE_DIR"
   ]
  },
  {
   "cell_type": "code",
   "execution_count": null,
   "id": "75086a0e-93e4-44c0-9625-75e490e1c369",
   "metadata": {
    "scrolled": true,
    "tags": []
   },
   "outputs": [],
   "source": [
    "index_1m = pd.date_range(start=datetime(2021,5,19,0,0), end=datetime(2021,5,19,23,59), freq='1Min')"
   ]
  },
  {
   "cell_type": "markdown",
   "id": "d02c37c9-ebff-4f26-b155-f27369c57b58",
   "metadata": {},
   "source": [
    "#### get quote data on 20210519"
   ]
  },
  {
   "cell_type": "code",
   "execution_count": null,
   "id": "a03c0620-a2b9-4a5e-8b56-f4763e8c4292",
   "metadata": {},
   "outputs": [],
   "source": [
    "exchange = 'deribit'\n",
    "# date = '2021-05-19'\n",
    "date = '2021-10-29'\n",
    "symbol = 'OPTIONS'\n",
    "data_type = 'quotes'\n",
    "opt_quote = data_loader(exchange, date, data_type,symbol)"
   ]
  },
  {
   "cell_type": "code",
   "execution_count": null,
   "id": "8989b27c-e2ed-435e-b1f4-cfb552c973d2",
   "metadata": {},
   "outputs": [],
   "source": [
    "#### get PERP data on 20210519\n",
    "symbol = 'BTC-PERPETUAL'\n",
    "PERP_quote_btc = data_loader(exchange, date,data_type,symbol)"
   ]
  },
  {
   "cell_type": "code",
   "execution_count": null,
   "id": "650fd45e-975d-4925-8a01-ed8157ecd52e",
   "metadata": {},
   "outputs": [],
   "source": [
    "PERP_quote_btc['dt'] = pd.to_datetime(PERP_quote_btc['timestamp'], unit='us')\n",
    "PERP_quote_btc['BTC_PERP_mid_price'] = (PERP_quote_btc['ask_price']+PERP_quote_btc['bid_price'])/2"
   ]
  },
  {
   "cell_type": "code",
   "execution_count": null,
   "id": "0bf35f79-df89-415e-9ed0-d87942602bcd",
   "metadata": {},
   "outputs": [],
   "source": [
    "PERP_quote_btc_1 = PERP_quote_btc.set_index('dt')['BTC_PERP_mid_price']\n",
    "PERP_quote_btc_2 = PERP_quote_btc_1[~PERP_quote_btc_1.index.duplicated(keep='last')]\n",
    "PERP_quote_btc_3 = PERP_quote_btc_2.reindex(index_1m, method='ffill')"
   ]
  },
  {
   "cell_type": "code",
   "execution_count": null,
   "id": "aa2e4020-cfad-4d99-8a6b-d5a121016381",
   "metadata": {},
   "outputs": [],
   "source": [
    "#### get optchain data on 20210519\n",
    "optchain1Min_20210519_20211231 = pd.read_pickle(os.path.join(LOCAL_DATA_DIR, 'optchain1Min_20210519_20211231.pkl'))\n",
    "optchain1Min_20210519_20211231['mid_vol'] = 0.5*(optchain1Min_20210519_20211231['aiv'] + optchain1Min_20210519_20211231['biv'])"
   ]
  },
  {
   "cell_type": "code",
   "execution_count": null,
   "id": "8952d179-a92d-4bd8-ab12-bb6734b2a373",
   "metadata": {},
   "outputs": [],
   "source": [
    "optchain1Min_20210519_exp_i = optchain1Min_20210519_20211231.copy()\n",
    "optchain1Min_20210519_exp_i_reduced = optchain1Min_20210519_exp_i[['symbol','strike','underly','s','aiv','biv']]\n",
    "optchain1Min_20210519_exp_i_reduced = optchain1Min_20210519_exp_i_reduced[optchain1Min_20210519_exp_i_reduced['symbol'].str.contains('BTC-')]\n",
    "optchain1Min_20210519_exp_i_reduced = optchain1Min_20210519_exp_i_reduced.pipe(DeribitUtils.parse_optSymbol_col)"
   ]
  },
  {
   "cell_type": "code",
   "execution_count": null,
   "id": "e8a39425-1767-4c57-b0f8-f26c77f52855",
   "metadata": {},
   "outputs": [],
   "source": [
    "# 1. get underlying price\n",
    "optchain1Min_20210519_exp_i_reduced_1 = optchain1Min_20210519_exp_i_reduced['s']\n",
    "optchain1Min_20210519_exp_i_reduced_2 =  optchain1Min_20210519_exp_i_reduced_1[~optchain1Min_20210519_exp_i_reduced_1.index.duplicated(keep='last')]\n",
    "optchain1Min_20210519_exp_i_reduced_2 = optchain1Min_20210519_exp_i_reduced_2.sort_index()\n",
    "optchain1Min_20210519_exp_i_reduced_3 = optchain1Min_20210519_exp_i_reduced_2.reindex(index_1m, method='ffill').to_frame()"
   ]
  },
  {
   "cell_type": "code",
   "execution_count": null,
   "id": "5218b515-a13b-454a-ae7f-cd609cd07520",
   "metadata": {},
   "outputs": [],
   "source": [
    "# 2. get ask iv per strike, per type\n",
    "optchain1Min_20210519_exp_i_reduced_1a = optchain1Min_20210519_exp_i_reduced[['aiv','biv','strike','type']]"
   ]
  },
  {
   "cell_type": "code",
   "execution_count": null,
   "id": "40645c7c-a14b-4f56-9ea2-b35d4f8cd76d",
   "metadata": {},
   "outputs": [],
   "source": [
    "optchain1Min_20210519_exp_i_reduced_2a = optchain1Min_20210519_exp_i_reduced_1a.reset_index().rename(columns={'tm':'index'})\n",
    "optchain1Min_20210519_exp_i_reduced_2a.head(2)"
   ]
  },
  {
   "cell_type": "code",
   "execution_count": null,
   "id": "e83c5c8a-44c8-4ca1-ae7d-c0ee7a95067c",
   "metadata": {},
   "outputs": [],
   "source": [
    "optchain1Min_20210519_exp_i_reduced_2a['strike'].unique()"
   ]
  },
  {
   "cell_type": "code",
   "execution_count": null,
   "id": "31a626a8-1bdf-4f8f-b5db-fa89d4533ca7",
   "metadata": {},
   "outputs": [],
   "source": [
    "optchain1Min_20210519_exp_i_reduced_3.columns = ['underlying_price']\n",
    "df_underlying = optchain1Min_20210519_exp_i_reduced_3.join(PERP_quote_btc_3).reset_index()"
   ]
  },
  {
   "cell_type": "code",
   "execution_count": null,
   "id": "63b0c311-02e9-48b6-aadb-6da58b13de9d",
   "metadata": {},
   "outputs": [],
   "source": [
    "df_underlying.head(2)"
   ]
  },
  {
   "cell_type": "code",
   "execution_count": null,
   "id": "c53e80f6-6924-4251-9caa-e6df5e8f8786",
   "metadata": {},
   "outputs": [],
   "source": [
    "# processing quote data\n",
    "# only look at BTC\n",
    "opt_quote_btc = opt_quote_parsed.query('instrument==\"BTC\"')"
   ]
  },
  {
   "cell_type": "code",
   "execution_count": null,
   "id": "dcd5ef8d-4b67-46b5-8888-b3a7b826db35",
   "metadata": {},
   "outputs": [],
   "source": [
    "# select relevant expire dates\n",
    "selected_expr_dates = DeribitUtils.get_important_option_expire_dates(pd.to_datetime(date))\n",
    "selected_expr_dates"
   ]
  },
  {
   "cell_type": "code",
   "execution_count": null,
   "id": "cbb0e9bb-6e3f-4af7-867a-c6a1beeacce6",
   "metadata": {
    "tags": []
   },
   "outputs": [],
   "source": [
    "opt_quote_btc['exp_date'] = opt_quote_btc['expire'].dt.date"
   ]
  },
  {
   "cell_type": "code",
   "execution_count": null,
   "id": "7f23795a-3a53-43ca-ac92-b7f85258dc4b",
   "metadata": {},
   "outputs": [],
   "source": [
    "expire_i = selected_expr_dates[-1]\n",
    "opt_quote_btc_expire_i_c = opt_quote_btc.query('exp_date==@expire_i & type ==\"C\"')\n",
    "opt_quote_btc_expire_i_p = opt_quote_btc.query('exp_date==@expire_i & type ==\"P\"')"
   ]
  },
  {
   "cell_type": "code",
   "execution_count": null,
   "id": "624aaf1d-f3ba-4b98-b3c0-4c187eabcb14",
   "metadata": {},
   "outputs": [],
   "source": [
    "list(sorted(opt_quote_btc_expire_i_c['strike'].unique())) == sorted(opt_quote_btc_expire_i_p['strike'].unique())\n",
    "strike_list = list(sorted(opt_quote_btc_expire_i_c['strike'].unique()))\n",
    "len(strike_list)"
   ]
  },
  {
   "cell_type": "code",
   "execution_count": null,
   "id": "f818086a-df2b-4320-93f4-96e541cd3295",
   "metadata": {},
   "outputs": [],
   "source": [
    "opt_quote_btc_expire_i_c_reduced = opt_quote_btc_expire_i_c.drop(labels=['exchange','symbol','timestamp','local_timestamp','type','expire','t2m'], axis=1)\n",
    "opt_quote_btc_expire_i_p_reduced = opt_quote_btc_expire_i_p.drop(labels=['exchange','symbol','timestamp','local_timestamp','type','expire','t2m'], axis=1)"
   ]
  },
  {
   "cell_type": "code",
   "execution_count": null,
   "id": "55027d78-6b10-4086-9c16-d5e75af0cb41",
   "metadata": {},
   "outputs": [],
   "source": [
    "opt_quote_btc_expire_i_c_reduced_k = opt_quote_btc_expire_i_c_reduced.query('strike==90000').set_index('timestamp_dt')\n",
    "opt_quote_btc_expire_i_p_reduced_k = opt_quote_btc_expire_i_p_reduced.query('strike==90000').set_index('timestamp_dt')"
   ]
  },
  {
   "cell_type": "code",
   "execution_count": null,
   "id": "88202ffa-fc62-4d5a-bc3e-524a1a83126b",
   "metadata": {},
   "outputs": [],
   "source": [
    "opt_quote_btc_expire_i_c_reduced_k_1 = opt_quote_btc_expire_i_c_reduced_k[~opt_quote_btc_expire_i_c_reduced_k.index.duplicated(keep='last')]\n",
    "opt_quote_btc_expire_i_p_reduced_k_1 = opt_quote_btc_expire_i_p_reduced_k[~opt_quote_btc_expire_i_p_reduced_k.index.duplicated(keep='last')]"
   ]
  },
  {
   "cell_type": "code",
   "execution_count": null,
   "id": "e87b3e0e-f669-490d-8ac8-def639a2573f",
   "metadata": {
    "tags": []
   },
   "outputs": [],
   "source": [
    "strike2df = {}\n",
    "for strike in opt_quote_btc_expire_i_c_reduced['strike'].unique():\n",
    "    #print(strike)\n",
    "    opt_quote_btc_expire_i_c_reduced_k_1 = opt_quote_btc_expire_i_c_reduced.query('strike==@strike').set_index('timestamp_dt')\n",
    "    opt_quote_btc_expire_i_c_reduced_k_1 = opt_quote_btc_expire_i_c_reduced_k_1[~opt_quote_btc_expire_i_c_reduced_k_1.index.duplicated(keep='last')]\n",
    "    opt_quote_btc_expire_i_c_reduced_k_1_1min = opt_quote_btc_expire_i_c_reduced_k_1.reindex(index_1m, method='ffill')\n",
    "    strike2df[strike] = opt_quote_btc_expire_i_c_reduced_k_1_1min\n",
    "    #display(opt_quote_btc_expire_i_c_reduced_k_1_1min.head(2))\n",
    "df_combined = pd.concat(strike2df.values()).reset_index()\n",
    "df_combined['ask_amount'] = df_combined['ask_amount'].fillna(0)\n",
    "df_combined['bid_amount'] = df_combined['bid_amount'].fillna(0)\n",
    "df_combined_c = df_combined.copy()"
   ]
  },
  {
   "cell_type": "code",
   "execution_count": null,
   "id": "4f905b6b-3cf5-47c5-a2a6-4c12da6ba091",
   "metadata": {
    "tags": []
   },
   "outputs": [],
   "source": [
    "strike2df = {}\n",
    "for strike in opt_quote_btc_expire_i_p_reduced['strike'].unique():\n",
    "    #print(strike)\n",
    "    opt_quote_btc_expire_i_p_reduced_k_1 = opt_quote_btc_expire_i_p_reduced.query('strike==@strike').set_index('timestamp_dt')\n",
    "    opt_quote_btc_expire_i_p_reduced_k_1 = opt_quote_btc_expire_i_p_reduced_k_1[~opt_quote_btc_expire_i_p_reduced_k_1.index.duplicated(keep='last')]\n",
    "    opt_quote_btc_expire_i_p_reduced_k_1_1min = opt_quote_btc_expire_i_p_reduced_k_1.reindex(index_1m, method='ffill')\n",
    "    strike2df[strike] = opt_quote_btc_expire_i_p_reduced_k_1_1min\n",
    "    #display(opt_quote_btc_expire_i_p_reduced_k_1_1min.head(2))\n",
    "df_combined = pd.concat(strike2df.values()).reset_index()\n",
    "df_combined['ask_amount'] = df_combined['ask_amount'].fillna(0)\n",
    "df_combined['bid_amount'] = df_combined['bid_amount'].fillna(0)\n",
    "df_combined_p = df_combined.copy()"
   ]
  },
  {
   "cell_type": "code",
   "execution_count": null,
   "id": "7ccc7691-bef5-4c7f-bd47-efbcf1fddfe1",
   "metadata": {},
   "outputs": [],
   "source": [
    "df_combined_c['type'] = 'C'\n",
    "df_combined_p['type'] = 'P'\n",
    "df_combined = df_combined_c.append(df_combined_p)"
   ]
  },
  {
   "cell_type": "code",
   "execution_count": null,
   "id": "5e0f87c9-9902-42c9-95a5-5f61b4f27994",
   "metadata": {},
   "outputs": [],
   "source": [
    "df_combined['strike_shifted'] = df_combined['strike'] + 100*((df_combined['type']=='C').astype(int)-0.5)*2"
   ]
  },
  {
   "cell_type": "code",
   "execution_count": null,
   "id": "66f22670-dc88-45eb-8167-c0b466f47151",
   "metadata": {},
   "outputs": [],
   "source": [
    "df_combined.head()"
   ]
  },
  {
   "cell_type": "code",
   "execution_count": null,
   "id": "a15acf3a-1da7-46de-a883-fca78916df30",
   "metadata": {
    "tags": []
   },
   "outputs": [],
   "source": [
    "from plotly.subplots import make_subplots\n",
    "subfig = make_subplots(specs=[[{\"secondary_y\": True}]])\n",
    "\n",
    "fig1a = px.scatter(df_combined, x=\"index\", y=\"strike\", size=\"ask_amount\",  hover_name=\"ask_price\", color=\"strike\", title='expire date',width=1500, height=1200)\n",
    "fig1b = px.scatter(df_combined, x=\"index\", y=\"strike\", size=\"bid_amount\",  hover_name=\"bid_price\", color=\"strike\", title='expire date',width=1500, height=1200)"
   ]
  },
  {
   "cell_type": "code",
   "execution_count": null,
   "id": "bc260f1e-35b4-4549-8d56-ddba6f4fd3e7",
   "metadata": {
    "tags": []
   },
   "outputs": [],
   "source": [
    "optchain1Min_20210519_exp_i_reduced_1a.head()"
   ]
  },
  {
   "cell_type": "code",
   "execution_count": null,
   "id": "1e102653-5bbd-418d-adb7-c16c046efbb8",
   "metadata": {},
   "outputs": [],
   "source": [
    "# remove duplicates in opt chain\n",
    "optchain1Min_20210519_exp_i_reduced_3a = optchain1Min_20210519_exp_i_reduced_2a[~optchain1Min_20210519_exp_i_reduced_2a.set_index(['type','strike','index']).index.duplicated(keep='last')]"
   ]
  },
  {
   "cell_type": "code",
   "execution_count": null,
   "id": "87bfd84a-7bab-44ef-a304-aae19962de8b",
   "metadata": {},
   "outputs": [],
   "source": [
    "df_combined_ext = pd.merge(left=df_combined, right = optchain1Min_20210519_exp_i_reduced_3a, on=['index','strike','type'], how='left')"
   ]
  },
  {
   "cell_type": "code",
   "execution_count": null,
   "id": "0e262fbd-8b49-4ab9-bf3d-1d2aeafa1056",
   "metadata": {},
   "outputs": [],
   "source": [
    "df_combined_ext['mvol'] = 0.5*(df_combined_ext['aiv']+df_combined_ext['biv'])"
   ]
  },
  {
   "cell_type": "code",
   "execution_count": null,
   "id": "13b0e918-893f-4359-ae9f-0b0362d4e61e",
   "metadata": {},
   "outputs": [],
   "source": [
    "display(df_combined.shape)\n",
    "display(df_combined_ext.shape)"
   ]
  },
  {
   "cell_type": "code",
   "execution_count": null,
   "id": "a68471c8-082b-44ad-9544-355f33c9023b",
   "metadata": {},
   "outputs": [],
   "source": [
    "df_combined_ext['total_amount'] = df_combined_ext['bid_amount'] + df_combined_ext['ask_amount']"
   ]
  },
  {
   "cell_type": "code",
   "execution_count": null,
   "id": "0773291d-6f4a-428c-b6ad-aa46528abae9",
   "metadata": {},
   "outputs": [],
   "source": [
    "fig1 = px.scatter(df_combined_ext, x=\"index\", y=\"strike_shifted\", size=\"ask_amount\",  hover_data=['strike','ask_price','ask_amount','type', 'biv'], color=\"biv\", title='',width=1500, height=1200)\n",
    "fig1b = px.scatter(df_combined_ext, x=\"index\", y=\"strike_shifted\", size=\"bid_amount\",  hover_data=['strike','bid_price','bid_amount','type', 'biv'], color=\"biv\", title='',width=1500, height=1200)\n",
    "fig1c = px.scatter(df_combined_ext, x=\"index\", y=\"strike_shifted\", size=\"total_amount\", hover_data=['strike','ask_price','ask_amount','bid_price','bid_amount','type', 'aiv','biv','mvol'], color=\"mvol\", title='',width=1500, height=1200)"
   ]
  },
  {
   "cell_type": "code",
   "execution_count": null,
   "id": "522a5445-5e68-47e7-8186-9c3a2077a33e",
   "metadata": {
    "tags": []
   },
   "outputs": [],
   "source": [
    "fig2 = px.line(df_underlying, x=\"index\", y=['underlying_price','BTC_PERP_mid_price'], width=1500, height=1200)"
   ]
  },
  {
   "cell_type": "code",
   "execution_count": null,
   "id": "a90dd12c-a896-4d9d-9341-895edafe34b0",
   "metadata": {},
   "outputs": [],
   "source": [
    "fig3 = go.Figure(data=fig1.data + fig2.data,)\n",
    "fig3.update_layout(\n",
    "    autosize=False,\n",
    "    width=1500,\n",
    "    height=1200,\n",
    "    title='BTC ask price and amount v.s. underlying & PERP')\n",
    "fig3.show()\n",
    "fig3.write_html(os.path.join(LOCAL_FIGURE_DIR,'option_book', '202105', \"BTC_options_20210519_20211231_ask.html\"))"
   ]
  },
  {
   "cell_type": "code",
   "execution_count": null,
   "id": "ec3f7b34-89ad-4114-b853-2be2ab9a4463",
   "metadata": {
    "scrolled": true,
    "tags": []
   },
   "outputs": [],
   "source": [
    "fig3b = go.Figure(data=fig1b.data + fig2.data,)\n",
    "fig3b.update_layout(\n",
    "    autosize=False,\n",
    "    width=1500,\n",
    "    height=1200,\n",
    "    title='BTC bid price and amount v.s. underlying & PERP')\n",
    "fig3b.show()\n",
    "fig3b.write_html(os.path.join(LOCAL_FIGURE_DIR,'option_book', '202105', \"BTC_options_20210519_20211231_bid.html\"))"
   ]
  },
  {
   "cell_type": "code",
   "execution_count": null,
   "id": "3313a010-4c00-4eb6-a8ff-6844f7e2b284",
   "metadata": {},
   "outputs": [],
   "source": [
    "fig3c = go.Figure(data=fig1c.data + fig2.data,)\n",
    "fig3c.update_layout(\n",
    "    autosize=False,\n",
    "    width=1500,\n",
    "    height=1200,\n",
    "    title='BTC price and total amount v.s. underlying & PERP')\n",
    "fig3c.show()\n",
    "fig3c.write_html(os.path.join(LOCAL_FIGURE_DIR, 'option_book', '202105', \"BTC_options_20210519_20211231_all_quotes.html\"))"
   ]
  },
  {
   "cell_type": "markdown",
   "id": "94bda365-a99a-4ace-8eb7-d6c37731c33e",
   "metadata": {},
   "source": [
    "### plot 20211029 data\n",
    "\n"
   ]
  },
  {
   "cell_type": "code",
   "execution_count": null,
   "id": "57db1f66-1780-490a-a7ff-8d583f191e64",
   "metadata": {},
   "outputs": [],
   "source": [
    "%store -r df_combined_ext_20211029\n",
    "%store -r df_underlying_20211029"
   ]
  },
  {
   "cell_type": "code",
   "execution_count": null,
   "id": "55f67297-1dcc-4d0f-927e-f4b411cf2201",
   "metadata": {},
   "outputs": [],
   "source": [
    "df_combined_ext_20211029"
   ]
  },
  {
   "cell_type": "code",
   "execution_count": null,
   "id": "bdc15273-8436-4664-b039-480189343e77",
   "metadata": {},
   "outputs": [],
   "source": [
    "df_underlying_20211029"
   ]
  },
  {
   "cell_type": "code",
   "execution_count": null,
   "id": "8ed9b0b3-bb18-4e83-ad30-8232e7bd6bb0",
   "metadata": {},
   "outputs": [],
   "source": [
    "subfig = make_subplots(specs=[[{\"secondary_y\": True}]])\n",
    "fig1a = px.scatter(df_combined_ext_20211029, x=\"index\", y=\"strike_shifted\", size=\"ask_amount\",  hover_data=['strike','ask_price','ask_amount','type', 'aiv'], color=\"aiv\", title='',width=1500, height=1200)\n",
    "fig1b = px.scatter(df_combined_ext_20211029, x=\"index\", y=\"strike_shifted\", size=\"bid_amount\",  hover_data=['strike','bid_price','bid_amount','type', 'biv'], color=\"biv\", title='',width=1500, height=1200)\n",
    "fig1c = px.scatter(df_combined_ext_20211029, x=\"index\", y=\"strike_shifted\", size=\"total_amount\", hover_data=['strike','ask_price','ask_amount','bid_price','bid_amount','type', 'aiv','biv','mvol'], color=\"mvol\", title='',width=1500, height=1200)"
   ]
  },
  {
   "cell_type": "code",
   "execution_count": null,
   "id": "48b57a40-aa19-47f3-b4d2-47efe27f8231",
   "metadata": {},
   "outputs": [],
   "source": [
    "fig2 = px.line(df_underlying_20211029, x=\"index\", y=['underlying_price','PERP_mid_price'], width=1500, height=1200)"
   ]
  },
  {
   "cell_type": "code",
   "execution_count": null,
   "id": "80269120-28d6-4246-9737-8adbd8193253",
   "metadata": {},
   "outputs": [],
   "source": [
    "fig3a = go.Figure(data=fig1a.data + fig2.data,)\n",
    "fig3a.update_layout(\n",
    "    autosize=False,\n",
    "    width=1500,\n",
    "    height=1200,\n",
    "    title='BTC ask price and amount v.s. underlying & PERP')\n",
    "#fig3a.show()\n",
    "fig3a.write_html(os.path.join(LOCAL_FIGURE_DIR,'option_book', '202110', \"BTC_options_20211029_20220624_ask.html\"))"
   ]
  },
  {
   "cell_type": "code",
   "execution_count": null,
   "id": "d85265eb-d78b-4062-86a3-2057e8e079cd",
   "metadata": {},
   "outputs": [],
   "source": [
    "fig = go.Figure(data=fig1b.data + fig2.data)\n",
    "fig.update_layout(\n",
    "    autosize=False,\n",
    "    width=1500,\n",
    "    height=1200,\n",
    "    title='BTC ask price and amount v.s. underlying & PERP')\n",
    "#fig3b.show()\n",
    "fig.write_html(os.path.join(LOCAL_FIGURE_DIR,'option_book', '202110', \"BTC_options_20211029_20220624_bid.html\"))"
   ]
  },
  {
   "cell_type": "code",
   "execution_count": null,
   "id": "bf37dd99-376f-4bd0-a9ef-89853f93aaf8",
   "metadata": {},
   "outputs": [],
   "source": [
    "fig = go.Figure(data=fig1c.data + fig2.data,)\n",
    "fig.update_layout(\n",
    "    autosize=False,\n",
    "    width=1500,\n",
    "    height=1200,\n",
    "    title='BTC ask price and amount v.s. underlying & PERP')\n",
    "fig.write_html(os.path.join(LOCAL_FIGURE_DIR,'option_book', '202110', \"BTC_options_20211029_20220624_all_quotes.html\"))"
   ]
  },
  {
   "cell_type": "code",
   "execution_count": null,
   "id": "eb62a8ff-f973-46b0-8766-b0761f59fa21",
   "metadata": {},
   "outputs": [],
   "source": []
  }
 ],
 "metadata": {
  "kernelspec": {
   "display_name": "Python 3 (ipykernel)",
   "language": "python",
   "name": "python3"
  },
  "language_info": {
   "codemirror_mode": {
    "name": "ipython",
    "version": 3
   },
   "file_extension": ".py",
   "mimetype": "text/x-python",
   "name": "python",
   "nbconvert_exporter": "python",
   "pygments_lexer": "ipython3",
   "version": "3.8.8"
  }
 },
 "nbformat": 4,
 "nbformat_minor": 5
}
