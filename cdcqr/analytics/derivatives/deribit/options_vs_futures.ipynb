{
 "cells": [
  {
   "cell_type": "markdown",
   "id": "3852dc28-c306-4bb5-a91d-f9bd10d25d29",
   "metadata": {},
   "source": [
    "### Investigate the relationship between option order book update frequencies and the future prices update frequencies\n",
    "* data processing\n",
    "    * find the ATM call and put, most updated call and most updated put\n",
    "    * for each single instrument in a day\n",
    "    * filter out snapshot\n",
    "    * remove duplicated timepoint\n",
    "    * round to nearest minutes\n",
    "    * groupby timestamp and count -> update frequency/min"
   ]
  },
  {
   "cell_type": "code",
   "execution_count": 237,
   "id": "867bbf9f-5654-4314-8ecd-aa7b48c8d337",
   "metadata": {},
   "outputs": [],
   "source": [
    "from croqr.common.config import LOCAL_DATA_DIR\n",
    "import os\n",
    "import pandas as pd\n",
    "from datetime import datetime, timedelta\n",
    "import croqr.data.deribit.data_utils as datautils\n",
    "import pandas as pd\n",
    "pd.options.mode.chained_assignment = None  # default='warn'\n",
    "import time\n",
    "from croqr.common.utils import print_time_from_t0\n",
    "from croqr.common.dt_utils import DataTimeUtils\n",
    "from importlib import reload\n",
    "import matplotlib.pyplot as plt"
   ]
  },
  {
   "cell_type": "code",
   "execution_count": 238,
   "id": "cafc5bdd-15fb-4a53-ba08-8eca4303ce37",
   "metadata": {},
   "outputs": [
    {
     "data": {
      "text/plain": [
       "<module 'croqr.data.deribit.data_utils' from 'c:\\\\users\\\\wang\\\\documents\\\\github\\\\croqr\\\\croqr\\\\data\\\\deribit\\\\data_utils.py'>"
      ]
     },
     "execution_count": 238,
     "metadata": {},
     "output_type": "execute_result"
    }
   ],
   "source": [
    "reload(datautils)"
   ]
  },
  {
   "cell_type": "code",
   "execution_count": 120,
   "id": "2c2325e8-b3af-4914-8897-22c508c35fce",
   "metadata": {},
   "outputs": [],
   "source": [
    "TARDIS_DATA_PATH = os.path.join(LOCAL_DATA_DIR, 'tardis') "
   ]
  },
  {
   "cell_type": "code",
   "execution_count": 121,
   "id": "eeb2e5f5-56b7-4916-b3b9-dbd065ae5f36",
   "metadata": {
    "scrolled": true,
    "tags": []
   },
   "outputs": [
    {
     "data": {
      "text/plain": [
       "['deribit_book_snapshot_25_2021-10-01_BTC-PERPETUAL.csv.gz',\n",
       " 'deribit_book_snapshot_25_2021-10-01_ETH-PERPETUAL.csv.gz',\n",
       " 'deribit_book_snapshot_25_2021-10-02_BTC-PERPETUAL.csv.gz',\n",
       " 'deribit_book_snapshot_25_2021-10-02_ETH-PERPETUAL.csv.gz',\n",
       " 'deribit_book_snapshot_25_2021-10-03_BTC-PERPETUAL.csv.gz',\n",
       " 'deribit_book_snapshot_25_2021-10-03_ETH-PERPETUAL.csv.gz',\n",
       " 'deribit_book_snapshot_25_2021-10-04_BTC-PERPETUAL.csv.gz',\n",
       " 'deribit_book_snapshot_25_2021-10-04_ETH-PERPETUAL.csv.gz',\n",
       " 'deribit_book_snapshot_25_2021-10-05_BTC-PERPETUAL.csv.gz',\n",
       " 'deribit_book_snapshot_25_2021-10-05_ETH-PERPETUAL.csv.gz',\n",
       " 'deribit_book_snapshot_25_2021-10-06_BTC-PERPETUAL.csv.gz',\n",
       " 'deribit_book_snapshot_25_2021-10-06_ETH-PERPETUAL.csv.gz',\n",
       " 'deribit_derivative_ticker_2021-10-01_BTC-PERPETUAL.csv.gz',\n",
       " 'deribit_derivative_ticker_2021-10-01_ETH-PERPETUAL.csv.gz',\n",
       " 'deribit_derivative_ticker_2021-10-02_BTC-PERPETUAL.csv.gz',\n",
       " 'deribit_derivative_ticker_2021-10-02_ETH-PERPETUAL.csv.gz',\n",
       " 'deribit_derivative_ticker_2021-10-03_BTC-PERPETUAL.csv.gz',\n",
       " 'deribit_derivative_ticker_2021-10-03_ETH-PERPETUAL.csv.gz',\n",
       " 'deribit_derivative_ticker_2021-10-04_BTC-PERPETUAL.csv.gz',\n",
       " 'deribit_derivative_ticker_2021-10-04_ETH-PERPETUAL.csv.gz',\n",
       " 'deribit_derivative_ticker_2021-10-05_BTC-PERPETUAL.csv.gz',\n",
       " 'deribit_derivative_ticker_2021-10-05_ETH-PERPETUAL.csv.gz',\n",
       " 'deribit_derivative_ticker_2021-10-06_BTC-PERPETUAL.csv.gz',\n",
       " 'deribit_derivative_ticker_2021-10-06_ETH-PERPETUAL.csv.gz',\n",
       " 'deribit_incremental_book_L2_2021-10-01_BTC-PERPETUAL.csv.gz',\n",
       " 'deribit_incremental_book_L2_2021-10-01_ETH-PERPETUAL.csv.gz',\n",
       " 'deribit_incremental_book_L2_2021-10-01_OPTIONS.csv.gz',\n",
       " 'deribit_incremental_book_L2_2021-10-02_BTC-PERPETUAL.csv.gz',\n",
       " 'deribit_incremental_book_L2_2021-10-02_ETH-PERPETUAL.csv.gz',\n",
       " 'deribit_incremental_book_L2_2021-10-02_OPTIONS.csv.gz',\n",
       " 'deribit_incremental_book_L2_2021-10-03_BTC-PERPETUAL.csv.gz',\n",
       " 'deribit_incremental_book_L2_2021-10-03_ETH-PERPETUAL.csv.gz',\n",
       " 'deribit_incremental_book_L2_2021-10-03_OPTIONS.csv.gz',\n",
       " 'deribit_incremental_book_L2_2021-10-04_BTC-PERPETUAL.csv.gz',\n",
       " 'deribit_incremental_book_L2_2021-10-04_ETH-PERPETUAL.csv.gz',\n",
       " 'deribit_incremental_book_L2_2021-10-04_OPTIONS.csv.gz',\n",
       " 'deribit_incremental_book_L2_2021-10-05_BTC-PERPETUAL.csv.gz',\n",
       " 'deribit_incremental_book_L2_2021-10-05_ETH-PERPETUAL.csv.gz',\n",
       " 'deribit_incremental_book_L2_2021-10-05_OPTIONS.csv.gz',\n",
       " 'deribit_incremental_book_L2_2021-10-06_BTC-PERPETUAL.csv.gz',\n",
       " 'deribit_incremental_book_L2_2021-10-06_ETH-PERPETUAL.csv.gz',\n",
       " 'deribit_incremental_book_L2_2021-10-06_OPTIONS.csv.gz',\n",
       " 'deribit_liquidations_2021-10-01_BTC-PERPETUAL.csv.gz',\n",
       " 'deribit_liquidations_2021-10-01_ETH-PERPETUAL.csv.gz',\n",
       " 'deribit_liquidations_2021-10-02_BTC-PERPETUAL.csv.gz',\n",
       " 'deribit_liquidations_2021-10-02_ETH-PERPETUAL.csv.gz',\n",
       " 'deribit_liquidations_2021-10-03_BTC-PERPETUAL.csv.gz',\n",
       " 'deribit_liquidations_2021-10-03_ETH-PERPETUAL.csv.gz',\n",
       " 'deribit_liquidations_2021-10-04_BTC-PERPETUAL.csv.gz',\n",
       " 'deribit_liquidations_2021-10-04_ETH-PERPETUAL.csv.gz',\n",
       " 'deribit_liquidations_2021-10-05_BTC-PERPETUAL.csv.gz',\n",
       " 'deribit_liquidations_2021-10-05_ETH-PERPETUAL.csv.gz',\n",
       " 'deribit_liquidations_2021-10-06_BTC-PERPETUAL.csv.gz',\n",
       " 'deribit_liquidations_2021-10-06_ETH-PERPETUAL.csv.gz',\n",
       " 'deribit_quotes_2021-10-01_BTC-PERPETUAL.csv.gz',\n",
       " 'deribit_quotes_2021-10-01_ETH-PERPETUAL.csv.gz',\n",
       " 'deribit_quotes_2021-10-01_OPTIONS.csv.gz',\n",
       " 'deribit_quotes_2021-10-02_BTC-PERPETUAL.csv.gz',\n",
       " 'deribit_quotes_2021-10-02_ETH-PERPETUAL.csv.gz',\n",
       " 'deribit_quotes_2021-10-02_OPTIONS.csv.gz',\n",
       " 'deribit_quotes_2021-10-03_BTC-PERPETUAL.csv.gz',\n",
       " 'deribit_quotes_2021-10-03_ETH-PERPETUAL.csv.gz',\n",
       " 'deribit_quotes_2021-10-03_OPTIONS.csv.gz',\n",
       " 'deribit_quotes_2021-10-04_BTC-PERPETUAL.csv.gz',\n",
       " 'deribit_quotes_2021-10-04_ETH-PERPETUAL.csv.gz',\n",
       " 'deribit_quotes_2021-10-04_OPTIONS.csv.gz',\n",
       " 'deribit_quotes_2021-10-05_BTC-PERPETUAL.csv.gz',\n",
       " 'deribit_quotes_2021-10-05_ETH-PERPETUAL.csv.gz',\n",
       " 'deribit_quotes_2021-10-05_OPTIONS.csv.gz',\n",
       " 'deribit_quotes_2021-10-06_BTC-PERPETUAL.csv.gz',\n",
       " 'deribit_quotes_2021-10-06_ETH-PERPETUAL.csv.gz',\n",
       " 'deribit_quotes_2021-10-06_OPTIONS.csv.gz',\n",
       " 'deribit_trades_2021-10-01_BTC-PERPETUAL.csv.gz',\n",
       " 'deribit_trades_2021-10-01_ETH-PERPETUAL.csv.gz',\n",
       " 'deribit_trades_2021-10-01_OPTIONS.csv.gz',\n",
       " 'deribit_trades_2021-10-02_BTC-PERPETUAL.csv.gz',\n",
       " 'deribit_trades_2021-10-02_ETH-PERPETUAL.csv.gz',\n",
       " 'deribit_trades_2021-10-02_OPTIONS.csv.gz',\n",
       " 'deribit_trades_2021-10-03_BTC-PERPETUAL.csv.gz',\n",
       " 'deribit_trades_2021-10-03_ETH-PERPETUAL.csv.gz',\n",
       " 'deribit_trades_2021-10-03_OPTIONS.csv.gz',\n",
       " 'deribit_trades_2021-10-04_BTC-PERPETUAL.csv.gz',\n",
       " 'deribit_trades_2021-10-04_ETH-PERPETUAL.csv.gz',\n",
       " 'deribit_trades_2021-10-04_OPTIONS.csv.gz',\n",
       " 'deribit_trades_2021-10-05_BTC-PERPETUAL.csv.gz',\n",
       " 'deribit_trades_2021-10-05_ETH-PERPETUAL.csv.gz',\n",
       " 'deribit_trades_2021-10-05_OPTIONS.csv.gz',\n",
       " 'deribit_trades_2021-10-06_BTC-PERPETUAL.csv.gz',\n",
       " 'deribit_trades_2021-10-06_ETH-PERPETUAL.csv.gz',\n",
       " 'deribit_trades_2021-10-06_OPTIONS.csv.gz']"
      ]
     },
     "execution_count": 121,
     "metadata": {},
     "output_type": "execute_result"
    }
   ],
   "source": [
    "os.listdir(TARDIS_DATA_PATH)"
   ]
  },
  {
   "cell_type": "markdown",
   "id": "446afec3-708e-4f3c-a961-943990cce6c4",
   "metadata": {},
   "source": [
    "### load and process options data"
   ]
  },
  {
   "cell_type": "markdown",
   "id": "b0fae05f-c3aa-41ce-8ac7-b37b6c246bc8",
   "metadata": {},
   "source": [
    "#### incremental_book_L2"
   ]
  },
  {
   "cell_type": "code",
   "execution_count": 131,
   "id": "e87667e0-3672-4320-9fb3-533dba56d3c0",
   "metadata": {},
   "outputs": [],
   "source": [
    "symbol = 'OPTIONS'\n",
    "date = \"2021-10-01\"\n",
    "data_type = \"incremental_book_L2\" #\"quotes\""
   ]
  },
  {
   "cell_type": "code",
   "execution_count": 123,
   "id": "0509fb48-3a38-4a29-8280-e3e66ebada2f",
   "metadata": {},
   "outputs": [
    {
     "name": "stdout",
     "output_type": "stream",
     "text": [
      "19.69 sec\n"
     ]
    }
   ],
   "source": [
    "t0 = time.time()\n",
    "fname = 'deribit_{}_{}_{}.csv.gz'.format(data_type, date, symbol)\n",
    "df = pd.read_csv(os.path.join(TARDIS_DATA_PATH, fname))\n",
    "print_time_from_t0(t0)"
   ]
  },
  {
   "cell_type": "code",
   "execution_count": 124,
   "id": "0978e796-98b7-428a-a676-787c43e08b9d",
   "metadata": {},
   "outputs": [
    {
     "data": {
      "text/html": [
       "<div>\n",
       "<style scoped>\n",
       "    .dataframe tbody tr th:only-of-type {\n",
       "        vertical-align: middle;\n",
       "    }\n",
       "\n",
       "    .dataframe tbody tr th {\n",
       "        vertical-align: top;\n",
       "    }\n",
       "\n",
       "    .dataframe thead th {\n",
       "        text-align: right;\n",
       "    }\n",
       "</style>\n",
       "<table border=\"1\" class=\"dataframe\">\n",
       "  <thead>\n",
       "    <tr style=\"text-align: right;\">\n",
       "      <th></th>\n",
       "      <th>exchange</th>\n",
       "      <th>symbol</th>\n",
       "      <th>timestamp</th>\n",
       "      <th>local_timestamp</th>\n",
       "      <th>is_snapshot</th>\n",
       "      <th>side</th>\n",
       "      <th>price</th>\n",
       "      <th>amount</th>\n",
       "    </tr>\n",
       "  </thead>\n",
       "  <tbody>\n",
       "    <tr>\n",
       "      <th>0</th>\n",
       "      <td>deribit</td>\n",
       "      <td>BTC-31DEC21-36000-P</td>\n",
       "      <td>1633046400043000</td>\n",
       "      <td>1633046400045532</td>\n",
       "      <td>False</td>\n",
       "      <td>ask</td>\n",
       "      <td>0.0860</td>\n",
       "      <td>35.8</td>\n",
       "    </tr>\n",
       "    <tr>\n",
       "      <th>1</th>\n",
       "      <td>deribit</td>\n",
       "      <td>BTC-31DEC21-36000-P</td>\n",
       "      <td>1633046400043000</td>\n",
       "      <td>1633046400045532</td>\n",
       "      <td>False</td>\n",
       "      <td>ask</td>\n",
       "      <td>0.0855</td>\n",
       "      <td>12.6</td>\n",
       "    </tr>\n",
       "    <tr>\n",
       "      <th>2</th>\n",
       "      <td>deribit</td>\n",
       "      <td>BTC-31DEC21-36000-P</td>\n",
       "      <td>1633046400047000</td>\n",
       "      <td>1633046400055104</td>\n",
       "      <td>False</td>\n",
       "      <td>ask</td>\n",
       "      <td>0.0860</td>\n",
       "      <td>26.8</td>\n",
       "    </tr>\n",
       "    <tr>\n",
       "      <th>3</th>\n",
       "      <td>deribit</td>\n",
       "      <td>BTC-31DEC21-36000-P</td>\n",
       "      <td>1633046400047000</td>\n",
       "      <td>1633046400055104</td>\n",
       "      <td>False</td>\n",
       "      <td>ask</td>\n",
       "      <td>0.0855</td>\n",
       "      <td>21.6</td>\n",
       "    </tr>\n",
       "    <tr>\n",
       "      <th>4</th>\n",
       "      <td>deribit</td>\n",
       "      <td>BTC-31DEC21-36000-P</td>\n",
       "      <td>1633046400048000</td>\n",
       "      <td>1633046400055148</td>\n",
       "      <td>False</td>\n",
       "      <td>ask</td>\n",
       "      <td>0.0860</td>\n",
       "      <td>24.7</td>\n",
       "    </tr>\n",
       "  </tbody>\n",
       "</table>\n",
       "</div>"
      ],
      "text/plain": [
       "  exchange               symbol         timestamp   local_timestamp  \\\n",
       "0  deribit  BTC-31DEC21-36000-P  1633046400043000  1633046400045532   \n",
       "1  deribit  BTC-31DEC21-36000-P  1633046400043000  1633046400045532   \n",
       "2  deribit  BTC-31DEC21-36000-P  1633046400047000  1633046400055104   \n",
       "3  deribit  BTC-31DEC21-36000-P  1633046400047000  1633046400055104   \n",
       "4  deribit  BTC-31DEC21-36000-P  1633046400048000  1633046400055148   \n",
       "\n",
       "   is_snapshot side   price  amount  \n",
       "0        False  ask  0.0860    35.8  \n",
       "1        False  ask  0.0855    12.6  \n",
       "2        False  ask  0.0860    26.8  \n",
       "3        False  ask  0.0855    21.6  \n",
       "4        False  ask  0.0860    24.7  "
      ]
     },
     "execution_count": 124,
     "metadata": {},
     "output_type": "execute_result"
    }
   ],
   "source": [
    "df.head()"
   ]
  },
  {
   "cell_type": "code",
   "execution_count": 126,
   "id": "170fba70-479f-4133-b4e5-4eeec9698cc6",
   "metadata": {},
   "outputs": [
    {
     "name": "stdout",
     "output_type": "stream",
     "text": [
      "'parse_symbol_col'  35.38 sec\n"
     ]
    }
   ],
   "source": [
    "df1 = datautils.DeribitUtils.parse_symbol_col(df)"
   ]
  },
  {
   "cell_type": "code",
   "execution_count": 127,
   "id": "96edde38-7d09-489f-bcec-de68881a1265",
   "metadata": {
    "scrolled": true,
    "tags": []
   },
   "outputs": [
    {
     "data": {
      "text/html": [
       "<div>\n",
       "<style scoped>\n",
       "    .dataframe tbody tr th:only-of-type {\n",
       "        vertical-align: middle;\n",
       "    }\n",
       "\n",
       "    .dataframe tbody tr th {\n",
       "        vertical-align: top;\n",
       "    }\n",
       "\n",
       "    .dataframe thead th {\n",
       "        text-align: right;\n",
       "    }\n",
       "</style>\n",
       "<table border=\"1\" class=\"dataframe\">\n",
       "  <thead>\n",
       "    <tr style=\"text-align: right;\">\n",
       "      <th></th>\n",
       "      <th>exchange</th>\n",
       "      <th>symbol</th>\n",
       "      <th>timestamp</th>\n",
       "      <th>local_timestamp</th>\n",
       "      <th>is_snapshot</th>\n",
       "      <th>side</th>\n",
       "      <th>price</th>\n",
       "      <th>amount</th>\n",
       "      <th>instrument</th>\n",
       "      <th>expire</th>\n",
       "      <th>strike</th>\n",
       "      <th>type</th>\n",
       "    </tr>\n",
       "  </thead>\n",
       "  <tbody>\n",
       "    <tr>\n",
       "      <th>0</th>\n",
       "      <td>deribit</td>\n",
       "      <td>BTC-31DEC21-36000-P</td>\n",
       "      <td>1633046400043000</td>\n",
       "      <td>1633046400045532</td>\n",
       "      <td>False</td>\n",
       "      <td>ask</td>\n",
       "      <td>0.0860</td>\n",
       "      <td>35.8</td>\n",
       "      <td>BTC</td>\n",
       "      <td>2021-12-31</td>\n",
       "      <td>36000.0</td>\n",
       "      <td>P</td>\n",
       "    </tr>\n",
       "    <tr>\n",
       "      <th>1</th>\n",
       "      <td>deribit</td>\n",
       "      <td>BTC-31DEC21-36000-P</td>\n",
       "      <td>1633046400043000</td>\n",
       "      <td>1633046400045532</td>\n",
       "      <td>False</td>\n",
       "      <td>ask</td>\n",
       "      <td>0.0855</td>\n",
       "      <td>12.6</td>\n",
       "      <td>BTC</td>\n",
       "      <td>2021-12-31</td>\n",
       "      <td>36000.0</td>\n",
       "      <td>P</td>\n",
       "    </tr>\n",
       "    <tr>\n",
       "      <th>2</th>\n",
       "      <td>deribit</td>\n",
       "      <td>BTC-31DEC21-36000-P</td>\n",
       "      <td>1633046400047000</td>\n",
       "      <td>1633046400055104</td>\n",
       "      <td>False</td>\n",
       "      <td>ask</td>\n",
       "      <td>0.0860</td>\n",
       "      <td>26.8</td>\n",
       "      <td>BTC</td>\n",
       "      <td>2021-12-31</td>\n",
       "      <td>36000.0</td>\n",
       "      <td>P</td>\n",
       "    </tr>\n",
       "    <tr>\n",
       "      <th>3</th>\n",
       "      <td>deribit</td>\n",
       "      <td>BTC-31DEC21-36000-P</td>\n",
       "      <td>1633046400047000</td>\n",
       "      <td>1633046400055104</td>\n",
       "      <td>False</td>\n",
       "      <td>ask</td>\n",
       "      <td>0.0855</td>\n",
       "      <td>21.6</td>\n",
       "      <td>BTC</td>\n",
       "      <td>2021-12-31</td>\n",
       "      <td>36000.0</td>\n",
       "      <td>P</td>\n",
       "    </tr>\n",
       "    <tr>\n",
       "      <th>4</th>\n",
       "      <td>deribit</td>\n",
       "      <td>BTC-31DEC21-36000-P</td>\n",
       "      <td>1633046400048000</td>\n",
       "      <td>1633046400055148</td>\n",
       "      <td>False</td>\n",
       "      <td>ask</td>\n",
       "      <td>0.0860</td>\n",
       "      <td>24.7</td>\n",
       "      <td>BTC</td>\n",
       "      <td>2021-12-31</td>\n",
       "      <td>36000.0</td>\n",
       "      <td>P</td>\n",
       "    </tr>\n",
       "  </tbody>\n",
       "</table>\n",
       "</div>"
      ],
      "text/plain": [
       "  exchange               symbol         timestamp   local_timestamp  \\\n",
       "0  deribit  BTC-31DEC21-36000-P  1633046400043000  1633046400045532   \n",
       "1  deribit  BTC-31DEC21-36000-P  1633046400043000  1633046400045532   \n",
       "2  deribit  BTC-31DEC21-36000-P  1633046400047000  1633046400055104   \n",
       "3  deribit  BTC-31DEC21-36000-P  1633046400047000  1633046400055104   \n",
       "4  deribit  BTC-31DEC21-36000-P  1633046400048000  1633046400055148   \n",
       "\n",
       "   is_snapshot side   price  amount instrument     expire   strike type  \n",
       "0        False  ask  0.0860    35.8        BTC 2021-12-31  36000.0    P  \n",
       "1        False  ask  0.0855    12.6        BTC 2021-12-31  36000.0    P  \n",
       "2        False  ask  0.0860    26.8        BTC 2021-12-31  36000.0    P  \n",
       "3        False  ask  0.0855    21.6        BTC 2021-12-31  36000.0    P  \n",
       "4        False  ask  0.0860    24.7        BTC 2021-12-31  36000.0    P  "
      ]
     },
     "execution_count": 127,
     "metadata": {},
     "output_type": "execute_result"
    }
   ],
   "source": [
    "df1.head()"
   ]
  },
  {
   "cell_type": "code",
   "execution_count": 128,
   "id": "e1e4111a-2be9-4b0b-975a-8b0363c8c3ec",
   "metadata": {},
   "outputs": [],
   "source": [
    "df1['timestamp_dt'] = pd.to_datetime(df1['timestamp'], unit='us')"
   ]
  },
  {
   "cell_type": "code",
   "execution_count": 129,
   "id": "5e17fc52-1afc-4ffc-a537-9bff3a507597",
   "metadata": {},
   "outputs": [],
   "source": [
    "df1['local_dt'] = pd.to_datetime(df1['local_timestamp'], unit='us')"
   ]
  },
  {
   "cell_type": "code",
   "execution_count": 130,
   "id": "fa293110-0636-40b6-b960-967509368f68",
   "metadata": {},
   "outputs": [
    {
     "data": {
      "text/html": [
       "<div>\n",
       "<style scoped>\n",
       "    .dataframe tbody tr th:only-of-type {\n",
       "        vertical-align: middle;\n",
       "    }\n",
       "\n",
       "    .dataframe tbody tr th {\n",
       "        vertical-align: top;\n",
       "    }\n",
       "\n",
       "    .dataframe thead th {\n",
       "        text-align: right;\n",
       "    }\n",
       "</style>\n",
       "<table border=\"1\" class=\"dataframe\">\n",
       "  <thead>\n",
       "    <tr style=\"text-align: right;\">\n",
       "      <th></th>\n",
       "      <th>exchange</th>\n",
       "      <th>symbol</th>\n",
       "      <th>timestamp</th>\n",
       "      <th>local_timestamp</th>\n",
       "      <th>is_snapshot</th>\n",
       "      <th>side</th>\n",
       "      <th>price</th>\n",
       "      <th>amount</th>\n",
       "      <th>instrument</th>\n",
       "      <th>expire</th>\n",
       "      <th>strike</th>\n",
       "      <th>type</th>\n",
       "      <th>timestamp_dt</th>\n",
       "      <th>local_dt</th>\n",
       "    </tr>\n",
       "  </thead>\n",
       "  <tbody>\n",
       "    <tr>\n",
       "      <th>0</th>\n",
       "      <td>deribit</td>\n",
       "      <td>BTC-31DEC21-36000-P</td>\n",
       "      <td>1633046400043000</td>\n",
       "      <td>1633046400045532</td>\n",
       "      <td>False</td>\n",
       "      <td>ask</td>\n",
       "      <td>0.0860</td>\n",
       "      <td>35.8</td>\n",
       "      <td>BTC</td>\n",
       "      <td>2021-12-31</td>\n",
       "      <td>36000.0</td>\n",
       "      <td>P</td>\n",
       "      <td>2021-10-01 00:00:00.043</td>\n",
       "      <td>2021-10-01 00:00:00.045532</td>\n",
       "    </tr>\n",
       "    <tr>\n",
       "      <th>1</th>\n",
       "      <td>deribit</td>\n",
       "      <td>BTC-31DEC21-36000-P</td>\n",
       "      <td>1633046400043000</td>\n",
       "      <td>1633046400045532</td>\n",
       "      <td>False</td>\n",
       "      <td>ask</td>\n",
       "      <td>0.0855</td>\n",
       "      <td>12.6</td>\n",
       "      <td>BTC</td>\n",
       "      <td>2021-12-31</td>\n",
       "      <td>36000.0</td>\n",
       "      <td>P</td>\n",
       "      <td>2021-10-01 00:00:00.043</td>\n",
       "      <td>2021-10-01 00:00:00.045532</td>\n",
       "    </tr>\n",
       "    <tr>\n",
       "      <th>2</th>\n",
       "      <td>deribit</td>\n",
       "      <td>BTC-31DEC21-36000-P</td>\n",
       "      <td>1633046400047000</td>\n",
       "      <td>1633046400055104</td>\n",
       "      <td>False</td>\n",
       "      <td>ask</td>\n",
       "      <td>0.0860</td>\n",
       "      <td>26.8</td>\n",
       "      <td>BTC</td>\n",
       "      <td>2021-12-31</td>\n",
       "      <td>36000.0</td>\n",
       "      <td>P</td>\n",
       "      <td>2021-10-01 00:00:00.047</td>\n",
       "      <td>2021-10-01 00:00:00.055104</td>\n",
       "    </tr>\n",
       "    <tr>\n",
       "      <th>3</th>\n",
       "      <td>deribit</td>\n",
       "      <td>BTC-31DEC21-36000-P</td>\n",
       "      <td>1633046400047000</td>\n",
       "      <td>1633046400055104</td>\n",
       "      <td>False</td>\n",
       "      <td>ask</td>\n",
       "      <td>0.0855</td>\n",
       "      <td>21.6</td>\n",
       "      <td>BTC</td>\n",
       "      <td>2021-12-31</td>\n",
       "      <td>36000.0</td>\n",
       "      <td>P</td>\n",
       "      <td>2021-10-01 00:00:00.047</td>\n",
       "      <td>2021-10-01 00:00:00.055104</td>\n",
       "    </tr>\n",
       "    <tr>\n",
       "      <th>4</th>\n",
       "      <td>deribit</td>\n",
       "      <td>BTC-31DEC21-36000-P</td>\n",
       "      <td>1633046400048000</td>\n",
       "      <td>1633046400055148</td>\n",
       "      <td>False</td>\n",
       "      <td>ask</td>\n",
       "      <td>0.0860</td>\n",
       "      <td>24.7</td>\n",
       "      <td>BTC</td>\n",
       "      <td>2021-12-31</td>\n",
       "      <td>36000.0</td>\n",
       "      <td>P</td>\n",
       "      <td>2021-10-01 00:00:00.048</td>\n",
       "      <td>2021-10-01 00:00:00.055148</td>\n",
       "    </tr>\n",
       "    <tr>\n",
       "      <th>...</th>\n",
       "      <td>...</td>\n",
       "      <td>...</td>\n",
       "      <td>...</td>\n",
       "      <td>...</td>\n",
       "      <td>...</td>\n",
       "      <td>...</td>\n",
       "      <td>...</td>\n",
       "      <td>...</td>\n",
       "      <td>...</td>\n",
       "      <td>...</td>\n",
       "      <td>...</td>\n",
       "      <td>...</td>\n",
       "      <td>...</td>\n",
       "      <td>...</td>\n",
       "    </tr>\n",
       "    <tr>\n",
       "      <th>24796596</th>\n",
       "      <td>deribit</td>\n",
       "      <td>ETH-26NOV21-4200-C</td>\n",
       "      <td>1633132799687000</td>\n",
       "      <td>1633132799694005</td>\n",
       "      <td>False</td>\n",
       "      <td>bid</td>\n",
       "      <td>0.0440</td>\n",
       "      <td>8.0</td>\n",
       "      <td>ETH</td>\n",
       "      <td>2021-11-26</td>\n",
       "      <td>4200.0</td>\n",
       "      <td>C</td>\n",
       "      <td>2021-10-01 23:59:59.687</td>\n",
       "      <td>2021-10-01 23:59:59.694005</td>\n",
       "    </tr>\n",
       "    <tr>\n",
       "      <th>24796597</th>\n",
       "      <td>deribit</td>\n",
       "      <td>ETH-26NOV21-4200-C</td>\n",
       "      <td>1633132799687000</td>\n",
       "      <td>1633132799694005</td>\n",
       "      <td>False</td>\n",
       "      <td>bid</td>\n",
       "      <td>0.0445</td>\n",
       "      <td>0.0</td>\n",
       "      <td>ETH</td>\n",
       "      <td>2021-11-26</td>\n",
       "      <td>4200.0</td>\n",
       "      <td>C</td>\n",
       "      <td>2021-10-01 23:59:59.687</td>\n",
       "      <td>2021-10-01 23:59:59.694005</td>\n",
       "    </tr>\n",
       "    <tr>\n",
       "      <th>24796598</th>\n",
       "      <td>deribit</td>\n",
       "      <td>ETH-26NOV21-2200-P</td>\n",
       "      <td>1633132799686000</td>\n",
       "      <td>1633132799695460</td>\n",
       "      <td>False</td>\n",
       "      <td>ask</td>\n",
       "      <td>0.0270</td>\n",
       "      <td>4.0</td>\n",
       "      <td>ETH</td>\n",
       "      <td>2021-11-26</td>\n",
       "      <td>2200.0</td>\n",
       "      <td>P</td>\n",
       "      <td>2021-10-01 23:59:59.686</td>\n",
       "      <td>2021-10-01 23:59:59.695460</td>\n",
       "    </tr>\n",
       "    <tr>\n",
       "      <th>24796599</th>\n",
       "      <td>deribit</td>\n",
       "      <td>ETH-26NOV21-2200-P</td>\n",
       "      <td>1633132799686000</td>\n",
       "      <td>1633132799695460</td>\n",
       "      <td>False</td>\n",
       "      <td>ask</td>\n",
       "      <td>0.0265</td>\n",
       "      <td>5.0</td>\n",
       "      <td>ETH</td>\n",
       "      <td>2021-11-26</td>\n",
       "      <td>2200.0</td>\n",
       "      <td>P</td>\n",
       "      <td>2021-10-01 23:59:59.686</td>\n",
       "      <td>2021-10-01 23:59:59.695460</td>\n",
       "    </tr>\n",
       "    <tr>\n",
       "      <th>24796600</th>\n",
       "      <td>deribit</td>\n",
       "      <td>BTC-8OCT21-47000-P</td>\n",
       "      <td>1633132799870000</td>\n",
       "      <td>1633132799878545</td>\n",
       "      <td>False</td>\n",
       "      <td>ask</td>\n",
       "      <td>0.0275</td>\n",
       "      <td>43.2</td>\n",
       "      <td>BTC</td>\n",
       "      <td>2021-10-08</td>\n",
       "      <td>47000.0</td>\n",
       "      <td>P</td>\n",
       "      <td>2021-10-01 23:59:59.870</td>\n",
       "      <td>2021-10-01 23:59:59.878545</td>\n",
       "    </tr>\n",
       "  </tbody>\n",
       "</table>\n",
       "<p>24796601 rows × 14 columns</p>\n",
       "</div>"
      ],
      "text/plain": [
       "         exchange               symbol         timestamp   local_timestamp  \\\n",
       "0         deribit  BTC-31DEC21-36000-P  1633046400043000  1633046400045532   \n",
       "1         deribit  BTC-31DEC21-36000-P  1633046400043000  1633046400045532   \n",
       "2         deribit  BTC-31DEC21-36000-P  1633046400047000  1633046400055104   \n",
       "3         deribit  BTC-31DEC21-36000-P  1633046400047000  1633046400055104   \n",
       "4         deribit  BTC-31DEC21-36000-P  1633046400048000  1633046400055148   \n",
       "...           ...                  ...               ...               ...   \n",
       "24796596  deribit   ETH-26NOV21-4200-C  1633132799687000  1633132799694005   \n",
       "24796597  deribit   ETH-26NOV21-4200-C  1633132799687000  1633132799694005   \n",
       "24796598  deribit   ETH-26NOV21-2200-P  1633132799686000  1633132799695460   \n",
       "24796599  deribit   ETH-26NOV21-2200-P  1633132799686000  1633132799695460   \n",
       "24796600  deribit   BTC-8OCT21-47000-P  1633132799870000  1633132799878545   \n",
       "\n",
       "          is_snapshot side   price  amount instrument     expire   strike  \\\n",
       "0               False  ask  0.0860    35.8        BTC 2021-12-31  36000.0   \n",
       "1               False  ask  0.0855    12.6        BTC 2021-12-31  36000.0   \n",
       "2               False  ask  0.0860    26.8        BTC 2021-12-31  36000.0   \n",
       "3               False  ask  0.0855    21.6        BTC 2021-12-31  36000.0   \n",
       "4               False  ask  0.0860    24.7        BTC 2021-12-31  36000.0   \n",
       "...               ...  ...     ...     ...        ...        ...      ...   \n",
       "24796596        False  bid  0.0440     8.0        ETH 2021-11-26   4200.0   \n",
       "24796597        False  bid  0.0445     0.0        ETH 2021-11-26   4200.0   \n",
       "24796598        False  ask  0.0270     4.0        ETH 2021-11-26   2200.0   \n",
       "24796599        False  ask  0.0265     5.0        ETH 2021-11-26   2200.0   \n",
       "24796600        False  ask  0.0275    43.2        BTC 2021-10-08  47000.0   \n",
       "\n",
       "         type            timestamp_dt                   local_dt  \n",
       "0           P 2021-10-01 00:00:00.043 2021-10-01 00:00:00.045532  \n",
       "1           P 2021-10-01 00:00:00.043 2021-10-01 00:00:00.045532  \n",
       "2           P 2021-10-01 00:00:00.047 2021-10-01 00:00:00.055104  \n",
       "3           P 2021-10-01 00:00:00.047 2021-10-01 00:00:00.055104  \n",
       "4           P 2021-10-01 00:00:00.048 2021-10-01 00:00:00.055148  \n",
       "...       ...                     ...                        ...  \n",
       "24796596    C 2021-10-01 23:59:59.687 2021-10-01 23:59:59.694005  \n",
       "24796597    C 2021-10-01 23:59:59.687 2021-10-01 23:59:59.694005  \n",
       "24796598    P 2021-10-01 23:59:59.686 2021-10-01 23:59:59.695460  \n",
       "24796599    P 2021-10-01 23:59:59.686 2021-10-01 23:59:59.695460  \n",
       "24796600    P 2021-10-01 23:59:59.870 2021-10-01 23:59:59.878545  \n",
       "\n",
       "[24796601 rows x 14 columns]"
      ]
     },
     "execution_count": 130,
     "metadata": {},
     "output_type": "execute_result"
    }
   ],
   "source": [
    "df1"
   ]
  },
  {
   "cell_type": "code",
   "execution_count": 135,
   "id": "5a5e80c5-8eb6-4ec7-b8f4-cc7aa88d1a56",
   "metadata": {},
   "outputs": [
    {
     "data": {
      "text/plain": [
       "[numpy.datetime64('2021-10-01T00:00:00.000000000'),\n",
       " numpy.datetime64('2021-10-02T00:00:00.000000000'),\n",
       " numpy.datetime64('2021-10-03T00:00:00.000000000'),\n",
       " numpy.datetime64('2021-10-08T00:00:00.000000000'),\n",
       " numpy.datetime64('2021-10-15T00:00:00.000000000'),\n",
       " numpy.datetime64('2021-10-22T00:00:00.000000000'),\n",
       " numpy.datetime64('2021-10-29T00:00:00.000000000'),\n",
       " numpy.datetime64('2021-11-26T00:00:00.000000000'),\n",
       " numpy.datetime64('2021-12-31T00:00:00.000000000'),\n",
       " numpy.datetime64('2022-03-25T00:00:00.000000000'),\n",
       " numpy.datetime64('2022-06-24T00:00:00.000000000'),\n",
       " numpy.datetime64('2022-09-30T00:00:00.000000000')]"
      ]
     },
     "execution_count": 135,
     "metadata": {},
     "output_type": "execute_result"
    }
   ],
   "source": [
    "all_expire_dates = sorted(list(df1['expire'].unique()))\n",
    "all_expire_dates"
   ]
  },
  {
   "cell_type": "code",
   "execution_count": 147,
   "id": "08f2abc4-2006-4ce7-85a9-c6e6e28cf6ed",
   "metadata": {},
   "outputs": [],
   "source": [
    "df1a = df1[df1['expire']==all_expire_dates[0]].query('instrument==\"BTC\"').query('type==\"C\"').query('strike==44000')"
   ]
  },
  {
   "cell_type": "code",
   "execution_count": 149,
   "id": "ffb527f1-229f-44ab-9077-eec70fa6ecfb",
   "metadata": {},
   "outputs": [
    {
     "data": {
      "text/plain": [
       "False    17448\n",
       "True        18\n",
       "Name: is_snapshot, dtype: int64"
      ]
     },
     "execution_count": 149,
     "metadata": {},
     "output_type": "execute_result"
    }
   ],
   "source": [
    "df1a['is_snapshot'].value_counts()"
   ]
  },
  {
   "cell_type": "markdown",
   "id": "7f4391b8-afc4-4ae8-b48e-e2699c001904",
   "metadata": {},
   "source": [
    "### Load and process futures data"
   ]
  },
  {
   "cell_type": "code",
   "execution_count": 151,
   "id": "19353255-df68-4c04-ad15-a5bd7d96615b",
   "metadata": {},
   "outputs": [
    {
     "data": {
      "text/plain": [
       "10848"
      ]
     },
     "execution_count": 151,
     "metadata": {},
     "output_type": "execute_result"
    }
   ],
   "source": [
    "df1a['timestamp_dt'].nunique()"
   ]
  },
  {
   "cell_type": "code",
   "execution_count": 156,
   "id": "9f6f3106-62c1-443b-b079-cd3caad6ddd8",
   "metadata": {},
   "outputs": [
    {
     "data": {
      "text/plain": [
       "(17466, 14)"
      ]
     },
     "execution_count": 156,
     "metadata": {},
     "output_type": "execute_result"
    }
   ],
   "source": [
    "df1a.shape"
   ]
  },
  {
   "cell_type": "code",
   "execution_count": null,
   "id": "91106ad7-231e-48b1-a3f2-fb90bfaeadce",
   "metadata": {},
   "outputs": [],
   "source": [
    "df1a.query('is_snapshot==True').sort_values('price', ascending=False)"
   ]
  },
  {
   "cell_type": "code",
   "execution_count": 162,
   "id": "ecc9c2db-76df-47e6-9d08-51cc9f168c08",
   "metadata": {},
   "outputs": [
    {
     "data": {
      "text/plain": [
       "10847"
      ]
     },
     "execution_count": 162,
     "metadata": {},
     "output_type": "execute_result"
    }
   ],
   "source": [
    "df1a.query('is_snapshot==False')['timestamp_dt'].nunique()"
   ]
  },
  {
   "cell_type": "code",
   "execution_count": 163,
   "id": "f76e0dda-d2d3-4b3c-b46f-1a48fd2cfaa0",
   "metadata": {},
   "outputs": [
    {
     "data": {
      "text/html": [
       "<div>\n",
       "<style scoped>\n",
       "    .dataframe tbody tr th:only-of-type {\n",
       "        vertical-align: middle;\n",
       "    }\n",
       "\n",
       "    .dataframe tbody tr th {\n",
       "        vertical-align: top;\n",
       "    }\n",
       "\n",
       "    .dataframe thead th {\n",
       "        text-align: right;\n",
       "    }\n",
       "</style>\n",
       "<table border=\"1\" class=\"dataframe\">\n",
       "  <thead>\n",
       "    <tr style=\"text-align: right;\">\n",
       "      <th></th>\n",
       "      <th>exchange</th>\n",
       "      <th>symbol</th>\n",
       "      <th>timestamp</th>\n",
       "      <th>local_timestamp</th>\n",
       "      <th>is_snapshot</th>\n",
       "      <th>side</th>\n",
       "      <th>price</th>\n",
       "      <th>amount</th>\n",
       "      <th>instrument</th>\n",
       "      <th>expire</th>\n",
       "      <th>strike</th>\n",
       "      <th>type</th>\n",
       "      <th>timestamp_dt</th>\n",
       "      <th>local_dt</th>\n",
       "    </tr>\n",
       "  </thead>\n",
       "  <tbody>\n",
       "    <tr>\n",
       "      <th>5361365</th>\n",
       "      <td>deribit</td>\n",
       "      <td>BTC-1OCT21-44000-C</td>\n",
       "      <td>1633075200022000</td>\n",
       "      <td>1633075208152224</td>\n",
       "      <td>False</td>\n",
       "      <td>ask</td>\n",
       "      <td>0.0195</td>\n",
       "      <td>0.0</td>\n",
       "      <td>BTC</td>\n",
       "      <td>2021-10-01</td>\n",
       "      <td>44000.0</td>\n",
       "      <td>C</td>\n",
       "      <td>2021-10-01 08:00:00.022</td>\n",
       "      <td>2021-10-01 08:00:08.152224</td>\n",
       "    </tr>\n",
       "    <tr>\n",
       "      <th>5361366</th>\n",
       "      <td>deribit</td>\n",
       "      <td>BTC-1OCT21-44000-C</td>\n",
       "      <td>1633075200022000</td>\n",
       "      <td>1633075208152224</td>\n",
       "      <td>False</td>\n",
       "      <td>bid</td>\n",
       "      <td>0.0005</td>\n",
       "      <td>0.0</td>\n",
       "      <td>BTC</td>\n",
       "      <td>2021-10-01</td>\n",
       "      <td>44000.0</td>\n",
       "      <td>C</td>\n",
       "      <td>2021-10-01 08:00:00.022</td>\n",
       "      <td>2021-10-01 08:00:08.152224</td>\n",
       "    </tr>\n",
       "    <tr>\n",
       "      <th>5361367</th>\n",
       "      <td>deribit</td>\n",
       "      <td>BTC-1OCT21-44000-C</td>\n",
       "      <td>1633075200022000</td>\n",
       "      <td>1633075208152224</td>\n",
       "      <td>False</td>\n",
       "      <td>bid</td>\n",
       "      <td>0.0010</td>\n",
       "      <td>0.0</td>\n",
       "      <td>BTC</td>\n",
       "      <td>2021-10-01</td>\n",
       "      <td>44000.0</td>\n",
       "      <td>C</td>\n",
       "      <td>2021-10-01 08:00:00.022</td>\n",
       "      <td>2021-10-01 08:00:08.152224</td>\n",
       "    </tr>\n",
       "    <tr>\n",
       "      <th>5361368</th>\n",
       "      <td>deribit</td>\n",
       "      <td>BTC-1OCT21-44000-C</td>\n",
       "      <td>1633075200022000</td>\n",
       "      <td>1633075208152224</td>\n",
       "      <td>False</td>\n",
       "      <td>bid</td>\n",
       "      <td>0.0040</td>\n",
       "      <td>0.0</td>\n",
       "      <td>BTC</td>\n",
       "      <td>2021-10-01</td>\n",
       "      <td>44000.0</td>\n",
       "      <td>C</td>\n",
       "      <td>2021-10-01 08:00:00.022</td>\n",
       "      <td>2021-10-01 08:00:08.152224</td>\n",
       "    </tr>\n",
       "    <tr>\n",
       "      <th>5361369</th>\n",
       "      <td>deribit</td>\n",
       "      <td>BTC-1OCT21-44000-C</td>\n",
       "      <td>1633075200022000</td>\n",
       "      <td>1633075208152224</td>\n",
       "      <td>False</td>\n",
       "      <td>bid</td>\n",
       "      <td>0.0150</td>\n",
       "      <td>0.0</td>\n",
       "      <td>BTC</td>\n",
       "      <td>2021-10-01</td>\n",
       "      <td>44000.0</td>\n",
       "      <td>C</td>\n",
       "      <td>2021-10-01 08:00:00.022</td>\n",
       "      <td>2021-10-01 08:00:08.152224</td>\n",
       "    </tr>\n",
       "  </tbody>\n",
       "</table>\n",
       "</div>"
      ],
      "text/plain": [
       "        exchange              symbol         timestamp   local_timestamp  \\\n",
       "5361365  deribit  BTC-1OCT21-44000-C  1633075200022000  1633075208152224   \n",
       "5361366  deribit  BTC-1OCT21-44000-C  1633075200022000  1633075208152224   \n",
       "5361367  deribit  BTC-1OCT21-44000-C  1633075200022000  1633075208152224   \n",
       "5361368  deribit  BTC-1OCT21-44000-C  1633075200022000  1633075208152224   \n",
       "5361369  deribit  BTC-1OCT21-44000-C  1633075200022000  1633075208152224   \n",
       "\n",
       "         is_snapshot side   price  amount instrument     expire   strike type  \\\n",
       "5361365        False  ask  0.0195     0.0        BTC 2021-10-01  44000.0    C   \n",
       "5361366        False  bid  0.0005     0.0        BTC 2021-10-01  44000.0    C   \n",
       "5361367        False  bid  0.0010     0.0        BTC 2021-10-01  44000.0    C   \n",
       "5361368        False  bid  0.0040     0.0        BTC 2021-10-01  44000.0    C   \n",
       "5361369        False  bid  0.0150     0.0        BTC 2021-10-01  44000.0    C   \n",
       "\n",
       "                   timestamp_dt                   local_dt  \n",
       "5361365 2021-10-01 08:00:00.022 2021-10-01 08:00:08.152224  \n",
       "5361366 2021-10-01 08:00:00.022 2021-10-01 08:00:08.152224  \n",
       "5361367 2021-10-01 08:00:00.022 2021-10-01 08:00:08.152224  \n",
       "5361368 2021-10-01 08:00:00.022 2021-10-01 08:00:08.152224  \n",
       "5361369 2021-10-01 08:00:00.022 2021-10-01 08:00:08.152224  "
      ]
     },
     "execution_count": 163,
     "metadata": {},
     "output_type": "execute_result"
    }
   ],
   "source": [
    "df1a.tail()"
   ]
  },
  {
   "cell_type": "code",
   "execution_count": 178,
   "id": "2d2b4c07-9288-49c6-969d-7e512c681b89",
   "metadata": {},
   "outputs": [
    {
     "data": {
      "text/plain": [
       "6984      2021-10-01 00:00:00\n",
       "6985      2021-10-01 00:00:00\n",
       "6986      2021-10-01 00:00:00\n",
       "6987      2021-10-01 00:00:00\n",
       "6988      2021-10-01 00:00:00\n",
       "                  ...        \n",
       "5361365   2021-10-01 08:00:00\n",
       "5361366   2021-10-01 08:00:00\n",
       "5361367   2021-10-01 08:00:00\n",
       "5361368   2021-10-01 08:00:00\n",
       "5361369   2021-10-01 08:00:00\n",
       "Name: timestamp_dt, Length: 17466, dtype: datetime64[ns]"
      ]
     },
     "execution_count": 178,
     "metadata": {},
     "output_type": "execute_result"
    }
   ],
   "source": [
    "df1a['timestamp_dt'].dt.round('T')"
   ]
  },
  {
   "cell_type": "code",
   "execution_count": 181,
   "id": "3adb387b-f183-49f7-8ab8-2f41e1c42d1f",
   "metadata": {},
   "outputs": [],
   "source": [
    "df1b = df1a.query('is_snapshot==False')"
   ]
  },
  {
   "cell_type": "code",
   "execution_count": 194,
   "id": "7d72c331-9560-4d95-be4c-81c2c72d5b53",
   "metadata": {},
   "outputs": [],
   "source": [
    "df1b['expire'] = df1b['expire'] + timedelta(hours=8)"
   ]
  },
  {
   "cell_type": "code",
   "execution_count": 203,
   "id": "34e24599-58c4-4510-8889-36b92ef46bfe",
   "metadata": {},
   "outputs": [],
   "source": [
    "df1b['t2m'] = (df1b['expire'] - df1b['timestamp_dt'].dt.floor('H')).dt.total_seconds()/3600"
   ]
  },
  {
   "cell_type": "code",
   "execution_count": 208,
   "id": "9ccdba8d-3264-47be-bc7c-bdb8af20b605",
   "metadata": {},
   "outputs": [
    {
     "data": {
      "text/plain": [
       "<AxesSubplot:xlabel='t2m'>"
      ]
     },
     "execution_count": 208,
     "metadata": {},
     "output_type": "execute_result"
    },
    {
     "data": {
      "image/png": "[encoded data removed]",
      "text/plain": [
       "<Figure size 432x288 with 1 Axes>"
      ]
     },
     "metadata": {
      "needs_background": "light"
     },
     "output_type": "display_data"
    }
   ],
   "source": [
    "(df1b.groupby('t2m')['timestamp_dt'].nunique()/60).plot()"
   ]
  },
  {
   "cell_type": "code",
   "execution_count": 190,
   "id": "5921211b-48b1-4833-be8b-041475e0f716",
   "metadata": {},
   "outputs": [],
   "source": [
    "df1b['dt_1m'] = df1b['timestamp_dt'].dt.ceil('T')"
   ]
  },
  {
   "cell_type": "code",
   "execution_count": 188,
   "id": "4857dd4d-5b3c-494b-994c-4488ce459a6b",
   "metadata": {},
   "outputs": [
    {
     "data": {
      "text/plain": [
       "<AxesSubplot:xlabel='dt_1m'>"
      ]
     },
     "execution_count": 188,
     "metadata": {},
     "output_type": "execute_result"
    },
    {
     "data": {
      "image/png": "[encoded data removed]",
      "text/plain": [
       "<Figure size 432x288 with 1 Axes>"
      ]
     },
     "metadata": {
      "needs_background": "light"
     },
     "output_type": "display_data"
    }
   ],
   "source": [
    "df1b.groupby('dt_1m')['timestamp_dt'].nunique().plot()"
   ]
  },
  {
   "cell_type": "markdown",
   "id": "33370e84-9005-4658-b528-b91941ed48bd",
   "metadata": {},
   "source": [
    "#### full order book update can be too noisy, check quote data"
   ]
  },
  {
   "cell_type": "code",
   "execution_count": 209,
   "id": "e5c993bc-6ef3-42fe-8c5e-a4721ca2e881",
   "metadata": {},
   "outputs": [],
   "source": [
    "symbol = 'OPTIONS'\n",
    "date = \"2021-10-01\"\n",
    "data_type = \"quotes\" #\"quotes\""
   ]
  },
  {
   "cell_type": "code",
   "execution_count": 210,
   "id": "1c9ae348-6e7a-4992-8cf2-02c8d2735fca",
   "metadata": {},
   "outputs": [
    {
     "name": "stdout",
     "output_type": "stream",
     "text": [
      "5.75 sec\n"
     ]
    }
   ],
   "source": [
    "t0 = time.time()\n",
    "fname = 'deribit_{}_{}_{}.csv.gz'.format(data_type, date, symbol)\n",
    "df = pd.read_csv(os.path.join(TARDIS_DATA_PATH, fname))\n",
    "print_time_from_t0(t0)"
   ]
  },
  {
   "cell_type": "code",
   "execution_count": 219,
   "id": "fe8d17ed-a28c-4958-a1f6-7cce9d44c54b",
   "metadata": {},
   "outputs": [
    {
     "name": "stdout",
     "output_type": "stream",
     "text": [
      "'parse_symbol_col'  8.31 sec\n"
     ]
    }
   ],
   "source": [
    "df1 = df.pipe(datautils.DeribitUtils.parse_symbol_col).pipe(datautils.DeribitUtils.parse_time_col).query('t2m<=168 and t2m>0')"
   ]
  },
  {
   "cell_type": "code",
   "execution_count": 223,
   "id": "9b614a03-1900-4140-ba91-76e47418d61d",
   "metadata": {},
   "outputs": [
    {
     "data": {
      "text/html": [
       "<div>\n",
       "<style scoped>\n",
       "    .dataframe tbody tr th:only-of-type {\n",
       "        vertical-align: middle;\n",
       "    }\n",
       "\n",
       "    .dataframe tbody tr th {\n",
       "        vertical-align: top;\n",
       "    }\n",
       "\n",
       "    .dataframe thead th {\n",
       "        text-align: right;\n",
       "    }\n",
       "</style>\n",
       "<table border=\"1\" class=\"dataframe\">\n",
       "  <thead>\n",
       "    <tr style=\"text-align: right;\">\n",
       "      <th></th>\n",
       "      <th>exchange</th>\n",
       "      <th>symbol</th>\n",
       "      <th>timestamp</th>\n",
       "      <th>local_timestamp</th>\n",
       "      <th>ask_amount</th>\n",
       "      <th>ask_price</th>\n",
       "      <th>bid_price</th>\n",
       "      <th>bid_amount</th>\n",
       "      <th>instrument</th>\n",
       "      <th>expire</th>\n",
       "      <th>strike</th>\n",
       "      <th>type</th>\n",
       "      <th>timestamp_dt</th>\n",
       "      <th>t2m</th>\n",
       "    </tr>\n",
       "  </thead>\n",
       "  <tbody>\n",
       "    <tr>\n",
       "      <th>68</th>\n",
       "      <td>deribit</td>\n",
       "      <td>ETH-2OCT21-3600-C</td>\n",
       "      <td>1633046396120000</td>\n",
       "      <td>1633046400296144</td>\n",
       "      <td>12.0</td>\n",
       "      <td>0.0005</td>\n",
       "      <td>NaN</td>\n",
       "      <td>NaN</td>\n",
       "      <td>ETH</td>\n",
       "      <td>2021-10-02 08:00:00</td>\n",
       "      <td>3600.0</td>\n",
       "      <td>C</td>\n",
       "      <td>2021-09-30 23:59:56.120</td>\n",
       "      <td>33.0</td>\n",
       "    </tr>\n",
       "    <tr>\n",
       "      <th>72</th>\n",
       "      <td>deribit</td>\n",
       "      <td>ETH-2OCT21-3500-C</td>\n",
       "      <td>1633046396120000</td>\n",
       "      <td>1633046400297459</td>\n",
       "      <td>450.0</td>\n",
       "      <td>0.0005</td>\n",
       "      <td>NaN</td>\n",
       "      <td>NaN</td>\n",
       "      <td>ETH</td>\n",
       "      <td>2021-10-02 08:00:00</td>\n",
       "      <td>3500.0</td>\n",
       "      <td>C</td>\n",
       "      <td>2021-09-30 23:59:56.120</td>\n",
       "      <td>33.0</td>\n",
       "    </tr>\n",
       "  </tbody>\n",
       "</table>\n",
       "</div>"
      ],
      "text/plain": [
       "   exchange             symbol         timestamp   local_timestamp  \\\n",
       "68  deribit  ETH-2OCT21-3600-C  1633046396120000  1633046400296144   \n",
       "72  deribit  ETH-2OCT21-3500-C  1633046396120000  1633046400297459   \n",
       "\n",
       "    ask_amount  ask_price  bid_price  bid_amount instrument  \\\n",
       "68        12.0     0.0005        NaN         NaN        ETH   \n",
       "72       450.0     0.0005        NaN         NaN        ETH   \n",
       "\n",
       "                expire  strike type            timestamp_dt   t2m  \n",
       "68 2021-10-02 08:00:00  3600.0    C 2021-09-30 23:59:56.120  33.0  \n",
       "72 2021-10-02 08:00:00  3500.0    C 2021-09-30 23:59:56.120  33.0  "
      ]
     },
     "execution_count": 223,
     "metadata": {},
     "output_type": "execute_result"
    }
   ],
   "source": [
    "df1.head(2)"
   ]
  },
  {
   "cell_type": "code",
   "execution_count": 224,
   "id": "3a9eb69e-63b7-434c-8069-6e91e09b42f9",
   "metadata": {},
   "outputs": [],
   "source": [
    "df2_btc_c = df1.query('instrument==\"BTC\" and type==\"C\"')"
   ]
  },
  {
   "cell_type": "code",
   "execution_count": null,
   "id": "f01bb2f3-3dea-4665-abd6-12ddd7bcaab0",
   "metadata": {},
   "outputs": [],
   "source": [
    "for strike in sorted(list(df2_btc_c['strike'].unique())):\n",
    "    #strike=44000\n",
    "    print('strike=', strike)\n",
    "    df2plot = df2_btc_c.query('strike==@strike').query('t2m<8')\n",
    "    prices = sorted(list(df2plot['ask_price'].unique()))\n",
    "    print('ask prices', prices)\n",
    "    for price in prices:\n",
    "        df2plot.query('ask_price==@price').groupby('timestamp_dt')['ask_amount'].max().plot()\n",
    "    if len(prices)<13:\n",
    "        plt.legend(prices)\n",
    "    plt.show()"
   ]
  },
  {
   "cell_type": "markdown",
   "id": "92a3921e-3cd2-40fe-b283-4425669a3078",
   "metadata": {},
   "source": [
    "#### check quote data for futures"
   ]
  },
  {
   "cell_type": "code",
   "execution_count": 232,
   "id": "1a53e3bb-c153-4a15-a3d6-7526d0622aee",
   "metadata": {},
   "outputs": [],
   "source": [
    "symbol = 'BTC-PERPETUAL'\n",
    "date = \"2021-10-01\"\n",
    "data_type = \"quotes\" #\"quotes\""
   ]
  },
  {
   "cell_type": "code",
   "execution_count": null,
   "id": "fc4169dd-ed12-4af5-beae-22af38503474",
   "metadata": {},
   "outputs": [
    {
     "name": "stdout",
     "output_type": "stream",
     "text": [
      "0.94 sec\n"
     ]
    }
   ],
   "source": [
    "t0 = time.time()\n",
    "fname = 'deribit_{}_{}_{}.csv.gz'.format(data_type, date, symbol)\n",
    "df = pd.read_csv(os.path.join(TARDIS_DATA_PATH, fname))\n",
    "print_time_from_t0(t0)"
   ]
  },
  {
   "cell_type": "code",
   "execution_count": 254,
   "id": "509022ba-66c3-4651-81eb-7b0e5e387dea",
   "metadata": {},
   "outputs": [],
   "source": [
    "df1 = df.pipe(datautils.DeribitUtils.parse_futureSymbol_col).pipe(datautils.DeribitUtils.parse_time_col)\n",
    "\n",
    "df1_btc = df1.query('instrument==\"BTC\"')\n",
    "\n",
    "df1_btc['update'] = (df1_btc['ask_price'].diff()!=0) | (df1_btc['bid_price'].diff()!=0)\n",
    "\n",
    "df1_btc['timestamp_dt_1h'] = df1_btc['timestamp_dt'].dt.ceil('H')\n",
    "\n",
    "(df1_btc.groupby('timestamp_dt_1h')['update'].sum()/60).plot()"
   ]
  },
  {
   "cell_type": "code",
   "execution_count": null,
   "id": "ca8c8c0e-97bb-4e41-b801-2fcfcfa2068c",
   "metadata": {},
   "outputs": [],
   "source": [
    "symbol = 'BTC-PERPETUAL'\n",
    "date = \"2021-10-01\"\n",
    "data_type = \"quotes\" #\"quotes\""
   ]
  },
  {
   "cell_type": "code",
   "execution_count": null,
   "id": "91ee3ae1-f956-48cc-8b6b-d2b4ea4e4df2",
   "metadata": {},
   "outputs": [],
   "source": [
    "t0 = time.time()\n",
    "fname = 'deribit_{}_{}_{}.csv.gz'.format(data_type, date, symbol)\n",
    "df = pd.read_csv(os.path.join(TARDIS_DATA_PATH, fname))\n",
    "print_time_from_t0(t0)"
   ]
  },
  {
   "cell_type": "code",
   "execution_count": 255,
   "id": "1db62dd6-9f4e-4d89-9778-974edc83adff",
   "metadata": {},
   "outputs": [],
   "source": [
    "## analyze a list of dates for BTC PERP"
   ]
  },
  {
   "cell_type": "code",
   "execution_count": 270,
   "id": "06d9a0ed-c887-4cc1-8a39-76b14901ff39",
   "metadata": {},
   "outputs": [],
   "source": [
    "symbol = 'BTC-PERPETUAL'\n",
    "data_type = \"quotes\" #\"quotes\"\n",
    "dates1 = pd.date_range(datetime(2021,1,1), datetime(2021,1,7))\n",
    "dates2 = pd.date_range(datetime(2021,5,15), datetime(2021,5,21))\n"
   ]
  },
  {
   "cell_type": "code",
   "execution_count": 260,
   "id": "afb40901-0340-440c-824f-3b7058a86fb3",
   "metadata": {},
   "outputs": [
    {
     "name": "stdout",
     "output_type": "stream",
     "text": [
      "2021-01-02\n",
      "2021-01-03\n",
      "2021-01-04\n",
      "2021-01-05\n",
      "2021-01-06\n",
      "2021-01-07\n",
      "2021-01-08\n"
     ]
    }
   ],
   "source": [
    "for date in dates1:\n",
    "    date_str = date.strftime('%Y-%m-%d')\n",
    "    fname = 'deribit_{}_{}_{}.csv.gz'.format(data_type, date_str, symbol)\n",
    "    df = pd.read_csv(os.path.join(TARDIS_DATA_PATH, fname))\n",
    "    "
   ]
  },
  {
   "cell_type": "code",
   "execution_count": 263,
   "id": "a04e647c-2590-4266-bf1b-8b1e0fbda42d",
   "metadata": {},
   "outputs": [],
   "source": [
    "df_combined2 = pd.concat([pd.read_csv(os.path.join(TARDIS_DATA_PATH,  'deribit_{}_{}_{}.csv.gz'.format(data_type, date.strftime('%Y-%m-%d'), symbol))) for date in dates2])"
   ]
  },
  {
   "cell_type": "code",
   "execution_count": 271,
   "id": "19b49162-6451-4cbc-a966-e3e7af139125",
   "metadata": {},
   "outputs": [],
   "source": [
    "df_combined1 = pd.concat([pd.read_csv(os.path.join(TARDIS_DATA_PATH,  'deribit_{}_{}_{}.csv.gz'.format(data_type, date.strftime('%Y-%m-%d'), symbol))) for date in dates1])"
   ]
  },
  {
   "cell_type": "code",
   "execution_count": 272,
   "id": "55edb208-da3a-4a4a-8e02-0e2ccfdcdf9a",
   "metadata": {},
   "outputs": [
    {
     "name": "stdout",
     "output_type": "stream",
     "text": [
      "'parse_futureSymbol_col'  3.26 sec\n"
     ]
    },
    {
     "data": {
      "text/plain": [
       "<AxesSubplot:xlabel='timestamp_dt_1h'>"
      ]
     },
     "execution_count": 272,
     "metadata": {},
     "output_type": "execute_result"
    },
    {
     "data": {
      "image/png": "[encoded data removed]",
      "text/plain": [
       "<Figure size 432x288 with 1 Axes>"
      ]
     },
     "metadata": {
      "needs_background": "light"
     },
     "output_type": "display_data"
    }
   ],
   "source": [
    "df1 = df_combined1.pipe(datautils.DeribitUtils.parse_futureSymbol_col).pipe(datautils.DeribitUtils.parse_time_col)\n",
    "\n",
    "df1_btc = df1.query('instrument==\"BTC\"')\n",
    "\n",
    "df1_btc['update'] = (df1_btc['ask_price'].diff()!=0) | (df1_btc['bid_price'].diff()!=0)\n",
    "\n",
    "df1_btc['timestamp_dt_1h'] = df1_btc['timestamp_dt'].dt.ceil('H')\n",
    "\n",
    "(df1_btc.groupby('timestamp_dt_1h')['update'].sum()/60).plot()"
   ]
  },
  {
   "cell_type": "code",
   "execution_count": null,
   "id": "2339622a-1a70-4f4c-bd4e-7f159974a855",
   "metadata": {},
   "outputs": [],
   "source": []
  }
 ],
 "metadata": {
  "kernelspec": {
   "display_name": "Python 3 (ipykernel)",
   "language": "python",
   "name": "python3"
  },
  "language_info": {
   "codemirror_mode": {
    "name": "ipython",
    "version": 3
   },
   "file_extension": ".py",
   "mimetype": "text/x-python",
   "name": "python",
   "nbconvert_exporter": "python",
   "pygments_lexer": "ipython3",
   "version": "3.8.8"
  }
 },
 "nbformat": 4,
 "nbformat_minor": 5
}
