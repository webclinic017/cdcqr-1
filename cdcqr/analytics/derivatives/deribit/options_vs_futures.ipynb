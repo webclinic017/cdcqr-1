{
 "cells": [
  {
   "cell_type": "markdown",
   "id": "3852dc28-c306-4bb5-a91d-f9bd10d25d29",
   "metadata": {},
   "source": [
    "### Investigate the relationship between option order book update frequencies and the future prices update frequencies\n",
    "* data processing\n",
    "    * find the ATM call and put, most updated call and most updated put\n",
    "    * for each single instrument in a day\n",
    "    * filter out snapshot\n",
    "    * remove duplicated timepoint\n",
    "    * round to nearest minutes\n",
    "    * groupby timestamp and count -> update frequency/min"
   ]
  },
  {
   "cell_type": "code",
   "execution_count": null,
   "id": "867bbf9f-5654-4314-8ecd-aa7b48c8d337",
   "metadata": {},
   "outputs": [],
   "source": [
    "from croqr.common.config import LOCAL_DATA_DIR\n",
    "import os\n",
    "import pandas as pd\n",
    "from datetime import datetime, timedelta\n",
    "import croqr.data.deribit.data_utils as datautils\n",
    "import pandas as pd\n",
    "pd.options.mode.chained_assignment = None  # default='warn'\n",
    "import time\n",
    "from croqr.common.utils import print_time_from_t0\n",
    "from croqr.common.dt_utils import DataTimeUtils\n",
    "from importlib import reload\n",
    "import matplotlib.pyplot as plt"
   ]
  },
  {
   "cell_type": "code",
   "execution_count": null,
   "id": "cafc5bdd-15fb-4a53-ba08-8eca4303ce37",
   "metadata": {},
   "outputs": [],
   "source": [
    "reload(datautils)"
   ]
  },
  {
   "cell_type": "code",
   "execution_count": null,
   "id": "2c2325e8-b3af-4914-8897-22c508c35fce",
   "metadata": {},
   "outputs": [],
   "source": [
    "TARDIS_DATA_PATH = os.path.join(LOCAL_DATA_DIR, 'tardis') "
   ]
  },
  {
   "cell_type": "code",
   "execution_count": null,
   "id": "eeb2e5f5-56b7-4916-b3b9-dbd065ae5f36",
   "metadata": {
    "scrolled": true,
    "tags": []
   },
   "outputs": [],
   "source": [
    "os.listdir(TARDIS_DATA_PATH)"
   ]
  },
  {
   "cell_type": "markdown",
   "id": "446afec3-708e-4f3c-a961-943990cce6c4",
   "metadata": {},
   "source": [
    "### load and process options data"
   ]
  },
  {
   "cell_type": "markdown",
   "id": "b0fae05f-c3aa-41ce-8ac7-b37b6c246bc8",
   "metadata": {},
   "source": [
    "#### incremental_book_L2"
   ]
  },
  {
   "cell_type": "code",
   "execution_count": null,
   "id": "e87667e0-3672-4320-9fb3-533dba56d3c0",
   "metadata": {},
   "outputs": [],
   "source": [
    "symbol = 'OPTIONS'\n",
    "date = \"2021-10-01\"\n",
    "data_type = \"incremental_book_L2\" #\"quotes\""
   ]
  },
  {
   "cell_type": "code",
   "execution_count": null,
   "id": "0509fb48-3a38-4a29-8280-e3e66ebada2f",
   "metadata": {},
   "outputs": [],
   "source": [
    "t0 = time.time()\n",
    "fname = 'deribit_{}_{}_{}.csv.gz'.format(data_type, date, symbol)\n",
    "df = pd.read_csv(os.path.join(TARDIS_DATA_PATH, fname))\n",
    "print_time_from_t0(t0)"
   ]
  },
  {
   "cell_type": "code",
   "execution_count": null,
   "id": "0978e796-98b7-428a-a676-787c43e08b9d",
   "metadata": {},
   "outputs": [],
   "source": [
    "df.head()"
   ]
  },
  {
   "cell_type": "code",
   "execution_count": null,
   "id": "170fba70-479f-4133-b4e5-4eeec9698cc6",
   "metadata": {},
   "outputs": [],
   "source": [
    "df1 = datautils.DeribitUtils.parse_symbol_col(df)"
   ]
  },
  {
   "cell_type": "code",
   "execution_count": null,
   "id": "96edde38-7d09-489f-bcec-de68881a1265",
   "metadata": {
    "scrolled": true,
    "tags": []
   },
   "outputs": [],
   "source": [
    "df1.head()"
   ]
  },
  {
   "cell_type": "code",
   "execution_count": null,
   "id": "e1e4111a-2be9-4b0b-975a-8b0363c8c3ec",
   "metadata": {},
   "outputs": [],
   "source": [
    "df1['timestamp_dt'] = pd.to_datetime(df1['timestamp'], unit='us')"
   ]
  },
  {
   "cell_type": "code",
   "execution_count": null,
   "id": "5e17fc52-1afc-4ffc-a537-9bff3a507597",
   "metadata": {},
   "outputs": [],
   "source": [
    "df1['local_dt'] = pd.to_datetime(df1['local_timestamp'], unit='us')"
   ]
  },
  {
   "cell_type": "code",
   "execution_count": null,
   "id": "fa293110-0636-40b6-b960-967509368f68",
   "metadata": {},
   "outputs": [],
   "source": [
    "df1"
   ]
  },
  {
   "cell_type": "code",
   "execution_count": null,
   "id": "5a5e80c5-8eb6-4ec7-b8f4-cc7aa88d1a56",
   "metadata": {},
   "outputs": [],
   "source": [
    "all_expire_dates = sorted(list(df1['expire'].unique()))\n",
    "all_expire_dates"
   ]
  },
  {
   "cell_type": "code",
   "execution_count": null,
   "id": "08f2abc4-2006-4ce7-85a9-c6e6e28cf6ed",
   "metadata": {},
   "outputs": [],
   "source": [
    "df1a = df1[df1['expire']==all_expire_dates[0]].query('instrument==\"BTC\"').query('type==\"C\"').query('strike==44000')"
   ]
  },
  {
   "cell_type": "code",
   "execution_count": null,
   "id": "ffb527f1-229f-44ab-9077-eec70fa6ecfb",
   "metadata": {},
   "outputs": [],
   "source": [
    "df1a['is_snapshot'].value_counts()"
   ]
  },
  {
   "cell_type": "markdown",
   "id": "7f4391b8-afc4-4ae8-b48e-e2699c001904",
   "metadata": {},
   "source": [
    "### Load and process futures data"
   ]
  },
  {
   "cell_type": "code",
   "execution_count": null,
   "id": "19353255-df68-4c04-ad15-a5bd7d96615b",
   "metadata": {},
   "outputs": [],
   "source": [
    "df1a['timestamp_dt'].nunique()"
   ]
  },
  {
   "cell_type": "code",
   "execution_count": null,
   "id": "9f6f3106-62c1-443b-b079-cd3caad6ddd8",
   "metadata": {},
   "outputs": [],
   "source": [
    "df1a.shape"
   ]
  },
  {
   "cell_type": "code",
   "execution_count": null,
   "id": "91106ad7-231e-48b1-a3f2-fb90bfaeadce",
   "metadata": {},
   "outputs": [],
   "source": [
    "df1a.query('is_snapshot==True').sort_values('price', ascending=False)"
   ]
  },
  {
   "cell_type": "code",
   "execution_count": null,
   "id": "ecc9c2db-76df-47e6-9d08-51cc9f168c08",
   "metadata": {},
   "outputs": [],
   "source": [
    "df1a.query('is_snapshot==False')['timestamp_dt'].nunique()"
   ]
  },
  {
   "cell_type": "code",
   "execution_count": null,
   "id": "f76e0dda-d2d3-4b3c-b46f-1a48fd2cfaa0",
   "metadata": {},
   "outputs": [],
   "source": [
    "df1a.tail()"
   ]
  },
  {
   "cell_type": "code",
   "execution_count": null,
   "id": "2d2b4c07-9288-49c6-969d-7e512c681b89",
   "metadata": {},
   "outputs": [],
   "source": [
    "df1a['timestamp_dt'].dt.round('T')"
   ]
  },
  {
   "cell_type": "code",
   "execution_count": null,
   "id": "3adb387b-f183-49f7-8ab8-2f41e1c42d1f",
   "metadata": {},
   "outputs": [],
   "source": [
    "df1b = df1a.query('is_snapshot==False')"
   ]
  },
  {
   "cell_type": "code",
   "execution_count": null,
   "id": "7d72c331-9560-4d95-be4c-81c2c72d5b53",
   "metadata": {},
   "outputs": [],
   "source": [
    "df1b['expire'] = df1b['expire'] + timedelta(hours=8)"
   ]
  },
  {
   "cell_type": "code",
   "execution_count": null,
   "id": "34e24599-58c4-4510-8889-36b92ef46bfe",
   "metadata": {},
   "outputs": [],
   "source": [
    "df1b['t2m'] = (df1b['expire'] - df1b['timestamp_dt'].dt.floor('H')).dt.total_seconds()/3600"
   ]
  },
  {
   "cell_type": "code",
   "execution_count": null,
   "id": "9ccdba8d-3264-47be-bc7c-bdb8af20b605",
   "metadata": {},
   "outputs": [],
   "source": [
    "(df1b.groupby('t2m')['timestamp_dt'].nunique()/60).plot()"
   ]
  },
  {
   "cell_type": "code",
   "execution_count": null,
   "id": "5921211b-48b1-4833-be8b-041475e0f716",
   "metadata": {},
   "outputs": [],
   "source": [
    "df1b['dt_1m'] = df1b['timestamp_dt'].dt.ceil('T')"
   ]
  },
  {
   "cell_type": "code",
   "execution_count": null,
   "id": "4857dd4d-5b3c-494b-994c-4488ce459a6b",
   "metadata": {},
   "outputs": [],
   "source": [
    "df1b.groupby('dt_1m')['timestamp_dt'].nunique().plot()"
   ]
  },
  {
   "cell_type": "markdown",
   "id": "33370e84-9005-4658-b528-b91941ed48bd",
   "metadata": {},
   "source": [
    "#### full order book update can be too noisy, check quote data"
   ]
  },
  {
   "cell_type": "code",
   "execution_count": null,
   "id": "e5c993bc-6ef3-42fe-8c5e-a4721ca2e881",
   "metadata": {},
   "outputs": [],
   "source": [
    "symbol = 'OPTIONS'\n",
    "date = \"2021-10-01\"\n",
    "data_type = \"quotes\" #\"quotes\""
   ]
  },
  {
   "cell_type": "code",
   "execution_count": null,
   "id": "1c9ae348-6e7a-4992-8cf2-02c8d2735fca",
   "metadata": {},
   "outputs": [],
   "source": [
    "t0 = time.time()\n",
    "fname = 'deribit_{}_{}_{}.csv.gz'.format(data_type, date, symbol)\n",
    "df = pd.read_csv(os.path.join(TARDIS_DATA_PATH, fname))\n",
    "print_time_from_t0(t0)"
   ]
  },
  {
   "cell_type": "code",
   "execution_count": null,
   "id": "fe8d17ed-a28c-4958-a1f6-7cce9d44c54b",
   "metadata": {},
   "outputs": [],
   "source": [
    "df1 = df.pipe(datautils.DeribitUtils.parse_symbol_col).pipe(datautils.DeribitUtils.parse_time_col).query('t2m<=168 and t2m>0')"
   ]
  },
  {
   "cell_type": "code",
   "execution_count": null,
   "id": "9b614a03-1900-4140-ba91-76e47418d61d",
   "metadata": {},
   "outputs": [],
   "source": [
    "df1.head(2)"
   ]
  },
  {
   "cell_type": "code",
   "execution_count": null,
   "id": "3a9eb69e-63b7-434c-8069-6e91e09b42f9",
   "metadata": {},
   "outputs": [],
   "source": [
    "df2_btc_c = df1.query('instrument==\"BTC\" and type==\"C\"')"
   ]
  },
  {
   "cell_type": "code",
   "execution_count": null,
   "id": "f01bb2f3-3dea-4665-abd6-12ddd7bcaab0",
   "metadata": {},
   "outputs": [],
   "source": [
    "for strike in sorted(list(df2_btc_c['strike'].unique())):\n",
    "    #strike=44000\n",
    "    print('strike=', strike)\n",
    "    df2plot = df2_btc_c.query('strike==@strike').query('t2m<8')\n",
    "    prices = sorted(list(df2plot['ask_price'].unique()))\n",
    "    print('ask prices', prices)\n",
    "    for price in prices:\n",
    "        df2plot.query('ask_price==@price').groupby('timestamp_dt')['ask_amount'].max().plot()\n",
    "    if len(prices)<13:\n",
    "        plt.legend(prices)\n",
    "    plt.show()"
   ]
  },
  {
   "cell_type": "markdown",
   "id": "92a3921e-3cd2-40fe-b283-4425669a3078",
   "metadata": {},
   "source": [
    "#### check quote data for futures"
   ]
  },
  {
   "cell_type": "code",
   "execution_count": null,
   "id": "1a53e3bb-c153-4a15-a3d6-7526d0622aee",
   "metadata": {},
   "outputs": [],
   "source": [
    "symbol = 'BTC-PERPETUAL'\n",
    "date = \"2021-10-01\"\n",
    "data_type = \"quotes\" #\"quotes\""
   ]
  },
  {
   "cell_type": "code",
   "execution_count": null,
   "id": "fc4169dd-ed12-4af5-beae-22af38503474",
   "metadata": {},
   "outputs": [],
   "source": [
    "t0 = time.time()\n",
    "fname = 'deribit_{}_{}_{}.csv.gz'.format(data_type, date, symbol)\n",
    "df = pd.read_csv(os.path.join(TARDIS_DATA_PATH, fname))\n",
    "print_time_from_t0(t0)"
   ]
  },
  {
   "cell_type": "code",
   "execution_count": null,
   "id": "509022ba-66c3-4651-81eb-7b0e5e387dea",
   "metadata": {},
   "outputs": [],
   "source": [
    "df1 = df.pipe(datautils.DeribitUtils.parse_futureSymbol_col).pipe(datautils.DeribitUtils.parse_time_col)\n",
    "\n",
    "df1_btc = df1.query('instrument==\"BTC\"')\n",
    "\n",
    "df1_btc['update'] = (df1_btc['ask_price'].diff()!=0) | (df1_btc['bid_price'].diff()!=0)\n",
    "\n",
    "df1_btc['timestamp_dt_1h'] = df1_btc['timestamp_dt'].dt.ceil('H')\n",
    "\n",
    "(df1_btc.groupby('timestamp_dt_1h')['update'].sum()/60).plot()"
   ]
  },
  {
   "cell_type": "code",
   "execution_count": null,
   "id": "ca8c8c0e-97bb-4e41-b801-2fcfcfa2068c",
   "metadata": {},
   "outputs": [],
   "source": [
    "symbol = 'BTC-PERPETUAL'\n",
    "date = \"2021-10-01\"\n",
    "data_type = \"quotes\" #\"quotes\""
   ]
  },
  {
   "cell_type": "code",
   "execution_count": null,
   "id": "91ee3ae1-f956-48cc-8b6b-d2b4ea4e4df2",
   "metadata": {},
   "outputs": [],
   "source": [
    "t0 = time.time()\n",
    "fname = 'deribit_{}_{}_{}.csv.gz'.format(data_type, date, symbol)\n",
    "df = pd.read_csv(os.path.join(TARDIS_DATA_PATH, fname))\n",
    "print_time_from_t0(t0)"
   ]
  },
  {
   "cell_type": "code",
   "execution_count": null,
   "id": "1db62dd6-9f4e-4d89-9778-974edc83adff",
   "metadata": {},
   "outputs": [],
   "source": [
    "## analyze a list of dates for BTC PERP"
   ]
  },
  {
   "cell_type": "code",
   "execution_count": null,
   "id": "06d9a0ed-c887-4cc1-8a39-76b14901ff39",
   "metadata": {},
   "outputs": [],
   "source": [
    "symbol = 'BTC-PERPETUAL'\n",
    "data_type = \"quotes\" #\"quotes\"\n",
    "dates1 = pd.date_range(datetime(2021,1,1), datetime(2021,1,7))\n",
    "dates2 = pd.date_range(datetime(2021,5,15), datetime(2021,5,21))\n"
   ]
  },
  {
   "cell_type": "code",
   "execution_count": null,
   "id": "afb40901-0340-440c-824f-3b7058a86fb3",
   "metadata": {},
   "outputs": [],
   "source": [
    "for date in dates1:\n",
    "    date_str = date.strftime('%Y-%m-%d')\n",
    "    fname = 'deribit_{}_{}_{}.csv.gz'.format(data_type, date_str, symbol)\n",
    "    df = pd.read_csv(os.path.join(TARDIS_DATA_PATH, fname))\n",
    "    "
   ]
  },
  {
   "cell_type": "code",
   "execution_count": null,
   "id": "a04e647c-2590-4266-bf1b-8b1e0fbda42d",
   "metadata": {},
   "outputs": [],
   "source": [
    "df_combined2 = pd.concat([pd.read_csv(os.path.join(TARDIS_DATA_PATH,  'deribit_{}_{}_{}.csv.gz'.format(data_type, date.strftime('%Y-%m-%d'), symbol))) for date in dates2])"
   ]
  },
  {
   "cell_type": "code",
   "execution_count": null,
   "id": "19b49162-6451-4cbc-a966-e3e7af139125",
   "metadata": {},
   "outputs": [],
   "source": [
    "df_combined1 = pd.concat([pd.read_csv(os.path.join(TARDIS_DATA_PATH,  'deribit_{}_{}_{}.csv.gz'.format(data_type, date.strftime('%Y-%m-%d'), symbol))) for date in dates1])"
   ]
  },
  {
   "cell_type": "code",
   "execution_count": null,
   "id": "55edb208-da3a-4a4a-8e02-0e2ccfdcdf9a",
   "metadata": {},
   "outputs": [],
   "source": [
    "df1 = df_combined1.pipe(datautils.DeribitUtils.parse_futureSymbol_col).pipe(datautils.DeribitUtils.parse_time_col)\n",
    "\n",
    "df1_btc = df1.query('instrument==\"BTC\"')\n",
    "\n",
    "df1_btc['update'] = (df1_btc['ask_price'].diff()!=0) | (df1_btc['bid_price'].diff()!=0)\n",
    "\n",
    "df1_btc['timestamp_dt_1h'] = df1_btc['timestamp_dt'].dt.ceil('H')\n",
    "\n",
    "(df1_btc.groupby('timestamp_dt_1h')['update'].sum()/60).plot()"
   ]
  },
  {
   "cell_type": "code",
   "execution_count": null,
   "id": "2339622a-1a70-4f4c-bd4e-7f159974a855",
   "metadata": {},
   "outputs": [],
   "source": []
  }
 ],
 "metadata": {
  "kernelspec": {
   "display_name": "Python 3 (ipykernel)",
   "language": "python",
   "name": "python3"
  },
  "language_info": {
   "codemirror_mode": {
    "name": "ipython",
    "version": 3
   },
   "file_extension": ".py",
   "mimetype": "text/x-python",
   "name": "python",
   "nbconvert_exporter": "python",
   "pygments_lexer": "ipython3",
   "version": "3.8.8"
  }
 },
 "nbformat": 4,
 "nbformat_minor": 5
}
