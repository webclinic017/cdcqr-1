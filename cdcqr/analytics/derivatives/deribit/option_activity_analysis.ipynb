{
 "cells": [
  {
   "cell_type": "markdown",
   "id": "834ad6c3-48c8-45ef-964d-f22881e681f8",
   "metadata": {},
   "source": [
    "### Investigate the activities of options\n",
    "   * w.r.t. two dimensions\n",
    "       * strike price\n",
    "       * Time to maturity\n",
    "   \n",
    "   * We mainly use three indicators to measure option activities\n",
    "       * avg number of trades per hour\n",
    "       * avg number of mid price change per hour\n",
    "       * avg number of weighted mid price change per hour\n",
    "       \n",
    "   * use one week's data, Mon to Sun\n",
    "       * divide t2m in hours, so t2m is in range 1 - 168\n",
    "   \n",
    "   * procedure\n",
    "       * load trade and quote data\n",
    "       * for each day, we get the consolidated result DF\n",
    "       * combine seven days DFs\n",
    "       * make scatter plot"
   ]
  },
  {
   "cell_type": "code",
   "execution_count": null,
   "id": "1eb398f5-203d-40c8-8329-f7cd852a30fd",
   "metadata": {},
   "outputs": [],
   "source": [
    "from cdcqr.data.dataloader import data_loader\n",
    "from cdcqr.data.deribit.data_utils import DeribitUtils\n",
    "import numpy as np\n",
    "import pandas as pd\n",
    "import matplotlib.pyplot as plt\n",
    "import seaborn as sns"
   ]
  },
  {
   "cell_type": "code",
   "execution_count": null,
   "id": "1ae467b2-c2e7-46a7-bb30-1ab6efef4660",
   "metadata": {},
   "outputs": [],
   "source": [
    "from cdcqr.data.deribit.data_utils import get_option_activities"
   ]
  },
  {
   "cell_type": "code",
   "execution_count": null,
   "id": "5b2d4ee2-4b4d-4def-a9d9-730eb2480ff7",
   "metadata": {},
   "outputs": [],
   "source": [
    "date_range = list(pd.date_range(start='2021-10-04',\n",
    "    end='2021-10-10',))"
   ]
  },
  {
   "cell_type": "code",
   "execution_count": null,
   "id": "f180121a-5338-47c6-90a8-ccc7a7760493",
   "metadata": {},
   "outputs": [],
   "source": [
    "dates_str = [x.strftime('%Y-%m-%d') for x in date_range]\n",
    "print(dates_str)"
   ]
  },
  {
   "cell_type": "code",
   "execution_count": null,
   "id": "cdb179aa-78c5-4bbf-86e2-dc1fc3b01ed6",
   "metadata": {},
   "outputs": [],
   "source": [
    "res_dict = {}\n",
    "for date in dates_str:\n",
    "    res_dict[date] = get_option_activities(date)"
   ]
  },
  {
   "cell_type": "code",
   "execution_count": null,
   "id": "95afd532-7bf0-454a-85b4-bc3b7768661e",
   "metadata": {},
   "outputs": [],
   "source": [
    "df = pd.concat(res_dict.values())"
   ]
  },
  {
   "cell_type": "code",
   "execution_count": null,
   "id": "e6b25739-0b33-4c4e-aca3-68f518cc537b",
   "metadata": {},
   "outputs": [],
   "source": [
    "df1 = df.groupby(['strike','t2m'])['has_trade','midp_chg','wgtmidp_chg'].mean()"
   ]
  },
  {
   "cell_type": "code",
   "execution_count": null,
   "id": "120739fd-7742-4cdf-a9db-8cbb93b7e0ac",
   "metadata": {},
   "outputs": [],
   "source": [
    "has_trade_heat_map = df1['has_trade'].unstack().fillna(0)\n",
    "fig = plt.figure(figsize=(32,24))\n",
    "ax = sns.heatmap(has_trade_heat_map, annot=True)\n",
    "plt.title('avg trades per hour')\n",
    "figure = ax.get_figure()    \n",
    "plt.show()"
   ]
  },
  {
   "cell_type": "code",
   "execution_count": null,
   "id": "fb1b643f-0702-40bf-9cdb-6f72c83e1809",
   "metadata": {},
   "outputs": [],
   "source": [
    "midp_chg_heat_map = df1['midp_chg'].unstack().fillna(0)\n",
    "fig = plt.figure(figsize=(32,24))\n",
    "ax = sns.heatmap(midp_chg_heat_map, annot=True)\n",
    "plt.title('avg midp_chg per hour')\n",
    "figure = ax.get_figure()    \n",
    "plt.show()"
   ]
  },
  {
   "cell_type": "code",
   "execution_count": null,
   "id": "6b2833ae-0d7e-458f-91d1-9a50fe102afe",
   "metadata": {},
   "outputs": [],
   "source": [
    "wgtmidp_chg_heat_map = df1['wgtmidp_chg'].unstack().fillna(0)\n",
    "fig = plt.figure(figsize=(32,24))\n",
    "ax = sns.heatmap(wgtmidp_chg_heat_map, annot=True)\n",
    "plt.title('avg wgtmidp_chg per hour')\n",
    "figure = ax.get_figure()    \n",
    "plt.show()"
   ]
  }
 ],
 "metadata": {
  "kernelspec": {
   "display_name": "Python 3 (ipykernel)",
   "language": "python",
   "name": "python3"
  },
  "language_info": {
   "codemirror_mode": {
    "name": "ipython",
    "version": 3
   },
   "file_extension": ".py",
   "mimetype": "text/x-python",
   "name": "python",
   "nbconvert_exporter": "python",
   "pygments_lexer": "ipython3",
   "version": "3.8.8"
  }
 },
 "nbformat": 4,
 "nbformat_minor": 5
}
