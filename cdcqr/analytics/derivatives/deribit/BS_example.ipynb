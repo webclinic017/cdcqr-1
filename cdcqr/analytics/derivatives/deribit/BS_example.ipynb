{
 "cells": [
  {
   "cell_type": "code",
   "execution_count": 2,
   "id": "e47b74b4-4e2d-4b2c-992f-8194445243d0",
   "metadata": {},
   "outputs": [],
   "source": [
    "import numpy as np\n",
    "import scipy.stats as si\n",
    "import sympy as sy\n",
    "from sympy.stats import Normal, cdf\n",
    "from sympy import init_printing\n",
    "init_printing()\n",
    "from IPython.display import display, Math, Latex"
   ]
  },
  {
   "cell_type": "code",
   "execution_count": 3,
   "id": "ca233efb-44fe-4606-b8ae-4e8beb547b11",
   "metadata": {},
   "outputs": [
    {
     "name": "stdout",
     "output_type": "stream",
     "text": [
      "European Call\n"
     ]
    },
    {
     "data": {
      "text/latex": [
       "$\\displaystyle C(S,t) = SN(d_1) - Ke^{-r(T-t)}N(d_2)$"
      ],
      "text/plain": [
       "<IPython.core.display.Math object>"
      ]
     },
     "metadata": {},
     "output_type": "display_data"
    },
    {
     "name": "stdout",
     "output_type": "stream",
     "text": [
      "European Put\n"
     ]
    },
    {
     "data": {
      "text/latex": [
       "$\\displaystyle P(S,t) = Ke^{-r(T-t)}N(-d_2) - SN(-d_1)$"
      ],
      "text/plain": [
       "<IPython.core.display.Math object>"
      ]
     },
     "metadata": {},
     "output_type": "display_data"
    },
    {
     "name": "stdout",
     "output_type": "stream",
     "text": [
      "Where\n"
     ]
    },
    {
     "data": {
      "text/latex": [
       "$\\displaystyle d_1 = \\frac{\\ln(\\frac{S}{K}) + (r+\\frac{\\sigma^2}{2})(T-t)}{\\sigma\\sqrt{(T-t)}}$"
      ],
      "text/plain": [
       "<IPython.core.display.Math object>"
      ]
     },
     "metadata": {},
     "output_type": "display_data"
    },
    {
     "data": {
      "text/latex": [
       "$\\displaystyle d_2 = d_1 - \\sigma\\sqrt{T-t} = \\frac{\\ln(\\frac{S}{K}) + (r-\\frac{\\sigma^2}{2})(T-t)}{\\sigma\\sqrt{(T-t)}}$"
      ],
      "text/plain": [
       "<IPython.core.display.Math object>"
      ]
     },
     "metadata": {},
     "output_type": "display_data"
    }
   ],
   "source": [
    "print('European Call')\n",
    "display(Math(r'C(S,t) = SN(d_1) - Ke^{-r(T-t)}N(d_2)'))\n",
    "\n",
    "print('European Put')\n",
    "display(Math(r'P(S,t) = Ke^{-r(T-t)}N(-d_2) - SN(-d_1)'))\n",
    "\n",
    "print('Where')\n",
    "display(Math(r'd_1 = \\frac{\\ln(\\frac{S}{K}) + (r+\\frac{\\sigma^2}{2})(T-t)}{\\sigma\\sqrt{(T-t)}}'))\n",
    "display(Math(r'd_2 = d_1 - \\sigma\\sqrt{T-t} = \\frac{\\ln(\\frac{S}{K}) + (r-\\frac{\\sigma^2}{2})(T-t)}{\\sigma\\sqrt{(T-t)}}'))"
   ]
  },
  {
   "cell_type": "code",
   "execution_count": 4,
   "id": "2df096f8-f60d-4ada-b6a3-0ca8dfffb901",
   "metadata": {},
   "outputs": [],
   "source": [
    "def euro_vanilla(S, K, T, r, sigma, option = 'call'):\n",
    "    \n",
    "    #S: spot price\n",
    "    #K: strike price\n",
    "    #T: time to maturity\n",
    "    #r: interest rate\n",
    "    #sigma: volatility of underlying asset\n",
    "    \n",
    "    d1 = (np.log(S / K) + (r + 0.5 * sigma ** 2) * T) / (sigma * np.sqrt(T))\n",
    "    d2 = (np.log(S / K) + (r - 0.5 * sigma ** 2) * T) / (sigma * np.sqrt(T))\n",
    "    \n",
    "    if option == 'call':\n",
    "        result = (S * si.norm.cdf(d1, 0.0, 1.0) - K * np.exp(-r * T) * si.norm.cdf(d2, 0.0, 1.0))\n",
    "    if option == 'put':\n",
    "        result = (K * np.exp(-r * T) * si.norm.cdf(-d2, 0.0, 1.0) - S * si.norm.cdf(-d1, 0.0, 1.0))\n",
    "        \n",
    "    return result"
   ]
  },
  {
   "cell_type": "code",
   "execution_count": 8,
   "id": "683ad676-5bce-426a-aab6-4a2f5eb657d1",
   "metadata": {},
   "outputs": [
    {
     "data": {
      "image/png": "[encoded data removed]",
      "text/latex": [
       "$\\displaystyle 0.0273525093694366$"
      ],
      "text/plain": [
       "0.027352509369436617"
      ]
     },
     "execution_count": 8,
     "metadata": {},
     "output_type": "execute_result"
    }
   ],
   "source": [
    "euro_vanilla(50, 100, 1, 0.05, 0.25, option = 'call')"
   ]
  },
  {
   "cell_type": "code",
   "execution_count": 9,
   "id": "2fe3f7cb-2b9d-4a97-8f68-8cf47119f592",
   "metadata": {},
   "outputs": [
    {
     "data": {
      "image/png": "[encoded data removed]",
      "text/latex": [
       "$\\displaystyle 45.1502949594408$"
      ],
      "text/plain": [
       "45.15029495944084"
      ]
     },
     "execution_count": 9,
     "metadata": {},
     "output_type": "execute_result"
    }
   ],
   "source": [
    "euro_vanilla(50, 100, 1, 0.05, 0.25, option = 'put')"
   ]
  }
 ],
 "metadata": {
  "kernelspec": {
   "display_name": "Python 3 (ipykernel)",
   "language": "python",
   "name": "python3"
  },
  "language_info": {
   "codemirror_mode": {
    "name": "ipython",
    "version": 3
   },
   "file_extension": ".py",
   "mimetype": "text/x-python",
   "name": "python",
   "nbconvert_exporter": "python",
   "pygments_lexer": "ipython3",
   "version": "3.8.8"
  }
 },
 "nbformat": 4,
 "nbformat_minor": 5
}
