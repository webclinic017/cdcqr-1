{
 "cells": [
  {
   "cell_type": "markdown",
   "id": "2c2cdda1-085a-4e7b-a054-d2ed2ae0ecec",
   "metadata": {},
   "source": [
    "### Distinguish if the market is spot dominated or future dominated\n",
    "   * check OI levels and spot trading volume \n",
    "   * funding rate v.s. spot price directions \n",
    "   * check which exchange leads the price"
   ]
  },
  {
   "cell_type": "code",
   "execution_count": null,
   "id": "adf7bc03-fd27-48fd-8a45-6dc47ee82f0c",
   "metadata": {},
   "outputs": [],
   "source": []
  }
 ],
 "metadata": {
  "kernelspec": {
   "display_name": "Python 3 (ipykernel)",
   "language": "python",
   "name": "python3"
  },
  "language_info": {
   "codemirror_mode": {
    "name": "ipython",
    "version": 3
   },
   "file_extension": ".py",
   "mimetype": "text/x-python",
   "name": "python",
   "nbconvert_exporter": "python",
   "pygments_lexer": "ipython3",
   "version": "3.8.8"
  }
 },
 "nbformat": 4,
 "nbformat_minor": 5
}
