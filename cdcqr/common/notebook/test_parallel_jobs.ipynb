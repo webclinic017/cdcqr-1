{
 "cells": [
  {
   "cell_type": "code",
   "execution_count": null,
   "id": "81599e19-7662-4ffe-b1eb-5fa761a88bd3",
   "metadata": {},
   "outputs": [],
   "source": [
    "from cdcqr.common.utils import parallel_jobs"
   ]
  },
  {
   "cell_type": "code",
   "execution_count": null,
   "id": "c21f0ce4-88ce-48dc-aaa3-903adc99aca7",
   "metadata": {},
   "outputs": [],
   "source": [
    "def f(x):\n",
    "    return x*2"
   ]
  },
  {
   "cell_type": "code",
   "execution_count": null,
   "id": "180128ca-58f5-40c5-ae8e-c422eac2695a",
   "metadata": {},
   "outputs": [],
   "source": [
    "arg_list = list(range(1,50))"
   ]
  },
  {
   "cell_type": "code",
   "execution_count": null,
   "id": "2a783764-2c64-49c5-a41f-f8520d2a7b68",
   "metadata": {},
   "outputs": [],
   "source": [
    "parallel_jobs(f, arg_list)"
   ]
  }
 ],
 "metadata": {
  "kernelspec": {
   "display_name": "Python 3 (ipykernel)",
   "language": "python",
   "name": "python3"
  },
  "language_info": {
   "codemirror_mode": {
    "name": "ipython",
    "version": 3
   },
   "file_extension": ".py",
   "mimetype": "text/x-python",
   "name": "python",
   "nbconvert_exporter": "python",
   "pygments_lexer": "ipython3",
   "version": "3.8.8"
  }
 },
 "nbformat": 4,
 "nbformat_minor": 5
}
