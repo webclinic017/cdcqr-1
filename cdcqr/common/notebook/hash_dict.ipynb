{
 "cells": [
  {
   "cell_type": "code",
   "execution_count": null,
   "id": "272ccfe4-2263-41a2-9212-25c11702aade",
   "metadata": {},
   "outputs": [],
   "source": [
    "from datetime import datetime\n",
    "from cdcqr.common.utils import dict_hash"
   ]
  },
  {
   "cell_type": "code",
   "execution_count": null,
   "id": "b5a6f510-69fa-4a19-9dc3-4ce5ec749076",
   "metadata": {},
   "outputs": [],
   "source": [
    "config = {}\n",
    "\n",
    "config['name'] = 'test1a'\n",
    "config['starttime'] = '20210101'\n",
    "config['endtime'] = '20210130'\n",
    "\n",
    "backtest_config = {}\n",
    "backtest_config['asset'] = 'BTC'\n",
    "\n",
    "config['backtest'] = backtest_config\n",
    "\n",
    "config"
   ]
  },
  {
   "cell_type": "code",
   "execution_count": null,
   "id": "c78af9b1-af42-4eae-a346-613fd05adcbe",
   "metadata": {},
   "outputs": [],
   "source": [
    "config2 = config.copy()\n",
    "\n",
    "config2['endtime'] = '20210131'"
   ]
  },
  {
   "cell_type": "code",
   "execution_count": null,
   "id": "98fb3070-ab1c-433e-9e59-c19c04b8bfcb",
   "metadata": {},
   "outputs": [],
   "source": [
    "dict_hash(config2)"
   ]
  },
  {
   "cell_type": "code",
   "execution_count": null,
   "id": "0f088f1c-c783-4cf0-acd7-40f401f0459c",
   "metadata": {},
   "outputs": [],
   "source": [
    "dict_hash(config)"
   ]
  }
 ],
 "metadata": {
  "kernelspec": {
   "display_name": "Python 3 (ipykernel)",
   "language": "python",
   "name": "python3"
  },
  "language_info": {
   "codemirror_mode": {
    "name": "ipython",
    "version": 3
   },
   "file_extension": ".py",
   "mimetype": "text/x-python",
   "name": "python",
   "nbconvert_exporter": "python",
   "pygments_lexer": "ipython3",
   "version": "3.8.8"
  }
 },
 "nbformat": 4,
 "nbformat_minor": 5
}
