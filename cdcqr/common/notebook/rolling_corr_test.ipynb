{
 "cells": [
  {
   "cell_type": "code",
   "execution_count": null,
   "id": "7d6af9b7-3cb3-4326-b818-d3ff99cb320c",
   "metadata": {},
   "outputs": [],
   "source": [
    "import sys\n",
    "sys.path.append('C://github/cryptoderiv-quant/')\n",
    "import pandas as pd\n",
    "from ct.utils import rollingcorr\n",
    "import numpy as np"
   ]
  },
  {
   "cell_type": "code",
   "execution_count": null,
   "id": "c063876d-b903-4e42-b43d-d83a509e5348",
   "metadata": {},
   "outputs": [],
   "source": [
    "pd.core.frame.DataFrame.rollingcorr=rollingcorr"
   ]
  },
  {
   "cell_type": "code",
   "execution_count": null,
   "id": "bea3d3df-7f57-4853-9f9e-a11112455c88",
   "metadata": {},
   "outputs": [],
   "source": [
    "np.random.seed(10)\n",
    "df = pd.DataFrame(np.random.randn(100, 3),columns=['a','b','c'])\n",
    "df = df.astype(float)"
   ]
  },
  {
   "cell_type": "code",
   "execution_count": null,
   "id": "95a9cd06-7832-4981-ae4e-a5ee96febd68",
   "metadata": {
    "tags": []
   },
   "outputs": [],
   "source": [
    "df.rolling(5).corr()"
   ]
  },
  {
   "cell_type": "code",
   "execution_count": null,
   "id": "48f95599-a65f-423f-b2ad-79e7a48811f2",
   "metadata": {
    "tags": []
   },
   "outputs": [],
   "source": [
    "df.rolling(5).corr(df['c'])"
   ]
  },
  {
   "cell_type": "code",
   "execution_count": null,
   "id": "8cde012f-1ab2-4851-ae9e-0802a7de1492",
   "metadata": {
    "tags": []
   },
   "outputs": [],
   "source": [
    "df.rollingcorr(5)"
   ]
  },
  {
   "cell_type": "code",
   "execution_count": null,
   "id": "283a3017-81a2-4c03-8876-a31674eaa229",
   "metadata": {
    "tags": []
   },
   "outputs": [],
   "source": [
    "df.rollingcorr(5, col=df['c'])"
   ]
  }
 ],
 "metadata": {
  "kernelspec": {
   "display_name": "Python 3 (ipykernel)",
   "language": "python",
   "name": "python3"
  },
  "language_info": {
   "codemirror_mode": {
    "name": "ipython",
    "version": 3
   },
   "file_extension": ".py",
   "mimetype": "text/x-python",
   "name": "python",
   "nbconvert_exporter": "python",
   "pygments_lexer": "ipython3",
   "version": "3.8.8"
  }
 },
 "nbformat": 4,
 "nbformat_minor": 5
}
