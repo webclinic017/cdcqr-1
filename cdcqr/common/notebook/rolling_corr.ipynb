{
 "cells": [
  {
   "cell_type": "code",
   "execution_count": null,
   "id": "b2353b32-8e5b-40cd-bc07-070af5b57401",
   "metadata": {},
   "outputs": [],
   "source": [
    "import pandas as pd\n",
    "import numpy as np\n",
    "from numpy.lib.stride_tricks import as_strided\n",
    "\n",
    "\n",
    "from pandas._libs import algos as libalgos\n",
    "from datetime import datetime"
   ]
  },
  {
   "cell_type": "markdown",
   "id": "b1feb303-61c5-4006-b2a2-ac2cce5ecaf6",
   "metadata": {
    "tags": []
   },
   "source": [
    "#### understand strides, https://stackoverflow.com/questions/53097952/how-to-understand-numpy-strides-for-layman"
   ]
  },
  {
   "cell_type": "code",
   "execution_count": null,
   "id": "cfb1e070-af68-482e-a56b-7274095b726b",
   "metadata": {
    "tags": []
   },
   "outputs": [],
   "source": [
    "df[0].values.strides[0]"
   ]
  },
  {
   "cell_type": "code",
   "execution_count": null,
   "id": "1095e494-d434-4e3f-bc6e-1d238d5cec7a",
   "metadata": {},
   "outputs": [],
   "source": [
    "a = np.arange(1,10).reshape(3,3)\n",
    "a"
   ]
  },
  {
   "cell_type": "code",
   "execution_count": null,
   "id": "b387fffe-c62d-4d38-9657-5c452cfc949e",
   "metadata": {},
   "outputs": [],
   "source": [
    "a.strides"
   ]
  },
  {
   "cell_type": "markdown",
   "id": "928777a4-0167-4fe5-a719-0102d6794763",
   "metadata": {},
   "source": [
    "#### check rolling_spearman_quick"
   ]
  },
  {
   "cell_type": "code",
   "execution_count": null,
   "id": "f3c8643a-f126-49e7-bfe2-0120bbc4d229",
   "metadata": {},
   "outputs": [],
   "source": [
    "np.random.seed(10)\n",
    "df = pd.DataFrame(np.random.randn(100, 3),columns=['a','b','c'])\n",
    "df = df.astype(float)\n"
   ]
  },
  {
   "cell_type": "code",
   "execution_count": null,
   "id": "0b729965-d3c7-45a3-ab16-8701d35472eb",
   "metadata": {},
   "outputs": [],
   "source": [
    "df"
   ]
  },
  {
   "cell_type": "code",
   "execution_count": null,
   "id": "1420fa3f-e413-48b3-957e-2a035a2711f4",
   "metadata": {},
   "outputs": [],
   "source": [
    "seqa = df[0].values\n",
    "seqb = df[1].values\n",
    "stridea = seqa.strides[0]"
   ]
  },
  {
   "cell_type": "code",
   "execution_count": null,
   "id": "ce38e28a-a275-449a-9865-f3150d4d416e",
   "metadata": {},
   "outputs": [],
   "source": [
    "window = 5"
   ]
  },
  {
   "cell_type": "code",
   "execution_count": null,
   "id": "0686f2b8-4267-4c2d-bff7-5270a01548be",
   "metadata": {},
   "outputs": [],
   "source": [
    "ssa = as_strided(seqa, shape=[len(seqa) - window + 1, window], strides=[stridea, stridea])"
   ]
  },
  {
   "cell_type": "code",
   "execution_count": null,
   "id": "3f132522-a276-4ea0-8372-16e0f880a0d9",
   "metadata": {},
   "outputs": [],
   "source": [
    "\n",
    "stridea = seqa.strides[0]\n",
    "ssa = as_strided(seqa, shape=[len(seqa) - window + 1, window], strides=[stridea, stridea])\n",
    "strideb = seqa.strides[0]\n",
    "ssb = as_strided(seqb, shape=[len(seqb) - window + 1, window], strides =[strideb, strideb])\n",
    "ar = pd.DataFrame(ssa)\n",
    "br = pd.DataFrame(ssb)\n",
    "ar = ar.rank(1)\n",
    "br = br.rank(1)"
   ]
  },
  {
   "cell_type": "code",
   "execution_count": null,
   "id": "0ac16226-007b-4ef0-bd64-4ddd943f30f0",
   "metadata": {},
   "outputs": [],
   "source": [
    "corrs = ar.corrwith(br, 1)"
   ]
  },
  {
   "cell_type": "code",
   "execution_count": null,
   "id": "df7c0b15-18f6-4c77-bf00-e7e28b68bfd0",
   "metadata": {},
   "outputs": [],
   "source": [
    "def rolling_spearman_corr(df, window, cols = []):\n",
    "    idx = df.index\n",
    "    if len(cols)==2:\n",
    "        ssa = df[cols[0]].values\n",
    "        ssb = df[cols[1]].values\n",
    "        ret = rolling_spearman_quick(ssa, ssb, window)\n",
    "    elif len(cols)==0:\n",
    "        return 'TBA'\n",
    "    else:\n",
    "        raise ValueError(\"cols must of list of two or zero elements\")\n",
    "        \n",
    "    return pd.DataFrame(ret, index=idx, columns=)"
   ]
  },
  {
   "cell_type": "code",
   "execution_count": null,
   "id": "dcb82362-13a0-4ff4-9969-ef9a3f057fc4",
   "metadata": {},
   "outputs": [],
   "source": [
    "numeric_df = df._get_numeric_data()\n",
    "cols = numeric_df.columns\n",
    "idx = cols.copy()\n",
    "mat = numeric_df.to_numpy(dtype=float, na_value=np.nan, copy=False)"
   ]
  },
  {
   "cell_type": "code",
   "execution_count": null,
   "id": "416886d7-ab5e-4376-a1fa-673fa02d2701",
   "metadata": {},
   "outputs": [],
   "source": [
    "min_periods =5\n",
    "correl = libalgos.nancorr_spearman(mat, minp=min_periods)"
   ]
  },
  {
   "cell_type": "code",
   "execution_count": null,
   "id": "4e71b74b-0cea-40e3-85bb-2775a9f0c6bb",
   "metadata": {},
   "outputs": [],
   "source": [
    "def rolling_rank_corr(df, window):\n",
    "    pass"
   ]
  },
  {
   "cell_type": "code",
   "execution_count": null,
   "id": "60f0454f-e3c1-489f-b509-fdc16186a2de",
   "metadata": {},
   "outputs": [],
   "source": [
    "stridea = seqa.strides[0]\n",
    "ssa = as_strided(seqa, shape=[len(seqa) - window + 1, window], strides=[stridea, stridea])\n",
    "strideb = seqa.strides[0]\n",
    "ssb = as_strided(seqb, shape=[len(seqb) - window + 1, window], strides =[strideb, strideb])\n",
    "ar = pd.DataFrame(ssa)\n",
    "br = pd.DataFrame(ssb)\n",
    "ar = ar.rank(1)\n",
    "br = br.rank(1)"
   ]
  },
  {
   "cell_type": "code",
   "execution_count": null,
   "id": "15abdec3-9bdc-4e3a-bad2-39e8c2ed9949",
   "metadata": {},
   "outputs": [],
   "source": [
    "window = 5\n",
    "n = 20\n",
    "p = 3\n",
    "x = np.asarray(range(1,n*p+1), np.float64).reshape(n,p)\n",
    "x = np.random.randn(n, p)\n",
    "display(x)\n",
    "x.strides\n",
    "\n",
    "mat_3d = as_strided(x, shape=(n-window+1, window, p), strides=(x.strides[0], x.strides[0], x.strides[1]))\n",
    "\n",
    "\n",
    "res = np.array([libalgos.nancorr_spearman(x) for x in mat_3d])\n",
    "\n",
    "a = np.empty((window-1, p, p,))\n",
    "a[:] = np.nan\n",
    "\n",
    "res2 = np.concatenate((a, res))\n",
    "\n",
    "t = [[i]*p for i in df.index]\n",
    "flat_list1 = [item for sublist in t for item in sublist]\n",
    "t2 = [df.columns]*n\n",
    "flat_list2 = [item for sublist in t2 for item in sublist]\n",
    "arrays = [flat_list1, flat_list2]\n",
    "midx = pd.MultiIndex.from_arrays(arrays)\n",
    "\n",
    "pd.DataFrame(res2.reshape(n*p, p), index=midx, columns=df.columns)"
   ]
  },
  {
   "cell_type": "code",
   "execution_count": null,
   "id": "e6f41851-fe1b-49ed-9120-ed697a1504df",
   "metadata": {},
   "outputs": [],
   "source": [
    "res2.shape"
   ]
  },
  {
   "cell_type": "code",
   "execution_count": null,
   "id": "64ec5f34-48c8-4f68-acdb-dbf45497b922",
   "metadata": {
    "tags": []
   },
   "outputs": [],
   "source": [
    "res2"
   ]
  },
  {
   "cell_type": "code",
   "execution_count": null,
   "id": "17282f08-6c86-458c-b73e-26282a44af97",
   "metadata": {},
   "outputs": [],
   "source": [
    "df.columns = ['a','b','c']\n",
    "df.index = pd.date_range(datetime(2021,1,1), datetime(2021,1,20))"
   ]
  },
  {
   "cell_type": "code",
   "execution_count": null,
   "id": "864deff1-cf79-4aa4-878f-8047f075aa20",
   "metadata": {},
   "outputs": [],
   "source": [
    "df.rolling"
   ]
  },
  {
   "cell_type": "code",
   "execution_count": null,
   "id": "b8a545be-021d-4097-bb98-f160da99e9c0",
   "metadata": {
    "tags": []
   },
   "outputs": [],
   "source": [
    "img = np.array([[[155,  33, 129],\n",
    "        [161, 218,   6]],\n",
    "\n",
    "       [[215, 142, 235],\n",
    "        [143, 249, 164]],\n",
    "\n",
    "       [[221,  71, 229],\n",
    "        [ 56,  91, 120]],\n",
    "\n",
    "       [[236,   4, 177],\n",
    "        [171, 105,  40]]])"
   ]
  },
  {
   "cell_type": "code",
   "execution_count": null,
   "id": "7194306b-5660-40cf-af0f-acc076a23a15",
   "metadata": {},
   "outputs": [],
   "source": [
    "img.shape"
   ]
  },
  {
   "cell_type": "code",
   "execution_count": null,
   "id": "4c9a192d-0ad6-4064-b7fa-be4201c0c249",
   "metadata": {
    "tags": []
   },
   "outputs": [],
   "source": [
    "img.transpose(2,0,1).shape#.reshape(3,-1)\n"
   ]
  },
  {
   "cell_type": "code",
   "execution_count": null,
   "id": "2b1021e0-4bef-4c1d-a8fb-7b8af7f16121",
   "metadata": {
    "tags": []
   },
   "outputs": [],
   "source": [
    "array([[155, 161, 215, 143, 221,  56, 236, 171],\n",
    "       [ 33, 218, 142, 249,  71,  91,   4, 105],\n",
    "       [129,   6, 235, 164, 229, 120, 177,  40]])"
   ]
  },
  {
   "cell_type": "code",
   "execution_count": null,
   "id": "87b81d4e-a549-4fb6-b558-8e23243618f5",
   "metadata": {},
   "outputs": [],
   "source": [
    "a = np.empty((3,3,))\n",
    "a[:] = np.nan"
   ]
  },
  {
   "cell_type": "code",
   "execution_count": null,
   "id": "80353ded-a962-4e1e-b3f6-1e8305b4299d",
   "metadata": {},
   "outputs": [],
   "source": [
    "def rolling_spearman_quick(seqa, seqb, window):\n",
    "    seqa =seqa.values\n",
    "    seqb =seqb.values\n",
    "    stridea = seqa.strides[0]\n",
    "    ssa = as_strided(seqa, shape=[len(seqa) - window + 1, window], strides=[stridea, stridea])\n",
    "    strideb = seqa.strides[0]\n",
    "    ssb = as_strided(seqb, shape=[len(seqb) - window + 1, window], strides =[strideb, strideb])\n",
    "    ar = pd.DataFrame(ssa)\n",
    "    br = pd.DataFrame(ssb)\n",
    "    ar = ar.rank(1)\n",
    "    br = br.rank(1)\n",
    "    corrs = ar.corrwith(br, 1)\n",
    "    return pad(corrs, (window - 1, 0), 'constant', constant_values=np.nan)\n",
    "\n",
    "\n",
    "def rolling_rank_corr(df, window, y = None, min_periods=1):\n",
    "    if y is None:\n",
    "        n, p = df.shape\n",
    "        x = df.values\n",
    "\n",
    "        # create rolling 3d array\n",
    "        mat_3d = as_strided(x, shape=(n-window+1, window, p), strides=(x.strides[0], x.strides[0], x.strides[1]))\n",
    "\n",
    "        # apply spearman corr\n",
    "        res = np.array([libalgos.nancorr_spearman(x) for x in mat_3d])\n",
    "\n",
    "        # produce missing array\n",
    "        a = np.empty((window-1, p, p,))\n",
    "        a[:] = np.nan\n",
    "\n",
    "        # concat\n",
    "        res2 = np.concatenate((a, res))\n",
    "\n",
    "        # create index\n",
    "        t = [[i]*p for i in df.index]\n",
    "        flat_list1 = [item for sublist in t for item in sublist]\n",
    "        t2 = [df.columns]*n\n",
    "        flat_list2 = [item for sublist in t2 for item in sublist]\n",
    "        arrays = [flat_list1, flat_list2]\n",
    "        midx = pd.MultiIndex.from_arrays(arrays)\n",
    "\n",
    "        return pd.DataFrame(res2.reshape(n*p, p), index=midx, columns=df.columns)\n",
    "    else:\n",
    "        ret_dict = {}\n",
    "        for col in df.columns:\n",
    "            ret_dict[col] = rolling_spearman_quick(df[col], y, window=window)\n",
    "        return pd.DataFrame(ret_dict, index=df.index)\n",
    "    \n",
    "\n",
    "def rollingcorr(df, window, col=None, min_periods=None, method='spearman'):\n",
    "    if method =='pearson':\n",
    "        return df.rolling(window).corr(col)\n",
    "    elif method=='spearman':\n",
    "        return rolling_rank_corr(df, window, y = col, min_periods=1)\n",
    "    else:\n",
    "        raise ValueError(f\"method {method} not implemented\")\n",
    "\n",
    "pd.core.frame.DataFrame.rollingcorr=rollingcorr"
   ]
  },
  {
   "cell_type": "code",
   "execution_count": null,
   "id": "4bd98d2a-804e-43d1-b2c5-354e3bd368da",
   "metadata": {},
   "outputs": [],
   "source": [
    "df = pd.DataFrame(np.random.randn(20, 3))\n",
    "df.columns = ['a','b','c']\n",
    "df.index = pd.date_range(datetime(2021,1,1), datetime(2021,1,20))"
   ]
  },
  {
   "cell_type": "code",
   "execution_count": null,
   "id": "9aa84783-151d-4269-b618-9076397002a1",
   "metadata": {},
   "outputs": [],
   "source": [
    "df.rollingcorr?"
   ]
  },
  {
   "cell_type": "code",
   "execution_count": null,
   "id": "69ea25a1-504d-46d2-9e6c-682a763e3ed7",
   "metadata": {},
   "outputs": [],
   "source": [
    "df[feature_cols].rollingcorr(df[y])"
   ]
  },
  {
   "cell_type": "code",
   "execution_count": null,
   "id": "c5c2b4b3-4746-421b-85c1-b1ee3cd8b2a5",
   "metadata": {},
   "outputs": [],
   "source": [
    "n*p x p"
   ]
  },
  {
   "cell_type": "code",
   "execution_count": null,
   "id": "7ccb60f7-426f-4597-a49f-55d6baa8d858",
   "metadata": {
    "tags": []
   },
   "outputs": [],
   "source": [
    "df.rolling(5).corr(None)"
   ]
  },
  {
   "cell_type": "code",
   "execution_count": null,
   "id": "d97d5d19-364b-4dc7-bbe6-1248e99cfe51",
   "metadata": {},
   "outputs": [],
   "source": [
    "ret1 = df.rolling(5).corr() # nx3 by 3 "
   ]
  },
  {
   "cell_type": "code",
   "execution_count": null,
   "id": "e00af02c-d71f-4f18-a10f-e8933a99e898",
   "metadata": {
    "tags": []
   },
   "outputs": [],
   "source": [
    "ret1.reset_index().query()"
   ]
  },
  {
   "cell_type": "code",
   "execution_count": null,
   "id": "6422672d-09b2-4678-a70d-8ebfc2cd2387",
   "metadata": {},
   "outputs": [],
   "source": [
    "ret1 = df.rolling(5).corr()"
   ]
  },
  {
   "cell_type": "code",
   "execution_count": null,
   "id": "3a6837b4-aa28-4275-9c90-b43ff7eec988",
   "metadata": {
    "tags": []
   },
   "outputs": [],
   "source": [
    "df.rolling(5).corr(df['c'])"
   ]
  },
  {
   "cell_type": "code",
   "execution_count": null,
   "id": "673a318a-2bba-43b2-9540-fa2d6871bfb5",
   "metadata": {},
   "outputs": [],
   "source": []
  },
  {
   "cell_type": "code",
   "execution_count": null,
   "id": "526a5d3b-25f5-4e30-b1c2-701fc793ba8a",
   "metadata": {},
   "outputs": [],
   "source": [
    "ret_dict = {}\n",
    "for col in df.columns:\n",
    "    ret_dict[col] = rolling_spearman_quick(df[col], df['c'], window=5)"
   ]
  },
  {
   "cell_type": "code",
   "execution_count": null,
   "id": "c99c94ed-c4ea-402d-bc8b-f8d79436fb4b",
   "metadata": {},
   "outputs": [],
   "source": [
    "df.rollingcorr?"
   ]
  },
  {
   "cell_type": "code",
   "execution_count": null,
   "id": "929d323e-fa51-470c-97f6-69e0df301da4",
   "metadata": {},
   "outputs": [],
   "source": [
    "df.rollingcorr(5, col=df['c'])"
   ]
  },
  {
   "cell_type": "code",
   "execution_count": null,
   "id": "724c80a8-0b4f-48d7-b787-a2cdd87f6d81",
   "metadata": {},
   "outputs": [],
   "source": []
  }
 ],
 "metadata": {
  "kernelspec": {
   "display_name": "Python 3 (ipykernel)",
   "language": "python",
   "name": "python3"
  },
  "language_info": {
   "codemirror_mode": {
    "name": "ipython",
    "version": 3
   },
   "file_extension": ".py",
   "mimetype": "text/x-python",
   "name": "python",
   "nbconvert_exporter": "python",
   "pygments_lexer": "ipython3",
   "version": "3.8.8"
  }
 },
 "nbformat": 4,
 "nbformat_minor": 5
}
