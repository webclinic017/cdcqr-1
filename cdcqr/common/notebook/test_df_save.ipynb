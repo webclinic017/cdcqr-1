{
 "cells": [
  {
   "cell_type": "code",
   "execution_count": 1,
   "id": "9588d81c-16d1-4b67-970f-b60e47c07622",
   "metadata": {},
   "outputs": [],
   "source": [
    "import pandas as pd\n",
    "from importlib import reload\n",
    "import cdcqr.common.utils as common_utils"
   ]
  },
  {
   "cell_type": "code",
   "execution_count": 4,
   "id": "36e9d065-3bd1-4561-9610-5ab0c246fd0d",
   "metadata": {},
   "outputs": [
    {
     "data": {
      "text/plain": [
       "<module 'cdcqr.common.utils' from 'c:\\\\core\\\\github\\\\cdcqr\\\\cdcqr\\\\common\\\\utils.py'>"
      ]
     },
     "execution_count": 4,
     "metadata": {},
     "output_type": "execute_result"
    }
   ],
   "source": [
    "reload(common_utils)"
   ]
  },
  {
   "cell_type": "code",
   "execution_count": 3,
   "id": "59fd8aed-a81f-4866-b8a4-757f9f95a98d",
   "metadata": {},
   "outputs": [
    {
     "name": "stdout",
     "output_type": "stream",
     "text": [
      "saved df to C:\\core\\tmp\\ff.pickle\n"
     ]
    }
   ],
   "source": [
    "df = pd.DataFrame([1,23])\n",
    "df.save('ff')"
   ]
  },
  {
   "cell_type": "code",
   "execution_count": 25,
   "id": "005b3197-2b07-470a-aca4-df0a365190fe",
   "metadata": {},
   "outputs": [],
   "source": [
    "logging.info('an info messge')"
   ]
  },
  {
   "cell_type": "code",
   "execution_count": 24,
   "id": "50eb188b-490a-430d-82f7-34b307b83adb",
   "metadata": {},
   "outputs": [],
   "source": [
    "import logging\n",
    "LOG_FILENAME = '/core/logs/backtest.log'\n",
    "logging.basicConfig(\n",
    "    format='%(asctime)s %(levelname)-8s %(message)s',\n",
    "    level=logging.INFO,\n",
    "    datefmt='%Y-%m-%d %H:%M:%S',filename=LOG_FILENAME)"
   ]
  },
  {
   "cell_type": "code",
   "execution_count": 23,
   "id": "04f1bf11-fdd7-46c2-903b-70c43e58a2b2",
   "metadata": {},
   "outputs": [
    {
     "data": {
      "text/plain": [
       "<module 'logging' from 'C:\\\\Users\\\\Wang\\\\anaconda3\\\\lib\\\\logging\\\\__init__.py'>"
      ]
     },
     "execution_count": 23,
     "metadata": {},
     "output_type": "execute_result"
    }
   ],
   "source": [
    "from importlib import reload  # Not needed in Python 2\n",
    "import logging\n",
    "reload(logging)\n"
   ]
  },
  {
   "cell_type": "code",
   "execution_count": null,
   "id": "00c2b172-0a61-4348-a777-3d562be3db11",
   "metadata": {},
   "outputs": [],
   "source": []
  }
 ],
 "metadata": {
  "kernelspec": {
   "display_name": "Python 3 (ipykernel)",
   "language": "python",
   "name": "python3"
  },
  "language_info": {
   "codemirror_mode": {
    "name": "ipython",
    "version": 3
   },
   "file_extension": ".py",
   "mimetype": "text/x-python",
   "name": "python",
   "nbconvert_exporter": "python",
   "pygments_lexer": "ipython3",
   "version": "3.8.8"
  }
 },
 "nbformat": 4,
 "nbformat_minor": 5
}
