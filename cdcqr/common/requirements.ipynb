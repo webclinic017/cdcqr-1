{
 "cells": [
  {
   "cell_type": "code",
   "execution_count": null,
   "id": "f7de19e2-6f64-46e2-98ef-95449a36b512",
   "metadata": {},
   "outputs": [],
   "source": [
    "import pandas as pd\n",
    "from croqr.common.config import LOCAL_DATA_DIR\n",
    "import os"
   ]
  },
  {
   "cell_type": "code",
   "execution_count": null,
   "id": "3c0d98cf-fe30-4f36-a31d-0d9cd56db31a",
   "metadata": {},
   "outputs": [],
   "source": [
    "df = pd.read_csv(os.path.join(LOCAL_DATA_DIR, 'requirements.csv'))"
   ]
  },
  {
   "cell_type": "code",
   "execution_count": null,
   "id": "4246baa7-4bf4-460e-bdff-ff0fc2bd1475",
   "metadata": {},
   "outputs": [],
   "source": [
    "for row in df['0'].values:\n",
    "    lib, version = row.split()\n",
    "    "
   ]
  },
  {
   "cell_type": "code",
   "execution_count": null,
   "id": "cf787fd4-4d6b-4493-a721-050a39f2ee1d",
   "metadata": {},
   "outputs": [],
   "source": [
    "row = df['0'].iloc[1]\n",
    "lib, version = row.split()\n",
    "version.replace('\\\\t', '==')\n",
    "new_row = lib+version.replace('\\\\t', '==')\n",
    "display(new_row)"
   ]
  },
  {
   "cell_type": "code",
   "execution_count": null,
   "id": "79aaf8ed-2a16-470b-8faf-d7744470654c",
   "metadata": {},
   "outputs": [],
   "source": [
    "lib"
   ]
  },
  {
   "cell_type": "code",
   "execution_count": null,
   "id": "b4c12259-6823-47b3-8710-4c66015cd91a",
   "metadata": {},
   "outputs": [],
   "source": [
    "version"
   ]
  },
  {
   "cell_type": "code",
   "execution_count": null,
   "id": "7128616c-7ed0-43d9-a4e1-6603a85d7aaf",
   "metadata": {},
   "outputs": [],
   "source": [
    "with open(os.path.join(LOCAL_DATA_DIR, 'requirements.txt'), 'w') as f:\n",
    "    for row in df['0'].values:\n",
    "        lib, version = row.split()\n",
    "        new_row = lib+version.replace('\\\\t', '==')\n",
    "        f.write(new_row + '\\n')"
   ]
  }
 ],
 "metadata": {
  "kernelspec": {
   "display_name": "Python 3 (ipykernel)",
   "language": "python",
   "name": "python3"
  },
  "language_info": {
   "codemirror_mode": {
    "name": "ipython",
    "version": 3
   },
   "file_extension": ".py",
   "mimetype": "text/x-python",
   "name": "python",
   "nbconvert_exporter": "python",
   "pygments_lexer": "ipython3",
   "version": "3.8.8"
  }
 },
 "nbformat": 4,
 "nbformat_minor": 5
}
