{
 "cells": [
  {
   "cell_type": "code",
   "execution_count": null,
   "id": "d99e3629-0b4c-4baa-b8b4-9b4d3dc44f4a",
   "metadata": {},
   "outputs": [],
   "source": [
    "import plotly.express as px\n"
   ]
  },
  {
   "cell_type": "code",
   "execution_count": null,
   "id": "3b66bd79-51d4-4414-ab67-df88b6a0d599",
   "metadata": {},
   "outputs": [],
   "source": [
    "import plotly.express as px\n",
    "import numpy as np\n",
    "## set the seed to a random number obtained from /dev/urandom\n",
    "## or its Windows analog, \n",
    "## or if neither of those is available, it will use the clock.\n",
    "np.random.seed()\n",
    "rand_x = np.random.randint(1,100,50)\n",
    "rand_y = np.random.randint(1,100,50)\n",
    "## trendline = 'ols' allow us to draw a trendline\n",
    "fig = px.scatter(x = rand_x, y = rand_y, )\n",
    "#fig.write_image(path + \"figscat.png\")\n",
    "fig.show()"
   ]
  },
  {
   "cell_type": "code",
   "execution_count": null,
   "id": "85ecbba7-0c13-4efe-848d-0cf3a0ec6684",
   "metadata": {},
   "outputs": [],
   "source": [
    "import plotly.express as px\n",
    "df = px.data.gapminder()\n",
    "fig = px.scatter(df.query(\"year==2007\"), x=\"gdpPercap\", y=\"lifeExp\", size=\"pop\", color=\"continent\",\n",
    "           hover_name=\"country\", log_x=True, size_max=60)\n",
    "fig.show()"
   ]
  },
  {
   "cell_type": "code",
   "execution_count": null,
   "id": "75914e57-6b02-49c9-bf59-c761780ffbc0",
   "metadata": {},
   "outputs": [],
   "source": [
    "df"
   ]
  },
  {
   "cell_type": "code",
   "execution_count": null,
   "id": "fd743180-58b0-4e2d-86d6-78b4c286d05d",
   "metadata": {},
   "outputs": [],
   "source": [
    "# import some stuff\n",
    "import plotly.express as px\n",
    "from plotly.subplots import make_subplots\n",
    "import pandas as pd\n",
    "import numpy as np\n",
    "\n",
    "# create some data\n",
    "df = pd.DataFrame()\n",
    "n = 50\n",
    "df[\"Time\"] = np.arange(n)\n",
    "df[\"Linear-\"] = np.arange(n)+np.random.rand(n)\n",
    "df[\"Linear+\"] = np.arange(n)+np.random.rand(n)\n",
    "df[\"Log-\"] = np.arange(n)+np.random.rand(n)\n",
    "df[\"Log+\"] = np.arange(n)+np.random.rand(n)\n",
    "df.set_index(\"Time\", inplace=True)\n",
    "\n",
    "subfig = make_subplots(specs=[[{\"secondary_y\": True}]])\n",
    "\n",
    "# create two independent figures with px.line each containing data from multiple columns\n",
    "fig = px.line(df, y=df.filter(regex=\"Linear\").columns, render_mode=\"webgl\",)\n",
    "fig2 = px.line(df, y=df.filter(regex=\"Log\").columns, render_mode=\"webgl\",)\n",
    "\n",
    "fig2.update_traces(yaxis=\"y2\")\n",
    "\n",
    "subfig.add_traces(fig.data + fig2.data)\n",
    "subfig.layout.xaxis.title=\"Time\"\n",
    "subfig.layout.yaxis.title=\"Linear Y\"\n",
    "subfig.layout.yaxis2.type=\"log\"\n",
    "subfig.layout.yaxis2.title=\"Log Y\"\n",
    "# recoloring is necessary otherwise lines from fig und fig2 would share each color\n",
    "# e.g. Linear-, Log- = blue; Linear+, Log+ = red... we don't want this\n",
    "subfig.for_each_trace(lambda t: t.update(line=dict(color=t.marker.color)))\n",
    "subfig.show()"
   ]
  },
  {
   "cell_type": "code",
   "execution_count": null,
   "id": "6f7f6539-9e7b-4edb-b6cd-d8139bf8d3bd",
   "metadata": {},
   "outputs": [],
   "source": [
    "dfff = pd.DataFrame(\n",
    "    {\n",
    "        \"A\": [2,8,7,9,6],\n",
    "        \"B\": [\"F\", \"P\", \"P\", \"P\", \"P\"],\n",
    "        \"C\": [1,7,9,6,1],\n",
    "        \"D\": [\"F\", \"P\", \"P\", \"P\", \"F\"],\n",
    "    }\n",
    ")\n",
    "dfff"
   ]
  },
  {
   "cell_type": "code",
   "execution_count": null,
   "id": "d14843b8-be61-43fe-b3cf-caeadf2036af",
   "metadata": {},
   "outputs": [],
   "source": [
    "((dfff['B']=='F')|(dfff['D']=='F')).astype('float')"
   ]
  },
  {
   "cell_type": "code",
   "execution_count": null,
   "id": "eb61b90b-0362-42e8-b693-623ed2e03b11",
   "metadata": {},
   "outputs": [],
   "source": [
    "figg = px.scatter(dfff, x=\"A\",y=\"C\", hover_data=dfff.columns)\n",
    "figg.update_traces(\n",
    "    marker=dict(\n",
    "        color=((dfff['B']=='F')|(dfff['D']=='F')).astype('float'),\n",
    "        \n",
    "        colorscale=[[0,'blue'],[1,'red']]\n",
    "    )\n",
    ")\n",
    "figg.show()"
   ]
  }
 ],
 "metadata": {
  "kernelspec": {
   "display_name": "Python 3 (ipykernel)",
   "language": "python",
   "name": "python3"
  },
  "language_info": {
   "codemirror_mode": {
    "name": "ipython",
    "version": 3
   },
   "file_extension": ".py",
   "mimetype": "text/x-python",
   "name": "python",
   "nbconvert_exporter": "python",
   "pygments_lexer": "ipython3",
   "version": "3.8.8"
  }
 },
 "nbformat": 4,
 "nbformat_minor": 5
}
