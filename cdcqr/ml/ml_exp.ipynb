{
 "cells": [
  {
   "cell_type": "code",
   "execution_count": null,
   "id": "f1003157-2454-403b-9d8e-b0a00dfdce87",
   "metadata": {},
   "outputs": [],
   "source": [
    "from ct.mlexp1 import mlexp\n",
    "from datetime import date"
   ]
  },
  {
   "cell_type": "code",
   "execution_count": null,
   "id": "e62ae574-0ef5-4244-967f-cf29e891ead3",
   "metadata": {},
   "outputs": [],
   "source": [
    "import time\n",
    "from IPython.display import Audio\n",
    "sound_file = '/tmp/ding.wav'"
   ]
  },
  {
   "cell_type": "code",
   "execution_count": null,
   "id": "9bbeb95a-f770-4914-811a-0efc234064d9",
   "metadata": {
    "tags": []
   },
   "outputs": [],
   "source": [
    "mlexp?"
   ]
  },
  {
   "cell_type": "code",
   "execution_count": null,
   "id": "7ff993de-fc53-4c87-be1f-36a6a4aa64e5",
   "metadata": {},
   "outputs": [],
   "source": [
    "t0 = time.time()\n",
    "res=[] \n",
    "for sym in [\"ETH\"]:        \n",
    "    for periods in [10,100,1000]:\n",
    "        for qlags in [[100],[3000]]:\n",
    "            resml=mlexp(sym=sym,qsuffix='USDT@binance' if sym in ['ETH','BTC'] else 'USDT@binancealt',date=[date(2021,10,15),date(2021,10,31)],ytrain_thresh=6,ytrain_periods=100,ytest_thresh=3,ytest_periods=100,vdelay=2,ytypes=[\"ys\"],xtypes=[\"v\",\"q99\",\"q5\",\"l\"],qlags=[100,1000],request=['vbt'],models=[\"oneiflarger\",\"rf\",\"kmeans\",\"mlp\",\"dt\"],randcv_n_iter=30,sl=2,tp=6,ts=None,vbtfreq=\"10Min\") \n",
    "            res.extend(resml)\n",
    "t1 = time.time()\n",
    "print(t1-t0)\n",
    "Audio(sound_file, autoplay=True)"
   ]
  },
  {
   "cell_type": "code",
   "execution_count": null,
   "id": "f43b8644-6527-4467-b26b-b730076cf815",
   "metadata": {},
   "outputs": [],
   "source": [
    "res"
   ]
  }
 ],
 "metadata": {
  "kernelspec": {
   "display_name": "Python 3 (ipykernel)",
   "language": "python",
   "name": "python3"
  },
  "language_info": {
   "codemirror_mode": {
    "name": "ipython",
    "version": 3
   },
   "file_extension": ".py",
   "mimetype": "text/x-python",
   "name": "python",
   "nbconvert_exporter": "python",
   "pygments_lexer": "ipython3",
   "version": "3.8.8"
  }
 },
 "nbformat": 4,
 "nbformat_minor": 5
}
