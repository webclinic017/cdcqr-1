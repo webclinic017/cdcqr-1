{
 "cells": [
  {
   "cell_type": "code",
   "execution_count": null,
   "id": "f1003157-2454-403b-9d8e-b0a00dfdce87",
   "metadata": {},
   "outputs": [],
   "source": [
    "from ct.mlexp2 import mlexp2\n",
    "from datetime import date\n",
    "from cdcqr.common.utils import load_df, save, resample_pv\n",
    "from cdcqr.data.glassnode.utils import get_glassnode_data, quantile_info, url_parser\n",
    "import time\n",
    "from IPython.display import Audio\n",
    "sound_file = '/tmp/ding.wav'"
   ]
  },
  {
   "cell_type": "code",
   "execution_count": null,
   "id": "3d4dfa50-bfcf-4da0-ba30-cc4d262d9700",
   "metadata": {},
   "outputs": [],
   "source": [
    "data_sym = 'BTCUSD_PERP@binance'\n",
    "df1 = load_df(data_sym)\n",
    "df1.head()"
   ]
  },
  {
   "cell_type": "code",
   "execution_count": null,
   "id": "ef4f3bed-3351-42c7-b99f-9eb508e8dfa0",
   "metadata": {},
   "outputs": [],
   "source": [
    "category = 'transactions'\n",
    "feature_name = 'TransfersVolumeToExchangesSum'\n",
    "underly  = 'BTC'\n",
    "freq='10m'\n",
    "\n",
    "dff = get_glassnode_data(category, feature, underly, freq, start_time, API_KEY)\n"
   ]
  },
  {
   "cell_type": "code",
   "execution_count": null,
   "id": "51081792-6ad0-4ae6-8026-e74a21a7065c",
   "metadata": {},
   "outputs": [],
   "source": []
  },
  {
   "cell_type": "code",
   "execution_count": null,
   "id": "9bbeb95a-f770-4914-811a-0efc234064d9",
   "metadata": {
    "tags": []
   },
   "outputs": [],
   "source": [
    "mlexp2?"
   ]
  },
  {
   "cell_type": "code",
   "execution_count": null,
   "id": "7ff993de-fc53-4c87-be1f-36a6a4aa64e5",
   "metadata": {},
   "outputs": [],
   "source": [
    "t0 = time.time()\n",
    "res=[] \n",
    "for sym in [\"ETH\"]:        \n",
    "    for periods in [10,100,1000]:\n",
    "        for qlags in [[100],[3000]]:\n",
    "            resml=mlexp(sym=sym,qsuffix='USDT@binance' if sym in ['ETH','BTC'] else 'USDT@binancealt',date=[date(2021,10,15),date(2021,10,31)],ytrain_thresh=6,ytrain_periods=100,ytest_thresh=3,ytest_periods=100,vdelay=2,ytypes=[\"ys\"],xtypes=[\"v\",\"q99\",\"q5\",\"l\"],qlags=[100,1000],request=['vbt'],models=[\"oneiflarger\",\"rf\",\"kmeans\",\"mlp\",\"dt\"],randcv_n_iter=30,sl=2,tp=6,ts=None,vbtfreq=\"10Min\") \n",
    "            res.extend(resml)\n",
    "t1 = time.time()\n",
    "print(t1-t0)\n",
    "Audio(sound_file, autoplay=True)"
   ]
  }
 ],
 "metadata": {
  "kernelspec": {
   "display_name": "Python 3 (ipykernel)",
   "language": "python",
   "name": "python3"
  },
  "language_info": {
   "codemirror_mode": {
    "name": "ipython",
    "version": 3
   },
   "file_extension": ".py",
   "mimetype": "text/x-python",
   "name": "python",
   "nbconvert_exporter": "python",
   "pygments_lexer": "ipython3",
   "version": "3.8.8"
  }
 },
 "nbformat": 4,
 "nbformat_minor": 5
}
