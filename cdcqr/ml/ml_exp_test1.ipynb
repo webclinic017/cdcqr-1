{
 "cells": [
  {
   "cell_type": "code",
   "execution_count": null,
   "id": "f1003157-2454-403b-9d8e-b0a00dfdce87",
   "metadata": {},
   "outputs": [],
   "source": [
    "from ct.mlexp1 import mlexp\n",
    "from datetime import date"
   ]
  },
  {
   "cell_type": "code",
   "execution_count": null,
   "id": "e62ae574-0ef5-4244-967f-cf29e891ead3",
   "metadata": {},
   "outputs": [],
   "source": [
    "import time\n",
    "from IPython.display import Audio\n",
    "sound_file = '/tmp/ding.wav'"
   ]
  },
  {
   "cell_type": "code",
   "execution_count": null,
   "id": "6a1a6d4a-e35e-4d4b-9d12-8db67a91d8be",
   "metadata": {},
   "outputs": [],
   "source": [
    "from cdcqr.common.utils import load_df, save, resample_pv\n"
   ]
  },
  {
   "cell_type": "code",
   "execution_count": null,
   "id": "8480f5b9-9b74-4b08-af18-e5684fbac079",
   "metadata": {},
   "outputs": [],
   "source": [
    "data_sym = 'BTCUSD_PERP@binance'\n",
    "df1 = load_df(data_sym)\n",
    "df1.head()"
   ]
  }
 ],
 "metadata": {
  "kernelspec": {
   "display_name": "Python 3 (ipykernel)",
   "language": "python",
   "name": "python3"
  },
  "language_info": {
   "codemirror_mode": {
    "name": "ipython",
    "version": 3
   },
   "file_extension": ".py",
   "mimetype": "text/x-python",
   "name": "python",
   "nbconvert_exporter": "python",
   "pygments_lexer": "ipython3",
   "version": "3.8.8"
  }
 },
 "nbformat": 4,
 "nbformat_minor": 5
}
