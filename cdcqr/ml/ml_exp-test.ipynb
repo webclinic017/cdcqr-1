{
 "cells": [
  {
   "cell_type": "code",
   "execution_count": null,
   "id": "f1003157-2454-403b-9d8e-b0a00dfdce87",
   "metadata": {},
   "outputs": [],
   "source": [
    "import ct.mlexp2 as ml\n",
    "from importlib import reload\n",
    "from datetime import date\n",
    "from cdcqr.common.utils import load_df, save, resample_pv\n",
    "from cdcqr.data.glassnode.utils import get_glassnode_data, quantile_info, url_parser\n",
    "import time\n",
    "from IPython.display import Audio\n",
    "from cdcqr.common.config import GLASSNODE_API_KEY\n",
    "sound_file = '/tmp/ding.wav'\n",
    "import sys\n",
    "sys.path.append('/github/cryptoderiv-quant/')\n",
    "from ct.utils import glassnode"
   ]
  },
  {
   "cell_type": "code",
   "execution_count": null,
   "id": "55742f4b-9c71-4f55-8f94-267922ed7f20",
   "metadata": {},
   "outputs": [],
   "source": [
    "from sklearn.model_selection import TimeSeriesSplit, RandomizedSearchCV\n",
    "import pandas as pd\n",
    "from ct.fs import runscoring"
   ]
  },
  {
   "cell_type": "markdown",
   "id": "8fc2a07a-65df-4ae4-9fb0-b53ed311e7ce",
   "metadata": {},
   "source": [
    "### prepare data"
   ]
  },
  {
   "cell_type": "code",
   "execution_count": null,
   "id": "3d4dfa50-bfcf-4da0-ba30-cc4d262d9700",
   "metadata": {},
   "outputs": [],
   "source": [
    "data_sym = 'BTCUSD_PERP@binance'\n",
    "df1 = load_df(data_sym).resample_pv('10Min')\n",
    "df1.head()"
   ]
  },
  {
   "cell_type": "code",
   "execution_count": null,
   "id": "aa3bad67-9ecd-4262-8970-fd707d4f16da",
   "metadata": {},
   "outputs": [],
   "source": [
    "category = 'Transactions'\n",
    "feature_name ='TransfersVolumeToExchangesSum'\n",
    "\n",
    "underly = 'BTC'\n",
    "url = 'a={}&category={}&m=transactions.{}'.format(underly, category, feature_name)\n",
    "att_dict = url_parser(url)\n",
    "category = att_dict['category']\n",
    "feature = att_dict['feature']\n",
    "underly = att_dict['a']\n",
    "\n",
    "freq='10m'\n",
    "start_time = df1.index[0].isoformat()\n",
    "url1 = 'metrics~{}~{}'.format(category, feature)\n",
    "dfgsi = glassnode(url1,a=underly,i=freq,s=start_time,price=False)\n",
    "df1 = df1[df1.index<='20211031']\n",
    "dff = dfgsi.reindex(df1.index)"
   ]
  },
  {
   "cell_type": "code",
   "execution_count": null,
   "id": "4b446f2d-bf61-4d3a-8913-aae0383b9854",
   "metadata": {},
   "outputs": [],
   "source": [
    "df_feature = dff.copy()\n",
    "df0 = df1.copy()\n",
    "sym = 'BTC'\n",
    "qsuffix='USDT@binancealt'\n",
    "ytrain_thresh=6\n",
    "ytrain_periods=100\n",
    "ytest_thresh=3\n",
    "ytest_periods=100\n",
    "vdelay=2\n",
    "ytypes=[\"ys\"]\n",
    "xtypes=[\"v\"]\n",
    "qlags=1000\n",
    "request=['vbt','vbtplot','plottree','showsplit']\n",
    "#models=[\"oneiflarger\",\"dt\"]\n",
    "models=[\"oneiflarger\", 'rf']\n",
    "randcv_n_iter=30\n",
    "sl=2\n",
    "tp=6\n",
    "ts=None\n",
    "vbtfreq=\"10Min\""
   ]
  },
  {
   "cell_type": "code",
   "execution_count": null,
   "id": "6dec1bad-7a31-4560-9228-d93ff5ad050b",
   "metadata": {},
   "outputs": [],
   "source": [
    "res=[]\n",
    "    \n",
    "sym=sym                 \n",
    "t0 = time.time()\n",
    "print('adding ysbarrier')\n",
    "y=df0.addysbarrier(thresh=ytrain_thresh,periods=ytrain_periods,inplace=True,retfnames=True)[0]\n",
    "print('addysbarrier done 1/2', time.time()-t0)\n",
    "yt=df0.addysbarrier(thresh=ytest_thresh,periods=ytest_periods,inplace=True,retfnames=True)[0]\n",
    "print('addysbarrier done 2/2', time.time()-t0)\n",
    "\n",
    "\n",
    "df=df0.drop(columns=['v']).join(df_feature)\n",
    "df['vd']=df['v'].shift(vdelay)"
   ]
  },
  {
   "cell_type": "code",
   "execution_count": null,
   "id": "c6402c9d-ac65-45c7-8b60-34c33bb57851",
   "metadata": {},
   "outputs": [],
   "source": [
    "df.head()"
   ]
  },
  {
   "cell_type": "code",
   "execution_count": null,
   "id": "0b6722ab-7380-44a1-ac51-0181af26db22",
   "metadata": {},
   "outputs": [],
   "source": [
    "allxs=['vd']\n",
    "vdmed=df.vd.median()\n",
    "df['vdm']=df['vd']\n",
    "df.loc[df.vd<df.vd.median(),'vdm']=0"
   ]
  },
  {
   "cell_type": "code",
   "execution_count": null,
   "id": "42182da1-f967-47e4-9f4c-f5f205f7395f",
   "metadata": {},
   "outputs": [],
   "source": [
    "x = 'vd'\n",
    "xs=[x]\n",
    "dftrain=df.iloc[:int(0.7*len(df))].dropna()\n",
    "dftest=df.iloc[-int(0.2*len(df)):].dropna()"
   ]
  },
  {
   "cell_type": "code",
   "execution_count": null,
   "id": "b1de8d24-207e-4673-a748-be3463441e4e",
   "metadata": {},
   "outputs": [],
   "source": [
    "cv=TimeSeriesSplit(gap=100, max_train_size=len(dftrain)//2,n_splits=3, test_size=len(dftrain)//4) #1min 30 secs\n"
   ]
  },
  {
   "cell_type": "code",
   "execution_count": null,
   "id": "810e60c6-c4de-4608-8257-1eaae825a869",
   "metadata": {},
   "outputs": [],
   "source": []
  },
  {
   "cell_type": "code",
   "execution_count": null,
   "id": "b58b3f05-2193-4337-b4cf-60d0eaa1a4bb",
   "metadata": {},
   "outputs": [],
   "source": [
    "if df[y].value_counts(normalize=True).prod()<0.2:\n",
    "    print('consider using classweight')"
   ]
  },
  {
   "cell_type": "code",
   "execution_count": null,
   "id": "d3f806d4-a617-4be9-9c82-ec590456b932",
   "metadata": {},
   "outputs": [],
   "source": [
    "modelstr = 'dummy'\n",
    "modeld=ml.modelsdict[modelstr]\n",
    "model=modeld['model']\n",
    "model.set_params(**modeld['fixedparams'])\n",
    "fit_params={}#'sample_weight':sample_weight}\n",
    "\n",
    "randcv = RandomizedSearchCV(model, param_distributions=modeld['paramsd'], n_iter=randcv_n_iter, scoring='precision', n_jobs=10, cv=cv, verbose=0, random_state=1,refit=True).fit(dftrain[xs], dftrain[y],**fit_params)\n",
    "display(pd.DataFrame(randcv.cv_results_).sort_values(by='mean_test_score',ascending=False)[['mean_test_score' ,'std_test_score', 'params','split0_test_score','split1_test_score','split2_test_score']])\n",
    "model.set_params(**randcv.best_params_)\n",
    "meancvscore=randcv.best_score_\n",
    "print(model)\n",
    "resscor=runscoring(df=dftrain,y=y,yt=yt,xs=xs,model=model,nansy='.fillna(0)',nansx=None,scoring='precision',verbose=100,cv=cv,dftest=dftest,request=request,sl=sl,tp=tp,ts=ts,vbtfreq=vbtfreq)\n"
   ]
  },
  {
   "cell_type": "code",
   "execution_count": null,
   "id": "dcc00365-8c9c-40ce-990e-998783ae2ca8",
   "metadata": {},
   "outputs": [],
   "source": [
    "modelstr ='oneiflarger'\n",
    "modeld=ml.modelsdict[modelstr]\n",
    "model=modeld['model']\n",
    "model.set_params(**modeld['fixedparams'])\n",
    "fit_params={}#'sample_weight':sample_weight}\n",
    "\n",
    "randcv = RandomizedSearchCV(model, param_distributions=modeld['paramsd'], n_iter=randcv_n_iter, scoring='precision', n_jobs=10, cv=cv, verbose=0, random_state=1,refit=True).fit(dftrain[xs], dftrain[y],**fit_params)\n",
    "display(pd.DataFrame(randcv.cv_results_).sort_values(by='mean_test_score',ascending=False)[['mean_test_score' ,'std_test_score', 'params','split0_test_score','split1_test_score','split2_test_score']])\n",
    "model.set_params(**randcv.best_params_)\n",
    "meancvscore=randcv.best_score_\n",
    "print(model)\n",
    "resscor=runscoring(df=dftrain,y=y,yt=yt,xs=xs,model=model,nansy='.fillna(0)',nansx=None,scoring='precision',verbose=100,cv=cv,dftest=dftest,request=request,sl=sl,tp=tp,ts=ts,vbtfreq=vbtfreq)\n"
   ]
  },
  {
   "cell_type": "code",
   "execution_count": null,
   "id": "a479dc33-6246-495d-8921-d0e3e9d56e36",
   "metadata": {},
   "outputs": [],
   "source": [
    "modelstr ='rf'\n",
    "modeld=ml.modelsdict[modelstr]\n",
    "model=modeld['model']\n",
    "model.set_params(**modeld['fixedparams'])\n",
    "fit_params={}#'sample_weight':sample_weight}\n",
    "\n",
    "randcv = RandomizedSearchCV(model, param_distributions=modeld['paramsd'], n_iter=randcv_n_iter, scoring='precision', n_jobs=10, cv=cv, verbose=0, random_state=1,refit=True).fit(dftrain[xs], dftrain[y],**fit_params)\n",
    "display(pd.DataFrame(randcv.cv_results_).sort_values(by='mean_test_score',ascending=False)[['mean_test_score' ,'std_test_score', 'params','split0_test_score','split1_test_score','split2_test_score']])\n",
    "model.set_params(**randcv.best_params_)\n",
    "meancvscore=randcv.best_score_\n",
    "print(model)\n",
    "resscor=runscoring(df=dftrain,y=y,yt=yt,xs=xs,model=model,nansy='.fillna(0)',nansx=None,scoring='precision',verbose=100,cv=cv,dftest=dftest,request=request,sl=sl,tp=tp,ts=ts,vbtfreq=vbtfreq)\n"
   ]
  },
  {
   "cell_type": "code",
   "execution_count": null,
   "id": "3498c68a-6687-4e7e-b775-07c355ecbb31",
   "metadata": {},
   "outputs": [],
   "source": [
    "modelstr ='dt'\n",
    "modeld=ml.modelsdict[modelstr]\n",
    "model=modeld['model']\n",
    "model.set_params(**modeld['fixedparams'])\n",
    "fit_params={}#'sample_weight':sample_weight}\n",
    "\n",
    "randcv = RandomizedSearchCV(model, param_distributions=modeld['paramsd'], n_iter=randcv_n_iter, scoring='precision', n_jobs=10, cv=cv, verbose=0, random_state=1,refit=True).fit(dftrain[xs], dftrain[y],**fit_params)\n",
    "display(pd.DataFrame(randcv.cv_results_).sort_values(by='mean_test_score',ascending=False)[['mean_test_score' ,'std_test_score', 'params','split0_test_score','split1_test_score','split2_test_score']])\n",
    "model.set_params(**randcv.best_params_)\n",
    "meancvscore=randcv.best_score_\n",
    "print(model)\n",
    "resscor=runscoring(df=dftrain,y=y,yt=yt,xs=xs,model=model,nansy='.fillna(0)',nansx=None,scoring='precision',verbose=100,cv=cv,dftest=dftest,request=request,sl=sl,tp=tp,ts=ts,vbtfreq=vbtfreq)\n"
   ]
  }
 ],
 "metadata": {
  "kernelspec": {
   "display_name": "Python 3 (ipykernel)",
   "language": "python",
   "name": "python3"
  },
  "language_info": {
   "codemirror_mode": {
    "name": "ipython",
    "version": 3
   },
   "file_extension": ".py",
   "mimetype": "text/x-python",
   "name": "python",
   "nbconvert_exporter": "python",
   "pygments_lexer": "ipython3",
   "version": "3.8.8"
  }
 },
 "nbformat": 4,
 "nbformat_minor": 5
}
