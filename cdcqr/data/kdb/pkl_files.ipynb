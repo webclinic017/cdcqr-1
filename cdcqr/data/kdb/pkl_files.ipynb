{
 "cells": [
  {
   "cell_type": "code",
   "execution_count": null,
   "id": "b2b4c995-00ba-4d5c-bf7d-6fd1feb735dd",
   "metadata": {},
   "outputs": [],
   "source": [
    "import pandas as pd\n",
    "from cdcqr.common.config import LOCAL_DATA_DIR\n",
    "from cdcqr.common.utils import load_df, save, resample_pv\n",
    "from cdcqr.common.stats_utils import remove_outlier"
   ]
  },
  {
   "cell_type": "code",
   "execution_count": null,
   "id": "738951d1-e266-4578-93f8-cf1bbb4bc417",
   "metadata": {},
   "outputs": [],
   "source": [
    "a1 = 'BTCUSD_PERP@binance'"
   ]
  },
  {
   "cell_type": "code",
   "execution_count": null,
   "id": "bc8b012a-d004-4563-a89c-f68075dc3efb",
   "metadata": {},
   "outputs": [],
   "source": [
    "df1 = load_df(a1)"
   ]
  },
  {
   "cell_type": "code",
   "execution_count": null,
   "id": "dbcc5757-2df0-45b2-93a4-a95a79ac17c3",
   "metadata": {},
   "outputs": [],
   "source": [
    "for freq in ['30Min','10Min','5Min','1Min']:\n",
    "    for lbw in [10, 20, 40, 80, 120]:\n",
    "        for nstd in [1.5, 2, 2.5, 3, 3.5]:\n",
    "            "
   ]
  },
  {
   "cell_type": "code",
   "execution_count": null,
   "id": "7218e0c4-04bc-4251-8e6c-618136471361",
   "metadata": {},
   "outputs": [],
   "source": [
    "df1"
   ]
  },
  {
   "cell_type": "code",
   "execution_count": null,
   "id": "50676b7a-f23f-441f-9af0-fb85902c6e1b",
   "metadata": {},
   "outputs": [],
   "source": [
    "df1.remove_outlier({'o': [0.01,0.99]})"
   ]
  },
  {
   "cell_type": "code",
   "execution_count": null,
   "id": "522aaae4-b42e-4a21-b32e-bc8fdd6b22fa",
   "metadata": {},
   "outputs": [],
   "source": [
    "def agg_f(cols):\n",
    "    ret = {}\n",
    "    for col in cols:\n",
    "        if col in ['o','h','l','c']:\n",
    "            ret[col] = 'last'\n",
    "        elif col=='v':\n",
    "            ret[col] = 'sum'\n",
    "    return ret"
   ]
  },
  {
   "cell_type": "code",
   "execution_count": null,
   "id": "782bafe8-30dc-4caa-a2ed-64be63a95c99",
   "metadata": {},
   "outputs": [],
   "source": [
    "agg_f(df1.columns)"
   ]
  },
  {
   "cell_type": "code",
   "execution_count": null,
   "id": "cf994fba-ae2c-4f0a-8c4f-282c8bd41d5f",
   "metadata": {},
   "outputs": [],
   "source": [
    "df1_1D = df1.resample(\"1D\").agg(agg_f(df1.columns))"
   ]
  },
  {
   "cell_type": "code",
   "execution_count": null,
   "id": "b897f386-c19a-4e89-83d4-c66e50782655",
   "metadata": {},
   "outputs": [],
   "source": [
    "df1_1D['dv'] = df1_1D['c']*df1_1D['v']"
   ]
  },
  {
   "cell_type": "code",
   "execution_count": null,
   "id": "e5d9599c-19e7-4c45-b429-3e92f60764f6",
   "metadata": {},
   "outputs": [],
   "source": [
    "df1_1D['v'].plot()"
   ]
  }
 ],
 "metadata": {
  "kernelspec": {
   "display_name": "Python 3 (ipykernel)",
   "language": "python",
   "name": "python3"
  },
  "language_info": {
   "codemirror_mode": {
    "name": "ipython",
    "version": 3
   },
   "file_extension": ".py",
   "mimetype": "text/x-python",
   "name": "python",
   "nbconvert_exporter": "python",
   "pygments_lexer": "ipython3",
   "version": "3.8.8"
  }
 },
 "nbformat": 4,
 "nbformat_minor": 5
}
