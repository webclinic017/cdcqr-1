{
 "cells": [
  {
   "cell_type": "code",
   "execution_count": null,
   "id": "b7e322d5-b64b-4e01-84ed-2d37db284350",
   "metadata": {},
   "outputs": [],
   "source": [
    "import pandas as pd\n",
    "from clickhouse_driver import Client\n",
    "\n",
    "client = Client(host='localhost', port='19000', password='qr2021', user='alfabot')\n",
    "result, columns  = client.execute(\"select * from trades prewhere toYYYYMMDD(timestamp)=20211001 limit 10\", with_column_types=True)\n",
    "\n",
    "\n",
    "\n",
    "df = pandas.DataFrame(result, columns=[tuple[0] for tuple in columns])\n",
    "df.tail()"
   ]
  },
  {
   "cell_type": "code",
   "execution_count": null,
   "id": "f89096bb-1907-43da-a40e-8e3c2c6f5c04",
   "metadata": {},
   "outputs": [],
   "source": [
    "pd.DataFrame(res)"
   ]
  }
 ],
 "metadata": {
  "kernelspec": {
   "display_name": "Python 3 (ipykernel)",
   "language": "python",
   "name": "python3"
  },
  "language_info": {
   "codemirror_mode": {
    "name": "ipython",
    "version": 3
   },
   "file_extension": ".py",
   "mimetype": "text/x-python",
   "name": "python",
   "nbconvert_exporter": "python",
   "pygments_lexer": "ipython3",
   "version": "3.8.8"
  }
 },
 "nbformat": 4,
 "nbformat_minor": 5
}
