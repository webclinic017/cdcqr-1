{
 "cells": [
  {
   "cell_type": "markdown",
   "id": "5dfbdc9e-a6a5-4164-bfbc-b58ab6d16e1c",
   "metadata": {},
   "source": [
    "# Initial check for CryptoQuant data\n",
    "   * tasks\n",
    "       * classify tables \n",
    "       * classify data types\n",
    "       * build an initial data loader\n",
    "   * data structure\n",
    "       * instrument_list ['btc', 'stablecoin', 'erc20', 'eth']\n",
    "       * exchange_list = ['coinbase_pro', 'derivative_exchange', 'deribit', 'binance', 'all_exchange', 'spot_exchange']\n",
    "       * datatype (number of tales)\n",
    "           * exchange-flows (5)\n",
    "           * flow-indicator (5)\n",
    "           * Market Indicator (3)\n",
    "           * Network Indicator (5)\n",
    "           * miner-flows (3)\n",
    "           * Bank Flows (0)\n",
    "           * Inter Entity Flows (1)\n",
    "           * Fund Data (1)\n",
    "           * market data (5)\n",
    "           * network data (4)"
   ]
  },
  {
   "cell_type": "code",
   "execution_count": null,
   "id": "3dc8c4d6-d76a-4331-aa18-7ba8e59cdff8",
   "metadata": {},
   "outputs": [],
   "source": [
    "import pandas as pd\n",
    "from croqr.common.config import LOCAL_DATA_DIR, LOCAL_FIGURE_DIR\n",
    "import os\n",
    "from croqr.data.cq.config import CryptoQuantData\n",
    "from datetime import datetime\n",
    "import matplotlib.pyplot as plt\n",
    "from croqr.common.utils import timeit, save_df\n",
    "import numpy as np\n",
    "import cufflinks as cf\n",
    "cf.go_offline()\n",
    "cf.set_config_file(offline=False, world_readable=True)"
   ]
  },
  {
   "cell_type": "markdown",
   "id": "8ee5807c-894c-483c-a6de-6f0314332a86",
   "metadata": {},
   "source": [
    "### Calcualted correlation between features and returns\n",
    "   * for each feature, get the change rate of of the feature numbers\n",
    "   * calcualte corr between change on features v.s. change on close price (ret)\n",
    "   * try different time scale, sampling frequency, 1Min, 5Min\n",
    "   * try different lag\n",
    "   * rolling historical corr\n",
    " "
   ]
  },
  {
   "cell_type": "code",
   "execution_count": null,
   "id": "fa042f7c-b3de-469e-8259-8893a763fddb",
   "metadata": {},
   "outputs": [],
   "source": [
    "@timeit\n",
    "def align_feature_df(raw_feature_df, feature_list, ret_df):\n",
    "    # reverse time index\n",
    "    feature_df = raw_feature_df[::-1].reset_index()\n",
    "    \n",
    "    # get signal_time\n",
    "    feature_df['signal_time'] = feature_df['datetime'].apply(lambda x: x.ceil('min'))\n",
    "    \n",
    "    # select revelant columns\n",
    "    feature_df = feature_df[feature_list + ['signal_time']].set_index('signal_time')\n",
    "    \n",
    "    # drop duplicated index\n",
    "    feature_df = feature_df[~feature_df.index.duplicated(keep='first')]\n",
    "    \n",
    "    # align to ret dataframe\n",
    "    aligned_feature_df = feature_df.reindex(index=ret_df.index).ffill()\n",
    "    \n",
    "    return aligned_feature_df"
   ]
  },
  {
   "cell_type": "code",
   "execution_count": null,
   "id": "1ba535c8-b34c-43d1-bdfe-1055d99ce020",
   "metadata": {},
   "outputs": [],
   "source": [
    "@timeit\n",
    "def get_feature_df_corr_with_ret(df_features, feature_table_name, ret_df, look_back_window = 60*24):\n",
    "    feature_list = df_features.columns\n",
    "    df_features_chg = df_features.pct_change().ffill(0)\n",
    "    n = len(feature_list)\n",
    "    fig=plt.figure(num=1,figsize=(6,4*n))\n",
    "    \n",
    "    for i, feature in enumerate(feature_list):\n",
    "        ax1=fig.add_subplot(n, 1, i+1)\n",
    "\n",
    "        f_chg = df_features_chg[feature]\n",
    "        f_chg.rolling(look_back_window, min_periods=look_back_window//2).corr(ret_df).rolling(look_back_window*100, min_periods=look_back_window//2).mean().plot(ax=ax1)\n",
    "        f_chg.shift(10).rolling(look_back_window, min_periods=look_back_window//2).corr(ret_df).rolling(look_back_window*100, min_periods=look_back_window//2).mean().plot(ax=ax1)\n",
    "        f_chg.shift(20).rolling(look_back_window, min_periods=look_back_window//2).corr(ret_df).rolling(look_back_window*100, min_periods=look_back_window//2).mean().plot(ax=ax1)\n",
    "        f_chg.shift(30).rolling(look_back_window, min_periods=look_back_window//2).corr(ret_df).rolling(look_back_window*100, min_periods=look_back_window//2).mean().plot(ax=ax1)\n",
    "        ax1.legend(['lag=0', 'lag=10','lag=20','lag=30'])\n",
    "        ax1.title.set_text(feature)\n",
    "        ax1.get_xaxis().set_visible(False)\n",
    "        ax1.grid(True, axis='x')\n",
    "    fig.show()\n",
    "    fig.savefig(os.path.join(LOCAL_FIGURE_DIR, '{}.png'.format(feature_table_name)))    "
   ]
  },
  {
   "cell_type": "markdown",
   "id": "c9e33d8c-9a2b-412a-b7ed-ca9f038abb2f",
   "metadata": {},
   "source": [
    "### plot correlation"
   ]
  },
  {
   "cell_type": "code",
   "execution_count": null,
   "id": "82c64744-f43b-46f5-84e1-d886f0508e6e",
   "metadata": {},
   "outputs": [],
   "source": [
    "data_dict = pd.read_pickle(os.path.join(LOCAL_DATA_DIR, 'cq2.pkl'))"
   ]
  },
  {
   "cell_type": "code",
   "execution_count": null,
   "id": "308fc287-cbf8-402d-bbbf-963e508387d6",
   "metadata": {},
   "outputs": [],
   "source": [
    "all_feature_list = list(data_dict.keys())"
   ]
  },
  {
   "cell_type": "code",
   "execution_count": null,
   "id": "609364e1-6bb8-4549-b11f-0c25cfd23d12",
   "metadata": {},
   "outputs": [],
   "source": [
    "all_feature_list.remove('btc-all_exchange-market-data-price-usd')"
   ]
  },
  {
   "cell_type": "code",
   "execution_count": null,
   "id": "b69499b8-48a1-4a6a-8180-fe8b5754265e",
   "metadata": {
    "tags": []
   },
   "outputs": [],
   "source": [
    "all_feature_list"
   ]
  },
  {
   "cell_type": "code",
   "execution_count": null,
   "id": "b51a8e31-3070-4e3c-b7b0-3c0f18dfc913",
   "metadata": {},
   "outputs": [],
   "source": [
    "btc_close = data_dict['btc-all_exchange-market-data-price-usd']['price_usd_close'][::-1]\n",
    "ret_df = btc_close.pct_change()"
   ]
  },
  {
   "cell_type": "code",
   "execution_count": null,
   "id": "52fb248c-c70d-4edd-8f1c-1884af5b2584",
   "metadata": {},
   "outputs": [],
   "source": [
    "df0 = data_dict['btc-all_exchange-market-data-price-usd']\n",
    "save_df(df0, 'df0')"
   ]
  },
  {
   "cell_type": "code",
   "execution_count": null,
   "id": "36f35440-3201-49bf-8537-758edaf0980f",
   "metadata": {},
   "outputs": [],
   "source": [
    "feature_exlusion_list = ['blockheight', 'datetime']\n",
    "feature_list = [x for x in feature_table.columns if x not in feature_exlusion_list]\n",
    "display(feature_list)"
   ]
  },
  {
   "cell_type": "code",
   "execution_count": null,
   "id": "60b6b9a9-8f56-4075-a2ff-a23ca68a7e97",
   "metadata": {},
   "outputs": [],
   "source": [
    "aligned_feature_df = align_feature_df(feature_table, feature_list, ret_df)"
   ]
  },
  {
   "cell_type": "code",
   "execution_count": null,
   "id": "bc64dfb5-8553-49d5-9d98-dae380619f0f",
   "metadata": {},
   "outputs": [],
   "source": [
    "get_feature_df_corr_with_ret(aligned_feature_df, feature_table_name, ret_df)"
   ]
  },
  {
   "cell_type": "code",
   "execution_count": null,
   "id": "c884c4b7-7d70-4df8-bd1e-0ed70841b0a4",
   "metadata": {},
   "outputs": [],
   "source": [
    "log_file_name = 'cq_corr_{}.log'.format(datetime.now().strftime('%Y%m%d%H%M%S'))"
   ]
  },
  {
   "cell_type": "code",
   "execution_count": null,
   "id": "40232ee9-aa3d-4e6f-800b-3df438db35c3",
   "metadata": {},
   "outputs": [],
   "source": [
    "df_features_chg = pd.DataFrame(np.random.randint(0,100,size=(100, 4)), columns=list('ABCD')).pct_change()\n",
    "df_features_chg.head()"
   ]
  },
  {
   "cell_type": "code",
   "execution_count": null,
   "id": "68ec5e46-f012-4632-91bc-ae90482cb407",
   "metadata": {},
   "outputs": [],
   "source": [
    "n=4\n",
    "ret_df = df_features_chg.shift(1)['A']\n",
    "look_back_window = 20\n",
    "feature_list = ['A','B','C','D',]\n",
    "plt.tight_layout(pad=0.5, w_pad=2.5, h_pad=2.0)\n",
    "fig = plt.figure(figsize=(6, 4 * n))\n",
    "\n",
    "for i, feature in enumerate(feature_list):\n",
    "    ax1 = fig.add_subplot(n, 1, i + 1)\n",
    "    ax1.grid(True, axis='x')\n",
    "    f_chg = df_features_chg[feature]\n",
    "    f_chg.rolling(look_back_window).corr(ret_df).rolling(look_back_window * 100).mean().plot(\n",
    "        ax=ax1)\n",
    "    f_chg.shift(1).rolling(look_back_window).corr(ret_df).rolling(\n",
    "        look_back_window ).mean().plot(ax=ax1)\n",
    "    f_chg.shift(5).rolling(look_back_window).corr(ret_df).rolling(\n",
    "        look_back_window ).mean().plot(ax=ax1)\n",
    "    f_chg.shift(30).rolling(look_back_window).corr(ret_df).rolling(\n",
    "        look_back_window).mean().plot(ax=ax1)\n",
    "    ax1.hlines(y=0, xmin=f_chg.index.min(), xmax=f_chg.index.max(), linewidth=2, color='r', label=['0'], Linestyles='dotted')\n",
    "    ax1.legend(['lag=0', 'lag=1', 'lag=5', 'lag=30', '0'])\n",
    "    ax1.title.set_text(feature)\n",
    "    #ax1.get_xaxis().set_visible(False)"
   ]
  },
  {
   "cell_type": "code",
   "execution_count": null,
   "id": "5648845d-f917-45b4-9cb8-39555b6f2749",
   "metadata": {},
   "outputs": [],
   "source": [
    "existing_files = [x.split('.')[0] for x in os.listdir(LOCAL_FIGURE_DIR)]"
   ]
  },
  {
   "cell_type": "code",
   "execution_count": null,
   "id": "f0532678-fb3b-4e7c-a4bf-7949bb510143",
   "metadata": {},
   "outputs": [],
   "source": [
    "btc_close.iplot()"
   ]
  },
  {
   "cell_type": "code",
   "execution_count": null,
   "id": "25e94151-f088-4951-86b7-532e27829fd5",
   "metadata": {},
   "outputs": [],
   "source": [
    "ret_df"
   ]
  },
  {
   "cell_type": "code",
   "execution_count": null,
   "id": "72ba194c-1d30-45b5-9041-03ba0f04fdb7",
   "metadata": {},
   "outputs": [],
   "source": [
    "ret_df.addbb??"
   ]
  },
  {
   "cell_type": "code",
   "execution_count": null,
   "id": "125fa520-44e6-4720-918e-d3df5f5a2973",
   "metadata": {},
   "outputs": [],
   "source": [
    "from croqr.common.utils import addbb"
   ]
  },
  {
   "cell_type": "code",
   "execution_count": null,
   "id": "bb1f74f5-4f32-4678-8b16-69ec78e8d971",
   "metadata": {},
   "outputs": [],
   "source": [
    "df1 = ret_df.to_frame()"
   ]
  },
  {
   "cell_type": "code",
   "execution_count": null,
   "id": "28afb4e9-fbd7-4df4-ab08-3903ccb93034",
   "metadata": {},
   "outputs": [],
   "source": [
    "df1.pipe(addbb(df1, lags=50, methodma='ewm', methodstd='ewm', nstdh=2, nstdl=2))"
   ]
  },
  {
   "cell_type": "code",
   "execution_count": null,
   "id": "f083532c-df41-41d1-b71d-c5b0f16e56c0",
   "metadata": {},
   "outputs": [],
   "source": [
    "addbb(df1, lags=50, methodma='ewm', methodstd='ewm', nstdh=2, nstdl=2).plot()"
   ]
  },
  {
   "cell_type": "code",
   "execution_count": null,
   "id": "04828e8c-0952-41b5-b896-c5afc1ebc919",
   "metadata": {},
   "outputs": [],
   "source": [
    "df1['fff'] = ret_df"
   ]
  },
  {
   "cell_type": "code",
   "execution_count": null,
   "id": "fa0513c0-b20a-4c37-ad72-4bda3d50fba4",
   "metadata": {},
   "outputs": [],
   "source": [
    "def triangle(self,nans=True):\n",
    "    n=len(self)\n",
    "    self=self.mask(np.arange(n)[:,None] > np.arange(n),np.nan if nans else '' )\n",
    "    return self"
   ]
  },
  {
   "cell_type": "code",
   "execution_count": null,
   "id": "15ad3dc9-7819-4ebe-b921-1b2edc202d2d",
   "metadata": {},
   "outputs": [],
   "source": [
    "df2 = df1.head()"
   ]
  },
  {
   "cell_type": "code",
   "execution_count": null,
   "id": "c8d2eed7-52c6-4e5c-b0dc-7c4de2ce3007",
   "metadata": {},
   "outputs": [],
   "source": [
    "df2"
   ]
  },
  {
   "cell_type": "code",
   "execution_count": null,
   "id": "78f1bd28-85e6-4553-bc0d-bdbbef14423a",
   "metadata": {},
   "outputs": [],
   "source": [
    "triangle(df1.head())"
   ]
  },
  {
   "cell_type": "code",
   "execution_count": null,
   "id": "b119b102-765c-4574-9ea1-da01fac9ad8d",
   "metadata": {},
   "outputs": [],
   "source": [
    "n=len(df2)"
   ]
  },
  {
   "cell_type": "code",
   "execution_count": null,
   "id": "3fd07fd3-1d21-4aec-ab20-b8cda1ec9e89",
   "metadata": {},
   "outputs": [],
   "source": [
    "np.arange(n)[:,None] > np.arange(n)"
   ]
  }
 ],
 "metadata": {
  "kernelspec": {
   "display_name": "Python 3 (ipykernel)",
   "language": "python",
   "name": "python3"
  },
  "language_info": {
   "codemirror_mode": {
    "name": "ipython",
    "version": 3
   },
   "file_extension": ".py",
   "mimetype": "text/x-python",
   "name": "python",
   "nbconvert_exporter": "python",
   "pygments_lexer": "ipython3",
   "version": "3.8.8"
  }
 },
 "nbformat": 4,
 "nbformat_minor": 5
}
