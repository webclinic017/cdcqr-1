{
 "cells": [
  {
   "cell_type": "markdown",
   "id": "5dfbdc9e-a6a5-4164-bfbc-b58ab6d16e1c",
   "metadata": {},
   "source": [
    "# Initial check for CryptoQuant data\n",
    "   * tasks\n",
    "       * classify tables \n",
    "       * classify data types\n",
    "       * build an initial data loader\n",
    "   * data structure\n",
    "       * instrument_list ['btc', 'stablecoin', 'erc20', 'eth']\n",
    "       * exchange_list = ['coinbase_pro', 'derivative_exchange', 'deribit', 'binance', 'all_exchange', 'spot_exchange']\n",
    "       * datatype (number of tales)\n",
    "           * exchange-flows (5)\n",
    "           * flow-indicator (5)\n",
    "           * Market Indicator (3)\n",
    "           * Network Indicator (5)\n",
    "           * miner-flows (3)\n",
    "           * Bank Flows (0)\n",
    "           * Inter Entity Flows (1)\n",
    "           * Fund Data (1)\n",
    "           * market data (5)\n",
    "           * network data (4)"
   ]
  },
  {
   "cell_type": "code",
   "execution_count": 1,
   "id": "3dc8c4d6-d76a-4331-aa18-7ba8e59cdff8",
   "metadata": {},
   "outputs": [
    {
     "data": {
      "text/html": [
       "        <script type=\"text/javascript\">\n",
       "        window.PlotlyConfig = {MathJaxConfig: 'local'};\n",
       "        if (window.MathJax) {MathJax.Hub.Config({SVG: {font: \"STIX-Web\"}});}\n",
       "        if (typeof require !== 'undefined') {\n",
       "        require.undef(\"plotly\");\n",
       "        requirejs.config({\n",
       "            paths: {\n",
       "                'plotly': ['https://cdn.plot.ly/plotly-2.4.2.min']\n",
       "            }\n",
       "        });\n",
       "        require(['plotly'], function(Plotly) {\n",
       "            window._Plotly = Plotly;\n",
       "        });\n",
       "        }\n",
       "        </script>\n",
       "        "
      ]
     },
     "metadata": {},
     "output_type": "display_data"
    }
   ],
   "source": [
    "import pandas as pd\n",
    "from croqr.common.config import LOCAL_DATA_DIR, LOCAL_FIGURE_DIR\n",
    "import os\n",
    "from croqr.data.cq.config import CryptoQuantData\n",
    "from datetime import datetime\n",
    "import matplotlib.pyplot as plt\n",
    "from croqr.common.utils import timeit, save_df\n",
    "import numpy as np\n",
    "import cufflinks as cf\n",
    "cf.go_offline()\n",
    "cf.set_config_file(offline=False, world_readable=True)"
   ]
  },
  {
   "cell_type": "markdown",
   "id": "8ee5807c-894c-483c-a6de-6f0314332a86",
   "metadata": {},
   "source": [
    "### Calcualted correlation between features and returns\n",
    "   * for each feature, get the change rate of of the feature numbers\n",
    "   * calcualte corr between change on features v.s. change on close price (ret)\n",
    "   * try different time scale, sampling frequency, 1Min, 5Min\n",
    "   * try different lag\n",
    "   * rolling historical corr\n",
    " "
   ]
  },
  {
   "cell_type": "code",
   "execution_count": 2,
   "id": "fa042f7c-b3de-469e-8259-8893a763fddb",
   "metadata": {},
   "outputs": [],
   "source": [
    "@timeit\n",
    "def align_feature_df(raw_feature_df, feature_list, ret_df):\n",
    "    # reverse time index\n",
    "    feature_df = raw_feature_df[::-1].reset_index()\n",
    "    \n",
    "    # get signal_time\n",
    "    feature_df['signal_time'] = feature_df['datetime'].apply(lambda x: x.ceil('min'))\n",
    "    \n",
    "    # select revelant columns\n",
    "    feature_df = feature_df[feature_list + ['signal_time']].set_index('signal_time')\n",
    "    \n",
    "    # drop duplicated index\n",
    "    feature_df = feature_df[~feature_df.index.duplicated(keep='first')]\n",
    "    \n",
    "    # align to ret dataframe\n",
    "    aligned_feature_df = feature_df.reindex(index=ret_df.index).ffill()\n",
    "    \n",
    "    return aligned_feature_df"
   ]
  },
  {
   "cell_type": "code",
   "execution_count": 3,
   "id": "1ba535c8-b34c-43d1-bdfe-1055d99ce020",
   "metadata": {},
   "outputs": [],
   "source": [
    "@timeit\n",
    "def get_feature_df_corr_with_ret(df_features, feature_table_name, ret_df, look_back_window = 60*24):\n",
    "    feature_list = df_features.columns\n",
    "    df_features_chg = df_features.pct_change().ffill(0)\n",
    "    n = len(feature_list)\n",
    "    fig=plt.figure(num=1,figsize=(6,4*n))\n",
    "    \n",
    "    for i, feature in enumerate(feature_list):\n",
    "        ax1=fig.add_subplot(n, 1, i+1)\n",
    "\n",
    "        f_chg = df_features_chg[feature]\n",
    "        f_chg.rolling(look_back_window, min_periods=look_back_window//2).corr(ret_df).rolling(look_back_window*100, min_periods=look_back_window//2).mean().plot(ax=ax1)\n",
    "        f_chg.shift(10).rolling(look_back_window, min_periods=look_back_window//2).corr(ret_df).rolling(look_back_window*100, min_periods=look_back_window//2).mean().plot(ax=ax1)\n",
    "        f_chg.shift(20).rolling(look_back_window, min_periods=look_back_window//2).corr(ret_df).rolling(look_back_window*100, min_periods=look_back_window//2).mean().plot(ax=ax1)\n",
    "        f_chg.shift(30).rolling(look_back_window, min_periods=look_back_window//2).corr(ret_df).rolling(look_back_window*100, min_periods=look_back_window//2).mean().plot(ax=ax1)\n",
    "        ax1.legend(['lag=0', 'lag=10','lag=20','lag=30'])\n",
    "        ax1.title.set_text(feature)\n",
    "        ax1.get_xaxis().set_visible(False)\n",
    "        ax1.grid(True, axis='x')\n",
    "    fig.show()\n",
    "    fig.savefig(os.path.join(LOCAL_FIGURE_DIR, '{}.png'.format(feature_table_name)))    "
   ]
  },
  {
   "cell_type": "markdown",
   "id": "c9e33d8c-9a2b-412a-b7ed-ca9f038abb2f",
   "metadata": {},
   "source": [
    "### plot correlation"
   ]
  },
  {
   "cell_type": "code",
   "execution_count": 4,
   "id": "82c64744-f43b-46f5-84e1-d886f0508e6e",
   "metadata": {},
   "outputs": [],
   "source": [
    "data_dict = pd.read_pickle(os.path.join(LOCAL_DATA_DIR, 'cq2.pkl'))"
   ]
  },
  {
   "cell_type": "code",
   "execution_count": 5,
   "id": "308fc287-cbf8-402d-bbbf-963e508387d6",
   "metadata": {},
   "outputs": [],
   "source": [
    "all_feature_list = list(data_dict.keys())"
   ]
  },
  {
   "cell_type": "code",
   "execution_count": 6,
   "id": "609364e1-6bb8-4549-b11f-0c25cfd23d12",
   "metadata": {},
   "outputs": [],
   "source": [
    "all_feature_list.remove('btc-all_exchange-market-data-price-usd')"
   ]
  },
  {
   "cell_type": "code",
   "execution_count": 7,
   "id": "b69499b8-48a1-4a6a-8180-fe8b5754265e",
   "metadata": {
    "scrolled": true,
    "tags": []
   },
   "outputs": [
    {
     "data": {
      "text/plain": [
       "['btc-all_exchange-market-data-open-interest',\n",
       " 'btc-all_exchange-market-data-funding-rates',\n",
       " 'btc-all_exchange-market-data-taker-buy-sell-stats',\n",
       " 'btc-all_exchange-market-data-liquidations',\n",
       " 'btc-all_exchange-exchange-flows-netflow',\n",
       " 'btc-all_exchange-exchange-flows-reserve',\n",
       " 'btc-all_exchange-exchange-flows-inflow',\n",
       " 'btc-all_exchange-exchange-flows-outflow',\n",
       " 'btc-all_exchange-miner-flows-inflow',\n",
       " 'btc-all_exchange-miner-flows-outflow',\n",
       " 'btc-all_exchange-miner-flows-netflow',\n",
       " 'btc-all_exchange-inter-entity-flows-miner-to-exchange',\n",
       " 'btc-all_exchange-fund-data-market-premium',\n",
       " 'btc-all_exchange-network-data-fees-transaction',\n",
       " 'btc-all_exchange-network-data-difficulty',\n",
       " 'btc-all_exchange-network-data-addresses-count',\n",
       " 'btc-all_exchange-network-data-supply',\n",
       " 'btc-all_exchange-flow-indicator-mpi',\n",
       " 'btc-all_exchange-flow-indicator-exchange-shutdown-index',\n",
       " 'btc-all_exchange-flow-indicator-exchange-whale-ratio',\n",
       " 'btc-all_exchange-flow-indicator-fund-flow-ratio',\n",
       " 'btc-all_exchange-flow-indicator-stablecoins-ratio',\n",
       " 'btc-all_exchange-market-indicator-estimated-leverage-ratio',\n",
       " 'btc-all_exchange-market-indicator-stablecoin-supply-ratio',\n",
       " 'btc-all_exchange-market-indicator-mvrv',\n",
       " 'btc-all_exchange-network-indicator-stock-to-flow',\n",
       " 'btc-all_exchange-network-indicator-nvt',\n",
       " 'btc-all_exchange-network-indicator-nvt-golden-cross',\n",
       " 'btc-all_exchange-network-indicator-nvm',\n",
       " 'btc-all_exchange-network-indicator-puell-multiple',\n",
       " 'btc-binance-market-data-price-usd',\n",
       " 'btc-binance-market-data-open-interest',\n",
       " 'btc-binance-market-data-funding-rates',\n",
       " 'btc-binance-market-data-taker-buy-sell-stats',\n",
       " 'btc-binance-market-data-liquidations',\n",
       " 'btc-binance-exchange-flows-netflow',\n",
       " 'btc-binance-exchange-flows-reserve',\n",
       " 'btc-binance-exchange-flows-inflow',\n",
       " 'btc-binance-exchange-flows-outflow',\n",
       " 'btc-binance-miner-flows-inflow',\n",
       " 'btc-binance-miner-flows-outflow',\n",
       " 'btc-binance-miner-flows-netflow',\n",
       " 'btc-binance-inter-entity-flows-miner-to-exchange',\n",
       " 'btc-binance-fund-data-market-premium',\n",
       " 'btc-binance-network-data-fees-transaction',\n",
       " 'btc-binance-network-data-difficulty',\n",
       " 'btc-binance-network-data-addresses-count',\n",
       " 'btc-binance-network-data-supply',\n",
       " 'btc-binance-flow-indicator-mpi',\n",
       " 'btc-binance-flow-indicator-exchange-shutdown-index',\n",
       " 'btc-binance-flow-indicator-exchange-whale-ratio',\n",
       " 'btc-binance-flow-indicator-fund-flow-ratio',\n",
       " 'btc-binance-flow-indicator-stablecoins-ratio',\n",
       " 'btc-binance-market-indicator-estimated-leverage-ratio',\n",
       " 'btc-binance-market-indicator-stablecoin-supply-ratio',\n",
       " 'btc-binance-market-indicator-mvrv',\n",
       " 'btc-binance-network-indicator-stock-to-flow',\n",
       " 'btc-binance-network-indicator-nvt',\n",
       " 'btc-binance-network-indicator-nvt-golden-cross',\n",
       " 'btc-binance-network-indicator-nvm',\n",
       " 'btc-binance-network-indicator-puell-multiple',\n",
       " 'btc-deribit-market-data-price-usd',\n",
       " 'btc-deribit-market-data-open-interest',\n",
       " 'btc-deribit-market-data-funding-rates',\n",
       " 'btc-deribit-market-data-taker-buy-sell-stats',\n",
       " 'btc-deribit-market-data-liquidations',\n",
       " 'btc-deribit-exchange-flows-netflow',\n",
       " 'btc-deribit-exchange-flows-reserve',\n",
       " 'btc-deribit-exchange-flows-inflow',\n",
       " 'btc-deribit-exchange-flows-outflow',\n",
       " 'btc-deribit-miner-flows-inflow',\n",
       " 'btc-deribit-miner-flows-outflow',\n",
       " 'btc-deribit-miner-flows-netflow',\n",
       " 'btc-deribit-inter-entity-flows-miner-to-exchange',\n",
       " 'btc-deribit-fund-data-market-premium',\n",
       " 'btc-deribit-network-data-fees-transaction',\n",
       " 'btc-deribit-network-data-difficulty',\n",
       " 'btc-deribit-network-data-addresses-count',\n",
       " 'btc-deribit-network-data-supply',\n",
       " 'btc-deribit-flow-indicator-mpi',\n",
       " 'btc-deribit-flow-indicator-exchange-shutdown-index',\n",
       " 'btc-deribit-flow-indicator-exchange-whale-ratio',\n",
       " 'btc-deribit-flow-indicator-fund-flow-ratio',\n",
       " 'btc-deribit-flow-indicator-stablecoins-ratio',\n",
       " 'btc-deribit-market-indicator-estimated-leverage-ratio',\n",
       " 'btc-deribit-market-indicator-stablecoin-supply-ratio',\n",
       " 'btc-deribit-market-indicator-mvrv',\n",
       " 'btc-deribit-network-indicator-stock-to-flow',\n",
       " 'btc-deribit-network-indicator-nvt',\n",
       " 'btc-deribit-network-indicator-nvt-golden-cross',\n",
       " 'btc-deribit-network-indicator-nvm',\n",
       " 'btc-deribit-network-indicator-puell-multiple',\n",
       " 'btc-coinbase_pro-market-data-price-usd',\n",
       " 'btc-coinbase_pro-market-data-open-interest',\n",
       " 'btc-coinbase_pro-market-data-funding-rates',\n",
       " 'btc-coinbase_pro-market-data-taker-buy-sell-stats',\n",
       " 'btc-coinbase_pro-market-data-liquidations',\n",
       " 'btc-coinbase_pro-exchange-flows-netflow',\n",
       " 'btc-coinbase_pro-exchange-flows-reserve',\n",
       " 'btc-coinbase_pro-exchange-flows-inflow',\n",
       " 'btc-coinbase_pro-exchange-flows-outflow',\n",
       " 'btc-coinbase_pro-miner-flows-inflow',\n",
       " 'btc-coinbase_pro-miner-flows-outflow',\n",
       " 'btc-coinbase_pro-miner-flows-netflow',\n",
       " 'btc-coinbase_pro-inter-entity-flows-miner-to-exchange',\n",
       " 'btc-coinbase_pro-fund-data-market-premium',\n",
       " 'btc-coinbase_pro-network-data-fees-transaction',\n",
       " 'btc-coinbase_pro-network-data-difficulty',\n",
       " 'btc-coinbase_pro-network-data-addresses-count',\n",
       " 'btc-coinbase_pro-network-data-supply',\n",
       " 'btc-coinbase_pro-flow-indicator-mpi',\n",
       " 'btc-coinbase_pro-flow-indicator-exchange-shutdown-index',\n",
       " 'btc-coinbase_pro-flow-indicator-exchange-whale-ratio',\n",
       " 'btc-coinbase_pro-flow-indicator-fund-flow-ratio',\n",
       " 'btc-coinbase_pro-flow-indicator-stablecoins-ratio',\n",
       " 'btc-coinbase_pro-market-indicator-estimated-leverage-ratio',\n",
       " 'btc-coinbase_pro-market-indicator-stablecoin-supply-ratio',\n",
       " 'btc-coinbase_pro-market-indicator-mvrv',\n",
       " 'btc-coinbase_pro-network-indicator-stock-to-flow',\n",
       " 'btc-coinbase_pro-network-indicator-nvt',\n",
       " 'btc-coinbase_pro-network-indicator-nvt-golden-cross',\n",
       " 'btc-coinbase_pro-network-indicator-nvm',\n",
       " 'btc-coinbase_pro-network-indicator-puell-multiple',\n",
       " 'btc-spot_exchange-market-data-price-usd',\n",
       " 'btc-spot_exchange-market-data-open-interest',\n",
       " 'btc-spot_exchange-market-data-funding-rates',\n",
       " 'btc-spot_exchange-market-data-taker-buy-sell-stats',\n",
       " 'btc-spot_exchange-market-data-liquidations',\n",
       " 'btc-spot_exchange-exchange-flows-netflow',\n",
       " 'btc-spot_exchange-exchange-flows-reserve',\n",
       " 'btc-spot_exchange-exchange-flows-inflow',\n",
       " 'btc-spot_exchange-exchange-flows-outflow',\n",
       " 'btc-spot_exchange-miner-flows-inflow',\n",
       " 'btc-spot_exchange-miner-flows-outflow',\n",
       " 'btc-spot_exchange-miner-flows-netflow',\n",
       " 'btc-spot_exchange-inter-entity-flows-miner-to-exchange',\n",
       " 'btc-spot_exchange-fund-data-market-premium',\n",
       " 'btc-spot_exchange-network-data-fees-transaction',\n",
       " 'btc-spot_exchange-network-data-difficulty',\n",
       " 'btc-spot_exchange-network-data-addresses-count',\n",
       " 'btc-spot_exchange-network-data-supply',\n",
       " 'btc-spot_exchange-flow-indicator-mpi',\n",
       " 'btc-spot_exchange-flow-indicator-exchange-shutdown-index',\n",
       " 'btc-spot_exchange-flow-indicator-exchange-whale-ratio',\n",
       " 'btc-spot_exchange-flow-indicator-fund-flow-ratio',\n",
       " 'btc-spot_exchange-flow-indicator-stablecoins-ratio',\n",
       " 'btc-spot_exchange-market-indicator-estimated-leverage-ratio',\n",
       " 'btc-spot_exchange-market-indicator-stablecoin-supply-ratio',\n",
       " 'btc-spot_exchange-market-indicator-mvrv',\n",
       " 'btc-spot_exchange-network-indicator-stock-to-flow',\n",
       " 'btc-spot_exchange-network-indicator-nvt',\n",
       " 'btc-spot_exchange-network-indicator-nvt-golden-cross',\n",
       " 'btc-spot_exchange-network-indicator-nvm',\n",
       " 'btc-spot_exchange-network-indicator-puell-multiple',\n",
       " 'btc-derivative_exchange-market-data-price-usd',\n",
       " 'btc-derivative_exchange-market-data-open-interest',\n",
       " 'btc-derivative_exchange-market-data-funding-rates',\n",
       " 'btc-derivative_exchange-market-data-taker-buy-sell-stats',\n",
       " 'btc-derivative_exchange-market-data-liquidations',\n",
       " 'btc-derivative_exchange-exchange-flows-netflow',\n",
       " 'btc-derivative_exchange-exchange-flows-reserve',\n",
       " 'btc-derivative_exchange-exchange-flows-inflow',\n",
       " 'btc-derivative_exchange-exchange-flows-outflow',\n",
       " 'btc-derivative_exchange-miner-flows-inflow',\n",
       " 'btc-derivative_exchange-miner-flows-outflow',\n",
       " 'btc-derivative_exchange-miner-flows-netflow',\n",
       " 'btc-derivative_exchange-inter-entity-flows-miner-to-exchange',\n",
       " 'btc-derivative_exchange-fund-data-market-premium',\n",
       " 'btc-derivative_exchange-network-data-fees-transaction',\n",
       " 'btc-derivative_exchange-network-data-difficulty',\n",
       " 'btc-derivative_exchange-network-data-addresses-count',\n",
       " 'btc-derivative_exchange-network-data-supply',\n",
       " 'btc-derivative_exchange-flow-indicator-mpi',\n",
       " 'btc-derivative_exchange-flow-indicator-exchange-shutdown-index',\n",
       " 'btc-derivative_exchange-flow-indicator-exchange-whale-ratio',\n",
       " 'btc-derivative_exchange-flow-indicator-fund-flow-ratio',\n",
       " 'btc-derivative_exchange-flow-indicator-stablecoins-ratio',\n",
       " 'btc-derivative_exchange-market-indicator-estimated-leverage-ratio',\n",
       " 'btc-derivative_exchange-market-indicator-stablecoin-supply-ratio',\n",
       " 'btc-derivative_exchange-market-indicator-mvrv',\n",
       " 'btc-derivative_exchange-network-indicator-stock-to-flow',\n",
       " 'btc-derivative_exchange-network-indicator-nvt',\n",
       " 'btc-derivative_exchange-network-indicator-nvt-golden-cross',\n",
       " 'btc-derivative_exchange-network-indicator-nvm',\n",
       " 'btc-derivative_exchange-network-indicator-puell-multiple',\n",
       " 'stablecoin-all_exchange-exchange-flows-reserve',\n",
       " 'stablecoin-all_exchange-exchange-flows-netflow',\n",
       " 'stablecoin-all_exchange-exchange-flows-inflow',\n",
       " 'stablecoin-all_exchange-exchange-flows-outflow',\n",
       " 'stablecoin-all_exchange-exchange-flows-supply',\n",
       " 'stablecoin-binance-exchange-flows-reserve',\n",
       " 'stablecoin-binance-exchange-flows-netflow',\n",
       " 'stablecoin-binance-exchange-flows-inflow',\n",
       " 'stablecoin-binance-exchange-flows-outflow',\n",
       " 'stablecoin-binance-exchange-flows-supply',\n",
       " 'stablecoin-deribit-exchange-flows-reserve',\n",
       " 'stablecoin-deribit-exchange-flows-netflow',\n",
       " 'stablecoin-deribit-exchange-flows-inflow',\n",
       " 'stablecoin-deribit-exchange-flows-outflow',\n",
       " 'stablecoin-deribit-exchange-flows-supply',\n",
       " 'stablecoin-coinbase_pro-exchange-flows-reserve',\n",
       " 'stablecoin-coinbase_pro-exchange-flows-netflow',\n",
       " 'stablecoin-coinbase_pro-exchange-flows-inflow',\n",
       " 'stablecoin-coinbase_pro-exchange-flows-outflow',\n",
       " 'stablecoin-coinbase_pro-exchange-flows-supply',\n",
       " 'stablecoin-spot_exchange-exchange-flows-reserve',\n",
       " 'stablecoin-spot_exchange-exchange-flows-netflow',\n",
       " 'stablecoin-spot_exchange-exchange-flows-inflow',\n",
       " 'stablecoin-spot_exchange-exchange-flows-outflow',\n",
       " 'stablecoin-spot_exchange-exchange-flows-supply',\n",
       " 'stablecoin-derivative_exchange-exchange-flows-reserve',\n",
       " 'stablecoin-derivative_exchange-exchange-flows-netflow',\n",
       " 'stablecoin-derivative_exchange-exchange-flows-inflow',\n",
       " 'stablecoin-derivative_exchange-exchange-flows-outflow',\n",
       " 'stablecoin-derivative_exchange-exchange-flows-supply',\n",
       " 'eth-all_exchange-market-data-price-usd',\n",
       " 'eth-all_exchange-market-data-open-interest',\n",
       " 'eth-all_exchange-market-data-funding-rates',\n",
       " 'eth-all_exchange-market-data-taker-buy-sell-stats',\n",
       " 'eth-all_exchange-market-data-liquidations',\n",
       " 'eth-all_exchange-exchange-flows-netflow',\n",
       " 'eth-all_exchange-exchange-flows-reserve',\n",
       " 'eth-all_exchange-exchange-flows-inflow',\n",
       " 'eth-all_exchange-exchange-flows-outflow',\n",
       " 'eth-all_exchange-miner-flows-inflow',\n",
       " 'eth-all_exchange-market-indicator-estimated-leverage-ratio',\n",
       " 'eth-all_exchange-inter-entity-flows-miner-to-exchange',\n",
       " 'eth-all_exchange-network-data-fees-transaction',\n",
       " 'eth-all_exchange-network-data-difficulty',\n",
       " 'eth-all_exchange-network-data-addresses-count',\n",
       " 'eth-all_exchange-network-data-supply',\n",
       " 'eth-binance-market-data-price-usd',\n",
       " 'eth-binance-market-data-open-interest',\n",
       " 'eth-binance-market-data-funding-rates',\n",
       " 'eth-binance-market-data-taker-buy-sell-stats',\n",
       " 'eth-binance-market-data-liquidations',\n",
       " 'eth-binance-exchange-flows-netflow',\n",
       " 'eth-binance-exchange-flows-reserve',\n",
       " 'eth-binance-exchange-flows-inflow',\n",
       " 'eth-binance-exchange-flows-outflow',\n",
       " 'eth-binance-miner-flows-inflow',\n",
       " 'eth-binance-market-indicator-estimated-leverage-ratio',\n",
       " 'eth-binance-inter-entity-flows-miner-to-exchange',\n",
       " 'eth-binance-network-data-fees-transaction',\n",
       " 'eth-binance-network-data-difficulty',\n",
       " 'eth-binance-network-data-addresses-count',\n",
       " 'eth-binance-network-data-supply',\n",
       " 'eth-deribit-market-data-price-usd',\n",
       " 'eth-deribit-market-data-open-interest',\n",
       " 'eth-deribit-market-data-funding-rates',\n",
       " 'eth-deribit-market-data-taker-buy-sell-stats',\n",
       " 'eth-deribit-market-data-liquidations',\n",
       " 'eth-deribit-exchange-flows-netflow',\n",
       " 'eth-deribit-exchange-flows-reserve',\n",
       " 'eth-deribit-exchange-flows-inflow',\n",
       " 'eth-deribit-exchange-flows-outflow',\n",
       " 'eth-deribit-miner-flows-inflow',\n",
       " 'eth-deribit-market-indicator-estimated-leverage-ratio',\n",
       " 'eth-deribit-inter-entity-flows-miner-to-exchange',\n",
       " 'eth-deribit-network-data-fees-transaction',\n",
       " 'eth-deribit-network-data-difficulty',\n",
       " 'eth-deribit-network-data-addresses-count',\n",
       " 'eth-deribit-network-data-supply',\n",
       " 'eth-coinbase_pro-market-data-price-usd',\n",
       " 'eth-coinbase_pro-market-data-open-interest',\n",
       " 'eth-coinbase_pro-market-data-funding-rates',\n",
       " 'eth-coinbase_pro-market-data-taker-buy-sell-stats',\n",
       " 'eth-coinbase_pro-market-data-liquidations',\n",
       " 'eth-coinbase_pro-exchange-flows-netflow',\n",
       " 'eth-coinbase_pro-exchange-flows-reserve',\n",
       " 'eth-coinbase_pro-exchange-flows-inflow',\n",
       " 'eth-coinbase_pro-exchange-flows-outflow',\n",
       " 'eth-coinbase_pro-miner-flows-inflow',\n",
       " 'eth-coinbase_pro-market-indicator-estimated-leverage-ratio',\n",
       " 'eth-coinbase_pro-inter-entity-flows-miner-to-exchange',\n",
       " 'eth-coinbase_pro-network-data-fees-transaction',\n",
       " 'eth-coinbase_pro-network-data-difficulty',\n",
       " 'eth-coinbase_pro-network-data-addresses-count',\n",
       " 'eth-coinbase_pro-network-data-supply',\n",
       " 'eth-spot_exchange-market-data-price-usd',\n",
       " 'eth-spot_exchange-market-data-open-interest',\n",
       " 'eth-spot_exchange-market-data-funding-rates',\n",
       " 'eth-spot_exchange-market-data-taker-buy-sell-stats',\n",
       " 'eth-spot_exchange-market-data-liquidations',\n",
       " 'eth-spot_exchange-exchange-flows-netflow',\n",
       " 'eth-spot_exchange-exchange-flows-reserve',\n",
       " 'eth-spot_exchange-exchange-flows-inflow',\n",
       " 'eth-spot_exchange-exchange-flows-outflow',\n",
       " 'eth-spot_exchange-miner-flows-inflow',\n",
       " 'eth-spot_exchange-market-indicator-estimated-leverage-ratio',\n",
       " 'eth-spot_exchange-inter-entity-flows-miner-to-exchange',\n",
       " 'eth-spot_exchange-network-data-fees-transaction',\n",
       " 'eth-spot_exchange-network-data-difficulty',\n",
       " 'eth-spot_exchange-network-data-addresses-count',\n",
       " 'eth-spot_exchange-network-data-supply',\n",
       " 'eth-derivative_exchange-market-data-price-usd',\n",
       " 'eth-derivative_exchange-market-data-open-interest',\n",
       " 'eth-derivative_exchange-market-data-funding-rates',\n",
       " 'eth-derivative_exchange-market-data-taker-buy-sell-stats',\n",
       " 'eth-derivative_exchange-market-data-liquidations',\n",
       " 'eth-derivative_exchange-exchange-flows-netflow',\n",
       " 'eth-derivative_exchange-exchange-flows-reserve',\n",
       " 'eth-derivative_exchange-exchange-flows-inflow',\n",
       " 'eth-derivative_exchange-exchange-flows-outflow',\n",
       " 'eth-derivative_exchange-miner-flows-inflow',\n",
       " 'eth-derivative_exchange-market-indicator-estimated-leverage-ratio',\n",
       " 'eth-derivative_exchange-inter-entity-flows-miner-to-exchange',\n",
       " 'eth-derivative_exchange-network-data-fees-transaction',\n",
       " 'eth-derivative_exchange-network-data-difficulty',\n",
       " 'eth-derivative_exchange-network-data-addresses-count',\n",
       " 'eth-derivative_exchange-network-data-supply',\n",
       " 'erc20-all_exchange-exchange-flows-reserve',\n",
       " 'erc20-all_exchange-exchange-flows-netflow',\n",
       " 'erc20-all_exchange-exchange-flows-supply',\n",
       " 'erc20-all_exchange-market-indicator-estimated-leverage-ratio',\n",
       " 'erc20-all_exchange-network-data-addresses-count',\n",
       " 'erc20-all_exchange-network-data-supply',\n",
       " 'erc20-binance-exchange-flows-reserve',\n",
       " 'erc20-binance-exchange-flows-netflow',\n",
       " 'erc20-binance-exchange-flows-supply',\n",
       " 'erc20-binance-market-indicator-estimated-leverage-ratio',\n",
       " 'erc20-binance-network-data-addresses-count',\n",
       " 'erc20-binance-network-data-supply',\n",
       " 'erc20-deribit-exchange-flows-reserve',\n",
       " 'erc20-deribit-exchange-flows-netflow',\n",
       " 'erc20-deribit-exchange-flows-supply',\n",
       " 'erc20-deribit-market-indicator-estimated-leverage-ratio',\n",
       " 'erc20-deribit-network-data-addresses-count',\n",
       " 'erc20-deribit-network-data-supply',\n",
       " 'erc20-coinbase_pro-exchange-flows-reserve',\n",
       " 'erc20-coinbase_pro-exchange-flows-netflow',\n",
       " 'erc20-coinbase_pro-exchange-flows-supply',\n",
       " 'erc20-coinbase_pro-market-indicator-estimated-leverage-ratio',\n",
       " 'erc20-coinbase_pro-network-data-addresses-count',\n",
       " 'erc20-coinbase_pro-network-data-supply',\n",
       " 'erc20-spot_exchange-exchange-flows-reserve',\n",
       " 'erc20-spot_exchange-exchange-flows-netflow',\n",
       " 'erc20-spot_exchange-exchange-flows-supply',\n",
       " 'erc20-spot_exchange-market-indicator-estimated-leverage-ratio',\n",
       " 'erc20-spot_exchange-network-data-addresses-count',\n",
       " 'erc20-spot_exchange-network-data-supply',\n",
       " 'erc20-derivative_exchange-exchange-flows-reserve',\n",
       " 'erc20-derivative_exchange-exchange-flows-netflow',\n",
       " 'erc20-derivative_exchange-exchange-flows-supply',\n",
       " 'erc20-derivative_exchange-market-indicator-estimated-leverage-ratio',\n",
       " 'erc20-derivative_exchange-network-data-addresses-count',\n",
       " 'erc20-derivative_exchange-network-data-supply']"
      ]
     },
     "execution_count": 7,
     "metadata": {},
     "output_type": "execute_result"
    }
   ],
   "source": [
    "all_feature_list"
   ]
  },
  {
   "cell_type": "code",
   "execution_count": 9,
   "id": "b51a8e31-3070-4e3c-b7b0-3c0f18dfc913",
   "metadata": {},
   "outputs": [],
   "source": [
    "btc_close = data_dict['btc-all_exchange-market-data-price-usd']['price_usd_close'][::-1]\n",
    "ret_df = btc_close.pct_change()"
   ]
  },
  {
   "cell_type": "code",
   "execution_count": 10,
   "id": "52fb248c-c70d-4edd-8f1c-1884af5b2584",
   "metadata": {},
   "outputs": [
    {
     "name": "stdout",
     "output_type": "stream",
     "text": [
      "saved df to C:\\Users\\Wang\\Documents\\GitHub\\data\\df0.pickle\n"
     ]
    }
   ],
   "source": [
    "df0 = data_dict['btc-all_exchange-market-data-price-usd']\n",
    "save_df(df0, 'df0')"
   ]
  },
  {
   "cell_type": "code",
   "execution_count": 14,
   "id": "36f35440-3201-49bf-8537-758edaf0980f",
   "metadata": {},
   "outputs": [
    {
     "data": {
      "text/plain": [
       "['inflow_total', 'inflow_top10', 'inflow_mean']"
      ]
     },
     "metadata": {},
     "output_type": "display_data"
    }
   ],
   "source": [
    "feature_exlusion_list = ['blockheight', 'datetime']\n",
    "feature_list = [x for x in feature_table.columns if x not in feature_exlusion_list]\n",
    "display(feature_list)"
   ]
  },
  {
   "cell_type": "code",
   "execution_count": 15,
   "id": "60b6b9a9-8f56-4075-a2ff-a23ca68a7e97",
   "metadata": {},
   "outputs": [
    {
     "name": "stdout",
     "output_type": "stream",
     "text": [
      "'align_feature_df'  32.87 sec\n"
     ]
    }
   ],
   "source": [
    "aligned_feature_df = align_feature_df(feature_table, feature_list, ret_df)"
   ]
  },
  {
   "cell_type": "code",
   "execution_count": 25,
   "id": "bc64dfb5-8553-49d5-9d98-dae380619f0f",
   "metadata": {},
   "outputs": [
    {
     "name": "stderr",
     "output_type": "stream",
     "text": [
      "<ipython-input-24-fd07749d0050>:19: UserWarning: Matplotlib is currently using module://ipykernel.pylab.backend_inline, which is a non-GUI backend, so cannot show the figure.\n",
      "  fig.show()\n"
     ]
    },
    {
     "name": "stdout",
     "output_type": "stream",
     "text": [
      "'get_feature_df_corr_with_ret'  84.30 sec\n"
     ]
    },
    {
     "data": {
      "image/png": "[encoded data removed]",
      "text/plain": [
       "<Figure size 432x864 with 3 Axes>"
      ]
     },
     "metadata": {
      "needs_background": "light"
     },
     "output_type": "display_data"
    }
   ],
   "source": [
    "get_feature_df_corr_with_ret(aligned_feature_df, feature_table_name, ret_df)"
   ]
  },
  {
   "cell_type": "code",
   "execution_count": 18,
   "id": "c884c4b7-7d70-4df8-bd1e-0ed70841b0a4",
   "metadata": {},
   "outputs": [],
   "source": [
    "log_file_name = 'cq_corr_{}.log'.format(datetime.now().strftime('%Y%m%d%H%M%S'))"
   ]
  },
  {
   "cell_type": "code",
   "execution_count": 3,
   "id": "40232ee9-aa3d-4e6f-800b-3df438db35c3",
   "metadata": {},
   "outputs": [
    {
     "data": {
      "text/html": [
       "<div>\n",
       "<style scoped>\n",
       "    .dataframe tbody tr th:only-of-type {\n",
       "        vertical-align: middle;\n",
       "    }\n",
       "\n",
       "    .dataframe tbody tr th {\n",
       "        vertical-align: top;\n",
       "    }\n",
       "\n",
       "    .dataframe thead th {\n",
       "        text-align: right;\n",
       "    }\n",
       "</style>\n",
       "<table border=\"1\" class=\"dataframe\">\n",
       "  <thead>\n",
       "    <tr style=\"text-align: right;\">\n",
       "      <th></th>\n",
       "      <th>A</th>\n",
       "      <th>B</th>\n",
       "      <th>C</th>\n",
       "      <th>D</th>\n",
       "    </tr>\n",
       "  </thead>\n",
       "  <tbody>\n",
       "    <tr>\n",
       "      <th>0</th>\n",
       "      <td>NaN</td>\n",
       "      <td>NaN</td>\n",
       "      <td>NaN</td>\n",
       "      <td>NaN</td>\n",
       "    </tr>\n",
       "    <tr>\n",
       "      <th>1</th>\n",
       "      <td>-0.540984</td>\n",
       "      <td>-0.176471</td>\n",
       "      <td>7.833333</td>\n",
       "      <td>-0.092308</td>\n",
       "    </tr>\n",
       "    <tr>\n",
       "      <th>2</th>\n",
       "      <td>1.571429</td>\n",
       "      <td>0.071429</td>\n",
       "      <td>0.415094</td>\n",
       "      <td>-0.389831</td>\n",
       "    </tr>\n",
       "    <tr>\n",
       "      <th>3</th>\n",
       "      <td>-0.847222</td>\n",
       "      <td>-0.633333</td>\n",
       "      <td>-0.013333</td>\n",
       "      <td>1.333333</td>\n",
       "    </tr>\n",
       "    <tr>\n",
       "      <th>4</th>\n",
       "      <td>4.181818</td>\n",
       "      <td>7.363636</td>\n",
       "      <td>-0.540541</td>\n",
       "      <td>-0.345238</td>\n",
       "    </tr>\n",
       "  </tbody>\n",
       "</table>\n",
       "</div>"
      ],
      "text/plain": [
       "          A         B         C         D\n",
       "0       NaN       NaN       NaN       NaN\n",
       "1 -0.540984 -0.176471  7.833333 -0.092308\n",
       "2  1.571429  0.071429  0.415094 -0.389831\n",
       "3 -0.847222 -0.633333 -0.013333  1.333333\n",
       "4  4.181818  7.363636 -0.540541 -0.345238"
      ]
     },
     "execution_count": 3,
     "metadata": {},
     "output_type": "execute_result"
    }
   ],
   "source": [
    "df_features_chg = pd.DataFrame(np.random.randint(0,100,size=(100, 4)), columns=list('ABCD')).pct_change()\n",
    "df_features_chg.head()"
   ]
  },
  {
   "cell_type": "code",
   "execution_count": 13,
   "id": "68ec5e46-f012-4632-91bc-ae90482cb407",
   "metadata": {},
   "outputs": [
    {
     "name": "stderr",
     "output_type": "stream",
     "text": [
      "<ipython-input-13-eb465ebf3cc0>:20: MatplotlibDeprecationWarning: Case-insensitive properties were deprecated in 3.3 and support will be removed two minor releases later\n",
      "  ax1.hlines(y=0, xmin=f_chg.index.min(), xmax=f_chg.index.max(), linewidth=2, color='r', label=['0'], Linestyles='dotted')\n",
      "<ipython-input-13-eb465ebf3cc0>:20: MatplotlibDeprecationWarning: Case-insensitive properties were deprecated in 3.3 and support will be removed two minor releases later\n",
      "  ax1.hlines(y=0, xmin=f_chg.index.min(), xmax=f_chg.index.max(), linewidth=2, color='r', label=['0'], Linestyles='dotted')\n",
      "<ipython-input-13-eb465ebf3cc0>:20: MatplotlibDeprecationWarning: Case-insensitive properties were deprecated in 3.3 and support will be removed two minor releases later\n",
      "  ax1.hlines(y=0, xmin=f_chg.index.min(), xmax=f_chg.index.max(), linewidth=2, color='r', label=['0'], Linestyles='dotted')\n",
      "<ipython-input-13-eb465ebf3cc0>:20: MatplotlibDeprecationWarning: Case-insensitive properties were deprecated in 3.3 and support will be removed two minor releases later\n",
      "  ax1.hlines(y=0, xmin=f_chg.index.min(), xmax=f_chg.index.max(), linewidth=2, color='r', label=['0'], Linestyles='dotted')\n"
     ]
    },
    {
     "data": {
      "text/plain": [
       "<Figure size 432x288 with 0 Axes>"
      ]
     },
     "metadata": {},
     "output_type": "display_data"
    },
    {
     "data": {
      "image/png": "[encoded data removed]",
      "text/plain": [
       "<Figure size 432x1152 with 4 Axes>"
      ]
     },
     "metadata": {
      "needs_background": "light"
     },
     "output_type": "display_data"
    }
   ],
   "source": [
    "n=4\n",
    "ret_df = df_features_chg.shift(1)['A']\n",
    "look_back_window = 20\n",
    "feature_list = ['A','B','C','D',]\n",
    "plt.tight_layout(pad=0.5, w_pad=2.5, h_pad=2.0)\n",
    "fig = plt.figure(figsize=(6, 4 * n))\n",
    "\n",
    "for i, feature in enumerate(feature_list):\n",
    "    ax1 = fig.add_subplot(n, 1, i + 1)\n",
    "    ax1.grid(True, axis='x')\n",
    "    f_chg = df_features_chg[feature]\n",
    "    f_chg.rolling(look_back_window).corr(ret_df).rolling(look_back_window * 100).mean().plot(\n",
    "        ax=ax1)\n",
    "    f_chg.shift(1).rolling(look_back_window).corr(ret_df).rolling(\n",
    "        look_back_window ).mean().plot(ax=ax1)\n",
    "    f_chg.shift(5).rolling(look_back_window).corr(ret_df).rolling(\n",
    "        look_back_window ).mean().plot(ax=ax1)\n",
    "    f_chg.shift(30).rolling(look_back_window).corr(ret_df).rolling(\n",
    "        look_back_window).mean().plot(ax=ax1)\n",
    "    ax1.hlines(y=0, xmin=f_chg.index.min(), xmax=f_chg.index.max(), linewidth=2, color='r', label=['0'], Linestyles='dotted')\n",
    "    ax1.legend(['lag=0', 'lag=1', 'lag=5', 'lag=30', '0'])\n",
    "    ax1.title.set_text(feature)\n",
    "    #ax1.get_xaxis().set_visible(False)"
   ]
  },
  {
   "cell_type": "code",
   "execution_count": 4,
   "id": "5648845d-f917-45b4-9cb8-39555b6f2749",
   "metadata": {},
   "outputs": [],
   "source": [
    "existing_files = [x.split('.')[0] for x in os.listdir(LOCAL_FIGURE_DIR)]"
   ]
  },
  {
   "cell_type": "code",
   "execution_count": null,
   "id": "f0532678-fb3b-4e7c-a4bf-7949bb510143",
   "metadata": {},
   "outputs": [],
   "source": [
    "btc_close.iplot()"
   ]
  },
  {
   "cell_type": "code",
   "execution_count": 11,
   "id": "25e94151-f088-4951-86b7-532e27829fd5",
   "metadata": {},
   "outputs": [
    {
     "data": {
      "text/plain": [
       "datetime\n",
       "2016-06-14 03:05:00         NaN\n",
       "2016-06-14 03:06:00    0.000014\n",
       "2016-06-14 03:07:00   -0.000050\n",
       "2016-06-14 03:08:00    0.000007\n",
       "2016-06-14 03:09:00    0.000000\n",
       "                         ...   \n",
       "2021-05-24 15:55:00    0.001976\n",
       "2021-05-24 15:56:00    0.001909\n",
       "2021-05-24 15:57:00   -0.001723\n",
       "2021-05-24 15:58:00    0.001823\n",
       "2021-05-24 15:59:00   -0.001400\n",
       "Name: price_usd_close, Length: 2599975, dtype: float64"
      ]
     },
     "execution_count": 11,
     "metadata": {},
     "output_type": "execute_result"
    }
   ],
   "source": [
    "ret_df"
   ]
  },
  {
   "cell_type": "code",
   "execution_count": 16,
   "id": "72ba194c-1d30-45b5-9041-03ba0f04fdb7",
   "metadata": {},
   "outputs": [
    {
     "name": "stdout",
     "output_type": "stream",
     "text": [
      "Object `ret_df.addbb` not found.\n"
     ]
    }
   ],
   "source": [
    "ret_df.addbb??"
   ]
  },
  {
   "cell_type": "code",
   "execution_count": 1,
   "id": "125fa520-44e6-4720-918e-d3df5f5a2973",
   "metadata": {},
   "outputs": [],
   "source": [
    "from croqr.common.utils import addbb"
   ]
  },
  {
   "cell_type": "code",
   "execution_count": 20,
   "id": "bb1f74f5-4f32-4678-8b16-69ec78e8d971",
   "metadata": {},
   "outputs": [],
   "source": [
    "df1 = ret_df.to_frame()"
   ]
  },
  {
   "cell_type": "code",
   "execution_count": 24,
   "id": "28afb4e9-fbd7-4df4-ab08-3903ccb93034",
   "metadata": {},
   "outputs": [
    {
     "ename": "AttributeError",
     "evalue": "'Series' object has no attribute 'addma'",
     "output_type": "error",
     "traceback": [
      "\u001b[1;31m---------------------------------------------------------------------------\u001b[0m",
      "\u001b[1;31mAttributeError\u001b[0m                            Traceback (most recent call last)",
      "\u001b[1;32m~\\AppData\\Local\\Temp/ipykernel_26564/1082006712.py\u001b[0m in \u001b[0;36m<module>\u001b[1;34m\u001b[0m\n\u001b[1;32m----> 1\u001b[1;33m \u001b[0mdf1\u001b[0m\u001b[1;33m.\u001b[0m\u001b[0mpipe\u001b[0m\u001b[1;33m(\u001b[0m\u001b[0maddbb\u001b[0m\u001b[1;33m(\u001b[0m\u001b[0mdf1\u001b[0m\u001b[1;33m,\u001b[0m \u001b[0mlags\u001b[0m\u001b[1;33m=\u001b[0m\u001b[1;36m50\u001b[0m\u001b[1;33m,\u001b[0m \u001b[0mmethodma\u001b[0m\u001b[1;33m=\u001b[0m\u001b[1;34m'ewm'\u001b[0m\u001b[1;33m,\u001b[0m \u001b[0mmethodstd\u001b[0m\u001b[1;33m=\u001b[0m\u001b[1;34m'ewm'\u001b[0m\u001b[1;33m,\u001b[0m \u001b[0mnstdh\u001b[0m\u001b[1;33m=\u001b[0m\u001b[1;36m2\u001b[0m\u001b[1;33m,\u001b[0m \u001b[0mnstdl\u001b[0m\u001b[1;33m=\u001b[0m\u001b[1;36m2\u001b[0m\u001b[1;33m)\u001b[0m\u001b[1;33m)\u001b[0m\u001b[1;33m\u001b[0m\u001b[1;33m\u001b[0m\u001b[0m\n\u001b[0m",
      "\u001b[1;32mc:\\users\\wang\\documents\\github\\croqr\\croqr\\common\\utils.py\u001b[0m in \u001b[0;36maddbb\u001b[1;34m(df, lags, cols, inplace, methodma, methodstd, nstdh, nstdl, retfnames, dropna)\u001b[0m\n\u001b[0;32m     84\u001b[0m     \u001b[1;32mfor\u001b[0m \u001b[0mlag\u001b[0m \u001b[1;32min\u001b[0m \u001b[0mlags\u001b[0m\u001b[1;33m:\u001b[0m\u001b[1;33m\u001b[0m\u001b[1;33m\u001b[0m\u001b[0m\n\u001b[0;32m     85\u001b[0m         \u001b[1;32mfor\u001b[0m \u001b[0mcol\u001b[0m \u001b[1;32min\u001b[0m \u001b[0mcols\u001b[0m\u001b[1;33m:\u001b[0m\u001b[1;33m\u001b[0m\u001b[1;33m\u001b[0m\u001b[0m\n\u001b[1;32m---> 86\u001b[1;33m             \u001b[0mma\u001b[0m\u001b[1;33m=\u001b[0m\u001b[0mdf\u001b[0m\u001b[1;33m[\u001b[0m\u001b[0mcol\u001b[0m\u001b[1;33m]\u001b[0m\u001b[1;33m.\u001b[0m\u001b[0maddma\u001b[0m\u001b[1;33m(\u001b[0m\u001b[0mlag\u001b[0m\u001b[1;33m,\u001b[0m\u001b[0mmethod\u001b[0m\u001b[1;33m=\u001b[0m\u001b[0mmethodma\u001b[0m\u001b[1;33m)\u001b[0m\u001b[1;33m\u001b[0m\u001b[1;33m\u001b[0m\u001b[0m\n\u001b[0m\u001b[0;32m     87\u001b[0m             \u001b[0mstd\u001b[0m\u001b[1;33m=\u001b[0m\u001b[0mdf\u001b[0m\u001b[1;33m[\u001b[0m\u001b[0mcol\u001b[0m\u001b[1;33m]\u001b[0m\u001b[1;33m.\u001b[0m\u001b[0maddstd\u001b[0m\u001b[1;33m(\u001b[0m\u001b[0mlag\u001b[0m\u001b[1;33m,\u001b[0m\u001b[0mmethod\u001b[0m\u001b[1;33m=\u001b[0m\u001b[0mmethodstd\u001b[0m\u001b[1;33m)\u001b[0m\u001b[1;33m\u001b[0m\u001b[1;33m\u001b[0m\u001b[0m\n\u001b[0;32m     88\u001b[0m             \u001b[0mfname\u001b[0m\u001b[1;33m=\u001b[0m\u001b[1;34m'bbh.'\u001b[0m\u001b[1;33m+\u001b[0m\u001b[0mcol\u001b[0m\u001b[1;33m\u001b[0m\u001b[1;33m\u001b[0m\u001b[0m\n",
      "\u001b[1;32m~\\anaconda3\\lib\\site-packages\\pandas\\core\\generic.py\u001b[0m in \u001b[0;36m__getattr__\u001b[1;34m(self, name)\u001b[0m\n\u001b[0;32m   5485\u001b[0m         ):\n\u001b[0;32m   5486\u001b[0m             \u001b[1;32mreturn\u001b[0m \u001b[0mself\u001b[0m\u001b[1;33m[\u001b[0m\u001b[0mname\u001b[0m\u001b[1;33m]\u001b[0m\u001b[1;33m\u001b[0m\u001b[1;33m\u001b[0m\u001b[0m\n\u001b[1;32m-> 5487\u001b[1;33m         \u001b[1;32mreturn\u001b[0m \u001b[0mobject\u001b[0m\u001b[1;33m.\u001b[0m\u001b[0m__getattribute__\u001b[0m\u001b[1;33m(\u001b[0m\u001b[0mself\u001b[0m\u001b[1;33m,\u001b[0m \u001b[0mname\u001b[0m\u001b[1;33m)\u001b[0m\u001b[1;33m\u001b[0m\u001b[1;33m\u001b[0m\u001b[0m\n\u001b[0m\u001b[0;32m   5488\u001b[0m \u001b[1;33m\u001b[0m\u001b[0m\n\u001b[0;32m   5489\u001b[0m     \u001b[1;32mdef\u001b[0m \u001b[0m__setattr__\u001b[0m\u001b[1;33m(\u001b[0m\u001b[0mself\u001b[0m\u001b[1;33m,\u001b[0m \u001b[0mname\u001b[0m\u001b[1;33m:\u001b[0m \u001b[0mstr\u001b[0m\u001b[1;33m,\u001b[0m \u001b[0mvalue\u001b[0m\u001b[1;33m)\u001b[0m \u001b[1;33m->\u001b[0m \u001b[1;32mNone\u001b[0m\u001b[1;33m:\u001b[0m\u001b[1;33m\u001b[0m\u001b[1;33m\u001b[0m\u001b[0m\n",
      "\u001b[1;31mAttributeError\u001b[0m: 'Series' object has no attribute 'addma'"
     ]
    }
   ],
   "source": [
    "df1.pipe(addbb(df1, lags=50, methodma='ewm', methodstd='ewm', nstdh=2, nstdl=2))"
   ]
  },
  {
   "cell_type": "code",
   "execution_count": null,
   "id": "f083532c-df41-41d1-b71d-c5b0f16e56c0",
   "metadata": {},
   "outputs": [],
   "source": [
    "addbb(df1, lags=50, methodma='ewm', methodstd='ewm', nstdh=2, nstdl=2).plot()"
   ]
  },
  {
   "cell_type": "code",
   "execution_count": 30,
   "id": "04828e8c-0952-41b5-b896-c5afc1ebc919",
   "metadata": {},
   "outputs": [],
   "source": [
    "df1['fff'] = ret_df"
   ]
  },
  {
   "cell_type": "code",
   "execution_count": 33,
   "id": "fa0513c0-b20a-4c37-ad72-4bda3d50fba4",
   "metadata": {},
   "outputs": [],
   "source": [
    "def triangle(self,nans=True):\n",
    "    n=len(self)\n",
    "    self=self.mask(np.arange(n)[:,None] > np.arange(n),np.nan if nans else '' )\n",
    "    return self"
   ]
  },
  {
   "cell_type": "code",
   "execution_count": 38,
   "id": "15ad3dc9-7819-4ebe-b921-1b2edc202d2d",
   "metadata": {},
   "outputs": [],
   "source": [
    "df2 = df1.head()"
   ]
  },
  {
   "cell_type": "code",
   "execution_count": 39,
   "id": "c8d2eed7-52c6-4e5c-b0dc-7c4de2ce3007",
   "metadata": {},
   "outputs": [
    {
     "data": {
      "text/html": [
       "<div>\n",
       "<style scoped>\n",
       "    .dataframe tbody tr th:only-of-type {\n",
       "        vertical-align: middle;\n",
       "    }\n",
       "\n",
       "    .dataframe tbody tr th {\n",
       "        vertical-align: top;\n",
       "    }\n",
       "\n",
       "    .dataframe thead th {\n",
       "        text-align: right;\n",
       "    }\n",
       "</style>\n",
       "<table border=\"1\" class=\"dataframe\">\n",
       "  <thead>\n",
       "    <tr style=\"text-align: right;\">\n",
       "      <th></th>\n",
       "      <th>price_usd_close</th>\n",
       "      <th>fff</th>\n",
       "    </tr>\n",
       "    <tr>\n",
       "      <th>datetime</th>\n",
       "      <th></th>\n",
       "      <th></th>\n",
       "    </tr>\n",
       "  </thead>\n",
       "  <tbody>\n",
       "    <tr>\n",
       "      <th>2016-06-14 03:05:00</th>\n",
       "      <td>NaN</td>\n",
       "      <td>NaN</td>\n",
       "    </tr>\n",
       "    <tr>\n",
       "      <th>2016-06-14 03:06:00</th>\n",
       "      <td>0.000014</td>\n",
       "      <td>0.000014</td>\n",
       "    </tr>\n",
       "    <tr>\n",
       "      <th>2016-06-14 03:07:00</th>\n",
       "      <td>-0.000050</td>\n",
       "      <td>-0.000050</td>\n",
       "    </tr>\n",
       "    <tr>\n",
       "      <th>2016-06-14 03:08:00</th>\n",
       "      <td>0.000007</td>\n",
       "      <td>0.000007</td>\n",
       "    </tr>\n",
       "    <tr>\n",
       "      <th>2016-06-14 03:09:00</th>\n",
       "      <td>0.000000</td>\n",
       "      <td>0.000000</td>\n",
       "    </tr>\n",
       "  </tbody>\n",
       "</table>\n",
       "</div>"
      ],
      "text/plain": [
       "                     price_usd_close       fff\n",
       "datetime                                      \n",
       "2016-06-14 03:05:00              NaN       NaN\n",
       "2016-06-14 03:06:00         0.000014  0.000014\n",
       "2016-06-14 03:07:00        -0.000050 -0.000050\n",
       "2016-06-14 03:08:00         0.000007  0.000007\n",
       "2016-06-14 03:09:00         0.000000  0.000000"
      ]
     },
     "execution_count": 39,
     "metadata": {},
     "output_type": "execute_result"
    }
   ],
   "source": [
    "df2"
   ]
  },
  {
   "cell_type": "code",
   "execution_count": 36,
   "id": "78f1bd28-85e6-4553-bc0d-bdbbef14423a",
   "metadata": {},
   "outputs": [],
   "source": [
    "triangle(df1.head())"
   ]
  },
  {
   "cell_type": "code",
   "execution_count": 40,
   "id": "b119b102-765c-4574-9ea1-da01fac9ad8d",
   "metadata": {},
   "outputs": [],
   "source": [
    "n=len(df2)"
   ]
  },
  {
   "cell_type": "code",
   "execution_count": 41,
   "id": "3fd07fd3-1d21-4aec-ab20-b8cda1ec9e89",
   "metadata": {},
   "outputs": [
    {
     "data": {
      "text/plain": [
       "array([[False, False, False, False, False],\n",
       "       [ True, False, False, False, False],\n",
       "       [ True,  True, False, False, False],\n",
       "       [ True,  True,  True, False, False],\n",
       "       [ True,  True,  True,  True, False]])"
      ]
     },
     "execution_count": 41,
     "metadata": {},
     "output_type": "execute_result"
    }
   ],
   "source": [
    "np.arange(n)[:,None] > np.arange(n)"
   ]
  },
  {
   "cell_type": "code",
   "execution_count": null,
   "id": "39cfd3c5-f1cd-4952-9105-6290f87a8fd2",
   "metadata": {},
   "outputs": [],
   "source": []
  }
 ],
 "metadata": {
  "kernelspec": {
   "display_name": "Python 3 (ipykernel)",
   "language": "python",
   "name": "python3"
  },
  "language_info": {
   "codemirror_mode": {
    "name": "ipython",
    "version": 3
   },
   "file_extension": ".py",
   "mimetype": "text/x-python",
   "name": "python",
   "nbconvert_exporter": "python",
   "pygments_lexer": "ipython3",
   "version": "3.8.8"
  }
 },
 "nbformat": 4,
 "nbformat_minor": 5
}
