{
 "cells": [
  {
   "cell_type": "markdown",
   "id": "5dfbdc9e-a6a5-4164-bfbc-b58ab6d16e1c",
   "metadata": {},
   "source": [
    "# Initial check for CryptoQuant data\n",
    "   * tasks\n",
    "       * classify tables \n",
    "       * classify data types\n",
    "       * build an initial data loader\n",
    "   * data structure\n",
    "       * instrument_list ['btc', 'stablecoin', 'erc20', 'eth']\n",
    "       * exchange_list = ['coinbase_pro', 'derivative_exchange', 'deribit', 'binance', 'all_exchange', 'spot_exchange']\n",
    "       * datatype (number of tales)\n",
    "           * exchange-flows (5)\n",
    "           * flow-indicator (5)\n",
    "           * Market Indicator (3)\n",
    "           * Network Indicator (5)\n",
    "           * miner-flows (3)\n",
    "           * Bank Flows (0)\n",
    "           * Inter Entity Flows (1)\n",
    "           * Fund Data (1)\n",
    "           * market data (5)\n",
    "           * network data (4)"
   ]
  },
  {
   "cell_type": "code",
   "execution_count": 1,
   "id": "3dc8c4d6-d76a-4331-aa18-7ba8e59cdff8",
   "metadata": {},
   "outputs": [],
   "source": [
    "import pandas as pd\n",
    "from croqr.common.config import LOCAL_DATA_DIR\n",
    "import os\n",
    "from croqr.data.cq.config import CryptoQuantData\n",
    "from datetime import datetime\n",
    "import matplotlib.pyplot as plt\n",
    "from croqr.common.utils import timeit"
   ]
  },
  {
   "cell_type": "markdown",
   "id": "4424efaa-78f0-4213-b248-4df716c18329",
   "metadata": {},
   "source": [
    "## check pickel files "
   ]
  },
  {
   "cell_type": "code",
   "execution_count": 5,
   "id": "aae361d1-1986-470f-ac83-3a8e910919c4",
   "metadata": {},
   "outputs": [
    {
     "data": {
      "text/plain": [
       "['cq.pkl', 'cq1.pkl', 'cq2.pkl']"
      ]
     },
     "execution_count": 5,
     "metadata": {},
     "output_type": "execute_result"
    }
   ],
   "source": [
    "files = ['{}.pkl'.format(x) for x in ['cq','cq1','cq2']]\n",
    "files"
   ]
  },
  {
   "cell_type": "code",
   "execution_count": 6,
   "id": "521717b8-4c75-4bd5-930c-c41e23bd650b",
   "metadata": {},
   "outputs": [
    {
     "data": {
      "text/plain": [
       "'cq.pkl'"
      ]
     },
     "metadata": {},
     "output_type": "display_data"
    },
    {
     "data": {
      "text/plain": [
       "'------------------------------------------------------------------------'"
      ]
     },
     "metadata": {},
     "output_type": "display_data"
    },
    {
     "data": {
      "text/plain": [
       "24"
      ]
     },
     "metadata": {},
     "output_type": "display_data"
    },
    {
     "data": {
      "text/plain": [
       "24"
      ]
     },
     "metadata": {},
     "output_type": "display_data"
    },
    {
     "data": {
      "text/plain": [
       "'cq1.pkl'"
      ]
     },
     "metadata": {},
     "output_type": "display_data"
    },
    {
     "data": {
      "text/plain": [
       "'------------------------------------------------------------------------'"
      ]
     },
     "metadata": {},
     "output_type": "display_data"
    },
    {
     "data": {
      "text/plain": [
       "30"
      ]
     },
     "metadata": {},
     "output_type": "display_data"
    },
    {
     "data": {
      "text/plain": [
       "30"
      ]
     },
     "metadata": {},
     "output_type": "display_data"
    },
    {
     "data": {
      "text/plain": [
       "'cq2.pkl'"
      ]
     },
     "metadata": {},
     "output_type": "display_data"
    },
    {
     "data": {
      "text/plain": [
       "'------------------------------------------------------------------------'"
      ]
     },
     "metadata": {},
     "output_type": "display_data"
    },
    {
     "data": {
      "text/plain": [
       "348"
      ]
     },
     "metadata": {},
     "output_type": "display_data"
    },
    {
     "data": {
      "text/plain": [
       "348"
      ]
     },
     "metadata": {},
     "output_type": "display_data"
    }
   ],
   "source": [
    "features = []\n",
    "features0 = []\n",
    "features1 = []\n",
    "features2 = []\n",
    "for file in files:\n",
    "    display(file, '------------------------------------------------------------------------')\n",
    "    df = pd.read_pickle(os.path.join(LOCAL_DATA_DIR, file))\n",
    "    #display(df.keys(df.keys()))\n",
    "    features.append(list(df.keys()))\n",
    "    display(len(df.keys()))\n",
    "    display(len(set(df.keys())))"
   ]
  },
  {
   "cell_type": "code",
   "execution_count": null,
   "id": "7084888f-ff8f-4f21-801b-ae706814c6bb",
   "metadata": {},
   "outputs": [],
   "source": [
    "features[1]"
   ]
  },
  {
   "cell_type": "code",
   "execution_count": 8,
   "id": "1c0fc7a9-a9ac-4367-8347-6958121f7b19",
   "metadata": {},
   "outputs": [
    {
     "data": {
      "text/plain": [
       "['btc-all_exchange-market-data-price-usd',\n",
       " 'btc-binance-market-data-price-usd',\n",
       " 'btc-deribit-market-data-price-usd',\n",
       " 'btc-coinbase_pro-market-data-price-usd',\n",
       " 'btc-spot_exchange-market-data-price-usd',\n",
       " 'btc-derivative_exchange-market-data-price-usd']"
      ]
     },
     "execution_count": 8,
     "metadata": {},
     "output_type": "execute_result"
    }
   ],
   "source": [
    "[x for x in features[1] if x not in features[0]]"
   ]
  },
  {
   "cell_type": "markdown",
   "id": "50fc3be4-7a64-4c69-a765-952c4bb32d66",
   "metadata": {},
   "source": [
    "## check file name"
   ]
  },
  {
   "cell_type": "code",
   "execution_count": 9,
   "id": "23f6e119-a584-4b20-8941-0f4e141fed87",
   "metadata": {},
   "outputs": [],
   "source": [
    "all_features = [x for x in features[2] if x not in features[1]]"
   ]
  },
  {
   "cell_type": "code",
   "execution_count": 10,
   "id": "12d5664b-b70d-401b-aad0-a3865780df32",
   "metadata": {},
   "outputs": [],
   "source": [
    "all_features_seps = [x.split('-') for x in all_features]"
   ]
  },
  {
   "cell_type": "code",
   "execution_count": 11,
   "id": "e834677a-2938-4b64-8a11-bb095901af9e",
   "metadata": {},
   "outputs": [
    {
     "data": {
      "text/plain": [
       "['erc20', 'stablecoin', 'eth', 'btc']"
      ]
     },
     "execution_count": 11,
     "metadata": {},
     "output_type": "execute_result"
    }
   ],
   "source": [
    "instruments = list(set([x[0] for x in all_features_seps ]))\n",
    "instruments"
   ]
  },
  {
   "cell_type": "code",
   "execution_count": 12,
   "id": "4e24e87c-f82a-496f-a0b8-d17896d46775",
   "metadata": {},
   "outputs": [
    {
     "data": {
      "text/plain": [
       "['derivative_exchange',\n",
       " 'coinbase_pro',\n",
       " 'deribit',\n",
       " 'spot_exchange',\n",
       " 'binance',\n",
       " 'all_exchange']"
      ]
     },
     "execution_count": 12,
     "metadata": {},
     "output_type": "execute_result"
    }
   ],
   "source": [
    "exchanges =  list(set([x[1] for x in all_features_seps ]))\n",
    "exchanges"
   ]
  },
  {
   "cell_type": "code",
   "execution_count": 13,
   "id": "e8663d37-5030-4471-a2ff-84be5b6b76ec",
   "metadata": {},
   "outputs": [],
   "source": [
    "def find_nth(haystack, needle, n):\n",
    "    start = haystack.find(needle)\n",
    "    while start >= 0 and n > 1:\n",
    "        start = haystack.find(needle, start+len(needle))\n",
    "        n -= 1\n",
    "    return start"
   ]
  },
  {
   "cell_type": "code",
   "execution_count": 14,
   "id": "a19965cc-84a6-4143-9831-63fe9ec3e11f",
   "metadata": {},
   "outputs": [],
   "source": [
    "def get_cq_feature_name_datatype_part(feature_name):\n",
    "    pos = find_nth(feature_name, '-',2)\n",
    "    return feature_name[pos+1:]"
   ]
  },
  {
   "cell_type": "code",
   "execution_count": 15,
   "id": "a5d3a342-0c88-4308-ba0e-83410478f060",
   "metadata": {},
   "outputs": [
    {
     "data": {
      "text/plain": [
       "'market-data-price-usd'"
      ]
     },
     "execution_count": 15,
     "metadata": {},
     "output_type": "execute_result"
    }
   ],
   "source": [
    "get_cq_feature_name_datatype_part('btc-all_exchange-market-data-price-usd')"
   ]
  },
  {
   "cell_type": "code",
   "execution_count": 16,
   "id": "d8d1f251-a99c-4739-9af3-d1825dde80bc",
   "metadata": {},
   "outputs": [],
   "source": [
    "data_type_list = sorted(list(set([get_cq_feature_name_datatype_part(x) for x in all_features ])))"
   ]
  },
  {
   "cell_type": "markdown",
   "id": "8bda1d41-1e0d-4226-9e7c-8a8ec07d05d5",
   "metadata": {},
   "source": [
    "### quick check each feature/table"
   ]
  },
  {
   "cell_type": "code",
   "execution_count": 33,
   "id": "60bc89ec-0d53-4f4c-9c05-45378b6b993b",
   "metadata": {},
   "outputs": [],
   "source": [
    "data_dict = pd.read_pickle(os.path.join(LOCAL_DATA_DIR, 'cqerc20.pkl'))"
   ]
  },
  {
   "cell_type": "code",
   "execution_count": 36,
   "id": "55731617-14d7-458f-aa5e-c99f2f5aa533",
   "metadata": {},
   "outputs": [],
   "source": [
    "all_features = list(data_dict.keys())"
   ]
  },
  {
   "cell_type": "code",
   "execution_count": 23,
   "id": "e56dd9af-3073-4336-8684-6954db6b3a2d",
   "metadata": {},
   "outputs": [
    {
     "data": {
      "text/plain": [
       "'btc-all_exchange-exchange-flows-inflow'"
      ]
     },
     "metadata": {},
     "output_type": "display_data"
    },
    {
     "data": {
      "text/html": [
       "<div>\n",
       "<style scoped>\n",
       "    .dataframe tbody tr th:only-of-type {\n",
       "        vertical-align: middle;\n",
       "    }\n",
       "\n",
       "    .dataframe tbody tr th {\n",
       "        vertical-align: top;\n",
       "    }\n",
       "\n",
       "    .dataframe thead th {\n",
       "        text-align: right;\n",
       "    }\n",
       "</style>\n",
       "<table border=\"1\" class=\"dataframe\">\n",
       "  <thead>\n",
       "    <tr style=\"text-align: right;\">\n",
       "      <th></th>\n",
       "      <th>blockheight</th>\n",
       "      <th>inflow_total</th>\n",
       "      <th>inflow_top10</th>\n",
       "      <th>inflow_mean</th>\n",
       "    </tr>\n",
       "    <tr>\n",
       "      <th>datetime</th>\n",
       "      <th></th>\n",
       "      <th></th>\n",
       "      <th></th>\n",
       "      <th></th>\n",
       "    </tr>\n",
       "  </thead>\n",
       "  <tbody>\n",
       "    <tr>\n",
       "      <th>2021-05-24 15:41:37</th>\n",
       "      <td>684789</td>\n",
       "      <td>221.803528</td>\n",
       "      <td>219.965722</td>\n",
       "      <td>1.036465</td>\n",
       "    </tr>\n",
       "    <tr>\n",
       "      <th>2021-05-24 15:35:57</th>\n",
       "      <td>684788</td>\n",
       "      <td>2521.612293</td>\n",
       "      <td>1446.068342</td>\n",
       "      <td>8.433486</td>\n",
       "    </tr>\n",
       "    <tr>\n",
       "      <th>2021-05-24 15:33:00</th>\n",
       "      <td>684787</td>\n",
       "      <td>740.193787</td>\n",
       "      <td>706.067525</td>\n",
       "      <td>2.364836</td>\n",
       "    </tr>\n",
       "    <tr>\n",
       "      <th>2021-05-24 15:16:03</th>\n",
       "      <td>684786</td>\n",
       "      <td>1562.544985</td>\n",
       "      <td>1555.904355</td>\n",
       "      <td>5.024260</td>\n",
       "    </tr>\n",
       "    <tr>\n",
       "      <th>2021-05-24 14:52:58</th>\n",
       "      <td>684785</td>\n",
       "      <td>1375.947020</td>\n",
       "      <td>1358.351824</td>\n",
       "      <td>4.259898</td>\n",
       "    </tr>\n",
       "  </tbody>\n",
       "</table>\n",
       "</div>"
      ],
      "text/plain": [
       "                     blockheight  inflow_total  inflow_top10  inflow_mean\n",
       "datetime                                                                 \n",
       "2021-05-24 15:41:37       684789    221.803528    219.965722     1.036465\n",
       "2021-05-24 15:35:57       684788   2521.612293   1446.068342     8.433486\n",
       "2021-05-24 15:33:00       684787    740.193787    706.067525     2.364836\n",
       "2021-05-24 15:16:03       684786   1562.544985   1555.904355     5.024260\n",
       "2021-05-24 14:52:58       684785   1375.947020   1358.351824     4.259898"
      ]
     },
     "metadata": {},
     "output_type": "display_data"
    },
    {
     "data": {
      "text/plain": [
       "'stablecoin-all_exchange-exchange-flows-netflow'"
      ]
     },
     "metadata": {},
     "output_type": "display_data"
    },
    {
     "data": {
      "text/html": [
       "<div>\n",
       "<style scoped>\n",
       "    .dataframe tbody tr th:only-of-type {\n",
       "        vertical-align: middle;\n",
       "    }\n",
       "\n",
       "    .dataframe tbody tr th {\n",
       "        vertical-align: top;\n",
       "    }\n",
       "\n",
       "    .dataframe thead th {\n",
       "        text-align: right;\n",
       "    }\n",
       "</style>\n",
       "<table border=\"1\" class=\"dataframe\">\n",
       "  <thead>\n",
       "    <tr style=\"text-align: right;\">\n",
       "      <th></th>\n",
       "      <th>blockheight</th>\n",
       "      <th>netflow_total</th>\n",
       "    </tr>\n",
       "    <tr>\n",
       "      <th>datetime</th>\n",
       "      <th></th>\n",
       "      <th></th>\n",
       "    </tr>\n",
       "  </thead>\n",
       "  <tbody>\n",
       "    <tr>\n",
       "      <th>2021-05-24 17:27:41</th>\n",
       "      <td>12498392</td>\n",
       "      <td>-100094.100000</td>\n",
       "    </tr>\n",
       "    <tr>\n",
       "      <th>2021-05-24 17:27:35</th>\n",
       "      <td>12498391</td>\n",
       "      <td>0.000000</td>\n",
       "    </tr>\n",
       "    <tr>\n",
       "      <th>2021-05-24 17:27:34</th>\n",
       "      <td>12498390</td>\n",
       "      <td>392149.379552</td>\n",
       "    </tr>\n",
       "    <tr>\n",
       "      <th>2021-05-24 17:27:29</th>\n",
       "      <td>12498389</td>\n",
       "      <td>-36973.154500</td>\n",
       "    </tr>\n",
       "    <tr>\n",
       "      <th>2021-05-24 17:27:14</th>\n",
       "      <td>12498388</td>\n",
       "      <td>26029.891778</td>\n",
       "    </tr>\n",
       "  </tbody>\n",
       "</table>\n",
       "</div>"
      ],
      "text/plain": [
       "                     blockheight  netflow_total\n",
       "datetime                                       \n",
       "2021-05-24 17:27:41     12498392 -100094.100000\n",
       "2021-05-24 17:27:35     12498391       0.000000\n",
       "2021-05-24 17:27:34     12498390  392149.379552\n",
       "2021-05-24 17:27:29     12498389  -36973.154500\n",
       "2021-05-24 17:27:14     12498388   26029.891778"
      ]
     },
     "metadata": {},
     "output_type": "display_data"
    },
    {
     "data": {
      "text/plain": [
       "'btc-all_exchange-exchange-flows-outflow'"
      ]
     },
     "metadata": {},
     "output_type": "display_data"
    },
    {
     "data": {
      "text/html": [
       "<div>\n",
       "<style scoped>\n",
       "    .dataframe tbody tr th:only-of-type {\n",
       "        vertical-align: middle;\n",
       "    }\n",
       "\n",
       "    .dataframe tbody tr th {\n",
       "        vertical-align: top;\n",
       "    }\n",
       "\n",
       "    .dataframe thead th {\n",
       "        text-align: right;\n",
       "    }\n",
       "</style>\n",
       "<table border=\"1\" class=\"dataframe\">\n",
       "  <thead>\n",
       "    <tr style=\"text-align: right;\">\n",
       "      <th></th>\n",
       "      <th>blockheight</th>\n",
       "      <th>outflow_total</th>\n",
       "      <th>outflow_top10</th>\n",
       "      <th>outflow_mean</th>\n",
       "    </tr>\n",
       "    <tr>\n",
       "      <th>datetime</th>\n",
       "      <th></th>\n",
       "      <th></th>\n",
       "      <th></th>\n",
       "      <th></th>\n",
       "    </tr>\n",
       "  </thead>\n",
       "  <tbody>\n",
       "    <tr>\n",
       "      <th>2021-05-24 15:41:37</th>\n",
       "      <td>684789</td>\n",
       "      <td>448.141300</td>\n",
       "      <td>448.141300</td>\n",
       "      <td>19.484404</td>\n",
       "    </tr>\n",
       "    <tr>\n",
       "      <th>2021-05-24 15:35:57</th>\n",
       "      <td>684788</td>\n",
       "      <td>699.902615</td>\n",
       "      <td>699.902615</td>\n",
       "      <td>29.162609</td>\n",
       "    </tr>\n",
       "    <tr>\n",
       "      <th>2021-05-24 15:33:00</th>\n",
       "      <td>684787</td>\n",
       "      <td>1780.581457</td>\n",
       "      <td>1780.574313</td>\n",
       "      <td>30.179347</td>\n",
       "    </tr>\n",
       "    <tr>\n",
       "      <th>2021-05-24 15:16:03</th>\n",
       "      <td>684786</td>\n",
       "      <td>1431.967258</td>\n",
       "      <td>1431.967258</td>\n",
       "      <td>21.058342</td>\n",
       "    </tr>\n",
       "    <tr>\n",
       "      <th>2021-05-24 14:52:58</th>\n",
       "      <td>684785</td>\n",
       "      <td>1658.455627</td>\n",
       "      <td>1656.084065</td>\n",
       "      <td>17.832856</td>\n",
       "    </tr>\n",
       "  </tbody>\n",
       "</table>\n",
       "</div>"
      ],
      "text/plain": [
       "                     blockheight  outflow_total  outflow_top10  outflow_mean\n",
       "datetime                                                                    \n",
       "2021-05-24 15:41:37       684789     448.141300     448.141300     19.484404\n",
       "2021-05-24 15:35:57       684788     699.902615     699.902615     29.162609\n",
       "2021-05-24 15:33:00       684787    1780.581457    1780.574313     30.179347\n",
       "2021-05-24 15:16:03       684786    1431.967258    1431.967258     21.058342\n",
       "2021-05-24 14:52:58       684785    1658.455627    1656.084065     17.832856"
      ]
     },
     "metadata": {},
     "output_type": "display_data"
    },
    {
     "data": {
      "text/plain": [
       "'stablecoin-all_exchange-exchange-flows-reserve'"
      ]
     },
     "metadata": {},
     "output_type": "display_data"
    },
    {
     "data": {
      "text/html": [
       "<div>\n",
       "<style scoped>\n",
       "    .dataframe tbody tr th:only-of-type {\n",
       "        vertical-align: middle;\n",
       "    }\n",
       "\n",
       "    .dataframe tbody tr th {\n",
       "        vertical-align: top;\n",
       "    }\n",
       "\n",
       "    .dataframe thead th {\n",
       "        text-align: right;\n",
       "    }\n",
       "</style>\n",
       "<table border=\"1\" class=\"dataframe\">\n",
       "  <thead>\n",
       "    <tr style=\"text-align: right;\">\n",
       "      <th></th>\n",
       "      <th>blockheight</th>\n",
       "      <th>reserve</th>\n",
       "    </tr>\n",
       "    <tr>\n",
       "      <th>datetime</th>\n",
       "      <th></th>\n",
       "      <th></th>\n",
       "    </tr>\n",
       "  </thead>\n",
       "  <tbody>\n",
       "    <tr>\n",
       "      <th>2021-05-24 17:18:11</th>\n",
       "      <td>12498354</td>\n",
       "      <td>1.234332e+10</td>\n",
       "    </tr>\n",
       "    <tr>\n",
       "      <th>2021-05-24 17:18:06</th>\n",
       "      <td>12498353</td>\n",
       "      <td>1.234258e+10</td>\n",
       "    </tr>\n",
       "    <tr>\n",
       "      <th>2021-05-24 17:18:02</th>\n",
       "      <td>12498352</td>\n",
       "      <td>1.234258e+10</td>\n",
       "    </tr>\n",
       "    <tr>\n",
       "      <th>2021-05-24 17:18:00</th>\n",
       "      <td>12498351</td>\n",
       "      <td>1.234258e+10</td>\n",
       "    </tr>\n",
       "    <tr>\n",
       "      <th>2021-05-24 17:17:58</th>\n",
       "      <td>12498350</td>\n",
       "      <td>1.234272e+10</td>\n",
       "    </tr>\n",
       "  </tbody>\n",
       "</table>\n",
       "</div>"
      ],
      "text/plain": [
       "                     blockheight       reserve\n",
       "datetime                                      \n",
       "2021-05-24 17:18:11     12498354  1.234332e+10\n",
       "2021-05-24 17:18:06     12498353  1.234258e+10\n",
       "2021-05-24 17:18:02     12498352  1.234258e+10\n",
       "2021-05-24 17:18:00     12498351  1.234258e+10\n",
       "2021-05-24 17:17:58     12498350  1.234272e+10"
      ]
     },
     "metadata": {},
     "output_type": "display_data"
    },
    {
     "data": {
      "text/plain": [
       "'stablecoin-all_exchange-exchange-flows-supply'"
      ]
     },
     "metadata": {},
     "output_type": "display_data"
    },
    {
     "data": {
      "text/html": [
       "<div>\n",
       "<style scoped>\n",
       "    .dataframe tbody tr th:only-of-type {\n",
       "        vertical-align: middle;\n",
       "    }\n",
       "\n",
       "    .dataframe tbody tr th {\n",
       "        vertical-align: top;\n",
       "    }\n",
       "\n",
       "    .dataframe thead th {\n",
       "        text-align: right;\n",
       "    }\n",
       "</style>\n",
       "<table border=\"1\" class=\"dataframe\">\n",
       "  <thead>\n",
       "    <tr style=\"text-align: right;\">\n",
       "      <th></th>\n",
       "    </tr>\n",
       "  </thead>\n",
       "  <tbody>\n",
       "  </tbody>\n",
       "</table>\n",
       "</div>"
      ],
      "text/plain": [
       "Empty DataFrame\n",
       "Columns: []\n",
       "Index: []"
      ]
     },
     "metadata": {},
     "output_type": "display_data"
    },
    {
     "data": {
      "text/plain": [
       "'btc-all_exchange-flow-indicator-exchange-shutdown-index'"
      ]
     },
     "metadata": {},
     "output_type": "display_data"
    },
    {
     "data": {
      "text/html": [
       "<div>\n",
       "<style scoped>\n",
       "    .dataframe tbody tr th:only-of-type {\n",
       "        vertical-align: middle;\n",
       "    }\n",
       "\n",
       "    .dataframe tbody tr th {\n",
       "        vertical-align: top;\n",
       "    }\n",
       "\n",
       "    .dataframe thead th {\n",
       "        text-align: right;\n",
       "    }\n",
       "</style>\n",
       "<table border=\"1\" class=\"dataframe\">\n",
       "  <thead>\n",
       "    <tr style=\"text-align: right;\">\n",
       "      <th></th>\n",
       "      <th>blockheight</th>\n",
       "      <th>is_shutdown</th>\n",
       "    </tr>\n",
       "    <tr>\n",
       "      <th>datetime</th>\n",
       "      <th></th>\n",
       "      <th></th>\n",
       "    </tr>\n",
       "  </thead>\n",
       "  <tbody>\n",
       "    <tr>\n",
       "      <th>2021-05-24 16:07:16</th>\n",
       "      <td>684791</td>\n",
       "      <td>0</td>\n",
       "    </tr>\n",
       "    <tr>\n",
       "      <th>2021-05-24 16:06:12</th>\n",
       "      <td>684790</td>\n",
       "      <td>0</td>\n",
       "    </tr>\n",
       "    <tr>\n",
       "      <th>2021-05-24 15:41:37</th>\n",
       "      <td>684789</td>\n",
       "      <td>0</td>\n",
       "    </tr>\n",
       "    <tr>\n",
       "      <th>2021-05-24 15:35:57</th>\n",
       "      <td>684788</td>\n",
       "      <td>0</td>\n",
       "    </tr>\n",
       "    <tr>\n",
       "      <th>2021-05-24 15:33:00</th>\n",
       "      <td>684787</td>\n",
       "      <td>0</td>\n",
       "    </tr>\n",
       "  </tbody>\n",
       "</table>\n",
       "</div>"
      ],
      "text/plain": [
       "                     blockheight  is_shutdown\n",
       "datetime                                     \n",
       "2021-05-24 16:07:16       684791            0\n",
       "2021-05-24 16:06:12       684790            0\n",
       "2021-05-24 15:41:37       684789            0\n",
       "2021-05-24 15:35:57       684788            0\n",
       "2021-05-24 15:33:00       684787            0"
      ]
     },
     "metadata": {},
     "output_type": "display_data"
    },
    {
     "data": {
      "text/plain": [
       "'btc-all_exchange-flow-indicator-exchange-whale-ratio'"
      ]
     },
     "metadata": {},
     "output_type": "display_data"
    },
    {
     "data": {
      "text/html": [
       "<div>\n",
       "<style scoped>\n",
       "    .dataframe tbody tr th:only-of-type {\n",
       "        vertical-align: middle;\n",
       "    }\n",
       "\n",
       "    .dataframe tbody tr th {\n",
       "        vertical-align: top;\n",
       "    }\n",
       "\n",
       "    .dataframe thead th {\n",
       "        text-align: right;\n",
       "    }\n",
       "</style>\n",
       "<table border=\"1\" class=\"dataframe\">\n",
       "  <thead>\n",
       "    <tr style=\"text-align: right;\">\n",
       "      <th></th>\n",
       "      <th>blockheight</th>\n",
       "      <th>exchange_whale_ratio</th>\n",
       "    </tr>\n",
       "    <tr>\n",
       "      <th>datetime</th>\n",
       "      <th></th>\n",
       "      <th></th>\n",
       "    </tr>\n",
       "  </thead>\n",
       "  <tbody>\n",
       "    <tr>\n",
       "      <th>2021-05-24 16:07:16</th>\n",
       "      <td>684791</td>\n",
       "      <td>0.860857</td>\n",
       "    </tr>\n",
       "    <tr>\n",
       "      <th>2021-05-24 16:06:12</th>\n",
       "      <td>684790</td>\n",
       "      <td>0.903886</td>\n",
       "    </tr>\n",
       "    <tr>\n",
       "      <th>2021-05-24 15:41:37</th>\n",
       "      <td>684789</td>\n",
       "      <td>0.991714</td>\n",
       "    </tr>\n",
       "    <tr>\n",
       "      <th>2021-05-24 15:35:57</th>\n",
       "      <td>684788</td>\n",
       "      <td>0.573470</td>\n",
       "    </tr>\n",
       "    <tr>\n",
       "      <th>2021-05-24 15:33:00</th>\n",
       "      <td>684787</td>\n",
       "      <td>0.953896</td>\n",
       "    </tr>\n",
       "  </tbody>\n",
       "</table>\n",
       "</div>"
      ],
      "text/plain": [
       "                     blockheight  exchange_whale_ratio\n",
       "datetime                                              \n",
       "2021-05-24 16:07:16       684791              0.860857\n",
       "2021-05-24 16:06:12       684790              0.903886\n",
       "2021-05-24 15:41:37       684789              0.991714\n",
       "2021-05-24 15:35:57       684788              0.573470\n",
       "2021-05-24 15:33:00       684787              0.953896"
      ]
     },
     "metadata": {},
     "output_type": "display_data"
    },
    {
     "data": {
      "text/plain": [
       "'btc-all_exchange-flow-indicator-fund-flow-ratio'"
      ]
     },
     "metadata": {},
     "output_type": "display_data"
    },
    {
     "data": {
      "text/html": [
       "<div>\n",
       "<style scoped>\n",
       "    .dataframe tbody tr th:only-of-type {\n",
       "        vertical-align: middle;\n",
       "    }\n",
       "\n",
       "    .dataframe tbody tr th {\n",
       "        vertical-align: top;\n",
       "    }\n",
       "\n",
       "    .dataframe thead th {\n",
       "        text-align: right;\n",
       "    }\n",
       "</style>\n",
       "<table border=\"1\" class=\"dataframe\">\n",
       "  <thead>\n",
       "    <tr style=\"text-align: right;\">\n",
       "      <th></th>\n",
       "      <th>blockheight</th>\n",
       "      <th>fund_flow_ratio</th>\n",
       "    </tr>\n",
       "    <tr>\n",
       "      <th>datetime</th>\n",
       "      <th></th>\n",
       "      <th></th>\n",
       "    </tr>\n",
       "  </thead>\n",
       "  <tbody>\n",
       "    <tr>\n",
       "      <th>2021-05-24 16:09:18</th>\n",
       "      <td>684792</td>\n",
       "      <td>0.011733</td>\n",
       "    </tr>\n",
       "    <tr>\n",
       "      <th>2021-05-24 16:07:16</th>\n",
       "      <td>684791</td>\n",
       "      <td>0.206684</td>\n",
       "    </tr>\n",
       "    <tr>\n",
       "      <th>2021-05-24 16:06:12</th>\n",
       "      <td>684790</td>\n",
       "      <td>0.135669</td>\n",
       "    </tr>\n",
       "    <tr>\n",
       "      <th>2021-05-24 15:41:37</th>\n",
       "      <td>684789</td>\n",
       "      <td>0.114782</td>\n",
       "    </tr>\n",
       "    <tr>\n",
       "      <th>2021-05-24 15:35:57</th>\n",
       "      <td>684788</td>\n",
       "      <td>0.155407</td>\n",
       "    </tr>\n",
       "  </tbody>\n",
       "</table>\n",
       "</div>"
      ],
      "text/plain": [
       "                     blockheight  fund_flow_ratio\n",
       "datetime                                         \n",
       "2021-05-24 16:09:18       684792         0.011733\n",
       "2021-05-24 16:07:16       684791         0.206684\n",
       "2021-05-24 16:06:12       684790         0.135669\n",
       "2021-05-24 15:41:37       684789         0.114782\n",
       "2021-05-24 15:35:57       684788         0.155407"
      ]
     },
     "metadata": {},
     "output_type": "display_data"
    },
    {
     "data": {
      "text/plain": [
       "'btc-all_exchange-flow-indicator-mpi'"
      ]
     },
     "metadata": {},
     "output_type": "display_data"
    },
    {
     "data": {
      "text/html": [
       "<div>\n",
       "<style scoped>\n",
       "    .dataframe tbody tr th:only-of-type {\n",
       "        vertical-align: middle;\n",
       "    }\n",
       "\n",
       "    .dataframe tbody tr th {\n",
       "        vertical-align: top;\n",
       "    }\n",
       "\n",
       "    .dataframe thead th {\n",
       "        text-align: right;\n",
       "    }\n",
       "</style>\n",
       "<table border=\"1\" class=\"dataframe\">\n",
       "  <thead>\n",
       "    <tr style=\"text-align: right;\">\n",
       "      <th></th>\n",
       "      <th>mpi</th>\n",
       "    </tr>\n",
       "    <tr>\n",
       "      <th>date</th>\n",
       "      <th></th>\n",
       "    </tr>\n",
       "  </thead>\n",
       "  <tbody>\n",
       "    <tr>\n",
       "      <th>2021-05-23</th>\n",
       "      <td>-0.400578</td>\n",
       "    </tr>\n",
       "    <tr>\n",
       "      <th>2021-05-22</th>\n",
       "      <td>-0.568878</td>\n",
       "    </tr>\n",
       "    <tr>\n",
       "      <th>2021-05-21</th>\n",
       "      <td>-0.514085</td>\n",
       "    </tr>\n",
       "    <tr>\n",
       "      <th>2021-05-20</th>\n",
       "      <td>-0.264890</td>\n",
       "    </tr>\n",
       "    <tr>\n",
       "      <th>2021-05-19</th>\n",
       "      <td>0.202011</td>\n",
       "    </tr>\n",
       "  </tbody>\n",
       "</table>\n",
       "</div>"
      ],
      "text/plain": [
       "                 mpi\n",
       "date                \n",
       "2021-05-23 -0.400578\n",
       "2021-05-22 -0.568878\n",
       "2021-05-21 -0.514085\n",
       "2021-05-20 -0.264890\n",
       "2021-05-19  0.202011"
      ]
     },
     "metadata": {},
     "output_type": "display_data"
    },
    {
     "data": {
      "text/plain": [
       "'btc-all_exchange-flow-indicator-stablecoins-ratio'"
      ]
     },
     "metadata": {},
     "output_type": "display_data"
    },
    {
     "data": {
      "text/html": [
       "<div>\n",
       "<style scoped>\n",
       "    .dataframe tbody tr th:only-of-type {\n",
       "        vertical-align: middle;\n",
       "    }\n",
       "\n",
       "    .dataframe tbody tr th {\n",
       "        vertical-align: top;\n",
       "    }\n",
       "\n",
       "    .dataframe thead th {\n",
       "        text-align: right;\n",
       "    }\n",
       "</style>\n",
       "<table border=\"1\" class=\"dataframe\">\n",
       "  <thead>\n",
       "    <tr style=\"text-align: right;\">\n",
       "      <th></th>\n",
       "      <th>stablecoins_ratio</th>\n",
       "      <th>stablecoins_ratio_usd</th>\n",
       "    </tr>\n",
       "    <tr>\n",
       "      <th>datetime</th>\n",
       "      <th></th>\n",
       "      <th></th>\n",
       "    </tr>\n",
       "  </thead>\n",
       "  <tbody>\n",
       "    <tr>\n",
       "      <th>2021-05-24 15:00:00</th>\n",
       "      <td>0.000304</td>\n",
       "      <td>11.419689</td>\n",
       "    </tr>\n",
       "    <tr>\n",
       "      <th>2021-05-24 14:00:00</th>\n",
       "      <td>0.000308</td>\n",
       "      <td>11.585127</td>\n",
       "    </tr>\n",
       "    <tr>\n",
       "      <th>2021-05-24 13:00:00</th>\n",
       "      <td>0.000312</td>\n",
       "      <td>11.717337</td>\n",
       "    </tr>\n",
       "    <tr>\n",
       "      <th>2021-05-24 12:00:00</th>\n",
       "      <td>0.000308</td>\n",
       "      <td>11.760812</td>\n",
       "    </tr>\n",
       "    <tr>\n",
       "      <th>2021-05-24 11:00:00</th>\n",
       "      <td>0.000276</td>\n",
       "      <td>10.364408</td>\n",
       "    </tr>\n",
       "  </tbody>\n",
       "</table>\n",
       "</div>"
      ],
      "text/plain": [
       "                     stablecoins_ratio  stablecoins_ratio_usd\n",
       "datetime                                                     \n",
       "2021-05-24 15:00:00           0.000304              11.419689\n",
       "2021-05-24 14:00:00           0.000308              11.585127\n",
       "2021-05-24 13:00:00           0.000312              11.717337\n",
       "2021-05-24 12:00:00           0.000308              11.760812\n",
       "2021-05-24 11:00:00           0.000276              10.364408"
      ]
     },
     "metadata": {},
     "output_type": "display_data"
    },
    {
     "data": {
      "text/plain": [
       "'btc-all_exchange-fund-data-market-premium'"
      ]
     },
     "metadata": {},
     "output_type": "display_data"
    },
    {
     "data": {
      "text/html": [
       "<div>\n",
       "<style scoped>\n",
       "    .dataframe tbody tr th:only-of-type {\n",
       "        vertical-align: middle;\n",
       "    }\n",
       "\n",
       "    .dataframe tbody tr th {\n",
       "        vertical-align: top;\n",
       "    }\n",
       "\n",
       "    .dataframe thead th {\n",
       "        text-align: right;\n",
       "    }\n",
       "</style>\n",
       "<table border=\"1\" class=\"dataframe\">\n",
       "  <thead>\n",
       "    <tr style=\"text-align: right;\">\n",
       "      <th></th>\n",
       "      <th>market_premium</th>\n",
       "    </tr>\n",
       "    <tr>\n",
       "      <th>date</th>\n",
       "      <th></th>\n",
       "    </tr>\n",
       "  </thead>\n",
       "  <tbody>\n",
       "    <tr>\n",
       "      <th>2021-05-21</th>\n",
       "      <td>-5.969185</td>\n",
       "    </tr>\n",
       "    <tr>\n",
       "      <th>2021-05-20</th>\n",
       "      <td>-13.532829</td>\n",
       "    </tr>\n",
       "    <tr>\n",
       "      <th>2021-05-19</th>\n",
       "      <td>-5.795098</td>\n",
       "    </tr>\n",
       "    <tr>\n",
       "      <th>2021-05-18</th>\n",
       "      <td>-14.944413</td>\n",
       "    </tr>\n",
       "    <tr>\n",
       "      <th>2021-05-17</th>\n",
       "      <td>-13.574590</td>\n",
       "    </tr>\n",
       "  </tbody>\n",
       "</table>\n",
       "</div>"
      ],
      "text/plain": [
       "            market_premium\n",
       "date                      \n",
       "2021-05-21       -5.969185\n",
       "2021-05-20      -13.532829\n",
       "2021-05-19       -5.795098\n",
       "2021-05-18      -14.944413\n",
       "2021-05-17      -13.574590"
      ]
     },
     "metadata": {},
     "output_type": "display_data"
    },
    {
     "data": {
      "text/plain": [
       "'btc-all_exchange-inter-entity-flows-miner-to-exchange'"
      ]
     },
     "metadata": {},
     "output_type": "display_data"
    },
    {
     "data": {
      "text/html": [
       "<div>\n",
       "<style scoped>\n",
       "    .dataframe tbody tr th:only-of-type {\n",
       "        vertical-align: middle;\n",
       "    }\n",
       "\n",
       "    .dataframe tbody tr th {\n",
       "        vertical-align: top;\n",
       "    }\n",
       "\n",
       "    .dataframe thead th {\n",
       "        text-align: right;\n",
       "    }\n",
       "</style>\n",
       "<table border=\"1\" class=\"dataframe\">\n",
       "  <thead>\n",
       "    <tr style=\"text-align: right;\">\n",
       "      <th></th>\n",
       "      <th>blockheight</th>\n",
       "      <th>flow_total</th>\n",
       "      <th>transactions_count_flow</th>\n",
       "      <th>flow_mean</th>\n",
       "    </tr>\n",
       "    <tr>\n",
       "      <th>datetime</th>\n",
       "      <th></th>\n",
       "      <th></th>\n",
       "      <th></th>\n",
       "      <th></th>\n",
       "    </tr>\n",
       "  </thead>\n",
       "  <tbody>\n",
       "    <tr>\n",
       "      <th>2021-05-24 16:07:16</th>\n",
       "      <td>684791</td>\n",
       "      <td>0.032704</td>\n",
       "      <td>1</td>\n",
       "      <td>0.032704</td>\n",
       "    </tr>\n",
       "    <tr>\n",
       "      <th>2021-05-24 16:06:12</th>\n",
       "      <td>684790</td>\n",
       "      <td>2.503302</td>\n",
       "      <td>3</td>\n",
       "      <td>0.834434</td>\n",
       "    </tr>\n",
       "    <tr>\n",
       "      <th>2021-05-24 15:41:37</th>\n",
       "      <td>684789</td>\n",
       "      <td>0.000000</td>\n",
       "      <td>0</td>\n",
       "      <td>0.000000</td>\n",
       "    </tr>\n",
       "    <tr>\n",
       "      <th>2021-05-24 15:35:57</th>\n",
       "      <td>684788</td>\n",
       "      <td>8.354908</td>\n",
       "      <td>5</td>\n",
       "      <td>1.670982</td>\n",
       "    </tr>\n",
       "    <tr>\n",
       "      <th>2021-05-24 15:33:00</th>\n",
       "      <td>684787</td>\n",
       "      <td>0.241285</td>\n",
       "      <td>2</td>\n",
       "      <td>0.120643</td>\n",
       "    </tr>\n",
       "  </tbody>\n",
       "</table>\n",
       "</div>"
      ],
      "text/plain": [
       "                     blockheight  flow_total  transactions_count_flow  \\\n",
       "datetime                                                                \n",
       "2021-05-24 16:07:16       684791    0.032704                        1   \n",
       "2021-05-24 16:06:12       684790    2.503302                        3   \n",
       "2021-05-24 15:41:37       684789    0.000000                        0   \n",
       "2021-05-24 15:35:57       684788    8.354908                        5   \n",
       "2021-05-24 15:33:00       684787    0.241285                        2   \n",
       "\n",
       "                     flow_mean  \n",
       "datetime                        \n",
       "2021-05-24 16:07:16   0.032704  \n",
       "2021-05-24 16:06:12   0.834434  \n",
       "2021-05-24 15:41:37   0.000000  \n",
       "2021-05-24 15:35:57   1.670982  \n",
       "2021-05-24 15:33:00   0.120643  "
      ]
     },
     "metadata": {},
     "output_type": "display_data"
    },
    {
     "data": {
      "text/plain": [
       "'btc-all_exchange-market-data-funding-rates'"
      ]
     },
     "metadata": {},
     "output_type": "display_data"
    },
    {
     "data": {
      "text/html": [
       "<div>\n",
       "<style scoped>\n",
       "    .dataframe tbody tr th:only-of-type {\n",
       "        vertical-align: middle;\n",
       "    }\n",
       "\n",
       "    .dataframe tbody tr th {\n",
       "        vertical-align: top;\n",
       "    }\n",
       "\n",
       "    .dataframe thead th {\n",
       "        text-align: right;\n",
       "    }\n",
       "</style>\n",
       "<table border=\"1\" class=\"dataframe\">\n",
       "  <thead>\n",
       "    <tr style=\"text-align: right;\">\n",
       "      <th></th>\n",
       "      <th>funding_rates</th>\n",
       "    </tr>\n",
       "    <tr>\n",
       "      <th>datetime</th>\n",
       "      <th></th>\n",
       "    </tr>\n",
       "  </thead>\n",
       "  <tbody>\n",
       "    <tr>\n",
       "      <th>2021-05-24 16:02:00</th>\n",
       "      <td>0.005095</td>\n",
       "    </tr>\n",
       "    <tr>\n",
       "      <th>2021-05-24 16:01:00</th>\n",
       "      <td>0.005090</td>\n",
       "    </tr>\n",
       "    <tr>\n",
       "      <th>2021-05-24 16:00:00</th>\n",
       "      <td>0.004469</td>\n",
       "    </tr>\n",
       "    <tr>\n",
       "      <th>2021-05-24 15:59:00</th>\n",
       "      <td>0.005723</td>\n",
       "    </tr>\n",
       "    <tr>\n",
       "      <th>2021-05-24 15:58:00</th>\n",
       "      <td>0.003197</td>\n",
       "    </tr>\n",
       "  </tbody>\n",
       "</table>\n",
       "</div>"
      ],
      "text/plain": [
       "                     funding_rates\n",
       "datetime                          \n",
       "2021-05-24 16:02:00       0.005095\n",
       "2021-05-24 16:01:00       0.005090\n",
       "2021-05-24 16:00:00       0.004469\n",
       "2021-05-24 15:59:00       0.005723\n",
       "2021-05-24 15:58:00       0.003197"
      ]
     },
     "metadata": {},
     "output_type": "display_data"
    },
    {
     "data": {
      "text/plain": [
       "'eth-all_exchange-market-data-liquidations'"
      ]
     },
     "metadata": {},
     "output_type": "display_data"
    },
    {
     "data": {
      "text/html": [
       "<div>\n",
       "<style scoped>\n",
       "    .dataframe tbody tr th:only-of-type {\n",
       "        vertical-align: middle;\n",
       "    }\n",
       "\n",
       "    .dataframe tbody tr th {\n",
       "        vertical-align: top;\n",
       "    }\n",
       "\n",
       "    .dataframe thead th {\n",
       "        text-align: right;\n",
       "    }\n",
       "</style>\n",
       "<table border=\"1\" class=\"dataframe\">\n",
       "  <thead>\n",
       "    <tr style=\"text-align: right;\">\n",
       "      <th></th>\n",
       "      <th>long_liquidations</th>\n",
       "      <th>short_liquidations</th>\n",
       "      <th>long_liquidations_usd</th>\n",
       "      <th>short_liquidations_usd</th>\n",
       "    </tr>\n",
       "    <tr>\n",
       "      <th>datetime</th>\n",
       "      <th></th>\n",
       "      <th></th>\n",
       "      <th></th>\n",
       "      <th></th>\n",
       "    </tr>\n",
       "  </thead>\n",
       "  <tbody>\n",
       "    <tr>\n",
       "      <th>2021-05-24 20:02:00</th>\n",
       "      <td>0.344084</td>\n",
       "      <td>0.000000</td>\n",
       "      <td>902.0</td>\n",
       "      <td>0.0</td>\n",
       "    </tr>\n",
       "    <tr>\n",
       "      <th>2021-05-24 20:01:00</th>\n",
       "      <td>0.000000</td>\n",
       "      <td>9.482049</td>\n",
       "      <td>0.0</td>\n",
       "      <td>25460.0</td>\n",
       "    </tr>\n",
       "    <tr>\n",
       "      <th>2021-05-24 20:00:00</th>\n",
       "      <td>0.000000</td>\n",
       "      <td>80.377565</td>\n",
       "      <td>0.0</td>\n",
       "      <td>216003.0</td>\n",
       "    </tr>\n",
       "    <tr>\n",
       "      <th>2021-05-24 19:59:00</th>\n",
       "      <td>0.000000</td>\n",
       "      <td>0.000000</td>\n",
       "      <td>0.0</td>\n",
       "      <td>0.0</td>\n",
       "    </tr>\n",
       "    <tr>\n",
       "      <th>2021-05-24 19:58:00</th>\n",
       "      <td>0.000000</td>\n",
       "      <td>1.333851</td>\n",
       "      <td>0.0</td>\n",
       "      <td>3540.0</td>\n",
       "    </tr>\n",
       "  </tbody>\n",
       "</table>\n",
       "</div>"
      ],
      "text/plain": [
       "                     long_liquidations  short_liquidations  \\\n",
       "datetime                                                     \n",
       "2021-05-24 20:02:00           0.344084            0.000000   \n",
       "2021-05-24 20:01:00           0.000000            9.482049   \n",
       "2021-05-24 20:00:00           0.000000           80.377565   \n",
       "2021-05-24 19:59:00           0.000000            0.000000   \n",
       "2021-05-24 19:58:00           0.000000            1.333851   \n",
       "\n",
       "                     long_liquidations_usd  short_liquidations_usd  \n",
       "datetime                                                            \n",
       "2021-05-24 20:02:00                  902.0                     0.0  \n",
       "2021-05-24 20:01:00                    0.0                 25460.0  \n",
       "2021-05-24 20:00:00                    0.0                216003.0  \n",
       "2021-05-24 19:59:00                    0.0                     0.0  \n",
       "2021-05-24 19:58:00                    0.0                  3540.0  "
      ]
     },
     "metadata": {},
     "output_type": "display_data"
    },
    {
     "data": {
      "text/plain": [
       "'btc-all_exchange-market-data-open-interest'"
      ]
     },
     "metadata": {},
     "output_type": "display_data"
    },
    {
     "data": {
      "text/html": [
       "<div>\n",
       "<style scoped>\n",
       "    .dataframe tbody tr th:only-of-type {\n",
       "        vertical-align: middle;\n",
       "    }\n",
       "\n",
       "    .dataframe tbody tr th {\n",
       "        vertical-align: top;\n",
       "    }\n",
       "\n",
       "    .dataframe thead th {\n",
       "        text-align: right;\n",
       "    }\n",
       "</style>\n",
       "<table border=\"1\" class=\"dataframe\">\n",
       "  <thead>\n",
       "    <tr style=\"text-align: right;\">\n",
       "      <th></th>\n",
       "      <th>open_interest</th>\n",
       "    </tr>\n",
       "    <tr>\n",
       "      <th>datetime</th>\n",
       "      <th></th>\n",
       "    </tr>\n",
       "  </thead>\n",
       "  <tbody>\n",
       "    <tr>\n",
       "      <th>2021-05-24 16:01:00</th>\n",
       "      <td>3.629595e+09</td>\n",
       "    </tr>\n",
       "    <tr>\n",
       "      <th>2021-05-24 16:00:00</th>\n",
       "      <td>3.628526e+09</td>\n",
       "    </tr>\n",
       "    <tr>\n",
       "      <th>2021-05-24 15:59:00</th>\n",
       "      <td>3.617521e+09</td>\n",
       "    </tr>\n",
       "    <tr>\n",
       "      <th>2021-05-24 15:58:00</th>\n",
       "      <td>3.620368e+09</td>\n",
       "    </tr>\n",
       "    <tr>\n",
       "      <th>2021-05-24 15:57:00</th>\n",
       "      <td>3.617358e+09</td>\n",
       "    </tr>\n",
       "  </tbody>\n",
       "</table>\n",
       "</div>"
      ],
      "text/plain": [
       "                     open_interest\n",
       "datetime                          \n",
       "2021-05-24 16:01:00   3.629595e+09\n",
       "2021-05-24 16:00:00   3.628526e+09\n",
       "2021-05-24 15:59:00   3.617521e+09\n",
       "2021-05-24 15:58:00   3.620368e+09\n",
       "2021-05-24 15:57:00   3.617358e+09"
      ]
     },
     "metadata": {},
     "output_type": "display_data"
    },
    {
     "data": {
      "text/plain": [
       "'eth-all_exchange-market-data-price-usd'"
      ]
     },
     "metadata": {},
     "output_type": "display_data"
    },
    {
     "data": {
      "text/html": [
       "<div>\n",
       "<style scoped>\n",
       "    .dataframe tbody tr th:only-of-type {\n",
       "        vertical-align: middle;\n",
       "    }\n",
       "\n",
       "    .dataframe tbody tr th {\n",
       "        vertical-align: top;\n",
       "    }\n",
       "\n",
       "    .dataframe thead th {\n",
       "        text-align: right;\n",
       "    }\n",
       "</style>\n",
       "<table border=\"1\" class=\"dataframe\">\n",
       "  <thead>\n",
       "    <tr style=\"text-align: right;\">\n",
       "      <th></th>\n",
       "      <th>price_usd_open</th>\n",
       "      <th>price_usd_high</th>\n",
       "      <th>price_usd_low</th>\n",
       "      <th>price_usd_close</th>\n",
       "    </tr>\n",
       "    <tr>\n",
       "      <th>datetime</th>\n",
       "      <th></th>\n",
       "      <th></th>\n",
       "      <th></th>\n",
       "      <th></th>\n",
       "    </tr>\n",
       "  </thead>\n",
       "  <tbody>\n",
       "    <tr>\n",
       "      <th>2021-05-24 19:58:00</th>\n",
       "      <td>2634.653333</td>\n",
       "      <td>2650.926667</td>\n",
       "      <td>2630.428333</td>\n",
       "      <td>2648.375000</td>\n",
       "    </tr>\n",
       "    <tr>\n",
       "      <th>2021-05-24 19:57:00</th>\n",
       "      <td>2638.506667</td>\n",
       "      <td>2640.170000</td>\n",
       "      <td>2627.941667</td>\n",
       "      <td>2634.300000</td>\n",
       "    </tr>\n",
       "    <tr>\n",
       "      <th>2021-05-24 19:56:00</th>\n",
       "      <td>2651.063333</td>\n",
       "      <td>2651.358333</td>\n",
       "      <td>2627.278333</td>\n",
       "      <td>2638.488333</td>\n",
       "    </tr>\n",
       "    <tr>\n",
       "      <th>2021-05-24 19:55:00</th>\n",
       "      <td>2656.706667</td>\n",
       "      <td>2661.300000</td>\n",
       "      <td>2648.931667</td>\n",
       "      <td>2650.810000</td>\n",
       "    </tr>\n",
       "    <tr>\n",
       "      <th>2021-05-24 19:54:00</th>\n",
       "      <td>2654.471667</td>\n",
       "      <td>2663.426667</td>\n",
       "      <td>2651.520000</td>\n",
       "      <td>2656.808333</td>\n",
       "    </tr>\n",
       "  </tbody>\n",
       "</table>\n",
       "</div>"
      ],
      "text/plain": [
       "                     price_usd_open  price_usd_high  price_usd_low  \\\n",
       "datetime                                                             \n",
       "2021-05-24 19:58:00     2634.653333     2650.926667    2630.428333   \n",
       "2021-05-24 19:57:00     2638.506667     2640.170000    2627.941667   \n",
       "2021-05-24 19:56:00     2651.063333     2651.358333    2627.278333   \n",
       "2021-05-24 19:55:00     2656.706667     2661.300000    2648.931667   \n",
       "2021-05-24 19:54:00     2654.471667     2663.426667    2651.520000   \n",
       "\n",
       "                     price_usd_close  \n",
       "datetime                              \n",
       "2021-05-24 19:58:00      2648.375000  \n",
       "2021-05-24 19:57:00      2634.300000  \n",
       "2021-05-24 19:56:00      2638.488333  \n",
       "2021-05-24 19:55:00      2650.810000  \n",
       "2021-05-24 19:54:00      2656.808333  "
      ]
     },
     "metadata": {},
     "output_type": "display_data"
    },
    {
     "data": {
      "text/plain": [
       "'btc-all_exchange-market-data-taker-buy-sell-stats'"
      ]
     },
     "metadata": {},
     "output_type": "display_data"
    },
    {
     "data": {
      "text/html": [
       "<div>\n",
       "<style scoped>\n",
       "    .dataframe tbody tr th:only-of-type {\n",
       "        vertical-align: middle;\n",
       "    }\n",
       "\n",
       "    .dataframe tbody tr th {\n",
       "        vertical-align: top;\n",
       "    }\n",
       "\n",
       "    .dataframe thead th {\n",
       "        text-align: right;\n",
       "    }\n",
       "</style>\n",
       "<table border=\"1\" class=\"dataframe\">\n",
       "  <thead>\n",
       "    <tr style=\"text-align: right;\">\n",
       "      <th></th>\n",
       "      <th>taker_buy_volume</th>\n",
       "      <th>taker_sell_volume</th>\n",
       "      <th>taker_buy_ratio</th>\n",
       "      <th>taker_sell_ratio</th>\n",
       "      <th>taker_buy_sell_ratio</th>\n",
       "    </tr>\n",
       "    <tr>\n",
       "      <th>datetime</th>\n",
       "      <th></th>\n",
       "      <th></th>\n",
       "      <th></th>\n",
       "      <th></th>\n",
       "      <th></th>\n",
       "    </tr>\n",
       "  </thead>\n",
       "  <tbody>\n",
       "    <tr>\n",
       "      <th>2021-05-24 16:04:00</th>\n",
       "      <td>3.099189e+07</td>\n",
       "      <td>5.711871e+07</td>\n",
       "      <td>0.351738</td>\n",
       "      <td>0.648262</td>\n",
       "      <td>0.542587</td>\n",
       "    </tr>\n",
       "    <tr>\n",
       "      <th>2021-05-24 16:03:00</th>\n",
       "      <td>4.148589e+07</td>\n",
       "      <td>7.953431e+07</td>\n",
       "      <td>0.342801</td>\n",
       "      <td>0.657199</td>\n",
       "      <td>0.521610</td>\n",
       "    </tr>\n",
       "    <tr>\n",
       "      <th>2021-05-24 16:02:00</th>\n",
       "      <td>4.303785e+07</td>\n",
       "      <td>2.489404e+07</td>\n",
       "      <td>0.633544</td>\n",
       "      <td>0.366456</td>\n",
       "      <td>1.728841</td>\n",
       "    </tr>\n",
       "    <tr>\n",
       "      <th>2021-05-24 16:01:00</th>\n",
       "      <td>3.344643e+07</td>\n",
       "      <td>2.499903e+07</td>\n",
       "      <td>0.572267</td>\n",
       "      <td>0.427733</td>\n",
       "      <td>1.337909</td>\n",
       "    </tr>\n",
       "    <tr>\n",
       "      <th>2021-05-24 16:00:00</th>\n",
       "      <td>3.376360e+07</td>\n",
       "      <td>1.296750e+07</td>\n",
       "      <td>0.722508</td>\n",
       "      <td>0.277492</td>\n",
       "      <td>2.603709</td>\n",
       "    </tr>\n",
       "  </tbody>\n",
       "</table>\n",
       "</div>"
      ],
      "text/plain": [
       "                     taker_buy_volume  taker_sell_volume  taker_buy_ratio  \\\n",
       "datetime                                                                    \n",
       "2021-05-24 16:04:00      3.099189e+07       5.711871e+07         0.351738   \n",
       "2021-05-24 16:03:00      4.148589e+07       7.953431e+07         0.342801   \n",
       "2021-05-24 16:02:00      4.303785e+07       2.489404e+07         0.633544   \n",
       "2021-05-24 16:01:00      3.344643e+07       2.499903e+07         0.572267   \n",
       "2021-05-24 16:00:00      3.376360e+07       1.296750e+07         0.722508   \n",
       "\n",
       "                     taker_sell_ratio  taker_buy_sell_ratio  \n",
       "datetime                                                     \n",
       "2021-05-24 16:04:00          0.648262              0.542587  \n",
       "2021-05-24 16:03:00          0.657199              0.521610  \n",
       "2021-05-24 16:02:00          0.366456              1.728841  \n",
       "2021-05-24 16:01:00          0.427733              1.337909  \n",
       "2021-05-24 16:00:00          0.277492              2.603709  "
      ]
     },
     "metadata": {},
     "output_type": "display_data"
    },
    {
     "data": {
      "text/plain": [
       "'eth-all_exchange-market-indicator-estimated-leverage-ratio'"
      ]
     },
     "metadata": {},
     "output_type": "display_data"
    },
    {
     "data": {
      "text/html": [
       "<div>\n",
       "<style scoped>\n",
       "    .dataframe tbody tr th:only-of-type {\n",
       "        vertical-align: middle;\n",
       "    }\n",
       "\n",
       "    .dataframe tbody tr th {\n",
       "        vertical-align: top;\n",
       "    }\n",
       "\n",
       "    .dataframe thead th {\n",
       "        text-align: right;\n",
       "    }\n",
       "</style>\n",
       "<table border=\"1\" class=\"dataframe\">\n",
       "  <thead>\n",
       "    <tr style=\"text-align: right;\">\n",
       "      <th></th>\n",
       "      <th>blockheight</th>\n",
       "      <th>estimated_leverage_ratio</th>\n",
       "    </tr>\n",
       "    <tr>\n",
       "      <th>datetime</th>\n",
       "      <th></th>\n",
       "      <th></th>\n",
       "    </tr>\n",
       "  </thead>\n",
       "  <tbody>\n",
       "    <tr>\n",
       "      <th>2021-05-24 20:00:33</th>\n",
       "      <td>12499072</td>\n",
       "      <td>0.059082</td>\n",
       "    </tr>\n",
       "    <tr>\n",
       "      <th>2021-05-24 20:00:18</th>\n",
       "      <td>12499071</td>\n",
       "      <td>0.059082</td>\n",
       "    </tr>\n",
       "    <tr>\n",
       "      <th>2021-05-24 20:00:16</th>\n",
       "      <td>12499070</td>\n",
       "      <td>0.059082</td>\n",
       "    </tr>\n",
       "    <tr>\n",
       "      <th>2021-05-24 20:00:02</th>\n",
       "      <td>12499069</td>\n",
       "      <td>0.059082</td>\n",
       "    </tr>\n",
       "    <tr>\n",
       "      <th>2021-05-24 19:59:53</th>\n",
       "      <td>12499068</td>\n",
       "      <td>0.059170</td>\n",
       "    </tr>\n",
       "  </tbody>\n",
       "</table>\n",
       "</div>"
      ],
      "text/plain": [
       "                     blockheight  estimated_leverage_ratio\n",
       "datetime                                                  \n",
       "2021-05-24 20:00:33     12499072                  0.059082\n",
       "2021-05-24 20:00:18     12499071                  0.059082\n",
       "2021-05-24 20:00:16     12499070                  0.059082\n",
       "2021-05-24 20:00:02     12499069                  0.059082\n",
       "2021-05-24 19:59:53     12499068                  0.059170"
      ]
     },
     "metadata": {},
     "output_type": "display_data"
    },
    {
     "data": {
      "text/plain": [
       "'btc-all_exchange-market-indicator-mvrv'"
      ]
     },
     "metadata": {},
     "output_type": "display_data"
    },
    {
     "data": {
      "text/html": [
       "<div>\n",
       "<style scoped>\n",
       "    .dataframe tbody tr th:only-of-type {\n",
       "        vertical-align: middle;\n",
       "    }\n",
       "\n",
       "    .dataframe tbody tr th {\n",
       "        vertical-align: top;\n",
       "    }\n",
       "\n",
       "    .dataframe thead th {\n",
       "        text-align: right;\n",
       "    }\n",
       "</style>\n",
       "<table border=\"1\" class=\"dataframe\">\n",
       "  <thead>\n",
       "    <tr style=\"text-align: right;\">\n",
       "      <th></th>\n",
       "      <th>blockheight</th>\n",
       "      <th>mvrv</th>\n",
       "    </tr>\n",
       "    <tr>\n",
       "      <th>datetime</th>\n",
       "      <th></th>\n",
       "      <th></th>\n",
       "    </tr>\n",
       "  </thead>\n",
       "  <tbody>\n",
       "    <tr>\n",
       "      <th>2021-05-24 16:09:18</th>\n",
       "      <td>684792</td>\n",
       "      <td>1.792455</td>\n",
       "    </tr>\n",
       "    <tr>\n",
       "      <th>2021-05-24 16:07:16</th>\n",
       "      <td>684791</td>\n",
       "      <td>1.781333</td>\n",
       "    </tr>\n",
       "    <tr>\n",
       "      <th>2021-05-24 16:06:12</th>\n",
       "      <td>684790</td>\n",
       "      <td>1.777308</td>\n",
       "    </tr>\n",
       "    <tr>\n",
       "      <th>2021-05-24 15:41:37</th>\n",
       "      <td>684789</td>\n",
       "      <td>1.805823</td>\n",
       "    </tr>\n",
       "    <tr>\n",
       "      <th>2021-05-24 15:35:57</th>\n",
       "      <td>684788</td>\n",
       "      <td>1.814897</td>\n",
       "    </tr>\n",
       "  </tbody>\n",
       "</table>\n",
       "</div>"
      ],
      "text/plain": [
       "                     blockheight      mvrv\n",
       "datetime                                  \n",
       "2021-05-24 16:09:18       684792  1.792455\n",
       "2021-05-24 16:07:16       684791  1.781333\n",
       "2021-05-24 16:06:12       684790  1.777308\n",
       "2021-05-24 15:41:37       684789  1.805823\n",
       "2021-05-24 15:35:57       684788  1.814897"
      ]
     },
     "metadata": {},
     "output_type": "display_data"
    },
    {
     "data": {
      "text/plain": [
       "'btc-all_exchange-market-indicator-stablecoin-supply-ratio'"
      ]
     },
     "metadata": {},
     "output_type": "display_data"
    },
    {
     "data": {
      "text/html": [
       "<div>\n",
       "<style scoped>\n",
       "    .dataframe tbody tr th:only-of-type {\n",
       "        vertical-align: middle;\n",
       "    }\n",
       "\n",
       "    .dataframe tbody tr th {\n",
       "        vertical-align: top;\n",
       "    }\n",
       "\n",
       "    .dataframe thead th {\n",
       "        text-align: right;\n",
       "    }\n",
       "</style>\n",
       "<table border=\"1\" class=\"dataframe\">\n",
       "  <thead>\n",
       "    <tr style=\"text-align: right;\">\n",
       "      <th></th>\n",
       "      <th>stablecoin_supply_ratio</th>\n",
       "    </tr>\n",
       "    <tr>\n",
       "      <th>date</th>\n",
       "      <th></th>\n",
       "    </tr>\n",
       "  </thead>\n",
       "  <tbody>\n",
       "    <tr>\n",
       "      <th>2021-05-23</th>\n",
       "      <td>12.047707</td>\n",
       "    </tr>\n",
       "    <tr>\n",
       "      <th>2021-05-22</th>\n",
       "      <td>12.987114</td>\n",
       "    </tr>\n",
       "    <tr>\n",
       "      <th>2021-05-21</th>\n",
       "      <td>13.009352</td>\n",
       "    </tr>\n",
       "    <tr>\n",
       "      <th>2021-05-20</th>\n",
       "      <td>14.420455</td>\n",
       "    </tr>\n",
       "    <tr>\n",
       "      <th>2021-05-19</th>\n",
       "      <td>13.195333</td>\n",
       "    </tr>\n",
       "  </tbody>\n",
       "</table>\n",
       "</div>"
      ],
      "text/plain": [
       "            stablecoin_supply_ratio\n",
       "date                               \n",
       "2021-05-23                12.047707\n",
       "2021-05-22                12.987114\n",
       "2021-05-21                13.009352\n",
       "2021-05-20                14.420455\n",
       "2021-05-19                13.195333"
      ]
     },
     "metadata": {},
     "output_type": "display_data"
    },
    {
     "data": {
      "text/plain": [
       "'btc-all_exchange-miner-flows-inflow'"
      ]
     },
     "metadata": {},
     "output_type": "display_data"
    },
    {
     "data": {
      "text/html": [
       "<div>\n",
       "<style scoped>\n",
       "    .dataframe tbody tr th:only-of-type {\n",
       "        vertical-align: middle;\n",
       "    }\n",
       "\n",
       "    .dataframe tbody tr th {\n",
       "        vertical-align: top;\n",
       "    }\n",
       "\n",
       "    .dataframe thead th {\n",
       "        text-align: right;\n",
       "    }\n",
       "</style>\n",
       "<table border=\"1\" class=\"dataframe\">\n",
       "  <thead>\n",
       "    <tr style=\"text-align: right;\">\n",
       "      <th></th>\n",
       "      <th>blockheight</th>\n",
       "      <th>inflow_total</th>\n",
       "      <th>inflow_top10</th>\n",
       "      <th>inflow_mean</th>\n",
       "    </tr>\n",
       "    <tr>\n",
       "      <th>datetime</th>\n",
       "      <th></th>\n",
       "      <th></th>\n",
       "      <th></th>\n",
       "      <th></th>\n",
       "    </tr>\n",
       "  </thead>\n",
       "  <tbody>\n",
       "    <tr>\n",
       "      <th>2021-05-24 15:41:37</th>\n",
       "      <td>684789</td>\n",
       "      <td>17.776453</td>\n",
       "      <td>17.775789</td>\n",
       "      <td>0.935603</td>\n",
       "    </tr>\n",
       "    <tr>\n",
       "      <th>2021-05-24 15:35:57</th>\n",
       "      <td>684788</td>\n",
       "      <td>7.725716</td>\n",
       "      <td>7.705828</td>\n",
       "      <td>0.257524</td>\n",
       "    </tr>\n",
       "    <tr>\n",
       "      <th>2021-05-24 15:33:00</th>\n",
       "      <td>684787</td>\n",
       "      <td>8.099299</td>\n",
       "      <td>8.099299</td>\n",
       "      <td>0.352143</td>\n",
       "    </tr>\n",
       "    <tr>\n",
       "      <th>2021-05-24 15:16:03</th>\n",
       "      <td>684786</td>\n",
       "      <td>58.588450</td>\n",
       "      <td>58.572860</td>\n",
       "      <td>2.092445</td>\n",
       "    </tr>\n",
       "    <tr>\n",
       "      <th>2021-05-24 14:52:58</th>\n",
       "      <td>684785</td>\n",
       "      <td>10.545391</td>\n",
       "      <td>10.531934</td>\n",
       "      <td>0.363634</td>\n",
       "    </tr>\n",
       "  </tbody>\n",
       "</table>\n",
       "</div>"
      ],
      "text/plain": [
       "                     blockheight  inflow_total  inflow_top10  inflow_mean\n",
       "datetime                                                                 \n",
       "2021-05-24 15:41:37       684789     17.776453     17.775789     0.935603\n",
       "2021-05-24 15:35:57       684788      7.725716      7.705828     0.257524\n",
       "2021-05-24 15:33:00       684787      8.099299      8.099299     0.352143\n",
       "2021-05-24 15:16:03       684786     58.588450     58.572860     2.092445\n",
       "2021-05-24 14:52:58       684785     10.545391     10.531934     0.363634"
      ]
     },
     "metadata": {},
     "output_type": "display_data"
    },
    {
     "data": {
      "text/plain": [
       "'btc-all_exchange-miner-flows-netflow'"
      ]
     },
     "metadata": {},
     "output_type": "display_data"
    },
    {
     "data": {
      "text/html": [
       "<div>\n",
       "<style scoped>\n",
       "    .dataframe tbody tr th:only-of-type {\n",
       "        vertical-align: middle;\n",
       "    }\n",
       "\n",
       "    .dataframe tbody tr th {\n",
       "        vertical-align: top;\n",
       "    }\n",
       "\n",
       "    .dataframe thead th {\n",
       "        text-align: right;\n",
       "    }\n",
       "</style>\n",
       "<table border=\"1\" class=\"dataframe\">\n",
       "  <thead>\n",
       "    <tr style=\"text-align: right;\">\n",
       "      <th></th>\n",
       "      <th>blockheight</th>\n",
       "      <th>netflow_total</th>\n",
       "    </tr>\n",
       "    <tr>\n",
       "      <th>datetime</th>\n",
       "      <th></th>\n",
       "      <th></th>\n",
       "    </tr>\n",
       "  </thead>\n",
       "  <tbody>\n",
       "    <tr>\n",
       "      <th>2021-05-24 16:07:16</th>\n",
       "      <td>684791</td>\n",
       "      <td>7.347063</td>\n",
       "    </tr>\n",
       "    <tr>\n",
       "      <th>2021-05-24 16:06:12</th>\n",
       "      <td>684790</td>\n",
       "      <td>10.929260</td>\n",
       "    </tr>\n",
       "    <tr>\n",
       "      <th>2021-05-24 15:41:37</th>\n",
       "      <td>684789</td>\n",
       "      <td>17.147745</td>\n",
       "    </tr>\n",
       "    <tr>\n",
       "      <th>2021-05-24 15:35:57</th>\n",
       "      <td>684788</td>\n",
       "      <td>-0.694250</td>\n",
       "    </tr>\n",
       "    <tr>\n",
       "      <th>2021-05-24 15:33:00</th>\n",
       "      <td>684787</td>\n",
       "      <td>7.646934</td>\n",
       "    </tr>\n",
       "  </tbody>\n",
       "</table>\n",
       "</div>"
      ],
      "text/plain": [
       "                     blockheight  netflow_total\n",
       "datetime                                       \n",
       "2021-05-24 16:07:16       684791       7.347063\n",
       "2021-05-24 16:06:12       684790      10.929260\n",
       "2021-05-24 15:41:37       684789      17.147745\n",
       "2021-05-24 15:35:57       684788      -0.694250\n",
       "2021-05-24 15:33:00       684787       7.646934"
      ]
     },
     "metadata": {},
     "output_type": "display_data"
    },
    {
     "data": {
      "text/plain": [
       "'btc-all_exchange-miner-flows-outflow'"
      ]
     },
     "metadata": {},
     "output_type": "display_data"
    },
    {
     "data": {
      "text/html": [
       "<div>\n",
       "<style scoped>\n",
       "    .dataframe tbody tr th:only-of-type {\n",
       "        vertical-align: middle;\n",
       "    }\n",
       "\n",
       "    .dataframe tbody tr th {\n",
       "        vertical-align: top;\n",
       "    }\n",
       "\n",
       "    .dataframe thead th {\n",
       "        text-align: right;\n",
       "    }\n",
       "</style>\n",
       "<table border=\"1\" class=\"dataframe\">\n",
       "  <thead>\n",
       "    <tr style=\"text-align: right;\">\n",
       "      <th></th>\n",
       "      <th>blockheight</th>\n",
       "      <th>outflow_total</th>\n",
       "      <th>outflow_top10</th>\n",
       "      <th>outflow_mean</th>\n",
       "    </tr>\n",
       "    <tr>\n",
       "      <th>datetime</th>\n",
       "      <th></th>\n",
       "      <th></th>\n",
       "      <th></th>\n",
       "      <th></th>\n",
       "    </tr>\n",
       "  </thead>\n",
       "  <tbody>\n",
       "    <tr>\n",
       "      <th>2021-05-24 16:07:16</th>\n",
       "      <td>684791</td>\n",
       "      <td>0.032704</td>\n",
       "      <td>0.032704</td>\n",
       "      <td>0.032704</td>\n",
       "    </tr>\n",
       "    <tr>\n",
       "      <th>2021-05-24 16:06:12</th>\n",
       "      <td>684790</td>\n",
       "      <td>8.236736</td>\n",
       "      <td>8.236736</td>\n",
       "      <td>1.029592</td>\n",
       "    </tr>\n",
       "    <tr>\n",
       "      <th>2021-05-24 15:41:37</th>\n",
       "      <td>684789</td>\n",
       "      <td>0.628708</td>\n",
       "      <td>0.628708</td>\n",
       "      <td>0.314354</td>\n",
       "    </tr>\n",
       "    <tr>\n",
       "      <th>2021-05-24 15:35:57</th>\n",
       "      <td>684788</td>\n",
       "      <td>8.419966</td>\n",
       "      <td>8.419966</td>\n",
       "      <td>1.202852</td>\n",
       "    </tr>\n",
       "    <tr>\n",
       "      <th>2021-05-24 15:33:00</th>\n",
       "      <td>684787</td>\n",
       "      <td>0.452365</td>\n",
       "      <td>0.452365</td>\n",
       "      <td>0.075394</td>\n",
       "    </tr>\n",
       "  </tbody>\n",
       "</table>\n",
       "</div>"
      ],
      "text/plain": [
       "                     blockheight  outflow_total  outflow_top10  outflow_mean\n",
       "datetime                                                                    \n",
       "2021-05-24 16:07:16       684791       0.032704       0.032704      0.032704\n",
       "2021-05-24 16:06:12       684790       8.236736       8.236736      1.029592\n",
       "2021-05-24 15:41:37       684789       0.628708       0.628708      0.314354\n",
       "2021-05-24 15:35:57       684788       8.419966       8.419966      1.202852\n",
       "2021-05-24 15:33:00       684787       0.452365       0.452365      0.075394"
      ]
     },
     "metadata": {},
     "output_type": "display_data"
    },
    {
     "data": {
      "text/plain": [
       "'btc-all_exchange-network-data-addresses-count'"
      ]
     },
     "metadata": {},
     "output_type": "display_data"
    },
    {
     "data": {
      "text/html": [
       "<div>\n",
       "<style scoped>\n",
       "    .dataframe tbody tr th:only-of-type {\n",
       "        vertical-align: middle;\n",
       "    }\n",
       "\n",
       "    .dataframe tbody tr th {\n",
       "        vertical-align: top;\n",
       "    }\n",
       "\n",
       "    .dataframe thead th {\n",
       "        text-align: right;\n",
       "    }\n",
       "</style>\n",
       "<table border=\"1\" class=\"dataframe\">\n",
       "  <thead>\n",
       "    <tr style=\"text-align: right;\">\n",
       "      <th></th>\n",
       "      <th>blockheight</th>\n",
       "      <th>addresses_count_active</th>\n",
       "      <th>addresses_count_sender</th>\n",
       "      <th>addresses_count_receiver</th>\n",
       "    </tr>\n",
       "    <tr>\n",
       "      <th>datetime</th>\n",
       "      <th></th>\n",
       "      <th></th>\n",
       "      <th></th>\n",
       "      <th></th>\n",
       "    </tr>\n",
       "  </thead>\n",
       "  <tbody>\n",
       "    <tr>\n",
       "      <th>2021-05-24 16:09:18</th>\n",
       "      <td>684792</td>\n",
       "      <td>9532</td>\n",
       "      <td>5526</td>\n",
       "      <td>4420</td>\n",
       "    </tr>\n",
       "    <tr>\n",
       "      <th>2021-05-24 16:07:16</th>\n",
       "      <td>684791</td>\n",
       "      <td>9480</td>\n",
       "      <td>5864</td>\n",
       "      <td>3861</td>\n",
       "    </tr>\n",
       "    <tr>\n",
       "      <th>2021-05-24 16:06:12</th>\n",
       "      <td>684790</td>\n",
       "      <td>13032</td>\n",
       "      <td>4871</td>\n",
       "      <td>8798</td>\n",
       "    </tr>\n",
       "    <tr>\n",
       "      <th>2021-05-24 15:41:37</th>\n",
       "      <td>684789</td>\n",
       "      <td>11116</td>\n",
       "      <td>4813</td>\n",
       "      <td>6803</td>\n",
       "    </tr>\n",
       "    <tr>\n",
       "      <th>2021-05-24 15:35:57</th>\n",
       "      <td>684788</td>\n",
       "      <td>12394</td>\n",
       "      <td>5849</td>\n",
       "      <td>6968</td>\n",
       "    </tr>\n",
       "  </tbody>\n",
       "</table>\n",
       "</div>"
      ],
      "text/plain": [
       "                     blockheight  addresses_count_active  \\\n",
       "datetime                                                   \n",
       "2021-05-24 16:09:18       684792                    9532   \n",
       "2021-05-24 16:07:16       684791                    9480   \n",
       "2021-05-24 16:06:12       684790                   13032   \n",
       "2021-05-24 15:41:37       684789                   11116   \n",
       "2021-05-24 15:35:57       684788                   12394   \n",
       "\n",
       "                     addresses_count_sender  addresses_count_receiver  \n",
       "datetime                                                               \n",
       "2021-05-24 16:09:18                    5526                      4420  \n",
       "2021-05-24 16:07:16                    5864                      3861  \n",
       "2021-05-24 16:06:12                    4871                      8798  \n",
       "2021-05-24 15:41:37                    4813                      6803  \n",
       "2021-05-24 15:35:57                    5849                      6968  "
      ]
     },
     "metadata": {},
     "output_type": "display_data"
    },
    {
     "data": {
      "text/plain": [
       "'btc-all_exchange-network-data-difficulty'"
      ]
     },
     "metadata": {},
     "output_type": "display_data"
    },
    {
     "data": {
      "text/html": [
       "<div>\n",
       "<style scoped>\n",
       "    .dataframe tbody tr th:only-of-type {\n",
       "        vertical-align: middle;\n",
       "    }\n",
       "\n",
       "    .dataframe tbody tr th {\n",
       "        vertical-align: top;\n",
       "    }\n",
       "\n",
       "    .dataframe thead th {\n",
       "        text-align: right;\n",
       "    }\n",
       "</style>\n",
       "<table border=\"1\" class=\"dataframe\">\n",
       "  <thead>\n",
       "    <tr style=\"text-align: right;\">\n",
       "      <th></th>\n",
       "      <th>blockheight</th>\n",
       "      <th>difficulty</th>\n",
       "    </tr>\n",
       "    <tr>\n",
       "      <th>datetime</th>\n",
       "      <th></th>\n",
       "      <th></th>\n",
       "    </tr>\n",
       "  </thead>\n",
       "  <tbody>\n",
       "    <tr>\n",
       "      <th>2021-05-24 16:09:18</th>\n",
       "      <td>684792</td>\n",
       "      <td>2.504649e+13</td>\n",
       "    </tr>\n",
       "    <tr>\n",
       "      <th>2021-05-24 16:07:16</th>\n",
       "      <td>684791</td>\n",
       "      <td>2.504649e+13</td>\n",
       "    </tr>\n",
       "    <tr>\n",
       "      <th>2021-05-24 16:06:12</th>\n",
       "      <td>684790</td>\n",
       "      <td>2.504649e+13</td>\n",
       "    </tr>\n",
       "    <tr>\n",
       "      <th>2021-05-24 15:41:37</th>\n",
       "      <td>684789</td>\n",
       "      <td>2.504649e+13</td>\n",
       "    </tr>\n",
       "    <tr>\n",
       "      <th>2021-05-24 15:35:57</th>\n",
       "      <td>684788</td>\n",
       "      <td>2.504649e+13</td>\n",
       "    </tr>\n",
       "  </tbody>\n",
       "</table>\n",
       "</div>"
      ],
      "text/plain": [
       "                     blockheight    difficulty\n",
       "datetime                                      \n",
       "2021-05-24 16:09:18       684792  2.504649e+13\n",
       "2021-05-24 16:07:16       684791  2.504649e+13\n",
       "2021-05-24 16:06:12       684790  2.504649e+13\n",
       "2021-05-24 15:41:37       684789  2.504649e+13\n",
       "2021-05-24 15:35:57       684788  2.504649e+13"
      ]
     },
     "metadata": {},
     "output_type": "display_data"
    },
    {
     "data": {
      "text/plain": [
       "'btc-all_exchange-network-data-fees-transaction'"
      ]
     },
     "metadata": {},
     "output_type": "display_data"
    },
    {
     "data": {
      "text/html": [
       "<div>\n",
       "<style scoped>\n",
       "    .dataframe tbody tr th:only-of-type {\n",
       "        vertical-align: middle;\n",
       "    }\n",
       "\n",
       "    .dataframe tbody tr th {\n",
       "        vertical-align: top;\n",
       "    }\n",
       "\n",
       "    .dataframe thead th {\n",
       "        text-align: right;\n",
       "    }\n",
       "</style>\n",
       "<table border=\"1\" class=\"dataframe\">\n",
       "  <thead>\n",
       "    <tr style=\"text-align: right;\">\n",
       "      <th></th>\n",
       "      <th>blockheight</th>\n",
       "      <th>fees_transaction_mean</th>\n",
       "      <th>fees_transaction_mean_usd</th>\n",
       "      <th>fees_transaction_median</th>\n",
       "      <th>fees_transaction_median_usd</th>\n",
       "    </tr>\n",
       "    <tr>\n",
       "      <th>datetime</th>\n",
       "      <th></th>\n",
       "      <th></th>\n",
       "      <th></th>\n",
       "      <th></th>\n",
       "      <th></th>\n",
       "    </tr>\n",
       "  </thead>\n",
       "  <tbody>\n",
       "    <tr>\n",
       "      <th>2021-05-24 16:09:18</th>\n",
       "      <td>684792</td>\n",
       "      <td>0.000506</td>\n",
       "      <td>18.964410</td>\n",
       "      <td>0.000202</td>\n",
       "      <td>7.578678</td>\n",
       "    </tr>\n",
       "    <tr>\n",
       "      <th>2021-05-24 16:07:16</th>\n",
       "      <td>684791</td>\n",
       "      <td>0.000981</td>\n",
       "      <td>36.589494</td>\n",
       "      <td>0.000208</td>\n",
       "      <td>7.751664</td>\n",
       "    </tr>\n",
       "    <tr>\n",
       "      <th>2021-05-24 16:06:12</th>\n",
       "      <td>684790</td>\n",
       "      <td>0.000488</td>\n",
       "      <td>18.136701</td>\n",
       "      <td>0.000264</td>\n",
       "      <td>9.832055</td>\n",
       "    </tr>\n",
       "    <tr>\n",
       "      <th>2021-05-24 15:41:37</th>\n",
       "      <td>684789</td>\n",
       "      <td>0.000468</td>\n",
       "      <td>17.684513</td>\n",
       "      <td>0.000219</td>\n",
       "      <td>8.285941</td>\n",
       "    </tr>\n",
       "    <tr>\n",
       "      <th>2021-05-24 15:35:57</th>\n",
       "      <td>684788</td>\n",
       "      <td>0.000693</td>\n",
       "      <td>26.334343</td>\n",
       "      <td>0.000228</td>\n",
       "      <td>8.653934</td>\n",
       "    </tr>\n",
       "  </tbody>\n",
       "</table>\n",
       "</div>"
      ],
      "text/plain": [
       "                     blockheight  fees_transaction_mean  \\\n",
       "datetime                                                  \n",
       "2021-05-24 16:09:18       684792               0.000506   \n",
       "2021-05-24 16:07:16       684791               0.000981   \n",
       "2021-05-24 16:06:12       684790               0.000488   \n",
       "2021-05-24 15:41:37       684789               0.000468   \n",
       "2021-05-24 15:35:57       684788               0.000693   \n",
       "\n",
       "                     fees_transaction_mean_usd  fees_transaction_median  \\\n",
       "datetime                                                                  \n",
       "2021-05-24 16:09:18                  18.964410                 0.000202   \n",
       "2021-05-24 16:07:16                  36.589494                 0.000208   \n",
       "2021-05-24 16:06:12                  18.136701                 0.000264   \n",
       "2021-05-24 15:41:37                  17.684513                 0.000219   \n",
       "2021-05-24 15:35:57                  26.334343                 0.000228   \n",
       "\n",
       "                     fees_transaction_median_usd  \n",
       "datetime                                          \n",
       "2021-05-24 16:09:18                     7.578678  \n",
       "2021-05-24 16:07:16                     7.751664  \n",
       "2021-05-24 16:06:12                     9.832055  \n",
       "2021-05-24 15:41:37                     8.285941  \n",
       "2021-05-24 15:35:57                     8.653934  "
      ]
     },
     "metadata": {},
     "output_type": "display_data"
    },
    {
     "data": {
      "text/plain": [
       "'btc-all_exchange-network-data-supply'"
      ]
     },
     "metadata": {},
     "output_type": "display_data"
    },
    {
     "data": {
      "text/html": [
       "<div>\n",
       "<style scoped>\n",
       "    .dataframe tbody tr th:only-of-type {\n",
       "        vertical-align: middle;\n",
       "    }\n",
       "\n",
       "    .dataframe tbody tr th {\n",
       "        vertical-align: top;\n",
       "    }\n",
       "\n",
       "    .dataframe thead th {\n",
       "        text-align: right;\n",
       "    }\n",
       "</style>\n",
       "<table border=\"1\" class=\"dataframe\">\n",
       "  <thead>\n",
       "    <tr style=\"text-align: right;\">\n",
       "      <th></th>\n",
       "      <th>blockheight</th>\n",
       "      <th>supply_total</th>\n",
       "      <th>supply_new</th>\n",
       "    </tr>\n",
       "    <tr>\n",
       "      <th>datetime</th>\n",
       "      <th></th>\n",
       "      <th></th>\n",
       "      <th></th>\n",
       "    </tr>\n",
       "  </thead>\n",
       "  <tbody>\n",
       "    <tr>\n",
       "      <th>2021-05-24 16:09:18</th>\n",
       "      <td>684792</td>\n",
       "      <td>1.871734e+07</td>\n",
       "      <td>6.25</td>\n",
       "    </tr>\n",
       "    <tr>\n",
       "      <th>2021-05-24 16:07:16</th>\n",
       "      <td>684791</td>\n",
       "      <td>1.871733e+07</td>\n",
       "      <td>6.25</td>\n",
       "    </tr>\n",
       "    <tr>\n",
       "      <th>2021-05-24 16:06:12</th>\n",
       "      <td>684790</td>\n",
       "      <td>1.871733e+07</td>\n",
       "      <td>6.25</td>\n",
       "    </tr>\n",
       "    <tr>\n",
       "      <th>2021-05-24 15:41:37</th>\n",
       "      <td>684789</td>\n",
       "      <td>1.871732e+07</td>\n",
       "      <td>6.25</td>\n",
       "    </tr>\n",
       "    <tr>\n",
       "      <th>2021-05-24 15:35:57</th>\n",
       "      <td>684788</td>\n",
       "      <td>1.871732e+07</td>\n",
       "      <td>6.25</td>\n",
       "    </tr>\n",
       "  </tbody>\n",
       "</table>\n",
       "</div>"
      ],
      "text/plain": [
       "                     blockheight  supply_total  supply_new\n",
       "datetime                                                  \n",
       "2021-05-24 16:09:18       684792  1.871734e+07        6.25\n",
       "2021-05-24 16:07:16       684791  1.871733e+07        6.25\n",
       "2021-05-24 16:06:12       684790  1.871733e+07        6.25\n",
       "2021-05-24 15:41:37       684789  1.871732e+07        6.25\n",
       "2021-05-24 15:35:57       684788  1.871732e+07        6.25"
      ]
     },
     "metadata": {},
     "output_type": "display_data"
    },
    {
     "data": {
      "text/plain": [
       "'btc-all_exchange-network-indicator-nvm'"
      ]
     },
     "metadata": {},
     "output_type": "display_data"
    },
    {
     "data": {
      "text/html": [
       "<div>\n",
       "<style scoped>\n",
       "    .dataframe tbody tr th:only-of-type {\n",
       "        vertical-align: middle;\n",
       "    }\n",
       "\n",
       "    .dataframe tbody tr th {\n",
       "        vertical-align: top;\n",
       "    }\n",
       "\n",
       "    .dataframe thead th {\n",
       "        text-align: right;\n",
       "    }\n",
       "</style>\n",
       "<table border=\"1\" class=\"dataframe\">\n",
       "  <thead>\n",
       "    <tr style=\"text-align: right;\">\n",
       "      <th></th>\n",
       "      <th>nvm</th>\n",
       "    </tr>\n",
       "    <tr>\n",
       "      <th>date</th>\n",
       "      <th></th>\n",
       "    </tr>\n",
       "  </thead>\n",
       "  <tbody>\n",
       "    <tr>\n",
       "      <th>2021-05-23</th>\n",
       "      <td>0.699404</td>\n",
       "    </tr>\n",
       "    <tr>\n",
       "      <th>2021-05-22</th>\n",
       "      <td>0.832349</td>\n",
       "    </tr>\n",
       "    <tr>\n",
       "      <th>2021-05-21</th>\n",
       "      <td>0.776728</td>\n",
       "    </tr>\n",
       "    <tr>\n",
       "      <th>2021-05-20</th>\n",
       "      <td>0.852420</td>\n",
       "    </tr>\n",
       "    <tr>\n",
       "      <th>2021-05-19</th>\n",
       "      <td>0.653429</td>\n",
       "    </tr>\n",
       "  </tbody>\n",
       "</table>\n",
       "</div>"
      ],
      "text/plain": [
       "                 nvm\n",
       "date                \n",
       "2021-05-23  0.699404\n",
       "2021-05-22  0.832349\n",
       "2021-05-21  0.776728\n",
       "2021-05-20  0.852420\n",
       "2021-05-19  0.653429"
      ]
     },
     "metadata": {},
     "output_type": "display_data"
    },
    {
     "data": {
      "text/plain": [
       "'btc-all_exchange-network-indicator-nvt'"
      ]
     },
     "metadata": {},
     "output_type": "display_data"
    },
    {
     "data": {
      "text/html": [
       "<div>\n",
       "<style scoped>\n",
       "    .dataframe tbody tr th:only-of-type {\n",
       "        vertical-align: middle;\n",
       "    }\n",
       "\n",
       "    .dataframe tbody tr th {\n",
       "        vertical-align: top;\n",
       "    }\n",
       "\n",
       "    .dataframe thead th {\n",
       "        text-align: right;\n",
       "    }\n",
       "</style>\n",
       "<table border=\"1\" class=\"dataframe\">\n",
       "  <thead>\n",
       "    <tr style=\"text-align: right;\">\n",
       "      <th></th>\n",
       "      <th>nvt</th>\n",
       "    </tr>\n",
       "    <tr>\n",
       "      <th>date</th>\n",
       "      <th></th>\n",
       "    </tr>\n",
       "  </thead>\n",
       "  <tbody>\n",
       "    <tr>\n",
       "      <th>2021-05-23</th>\n",
       "      <td>8.425327</td>\n",
       "    </tr>\n",
       "    <tr>\n",
       "      <th>2021-05-22</th>\n",
       "      <td>7.923475</td>\n",
       "    </tr>\n",
       "    <tr>\n",
       "      <th>2021-05-21</th>\n",
       "      <td>8.159086</td>\n",
       "    </tr>\n",
       "    <tr>\n",
       "      <th>2021-05-20</th>\n",
       "      <td>6.654307</td>\n",
       "    </tr>\n",
       "    <tr>\n",
       "      <th>2021-05-19</th>\n",
       "      <td>5.853836</td>\n",
       "    </tr>\n",
       "  </tbody>\n",
       "</table>\n",
       "</div>"
      ],
      "text/plain": [
       "                 nvt\n",
       "date                \n",
       "2021-05-23  8.425327\n",
       "2021-05-22  7.923475\n",
       "2021-05-21  8.159086\n",
       "2021-05-20  6.654307\n",
       "2021-05-19  5.853836"
      ]
     },
     "metadata": {},
     "output_type": "display_data"
    },
    {
     "data": {
      "text/plain": [
       "'btc-all_exchange-network-indicator-nvt-golden-cross'"
      ]
     },
     "metadata": {},
     "output_type": "display_data"
    },
    {
     "data": {
      "text/html": [
       "<div>\n",
       "<style scoped>\n",
       "    .dataframe tbody tr th:only-of-type {\n",
       "        vertical-align: middle;\n",
       "    }\n",
       "\n",
       "    .dataframe tbody tr th {\n",
       "        vertical-align: top;\n",
       "    }\n",
       "\n",
       "    .dataframe thead th {\n",
       "        text-align: right;\n",
       "    }\n",
       "</style>\n",
       "<table border=\"1\" class=\"dataframe\">\n",
       "  <thead>\n",
       "    <tr style=\"text-align: right;\">\n",
       "      <th></th>\n",
       "      <th>nvt_golden_cross</th>\n",
       "    </tr>\n",
       "    <tr>\n",
       "      <th>date</th>\n",
       "      <th></th>\n",
       "    </tr>\n",
       "  </thead>\n",
       "  <tbody>\n",
       "    <tr>\n",
       "      <th>2021-05-23</th>\n",
       "      <td>-2.954011</td>\n",
       "    </tr>\n",
       "    <tr>\n",
       "      <th>2021-05-22</th>\n",
       "      <td>-2.947758</td>\n",
       "    </tr>\n",
       "    <tr>\n",
       "      <th>2021-05-21</th>\n",
       "      <td>-2.539547</td>\n",
       "    </tr>\n",
       "    <tr>\n",
       "      <th>2021-05-20</th>\n",
       "      <td>-1.649811</td>\n",
       "    </tr>\n",
       "    <tr>\n",
       "      <th>2021-05-19</th>\n",
       "      <td>-0.959358</td>\n",
       "    </tr>\n",
       "  </tbody>\n",
       "</table>\n",
       "</div>"
      ],
      "text/plain": [
       "            nvt_golden_cross\n",
       "date                        \n",
       "2021-05-23         -2.954011\n",
       "2021-05-22         -2.947758\n",
       "2021-05-21         -2.539547\n",
       "2021-05-20         -1.649811\n",
       "2021-05-19         -0.959358"
      ]
     },
     "metadata": {},
     "output_type": "display_data"
    },
    {
     "data": {
      "text/plain": [
       "'btc-all_exchange-network-indicator-puell-multiple'"
      ]
     },
     "metadata": {},
     "output_type": "display_data"
    },
    {
     "data": {
      "text/html": [
       "<div>\n",
       "<style scoped>\n",
       "    .dataframe tbody tr th:only-of-type {\n",
       "        vertical-align: middle;\n",
       "    }\n",
       "\n",
       "    .dataframe tbody tr th {\n",
       "        vertical-align: top;\n",
       "    }\n",
       "\n",
       "    .dataframe thead th {\n",
       "        text-align: right;\n",
       "    }\n",
       "</style>\n",
       "<table border=\"1\" class=\"dataframe\">\n",
       "  <thead>\n",
       "    <tr style=\"text-align: right;\">\n",
       "      <th></th>\n",
       "      <th>puell_multiple</th>\n",
       "    </tr>\n",
       "    <tr>\n",
       "      <th>date</th>\n",
       "      <th></th>\n",
       "    </tr>\n",
       "  </thead>\n",
       "  <tbody>\n",
       "    <tr>\n",
       "      <th>2021-05-23</th>\n",
       "      <td>1.052796</td>\n",
       "    </tr>\n",
       "    <tr>\n",
       "      <th>2021-05-22</th>\n",
       "      <td>1.134109</td>\n",
       "    </tr>\n",
       "    <tr>\n",
       "      <th>2021-05-21</th>\n",
       "      <td>1.164916</td>\n",
       "    </tr>\n",
       "    <tr>\n",
       "      <th>2021-05-20</th>\n",
       "      <td>1.217663</td>\n",
       "    </tr>\n",
       "    <tr>\n",
       "      <th>2021-05-19</th>\n",
       "      <td>1.294371</td>\n",
       "    </tr>\n",
       "  </tbody>\n",
       "</table>\n",
       "</div>"
      ],
      "text/plain": [
       "            puell_multiple\n",
       "date                      \n",
       "2021-05-23        1.052796\n",
       "2021-05-22        1.134109\n",
       "2021-05-21        1.164916\n",
       "2021-05-20        1.217663\n",
       "2021-05-19        1.294371"
      ]
     },
     "metadata": {},
     "output_type": "display_data"
    },
    {
     "data": {
      "text/plain": [
       "'btc-all_exchange-network-indicator-stock-to-flow'"
      ]
     },
     "metadata": {},
     "output_type": "display_data"
    },
    {
     "data": {
      "text/html": [
       "<div>\n",
       "<style scoped>\n",
       "    .dataframe tbody tr th:only-of-type {\n",
       "        vertical-align: middle;\n",
       "    }\n",
       "\n",
       "    .dataframe tbody tr th {\n",
       "        vertical-align: top;\n",
       "    }\n",
       "\n",
       "    .dataframe thead th {\n",
       "        text-align: right;\n",
       "    }\n",
       "</style>\n",
       "<table border=\"1\" class=\"dataframe\">\n",
       "  <thead>\n",
       "    <tr style=\"text-align: right;\">\n",
       "      <th></th>\n",
       "      <th>blockheight</th>\n",
       "      <th>stock_to_flow</th>\n",
       "      <th>stock_to_flow_reversion</th>\n",
       "    </tr>\n",
       "    <tr>\n",
       "      <th>datetime</th>\n",
       "      <th></th>\n",
       "      <th></th>\n",
       "      <th></th>\n",
       "    </tr>\n",
       "  </thead>\n",
       "  <tbody>\n",
       "    <tr>\n",
       "      <th>2021-05-24 16:09:18</th>\n",
       "      <td>684792</td>\n",
       "      <td>2.994774e+06</td>\n",
       "      <td>0.012527</td>\n",
       "    </tr>\n",
       "    <tr>\n",
       "      <th>2021-05-24 16:07:16</th>\n",
       "      <td>684791</td>\n",
       "      <td>2.994773e+06</td>\n",
       "      <td>0.012449</td>\n",
       "    </tr>\n",
       "    <tr>\n",
       "      <th>2021-05-24 16:06:12</th>\n",
       "      <td>684790</td>\n",
       "      <td>2.994772e+06</td>\n",
       "      <td>0.012421</td>\n",
       "    </tr>\n",
       "    <tr>\n",
       "      <th>2021-05-24 15:41:37</th>\n",
       "      <td>684789</td>\n",
       "      <td>2.994771e+06</td>\n",
       "      <td>0.012621</td>\n",
       "    </tr>\n",
       "    <tr>\n",
       "      <th>2021-05-24 15:35:57</th>\n",
       "      <td>684788</td>\n",
       "      <td>2.994770e+06</td>\n",
       "      <td>0.012685</td>\n",
       "    </tr>\n",
       "  </tbody>\n",
       "</table>\n",
       "</div>"
      ],
      "text/plain": [
       "                     blockheight  stock_to_flow  stock_to_flow_reversion\n",
       "datetime                                                                \n",
       "2021-05-24 16:09:18       684792   2.994774e+06                 0.012527\n",
       "2021-05-24 16:07:16       684791   2.994773e+06                 0.012449\n",
       "2021-05-24 16:06:12       684790   2.994772e+06                 0.012421\n",
       "2021-05-24 15:41:37       684789   2.994771e+06                 0.012621\n",
       "2021-05-24 15:35:57       684788   2.994770e+06                 0.012685"
      ]
     },
     "metadata": {},
     "output_type": "display_data"
    }
   ],
   "source": [
    "for data_type in CryptoQuantData.data_type_list:\n",
    "    for feature in all_features:\n",
    "        if data_type in feature:\n",
    "            display(feature)\n",
    "            display(data_dict[feature].head())\n",
    "            break"
   ]
  },
  {
   "cell_type": "markdown",
   "id": "8ee5807c-894c-483c-a6de-6f0314332a86",
   "metadata": {},
   "source": [
    "### Calcualted correlation between features and returns\n",
    "   * for each feature, get the change rate of of the feature numbers\n",
    "   * calcualte corr between change on features v.s. change on close price (ret)\n",
    "   * try different time scale, sampling frequency, 1Min, 5Min\n",
    "   * try different lag\n",
    "   * rolling historical corr\n",
    " "
   ]
  },
  {
   "cell_type": "code",
   "execution_count": 93,
   "id": "ec8a760e-decf-430b-85e5-a40fb722904e",
   "metadata": {},
   "outputs": [],
   "source": [
    "btc_close = df['btc-all_exchange-market-data-price-usd']['price_usd_close'][::-1]"
   ]
  },
  {
   "cell_type": "code",
   "execution_count": 94,
   "id": "4d9708e2-0aa7-40b8-acc8-93d15f96afe3",
   "metadata": {},
   "outputs": [
    {
     "data": {
      "text/plain": [
       "datetime\n",
       "2016-06-14 03:05:00      695.215000\n",
       "2016-06-14 03:06:00      695.225000\n",
       "2016-06-14 03:07:00      695.190000\n",
       "2016-06-14 03:08:00      695.195000\n",
       "2016-06-14 03:09:00      695.195000\n",
       "                           ...     \n",
       "2021-05-24 15:55:00    37536.596667\n",
       "2021-05-24 15:56:00    37608.256667\n",
       "2021-05-24 15:57:00    37543.473333\n",
       "2021-05-24 15:58:00    37611.911667\n",
       "2021-05-24 15:59:00    37559.263333\n",
       "Name: price_usd_close, Length: 2599975, dtype: float64"
      ]
     },
     "execution_count": 94,
     "metadata": {},
     "output_type": "execute_result"
    }
   ],
   "source": [
    "btc_close"
   ]
  },
  {
   "cell_type": "code",
   "execution_count": 170,
   "id": "bdb47aa6-8beb-494e-b476-2e7d7b85a35a",
   "metadata": {},
   "outputs": [
    {
     "data": {
      "text/plain": [
       "datetime\n",
       "2021-05-17 17:20:00    42568.928333\n",
       "2021-05-17 17:21:00    42601.056667\n",
       "2021-05-17 17:22:00    42440.913333\n",
       "2021-05-17 17:23:00    42356.598333\n",
       "2021-05-17 17:24:00    42281.196667\n",
       "                           ...     \n",
       "2021-05-24 15:55:00    37536.596667\n",
       "2021-05-24 15:56:00    37608.256667\n",
       "2021-05-24 15:57:00    37543.473333\n",
       "2021-05-24 15:58:00    37611.911667\n",
       "2021-05-24 15:59:00    37559.263333\n",
       "Name: price_usd_close, Length: 10000, dtype: float64"
      ]
     },
     "execution_count": 170,
     "metadata": {},
     "output_type": "execute_result"
    }
   ],
   "source": [
    "btc_close.tail(10000)"
   ]
  },
  {
   "cell_type": "code",
   "execution_count": 171,
   "id": "fb47b6c0-1798-43ca-85de-5a7b8996a9bf",
   "metadata": {},
   "outputs": [],
   "source": [
    "btc_ret = btc_close.tail(10000).pct_change()"
   ]
  },
  {
   "cell_type": "code",
   "execution_count": 97,
   "id": "33863fd2-42a1-44b0-a149-d6da8ca68052",
   "metadata": {},
   "outputs": [],
   "source": [
    "all_time_index_1min = btc_close.tail(10000).index"
   ]
  },
  {
   "cell_type": "code",
   "execution_count": 98,
   "id": "c563aa4a-35ea-4767-9490-dcdd9c67a74e",
   "metadata": {},
   "outputs": [
    {
     "data": {
      "text/plain": [
       "DatetimeIndex(['2021-05-17 17:20:00', '2021-05-17 17:21:00',\n",
       "               '2021-05-17 17:22:00', '2021-05-17 17:23:00',\n",
       "               '2021-05-17 17:24:00', '2021-05-17 17:25:00',\n",
       "               '2021-05-17 17:26:00', '2021-05-17 17:27:00',\n",
       "               '2021-05-17 17:28:00', '2021-05-17 17:29:00',\n",
       "               ...\n",
       "               '2021-05-24 15:50:00', '2021-05-24 15:51:00',\n",
       "               '2021-05-24 15:52:00', '2021-05-24 15:53:00',\n",
       "               '2021-05-24 15:54:00', '2021-05-24 15:55:00',\n",
       "               '2021-05-24 15:56:00', '2021-05-24 15:57:00',\n",
       "               '2021-05-24 15:58:00', '2021-05-24 15:59:00'],\n",
       "              dtype='datetime64[ns]', name='datetime', length=10000, freq=None)"
      ]
     },
     "execution_count": 98,
     "metadata": {},
     "output_type": "execute_result"
    }
   ],
   "source": [
    "all_time_index_1min"
   ]
  },
  {
   "cell_type": "code",
   "execution_count": 109,
   "id": "321b6aee-5389-4d72-8864-0d6c9d2d18b1",
   "metadata": {},
   "outputs": [
    {
     "data": {
      "text/html": [
       "<div>\n",
       "<style scoped>\n",
       "    .dataframe tbody tr th:only-of-type {\n",
       "        vertical-align: middle;\n",
       "    }\n",
       "\n",
       "    .dataframe tbody tr th {\n",
       "        vertical-align: top;\n",
       "    }\n",
       "\n",
       "    .dataframe thead th {\n",
       "        text-align: right;\n",
       "    }\n",
       "</style>\n",
       "<table border=\"1\" class=\"dataframe\">\n",
       "  <thead>\n",
       "    <tr style=\"text-align: right;\">\n",
       "      <th></th>\n",
       "      <th>blockheight</th>\n",
       "      <th>inflow_total</th>\n",
       "      <th>inflow_top10</th>\n",
       "      <th>inflow_mean</th>\n",
       "    </tr>\n",
       "    <tr>\n",
       "      <th>datetime</th>\n",
       "      <th></th>\n",
       "      <th></th>\n",
       "      <th></th>\n",
       "      <th></th>\n",
       "    </tr>\n",
       "  </thead>\n",
       "  <tbody>\n",
       "    <tr>\n",
       "      <th>2021-05-24 15:41:37</th>\n",
       "      <td>684789</td>\n",
       "      <td>221.803528</td>\n",
       "      <td>219.965722</td>\n",
       "      <td>1.036465</td>\n",
       "    </tr>\n",
       "    <tr>\n",
       "      <th>2021-05-24 15:35:57</th>\n",
       "      <td>684788</td>\n",
       "      <td>2521.612293</td>\n",
       "      <td>1446.068342</td>\n",
       "      <td>8.433486</td>\n",
       "    </tr>\n",
       "    <tr>\n",
       "      <th>2021-05-24 15:33:00</th>\n",
       "      <td>684787</td>\n",
       "      <td>740.193787</td>\n",
       "      <td>706.067525</td>\n",
       "      <td>2.364836</td>\n",
       "    </tr>\n",
       "    <tr>\n",
       "      <th>2021-05-24 15:16:03</th>\n",
       "      <td>684786</td>\n",
       "      <td>1562.544985</td>\n",
       "      <td>1555.904355</td>\n",
       "      <td>5.024260</td>\n",
       "    </tr>\n",
       "    <tr>\n",
       "      <th>2021-05-24 14:52:58</th>\n",
       "      <td>684785</td>\n",
       "      <td>1375.947020</td>\n",
       "      <td>1358.351824</td>\n",
       "      <td>4.259898</td>\n",
       "    </tr>\n",
       "    <tr>\n",
       "      <th>...</th>\n",
       "      <td>...</td>\n",
       "      <td>...</td>\n",
       "      <td>...</td>\n",
       "      <td>...</td>\n",
       "    </tr>\n",
       "    <tr>\n",
       "      <th>2012-04-02 01:39:17</th>\n",
       "      <td>173953</td>\n",
       "      <td>0.000000</td>\n",
       "      <td>0.000000</td>\n",
       "      <td>0.000000</td>\n",
       "    </tr>\n",
       "    <tr>\n",
       "      <th>2012-04-02 01:20:57</th>\n",
       "      <td>173952</td>\n",
       "      <td>0.000000</td>\n",
       "      <td>0.000000</td>\n",
       "      <td>0.000000</td>\n",
       "    </tr>\n",
       "    <tr>\n",
       "      <th>2012-04-02 01:13:36</th>\n",
       "      <td>173951</td>\n",
       "      <td>0.000000</td>\n",
       "      <td>0.000000</td>\n",
       "      <td>0.000000</td>\n",
       "    </tr>\n",
       "    <tr>\n",
       "      <th>2012-04-02 01:08:44</th>\n",
       "      <td>173950</td>\n",
       "      <td>0.000000</td>\n",
       "      <td>0.000000</td>\n",
       "      <td>0.000000</td>\n",
       "    </tr>\n",
       "    <tr>\n",
       "      <th>2012-04-02 00:57:43</th>\n",
       "      <td>173949</td>\n",
       "      <td>0.020000</td>\n",
       "      <td>0.020000</td>\n",
       "      <td>0.020000</td>\n",
       "    </tr>\n",
       "  </tbody>\n",
       "</table>\n",
       "<p>510603 rows × 4 columns</p>\n",
       "</div>"
      ],
      "text/plain": [
       "                     blockheight  inflow_total  inflow_top10  inflow_mean\n",
       "datetime                                                                 \n",
       "2021-05-24 15:41:37       684789    221.803528    219.965722     1.036465\n",
       "2021-05-24 15:35:57       684788   2521.612293   1446.068342     8.433486\n",
       "2021-05-24 15:33:00       684787    740.193787    706.067525     2.364836\n",
       "2021-05-24 15:16:03       684786   1562.544985   1555.904355     5.024260\n",
       "2021-05-24 14:52:58       684785   1375.947020   1358.351824     4.259898\n",
       "...                          ...           ...           ...          ...\n",
       "2012-04-02 01:39:17       173953      0.000000      0.000000     0.000000\n",
       "2012-04-02 01:20:57       173952      0.000000      0.000000     0.000000\n",
       "2012-04-02 01:13:36       173951      0.000000      0.000000     0.000000\n",
       "2012-04-02 01:08:44       173950      0.000000      0.000000     0.000000\n",
       "2012-04-02 00:57:43       173949      0.020000      0.020000     0.020000\n",
       "\n",
       "[510603 rows x 4 columns]"
      ]
     },
     "execution_count": 109,
     "metadata": {},
     "output_type": "execute_result"
    }
   ],
   "source": [
    "exchangeflows = df['btc-all_exchange-exchange-flows-inflow']\n",
    "exchangeflows"
   ]
  },
  {
   "cell_type": "code",
   "execution_count": 110,
   "id": "c973ac1a-4ceb-4a1c-93a0-9747303db81e",
   "metadata": {},
   "outputs": [],
   "source": [
    "exchangeflows = exchangeflows[::-1].reset_index().tail(10000)"
   ]
  },
  {
   "cell_type": "code",
   "execution_count": 113,
   "id": "4670e8b0-eaaa-4d4d-8a93-245ce03d4bf2",
   "metadata": {},
   "outputs": [],
   "source": [
    "exchangeflows['signal_time'] = exchangeflows['datetime'].apply(lambda x: x.ceil('min'))"
   ]
  },
  {
   "cell_type": "code",
   "execution_count": 114,
   "id": "bdc9ba17-81e9-45d0-82d0-44133fcf556d",
   "metadata": {},
   "outputs": [
    {
     "data": {
      "text/html": [
       "<div>\n",
       "<style scoped>\n",
       "    .dataframe tbody tr th:only-of-type {\n",
       "        vertical-align: middle;\n",
       "    }\n",
       "\n",
       "    .dataframe tbody tr th {\n",
       "        vertical-align: top;\n",
       "    }\n",
       "\n",
       "    .dataframe thead th {\n",
       "        text-align: right;\n",
       "    }\n",
       "</style>\n",
       "<table border=\"1\" class=\"dataframe\">\n",
       "  <thead>\n",
       "    <tr style=\"text-align: right;\">\n",
       "      <th></th>\n",
       "      <th>datetime</th>\n",
       "      <th>blockheight</th>\n",
       "      <th>inflow_total</th>\n",
       "      <th>inflow_top10</th>\n",
       "      <th>inflow_mean</th>\n",
       "      <th>signal_time</th>\n",
       "    </tr>\n",
       "  </thead>\n",
       "  <tbody>\n",
       "    <tr>\n",
       "      <th>500603</th>\n",
       "      <td>2021-03-15 21:51:07</td>\n",
       "      <td>674790</td>\n",
       "      <td>3389.645225</td>\n",
       "      <td>3381.114187</td>\n",
       "      <td>6.468789</td>\n",
       "      <td>2021-03-15 21:52:00</td>\n",
       "    </tr>\n",
       "    <tr>\n",
       "      <th>500604</th>\n",
       "      <td>2021-03-15 21:55:40</td>\n",
       "      <td>674791</td>\n",
       "      <td>19.354087</td>\n",
       "      <td>16.323136</td>\n",
       "      <td>0.043105</td>\n",
       "      <td>2021-03-15 21:56:00</td>\n",
       "    </tr>\n",
       "    <tr>\n",
       "      <th>500605</th>\n",
       "      <td>2021-03-15 22:21:53</td>\n",
       "      <td>674792</td>\n",
       "      <td>290.686541</td>\n",
       "      <td>279.857580</td>\n",
       "      <td>0.400947</td>\n",
       "      <td>2021-03-15 22:22:00</td>\n",
       "    </tr>\n",
       "    <tr>\n",
       "      <th>500606</th>\n",
       "      <td>2021-03-15 22:35:55</td>\n",
       "      <td>674793</td>\n",
       "      <td>489.911016</td>\n",
       "      <td>407.621863</td>\n",
       "      <td>0.882723</td>\n",
       "      <td>2021-03-15 22:36:00</td>\n",
       "    </tr>\n",
       "    <tr>\n",
       "      <th>500607</th>\n",
       "      <td>2021-03-15 22:39:26</td>\n",
       "      <td>674794</td>\n",
       "      <td>335.908055</td>\n",
       "      <td>294.964357</td>\n",
       "      <td>1.080090</td>\n",
       "      <td>2021-03-15 22:40:00</td>\n",
       "    </tr>\n",
       "    <tr>\n",
       "      <th>...</th>\n",
       "      <td>...</td>\n",
       "      <td>...</td>\n",
       "      <td>...</td>\n",
       "      <td>...</td>\n",
       "      <td>...</td>\n",
       "      <td>...</td>\n",
       "    </tr>\n",
       "    <tr>\n",
       "      <th>510598</th>\n",
       "      <td>2021-05-24 14:52:58</td>\n",
       "      <td>684785</td>\n",
       "      <td>1375.947020</td>\n",
       "      <td>1358.351824</td>\n",
       "      <td>4.259898</td>\n",
       "      <td>2021-05-24 14:53:00</td>\n",
       "    </tr>\n",
       "    <tr>\n",
       "      <th>510599</th>\n",
       "      <td>2021-05-24 15:16:03</td>\n",
       "      <td>684786</td>\n",
       "      <td>1562.544985</td>\n",
       "      <td>1555.904355</td>\n",
       "      <td>5.024260</td>\n",
       "      <td>2021-05-24 15:17:00</td>\n",
       "    </tr>\n",
       "    <tr>\n",
       "      <th>510600</th>\n",
       "      <td>2021-05-24 15:33:00</td>\n",
       "      <td>684787</td>\n",
       "      <td>740.193787</td>\n",
       "      <td>706.067525</td>\n",
       "      <td>2.364836</td>\n",
       "      <td>2021-05-24 15:33:00</td>\n",
       "    </tr>\n",
       "    <tr>\n",
       "      <th>510601</th>\n",
       "      <td>2021-05-24 15:35:57</td>\n",
       "      <td>684788</td>\n",
       "      <td>2521.612293</td>\n",
       "      <td>1446.068342</td>\n",
       "      <td>8.433486</td>\n",
       "      <td>2021-05-24 15:36:00</td>\n",
       "    </tr>\n",
       "    <tr>\n",
       "      <th>510602</th>\n",
       "      <td>2021-05-24 15:41:37</td>\n",
       "      <td>684789</td>\n",
       "      <td>221.803528</td>\n",
       "      <td>219.965722</td>\n",
       "      <td>1.036465</td>\n",
       "      <td>2021-05-24 15:42:00</td>\n",
       "    </tr>\n",
       "  </tbody>\n",
       "</table>\n",
       "<p>10000 rows × 6 columns</p>\n",
       "</div>"
      ],
      "text/plain": [
       "                  datetime  blockheight  inflow_total  inflow_top10  \\\n",
       "500603 2021-03-15 21:51:07       674790   3389.645225   3381.114187   \n",
       "500604 2021-03-15 21:55:40       674791     19.354087     16.323136   \n",
       "500605 2021-03-15 22:21:53       674792    290.686541    279.857580   \n",
       "500606 2021-03-15 22:35:55       674793    489.911016    407.621863   \n",
       "500607 2021-03-15 22:39:26       674794    335.908055    294.964357   \n",
       "...                    ...          ...           ...           ...   \n",
       "510598 2021-05-24 14:52:58       684785   1375.947020   1358.351824   \n",
       "510599 2021-05-24 15:16:03       684786   1562.544985   1555.904355   \n",
       "510600 2021-05-24 15:33:00       684787    740.193787    706.067525   \n",
       "510601 2021-05-24 15:35:57       684788   2521.612293   1446.068342   \n",
       "510602 2021-05-24 15:41:37       684789    221.803528    219.965722   \n",
       "\n",
       "        inflow_mean         signal_time  \n",
       "500603     6.468789 2021-03-15 21:52:00  \n",
       "500604     0.043105 2021-03-15 21:56:00  \n",
       "500605     0.400947 2021-03-15 22:22:00  \n",
       "500606     0.882723 2021-03-15 22:36:00  \n",
       "500607     1.080090 2021-03-15 22:40:00  \n",
       "...             ...                 ...  \n",
       "510598     4.259898 2021-05-24 14:53:00  \n",
       "510599     5.024260 2021-05-24 15:17:00  \n",
       "510600     2.364836 2021-05-24 15:33:00  \n",
       "510601     8.433486 2021-05-24 15:36:00  \n",
       "510602     1.036465 2021-05-24 15:42:00  \n",
       "\n",
       "[10000 rows x 6 columns]"
      ]
     },
     "execution_count": 114,
     "metadata": {},
     "output_type": "execute_result"
    }
   ],
   "source": [
    "exchangeflows"
   ]
  },
  {
   "cell_type": "code",
   "execution_count": 6,
   "id": "fffdc74c-770a-4e1e-adbc-54173d591b6d",
   "metadata": {},
   "outputs": [],
   "source": [
    "feature_list = ['inflow_total','inflow_top10','inflow_mean']"
   ]
  },
  {
   "cell_type": "code",
   "execution_count": 7,
   "id": "96d42000-3957-4b42-8eae-0e08d7a67c11",
   "metadata": {},
   "outputs": [
    {
     "ename": "NameError",
     "evalue": "name 'exchangeflows' is not defined",
     "output_type": "error",
     "traceback": [
      "\u001b[1;31m---------------------------------------------------------------------------\u001b[0m",
      "\u001b[1;31mNameError\u001b[0m                                 Traceback (most recent call last)",
      "\u001b[1;32m<ipython-input-7-72a60324d7ec>\u001b[0m in \u001b[0;36m<module>\u001b[1;34m\u001b[0m\n\u001b[1;32m----> 1\u001b[1;33m \u001b[0mexchangeflows_f\u001b[0m \u001b[1;33m=\u001b[0m \u001b[0mexchangeflows\u001b[0m\u001b[1;33m[\u001b[0m\u001b[0mfeature_list\u001b[0m \u001b[1;33m+\u001b[0m \u001b[1;33m[\u001b[0m\u001b[1;34m'signal_time'\u001b[0m\u001b[1;33m]\u001b[0m\u001b[1;33m]\u001b[0m\u001b[1;33m.\u001b[0m\u001b[0mset_index\u001b[0m\u001b[1;33m(\u001b[0m\u001b[1;34m'signal_time'\u001b[0m\u001b[1;33m)\u001b[0m\u001b[1;33m\u001b[0m\u001b[1;33m\u001b[0m\u001b[0m\n\u001b[0m",
      "\u001b[1;31mNameError\u001b[0m: name 'exchangeflows' is not defined"
     ]
    }
   ],
   "source": [
    "exchangeflows_f = exchangeflows[feature_list + ['signal_time']].set_index('signal_time')"
   ]
  },
  {
   "cell_type": "code",
   "execution_count": 8,
   "id": "c78d5008-6917-481d-9b71-550de23b50ac",
   "metadata": {},
   "outputs": [
    {
     "ename": "NameError",
     "evalue": "name 'exchangeflows_f' is not defined",
     "output_type": "error",
     "traceback": [
      "\u001b[1;31m---------------------------------------------------------------------------\u001b[0m",
      "\u001b[1;31mNameError\u001b[0m                                 Traceback (most recent call last)",
      "\u001b[1;32m<ipython-input-8-91b151595f7a>\u001b[0m in \u001b[0;36m<module>\u001b[1;34m\u001b[0m\n\u001b[1;32m----> 1\u001b[1;33m \u001b[0mexchangeflows_f\u001b[0m \u001b[1;33m=\u001b[0m \u001b[0mexchangeflows_f\u001b[0m\u001b[1;33m[\u001b[0m\u001b[1;33m~\u001b[0m\u001b[0mexchangeflows_f\u001b[0m\u001b[1;33m.\u001b[0m\u001b[0mindex\u001b[0m\u001b[1;33m.\u001b[0m\u001b[0mduplicated\u001b[0m\u001b[1;33m(\u001b[0m\u001b[0mkeep\u001b[0m\u001b[1;33m=\u001b[0m\u001b[1;34m'first'\u001b[0m\u001b[1;33m)\u001b[0m\u001b[1;33m]\u001b[0m\u001b[1;33m\u001b[0m\u001b[1;33m\u001b[0m\u001b[0m\n\u001b[0m",
      "\u001b[1;31mNameError\u001b[0m: name 'exchangeflows_f' is not defined"
     ]
    }
   ],
   "source": [
    "exchangeflows_f = exchangeflows_f[~exchangeflows_f.index.duplicated(keep='first')]"
   ]
  },
  {
   "cell_type": "code",
   "execution_count": 9,
   "id": "49d55c46-7527-4aa4-a094-2b89de9829d6",
   "metadata": {},
   "outputs": [
    {
     "ename": "NameError",
     "evalue": "name 'exchangeflows_f' is not defined",
     "output_type": "error",
     "traceback": [
      "\u001b[1;31m---------------------------------------------------------------------------\u001b[0m",
      "\u001b[1;31mNameError\u001b[0m                                 Traceback (most recent call last)",
      "\u001b[1;32m<ipython-input-9-1f030981a217>\u001b[0m in \u001b[0;36m<module>\u001b[1;34m\u001b[0m\n\u001b[1;32m----> 1\u001b[1;33m \u001b[0mexchangeflows_f\u001b[0m \u001b[1;33m=\u001b[0m \u001b[0mexchangeflows_f\u001b[0m\u001b[1;33m.\u001b[0m\u001b[0mreindex\u001b[0m\u001b[1;33m(\u001b[0m\u001b[0mindex\u001b[0m\u001b[1;33m=\u001b[0m\u001b[0mall_time_index_1min\u001b[0m\u001b[1;33m)\u001b[0m\u001b[1;33m.\u001b[0m\u001b[0mffill\u001b[0m\u001b[1;33m(\u001b[0m\u001b[1;33m)\u001b[0m\u001b[1;33m\u001b[0m\u001b[1;33m\u001b[0m\u001b[0m\n\u001b[0m",
      "\u001b[1;31mNameError\u001b[0m: name 'exchangeflows_f' is not defined"
     ]
    }
   ],
   "source": [
    "exchangeflows_f = exchangeflows_f.reindex(index=all_time_index_1min).ffill()"
   ]
  },
  {
   "cell_type": "code",
   "execution_count": 152,
   "id": "53de70a9-475c-46e5-84c5-eef69365da43",
   "metadata": {},
   "outputs": [
    {
     "data": {
      "text/plain": [
       "(10000, 3)"
      ]
     },
     "execution_count": 152,
     "metadata": {},
     "output_type": "execute_result"
    }
   ],
   "source": [
    "exchangeflows_f.shape"
   ]
  },
  {
   "cell_type": "code",
   "execution_count": 163,
   "id": "12728a03-f710-402e-9ecb-06bf9382c11a",
   "metadata": {},
   "outputs": [],
   "source": [
    "\n",
    "feature = 'inflow_total'\n",
    "f_chg = exchangeflows_f['inflow_total'].pct_change().ffill(0)\n"
   ]
  },
  {
   "cell_type": "code",
   "execution_count": 191,
   "id": "1e4aa9ef-f619-4c27-9b68-608a771fd49e",
   "metadata": {},
   "outputs": [
    {
     "data": {
      "image/png": "[encoded data removed]",
      "text/plain": [
       "<Figure size 432x288 with 1 Axes>"
      ]
     },
     "metadata": {
      "needs_background": "light"
     },
     "output_type": "display_data"
    }
   ],
   "source": [
    "look_back_window = 60*24\n",
    "f_chg.rolling(look_back_window).corr(btc_ret).plot()\n",
    "f_chg.shift(5).rolling(look_back_window).corr(btc_ret).plot()\n",
    "f_chg.shift(10).rolling(look_back_window).corr(btc_ret).plot()\n",
    "f_chg.shift(20).rolling(look_back_window).corr(btc_ret).plot()\n",
    "f_chg.shift(30).rolling(look_back_window).corr(btc_ret).plot()\n",
    "plt.legend(['lag=0','lag=5','lag=10','lag=20','lag=30'])\n",
    "plt.title(feature)\n",
    "plt.show()"
   ]
  },
  {
   "cell_type": "code",
   "execution_count": 5,
   "id": "d79728d5-9006-49c2-b690-756c29e6a390",
   "metadata": {},
   "outputs": [
    {
     "ename": "NameError",
     "evalue": "name 'feature_list' is not defined",
     "output_type": "error",
     "traceback": [
      "\u001b[1;31m---------------------------------------------------------------------------\u001b[0m",
      "\u001b[1;31mNameError\u001b[0m                                 Traceback (most recent call last)",
      "\u001b[1;32m<ipython-input-5-782d93d3abb6>\u001b[0m in \u001b[0;36m<module>\u001b[1;34m\u001b[0m\n\u001b[1;32m----> 1\u001b[1;33m \u001b[1;32mfor\u001b[0m \u001b[0mfeature\u001b[0m \u001b[1;32min\u001b[0m \u001b[0mfeature_list\u001b[0m\u001b[1;33m:\u001b[0m\u001b[1;33m\u001b[0m\u001b[1;33m\u001b[0m\u001b[0m\n\u001b[0m\u001b[0;32m      2\u001b[0m     \u001b[0mf_chg\u001b[0m \u001b[1;33m=\u001b[0m \u001b[0mexchangeflows_f\u001b[0m\u001b[1;33m[\u001b[0m\u001b[1;34m'inflow_total'\u001b[0m\u001b[1;33m]\u001b[0m\u001b[1;33m.\u001b[0m\u001b[0mpct_change\u001b[0m\u001b[1;33m(\u001b[0m\u001b[1;33m)\u001b[0m\u001b[1;33m.\u001b[0m\u001b[0mffill\u001b[0m\u001b[1;33m(\u001b[0m\u001b[1;36m0\u001b[0m\u001b[1;33m)\u001b[0m\u001b[1;33m\u001b[0m\u001b[1;33m\u001b[0m\u001b[0m\n\u001b[0;32m      3\u001b[0m     \u001b[0mlook_back_window\u001b[0m \u001b[1;33m=\u001b[0m \u001b[1;36m60\u001b[0m\u001b[1;33m*\u001b[0m\u001b[1;36m24\u001b[0m\u001b[1;33m\u001b[0m\u001b[1;33m\u001b[0m\u001b[0m\n\u001b[0;32m      4\u001b[0m     \u001b[0mf_chg\u001b[0m\u001b[1;33m.\u001b[0m\u001b[0mrolling\u001b[0m\u001b[1;33m(\u001b[0m\u001b[0mlook_back_window\u001b[0m\u001b[1;33m)\u001b[0m\u001b[1;33m.\u001b[0m\u001b[0mcorr\u001b[0m\u001b[1;33m(\u001b[0m\u001b[0mbtc_ret\u001b[0m\u001b[1;33m)\u001b[0m\u001b[1;33m.\u001b[0m\u001b[0mplot\u001b[0m\u001b[1;33m(\u001b[0m\u001b[1;33m)\u001b[0m\u001b[1;33m\u001b[0m\u001b[1;33m\u001b[0m\u001b[0m\n\u001b[0;32m      5\u001b[0m     \u001b[0mf_chg\u001b[0m\u001b[1;33m.\u001b[0m\u001b[0mshift\u001b[0m\u001b[1;33m(\u001b[0m\u001b[1;36m5\u001b[0m\u001b[1;33m)\u001b[0m\u001b[1;33m.\u001b[0m\u001b[0mrolling\u001b[0m\u001b[1;33m(\u001b[0m\u001b[0mlook_back_window\u001b[0m\u001b[1;33m)\u001b[0m\u001b[1;33m.\u001b[0m\u001b[0mcorr\u001b[0m\u001b[1;33m(\u001b[0m\u001b[0mbtc_ret\u001b[0m\u001b[1;33m)\u001b[0m\u001b[1;33m.\u001b[0m\u001b[0mplot\u001b[0m\u001b[1;33m(\u001b[0m\u001b[1;33m)\u001b[0m\u001b[1;33m\u001b[0m\u001b[1;33m\u001b[0m\u001b[0m\n",
      "\u001b[1;31mNameError\u001b[0m: name 'feature_list' is not defined"
     ]
    }
   ],
   "source": [
    "for feature in feature_list:\n",
    "    f_chg = exchangeflows_f['inflow_total'].pct_change().ffill(0)\n",
    "    look_back_window = 60*24\n",
    "    f_chg.rolling(look_back_window).corr(btc_ret).plot()\n",
    "    f_chg.shift(5).rolling(look_back_window).corr(btc_ret).plot()\n",
    "    f_chg.shift(10).rolling(look_back_window).corr(btc_ret).plot()\n",
    "    f_chg.shift(20).rolling(look_back_window).corr(btc_ret).plot()\n",
    "    f_chg.shift(30).rolling(look_back_window).corr(btc_ret).plot()\n",
    "    plt.legend(['lag=0','lag=5','lag=10','lag=20','lag=30'])\n",
    "    plt.title(feature)\n",
    "    plt.show()"
   ]
  },
  {
   "cell_type": "code",
   "execution_count": 2,
   "id": "fa042f7c-b3de-469e-8259-8893a763fddb",
   "metadata": {},
   "outputs": [],
   "source": [
    "@timeit\n",
    "def align_feature_df(raw_feature_df, feature_list, ret_df):\n",
    "    # reverse time index\n",
    "    feature_df = raw_feature_df[::-1].reset_index()\n",
    "    \n",
    "    # get signal_time\n",
    "    feature_df['signal_time'] = feature_df['datetime'].apply(lambda x: x.ceil('min'))\n",
    "    \n",
    "    # select revelant columns\n",
    "    exchangeflows_f = exchangeflows[feature_list + ['signal_time']].set_index('signal_time')\n",
    "    \n",
    "    # drop duplicated index\n",
    "    feature_df = feature_df[~feature_df.index.duplicated(keep='first')]\n",
    "    \n",
    "    # align to ret dataframe\n",
    "    feature_df = feature_df.reindex(index=ret_df.index).ffill()\n",
    "    \n",
    "    return aligned_feature_df"
   ]
  },
  {
   "cell_type": "code",
   "execution_count": 3,
   "id": "1ba535c8-b34c-43d1-bdfe-1055d99ce020",
   "metadata": {},
   "outputs": [],
   "source": [
    "@timeit\n",
    "def get_feature_df_corr_with_ret(df_features, ret_df, look_back_window = 60*24):\n",
    "    feature_list = df_features.columns\n",
    "    df_features_chg = df_features.pct_change().ffill(0)\n",
    "    for feature in feature_list:\n",
    "        f_chg = df_features.pct_change().ffill(0)\n",
    "        f_chg.rolling(look_back_window).corr(btc_ret).plot()\n",
    "        f_chg.shift(5).rolling(look_back_window).corr(btc_ret).plot()\n",
    "        f_chg.shift(10).rolling(look_back_window).corr(btc_ret).plot()\n",
    "        f_chg.shift(20).rolling(look_back_window).corr(btc_ret).plot()\n",
    "        f_chg.shift(30).rolling(look_back_window).corr(btc_ret).plot()\n",
    "        plt.legend(['lag=0','lag=5','lag=10','lag=20','lag=30'])\n",
    "        plt.title(feature)\n",
    "        plt.show()"
   ]
  },
  {
   "cell_type": "code",
   "execution_count": null,
   "id": "56e4357b-8777-48bf-9392-d16160318e53",
   "metadata": {},
   "outputs": [],
   "source": [
    "data_dict = pd.read_pickle(os.path.join(LOCAL_DATA_DIR, 'cqerc20.pkl'))"
   ]
  }
 ],
 "metadata": {
  "kernelspec": {
   "display_name": "Python 3",
   "language": "python",
   "name": "python3"
  },
  "language_info": {
   "codemirror_mode": {
    "name": "ipython",
    "version": 3
   },
   "file_extension": ".py",
   "mimetype": "text/x-python",
   "name": "python",
   "nbconvert_exporter": "python",
   "pygments_lexer": "ipython3",
   "version": "3.8.8"
  }
 },
 "nbformat": 4,
 "nbformat_minor": 5
}
