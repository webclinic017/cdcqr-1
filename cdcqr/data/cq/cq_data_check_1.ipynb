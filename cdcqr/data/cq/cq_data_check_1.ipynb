{
 "cells": [
  {
   "cell_type": "markdown",
   "id": "5dfbdc9e-a6a5-4164-bfbc-b58ab6d16e1c",
   "metadata": {},
   "source": [
    "# Initial check for CryptoQuant data\n",
    "   * tasks\n",
    "       * classify tables \n",
    "       * classify data types\n",
    "       * build an initial data loader\n",
    "   * data structure\n",
    "       * instrument_list ['btc', 'stablecoin', 'erc20', 'eth']\n",
    "       * exchange_list = ['coinbase_pro', 'derivative_exchange', 'deribit', 'binance', 'all_exchange', 'spot_exchange']\n",
    "       * datatype (number of tales)\n",
    "           * exchange-flows (5)\n",
    "           * flow-indicator (5)\n",
    "           * Market Indicator (3)\n",
    "           * Network Indicator (5)\n",
    "           * miner-flows (3)\n",
    "           * Bank Flows (0)\n",
    "           * Inter Entity Flows (1)\n",
    "           * Fund Data (1)\n",
    "           * market data (5)\n",
    "           * network data (4)"
   ]
  },
  {
   "cell_type": "code",
   "execution_count": null,
   "id": "3dc8c4d6-d76a-4331-aa18-7ba8e59cdff8",
   "metadata": {},
   "outputs": [],
   "source": [
    "import pandas as pd\n",
    "from croqr.common.config import LOCAL_DATA_DIR\n",
    "import os\n",
    "from croqr.data.cq.config import CryptoQuantData\n",
    "from datetime import datetime\n",
    "import matplotlib.pyplot as plt\n",
    "from croqr.common.utils import timeit"
   ]
  },
  {
   "cell_type": "markdown",
   "id": "4424efaa-78f0-4213-b248-4df716c18329",
   "metadata": {},
   "source": [
    "## check pickel files "
   ]
  },
  {
   "cell_type": "code",
   "execution_count": null,
   "id": "aae361d1-1986-470f-ac83-3a8e910919c4",
   "metadata": {},
   "outputs": [],
   "source": [
    "files = ['{}.pkl'.format(x) for x in ['cq','cq1','cq2']]\n",
    "files"
   ]
  },
  {
   "cell_type": "code",
   "execution_count": null,
   "id": "521717b8-4c75-4bd5-930c-c41e23bd650b",
   "metadata": {},
   "outputs": [],
   "source": [
    "features = []\n",
    "features0 = []\n",
    "features1 = []\n",
    "features2 = []\n",
    "for file in files:\n",
    "    display(file, '------------------------------------------------------------------------')\n",
    "    df = pd.read_pickle(os.path.join(LOCAL_DATA_DIR, file))\n",
    "    #display(df.keys(df.keys()))\n",
    "    features.append(list(df.keys()))\n",
    "    display(len(df.keys()))\n",
    "    display(len(set(df.keys())))"
   ]
  },
  {
   "cell_type": "code",
   "execution_count": null,
   "id": "7084888f-ff8f-4f21-801b-ae706814c6bb",
   "metadata": {},
   "outputs": [],
   "source": [
    "features[1]"
   ]
  },
  {
   "cell_type": "code",
   "execution_count": null,
   "id": "1c0fc7a9-a9ac-4367-8347-6958121f7b19",
   "metadata": {},
   "outputs": [],
   "source": [
    "[x for x in features[1] if x not in features[0]]"
   ]
  },
  {
   "cell_type": "markdown",
   "id": "50fc3be4-7a64-4c69-a765-952c4bb32d66",
   "metadata": {},
   "source": [
    "## check file name"
   ]
  },
  {
   "cell_type": "code",
   "execution_count": null,
   "id": "23f6e119-a584-4b20-8941-0f4e141fed87",
   "metadata": {},
   "outputs": [],
   "source": [
    "all_features = [x for x in features[2] if x not in features[1]]"
   ]
  },
  {
   "cell_type": "code",
   "execution_count": null,
   "id": "12d5664b-b70d-401b-aad0-a3865780df32",
   "metadata": {},
   "outputs": [],
   "source": [
    "all_features_seps = [x.split('-') for x in all_features]"
   ]
  },
  {
   "cell_type": "code",
   "execution_count": null,
   "id": "e834677a-2938-4b64-8a11-bb095901af9e",
   "metadata": {},
   "outputs": [],
   "source": [
    "instruments = list(set([x[0] for x in all_features_seps ]))\n",
    "instruments"
   ]
  },
  {
   "cell_type": "code",
   "execution_count": null,
   "id": "4e24e87c-f82a-496f-a0b8-d17896d46775",
   "metadata": {},
   "outputs": [],
   "source": [
    "exchanges =  list(set([x[1] for x in all_features_seps ]))\n",
    "exchanges"
   ]
  },
  {
   "cell_type": "code",
   "execution_count": null,
   "id": "e8663d37-5030-4471-a2ff-84be5b6b76ec",
   "metadata": {},
   "outputs": [],
   "source": [
    "def find_nth(haystack, needle, n):\n",
    "    start = haystack.find(needle)\n",
    "    while start >= 0 and n > 1:\n",
    "        start = haystack.find(needle, start+len(needle))\n",
    "        n -= 1\n",
    "    return start"
   ]
  },
  {
   "cell_type": "code",
   "execution_count": null,
   "id": "a19965cc-84a6-4143-9831-63fe9ec3e11f",
   "metadata": {},
   "outputs": [],
   "source": [
    "def get_cq_feature_name_datatype_part(feature_name):\n",
    "    pos = find_nth(feature_name, '-',2)\n",
    "    return feature_name[pos+1:]"
   ]
  },
  {
   "cell_type": "code",
   "execution_count": null,
   "id": "a5d3a342-0c88-4308-ba0e-83410478f060",
   "metadata": {},
   "outputs": [],
   "source": [
    "get_cq_feature_name_datatype_part('btc-all_exchange-market-data-price-usd')"
   ]
  },
  {
   "cell_type": "code",
   "execution_count": null,
   "id": "d8d1f251-a99c-4739-9af3-d1825dde80bc",
   "metadata": {},
   "outputs": [],
   "source": [
    "data_type_list = sorted(list(set([get_cq_feature_name_datatype_part(x) for x in all_features ])))"
   ]
  },
  {
   "cell_type": "markdown",
   "id": "8bda1d41-1e0d-4226-9e7c-8a8ec07d05d5",
   "metadata": {},
   "source": [
    "### quick check each feature/table"
   ]
  },
  {
   "cell_type": "code",
   "execution_count": null,
   "id": "60bc89ec-0d53-4f4c-9c05-45378b6b993b",
   "metadata": {},
   "outputs": [],
   "source": [
    "data_dict = pd.read_pickle(os.path.join(LOCAL_DATA_DIR, 'cqerc20.pkl'))"
   ]
  },
  {
   "cell_type": "code",
   "execution_count": null,
   "id": "55731617-14d7-458f-aa5e-c99f2f5aa533",
   "metadata": {},
   "outputs": [],
   "source": [
    "all_features = list(data_dict.keys())"
   ]
  },
  {
   "cell_type": "code",
   "execution_count": null,
   "id": "e56dd9af-3073-4336-8684-6954db6b3a2d",
   "metadata": {},
   "outputs": [],
   "source": [
    "for data_type in CryptoQuantData.data_type_list:\n",
    "    for feature in all_features:\n",
    "        if data_type in feature:\n",
    "            display(feature)\n",
    "            display(data_dict[feature].head())\n",
    "            break"
   ]
  },
  {
   "cell_type": "markdown",
   "id": "8ee5807c-894c-483c-a6de-6f0314332a86",
   "metadata": {},
   "source": [
    "### Calcualted correlation between features and returns\n",
    "   * for each feature, get the change rate of of the feature numbers\n",
    "   * calcualte corr between change on features v.s. change on close price (ret)\n",
    "   * try different time scale, sampling frequency, 1Min, 5Min\n",
    "   * try different lag\n",
    "   * rolling historical corr\n",
    " "
   ]
  },
  {
   "cell_type": "code",
   "execution_count": null,
   "id": "ec8a760e-decf-430b-85e5-a40fb722904e",
   "metadata": {},
   "outputs": [],
   "source": [
    "btc_close = df['btc-all_exchange-market-data-price-usd']['price_usd_close'][::-1]"
   ]
  },
  {
   "cell_type": "code",
   "execution_count": null,
   "id": "4d9708e2-0aa7-40b8-acc8-93d15f96afe3",
   "metadata": {},
   "outputs": [],
   "source": [
    "btc_close"
   ]
  },
  {
   "cell_type": "code",
   "execution_count": null,
   "id": "bdb47aa6-8beb-494e-b476-2e7d7b85a35a",
   "metadata": {},
   "outputs": [],
   "source": [
    "btc_close.tail(10000)"
   ]
  },
  {
   "cell_type": "code",
   "execution_count": null,
   "id": "fb47b6c0-1798-43ca-85de-5a7b8996a9bf",
   "metadata": {},
   "outputs": [],
   "source": [
    "btc_ret = btc_close.tail(10000).pct_change()"
   ]
  },
  {
   "cell_type": "code",
   "execution_count": null,
   "id": "33863fd2-42a1-44b0-a149-d6da8ca68052",
   "metadata": {},
   "outputs": [],
   "source": [
    "all_time_index_1min = btc_close.tail(10000).index"
   ]
  },
  {
   "cell_type": "code",
   "execution_count": null,
   "id": "c563aa4a-35ea-4767-9490-dcdd9c67a74e",
   "metadata": {},
   "outputs": [],
   "source": [
    "all_time_index_1min"
   ]
  },
  {
   "cell_type": "code",
   "execution_count": null,
   "id": "321b6aee-5389-4d72-8864-0d6c9d2d18b1",
   "metadata": {},
   "outputs": [],
   "source": [
    "exchangeflows = df['btc-all_exchange-exchange-flows-inflow']\n",
    "exchangeflows"
   ]
  },
  {
   "cell_type": "code",
   "execution_count": null,
   "id": "c973ac1a-4ceb-4a1c-93a0-9747303db81e",
   "metadata": {},
   "outputs": [],
   "source": [
    "exchangeflows = exchangeflows[::-1].reset_index().tail(10000)"
   ]
  },
  {
   "cell_type": "code",
   "execution_count": null,
   "id": "4670e8b0-eaaa-4d4d-8a93-245ce03d4bf2",
   "metadata": {},
   "outputs": [],
   "source": [
    "exchangeflows['signal_time'] = exchangeflows['datetime'].apply(lambda x: x.ceil('min'))"
   ]
  },
  {
   "cell_type": "code",
   "execution_count": null,
   "id": "bdc9ba17-81e9-45d0-82d0-44133fcf556d",
   "metadata": {},
   "outputs": [],
   "source": [
    "exchangeflows"
   ]
  },
  {
   "cell_type": "code",
   "execution_count": null,
   "id": "fffdc74c-770a-4e1e-adbc-54173d591b6d",
   "metadata": {},
   "outputs": [],
   "source": [
    "feature_list = ['inflow_total','inflow_top10','inflow_mean']"
   ]
  },
  {
   "cell_type": "code",
   "execution_count": null,
   "id": "96d42000-3957-4b42-8eae-0e08d7a67c11",
   "metadata": {},
   "outputs": [],
   "source": [
    "exchangeflows_f = exchangeflows[feature_list + ['signal_time']].set_index('signal_time')"
   ]
  },
  {
   "cell_type": "code",
   "execution_count": null,
   "id": "c78d5008-6917-481d-9b71-550de23b50ac",
   "metadata": {},
   "outputs": [],
   "source": [
    "exchangeflows_f = exchangeflows_f[~exchangeflows_f.index.duplicated(keep='first')]"
   ]
  },
  {
   "cell_type": "code",
   "execution_count": null,
   "id": "49d55c46-7527-4aa4-a094-2b89de9829d6",
   "metadata": {},
   "outputs": [],
   "source": [
    "exchangeflows_f = exchangeflows_f.reindex(index=all_time_index_1min).ffill()"
   ]
  },
  {
   "cell_type": "code",
   "execution_count": null,
   "id": "53de70a9-475c-46e5-84c5-eef69365da43",
   "metadata": {},
   "outputs": [],
   "source": [
    "exchangeflows_f.shape"
   ]
  },
  {
   "cell_type": "code",
   "execution_count": null,
   "id": "12728a03-f710-402e-9ecb-06bf9382c11a",
   "metadata": {},
   "outputs": [],
   "source": [
    "\n",
    "feature = 'inflow_total'\n",
    "f_chg = exchangeflows_f['inflow_total'].pct_change().ffill(0)\n"
   ]
  },
  {
   "cell_type": "code",
   "execution_count": null,
   "id": "1e4aa9ef-f619-4c27-9b68-608a771fd49e",
   "metadata": {},
   "outputs": [],
   "source": [
    "look_back_window = 60*24\n",
    "f_chg.rolling(look_back_window).corr(btc_ret).plot()\n",
    "f_chg.shift(5).rolling(look_back_window).corr(btc_ret).plot()\n",
    "f_chg.shift(10).rolling(look_back_window).corr(btc_ret).plot()\n",
    "f_chg.shift(20).rolling(look_back_window).corr(btc_ret).plot()\n",
    "f_chg.shift(30).rolling(look_back_window).corr(btc_ret).plot()\n",
    "plt.legend(['lag=0','lag=5','lag=10','lag=20','lag=30'])\n",
    "plt.title(feature)\n",
    "plt.show()"
   ]
  },
  {
   "cell_type": "code",
   "execution_count": null,
   "id": "d79728d5-9006-49c2-b690-756c29e6a390",
   "metadata": {},
   "outputs": [],
   "source": [
    "for feature in feature_list:\n",
    "    f_chg = exchangeflows_f['inflow_total'].pct_change().ffill(0)\n",
    "    look_back_window = 60*24\n",
    "    f_chg.rolling(look_back_window).corr(btc_ret).plot()\n",
    "    f_chg.shift(5).rolling(look_back_window).corr(btc_ret).plot()\n",
    "    f_chg.shift(10).rolling(look_back_window).corr(btc_ret).plot()\n",
    "    f_chg.shift(20).rolling(look_back_window).corr(btc_ret).plot()\n",
    "    f_chg.shift(30).rolling(look_back_window).corr(btc_ret).plot()\n",
    "    plt.legend(['lag=0','lag=5','lag=10','lag=20','lag=30'])\n",
    "    plt.title(feature)\n",
    "    plt.show()"
   ]
  },
  {
   "cell_type": "code",
   "execution_count": null,
   "id": "fa042f7c-b3de-469e-8259-8893a763fddb",
   "metadata": {},
   "outputs": [],
   "source": [
    "@timeit\n",
    "def align_feature_df(raw_feature_df, feature_list, ret_df):\n",
    "    # reverse time index\n",
    "    feature_df = raw_feature_df[::-1].reset_index()\n",
    "    \n",
    "    # get signal_time\n",
    "    feature_df['signal_time'] = feature_df['datetime'].apply(lambda x: x.ceil('min'))\n",
    "    \n",
    "    # select revelant columns\n",
    "    exchangeflows_f = exchangeflows[feature_list + ['signal_time']].set_index('signal_time')\n",
    "    \n",
    "    # drop duplicated index\n",
    "    feature_df = feature_df[~feature_df.index.duplicated(keep='first')]\n",
    "    \n",
    "    # align to ret dataframe\n",
    "    feature_df = feature_df.reindex(index=ret_df.index).ffill()\n",
    "    \n",
    "    return aligned_feature_df"
   ]
  },
  {
   "cell_type": "code",
   "execution_count": null,
   "id": "1ba535c8-b34c-43d1-bdfe-1055d99ce020",
   "metadata": {},
   "outputs": [],
   "source": [
    "@timeit\n",
    "def get_feature_df_corr_with_ret(df_features, ret_df, look_back_window = 60*24):\n",
    "    feature_list = df_features.columns\n",
    "    df_features_chg = df_features.pct_change().ffill(0)\n",
    "    for feature in feature_list:\n",
    "        f_chg = df_features.pct_change().ffill(0)\n",
    "        f_chg.rolling(look_back_window).corr(btc_ret).plot()\n",
    "        f_chg.shift(5).rolling(look_back_window).corr(btc_ret).plot()\n",
    "        f_chg.shift(10).rolling(look_back_window).corr(btc_ret).plot()\n",
    "        f_chg.shift(20).rolling(look_back_window).corr(btc_ret).plot()\n",
    "        f_chg.shift(30).rolling(look_back_window).corr(btc_ret).plot()\n",
    "        plt.legend(['lag=0','lag=5','lag=10','lag=20','lag=30'])\n",
    "        plt.title(feature)\n",
    "        plt.show()"
   ]
  },
  {
   "cell_type": "code",
   "execution_count": null,
   "id": "56e4357b-8777-48bf-9392-d16160318e53",
   "metadata": {},
   "outputs": [],
   "source": [
    "data_dict = pd.read_pickle(os.path.join(LOCAL_DATA_DIR, 'cqerc20.pkl'))"
   ]
  }
 ],
 "metadata": {
  "kernelspec": {
   "display_name": "Python 3 (ipykernel)",
   "language": "python",
   "name": "python3"
  },
  "language_info": {
   "codemirror_mode": {
    "name": "ipython",
    "version": 3
   },
   "file_extension": ".py",
   "mimetype": "text/x-python",
   "name": "python",
   "nbconvert_exporter": "python",
   "pygments_lexer": "ipython3",
   "version": "3.8.8"
  }
 },
 "nbformat": 4,
 "nbformat_minor": 5
}
