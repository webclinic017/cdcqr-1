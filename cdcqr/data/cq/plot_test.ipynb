{
 "cells": [
  {
   "cell_type": "code",
   "execution_count": null,
   "id": "316e8e1a-90da-4e0a-9177-9215796d834b",
   "metadata": {},
   "outputs": [],
   "source": [
    "df_features_chg = pd.DataFrame(np.random.randint(0,100,size=(100, 4)), columns=list('ABCD')).pct_change()\n",
    "df_features_chg.head()"
   ]
  },
  {
   "cell_type": "code",
   "execution_count": null,
   "id": "fd1b39f2-2a90-4a36-b9e0-424acb64d924",
   "metadata": {},
   "outputs": [],
   "source": [
    "n=4\n",
    "ret_df = df_features_chg.shift(1)\n",
    "look_back_window = 20\n",
    "feature_list = ['A','B','C','D',]\n",
    "plt.tight_layout(pad=0.5, w_pad=2.5, h_pad=2.0)\n",
    "fig = plt.figure(figsize=(6, 4 * n))\n",
    "\n",
    "for i, feature in enumerate(feature_list):\n",
    "    ax1 = fig.add_subplot(n, 1, i + 1)\n",
    "    ax1.grid(True, axis='x')\n",
    "    f_chg = df_features_chg[feature]\n",
    "    f_chg.rolling(look_back_window).corr(ret_df).rolling(look_back_window * 100).mean().plot(\n",
    "        ax=ax1)\n",
    "    f_chg.shift(1).rolling(look_back_window).corr(ret_df).rolling(\n",
    "        look_back_window ).mean().plot(ax=ax1)\n",
    "    f_chg.shift(5).rolling(look_back_window).corr(ret_df).rolling(\n",
    "        look_back_window ).mean().plot(ax=ax1)\n",
    "    f_chg.shift(30).rolling(look_back_window).corr(ret_df).rolling(\n",
    "        look_back_window).mean().plot(ax=ax1)\n",
    "    ax1.hlines(y=0, xmin=4, xmax=20, linewidth=2, color='r', label=['0'])\n",
    "    #ax1.legend(['lag=0', 'lag=1', 'lag=5', 'lag=30', '0'])\n",
    "    ax1.title.set_text(feature)\n",
    "    #ax1.get_xaxis().set_visible(False)"
   ]
  },
  {
   "cell_type": "code",
   "execution_count": null,
   "id": "37080e9d-c253-4ef4-bbaf-434e1a39d1ab",
   "metadata": {},
   "outputs": [],
   "source": [
    "import werkzeug\n",
    "werkzeug.__version__"
   ]
  }
 ],
 "metadata": {
  "kernelspec": {
   "display_name": "Python 3 (ipykernel)",
   "language": "python",
   "name": "python3"
  },
  "language_info": {
   "codemirror_mode": {
    "name": "ipython",
    "version": 3
   },
   "file_extension": ".py",
   "mimetype": "text/x-python",
   "name": "python",
   "nbconvert_exporter": "python",
   "pygments_lexer": "ipython3",
   "version": "3.8.8"
  }
 },
 "nbformat": 4,
 "nbformat_minor": 5
}
