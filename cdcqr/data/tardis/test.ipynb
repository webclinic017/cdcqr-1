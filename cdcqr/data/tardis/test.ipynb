{
 "cells": [
  {
   "cell_type": "code",
   "execution_count": 1,
   "id": "c6fa67bf-5863-4728-924d-b8a0f2b7e420",
   "metadata": {},
   "outputs": [],
   "source": [
    "from tardis_dev import datasets\n",
    "\n",
    "datasets.download(    exchange=\"deribit\",    \n",
    "                  data_types=[        \"incremental_book_L2\",        \"trades\",        \"quotes\",        \"derivative_ticker\",        \"book_snapshot_25\",        \"liquidations\"    ],   \n",
    "               "
   ]
  },
  {
   "cell_type": "code",
   "execution_count": 1,
   "id": "5143e8af-7aae-4fcd-9d46-8b19dcc61613",
   "metadata": {},
   "outputs": [],
   "source": [
    "   from_date=\"2019-11-01\",    to_date=\"2019-11-02\",    symbols=[\"BTC-PERPETUAL\", \"ETH-PERPETUAL\"],    api_key=\"YOUR API KEY (optionally)\",)"
   ]
  },
  {
   "cell_type": "code",
   "execution_count": 2,
   "id": "a04fdc6a-5ee0-45a8-a8b6-dbdfdb4207b0",
   "metadata": {},
   "outputs": [
    {
     "data": {
      "text/plain": [
       "\u001b[1;31mSignature:\u001b[0m\n",
       "\u001b[0mdatasets\u001b[0m\u001b[1;33m.\u001b[0m\u001b[0mdownload\u001b[0m\u001b[1;33m(\u001b[0m\u001b[1;33m\n",
       "\u001b[0m    \u001b[0mexchange\u001b[0m\u001b[1;33m:\u001b[0m \u001b[0mstr\u001b[0m\u001b[1;33m,\u001b[0m\u001b[1;33m\n",
       "\u001b[0m    \u001b[0mdata_types\u001b[0m\u001b[1;33m:\u001b[0m \u001b[0mList\u001b[0m\u001b[1;33m[\u001b[0m\u001b[0mstr\u001b[0m\u001b[1;33m]\u001b[0m\u001b[1;33m,\u001b[0m\u001b[1;33m\n",
       "\u001b[0m    \u001b[0msymbols\u001b[0m\u001b[1;33m:\u001b[0m \u001b[0mList\u001b[0m\u001b[1;33m[\u001b[0m\u001b[0mstr\u001b[0m\u001b[1;33m]\u001b[0m\u001b[1;33m,\u001b[0m\u001b[1;33m\n",
       "\u001b[0m    \u001b[0mfrom_date\u001b[0m\u001b[1;33m:\u001b[0m \u001b[0mstr\u001b[0m\u001b[1;33m,\u001b[0m\u001b[1;33m\n",
       "\u001b[0m    \u001b[0mto_date\u001b[0m\u001b[1;33m:\u001b[0m \u001b[0mstr\u001b[0m\u001b[1;33m,\u001b[0m\u001b[1;33m\n",
       "\u001b[0m    \u001b[0mformat\u001b[0m\u001b[1;33m:\u001b[0m \u001b[0mstr\u001b[0m \u001b[1;33m=\u001b[0m \u001b[1;34m'csv'\u001b[0m\u001b[1;33m,\u001b[0m\u001b[1;33m\n",
       "\u001b[0m    \u001b[0mapi_key\u001b[0m\u001b[1;33m:\u001b[0m \u001b[0mstr\u001b[0m \u001b[1;33m=\u001b[0m \u001b[1;34m''\u001b[0m\u001b[1;33m,\u001b[0m\u001b[1;33m\n",
       "\u001b[0m    \u001b[0mdownload_dir\u001b[0m\u001b[1;33m=\u001b[0m\u001b[1;34m'./datasets'\u001b[0m\u001b[1;33m,\u001b[0m\u001b[1;33m\n",
       "\u001b[0m    \u001b[0mdownload_url_base\u001b[0m\u001b[1;33m=\u001b[0m\u001b[1;34m'datasets.tardis.dev'\u001b[0m\u001b[1;33m,\u001b[0m\u001b[1;33m\n",
       "\u001b[0m    \u001b[0mget_filename\u001b[0m\u001b[1;33m=\u001b[0m\u001b[1;33m<\u001b[0m\u001b[0mfunction\u001b[0m \u001b[0mdefault_file_name\u001b[0m \u001b[0mat\u001b[0m \u001b[1;36m0x0000028592DA53A0\u001b[0m\u001b[1;33m>\u001b[0m\u001b[1;33m,\u001b[0m\u001b[1;33m\n",
       "\u001b[0m    \u001b[0mtimeout\u001b[0m\u001b[1;33m=\u001b[0m\u001b[0mClientTimeout\u001b[0m\u001b[1;33m(\u001b[0m\u001b[0mtotal\u001b[0m\u001b[1;33m=\u001b[0m\u001b[1;36m1800\u001b[0m\u001b[1;33m,\u001b[0m \u001b[0mconnect\u001b[0m\u001b[1;33m=\u001b[0m\u001b[1;32mNone\u001b[0m\u001b[1;33m,\u001b[0m \u001b[0msock_read\u001b[0m\u001b[1;33m=\u001b[0m\u001b[1;32mNone\u001b[0m\u001b[1;33m,\u001b[0m \u001b[0msock_connect\u001b[0m\u001b[1;33m=\u001b[0m\u001b[1;32mNone\u001b[0m\u001b[1;33m)\u001b[0m\u001b[1;33m,\u001b[0m\u001b[1;33m\n",
       "\u001b[0m    \u001b[0mconcurrency\u001b[0m\u001b[1;33m=\u001b[0m\u001b[1;36m5\u001b[0m\u001b[1;33m,\u001b[0m\u001b[1;33m\n",
       "\u001b[0m    \u001b[0mhttp_proxy\u001b[0m\u001b[1;33m=\u001b[0m\u001b[1;32mNone\u001b[0m\u001b[1;33m,\u001b[0m\u001b[1;33m\n",
       "\u001b[0m\u001b[1;33m)\u001b[0m\u001b[1;33m\u001b[0m\u001b[1;33m\u001b[0m\u001b[0m\n",
       "\u001b[1;31mDocstring:\u001b[0m <no docstring>\n",
       "\u001b[1;31mFile:\u001b[0m      c:\\users\\wang\\anaconda3\\lib\\site-packages\\tardis_dev\\datasets\\download.py\n",
       "\u001b[1;31mType:\u001b[0m      function\n"
      ]
     },
     "metadata": {},
     "output_type": "display_data"
    }
   ],
   "source": [
    "datasets.download?"
   ]
  },
  {
   "cell_type": "code",
   "execution_count": 2,
   "id": "9d4eb827-cee4-44b9-bbce-5e2d616a4e38",
   "metadata": {},
   "outputs": [
    {
     "name": "stdout",
     "output_type": "stream",
     "text": [
      "Collecting tardis_dev\n",
      "  Downloading tardis_dev-2.0.0a9-py3-none-any.whl (11 kB)\n",
      "Collecting aiofiles<0.5.0,>=0.4.0\n",
      "  Downloading aiofiles-0.4.0-py3-none-any.whl (9.2 kB)\n",
      "Collecting aiohttp<4.0.0,>=3.6.2\n",
      "  Downloading aiohttp-3.7.4.post0-cp38-cp38-win_amd64.whl (635 kB)\n",
      "Requirement already satisfied: python-dateutil<3.0.0,>=2.8.2 in c:\\users\\wang\\anaconda3\\lib\\site-packages (from tardis_dev) (2.8.2)\n",
      "Requirement already satisfied: sortedcontainers<3.0,>=2.1 in c:\\users\\wang\\anaconda3\\lib\\site-packages (from tardis_dev) (2.4.0)\n",
      "Requirement already satisfied: chardet<5.0,>=2.0 in c:\\users\\wang\\anaconda3\\lib\\site-packages (from aiohttp<4.0.0,>=3.6.2->tardis_dev) (4.0.0)\n",
      "Collecting multidict<7.0,>=4.5\n",
      "  Downloading multidict-5.2.0-cp38-cp38-win_amd64.whl (45 kB)\n",
      "Collecting async-timeout<4.0,>=3.0\n",
      "  Downloading async_timeout-3.0.1-py3-none-any.whl (8.2 kB)\n",
      "Collecting yarl<2.0,>=1.0\n",
      "  Downloading yarl-1.7.0-cp38-cp38-win_amd64.whl (122 kB)\n",
      "Requirement already satisfied: typing-extensions>=3.6.5 in c:\\users\\wang\\anaconda3\\lib\\site-packages (from aiohttp<4.0.0,>=3.6.2->tardis_dev) (3.10.0.2)\n",
      "Requirement already satisfied: attrs>=17.3.0 in c:\\users\\wang\\anaconda3\\lib\\site-packages (from aiohttp<4.0.0,>=3.6.2->tardis_dev) (21.2.0)\n",
      "Requirement already satisfied: six>=1.5 in c:\\users\\wang\\anaconda3\\lib\\site-packages (from python-dateutil<3.0.0,>=2.8.2->tardis_dev) (1.16.0)\n",
      "Requirement already satisfied: idna>=2.0 in c:\\users\\wang\\anaconda3\\lib\\site-packages (from yarl<2.0,>=1.0->aiohttp<4.0.0,>=3.6.2->tardis_dev) (3.2)\n",
      "Installing collected packages: multidict, yarl, async-timeout, aiohttp, aiofiles, tardis-dev\n",
      "Successfully installed aiofiles-0.4.0 aiohttp-3.7.4.post0 async-timeout-3.0.1 multidict-5.2.0 tardis-dev-2.0.0a9 yarl-1.7.0\n"
     ]
    }
   ],
   "source": [
    "! pip install tardis_dev"
   ]
  }
 ],
 "metadata": {
  "kernelspec": {
   "display_name": "Python 3 (ipykernel)",
   "language": "python",
   "name": "python3"
  },
  "language_info": {
   "codemirror_mode": {
    "name": "ipython",
    "version": 3
   },
   "file_extension": ".py",
   "mimetype": "text/x-python",
   "name": "python",
   "nbconvert_exporter": "python",
   "pygments_lexer": "ipython3",
   "version": "3.8.8"
  }
 },
 "nbformat": 4,
 "nbformat_minor": 5
}
