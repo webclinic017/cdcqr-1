{
 "cells": [
  {
   "cell_type": "code",
   "execution_count": null,
   "id": "c6fa67bf-5863-4728-924d-b8a0f2b7e420",
   "metadata": {},
   "outputs": [],
   "source": [
    "from tardis_dev import datasets\n",
    "\n",
    "datasets.download(    exchange=\"deribit\",    \n",
    "                  data_types=[        \"incremental_book_L2\",        \"trades\",        \"quotes\",        \"derivative_ticker\",        \"book_snapshot_25\",        \"liquidations\"    ],   \n",
    "               "
   ]
  },
  {
   "cell_type": "code",
   "execution_count": null,
   "id": "5143e8af-7aae-4fcd-9d46-8b19dcc61613",
   "metadata": {},
   "outputs": [],
   "source": [
    "   from_date=\"2019-11-01\",    to_date=\"2019-11-02\",    symbols=[\"BTC-PERPETUAL\", \"ETH-PERPETUAL\"],    api_key=\"YOUR API KEY (optionally)\",)"
   ]
  },
  {
   "cell_type": "code",
   "execution_count": null,
   "id": "a04fdc6a-5ee0-45a8-a8b6-dbdfdb4207b0",
   "metadata": {},
   "outputs": [],
   "source": [
    "datasets.download?"
   ]
  },
  {
   "cell_type": "code",
   "execution_count": null,
   "id": "9d4eb827-cee4-44b9-bbce-5e2d616a4e38",
   "metadata": {},
   "outputs": [],
   "source": [
    "! pip install tardis_dev"
   ]
  }
 ],
 "metadata": {
  "kernelspec": {
   "display_name": "Python 3 (ipykernel)",
   "language": "python",
   "name": "python3"
  },
  "language_info": {
   "codemirror_mode": {
    "name": "ipython",
    "version": 3
   },
   "file_extension": ".py",
   "mimetype": "text/x-python",
   "name": "python",
   "nbconvert_exporter": "python",
   "pygments_lexer": "ipython3",
   "version": "3.8.8"
  }
 },
 "nbformat": 4,
 "nbformat_minor": 5
}
