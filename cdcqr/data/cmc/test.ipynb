{
 "cells": [
  {
   "cell_type": "code",
   "execution_count": null,
   "id": "6ccc2231-a630-4e01-8708-948d5eca18d3",
   "metadata": {
    "scrolled": true,
    "tags": []
   },
   "outputs": [],
   "source": [
    "from coinmarketcapapi import CoinMarketCapAPI, CoinMarketCapAPIError"
   ]
  },
  {
   "cell_type": "code",
   "execution_count": null,
   "id": "b4ce4b01-fde5-4bdd-b6a9-7a14dbfb9eef",
   "metadata": {},
   "outputs": [],
   "source": [
    "import json \n",
    "import requests \n",
    "\n",
    "r = requests.get('https://api.coinmarketcap.com/v1/ticker/bitcoin/')\n",
    "for coin in r.json():\n",
    "    print(coin[\"price_usd\"])"
   ]
  },
  {
   "cell_type": "code",
   "execution_count": null,
   "id": "570b74ed-267e-4986-a918-8cf100fc239c",
   "metadata": {},
   "outputs": [],
   "source": [
    "import sys\n",
    "sys.executable"
   ]
  },
  {
   "cell_type": "code",
   "execution_count": null,
   "id": "7e2a6364-4b8c-4541-aad1-3805ab528cb6",
   "metadata": {},
   "outputs": [],
   "source": [
    "! pip install coinmarketcapapi"
   ]
  },
  {
   "cell_type": "code",
   "execution_count": null,
   "id": "d4af3654-a092-4071-9ac0-07f4d8dc9396",
   "metadata": {
    "scrolled": true,
    "tags": []
   },
   "outputs": [],
   "source": [
    "  cmc = CoinMarketCapAPI('{YOUR_API_KEY}')\n",
    "  \n",
    "  r = cmc.cryptocurrency_info(symbol='BTC')\n"
   ]
  },
  {
   "cell_type": "code",
   "execution_count": null,
   "id": "415c81b6-dc5c-48a0-9ca4-5958352e8d77",
   "metadata": {
    "scrolled": true,
    "tags": []
   },
   "outputs": [],
   "source": [
    " #This example uses Python 2.7 and the python-request library.\n",
    "\n",
    "from requests import Request, Session\n",
    "from requests.exceptions import ConnectionError, Timeout, TooManyRedirects\n",
    "import json\n",
    "\n",
    "url = 'https://sandbox-api.coinmarketcap.com/v1/cryptocurrency/BTC/historical'\n",
    "url = 'https://pro-api.coinmarketcap.com/v1/cryptocurrency/listings/latest/'\n",
    "url = 'https://pro-api.coinmarketcap.com/v1/ticker/bitcoin/'\n",
    "parameters = {\n",
    "\n",
    "  'start':'1',\n",
    "  'limit':'5000',\n",
    "  'convert':'USD'\n",
    "}\n",
    "headers = {\n",
    "  'Accepts': 'application/json',\n",
    "  'X-CMC_PRO_API_KEY': 'c9c55c37-afc3-475a-9ddf-345b20b04a97',\n",
    "}\n",
    "\n",
    "session = Session()\n",
    "session.headers.update(headers)\n",
    "\n",
    "try:\n",
    "    response = session.get(url, params=parameters)\n",
    "    #data = json.loads(response.text)\n",
    "    #print(data)\n",
    "except (ConnectionError, Timeout, TooManyRedirects) as e:\n",
    "    print(e)"
   ]
  },
  {
   "cell_type": "code",
   "execution_count": null,
   "id": "15bda006-a059-4fd5-b361-7b2feea99362",
   "metadata": {},
   "outputs": [],
   "source": [
    "response"
   ]
  },
  {
   "cell_type": "code",
   "execution_count": null,
   "id": "8ea4ecd8-5553-4636-968e-8dcf0c4ad8d1",
   "metadata": {},
   "outputs": [],
   "source": [
    "df= pd.DataFrame(data['data'])"
   ]
  },
  {
   "cell_type": "code",
   "execution_count": null,
   "id": "534ef062-29e0-490a-bc07-909ad258c5ab",
   "metadata": {},
   "outputs": [],
   "source": [
    "df.query('symbol==\"VLX\"')"
   ]
  }
 ],
 "metadata": {
  "kernelspec": {
   "display_name": "Python 3",
   "language": "python",
   "name": "python3"
  },
  "language_info": {
   "codemirror_mode": {
    "name": "ipython",
    "version": 3
   },
   "file_extension": ".py",
   "mimetype": "text/x-python",
   "name": "python",
   "nbconvert_exporter": "python",
   "pygments_lexer": "ipython3",
   "version": "3.8.8"
  }
 },
 "nbformat": 4,
 "nbformat_minor": 5
}
