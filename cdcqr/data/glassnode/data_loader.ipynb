{
 "cells": [
  {
   "cell_type": "code",
   "execution_count": null,
   "id": "bbe8a3bc-182f-4444-9efa-9de9e62b46f8",
   "metadata": {},
   "outputs": [],
   "source": [
    "from cdcqr.data.glassnode.utils import get_glassnode_data, quantile_info, url_parser\n",
    "from datetime import datetime as dt\n",
    "from datetime import timedelta\n",
    "from cdcqr.common.config import CDQ_REPO_DIR\n",
    "from cdcqr.common.utils import camel_case2snake_case\n",
    "\n",
    "import sys\n",
    "sys.path.append(CDQ_REPO_DIR)\n",
    "from ct.utils import glassnode\n",
    "from cdcqr.common.config import GLASSNODE_API_KEY\n",
    "GLASSKEY = GLASSNODE_API_KEY\n",
    "import requests\n",
    "import pandas as pd\n",
    "from cdcqr.common.utils import load_df\n"
   ]
  },
  {
   "cell_type": "code",
   "execution_count": null,
   "id": "c1b38948-64f5-4456-b6bf-b38d2df628c6",
   "metadata": {},
   "outputs": [],
   "source": [
    "category = 'Volume'\n",
    "volume_uxto_volume = ['UtxoCreatedValueSum', \n",
    "                    'UtxoSpentValueMean', \n",
    "                     ]"
   ]
  },
  {
   "cell_type": "code",
   "execution_count": null,
   "id": "49ad60f2-89de-4d17-97b0-adb13ac796ff",
   "metadata": {
    "scrolled": true,
    "tags": []
   },
   "outputs": [],
   "source": [
    "category='transactions'\n",
    "feature='TransfersVolumeToExchangesSum'\n",
    "underly = 'BTC'\n",
    "freq='1h'\n",
    "\n",
    "start_time = dt.now()-timedelta(hours=8760)\n",
    "u_time = dt.now()-timedelta(hours=1)\n",
    "url1 = 'metrics~{}~{}'.format(category, camel_case2snake_case(feature))\n",
    "print(url1, underly, freq, start_time)\n",
    "\n",
    "dff = glassnode(url1,a=underly,i=freq,s=start_time,price=False)\n",
    "dff"
   ]
  },
  {
   "cell_type": "code",
   "execution_count": null,
   "id": "50bc7ead-3e1c-4a1f-8fca-1028692e7dce",
   "metadata": {},
   "outputs": [],
   "source": [
    "#category='volume'\n",
    "#feature='UtxoCreatedValueSum'\n",
    "\n",
    "category='transactions'\n",
    "category='mining'\n",
    "category = 'addresses'\n",
    "feature='TransfersVolumeToExchangesSum'\n",
    "feature='ActiveCount'\n",
    "\n",
    "underly = 'BTC'\n",
    "freq='1h'\n",
    "\n",
    "start_time = dt.now()-timedelta(hours=48)\n",
    "u_time = dt.now()-timedelta(hours=1)\n",
    "url1 = 'metrics~{}~{}'.format(category, camel_case2snake_case(feature))\n",
    "print(url1, underly, freq, start_time)\n",
    "\n",
    "dff = glassnode(url1,a=underly,i=freq,s=start_time,price=False)"
   ]
  },
  {
   "cell_type": "code",
   "execution_count": null,
   "id": "c235eeba-7af4-4adc-a1a8-8b180ae5f01f",
   "metadata": {},
   "outputs": [],
   "source": [
    "catplusf = 'derivatives.FuturesFundingRatePerpetual'\n",
    "\n",
    "category, feature = catplusf.split('.')\n",
    "\n",
    "underly = 'BTC'\n",
    "freq='10m'\n",
    "\n",
    "start_time = dt.now()-timedelta(hours=9000)\n",
    "u_time = dt.now()-timedelta(hours=1)\n",
    "url1 = 'metrics~{}~{}'.format(category, camel_case2snake_case(feature))\n",
    "print(url1, underly, freq, start_time)\n",
    "\n",
    "dff = glassnode(url1,a=underly,i=freq,s=start_time,price=False)\n",
    "dff"
   ]
  },
  {
   "cell_type": "code",
   "execution_count": null,
   "id": "9b819585-ce3e-47ec-8482-99033aef6d99",
   "metadata": {},
   "outputs": [],
   "source": [
    "dfbtc = load_df('BTCUSD_PERP@binance').resample_pv('10Min')\n",
    "dfeth = load_df('ETHUSD_PERP@binance').resample_pv('10Min')\n",
    "df_underly = {}\n",
    "df_underly['BTC'] = dfbtc\n",
    "df_underly['ETH'] = dfeth"
   ]
  },
  {
   "cell_type": "code",
   "execution_count": null,
   "id": "d436b61b-71e6-457e-8bed-63c8a1adfe55",
   "metadata": {},
   "outputs": [],
   "source": [
    "import cdcqr.analytics.utils as autil \n",
    "%matplotlib inline\n"
   ]
  },
  {
   "cell_type": "code",
   "execution_count": null,
   "id": "b3436523-e2fc-4ca6-9e6a-2bc127fd514b",
   "metadata": {},
   "outputs": [],
   "source": [
    "freq = '10m'"
   ]
  },
  {
   "cell_type": "code",
   "execution_count": null,
   "id": "b2bd4e30-9e62-4c81-9b20-3d1e2898a29d",
   "metadata": {
    "scrolled": true,
    "tags": []
   },
   "outputs": [],
   "source": [
    "category = 'derivatives'\n",
    "features = ['FuturesFundingRatePerpetual']\n",
    "for feature_name in features:\n",
    "    for underly in ['BTC','ETH']:\n",
    "        \n",
    "        start_time = dt.now()-timedelta(hours=9000)\n",
    "        url1 = 'metrics~{}~{}'.format(category, camel_case2snake_case(feature_name))\n",
    "        print(url1, underly, freq, start_time)\n",
    "        dff = glassnode(url1,a=underly,i=freq,s=start_time,price=False)\n",
    "        print(dff.head())\n",
    "        if True:\n",
    "            common_idx = dff.index.intersection(dfbtc.index)\n",
    "            dff = dff.reindex(index = common_idx)\n",
    "            dfy = df_underly[underly]\n",
    "            dfy = dfy.reindex(index = common_idx)\n",
    "            dff[underly] = dfy['c']\n",
    "            dff[feature_name] = dff['v']\n",
    "            dff = dff[[feature_name,underly]]\n",
    "\n",
    "            dff['f_n1'] = dff[feature_name]\n",
    "            _ = autil.ts_eda(dff, feature_name, 'f_n1', underly)"
   ]
  },
  {
   "cell_type": "code",
   "execution_count": null,
   "id": "8d45a3f3-450c-4fae-b086-c5731f24039a",
   "metadata": {},
   "outputs": [],
   "source": [
    "import ct.mlexp2 as ml\n",
    "\n",
    "df_dict = df_underly"
   ]
  },
  {
   "cell_type": "code",
   "execution_count": null,
   "id": "6970392a-b0e9-46a6-b426-e6d4451ee1ce",
   "metadata": {},
   "outputs": [],
   "source": [
    "category = 'derivatives'\n",
    "feature = 'FuturesFundingRatePerpetual'\n",
    "\n",
    "for underly in ['BTC','ETH']:\n",
    "    df_i = df_dict[underly]\n",
    "    dfgsi = glassnode(url1,a=underly,i=freq,s=start_time,price=False)\n",
    "    df_i = df_i[df_i.index<='20211031']\n",
    "    dff = dfgsi.reindex(df_i.index)\n",
    "    #dff['v'] = dff[feature]\n",
    "    display(dff.head())\n",
    "    res = ml.mlexp2(dff, df_i, sym=underly,\n",
    "          qsuffix='USDT@binancealt',\n",
    "          ytrain_thresh=6,\n",
    "          ytrain_periods=100,\n",
    "          ytest_thresh=3,\n",
    "          ytest_periods=100,\n",
    "          vdelay=2,\n",
    "          ytypes=[\"ys\"],\n",
    "          xtypes=[\"v\"],\n",
    "          qlags=1000,\n",
    "          request=['vbt','vbtplot'],\n",
    "          #models=[\"oneiflarger\",\"dt\"],\n",
    "          models=[\"oneiflarger\", 'dt'],\n",
    "          randcv_n_iter=30,\n",
    "          sl=2,\n",
    "          tp=6,\n",
    "          ts=None,\n",
    "          vbtfreq=\"10Min\") "
   ]
  },
  {
   "cell_type": "code",
   "execution_count": null,
   "id": "00d20191-66c9-42e6-a174-3a143db4a607",
   "metadata": {},
   "outputs": [],
   "source": []
  }
 ],
 "metadata": {
  "kernelspec": {
   "display_name": "Python 3 (ipykernel)",
   "language": "python",
   "name": "python3"
  },
  "language_info": {
   "codemirror_mode": {
    "name": "ipython",
    "version": 3
   },
   "file_extension": ".py",
   "mimetype": "text/x-python",
   "name": "python",
   "nbconvert_exporter": "python",
   "pygments_lexer": "ipython3",
   "version": "3.8.8"
  }
 },
 "nbformat": 4,
 "nbformat_minor": 5
}
