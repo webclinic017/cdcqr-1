{
 "cells": [
  {
   "cell_type": "code",
   "execution_count": null,
   "id": "5b03a9b9-bca9-4e59-ab42-686242699bf3",
   "metadata": {},
   "outputs": [],
   "source": [
    "from cdcqr.data.glassnode.utils import get_glassnode_data, quantile_info, url_parser\n",
    "from datetime import datetime as dt\n",
    "from datetime import timedelta\n",
    "import pandas as pd\n",
    "import numpy as np\n",
    "import vectorbt as vbt\n",
    "import seaborn as sns\n",
    "from cdcqr.common.utils import camel_case2snake_case\n",
    "import matplotlib.pyplot as plt\n",
    "from cdcqr.analytics.utils import ts_eda\n",
    "\n",
    "%matplotlib inline\n",
    "\n",
    "import sys\n",
    "sys.path.append('/core/github/cryptoderiv-quant/')\n",
    "\n",
    "from ct.utils import plot2, rollingcorr\n",
    "API_KEY = '1wvlrc0JsEMIWF6enI69cWiOojq'"
   ]
  },
  {
   "cell_type": "code",
   "execution_count": null,
   "id": "95e3e376-a49a-41c5-bdab-1d1b170c14d6",
   "metadata": {},
   "outputs": [],
   "source": [
    "dfbtc = pd.read_pickle('/tmp/btc_price_20211001_20211205_10Min.pkl')\n",
    "dfeth = pd.read_pickle('/tmp/btc_price_20211001_20211205_10Min.pkl')"
   ]
  },
  {
   "cell_type": "markdown",
   "id": "4f73d1f6-482f-4d49-a53e-2dadbeb119ba",
   "metadata": {},
   "source": [
    "### test"
   ]
  },
  {
   "cell_type": "code",
   "execution_count": null,
   "id": "5c5632ac-93dd-49e7-875f-9de9b9913fba",
   "metadata": {},
   "outputs": [],
   "source": [
    "url = 'a=BTC&category=Derivatives&m=derivatives.FuturesFundingRatePerpetual'\n",
    "att_dict = url_parser(url)\n",
    "\n",
    "\n",
    "category = att_dict['category']\n",
    "feature = att_dict['feature']\n",
    "underly = att_dict['a']\n",
    "\n",
    "freq='10m'\n",
    "start_time = dt.now()-timedelta(hours=1000)\n",
    "\n",
    "dff = get_glassnode_data(category, feature, underly, freq, start_time, API_KEY)"
   ]
  },
  {
   "cell_type": "code",
   "execution_count": null,
   "id": "54ad706e-2998-4b67-b1b7-befdc984a3ee",
   "metadata": {},
   "outputs": [],
   "source": [
    "common_idx = dff.index.intersection(dfbtc.index)"
   ]
  },
  {
   "cell_type": "code",
   "execution_count": null,
   "id": "4ef9c7e7-f3eb-4a05-920f-cbf0c92c04c2",
   "metadata": {},
   "outputs": [],
   "source": [
    "dff = dff.reindex(index = common_idx)\n",
    "dfbtc = dfbtc.reindex(index = common_idx)"
   ]
  },
  {
   "cell_type": "code",
   "execution_count": null,
   "id": "d1941d15-ce87-42f3-8d86-a1c92bc5993a",
   "metadata": {},
   "outputs": [],
   "source": [
    "dff['y'] = dfbtc['c']"
   ]
  },
  {
   "cell_type": "code",
   "execution_count": null,
   "id": "0bb2f05b-1d71-4e0d-8413-cd62112c7a3d",
   "metadata": {
    "tags": []
   },
   "outputs": [],
   "source": [
    "ts_eda(dff)"
   ]
  }
 ],
 "metadata": {
  "kernelspec": {
   "display_name": "Python 3 (ipykernel)",
   "language": "python",
   "name": "python3"
  },
  "language_info": {
   "codemirror_mode": {
    "name": "ipython",
    "version": 3
   },
   "file_extension": ".py",
   "mimetype": "text/x-python",
   "name": "python",
   "nbconvert_exporter": "python",
   "pygments_lexer": "ipython3",
   "version": "3.8.8"
  }
 },
 "nbformat": 4,
 "nbformat_minor": 5
}
