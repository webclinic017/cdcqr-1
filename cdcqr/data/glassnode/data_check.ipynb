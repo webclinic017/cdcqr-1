{
 "cells": [
  {
   "cell_type": "code",
   "execution_count": null,
   "id": "1876c422-894b-4fd3-aa8d-bf39159d9b18",
   "metadata": {},
   "outputs": [],
   "source": [
    "from cdcqr.data.glassnode.utils import get_glassnode_data, quantile_info, url_parser"
   ]
  },
  {
   "cell_type": "code",
   "execution_count": null,
   "id": "cb4ebaa9-e165-498d-8fc7-e3d05dc26156",
   "metadata": {},
   "outputs": [],
   "source": [
    "from datetime import datetime as dt\n",
    "from datetime import timedelta\n",
    "import pandas as pd\n",
    "import numpy as np\n",
    "import vectorbt as vbt\n",
    "import seaborn as sns\n",
    "from cdcqr.common.utils import camel_case2snake_case\n",
    "import matplotlib.pyplot as plt\n",
    "from cdcqr.analytics.utils import ts_eda\n",
    "from importlib import reload\n",
    "\n",
    "%matplotlib inline\n",
    "\n",
    "import sys\n",
    "sys.path.append('/core/github/cryptoderiv-quant/')\n",
    "\n",
    "from ct.utils import plot2, rollingcorr\n",
    "API_KEY = '1wvlrc0JsEMIWF6enI69cWiOojq'"
   ]
  },
  {
   "cell_type": "code",
   "execution_count": null,
   "id": "900b9248-60cb-412b-adc7-4454d43b7c43",
   "metadata": {},
   "outputs": [],
   "source": [
    "import cdcqr.analytics.utils as autil \n",
    "reload(autil)"
   ]
  },
  {
   "cell_type": "code",
   "execution_count": null,
   "id": "95e3e376-a49a-41c5-bdab-1d1b170c14d6",
   "metadata": {},
   "outputs": [],
   "source": [
    "dfbtc = pd.read_pickle('/tmp/btc_price_20211001_20211205_10Min.pkl')\n",
    "dfeth = pd.read_pickle('/tmp/btc_price_20211001_20211205_10Min.pkl')"
   ]
  },
  {
   "cell_type": "code",
   "execution_count": null,
   "id": "2aba4985-f217-41b7-8a28-a8694c48fb42",
   "metadata": {},
   "outputs": [],
   "source": [
    "df_underly = {}\n",
    "df_underly['BTC'] = dfbtc\n",
    "df_underly['ETH'] = dfeth\n",
    "\n",
    "category = 'Transactions'"
   ]
  },
  {
   "cell_type": "markdown",
   "id": "815868a5-c5a4-4b0d-ad2f-1ac80200be4f",
   "metadata": {},
   "source": [
    "### transactions_features_exchange_activity"
   ]
  },
  {
   "cell_type": "code",
   "execution_count": null,
   "id": "81bc965f-33ed-4d49-9344-e4da2e03095e",
   "metadata": {},
   "outputs": [],
   "source": [
    "category = 'Transactions'\n",
    "transactions_features_exchange_activity = ['TransfersVolumeToExchangesSum',\n",
    "                                             'TransfersVolumeFromExchangesSum',\n",
    "                                             'TransfersVolumeExchangesNet',\n",
    "                                             'TransfersToExchangesCount',\n",
    "                                             'TransfersFromExchangesCount',\n",
    "                                             'TransfersVolumeToExchangesMean',\n",
    "                                             'TransfersVolumeFromExchangesMean',\n",
    "                                             'TransfersVolumeWithinExchangesSum',\n",
    "                                             'TransfersBetweenExchangesCount',\n",
    "                                             'TransfersVolumeBetweenExchangesSum']\n",
    "\n",
    "#transactions_features_exchange_activity = ['TransfersVolumeToExchangesSum',]\n"
   ]
  },
  {
   "cell_type": "code",
   "execution_count": null,
   "id": "856c1fe4-492d-49a2-b7f0-51648c9a31e9",
   "metadata": {},
   "outputs": [],
   "source": [
    "for feature_name in transactions_features_exchange_activity:\n",
    "    for underly in ['BTC','ETH']:\n",
    "        url = 'a={}&category={}&m=transactions.{}'.format(underly, category, feature_name)\n",
    "        att_dict = url_parser(url)\n",
    "        category = att_dict['category']\n",
    "        feature = att_dict['feature']\n",
    "        underly = att_dict['a']\n",
    "\n",
    "        freq='10m'\n",
    "        start_time = dt.now()-timedelta(hours=1000)\n",
    "        u_time = dt.now()-timedelta(hours=1)\n",
    "        dff = get_glassnode_data(category, feature, underly, freq, start_time,  API_KEY)\n",
    "        common_idx = dff.index.intersection(dfbtc.index)\n",
    "        dff = dff.reindex(index = common_idx)\n",
    "        dfy = df_underly[underly]\n",
    "        dfy = dfy.reindex(index = common_idx)\n",
    "        dff[underly] = dfy['c']\n",
    "        dff[feature_name] = dff['v']\n",
    "        dff = dff[[feature_name,underly]]\n",
    "        _ = autil.ts_eda(dff)"
   ]
  },
  {
   "cell_type": "markdown",
   "id": "1c3a2c90-7ad2-4787-bca2-990fc2573f14",
   "metadata": {},
   "source": [
    "### transactions_features_miner_activity"
   ]
  },
  {
   "cell_type": "code",
   "execution_count": null,
   "id": "955e8f07-2296-4207-8093-8c0f86bb5436",
   "metadata": {},
   "outputs": [],
   "source": [
    "transactions_features_miner_activity = ['TransfersVolumeMinersToExchanges', \n",
    "                                        'TransfersVolumeToMinersSum', \n",
    "                                        'TransfersVolumeFromMinersSum', \n",
    "                                        'TransfersVolumeMinersNet', \n",
    "                                        'TransfersFromMinersCount', \n",
    "                                        'TransfersToMinersCount']\n",
    "\n",
    "# transactions_features_miner_activity = ['TransfersVolumeMinersToExchanges', ]\n",
    "\n",
    "for feature_name in transactions_features_miner_activity:\n",
    "    for underly in ['BTC']:\n",
    "        url = 'a={}&category={}&m=transactions.{}'.format(underly, category, feature_name)\n",
    "        att_dict = url_parser(url)\n",
    "        category = att_dict['category']\n",
    "        feature = att_dict['feature']\n",
    "        underly = att_dict['a']\n",
    "\n",
    "        freq='10m'\n",
    "        start_time = dt.now()-timedelta(hours=1000)\n",
    "\n",
    "        dff = get_glassnode_data(category, feature, underly, freq, start_time, API_KEY)\n",
    "        common_idx = dff.index.intersection(dfbtc.index)\n",
    "        dff = dff.reindex(index = common_idx)\n",
    "        dfy = df_underly[underly]\n",
    "        dfy = dfy.reindex(index = common_idx)\n",
    "        dff[underly] = dfy['c']\n",
    "        dff[feature_name] = dff['v']\n",
    "        dff = dff[[feature_name,underly]]\n",
    "        _ = autil.ts_eda(dff)"
   ]
  },
  {
   "cell_type": "markdown",
   "id": "59d5868d-df2a-4c35-ad2c-463a7db33f16",
   "metadata": {},
   "source": [
    "### OTC Desks"
   ]
  },
  {
   "cell_type": "code",
   "execution_count": null,
   "id": "c53882a2-fb6b-44e8-817c-d2d175b16d2f",
   "metadata": {},
   "outputs": [],
   "source": [
    "transactions_features_otc_desks = ['TransfersVolumeToOtcDesksSum', \n",
    "                                        'TransfersVolumeFromOtcDesksSum', \n",
    "                                        'TransfersToOtcDesksCount', \n",
    "                                        'TransfersFromOtcDesksCount', \n",
    "                                        ]\n",
    "\n",
    "# transactions_features_miner_activity = ['TransfersVolumeMinersToExchanges', ]\n",
    "\n",
    "for feature_name in transactions_features_otc_desks:\n",
    "    for underly in ['BTC']:\n",
    "        url = 'a={}&category={}&m=transactions.{}'.format(underly, category, feature_name)\n",
    "        att_dict = url_parser(url)\n",
    "        category = att_dict['category']\n",
    "        feature = att_dict['feature']\n",
    "        underly = att_dict['a']\n",
    "\n",
    "        freq='10m'\n",
    "        start_time = dt.now()-timedelta(hours=1000)\n",
    "\n",
    "        dff = get_glassnode_data(category, feature, underly, freq, start_time, API_KEY)\n",
    "        common_idx = dff.index.intersection(dfbtc.index)\n",
    "        dff = dff.reindex(index = common_idx)\n",
    "        dfy = df_underly[underly]\n",
    "        dfy = dfy.reindex(index = common_idx)\n",
    "        dff[underly] = dfy['c']\n",
    "        dff[feature_name] = dff['v']\n",
    "        dff = dff[[feature_name,underly]]\n",
    "        _ = autil.ts_eda(dff)"
   ]
  },
  {
   "cell_type": "markdown",
   "id": "b5ce4360-5ad4-4740-b72b-73bd1be17acf",
   "metadata": {},
   "source": [
    "### transaction count and size"
   ]
  },
  {
   "cell_type": "code",
   "execution_count": null,
   "id": "6aab3896-cb0b-40e4-80e2-b68a090f5152",
   "metadata": {},
   "outputs": [],
   "source": [
    "transactions_count_and_size = ['Count', \n",
    "                                        'Rate', \n",
    "                                        'EntityAdjustedCount', \n",
    "                                        'SizeSum', \n",
    "                               'SizeMean'\n",
    "                                        ]\n",
    "\n",
    "\n",
    "for feature_name in transactions_count_and_size:\n",
    "    for underly in ['BTC']:\n",
    "        url = 'a={}&category={}&m=transactions.{}'.format(underly, category, feature_name)\n",
    "        att_dict = url_parser(url)\n",
    "        category = att_dict['category']\n",
    "        feature = att_dict['feature']\n",
    "        underly = att_dict['a']\n",
    "\n",
    "        freq='10m'\n",
    "        start_time = dt.now()-timedelta(hours=1000)\n",
    "\n",
    "        dff = get_glassnode_data(category, feature, underly, freq, start_time, API_KEY)\n",
    "        common_idx = dff.index.intersection(dfbtc.index)\n",
    "        dff = dff.reindex(index = common_idx)\n",
    "        dfy = df_underly[underly]\n",
    "        dfy = dfy.reindex(index = common_idx)\n",
    "        dff[underly] = dfy['c']\n",
    "        dff[feature_name] = dff['v']\n",
    "        dff = dff[[feature_name,underly]]\n",
    "        _ = autil.ts_eda(dff)"
   ]
  },
  {
   "cell_type": "markdown",
   "id": "62eeb2ad-f26e-4d4d-b9c4-06a93f989766",
   "metadata": {},
   "source": [
    "### transaction - transfer volume"
   ]
  },
  {
   "cell_type": "code",
   "execution_count": null,
   "id": "3bb14ec3-1e58-4708-8c41-f96ceefbb227",
   "metadata": {},
   "outputs": [],
   "source": [
    "transactions_transfer_volume = ['TransfersVolumeSum', \n",
    "                                        'TransfersVolumeMean', \n",
    "                                        'TransfersVolumeMedian', \n",
    "                                        'TransfersVolumeAdjustedSum', \n",
    "                               'TransfersVolumeAdjustedMean',\n",
    "                                'TransfersVolumeAdjustedMedian',\n",
    "                                'TransfersVolumeEntityAdjustedSum',\n",
    "                                'TransfersVolumeEntityAdjustedMean',\n",
    "                                        ]\n",
    "\n",
    "for feature_name in transactions_transfer_volume:\n",
    "    for underly in ['BTC']:\n",
    "        url = 'a={}&category={}&m=transactions.{}'.format(underly, category, feature_name)\n",
    "        att_dict = url_parser(url)\n",
    "        category = att_dict['category']\n",
    "        feature = att_dict['feature']\n",
    "        underly = att_dict['a']\n",
    "\n",
    "        freq='10m'\n",
    "        start_time = dt.now()-timedelta(hours=1000)\n",
    "\n",
    "        dff = get_glassnode_data(category, feature, underly, freq, start_time, API_KEY)\n",
    "        common_idx = dff.index.intersection(dfbtc.index)\n",
    "        dff = dff.reindex(index = common_idx)\n",
    "        dfy = df_underly[underly]\n",
    "        dfy = dfy.reindex(index = common_idx)\n",
    "        dff[underly] = dfy['c']\n",
    "        dff[feature_name] = dff['v']\n",
    "        dff = dff[[feature_name,underly]]\n",
    "        _ = autil.ts_eda(dff)"
   ]
  },
  {
   "cell_type": "markdown",
   "id": "1780a0a0-f302-4ba3-aad1-a5ee037f8968",
   "metadata": {},
   "source": [
    "### Volume - UXTO volume"
   ]
  },
  {
   "cell_type": "code",
   "execution_count": null,
   "id": "af89c5e5-df18-4d26-bd25-c6e7387aed7f",
   "metadata": {},
   "outputs": [],
   "source": [
    "category = 'Volume'\n",
    "volume_uxto_volume = ['UtxoCreatedValueSum', \n",
    "                                        'UtxoSpentValueMean', \n",
    "                     ]\n",
    "\n",
    "for feature_name in volume_uxto_volume:\n",
    "    for underly in ['BTC']:\n",
    "        url = 'a={}&category={}&m=blockchain.{}'.format(underly, category, feature_name)\n",
    "        att_dict = url_parser(url)\n",
    "        category = att_dict['category']\n",
    "        feature = att_dict['feature']\n",
    "        underly = att_dict['a']\n",
    "\n",
    "        freq='10m'\n",
    "        start_time = dt.now()-timedelta(hours=1000)\n",
    "\n",
    "        dff = get_glassnode_data(category, feature, underly, freq, start_time, API_KEY)\n",
    "        common_idx = dff.index.intersection(dfbtc.index)\n",
    "        dff = dff.reindex(index = common_idx)\n",
    "        dfy = df_underly[underly]\n",
    "        dfy = dfy.reindex(index = common_idx)\n",
    "        dff[underly] = dfy['c']\n",
    "        dff[feature_name] = dff['v']\n",
    "        dff = dff[[feature_name,underly]]\n",
    "        _ = autil.ts_eda(dff)"
   ]
  },
  {
   "cell_type": "markdown",
   "id": "191cb953-5ac4-4213-8c4f-1283d13ad1bf",
   "metadata": {},
   "source": [
    "### Dsitribution - Entity Balance"
   ]
  },
  {
   "cell_type": "code",
   "execution_count": null,
   "id": "cb3559c7-18ed-4b47-bf36-38b79b51748d",
   "metadata": {},
   "outputs": [],
   "source": [
    "category = 'Distribution'\n",
    "distribution_entity_balance = ['BalanceExchanges', \n",
    "                     ]\n",
    "\n",
    "for feature_name in distribution_entity_balance:\n",
    "    for underly in ['BTC']:\n",
    "        url = 'a={}&category={}&m=distribution.{}'.format(underly, category, feature_name)\n",
    "        att_dict = url_parser(url)\n",
    "        category = att_dict['category']\n",
    "        feature = att_dict['feature']\n",
    "        underly = att_dict['a']\n",
    "\n",
    "        freq='10m'\n",
    "        start_time = dt.now()-timedelta(hours=1000)\n",
    "\n",
    "        dff = get_glassnode_data(category, feature, underly, freq, start_time, API_KEY)\n",
    "        common_idx = dff.index.intersection(dfbtc.index)\n",
    "        dff = dff.reindex(index = common_idx)\n",
    "        dfy = df_underly[underly]\n",
    "        dfy = dfy.reindex(index = common_idx)\n",
    "        dff[underly] = dfy['c']\n",
    "        dff[feature_name] = dff['v']\n",
    "        dff = dff[[feature_name,underly]]\n",
    "        _ = autil.ts_eda(dff)"
   ]
  }
 ],
 "metadata": {
  "kernelspec": {
   "display_name": "Python 3 (ipykernel)",
   "language": "python",
   "name": "python3"
  },
  "language_info": {
   "codemirror_mode": {
    "name": "ipython",
    "version": 3
   },
   "file_extension": ".py",
   "mimetype": "text/x-python",
   "name": "python",
   "nbconvert_exporter": "python",
   "pygments_lexer": "ipython3",
   "version": "3.8.8"
  }
 },
 "nbformat": 4,
 "nbformat_minor": 5
}
