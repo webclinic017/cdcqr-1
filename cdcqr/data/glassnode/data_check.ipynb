{
 "cells": [
  {
   "cell_type": "code",
   "execution_count": null,
   "id": "5b03a9b9-bca9-4e59-ab42-686242699bf3",
   "metadata": {},
   "outputs": [],
   "source": [
    "from cdcqr.data.glassnode.utils import get_glassnode_data, quantile_info\n",
    "from datetime import datetime as dt\n",
    "from datetime import timedelta\n",
    "import pandas as pd\n",
    "import numpy as np\n",
    "import vectorbt as vbt\n",
    "import seaborn as sns\n"
   ]
  },
  {
   "cell_type": "markdown",
   "id": "4f73d1f6-482f-4d49-a53e-2dadbeb119ba",
   "metadata": {},
   "source": [
    "### test"
   ]
  },
  {
   "cell_type": "code",
   "execution_count": null,
   "id": "03e90237-b8e8-46ac-9647-9241c12d6ef1",
   "metadata": {},
   "outputs": [],
   "source": [
    "feature = 'transfers_volume_miners_net'\n",
    "underly = 'BTC'\n",
    "dff = get_glassnode_data(catagory, feature, underly, freq, start_time, API_KEY)\n",
    "\n",
    "_ = quantile_info(dff)"
   ]
  },
  {
   "cell_type": "code",
   "execution_count": null,
   "id": "3d199b03-fa43-436a-91c1-866b04e04afe",
   "metadata": {},
   "outputs": [],
   "source": []
  }
 ],
 "metadata": {
  "kernelspec": {
   "display_name": "Python 3 (ipykernel)",
   "language": "python",
   "name": "python3"
  },
  "language_info": {
   "codemirror_mode": {
    "name": "ipython",
    "version": 3
   },
   "file_extension": ".py",
   "mimetype": "text/x-python",
   "name": "python",
   "nbconvert_exporter": "python",
   "pygments_lexer": "ipython3",
   "version": "3.8.8"
  }
 },
 "nbformat": 4,
 "nbformat_minor": 5
}
