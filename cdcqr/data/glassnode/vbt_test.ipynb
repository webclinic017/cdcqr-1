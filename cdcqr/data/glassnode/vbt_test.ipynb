{
 "cells": [
  {
   "cell_type": "code",
   "execution_count": null,
   "id": "5b03a9b9-bca9-4e59-ab42-686242699bf3",
   "metadata": {},
   "outputs": [],
   "source": [
    "from cdcqr.data.glassnode.utils import get_glassnode_data\n",
    "from datetime import datetime as dt\n",
    "from datetime import timedelta\n",
    "import pandas as pd\n",
    "import numpy as np\n",
    "import vectorbt as vbt\n",
    "import seaborn as sns"
   ]
  },
  {
   "cell_type": "markdown",
   "id": "4f73d1f6-482f-4d49-a53e-2dadbeb119ba",
   "metadata": {},
   "source": [
    "### test"
   ]
  },
  {
   "cell_type": "code",
   "execution_count": null,
   "id": "560cc1ba-537e-44b4-a0f2-806fe0acde5f",
   "metadata": {},
   "outputs": [],
   "source": [
    "API_KEY = '1wvlrc0JsEMIWF6enI69cWiOojq'\n",
    "\n",
    "catagory = 'transactions'\n",
    "feature =  'transfers_volume_to_exchanges_mean'\n",
    "underly = 'BTC'\n",
    "freq = '10m'\n",
    "start_time = dt.now()-timedelta(hours=1000)"
   ]
  },
  {
   "cell_type": "code",
   "execution_count": null,
   "id": "70c0b352-ddaf-4b23-ba97-fe6c64968458",
   "metadata": {},
   "outputs": [],
   "source": [
    "df = get_glassnode_data(catagory, feature, underly, freq, start_time, API_KEY)"
   ]
  },
  {
   "cell_type": "code",
   "execution_count": null,
   "id": "618fc046-9cdc-4585-a3b4-d3b5b54c73c9",
   "metadata": {},
   "outputs": [],
   "source": [
    "dfbtc = pd.read_pickle('/tmp/btc_price_20211001_20211205_10Min.pkl')\n",
    "dfeth = pd.read_pickle('/tmp/btc_price_20211001_20211205_10Min.pkl')"
   ]
  },
  {
   "cell_type": "code",
   "execution_count": null,
   "id": "262520f3-3d13-4dcc-afd8-9791c5e6f224",
   "metadata": {},
   "outputs": [],
   "source": [
    "common_index = df.index.intersection(dfbtc.index)"
   ]
  },
  {
   "cell_type": "code",
   "execution_count": null,
   "id": "85fdac2c-547d-4a19-91ae-ca8e6238df62",
   "metadata": {},
   "outputs": [],
   "source": [
    "dfbtc = dfbtc.reindex(index=common_index)\n",
    "dfeth = dfeth.reindex(index=common_index)"
   ]
  },
  {
   "cell_type": "code",
   "execution_count": null,
   "id": "88d8a5b5-8db8-41fe-8f9f-1af8f8c92c25",
   "metadata": {},
   "outputs": [],
   "source": [
    "def quantile_info(dff):\n",
    "    q01 = dff.quantile(0.01).values[0]\n",
    "    q02 = dff.quantile(0.02).values[0]\n",
    "    q05 = dff.quantile(0.05).values[0]\n",
    "    q95 = dff.quantile(0.95).values[0]\n",
    "    q98 = dff.quantile(0.98).values[0]\n",
    "    q99 = dff.quantile(0.99).values[0]\n",
    "    print(q01, q02, q05, q95, q98, q99)\n",
    "    return q01, q02, q05, q95, q98, q99\n",
    "\n",
    "def signal_f1(x):\n",
    "    if x>=THRESHOLD:\n",
    "        return 1\n",
    "    elif x<-THRESHOLD:\n",
    "        return -1\n",
    "    else:\n",
    "        return 0\n",
    "    \n",
    "def signal_f2(x):\n",
    "    if x>=THRESHOLD:\n",
    "        return -1\n",
    "    elif x<-THRESHOLD:\n",
    "        return 1\n",
    "    else:\n",
    "        return 0"
   ]
  },
  {
   "cell_type": "markdown",
   "id": "5170906d-50fa-4acc-b6ed-301751f726f2",
   "metadata": {},
   "source": [
    "### feature 1) 'transfers_volume_to_exchanges_mean'"
   ]
  },
  {
   "cell_type": "code",
   "execution_count": null,
   "id": "09b841dc-b19d-4a4e-ade4-7d7c440ae590",
   "metadata": {},
   "outputs": [],
   "source": [
    "feature = 'transfers_volume_to_exchanges_mean'\n",
    "underly = 'BTC'\n",
    "dff = get_glassnode_data(catagory, feature, underly, freq, start_time, API_KEY).reindex(index=common_index)"
   ]
  },
  {
   "cell_type": "code",
   "execution_count": null,
   "id": "34945249-4342-4a5c-baf1-9b4f4e772e22",
   "metadata": {},
   "outputs": [],
   "source": [
    "_ = quantile_info(dff)"
   ]
  },
  {
   "cell_type": "code",
   "execution_count": null,
   "id": "058f6e3d-b454-4682-aabd-e209ddc407bc",
   "metadata": {},
   "outputs": [],
   "source": [
    "THRESHOLD1 = 0.9 \n",
    "THRESHOLD2 = 2.5\n",
    "n = 20\n",
    "lag_dict = {}\n",
    "for lag in range(0, 5, 1):\n",
    "    threshold_dict = {}\n",
    "    for THRESHOLD in np.linspace(THRESHOLD1, THRESHOLD2, n):\n",
    "        btc_signal = dff['v'].apply(signal_f1)\n",
    "        trade = btc_signal.replace(0, np.nan).ffill().fillna(0).diff().shift(lag)\n",
    "        entries = trade.copy()\n",
    "        entries = trade>0\n",
    "        exits = trade<0\n",
    "        entries1 = entries.reindex(dfbtc.index)\n",
    "        exits1 = exits.reindex(dfbtc.index)\n",
    "        pf_kwargs = dict(fees=0.0007, freq='1Min')\n",
    "        pf = vbt.Portfolio.from_signals(dfbtc['o'], entries1, exits1, init_cash=100, **pf_kwargs)\n",
    "        threshold_dict[THRESHOLD] = pf.sharpe_ratio()\n",
    "    lag_dict[lag] = threshold_dict\n",
    "\n",
    "pd.DataFrame(lag_dict).to_pickle('{}.pkl'.format(feature))"
   ]
  },
  {
   "cell_type": "markdown",
   "id": "e8146eef-60f4-4686-b17d-8b53bd534975",
   "metadata": {},
   "source": [
    "### transfers_volume_from_exchanges_mean"
   ]
  },
  {
   "cell_type": "code",
   "execution_count": null,
   "id": "53e3e3f0-bf27-40fe-a9c8-d434038d210d",
   "metadata": {},
   "outputs": [],
   "source": [
    "feature = 'transfers_volume_from_exchanges_mean'\n",
    "underly = 'BTC'\n",
    "dff = get_glassnode_data(catagory, feature, underly, freq, start_time, API_KEY).reindex(index=common_index)\n",
    "\n",
    "_ = quantile_info(dff)"
   ]
  },
  {
   "cell_type": "code",
   "execution_count": null,
   "id": "15c0551f-1395-4e54-a459-692a7130ed3d",
   "metadata": {},
   "outputs": [],
   "source": [
    "THRESHOLD1 = 1.5\n",
    "THRESHOLD2 = 5\n",
    "n = 20\n",
    "lag_dict = {}\n",
    "for lag in range(0, 5, 1):\n",
    "    threshold_dict = {}\n",
    "    for THRESHOLD in np.linspace(THRESHOLD1, THRESHOLD2, n):\n",
    "        btc_signal = dff['v'].apply(signal_f1)\n",
    "        trade = btc_signal.replace(0, np.nan).ffill().fillna(0).diff().shift(lag)\n",
    "        entries = trade.copy()\n",
    "        entries = trade>0\n",
    "        exits = trade<0\n",
    "        entries1 = entries.reindex(dfbtc.index)\n",
    "        exits1 = exits.reindex(dfbtc.index)\n",
    "        pf_kwargs = dict(fees=0.0007, freq='1Min')\n",
    "        pf = vbt.Portfolio.from_signals(dfbtc['o'], entries1, exits1, init_cash=100, **pf_kwargs)\n",
    "        threshold_dict[THRESHOLD] = pf.sharpe_ratio()\n",
    "    lag_dict[lag] = threshold_dict\n",
    "\n",
    "pd.DataFrame(lag_dict).to_pickle('{}.pkl'.format(feature))"
   ]
  },
  {
   "cell_type": "markdown",
   "id": "79a47c4f-1ecb-4713-86eb-a8e18aa257bc",
   "metadata": {},
   "source": [
    "### TransfersFromExchangesCount"
   ]
  },
  {
   "cell_type": "code",
   "execution_count": null,
   "id": "b073416c-ba20-4702-8a6d-19985a2ee57e",
   "metadata": {},
   "outputs": [],
   "source": [
    "feature = 'transfers_from_exchanges_count'\n",
    "underly = 'BTC'\n",
    "dff = get_glassnode_data(catagory, feature, underly, freq, start_time, API_KEY).reindex(index=common_index)\n",
    "\n",
    "_ = quantile_info(dff)"
   ]
  },
  {
   "cell_type": "code",
   "execution_count": null,
   "id": "975cf2e1-92d1-4851-87d1-f26e1ecb6c35",
   "metadata": {},
   "outputs": [],
   "source": [
    "THRESHOLD1 = 800\n",
    "THRESHOLD2 = 1300\n",
    "n = 20\n",
    "lag_dict = {}\n",
    "for lag in range(0, 5, 1):\n",
    "    threshold_dict = {}\n",
    "    for THRESHOLD in np.linspace(THRESHOLD1, THRESHOLD2, n):\n",
    "        btc_signal = dff['v'].apply(signal_f1)\n",
    "        trade = btc_signal.replace(0, np.nan).ffill().fillna(0).diff().shift(lag)\n",
    "        entries = trade.copy()\n",
    "        entries = trade>0\n",
    "        exits = trade<0\n",
    "        entries1 = entries.reindex(dfbtc.index)\n",
    "        exits1 = exits.reindex(dfbtc.index)\n",
    "        pf_kwargs = dict(fees=0.0007, freq='1Min')\n",
    "        pf = vbt.Portfolio.from_signals(dfbtc['o'], entries1, exits1, init_cash=100, **pf_kwargs)\n",
    "        threshold_dict[THRESHOLD] = pf.sharpe_ratio()\n",
    "    lag_dict[lag] = threshold_dict\n",
    "\n",
    "pd.DataFrame(lag_dict).to_pickle('{}.pkl'.format(feature))"
   ]
  },
  {
   "cell_type": "markdown",
   "id": "f044ab82-6e65-4ea1-bf87-0d86308f44e9",
   "metadata": {},
   "source": [
    "### TransfersVolumeMinersNet"
   ]
  },
  {
   "cell_type": "code",
   "execution_count": null,
   "id": "713be4c4-748c-4653-ae09-74b60403ef55",
   "metadata": {},
   "outputs": [],
   "source": [
    "feature = 'transfers_volume_miners_net'\n",
    "underly = 'BTC'\n",
    "dff = get_glassnode_data(catagory, feature, underly, freq, start_time, API_KEY).reindex(index=common_index)\n",
    "\n",
    "_ = quantile_info(dff)"
   ]
  },
  {
   "cell_type": "code",
   "execution_count": null,
   "id": "f07cc00f-1430-475e-ae63-4d0f8f292949",
   "metadata": {},
   "outputs": [],
   "source": [
    "THRESHOLD1 = 10\n",
    "THRESHOLD2 = 70\n",
    "n = 20\n",
    "lag_dict = {}\n",
    "for lag in range(0, 5, 1):\n",
    "    threshold_dict = {}\n",
    "    for THRESHOLD in np.linspace(THRESHOLD1, THRESHOLD2, n):\n",
    "        btc_signal = dff['v'].apply(signal_f1)\n",
    "        trade = btc_signal.replace(0, np.nan).ffill().fillna(0).diff().shift(lag)\n",
    "        entries = trade.copy()\n",
    "        entries = trade>0\n",
    "        exits = trade<0\n",
    "        entries1 = entries.reindex(dfbtc.index)\n",
    "        exits1 = exits.reindex(dfbtc.index)\n",
    "        pf_kwargs = dict(fees=0.0007, freq='1Min')\n",
    "        pf = vbt.Portfolio.from_signals(dfbtc['o'], entries1, exits1, init_cash=100, **pf_kwargs)\n",
    "        threshold_dict[THRESHOLD] = pf.sharpe_ratio()\n",
    "    lag_dict[lag] = threshold_dict\n",
    "\n",
    "pd.DataFrame(lag_dict).to_pickle('{}.pkl'.format(feature))"
   ]
  },
  {
   "cell_type": "markdown",
   "id": "c3166385-4073-4934-8be3-46ddfff33898",
   "metadata": {},
   "source": [
    "### TransfersVolumeSum"
   ]
  },
  {
   "cell_type": "code",
   "execution_count": null,
   "id": "8584cc9e-2a2a-4713-9af2-2d9eec724e29",
   "metadata": {},
   "outputs": [],
   "source": [
    "feature = 'transfers_volume_sum'\n",
    "underly = 'BTC'\n",
    "dff = get_glassnode_data(catagory, feature, underly, freq, start_time, API_KEY).reindex(index=common_index)\n",
    "\n",
    "_ = quantile_info(dff)"
   ]
  },
  {
   "cell_type": "markdown",
   "id": "9e5a9a21-08b5-4112-b369-62a9029b71d2",
   "metadata": {},
   "source": [
    "### TransfersVolumeProfitRelative"
   ]
  },
  {
   "cell_type": "code",
   "execution_count": null,
   "id": "e292908e-9594-4f0e-88f8-4b8dd3f9433f",
   "metadata": {},
   "outputs": [],
   "source": [
    "feature = 'transfers_volume_profit_relative'\n",
    "underly = 'BTC'\n",
    "dff = get_glassnode_data(catagory, feature, underly, freq, start_time, API_KEY).reindex(index=common_index)\n",
    "\n",
    "_ = quantile_info(dff)"
   ]
  }
 ],
 "metadata": {
  "kernelspec": {
   "display_name": "Python 3 (ipykernel)",
   "language": "python",
   "name": "python3"
  },
  "language_info": {
   "codemirror_mode": {
    "name": "ipython",
    "version": 3
   },
   "file_extension": ".py",
   "mimetype": "text/x-python",
   "name": "python",
   "nbconvert_exporter": "python",
   "pygments_lexer": "ipython3",
   "version": "3.8.8"
  }
 },
 "nbformat": 4,
 "nbformat_minor": 5
}
