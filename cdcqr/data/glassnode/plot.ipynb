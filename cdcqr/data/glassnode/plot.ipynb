{
 "cells": [
  {
   "cell_type": "code",
   "execution_count": null,
   "id": "36956db5-8b59-4cc6-a262-6fba75eef6fc",
   "metadata": {},
   "outputs": [],
   "source": [
    "import pandas as pd\n",
    "import seaborn as sns"
   ]
  },
  {
   "cell_type": "code",
   "execution_count": null,
   "id": "ee5e21f7-71cd-454f-a054-b0a10f9deb6c",
   "metadata": {},
   "outputs": [],
   "source": [
    "def get_res(f):\n",
    "    res = pd.read_pickle('{}.pkl'.format(f)).head()\n",
    "    display(res.head())\n",
    "    sns.heatmap(res)"
   ]
  },
  {
   "cell_type": "code",
   "execution_count": null,
   "id": "f286bb74-4363-4322-a992-366c31f79e3d",
   "metadata": {},
   "outputs": [],
   "source": [
    "features = ['transfers_volume_to_exchanges_mean',\n",
    "            'transfers_volume_from_exchanges_mean',\n",
    "            'transfers_from_exchanges_count',\n",
    "            'transfers_volume_miners_net'\n",
    "           ]"
   ]
  },
  {
   "cell_type": "code",
   "execution_count": null,
   "id": "5c9563fa-8466-4f16-b118-632eccd305c0",
   "metadata": {},
   "outputs": [],
   "source": [
    "get_res('transfers_volume_to_exchanges_mean')"
   ]
  },
  {
   "cell_type": "code",
   "execution_count": null,
   "id": "e108aa7d-4401-475b-b84f-5597c691c080",
   "metadata": {},
   "outputs": [],
   "source": [
    "get_res('transfers_volume_miners_net')"
   ]
  },
  {
   "cell_type": "code",
   "execution_count": null,
   "id": "e50bf92f-ad47-4f44-a4f3-cc46913b3b82",
   "metadata": {},
   "outputs": [],
   "source": [
    "get_res()"
   ]
  },
  {
   "cell_type": "code",
   "execution_count": null,
   "id": "9fab96e7-6d5c-4342-9cdb-5939b2ae879a",
   "metadata": {},
   "outputs": [],
   "source": [
    "get_res()"
   ]
  },
  {
   "cell_type": "code",
   "execution_count": null,
   "id": "4604310f-e09d-4478-8cbd-12a9f7452d42",
   "metadata": {},
   "outputs": [],
   "source": [
    "get_res()"
   ]
  },
  {
   "cell_type": "code",
   "execution_count": null,
   "id": "f2b10759-7f6f-4e7b-85c0-222e57d25eb6",
   "metadata": {},
   "outputs": [],
   "source": [
    "get_res()"
   ]
  },
  {
   "cell_type": "code",
   "execution_count": null,
   "id": "ac55f84c-39bf-437b-9f5b-d0c4ce404c09",
   "metadata": {},
   "outputs": [],
   "source": [
    "get_res()"
   ]
  }
 ],
 "metadata": {
  "kernelspec": {
   "display_name": "Python 3 (ipykernel)",
   "language": "python",
   "name": "python3"
  },
  "language_info": {
   "codemirror_mode": {
    "name": "ipython",
    "version": 3
   },
   "file_extension": ".py",
   "mimetype": "text/x-python",
   "name": "python",
   "nbconvert_exporter": "python",
   "pygments_lexer": "ipython3",
   "version": "3.8.8"
  }
 },
 "nbformat": 4,
 "nbformat_minor": 5
}
