{
 "cells": [
  {
   "cell_type": "code",
   "execution_count": 2,
   "id": "6a928869-d818-477f-b439-2bc224e998d2",
   "metadata": {},
   "outputs": [],
   "source": [
    "from cdcqr.data.glassnode import glassnode_data as gnd\n",
    "from importlib import reload"
   ]
  },
  {
   "cell_type": "code",
   "execution_count": 3,
   "id": "95fac249-a1a3-45df-be1d-aac5dd02e997",
   "metadata": {},
   "outputs": [],
   "source": [
    "reload(gnd)\n",
    "gn = gnd.GlassnodeData()"
   ]
  },
  {
   "cell_type": "code",
   "execution_count": 4,
   "id": "a999994a-2486-4da4-90ca-98ece22c471a",
   "metadata": {
    "tags": []
   },
   "outputs": [],
   "source": [
    "df = gn.meta_data"
   ]
  },
  {
   "cell_type": "code",
   "execution_count": 5,
   "id": "718c4700-b484-4dc0-b2df-aaad9dd47e96",
   "metadata": {},
   "outputs": [
    {
     "name": "stdout",
     "output_type": "stream",
     "text": [
      "<class 'str'>\n",
      "loading market price_usd_close BTC 24h\n",
      "<class 'str'>\n",
      "loading institutions purpose_etf_holdings_sum BTC 24h\n"
     ]
    }
   ],
   "source": [
    "fs = ['price_usd_close', 'purpose_etf_holdings_sum']\n",
    "a = 'BTC'\n",
    "i = '24h'\n",
    "df = gn.load_features(fs,a, i)"
   ]
  },
  {
   "cell_type": "code",
   "execution_count": null,
   "id": "e2a9f175-6bb5-4f60-8f56-3b56e7540131",
   "metadata": {},
   "outputs": [],
   "source": [
    "df.plot()"
   ]
  },
  {
   "cell_type": "code",
   "execution_count": null,
   "id": "9149507e-5e27-44ae-a387-bc215e38cbc9",
   "metadata": {},
   "outputs": [],
   "source": []
  }
 ],
 "metadata": {
  "kernelspec": {
   "display_name": "Python 3 (ipykernel)",
   "language": "python",
   "name": "python3"
  },
  "language_info": {
   "codemirror_mode": {
    "name": "ipython",
    "version": 3
   },
   "file_extension": ".py",
   "mimetype": "text/x-python",
   "name": "python",
   "nbconvert_exporter": "python",
   "pygments_lexer": "ipython3",
   "version": "3.8.8"
  }
 },
 "nbformat": 4,
 "nbformat_minor": 5
}
