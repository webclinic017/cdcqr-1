{
 "cells": [
  {
   "cell_type": "code",
   "execution_count": null,
   "id": "03d89b6a-0508-489f-9bd3-0dd87428a719",
   "metadata": {},
   "outputs": [],
   "source": [
    "from cdcqr.data.glassnode.utils import get_glassnode_data, quantile_info, url_parser\n",
    "from datetime import datetime as dt\n",
    "from datetime import timedelta\n",
    "import pandas as pd\n",
    "import numpy as np\n",
    "import vectorbt as vbt\n",
    "import seaborn as sns\n",
    "from cdcqr.common.utils import camel_case2snake_case\n",
    "import matplotlib.pyplot as plt\n",
    "from cdcqr.analytics.utils import ts_eda\n",
    "from importlib import reload\n",
    "from sklearn.linear_model import LogisticRegression,Lasso,LinearRegression\n",
    "from sklearn.metrics import get_scorer,balanced_accuracy_score,mean_squared_error,r2_score,cohen_kappa_score, confusion_matrix,f1_score,classification_report,roc_auc_score,roc_curve,auc,recall_score,precision_score,precision_recall_curve,average_precision_score\n",
    "\n",
    "%matplotlib inline\n",
    "\n",
    "import sys\n",
    "\n",
    "from cdcqr.ct.utils import plot2, rollingcorr\n",
    "API_KEY = '1wvlrc0JsEMIWF6enI69cWiOojq'\n",
    "BTC_circulating_supply = 18900625"
   ]
  },
  {
   "cell_type": "code",
   "execution_count": null,
   "id": "900b9248-60cb-412b-adc7-4454d43b7c43",
   "metadata": {},
   "outputs": [],
   "source": [
    "import cdcqr.analytics.utils as autil \n",
    "reload(autil)"
   ]
  },
  {
   "cell_type": "code",
   "execution_count": null,
   "id": "95e3e376-a49a-41c5-bdab-1d1b170c14d6",
   "metadata": {},
   "outputs": [],
   "source": [
    "dfbtc = pd.read_pickle('/core/tmp/btc_price_20211001_20211205_10Min.pkl')\n",
    "dfeth = pd.read_pickle('/core/tmp/btc_price_20211001_20211205_10Min.pkl')"
   ]
  },
  {
   "cell_type": "code",
   "execution_count": null,
   "id": "2aba4985-f217-41b7-8a28-a8694c48fb42",
   "metadata": {},
   "outputs": [],
   "source": [
    "df_underly = {}\n",
    "df_underly['BTC'] = dfbtc\n",
    "df_underly['ETH'] = dfeth\n",
    "\n",
    "category = 'transactions'\n",
    "#category = 'derivatives'"
   ]
  },
  {
   "cell_type": "markdown",
   "id": "815868a5-c5a4-4b0d-ad2f-1ac80200be4f",
   "metadata": {
    "tags": []
   },
   "source": [
    "### single feature full analysis"
   ]
  },
  {
   "cell_type": "code",
   "execution_count": null,
   "id": "f30e24e7-2cdf-43ac-90ba-a8657a21e587",
   "metadata": {},
   "outputs": [],
   "source": [
    "feature_name = 'TransfersVolumeToExchangesSum'\n",
    "underly  = 'BTC'\n",
    "#underly  = 'ETH'\n",
    "url = 'a={}&category={}&m={}.{}'.format(underly, category,category, feature_name)\n",
    "att_dict = url_parser(url)\n",
    "category = att_dict['category']\n",
    "feature = att_dict['feature']\n",
    "underly = att_dict['a']\n",
    "\n",
    "freq='10m'\n",
    "#freq='1H'\n",
    "start_time = dt.now()-timedelta(hours=1000)"
   ]
  },
  {
   "cell_type": "code",
   "execution_count": null,
   "id": "ffd6fbe1-480e-4db9-820d-b70c4f9b0307",
   "metadata": {},
   "outputs": [],
   "source": [
    "category,feature,underly,freq,start_time"
   ]
  },
  {
   "cell_type": "code",
   "execution_count": null,
   "id": "5facf66c-67f3-4852-bbc3-b7242e959646",
   "metadata": {},
   "outputs": [],
   "source": [
    "dff = get_glassnode_data(category, feature, underly, freq, start_time, API_KEY)\n",
    "common_idx = dff.index.intersection(dfbtc.index)\n",
    "dff = dff.reindex(index = common_idx)\n",
    "dfy = df_underly[underly]\n",
    "dfy = dfy.reindex(index = common_idx)\n",
    "dff[underly] = dfy['c']\n",
    "dff[feature_name] = dff['v']\n",
    "dff = dff[[feature_name,underly]]"
   ]
  },
  {
   "cell_type": "code",
   "execution_count": null,
   "id": "da2c619f-8949-4da3-804c-4b079176729d",
   "metadata": {},
   "outputs": [],
   "source": [
    "dff['mc'] = dff[underly]*BTC_circulating_supply"
   ]
  },
  {
   "cell_type": "code",
   "execution_count": null,
   "id": "2ed3639b-3dd3-4400-bfaa-c4b8ecc6aa2d",
   "metadata": {},
   "outputs": [],
   "source": [
    "dff['f_n1'] = dff[feature_name]/dff['mc']"
   ]
  },
  {
   "cell_type": "code",
   "execution_count": null,
   "id": "0fa494af-66f0-49eb-b367-18f9d467cd9f",
   "metadata": {},
   "outputs": [],
   "source": [
    "dff"
   ]
  },
  {
   "cell_type": "code",
   "execution_count": null,
   "id": "2853b3a5-490b-4a9f-bbf0-0fe9287b3670",
   "metadata": {},
   "outputs": [],
   "source": []
  },
  {
   "cell_type": "code",
   "execution_count": null,
   "id": "4a0c8a43-0de0-4492-937b-6d526ae5a9bb",
   "metadata": {},
   "outputs": [],
   "source": [
    "reload(autil)\n",
    "_ = autil.ts_eda(dff, feature_name, 'f_n1', underly)"
   ]
  },
  {
   "cell_type": "code",
   "execution_count": null,
   "id": "f00d8c89-37ef-4c66-a313-66cb4b14acbc",
   "metadata": {},
   "outputs": [],
   "source": [
    "plt.figure(figsize=(4,4))\n",
    "#sns.regplot(x=xs[i],y=xs[0],data=df,)\n",
    "#dflr=df[[y,xs[i]]].dropna()\n",
    "lr=LinearRegression(fit_intercept=False).fit(dflr[[xs[i]]],dflr[y])\n",
    "lri=LinearRegression(fit_intercept=True).fit(dflr[[xs[i]]],dflr[y])\n",
    "sns.scatterplot(x=xs[i],y=y,data=dflr)\n",
    "plt.plot(dflr[xs[i]],lr.predict(dflr[[xs[i]]]),color='g')\n",
    "plt.plot(dflr[xs[i]],lri.predict(dflr[[xs[i]]]),color='r')\n",
    "plt.title(f\"r {lr.coef_[0]:.3f}x R2 {r2_score(dflr[[y]],lr.predict(dflr[[xs[i]]])):.3f} g {lri.coef_[0]:.3f}x+{lri.intercept_:.3f} R2 {r2_score(dflr[[y]],lri.predict(dflr[[xs[i]]])):.3f}\")"
   ]
  },
  {
   "cell_type": "code",
   "execution_count": null,
   "id": "5c9608ae-f715-4a75-99bb-5bb55c56aaf8",
   "metadata": {},
   "outputs": [],
   "source": [
    "dflr = dff[['TransfersVolumeToExchangesSum','BTC']]"
   ]
  },
  {
   "cell_type": "code",
   "execution_count": null,
   "id": "f17e64d0-437d-4241-a763-e33d2a361887",
   "metadata": {},
   "outputs": [],
   "source": [
    "xs = {}\n",
    "i = 0\n",
    "xs[i] = 'TransfersVolumeToExchangesSum'\n",
    "y = 'BTC'"
   ]
  },
  {
   "cell_type": "code",
   "execution_count": null,
   "id": "9e3f7010-caf6-48ed-96d9-eb5a24e567be",
   "metadata": {},
   "outputs": [],
   "source": [
    "dflr[[xs[i]]]"
   ]
  },
  {
   "cell_type": "code",
   "execution_count": null,
   "id": "e2d093a9-2818-4fdc-9696-a773d650655a",
   "metadata": {},
   "outputs": [],
   "source": [
    "lr=LinearRegression(fit_intercept=False).fit(dflr[[x]],dflr[[y]])"
   ]
  },
  {
   "cell_type": "code",
   "execution_count": null,
   "id": "3b2a0d4e-1190-4046-a57d-cbeeb1674b6b",
   "metadata": {},
   "outputs": [],
   "source": [
    "lr=LinearRegression(fit_intercept=False).fit(dflr[[xs[i]]],dflr[y])"
   ]
  },
  {
   "cell_type": "code",
   "execution_count": null,
   "id": "b7334e8f-e569-4777-8b4b-0d8864a80390",
   "metadata": {},
   "outputs": [],
   "source": [
    "dflr"
   ]
  }
 ],
 "metadata": {
  "kernelspec": {
   "display_name": "Python 3 (ipykernel)",
   "language": "python",
   "name": "python3"
  },
  "language_info": {
   "codemirror_mode": {
    "name": "ipython",
    "version": 3
   },
   "file_extension": ".py",
   "mimetype": "text/x-python",
   "name": "python",
   "nbconvert_exporter": "python",
   "pygments_lexer": "ipython3",
   "version": "3.8.8"
  }
 },
 "nbformat": 4,
 "nbformat_minor": 5
}
