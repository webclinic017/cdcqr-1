{
 "cells": [
  {
   "cell_type": "code",
   "execution_count": 1,
   "id": "1876c422-894b-4fd3-aa8d-bf39159d9b18",
   "metadata": {},
   "outputs": [
    {
     "name": "stderr",
     "output_type": "stream",
     "text": [
      "2022-01-27 15:12:17,558 - virtualbook - INFO - Table trades created successfully\n"
     ]
    },
    {
     "name": "stdout",
     "output_type": "stream",
     "text": [
      "logging to C:\\core\\logs\\ct.log\n"
     ]
    },
    {
     "data": {
      "text/html": [
       "        <script type=\"text/javascript\">\n",
       "        window.PlotlyConfig = {MathJaxConfig: 'local'};\n",
       "        if (window.MathJax) {MathJax.Hub.Config({SVG: {font: \"STIX-Web\"}});}\n",
       "        if (typeof require !== 'undefined') {\n",
       "        require.undef(\"plotly\");\n",
       "        requirejs.config({\n",
       "            paths: {\n",
       "                'plotly': ['https://cdn.plot.ly/plotly-2.4.2.min']\n",
       "            }\n",
       "        });\n",
       "        require(['plotly'], function(Plotly) {\n",
       "            window._Plotly = Plotly;\n",
       "        });\n",
       "        }\n",
       "        </script>\n",
       "        "
      ]
     },
     "metadata": {},
     "output_type": "display_data"
    }
   ],
   "source": [
    "from cdcqr.data.glassnode.utils import get_glassnode_data, quantile_info, url_parser"
   ]
  },
  {
   "cell_type": "code",
   "execution_count": 2,
   "id": "cb4ebaa9-e165-498d-8fc7-e3d05dc26156",
   "metadata": {},
   "outputs": [],
   "source": [
    "from datetime import datetime as dt\n",
    "from datetime import timedelta\n",
    "import pandas as pd\n",
    "import numpy as np\n",
    "import vectorbt as vbt\n",
    "import seaborn as sns\n",
    "from cdcqr.common.utils import camel_case2snake_case\n",
    "import matplotlib.pyplot as plt\n",
    "from cdcqr.analytics.utils import ts_eda\n",
    "from importlib import reload\n",
    "from cdcqr.common.utils import load_df\n",
    "%matplotlib inline\n",
    "\n",
    "import sys\n",
    "sys.path.append('/core/github/cryptoderiv-quant/')\n",
    "\n",
    "from ct.utils import plot2, rollingcorr\n",
    "from cdcqr.common.config import GLASSNODE_API_KEY\n",
    "API_KEY = GLASSNODE_API_KEY\n",
    "from ct.utils import glassnode"
   ]
  },
  {
   "cell_type": "code",
   "execution_count": 3,
   "id": "900b9248-60cb-412b-adc7-4454d43b7c43",
   "metadata": {},
   "outputs": [
    {
     "data": {
      "text/plain": [
       "<module 'cdcqr.analytics.utils' from 'c:\\\\core\\\\github\\\\cdcqr\\\\cdcqr\\\\analytics\\\\utils.py'>"
      ]
     },
     "execution_count": 3,
     "metadata": {},
     "output_type": "execute_result"
    }
   ],
   "source": [
    "import cdcqr.analytics.utils as autil \n",
    "reload(autil)"
   ]
  },
  {
   "cell_type": "code",
   "execution_count": 4,
   "id": "95e3e376-a49a-41c5-bdab-1d1b170c14d6",
   "metadata": {},
   "outputs": [],
   "source": [
    "#dfbtc = pd.read_pickle('/core/tmp/btc_price_20211001_20211205_10Min.pkl')\n",
    "#dfeth = pd.read_pickle('/core/tmp/btc_price_20211001_20211205_10Min.pkl')\n",
    "dfbtc = load_df('BTCUSD_PERP@binance').resample_pv('10Min')\n",
    "dfeth = load_df('ETHUSD_PERP@binance').resample_pv('10Min')"
   ]
  },
  {
   "cell_type": "code",
   "execution_count": 5,
   "id": "2aba4985-f217-41b7-8a28-a8694c48fb42",
   "metadata": {},
   "outputs": [],
   "source": [
    "df_underly = {}\n",
    "df_underly['BTC'] = dfbtc\n",
    "df_underly['ETH'] = dfeth\n"
   ]
  },
  {
   "cell_type": "code",
   "execution_count": 6,
   "id": "3eb3d3ab-f53c-4ebb-9db2-5feb0e950e95",
   "metadata": {},
   "outputs": [],
   "source": [
    "circulating_supply = {}\n",
    "circulating_supply['BTC'] = 18900625\n",
    "circulating_supply['ETH'] = 118935388"
   ]
  },
  {
   "cell_type": "code",
   "execution_count": null,
   "id": "3c78d71d-012a-4ffa-89a6-be30e9362d29",
   "metadata": {},
   "outputs": [],
   "source": []
  },
  {
   "cell_type": "markdown",
   "id": "815868a5-c5a4-4b0d-ad2f-1ac80200be4f",
   "metadata": {},
   "source": [
    "### transactions_features_exchange_activity"
   ]
  },
  {
   "cell_type": "code",
   "execution_count": 7,
   "id": "81bc965f-33ed-4d49-9344-e4da2e03095e",
   "metadata": {},
   "outputs": [],
   "source": [
    "'derivatives.FuturesFundingRatePerpetual'\n",
    "category = 'derivatives'\n",
    "features = ['FuturesFundingRatePerpetual']\n",
    "freq='10min'\n"
   ]
  },
  {
   "cell_type": "code",
   "execution_count": null,
   "id": "2c3c2950-1b66-4916-a916-a62f83f9bec0",
   "metadata": {},
   "outputs": [],
   "source": [
    "for feature in features:\n",
    "    for underly in ['BTC','ETH']:\n",
    "        \n",
    "        start_time = dt.now()-timedelta(hours=9000)\n",
    "        url1 = 'metrics~{}~{}'.format(category, camel_case2snake_case(feature))\n",
    "        print(url1, underly, freq, start_time)\n",
    "        dff = glassnode(url1,a=underly,i=freq,s=start_time,price=False)\n",
    "\n",
    "        common_idx = dff.index.intersection(dfbtc.index)\n",
    "        dff = dff.reindex(index = common_idx)\n",
    "        dfy = df_underly[underly]\n",
    "        dfy = dfy.reindex(index = common_idx)\n",
    "        dff[underly] = dfy['c']\n",
    "        dff[feature_name] = dff['v']\n",
    "        dff = dff[[feature_name,underly]]\n",
    "        \n",
    "        dff['f_n1'] = dff[feature_name]\n",
    "        #_ = autil.ts_eda(dff, feature_name, 'f_n1', underly)\n",
    "        "
   ]
  },
  {
   "cell_type": "code",
   "execution_count": null,
   "id": "8f7bfe3d-8581-4230-aadd-827c6c6aac91",
   "metadata": {},
   "outputs": [],
   "source": []
  },
  {
   "cell_type": "markdown",
   "id": "1c3a2c90-7ad2-4787-bca2-990fc2573f14",
   "metadata": {},
   "source": [
    "### transactions_features_miner_activity"
   ]
  },
  {
   "cell_type": "code",
   "execution_count": 10,
   "id": "537e4f04-f0f2-4457-b10d-91bf41421c71",
   "metadata": {},
   "outputs": [
    {
     "ename": "TypeError",
     "evalue": "glassnode() got an unexpected keyword argument 'API_KEY'",
     "output_type": "error",
     "traceback": [
      "\u001b[1;31m---------------------------------------------------------------------------\u001b[0m",
      "\u001b[1;31mTypeError\u001b[0m                                 Traceback (most recent call last)",
      "\u001b[1;32m~\\AppData\\Local\\Temp/ipykernel_7716/4021868672.py\u001b[0m in \u001b[0;36m<module>\u001b[1;34m\u001b[0m\n\u001b[0;32m     10\u001b[0m \u001b[0mstart_time\u001b[0m \u001b[1;33m=\u001b[0m \u001b[0mdt\u001b[0m\u001b[1;33m.\u001b[0m\u001b[0mnow\u001b[0m\u001b[1;33m(\u001b[0m\u001b[1;33m)\u001b[0m\u001b[1;33m-\u001b[0m\u001b[0mtimedelta\u001b[0m\u001b[1;33m(\u001b[0m\u001b[0mhours\u001b[0m\u001b[1;33m=\u001b[0m\u001b[1;36m1000\u001b[0m\u001b[1;33m)\u001b[0m\u001b[1;33m\u001b[0m\u001b[1;33m\u001b[0m\u001b[0m\n\u001b[0;32m     11\u001b[0m \u001b[1;33m\u001b[0m\u001b[0m\n\u001b[1;32m---> 12\u001b[1;33m \u001b[0mdff\u001b[0m \u001b[1;33m=\u001b[0m \u001b[0mget_glassnode_data\u001b[0m\u001b[1;33m(\u001b[0m\u001b[0mcategory\u001b[0m\u001b[1;33m,\u001b[0m \u001b[0mfeature\u001b[0m\u001b[1;33m,\u001b[0m \u001b[0munderly\u001b[0m\u001b[1;33m,\u001b[0m \u001b[0mfreq\u001b[0m\u001b[1;33m,\u001b[0m \u001b[0mstart_time\u001b[0m\u001b[1;33m,\u001b[0m \u001b[0mAPI_KEY\u001b[0m\u001b[1;33m)\u001b[0m\u001b[1;33m\u001b[0m\u001b[1;33m\u001b[0m\u001b[0m\n\u001b[0m",
      "\u001b[1;32mc:\\core\\github\\cdcqr\\cdcqr\\common\\utils.py\u001b[0m in \u001b[0;36mtimed\u001b[1;34m(*args, **kw)\u001b[0m\n\u001b[0;32m     21\u001b[0m     \u001b[1;32mdef\u001b[0m \u001b[0mtimed\u001b[0m\u001b[1;33m(\u001b[0m\u001b[1;33m*\u001b[0m\u001b[0margs\u001b[0m\u001b[1;33m,\u001b[0m \u001b[1;33m**\u001b[0m\u001b[0mkw\u001b[0m\u001b[1;33m)\u001b[0m\u001b[1;33m:\u001b[0m\u001b[1;33m\u001b[0m\u001b[1;33m\u001b[0m\u001b[0m\n\u001b[0;32m     22\u001b[0m         \u001b[0mstart_time\u001b[0m \u001b[1;33m=\u001b[0m \u001b[0mtime\u001b[0m\u001b[1;33m.\u001b[0m\u001b[0mtime\u001b[0m\u001b[1;33m(\u001b[0m\u001b[1;33m)\u001b[0m\u001b[1;33m\u001b[0m\u001b[1;33m\u001b[0m\u001b[0m\n\u001b[1;32m---> 23\u001b[1;33m         \u001b[0mresult\u001b[0m \u001b[1;33m=\u001b[0m \u001b[0mmethod\u001b[0m\u001b[1;33m(\u001b[0m\u001b[1;33m*\u001b[0m\u001b[0margs\u001b[0m\u001b[1;33m,\u001b[0m \u001b[1;33m**\u001b[0m\u001b[0mkw\u001b[0m\u001b[1;33m)\u001b[0m\u001b[1;33m\u001b[0m\u001b[1;33m\u001b[0m\u001b[0m\n\u001b[0m\u001b[0;32m     24\u001b[0m         \u001b[0mend_time\u001b[0m \u001b[1;33m=\u001b[0m \u001b[0mtime\u001b[0m\u001b[1;33m.\u001b[0m\u001b[0mtime\u001b[0m\u001b[1;33m(\u001b[0m\u001b[1;33m)\u001b[0m\u001b[1;33m\u001b[0m\u001b[1;33m\u001b[0m\u001b[0m\n\u001b[0;32m     25\u001b[0m         \u001b[1;32mif\u001b[0m \u001b[0mend_time\u001b[0m \u001b[1;33m-\u001b[0m \u001b[0mstart_time\u001b[0m \u001b[1;33m>\u001b[0m \u001b[1;36m3\u001b[0m\u001b[1;33m:\u001b[0m\u001b[1;33m\u001b[0m\u001b[1;33m\u001b[0m\u001b[0m\n",
      "\u001b[1;32mc:\\core\\github\\cdcqr\\cdcqr\\data\\glassnode\\utils.py\u001b[0m in \u001b[0;36mget_glassnode_data\u001b[1;34m(category, feature, underly, freq, start_time, api_key)\u001b[0m\n\u001b[0;32m     15\u001b[0m \u001b[1;32mdef\u001b[0m \u001b[0mget_glassnode_data\u001b[0m\u001b[1;33m(\u001b[0m\u001b[0mcategory\u001b[0m\u001b[1;33m,\u001b[0m \u001b[0mfeature\u001b[0m\u001b[1;33m,\u001b[0m \u001b[0munderly\u001b[0m\u001b[1;33m,\u001b[0m \u001b[0mfreq\u001b[0m\u001b[1;33m,\u001b[0m \u001b[0mstart_time\u001b[0m\u001b[1;33m,\u001b[0m \u001b[0mapi_key\u001b[0m\u001b[1;33m)\u001b[0m\u001b[1;33m:\u001b[0m\u001b[1;33m\u001b[0m\u001b[1;33m\u001b[0m\u001b[0m\n\u001b[0;32m     16\u001b[0m     \u001b[0murl\u001b[0m \u001b[1;33m=\u001b[0m\u001b[1;34m'https://api.glassnode.com/v1/metrics/{}/{}'\u001b[0m\u001b[1;33m.\u001b[0m\u001b[0mformat\u001b[0m\u001b[1;33m(\u001b[0m\u001b[0mcategory\u001b[0m\u001b[1;33m,\u001b[0m \u001b[0mfeature\u001b[0m\u001b[1;33m)\u001b[0m\u001b[1;33m\u001b[0m\u001b[1;33m\u001b[0m\u001b[0m\n\u001b[1;32m---> 17\u001b[1;33m     \u001b[1;32mreturn\u001b[0m \u001b[0mglassnode\u001b[0m\u001b[1;33m(\u001b[0m\u001b[0murl\u001b[0m\u001b[1;33m,\u001b[0m \u001b[0munderly\u001b[0m\u001b[1;33m,\u001b[0m \u001b[0mfreq\u001b[0m\u001b[1;33m,\u001b[0m \u001b[0mstart_time\u001b[0m\u001b[1;33m,\u001b[0m \u001b[0mNretry\u001b[0m\u001b[1;33m=\u001b[0m\u001b[1;36m10\u001b[0m\u001b[1;33m,\u001b[0m \u001b[0mAPI_KEY\u001b[0m\u001b[1;33m=\u001b[0m\u001b[0mapi_key\u001b[0m\u001b[1;33m)\u001b[0m\u001b[1;33m\u001b[0m\u001b[1;33m\u001b[0m\u001b[0m\n\u001b[0m\u001b[0;32m     18\u001b[0m \u001b[1;33m\u001b[0m\u001b[0m\n\u001b[0;32m     19\u001b[0m \u001b[1;33m\u001b[0m\u001b[0m\n",
      "\u001b[1;31mTypeError\u001b[0m: glassnode() got an unexpected keyword argument 'API_KEY'"
     ]
    }
   ],
   "source": [
    "feature_name = 'TransfersVolumeMinersToExchanges'\n",
    "underly = 'BTC'\n",
    "url = 'a={}&category={}&m=transactions.{}'.format(underly, category, feature_name)\n",
    "att_dict = url_parser(url)\n",
    "category = att_dict['category']\n",
    "feature = att_dict['feature']\n",
    "underly = att_dict['a']\n",
    "\n",
    "freq='1h'\n",
    "start_time = dt.now()-timedelta(hours=1000)\n",
    "\n",
    "dff = get_glassnode_data(category, feature, underly, freq, start_time, API_KEY)"
   ]
  },
  {
   "cell_type": "code",
   "execution_count": null,
   "id": "955e8f07-2296-4207-8093-8c0f86bb5436",
   "metadata": {},
   "outputs": [],
   "source": [
    "transactions_features_miner_activity = ['TransfersVolumeMinersToExchanges', \n",
    "                                        'TransfersVolumeToMinersSum', \n",
    "                                        'TransfersVolumeFromMinersSum', \n",
    "                                        'TransfersVolumeMinersNet', \n",
    "                                        'TransfersFromMinersCount', \n",
    "                                        'TransfersToMinersCount']\n",
    "\n",
    "# transactions_features_miner_activity = ['TransfersVolumeMinersToExchanges', ]\n",
    "\n",
    "for feature_name in transactions_features_exchange_activity:\n",
    "    for underly in ['BTC','ETH']:\n",
    "        url = 'a={}&category={}&m=transactions.{}'.format(underly, category, feature_name)\n",
    "        att_dict = url_parser(url)\n",
    "        category = att_dict['category']\n",
    "        feature = att_dict['feature']\n",
    "        underly = att_dict['a']\n",
    "\n",
    "        freq='1h'\n",
    "        start_time = dt.now()-timedelta(hours=8760)\n",
    "        u_time = dt.now()-timedelta(hours=1)\n",
    "        #dff = get_glassnode_data(category, feature, underly, freq, start_time,  API_KEY)\n",
    "        url1 = 'metrics~{}~{}'.format(category, feature)\n",
    "        dff = glassnode(url1,a=underly,i=freq,s=start_time,price=False)\n",
    "        common_idx = dff.index.intersection(dfbtc.index)\n",
    "        dff = dff.reindex(index = common_idx)\n",
    "        dfy = df_underly[underly]\n",
    "        dfy = dfy.reindex(index = common_idx)\n",
    "        dff[underly] = dfy['c']\n",
    "        dff[feature_name] = dff['v']\n",
    "        dff = dff[[feature_name,underly]]\n",
    "        \n",
    "        dff['mc'] = dff[underly]*circulating_supply[underly]\n",
    "        dff['f_n1'] = dff[feature_name]/dff['mc']\n",
    "        _ = autil.ts_eda(dff, feature_name, 'f_n1', underly)"
   ]
  },
  {
   "cell_type": "markdown",
   "id": "59d5868d-df2a-4c35-ad2c-463a7db33f16",
   "metadata": {},
   "source": [
    "### OTC Desks"
   ]
  },
  {
   "cell_type": "code",
   "execution_count": null,
   "id": "959e4db2-e584-46b8-9ea0-91891185b4d6",
   "metadata": {
    "tags": []
   },
   "outputs": [],
   "source": [
    "category = 'OTC'\n",
    "transactions_features_otc_desks = ['TransfersVolumeToOtcDesksSum', \n",
    "                                        'TransfersVolumeFromOtcDesksSum', \n",
    "                                        'TransfersToOtcDesksCount', \n",
    "                                        'TransfersFromOtcDesksCount', \n",
    "                                        ]\n",
    "\n",
    "for feature_name in transactions_features_otc_desks:\n",
    "    for underly in ['BTC']:\n",
    "        url = 'a={}&category={}&m=transactions.{}'.format(underly, category, feature_name)\n",
    "        att_dict = url_parser(url)\n",
    "        category = att_dict['category']\n",
    "        feature = att_dict['feature']\n",
    "        underly = att_dict['a']\n",
    "\n",
    "        freq='1h'\n",
    "        start_time = dt.now()-timedelta(hours=8760)\n",
    "        u_time = dt.now()-timedelta(hours=1)\n",
    "        #dff = get_glassnode_data(category, feature, underly, freq, start_time,  API_KEY)\n",
    "        url1 = 'metrics~{}~{}'.format(category, feature)\n",
    "        dff = glassnode(url1,a=underly,i=freq,s=start_time,price=False)\n",
    "        common_idx = dff.index.intersection(dfbtc.index)\n",
    "        dff = dff.reindex(index = common_idx)\n",
    "        dfy = df_underly[underly]\n",
    "        dfy = dfy.reindex(index = common_idx)\n",
    "        dff[underly] = dfy['c']\n",
    "        dff[feature_name] = dff['v']\n",
    "        dff = dff[[feature_name,underly]]\n",
    "        \n",
    "        dff['mc'] = dff[underly]*circulating_supply[underly]\n",
    "        dff['f_n1'] = dff[feature_name]/dff['mc']\n",
    "        _ = autil.ts_eda(dff, feature_name, 'f_n1', underly)"
   ]
  },
  {
   "cell_type": "code",
   "execution_count": null,
   "id": "9853afe3-8fc3-4eea-acd9-39bad7d27758",
   "metadata": {
    "tags": []
   },
   "outputs": [],
   "source": [
    "feature_name = 'TransfersVolumeToOtcDesksSum'\n",
    "underly = 'BTC'\n",
    "category = 'OTC'\n",
    "for feature_name in transactions_features_otc_desks:\n",
    "    ts_eda_wrapper(feature_name, underly, category, freq = '1h')"
   ]
  },
  {
   "cell_type": "code",
   "execution_count": null,
   "id": "80229bae-b225-4eb9-813a-d384d3df4f54",
   "metadata": {},
   "outputs": [],
   "source": [
    "def ts_eda_wrapper(feature_name, underly, category, freq = '1h'):\n",
    "    url = 'a={}&category={}&m=transactions.{}'.format(underly, category, feature_name)\n",
    "    att_dict = url_parser(url)\n",
    "    category = att_dict['category']\n",
    "    feature = att_dict['feature']\n",
    "    underly = att_dict['a']\n",
    "\n",
    "    start_time = dt.now()-timedelta(hours=8760)\n",
    "    u_time = dt.now()-timedelta(hours=1)\n",
    "    #dff = get_glassnode_data(category, feature, underly, freq, start_time,  API_KEY)\n",
    "    url1 = 'metrics~{}~{}'.format(category, feature)\n",
    "    dff = glassnode(url1,a=underly,i=freq,s=start_time,price=False)\n",
    "    common_idx = dff.index.intersection(dfbtc.index)\n",
    "    dff = dff.reindex(index = common_idx)\n",
    "    dfy = df_underly[underly]\n",
    "    dfy = dfy.reindex(index = common_idx)\n",
    "    dff[underly] = dfy['c']\n",
    "    dff[feature_name] = dff['v']\n",
    "    dff = dff[[feature_name,underly]]\n",
    "\n",
    "    dff['mc'] = dff[underly]*circulating_supply[underly]\n",
    "    dff['f_n1'] = dff[feature_name]/dff['mc']\n",
    "    _ = autil.ts_eda(dff, feature_name, 'f_n1', underly)"
   ]
  },
  {
   "cell_type": "markdown",
   "id": "b5ce4360-5ad4-4740-b72b-73bd1be17acf",
   "metadata": {},
   "source": [
    "### transaction count and size"
   ]
  },
  {
   "cell_type": "code",
   "execution_count": null,
   "id": "6aab3896-cb0b-40e4-80e2-b68a090f5152",
   "metadata": {},
   "outputs": [],
   "source": [
    "transactions_count_and_size = [   'Count', \n",
    "                                        'Rate', \n",
    "                                        'EntityAdjustedCount', \n",
    "                                        'SizeSum', \n",
    "                                     'SizeMean'\n",
    "                                        ]\n",
    "\n",
    "\n",
    "for feature_name in transactions_count_and_size:\n",
    "    for underly in ['BTC']:\n",
    "        url = 'a={}&category={}&m=transactions.{}'.format(underly, category, feature_name)\n",
    "        att_dict = url_parser(url)\n",
    "        category = att_dict['category']\n",
    "        feature = att_dict['feature']\n",
    "        underly = att_dict['a']\n",
    "\n",
    "        freq='10m'\n",
    "        start_time = dt.now()-timedelta(hours=1000)\n",
    "\n",
    "        dff = get_glassnode_data(category, feature, underly, freq, start_time, API_KEY)\n",
    "        common_idx = dff.index.intersection(dfbtc.index)\n",
    "        dff = dff.reindex(index = common_idx)\n",
    "        dfy = df_underly[underly]\n",
    "        dfy = dfy.reindex(index = common_idx)\n",
    "        dff[underly] = dfy['c']\n",
    "        dff[feature_name] = dff['v']\n",
    "        dff = dff[[feature_name,underly]]\n",
    "        _ = autil.ts_eda(dff)"
   ]
  },
  {
   "cell_type": "markdown",
   "id": "62eeb2ad-f26e-4d4d-b9c4-06a93f989766",
   "metadata": {},
   "source": [
    "### transaction - transfer volume"
   ]
  },
  {
   "cell_type": "code",
   "execution_count": null,
   "id": "3bb14ec3-1e58-4708-8c41-f96ceefbb227",
   "metadata": {
    "tags": []
   },
   "outputs": [],
   "source": [
    "transactions_transfer_volume = ['TransfersVolumeSum', \n",
    "                                        'TransfersVolumeMean', \n",
    "                                        'TransfersVolumeMedian', \n",
    "                                        'TransfersVolumeAdjustedSum', \n",
    "                               'TransfersVolumeAdjustedMean',\n",
    "                                'TransfersVolumeAdjustedMedian',\n",
    "                                'TransfersVolumeEntityAdjustedSum',\n",
    "                                'TransfersVolumeEntityAdjustedMean',\n",
    "                                        ]\n",
    "\n",
    "underly = 'BTC'\n",
    "category = 'transaction'\n",
    "for feature_name in transactions_transfer_volume:\n",
    "    ts_eda_wrapper(feature_name, underly, category, freq = '1h')"
   ]
  },
  {
   "cell_type": "code",
   "execution_count": null,
   "id": "9f2a035d-a213-43e4-b919-b4b55eaac329",
   "metadata": {
    "tags": []
   },
   "outputs": [],
   "source": [
    "dff"
   ]
  },
  {
   "cell_type": "markdown",
   "id": "1780a0a0-f302-4ba3-aad1-a5ee037f8968",
   "metadata": {},
   "source": [
    "### Volume - UXTO volume"
   ]
  },
  {
   "cell_type": "code",
   "execution_count": null,
   "id": "af89c5e5-df18-4d26-bd25-c6e7387aed7f",
   "metadata": {},
   "outputs": [],
   "source": [
    "category = 'Volume'\n",
    "volume_uxto_volume = ['UtxoCreatedValueSum', \n",
    "                                        'UtxoSpentValueMean', \n",
    "                     ]\n",
    "\n",
    "for feature_name in volume_uxto_volume:\n",
    "    for underly in ['BTC']:\n",
    "        url = 'a={}&category={}&m=blockchain.{}'.format(underly, category, feature_name)\n",
    "        att_dict = url_parser(url)\n",
    "        category = att_dict['category']\n",
    "        feature = att_dict['feature']\n",
    "        underly = att_dict['a']\n",
    "\n",
    "        freq='10m'\n",
    "        start_time = dt.now()-timedelta(hours=1000)\n",
    "\n",
    "        dff = get_glassnode_data(category, feature, underly, freq, start_time, api_key=API_KEY)\n",
    "        common_idx = dff.index.intersection(dfbtc.index)\n",
    "        dff = dff.reindex(index = common_idx)\n",
    "        dfy = df_underly[underly]\n",
    "        dfy = dfy.reindex(index = common_idx)\n",
    "        dff[underly] = dfy['c']\n",
    "        dff[feature_name] = dff['v']\n",
    "        dff = dff[[feature_name,underly]]\n",
    "        _ = autil.ts_eda(dff)"
   ]
  },
  {
   "cell_type": "markdown",
   "id": "191cb953-5ac4-4213-8c4f-1283d13ad1bf",
   "metadata": {},
   "source": [
    "### Dsitribution - Entity Balance"
   ]
  },
  {
   "cell_type": "code",
   "execution_count": null,
   "id": "cb3559c7-18ed-4b47-bf36-38b79b51748d",
   "metadata": {},
   "outputs": [],
   "source": [
    "category = 'Distribution'\n",
    "distribution_entity_balance = ['BalanceExchanges', \n",
    "                     ]\n",
    "\n",
    "for feature_name in distribution_entity_balance:\n",
    "    for underly in ['BTC']:\n",
    "        url = 'a={}&category={}&m=distribution.{}'.format(underly, category, feature_name)\n",
    "        att_dict = url_parser(url)\n",
    "        category = att_dict['category']\n",
    "        feature = att_dict['feature']\n",
    "        underly = att_dict['a']\n",
    "\n",
    "        freq='10m'\n",
    "        start_time = dt.now()-timedelta(hours=1000)\n",
    "\n",
    "        dff = get_glassnode_data(category, feature, underly, freq, start_time, API_KEY)\n",
    "        common_idx = dff.index.intersection(dfbtc.index)\n",
    "        dff = dff.reindex(index = common_idx)\n",
    "        dfy = df_underly[underly]\n",
    "        dfy = dfy.reindex(index = common_idx)\n",
    "        dff[underly] = dfy['c']\n",
    "        dff[feature_name] = dff['v']\n",
    "        dff = dff[[feature_name,underly]]\n",
    "        _ = autil.ts_eda(dff)"
   ]
  }
 ],
 "metadata": {
  "kernelspec": {
   "display_name": "Python 3 (ipykernel)",
   "language": "python",
   "name": "python3"
  },
  "language_info": {
   "codemirror_mode": {
    "name": "ipython",
    "version": 3
   },
   "file_extension": ".py",
   "mimetype": "text/x-python",
   "name": "python",
   "nbconvert_exporter": "python",
   "pygments_lexer": "ipython3",
   "version": "3.8.8"
  }
 },
 "nbformat": 4,
 "nbformat_minor": 5
}
