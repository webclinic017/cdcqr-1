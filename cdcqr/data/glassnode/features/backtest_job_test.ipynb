{
 "cells": [
  {
   "cell_type": "code",
   "execution_count": 16,
   "id": "83cf226e-0fea-4b30-9a10-712b716d800e",
   "metadata": {},
   "outputs": [],
   "source": [
    "import logging\n",
    "LOG_FILENAME = '/core/logs/backtest.log'\n",
    "logging.basicConfig(\n",
    "    format='%(asctime)s %(levelname)-8s %(message)s',\n",
    "    level=logging.INFO,\n",
    "    datefmt='%Y-%m-%d %H:%M:%S',filename=LOG_FILENAME)\n",
    "from cdcqr.backtest.vbt.runsignal import runsignal\n",
    "from cdcqr.common.utils import parallel_jobs\n",
    "import numpy as np\n",
    "from cdcqr.common.utils import LOCAL_DATA_DIR, dict_hash\n",
    "import pandas as pd\n",
    "import os\n",
    "import warnings\n",
    "warnings.filterwarnings(\"ignore\")\n",
    "from cdcqr.common.utils import LOCAL_DATA_DIR\n",
    "import json\n",
    "from cdcqr.data.glassnode.features.feature_loaders import produce_feature_BTCSSR\n",
    "from cdcqr.backtest.vbt.sample_params import param_dict\n",
    "\n",
    "pctrank = lambda x: pd.Series(x).rank(pct=True).iloc[-1]\n",
    "from cdcqr.backtest.vbt.runsignal import wrapped_runsignal\n"
   ]
  },
  {
   "cell_type": "code",
   "execution_count": null,
   "id": "54d1558b-d517-494e-a262-7f33997f1b50",
   "metadata": {},
   "outputs": [],
   "source": [
    "param_dict_raw = param_dict.copy()\n",
    "param_dict_raw"
   ]
  },
  {
   "cell_type": "code",
   "execution_count": 3,
   "id": "74bf9c83-fbb7-464d-8285-a96c1a40397e",
   "metadata": {},
   "outputs": [],
   "source": [
    "feature_data_fname = 'gn_BTCSSR'\n",
    "feature_data_dir = os.path.join(LOCAL_DATA_DIR, 'feature_data', '{}.pickle'.format(feature_data_fname))\n",
    "df4a = pd.read_pickle(feature_data_dir)"
   ]
  },
  {
   "cell_type": "code",
   "execution_count": 4,
   "id": "f8d573d6-2b1b-447c-9eb5-a93c10d6743b",
   "metadata": {},
   "outputs": [],
   "source": [
    "price = pd.read_pickle(os.path.join(LOCAL_DATA_DIR,'BTC-PERP@ftx.pickle'))\n"
   ]
  },
  {
   "cell_type": "code",
   "execution_count": 5,
   "id": "bb97a53b-e4a0-47da-bb1d-e11559900ec7",
   "metadata": {},
   "outputs": [],
   "source": [
    "qtl_params = [0.995, 0.99, 0.975, 0.96]\n",
    "lbw_params = [1000, 2000, 3000, 4000]\n",
    "\n",
    "tp_params = [3, 5, 7, 10] # \n",
    "sl_params = [1, 2, 3 , 5] # ts = sl \n",
    "n1_params = [1, 10, 100]\n",
    "n2_params = [101, 200, 500, 1000, 2000]\n",
    "rsil_params = [10, 20]\n",
    "rsilag_params = [14]\n",
    "maf_params = [5, 60]\n",
    "mas_params = [100, 200]"
   ]
  },
  {
   "cell_type": "code",
   "execution_count": 23,
   "id": "b7c3406e-f725-4745-8299-e138214c88e6",
   "metadata": {},
   "outputs": [],
   "source": [
    "qtl_params = [0.995, 0.99]\n",
    "lbw_params = [1000, 2000]\n",
    "\n",
    "tp_params = [3, 5, ] # \n",
    "sl_params = [1, 2,] # ts = sl \n",
    "n1_params = [1, 10,]\n",
    "n2_params = [101, 200]\n",
    "\n",
    "rsil_params = [10, 20]\n",
    "rsilag_params = [14]\n",
    "maf_params = [5, 60]\n",
    "mas_params = [100, 200]\n"
   ]
  },
  {
   "cell_type": "code",
   "execution_count": 7,
   "id": "eb39eca4-0a0b-48b4-a6b3-17e1dd5cd862",
   "metadata": {},
   "outputs": [],
   "source": [
    "feature = 'BTCSSR'"
   ]
  },
  {
   "cell_type": "code",
   "execution_count": 8,
   "id": "1ac3abcd-b576-4d2a-9217-90ad2b0a3913",
   "metadata": {
    "scrolled": true,
    "tags": []
   },
   "outputs": [
    {
     "name": "stdout",
     "output_type": "stream",
     "text": [
      "0.995 1000 3 1\n",
      "1\n",
      "2\n",
      "3\n",
      "4\n",
      "0.995 1000 3 2\n",
      "5\n",
      "6\n",
      "7\n",
      "8\n",
      "0.995 1000 5 1\n",
      "9\n",
      "10\n",
      "11\n",
      "12\n",
      "0.995 1000 5 2\n",
      "13\n",
      "14\n",
      "15\n",
      "16\n",
      "0.99 1000 3 1\n",
      "17\n",
      "18\n",
      "19\n",
      "20\n",
      "0.99 1000 3 2\n",
      "21\n",
      "22\n",
      "23\n",
      "24\n",
      "0.99 1000 5 1\n",
      "25\n",
      "26\n",
      "27\n",
      "28\n",
      "0.99 1000 5 2\n",
      "29\n",
      "30\n",
      "31\n",
      "32\n",
      "0.995 2000 3 1\n",
      "33\n",
      "34\n",
      "35\n",
      "36\n",
      "0.995 2000 3 2\n",
      "37\n",
      "38\n",
      "39\n",
      "40\n",
      "0.995 2000 5 1\n",
      "41\n",
      "42\n",
      "43\n",
      "44\n",
      "0.995 2000 5 2\n",
      "45\n",
      "46\n",
      "47\n",
      "48\n",
      "0.99 2000 3 1\n",
      "49\n",
      "50\n",
      "51\n",
      "52\n",
      "0.99 2000 3 2\n",
      "53\n",
      "54\n",
      "55\n",
      "56\n",
      "0.99 2000 5 1\n",
      "57\n",
      "58\n",
      "59\n",
      "60\n",
      "0.99 2000 5 2\n",
      "61\n",
      "62\n",
      "63\n",
      "64\n"
     ]
    }
   ],
   "source": [
    "counter = 0\n",
    "backtest_configs = []\n",
    "for lbw in lbw_params:\n",
    "    feature_pctrank = '{}_pctrank{}'.format(feature, lbw)\n",
    "    df4a[feature_pctrank] = df4a[feature].rolling(lbw).apply(pctrank)\n",
    "    df4b = df4a[df4a.index>='20210101']\n",
    "    for qtl in qtl_params:\n",
    "        signal = df4b[feature_pctrank]>qtl # rolling max, keep the singal for a period (1 hour), good for combining with other signals\n",
    "        signal = signal.reindex(price.index).ffill()\n",
    "        for tp in tp_params:\n",
    "            for sl in sl_params:\n",
    "                print(qtl, lbw, tp, sl)\n",
    "                for n1 in n1_params:\n",
    "                    for n2 in n2_params:\n",
    "                        counter+=1\n",
    "                        print(counter)\n",
    "                        for rsil in rsil_params:\n",
    "                            rsih = 100-rsil\n",
    "                            for maf in maf_params:\n",
    "                                for mas in mas_params:\n",
    "                                    for railag in rsilag_params:\n",
    "                                        \n",
    "                                        param_dict = param_dict_raw.copy()\n",
    "                                        param_dict['qtl'] = qtl\n",
    "                                        param_dict['lbw'] = lbw\n",
    "                                        param_dict['signal'] = signal\n",
    "                                        param_dict['price'] = price\n",
    "                                        param_dict['tp'] = tp\n",
    "                                        param_dict['sl'] = sl\n",
    "                                        param_dict['n1'] = n1\n",
    "                                        param_dict['n2'] = n1 + n2\n",
    "                                        param_dict['rsil'] = rsil\n",
    "                                        param_dict['rsih'] = rsih\n",
    "                                        param_dict['maf'] = maf\n",
    "                                        param_dict['mas'] = mas\n",
    "                                        param_dict['railag'] = railag\n",
    "                                        \n",
    "                                        backtest_configs.append(param_dict)"
   ]
  },
  {
   "cell_type": "code",
   "execution_count": 12,
   "id": "afad27fe-6ee9-47a8-92d3-09fce88df159",
   "metadata": {},
   "outputs": [
    {
     "data": {
      "text/plain": [
       "512"
      ]
     },
     "execution_count": 12,
     "metadata": {},
     "output_type": "execute_result"
    }
   ],
   "source": [
    "len(backtest_configs)"
   ]
  },
  {
   "cell_type": "code",
   "execution_count": 14,
   "id": "60ee33bb-8522-4b27-8b27-ad46459b22f3",
   "metadata": {},
   "outputs": [],
   "source": [
    "bt_config = backtest_configs[0]"
   ]
  },
  {
   "cell_type": "code",
   "execution_count": 19,
   "id": "47749a77-443d-4358-841f-fd38551f747c",
   "metadata": {},
   "outputs": [],
   "source": [
    "ret = wrapped_runsignal(bt_config)"
   ]
  },
  {
   "cell_type": "code",
   "execution_count": null,
   "id": "96d47ecd-3e1f-49d0-a9c1-cbc9f9dd1dc7",
   "metadata": {},
   "outputs": [],
   "source": [
    "ret"
   ]
  }
 ],
 "metadata": {
  "kernelspec": {
   "display_name": "Python 3 (ipykernel)",
   "language": "python",
   "name": "python3"
  },
  "language_info": {
   "codemirror_mode": {
    "name": "ipython",
    "version": 3
   },
   "file_extension": ".py",
   "mimetype": "text/x-python",
   "name": "python",
   "nbconvert_exporter": "python",
   "pygments_lexer": "ipython3",
   "version": "3.8.8"
  }
 },
 "nbformat": 4,
 "nbformat_minor": 5
}
