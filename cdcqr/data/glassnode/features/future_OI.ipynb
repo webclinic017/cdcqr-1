{
 "cells": [
  {
   "cell_type": "code",
   "execution_count": null,
   "id": "f1548204-90a7-43d9-965d-673722b47259",
   "metadata": {},
   "outputs": [],
   "source": [
    "import sys\n",
    "sys.path.append('/core/github/cryptoderiv-quant/')\n",
    "from ct.utils import glassnode\n",
    "\n",
    "from cdcqr.data.glassnode.utils import get_glassnode_data, quantile_info, url_parser\n",
    "from datetime import datetime as dt\n",
    "from datetime import timedelta\n",
    "from cdcqr.common.config import GLASSNODE_API_KEY as API_KEY\n",
    "from cdcqr.common.utils import load_df, save, resample_pv\n",
    "import requests\n",
    "import pandas as pd\n",
    "import matplotlib.pyplot as plt\n",
    "%matplotlib inline\n",
    "from cdcqr.ct.utils import plot2"
   ]
  },
  {
   "cell_type": "code",
   "execution_count": null,
   "id": "a5a26dd1-894a-45b2-bb58-66fdf8e9524e",
   "metadata": {},
   "outputs": [],
   "source": [
    "from cdcqr.data.glassnode.utils import glassnode1"
   ]
  },
  {
   "cell_type": "code",
   "execution_count": null,
   "id": "5ae8712a-df2a-4d35-ad54-e37da84b4437",
   "metadata": {},
   "outputs": [],
   "source": [
    "\n",
    "res = requests.get('https://api.glassnode.com/v1/metrics/market/price_usd_close',\n",
    "    params={'a': 'BTC', 'i':'1h','api_key': API_KEY})\n",
    "\n",
    "# convert to pandas dataframe\n",
    "df_btc = pd.read_json(res.text, convert_dates=['t'])"
   ]
  },
  {
   "cell_type": "code",
   "execution_count": null,
   "id": "53a080db-a448-45bf-92b3-9759b237dc1a",
   "metadata": {},
   "outputs": [],
   "source": [
    "df_btc.head(2)"
   ]
  },
  {
   "cell_type": "code",
   "execution_count": null,
   "id": "e5edb08b-396d-4d41-b416-685ee1cdc55f",
   "metadata": {},
   "outputs": [],
   "source": [
    "futures_open_interest_perpetual_sum_all BTC derivatives 1h"
   ]
  },
  {
   "cell_type": "code",
   "execution_count": null,
   "id": "8fa38462-43aa-41f0-9a6c-84acf81e4d90",
   "metadata": {},
   "outputs": [],
   "source": [
    "res = requests.get('https://api.glassnode.com/v1/metrics/derivatives/futures_open_interest_perpetual_sum_all',\n",
    "    params={'a': 'BTC',  'i':'1h','api_key': API_KEY})\n",
    "\n",
    "# convert to pandas dataframe\n",
    "dff = pd.read_json(res.text, convert_dates=['t'])"
   ]
  },
  {
   "cell_type": "code",
   "execution_count": null,
   "id": "ae2de383-6f01-40d3-a9af-6b7dc8e66d88",
   "metadata": {},
   "outputs": [],
   "source": [
    "dff['oi'] = dff['o'].apply(lambda x: x['total'])"
   ]
  },
  {
   "cell_type": "code",
   "execution_count": null,
   "id": "1b894ff4-cadd-4129-8c26-1006626d11b8",
   "metadata": {},
   "outputs": [],
   "source": [
    "df_dict['BTC']"
   ]
  },
  {
   "cell_type": "code",
   "execution_count": null,
   "id": "211aceac-1ea1-4ab7-b715-735f3773f818",
   "metadata": {},
   "outputs": [],
   "source": [
    "df1 = pd.merge(left = dff[['t','oi']], right = df_btc, on = ['t']).set_index('t')"
   ]
  },
  {
   "cell_type": "code",
   "execution_count": null,
   "id": "57eb2b54-6c7d-4cc9-baf6-6c97d99abc1c",
   "metadata": {},
   "outputs": [],
   "source": [
    "df1.columns = ['oi','BTC']\n",
    "df1.head(2)"
   ]
  },
  {
   "cell_type": "code",
   "execution_count": null,
   "id": "eb8abb50-c4a8-44b8-84b1-54b8c970368b",
   "metadata": {},
   "outputs": [],
   "source": [
    "df1[df1.index>'20210101'].plot2('oi','BTC')"
   ]
  },
  {
   "cell_type": "code",
   "execution_count": null,
   "id": "19037f80-2aaf-4506-8ad4-5c8f54b53825",
   "metadata": {},
   "outputs": [],
   "source": [
    "df1['Sum(returns(oi,1),7)'] = df1['oi'].pct_change().rolling(7).sum()\n",
    "df1['Sum(returns(oi,1),7)/BTC'] = df1['Sum(returns(oi,1),7)']/df1['BTC']\n"
   ]
  },
  {
   "cell_type": "code",
   "execution_count": null,
   "id": "dffed0ff-3a49-4590-965b-d5e2ac5d1c2c",
   "metadata": {},
   "outputs": [],
   "source": [
    "df1.plot2('Sum(returns(oi,1),7)','BTC')"
   ]
  },
  {
   "cell_type": "code",
   "execution_count": null,
   "id": "44df0877-df44-405a-9271-d0fa79a653f9",
   "metadata": {},
   "outputs": [],
   "source": [
    "from cdcqr.common.config import LOCAL_FIGURE_DIR\n",
    "LOCAL_FIGURE_DIR"
   ]
  }
 ],
 "metadata": {
  "kernelspec": {
   "display_name": "Python 3 (ipykernel)",
   "language": "python",
   "name": "python3"
  },
  "language_info": {
   "codemirror_mode": {
    "name": "ipython",
    "version": 3
   },
   "file_extension": ".py",
   "mimetype": "text/x-python",
   "name": "python",
   "nbconvert_exporter": "python",
   "pygments_lexer": "ipython3",
   "version": "3.8.8"
  }
 },
 "nbformat": 4,
 "nbformat_minor": 5
}
