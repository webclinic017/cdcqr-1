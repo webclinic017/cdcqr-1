{
 "cells": [
  {
   "cell_type": "code",
   "execution_count": null,
   "id": "060a2261-8898-48d8-b784-79ca22879ccd",
   "metadata": {},
   "outputs": [],
   "source": [
    "from cdcqr.data.glassnode import glassnode_data as gnd\n",
    "from cdcqr.ct.utils import plot2\n",
    "import pandas as pd\n",
    "import cdcqr.analytics.utils as autil \n",
    "from importlib import reload\n",
    "from cdcqr.common.utils import camel_case2snake_case"
   ]
  },
  {
   "cell_type": "code",
   "execution_count": null,
   "id": "f11c37f0-2c64-4e3e-90bc-7e3437d0a22a",
   "metadata": {},
   "outputs": [],
   "source": [
    "gn = gnd.GlassnodeData()"
   ]
  },
  {
   "cell_type": "markdown",
   "id": "fcfccb93-3edf-462b-8533-ac404f856d33",
   "metadata": {},
   "source": [
    "## TransfersVolumeToExchangesSum"
   ]
  },
  {
   "cell_type": "code",
   "execution_count": null,
   "id": "e089b8bd-bd34-4304-9ea4-bca5c69b214e",
   "metadata": {
    "scrolled": true,
    "tags": []
   },
   "outputs": [],
   "source": [
    "gn.feature_dict[gn.get_feature_category('TransfersVolumeToExchangesSum')]"
   ]
  },
  {
   "cell_type": "code",
   "execution_count": null,
   "id": "f64e0a8e-45f6-4dcd-94f8-1c3dd026e545",
   "metadata": {},
   "outputs": [],
   "source": [
    "gn.get_feature_category('TransfersVolumeToExchangesSum')"
   ]
  },
  {
   "cell_type": "code",
   "execution_count": null,
   "id": "4ebca42f-9dae-4cc4-97fe-004d4625a5f9",
   "metadata": {},
   "outputs": [],
   "source": [
    "feature_name = 'TransfersVolumeToExchangesSum'\n",
    "feature_name = camel_case2snake_case(feature_name)"
   ]
  },
  {
   "cell_type": "code",
   "execution_count": null,
   "id": "34355d0d-f082-48e2-8473-9301ae4599a1",
   "metadata": {},
   "outputs": [],
   "source": [
    "i = gn.get_feature_best_resolutions(feature_name)\n",
    "print(i)"
   ]
  },
  {
   "cell_type": "code",
   "execution_count": null,
   "id": "3dd76d76-e841-4417-bad3-a1cac9bf4581",
   "metadata": {
    "scrolled": true,
    "tags": []
   },
   "outputs": [],
   "source": [
    "feature_assets = gn.get_feature_assets(feature_name)\n",
    "print(feature_assets)"
   ]
  },
  {
   "cell_type": "code",
   "execution_count": null,
   "id": "f541c4a1-003e-4752-bffa-5c56922dd88f",
   "metadata": {},
   "outputs": [],
   "source": [
    "fs =  ['price_usd_close', feature_name]\n",
    "a = feature_assets[1]\n",
    "df = gn.load_features(fs, a, i)"
   ]
  },
  {
   "cell_type": "code",
   "execution_count": null,
   "id": "c01ae9c3-5c38-4836-8076-9d1aef5678b6",
   "metadata": {},
   "outputs": [],
   "source": [
    "\n",
    "df1 = df[df.index>='20210101']\n",
    "reload(autil)\n",
    "feature_raw = '{}_{}'.format(a, feature_name)\n",
    "feature_normalized = feature_raw\n",
    "target = '{}_price_usd_close'.format(a)\n",
    "_ = autil.ts_eda(df1, feature_raw, feature_normalized, target, save_fig=True)"
   ]
  },
  {
   "cell_type": "code",
   "execution_count": null,
   "id": "7ce233ae-6fd2-49bb-87f1-412382fb48d9",
   "metadata": {},
   "outputs": [],
   "source": []
  }
 ],
 "metadata": {
  "kernelspec": {
   "display_name": "Python 3 (ipykernel)",
   "language": "python",
   "name": "python3"
  },
  "language_info": {
   "codemirror_mode": {
    "name": "ipython",
    "version": 3
   },
   "file_extension": ".py",
   "mimetype": "text/x-python",
   "name": "python",
   "nbconvert_exporter": "python",
   "pygments_lexer": "ipython3",
   "version": "3.8.8"
  }
 },
 "nbformat": 4,
 "nbformat_minor": 5
}
