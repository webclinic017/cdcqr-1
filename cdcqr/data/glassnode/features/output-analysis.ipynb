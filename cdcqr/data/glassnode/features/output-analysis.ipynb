{
 "cells": [
  {
   "cell_type": "code",
   "execution_count": null,
   "id": "91c71c2f-400e-44ee-aeb3-0de47035a868",
   "metadata": {},
   "outputs": [
    {
     "name": "stderr",
     "output_type": "stream",
     "text": [
      "C:\\Users\\Wang\\anaconda3\\lib\\site-packages\\fuzzywuzzy\\fuzz.py:11: UserWarning: Using slow pure-python SequenceMatcher. Install python-Levenshtein to remove this warning\n",
      "  warnings.warn('Using slow pure-python SequenceMatcher. Install python-Levenshtein to remove this warning')\n"
     ]
    },
    {
     "data": {
      "text/html": [
       "        <script type=\"text/javascript\">\n",
       "        window.PlotlyConfig = {MathJaxConfig: 'local'};\n",
       "        if (window.MathJax) {MathJax.Hub.Config({SVG: {font: \"STIX-Web\"}});}\n",
       "        if (typeof require !== 'undefined') {\n",
       "        require.undef(\"plotly\");\n",
       "        requirejs.config({\n",
       "            paths: {\n",
       "                'plotly': ['https://cdn.plot.ly/plotly-2.4.2.min']\n",
       "            }\n",
       "        });\n",
       "        require(['plotly'], function(Plotly) {\n",
       "            window._Plotly = Plotly;\n",
       "        });\n",
       "        }\n",
       "        </script>\n",
       "        "
      ]
     },
     "metadata": {},
     "output_type": "display_data"
    }
   ],
   "source": [
    "from cdcqr.data.glassnode import glassnode_data as gnd\n",
    "from cdcqr.ct.utils import plot2\n",
    "import pandas as pd\n",
    "import cdcqr.analytics.utils as autil \n",
    "from importlib import reload\n",
    "import seaborn as sns\n",
    "import matplotlib.pyplot as plt\n",
    "from cdcqr.analytics.utils import calculate_corr_pvalues\n",
    "from cdcqr.common.utils import LOCAL_DATA_DIR\n",
    "import os\n",
    "import numpy as np\n",
    "from cdcqr.backtest.vbt.runsignal import runsignal\n",
    "import cufflinks as cf\n",
    "cf.go_offline()\n",
    "cf.set_config_file(offline=False, world_readable=True)\n",
    "import time\n",
    "from IPython.display import Audio\n",
    "sound_file = '/core/tmp/ding.wav'\n",
    "%matplotlib inline\n",
    "\n",
    "import sys\n",
    "sys.path.append('/core/github/cryptoderiv-quant/')\n",
    "from ct.utils import pv"
   ]
  },
  {
   "cell_type": "code",
   "execution_count": null,
   "id": "82d98223-080d-4e0f-aba0-9fbd5a38c099",
   "metadata": {},
   "outputs": [],
   "source": [
    "gn = gnd.GlassnodeData()"
   ]
  },
  {
   "cell_type": "code",
   "execution_count": null,
   "id": "1d879a00-5a0f-488e-b1bb-5daee64210d1",
   "metadata": {},
   "outputs": [],
   "source": [
    "gn.get_feature_best_resolutions('balance_exchanges')"
   ]
  },
  {
   "cell_type": "code",
   "execution_count": null,
   "id": "9a71107a-cb24-4a1c-b984-64a72fe9b20a",
   "metadata": {},
   "outputs": [],
   "source": [
    "fs = ['price_usd_close', 'balance_exchanges']\n",
    "assets = ['BTC','USDT', 'USDC', 'BUSD']\n",
    "df = gn.load_features(fs, assets, resolution='10m')"
   ]
  },
  {
   "cell_type": "code",
   "execution_count": null,
   "id": "eb65a26e-5988-4395-8dfe-86116e1cdaa2",
   "metadata": {},
   "outputs": [],
   "source": [
    "df1 = df[df.index>='20200101'].ffill().drop(['USDT-price_usd_close','USDC-price_usd_close','BUSD-price_usd_close'],axis=1)\n",
    "df1['stable-balance_exchanges'] = df['USDT-balance_exchanges']+df['USDC-balance_exchanges']+df['BUSD-balance_exchanges']\n",
    "df1 = df1[['BTC-price_usd_close', 'stable-balance_exchanges','BTC-balance_exchanges']]\n",
    "df1.head()"
   ]
  },
  {
   "cell_type": "code",
   "execution_count": null,
   "id": "7ba63559-4895-4cb9-9381-c9634bf2bfd7",
   "metadata": {},
   "outputs": [],
   "source": [
    "df1['BTC-balance_exchanges_MC'] = df1['BTC-price_usd_close'] * df1['BTC-balance_exchanges']"
   ]
  },
  {
   "cell_type": "code",
   "execution_count": null,
   "id": "a3657edd-9281-454b-a02c-50d263b64566",
   "metadata": {},
   "outputs": [],
   "source": [
    "df1['BTCSSR'] = df1['BTC-balance_exchanges_MC']/df1['stable-balance_exchanges']\n",
    "df2 = df1.drop('BTC-balance_exchanges_MC', axis=1).dropna()"
   ]
  },
  {
   "cell_type": "code",
   "execution_count": null,
   "id": "19bebcab-b8ec-415a-9fb5-fc9d92a26c9a",
   "metadata": {},
   "outputs": [],
   "source": [
    "df3 = df2.copy()\n",
    "df3['ret'] = df3['BTC-price_usd_close'].pct_change()\n",
    "df3['r+5'] = df3['BTC-price_usd_close'].pct_change(periods=5).shift(-5)\n",
    "df3['r+10'] = df3['BTC-price_usd_close'].pct_change(periods=10).shift(-10)\n",
    "df3['r+100'] = df3['BTC-price_usd_close'].pct_change(periods=100).shift(-100)\n",
    "\n",
    "df3['stable_bal_chg'] = df3['stable-balance_exchanges'].diff()\n",
    "df3['stable_bal_chg_lag1'] = df3['stable_bal_chg'].shift(1)\n",
    "df3['BTCSSR_lag1'] = df3['BTCSSR'].shift(1)\n",
    "df3['BTCSSR_chg'] = df3['BTCSSR'].diff()\n",
    "df3['BTCSSR_chg_lag1'] = df3['BTCSSR_chg'].shift(1)"
   ]
  },
  {
   "cell_type": "code",
   "execution_count": null,
   "id": "7d654278-7821-4527-b429-c06f561b85d8",
   "metadata": {},
   "outputs": [],
   "source": [
    "df4 = df3.dropna()[['stable_bal_chg', 'stable_bal_chg_lag1', 'BTCSSR', 'BTCSSR_chg', 'BTCSSR_chg_lag1', 'ret', 'r+5', 'r+10', 'r+100']]"
   ]
  },
  {
   "cell_type": "code",
   "execution_count": null,
   "id": "a12b4561-63c8-4179-badd-18ef858116df",
   "metadata": {},
   "outputs": [],
   "source": [
    "df4a = df4.where(~np.isinf(df4), 0)"
   ]
  },
  {
   "cell_type": "code",
   "execution_count": null,
   "id": "7f620f28-34b5-4e29-b592-cd5d98ab40d2",
   "metadata": {},
   "outputs": [],
   "source": [
    "lookback = 4000\n",
    "t0 = time.time()\n",
    "pctrank = lambda x: pd.Series(x).rank(pct=True).iloc[-1]\n",
    "df4a['BTCSSR_pctrank4k'] = df4a['BTCSSR'].rolling(lookback).apply(pctrank)\n",
    "print(time.time()-t0)\n",
    "Audio(sound_file, autoplay=True)"
   ]
  },
  {
   "cell_type": "code",
   "execution_count": null,
   "id": "9f1af837-30a8-46b3-999d-ebfa9de8ca46",
   "metadata": {},
   "outputs": [],
   "source": [
    "df4b = df4a[df4a.index>='20210101']"
   ]
  },
  {
   "cell_type": "code",
   "execution_count": null,
   "id": "54f6bdf9-d507-448f-8864-7b2dc4665b6c",
   "metadata": {},
   "outputs": [],
   "source": [
    "price = pd.read_pickle(os.path.join(LOCAL_DATA_DIR,'BTC-PERP@ftx.pickle'))"
   ]
  },
  {
   "cell_type": "code",
   "execution_count": null,
   "id": "71f4f1f7-0b2a-48b2-b50c-92090657e3cf",
   "metadata": {},
   "outputs": [],
   "source": [
    "df = pd.read_pickle('/core/tmp/long-BTCSSR_pctrank4k_res_df.pickle')"
   ]
  },
  {
   "cell_type": "code",
   "execution_count": null,
   "id": "f44d23e0-53ef-4f5f-9d30-2e9cf6ace4df",
   "metadata": {},
   "outputs": [],
   "source": [
    "df.pv()"
   ]
  },
  {
   "cell_type": "code",
   "execution_count": null,
   "id": "07ea8657-7afb-4181-a68c-8292ee66f3d1",
   "metadata": {},
   "outputs": [],
   "source": [
    "feature = 'BTCSSR_pctrank4k'\n",
    "p=price.resample('1Min').last().ffill()"
   ]
  },
  {
   "cell_type": "code",
   "execution_count": null,
   "id": "29625bd4-8fd1-4e7e-9ae4-0de9ac54a4c1",
   "metadata": {},
   "outputs": [],
   "source": [
    "tp=15\n",
    "sl=5\n",
    "n1=None\n",
    "n2=None\n",
    "qtl=0.995\n",
    "short=False\n",
    "signal = df4b[feature]>qtl # rolling max, keep the singal for a period (1 hour), good for combining with other signals\n",
    "signal = signal.reindex(p.index).ffill()\n",
    "\n",
    "ressig=runsignal(price,signal=signal,tp=tp,sl=sl,ts=sl,n1=n1,n2=n2,rsil=30,rsih=50,rsilag=14,maf=5,mas=15,short=short,size=np.inf,fees=0.0007,freq='1Min',init_cash=10000,request=['pf','backtest'])"
   ]
  },
  {
   "cell_type": "code",
   "execution_count": null,
   "id": "87805cda-b43b-488f-83be-764db881ed2a",
   "metadata": {},
   "outputs": [],
   "source": [
    "runsignal?"
   ]
  },
  {
   "cell_type": "code",
   "execution_count": null,
   "id": "e1cc54b1-0d55-4bbf-b8ca-e0ba0ddf5843",
   "metadata": {},
   "outputs": [],
   "source": [
    "ressig['ma_tpsl_pf'].plot(subplots=['drawdowns','trade_pnl','cum_returns'])"
   ]
  },
  {
   "cell_type": "code",
   "execution_count": null,
   "id": "7924655b-13d5-423b-be19-4de089b058af",
   "metadata": {},
   "outputs": [],
   "source": [
    "t0 = time.time()\n",
    "feature = 'BTCSSR_pctrank4k'\n",
    "p=price.resample('1Min').last().ffill()\n",
    "tp=7\n",
    "sl=5\n",
    "pf = 'rsi_tpsl_pf'\n",
    "n1=None\n",
    "n2=None\n",
    "qtl=0.01\n",
    "short=True\n",
    "signal = df4b[feature]<qtl # rolling max, keep the singal for a period (1 hour), good for combining with other signals\n",
    "signal = signal.reindex(p.index).ffill()\n",
    "\n",
    "ressig=runsignal(price,signal=signal,tp=tp,sl=sl,ts=sl,n1=n1,n2=n2,rsil=30,rsih=50,\n",
    "                 rsilag=14,maf=5,mas=15,short=short,size=np.inf,fees=0.0007,freq='1Min',init_cash=10000,request=['pf','backtest'])\n",
    "\n",
    "print(time.time()-t0)"
   ]
  },
  {
   "cell_type": "code",
   "execution_count": 8,
   "id": "3faeadab-dbe6-4efc-b398-d9ab7d724b81",
   "metadata": {},
   "outputs": [
    {
     "name": "stdout",
     "output_type": "stream",
     "text": [
      "logging to C:\\core\\logs\\ct.log\n"
     ]
    }
   ],
   "source": [
    "import pandas as pd\n",
    "import os\n",
    "from cdcqr.common.utils import LOCAL_DATA_DIR\n",
    "import sys\n",
    "sys.path.append('/core/github/cryptoderiv-quant/')\n",
    "from ct.utils import pv\n"
   ]
  },
  {
   "cell_type": "code",
   "execution_count": null,
   "id": "9e3575e5-71f4-46d6-9faf-2a223710e93f",
   "metadata": {},
   "outputs": [],
   "source": [
    "ressig[pf].plot(subplots=['drawdowns','trade_pnl','cum_returns'])"
   ]
  },
  {
   "cell_type": "markdown",
   "id": "c2953583-faa0-4c1c-a5b6-0b5b0db1ba66",
   "metadata": {},
   "source": [
    "### load res_df files"
   ]
  },
  {
   "cell_type": "code",
   "execution_count": 6,
   "id": "2c8da413-a2b9-49a8-856e-6cab4f769582",
   "metadata": {},
   "outputs": [
    {
     "data": {
      "text/plain": [
       "(430080, 18)"
      ]
     },
     "execution_count": 6,
     "metadata": {},
     "output_type": "execute_result"
    }
   ],
   "source": [
    "res_df_fname1 = 'BTC_long-BTCPERPFundingRate_4997d75.pickle'\n",
    "df1 = pd.read_pickle(os.path.join(LOCAL_DATA_DIR, 'backtest_res', res_df_fname1))\n",
    "df1.shape"
   ]
  },
  {
   "cell_type": "code",
   "execution_count": 9,
   "id": "4a52a1a0-e89b-47ed-a160-3190df832bf5",
   "metadata": {},
   "outputs": [
    {
     "data": {
      "text/html": [
       "\n",
       "        <iframe\n",
       "            width=\"100%\"\n",
       "            height=\"500\"\n",
       "            src=\"pivottablejs.html\"\n",
       "            frameborder=\"0\"\n",
       "            allowfullscreen\n",
       "        ></iframe>\n",
       "        "
      ],
      "text/plain": [
       "<IPython.lib.display.IFrame at 0x1b7d488c0d0>"
      ]
     },
     "metadata": {},
     "output_type": "display_data"
    }
   ],
   "source": [
    "df1.pv()"
   ]
  }
 ],
 "metadata": {
  "kernelspec": {
   "display_name": "Python 3 (ipykernel)",
   "language": "python",
   "name": "python3"
  },
  "language_info": {
   "codemirror_mode": {
    "name": "ipython",
    "version": 3
   },
   "file_extension": ".py",
   "mimetype": "text/x-python",
   "name": "python",
   "nbconvert_exporter": "python",
   "pygments_lexer": "ipython3",
   "version": "3.8.8"
  }
 },
 "nbformat": 4,
 "nbformat_minor": 5
}
