{
 "cells": [
  {
   "cell_type": "code",
   "execution_count": 1,
   "id": "060a2261-8898-48d8-b784-79ca22879ccd",
   "metadata": {},
   "outputs": [],
   "source": [
    "from cdcqr.data.glassnode import glassnode_data as gnd\n",
    "from cdcqr.ct.utils import plot2\n",
    "import pandas as pd\n",
    "import cdcqr.analytics.utils as autil \n",
    "from importlib import reload\n",
    "pctrank = lambda x: pd.Series(x).rank(pct=True).iloc[-1]\n",
    "from cdcqr.backtest.vbt.runsignal import runsignal\n",
    "import numpy as np\n",
    "import os\n",
    "from cdcqr.common.utils import LOCAL_DATA_DIR\n",
    "import matplotlib.pyplot as plt\n",
    "import seaborn as sns\n",
    "from cdcqr.analytics.utils import calculate_corr_pvalues\n",
    "from cdcqr.analytics.utils import pctrank\n",
    "import time\n",
    "from IPython.display import Audio\n",
    "sound_file = '/core/tmp/ding.wav'\n",
    "%matplotlib inline"
   ]
  },
  {
   "cell_type": "code",
   "execution_count": 2,
   "id": "f11c37f0-2c64-4e3e-90bc-7e3437d0a22a",
   "metadata": {},
   "outputs": [],
   "source": [
    "gn = gnd.GlassnodeData()"
   ]
  },
  {
   "cell_type": "markdown",
   "id": "d6b6b563-f91e-4602-9ccc-b9ceaf7d9fed",
   "metadata": {},
   "source": [
    "### BTC"
   ]
  },
  {
   "cell_type": "code",
   "execution_count": 3,
   "id": "29ff0596-3208-429b-a7ed-b1d8147ba6df",
   "metadata": {},
   "outputs": [
    {
     "name": "stdout",
     "output_type": "stream",
     "text": [
      "loading derivatives/futures_funding_rate_perpetual asset=BTC, resolution=10m\n"
     ]
    },
    {
     "data": {
      "text/html": [
       "<div>\n",
       "<style scoped>\n",
       "    .dataframe tbody tr th:only-of-type {\n",
       "        vertical-align: middle;\n",
       "    }\n",
       "\n",
       "    .dataframe tbody tr th {\n",
       "        vertical-align: top;\n",
       "    }\n",
       "\n",
       "    .dataframe thead th {\n",
       "        text-align: right;\n",
       "    }\n",
       "</style>\n",
       "<table border=\"1\" class=\"dataframe\">\n",
       "  <thead>\n",
       "    <tr style=\"text-align: right;\">\n",
       "      <th></th>\n",
       "      <th>BTC-FuturesFundingRatePerpetual</th>\n",
       "    </tr>\n",
       "    <tr>\n",
       "      <th>t</th>\n",
       "      <th></th>\n",
       "    </tr>\n",
       "  </thead>\n",
       "  <tbody>\n",
       "    <tr>\n",
       "      <th>2019-12-31 16:00:00</th>\n",
       "      <td>0.000452</td>\n",
       "    </tr>\n",
       "    <tr>\n",
       "      <th>2019-12-31 16:10:00</th>\n",
       "      <td>0.000337</td>\n",
       "    </tr>\n",
       "  </tbody>\n",
       "</table>\n",
       "</div>"
      ],
      "text/plain": [
       "                     BTC-FuturesFundingRatePerpetual\n",
       "t                                                   \n",
       "2019-12-31 16:00:00                         0.000452\n",
       "2019-12-31 16:10:00                         0.000337"
      ]
     },
     "execution_count": 3,
     "metadata": {},
     "output_type": "execute_result"
    }
   ],
   "source": [
    "fs =  ['FuturesFundingRatePerpetual']\n",
    "a = ['BTC']\n",
    "#i = '10m'\n",
    "df = gn.load_features(fs,a)\n",
    "df.head(2)"
   ]
  },
  {
   "cell_type": "code",
   "execution_count": 4,
   "id": "bc8e965b-f7bd-4460-baaf-087842e25624",
   "metadata": {},
   "outputs": [
    {
     "name": "stdout",
     "output_type": "stream",
     "text": [
      "loading market/price_usd_close asset=BTC, resolution=10m\n",
      "loading market/price_usd_close asset=ETH, resolution=10m\n"
     ]
    },
    {
     "data": {
      "text/html": [
       "<div>\n",
       "<style scoped>\n",
       "    .dataframe tbody tr th:only-of-type {\n",
       "        vertical-align: middle;\n",
       "    }\n",
       "\n",
       "    .dataframe tbody tr th {\n",
       "        vertical-align: top;\n",
       "    }\n",
       "\n",
       "    .dataframe thead th {\n",
       "        text-align: right;\n",
       "    }\n",
       "</style>\n",
       "<table border=\"1\" class=\"dataframe\">\n",
       "  <thead>\n",
       "    <tr style=\"text-align: right;\">\n",
       "      <th></th>\n",
       "      <th>BTC-price_usd_close</th>\n",
       "      <th>ETH-price_usd_close</th>\n",
       "    </tr>\n",
       "    <tr>\n",
       "      <th>t</th>\n",
       "      <th></th>\n",
       "      <th></th>\n",
       "    </tr>\n",
       "  </thead>\n",
       "  <tbody>\n",
       "    <tr>\n",
       "      <th>2010-07-17 23:00:00</th>\n",
       "      <td>0.04951</td>\n",
       "      <td>NaN</td>\n",
       "    </tr>\n",
       "    <tr>\n",
       "      <th>2010-07-17 23:10:00</th>\n",
       "      <td>NaN</td>\n",
       "      <td>NaN</td>\n",
       "    </tr>\n",
       "  </tbody>\n",
       "</table>\n",
       "</div>"
      ],
      "text/plain": [
       "                     BTC-price_usd_close  ETH-price_usd_close\n",
       "t                                                            \n",
       "2010-07-17 23:00:00              0.04951                  NaN\n",
       "2010-07-17 23:10:00                  NaN                  NaN"
      ]
     },
     "execution_count": 4,
     "metadata": {},
     "output_type": "execute_result"
    }
   ],
   "source": [
    "fs =  ['price_usd_close',]\n",
    "a = ['BTC','ETH']\n",
    "#i = '10m'\n",
    "df = gn.load_features(fs,a)\n",
    "df.head(2)"
   ]
  },
  {
   "cell_type": "code",
   "execution_count": 6,
   "id": "4e79c31b-6b9f-4199-8d77-bb0890db9904",
   "metadata": {},
   "outputs": [
    {
     "data": {
      "text/html": [
       "<div>\n",
       "<style scoped>\n",
       "    .dataframe tbody tr th:only-of-type {\n",
       "        vertical-align: middle;\n",
       "    }\n",
       "\n",
       "    .dataframe tbody tr th {\n",
       "        vertical-align: top;\n",
       "    }\n",
       "\n",
       "    .dataframe thead th {\n",
       "        text-align: right;\n",
       "    }\n",
       "</style>\n",
       "<table border=\"1\" class=\"dataframe\">\n",
       "  <thead>\n",
       "    <tr style=\"text-align: right;\">\n",
       "      <th></th>\n",
       "      <th>BTC-price_usd_close</th>\n",
       "      <th>ETH-price_usd_close</th>\n",
       "    </tr>\n",
       "    <tr>\n",
       "      <th>t</th>\n",
       "      <th></th>\n",
       "      <th></th>\n",
       "    </tr>\n",
       "  </thead>\n",
       "  <tbody>\n",
       "    <tr>\n",
       "      <th>2010-07-17 23:00:00</th>\n",
       "      <td>0.049510</td>\n",
       "      <td>NaN</td>\n",
       "    </tr>\n",
       "    <tr>\n",
       "      <th>2010-07-17 23:10:00</th>\n",
       "      <td>NaN</td>\n",
       "      <td>NaN</td>\n",
       "    </tr>\n",
       "    <tr>\n",
       "      <th>2010-07-17 23:20:00</th>\n",
       "      <td>NaN</td>\n",
       "      <td>NaN</td>\n",
       "    </tr>\n",
       "    <tr>\n",
       "      <th>2010-07-17 23:30:00</th>\n",
       "      <td>NaN</td>\n",
       "      <td>NaN</td>\n",
       "    </tr>\n",
       "    <tr>\n",
       "      <th>2010-07-17 23:40:00</th>\n",
       "      <td>NaN</td>\n",
       "      <td>NaN</td>\n",
       "    </tr>\n",
       "    <tr>\n",
       "      <th>...</th>\n",
       "      <td>...</td>\n",
       "      <td>...</td>\n",
       "    </tr>\n",
       "    <tr>\n",
       "      <th>2022-03-01 14:20:00</th>\n",
       "      <td>44515.759616</td>\n",
       "      <td>3017.446170</td>\n",
       "    </tr>\n",
       "    <tr>\n",
       "      <th>2022-03-01 14:30:00</th>\n",
       "      <td>44188.644401</td>\n",
       "      <td>2991.686076</td>\n",
       "    </tr>\n",
       "    <tr>\n",
       "      <th>2022-03-01 14:40:00</th>\n",
       "      <td>44166.210123</td>\n",
       "      <td>2994.475946</td>\n",
       "    </tr>\n",
       "    <tr>\n",
       "      <th>2022-03-01 14:50:00</th>\n",
       "      <td>43929.062976</td>\n",
       "      <td>2977.594131</td>\n",
       "    </tr>\n",
       "    <tr>\n",
       "      <th>2022-03-01 15:00:00</th>\n",
       "      <td>43903.070044</td>\n",
       "      <td>2966.979118</td>\n",
       "    </tr>\n",
       "  </tbody>\n",
       "</table>\n",
       "<p>611233 rows × 2 columns</p>\n",
       "</div>"
      ],
      "text/plain": [
       "                     BTC-price_usd_close  ETH-price_usd_close\n",
       "t                                                            \n",
       "2010-07-17 23:00:00             0.049510                  NaN\n",
       "2010-07-17 23:10:00                  NaN                  NaN\n",
       "2010-07-17 23:20:00                  NaN                  NaN\n",
       "2010-07-17 23:30:00                  NaN                  NaN\n",
       "2010-07-17 23:40:00                  NaN                  NaN\n",
       "...                                  ...                  ...\n",
       "2022-03-01 14:20:00         44515.759616          3017.446170\n",
       "2022-03-01 14:30:00         44188.644401          2991.686076\n",
       "2022-03-01 14:40:00         44166.210123          2994.475946\n",
       "2022-03-01 14:50:00         43929.062976          2977.594131\n",
       "2022-03-01 15:00:00         43903.070044          2966.979118\n",
       "\n",
       "[611233 rows x 2 columns]"
      ]
     },
     "execution_count": 6,
     "metadata": {},
     "output_type": "execute_result"
    }
   ],
   "source": [
    "df"
   ]
  },
  {
   "cell_type": "code",
   "execution_count": null,
   "id": "08259255-0d6d-4bbb-8ff3-20209fa074e2",
   "metadata": {},
   "outputs": [],
   "source": [
    "cols = list(df.columns)\n",
    "cols"
   ]
  },
  {
   "cell_type": "code",
   "execution_count": null,
   "id": "9a99dfc0-b979-4d35-919b-56a0fc27499d",
   "metadata": {},
   "outputs": [],
   "source": [
    "df1 = df[df.index>='20200101']\n",
    "display(df1.head(2))\n",
    "df1.plot2(cols[0],cols[1:3])"
   ]
  },
  {
   "cell_type": "code",
   "execution_count": null,
   "id": "d8d6138c-8424-45c7-adc0-7b0db79fd101",
   "metadata": {},
   "outputs": [],
   "source": [
    "df3 = df1.copy()\n",
    "df3['ret'] = df3['BTC-price_usd_close'].pct_change()\n",
    "df3['r+5'] = df3['BTC-price_usd_close'].pct_change(periods=5).shift(-5)\n",
    "df3['r+10'] = df3['BTC-price_usd_close'].pct_change(periods=10).shift(10)\n",
    "df3['r+100'] = df3['BTC-price_usd_close'].pct_change(periods=100).shift(100)"
   ]
  },
  {
   "cell_type": "code",
   "execution_count": null,
   "id": "2c3b3971-a64b-4343-ad20-8e1da5db0447",
   "metadata": {},
   "outputs": [],
   "source": [
    "df4 = df3.dropna()[['BTC-FuturesFundingRatePerpetual', 'ETH-FuturesFundingRatePerpetual',  'ret', 'r+5', 'r+10', 'r+100']]"
   ]
  },
  {
   "cell_type": "code",
   "execution_count": null,
   "id": "6a7c09da-0c21-4a01-bf9f-e8446f9ebbc1",
   "metadata": {},
   "outputs": [],
   "source": [
    "df4a = df4.where(~np.isinf(df4), 0)\n",
    "fig, ax = plt.subplots()\n",
    "sns.heatmap(df4a.corr(method='pearson'), annot=True, fmt='.4f', \n",
    "            cmap=plt.get_cmap('coolwarm'), cbar=False, ax=ax)"
   ]
  },
  {
   "cell_type": "code",
   "execution_count": null,
   "id": "84bc5bb5-d107-43aa-b429-b795754fa655",
   "metadata": {},
   "outputs": [],
   "source": [
    "calculate_corr_pvalues(df4a)"
   ]
  },
  {
   "cell_type": "code",
   "execution_count": null,
   "id": "c47e119a-5197-45aa-a425-6f148c315f91",
   "metadata": {},
   "outputs": [],
   "source": [
    "lookback=4000\n",
    "t0 = time.time()\n",
    "pctrank = lambda x: pd.Series(x).rank(pct=True).iloc[-1]\n",
    "df4a['BTC-FuturesFundingRatePerpetual_pctrank4k'] = df4a['BTC-FuturesFundingRatePerpetual'].rolling(lookback).apply(pctrank)\n",
    "print(time.time()-t0)\n",
    "Audio(sound_file, autoplay=True)"
   ]
  },
  {
   "cell_type": "code",
   "execution_count": null,
   "id": "a9e6ee14-40ad-46d9-8c91-dd603cfc6fc4",
   "metadata": {},
   "outputs": [],
   "source": [
    "df4b = df4a[df4a.index>='20210101']\n",
    "feature = 'BTC-FuturesFundingRatePerpetual_pctrank4k'\n",
    "df4b_gp = df4b.groupby(pd.cut(df4b[feature], 50)).agg({'ret': lambda x: x.mean(skipna=True),\n",
    "                                                                 'r+5': lambda x: x.mean(skipna=True), \n",
    "                                                                 'r+10': lambda x: x.mean(skipna=True),\n",
    "                                                                 'r+100': lambda x: x.mean(skipna=True)})\n",
    "df4b_gp.plot()"
   ]
  },
  {
   "cell_type": "code",
   "execution_count": null,
   "id": "06d8c42a-aa2c-430c-a183-5d4dd0432b06",
   "metadata": {},
   "outputs": [],
   "source": []
  },
  {
   "cell_type": "markdown",
   "id": "c3b67153-2260-4478-b9a3-5b23320fee88",
   "metadata": {},
   "source": [
    "## backtest"
   ]
  },
  {
   "cell_type": "code",
   "execution_count": null,
   "id": "3a8a8a73-625f-422a-a16e-bc6b986fabac",
   "metadata": {},
   "outputs": [],
   "source": [
    "price = pd.read_pickle(os.path.join(LOCAL_DATA_DIR,'BTC-PERP@ftx.pickle'))"
   ]
  },
  {
   "cell_type": "code",
   "execution_count": null,
   "id": "a1375db1-4aa5-4f66-ba5e-eac91fb474f7",
   "metadata": {},
   "outputs": [],
   "source": [
    "freq='1Min'\n",
    "p=price.resample('1Min').last().ffill()\n",
    "request = ['pf','backtest']"
   ]
  },
  {
   "cell_type": "markdown",
   "id": "46806704-43aa-41e0-a05f-ad0dc2d6f4e8",
   "metadata": {},
   "source": [
    "### Long BTC-FuturesFundingRatePerpetual_pctrank4k"
   ]
  },
  {
   "cell_type": "code",
   "execution_count": null,
   "id": "53c31733-7d65-4a95-a771-6c950b1104cd",
   "metadata": {
    "scrolled": true,
    "tags": []
   },
   "outputs": [],
   "source": [
    "feature = 'BTC-FuturesFundingRatePerpetual_pctrank4k'\n",
    "side = 'long'\n",
    "\n",
    "t0 = time.time()\n",
    "signalid = '{}-{}'.format(side, feature)\n",
    "upper_qtls = [0.995, 0.99, 0.975, 0.96]\n",
    "if side == 'long':\n",
    "    short=False\n",
    "    qtls = upper_qtls\n",
    "elif side == 'short':\n",
    "    short=True\n",
    "    qtls = [1-x for x in upper_qtls]\n",
    "else:\n",
    "    raise()\n",
    "\n",
    "res=[]\n",
    "price = p.copy()\n",
    "counter0 = 0\n",
    "for qtl in qtls:\n",
    "    if not short:\n",
    "        signal = df4b[feature]>qtl # rolling max, keep the singal for a period (1 hour), good for combining with other signals\n",
    "        signal = signal.reindex(p.index).ffill()\n",
    "    else:\n",
    "        signal = df4b[feature]<qtl # rolling max, keep the singal for a period (1 hour), good for combining with other signals\n",
    "    signal = signal.reindex(p.index).ffill()\n",
    "    for tp in [3,5,7, 10, 15, 20]:\n",
    "        for sl in [0.5, 1, 2, 5, 10, 15, 20]:\n",
    "            counter0 = counter0 + 1\n",
    "            print(f'{counter0} : tp:{tp} sl:{sl} id:{signalid}')\n",
    "            ressig=runsignal(price,signal=signal,tp=tp,sl=sl,ts=sl,n1=None,n2=None,rsil=30,rsih=50,rsilag=14,maf=5,mas=15,short=short,size=np.inf,fees=0.0007,freq='1Min',init_cash=10000,request=['pf','backtest'])\n",
    "            for k in ressig:\n",
    "                resd={\"signalid\":signalid,\"qtl\":qtl,\"short\":short,\"tp\":tp,\"sl\":sl,'k':k,'sr':ressig[k].sharpe_ratio(),'n1':n1,'n2':n2,'tr':ressig[k].total_return(),'ntrades':ressig[k].trades.count()/46.5} # rescale to number of weeks\n",
    "                res.append(resd)\n",
    "                        \n",
    "print(time.time()-t0)\n",
    "Audio(sound_file, autoplay=True)"
   ]
  },
  {
   "cell_type": "code",
   "execution_count": null,
   "id": "598bad5c-2096-410b-8ff2-72c37688f85a",
   "metadata": {},
   "outputs": [],
   "source": [
    "res_df = pd.DataFrame(res)\n",
    "res_df.save('{}-{}_res_df'.format(side, feature))"
   ]
  },
  {
   "cell_type": "code",
   "execution_count": null,
   "id": "12eb947d-71ff-497d-9c99-441022f46e70",
   "metadata": {},
   "outputs": [],
   "source": [
    "res_df.pv()"
   ]
  },
  {
   "cell_type": "code",
   "execution_count": null,
   "id": "90259461-6b19-463f-a425-accadabdf35e",
   "metadata": {},
   "outputs": [],
   "source": [
    "tp=5\n",
    "sl=20\n",
    "n1=None\n",
    "n2=None\n",
    "qtl=0.99\n",
    "short=False\n",
    "pf = 'rsi_tpsl_pf'\n",
    "signal = df4b[feature]>qtl \n",
    "signal = signal.reindex(p.index).ffill()\n",
    "\n",
    "ressig=runsignal(price,signal=signal,tp=tp,sl=sl,ts=sl,n1=n1,n2=n2,rsil=30,rsih=50,\n",
    "                 rsilag=14,maf=5,mas=15,short=short,size=np.inf,fees=0.0007,freq='1Min',init_cash=10000,request=['pf','backtest'])"
   ]
  },
  {
   "cell_type": "code",
   "execution_count": null,
   "id": "eeba4414-9aa4-44d2-8e41-4bfb497c3269",
   "metadata": {},
   "outputs": [],
   "source": [
    "ressig[pf].plot(subplots=['drawdowns','trade_pnl','cum_returns'])"
   ]
  },
  {
   "cell_type": "markdown",
   "id": "1674f3b1-39b8-477a-9514-4eb9d319f158",
   "metadata": {},
   "source": [
    "### Short BTC-FuturesFundingRatePerpetual_pctrank4k"
   ]
  },
  {
   "cell_type": "code",
   "execution_count": null,
   "id": "ef30704d-9bc9-492e-ad7c-202b45d322d8",
   "metadata": {
    "scrolled": true,
    "tags": []
   },
   "outputs": [],
   "source": [
    "feature = 'BTC-FuturesFundingRatePerpetual_pctrank4k'\n",
    "side = 'short'\n",
    "\n",
    "t0 = time.time()\n",
    "signalid = '{}-{}'.format(side, feature)\n",
    "upper_qtls = [0.995, 0.99, 0.975, 0.96]\n",
    "if side == 'long':\n",
    "    short=False\n",
    "    qtls = upper_qtls\n",
    "elif side == 'short':\n",
    "    short=True\n",
    "    qtls = [round(1-x,4) for x in upper_qtls]\n",
    "else:\n",
    "    raise()\n",
    "\n",
    "res=[]\n",
    "price = p.copy()\n",
    "counter0 = 0\n",
    "for qtl in qtls:\n",
    "    if not short:\n",
    "        signal = df4b[feature]<qtl # rolling max, keep the singal for a period (1 hour), good for combining with other signals\n",
    "        signal = signal.reindex(p.index).ffill()\n",
    "    else:\n",
    "        signal = df4b[feature]<qtl # rolling max, keep the singal for a period (1 hour), good for combining with other signals\n",
    "    signal = signal.reindex(p.index).ffill()\n",
    "    for tp in [3,5,7, 10, 15, 20]:\n",
    "        for sl in [0.5, 1, 2, 5, 10, 15, 20]:\n",
    "            counter0 = counter0 + 1\n",
    "            print(f'{counter0} : tp:{tp} sl:{sl} id:{signalid}')\n",
    "            ressig=runsignal(price,signal=signal,tp=tp,sl=sl,ts=sl,n1=None,n2=None,rsil=30,rsih=50,rsilag=14,maf=5,mas=15,short=short,size=np.inf,fees=0.0007,freq='1Min',init_cash=10000,request=['pf','backtest'])\n",
    "            for k in ressig:\n",
    "                resd={\"signalid\":signalid,\"qtl\":qtl,\"short\":short,\"tp\":tp,\"sl\":sl,'k':k,'sr':ressig[k].sharpe_ratio(),'n1':n1,'n2':n2,'tr':ressig[k].total_return(),'ntrades':ressig[k].trades.count()/46.5} # rescale to number of weeks\n",
    "                res.append(resd)\n",
    "                        \n",
    "print(time.time()-t0)\n",
    "Audio(sound_file, autoplay=True)"
   ]
  },
  {
   "cell_type": "code",
   "execution_count": null,
   "id": "4e3ac9af-1ec7-41ba-a527-5065f0c0428c",
   "metadata": {},
   "outputs": [],
   "source": [
    "res_df = pd.DataFrame(res)\n",
    "res_df.save('{}-{}_res_df'.format(side, feature))"
   ]
  },
  {
   "cell_type": "code",
   "execution_count": null,
   "id": "9c120eb9-1954-4ab0-b4a2-2c5e5bc1d202",
   "metadata": {},
   "outputs": [],
   "source": [
    "res_df.pv()"
   ]
  },
  {
   "cell_type": "code",
   "execution_count": null,
   "id": "d6ea5939-34e2-4ecc-a4c1-51d75b89bcaa",
   "metadata": {},
   "outputs": [],
   "source": [
    "tp=3\n",
    "sl=5\n",
    "\n",
    "qtl=0.01\n",
    "short=True\n",
    "pf = 'rsi_tpsl_pf'\n",
    "signal = df4b[feature]<qtl \n",
    "signal = signal.reindex(p.index).ffill()\n",
    "\n",
    "ressig=runsignal(price,signal=signal,tp=tp,sl=sl,ts=sl,n1=n1,n2=n2,rsil=30,rsih=50,\n",
    "                 rsilag=14,maf=5,mas=15,short=short,size=np.inf,fees=0.0007,freq='1Min',init_cash=10000,request=['pf','backtest'])"
   ]
  },
  {
   "cell_type": "code",
   "execution_count": null,
   "id": "66519425-ace8-4ab3-8ba0-95b43ac988dc",
   "metadata": {},
   "outputs": [],
   "source": [
    "ressig[pf].plot(subplots=['drawdowns','trade_pnl','cum_returns'])"
   ]
  }
 ],
 "metadata": {
  "kernelspec": {
   "display_name": "Python 3 (ipykernel)",
   "language": "python",
   "name": "python3"
  },
  "language_info": {
   "codemirror_mode": {
    "name": "ipython",
    "version": 3
   },
   "file_extension": ".py",
   "mimetype": "text/x-python",
   "name": "python",
   "nbconvert_exporter": "python",
   "pygments_lexer": "ipython3",
   "version": "3.8.8"
  }
 },
 "nbformat": 4,
 "nbformat_minor": 5
}
