{
 "cells": [
  {
   "cell_type": "code",
   "execution_count": 2,
   "id": "060a2261-8898-48d8-b784-79ca22879ccd",
   "metadata": {},
   "outputs": [
    {
     "name": "stderr",
     "output_type": "stream",
     "text": [
      "C:\\Users\\Wang\\anaconda3\\lib\\site-packages\\fuzzywuzzy\\fuzz.py:11: UserWarning: Using slow pure-python SequenceMatcher. Install python-Levenshtein to remove this warning\n",
      "  warnings.warn('Using slow pure-python SequenceMatcher. Install python-Levenshtein to remove this warning')\n"
     ]
    }
   ],
   "source": [
    "from cdcqr.data.glassnode import glassnode_data as gnd\n",
    "from cdcqr.ct.utils import plot2\n",
    "import pandas as pd"
   ]
  },
  {
   "cell_type": "code",
   "execution_count": 3,
   "id": "f11c37f0-2c64-4e3e-90bc-7e3437d0a22a",
   "metadata": {},
   "outputs": [],
   "source": [
    "gn = gnd.GlassnodeData()"
   ]
  },
  {
   "cell_type": "markdown",
   "id": "d6b6b563-f91e-4602-9ccc-b9ceaf7d9fed",
   "metadata": {},
   "source": [
    "### BTC"
   ]
  },
  {
   "cell_type": "markdown",
   "id": "525c559f-baa1-4185-aa52-893d48427090",
   "metadata": {},
   "source": [
    "### ochl"
   ]
  },
  {
   "cell_type": "code",
   "execution_count": 5,
   "id": "02fdac7a-bf9f-4f46-9c35-c77c0e21aa80",
   "metadata": {},
   "outputs": [
    {
     "name": "stdout",
     "output_type": "stream",
     "text": [
      "loading market/price_usd_ohlc asset=BTC, resolution=1h\n"
     ]
    },
    {
     "data": {
      "text/html": [
       "<div>\n",
       "<style scoped>\n",
       "    .dataframe tbody tr th:only-of-type {\n",
       "        vertical-align: middle;\n",
       "    }\n",
       "\n",
       "    .dataframe tbody tr th {\n",
       "        vertical-align: top;\n",
       "    }\n",
       "\n",
       "    .dataframe thead th {\n",
       "        text-align: right;\n",
       "    }\n",
       "</style>\n",
       "<table border=\"1\" class=\"dataframe\">\n",
       "  <thead>\n",
       "    <tr style=\"text-align: right;\">\n",
       "      <th></th>\n",
       "      <th>BTC-PriceUsdOhlc-c</th>\n",
       "      <th>BTC-PriceUsdOhlc-h</th>\n",
       "      <th>BTC-PriceUsdOhlc-l</th>\n",
       "      <th>BTC-PriceUsdOhlc-o</th>\n",
       "    </tr>\n",
       "    <tr>\n",
       "      <th>t</th>\n",
       "      <th></th>\n",
       "      <th></th>\n",
       "      <th></th>\n",
       "      <th></th>\n",
       "    </tr>\n",
       "  </thead>\n",
       "  <tbody>\n",
       "    <tr>\n",
       "      <th>2010-07-17 23:00:00</th>\n",
       "      <td>0.04951</td>\n",
       "      <td>0.04951</td>\n",
       "      <td>0.04951</td>\n",
       "      <td>0.04951</td>\n",
       "    </tr>\n",
       "    <tr>\n",
       "      <th>2010-07-18 00:00:00</th>\n",
       "      <td>NaN</td>\n",
       "      <td>NaN</td>\n",
       "      <td>NaN</td>\n",
       "      <td>NaN</td>\n",
       "    </tr>\n",
       "  </tbody>\n",
       "</table>\n",
       "</div>"
      ],
      "text/plain": [
       "                     BTC-PriceUsdOhlc-c  BTC-PriceUsdOhlc-h  \\\n",
       "t                                                             \n",
       "2010-07-17 23:00:00             0.04951             0.04951   \n",
       "2010-07-18 00:00:00                 NaN                 NaN   \n",
       "\n",
       "                     BTC-PriceUsdOhlc-l  BTC-PriceUsdOhlc-o  \n",
       "t                                                            \n",
       "2010-07-17 23:00:00             0.04951             0.04951  \n",
       "2010-07-18 00:00:00                 NaN                 NaN  "
      ]
     },
     "execution_count": 5,
     "metadata": {},
     "output_type": "execute_result"
    }
   ],
   "source": [
    "fs =  ['PriceUsdOhlc']\n",
    "a = 'BTC'\n",
    "df = gn.load_features(fs,a)\n",
    "df.head(2)"
   ]
  },
  {
   "cell_type": "code",
   "execution_count": 9,
   "id": "f77c5e6a-fa99-4d28-be98-3784d4c96d04",
   "metadata": {},
   "outputs": [
    {
     "data": {
      "text/html": [
       "<div>\n",
       "<style scoped>\n",
       "    .dataframe tbody tr th:only-of-type {\n",
       "        vertical-align: middle;\n",
       "    }\n",
       "\n",
       "    .dataframe tbody tr th {\n",
       "        vertical-align: top;\n",
       "    }\n",
       "\n",
       "    .dataframe thead th {\n",
       "        text-align: right;\n",
       "    }\n",
       "</style>\n",
       "<table border=\"1\" class=\"dataframe\">\n",
       "  <thead>\n",
       "    <tr style=\"text-align: right;\">\n",
       "      <th></th>\n",
       "      <th>BTC-PriceUsdOhlc-c</th>\n",
       "      <th>BTC-PriceUsdOhlc-h</th>\n",
       "      <th>BTC-PriceUsdOhlc-l</th>\n",
       "      <th>BTC-PriceUsdOhlc-o</th>\n",
       "    </tr>\n",
       "    <tr>\n",
       "      <th>t</th>\n",
       "      <th></th>\n",
       "      <th></th>\n",
       "      <th></th>\n",
       "      <th></th>\n",
       "    </tr>\n",
       "  </thead>\n",
       "  <tbody>\n",
       "    <tr>\n",
       "      <th>2021-12-26 12:00:00</th>\n",
       "      <td>49998.645994</td>\n",
       "      <td>49998.645994</td>\n",
       "      <td>49791.702438</td>\n",
       "      <td>49844.053294</td>\n",
       "    </tr>\n",
       "    <tr>\n",
       "      <th>2021-12-26 13:00:00</th>\n",
       "      <td>49775.731142</td>\n",
       "      <td>50001.952916</td>\n",
       "      <td>49775.731142</td>\n",
       "      <td>49946.210252</td>\n",
       "    </tr>\n",
       "    <tr>\n",
       "      <th>2021-12-26 14:00:00</th>\n",
       "      <td>49943.378533</td>\n",
       "      <td>49943.378533</td>\n",
       "      <td>49751.427069</td>\n",
       "      <td>49816.658274</td>\n",
       "    </tr>\n",
       "    <tr>\n",
       "      <th>2021-12-26 15:00:00</th>\n",
       "      <td>50100.574918</td>\n",
       "      <td>50215.264972</td>\n",
       "      <td>49914.335266</td>\n",
       "      <td>49930.629000</td>\n",
       "    </tr>\n",
       "    <tr>\n",
       "      <th>2021-12-26 16:00:00</th>\n",
       "      <td>50339.430285</td>\n",
       "      <td>50357.602302</td>\n",
       "      <td>50060.846197</td>\n",
       "      <td>50101.415336</td>\n",
       "    </tr>\n",
       "    <tr>\n",
       "      <th>...</th>\n",
       "      <td>...</td>\n",
       "      <td>...</td>\n",
       "      <td>...</td>\n",
       "      <td>...</td>\n",
       "    </tr>\n",
       "    <tr>\n",
       "      <th>2022-02-05 23:00:00</th>\n",
       "      <td>41421.476433</td>\n",
       "      <td>41641.085750</td>\n",
       "      <td>41421.476433</td>\n",
       "      <td>41591.855354</td>\n",
       "    </tr>\n",
       "    <tr>\n",
       "      <th>2022-02-06 00:00:00</th>\n",
       "      <td>41504.085585</td>\n",
       "      <td>41504.085585</td>\n",
       "      <td>41398.081413</td>\n",
       "      <td>41441.120790</td>\n",
       "    </tr>\n",
       "    <tr>\n",
       "      <th>2022-02-06 01:00:00</th>\n",
       "      <td>41600.668846</td>\n",
       "      <td>41600.668846</td>\n",
       "      <td>41510.888803</td>\n",
       "      <td>41510.888803</td>\n",
       "    </tr>\n",
       "    <tr>\n",
       "      <th>2022-02-06 02:00:00</th>\n",
       "      <td>41502.244046</td>\n",
       "      <td>41618.161281</td>\n",
       "      <td>41502.244046</td>\n",
       "      <td>41615.497494</td>\n",
       "    </tr>\n",
       "    <tr>\n",
       "      <th>2022-02-06 03:00:00</th>\n",
       "      <td>41559.545726</td>\n",
       "      <td>41559.545726</td>\n",
       "      <td>41494.841725</td>\n",
       "      <td>41507.607714</td>\n",
       "    </tr>\n",
       "  </tbody>\n",
       "</table>\n",
       "<p>1000 rows × 4 columns</p>\n",
       "</div>"
      ],
      "text/plain": [
       "                     BTC-PriceUsdOhlc-c  BTC-PriceUsdOhlc-h  \\\n",
       "t                                                             \n",
       "2021-12-26 12:00:00        49998.645994        49998.645994   \n",
       "2021-12-26 13:00:00        49775.731142        50001.952916   \n",
       "2021-12-26 14:00:00        49943.378533        49943.378533   \n",
       "2021-12-26 15:00:00        50100.574918        50215.264972   \n",
       "2021-12-26 16:00:00        50339.430285        50357.602302   \n",
       "...                                 ...                 ...   \n",
       "2022-02-05 23:00:00        41421.476433        41641.085750   \n",
       "2022-02-06 00:00:00        41504.085585        41504.085585   \n",
       "2022-02-06 01:00:00        41600.668846        41600.668846   \n",
       "2022-02-06 02:00:00        41502.244046        41618.161281   \n",
       "2022-02-06 03:00:00        41559.545726        41559.545726   \n",
       "\n",
       "                     BTC-PriceUsdOhlc-l  BTC-PriceUsdOhlc-o  \n",
       "t                                                            \n",
       "2021-12-26 12:00:00        49791.702438        49844.053294  \n",
       "2021-12-26 13:00:00        49775.731142        49946.210252  \n",
       "2021-12-26 14:00:00        49751.427069        49816.658274  \n",
       "2021-12-26 15:00:00        49914.335266        49930.629000  \n",
       "2021-12-26 16:00:00        50060.846197        50101.415336  \n",
       "...                                 ...                 ...  \n",
       "2022-02-05 23:00:00        41421.476433        41591.855354  \n",
       "2022-02-06 00:00:00        41398.081413        41441.120790  \n",
       "2022-02-06 01:00:00        41510.888803        41510.888803  \n",
       "2022-02-06 02:00:00        41502.244046        41615.497494  \n",
       "2022-02-06 03:00:00        41494.841725        41507.607714  \n",
       "\n",
       "[1000 rows x 4 columns]"
      ]
     },
     "execution_count": 9,
     "metadata": {},
     "output_type": "execute_result"
    }
   ],
   "source": [
    "df.tail(1000)"
   ]
  },
  {
   "cell_type": "code",
   "execution_count": null,
   "id": "ac59c5d9-e288-4bc7-a946-ceeb4f104ad6",
   "metadata": {},
   "outputs": [],
   "source": [
    "#### MVRVC"
   ]
  },
  {
   "cell_type": "code",
   "execution_count": null,
   "id": "f040eb63-92ca-4b24-95f6-aeabd8ec7ea6",
   "metadata": {},
   "outputs": [],
   "source": [
    "fs =  ['price_usd_close','mvrv_z_score','mvrv','nupl_less_155_account_based','nupl_more_155_account_based']\n",
    "a = 'BTC'\n",
    "i = '24h'\n",
    "df = gn.load_features(fs,a, i)\n",
    "df.head(2)"
   ]
  },
  {
   "cell_type": "code",
   "execution_count": null,
   "id": "08259255-0d6d-4bbb-8ff3-20209fa074e2",
   "metadata": {},
   "outputs": [],
   "source": [
    "cols = list(df.columns)"
   ]
  },
  {
   "cell_type": "code",
   "execution_count": null,
   "id": "ea1f3889-76ea-4c0f-880d-27359145c63a",
   "metadata": {},
   "outputs": [],
   "source": [
    "df[df.index>='20210101'].plot2(cols[0],cols[1:3])"
   ]
  },
  {
   "cell_type": "code",
   "execution_count": null,
   "id": "24dbe880-5271-4a9d-9765-a0fb2e8f99fc",
   "metadata": {},
   "outputs": [],
   "source": [
    "feats = ['nupl_less_155_account_based']\n",
    "\n",
    "df[df.index>='20200101'].plot2(cols[0],['{}_{}'.format(a,x) for x in feats])"
   ]
  },
  {
   "cell_type": "markdown",
   "id": "9d7f8d25-279e-4965-a50f-0dad607d6115",
   "metadata": {},
   "source": [
    "### ETH"
   ]
  },
  {
   "cell_type": "code",
   "execution_count": null,
   "id": "8848e97c-5067-4439-905f-70990f087e45",
   "metadata": {},
   "outputs": [],
   "source": [
    "df[df.index>='20200101'].plot2(cols[0],'BTC_nupl_more_155_account_based')"
   ]
  }
 ],
 "metadata": {
  "kernelspec": {
   "display_name": "Python 3 (ipykernel)",
   "language": "python",
   "name": "python3"
  },
  "language_info": {
   "codemirror_mode": {
    "name": "ipython",
    "version": 3
   },
   "file_extension": ".py",
   "mimetype": "text/x-python",
   "name": "python",
   "nbconvert_exporter": "python",
   "pygments_lexer": "ipython3",
   "version": "3.8.8"
  }
 },
 "nbformat": 4,
 "nbformat_minor": 5
}
