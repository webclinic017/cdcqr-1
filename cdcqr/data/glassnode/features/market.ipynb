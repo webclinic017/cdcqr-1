{
 "cells": [
  {
   "cell_type": "code",
   "execution_count": null,
   "id": "060a2261-8898-48d8-b784-79ca22879ccd",
   "metadata": {},
   "outputs": [],
   "source": [
    "from cdcqr.data.glassnode import glassnode_data as gnd\n",
    "from cdcqr.ct.utils import plot2\n",
    "import pandas as pd"
   ]
  },
  {
   "cell_type": "code",
   "execution_count": null,
   "id": "f11c37f0-2c64-4e3e-90bc-7e3437d0a22a",
   "metadata": {},
   "outputs": [],
   "source": [
    "gn = gnd.GlassnodeData()"
   ]
  },
  {
   "cell_type": "markdown",
   "id": "d6b6b563-f91e-4602-9ccc-b9ceaf7d9fed",
   "metadata": {},
   "source": [
    "### BTC"
   ]
  },
  {
   "cell_type": "code",
   "execution_count": null,
   "id": "29ff0596-3208-429b-a7ed-b1d8147ba6df",
   "metadata": {},
   "outputs": [],
   "source": [
    "fs =  ['price_usd_close','mvrv_z_score','mvrv','nupl_less_155_account_based','nupl_more_155_account_based']\n",
    "a = 'BTC'\n",
    "i = '24h'\n",
    "df = gn.load_features(fs,a, i)\n",
    "df.head(2)"
   ]
  },
  {
   "cell_type": "code",
   "execution_count": null,
   "id": "08259255-0d6d-4bbb-8ff3-20209fa074e2",
   "metadata": {},
   "outputs": [],
   "source": [
    "cols = list(df.columns)"
   ]
  },
  {
   "cell_type": "code",
   "execution_count": null,
   "id": "ea1f3889-76ea-4c0f-880d-27359145c63a",
   "metadata": {},
   "outputs": [],
   "source": [
    "df[df.index>='20210101'].plot2(cols[0],cols[1:3])"
   ]
  },
  {
   "cell_type": "code",
   "execution_count": null,
   "id": "24dbe880-5271-4a9d-9765-a0fb2e8f99fc",
   "metadata": {},
   "outputs": [],
   "source": [
    "feats = ['nupl_less_155_account_based']\n",
    "\n",
    "df[df.index>='20200101'].plot2(cols[0],['{}_{}'.format(a,x) for x in feats])"
   ]
  },
  {
   "cell_type": "markdown",
   "id": "9d7f8d25-279e-4965-a50f-0dad607d6115",
   "metadata": {},
   "source": [
    "### ETH"
   ]
  },
  {
   "cell_type": "code",
   "execution_count": null,
   "id": "8848e97c-5067-4439-905f-70990f087e45",
   "metadata": {},
   "outputs": [],
   "source": [
    "df[df.index>='20200101'].plot2(cols[0],'BTC_nupl_more_155_account_based')"
   ]
  }
 ],
 "metadata": {
  "kernelspec": {
   "display_name": "Python 3 (ipykernel)",
   "language": "python",
   "name": "python3"
  },
  "language_info": {
   "codemirror_mode": {
    "name": "ipython",
    "version": 3
   },
   "file_extension": ".py",
   "mimetype": "text/x-python",
   "name": "python",
   "nbconvert_exporter": "python",
   "pygments_lexer": "ipython3",
   "version": "3.8.8"
  }
 },
 "nbformat": 4,
 "nbformat_minor": 5
}
