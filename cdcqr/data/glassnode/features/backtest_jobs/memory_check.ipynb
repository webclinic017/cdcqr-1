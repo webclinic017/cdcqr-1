{
 "cells": [
  {
   "cell_type": "code",
   "execution_count": 138,
   "id": "bf8b5847-5537-4628-868d-97d2b45bfe00",
   "metadata": {},
   "outputs": [],
   "source": [
    "import pandas as pd\n",
    "import os\n",
    "from cdcqr.common.utils import LOCAL_DATA_DIR, dict_hash\n",
    "from cdcqr.data.glassnode.features.feature_loaders import produce_feature_BTCSSR\n",
    "from cdcqr.backtest.vbt.sample_params import param_dict\n",
    "import json\n",
    "pctrank = lambda x: pd.Series(x).rank(pct=True).iloc[-1]\n",
    "import cdcqr.backtest.vbt.runsignal as runsig\n",
    "from importlib import reload"
   ]
  },
  {
   "cell_type": "code",
   "execution_count": 8,
   "id": "dfb14675-b787-4cb8-ad56-007ba5654c26",
   "metadata": {},
   "outputs": [],
   "source": [
    "# load price\n",
    "price = pd.read_pickle(os.path.join(LOCAL_DATA_DIR,'BTC-PERP@ftx.pickle'))\n",
    "\n",
    "#load feature\n",
    "asset = 'BTC'\n",
    "feature = 'BTCSSR'\n",
    "signalid = 'long-BTCSSR'\n",
    "feature_data_fname = produce_feature_BTCSSR()\n",
    "feature_data_dir = os.path.join(LOCAL_DATA_DIR, 'feature_data', '{}.pickle'.format(feature_data_fname))\n",
    "df4a = pd.read_pickle(feature_data_dir)\n"
   ]
  },
  {
   "cell_type": "code",
   "execution_count": 15,
   "id": "a8949d65-fef5-4b8f-a00d-76360fabc2da",
   "metadata": {},
   "outputs": [
    {
     "data": {
      "text/plain": [
       "2.2308336"
      ]
     },
     "metadata": {},
     "output_type": "display_data"
    },
    {
     "data": {
      "text/plain": [
       "0.9082"
      ]
     },
     "metadata": {},
     "output_type": "display_data"
    }
   ],
   "source": [
    "display(price.memory_usage().sum()/10e6)\n",
    "display(df4a.memory_usage().sum()/10e6)"
   ]
  },
  {
   "cell_type": "code",
   "execution_count": 16,
   "id": "61649e83-3ad5-4e75-87fb-502386c7f306",
   "metadata": {},
   "outputs": [
    {
     "data": {
      "text/plain": [
       "3.5311248"
      ]
     },
     "metadata": {},
     "output_type": "display_data"
    },
    {
     "data": {
      "text/plain": [
       "0.1773456"
      ]
     },
     "metadata": {},
     "output_type": "display_data"
    },
    {
     "data": {
      "text/plain": [
       "0.1203136"
      ]
     },
     "metadata": {},
     "output_type": "display_data"
    }
   ],
   "source": [
    "asset = 'LINK'\n",
    "price0 = pd.read_pickle('/core/tmp/ppt_prc_{}_1m_20210101_20220228.pkl'.format(asset))\n",
    "liq0 = pd.read_pickle('/core/tmp/ppt_liqb_{}_1m_20210101_20220228.pkl'.format(asset))\n",
    "df = pd.read_pickle('/core/tmp/glass_balexch_{}_10m_20210101_20220131.pickle'.format(asset))\n",
    "\n",
    "display(price0.memory_usage().sum()/10e6)\n",
    "display(liq0.memory_usage().sum()/10e6)\n",
    "display(df.memory_usage().sum()/10e6)"
   ]
  },
  {
   "cell_type": "code",
   "execution_count": 26,
   "id": "d5e88ade-e937-47d8-a63e-5ce2b7dfffda",
   "metadata": {},
   "outputs": [],
   "source": [
    "def getsignal3(glass, price0, liq0, qtl=0.99, liql=20, priceq=0.0, qtl_w=0):\n",
    "    glass['99q'] = glass['v'].rolling(60*24).quantile(qtl)\n",
    "    glass['signal'] = (glass['v']>=glass['99q'])\n",
    "    price0['glass_signal'] = glass['signal']\n",
    "    price0['glass_signal'] = price0['glass_signal'].fillna(False)\n",
    "    \n",
    "    liq = liq0.resample(\"1Min\").last().fillna(0)\n",
    "    liq['spikes'] = liq[liq.v>liql]['v']\n",
    "    liq['spikes'] = liq['spikes'].fillna(0).rolling(100).max().fillna(0)\n",
    "    price0['liq_signal'] = liq['spikes'][liq['spikes']>liql]\n",
    "    price0['liq_signal'] = price0['liq_signal'].fillna(False)\n",
    "    \n",
    "    if qtl_w == 0:\n",
    "        price0['cq_signal'] = True\n",
    "    else:\n",
    "        price0['cq'] = price0['c'].rolling(qtl_w).quantile(priceq).resample(\"1Min\").last().ffill()\n",
    "        price0['cq_signal'] = (price0['c'] >= price0['cq']).fillna(False)\n",
    "\n",
    "    price0['s'] = price0['glass_signal'] & price0['liq_signal'] & price0['cq_signal']\n",
    "    return price0[['c','glass_signal','liq_signal','cq_signal','s']]"
   ]
  },
  {
   "cell_type": "code",
   "execution_count": 150,
   "id": "7cf29a4f-bd74-4772-b966-2e32f167aeae",
   "metadata": {},
   "outputs": [],
   "source": [
    "asset='AAVE'\n",
    "signalid = 'short-{}liq'.format(asset)\n",
    "\n",
    "price0 = pd.read_pickle('/core/tmp/ppt_prc_{}_1m_20210101_20220228.pkl'.format(asset))\n",
    "liq0 = pd.read_pickle('/core/tmp/ppt_liqb_{}_1m_20210101_20220228.pkl'.format(asset))\n",
    "\n",
    "df = pd.read_pickle('/core/tmp/glass_balexch_{}_10m_20210101_20220131.pickle'.format(asset))\n",
    "glass = df.copy().resample(\"1Min\").last().fillna(0)\n",
    "glass.columns = ['v']\n",
    "\n",
    "param_dict_raw = param_dict.copy()\n",
    "qtl_params = [0.995, 0.99, 0.975]\n",
    "liql_params =  [5, 10, 20, 50]\n",
    "priceq_params = [0]\n",
    "qtlw_params = [0]\n",
    "\n",
    "test=True\n",
    "if test:\n",
    "    tp_params = [3, 5] # \n",
    "    sl_params = [1, 2] # ts = sl \n",
    "    n1_params = [1, 10]\n",
    "    n2_params = [101]\n",
    "    rsil_params = [10]\n",
    "    rsilag_params = [14]\n",
    "    maf_params = [5]\n",
    "    mas_params = [15]\n",
    "else:\n",
    "    tp_params = [3, 5, 7, 10] # \n",
    "    sl_params = [1, 2, 3 , 5] # ts = sl \n",
    "    n1_params = [None]\n",
    "    n2_params = [None]\n",
    "    rsil_params = [30] # 2 runs with rsil rsilag\n",
    "    rsilag_params = [14]\n",
    "    maf_params = [5, 60] # 4 runs for maf/mas\n",
    "    mas_params = [100, 200]\n",
    "\n",
    "backtest_info = {}\n",
    "backtest_info['asset'] = asset\n",
    "backtest_info['signalid'] = signalid\n",
    "backtest_info['side'] = 'short'\n",
    "backtest_info['qtl_params'] = qtl_params\n",
    "backtest_info['priceq_params'] = priceq_params\n",
    "backtest_info['qtlw_params'] = qtlw_params\n",
    "backtest_info['liql_params'] = liql_params\n",
    "backtest_info['tp_params'] = tp_params\n",
    "backtest_info['sl_params'] = sl_params\n",
    "backtest_info['n1_params'] = n1_params\n",
    "backtest_info['n2_params'] = n2_params\n",
    "\n",
    "backtest_info['rsil_params'] = rsil_params\n",
    "backtest_info['rsilag_params'] = rsilag_params\n",
    "backtest_info['maf_params'] = maf_params\n",
    "backtest_info['mas_params'] = mas_params\n",
    "\n",
    "\n",
    "backtest_info_hashed = dict_hash(backtest_info)\n",
    "backtest_job_info = '{}_{}'.format(json.dumps(backtest_info), backtest_info_hashed)\n",
    "job_start_log_info = 'Starting backtest job {}'.format(backtest_job_info)\n",
    "\n",
    "backtest_configs = []\n",
    "price = price0\n",
    "for qtl in qtl_params:\n",
    "    for liql in liql_params:\n",
    "        for priceq in priceq_params:\n",
    "            for qtlw in qtlw_params:\n",
    "                #print(qtl, liql, priceq, qtlw)\n",
    "                signal = getsignal3(glass, price, liq0, qtl,liql,priceq,qtlw)['s']\n",
    "                for tp in tp_params:\n",
    "                    for sl in sl_params:\n",
    "                        for n1 in n1_params:\n",
    "                            for n2 in n2_params:\n",
    "                                for rsil in rsil_params:\n",
    "                                    rsih = 100-rsil\n",
    "                                    for maf in maf_params:\n",
    "                                        for mas in mas_params:\n",
    "                                            for railag in rsilag_params:\n",
    "                                                param_dict = param_dict_raw.copy()\n",
    "                                                param_dict['qtl'] = qtl\n",
    "                                                param_dict['liql'] = liql\n",
    "                                                param_dict['priceq'] = priceq\n",
    "                                                param_dict['qtlw'] = qtlw\n",
    "                                                param_dict['price'] = price\n",
    "                                                param_dict['signal'] = signal\n",
    "                                                param_dict['qtl'] = qtl\n",
    "                                                param_dict['tp'] = tp\n",
    "                                                param_dict['sl'] = sl\n",
    "                                                param_dict['n1'] = n1\n",
    "                                                param_dict['n2'] = n2\n",
    "                                                param_dict['rsil'] = rsil\n",
    "                                                param_dict['rsih'] = rsih\n",
    "                                                param_dict['maf'] = maf\n",
    "                                                param_dict['mas'] = mas\n",
    "                                                param_dict['railag'] = railag\n",
    "\n",
    "                                                backtest_configs.append(param_dict)\n"
   ]
  },
  {
   "cell_type": "code",
   "execution_count": 151,
   "id": "c12f0336-9f40-4830-a4d4-6eead688f871",
   "metadata": {},
   "outputs": [],
   "source": [
    "param_dict1 = backtest_configs[0]\n",
    "param_dict1['short']=True"
   ]
  },
  {
   "cell_type": "code",
   "execution_count": 155,
   "id": "f8ce787c-4b00-419b-8b1f-96e3ca171648",
   "metadata": {},
   "outputs": [],
   "source": [
    "reload(runsig)\n",
    "res = runsig.wrapped_runsignal(param_dict1)"
   ]
  },
  {
   "cell_type": "code",
   "execution_count": 158,
   "id": "2ee35667-808b-401a-a857-47e2bbb73d1a",
   "metadata": {},
   "outputs": [
    {
     "data": {
      "text/html": [
       "<div>\n",
       "<style scoped>\n",
       "    .dataframe tbody tr th:only-of-type {\n",
       "        vertical-align: middle;\n",
       "    }\n",
       "\n",
       "    .dataframe tbody tr th {\n",
       "        vertical-align: top;\n",
       "    }\n",
       "\n",
       "    .dataframe thead th {\n",
       "        text-align: right;\n",
       "    }\n",
       "</style>\n",
       "<table border=\"1\" class=\"dataframe\">\n",
       "  <thead>\n",
       "    <tr style=\"text-align: right;\">\n",
       "      <th></th>\n",
       "      <th>tp</th>\n",
       "      <th>sl</th>\n",
       "      <th>n1</th>\n",
       "      <th>n2</th>\n",
       "      <th>qtl</th>\n",
       "      <th>lbw</th>\n",
       "      <th>rsil</th>\n",
       "      <th>rsih</th>\n",
       "      <th>rsilag</th>\n",
       "      <th>maf</th>\n",
       "      <th>...</th>\n",
       "      <th>side</th>\n",
       "      <th>liql</th>\n",
       "      <th>priceq</th>\n",
       "      <th>qtlw</th>\n",
       "      <th>railag</th>\n",
       "      <th>ts</th>\n",
       "      <th>k</th>\n",
       "      <th>sr</th>\n",
       "      <th>tr</th>\n",
       "      <th>ntrades</th>\n",
       "    </tr>\n",
       "  </thead>\n",
       "  <tbody>\n",
       "    <tr>\n",
       "      <th>0</th>\n",
       "      <td>3</td>\n",
       "      <td>1</td>\n",
       "      <td>1</td>\n",
       "      <td>101</td>\n",
       "      <td>0.995</td>\n",
       "      <td>4000</td>\n",
       "      <td>10</td>\n",
       "      <td>90</td>\n",
       "      <td>14</td>\n",
       "      <td>5</td>\n",
       "      <td>...</td>\n",
       "      <td>long</td>\n",
       "      <td>5</td>\n",
       "      <td>0</td>\n",
       "      <td>0</td>\n",
       "      <td>14</td>\n",
       "      <td>1</td>\n",
       "      <td>ma_ma_pf</td>\n",
       "      <td>-0.800323</td>\n",
       "      <td>-0.135528</td>\n",
       "      <td>3.397849</td>\n",
       "    </tr>\n",
       "    <tr>\n",
       "      <th>1</th>\n",
       "      <td>3</td>\n",
       "      <td>1</td>\n",
       "      <td>1</td>\n",
       "      <td>101</td>\n",
       "      <td>0.995</td>\n",
       "      <td>4000</td>\n",
       "      <td>10</td>\n",
       "      <td>90</td>\n",
       "      <td>14</td>\n",
       "      <td>5</td>\n",
       "      <td>...</td>\n",
       "      <td>long</td>\n",
       "      <td>5</td>\n",
       "      <td>0</td>\n",
       "      <td>0</td>\n",
       "      <td>14</td>\n",
       "      <td>1</td>\n",
       "      <td>ma_ts_pf</td>\n",
       "      <td>0.075478</td>\n",
       "      <td>0.003040</td>\n",
       "      <td>3.268817</td>\n",
       "    </tr>\n",
       "    <tr>\n",
       "      <th>2</th>\n",
       "      <td>3</td>\n",
       "      <td>1</td>\n",
       "      <td>1</td>\n",
       "      <td>101</td>\n",
       "      <td>0.995</td>\n",
       "      <td>4000</td>\n",
       "      <td>10</td>\n",
       "      <td>90</td>\n",
       "      <td>14</td>\n",
       "      <td>5</td>\n",
       "      <td>...</td>\n",
       "      <td>long</td>\n",
       "      <td>5</td>\n",
       "      <td>0</td>\n",
       "      <td>0</td>\n",
       "      <td>14</td>\n",
       "      <td>1</td>\n",
       "      <td>ma_tpts_pf</td>\n",
       "      <td>-0.001583</td>\n",
       "      <td>-0.008118</td>\n",
       "      <td>3.268817</td>\n",
       "    </tr>\n",
       "    <tr>\n",
       "      <th>3</th>\n",
       "      <td>3</td>\n",
       "      <td>1</td>\n",
       "      <td>1</td>\n",
       "      <td>101</td>\n",
       "      <td>0.995</td>\n",
       "      <td>4000</td>\n",
       "      <td>10</td>\n",
       "      <td>90</td>\n",
       "      <td>14</td>\n",
       "      <td>5</td>\n",
       "      <td>...</td>\n",
       "      <td>long</td>\n",
       "      <td>5</td>\n",
       "      <td>0</td>\n",
       "      <td>0</td>\n",
       "      <td>14</td>\n",
       "      <td>1</td>\n",
       "      <td>ma_tpsl_pf</td>\n",
       "      <td>1.334210</td>\n",
       "      <td>0.371059</td>\n",
       "      <td>3.053763</td>\n",
       "    </tr>\n",
       "    <tr>\n",
       "      <th>4</th>\n",
       "      <td>3</td>\n",
       "      <td>1</td>\n",
       "      <td>1</td>\n",
       "      <td>101</td>\n",
       "      <td>0.995</td>\n",
       "      <td>4000</td>\n",
       "      <td>10</td>\n",
       "      <td>90</td>\n",
       "      <td>14</td>\n",
       "      <td>5</td>\n",
       "      <td>...</td>\n",
       "      <td>long</td>\n",
       "      <td>5</td>\n",
       "      <td>0</td>\n",
       "      <td>0</td>\n",
       "      <td>14</td>\n",
       "      <td>1</td>\n",
       "      <td>ma_n_pf</td>\n",
       "      <td>0.258026</td>\n",
       "      <td>0.046223</td>\n",
       "      <td>2.795699</td>\n",
       "    </tr>\n",
       "    <tr>\n",
       "      <th>5</th>\n",
       "      <td>3</td>\n",
       "      <td>1</td>\n",
       "      <td>1</td>\n",
       "      <td>101</td>\n",
       "      <td>0.995</td>\n",
       "      <td>4000</td>\n",
       "      <td>10</td>\n",
       "      <td>90</td>\n",
       "      <td>14</td>\n",
       "      <td>5</td>\n",
       "      <td>...</td>\n",
       "      <td>long</td>\n",
       "      <td>5</td>\n",
       "      <td>0</td>\n",
       "      <td>0</td>\n",
       "      <td>14</td>\n",
       "      <td>1</td>\n",
       "      <td>rsi_rsi_pf</td>\n",
       "      <td>-0.832841</td>\n",
       "      <td>-0.166355</td>\n",
       "      <td>0.086022</td>\n",
       "    </tr>\n",
       "    <tr>\n",
       "      <th>6</th>\n",
       "      <td>3</td>\n",
       "      <td>1</td>\n",
       "      <td>1</td>\n",
       "      <td>101</td>\n",
       "      <td>0.995</td>\n",
       "      <td>4000</td>\n",
       "      <td>10</td>\n",
       "      <td>90</td>\n",
       "      <td>14</td>\n",
       "      <td>5</td>\n",
       "      <td>...</td>\n",
       "      <td>long</td>\n",
       "      <td>5</td>\n",
       "      <td>0</td>\n",
       "      <td>0</td>\n",
       "      <td>14</td>\n",
       "      <td>1</td>\n",
       "      <td>rsi_ts_pf</td>\n",
       "      <td>-0.981534</td>\n",
       "      <td>-0.022155</td>\n",
       "      <td>0.086022</td>\n",
       "    </tr>\n",
       "    <tr>\n",
       "      <th>7</th>\n",
       "      <td>3</td>\n",
       "      <td>1</td>\n",
       "      <td>1</td>\n",
       "      <td>101</td>\n",
       "      <td>0.995</td>\n",
       "      <td>4000</td>\n",
       "      <td>10</td>\n",
       "      <td>90</td>\n",
       "      <td>14</td>\n",
       "      <td>5</td>\n",
       "      <td>...</td>\n",
       "      <td>long</td>\n",
       "      <td>5</td>\n",
       "      <td>0</td>\n",
       "      <td>0</td>\n",
       "      <td>14</td>\n",
       "      <td>1</td>\n",
       "      <td>rsi_tpts_pf</td>\n",
       "      <td>-0.981534</td>\n",
       "      <td>-0.022155</td>\n",
       "      <td>0.086022</td>\n",
       "    </tr>\n",
       "    <tr>\n",
       "      <th>8</th>\n",
       "      <td>3</td>\n",
       "      <td>1</td>\n",
       "      <td>1</td>\n",
       "      <td>101</td>\n",
       "      <td>0.995</td>\n",
       "      <td>4000</td>\n",
       "      <td>10</td>\n",
       "      <td>90</td>\n",
       "      <td>14</td>\n",
       "      <td>5</td>\n",
       "      <td>...</td>\n",
       "      <td>long</td>\n",
       "      <td>5</td>\n",
       "      <td>0</td>\n",
       "      <td>0</td>\n",
       "      <td>14</td>\n",
       "      <td>1</td>\n",
       "      <td>rsi_tpsl_pf</td>\n",
       "      <td>-1.642985</td>\n",
       "      <td>-0.044822</td>\n",
       "      <td>0.086022</td>\n",
       "    </tr>\n",
       "    <tr>\n",
       "      <th>9</th>\n",
       "      <td>3</td>\n",
       "      <td>1</td>\n",
       "      <td>1</td>\n",
       "      <td>101</td>\n",
       "      <td>0.995</td>\n",
       "      <td>4000</td>\n",
       "      <td>10</td>\n",
       "      <td>90</td>\n",
       "      <td>14</td>\n",
       "      <td>5</td>\n",
       "      <td>...</td>\n",
       "      <td>long</td>\n",
       "      <td>5</td>\n",
       "      <td>0</td>\n",
       "      <td>0</td>\n",
       "      <td>14</td>\n",
       "      <td>1</td>\n",
       "      <td>rsi_n_pf</td>\n",
       "      <td>-0.163943</td>\n",
       "      <td>-0.014535</td>\n",
       "      <td>0.086022</td>\n",
       "    </tr>\n",
       "    <tr>\n",
       "      <th>10</th>\n",
       "      <td>3</td>\n",
       "      <td>1</td>\n",
       "      <td>1</td>\n",
       "      <td>101</td>\n",
       "      <td>0.995</td>\n",
       "      <td>4000</td>\n",
       "      <td>10</td>\n",
       "      <td>90</td>\n",
       "      <td>14</td>\n",
       "      <td>5</td>\n",
       "      <td>...</td>\n",
       "      <td>long</td>\n",
       "      <td>5</td>\n",
       "      <td>0</td>\n",
       "      <td>0</td>\n",
       "      <td>14</td>\n",
       "      <td>1</td>\n",
       "      <td>n_n_pf</td>\n",
       "      <td>-2.602595</td>\n",
       "      <td>-0.894995</td>\n",
       "      <td>12.258065</td>\n",
       "    </tr>\n",
       "    <tr>\n",
       "      <th>11</th>\n",
       "      <td>3</td>\n",
       "      <td>1</td>\n",
       "      <td>1</td>\n",
       "      <td>101</td>\n",
       "      <td>0.995</td>\n",
       "      <td>4000</td>\n",
       "      <td>10</td>\n",
       "      <td>90</td>\n",
       "      <td>14</td>\n",
       "      <td>5</td>\n",
       "      <td>...</td>\n",
       "      <td>long</td>\n",
       "      <td>5</td>\n",
       "      <td>0</td>\n",
       "      <td>0</td>\n",
       "      <td>14</td>\n",
       "      <td>1</td>\n",
       "      <td>n_ts_pf</td>\n",
       "      <td>-6.893314</td>\n",
       "      <td>-0.975595</td>\n",
       "      <td>40.881720</td>\n",
       "    </tr>\n",
       "    <tr>\n",
       "      <th>12</th>\n",
       "      <td>3</td>\n",
       "      <td>1</td>\n",
       "      <td>1</td>\n",
       "      <td>101</td>\n",
       "      <td>0.995</td>\n",
       "      <td>4000</td>\n",
       "      <td>10</td>\n",
       "      <td>90</td>\n",
       "      <td>14</td>\n",
       "      <td>5</td>\n",
       "      <td>...</td>\n",
       "      <td>long</td>\n",
       "      <td>5</td>\n",
       "      <td>0</td>\n",
       "      <td>0</td>\n",
       "      <td>14</td>\n",
       "      <td>1</td>\n",
       "      <td>n_tpts_pf</td>\n",
       "      <td>-6.910166</td>\n",
       "      <td>-0.974514</td>\n",
       "      <td>41.118280</td>\n",
       "    </tr>\n",
       "    <tr>\n",
       "      <th>13</th>\n",
       "      <td>3</td>\n",
       "      <td>1</td>\n",
       "      <td>1</td>\n",
       "      <td>101</td>\n",
       "      <td>0.995</td>\n",
       "      <td>4000</td>\n",
       "      <td>10</td>\n",
       "      <td>90</td>\n",
       "      <td>14</td>\n",
       "      <td>5</td>\n",
       "      <td>...</td>\n",
       "      <td>long</td>\n",
       "      <td>5</td>\n",
       "      <td>0</td>\n",
       "      <td>0</td>\n",
       "      <td>14</td>\n",
       "      <td>1</td>\n",
       "      <td>n_tpsl_pf</td>\n",
       "      <td>-3.328709</td>\n",
       "      <td>-0.908461</td>\n",
       "      <td>23.677419</td>\n",
       "    </tr>\n",
       "  </tbody>\n",
       "</table>\n",
       "<p>14 rows × 23 columns</p>\n",
       "</div>"
      ],
      "text/plain": [
       "    tp  sl  n1   n2    qtl   lbw  rsil  rsih  rsilag  maf  ...  side  liql  \\\n",
       "0    3   1   1  101  0.995  4000    10    90      14    5  ...  long     5   \n",
       "1    3   1   1  101  0.995  4000    10    90      14    5  ...  long     5   \n",
       "2    3   1   1  101  0.995  4000    10    90      14    5  ...  long     5   \n",
       "3    3   1   1  101  0.995  4000    10    90      14    5  ...  long     5   \n",
       "4    3   1   1  101  0.995  4000    10    90      14    5  ...  long     5   \n",
       "5    3   1   1  101  0.995  4000    10    90      14    5  ...  long     5   \n",
       "6    3   1   1  101  0.995  4000    10    90      14    5  ...  long     5   \n",
       "7    3   1   1  101  0.995  4000    10    90      14    5  ...  long     5   \n",
       "8    3   1   1  101  0.995  4000    10    90      14    5  ...  long     5   \n",
       "9    3   1   1  101  0.995  4000    10    90      14    5  ...  long     5   \n",
       "10   3   1   1  101  0.995  4000    10    90      14    5  ...  long     5   \n",
       "11   3   1   1  101  0.995  4000    10    90      14    5  ...  long     5   \n",
       "12   3   1   1  101  0.995  4000    10    90      14    5  ...  long     5   \n",
       "13   3   1   1  101  0.995  4000    10    90      14    5  ...  long     5   \n",
       "\n",
       "    priceq qtlw  railag  ts            k        sr        tr    ntrades  \n",
       "0        0    0      14   1     ma_ma_pf -0.800323 -0.135528   3.397849  \n",
       "1        0    0      14   1     ma_ts_pf  0.075478  0.003040   3.268817  \n",
       "2        0    0      14   1   ma_tpts_pf -0.001583 -0.008118   3.268817  \n",
       "3        0    0      14   1   ma_tpsl_pf  1.334210  0.371059   3.053763  \n",
       "4        0    0      14   1      ma_n_pf  0.258026  0.046223   2.795699  \n",
       "5        0    0      14   1   rsi_rsi_pf -0.832841 -0.166355   0.086022  \n",
       "6        0    0      14   1    rsi_ts_pf -0.981534 -0.022155   0.086022  \n",
       "7        0    0      14   1  rsi_tpts_pf -0.981534 -0.022155   0.086022  \n",
       "8        0    0      14   1  rsi_tpsl_pf -1.642985 -0.044822   0.086022  \n",
       "9        0    0      14   1     rsi_n_pf -0.163943 -0.014535   0.086022  \n",
       "10       0    0      14   1       n_n_pf -2.602595 -0.894995  12.258065  \n",
       "11       0    0      14   1      n_ts_pf -6.893314 -0.975595  40.881720  \n",
       "12       0    0      14   1    n_tpts_pf -6.910166 -0.974514  41.118280  \n",
       "13       0    0      14   1    n_tpsl_pf -3.328709 -0.908461  23.677419  \n",
       "\n",
       "[14 rows x 23 columns]"
      ]
     },
     "execution_count": 158,
     "metadata": {},
     "output_type": "execute_result"
    }
   ],
   "source": [
    "pd.DataFrame(res)"
   ]
  },
  {
   "cell_type": "code",
   "execution_count": 31,
   "id": "e86d0355-b33f-4112-aea9-0147c8b43c06",
   "metadata": {},
   "outputs": [
    {
     "data": {
      "text/plain": [
       "4.3403409"
      ]
     },
     "execution_count": 31,
     "metadata": {},
     "output_type": "execute_result"
    }
   ],
   "source": [
    "backtest_configs[0]['price'].memory_usage().sum()/10e6"
   ]
  },
  {
   "cell_type": "code",
   "execution_count": 33,
   "id": "090560e1-d70a-410b-ae20-bccd95e384aa",
   "metadata": {},
   "outputs": [
    {
     "data": {
      "text/plain": [
       "0.6620859"
      ]
     },
     "execution_count": 33,
     "metadata": {},
     "output_type": "execute_result"
    }
   ],
   "source": [
    "backtest_configs[0]['signal'].memory_usage()/10e6"
   ]
  },
  {
   "cell_type": "code",
   "execution_count": 41,
   "id": "ec75327b-6dc8-4554-ab11-cbf0193efefa",
   "metadata": {},
   "outputs": [
    {
     "name": "stdout",
     "output_type": "stream",
     "text": [
      "232\n"
     ]
    }
   ],
   "source": [
    "from sys import getsizeof\n",
    "\n",
    "dct = {'a': backtest_configs[0]['price'], 'b': backtest_configs[0]['signal']}\n",
    "\n",
    "print(getsizeof(dct))"
   ]
  },
  {
   "cell_type": "code",
   "execution_count": 46,
   "id": "fdca6efe-438b-4ad3-956e-0e0d4fd33000",
   "metadata": {},
   "outputs": [
    {
     "name": "stdout",
     "output_type": "stream",
     "text": [
      "232\n"
     ]
    }
   ],
   "source": [
    "from sys import getsizeof\n",
    "\n",
    "dct1 = {'a': 1}\n",
    "\n",
    "print(getsizeof(dct1))"
   ]
  },
  {
   "cell_type": "code",
   "execution_count": 64,
   "id": "bf423b8d-fd4a-4974-96ca-874cd803a554",
   "metadata": {},
   "outputs": [],
   "source": [
    "import sys\n",
    "\n",
    "def get_size(obj, seen=None):\n",
    "    \"\"\"Recursively finds size of objects\"\"\"\n",
    "    size = sys.getsizeof(obj)\n",
    "    if seen is None:\n",
    "        seen = set()\n",
    "    obj_id = id(obj)\n",
    "    if obj_id in seen:\n",
    "        return 0\n",
    "    # Important mark as seen *before* entering recursion to gracefully handle\n",
    "    # self-referential objects\n",
    "    seen.add(obj_id)\n",
    "    if isinstance(obj, dict):\n",
    "        size += sum([get_size(v, seen) for v in obj.values()])\n",
    "        size += sum([get_size(k, seen) for k in obj.keys()])\n",
    "    elif hasattr(obj, '__dict__'):\n",
    "        size += get_size(obj.__dict__, seen)\n",
    "    elif hasattr(obj, '__iter__') and not isinstance(obj, (str, bytes, bytearray)):\n",
    "        size += sum([get_size(i, seen) for i in obj])\n",
    "    return size"
   ]
  },
  {
   "cell_type": "code",
   "execution_count": 49,
   "id": "561a6524-ff10-4a81-880f-a2479ad72f19",
   "metadata": {},
   "outputs": [
    {
     "name": "stdout",
     "output_type": "stream",
     "text": [
      "1176\n"
     ]
    }
   ],
   "source": [
    "print(getsizeof(backtest_configs[3]))"
   ]
  },
  {
   "cell_type": "code",
   "execution_count": 53,
   "id": "8e0929d4-9167-487c-a07c-2beccf64b019",
   "metadata": {},
   "outputs": [
    {
     "data": {
      "text/plain": [
       "310"
      ]
     },
     "execution_count": 53,
     "metadata": {},
     "output_type": "execute_result"
    }
   ],
   "source": [
    "get_size(dct1)"
   ]
  },
  {
   "cell_type": "code",
   "execution_count": 88,
   "id": "6d6d8b09-ceb5-482f-9936-ed18a6726192",
   "metadata": {},
   "outputs": [
    {
     "data": {
      "text/plain": [
       "3173"
      ]
     },
     "execution_count": 88,
     "metadata": {},
     "output_type": "execute_result"
    }
   ],
   "source": [
    "get_size(dd)"
   ]
  },
  {
   "cell_type": "code",
   "execution_count": null,
   "id": "952821f5-5996-4b95-82a9-4cfb845a8f0e",
   "metadata": {},
   "outputs": [],
   "source": [
    "dd['signal'].memory_usage()"
   ]
  },
  {
   "cell_type": "code",
   "execution_count": 83,
   "id": "a972b558-86cb-4178-88d2-adea5319ef56",
   "metadata": {},
   "outputs": [
    {
     "data": {
      "text/plain": [
       "43403409"
      ]
     },
     "execution_count": 83,
     "metadata": {},
     "output_type": "execute_result"
    }
   ],
   "source": [
    "dd['price'].memory_usage().sum()"
   ]
  },
  {
   "cell_type": "code",
   "execution_count": 86,
   "id": "bd000604-1b98-4c55-9eac-041862de389a",
   "metadata": {},
   "outputs": [],
   "source": [
    "del dd['signal']"
   ]
  },
  {
   "cell_type": "code",
   "execution_count": 89,
   "id": "5e7bd74b-298b-4e8a-a445-daf1e7fc5723",
   "metadata": {},
   "outputs": [],
   "source": [
    "dd = backtest_configs[3].copy()"
   ]
  },
  {
   "cell_type": "markdown",
   "id": "0c7bfa31-1097-42c0-ae77-3b37c1a767ee",
   "metadata": {},
   "source": [
    "### SSR"
   ]
  },
  {
   "cell_type": "code",
   "execution_count": 130,
   "id": "56a9f9b5-6a24-42bb-8d25-6a60a617baf6",
   "metadata": {},
   "outputs": [
    {
     "ename": "KeyboardInterrupt",
     "evalue": "",
     "output_type": "error",
     "traceback": [
      "\u001b[1;31m---------------------------------------------------------------------------\u001b[0m",
      "\u001b[1;31mKeyboardInterrupt\u001b[0m                         Traceback (most recent call last)",
      "\u001b[1;32m~\\AppData\\Local\\Temp/ipykernel_2376/2793185761.py\u001b[0m in \u001b[0;36m<module>\u001b[1;34m\u001b[0m\n\u001b[0;32m     59\u001b[0m \u001b[1;32mfor\u001b[0m \u001b[0mlbw\u001b[0m \u001b[1;32min\u001b[0m \u001b[0mlbw_params\u001b[0m\u001b[1;33m:\u001b[0m\u001b[1;33m\u001b[0m\u001b[1;33m\u001b[0m\u001b[0m\n\u001b[0;32m     60\u001b[0m     \u001b[0mfeature_pctrank\u001b[0m \u001b[1;33m=\u001b[0m \u001b[1;34m'{}_pctrank{}'\u001b[0m\u001b[1;33m.\u001b[0m\u001b[0mformat\u001b[0m\u001b[1;33m(\u001b[0m\u001b[0mfeature\u001b[0m\u001b[1;33m,\u001b[0m \u001b[0mlbw\u001b[0m\u001b[1;33m)\u001b[0m\u001b[1;33m\u001b[0m\u001b[1;33m\u001b[0m\u001b[0m\n\u001b[1;32m---> 61\u001b[1;33m     \u001b[0mdf4a\u001b[0m\u001b[1;33m[\u001b[0m\u001b[0mfeature_pctrank\u001b[0m\u001b[1;33m]\u001b[0m \u001b[1;33m=\u001b[0m \u001b[0mdf4a\u001b[0m\u001b[1;33m[\u001b[0m\u001b[0mfeature\u001b[0m\u001b[1;33m]\u001b[0m\u001b[1;33m.\u001b[0m\u001b[0mrolling\u001b[0m\u001b[1;33m(\u001b[0m\u001b[0mlbw\u001b[0m\u001b[1;33m)\u001b[0m\u001b[1;33m.\u001b[0m\u001b[0mapply\u001b[0m\u001b[1;33m(\u001b[0m\u001b[0mpctrank\u001b[0m\u001b[1;33m)\u001b[0m\u001b[1;33m\u001b[0m\u001b[1;33m\u001b[0m\u001b[0m\n\u001b[0m\u001b[0;32m     62\u001b[0m     \u001b[0mdf4b\u001b[0m \u001b[1;33m=\u001b[0m \u001b[0mdf4a\u001b[0m\u001b[1;33m[\u001b[0m\u001b[0mdf4a\u001b[0m\u001b[1;33m.\u001b[0m\u001b[0mindex\u001b[0m\u001b[1;33m>=\u001b[0m\u001b[1;34m'20210101'\u001b[0m\u001b[1;33m]\u001b[0m\u001b[1;33m\u001b[0m\u001b[1;33m\u001b[0m\u001b[0m\n\u001b[0;32m     63\u001b[0m     \u001b[1;32mfor\u001b[0m \u001b[0mqtl\u001b[0m \u001b[1;32min\u001b[0m \u001b[0mqtl_params\u001b[0m\u001b[1;33m:\u001b[0m\u001b[1;33m\u001b[0m\u001b[1;33m\u001b[0m\u001b[0m\n",
      "\u001b[1;32m~\\anaconda3\\lib\\site-packages\\pandas\\core\\window\\rolling.py\u001b[0m in \u001b[0;36mapply\u001b[1;34m(self, func, raw, engine, engine_kwargs, args, kwargs)\u001b[0m\n\u001b[0;32m   1640\u001b[0m         \u001b[0mkwargs\u001b[0m\u001b[1;33m:\u001b[0m \u001b[0mdict\u001b[0m\u001b[1;33m[\u001b[0m\u001b[0mstr\u001b[0m\u001b[1;33m,\u001b[0m \u001b[0mAny\u001b[0m\u001b[1;33m]\u001b[0m \u001b[1;33m|\u001b[0m \u001b[1;32mNone\u001b[0m \u001b[1;33m=\u001b[0m \u001b[1;32mNone\u001b[0m\u001b[1;33m,\u001b[0m\u001b[1;33m\u001b[0m\u001b[1;33m\u001b[0m\u001b[0m\n\u001b[0;32m   1641\u001b[0m     ):\n\u001b[1;32m-> 1642\u001b[1;33m         return super().apply(\n\u001b[0m\u001b[0;32m   1643\u001b[0m             \u001b[0mfunc\u001b[0m\u001b[1;33m,\u001b[0m\u001b[1;33m\u001b[0m\u001b[1;33m\u001b[0m\u001b[0m\n\u001b[0;32m   1644\u001b[0m             \u001b[0mraw\u001b[0m\u001b[1;33m=\u001b[0m\u001b[0mraw\u001b[0m\u001b[1;33m,\u001b[0m\u001b[1;33m\u001b[0m\u001b[1;33m\u001b[0m\u001b[0m\n",
      "\u001b[1;32m~\\anaconda3\\lib\\site-packages\\pandas\\core\\window\\rolling.py\u001b[0m in \u001b[0;36mapply\u001b[1;34m(self, func, raw, engine, engine_kwargs, args, kwargs)\u001b[0m\n\u001b[0;32m   1181\u001b[0m             \u001b[1;32mraise\u001b[0m \u001b[0mValueError\u001b[0m\u001b[1;33m(\u001b[0m\u001b[1;34m\"engine must be either 'numba' or 'cython'\"\u001b[0m\u001b[1;33m)\u001b[0m\u001b[1;33m\u001b[0m\u001b[1;33m\u001b[0m\u001b[0m\n\u001b[0;32m   1182\u001b[0m \u001b[1;33m\u001b[0m\u001b[0m\n\u001b[1;32m-> 1183\u001b[1;33m         return self._apply(\n\u001b[0m\u001b[0;32m   1184\u001b[0m             \u001b[0mapply_func\u001b[0m\u001b[1;33m,\u001b[0m\u001b[1;33m\u001b[0m\u001b[1;33m\u001b[0m\u001b[0m\n\u001b[0;32m   1185\u001b[0m             \u001b[0mnumba_cache_key\u001b[0m\u001b[1;33m=\u001b[0m\u001b[0mnumba_cache_key\u001b[0m\u001b[1;33m,\u001b[0m\u001b[1;33m\u001b[0m\u001b[1;33m\u001b[0m\u001b[0m\n",
      "\u001b[1;32m~\\anaconda3\\lib\\site-packages\\pandas\\core\\window\\rolling.py\u001b[0m in \u001b[0;36m_apply\u001b[1;34m(self, func, name, numba_cache_key, **kwargs)\u001b[0m\n\u001b[0;32m    537\u001b[0m \u001b[1;33m\u001b[0m\u001b[0m\n\u001b[0;32m    538\u001b[0m         \u001b[1;32mif\u001b[0m \u001b[0mself\u001b[0m\u001b[1;33m.\u001b[0m\u001b[0mmethod\u001b[0m \u001b[1;33m==\u001b[0m \u001b[1;34m\"single\"\u001b[0m\u001b[1;33m:\u001b[0m\u001b[1;33m\u001b[0m\u001b[1;33m\u001b[0m\u001b[0m\n\u001b[1;32m--> 539\u001b[1;33m             \u001b[1;32mreturn\u001b[0m \u001b[0mself\u001b[0m\u001b[1;33m.\u001b[0m\u001b[0m_apply_blockwise\u001b[0m\u001b[1;33m(\u001b[0m\u001b[0mhomogeneous_func\u001b[0m\u001b[1;33m,\u001b[0m \u001b[0mname\u001b[0m\u001b[1;33m)\u001b[0m\u001b[1;33m\u001b[0m\u001b[1;33m\u001b[0m\u001b[0m\n\u001b[0m\u001b[0;32m    540\u001b[0m         \u001b[1;32melse\u001b[0m\u001b[1;33m:\u001b[0m\u001b[1;33m\u001b[0m\u001b[1;33m\u001b[0m\u001b[0m\n\u001b[0;32m    541\u001b[0m             \u001b[1;32mreturn\u001b[0m \u001b[0mself\u001b[0m\u001b[1;33m.\u001b[0m\u001b[0m_apply_tablewise\u001b[0m\u001b[1;33m(\u001b[0m\u001b[0mhomogeneous_func\u001b[0m\u001b[1;33m,\u001b[0m \u001b[0mname\u001b[0m\u001b[1;33m)\u001b[0m\u001b[1;33m\u001b[0m\u001b[1;33m\u001b[0m\u001b[0m\n",
      "\u001b[1;32m~\\anaconda3\\lib\\site-packages\\pandas\\core\\window\\rolling.py\u001b[0m in \u001b[0;36m_apply_blockwise\u001b[1;34m(self, homogeneous_func, name)\u001b[0m\n\u001b[0;32m    415\u001b[0m         \"\"\"\n\u001b[0;32m    416\u001b[0m         \u001b[1;32mif\u001b[0m \u001b[0mself\u001b[0m\u001b[1;33m.\u001b[0m\u001b[0m_selected_obj\u001b[0m\u001b[1;33m.\u001b[0m\u001b[0mndim\u001b[0m \u001b[1;33m==\u001b[0m \u001b[1;36m1\u001b[0m\u001b[1;33m:\u001b[0m\u001b[1;33m\u001b[0m\u001b[1;33m\u001b[0m\u001b[0m\n\u001b[1;32m--> 417\u001b[1;33m             \u001b[1;32mreturn\u001b[0m \u001b[0mself\u001b[0m\u001b[1;33m.\u001b[0m\u001b[0m_apply_series\u001b[0m\u001b[1;33m(\u001b[0m\u001b[0mhomogeneous_func\u001b[0m\u001b[1;33m,\u001b[0m \u001b[0mname\u001b[0m\u001b[1;33m)\u001b[0m\u001b[1;33m\u001b[0m\u001b[1;33m\u001b[0m\u001b[0m\n\u001b[0m\u001b[0;32m    418\u001b[0m \u001b[1;33m\u001b[0m\u001b[0m\n\u001b[0;32m    419\u001b[0m         \u001b[0mobj\u001b[0m \u001b[1;33m=\u001b[0m \u001b[0mself\u001b[0m\u001b[1;33m.\u001b[0m\u001b[0m_create_data\u001b[0m\u001b[1;33m(\u001b[0m\u001b[0mself\u001b[0m\u001b[1;33m.\u001b[0m\u001b[0m_selected_obj\u001b[0m\u001b[1;33m)\u001b[0m\u001b[1;33m\u001b[0m\u001b[1;33m\u001b[0m\u001b[0m\n",
      "\u001b[1;32m~\\anaconda3\\lib\\site-packages\\pandas\\core\\window\\rolling.py\u001b[0m in \u001b[0;36m_apply_series\u001b[1;34m(self, homogeneous_func, name)\u001b[0m\n\u001b[0;32m    404\u001b[0m             \u001b[1;32mraise\u001b[0m \u001b[0mDataError\u001b[0m\u001b[1;33m(\u001b[0m\u001b[1;34m\"No numeric types to aggregate\"\u001b[0m\u001b[1;33m)\u001b[0m \u001b[1;32mfrom\u001b[0m \u001b[0merr\u001b[0m\u001b[1;33m\u001b[0m\u001b[1;33m\u001b[0m\u001b[0m\n\u001b[0;32m    405\u001b[0m \u001b[1;33m\u001b[0m\u001b[0m\n\u001b[1;32m--> 406\u001b[1;33m         \u001b[0mresult\u001b[0m \u001b[1;33m=\u001b[0m \u001b[0mhomogeneous_func\u001b[0m\u001b[1;33m(\u001b[0m\u001b[0mvalues\u001b[0m\u001b[1;33m)\u001b[0m\u001b[1;33m\u001b[0m\u001b[1;33m\u001b[0m\u001b[0m\n\u001b[0m\u001b[0;32m    407\u001b[0m         \u001b[1;32mreturn\u001b[0m \u001b[0mobj\u001b[0m\u001b[1;33m.\u001b[0m\u001b[0m_constructor\u001b[0m\u001b[1;33m(\u001b[0m\u001b[0mresult\u001b[0m\u001b[1;33m,\u001b[0m \u001b[0mindex\u001b[0m\u001b[1;33m=\u001b[0m\u001b[0mobj\u001b[0m\u001b[1;33m.\u001b[0m\u001b[0mindex\u001b[0m\u001b[1;33m,\u001b[0m \u001b[0mname\u001b[0m\u001b[1;33m=\u001b[0m\u001b[0mobj\u001b[0m\u001b[1;33m.\u001b[0m\u001b[0mname\u001b[0m\u001b[1;33m)\u001b[0m\u001b[1;33m\u001b[0m\u001b[1;33m\u001b[0m\u001b[0m\n\u001b[0;32m    408\u001b[0m \u001b[1;33m\u001b[0m\u001b[0m\n",
      "\u001b[1;32m~\\anaconda3\\lib\\site-packages\\pandas\\core\\window\\rolling.py\u001b[0m in \u001b[0;36mhomogeneous_func\u001b[1;34m(values)\u001b[0m\n\u001b[0;32m    529\u001b[0m                     \u001b[0mresult\u001b[0m \u001b[1;33m=\u001b[0m \u001b[0mnp\u001b[0m\u001b[1;33m.\u001b[0m\u001b[0mapply_along_axis\u001b[0m\u001b[1;33m(\u001b[0m\u001b[0mcalc\u001b[0m\u001b[1;33m,\u001b[0m \u001b[0mself\u001b[0m\u001b[1;33m.\u001b[0m\u001b[0maxis\u001b[0m\u001b[1;33m,\u001b[0m \u001b[0mvalues\u001b[0m\u001b[1;33m)\u001b[0m\u001b[1;33m\u001b[0m\u001b[1;33m\u001b[0m\u001b[0m\n\u001b[0;32m    530\u001b[0m                 \u001b[1;32melse\u001b[0m\u001b[1;33m:\u001b[0m\u001b[1;33m\u001b[0m\u001b[1;33m\u001b[0m\u001b[0m\n\u001b[1;32m--> 531\u001b[1;33m                     \u001b[0mresult\u001b[0m \u001b[1;33m=\u001b[0m \u001b[0mcalc\u001b[0m\u001b[1;33m(\u001b[0m\u001b[0mvalues\u001b[0m\u001b[1;33m)\u001b[0m\u001b[1;33m\u001b[0m\u001b[1;33m\u001b[0m\u001b[0m\n\u001b[0m\u001b[0;32m    532\u001b[0m \u001b[1;33m\u001b[0m\u001b[0m\n\u001b[0;32m    533\u001b[0m             \u001b[1;32mif\u001b[0m \u001b[0mnumba_cache_key\u001b[0m \u001b[1;32mis\u001b[0m \u001b[1;32mnot\u001b[0m \u001b[1;32mNone\u001b[0m\u001b[1;33m:\u001b[0m\u001b[1;33m\u001b[0m\u001b[1;33m\u001b[0m\u001b[0m\n",
      "\u001b[1;32m~\\anaconda3\\lib\\site-packages\\pandas\\core\\window\\rolling.py\u001b[0m in \u001b[0;36mcalc\u001b[1;34m(x)\u001b[0m\n\u001b[0;32m    523\u001b[0m                     \u001b[0mclosed\u001b[0m\u001b[1;33m=\u001b[0m\u001b[0mself\u001b[0m\u001b[1;33m.\u001b[0m\u001b[0mclosed\u001b[0m\u001b[1;33m,\u001b[0m\u001b[1;33m\u001b[0m\u001b[1;33m\u001b[0m\u001b[0m\n\u001b[0;32m    524\u001b[0m                 )\n\u001b[1;32m--> 525\u001b[1;33m                 \u001b[1;32mreturn\u001b[0m \u001b[0mfunc\u001b[0m\u001b[1;33m(\u001b[0m\u001b[0mx\u001b[0m\u001b[1;33m,\u001b[0m \u001b[0mstart\u001b[0m\u001b[1;33m,\u001b[0m \u001b[0mend\u001b[0m\u001b[1;33m,\u001b[0m \u001b[0mmin_periods\u001b[0m\u001b[1;33m)\u001b[0m\u001b[1;33m\u001b[0m\u001b[1;33m\u001b[0m\u001b[0m\n\u001b[0m\u001b[0;32m    526\u001b[0m \u001b[1;33m\u001b[0m\u001b[0m\n\u001b[0;32m    527\u001b[0m             \u001b[1;32mwith\u001b[0m \u001b[0mnp\u001b[0m\u001b[1;33m.\u001b[0m\u001b[0merrstate\u001b[0m\u001b[1;33m(\u001b[0m\u001b[0mall\u001b[0m\u001b[1;33m=\u001b[0m\u001b[1;34m\"ignore\"\u001b[0m\u001b[1;33m)\u001b[0m\u001b[1;33m:\u001b[0m\u001b[1;33m\u001b[0m\u001b[1;33m\u001b[0m\u001b[0m\n",
      "\u001b[1;32m~\\anaconda3\\lib\\site-packages\\pandas\\core\\window\\rolling.py\u001b[0m in \u001b[0;36mapply_func\u001b[1;34m(values, begin, end, min_periods, raw)\u001b[0m\n\u001b[0;32m   1206\u001b[0m             \u001b[1;32mif\u001b[0m \u001b[1;32mnot\u001b[0m \u001b[0mraw\u001b[0m\u001b[1;33m:\u001b[0m\u001b[1;33m\u001b[0m\u001b[1;33m\u001b[0m\u001b[0m\n\u001b[0;32m   1207\u001b[0m                 \u001b[0mvalues\u001b[0m \u001b[1;33m=\u001b[0m \u001b[0mSeries\u001b[0m\u001b[1;33m(\u001b[0m\u001b[0mvalues\u001b[0m\u001b[1;33m,\u001b[0m \u001b[0mindex\u001b[0m\u001b[1;33m=\u001b[0m\u001b[0mself\u001b[0m\u001b[1;33m.\u001b[0m\u001b[0mobj\u001b[0m\u001b[1;33m.\u001b[0m\u001b[0mindex\u001b[0m\u001b[1;33m)\u001b[0m\u001b[1;33m\u001b[0m\u001b[1;33m\u001b[0m\u001b[0m\n\u001b[1;32m-> 1208\u001b[1;33m             \u001b[1;32mreturn\u001b[0m \u001b[0mwindow_func\u001b[0m\u001b[1;33m(\u001b[0m\u001b[0mvalues\u001b[0m\u001b[1;33m,\u001b[0m \u001b[0mbegin\u001b[0m\u001b[1;33m,\u001b[0m \u001b[0mend\u001b[0m\u001b[1;33m,\u001b[0m \u001b[0mmin_periods\u001b[0m\u001b[1;33m)\u001b[0m\u001b[1;33m\u001b[0m\u001b[1;33m\u001b[0m\u001b[0m\n\u001b[0m\u001b[0;32m   1209\u001b[0m \u001b[1;33m\u001b[0m\u001b[0m\n\u001b[0;32m   1210\u001b[0m         \u001b[1;32mreturn\u001b[0m \u001b[0mapply_func\u001b[0m\u001b[1;33m\u001b[0m\u001b[1;33m\u001b[0m\u001b[0m\n",
      "\u001b[1;32m~\\anaconda3\\lib\\site-packages\\pandas\\_libs\\window\\aggregations.pyx\u001b[0m in \u001b[0;36mpandas._libs.window.aggregations.roll_apply\u001b[1;34m()\u001b[0m\n",
      "\u001b[1;32m~\\AppData\\Local\\Temp/ipykernel_2376/2771953886.py\u001b[0m in \u001b[0;36m<lambda>\u001b[1;34m(x)\u001b[0m\n\u001b[0;32m      5\u001b[0m \u001b[1;32mfrom\u001b[0m \u001b[0mcdcqr\u001b[0m\u001b[1;33m.\u001b[0m\u001b[0mbacktest\u001b[0m\u001b[1;33m.\u001b[0m\u001b[0mvbt\u001b[0m\u001b[1;33m.\u001b[0m\u001b[0msample_params\u001b[0m \u001b[1;32mimport\u001b[0m \u001b[0mparam_dict\u001b[0m\u001b[1;33m\u001b[0m\u001b[1;33m\u001b[0m\u001b[0m\n\u001b[0;32m      6\u001b[0m \u001b[1;32mimport\u001b[0m \u001b[0mjson\u001b[0m\u001b[1;33m\u001b[0m\u001b[1;33m\u001b[0m\u001b[0m\n\u001b[1;32m----> 7\u001b[1;33m \u001b[0mpctrank\u001b[0m \u001b[1;33m=\u001b[0m \u001b[1;32mlambda\u001b[0m \u001b[0mx\u001b[0m\u001b[1;33m:\u001b[0m \u001b[0mpd\u001b[0m\u001b[1;33m.\u001b[0m\u001b[0mSeries\u001b[0m\u001b[1;33m(\u001b[0m\u001b[0mx\u001b[0m\u001b[1;33m)\u001b[0m\u001b[1;33m.\u001b[0m\u001b[0mrank\u001b[0m\u001b[1;33m(\u001b[0m\u001b[0mpct\u001b[0m\u001b[1;33m=\u001b[0m\u001b[1;32mTrue\u001b[0m\u001b[1;33m)\u001b[0m\u001b[1;33m.\u001b[0m\u001b[0miloc\u001b[0m\u001b[1;33m[\u001b[0m\u001b[1;33m-\u001b[0m\u001b[1;36m1\u001b[0m\u001b[1;33m]\u001b[0m\u001b[1;33m\u001b[0m\u001b[1;33m\u001b[0m\u001b[0m\n\u001b[0m",
      "\u001b[1;32m~\\anaconda3\\lib\\site-packages\\pandas\\core\\generic.py\u001b[0m in \u001b[0;36mrank\u001b[1;34m(self, axis, method, numeric_only, na_option, ascending, pct)\u001b[0m\n\u001b[0;32m   8386\u001b[0m         \u001b[1;32mif\u001b[0m \u001b[0mnumeric_only\u001b[0m \u001b[1;32mis\u001b[0m \u001b[1;32mNone\u001b[0m\u001b[1;33m:\u001b[0m\u001b[1;33m\u001b[0m\u001b[1;33m\u001b[0m\u001b[0m\n\u001b[0;32m   8387\u001b[0m             \u001b[1;32mtry\u001b[0m\u001b[1;33m:\u001b[0m\u001b[1;33m\u001b[0m\u001b[1;33m\u001b[0m\u001b[0m\n\u001b[1;32m-> 8388\u001b[1;33m                 \u001b[1;32mreturn\u001b[0m \u001b[0mranker\u001b[0m\u001b[1;33m(\u001b[0m\u001b[0mself\u001b[0m\u001b[1;33m)\u001b[0m\u001b[1;33m\u001b[0m\u001b[1;33m\u001b[0m\u001b[0m\n\u001b[0m\u001b[0;32m   8389\u001b[0m             \u001b[1;32mexcept\u001b[0m \u001b[0mTypeError\u001b[0m\u001b[1;33m:\u001b[0m\u001b[1;33m\u001b[0m\u001b[1;33m\u001b[0m\u001b[0m\n\u001b[0;32m   8390\u001b[0m                 \u001b[0mnumeric_only\u001b[0m \u001b[1;33m=\u001b[0m \u001b[1;32mTrue\u001b[0m\u001b[1;33m\u001b[0m\u001b[1;33m\u001b[0m\u001b[0m\n",
      "\u001b[1;32m~\\anaconda3\\lib\\site-packages\\pandas\\core\\generic.py\u001b[0m in \u001b[0;36mranker\u001b[1;34m(data)\u001b[0m\n\u001b[0;32m   8367\u001b[0m \u001b[1;33m\u001b[0m\u001b[0m\n\u001b[0;32m   8368\u001b[0m         \u001b[1;32mdef\u001b[0m \u001b[0mranker\u001b[0m\u001b[1;33m(\u001b[0m\u001b[0mdata\u001b[0m\u001b[1;33m)\u001b[0m\u001b[1;33m:\u001b[0m\u001b[1;33m\u001b[0m\u001b[1;33m\u001b[0m\u001b[0m\n\u001b[1;32m-> 8369\u001b[1;33m             ranks = algos.rank(\n\u001b[0m\u001b[0;32m   8370\u001b[0m                 \u001b[0mdata\u001b[0m\u001b[1;33m.\u001b[0m\u001b[0mvalues\u001b[0m\u001b[1;33m,\u001b[0m\u001b[1;33m\u001b[0m\u001b[1;33m\u001b[0m\u001b[0m\n\u001b[0;32m   8371\u001b[0m                 \u001b[0maxis\u001b[0m\u001b[1;33m=\u001b[0m\u001b[0maxis\u001b[0m\u001b[1;33m,\u001b[0m\u001b[1;33m\u001b[0m\u001b[1;33m\u001b[0m\u001b[0m\n",
      "\u001b[1;32m~\\anaconda3\\lib\\site-packages\\pandas\\core\\algorithms.py\u001b[0m in \u001b[0;36mrank\u001b[1;34m(values, axis, method, na_option, ascending, pct)\u001b[0m\n\u001b[0;32m   1007\u001b[0m     \u001b[0mvalues\u001b[0m \u001b[1;33m=\u001b[0m \u001b[0m_get_values_for_rank\u001b[0m\u001b[1;33m(\u001b[0m\u001b[0mvalues\u001b[0m\u001b[1;33m)\u001b[0m\u001b[1;33m\u001b[0m\u001b[1;33m\u001b[0m\u001b[0m\n\u001b[0;32m   1008\u001b[0m     \u001b[1;32mif\u001b[0m \u001b[0mvalues\u001b[0m\u001b[1;33m.\u001b[0m\u001b[0mndim\u001b[0m \u001b[1;33m==\u001b[0m \u001b[1;36m1\u001b[0m\u001b[1;33m:\u001b[0m\u001b[1;33m\u001b[0m\u001b[1;33m\u001b[0m\u001b[0m\n\u001b[1;32m-> 1009\u001b[1;33m         ranks = algos.rank_1d(\n\u001b[0m\u001b[0;32m   1010\u001b[0m             \u001b[0mvalues\u001b[0m\u001b[1;33m,\u001b[0m\u001b[1;33m\u001b[0m\u001b[1;33m\u001b[0m\u001b[0m\n\u001b[0;32m   1011\u001b[0m             \u001b[0mlabels\u001b[0m\u001b[1;33m=\u001b[0m\u001b[0mnp\u001b[0m\u001b[1;33m.\u001b[0m\u001b[0mzeros\u001b[0m\u001b[1;33m(\u001b[0m\u001b[0mlen\u001b[0m\u001b[1;33m(\u001b[0m\u001b[0mvalues\u001b[0m\u001b[1;33m)\u001b[0m\u001b[1;33m,\u001b[0m \u001b[0mdtype\u001b[0m\u001b[1;33m=\u001b[0m\u001b[0mnp\u001b[0m\u001b[1;33m.\u001b[0m\u001b[0mintp\u001b[0m\u001b[1;33m)\u001b[0m\u001b[1;33m,\u001b[0m\u001b[1;33m\u001b[0m\u001b[1;33m\u001b[0m\u001b[0m\n",
      "\u001b[1;32m~\\anaconda3\\lib\\site-packages\\pandas\\_libs\\algos.pyx\u001b[0m in \u001b[0;36mpandas._libs.algos.rank_1d\u001b[1;34m()\u001b[0m\n",
      "\u001b[1;32m<__array_function__ internals>\u001b[0m in \u001b[0;36mlexsort\u001b[1;34m(*args, **kwargs)\u001b[0m\n",
      "\u001b[1;31mKeyboardInterrupt\u001b[0m: "
     ]
    }
   ],
   "source": [
    "price = pd.read_pickle(os.path.join(LOCAL_DATA_DIR,'BTC-PERP@ftx.pickle'))\n",
    "\n",
    "#load feature\n",
    "asset = 'BTC'\n",
    "feature = 'BTCSSR'\n",
    "signalid = 'long-BTCSSR'\n",
    "feature_data_fname = produce_feature_BTCSSR()\n",
    "feature_data_dir = os.path.join(LOCAL_DATA_DIR, 'feature_data', '{}.pickle'.format(feature_data_fname))\n",
    "df4a = pd.read_pickle(feature_data_dir)\n",
    "\n",
    "param_dict_raw = param_dict.copy()\n",
    "qtl_params = [0.995, 0.99, 0.975, 0.96]\n",
    "lbw_params = [1000, 2000, 3000, 4000]\n",
    "\n",
    "test=True\n",
    "if test:\n",
    "    tp_params = [3, 5] # \n",
    "    sl_params = [1, 2] # ts = sl \n",
    "    n1_params = [1, 10]\n",
    "    n2_params = [101]\n",
    "    rsil_params = [10]\n",
    "    rsilag_params = [14]\n",
    "    maf_params = [5]\n",
    "    mas_params = [100, 200]\n",
    "else:\n",
    "    tp_params = [3, 5, 7, 10] # \n",
    "    sl_params = [1, 2, 3 , 5] # ts = sl \n",
    "    n1_params = [1, 10, 100]\n",
    "    n2_params = [101, 200, 500, 1000, 2000]\n",
    "    rsil_params = [10, 20] # 2 runs with rsil rsilag\n",
    "    rsilag_params = [14]\n",
    "    maf_params = [5, 60] # 4 runs for maf/mas\n",
    "    mas_params = [100, 200]\n",
    "\n",
    "backtest_info = {}\n",
    "backtest_info['asset'] = asset\n",
    "backtest_info['signalid'] = signalid\n",
    "backtest_info['side'] = 'long'\n",
    "backtest_info['qtl_params'] = qtl_params\n",
    "backtest_info['lbw_params'] = lbw_params\n",
    "backtest_info['tp_params'] = tp_params\n",
    "backtest_info['sl_params'] = sl_params\n",
    "backtest_info['n1_params'] = n1_params\n",
    "backtest_info['n2_params'] = n2_params\n",
    "\n",
    "backtest_info['rsil_params'] = rsil_params\n",
    "backtest_info['rsilag_params'] = rsilag_params\n",
    "backtest_info['maf_params'] = maf_params\n",
    "backtest_info['mas_params'] = mas_params\n",
    "\n",
    "\n",
    "backtest_info_hashed = dict_hash(backtest_info)\n",
    "backtest_job_info = '{}_{}'.format(json.dumps(backtest_info), backtest_info_hashed)\n",
    "job_start_log_info = 'Starting backtest job {}'.format(backtest_job_info)\n",
    "\n",
    "\n",
    "backtest_configs = []\n",
    "rsi_or_ma=['rsi', 'ma']\n",
    "for lbw in lbw_params:\n",
    "    feature_pctrank = '{}_pctrank{}'.format(feature, lbw)\n",
    "    df4a[feature_pctrank] = df4a[feature].rolling(lbw).apply(pctrank)\n",
    "    df4b = df4a[df4a.index>='20210101']\n",
    "    for qtl in qtl_params:\n",
    "        signal = df4b[feature_pctrank]>qtl # rolling max, keep the singal for a period (1 hour), good for combining with other signals\n",
    "        signal = signal.reindex(price.index).ffill()\n",
    "        for tp in tp_params:\n",
    "            for sl in sl_params:\n",
    "                for n1 in n1_params:\n",
    "                    for n2 in n2_params:\n",
    "                        for rsil in rsil_params:\n",
    "                            rsih = 100-rsil\n",
    "                            for maf in maf_params:\n",
    "                                for mas in mas_params:\n",
    "                                    for railag in rsilag_params:\n",
    "\n",
    "                                        param_dict = param_dict_raw.copy()\n",
    "                                        param_dict['qtl'] = qtl\n",
    "                                        param_dict['lbw'] = lbw\n",
    "                                        param_dict['signal'] = signal\n",
    "                                        param_dict['price'] = price\n",
    "                                        param_dict['tp'] = tp\n",
    "                                        param_dict['sl'] = sl\n",
    "                                        param_dict['n1'] = n1\n",
    "                                        param_dict['n2'] = n1 + n2\n",
    "                                        param_dict['rsil'] = rsil\n",
    "                                        param_dict['rsih'] = rsih\n",
    "                                        param_dict['maf'] = maf\n",
    "                                        param_dict['mas'] = mas\n",
    "                                        param_dict['railag'] = railag\n",
    "\n",
    "                                        backtest_configs.append(param_dict)"
   ]
  },
  {
   "cell_type": "code",
   "execution_count": null,
   "id": "7517f8fa-57af-4e82-9e7f-413218fdc910",
   "metadata": {},
   "outputs": [],
   "source": []
  },
  {
   "cell_type": "code",
   "execution_count": 129,
   "id": "925e9791-97e7-46d9-879e-f786723483f0",
   "metadata": {},
   "outputs": [
    {
     "data": {
      "text/plain": [
       "46.285714285714285"
      ]
     },
     "execution_count": 129,
     "metadata": {},
     "output_type": "execute_result"
    }
   ],
   "source": [
    "(signal.index.max() - signal.index.min()).days/7"
   ]
  },
  {
   "cell_type": "code",
   "execution_count": null,
   "id": "5b66e52d-a22a-4ec0-bf9a-b07143ce7dc4",
   "metadata": {},
   "outputs": [],
   "source": [
    "backtest_configs"
   ]
  },
  {
   "cell_type": "code",
   "execution_count": 104,
   "id": "552bbd8c-2761-43eb-84b7-fcd4bd938dc0",
   "metadata": {},
   "outputs": [
    {
     "data": {
      "text/plain": [
       "69554221"
      ]
     },
     "metadata": {},
     "output_type": "display_data"
    },
    {
     "data": {
      "text/plain": [
       "22308336"
      ]
     },
     "metadata": {},
     "output_type": "display_data"
    },
    {
     "data": {
      "text/plain": [
       "4182813"
      ]
     },
     "metadata": {},
     "output_type": "display_data"
    }
   ],
   "source": [
    "dd = backtest_configs[3].copy()\n",
    "display(get_size(dd))\n",
    "display(dd['price'].memory_usage().sum())\n",
    "display(dd['signal'].memory_usage())"
   ]
  },
  {
   "cell_type": "code",
   "execution_count": 102,
   "id": "60a80d1c-7abd-4e77-8fdd-d8e478a721e5",
   "metadata": {},
   "outputs": [
    {
     "data": {
      "text/plain": [
       "68233661"
      ]
     },
     "metadata": {},
     "output_type": "display_data"
    },
    {
     "data": {
      "text/plain": [
       "22308336"
      ]
     },
     "metadata": {},
     "output_type": "display_data"
    },
    {
     "data": {
      "text/plain": [
       "4182813"
      ]
     },
     "metadata": {},
     "output_type": "display_data"
    },
    {
     "data": {
      "text/plain": [
       "69824558"
      ]
     },
     "metadata": {},
     "output_type": "display_data"
    },
    {
     "data": {
      "text/plain": [
       "2972"
      ]
     },
     "metadata": {},
     "output_type": "display_data"
    }
   ],
   "source": [
    "del dd['signal']\n",
    "display(get_size(dd))\n",
    "del dd['price']\n",
    "display(get_size(dd))"
   ]
  },
  {
   "cell_type": "code",
   "execution_count": 110,
   "id": "ea349456-87f5-4904-b0b4-fdde18b7831d",
   "metadata": {},
   "outputs": [
    {
     "data": {
      "text/plain": [
       "22308336"
      ]
     },
     "execution_count": 110,
     "metadata": {},
     "output_type": "execute_result"
    }
   ],
   "source": [
    "dd['price'].memory_usage().sum()"
   ]
  },
  {
   "cell_type": "code",
   "execution_count": 115,
   "id": "c69952c5-4fb1-4aef-a475-238ffa3771a4",
   "metadata": {},
   "outputs": [
    {
     "data": {
      "text/plain": [
       "13013196"
      ]
     },
     "execution_count": 115,
     "metadata": {},
     "output_type": "execute_result"
    }
   ],
   "source": [
    "import numpy as np\n",
    "dd['price'].astype(np.float32).memory_usage().sum()"
   ]
  },
  {
   "cell_type": "code",
   "execution_count": 120,
   "id": "43b32a5c-0db1-47b0-8a45-dfeda8714fc3",
   "metadata": {},
   "outputs": [
    {
     "data": {
      "text/html": [
       "<div>\n",
       "<style scoped>\n",
       "    .dataframe tbody tr th:only-of-type {\n",
       "        vertical-align: middle;\n",
       "    }\n",
       "\n",
       "    .dataframe tbody tr th {\n",
       "        vertical-align: top;\n",
       "    }\n",
       "\n",
       "    .dataframe thead th {\n",
       "        text-align: right;\n",
       "    }\n",
       "</style>\n",
       "<table border=\"1\" class=\"dataframe\">\n",
       "  <thead>\n",
       "    <tr style=\"text-align: right;\">\n",
       "      <th></th>\n",
       "      <th>o</th>\n",
       "      <th>h</th>\n",
       "      <th>l</th>\n",
       "      <th>c</th>\n",
       "      <th>v</th>\n",
       "    </tr>\n",
       "    <tr>\n",
       "      <th>exch_ts</th>\n",
       "      <th></th>\n",
       "      <th></th>\n",
       "      <th></th>\n",
       "      <th></th>\n",
       "      <th></th>\n",
       "    </tr>\n",
       "  </thead>\n",
       "  <tbody>\n",
       "    <tr>\n",
       "      <th>2021-01-01 00:00:00</th>\n",
       "      <td>28960.0</td>\n",
       "      <td>29008.0</td>\n",
       "      <td>28944.0</td>\n",
       "      <td>29008.0</td>\n",
       "      <td>103.500000</td>\n",
       "    </tr>\n",
       "    <tr>\n",
       "      <th>2021-01-01 00:01:00</th>\n",
       "      <td>29008.0</td>\n",
       "      <td>29056.0</td>\n",
       "      <td>29008.0</td>\n",
       "      <td>29056.0</td>\n",
       "      <td>43.031250</td>\n",
       "    </tr>\n",
       "    <tr>\n",
       "      <th>2021-01-01 00:02:00</th>\n",
       "      <td>29056.0</td>\n",
       "      <td>29056.0</td>\n",
       "      <td>29008.0</td>\n",
       "      <td>29024.0</td>\n",
       "      <td>95.125000</td>\n",
       "    </tr>\n",
       "    <tr>\n",
       "      <th>2021-01-01 00:03:00</th>\n",
       "      <td>29024.0</td>\n",
       "      <td>29040.0</td>\n",
       "      <td>29008.0</td>\n",
       "      <td>29024.0</td>\n",
       "      <td>10.046875</td>\n",
       "    </tr>\n",
       "    <tr>\n",
       "      <th>2021-01-01 00:04:00</th>\n",
       "      <td>29024.0</td>\n",
       "      <td>29024.0</td>\n",
       "      <td>29008.0</td>\n",
       "      <td>29008.0</td>\n",
       "      <td>22.406250</td>\n",
       "    </tr>\n",
       "  </tbody>\n",
       "</table>\n",
       "</div>"
      ],
      "text/plain": [
       "                           o        h        l        c           v\n",
       "exch_ts                                                            \n",
       "2021-01-01 00:00:00  28960.0  29008.0  28944.0  29008.0  103.500000\n",
       "2021-01-01 00:01:00  29008.0  29056.0  29008.0  29056.0   43.031250\n",
       "2021-01-01 00:02:00  29056.0  29056.0  29008.0  29024.0   95.125000\n",
       "2021-01-01 00:03:00  29024.0  29040.0  29008.0  29024.0   10.046875\n",
       "2021-01-01 00:04:00  29024.0  29024.0  29008.0  29008.0   22.406250"
      ]
     },
     "execution_count": 120,
     "metadata": {},
     "output_type": "execute_result"
    }
   ],
   "source": [
    "dd['price'].astype(np.float16).head()"
   ]
  },
  {
   "cell_type": "code",
   "execution_count": 123,
   "id": "30ed3797-3d70-46c2-8dd0-12a7fc5fd73c",
   "metadata": {},
   "outputs": [
    {
     "data": {
      "text/plain": [
       "13013196"
      ]
     },
     "execution_count": 123,
     "metadata": {},
     "output_type": "execute_result"
    }
   ],
   "source": [
    "dd['price'].astype(np.float32).memory_usage().sum()"
   ]
  },
  {
   "cell_type": "code",
   "execution_count": 124,
   "id": "2c326970-fd96-48ff-9f93-b37e820ef3c7",
   "metadata": {},
   "outputs": [
    {
     "data": {
      "text/plain": [
       "22308336"
      ]
     },
     "execution_count": 124,
     "metadata": {},
     "output_type": "execute_result"
    }
   ],
   "source": [
    "dd['price'].memory_usage().sum()"
   ]
  }
 ],
 "metadata": {
  "kernelspec": {
   "display_name": "Python 3 (ipykernel)",
   "language": "python",
   "name": "python3"
  },
  "language_info": {
   "codemirror_mode": {
    "name": "ipython",
    "version": 3
   },
   "file_extension": ".py",
   "mimetype": "text/x-python",
   "name": "python",
   "nbconvert_exporter": "python",
   "pygments_lexer": "ipython3",
   "version": "3.8.8"
  }
 },
 "nbformat": 4,
 "nbformat_minor": 5
}
