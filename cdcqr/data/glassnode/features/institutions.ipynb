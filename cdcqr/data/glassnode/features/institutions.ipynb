{
 "cells": [
  {
   "cell_type": "code",
   "execution_count": null,
   "id": "9c0c343f-77d9-401e-8bc0-febf68f19079",
   "metadata": {},
   "outputs": [],
   "source": [
    "from cdcqr.data.glassnode import glassnode_data as gnd\n",
    "from cdcqr.ct.utils import plot2\n",
    "gn = gnd.GlassnodeData()"
   ]
  },
  {
   "cell_type": "markdown",
   "id": "d6b6b563-f91e-4602-9ccc-b9ceaf7d9fed",
   "metadata": {},
   "source": [
    "### BTC"
   ]
  },
  {
   "cell_type": "code",
   "execution_count": null,
   "id": "1f371ed4-3f08-4251-a544-6575ac9abf77",
   "metadata": {},
   "outputs": [],
   "source": [
    "fs = ['price_usd_close', 'purpose_etf_holdings_sum', '3iq_btcq_holdings_sum']\n",
    "a = 'BTC'\n",
    "i = '24h'\n",
    "df = gn.load_features(fs,a, i)\n",
    "cols = list(df.columns)"
   ]
  },
  {
   "cell_type": "code",
   "execution_count": null,
   "id": "7067b48a-6ef6-442c-a398-7b39b0852875",
   "metadata": {},
   "outputs": [],
   "source": [
    "df[df.index>='20210101'].plot()"
   ]
  },
  {
   "cell_type": "code",
   "execution_count": null,
   "id": "3a25c05c-7fee-437b-a8f1-286dff4d1356",
   "metadata": {},
   "outputs": [],
   "source": [
    "df[df.index>='20210101'].plot2(cols[0],cols[1:3])"
   ]
  },
  {
   "cell_type": "markdown",
   "id": "9d7f8d25-279e-4965-a50f-0dad607d6115",
   "metadata": {},
   "source": [
    "### ETH"
   ]
  },
  {
   "cell_type": "code",
   "execution_count": null,
   "id": "8848e97c-5067-4439-905f-70990f087e45",
   "metadata": {},
   "outputs": [],
   "source": []
  }
 ],
 "metadata": {
  "kernelspec": {
   "display_name": "Python 3 (ipykernel)",
   "language": "python",
   "name": "python3"
  },
  "language_info": {
   "codemirror_mode": {
    "name": "ipython",
    "version": 3
   },
   "file_extension": ".py",
   "mimetype": "text/x-python",
   "name": "python",
   "nbconvert_exporter": "python",
   "pygments_lexer": "ipython3",
   "version": "3.8.8"
  }
 },
 "nbformat": 4,
 "nbformat_minor": 5
}
