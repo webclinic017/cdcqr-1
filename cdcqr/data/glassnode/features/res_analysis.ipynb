{
 "cells": [
  {
   "cell_type": "markdown",
   "id": "acc14bee-9481-49ea-836d-358e0aa2dc40",
   "metadata": {},
   "source": [
    "<a id=\"top\"></a>"
   ]
  },
  {
   "cell_type": "markdown",
   "id": "66cfd794-3e15-49ae-95e9-efd5ed60f2c5",
   "metadata": {},
   "source": [
    "### check <a id=\"top\"></a>\n",
    "   * exchange balance of bitocin v.s. stables\n",
    "   * large transfer in of stables v.s. bitcoins -> large trading volume? -> cause price move?\n",
    "   * [section1](#section1)\n",
    "   * [liqstrat](#liqstrat)\n",
    "   * [SSR](#ssr)\n",
    "   * [PERPRATES](#perprates)"
   ]
  },
  {
   "cell_type": "code",
   "execution_count": null,
   "id": "91c71c2f-400e-44ee-aeb3-0de47035a868",
   "metadata": {},
   "outputs": [],
   "source": [
    "from cdcqr.data.glassnode import glassnode_data as gnd\n",
    "from cdcqr.ct.utils import plot2\n",
    "import pandas as pd\n",
    "import cdcqr.analytics.utils as autil \n",
    "from importlib import reload\n",
    "import seaborn as sns\n",
    "import matplotlib.pyplot as plt\n",
    "from cdcqr.analytics.utils import calculate_corr_pvalues\n",
    "from cdcqr.common.utils import LOCAL_DATA_DIR\n",
    "import os\n",
    "import numpy as np\n",
    "from cdcqr.backtest.vbt.runsignal import runsignal\n",
    "import cufflinks as cf\n",
    "cf.go_offline()\n",
    "cf.set_config_file(offline=False, world_readable=True)\n",
    "import time\n",
    "from IPython.display import Audio\n",
    "sound_file = '/core/tmp/ding.wav'\n",
    "%matplotlib inline\n",
    "\n",
    "import sys\n",
    "sys.path.append('/core/github/cryptoderiv-quant/')\n",
    "from ct.utils import pv"
   ]
  },
  {
   "cell_type": "markdown",
   "id": "751291e2-d2cd-405c-899c-db2dee5ce3ba",
   "metadata": {},
   "source": [
    "### Load data"
   ]
  },
  {
   "cell_type": "code",
   "execution_count": null,
   "id": "a7d1e743-4232-497f-8db0-7c4e246a03b7",
   "metadata": {},
   "outputs": [],
   "source": [
    "price = pd.read_pickle(os.path.join(LOCAL_DATA_DIR,'BTC-PERP@ftx.pickle'))"
   ]
  },
  {
   "cell_type": "markdown",
   "id": "b4c3dfb7-cbcf-481c-899a-003eb08c4acf",
   "metadata": {},
   "source": [
    "### section1  [top](#top) <a id=\"section1\"></a>"
   ]
  },
  {
   "cell_type": "code",
   "execution_count": null,
   "id": "fd8f1b41-faa4-4754-b650-ad05474c6e5e",
   "metadata": {},
   "outputs": [],
   "source": [
    "gn = gnd.GlassnodeData()"
   ]
  },
  {
   "cell_type": "code",
   "execution_count": null,
   "id": "1d879a00-5a0f-488e-b1bb-5daee64210d1",
   "metadata": {},
   "outputs": [],
   "source": [
    "gn.get_feature_best_resolutions('balance_exchanges')"
   ]
  },
  {
   "cell_type": "code",
   "execution_count": null,
   "id": "9a71107a-cb24-4a1c-b984-64a72fe9b20a",
   "metadata": {},
   "outputs": [],
   "source": [
    "fs = ['price_usd_close', 'balance_exchanges']\n",
    "assets = ['BTC','USDT', 'USDC', 'BUSD']\n",
    "df = gn.load_features(fs, assets, resolution='10m')"
   ]
  },
  {
   "cell_type": "code",
   "execution_count": null,
   "id": "eb65a26e-5988-4395-8dfe-86116e1cdaa2",
   "metadata": {},
   "outputs": [],
   "source": [
    "df1 = df[df.index>='20200101'].ffill().drop(['USDT-price_usd_close','USDC-price_usd_close','BUSD-price_usd_close'],axis=1)\n",
    "df1['stable-balance_exchanges'] = df['USDT-balance_exchanges']+df['USDC-balance_exchanges']+df['BUSD-balance_exchanges']\n",
    "df1 = df1[['BTC-price_usd_close', 'stable-balance_exchanges','BTC-balance_exchanges']]\n",
    "df1.head()"
   ]
  },
  {
   "cell_type": "code",
   "execution_count": null,
   "id": "7ba63559-4895-4cb9-9381-c9634bf2bfd7",
   "metadata": {},
   "outputs": [],
   "source": [
    "df1['BTC-balance_exchanges_MC'] = df1['BTC-price_usd_close'] * df1['BTC-balance_exchanges']"
   ]
  },
  {
   "cell_type": "code",
   "execution_count": null,
   "id": "a3657edd-9281-454b-a02c-50d263b64566",
   "metadata": {},
   "outputs": [],
   "source": [
    "df1['BTCSSR'] = df1['BTC-balance_exchanges_MC']/df1['stable-balance_exchanges']\n",
    "df2 = df1.drop('BTC-balance_exchanges_MC', axis=1).dropna()"
   ]
  },
  {
   "cell_type": "code",
   "execution_count": null,
   "id": "19bebcab-b8ec-415a-9fb5-fc9d92a26c9a",
   "metadata": {},
   "outputs": [],
   "source": [
    "df3 = df2.copy()\n",
    "df3['ret'] = df3['BTC-price_usd_close'].pct_change()\n",
    "df3['r+5'] = df3['BTC-price_usd_close'].pct_change(periods=5).shift(-5)\n",
    "df3['r+10'] = df3['BTC-price_usd_close'].pct_change(periods=10).shift(-10)\n",
    "df3['r+100'] = df3['BTC-price_usd_close'].pct_change(periods=100).shift(-100)\n",
    "\n",
    "df3['stable_bal_chg'] = df3['stable-balance_exchanges'].diff()\n",
    "df3['stable_bal_chg_lag1'] = df3['stable_bal_chg'].shift(1)\n",
    "df3['BTCSSR_lag1'] = df3['BTCSSR'].shift(1)\n",
    "df3['BTCSSR_chg'] = df3['BTCSSR'].diff()\n",
    "df3['BTCSSR_chg_lag1'] = df3['BTCSSR_chg'].shift(1)"
   ]
  },
  {
   "cell_type": "code",
   "execution_count": null,
   "id": "7d654278-7821-4527-b429-c06f561b85d8",
   "metadata": {},
   "outputs": [],
   "source": [
    "df4 = df3.dropna()[['stable_bal_chg', 'stable_bal_chg_lag1', 'BTCSSR', 'BTCSSR_chg', 'BTCSSR_chg_lag1', 'ret', 'r+5', 'r+10', 'r+100']]"
   ]
  },
  {
   "cell_type": "code",
   "execution_count": null,
   "id": "a12b4561-63c8-4179-badd-18ef858116df",
   "metadata": {},
   "outputs": [],
   "source": [
    "df4a = df4.where(~np.isinf(df4), 0)"
   ]
  },
  {
   "cell_type": "code",
   "execution_count": null,
   "id": "7f620f28-34b5-4e29-b592-cd5d98ab40d2",
   "metadata": {},
   "outputs": [],
   "source": [
    "lookback = 4000\n",
    "t0 = time.time()\n",
    "pctrank = lambda x: pd.Series(x).rank(pct=True).iloc[-1]\n",
    "df4a['BTCSSR_pctrank4k'] = df4a['BTCSSR'].rolling(lookback).apply(pctrank)\n",
    "print(time.time()-t0)\n",
    "Audio(sound_file, autoplay=True)"
   ]
  },
  {
   "cell_type": "code",
   "execution_count": null,
   "id": "9f1af837-30a8-46b3-999d-ebfa9de8ca46",
   "metadata": {},
   "outputs": [],
   "source": [
    "df4b = df4a[df4a.index>='20210101']"
   ]
  },
  {
   "cell_type": "code",
   "execution_count": null,
   "id": "54f6bdf9-d507-448f-8864-7b2dc4665b6c",
   "metadata": {},
   "outputs": [],
   "source": [
    "price = pd.read_pickle(os.path.join(LOCAL_DATA_DIR,'BTC-PERP@ftx.pickle'))"
   ]
  },
  {
   "cell_type": "markdown",
   "id": "aea01bfd-fc96-46de-be6c-ed1775f95fbc",
   "metadata": {},
   "source": [
    "### Load res df for analysis - long-BTCSSR_pctrank4k_res_df"
   ]
  },
  {
   "cell_type": "code",
   "execution_count": null,
   "id": "71f4f1f7-0b2a-48b2-b50c-92090657e3cf",
   "metadata": {},
   "outputs": [],
   "source": [
    "df = pd.read_pickle('/core/tmp/long-BTCSSR_pctrank4k_res_df.pickle')"
   ]
  },
  {
   "cell_type": "code",
   "execution_count": null,
   "id": "f44d23e0-53ef-4f5f-9d30-2e9cf6ace4df",
   "metadata": {},
   "outputs": [],
   "source": [
    "df.pv()"
   ]
  },
  {
   "cell_type": "code",
   "execution_count": null,
   "id": "07ea8657-7afb-4181-a68c-8292ee66f3d1",
   "metadata": {},
   "outputs": [],
   "source": [
    "feature = 'BTCSSR_pctrank4k'\n",
    "p=price.resample('1Min').last().ffill()"
   ]
  },
  {
   "cell_type": "code",
   "execution_count": null,
   "id": "29625bd4-8fd1-4e7e-9ae4-0de9ac54a4c1",
   "metadata": {},
   "outputs": [],
   "source": [
    "tp=15\n",
    "sl=5\n",
    "n1=None\n",
    "n2=None\n",
    "qtl=0.995\n",
    "short=False\n",
    "signal = df4b[feature]>qtl # rolling max, keep the singal for a period (1 hour), good for combining with other signals\n",
    "signal = signal.reindex(p.index).ffill()\n",
    "\n",
    "ressig=runsignal(price,signal=signal,tp=tp,sl=sl,ts=sl,n1=n1,n2=n2,rsil=30,rsih=50,rsilag=14,maf=5,mas=15,short=short,size=np.inf,fees=0.0007,freq='1Min',init_cash=10000,request=['pf','backtest'])"
   ]
  },
  {
   "cell_type": "code",
   "execution_count": null,
   "id": "87805cda-b43b-488f-83be-764db881ed2a",
   "metadata": {},
   "outputs": [],
   "source": [
    "runsignal?"
   ]
  },
  {
   "cell_type": "code",
   "execution_count": null,
   "id": "e1cc54b1-0d55-4bbf-b8ca-e0ba0ddf5843",
   "metadata": {},
   "outputs": [],
   "source": [
    "ressig['ma_tpsl_pf'].plot(subplots=['drawdowns','trade_pnl','cum_returns'])"
   ]
  },
  {
   "cell_type": "markdown",
   "id": "b69ff71c-b9f0-49a0-906a-53029d9ee771",
   "metadata": {},
   "source": [
    "### Load res df for analysis - short-BTCSSR_pctrank4k_res_df"
   ]
  },
  {
   "cell_type": "code",
   "execution_count": null,
   "id": "6eecd907-b696-4520-8184-23ef3fc3681e",
   "metadata": {},
   "outputs": [],
   "source": [
    "df = pd.read_pickle('/core/tmp/short-BTCSSR_pctrank4k_res_df.pickle')\n",
    "df.pv()"
   ]
  },
  {
   "cell_type": "code",
   "execution_count": null,
   "id": "7924655b-13d5-423b-be19-4de089b058af",
   "metadata": {},
   "outputs": [],
   "source": [
    "t0 = time.time()\n",
    "feature = 'BTCSSR_pctrank4k'\n",
    "p=price.resample('1Min').last().ffill()\n",
    "tp=7\n",
    "sl=5\n",
    "pf = 'rsi_tpsl_pf'\n",
    "n1=None\n",
    "n2=None\n",
    "qtl=0.01\n",
    "short=True\n",
    "signal = df4b[feature]<qtl # rolling max, keep the singal for a period (1 hour), good for combining with other signals\n",
    "signal = signal.reindex(p.index).ffill()\n",
    "\n",
    "ressig=runsignal(price,signal=signal,tp=tp,sl=sl,ts=sl,n1=n1,n2=n2,rsil=30,rsih=50,\n",
    "                 rsilag=14,maf=5,mas=15,short=short,size=np.inf,fees=0.0007,freq='1Min',init_cash=10000,request=['pf','backtest'])\n",
    "\n",
    "print(time.time()-t0)"
   ]
  },
  {
   "cell_type": "code",
   "execution_count": null,
   "id": "9e3575e5-71f4-46d6-9faf-2a223710e93f",
   "metadata": {},
   "outputs": [],
   "source": [
    "ressig[pf].plot(subplots=['drawdowns','trade_pnl','cum_returns'])"
   ]
  },
  {
   "cell_type": "markdown",
   "id": "c2953583-faa0-4c1c-a5b6-0b5b0db1ba66",
   "metadata": {},
   "source": [
    "### load res_df files"
   ]
  },
  {
   "cell_type": "code",
   "execution_count": null,
   "id": "2c8da413-a2b9-49a8-856e-6cab4f769582",
   "metadata": {},
   "outputs": [],
   "source": [
    "res_df_fname1 = 'BTC_long-BTCSSR_pctrank_a5d650c.pickle'\n",
    "df1 = pd.read_pickle(os.path.join(LOCAL_DATA_DIR, 'backtest_res', res_df_fname1))\n",
    "df1.shape"
   ]
  },
  {
   "cell_type": "code",
   "execution_count": null,
   "id": "4a52a1a0-e89b-47ed-a160-3190df832bf5",
   "metadata": {},
   "outputs": [],
   "source": [
    "df1.pv()"
   ]
  },
  {
   "cell_type": "code",
   "execution_count": null,
   "id": "fddc616b-585d-41d2-9463-3eb1bdc8a029",
   "metadata": {},
   "outputs": [],
   "source": [
    "\\core\\tmp\\backtest_res\\BTC_long-BTCSSR_6563ba1.pickle"
   ]
  },
  {
   "cell_type": "code",
   "execution_count": null,
   "id": "d8f41e32-5d2c-4619-accd-5d2798aaf8e2",
   "metadata": {},
   "outputs": [],
   "source": [
    "res_df_fname1 = 'BTC_long-BTCSSR_6563ba1.pickle'\n",
    "df1 = pd.read_pickle(os.path.join(LOCAL_DATA_DIR, 'backtest_res', res_df_fname1))\n",
    "df1.shape"
   ]
  },
  {
   "cell_type": "code",
   "execution_count": null,
   "id": "44d149cd-f87d-4a1e-aa01-3dac4653e981",
   "metadata": {},
   "outputs": [],
   "source": [
    "df1.pv()"
   ]
  },
  {
   "cell_type": "code",
   "execution_count": null,
   "id": "c73d70d9-d6bd-4276-953a-ccc2669b16a4",
   "metadata": {},
   "outputs": [],
   "source": [
    "d = {'a':1, 'b':2}"
   ]
  },
  {
   "cell_type": "code",
   "execution_count": null,
   "id": "ebb01aaa-c933-45a1-86de-75db6323dd5a",
   "metadata": {},
   "outputs": [],
   "source": [
    "d.pop('a', None)"
   ]
  },
  {
   "cell_type": "code",
   "execution_count": null,
   "id": "8adc1b25-1052-4479-9128-fd494c281468",
   "metadata": {},
   "outputs": [],
   "source": [
    "d"
   ]
  },
  {
   "cell_type": "markdown",
   "id": "3b154c2a-3098-4349-a66a-2369ab152811",
   "metadata": {},
   "source": [
    "### liqstrat  [top](#top) <a id=\"liqstrat\"></a>"
   ]
  },
  {
   "cell_type": "code",
   "execution_count": null,
   "id": "97767c6a-e831-4fcd-a3d7-5812d3c73bdd",
   "metadata": {},
   "outputs": [],
   "source": [
    "res_df_fname1 = 'LINK_short-LINKliq_5b18e5b.pickle'\n",
    "df1 = pd.read_pickle(os.path.join(LOCAL_DATA_DIR, 'backtest_res', res_df_fname1))\n",
    "df1.pv()"
   ]
  },
  {
   "cell_type": "code",
   "execution_count": null,
   "id": "90c5d7b5-b798-455e-b6fd-d57e1dd33981",
   "metadata": {},
   "outputs": [],
   "source": [
    "res_df_fname1 = 'CRV_short-CRVliq_70dd24d.pickle'\n",
    "df1 = pd.read_pickle(os.path.join(LOCAL_DATA_DIR, 'backtest_res', res_df_fname1))\n",
    "df1.pv()"
   ]
  },
  {
   "cell_type": "code",
   "execution_count": null,
   "id": "1f25294f-5465-424c-ae34-c194200b456f",
   "metadata": {},
   "outputs": [],
   "source": [
    "res_df_fname1 = 'SUSHI_short-SUSHIliq_982fa7c.pickle'\n",
    "df1 = pd.read_pickle(os.path.join(LOCAL_DATA_DIR, 'backtest_res', res_df_fname1))\n",
    "df1.pv()"
   ]
  },
  {
   "cell_type": "code",
   "execution_count": null,
   "id": "12bdc998-68ea-485c-acaa-cdb918c8985e",
   "metadata": {},
   "outputs": [],
   "source": [
    "res_df_fname1 = 'AAVE_short-AAVEliq_69805d3.pickle'\n",
    "df1 = pd.read_pickle(os.path.join(LOCAL_DATA_DIR, 'backtest_res', res_df_fname1))\n",
    "df1.pv()"
   ]
  },
  {
   "cell_type": "code",
   "execution_count": null,
   "id": "41c2353e-ce8a-424c-9f70-c5bcb9bb4efa",
   "metadata": {},
   "outputs": [],
   "source": [
    "res_df_fname1 = 'MKR_short-MKRliq_9a97320.pickle'\n",
    "df1 = pd.read_pickle(os.path.join(LOCAL_DATA_DIR, 'backtest_res', res_df_fname1))\n",
    "df1.pv()"
   ]
  },
  {
   "cell_type": "code",
   "execution_count": null,
   "id": "4afb7598-df6d-4d67-9395-2f133791fa73",
   "metadata": {},
   "outputs": [],
   "source": [
    "res_df_fname1 = 'MATIC_short-MATICliq_40304c9.pickle'\n",
    "df1 = pd.read_pickle(os.path.join(LOCAL_DATA_DIR, 'backtest_res', res_df_fname1))\n",
    "df1.pv()"
   ]
  },
  {
   "cell_type": "markdown",
   "id": "76a2c09c-0f5e-4f59-bf24-1e53d1440eab",
   "metadata": {},
   "source": [
    "### SSR  [top](#top) <a id=\"ssr\"></a>"
   ]
  },
  {
   "cell_type": "code",
   "execution_count": 42,
   "id": "b45a8fa9-eebb-476f-95a6-2d4eb549a35b",
   "metadata": {},
   "outputs": [],
   "source": [
    "res_df_fname1 = 'BTC_long-BTCSSR_pctrank_a5d650c.pickle'\n",
    "df1 = pd.read_pickle(os.path.join(LOCAL_DATA_DIR, 'backtest_res', res_df_fname1))"
   ]
  },
  {
   "cell_type": "code",
   "execution_count": 51,
   "id": "9aee4fff-3733-4196-8965-2fa7a9b3a464",
   "metadata": {},
   "outputs": [
    {
     "data": {
      "text/html": [
       "<div>\n",
       "<style scoped>\n",
       "    .dataframe tbody tr th:only-of-type {\n",
       "        vertical-align: middle;\n",
       "    }\n",
       "\n",
       "    .dataframe tbody tr th {\n",
       "        vertical-align: top;\n",
       "    }\n",
       "\n",
       "    .dataframe thead th {\n",
       "        text-align: right;\n",
       "    }\n",
       "</style>\n",
       "<table border=\"1\" class=\"dataframe\">\n",
       "  <thead>\n",
       "    <tr style=\"text-align: right;\">\n",
       "      <th></th>\n",
       "      <th>signalid</th>\n",
       "      <th>short</th>\n",
       "      <th>tp</th>\n",
       "      <th>sl</th>\n",
       "      <th>k</th>\n",
       "      <th>lbw</th>\n",
       "      <th>qtl</th>\n",
       "      <th>sr</th>\n",
       "      <th>n1</th>\n",
       "      <th>n2</th>\n",
       "      <th>tr</th>\n",
       "      <th>ntrades</th>\n",
       "    </tr>\n",
       "  </thead>\n",
       "  <tbody>\n",
       "    <tr>\n",
       "      <th>131043</th>\n",
       "      <td>sample_signal_id</td>\n",
       "      <td>False</td>\n",
       "      <td>10</td>\n",
       "      <td>3</td>\n",
       "      <td>ma_tpsl_pf</td>\n",
       "      <td>2000</td>\n",
       "      <td>0.995</td>\n",
       "      <td>1.557020</td>\n",
       "      <td>1</td>\n",
       "      <td>102</td>\n",
       "      <td>0.446246</td>\n",
       "      <td>0.430108</td>\n",
       "    </tr>\n",
       "    <tr>\n",
       "      <th>131057</th>\n",
       "      <td>sample_signal_id</td>\n",
       "      <td>False</td>\n",
       "      <td>10</td>\n",
       "      <td>3</td>\n",
       "      <td>ma_tpsl_pf</td>\n",
       "      <td>2000</td>\n",
       "      <td>0.995</td>\n",
       "      <td>1.380531</td>\n",
       "      <td>1</td>\n",
       "      <td>102</td>\n",
       "      <td>0.361501</td>\n",
       "      <td>0.301075</td>\n",
       "    </tr>\n",
       "    <tr>\n",
       "      <th>131071</th>\n",
       "      <td>sample_signal_id</td>\n",
       "      <td>False</td>\n",
       "      <td>10</td>\n",
       "      <td>3</td>\n",
       "      <td>ma_tpsl_pf</td>\n",
       "      <td>2000</td>\n",
       "      <td>0.995</td>\n",
       "      <td>2.618454</td>\n",
       "      <td>1</td>\n",
       "      <td>102</td>\n",
       "      <td>0.866089</td>\n",
       "      <td>0.258065</td>\n",
       "    </tr>\n",
       "    <tr>\n",
       "      <th>131085</th>\n",
       "      <td>sample_signal_id</td>\n",
       "      <td>False</td>\n",
       "      <td>10</td>\n",
       "      <td>3</td>\n",
       "      <td>ma_tpsl_pf</td>\n",
       "      <td>2000</td>\n",
       "      <td>0.995</td>\n",
       "      <td>0.384214</td>\n",
       "      <td>1</td>\n",
       "      <td>102</td>\n",
       "      <td>0.058707</td>\n",
       "      <td>0.301075</td>\n",
       "    </tr>\n",
       "    <tr>\n",
       "      <th>131099</th>\n",
       "      <td>sample_signal_id</td>\n",
       "      <td>False</td>\n",
       "      <td>10</td>\n",
       "      <td>3</td>\n",
       "      <td>ma_tpsl_pf</td>\n",
       "      <td>2000</td>\n",
       "      <td>0.995</td>\n",
       "      <td>1.380531</td>\n",
       "      <td>1</td>\n",
       "      <td>102</td>\n",
       "      <td>0.361501</td>\n",
       "      <td>0.301075</td>\n",
       "    </tr>\n",
       "    <tr>\n",
       "      <th>131113</th>\n",
       "      <td>sample_signal_id</td>\n",
       "      <td>False</td>\n",
       "      <td>10</td>\n",
       "      <td>3</td>\n",
       "      <td>ma_tpsl_pf</td>\n",
       "      <td>2000</td>\n",
       "      <td>0.995</td>\n",
       "      <td>2.618454</td>\n",
       "      <td>1</td>\n",
       "      <td>102</td>\n",
       "      <td>0.866089</td>\n",
       "      <td>0.258065</td>\n",
       "    </tr>\n",
       "    <tr>\n",
       "      <th>131127</th>\n",
       "      <td>sample_signal_id</td>\n",
       "      <td>False</td>\n",
       "      <td>10</td>\n",
       "      <td>3</td>\n",
       "      <td>ma_tpsl_pf</td>\n",
       "      <td>2000</td>\n",
       "      <td>0.995</td>\n",
       "      <td>1.557020</td>\n",
       "      <td>1</td>\n",
       "      <td>102</td>\n",
       "      <td>0.446246</td>\n",
       "      <td>0.430108</td>\n",
       "    </tr>\n",
       "    <tr>\n",
       "      <th>131141</th>\n",
       "      <td>sample_signal_id</td>\n",
       "      <td>False</td>\n",
       "      <td>10</td>\n",
       "      <td>3</td>\n",
       "      <td>ma_tpsl_pf</td>\n",
       "      <td>2000</td>\n",
       "      <td>0.995</td>\n",
       "      <td>0.384214</td>\n",
       "      <td>1</td>\n",
       "      <td>102</td>\n",
       "      <td>0.058707</td>\n",
       "      <td>0.301075</td>\n",
       "    </tr>\n",
       "  </tbody>\n",
       "</table>\n",
       "</div>"
      ],
      "text/plain": [
       "                signalid  short  tp  sl           k   lbw    qtl        sr  n1   n2        tr   ntrades\n",
       "131043  sample_signal_id  False  10   3  ma_tpsl_pf  2000  0.995  1.557020   1  102  0.446246  0.430108\n",
       "131057  sample_signal_id  False  10   3  ma_tpsl_pf  2000  0.995  1.380531   1  102  0.361501  0.301075\n",
       "131071  sample_signal_id  False  10   3  ma_tpsl_pf  2000  0.995  2.618454   1  102  0.866089  0.258065\n",
       "131085  sample_signal_id  False  10   3  ma_tpsl_pf  2000  0.995  0.384214   1  102  0.058707  0.301075\n",
       "131099  sample_signal_id  False  10   3  ma_tpsl_pf  2000  0.995  1.380531   1  102  0.361501  0.301075\n",
       "131113  sample_signal_id  False  10   3  ma_tpsl_pf  2000  0.995  2.618454   1  102  0.866089  0.258065\n",
       "131127  sample_signal_id  False  10   3  ma_tpsl_pf  2000  0.995  1.557020   1  102  0.446246  0.430108\n",
       "131141  sample_signal_id  False  10   3  ma_tpsl_pf  2000  0.995  0.384214   1  102  0.058707  0.301075"
      ]
     },
     "execution_count": 51,
     "metadata": {},
     "output_type": "execute_result"
    }
   ],
   "source": [
    "df1.query(\"sl==3 & qtl==0.995 & lbw==2000 & tp==10 & k=='ma_tpsl_pf' & n1==1 & n2==102 \")"
   ]
  },
  {
   "cell_type": "markdown",
   "id": "d5902e1c-5e1a-48c0-a323-e800cbf3bb9d",
   "metadata": {},
   "source": [
    "### PERPRATES  [top](#top) <a id=\"perprates\"></a>"
   ]
  },
  {
   "cell_type": "code",
   "execution_count": null,
   "id": "774a9819-f971-487c-8a8b-ca870f5989c0",
   "metadata": {},
   "outputs": [],
   "source": [
    "res_df_fname1 = 'BTC_long-BTCPERPFundingRate_4997d75.pickle'\n",
    "df1 = pd.read_pickle(os.path.join(LOCAL_DATA_DIR, 'backtest_res', res_df_fname1))\n",
    "df1.pv()"
   ]
  },
  {
   "cell_type": "code",
   "execution_count": 52,
   "id": "634538a4-53f6-4ec6-b389-da7e941e7ec8",
   "metadata": {},
   "outputs": [
    {
     "data": {
      "text/html": [
       "\n",
       "        <iframe\n",
       "            width=\"100%\"\n",
       "            height=\"500\"\n",
       "            src=\"pivottablejs.html\"\n",
       "            frameborder=\"0\"\n",
       "            allowfullscreen\n",
       "        ></iframe>\n",
       "        "
      ],
      "text/plain": [
       "<IPython.lib.display.IFrame at 0x28ecd8ce7c0>"
      ]
     },
     "metadata": {},
     "output_type": "display_data"
    }
   ],
   "source": [
    "res_df_fname1 = 'SUSHI_short-SUSHIliq_158e17c.pickle'\n",
    "df1 = pd.read_pickle(os.path.join(LOCAL_DATA_DIR, 'backtest_res', res_df_fname1))\n",
    "df1.pv()"
   ]
  }
 ],
 "metadata": {
  "kernelspec": {
   "display_name": "Python 3 (ipykernel)",
   "language": "python",
   "name": "python3"
  },
  "language_info": {
   "codemirror_mode": {
    "name": "ipython",
    "version": 3
   },
   "file_extension": ".py",
   "mimetype": "text/x-python",
   "name": "python",
   "nbconvert_exporter": "python",
   "pygments_lexer": "ipython3",
   "version": "3.8.8"
  }
 },
 "nbformat": 4,
 "nbformat_minor": 5
}
