{
 "cells": [
  {
   "cell_type": "markdown",
   "id": "d243a9d6-2151-4960-93d8-6aee4662f9be",
   "metadata": {},
   "source": [
    "### check\n",
    "   * exchange balance of bitocin v.s. stables\n",
    "   * large transfer in of stables v.s. bitcoins -> large trading volume? -> cause price move?"
   ]
  },
  {
   "cell_type": "code",
   "execution_count": 1,
   "id": "91c71c2f-400e-44ee-aeb3-0de47035a868",
   "metadata": {},
   "outputs": [
    {
     "name": "stderr",
     "output_type": "stream",
     "text": [
      "C:\\Users\\Wang\\anaconda3\\lib\\site-packages\\fuzzywuzzy\\fuzz.py:11: UserWarning: Using slow pure-python SequenceMatcher. Install python-Levenshtein to remove this warning\n",
      "  warnings.warn('Using slow pure-python SequenceMatcher. Install python-Levenshtein to remove this warning')\n"
     ]
    },
    {
     "data": {
      "text/html": [
       "        <script type=\"text/javascript\">\n",
       "        window.PlotlyConfig = {MathJaxConfig: 'local'};\n",
       "        if (window.MathJax) {MathJax.Hub.Config({SVG: {font: \"STIX-Web\"}});}\n",
       "        if (typeof require !== 'undefined') {\n",
       "        require.undef(\"plotly\");\n",
       "        requirejs.config({\n",
       "            paths: {\n",
       "                'plotly': ['https://cdn.plot.ly/plotly-2.4.2.min']\n",
       "            }\n",
       "        });\n",
       "        require(['plotly'], function(Plotly) {\n",
       "            window._Plotly = Plotly;\n",
       "        });\n",
       "        }\n",
       "        </script>\n",
       "        "
      ]
     },
     "metadata": {},
     "output_type": "display_data"
    }
   ],
   "source": [
    "from cdcqr.data.glassnode import glassnode_data as gnd\n",
    "from cdcqr.ct.utils import plot2\n",
    "import pandas as pd\n",
    "import cdcqr.analytics.utils as autil \n",
    "from importlib import reload\n",
    "import seaborn as sns\n",
    "import matplotlib.pyplot as plt\n",
    "from cdcqr.analytics.utils import calculate_corr_pvalues\n",
    "from cdcqr.common.utils import LOCAL_DATA_DIR\n",
    "import os\n",
    "import numpy as np\n",
    "from cdcqr.backtest.vbt.runsignal import runsignal\n",
    "import cufflinks as cf\n",
    "cf.go_offline()\n",
    "cf.set_config_file(offline=False, world_readable=True)\n",
    "import time\n",
    "from IPython.display import Audio\n",
    "sound_file = '/core/tmp/ding.wav'\n",
    "%matplotlib inline\n",
    "\n",
    "from cdcqr.common.utils import parallel_jobs"
   ]
  },
  {
   "cell_type": "code",
   "execution_count": null,
   "id": "61864601-d6ac-4309-8856-0aeef6b3d0ed",
   "metadata": {},
   "outputs": [],
   "source": [
    "runsignal?"
   ]
  },
  {
   "cell_type": "code",
   "execution_count": 3,
   "id": "4c5dcf0f-1ff5-4e70-a0e3-fe67bf451422",
   "metadata": {},
   "outputs": [],
   "source": [
    "gn = gnd.GlassnodeData()"
   ]
  },
  {
   "cell_type": "code",
   "execution_count": 4,
   "id": "cf6d3f10-ea5a-4283-a275-b5834e5565e4",
   "metadata": {},
   "outputs": [
    {
     "data": {
      "text/plain": [
       "'10m'"
      ]
     },
     "execution_count": 4,
     "metadata": {},
     "output_type": "execute_result"
    }
   ],
   "source": [
    "gn.get_feature_best_resolutions('balance_exchanges')"
   ]
  },
  {
   "cell_type": "code",
   "execution_count": 5,
   "id": "b2f61f40-dd5b-4c02-8b91-0cb2b3d6fdcd",
   "metadata": {},
   "outputs": [
    {
     "data": {
      "text/plain": [
       "['GUSD', 'USDT', 'USDP', 'USDC', 'BUSD', 'USDK', 'sUSD', 'HUSD']"
      ]
     },
     "execution_count": 5,
     "metadata": {},
     "output_type": "execute_result"
    }
   ],
   "source": [
    "[x for x in gn.get_feature_assets('balance_exchanges') if 'USD' in x]"
   ]
  },
  {
   "cell_type": "code",
   "execution_count": 6,
   "id": "4575945f-0bb1-4015-8dd5-b9879bef1d4c",
   "metadata": {},
   "outputs": [],
   "source": [
    "reload(gnd)\n",
    "gn = gnd.GlassnodeData()"
   ]
  },
  {
   "cell_type": "code",
   "execution_count": 7,
   "id": "caf58a71-33b6-45b2-a580-397b6d34b905",
   "metadata": {},
   "outputs": [
    {
     "name": "stdout",
     "output_type": "stream",
     "text": [
      "loading market/price_usd_close asset=BTC, resolution=10m\n",
      "loading market/price_usd_close asset=USDT, resolution=10m\n",
      "loading market/price_usd_close asset=USDC, resolution=10m\n",
      "loading market/price_usd_close asset=BUSD, resolution=10m\n",
      "loading distribution/balance_exchanges asset=BTC, resolution=10m\n",
      "loading distribution/balance_exchanges asset=USDT, resolution=10m\n",
      "loading distribution/balance_exchanges asset=USDC, resolution=10m\n",
      "loading distribution/balance_exchanges asset=BUSD, resolution=10m\n"
     ]
    }
   ],
   "source": [
    "fs = ['price_usd_close', 'balance_exchanges']\n",
    "assets = ['BTC','USDT', 'USDC', 'BUSD']\n",
    "df = gn.load_features(fs, assets, resolution='10m')"
   ]
  },
  {
   "cell_type": "code",
   "execution_count": null,
   "id": "131d5042-ace2-4cfc-9827-cdbcd64fee43",
   "metadata": {},
   "outputs": [],
   "source": [
    "df[df.index>='20200101'][['USDT-balance_exchanges','USDC-balance_exchanges','BUSD-balance_exchanges']].plot.area()"
   ]
  },
  {
   "cell_type": "code",
   "execution_count": null,
   "id": "2f8e4fd2-a378-43db-8794-4fa0971ef9a0",
   "metadata": {},
   "outputs": [],
   "source": [
    "df1 = df[df.index>='20200101'].ffill().drop(['USDT-price_usd_close','USDC-price_usd_close','BUSD-price_usd_close'],axis=1)\n",
    "df1['stable-balance_exchanges'] = df['USDT-balance_exchanges']+df['USDC-balance_exchanges']+df['BUSD-balance_exchanges']\n",
    "df1 = df1[['BTC-price_usd_close', 'stable-balance_exchanges','BTC-balance_exchanges']]\n",
    "df1.head()"
   ]
  },
  {
   "cell_type": "code",
   "execution_count": null,
   "id": "523833e8-3ec5-4036-8405-27dd1f63cb81",
   "metadata": {},
   "outputs": [],
   "source": [
    "df1['BTC-balance_exchanges_MC'] = df1['BTC-price_usd_close'] * df1['BTC-balance_exchanges']"
   ]
  },
  {
   "cell_type": "code",
   "execution_count": null,
   "id": "b3091891-a3f0-4a94-a97c-7ef06cdd3474",
   "metadata": {},
   "outputs": [],
   "source": [
    "df1.plot2('BTC-balance_exchanges','stable-balance_exchanges')"
   ]
  },
  {
   "cell_type": "code",
   "execution_count": null,
   "id": "2189a84a-012a-4f96-9051-481852b6db2c",
   "metadata": {},
   "outputs": [],
   "source": [
    "df1.plot2('BTC-balance_exchanges_MC','stable-balance_exchanges')"
   ]
  },
  {
   "cell_type": "code",
   "execution_count": null,
   "id": "ff44df5a-c063-4897-a810-6b9baa609d58",
   "metadata": {},
   "outputs": [],
   "source": [
    "df1['BTCSSR'] = df1['BTC-balance_exchanges_MC']/df1['stable-balance_exchanges']\n",
    "df2 = df1.drop('BTC-balance_exchanges_MC', axis=1).dropna()"
   ]
  },
  {
   "cell_type": "code",
   "execution_count": null,
   "id": "dd9a8c17-7cc7-42bc-babb-34bc4ab64476",
   "metadata": {},
   "outputs": [],
   "source": [
    "fig, ax = plt.subplots()\n",
    "sns.heatmap(df2.corr(method='pearson'), annot=True, fmt='.4f', \n",
    "            cmap=plt.get_cmap('coolwarm'), cbar=False, ax=ax)"
   ]
  },
  {
   "cell_type": "code",
   "execution_count": null,
   "id": "ad9e6fda-d687-4f90-a21f-085fdc8b8a22",
   "metadata": {},
   "outputs": [],
   "source": [
    "df3 = df2.copy()\n",
    "df3['ret'] = df3['BTC-price_usd_close'].pct_change()\n",
    "df3['r+5'] = df3['BTC-price_usd_close'].pct_change(periods=5).shift(-5)\n",
    "df3['r+10'] = df3['BTC-price_usd_close'].pct_change(periods=10).shift(-10)\n",
    "df3['r+100'] = df3['BTC-price_usd_close'].pct_change(periods=100).shift(-100)\n",
    "\n",
    "df3['stable_bal_chg'] = df3['stable-balance_exchanges'].diff()\n",
    "df3['stable_bal_chg_lag1'] = df3['stable_bal_chg'].shift(1)\n",
    "df3['BTCSSR_lag1'] = df3['BTCSSR'].shift(1)\n",
    "df3['BTCSSR_chg'] = df3['BTCSSR'].diff()\n",
    "df3['BTCSSR_chg_lag1'] = df3['BTCSSR_chg'].shift(1)"
   ]
  },
  {
   "cell_type": "code",
   "execution_count": null,
   "id": "a7300698-7e3f-437c-8c0c-ac3599f2a4ea",
   "metadata": {},
   "outputs": [],
   "source": [
    "df3.dropna().count()"
   ]
  },
  {
   "cell_type": "code",
   "execution_count": null,
   "id": "169e6c44-f45a-40e1-8d1a-76bb32addc97",
   "metadata": {},
   "outputs": [],
   "source": [
    "df4 = df3.dropna()[['stable_bal_chg', 'stable_bal_chg_lag1', 'BTCSSR', 'BTCSSR_chg', 'BTCSSR_chg_lag1', 'ret', 'r+5', 'r+10', 'r+100']]"
   ]
  },
  {
   "cell_type": "code",
   "execution_count": null,
   "id": "67e706d5-f256-45f9-9409-328349bb3672",
   "metadata": {},
   "outputs": [],
   "source": [
    "df4.count()"
   ]
  },
  {
   "cell_type": "code",
   "execution_count": null,
   "id": "6581da6c-f174-4b3b-97cb-49e60b2063fa",
   "metadata": {},
   "outputs": [],
   "source": [
    "df4a = df4.where(~np.isinf(df4), 0)"
   ]
  },
  {
   "cell_type": "code",
   "execution_count": null,
   "id": "9769e57e-32b1-48c3-a127-f8373b2cf7f1",
   "metadata": {},
   "outputs": [],
   "source": [
    "fig, ax = plt.subplots()\n",
    "sns.heatmap(df4a.corr(method='pearson'), annot=True, fmt='.4f', \n",
    "            cmap=plt.get_cmap('coolwarm'), cbar=False, ax=ax)"
   ]
  },
  {
   "cell_type": "code",
   "execution_count": null,
   "id": "11c4a1ad-dcd2-4e1b-b410-3f32a8a27785",
   "metadata": {},
   "outputs": [],
   "source": [
    "calculate_corr_pvalues(df4a)"
   ]
  },
  {
   "cell_type": "markdown",
   "id": "945bcc1d-9999-4e28-9a6d-ea75a6971401",
   "metadata": {},
   "source": [
    "### Backtest"
   ]
  },
  {
   "cell_type": "code",
   "execution_count": null,
   "id": "ea27c947-0bea-4021-872d-602fbb59ee6b",
   "metadata": {},
   "outputs": [],
   "source": [
    "price = pd.read_pickle(os.path.join(LOCAL_DATA_DIR,'BTC-PERP@ftx.pickle'))"
   ]
  },
  {
   "cell_type": "code",
   "execution_count": null,
   "id": "c14d05df-a7ef-4650-ac83-05f5674d150f",
   "metadata": {},
   "outputs": [],
   "source": [
    "df4a.groupby(pd.cut(df4a['BTCSSR_chg_lag1'], 10)).agg({'ret': lambda x: x.mean(skipna=True)})"
   ]
  },
  {
   "cell_type": "code",
   "execution_count": null,
   "id": "ad6ca31c-8a18-4b0c-b461-e821f94df911",
   "metadata": {},
   "outputs": [],
   "source": [
    "df4a.head(2)"
   ]
  },
  {
   "cell_type": "code",
   "execution_count": null,
   "id": "952ee6c6-1769-4d5d-bddc-67e270492983",
   "metadata": {},
   "outputs": [],
   "source": [
    "lookback = 4000 # ~= 1 months\n",
    "df4a['BTCSSR_chg_lag1_mv4k'] = df4a['BTCSSR_chg_lag1'].rolling(lookback).mean()"
   ]
  },
  {
   "cell_type": "code",
   "execution_count": null,
   "id": "7f6c5baa-2f7a-434c-ae16-113bfc7e6a06",
   "metadata": {},
   "outputs": [],
   "source": [
    "t0 = time.time()\n",
    "pctrank = lambda x: pd.Series(x).rank(pct=True).iloc[-1]\n",
    "df4a['BTCSSR_chg_lag1_pctrank4k'] = df4a['BTCSSR_chg_lag1'].rolling(lookback).apply(pctrank)\n",
    "print(time.time()-t0)\n",
    "Audio(sound_file, autoplay=True)"
   ]
  },
  {
   "cell_type": "code",
   "execution_count": null,
   "id": "f3a44e56-8803-49fe-8401-fc4f089b7cba",
   "metadata": {},
   "outputs": [],
   "source": [
    "t0 = time.time()\n",
    "pctrank = lambda x: pd.Series(x).rank(pct=True).iloc[-1]\n",
    "df4a['BTCSSR_pctrank4k'] = df4a['BTCSSR'].rolling(lookback).apply(pctrank)\n",
    "print(time.time()-t0)\n",
    "Audio(sound_file, autoplay=True)"
   ]
  },
  {
   "cell_type": "code",
   "execution_count": null,
   "id": "a6200434-6eaa-4dc4-839a-6e1c6969ac89",
   "metadata": {},
   "outputs": [],
   "source": [
    "df4b = df4a[df4a.index>='20210101']"
   ]
  },
  {
   "cell_type": "code",
   "execution_count": null,
   "id": "a6fc9643-2145-47bb-a82e-ed706a105436",
   "metadata": {},
   "outputs": [],
   "source": [
    "df4b[['ret','r+5','r+10','r+100']].describe()"
   ]
  },
  {
   "cell_type": "code",
   "execution_count": null,
   "id": "ad2d9761-11f5-40d5-9962-602529ce3164",
   "metadata": {},
   "outputs": [],
   "source": [
    "df4b_gp = df4b.groupby(pd.cut(df4b['BTCSSR_chg_lag1_pctrank4k'], 50)).agg({'ret': lambda x: x.mean(skipna=True),\n",
    "                                                                 'r+5': lambda x: x.mean(skipna=True), \n",
    "                                                                 'r+10': lambda x: x.mean(skipna=True),\n",
    "                                                                 'r+100': lambda x: x.mean(skipna=True)})\n",
    "df4b_gp.plot()"
   ]
  },
  {
   "cell_type": "code",
   "execution_count": null,
   "id": "14f8103c-eea7-4cdb-bc57-f7ec92494e0d",
   "metadata": {},
   "outputs": [],
   "source": [
    "df4b.groupby(pd.cut(df4b['BTCSSR_chg_lag1_pctrank4k'], 20)).agg({'ret': lambda x: x.mean(skipna=True),\n",
    "                                                                 'r+5': lambda x: x.mean(skipna=True), \n",
    "                                                                 'r+10': lambda x: x.mean(skipna=True),\n",
    "                                                                 'r+100': lambda x: x.mean(skipna=True)})"
   ]
  },
  {
   "cell_type": "code",
   "execution_count": null,
   "id": "b01338d6-02e0-4681-bc1d-9002657cb8c8",
   "metadata": {},
   "outputs": [],
   "source": [
    "df4b_gp2 = df4b.groupby(pd.cut(df4b['BTCSSR_pctrank4k'],50)).agg({'ret': lambda x: x.mean(skipna=True),\n",
    "                                                                 'r+5': lambda x: x.mean(skipna=True), \n",
    "                                                                 'r+10': lambda x: x.mean(skipna=True),\n",
    "                                                                 'r+100': lambda x: x.mean(skipna=True)})\n",
    "df4b_gp2.plot()"
   ]
  },
  {
   "cell_type": "code",
   "execution_count": null,
   "id": "2f857348-529b-43cd-b570-758de6df1bc2",
   "metadata": {},
   "outputs": [],
   "source": [
    "freq='1Min'\n",
    "sl=4\n",
    "tp=5\n",
    "p=price.resample('1Min').last().ffill()\n",
    "request = ['pf','backtest']"
   ]
  },
  {
   "cell_type": "code",
   "execution_count": null,
   "id": "0a8df6e7-b31f-424a-a52a-50c0b01b212e",
   "metadata": {
    "scrolled": true,
    "tags": []
   },
   "outputs": [],
   "source": [
    "t0 = time.time()\n",
    "signalid = 'long-BTCSSR_pctrank4k'\n",
    "feature = 'BTCSSR_pctrank4k'\n",
    "short=False"
   ]
  },
  {
   "cell_type": "code",
   "execution_count": null,
   "id": "cf4cbd0a-4ab3-498a-8dea-5e7bd90b5160",
   "metadata": {
    "scrolled": true,
    "tags": []
   },
   "outputs": [],
   "source": [
    "res=[]\n",
    "price = p.copy()\n",
    "counter0 = 0\n",
    "for qtl in [0.995, 0.99, 0.975, 0.96]:\n",
    "    signal = df4b[feature]>qtl # rolling max, keep the singal for a period (1 hour), good for combining with other signals\n",
    "    signal = signal.reindex(p.index).ffill()\n",
    "    for tp in [3,5,7, 10, 15, 20]:\n",
    "        for sl in [0.5, 1, 2, 5, 10, 15, 20]:\n",
    "            counter0 = counter0 + 1\n",
    "            print(f'{counter0} : tp:{tp} sl:{sl} id:{signalid}')\n",
    "            for n1 in [1,10,100]: # ignore this first\n",
    "                for n2 in [101, 200, 1000]: # \n",
    "                    ressig=runsignal(price,signal=signal,tp=tp,sl=sl,ts=sl,n1=n1,n2=n2,rsil=30,rsih=50,rsilag=14,maf=5,mas=15,short=short,size=np.inf,fees=0.0007,freq='1Min',init_cash=10000,request=['pf','backtest'])\n",
    "                    for k in ressig:\n",
    "                        resd={\"signalid\":signalid,\"qtl\":qtl,\"short\":short,\"tp\":tp,\"sl\":sl,'k':k,'sr':ressig[k].sharpe_ratio(),'n1':n1,'n2':n2,'tr':ressig[k].total_return(),'ntrades':ressig[k].trades.count()/46.5} # rescale to number of weeks\n",
    "                        res.append(resd)\n",
    "print(time.time()-t0)\n",
    "Audio(sound_file, autoplay=True)"
   ]
  },
  {
   "cell_type": "code",
   "execution_count": null,
   "id": "00b8d388-cab7-4e1d-b748-d1ec5bf34f09",
   "metadata": {},
   "outputs": [],
   "source": [
    "signal.to_frame().save('sample_signal')"
   ]
  },
  {
   "cell_type": "markdown",
   "id": "84b62eec-1773-4465-a5b6-2119f1c5c819",
   "metadata": {
    "tags": []
   },
   "source": [
    "### convert into single loop"
   ]
  },
  {
   "cell_type": "code",
   "execution_count": null,
   "id": "5a899e72-d992-4106-bf83-11f30e8e9c70",
   "metadata": {},
   "outputs": [],
   "source": [
    "qtl = 0.99\n",
    "signal = df4b[feature]>qtl # rolling max, keep the singal for a period (1 hour), good for combining with other signals\n",
    "signal = signal.reindex(p.index).ffill()\n",
    "\n",
    "signal"
   ]
  },
  {
   "cell_type": "code",
   "execution_count": null,
   "id": "7a7fd389-c20d-4d26-a3ab-fe39b3291c68",
   "metadata": {},
   "outputs": [],
   "source": [
    "backtest_configs = []\n",
    "for tp in [3, 5]:  \n",
    "    for sl in [1, 2]:\n",
    "        for n1 in [1,10]:\n",
    "            for n2 in [101, 200]:\n",
    "                param_dict = {}\n",
    "                param_dict['tp'] = tp\n",
    "                param_dict['sl'] = sl\n",
    "                param_dict['n1'] = n1\n",
    "                param_dict['n2'] = n2\n",
    "                backtest_configs.append(param_dict)"
   ]
  },
  {
   "cell_type": "code",
   "execution_count": null,
   "id": "8144d413-6e97-49a7-aff6-3226a2296b8f",
   "metadata": {},
   "outputs": [],
   "source": [
    "import json\n",
    "json.dumps(backtest_configs[1])"
   ]
  },
  {
   "cell_type": "code",
   "execution_count": null,
   "id": "62556650-8ec2-41f8-b936-9dbb8317c8d9",
   "metadata": {},
   "outputs": [],
   "source": [
    "hash(tuple(sorted(backtest_configs[1].items())))"
   ]
  },
  {
   "cell_type": "code",
   "execution_count": null,
   "id": "14744fd8-84a1-4dd9-bc1e-7b111e4a55d1",
   "metadata": {},
   "outputs": [],
   "source": [
    "def partial_runsignal(param_dict):\n",
    "    tp = param_dict['tp']\n",
    "    sl = param_dict['sl']\n",
    "    n1 = param_dict['n1']\n",
    "    n2 = param_dict['n2']\n",
    "    ressig=runsignal(price,signal=signal,tp=tp,sl=sl,ts=sl,n1=n1,n2=n2,rsil=30,rsih=50,rsilag=14,\n",
    "                 maf=5,mas=15,short=short,size=np.inf,fees=0.0007,freq='1Min',init_cash=10000,request=['pf','backtest'])\n",
    "    for k in ressig:\n",
    "        resd={\"signalid\":signalid,\"qtl\":qtl,\"short\":short,\"tp\":tp,\"sl\":sl,'k':k,\n",
    "              'sr':ressig[k].sharpe_ratio(),'n1':n1,'n2':n2,'tr':ressig[k].total_return(),'ntrades':ressig[k].trades.count()/46.5} # rescale to number of weeks\n",
    "    return resd"
   ]
  },
  {
   "cell_type": "code",
   "execution_count": null,
   "id": "463365d4-dbe6-4209-b8a0-f7895d799857",
   "metadata": {},
   "outputs": [],
   "source": [
    "from cdcqr.backtest.alfafactory import runsignal\n"
   ]
  },
  {
   "cell_type": "code",
   "execution_count": null,
   "id": "f20f2520-dc78-44d0-8151-191f20cc94d0",
   "metadata": {},
   "outputs": [],
   "source": [
    "ret = parallel_jobs(partial_runsignal, backtest_configs)\n",
    "\n"
   ]
  },
  {
   "cell_type": "code",
   "execution_count": null,
   "id": "1431e28b-90ce-4419-baba-0f26ee94f4b4",
   "metadata": {},
   "outputs": [],
   "source": [
    "pd.DataFrame(backtest_configs[1].values()).save('rest')"
   ]
  },
  {
   "cell_type": "code",
   "execution_count": null,
   "id": "236605ea-eddd-4bc3-89e7-3bf9b493c0cd",
   "metadata": {},
   "outputs": [],
   "source": [
    "partial_runsignal"
   ]
  },
  {
   "cell_type": "code",
   "execution_count": null,
   "id": "aa66fc46-0bb9-4292-9a91-da00689915f3",
   "metadata": {},
   "outputs": [],
   "source": [
    "t0 = time.time()\n",
    "signalid = 'long-BTCSSR_pctrank4k'\n",
    "feature = 'BTCSSR_pctrank4k'\n",
    "short=False\n",
    "\n",
    "res=[]\n",
    "price = p.copy()\n",
    "counter0 = 0\n",
    "for qtl in [0.995, 0.99, 0.975, 0.96]:\n",
    "    signal = df4b[feature]>qtl # rolling max, keep the singal for a period (1 hour), good for combining with other signals\n",
    "    signal = signal.reindex(p.index).ffill()\n",
    "    for tp in [3,5,7, 10, 15, 20]:\n",
    "        for sl in [0.5, 1, 2, 5, 10, 15, 20]:\n",
    "            counter0 = counter0 + 1\n",
    "            print(f'{counter0} : tp:{tp} sl:{sl} id:{signalid}')\n",
    "            for n1 in [1,10,100]: # ignore this first\n",
    "                for n2 in [101, 200, 1000]: # \n",
    "                    ressig=runsignal(price,signal=signal,tp=tp,sl=sl,ts=sl,n1=n1,n2=n2,rsil=30,rsih=50,rsilag=14,maf=5,mas=15,short=short,size=np.inf,fees=0.0007,freq='1Min',init_cash=10000,request=['pf','backtest'])\n",
    "                    for k in ressig:\n",
    "                        resd={\"signalid\":signalid,\"qtl\":qtl,\"short\":short,\"tp\":tp,\"sl\":sl,'k':k,'sr':ressig[k].sharpe_ratio(),'n1':n1,'n2':n2,'tr':ressig[k].total_return(),'ntrades':ressig[k].trades.count()/46.5} # rescale to number of weeks\n",
    "                        res.append(resd)\n",
    "print(time.time()-t0)\n",
    "Audio(sound_file, autoplay=True)"
   ]
  },
  {
   "cell_type": "code",
   "execution_count": null,
   "id": "f54f3e5c-85c2-4e9d-90f7-e8b951599546",
   "metadata": {
    "scrolled": true,
    "tags": []
   },
   "outputs": [],
   "source": [
    "tp=10\n",
    "sl=10\n",
    "n1=1\n",
    "n2=1000\n",
    "qtl=0.96\n",
    "signal = df4b[feature]>qtl # rolling max, keep the singal for a period (1 hour), good for combining with other signals\n",
    "signal = signal.reindex(p.index).ffill()\n",
    "\n",
    "ressig=runsignal(price,signal=signal,tp=tp,sl=sl,ts=sl,n1=n1,n2=n2,rsil=30,rsih=50,rsilag=14,maf=5,mas=15,short=short,size=np.inf,fees=0.0007,freq='1Min',init_cash=10000,request=['pf','backtest'])"
   ]
  },
  {
   "cell_type": "code",
   "execution_count": null,
   "id": "64b6e407-03b0-487a-94a9-2f1bf9945b98",
   "metadata": {
    "tags": []
   },
   "outputs": [],
   "source": [
    "ressig['n_n_pf'].plot(subplots=['drawdowns','trade_pnl','cum_returns'])"
   ]
  },
  {
   "cell_type": "code",
   "execution_count": null,
   "id": "2ca78960-ea2e-4c32-8dbd-f007e8a58ec9",
   "metadata": {},
   "outputs": [],
   "source": []
  },
  {
   "cell_type": "code",
   "execution_count": null,
   "id": "0f9e635d-4f9a-4b3b-b773-dc2515ab0790",
   "metadata": {
    "scrolled": true,
    "tags": []
   },
   "outputs": [],
   "source": [
    "t0 = time.time()\n",
    "signalid = 'short-BTCSSR_chg_lag1'\n",
    "feature = 'BTCSSR_chg_lag1_pctrank4k'\n",
    "short=False\n",
    "\n",
    "res=[]\n",
    "price = p.copy()\n",
    "counter0 = 0\n",
    "for qtl in [0.99, 0.975, 0.95, 0.925]:\n",
    "    signal = df4b[feature]>qtl\n",
    "    signal = signal.reindex(p.index).ffill()\n",
    "    for tp in [3,5,7]:\n",
    "        for sl in [0.5, 1, 2]:\n",
    "            counter0 = counter0 + 1\n",
    "            print(f'{counter0} : tp:{tp} sl:{sl} id:{signalid}')\n",
    "            for n1 in [1,10,100]: #\n",
    "                for n2 in [101, 200, 1000]:\n",
    "                    ressig=runsignal(price,signal=signal,tp=tp,sl=sl,ts=sl,n1=n1,n2=n2,rsil=30,rsih=50,rsilag=14,maf=5,mas=15,short=short,size=np.inf,fees=0.0007,freq='1Min',init_cash=10000,request=['pf','backtest'])\n",
    "                    for k in ressig:\n",
    "                        resd={\"signalid\":signalid,\"qtl\":qtl,\"short\":short,\"tp\":tp,\"sl\":sl,'k':k,'sr':ressig[k].sharpe_ratio(),'n1':n1,'n2':n2,'tr':ressig[k].total_return(),'ntrades':ressig[k].trades.count()/46.5} # rescale to number of weeks\n",
    "                        res.append(resd)\n",
    "print(time.time()-t0)\n",
    "Audio(sound_file, autoplay=True)"
   ]
  },
  {
   "cell_type": "code",
   "execution_count": null,
   "id": "2417626b-7ff0-4d10-aeba-13cf15810685",
   "metadata": {},
   "outputs": [],
   "source": [
    "print(time.time()-t0)"
   ]
  },
  {
   "cell_type": "code",
   "execution_count": null,
   "id": "ba4f0534-00ac-466d-a0dc-548ae4f0a21d",
   "metadata": {},
   "outputs": [],
   "source": [
    "res_df = pd.DataFrame(res)"
   ]
  },
  {
   "cell_type": "code",
   "execution_count": null,
   "id": "97880cee-0552-41fc-bcd0-a94d1cb7630f",
   "metadata": {},
   "outputs": [],
   "source": [
    "res_df['short'].value_counts()"
   ]
  },
  {
   "cell_type": "code",
   "execution_count": null,
   "id": "aaf6cee1-2d94-4b72-baf0-53c4919059dd",
   "metadata": {},
   "outputs": [],
   "source": [
    "res_df.save('long-BTCSSR_pctrank4k_res_df')"
   ]
  },
  {
   "cell_type": "code",
   "execution_count": null,
   "id": "ecb11cc9-2a35-4b9c-adda-d2eda5814cb0",
   "metadata": {},
   "outputs": [],
   "source": [
    "res_df.pv()"
   ]
  },
  {
   "cell_type": "code",
   "execution_count": null,
   "id": "6e29e9e2-15f3-4c18-95b2-ca61556a1cd3",
   "metadata": {
    "tags": []
   },
   "outputs": [],
   "source": [
    "res_df.pv()"
   ]
  },
  {
   "cell_type": "markdown",
   "id": "0301d251-19ee-455a-b2bc-6dc1831e2c2c",
   "metadata": {
    "tags": []
   },
   "source": [
    "res_df.to_pickle()"
   ]
  },
  {
   "cell_type": "markdown",
   "id": "39b3912f-5671-42ed-b944-9391d6c30322",
   "metadata": {
    "tags": []
   },
   "source": [
    "## obv \n",
    "    * extend range for tp and sl\n",
    "    * larger set of n1 and n2 seems good?"
   ]
  },
  {
   "cell_type": "code",
   "execution_count": null,
   "id": "d07e41ae-6151-4bfb-90ee-0dcc90b8df52",
   "metadata": {
    "scrolled": true,
    "tags": []
   },
   "outputs": [],
   "source": []
  },
  {
   "cell_type": "code",
   "execution_count": null,
   "id": "660d53fd-2810-4311-819b-f0da327b2c7e",
   "metadata": {
    "scrolled": true,
    "tags": []
   },
   "outputs": [],
   "source": [
    "dfr = pd.DataFrame(res)"
   ]
  },
  {
   "cell_type": "code",
   "execution_count": null,
   "id": "71766941-1ab5-40ce-bcb2-05288ba7239d",
   "metadata": {},
   "outputs": [],
   "source": [
    "# dfr.to_pickle(os.path.join(LOCAL_DATA_DIR, 'ssr_bt_res_1.pkl'))"
   ]
  },
  {
   "cell_type": "code",
   "execution_count": null,
   "id": "399d2663-26b3-4e85-bc0d-1b23f90931c3",
   "metadata": {},
   "outputs": [],
   "source": [
    "dfr.shape"
   ]
  },
  {
   "cell_type": "code",
   "execution_count": null,
   "id": "fe745c16-b791-42b1-97a1-c5f9a949e476",
   "metadata": {},
   "outputs": [],
   "source": [
    "dfr.pv()"
   ]
  },
  {
   "cell_type": "code",
   "execution_count": null,
   "id": "f6a65c90-aaa8-46be-9a54-988f2a9b1d70",
   "metadata": {},
   "outputs": [],
   "source": [
    "dfr['ma_tpsl_pf'].plot(subplots=['drawdowns','trade_pnl','cum_returns'])"
   ]
  },
  {
   "cell_type": "code",
   "execution_count": null,
   "id": "688f77d4-6e4c-4840-ae3f-c10777a63dec",
   "metadata": {},
   "outputs": [],
   "source": [
    "# select subset and check\n",
    "tp = 3\n",
    "sl = 1\n",
    "ts = 1\n",
    "nn = 100\n",
    "signal = getsignal3(0.99,20, 0.0,0)['s']\n",
    "price = price0\n",
    "short=True\n",
    "ressig=runsignal(price,signal=signal,tp=tp,sl=sl,ts=ts,n1=1,n2=60,rsil=30,rsih=50,rsilag=14,maf=5,mas=15,short=short,size=np.inf,fees=0.0007,freq='1Min',init_cash=10000,request=['pf'])\n",
    "ressig['ma_tpsl_pf'].plot(subplots=['drawdowns','trade_pnl','cum_returns'])"
   ]
  },
  {
   "cell_type": "code",
   "execution_count": null,
   "id": "a4a9e7f0-8440-4b39-bafe-2ffcb28b19b3",
   "metadata": {},
   "outputs": [],
   "source": []
  },
  {
   "cell_type": "code",
   "execution_count": null,
   "id": "4df2c673-c369-4ebf-9f8b-e6a01fab1d93",
   "metadata": {
    "scrolled": true,
    "tags": []
   },
   "outputs": [],
   "source": [
    "t0 = time.time()\n",
    "signalid = 'short-BTCSSR_pctrank4k'\n",
    "feature = 'BTCSSR_pctrank4k'\n",
    "short=True\n",
    "\n",
    "res=[]\n",
    "price = p.copy()\n",
    "counter0 = 0\n",
    "for qtl in [0.005, 0.01, 0.02, 0.03, 0.05]:\n",
    "    signal = df4b[feature]<qtl # rolling max, keep the singal for a period (1 hour), good for combining with other signals\n",
    "    signal = signal.reindex(p.index).ffill()\n",
    "    for tp in [3,5,7, 10, 15, 20]:\n",
    "        for sl in [0.5, 1, 2, 5, 10, 15, 20]:\n",
    "            counter0 = counter0 + 1\n",
    "            print(f'{counter0} : tp:{tp} sl:{sl} id:{signalid}')\n",
    "            for n1 in [1,10,100]: # ignore this first\n",
    "                for n2 in [101, 200, 1000]: # \n",
    "                    ressig=runsignal(price,signal=signal,tp=tp,sl=sl,ts=sl,n1=n1,n2=n2,rsil=30,rsih=50,rsilag=14,maf=5,mas=15,short=short,size=np.inf,fees=0.0007,freq='1Min',init_cash=10000,request=['pf','backtest'])\n",
    "                    for k in ressig:\n",
    "                        resd={\"signalid\":signalid,\"qtl\":qtl,\"short\":short,\"tp\":tp,\"sl\":sl,'k':k,'sr':ressig[k].sharpe_ratio(),'n1':n1,'n2':n2,'tr':ressig[k].total_return(),'ntrades':ressig[k].trades.count()/46.5} # rescale to number of weeks\n",
    "                        res.append(resd)\n",
    "print(time.time()-t0)\n",
    "Audio(sound_file, autoplay=True)"
   ]
  },
  {
   "cell_type": "code",
   "execution_count": null,
   "id": "0a70592b-55ab-4c84-8c50-162d16bb648e",
   "metadata": {},
   "outputs": [],
   "source": [
    "res_df_s = pd.DataFrame(res)"
   ]
  },
  {
   "cell_type": "code",
   "execution_count": null,
   "id": "f7fa0b06-06c0-4d64-afd8-ba4ddc6f1865",
   "metadata": {},
   "outputs": [],
   "source": [
    "res_df_s.save('short-BTCSSR_pctrank4k_res_df')"
   ]
  },
  {
   "cell_type": "code",
   "execution_count": null,
   "id": "249b2d39-92a0-4d13-8db8-525456d7ab8f",
   "metadata": {},
   "outputs": [],
   "source": [
    "res_df_s.pv()"
   ]
  },
  {
   "cell_type": "code",
   "execution_count": null,
   "id": "6250a4ea-b19e-41d2-aa29-61126cab3dca",
   "metadata": {},
   "outputs": [],
   "source": [
    "a = []\n",
    "b = [1,2]\n",
    "\n",
    "a.extend(b)\n",
    "a.extend(b)"
   ]
  }
 ],
 "metadata": {
  "kernelspec": {
   "display_name": "Python 3 (ipykernel)",
   "language": "python",
   "name": "python3"
  },
  "language_info": {
   "codemirror_mode": {
    "name": "ipython",
    "version": 3
   },
   "file_extension": ".py",
   "mimetype": "text/x-python",
   "name": "python",
   "nbconvert_exporter": "python",
   "pygments_lexer": "ipython3",
   "version": "3.8.8"
  }
 },
 "nbformat": 4,
 "nbformat_minor": 5
}
