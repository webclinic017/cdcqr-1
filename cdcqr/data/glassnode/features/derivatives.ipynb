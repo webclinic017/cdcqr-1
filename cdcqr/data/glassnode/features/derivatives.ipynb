{
 "cells": [
  {
   "cell_type": "code",
   "execution_count": 22,
   "id": "060a2261-8898-48d8-b784-79ca22879ccd",
   "metadata": {},
   "outputs": [],
   "source": [
    "from cdcqr.data.glassnode import glassnode_data as gnd\n",
    "from cdcqr.ct.utils import plot2\n",
    "import pandas as pd\n",
    "import cdcqr.analytics.utils as autil \n",
    "from importlib import reload\n",
    "pctrank = lambda x: pd.Series(x).rank(pct=True).iloc[-1]\n",
    "import sys\n",
    "sys.path.append('/core/github/cryptoderiv-quant/')\n",
    "from ct.alfafactory import runsignal\n",
    "import numpy as np\n",
    "import os\n",
    "from cdcqr.common.utils import LOCAL_DATA_DIR\n"
   ]
  },
  {
   "cell_type": "code",
   "execution_count": 2,
   "id": "f11c37f0-2c64-4e3e-90bc-7e3437d0a22a",
   "metadata": {},
   "outputs": [],
   "source": [
    "gn = gnd.GlassnodeData()"
   ]
  },
  {
   "cell_type": "markdown",
   "id": "d6b6b563-f91e-4602-9ccc-b9ceaf7d9fed",
   "metadata": {},
   "source": [
    "### BTC"
   ]
  },
  {
   "cell_type": "code",
   "execution_count": 3,
   "id": "29ff0596-3208-429b-a7ed-b1d8147ba6df",
   "metadata": {},
   "outputs": [
    {
     "name": "stdout",
     "output_type": "stream",
     "text": [
      "loading market/price_usd_close asset=BTC, resolution=10m\n",
      "loading market/price_usd_close asset=ETH, resolution=10m\n",
      "loading derivatives/futures_funding_rate_perpetual asset=BTC, resolution=10m\n",
      "loading derivatives/futures_funding_rate_perpetual asset=ETH, resolution=10m\n"
     ]
    },
    {
     "data": {
      "text/html": [
       "<div>\n",
       "<style scoped>\n",
       "    .dataframe tbody tr th:only-of-type {\n",
       "        vertical-align: middle;\n",
       "    }\n",
       "\n",
       "    .dataframe tbody tr th {\n",
       "        vertical-align: top;\n",
       "    }\n",
       "\n",
       "    .dataframe thead th {\n",
       "        text-align: right;\n",
       "    }\n",
       "</style>\n",
       "<table border=\"1\" class=\"dataframe\">\n",
       "  <thead>\n",
       "    <tr style=\"text-align: right;\">\n",
       "      <th></th>\n",
       "      <th>BTC-price_usd_close</th>\n",
       "      <th>ETH-price_usd_close</th>\n",
       "      <th>BTC-FuturesFundingRatePerpetual</th>\n",
       "      <th>ETH-FuturesFundingRatePerpetual</th>\n",
       "    </tr>\n",
       "    <tr>\n",
       "      <th>t</th>\n",
       "      <th></th>\n",
       "      <th></th>\n",
       "      <th></th>\n",
       "      <th></th>\n",
       "    </tr>\n",
       "  </thead>\n",
       "  <tbody>\n",
       "    <tr>\n",
       "      <th>2010-07-17 23:00:00</th>\n",
       "      <td>0.04951</td>\n",
       "      <td>NaN</td>\n",
       "      <td>NaN</td>\n",
       "      <td>NaN</td>\n",
       "    </tr>\n",
       "    <tr>\n",
       "      <th>2010-07-17 23:10:00</th>\n",
       "      <td>NaN</td>\n",
       "      <td>NaN</td>\n",
       "      <td>NaN</td>\n",
       "      <td>NaN</td>\n",
       "    </tr>\n",
       "  </tbody>\n",
       "</table>\n",
       "</div>"
      ],
      "text/plain": [
       "                     BTC-price_usd_close  ETH-price_usd_close  \\\n",
       "t                                                               \n",
       "2010-07-17 23:00:00              0.04951                  NaN   \n",
       "2010-07-17 23:10:00                  NaN                  NaN   \n",
       "\n",
       "                     BTC-FuturesFundingRatePerpetual  \\\n",
       "t                                                      \n",
       "2010-07-17 23:00:00                              NaN   \n",
       "2010-07-17 23:10:00                              NaN   \n",
       "\n",
       "                     ETH-FuturesFundingRatePerpetual  \n",
       "t                                                     \n",
       "2010-07-17 23:00:00                              NaN  \n",
       "2010-07-17 23:10:00                              NaN  "
      ]
     },
     "execution_count": 3,
     "metadata": {},
     "output_type": "execute_result"
    }
   ],
   "source": [
    "fs =  ['price_usd_close','FuturesFundingRatePerpetual']\n",
    "a = ['BTC','ETH']\n",
    "#i = '10m'\n",
    "df = gn.load_features(fs,a)\n",
    "df.head(2)"
   ]
  },
  {
   "cell_type": "code",
   "execution_count": 4,
   "id": "08259255-0d6d-4bbb-8ff3-20209fa074e2",
   "metadata": {},
   "outputs": [
    {
     "data": {
      "text/plain": [
       "['BTC-price_usd_close',\n",
       " 'ETH-price_usd_close',\n",
       " 'BTC-FuturesFundingRatePerpetual',\n",
       " 'ETH-FuturesFundingRatePerpetual']"
      ]
     },
     "execution_count": 4,
     "metadata": {},
     "output_type": "execute_result"
    }
   ],
   "source": [
    "cols = list(df.columns)\n",
    "cols"
   ]
  },
  {
   "cell_type": "code",
   "execution_count": 5,
   "id": "9a99dfc0-b979-4d35-919b-56a0fc27499d",
   "metadata": {},
   "outputs": [
    {
     "data": {
      "text/html": [
       "<div>\n",
       "<style scoped>\n",
       "    .dataframe tbody tr th:only-of-type {\n",
       "        vertical-align: middle;\n",
       "    }\n",
       "\n",
       "    .dataframe tbody tr th {\n",
       "        vertical-align: top;\n",
       "    }\n",
       "\n",
       "    .dataframe thead th {\n",
       "        text-align: right;\n",
       "    }\n",
       "</style>\n",
       "<table border=\"1\" class=\"dataframe\">\n",
       "  <thead>\n",
       "    <tr style=\"text-align: right;\">\n",
       "      <th></th>\n",
       "      <th>BTC-price_usd_close</th>\n",
       "      <th>ETH-price_usd_close</th>\n",
       "      <th>BTC-FuturesFundingRatePerpetual</th>\n",
       "      <th>ETH-FuturesFundingRatePerpetual</th>\n",
       "    </tr>\n",
       "    <tr>\n",
       "      <th>t</th>\n",
       "      <th></th>\n",
       "      <th></th>\n",
       "      <th></th>\n",
       "      <th></th>\n",
       "    </tr>\n",
       "  </thead>\n",
       "  <tbody>\n",
       "    <tr>\n",
       "      <th>2021-01-01 00:00:00</th>\n",
       "      <td>29016.647624</td>\n",
       "      <td>738.475746</td>\n",
       "      <td>0.000039</td>\n",
       "      <td>0.000081</td>\n",
       "    </tr>\n",
       "    <tr>\n",
       "      <th>2021-01-01 00:10:00</th>\n",
       "      <td>28866.991978</td>\n",
       "      <td>733.387571</td>\n",
       "      <td>0.000038</td>\n",
       "      <td>0.000079</td>\n",
       "    </tr>\n",
       "  </tbody>\n",
       "</table>\n",
       "</div>"
      ],
      "text/plain": [
       "                     BTC-price_usd_close  ETH-price_usd_close  \\\n",
       "t                                                               \n",
       "2021-01-01 00:00:00         29016.647624           738.475746   \n",
       "2021-01-01 00:10:00         28866.991978           733.387571   \n",
       "\n",
       "                     BTC-FuturesFundingRatePerpetual  \\\n",
       "t                                                      \n",
       "2021-01-01 00:00:00                         0.000039   \n",
       "2021-01-01 00:10:00                         0.000038   \n",
       "\n",
       "                     ETH-FuturesFundingRatePerpetual  \n",
       "t                                                     \n",
       "2021-01-01 00:00:00                         0.000081  \n",
       "2021-01-01 00:10:00                         0.000079  "
      ]
     },
     "metadata": {},
     "output_type": "display_data"
    },
    {
     "name": "stderr",
     "output_type": "stream",
     "text": [
      "C:\\Users\\Wang\\anaconda3\\lib\\site-packages\\numpy\\core\\_asarray.py:102: VisibleDeprecationWarning: Creating an ndarray from ragged nested sequences (which is a list-or-tuple of lists-or-tuples-or ndarrays with different lengths or shapes) is deprecated. If you meant to do this, you must specify 'dtype=object' when creating the ndarray.\n",
      "  return array(a, dtype, copy=False, order=order)\n"
     ]
    },
    {
     "data": {
      "image/png": "[encoded data removed]",
      "text/plain": [
       "<Figure size 720x360 with 2 Axes>"
      ]
     },
     "metadata": {
      "needs_background": "light"
     },
     "output_type": "display_data"
    }
   ],
   "source": [
    "df1 = df[df.index>='20210101']\n",
    "display(df1.head(2))\n",
    "df1.plot2(cols[0],cols[1:3])"
   ]
  },
  {
   "cell_type": "code",
   "execution_count": null,
   "id": "c01ae9c3-5c38-4836-8076-9d1aef5678b6",
   "metadata": {},
   "outputs": [],
   "source": [
    "reload(autil)\n",
    "feature_raw = '{}_futures_funding_rate_perpetual'.format(a)\n",
    "feature_normalized = feature_raw\n",
    "target = '{}_price_usd_close'.format(a)\n",
    "_ = autil.ts_eda(df1, feature_raw, feature_normalized, target, save_fig=True)"
   ]
  },
  {
   "cell_type": "markdown",
   "id": "c3b67153-2260-4478-b9a3-5b23320fee88",
   "metadata": {},
   "source": [
    "## backtest"
   ]
  },
  {
   "cell_type": "code",
   "execution_count": 13,
   "id": "5f16b5c8-a503-491e-9f65-a46cbe7c6dd8",
   "metadata": {},
   "outputs": [
    {
     "data": {
      "text/html": [
       "<div>\n",
       "<style scoped>\n",
       "    .dataframe tbody tr th:only-of-type {\n",
       "        vertical-align: middle;\n",
       "    }\n",
       "\n",
       "    .dataframe tbody tr th {\n",
       "        vertical-align: top;\n",
       "    }\n",
       "\n",
       "    .dataframe thead th {\n",
       "        text-align: right;\n",
       "    }\n",
       "</style>\n",
       "<table border=\"1\" class=\"dataframe\">\n",
       "  <thead>\n",
       "    <tr style=\"text-align: right;\">\n",
       "      <th></th>\n",
       "      <th>BTC-price_usd_close</th>\n",
       "      <th>ETH-price_usd_close</th>\n",
       "      <th>BTC-FuturesFundingRatePerpetual</th>\n",
       "      <th>ETH-FuturesFundingRatePerpetual</th>\n",
       "      <th>signal</th>\n",
       "    </tr>\n",
       "    <tr>\n",
       "      <th>t</th>\n",
       "      <th></th>\n",
       "      <th></th>\n",
       "      <th></th>\n",
       "      <th></th>\n",
       "      <th></th>\n",
       "    </tr>\n",
       "  </thead>\n",
       "  <tbody>\n",
       "    <tr>\n",
       "      <th>2021-01-01 00:00:00</th>\n",
       "      <td>29016.647624</td>\n",
       "      <td>738.475746</td>\n",
       "      <td>0.000039</td>\n",
       "      <td>0.000081</td>\n",
       "      <td>NaN</td>\n",
       "    </tr>\n",
       "    <tr>\n",
       "      <th>2021-01-01 00:10:00</th>\n",
       "      <td>28866.991978</td>\n",
       "      <td>733.387571</td>\n",
       "      <td>0.000038</td>\n",
       "      <td>0.000079</td>\n",
       "      <td>NaN</td>\n",
       "    </tr>\n",
       "    <tr>\n",
       "      <th>2021-01-01 00:20:00</th>\n",
       "      <td>28822.724489</td>\n",
       "      <td>731.379848</td>\n",
       "      <td>0.000037</td>\n",
       "      <td>0.000077</td>\n",
       "      <td>NaN</td>\n",
       "    </tr>\n",
       "    <tr>\n",
       "      <th>2021-01-01 00:30:00</th>\n",
       "      <td>28914.266412</td>\n",
       "      <td>733.031648</td>\n",
       "      <td>0.000036</td>\n",
       "      <td>0.000077</td>\n",
       "      <td>NaN</td>\n",
       "    </tr>\n",
       "    <tr>\n",
       "      <th>2021-01-01 00:40:00</th>\n",
       "      <td>28955.940660</td>\n",
       "      <td>734.567575</td>\n",
       "      <td>0.000033</td>\n",
       "      <td>0.000079</td>\n",
       "      <td>NaN</td>\n",
       "    </tr>\n",
       "  </tbody>\n",
       "</table>\n",
       "</div>"
      ],
      "text/plain": [
       "                     BTC-price_usd_close  ETH-price_usd_close  \\\n",
       "t                                                               \n",
       "2021-01-01 00:00:00         29016.647624           738.475746   \n",
       "2021-01-01 00:10:00         28866.991978           733.387571   \n",
       "2021-01-01 00:20:00         28822.724489           731.379848   \n",
       "2021-01-01 00:30:00         28914.266412           733.031648   \n",
       "2021-01-01 00:40:00         28955.940660           734.567575   \n",
       "\n",
       "                     BTC-FuturesFundingRatePerpetual  \\\n",
       "t                                                      \n",
       "2021-01-01 00:00:00                         0.000039   \n",
       "2021-01-01 00:10:00                         0.000038   \n",
       "2021-01-01 00:20:00                         0.000037   \n",
       "2021-01-01 00:30:00                         0.000036   \n",
       "2021-01-01 00:40:00                         0.000033   \n",
       "\n",
       "                     ETH-FuturesFundingRatePerpetual  signal  \n",
       "t                                                             \n",
       "2021-01-01 00:00:00                         0.000081     NaN  \n",
       "2021-01-01 00:10:00                         0.000079     NaN  \n",
       "2021-01-01 00:20:00                         0.000077     NaN  \n",
       "2021-01-01 00:30:00                         0.000077     NaN  \n",
       "2021-01-01 00:40:00                         0.000079     NaN  "
      ]
     },
     "execution_count": 13,
     "metadata": {},
     "output_type": "execute_result"
    }
   ],
   "source": [
    "df1.head(5)"
   ]
  },
  {
   "cell_type": "code",
   "execution_count": null,
   "id": "33c058d7-fb69-4153-a77a-b07ac3943001",
   "metadata": {},
   "outputs": [],
   "source": [
    "df1['signal'] = df1['BTC-FuturesFundingRatePerpetual'].rolling(200).apply(pctrank)"
   ]
  },
  {
   "cell_type": "code",
   "execution_count": 23,
   "id": "f4bf8b8c-764b-4512-b28b-e1bb5a0d3299",
   "metadata": {},
   "outputs": [],
   "source": [
    "price = pd.read_pickle(os.path.join(LOCAL_DATA_DIR,'BTC-PERP@ftx.pickle'))\n",
    "p=price.resample('1Min').last().ffill()\n",
    "request = ['pf','backtest']"
   ]
  },
  {
   "cell_type": "code",
   "execution_count": 24,
   "id": "a61e976c-68db-479f-9fcf-265207620ceb",
   "metadata": {},
   "outputs": [
    {
     "name": "stdout",
     "output_type": "stream",
     "text": [
      "1 : tp:3 sl:0.5 id:long-funding_rate\n",
      "2 : tp:3 sl:1 id:long-funding_rate\n",
      "3 : tp:3 sl:2 id:long-funding_rate\n",
      "4 : tp:5 sl:0.5 id:long-funding_rate\n",
      "5 : tp:5 sl:1 id:long-funding_rate\n",
      "6 : tp:5 sl:2 id:long-funding_rate\n",
      "7 : tp:7 sl:0.5 id:long-funding_rate\n",
      "8 : tp:7 sl:1 id:long-funding_rate\n",
      "9 : tp:7 sl:2 id:long-funding_rate\n",
      "10 : tp:3 sl:0.5 id:long-funding_rate\n",
      "11 : tp:3 sl:1 id:long-funding_rate\n",
      "12 : tp:3 sl:2 id:long-funding_rate\n",
      "13 : tp:5 sl:0.5 id:long-funding_rate\n",
      "14 : tp:5 sl:1 id:long-funding_rate\n",
      "15 : tp:5 sl:2 id:long-funding_rate\n",
      "16 : tp:7 sl:0.5 id:long-funding_rate\n",
      "17 : tp:7 sl:1 id:long-funding_rate\n",
      "18 : tp:7 sl:2 id:long-funding_rate\n",
      "19 : tp:3 sl:0.5 id:long-funding_rate\n",
      "20 : tp:3 sl:1 id:long-funding_rate\n",
      "21 : tp:3 sl:2 id:long-funding_rate\n",
      "22 : tp:5 sl:0.5 id:long-funding_rate\n",
      "23 : tp:5 sl:1 id:long-funding_rate\n",
      "24 : tp:5 sl:2 id:long-funding_rate\n",
      "25 : tp:7 sl:0.5 id:long-funding_rate\n",
      "26 : tp:7 sl:1 id:long-funding_rate\n",
      "27 : tp:7 sl:2 id:long-funding_rate\n",
      "28 : tp:3 sl:0.5 id:long-funding_rate\n",
      "29 : tp:3 sl:1 id:long-funding_rate\n",
      "30 : tp:3 sl:2 id:long-funding_rate\n",
      "31 : tp:5 sl:0.5 id:long-funding_rate\n",
      "32 : tp:5 sl:1 id:long-funding_rate\n",
      "33 : tp:5 sl:2 id:long-funding_rate\n",
      "34 : tp:7 sl:0.5 id:long-funding_rate\n",
      "35 : tp:7 sl:1 id:long-funding_rate\n",
      "36 : tp:7 sl:2 id:long-funding_rate\n"
     ]
    },
    {
     "data": {
      "text/html": [
       "\n",
       "        <iframe\n",
       "            width=\"100%\"\n",
       "            height=\"500\"\n",
       "            src=\"pivottablejs.html\"\n",
       "            frameborder=\"0\"\n",
       "            allowfullscreen\n",
       "        ></iframe>\n",
       "        "
      ],
      "text/plain": [
       "<IPython.lib.display.IFrame at 0x23a9620c3d0>"
      ]
     },
     "metadata": {},
     "output_type": "display_data"
    }
   ],
   "source": [
    "signalid = 'long-funding_rate'\n",
    "res=[]\n",
    "price = p.copy()\n",
    "counter0 = 0\n",
    "short = False # long strategy\n",
    "for qtl in [0.995, 0.99, 0.95, 0.9]:\n",
    "    signal = df1['signal']>qtl\n",
    "    signal = signal.reindex(p.index).ffill()\n",
    "    for tp in [3,5,7]:\n",
    "        for sl in [0.5, 1, 2]:\n",
    "            counter0 = counter0 + 1\n",
    "            print(f'{counter0} : tp:{tp} sl:{sl} id:{signalid}')\n",
    "            for n1 in [1,10,100]: #\n",
    "                for n2 in [101, 200, 1000]:\n",
    "                    ressig=runsignal(price,signal=signal,tp=tp,sl=sl,ts=sl,n1=None,n2=None,rsil=30,rsih=50,rsilag=14,maf=5,mas=15,short=short,size=np.inf,fees=0.0007,freq='1Min',init_cash=10000,request=['pf','backtest'])\n",
    "                    for k in ressig:\n",
    "                        resd={\"signalid\":signalid,\"qtl\":qtl,\"short\":short,\"tp\":tp,\"sl\":sl,'k':k,'sr':ressig[k].sharpe_ratio(),'n1':n1,'n2':n2,'tr':ressig[k].total_return(),'ntrades':ressig[k].trades.count()/65} # rescale to number of weeks\n",
    "                        res.append(resd)\n",
    "                            \n",
    "pd.DataFrame(res).pv()"
   ]
  },
  {
   "cell_type": "code",
   "execution_count": null,
   "id": "2ae124fa-ef1e-4bf4-9b58-94355dc389ef",
   "metadata": {},
   "outputs": [],
   "source": [
    "pd.DataFrame(res).pv()"
   ]
  }
 ],
 "metadata": {
  "kernelspec": {
   "display_name": "Python 3 (ipykernel)",
   "language": "python",
   "name": "python3"
  },
  "language_info": {
   "codemirror_mode": {
    "name": "ipython",
    "version": 3
   },
   "file_extension": ".py",
   "mimetype": "text/x-python",
   "name": "python",
   "nbconvert_exporter": "python",
   "pygments_lexer": "ipython3",
   "version": "3.8.8"
  }
 },
 "nbformat": 4,
 "nbformat_minor": 5
}
