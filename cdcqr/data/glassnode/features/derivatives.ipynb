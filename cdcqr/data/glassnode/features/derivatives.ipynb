{
 "cells": [
  {
   "cell_type": "code",
   "execution_count": null,
   "id": "060a2261-8898-48d8-b784-79ca22879ccd",
   "metadata": {},
   "outputs": [],
   "source": [
    "from cdcqr.data.glassnode import glassnode_data as gnd\n",
    "from cdcqr.ct.utils import plot2\n",
    "import pandas as pd\n",
    "import cdcqr.analytics.utils as autil \n",
    "from importlib import reload\n",
    "pctrank = lambda x: pd.Series(x).rank(pct=True).iloc[-1]\n",
    "import sys\n",
    "sys.path.append('/core/github/cryptoderiv-quant/')\n",
    "from ct.alfafactory import runsignal\n",
    "import numpy as np\n",
    "import os\n",
    "from cdcqr.common.utils import LOCAL_DATA_DIR"
   ]
  },
  {
   "cell_type": "code",
   "execution_count": null,
   "id": "f11c37f0-2c64-4e3e-90bc-7e3437d0a22a",
   "metadata": {},
   "outputs": [],
   "source": [
    "gn = gnd.GlassnodeData()"
   ]
  },
  {
   "cell_type": "markdown",
   "id": "d6b6b563-f91e-4602-9ccc-b9ceaf7d9fed",
   "metadata": {},
   "source": [
    "### BTC"
   ]
  },
  {
   "cell_type": "code",
   "execution_count": null,
   "id": "29ff0596-3208-429b-a7ed-b1d8147ba6df",
   "metadata": {},
   "outputs": [],
   "source": [
    "fs =  ['price_usd_close','FuturesFundingRatePerpetual']\n",
    "a = ['BTC','ETH']\n",
    "#i = '10m'\n",
    "df = gn.load_features(fs,a)\n",
    "df.head(2)"
   ]
  },
  {
   "cell_type": "code",
   "execution_count": null,
   "id": "08259255-0d6d-4bbb-8ff3-20209fa074e2",
   "metadata": {},
   "outputs": [],
   "source": [
    "cols = list(df.columns)\n",
    "cols"
   ]
  },
  {
   "cell_type": "code",
   "execution_count": null,
   "id": "9a99dfc0-b979-4d35-919b-56a0fc27499d",
   "metadata": {},
   "outputs": [],
   "source": [
    "df1 = df[df.index>='20210101']\n",
    "display(df1.head(2))\n",
    "df1.plot2(cols[0],cols[1:3])"
   ]
  },
  {
   "cell_type": "code",
   "execution_count": null,
   "id": "c01ae9c3-5c38-4836-8076-9d1aef5678b6",
   "metadata": {},
   "outputs": [],
   "source": [
    "reload(autil)\n",
    "feature_raw = '{}_futures_funding_rate_perpetual'.format(a)\n",
    "feature_normalized = feature_raw\n",
    "target = '{}_price_usd_close'.format(a)\n",
    "_ = autil.ts_eda(df1, feature_raw, feature_normalized, target, save_fig=True)"
   ]
  },
  {
   "cell_type": "markdown",
   "id": "c3b67153-2260-4478-b9a3-5b23320fee88",
   "metadata": {},
   "source": [
    "## backtest"
   ]
  },
  {
   "cell_type": "code",
   "execution_count": null,
   "id": "5f16b5c8-a503-491e-9f65-a46cbe7c6dd8",
   "metadata": {},
   "outputs": [],
   "source": [
    "df1.head(5)"
   ]
  },
  {
   "cell_type": "code",
   "execution_count": null,
   "id": "33c058d7-fb69-4153-a77a-b07ac3943001",
   "metadata": {},
   "outputs": [],
   "source": [
    "df1['signal'] = df1['BTC-FuturesFundingRatePerpetual'].rolling(200).apply(pctrank)"
   ]
  },
  {
   "cell_type": "code",
   "execution_count": null,
   "id": "f4bf8b8c-764b-4512-b28b-e1bb5a0d3299",
   "metadata": {},
   "outputs": [],
   "source": [
    "price = pd.read_pickle(os.path.join(LOCAL_DATA_DIR,'BTC-PERP@ftx.pickle'))\n",
    "p=price.resample('1Min').last().ffill()\n",
    "request = ['pf','backtest']"
   ]
  },
  {
   "cell_type": "code",
   "execution_count": null,
   "id": "a61e976c-68db-479f-9fcf-265207620ceb",
   "metadata": {},
   "outputs": [],
   "source": [
    "signalid = 'long-funding_rate'\n",
    "res=[]\n",
    "price = p.copy()\n",
    "counter0 = 0\n",
    "short = False # long strategy\n",
    "for qtl in [0.995, 0.99, 0.95, 0.9]:\n",
    "    signal = df1['signal']>qtl\n",
    "    signal = signal.reindex(p.index).ffill()\n",
    "    for tp in [3,5,7]:\n",
    "        for sl in [0.5, 1, 2]:\n",
    "            counter0 = counter0 + 1\n",
    "            print(f'{counter0} : tp:{tp} sl:{sl} id:{signalid}')\n",
    "            for n1 in [1,10,100]: #\n",
    "                for n2 in [101, 200, 1000]:\n",
    "                    ressig=runsignal(price,signal=signal,tp=tp,sl=sl,ts=sl,n1=None,n2=None,rsil=30,rsih=50,rsilag=14,maf=5,mas=15,short=short,size=np.inf,fees=0.0007,freq='1Min',init_cash=10000,request=['pf','backtest'])\n",
    "                    for k in ressig:\n",
    "                        resd={\"signalid\":signalid,\"qtl\":qtl,\"short\":short,\"tp\":tp,\"sl\":sl,'k':k,'sr':ressig[k].sharpe_ratio(),'n1':n1,'n2':n2,'tr':ressig[k].total_return(),'ntrades':ressig[k].trades.count()/65} # rescale to number of weeks\n",
    "                        res.append(resd)\n",
    "                            \n",
    "pd.DataFrame(res).pv()"
   ]
  },
  {
   "cell_type": "code",
   "execution_count": null,
   "id": "2ae124fa-ef1e-4bf4-9b58-94355dc389ef",
   "metadata": {},
   "outputs": [],
   "source": [
    "pd.DataFrame(res).pv()"
   ]
  }
 ],
 "metadata": {
  "kernelspec": {
   "display_name": "Python 3 (ipykernel)",
   "language": "python",
   "name": "python3"
  },
  "language_info": {
   "codemirror_mode": {
    "name": "ipython",
    "version": 3
   },
   "file_extension": ".py",
   "mimetype": "text/x-python",
   "name": "python",
   "nbconvert_exporter": "python",
   "pygments_lexer": "ipython3",
   "version": "3.8.8"
  }
 },
 "nbformat": 4,
 "nbformat_minor": 5
}
