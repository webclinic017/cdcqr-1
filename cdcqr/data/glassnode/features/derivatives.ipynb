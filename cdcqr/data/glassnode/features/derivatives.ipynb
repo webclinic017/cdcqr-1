{
 "cells": [
  {
   "cell_type": "code",
   "execution_count": null,
   "id": "060a2261-8898-48d8-b784-79ca22879ccd",
   "metadata": {},
   "outputs": [],
   "source": [
    "from cdcqr.data.glassnode import glassnode_data as gnd\n",
    "from cdcqr.ct.utils import plot2\n",
    "import pandas as pd\n",
    "import cdcqr.analytics.utils as autil \n",
    "from importlib import reload"
   ]
  },
  {
   "cell_type": "code",
   "execution_count": null,
   "id": "f11c37f0-2c64-4e3e-90bc-7e3437d0a22a",
   "metadata": {},
   "outputs": [],
   "source": [
    "gn = gnd.GlassnodeData()"
   ]
  },
  {
   "cell_type": "markdown",
   "id": "d6b6b563-f91e-4602-9ccc-b9ceaf7d9fed",
   "metadata": {},
   "source": [
    "### BTC"
   ]
  },
  {
   "cell_type": "code",
   "execution_count": null,
   "id": "29ff0596-3208-429b-a7ed-b1d8147ba6df",
   "metadata": {},
   "outputs": [],
   "source": [
    "fs =  ['price_usd_close','FuturesFundingRatePerpetual']\n",
    "a = ['BTC','ETH']\n",
    "#i = '10m'\n",
    "df = gn.load_features(fs,a, )\n",
    "df.head(2)"
   ]
  },
  {
   "cell_type": "code",
   "execution_count": null,
   "id": "08259255-0d6d-4bbb-8ff3-20209fa074e2",
   "metadata": {},
   "outputs": [],
   "source": [
    "cols = list(df.columns)\n",
    "cols"
   ]
  },
  {
   "cell_type": "code",
   "execution_count": null,
   "id": "9a99dfc0-b979-4d35-919b-56a0fc27499d",
   "metadata": {},
   "outputs": [],
   "source": [
    "df1 = df[df.index>='20210101']\n",
    "display(df1.head(2))\n",
    "df1.plot2(cols[0],cols[1:3])"
   ]
  },
  {
   "cell_type": "code",
   "execution_count": null,
   "id": "c01ae9c3-5c38-4836-8076-9d1aef5678b6",
   "metadata": {},
   "outputs": [],
   "source": [
    "reload(autil)\n",
    "feature_raw = '{}_futures_funding_rate_perpetual'.format(a)\n",
    "feature_normalized = feature_raw\n",
    "target = '{}_price_usd_close'.format(a)\n",
    "_ = autil.ts_eda(df1, feature_raw, feature_normalized, target, save_fig=True)"
   ]
  }
 ],
 "metadata": {
  "kernelspec": {
   "display_name": "Python 3 (ipykernel)",
   "language": "python",
   "name": "python3"
  },
  "language_info": {
   "codemirror_mode": {
    "name": "ipython",
    "version": 3
   },
   "file_extension": ".py",
   "mimetype": "text/x-python",
   "name": "python",
   "nbconvert_exporter": "python",
   "pygments_lexer": "ipython3",
   "version": "3.8.8"
  }
 },
 "nbformat": 4,
 "nbformat_minor": 5
}
