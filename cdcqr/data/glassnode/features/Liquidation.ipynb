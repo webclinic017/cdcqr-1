{
 "cells": [
  {
   "cell_type": "markdown",
   "id": "8e523c67-06d4-402a-a165-ca339b2acbac",
   "metadata": {},
   "source": [
    "### Liqudation + Inflow strategy\n",
    "   * Glassnode inflow data\n",
    "   * Tardis liquidation data"
   ]
  },
  {
   "cell_type": "code",
   "execution_count": 5,
   "id": "818dfb18-4173-40a1-ae68-5a9ff6b6a020",
   "metadata": {},
   "outputs": [],
   "source": [
    "from cdcqr.data.glassnode import glassnode_data as gnd\n",
    "from cdcqr.ct.utils import plot2\n",
    "import pandas as pd\n",
    "import cdcqr.analytics.utils as autil \n",
    "from importlib import reload\n",
    "pctrank = lambda x: pd.Series(x).rank(pct=True).iloc[-1]\n",
    "import sys\n",
    "sys.path.append('/core/github/cryptoderiv-quant/')\n",
    "from ct.alfafactory import runsignal\n",
    "import numpy as np\n",
    "import os\n",
    "from cdcqr.common.utils import LOCAL_DATA_DIR,load_df\n",
    "%matplotlib inline\n",
    "from functools import reduce"
   ]
  },
  {
   "cell_type": "code",
   "execution_count": 6,
   "id": "f11c37f0-2c64-4e3e-90bc-7e3437d0a22a",
   "metadata": {},
   "outputs": [],
   "source": [
    "gn = gnd.GlassnodeData()"
   ]
  },
  {
   "cell_type": "markdown",
   "id": "ca6d48fa-89b2-4aba-8e31-b44ed2f1a877",
   "metadata": {},
   "source": [
    "### download balance exchange data"
   ]
  },
  {
   "cell_type": "code",
   "execution_count": 28,
   "id": "12680a8c-549b-426b-8803-efcda6e52c3f",
   "metadata": {},
   "outputs": [
    {
     "name": "stdout",
     "output_type": "stream",
     "text": [
      "loading distribution/balance_exchanges asset=LINK, resolution=10m\n",
      "loading distribution/balance_exchanges asset=CRV, resolution=10m\n",
      "loading distribution/balance_exchanges asset=SUSHI, resolution=10m\n",
      "loading distribution/balance_exchanges asset=AAVE, resolution=10m\n",
      "loading distribution/balance_exchanges asset=FTT, resolution=10m\n",
      "loading distribution/balance_exchanges asset=MKR, resolution=10m\n",
      "loading distribution/balance_exchanges asset=CRO, resolution=10m\n",
      "loading distribution/balance_exchanges asset=MATIC, resolution=10m\n"
     ]
    }
   ],
   "source": [
    "fs =  ['balance_exchanges']\n",
    "a = ['LINK','CRV','SUSHI','AAVE','FTT','MKR','CRO','MATIC']\n",
    "df = gn.load_features(fs,a)"
   ]
  },
  {
   "cell_type": "code",
   "execution_count": 29,
   "id": "69960230-5c66-47d8-b3b0-f4ee81518431",
   "metadata": {},
   "outputs": [
    {
     "name": "stdout",
     "output_type": "stream",
     "text": [
      "saved df to C:\\core\\tmp\\glass_balexch_LINK_10m_20210101_20220131.pickle\n",
      "saved df to C:\\core\\tmp\\glass_balexch_CRV_10m_20210101_20220131.pickle\n",
      "saved df to C:\\core\\tmp\\glass_balexch_SUSHI_10m_20210101_20220131.pickle\n",
      "saved df to C:\\core\\tmp\\glass_balexch_AAVE_10m_20210101_20220131.pickle\n",
      "saved df to C:\\core\\tmp\\glass_balexch_FTT_10m_20210101_20220131.pickle\n",
      "saved df to C:\\core\\tmp\\glass_balexch_MKR_10m_20210101_20220131.pickle\n",
      "saved df to C:\\core\\tmp\\glass_balexch_CRO_10m_20210101_20220131.pickle\n",
      "saved df to C:\\core\\tmp\\glass_balexch_MATIC_10m_20210101_20220131.pickle\n"
     ]
    }
   ],
   "source": [
    "for col in df.columns:\n",
    "    asset = col.split('-')[0]\n",
    "    dfi = df[col].to_frame()\n",
    "    dfi.columns=['v']\n",
    "    dfi.save('glass_balexch_{}_10m_20210101_20220131'.format(asset))"
   ]
  },
  {
   "cell_type": "code",
   "execution_count": 32,
   "id": "dedde609-d199-44c0-9389-452364e6fe48",
   "metadata": {},
   "outputs": [
    {
     "name": "stdout",
     "output_type": "stream",
     "text": [
      "(735651, 5) (36947, 5) (75196, 1)\n",
      "(735099, 5) (22657, 5) (75196, 1)\n",
      "(735557, 5) (25437, 5) (75196, 1)\n",
      "(713557, 5) (17049, 5) (75196, 1)\n",
      "(735377, 5) (7380, 5) (75196, 1)\n",
      "(695701, 5) (39997, 5) (75196, 1)\n"
     ]
    }
   ],
   "source": [
    "for asset in ['LINK','CRV','SUSHI','AAVE','MKR','MATIC']:\n",
    "   \n",
    "    signalid = 'short-{}liq'.format(asset)\n",
    "\n",
    "    price0 = pd.read_pickle('/core/tmp/ppt_prc_{}_1m_20210101_20220228.pkl'.format(asset))\n",
    "    liq0 = pd.read_pickle('/core/tmp/ppt_liqb_{}_1m_20210101_20220228.pkl'.format(asset))\n",
    "\n",
    "    df = pd.read_pickle('/core/tmp/glass_balexch_{}_10m_20210101_20220131.pickle'.format(asset))\n",
    "    print(price0.shape, liq0.shape, df.shape)"
   ]
  },
  {
   "cell_type": "code",
   "execution_count": 22,
   "id": "d7d63996-9cdc-48b3-b3b3-54a9ad1a3f39",
   "metadata": {},
   "outputs": [],
   "source": [
    "dfi.columns=['v']"
   ]
  },
  {
   "cell_type": "code",
   "execution_count": 23,
   "id": "231693b1-9ff9-4231-81ae-914260eac8cd",
   "metadata": {},
   "outputs": [
    {
     "data": {
      "text/html": [
       "<div>\n",
       "<style scoped>\n",
       "    .dataframe tbody tr th:only-of-type {\n",
       "        vertical-align: middle;\n",
       "    }\n",
       "\n",
       "    .dataframe tbody tr th {\n",
       "        vertical-align: top;\n",
       "    }\n",
       "\n",
       "    .dataframe thead th {\n",
       "        text-align: right;\n",
       "    }\n",
       "</style>\n",
       "<table border=\"1\" class=\"dataframe\">\n",
       "  <thead>\n",
       "    <tr style=\"text-align: right;\">\n",
       "      <th></th>\n",
       "      <th>v</th>\n",
       "    </tr>\n",
       "    <tr>\n",
       "      <th>t</th>\n",
       "      <th></th>\n",
       "    </tr>\n",
       "  </thead>\n",
       "  <tbody>\n",
       "    <tr>\n",
       "      <th>2020-10-03 02:20:00</th>\n",
       "      <td>1.377851e+09</td>\n",
       "    </tr>\n",
       "    <tr>\n",
       "      <th>2020-10-03 02:30:00</th>\n",
       "      <td>1.377851e+09</td>\n",
       "    </tr>\n",
       "    <tr>\n",
       "      <th>2020-10-03 02:40:00</th>\n",
       "      <td>1.377851e+09</td>\n",
       "    </tr>\n",
       "    <tr>\n",
       "      <th>2020-10-03 02:50:00</th>\n",
       "      <td>1.377853e+09</td>\n",
       "    </tr>\n",
       "    <tr>\n",
       "      <th>2020-10-03 03:00:00</th>\n",
       "      <td>1.377853e+09</td>\n",
       "    </tr>\n",
       "    <tr>\n",
       "      <th>2020-10-03 03:10:00</th>\n",
       "      <td>1.377841e+09</td>\n",
       "    </tr>\n",
       "    <tr>\n",
       "      <th>2020-10-03 03:20:00</th>\n",
       "      <td>1.377827e+09</td>\n",
       "    </tr>\n",
       "    <tr>\n",
       "      <th>2020-10-03 03:30:00</th>\n",
       "      <td>1.379089e+09</td>\n",
       "    </tr>\n",
       "    <tr>\n",
       "      <th>2020-10-03 03:40:00</th>\n",
       "      <td>1.379079e+09</td>\n",
       "    </tr>\n",
       "    <tr>\n",
       "      <th>2020-10-03 03:50:00</th>\n",
       "      <td>1.379064e+09</td>\n",
       "    </tr>\n",
       "    <tr>\n",
       "      <th>2020-10-03 04:00:00</th>\n",
       "      <td>1.378763e+09</td>\n",
       "    </tr>\n",
       "    <tr>\n",
       "      <th>2020-10-03 04:10:00</th>\n",
       "      <td>1.378763e+09</td>\n",
       "    </tr>\n",
       "    <tr>\n",
       "      <th>2020-10-03 04:20:00</th>\n",
       "      <td>1.378763e+09</td>\n",
       "    </tr>\n",
       "    <tr>\n",
       "      <th>2020-10-03 04:30:00</th>\n",
       "      <td>1.378758e+09</td>\n",
       "    </tr>\n",
       "    <tr>\n",
       "      <th>2020-10-03 04:40:00</th>\n",
       "      <td>1.378743e+09</td>\n",
       "    </tr>\n",
       "    <tr>\n",
       "      <th>2020-10-03 04:50:00</th>\n",
       "      <td>1.378718e+09</td>\n",
       "    </tr>\n",
       "    <tr>\n",
       "      <th>2020-10-03 05:00:00</th>\n",
       "      <td>1.378298e+09</td>\n",
       "    </tr>\n",
       "    <tr>\n",
       "      <th>2020-10-03 05:10:00</th>\n",
       "      <td>1.375798e+09</td>\n",
       "    </tr>\n",
       "    <tr>\n",
       "      <th>2020-10-03 05:20:00</th>\n",
       "      <td>1.375798e+09</td>\n",
       "    </tr>\n",
       "    <tr>\n",
       "      <th>2020-10-03 05:30:00</th>\n",
       "      <td>1.375797e+09</td>\n",
       "    </tr>\n",
       "    <tr>\n",
       "      <th>2020-10-03 05:40:00</th>\n",
       "      <td>1.375791e+09</td>\n",
       "    </tr>\n",
       "    <tr>\n",
       "      <th>2020-10-03 05:50:00</th>\n",
       "      <td>1.375791e+09</td>\n",
       "    </tr>\n",
       "    <tr>\n",
       "      <th>2020-10-03 06:00:00</th>\n",
       "      <td>1.375791e+09</td>\n",
       "    </tr>\n",
       "    <tr>\n",
       "      <th>2020-10-03 06:10:00</th>\n",
       "      <td>1.375791e+09</td>\n",
       "    </tr>\n",
       "    <tr>\n",
       "      <th>2020-10-03 06:20:00</th>\n",
       "      <td>1.375791e+09</td>\n",
       "    </tr>\n",
       "    <tr>\n",
       "      <th>...</th>\n",
       "      <td>...</td>\n",
       "    </tr>\n",
       "    <tr>\n",
       "      <th>2022-03-09 02:50:00</th>\n",
       "      <td>5.048458e+08</td>\n",
       "    </tr>\n",
       "    <tr>\n",
       "      <th>2022-03-09 03:00:00</th>\n",
       "      <td>5.049499e+08</td>\n",
       "    </tr>\n",
       "    <tr>\n",
       "      <th>2022-03-09 03:10:00</th>\n",
       "      <td>5.049568e+08</td>\n",
       "    </tr>\n",
       "    <tr>\n",
       "      <th>2022-03-09 03:20:00</th>\n",
       "      <td>5.049565e+08</td>\n",
       "    </tr>\n",
       "    <tr>\n",
       "      <th>2022-03-09 03:30:00</th>\n",
       "      <td>5.049544e+08</td>\n",
       "    </tr>\n",
       "    <tr>\n",
       "      <th>2022-03-09 03:40:00</th>\n",
       "      <td>5.049538e+08</td>\n",
       "    </tr>\n",
       "    <tr>\n",
       "      <th>2022-03-09 03:50:00</th>\n",
       "      <td>5.049404e+08</td>\n",
       "    </tr>\n",
       "    <tr>\n",
       "      <th>2022-03-09 04:00:00</th>\n",
       "      <td>5.049623e+08</td>\n",
       "    </tr>\n",
       "    <tr>\n",
       "      <th>2022-03-09 04:10:00</th>\n",
       "      <td>5.049599e+08</td>\n",
       "    </tr>\n",
       "    <tr>\n",
       "      <th>2022-03-09 04:20:00</th>\n",
       "      <td>5.049563e+08</td>\n",
       "    </tr>\n",
       "    <tr>\n",
       "      <th>2022-03-09 04:30:00</th>\n",
       "      <td>5.050880e+08</td>\n",
       "    </tr>\n",
       "    <tr>\n",
       "      <th>2022-03-09 04:40:00</th>\n",
       "      <td>5.050877e+08</td>\n",
       "    </tr>\n",
       "    <tr>\n",
       "      <th>2022-03-09 04:50:00</th>\n",
       "      <td>5.051766e+08</td>\n",
       "    </tr>\n",
       "    <tr>\n",
       "      <th>2022-03-09 05:00:00</th>\n",
       "      <td>5.051783e+08</td>\n",
       "    </tr>\n",
       "    <tr>\n",
       "      <th>2022-03-09 05:10:00</th>\n",
       "      <td>5.050192e+08</td>\n",
       "    </tr>\n",
       "    <tr>\n",
       "      <th>2022-03-09 05:20:00</th>\n",
       "      <td>5.047284e+08</td>\n",
       "    </tr>\n",
       "    <tr>\n",
       "      <th>2022-03-09 05:30:00</th>\n",
       "      <td>5.047339e+08</td>\n",
       "    </tr>\n",
       "    <tr>\n",
       "      <th>2022-03-09 05:40:00</th>\n",
       "      <td>5.047447e+08</td>\n",
       "    </tr>\n",
       "    <tr>\n",
       "      <th>2022-03-09 05:50:00</th>\n",
       "      <td>5.047447e+08</td>\n",
       "    </tr>\n",
       "    <tr>\n",
       "      <th>2022-03-09 06:00:00</th>\n",
       "      <td>5.047925e+08</td>\n",
       "    </tr>\n",
       "    <tr>\n",
       "      <th>2022-03-09 06:10:00</th>\n",
       "      <td>5.047903e+08</td>\n",
       "    </tr>\n",
       "    <tr>\n",
       "      <th>2022-03-09 06:20:00</th>\n",
       "      <td>5.050534e+08</td>\n",
       "    </tr>\n",
       "    <tr>\n",
       "      <th>2022-03-09 06:30:00</th>\n",
       "      <td>5.051534e+08</td>\n",
       "    </tr>\n",
       "    <tr>\n",
       "      <th>2022-03-09 06:40:00</th>\n",
       "      <td>5.053228e+08</td>\n",
       "    </tr>\n",
       "    <tr>\n",
       "      <th>2022-03-09 06:50:00</th>\n",
       "      <td>5.053230e+08</td>\n",
       "    </tr>\n",
       "  </tbody>\n",
       "</table>\n",
       "<p>75196 rows × 1 columns</p>\n",
       "</div>"
      ],
      "text/plain": [
       "                                v\n",
       "t                                \n",
       "2020-10-03 02:20:00  1.377851e+09\n",
       "2020-10-03 02:30:00  1.377851e+09\n",
       "2020-10-03 02:40:00  1.377851e+09\n",
       "2020-10-03 02:50:00  1.377853e+09\n",
       "2020-10-03 03:00:00  1.377853e+09\n",
       "2020-10-03 03:10:00  1.377841e+09\n",
       "2020-10-03 03:20:00  1.377827e+09\n",
       "2020-10-03 03:30:00  1.379089e+09\n",
       "2020-10-03 03:40:00  1.379079e+09\n",
       "2020-10-03 03:50:00  1.379064e+09\n",
       "2020-10-03 04:00:00  1.378763e+09\n",
       "2020-10-03 04:10:00  1.378763e+09\n",
       "2020-10-03 04:20:00  1.378763e+09\n",
       "2020-10-03 04:30:00  1.378758e+09\n",
       "2020-10-03 04:40:00  1.378743e+09\n",
       "2020-10-03 04:50:00  1.378718e+09\n",
       "2020-10-03 05:00:00  1.378298e+09\n",
       "2020-10-03 05:10:00  1.375798e+09\n",
       "2020-10-03 05:20:00  1.375798e+09\n",
       "2020-10-03 05:30:00  1.375797e+09\n",
       "2020-10-03 05:40:00  1.375791e+09\n",
       "2020-10-03 05:50:00  1.375791e+09\n",
       "2020-10-03 06:00:00  1.375791e+09\n",
       "2020-10-03 06:10:00  1.375791e+09\n",
       "2020-10-03 06:20:00  1.375791e+09\n",
       "...                           ...\n",
       "2022-03-09 02:50:00  5.048458e+08\n",
       "2022-03-09 03:00:00  5.049499e+08\n",
       "2022-03-09 03:10:00  5.049568e+08\n",
       "2022-03-09 03:20:00  5.049565e+08\n",
       "2022-03-09 03:30:00  5.049544e+08\n",
       "2022-03-09 03:40:00  5.049538e+08\n",
       "2022-03-09 03:50:00  5.049404e+08\n",
       "2022-03-09 04:00:00  5.049623e+08\n",
       "2022-03-09 04:10:00  5.049599e+08\n",
       "2022-03-09 04:20:00  5.049563e+08\n",
       "2022-03-09 04:30:00  5.050880e+08\n",
       "2022-03-09 04:40:00  5.050877e+08\n",
       "2022-03-09 04:50:00  5.051766e+08\n",
       "2022-03-09 05:00:00  5.051783e+08\n",
       "2022-03-09 05:10:00  5.050192e+08\n",
       "2022-03-09 05:20:00  5.047284e+08\n",
       "2022-03-09 05:30:00  5.047339e+08\n",
       "2022-03-09 05:40:00  5.047447e+08\n",
       "2022-03-09 05:50:00  5.047447e+08\n",
       "2022-03-09 06:00:00  5.047925e+08\n",
       "2022-03-09 06:10:00  5.047903e+08\n",
       "2022-03-09 06:20:00  5.050534e+08\n",
       "2022-03-09 06:30:00  5.051534e+08\n",
       "2022-03-09 06:40:00  5.053228e+08\n",
       "2022-03-09 06:50:00  5.053230e+08\n",
       "\n",
       "[75196 rows x 1 columns]"
      ]
     },
     "execution_count": 23,
     "metadata": {},
     "output_type": "execute_result"
    }
   ],
   "source": [
    "dfi"
   ]
  },
  {
   "cell_type": "markdown",
   "id": "981d1296-17a0-44e1-a5e9-601e77344de0",
   "metadata": {},
   "source": [
    "### Data Overview"
   ]
  },
  {
   "cell_type": "code",
   "execution_count": null,
   "id": "d1277d7c-771d-491b-a67c-d2b5c6536d81",
   "metadata": {},
   "outputs": [],
   "source": [
    "df1 = gn.get_meta_data().query('category==\"derivatives\"')\n",
    "liq_fs = df1[df1['f'].str.contains('liq')]['f'].values.tolist()\n",
    "liq_fs"
   ]
  },
  {
   "cell_type": "code",
   "execution_count": null,
   "id": "6ed50f42-0fbe-44dc-9796-a4da7e803caa",
   "metadata": {},
   "outputs": [],
   "source": [
    "gn.get_feature_category('TransfersVolumeToExchangesSum')"
   ]
  },
  {
   "cell_type": "code",
   "execution_count": null,
   "id": "7ee5b4e8-d33f-40df-908c-1e5c83f2173d",
   "metadata": {},
   "outputs": [],
   "source": [
    "glassmeta = gn.get_meta_data()"
   ]
  },
  {
   "cell_type": "code",
   "execution_count": null,
   "id": "84ef4ae1-3d63-4dab-8989-2062aa071e34",
   "metadata": {},
   "outputs": [],
   "source": [
    "glassmeta['category'].unique()"
   ]
  },
  {
   "cell_type": "code",
   "execution_count": null,
   "id": "46315ce3-493d-42d8-99ae-a9c31f19a5fc",
   "metadata": {
    "scrolled": true,
    "tags": []
   },
   "outputs": [],
   "source": [
    "glassmeta.query('category==\"transactions\"')"
   ]
  },
  {
   "cell_type": "markdown",
   "id": "d6b6b563-f91e-4602-9ccc-b9ceaf7d9fed",
   "metadata": {},
   "source": [
    "### BTC"
   ]
  },
  {
   "cell_type": "code",
   "execution_count": null,
   "id": "29ff0596-3208-429b-a7ed-b1d8147ba6df",
   "metadata": {
    "tags": []
   },
   "outputs": [],
   "source": [
    "fs =  liq_fs+['price_usd_close']\n",
    "\n",
    "a = ['BTC']\n",
    "#i = '10m'\n",
    "df = gn.load_features(fs,a)\n",
    "    #display(df.shape)"
   ]
  },
  {
   "cell_type": "code",
   "execution_count": null,
   "id": "01c11f30-47a2-4ddf-a0df-483466075fda",
   "metadata": {
    "tags": []
   },
   "outputs": [],
   "source": [
    "df.describe()"
   ]
  },
  {
   "cell_type": "code",
   "execution_count": null,
   "id": "8a5a5acc-81a9-49dd-9dd5-b7e639240a62",
   "metadata": {},
   "outputs": [],
   "source": [
    "df['BTC-futures_liquidated_volume_long_relative'].quantile(0.6)"
   ]
  },
  {
   "cell_type": "code",
   "execution_count": null,
   "id": "0c1b9779-55a3-4222-a73f-94b43c887ac2",
   "metadata": {},
   "outputs": [],
   "source": [
    "df['BTC-futures_liquidated_volume_long_relative'].quantile(0.4)"
   ]
  },
  {
   "cell_type": "code",
   "execution_count": null,
   "id": "991e7bb0-38a0-4133-9b1a-8cbad405eee0",
   "metadata": {},
   "outputs": [],
   "source": [
    "df.iloc[:,1:2].plot()"
   ]
  },
  {
   "cell_type": "code",
   "execution_count": null,
   "id": "8e86463f-6d97-4955-8759-cacdb09dbc5d",
   "metadata": {},
   "outputs": [],
   "source": [
    "df.iloc[:,2:3].plot()"
   ]
  },
  {
   "cell_type": "code",
   "execution_count": null,
   "id": "25317a19-435c-4f80-b7ee-2cf37fa0f7cd",
   "metadata": {},
   "outputs": [],
   "source": [
    "df.iloc[:,3:4].plot()"
   ]
  },
  {
   "cell_type": "code",
   "execution_count": null,
   "id": "9a99dfc0-b979-4d35-919b-56a0fc27499d",
   "metadata": {},
   "outputs": [],
   "source": [
    "df1 = df[df.index>='20210101']\n",
    "display(df1.head(2))\n",
    "df1.plot2(cols[0],cols[1:3])"
   ]
  },
  {
   "cell_type": "code",
   "execution_count": null,
   "id": "c01ae9c3-5c38-4836-8076-9d1aef5678b6",
   "metadata": {},
   "outputs": [],
   "source": [
    "reload(autil)\n",
    "feature_raw = '{}_futures_funding_rate_perpetual'.format(a)\n",
    "feature_normalized = feature_raw\n",
    "target = '{}_price_usd_close'.format(a)\n",
    "_ = autil.ts_eda(df1, feature_raw, feature_normalized, target, save_fig=True)"
   ]
  },
  {
   "cell_type": "markdown",
   "id": "3725253c-ae82-44a8-baf7-60159e7a8506",
   "metadata": {},
   "source": [
    "### Alts"
   ]
  },
  {
   "cell_type": "code",
   "execution_count": null,
   "id": "2d19bfab-e102-4860-99f2-f53e158e465b",
   "metadata": {},
   "outputs": [],
   "source": [
    "## load data\n",
    "sym = 'AAVE'\n",
    "price0 = pd.read_pickle('/core/tmp/ppt_prc_{}_1m_20210101_20220228.pkl'.format(sym))\n",
    "liq0 = pd.read_pickle('/core/tmp/ppt_liqb_{}_1m_20210101_20220228.pkl'.format(sym))"
   ]
  },
  {
   "cell_type": "code",
   "execution_count": 3,
   "id": "db6c772f-6309-42b5-8b42-bd4dd1893f0f",
   "metadata": {},
   "outputs": [
    {
     "name": "stdout",
     "output_type": "stream",
     "text": [
      "loading transactions/transfers_volume_to_exchanges_mean asset=BTC, resolution=10m\n"
     ]
    }
   ],
   "source": [
    "fs = ['transfers_volume_to_exchanges_mean']\n",
    "\n",
    "a = ['BTC']\n",
    "#i = '10m'\n",
    "df = gn.load_features(fs,a)\n",
    "    #display(df.shape)"
   ]
  },
  {
   "cell_type": "code",
   "execution_count": null,
   "id": "8938002a-26ab-4374-9f56-45090ac0fe33",
   "metadata": {},
   "outputs": [],
   "source": [
    "gn."
   ]
  },
  {
   "cell_type": "code",
   "execution_count": 5,
   "id": "e8c2d9db-6892-48cb-9fcf-33445c688b2c",
   "metadata": {},
   "outputs": [
    {
     "name": "stdout",
     "output_type": "stream",
     "text": [
      "saved df to C:\\core\\tmp\\transfers_volume_to_exchanges_mean.pickle\n"
     ]
    }
   ],
   "source": [
    "df.save('transfers_volume_to_exchanges_mean')"
   ]
  },
  {
   "cell_type": "code",
   "execution_count": null,
   "id": "7af3c5a0-0bd4-41b9-9e48-65957b1467be",
   "metadata": {},
   "outputs": [],
   "source": [
    "glass = df.copy().resample(\"1Min\").last().fillna(0)\n",
    "glass.columns = ['v']\n",
    "glass"
   ]
  },
  {
   "cell_type": "code",
   "execution_count": 3,
   "id": "1a4e5f02-24aa-4c60-81c3-791468c89f74",
   "metadata": {},
   "outputs": [],
   "source": [
    "df = pd.read_pickle('/core/tmp/glass_balexch_BTC_10m_20210101_20220131.pkl')"
   ]
  },
  {
   "cell_type": "code",
   "execution_count": null,
   "id": "2d2b7856-90c4-4dcc-95a7-35e318ce6b6c",
   "metadata": {},
   "outputs": [],
   "source": [
    "df"
   ]
  },
  {
   "cell_type": "code",
   "execution_count": null,
   "id": "0f42d6c1-08ca-4eff-8743-d9096f6ef7f1",
   "metadata": {},
   "outputs": [],
   "source": [
    "def getsignal3(glass, price0, liq0, qtl=0.99, liql=20, priceq=0.0, qtl_w=0):\n",
    "    glass['99q'] = glass['v'].rolling(60*24).quantile(qtl)\n",
    "    glass['signal'] = (glass['v']>=glass['99q'])\n",
    "    price0['glass_signal'] = glass['signal']\n",
    "    price0['glass_signal'] = price0['glass_signal'].fillna(False)\n",
    "    \n",
    "    liq = liq0.resample(\"1Min\").last().fillna(0)\n",
    "    liq['spikes'] = liq[liq.v>liql]['v']\n",
    "    liq['spikes'] = liq['spikes'].fillna(0).rolling(100).max().fillna(0)\n",
    "    price0['liq_signal'] = liq['spikes'][liq['spikes']>liql]\n",
    "    price0['liq_signal'] = price0['liq_signal'].fillna(False)\n",
    "    \n",
    "    if qtl_w == 0:\n",
    "        price0['cq_signal'] = True\n",
    "    else:\n",
    "        price0['cq'] = pricewindow['c'].rolling(qtl_w).quantile(priceq).resample(\"1Min\").last().ffill()\n",
    "        price0['cq_signal'] = (price0['c'] >= price0['cq']).fillna(False)\n",
    "#        price0['cq'] = price0['c'].rolling(60*24*qtl_w).quantile(priceq)\n",
    "#        price0['cq_signal'] = (price0['c'] > price0['cq']).fillna(False)\n",
    "    \n",
    "    price0['s'] = price0['glass_signal'] & price0['liq_signal'] & price0['cq_signal']\n",
    "    \n",
    "    return price0[['c','glass_signal','liq_signal','cq_signal','s']]"
   ]
  },
  {
   "cell_type": "code",
   "execution_count": null,
   "id": "32dd6ab8-1e8b-4267-bffb-a68677aedd7e",
   "metadata": {},
   "outputs": [],
   "source": [
    "s = getsignal3(glass, price0, liq0)"
   ]
  },
  {
   "cell_type": "code",
   "execution_count": null,
   "id": "6c1acd54-5dde-4426-beab-566c116a93af",
   "metadata": {},
   "outputs": [],
   "source": [
    "s"
   ]
  },
  {
   "cell_type": "code",
   "execution_count": null,
   "id": "5673b7d3-0e10-4c01-9468-9a792bd5e9f3",
   "metadata": {},
   "outputs": [],
   "source": [
    "respq=[]\n",
    "price = price0\n",
    "counter0 = 0\n",
    "# for signalid, signal in signals:\n",
    "#   signal = getsignal()['s']\n",
    "for qtl in [0.99, 0.95]: #[0.995, 0.99, 0.95, 0.9]:\n",
    "    for liql in [20]: #[5, 10, 20, 50]:\n",
    "        for priceq in [0.0, 0.5, 0.6, 0.7, 0.8, 0.9]: #, 0.75, 0.9]:\n",
    "            for qtlw in [0, 7, 30, 60, 90]:\n",
    "                signal = getsignal3(qtl,liql,priceq,qtlw)['s']\n",
    "            signalid = f'{qtl}-{liql}-{priceq}-{qtlw}'\n",
    "            pricesignal = [[1,price.loc['2021.1.1':'2021.6.15'],signal.loc['2021.1.1':'2021.6.15']],\n",
    "                           [2,price.loc['2021.6.16':'2021.11.21'],signal.loc['2021.06.16':'2021.11.21']]\n",
    "                          ]\n",
    "            for short in [True]:\n",
    "                for j, priceseg, signalseg in pricesignal:\n",
    "#                for nn1 in [1,5,10,20,50,100]:\n",
    "#                    for nn2 in [101,200,300,500,1000,2000]:\n",
    "                        #signal=glass.rolling(100).max()>200\n",
    "                        counter0 = counter0 + 1\n",
    "                        print(f'{counter0} : pq:{priceq} qtlw:{qtlw} id:{signalid} {j}')\n",
    "                        ressig=runsignal(priceseg,signal=signalseg,tp=3,sl=1,ts=5,n1=None,n2=None,rsil=30,rsih=50,rsilag=14,maf=5,mas=15,short=short,size=np.inf,fees=0.0007,freq='1Min',init_cash=10000,request=['pf'])\n",
    "                        for k in ressig:\n",
    "                            try:\n",
    "                                resd={\"j\":j,\"signalid\":signalid,\"qtl\":qtl,\"liql\":liql,\"priceq\":priceq,\"pqtlw\":qtlw,\"short\":short,'k':k,'sr':ressig[k].sharpe_ratio(),'tr':ressig[k].total_return(),'ntrades':ressig[k].trades.count()/len(priceseg)*7*24*60}\n",
    "                            except:\n",
    "                                pass\n",
    "                            respq.append(resd)"
   ]
  },
  {
   "cell_type": "code",
   "execution_count": null,
   "id": "7a8722af-803a-456e-bae7-5ff64ba518e5",
   "metadata": {},
   "outputs": [],
   "source": [
    "runsignal?"
   ]
  },
  {
   "cell_type": "code",
   "execution_count": null,
   "id": "4bcc1e0e-6d03-4296-9aa7-2452dc76aee8",
   "metadata": {},
   "outputs": [],
   "source": [
    "zip(runsignal.func_code.co_varnames, args)"
   ]
  },
  {
   "cell_type": "code",
   "execution_count": null,
   "id": "bcfde498-b6af-4f5d-bf9b-75c636e39880",
   "metadata": {},
   "outputs": [],
   "source": [
    "import inspect \n",
    "inspect.signature(runsignal).parameters.keys()"
   ]
  },
  {
   "cell_type": "code",
   "execution_count": null,
   "id": "55933a3e-7cb4-4968-a494-62592b239580",
   "metadata": {},
   "outputs": [],
   "source": [
    "[k for k in inspect.signature(runsignal).parameters.keys()]"
   ]
  }
 ],
 "metadata": {
  "kernelspec": {
   "display_name": "Python 3 (ipykernel)",
   "language": "python",
   "name": "python3"
  },
  "language_info": {
   "codemirror_mode": {
    "name": "ipython",
    "version": 3
   },
   "file_extension": ".py",
   "mimetype": "text/x-python",
   "name": "python",
   "nbconvert_exporter": "python",
   "pygments_lexer": "ipython3",
   "version": "3.8.8"
  }
 },
 "nbformat": 4,
 "nbformat_minor": 5
}
