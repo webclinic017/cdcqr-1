{
 "cells": [
  {
   "cell_type": "code",
   "execution_count": 4,
   "id": "86b5facb-7c0f-44d1-b6a5-711c364e446f",
   "metadata": {},
   "outputs": [],
   "source": [
    "import pandas as pd\n",
    "import requests\n",
    "import glassnode_data as gnd\n",
    "from importlib import reload\n",
    "from cdcqr.common.utils import load_df\n",
    "from cdcqr.common.config import GLASSNODE_API_KEY\n",
    "API_KEY = GLASSNODE_API_KEY\n",
    "import json"
   ]
  },
  {
   "cell_type": "code",
   "execution_count": 5,
   "id": "63df08e5-f6c9-4c7b-8ede-95274602d1bb",
   "metadata": {},
   "outputs": [],
   "source": [
    "response = requests.get('https://api.glassnode.com/v2/metrics/endpoints',\n",
    "                        params={'api_key': API_KEY})\n",
    "if response.ok:\n",
    "    result = json.loads(response.text)"
   ]
  },
  {
   "cell_type": "code",
   "execution_count": null,
   "id": "4db51180-25e2-4efb-a355-40400e470cfc",
   "metadata": {},
   "outputs": [],
   "source": [
    "result"
   ]
  },
  {
   "cell_type": "code",
   "execution_count": 5,
   "id": "7946e02c-3d33-461d-b627-57b8fd921fcd",
   "metadata": {},
   "outputs": [
    {
     "data": {
      "text/plain": [
       "<module 'glassnode_data' from 'C:\\\\core\\\\github\\\\cdcqr\\\\cdcqr\\\\data\\\\glassnode\\\\glassnode_data.py'>"
      ]
     },
     "execution_count": 5,
     "metadata": {},
     "output_type": "execute_result"
    }
   ],
   "source": [
    "reload(gnd)"
   ]
  },
  {
   "cell_type": "code",
   "execution_count": 6,
   "id": "47cf1025-ac06-45eb-b9ea-b0e8dcdb0645",
   "metadata": {},
   "outputs": [
    {
     "data": {
      "text/html": [
       "<div>\n",
       "<style scoped>\n",
       "    .dataframe tbody tr th:only-of-type {\n",
       "        vertical-align: middle;\n",
       "    }\n",
       "\n",
       "    .dataframe tbody tr th {\n",
       "        vertical-align: top;\n",
       "    }\n",
       "\n",
       "    .dataframe thead th {\n",
       "        text-align: right;\n",
       "    }\n",
       "</style>\n",
       "<table border=\"1\" class=\"dataframe\">\n",
       "  <thead>\n",
       "    <tr style=\"text-align: right;\">\n",
       "      <th></th>\n",
       "      <th>tier</th>\n",
       "      <th>assets</th>\n",
       "      <th>currencies</th>\n",
       "      <th>resolutions</th>\n",
       "      <th>category</th>\n",
       "      <th>f</th>\n",
       "    </tr>\n",
       "  </thead>\n",
       "  <tbody>\n",
       "    <tr>\n",
       "      <th>0</th>\n",
       "      <td>3</td>\n",
       "      <td>[{'symbol': 'CREAM', 'name': 'Cream Finance', ...</td>\n",
       "      <td>[NATIVE]</td>\n",
       "      <td>[10m, 1h, 24h, 1w, 1month]</td>\n",
       "      <td>addresses</td>\n",
       "      <td>sending_to_exchanges_count</td>\n",
       "    </tr>\n",
       "    <tr>\n",
       "      <th>1</th>\n",
       "      <td>3</td>\n",
       "      <td>[{'symbol': 'CREAM', 'name': 'Cream Finance', ...</td>\n",
       "      <td>[NATIVE]</td>\n",
       "      <td>[10m, 1h, 24h, 1w, 1month]</td>\n",
       "      <td>addresses</td>\n",
       "      <td>receiving_from_exchanges_count</td>\n",
       "    </tr>\n",
       "  </tbody>\n",
       "</table>\n",
       "</div>"
      ],
      "text/plain": [
       "   tier                                             assets currencies  \\\n",
       "0     3  [{'symbol': 'CREAM', 'name': 'Cream Finance', ...   [NATIVE]   \n",
       "1     3  [{'symbol': 'CREAM', 'name': 'Cream Finance', ...   [NATIVE]   \n",
       "\n",
       "                  resolutions   category                               f  \n",
       "0  [10m, 1h, 24h, 1w, 1month]  addresses      sending_to_exchanges_count  \n",
       "1  [10m, 1h, 24h, 1w, 1month]  addresses  receiving_from_exchanges_count  "
      ]
     },
     "execution_count": 6,
     "metadata": {},
     "output_type": "execute_result"
    }
   ],
   "source": [
    "df = gnd.GlassnodeData.get_meta_info(API_KEY)\n",
    "df.head(2)"
   ]
  },
  {
   "cell_type": "code",
   "execution_count": 27,
   "id": "b36efb9c-ae25-4620-9272-dbcb2bddefd7",
   "metadata": {},
   "outputs": [],
   "source": [
    "df[['category','f','currencies','resolutions','tier']].to_csv('/core/data/glassnodemeta.csv')"
   ]
  },
  {
   "cell_type": "code",
   "execution_count": 26,
   "id": "c4dbfd57-ccfc-437a-bdab-5c09e3d0265d",
   "metadata": {},
   "outputs": [
    {
     "data": {
      "text/plain": [
       "'C:\\\\core\\\\github\\\\cdcqr\\\\cdcqr\\\\data\\\\glassnode'"
      ]
     },
     "execution_count": 26,
     "metadata": {},
     "output_type": "execute_result"
    }
   ],
   "source": [
    "pwd"
   ]
  },
  {
   "cell_type": "code",
   "execution_count": 31,
   "id": "7eaefa0e-3691-4462-80c1-12100384578a",
   "metadata": {},
   "outputs": [
    {
     "data": {
      "text/plain": [
       "Index(['addresses', 'blockchain', 'defi', 'derivatives', 'distribution',\n",
       "       'entities', 'eth2', 'fees', 'indicators', 'institutions', 'lightning',\n",
       "       'market', 'mempool', 'mining', 'protocols', 'supply', 'transactions'],\n",
       "      dtype='object', name='category')"
      ]
     },
     "execution_count": 31,
     "metadata": {},
     "output_type": "execute_result"
    }
   ],
   "source": [
    "x = df.groupby('category')['f'].unique()\n",
    "x.index"
   ]
  },
  {
   "cell_type": "code",
   "execution_count": 8,
   "id": "3f549e94-8aca-485f-b7fc-01541b7d787b",
   "metadata": {},
   "outputs": [
    {
     "data": {
      "text/html": [
       "<div>\n",
       "<style scoped>\n",
       "    .dataframe tbody tr th:only-of-type {\n",
       "        vertical-align: middle;\n",
       "    }\n",
       "\n",
       "    .dataframe tbody tr th {\n",
       "        vertical-align: top;\n",
       "    }\n",
       "\n",
       "    .dataframe thead th {\n",
       "        text-align: right;\n",
       "    }\n",
       "</style>\n",
       "<table border=\"1\" class=\"dataframe\">\n",
       "  <thead>\n",
       "    <tr style=\"text-align: right;\">\n",
       "      <th></th>\n",
       "      <th>tier</th>\n",
       "      <th>assets</th>\n",
       "      <th>currencies</th>\n",
       "      <th>resolutions</th>\n",
       "      <th>category</th>\n",
       "      <th>f</th>\n",
       "    </tr>\n",
       "  </thead>\n",
       "  <tbody>\n",
       "    <tr>\n",
       "      <th>0</th>\n",
       "      <td>3</td>\n",
       "      <td>[{'symbol': 'CREAM', 'name': 'Cream Finance', ...</td>\n",
       "      <td>[NATIVE]</td>\n",
       "      <td>[10m, 1h, 24h, 1w, 1month]</td>\n",
       "      <td>addresses</td>\n",
       "      <td>sending_to_exchanges_count</td>\n",
       "    </tr>\n",
       "    <tr>\n",
       "      <th>1</th>\n",
       "      <td>3</td>\n",
       "      <td>[{'symbol': 'CREAM', 'name': 'Cream Finance', ...</td>\n",
       "      <td>[NATIVE]</td>\n",
       "      <td>[10m, 1h, 24h, 1w, 1month]</td>\n",
       "      <td>addresses</td>\n",
       "      <td>receiving_from_exchanges_count</td>\n",
       "    </tr>\n",
       "    <tr>\n",
       "      <th>2</th>\n",
       "      <td>1</td>\n",
       "      <td>[{'symbol': 'BTC', 'name': 'Bitcoin', 'tags': ...</td>\n",
       "      <td>[NATIVE]</td>\n",
       "      <td>[1h, 24h, 10m, 1w, 1month]</td>\n",
       "      <td>addresses</td>\n",
       "      <td>count</td>\n",
       "    </tr>\n",
       "    <tr>\n",
       "      <th>3</th>\n",
       "      <td>1</td>\n",
       "      <td>[{'symbol': 'BTC', 'name': 'Bitcoin', 'tags': ...</td>\n",
       "      <td>[NATIVE]</td>\n",
       "      <td>[1h, 24h, 10m, 1w, 1month]</td>\n",
       "      <td>addresses</td>\n",
       "      <td>sending_count</td>\n",
       "    </tr>\n",
       "    <tr>\n",
       "      <th>4</th>\n",
       "      <td>1</td>\n",
       "      <td>[{'symbol': 'BTC', 'name': 'Bitcoin', 'tags': ...</td>\n",
       "      <td>[NATIVE]</td>\n",
       "      <td>[1h, 24h, 10m, 1w, 1month]</td>\n",
       "      <td>addresses</td>\n",
       "      <td>receiving_count</td>\n",
       "    </tr>\n",
       "    <tr>\n",
       "      <th>...</th>\n",
       "      <td>...</td>\n",
       "      <td>...</td>\n",
       "      <td>...</td>\n",
       "      <td>...</td>\n",
       "      <td>...</td>\n",
       "      <td>...</td>\n",
       "    </tr>\n",
       "    <tr>\n",
       "      <th>398</th>\n",
       "      <td>2</td>\n",
       "      <td>[{'symbol': 'BTC', 'name': 'Bitcoin', 'tags': ...</td>\n",
       "      <td>[NATIVE, USD]</td>\n",
       "      <td>[10m, 1h, 24h]</td>\n",
       "      <td>mempool</td>\n",
       "      <td>txs_value_sum</td>\n",
       "    </tr>\n",
       "    <tr>\n",
       "      <th>399</th>\n",
       "      <td>2</td>\n",
       "      <td>[{'symbol': 'BTC', 'name': 'Bitcoin', 'tags': ...</td>\n",
       "      <td>[NATIVE, USD]</td>\n",
       "      <td>[10m, 1h, 24h]</td>\n",
       "      <td>mempool</td>\n",
       "      <td>fees_average_relative</td>\n",
       "    </tr>\n",
       "    <tr>\n",
       "      <th>400</th>\n",
       "      <td>2</td>\n",
       "      <td>[{'symbol': 'BTC', 'name': 'Bitcoin', 'tags': ...</td>\n",
       "      <td>[NATIVE, USD]</td>\n",
       "      <td>[10m, 1h, 24h]</td>\n",
       "      <td>mempool</td>\n",
       "      <td>fees_median_relative</td>\n",
       "    </tr>\n",
       "    <tr>\n",
       "      <th>401</th>\n",
       "      <td>2</td>\n",
       "      <td>[{'symbol': 'BTC', 'name': 'Bitcoin', 'tags': ...</td>\n",
       "      <td>[NATIVE, USD]</td>\n",
       "      <td>[1h, 24h, 10m]</td>\n",
       "      <td>derivatives</td>\n",
       "      <td>futures_volume_daily_all_sum</td>\n",
       "    </tr>\n",
       "    <tr>\n",
       "      <th>402</th>\n",
       "      <td>2</td>\n",
       "      <td>[{'symbol': 'BTC', 'name': 'Bitcoin', 'tags': ...</td>\n",
       "      <td>[NATIVE, USD]</td>\n",
       "      <td>[1h, 24h, 10m]</td>\n",
       "      <td>derivatives</td>\n",
       "      <td>futures_open_interest_all_sum</td>\n",
       "    </tr>\n",
       "  </tbody>\n",
       "</table>\n",
       "<p>403 rows × 6 columns</p>\n",
       "</div>"
      ],
      "text/plain": [
       "     tier                                             assets     currencies  \\\n",
       "0       3  [{'symbol': 'CREAM', 'name': 'Cream Finance', ...       [NATIVE]   \n",
       "1       3  [{'symbol': 'CREAM', 'name': 'Cream Finance', ...       [NATIVE]   \n",
       "2       1  [{'symbol': 'BTC', 'name': 'Bitcoin', 'tags': ...       [NATIVE]   \n",
       "3       1  [{'symbol': 'BTC', 'name': 'Bitcoin', 'tags': ...       [NATIVE]   \n",
       "4       1  [{'symbol': 'BTC', 'name': 'Bitcoin', 'tags': ...       [NATIVE]   \n",
       "..    ...                                                ...            ...   \n",
       "398     2  [{'symbol': 'BTC', 'name': 'Bitcoin', 'tags': ...  [NATIVE, USD]   \n",
       "399     2  [{'symbol': 'BTC', 'name': 'Bitcoin', 'tags': ...  [NATIVE, USD]   \n",
       "400     2  [{'symbol': 'BTC', 'name': 'Bitcoin', 'tags': ...  [NATIVE, USD]   \n",
       "401     2  [{'symbol': 'BTC', 'name': 'Bitcoin', 'tags': ...  [NATIVE, USD]   \n",
       "402     2  [{'symbol': 'BTC', 'name': 'Bitcoin', 'tags': ...  [NATIVE, USD]   \n",
       "\n",
       "                    resolutions     category                               f  \n",
       "0    [10m, 1h, 24h, 1w, 1month]    addresses      sending_to_exchanges_count  \n",
       "1    [10m, 1h, 24h, 1w, 1month]    addresses  receiving_from_exchanges_count  \n",
       "2    [1h, 24h, 10m, 1w, 1month]    addresses                           count  \n",
       "3    [1h, 24h, 10m, 1w, 1month]    addresses                   sending_count  \n",
       "4    [1h, 24h, 10m, 1w, 1month]    addresses                 receiving_count  \n",
       "..                          ...          ...                             ...  \n",
       "398              [10m, 1h, 24h]      mempool                   txs_value_sum  \n",
       "399              [10m, 1h, 24h]      mempool           fees_average_relative  \n",
       "400              [10m, 1h, 24h]      mempool            fees_median_relative  \n",
       "401              [1h, 24h, 10m]  derivatives    futures_volume_daily_all_sum  \n",
       "402              [1h, 24h, 10m]  derivatives   futures_open_interest_all_sum  \n",
       "\n",
       "[403 rows x 6 columns]"
      ]
     },
     "execution_count": 8,
     "metadata": {},
     "output_type": "execute_result"
    }
   ],
   "source": [
    "df"
   ]
  },
  {
   "cell_type": "code",
   "execution_count": 35,
   "id": "74d674da-608a-48f8-ba7c-9d3fcf59bb52",
   "metadata": {
    "tags": []
   },
   "outputs": [
    {
     "name": "stdout",
     "output_type": "stream",
     "text": [
      "34\n",
      "8\n"
     ]
    },
    {
     "data": {
      "text/plain": [
       "['options_atm_implied_volatility_1_week',\n",
       " 'options_atm_implied_volatility_1_month',\n",
       " 'options_atm_implied_volatility_3_months',\n",
       " 'options_atm_implied_volatility_6_months',\n",
       " 'options_atm_implied_volatility_all',\n",
       " 'options_volume_daily_sum',\n",
       " 'options_open_interest_sum',\n",
       " 'options_open_interest_distribution']"
      ]
     },
     "metadata": {},
     "output_type": "display_data"
    }
   ],
   "source": [
    "cat_name = 'derivatives'\n",
    "all_feats = [x for x in x.loc[cat_name]]\n",
    "\n",
    "\n",
    "print(len(all_feats))\n",
    "#display(all_feats)\n",
    "\n",
    "feats1 = [x for x in all_feats if 'options' in x]\n",
    "\n",
    "print(len(feats1))\n",
    "display(feats1)"
   ]
  },
  {
   "cell_type": "code",
   "execution_count": 32,
   "id": "59010919-c18f-4c17-9f13-e1f08481c0ea",
   "metadata": {
    "tags": []
   },
   "outputs": [
    {
     "name": "stdout",
     "output_type": "stream",
     "text": [
      "34\n"
     ]
    },
    {
     "data": {
      "text/plain": [
       "['futures_funding_rate_perpetual',\n",
       " 'futures_funding_rate_perpetual_all',\n",
       " 'futures_open_interest_cash_margin_sum',\n",
       " 'futures_open_interest_crypto_margin_sum',\n",
       " 'futures_open_interest_crypto_margin_relative',\n",
       " 'futures_estimated_leverage_ratio',\n",
       " 'options_atm_implied_volatility_1_week',\n",
       " 'options_atm_implied_volatility_1_month',\n",
       " 'options_atm_implied_volatility_3_months',\n",
       " 'options_atm_implied_volatility_6_months',\n",
       " 'options_atm_implied_volatility_all',\n",
       " 'futures_volume_daily_sum',\n",
       " 'futures_volume_daily_perpetual_sum',\n",
       " 'futures_open_interest_sum',\n",
       " 'futures_open_interest_perpetual_sum',\n",
       " 'futures_liquidated_volume_short_sum',\n",
       " 'futures_liquidated_volume_short_mean',\n",
       " 'futures_liquidated_volume_long_sum',\n",
       " 'futures_liquidated_volume_long_mean',\n",
       " 'futures_liquidated_volume_long_relative',\n",
       " 'futures_volume_daily_sum_all',\n",
       " 'futures_volume_daily_perpetual_sum_all',\n",
       " 'futures_open_interest_sum_all',\n",
       " 'futures_open_interest_perpetual_sum_all',\n",
       " 'options_volume_daily_sum',\n",
       " 'options_open_interest_sum',\n",
       " 'options_open_interest_distribution',\n",
       " 'futures_term_structure',\n",
       " 'futures_term_structure_by_exchange',\n",
       " 'futures_annualized_basis_3m',\n",
       " 'futures_open_interest_latest',\n",
       " 'futures_volume_daily_latest',\n",
       " 'futures_volume_daily_all_sum',\n",
       " 'futures_open_interest_all_sum']"
      ]
     },
     "metadata": {},
     "output_type": "display_data"
    }
   ],
   "source": []
  },
  {
   "cell_type": "code",
   "execution_count": 22,
   "id": "b2609fe2-9ea2-45d1-b37a-7a84d362f8de",
   "metadata": {
    "tags": []
   },
   "outputs": [
    {
     "name": "stdout",
     "output_type": "stream",
     "text": [
      "12\n"
     ]
    },
    {
     "data": {
      "text/plain": [
       "['price_usd',\n",
       " 'price_usd_close',\n",
       " 'price_usd_ohlc',\n",
       " 'price_drawdown_relative',\n",
       " 'deltacap_usd',\n",
       " 'marketcap_usd',\n",
       " 'mvrv',\n",
       " 'marketcap_realized_usd',\n",
       " 'mvrv_z_score',\n",
       " 'mvrv_less_155',\n",
       " 'mvrv_more_155',\n",
       " 'price_realized_usd']"
      ]
     },
     "metadata": {},
     "output_type": "display_data"
    }
   ],
   "source": [
    "cat_name = 'market'\n",
    "all_feats = [x for x in x.loc[cat_name]]\n",
    "print(len(all_feats))\n",
    "display(all_feats)"
   ]
  },
  {
   "cell_type": "code",
   "execution_count": 21,
   "id": "4b8ac343-b900-4043-a0d6-a143ffeb0dcb",
   "metadata": {
    "tags": []
   },
   "outputs": [
    {
     "name": "stdout",
     "output_type": "stream",
     "text": [
      "32\n"
     ]
    },
    {
     "data": {
      "text/plain": [
       "['purpose_etf_holdings_sum',\n",
       " 'purpose_etf_flows_sum',\n",
       " 'purpose_etf_aum_sum',\n",
       " 'qbtc_holdings_sum',\n",
       " 'qbtc_flows_sum',\n",
       " 'qbtc_premium_percent',\n",
       " 'qbtc_aum_sum',\n",
       " 'qbtc_market_price_usd',\n",
       " '3iq_qbtc_holdings_sum',\n",
       " '3iq_qbtc_flows_sum',\n",
       " '3iq_qbtc_premium_percent',\n",
       " '3iq_qbtc_outstanding_units_sum',\n",
       " '3iq_qbtc_aum_sum',\n",
       " '3iq_qbtc_market_price_usd',\n",
       " '3iq_btcq_holdings_sum',\n",
       " '3iq_btcq_flows_sum',\n",
       " '3iq_btcq_premium_percent',\n",
       " '3iq_btcq_outstanding_units_sum',\n",
       " '3iq_btcq_aum_sum',\n",
       " '3iq_btcq_market_price_usd',\n",
       " '3iq_qeth_holdings_sum',\n",
       " '3iq_qeth_flows_sum',\n",
       " '3iq_qeth_premium_percent',\n",
       " '3iq_qeth_outstanding_units_sum',\n",
       " '3iq_qeth_aum_sum',\n",
       " '3iq_qeth_market_price_usd',\n",
       " '3iq_ethq_holdings_sum',\n",
       " '3iq_ethq_flows_sum',\n",
       " '3iq_ethq_premium_percent',\n",
       " '3iq_ethq_outstanding_units_sum',\n",
       " '3iq_ethq_aum_sum',\n",
       " '3iq_ethq_market_price_usd']"
      ]
     },
     "metadata": {},
     "output_type": "display_data"
    }
   ],
   "source": [
    "cat_name = 'institutions'\n",
    "all_feats = [x for x in x.loc[cat_name]]\n",
    "print(len(all_feats))\n",
    "display(all_feats)"
   ]
  },
  {
   "cell_type": "code",
   "execution_count": 19,
   "id": "c5bb91b4-f0bb-4eb8-84c5-9333f7233d69",
   "metadata": {
    "tags": []
   },
   "outputs": [
    {
     "name": "stdout",
     "output_type": "stream",
     "text": [
      "97\n",
      "23\n",
      "48\n",
      "33\n"
     ]
    },
    {
     "data": {
      "text/plain": [
       "['average_dormancy',\n",
       " 'average_dormancy_supply_adjusted',\n",
       " 'balanced_price_usd',\n",
       " 'bvin',\n",
       " 'difficulty_ribbon',\n",
       " 'difficulty_ribbon_compression',\n",
       " 'dormancy_account_based',\n",
       " 'dormancy_flow',\n",
       " 'hash_ribbon',\n",
       " 'hodled_lost_coins',\n",
       " 'hodler_net_position_change',\n",
       " 'investor_capitalization',\n",
       " 'liveliness',\n",
       " 'liveliness_account_based',\n",
       " 'mvrv_account_based',\n",
       " 'nvt',\n",
       " 'nvt_entity_adjusted',\n",
       " 'nvts',\n",
       " 'pi_cycle_top',\n",
       " 'puell_multiple',\n",
       " 'rcap_account_based',\n",
       " 'reserve_risk',\n",
       " 'rhodl_ratio',\n",
       " 'seller_exhaustion_constant',\n",
       " 'spent_output_price_distribution_ath',\n",
       " 'spent_output_price_distribution_percent',\n",
       " 'ssr',\n",
       " 'ssr_oscillator',\n",
       " 'stock_to_flow_deflection',\n",
       " 'stock_to_flow_ratio',\n",
       " 'utxo_realized_price_distribution_ath',\n",
       " 'utxo_realized_price_distribution_percent',\n",
       " 'velocity']"
      ]
     },
     "metadata": {},
     "output_type": "display_data"
    }
   ],
   "source": [
    "cat_name = 'indicators'\n",
    "all_feats = [x for x in x.loc[cat_name]]\n",
    "print(len(all_feats))\n",
    "# display(all_feats)\n",
    "\n",
    "feats1 = [x for x in all_feats if 'sopr' in x ]\n",
    "#print(len(feats1))\n",
    "#display(feats1)\n",
    "\n",
    "feats2 = [x for x in all_feats if 'so' in x ]\n",
    "print(len(feats2))\n",
    "#display(feats2)\n",
    "\n",
    "feats3 = [x for x in all_feats if x not in feats2 if 'sv' in x]\n",
    "#print(len(feats3))\n",
    "#display(sorted(feats3))\n",
    "#print(len(feats4))\n",
    "#display(sorted(feats4))\n",
    "\n",
    "feats5 = [x for x in all_feats \n",
    "          if x not in feats2 \n",
    "          and x not in feats3 \n",
    "          and x not in feats4\n",
    "          ]\n",
    "print(len(feats5))\n",
    "#display(sorted(feats5))\n",
    "\n",
    "feats6 = [x for x in feats5 if 'profit' in x or 'loss' in x or 'nupl' in x]\n",
    "#print(len(feats6))\n",
    "#display(sorted(feats6))\n",
    "\n",
    "feats7 = [x for x in all_feats \n",
    "          if x not in feats2 \n",
    "          and x not in feats3 \n",
    "          and x not in feats4\n",
    "          and x not in feats6\n",
    "          ]\n",
    "print(len(feats7))\n",
    "display(sorted(feats7))"
   ]
  },
  {
   "cell_type": "code",
   "execution_count": null,
   "id": "8d28c04a-36c5-4920-8568-925acaf0f996",
   "metadata": {},
   "outputs": [],
   "source": []
  },
  {
   "cell_type": "code",
   "execution_count": null,
   "id": "42f55ec2-4a52-47af-98f6-6b4c5610a088",
   "metadata": {},
   "outputs": [],
   "source": [
    "display([x for x in x.loc['distribution'] ])\n",
    "display([x for x in x.loc['distribution'] if 'exchange' not in x])"
   ]
  },
  {
   "cell_type": "code",
   "execution_count": 3,
   "id": "858f5c09-b980-4f0c-a376-010393ecc6bc",
   "metadata": {},
   "outputs": [
    {
     "ename": "NameError",
     "evalue": "name 'x' is not defined",
     "output_type": "error",
     "traceback": [
      "\u001b[1;31m---------------------------------------------------------------------------\u001b[0m",
      "\u001b[1;31mNameError\u001b[0m                                 Traceback (most recent call last)",
      "\u001b[1;32m~\\AppData\\Local\\Temp/ipykernel_17804/1121464411.py\u001b[0m in \u001b[0;36m<module>\u001b[1;34m\u001b[0m\n\u001b[1;32m----> 1\u001b[1;33m \u001b[1;33m[\u001b[0m\u001b[0mx\u001b[0m \u001b[1;32mfor\u001b[0m \u001b[0mx\u001b[0m \u001b[1;32min\u001b[0m \u001b[0mx\u001b[0m\u001b[1;33m.\u001b[0m\u001b[0mloc\u001b[0m\u001b[1;33m[\u001b[0m\u001b[1;34m'derivatives'\u001b[0m\u001b[1;33m]\u001b[0m \u001b[1;33m]\u001b[0m\u001b[1;33m\u001b[0m\u001b[1;33m\u001b[0m\u001b[0m\n\u001b[0m",
      "\u001b[1;31mNameError\u001b[0m: name 'x' is not defined"
     ]
    }
   ],
   "source": [
    "[x for x in x.loc['derivatives'] ]"
   ]
  },
  {
   "cell_type": "code",
   "execution_count": null,
   "id": "f008adc7-acfa-4091-b04d-0082aa7ccf00",
   "metadata": {},
   "outputs": [],
   "source": [
    "[x for x in x.loc['addresses'] \n",
    "if x not in address_supply_bal\n",
    "and 'min' not in x]"
   ]
  },
  {
   "cell_type": "code",
   "execution_count": null,
   "id": "98074e7b-cc35-4393-8283-08b7031eabfb",
   "metadata": {},
   "outputs": [],
   "source": [
    "address_supply_bal = [x for x in x.loc['addresses'] if 'supply_balance' in x]\n",
    "address_supply_bal"
   ]
  },
  {
   "cell_type": "code",
   "execution_count": null,
   "id": "132bb5a2-e48c-4b14-b701-80cc9e28b38d",
   "metadata": {},
   "outputs": [],
   "source": [
    "supply_liquidity =[ x for x in x.loc['supply'] if 'liquid' in x]\n",
    "supply_liquidity"
   ]
  },
  {
   "cell_type": "code",
   "execution_count": null,
   "id": "aaad9bcf-410b-4cb3-b7a1-ac7b3b631239",
   "metadata": {},
   "outputs": [],
   "source": [
    "supply_revive =[ x for x in x.loc['supply'] if 'revive' in x]\n",
    "supply_revive"
   ]
  },
  {
   "cell_type": "code",
   "execution_count": null,
   "id": "dbb8d130-29ae-4dbe-92ce-53c2b1f1d0b7",
   "metadata": {},
   "outputs": [],
   "source": [
    "supply_active =[ x for x in x.loc['supply'] if 'active' in x]\n",
    "supply_pnl = [ x for x in x.loc['supply'] if 'profit' in x or 'loss' in x]\n",
    "supply_lth_sth = [ x for x in x.loc['supply'] if 'lth' in x or 'sth' in x]"
   ]
  },
  {
   "cell_type": "code",
   "execution_count": null,
   "id": "93edccc3-92ff-4770-bac9-a7b3adf3a94e",
   "metadata": {},
   "outputs": [],
   "source": [
    "[ x for x in x.loc['supply'] if  x not in supply_liquidity\n",
    "and x not in supply_revive\n",
    "and x not in supply_active\n",
    "and x not in supply_lth_sth\n",
    "and x not in supply_pnl]"
   ]
  },
  {
   "cell_type": "code",
   "execution_count": null,
   "id": "a8c9c6a4-059f-4930-854e-fe891dc1cdc4",
   "metadata": {
    "tags": []
   },
   "outputs": [],
   "source": [
    "for i in x.index:\n",
    "    print(i, x.loc[i])"
   ]
  },
  {
   "cell_type": "code",
   "execution_count": null,
   "id": "fef0fd67-8cb9-479f-88eb-cbf5227599c9",
   "metadata": {},
   "outputs": [],
   "source": [
    "tx_miner = [x for x in list(x.loc['transactions']) if 'miners'  in x]\n",
    "tx_exchange = [x for x in list(x.loc['transactions']) if 'exchanges'  in x]\n",
    "tx_pnl =  [x for x in list(x.loc['transactions']) if 'profit' in x or 'loss' in x]\n",
    "tx_otc =  [x for x in list(x.loc['transactions']) if 'otc'  in x]\n",
    "\n",
    "\n",
    "tx_res = [x for x in list(x.loc['transactions']) \n",
    "          if x not in tx_miner \n",
    "          and x not in tx_pnl\n",
    "          and x not in tx_exchange\n",
    "          and x not in tx_otc]\n",
    "\n",
    "tx_transfer = [x for x in list(x.loc['transactions']) if 'transfers' in x \n",
    "               and x not in tx_otc\n",
    "              and x not in tx_exchange\n",
    "              and x not in tx_miner\n",
    "              and x not in tx_pnl]\n",
    "tx_transfer"
   ]
  },
  {
   "cell_type": "code",
   "execution_count": null,
   "id": "804cf5c4-d620-4f17-bf19-a7f0cd125df9",
   "metadata": {},
   "outputs": [],
   "source": [
    "[x for x in list(x.loc['transactions']) if 'exchanges'  in x]"
   ]
  },
  {
   "cell_type": "code",
   "execution_count": null,
   "id": "711926d1-ee48-4221-a376-350a9ff0e49e",
   "metadata": {},
   "outputs": [],
   "source": [
    "tx_res = [x for x in list(x.loc['transactions']) if 'miners' not in x and 'changes' not in x and 'otc' not in x]\n",
    "[x for x in tx_res if 'profit' in x or 'loss' in x]"
   ]
  },
  {
   "cell_type": "code",
   "execution_count": null,
   "id": "d0a2b764-0994-41b3-b5d9-58b5d1265f3f",
   "metadata": {},
   "outputs": [],
   "source": [
    "df1 = df.query('category==\"transactions\"').reset_index(drop=True)"
   ]
  },
  {
   "cell_type": "code",
   "execution_count": null,
   "id": "de41e1b8-0ff3-45cc-805e-ed9beb3992cf",
   "metadata": {},
   "outputs": [],
   "source": [
    "save_df(df, 'glassnode_meta', 'csv')"
   ]
  },
  {
   "cell_type": "code",
   "execution_count": null,
   "id": "51595e52-9785-4cfc-ba34-7cad7b184e03",
   "metadata": {},
   "outputs": [],
   "source": [
    "df1 = load_df('glassnode_meta', 'csv')"
   ]
  },
  {
   "cell_type": "code",
   "execution_count": null,
   "id": "0e47d17d-cedd-4195-9e2c-e937e81b73e9",
   "metadata": {},
   "outputs": [],
   "source": [
    "df2 = df1.query('category==\"transactions\"')"
   ]
  },
  {
   "cell_type": "code",
   "execution_count": null,
   "id": "d8c3a560-9aec-483e-bacf-d221aee47b45",
   "metadata": {},
   "outputs": [],
   "source": [
    "save_df(df2, 'glassnode_transactions','csv')"
   ]
  },
  {
   "cell_type": "code",
   "execution_count": null,
   "id": "7e7d919f-e99d-4bfe-b878-3338184d59d7",
   "metadata": {},
   "outputs": [],
   "source": []
  }
 ],
 "metadata": {
  "kernelspec": {
   "display_name": "Python 3 (ipykernel)",
   "language": "python",
   "name": "python3"
  },
  "language_info": {
   "codemirror_mode": {
    "name": "ipython",
    "version": 3
   },
   "file_extension": ".py",
   "mimetype": "text/x-python",
   "name": "python",
   "nbconvert_exporter": "python",
   "pygments_lexer": "ipython3",
   "version": "3.8.8"
  }
 },
 "nbformat": 4,
 "nbformat_minor": 5
}
