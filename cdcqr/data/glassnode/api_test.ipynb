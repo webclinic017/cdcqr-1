{
 "cells": [
  {
   "cell_type": "code",
   "execution_count": null,
   "id": "86b5facb-7c0f-44d1-b6a5-711c364e446f",
   "metadata": {},
   "outputs": [],
   "source": [
    "import pandas as pd\n",
    "import requests\n",
    "import glassnode_data as gnd\n",
    "from importlib import reload\n",
    "from cdcqr.common.utils import save_df, load_df\n",
    "API_KEY = '1wvlrc0JsEMIWF6enI69cWiOojq'"
   ]
  },
  {
   "cell_type": "code",
   "execution_count": null,
   "id": "7946e02c-3d33-461d-b627-57b8fd921fcd",
   "metadata": {},
   "outputs": [],
   "source": [
    "reload(gnd)"
   ]
  },
  {
   "cell_type": "code",
   "execution_count": null,
   "id": "47cf1025-ac06-45eb-b9ea-b0e8dcdb0645",
   "metadata": {},
   "outputs": [],
   "source": [
    "df = gnd.GlassnodeData.get_meta_info(API_KEY)\n",
    "df.head(2)"
   ]
  },
  {
   "cell_type": "code",
   "execution_count": null,
   "id": "d0a2b764-0994-41b3-b5d9-58b5d1265f3f",
   "metadata": {},
   "outputs": [],
   "source": [
    "df1 = df.query('category==\"transactions\"').reset_index(drop=True)"
   ]
  },
  {
   "cell_type": "code",
   "execution_count": null,
   "id": "de41e1b8-0ff3-45cc-805e-ed9beb3992cf",
   "metadata": {},
   "outputs": [],
   "source": [
    "save_df(df, 'glassnode_meta', 'csv')"
   ]
  },
  {
   "cell_type": "code",
   "execution_count": null,
   "id": "51595e52-9785-4cfc-ba34-7cad7b184e03",
   "metadata": {},
   "outputs": [],
   "source": [
    "df1 = load_df('glassnode_meta', 'csv')"
   ]
  },
  {
   "cell_type": "code",
   "execution_count": null,
   "id": "0e47d17d-cedd-4195-9e2c-e937e81b73e9",
   "metadata": {},
   "outputs": [],
   "source": [
    "df2 = df1.query('category==\"transactions\"')"
   ]
  },
  {
   "cell_type": "code",
   "execution_count": null,
   "id": "d8c3a560-9aec-483e-bacf-d221aee47b45",
   "metadata": {},
   "outputs": [],
   "source": [
    "save_df(df2, 'glassnode_transactions','csv')"
   ]
  },
  {
   "cell_type": "code",
   "execution_count": null,
   "id": "7e7d919f-e99d-4bfe-b878-3338184d59d7",
   "metadata": {},
   "outputs": [],
   "source": []
  }
 ],
 "metadata": {
  "kernelspec": {
   "display_name": "Python 3 (ipykernel)",
   "language": "python",
   "name": "python3"
  },
  "language_info": {
   "codemirror_mode": {
    "name": "ipython",
    "version": 3
   },
   "file_extension": ".py",
   "mimetype": "text/x-python",
   "name": "python",
   "nbconvert_exporter": "python",
   "pygments_lexer": "ipython3",
   "version": "3.8.8"
  }
 },
 "nbformat": 4,
 "nbformat_minor": 5
}
