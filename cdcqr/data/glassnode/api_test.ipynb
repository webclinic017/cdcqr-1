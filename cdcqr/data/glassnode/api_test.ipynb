{
 "cells": [
  {
   "cell_type": "code",
   "execution_count": null,
   "id": "86b5facb-7c0f-44d1-b6a5-711c364e446f",
   "metadata": {},
   "outputs": [],
   "source": [
    "import pandas as pd\n",
    "import requests\n",
    "import glassnode_data as gnd\n",
    "from importlib import reload\n",
    "from cdcqr.common.utils import load_df\n",
    "from cdcqr.common.config import GLASSNODE_API_KEY\n",
    "API_KEY = GLASSNODE_API_KEY"
   ]
  },
  {
   "cell_type": "code",
   "execution_count": null,
   "id": "7946e02c-3d33-461d-b627-57b8fd921fcd",
   "metadata": {},
   "outputs": [],
   "source": [
    "reload(gnd)"
   ]
  },
  {
   "cell_type": "code",
   "execution_count": null,
   "id": "47cf1025-ac06-45eb-b9ea-b0e8dcdb0645",
   "metadata": {},
   "outputs": [],
   "source": [
    "df = gnd.GlassnodeData.get_meta_info(API_KEY)\n",
    "df.head(2)"
   ]
  },
  {
   "cell_type": "code",
   "execution_count": null,
   "id": "7eaefa0e-3691-4462-80c1-12100384578a",
   "metadata": {},
   "outputs": [],
   "source": [
    "x = df.groupby('category')['f'].unique()\n",
    "x"
   ]
  },
  {
   "cell_type": "code",
   "execution_count": null,
   "id": "3f549e94-8aca-485f-b7fc-01541b7d787b",
   "metadata": {},
   "outputs": [],
   "source": [
    "df"
   ]
  },
  {
   "cell_type": "code",
   "execution_count": null,
   "id": "4765d6c5-7801-4dcf-8db2-4e55457cebf1",
   "metadata": {},
   "outputs": [],
   "source": [
    "cat_name = 'indicators'\n",
    "all_feats = [x for x in x.loc[cat_name]]\n",
    "print(len(all_feats))\n",
    "# display(all_feats)\n",
    "\n",
    "feats1 = [x for x in all_feats if 'sopr' in x ]\n",
    "#print(len(feats1))\n",
    "#display(feats1)\n",
    "\n",
    "feats2 = [x for x in all_feats if 'so' in x ]\n",
    "print(len(feats2))\n",
    "#display(feats2)\n",
    "\n",
    "feats3 = [x for x in all_feats if x not in feats2 if 'sv' in x]\n",
    "#print(len(feats3))\n",
    "#display(sorted(feats3))\n",
    "\n",
    "feats4 = [x for x in all_feats if x not in feats2 and x not in feats3 if ('cdd' in x or 'cyd' in x or 'cvdd' in x)]\n",
    "#print(len(feats4))\n",
    "#display(sorted(feats4))\n",
    "\n",
    "feats5 = [x for x in all_feats \n",
    "          if x not in feats2 \n",
    "          and x not in feats3 \n",
    "          and x not in feats4\n",
    "          ]\n",
    "print(len(feats5))\n",
    "display(sorted(feats5))"
   ]
  },
  {
   "cell_type": "code",
   "execution_count": null,
   "id": "42f55ec2-4a52-47af-98f6-6b4c5610a088",
   "metadata": {},
   "outputs": [],
   "source": [
    "display([x for x in x.loc['distribution'] ])\n",
    "display([x for x in x.loc['distribution'] if 'exchange' not in x])"
   ]
  },
  {
   "cell_type": "code",
   "execution_count": null,
   "id": "858f5c09-b980-4f0c-a376-010393ecc6bc",
   "metadata": {},
   "outputs": [],
   "source": [
    "[x for x in x.loc['derivatives'] ]"
   ]
  },
  {
   "cell_type": "code",
   "execution_count": null,
   "id": "f008adc7-acfa-4091-b04d-0082aa7ccf00",
   "metadata": {},
   "outputs": [],
   "source": [
    "[x for x in x.loc['addresses'] \n",
    "if x not in address_supply_bal\n",
    "and 'min' not in x]"
   ]
  },
  {
   "cell_type": "code",
   "execution_count": null,
   "id": "98074e7b-cc35-4393-8283-08b7031eabfb",
   "metadata": {},
   "outputs": [],
   "source": [
    "address_supply_bal = [x for x in x.loc['addresses'] if 'supply_balance' in x]\n",
    "address_supply_bal"
   ]
  },
  {
   "cell_type": "code",
   "execution_count": null,
   "id": "132bb5a2-e48c-4b14-b701-80cc9e28b38d",
   "metadata": {},
   "outputs": [],
   "source": [
    "supply_liquidity =[ x for x in x.loc['supply'] if 'liquid' in x]\n",
    "supply_liquidity"
   ]
  },
  {
   "cell_type": "code",
   "execution_count": null,
   "id": "aaad9bcf-410b-4cb3-b7a1-ac7b3b631239",
   "metadata": {},
   "outputs": [],
   "source": [
    "supply_revive =[ x for x in x.loc['supply'] if 'revive' in x]\n",
    "supply_revive"
   ]
  },
  {
   "cell_type": "code",
   "execution_count": null,
   "id": "dbb8d130-29ae-4dbe-92ce-53c2b1f1d0b7",
   "metadata": {},
   "outputs": [],
   "source": [
    "supply_active =[ x for x in x.loc['supply'] if 'active' in x]\n",
    "supply_pnl = [ x for x in x.loc['supply'] if 'profit' in x or 'loss' in x]\n",
    "supply_lth_sth = [ x for x in x.loc['supply'] if 'lth' in x or 'sth' in x]"
   ]
  },
  {
   "cell_type": "code",
   "execution_count": null,
   "id": "93edccc3-92ff-4770-bac9-a7b3adf3a94e",
   "metadata": {},
   "outputs": [],
   "source": [
    "[ x for x in x.loc['supply'] if  x not in supply_liquidity\n",
    "and x not in supply_revive\n",
    "and x not in supply_active\n",
    "and x not in supply_lth_sth\n",
    "and x not in supply_pnl]"
   ]
  },
  {
   "cell_type": "code",
   "execution_count": null,
   "id": "a8c9c6a4-059f-4930-854e-fe891dc1cdc4",
   "metadata": {
    "tags": []
   },
   "outputs": [],
   "source": [
    "for i in x.index:\n",
    "    print(i, x.loc[i])"
   ]
  },
  {
   "cell_type": "code",
   "execution_count": null,
   "id": "fef0fd67-8cb9-479f-88eb-cbf5227599c9",
   "metadata": {},
   "outputs": [],
   "source": [
    "tx_miner = [x for x in list(x.loc['transactions']) if 'miners'  in x]\n",
    "tx_exchange = [x for x in list(x.loc['transactions']) if 'exchanges'  in x]\n",
    "tx_pnl =  [x for x in list(x.loc['transactions']) if 'profit' in x or 'loss' in x]\n",
    "tx_otc =  [x for x in list(x.loc['transactions']) if 'otc'  in x]\n",
    "\n",
    "\n",
    "tx_res = [x for x in list(x.loc['transactions']) \n",
    "          if x not in tx_miner \n",
    "          and x not in tx_pnl\n",
    "          and x not in tx_exchange\n",
    "          and x not in tx_otc]\n",
    "\n",
    "tx_transfer = [x for x in list(x.loc['transactions']) if 'transfers' in x \n",
    "               and x not in tx_otc\n",
    "              and x not in tx_exchange\n",
    "              and x not in tx_miner\n",
    "              and x not in tx_pnl]\n",
    "tx_transfer"
   ]
  },
  {
   "cell_type": "code",
   "execution_count": null,
   "id": "804cf5c4-d620-4f17-bf19-a7f0cd125df9",
   "metadata": {},
   "outputs": [],
   "source": [
    "[x for x in list(x.loc['transactions']) if 'exchanges'  in x]"
   ]
  },
  {
   "cell_type": "code",
   "execution_count": null,
   "id": "711926d1-ee48-4221-a376-350a9ff0e49e",
   "metadata": {},
   "outputs": [],
   "source": [
    "tx_res = [x for x in list(x.loc['transactions']) if 'miners' not in x and 'changes' not in x and 'otc' not in x]\n",
    "[x for x in tx_res if 'profit' in x or 'loss' in x]"
   ]
  },
  {
   "cell_type": "code",
   "execution_count": null,
   "id": "d0a2b764-0994-41b3-b5d9-58b5d1265f3f",
   "metadata": {},
   "outputs": [],
   "source": [
    "df1 = df.query('category==\"transactions\"').reset_index(drop=True)"
   ]
  },
  {
   "cell_type": "code",
   "execution_count": null,
   "id": "de41e1b8-0ff3-45cc-805e-ed9beb3992cf",
   "metadata": {},
   "outputs": [],
   "source": [
    "save_df(df, 'glassnode_meta', 'csv')"
   ]
  },
  {
   "cell_type": "code",
   "execution_count": null,
   "id": "51595e52-9785-4cfc-ba34-7cad7b184e03",
   "metadata": {},
   "outputs": [],
   "source": [
    "df1 = load_df('glassnode_meta', 'csv')"
   ]
  },
  {
   "cell_type": "code",
   "execution_count": null,
   "id": "0e47d17d-cedd-4195-9e2c-e937e81b73e9",
   "metadata": {},
   "outputs": [],
   "source": [
    "df2 = df1.query('category==\"transactions\"')"
   ]
  },
  {
   "cell_type": "code",
   "execution_count": null,
   "id": "d8c3a560-9aec-483e-bacf-d221aee47b45",
   "metadata": {},
   "outputs": [],
   "source": [
    "save_df(df2, 'glassnode_transactions','csv')"
   ]
  },
  {
   "cell_type": "code",
   "execution_count": null,
   "id": "7e7d919f-e99d-4bfe-b878-3338184d59d7",
   "metadata": {},
   "outputs": [],
   "source": []
  }
 ],
 "metadata": {
  "kernelspec": {
   "display_name": "Python 3 (ipykernel)",
   "language": "python",
   "name": "python3"
  },
  "language_info": {
   "codemirror_mode": {
    "name": "ipython",
    "version": 3
   },
   "file_extension": ".py",
   "mimetype": "text/x-python",
   "name": "python",
   "nbconvert_exporter": "python",
   "pygments_lexer": "ipython3",
   "version": "3.8.8"
  }
 },
 "nbformat": 4,
 "nbformat_minor": 5
}
