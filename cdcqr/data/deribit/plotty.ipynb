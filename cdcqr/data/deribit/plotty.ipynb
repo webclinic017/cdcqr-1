{
 "cells": [
  {
   "cell_type": "code",
   "execution_count": null,
   "id": "4a1df989-47ad-48f6-9c33-142ec2df431c",
   "metadata": {},
   "outputs": [],
   "source": [
    "! jupyter labextension install jupyterlab-plotly"
   ]
  },
  {
   "cell_type": "code",
   "execution_count": null,
   "id": "13db7486-e797-495d-bdd2-45cb1fef7708",
   "metadata": {
    "tags": []
   },
   "outputs": [],
   "source": [
    "# Import the necessaries libraries\n",
    "import plotly.offline as pyo\n",
    "import plotly.graph_objs as go\n",
    "# Set notebook mode to work in offline\n",
    "pyo.init_notebook_mode()\n",
    "# Create traces\n",
    "trace0 = go.Scatter(\n",
    "    x=[1, 2, 3, 4],\n",
    "    y=[10, 15, 13, 17]\n",
    ")\n",
    "trace1 = go.Scatter(\n",
    "    x=[1, 2, 3, 4],\n",
    "    y=[16, 5, 11, 9]\n",
    ")\n",
    "# Fill out data with our traces\n",
    "data = [trace0, trace1]\n",
    "# Plot it and save as basic-line.html\n",
    "pyo.iplot(data, filename = 'basic-line')"
   ]
  },
  {
   "cell_type": "code",
   "execution_count": null,
   "id": "43734907-ac9c-4835-a88b-59f3cf6d87e3",
   "metadata": {},
   "outputs": [],
   "source": []
  }
 ],
 "metadata": {
  "kernelspec": {
   "display_name": "Python 3 (ipykernel)",
   "language": "python",
   "name": "python3"
  },
  "language_info": {
   "codemirror_mode": {
    "name": "ipython",
    "version": 3
   },
   "file_extension": ".py",
   "mimetype": "text/x-python",
   "name": "python",
   "nbconvert_exporter": "python",
   "pygments_lexer": "ipython3",
   "version": "3.8.8"
  }
 },
 "nbformat": 4,
 "nbformat_minor": 5
}
