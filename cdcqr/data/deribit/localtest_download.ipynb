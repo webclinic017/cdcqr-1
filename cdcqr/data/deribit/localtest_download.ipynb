{
 "cells": [
  {
   "cell_type": "code",
   "execution_count": null,
   "id": "35b60044-e80b-4b9b-babe-5a024488a388",
   "metadata": {},
   "outputs": [],
   "source": [
    "from croqr.data.deribit.config import DeribitSampleDataUrl, get_deribit_sample_data_url\n",
    "from croqr.common.config import DATA_CACHE_DIR\n",
    "import urllib.request \n",
    "import os\n",
    "import pandas as pd\n",
    "from croqr.data.deribit.data_utils import url_csv_zip_file_reader\n",
    "import cufflinks as cf\n",
    "cf.go_offline()\n",
    "cf.set_config_file(offline=False, world_readable=True)"
   ]
  },
  {
   "cell_type": "code",
   "execution_count": null,
   "id": "1d55f095-c838-4f32-9d70-7a6cfe6efd72",
   "metadata": {},
   "outputs": [],
   "source": [
    "url = get_deribit_sample_data_url('PERPETUALS', 'trades')"
   ]
  },
  {
   "cell_type": "code",
   "execution_count": null,
   "id": "66594cb2-37e8-4615-8dcb-faa6ece79654",
   "metadata": {},
   "outputs": [],
   "source": [
    "url"
   ]
  },
  {
   "cell_type": "code",
   "execution_count": null,
   "id": "068db75f-80d2-4b4a-8853-88cbbb9e6886",
   "metadata": {},
   "outputs": [],
   "source": [
    "file_name = url.split('/')[-1]\n",
    "file_path = os.path.join(DATA_CACHE_DIR, file_name)\n",
    "\n",
    "display(file_path)"
   ]
  },
  {
   "cell_type": "code",
   "execution_count": null,
   "id": "63f25474-ee9a-444b-9782-2927afff3804",
   "metadata": {},
   "outputs": [],
   "source": [
    "\n",
    "opener = urllib.request.URLopener()\n",
    "opener.addheader('User-Agent', 'whatever')\n",
    "_ = opener.retrieve(url, file_path)"
   ]
  },
  {
   "cell_type": "code",
   "execution_count": null,
   "id": "2e2aca38-cf54-41a8-9829-37c96e32bc01",
   "metadata": {},
   "outputs": [],
   "source": [
    "large_file = \"C:\\\\Users\\\\Wang\\\\Documents\\\\GitHub\\\\data\\\\Deribit_PERPETUALS_book_snapshot_50_2020-07-01_2020-07-31.csv.gz\"\n",
    "os.path.getsize(\"C:\\\\Users\\\\Wang\\\\Documents\\\\GitHub\\\\data\\\\Deribit_PERPETUALS_book_snapshot_50_2020-07-01_2020-07-31.csv.gz\")"
   ]
  },
  {
   "cell_type": "code",
   "execution_count": null,
   "id": "d94d5cc7-e2b4-4c14-9f58-7e4cf8cb3388",
   "metadata": {},
   "outputs": [],
   "source": [
    "url_csv_zip_file_reader(large_file)"
   ]
  },
  {
   "cell_type": "code",
   "execution_count": null,
   "id": "68659c62-a73c-4ba6-8a41-d8583476ee9c",
   "metadata": {},
   "outputs": [],
   "source": [
    "pd.read_csv()"
   ]
  },
  {
   "cell_type": "code",
   "execution_count": null,
   "id": "5632f6b4-4242-431b-b74e-20c3ce5e313b",
   "metadata": {},
   "outputs": [],
   "source": [
    "df = pd.read_csv(large_file, compression=\"gzip\", index_col=0, quotechar='\"', nrows=5000)"
   ]
  },
  {
   "cell_type": "code",
   "execution_count": null,
   "id": "6437bc3d-badf-403a-b9e6-6b98916eb7ee",
   "metadata": {},
   "outputs": [],
   "source": [
    "df[df['symbol']=='ETH-PERPETUAL'].set_index('timestamp')['asks[0].price'].iplot()"
   ]
  },
  {
   "cell_type": "code",
   "execution_count": null,
   "id": "e54c7c78-40ce-4381-bc29-e640c90ce3b0",
   "metadata": {},
   "outputs": [],
   "source": []
  }
 ],
 "metadata": {
  "kernelspec": {
   "display_name": "Python 3 (ipykernel)",
   "language": "python",
   "name": "python3"
  },
  "language_info": {
   "codemirror_mode": {
    "name": "ipython",
    "version": 3
   },
   "file_extension": ".py",
   "mimetype": "text/x-python",
   "name": "python",
   "nbconvert_exporter": "python",
   "pygments_lexer": "ipython3",
   "version": "3.8.8"
  }
 },
 "nbformat": 4,
 "nbformat_minor": 5
}
