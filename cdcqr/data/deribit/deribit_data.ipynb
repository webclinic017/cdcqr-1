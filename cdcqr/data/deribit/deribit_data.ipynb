{
 "cells": [
  {
   "cell_type": "markdown",
   "id": "057de32b-e325-4484-9bb1-d96b7f1747d9",
   "metadata": {},
   "source": [
    "# Deribit sample data\n",
    "   * Tick-by-tick trades data\n",
    "       * Perpetual\n",
    "       * Futures\n",
    "       * Options\n",
    "   * Order book tick level snapshots - Top 50 levels - snapshot taken every time there was any change in top 50 bids or asks price levels\n",
    "       * Perpetual\n",
    "       * Futures\n",
    "       * Options\n",
    "   * Incremental order book L2 - Tick-level order book L2 updates for all levels in contrast to top 50 levels snapshots\n",
    "       * Perpetual\n",
    "       * Futures\n",
    "       * Options\n",
    "   * Quotes - Tick level top of the book data (best bid & ask)\n",
    "       * Perpetual\n",
    "       * Futures\n",
    "       * Options\n",
    "   * Options chain - Tick-level options summary info (strike prices, expiration dates, open interest, implied volatility, greeks, bbo etc.) for all active options instruments\n",
    "       * Options Chain\n",
    "   * Derivative tickers - Funding data, open interest, mark and index prices\n",
    "       * Perpetual\n",
    "       * Futures\n",
    "       \n",
    "       "
   ]
  },
  {
   "cell_type": "code",
   "execution_count": null,
   "id": "e4cfda1e-faa3-4dbe-a188-96078f3bc47b",
   "metadata": {},
   "outputs": [],
   "source": [
    "from cdcqr.data.deribit.data_utils import url_csv_zip_file_reader\n",
    "import os\n",
    "import pandas as pd\n",
    "from cdcqr.common.config import LOCAL_DATA_DIR\n",
    "#from cdcqr.common.dt_utils import DataTimeUtils\n",
    "from cdcqr.data.deribit.config import DeribitSampleDataUrl, get_deribit_sample_data_url\n",
    "import time\n",
    "from datetime import timedelta, datetime\n",
    "from functools import partial\n",
    "import matplotlib.pylab as plt"
   ]
  },
  {
   "cell_type": "code",
   "execution_count": null,
   "id": "b49e018e-da12-4d35-9497-8e046035b813",
   "metadata": {},
   "outputs": [],
   "source": [
    "display(DeribitSampleDataUrl.asset_class_list)\n",
    "display(DeribitSampleDataUrl.data_type_list)"
   ]
  },
  {
   "cell_type": "code",
   "execution_count": null,
   "id": "a00ae1af-d5e5-49e5-9d0e-c0babc59f37a",
   "metadata": {},
   "outputs": [],
   "source": [
    "# quick check all data\n",
    "if False:\n",
    "    for data_type in DeribitSampleDataUrl.data_type_list:\n",
    "        for asset_class in DeribitSampleDataUrl.asset_class_list:\n",
    "            url = get_deribit_sample_data_url(asset_class, data_type)\n",
    "            df = url_csv_zip_file_reader(url)\n",
    "            if df is not None:\n",
    "                display(df.head(2))"
   ]
  },
  {
   "cell_type": "markdown",
   "id": "214dc9a9-50fb-4e5f-9bfb-5992bb1dc4aa",
   "metadata": {},
   "source": [
    "## 1) Check trade data "
   ]
  },
  {
   "cell_type": "markdown",
   "id": "7d4b8519-6d75-426d-9fbb-71c224e75d7d",
   "metadata": {},
   "source": [
    "### 1.1) Perpetual"
   ]
  },
  {
   "cell_type": "code",
   "execution_count": null,
   "id": "af807e6d-3e59-4f22-9e39-c1a033b23f3b",
   "metadata": {},
   "outputs": [],
   "source": [
    "url = get_deribit_sample_data_url('PERPETUALS', 'trades')\n",
    "df = url_csv_zip_file_reader(url)"
   ]
  },
  {
   "cell_type": "code",
   "execution_count": null,
   "id": "27e9d278-ec9d-4010-9b3b-61370787b5a5",
   "metadata": {},
   "outputs": [],
   "source": [
    "df['timestamp_s'], df['microsec'] = zip(*df['timestamp'].apply(DataTimeUtils.epoch_time_converter, 1))\n",
    "\n",
    "df['timestamp_1m'] = df['timestamp_s'].apply(partial(DataTimeUtils.ceil_dt, timedelta(minutes=1)))\n",
    "\n",
    "df['timestamp_10m'] = df['timestamp_s'].apply(partial(DataTimeUtils.ceil_dt, timedelta(minutes=10)))\n",
    "\n",
    "df['vol'] = df['price']*df['amount']"
   ]
  },
  {
   "cell_type": "code",
   "execution_count": null,
   "id": "828c30ca-211c-4b17-9a07-258f41fdf7a5",
   "metadata": {},
   "outputs": [],
   "source": [
    "df.head()"
   ]
  },
  {
   "cell_type": "code",
   "execution_count": null,
   "id": "fcebea09-e079-4404-92d1-30b886e6b22a",
   "metadata": {},
   "outputs": [],
   "source": [
    "df[df['symbol']=='BTC-PERPETUAL'].groupby('timestamp_10m')['vol'].sum().plot()\n",
    "plt.title('BTC-PERP trading volume every 10min')"
   ]
  },
  {
   "cell_type": "markdown",
   "id": "9c733cb6-55b3-4798-b4d3-4a3b7f963ffc",
   "metadata": {},
   "source": [
    "### 1.2) Futures"
   ]
  },
  {
   "cell_type": "code",
   "execution_count": null,
   "id": "035c8395-f795-4e9f-afc2-0b6eab9a1654",
   "metadata": {},
   "outputs": [],
   "source": [
    "url = get_deribit_sample_data_url('FUTURES', 'trades')\n",
    "df = url_csv_zip_file_reader(url)"
   ]
  },
  {
   "cell_type": "code",
   "execution_count": null,
   "id": "10d5f75c-ea8e-4ce8-a2c5-702b6efeec88",
   "metadata": {},
   "outputs": [],
   "source": [
    "display(df.shape)"
   ]
  },
  {
   "cell_type": "code",
   "execution_count": null,
   "id": "fd35f2cd-a53c-4ff4-b91a-483093da582f",
   "metadata": {},
   "outputs": [],
   "source": [
    "df['timestamp_s'], df['microsec'] = zip(*df['timestamp'].apply(DataTimeUtils.epoch_time_converter, 1))\n",
    "\n",
    "df['timestamp_1m'] = df['timestamp_s'].apply(partial(DataTimeUtils.ceil_dt, timedelta(minutes=1)))\n",
    "\n",
    "df['timestamp_10m'] = df['timestamp_s'].apply(partial(DataTimeUtils.ceil_dt, timedelta(minutes=10)))\n",
    "\n",
    "df['vol'] = df['price']*df['amount']"
   ]
  },
  {
   "cell_type": "code",
   "execution_count": null,
   "id": "7620ca37-b240-4b85-86fc-6e0577201eb7",
   "metadata": {},
   "outputs": [],
   "source": [
    "df['symbol'].unique()"
   ]
  },
  {
   "cell_type": "code",
   "execution_count": null,
   "id": "58ed125d-3147-47bf-92ca-8b7eac521943",
   "metadata": {},
   "outputs": [],
   "source": [
    "df.head()"
   ]
  },
  {
   "cell_type": "code",
   "execution_count": null,
   "id": "d9ec4177-6e06-43a4-ad2a-d8a510da7a27",
   "metadata": {},
   "outputs": [],
   "source": [
    "df['symbol'].unique()"
   ]
  },
  {
   "cell_type": "code",
   "execution_count": null,
   "id": "106c048d-6fb9-4a99-84fe-d33ac784109b",
   "metadata": {},
   "outputs": [],
   "source": [
    "df[df['symbol']=='BTC-25SEP20'].groupby('timestamp_10m')['vol'].sum().plot()\n",
    "plt.title('BTC-FUTURE trading volume every 10min')"
   ]
  },
  {
   "cell_type": "markdown",
   "id": "3b910ea6-99c4-415c-ae49-befc82020e6d",
   "metadata": {},
   "source": [
    "### 1.3) Options"
   ]
  },
  {
   "cell_type": "code",
   "execution_count": null,
   "id": "0ceb2d45-90f7-4371-9d84-1678f9f93c23",
   "metadata": {},
   "outputs": [],
   "source": [
    "url = get_deribit_sample_data_url('OPTIONS', 'trades')\n",
    "df = url_csv_zip_file_reader(url)\n",
    "display(df.shape)"
   ]
  },
  {
   "cell_type": "code",
   "execution_count": null,
   "id": "feb8aad9-2c9f-4e02-946a-e6afb7ee2443",
   "metadata": {},
   "outputs": [],
   "source": [
    "df.head()"
   ]
  },
  {
   "cell_type": "code",
   "execution_count": null,
   "id": "25826b8e-5768-4687-9c73-6a658152fe1a",
   "metadata": {
    "tags": []
   },
   "outputs": [],
   "source": [
    "sorted(list(df['symbol'].unique())[:8])"
   ]
  },
  {
   "cell_type": "markdown",
   "id": "f9e9871c-5818-45a5-bb9a-a25a90366085",
   "metadata": {},
   "source": [
    "## 2) Check book_snapshot_50"
   ]
  },
  {
   "cell_type": "markdown",
   "id": "42e49ccd-fbbd-4d03-8b7b-5d7279c917a8",
   "metadata": {},
   "source": [
    "### 2.1) Perpetual"
   ]
  },
  {
   "cell_type": "code",
   "execution_count": null,
   "id": "aea67f93-5046-4379-9177-68642d5e1511",
   "metadata": {},
   "outputs": [],
   "source": [
    "url = get_deribit_sample_data_url('PERPETUALS', 'book_snapshot_50')\n",
    "df = url_csv_zip_file_reader(url)\n",
    "df.head(2)"
   ]
  },
  {
   "cell_type": "markdown",
   "id": "cbbf442d-966f-4ac7-bedb-49e3716acadc",
   "metadata": {},
   "source": [
    "### 2.2) Futures"
   ]
  },
  {
   "cell_type": "code",
   "execution_count": null,
   "id": "505acec1-4f00-4ef4-8946-cc32fc2ea440",
   "metadata": {},
   "outputs": [],
   "source": [
    "url = get_deribit_sample_data_url('FUTURES', 'book_snapshot_50')\n",
    "df = url_csv_zip_file_reader(url)\n",
    "df.head(2)"
   ]
  },
  {
   "cell_type": "markdown",
   "id": "93457912-3e79-40f7-b463-15ef13dda51b",
   "metadata": {},
   "source": [
    "### 2.3) Options"
   ]
  },
  {
   "cell_type": "code",
   "execution_count": null,
   "id": "7efeb298-7c63-48d5-9e1b-70bf88c5cde4",
   "metadata": {},
   "outputs": [],
   "source": [
    "url = get_deribit_sample_data_url('OPTIONS', 'book_snapshot_50')\n",
    "df = url_csv_zip_file_reader(url)\n",
    "df.head(2)"
   ]
  },
  {
   "cell_type": "markdown",
   "id": "15c530b5-9f2a-4f21-b107-f903cb886390",
   "metadata": {},
   "source": [
    "## 3) Check order book L2"
   ]
  },
  {
   "cell_type": "markdown",
   "id": "a83813f2-2230-4b99-87e5-4e99bfea709f",
   "metadata": {},
   "source": [
    "### 3.1) Perpetual"
   ]
  },
  {
   "cell_type": "code",
   "execution_count": null,
   "id": "429c8fa9-69f9-47cc-a0e0-1c4ae8ff0c7f",
   "metadata": {},
   "outputs": [],
   "source": [
    "url = get_deribit_sample_data_url('PERPETUALS', 'incremental_book_L2')\n",
    "df = url_csv_zip_file_reader(url)\n",
    "df.head(2)"
   ]
  },
  {
   "cell_type": "code",
   "execution_count": null,
   "id": "e8e7bdb1-4d31-4c76-af24-988bc8065a7e",
   "metadata": {},
   "outputs": [],
   "source": [
    "df['is_snapshot'].value_counts()"
   ]
  },
  {
   "cell_type": "markdown",
   "id": "75960906-1f9c-4e30-9316-0a262d6c1a45",
   "metadata": {},
   "source": [
    "### 3.2) Futures"
   ]
  },
  {
   "cell_type": "code",
   "execution_count": null,
   "id": "18554bac-4ae9-407b-8c3a-cd1bd0e3f48b",
   "metadata": {},
   "outputs": [],
   "source": [
    "url = get_deribit_sample_data_url('FUTURES', 'incremental_book_L2')\n",
    "df = url_csv_zip_file_reader(url)\n",
    "df.head(2)"
   ]
  },
  {
   "cell_type": "code",
   "execution_count": null,
   "id": "317cfd7d-1b98-4f59-95f0-0be15b0fbfce",
   "metadata": {},
   "outputs": [],
   "source": [
    "df['is_snapshot'].value_counts()"
   ]
  },
  {
   "cell_type": "markdown",
   "id": "c39df5af-7591-4266-bfe9-45ad95111312",
   "metadata": {},
   "source": [
    "### 3.3) Options"
   ]
  },
  {
   "cell_type": "code",
   "execution_count": null,
   "id": "51dcda7e-f6ea-46ea-85d5-8f50cd3fb9f2",
   "metadata": {},
   "outputs": [],
   "source": [
    "url = get_deribit_sample_data_url('OPTIONS', 'incremental_book_L2')\n",
    "df = url_csv_zip_file_reader(url)\n",
    "df.head(2)"
   ]
  },
  {
   "cell_type": "code",
   "execution_count": null,
   "id": "427e8dd9-e482-49aa-9ddb-732a4ac89d9b",
   "metadata": {},
   "outputs": [],
   "source": [
    "df['is_snapshot'].value_counts()"
   ]
  },
  {
   "cell_type": "markdown",
   "id": "bedd72a1-f3d7-4d1a-8b7f-420809e4b460",
   "metadata": {},
   "source": [
    "## 4) Check tick level top of the book data"
   ]
  },
  {
   "cell_type": "markdown",
   "id": "95afdef2-c0b3-445e-887d-c8ef488e26eb",
   "metadata": {},
   "source": [
    "### 4.1) Perpetual"
   ]
  },
  {
   "cell_type": "code",
   "execution_count": null,
   "id": "7ab0d27d-7362-40ba-9434-580c6ce8cef3",
   "metadata": {},
   "outputs": [],
   "source": [
    "url = get_deribit_sample_data_url('PERPETUALS', 'quotes')\n",
    "df = url_csv_zip_file_reader(url)\n",
    "df.head(2)"
   ]
  },
  {
   "cell_type": "markdown",
   "id": "50a0289a-a514-4bd1-af77-f88e8d0b0042",
   "metadata": {},
   "source": [
    "### 4.2) Futures"
   ]
  },
  {
   "cell_type": "code",
   "execution_count": null,
   "id": "136d4cc8-f5a5-4353-ac4d-708be1af450b",
   "metadata": {},
   "outputs": [],
   "source": [
    "url = get_deribit_sample_data_url('FUTURES', 'quotes')\n",
    "df = url_csv_zip_file_reader(url)\n",
    "df.head(2)"
   ]
  },
  {
   "cell_type": "markdown",
   "id": "a1bdf778-5f52-4690-9f61-bfa526a46349",
   "metadata": {},
   "source": [
    "### 4.3) Options"
   ]
  },
  {
   "cell_type": "code",
   "execution_count": null,
   "id": "9143e276-fb7b-4dee-9cd0-18fe2b8cf060",
   "metadata": {},
   "outputs": [],
   "source": [
    "url = get_deribit_sample_data_url('OPTIONS', 'quotes')\n",
    "df = url_csv_zip_file_reader(url)\n",
    "df.head(2)"
   ]
  },
  {
   "cell_type": "markdown",
   "id": "e33765cc-43bc-4832-b66b-ed0e1df8c423",
   "metadata": {},
   "source": [
    "## 5) Options chain"
   ]
  },
  {
   "cell_type": "markdown",
   "id": "38486c94-7ad1-4b00-960a-fcf39956a579",
   "metadata": {},
   "source": [
    "### 5.1) Options Chain"
   ]
  },
  {
   "cell_type": "code",
   "execution_count": null,
   "id": "0967a05f-da72-45f4-a9b0-2a0ad83a0593",
   "metadata": {},
   "outputs": [],
   "source": [
    "url = get_deribit_sample_data_url('OPTIONS', 'options_chain')\n",
    "df = url_csv_zip_file_reader(url)"
   ]
  },
  {
   "cell_type": "code",
   "execution_count": null,
   "id": "7495e79d-b39d-437e-bae3-d9b6152d886d",
   "metadata": {
    "tags": []
   },
   "outputs": [],
   "source": [
    "df.head(5).T"
   ]
  },
  {
   "cell_type": "markdown",
   "id": "6703155f-d522-4784-95d1-9e70ac5efa37",
   "metadata": {},
   "source": [
    "## 6) Funding data, open interest, mark and index prices"
   ]
  },
  {
   "cell_type": "markdown",
   "id": "83176e54-1733-463f-8119-46b3cd69251a",
   "metadata": {},
   "source": [
    "### 6.1) Perpetual"
   ]
  },
  {
   "cell_type": "code",
   "execution_count": null,
   "id": "8d368fdf-ba4b-491a-a0fe-ba207e82677e",
   "metadata": {},
   "outputs": [],
   "source": [
    "url = get_deribit_sample_data_url('PERPETUALS', 'derivative_ticker')\n",
    "df = url_csv_zip_file_reader(url)"
   ]
  },
  {
   "cell_type": "code",
   "execution_count": null,
   "id": "12a745a3-dca7-49f7-8ace-46401247e1c6",
   "metadata": {},
   "outputs": [],
   "source": [
    "df.describe()"
   ]
  },
  {
   "cell_type": "markdown",
   "id": "bac19597-1275-46de-aecf-766640545c05",
   "metadata": {},
   "source": [
    "### 6.2) Futures"
   ]
  },
  {
   "cell_type": "code",
   "execution_count": null,
   "id": "f0e6579d-af93-4751-8b2a-baaa735603c5",
   "metadata": {},
   "outputs": [],
   "source": [
    "url = get_deribit_sample_data_url('FUTURES', 'derivative_ticker')\n",
    "df = url_csv_zip_file_reader(url)"
   ]
  },
  {
   "cell_type": "code",
   "execution_count": null,
   "id": "fdda30ed-6b49-433a-8964-390506d31e99",
   "metadata": {},
   "outputs": [],
   "source": [
    "df.head(2)"
   ]
  },
  {
   "cell_type": "code",
   "execution_count": null,
   "id": "5b69c68d-0e60-4f25-ac00-192587be5a6c",
   "metadata": {},
   "outputs": [],
   "source": [
    "df.describe()"
   ]
  }
 ],
 "metadata": {
  "kernelspec": {
   "display_name": "Python 3 (ipykernel)",
   "language": "python",
   "name": "python3"
  },
  "language_info": {
   "codemirror_mode": {
    "name": "ipython",
    "version": 3
   },
   "file_extension": ".py",
   "mimetype": "text/x-python",
   "name": "python",
   "nbconvert_exporter": "python",
   "pygments_lexer": "ipython3",
   "version": "3.8.8"
  }
 },
 "nbformat": 4,
 "nbformat_minor": 5
}
