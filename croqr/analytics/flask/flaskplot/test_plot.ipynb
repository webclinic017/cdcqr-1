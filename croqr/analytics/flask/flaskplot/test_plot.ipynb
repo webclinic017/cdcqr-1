{
 "cells": [
  {
   "cell_type": "code",
   "execution_count": 1,
   "id": "3b4efe39-d54f-41f2-9ab5-01a11b4d66fe",
   "metadata": {},
   "outputs": [],
   "source": [
    "import pandas as pd\n",
    "from croqr.data.deribit.config import get_deribit_sample_data_url\n",
    "from croqr.data.deribit.data_utils import url_csv_zip_file_reader\n",
    "from croqr.common.config import LOCAL_DATA_DIR\n",
    "import os\n",
    "from croqr.analytics.flask.utils import plotstart, plotend\n",
    "import matplotlib.pyplot as plt\n"
   ]
  },
  {
   "cell_type": "code",
   "execution_count": null,
   "id": "9d2bdcb5-dc03-4f9d-b8fc-81a9d3a7ddb4",
   "metadata": {},
   "outputs": [],
   "source": [
    "! pip install socketio"
   ]
  },
  {
   "cell_type": "code",
   "execution_count": 6,
   "id": "f6505daa-012f-4576-8e88-9cd503e44c6d",
   "metadata": {},
   "outputs": [
    {
     "name": "stdout",
     "output_type": "stream",
     "text": [
      "loading cached Deribit_PERPETUALS_trades_2020-07-01_2020-07-31.csv.gz\n"
     ]
    }
   ],
   "source": [
    "url = get_deribit_sample_data_url('PERPETUALS', 'trades')\n",
    "df = url_csv_zip_file_reader(url)"
   ]
  },
  {
   "cell_type": "code",
   "execution_count": 9,
   "id": "4f2f3d2f-9c50-46d4-942b-513c3b8b80c8",
   "metadata": {},
   "outputs": [
    {
     "data": {
      "text/html": [
       "<div>\n",
       "<style scoped>\n",
       "    .dataframe tbody tr th:only-of-type {\n",
       "        vertical-align: middle;\n",
       "    }\n",
       "\n",
       "    .dataframe tbody tr th {\n",
       "        vertical-align: top;\n",
       "    }\n",
       "\n",
       "    .dataframe thead th {\n",
       "        text-align: right;\n",
       "    }\n",
       "</style>\n",
       "<table border=\"1\" class=\"dataframe\">\n",
       "  <thead>\n",
       "    <tr style=\"text-align: right;\">\n",
       "      <th></th>\n",
       "      <th>symbol</th>\n",
       "      <th>timestamp</th>\n",
       "      <th>local_timestamp</th>\n",
       "      <th>id</th>\n",
       "      <th>side</th>\n",
       "      <th>price</th>\n",
       "      <th>amount</th>\n",
       "    </tr>\n",
       "    <tr>\n",
       "      <th>exchange</th>\n",
       "      <th></th>\n",
       "      <th></th>\n",
       "      <th></th>\n",
       "      <th></th>\n",
       "      <th></th>\n",
       "      <th></th>\n",
       "      <th></th>\n",
       "    </tr>\n",
       "  </thead>\n",
       "  <tbody>\n",
       "    <tr>\n",
       "      <th>deribit</th>\n",
       "      <td>BTC-PERPETUAL</td>\n",
       "      <td>1593561604287000</td>\n",
       "      <td>1593561604299954</td>\n",
       "      <td>83913093</td>\n",
       "      <td>buy</td>\n",
       "      <td>9133.0</td>\n",
       "      <td>90</td>\n",
       "    </tr>\n",
       "    <tr>\n",
       "      <th>deribit</th>\n",
       "      <td>BTC-PERPETUAL</td>\n",
       "      <td>1593561604287000</td>\n",
       "      <td>1593561604299954</td>\n",
       "      <td>83913094</td>\n",
       "      <td>buy</td>\n",
       "      <td>9133.0</td>\n",
       "      <td>3090</td>\n",
       "    </tr>\n",
       "    <tr>\n",
       "      <th>deribit</th>\n",
       "      <td>ETH-PERPETUAL</td>\n",
       "      <td>1593561606422000</td>\n",
       "      <td>1593561606431442</td>\n",
       "      <td>ETH-18083992</td>\n",
       "      <td>sell</td>\n",
       "      <td>225.5</td>\n",
       "      <td>1</td>\n",
       "    </tr>\n",
       "    <tr>\n",
       "      <th>deribit</th>\n",
       "      <td>ETH-PERPETUAL</td>\n",
       "      <td>1593561606438000</td>\n",
       "      <td>1593561606446047</td>\n",
       "      <td>ETH-18083993</td>\n",
       "      <td>sell</td>\n",
       "      <td>225.5</td>\n",
       "      <td>1</td>\n",
       "    </tr>\n",
       "    <tr>\n",
       "      <th>deribit</th>\n",
       "      <td>BTC-PERPETUAL</td>\n",
       "      <td>1593561608442000</td>\n",
       "      <td>1593561608461506</td>\n",
       "      <td>83913095</td>\n",
       "      <td>buy</td>\n",
       "      <td>9133.0</td>\n",
       "      <td>2190</td>\n",
       "    </tr>\n",
       "  </tbody>\n",
       "</table>\n",
       "</div>"
      ],
      "text/plain": [
       "                 symbol         timestamp   local_timestamp            id  \\\n",
       "exchange                                                                    \n",
       "deribit   BTC-PERPETUAL  1593561604287000  1593561604299954      83913093   \n",
       "deribit   BTC-PERPETUAL  1593561604287000  1593561604299954      83913094   \n",
       "deribit   ETH-PERPETUAL  1593561606422000  1593561606431442  ETH-18083992   \n",
       "deribit   ETH-PERPETUAL  1593561606438000  1593561606446047  ETH-18083993   \n",
       "deribit   BTC-PERPETUAL  1593561608442000  1593561608461506      83913095   \n",
       "\n",
       "          side   price  amount  \n",
       "exchange                        \n",
       "deribit    buy  9133.0      90  \n",
       "deribit    buy  9133.0    3090  \n",
       "deribit   sell   225.5       1  \n",
       "deribit   sell   225.5       1  \n",
       "deribit    buy  9133.0    2190  "
      ]
     },
     "execution_count": 9,
     "metadata": {},
     "output_type": "execute_result"
    }
   ],
   "source": [
    "df.head()#['BTC-PERPETUAL']"
   ]
  },
  {
   "cell_type": "code",
   "execution_count": 17,
   "id": "931015e3-389f-4035-aa9e-39e682d365b6",
   "metadata": {},
   "outputs": [],
   "source": [
    "sample_price = df[df['symbol']=='BTC-PERPETUAL'].iloc[:1000].set_index('timestamp')['price']"
   ]
  },
  {
   "cell_type": "code",
   "execution_count": 19,
   "id": "8287a4e4-5fa0-4470-9cec-6eb75bfad8ae",
   "metadata": {},
   "outputs": [],
   "source": [
    "sample_price.to_pickle(os.path.join(LOCAL_DATA_DIR, 'sample_price.pickle'))"
   ]
  },
  {
   "cell_type": "code",
   "execution_count": 20,
   "id": "d9c81b06-28e4-4434-9fbc-a07489d61246",
   "metadata": {},
   "outputs": [
    {
     "data": {
      "text/plain": [
       "'C:\\\\Users\\\\Wang\\\\Documents\\\\GitHub\\\\data\\\\sample_price.pickle'"
      ]
     },
     "execution_count": 20,
     "metadata": {},
     "output_type": "execute_result"
    }
   ],
   "source": [
    "os.path.join(LOCAL_DATA_DIR, 'sample_price.pickle')"
   ]
  },
  {
   "cell_type": "markdown",
   "id": "465a95c4-d5cd-4d35-99fb-6f6291289b67",
   "metadata": {},
   "source": [
    "## test loading"
   ]
  },
  {
   "cell_type": "code",
   "execution_count": 1,
   "id": "d30efde8-0600-4fd6-9698-530a1e301994",
   "metadata": {},
   "outputs": [
    {
     "data": {
      "text/plain": [
       "[<matplotlib.lines.Line2D at 0x19ae79ee6d0>]"
      ]
     },
     "execution_count": 1,
     "metadata": {},
     "output_type": "execute_result"
    },
    {
     "data": {
      "image/png": "[encoded data removed]",
      "text/plain": [
       "<Figure size 432x288 with 1 Axes>"
      ]
     },
     "metadata": {
      "needs_background": "light"
     },
     "output_type": "display_data"
    }
   ],
   "source": [
    "import pandas as pd\n",
    "import matplotlib.pyplot as plt\n",
    "df = pd.read_pickle('C:\\\\Users\\\\Wang\\\\Documents\\\\GitHub\\\\data\\\\sample_price.pickle')\n",
    "plt.plot(df)"
   ]
  },
  {
   "cell_type": "code",
   "execution_count": 6,
   "id": "cf309408-ad66-4a40-bf03-c2939ece9eb2",
   "metadata": {},
   "outputs": [
    {
     "data": {
      "image/png": "[encoded data removed]",
      "text/plain": [
       "<Figure size 432x288 with 1 Axes>"
      ]
     },
     "metadata": {
      "needs_background": "light"
     },
     "output_type": "display_data"
    }
   ],
   "source": [
    "img=plotstart()\n",
    "figs=[]\n",
    "df=pd.read_pickle('C:\\\\Users\\\\Wang\\\\Documents\\\\GitHub\\\\data\\\\sample_price.pickle')\n",
    "\n",
    "df.plot()\n",
    "plt.title('df')\n",
    "\n",
    "figs.append(plotend(img))"
   ]
  },
  {
   "cell_type": "code",
   "execution_count": 14,
   "id": "a4d8b4f2-57b6-43f1-8f9f-7d3e4dd1eb35",
   "metadata": {},
   "outputs": [],
   "source": [
    "df_str = figs[0]\n",
    "\n",
    "reddot_str = \"\"\"iVBORw0KGgoAAAANSUhEUgAAAAUA\n",
    "    AAAFCAYAAACNbyblAAAAHElEQVQI12P4//8/w38GIAXDIBKE0DHxgljNBAAO\n",
    "        9TXL0Y4OHwAAAABJRU5ErkJggg==\"\"\""
   ]
  },
  {
   "cell_type": "code",
   "execution_count": 11,
   "id": "f66f6623-1324-4530-9c34-14f3bc8ca4ac",
   "metadata": {},
   "outputs": [
    {
     "data": {
      "text/plain": [
       "str"
      ]
     },
     "execution_count": 11,
     "metadata": {},
     "output_type": "execute_result"
    }
   ],
   "source": [
    "type(img_str)"
   ]
  },
  {
   "cell_type": "code",
   "execution_count": 12,
   "id": "b89d8c8b-3fb0-44b7-b8c8-0b1686e767c5",
   "metadata": {
    "scrolled": true,
    "tags": []
   },
   "outputs": [
    {
     "data": {
      "text/plain": [
       "'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'"
      ]
     },
     "execution_count": 12,
     "metadata": {},
     "output_type": "execute_result"
    }
   ],
   "source": [
    "img_str"
   ]
  },
  {
   "cell_type": "code",
   "execution_count": 2,
   "id": "6326f8f5-cce8-4e06-bed6-225655715649",
   "metadata": {},
   "outputs": [
    {
     "data": {
      "text/plain": [
       "\u001b[1;31mSignature:\u001b[0m \u001b[0mplotend\u001b[0m\u001b[1;33m(\u001b[0m\u001b[0mimg\u001b[0m\u001b[1;33m)\u001b[0m\u001b[1;33m\u001b[0m\u001b[1;33m\u001b[0m\u001b[0m\n",
       "\u001b[1;31mDocstring:\u001b[0m <no docstring>\n",
       "\u001b[1;31mFile:\u001b[0m      c:\\users\\wang\\documents\\github\\croqr\\croqr\\analytics\\flask\\utils.py\n",
       "\u001b[1;31mType:\u001b[0m      function\n"
      ]
     },
     "metadata": {},
     "output_type": "display_data"
    }
   ],
   "source": [
    "img_str = plotend()"
   ]
  }
 ],
 "metadata": {
  "kernelspec": {
   "display_name": "Python 3",
   "language": "python",
   "name": "python3"
  },
  "language_info": {
   "codemirror_mode": {
    "name": "ipython",
    "version": 3
   },
   "file_extension": ".py",
   "mimetype": "text/x-python",
   "name": "python",
   "nbconvert_exporter": "python",
   "pygments_lexer": "ipython3",
   "version": "3.8.8"
  }
 },
 "nbformat": 4,
 "nbformat_minor": 5
}
