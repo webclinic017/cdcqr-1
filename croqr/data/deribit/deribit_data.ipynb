{
 "cells": [
  {
   "cell_type": "markdown",
   "id": "057de32b-e325-4484-9bb1-d96b7f1747d9",
   "metadata": {},
   "source": [
    "# Deribit sample data\n",
    "   * Tick-by-tick trades data\n",
    "       * Perpetual\n",
    "       * Futures\n",
    "       * Options\n",
    "   * Order book tick level snapshots - Top 50 levels - snapshot taken every time there was any change in top 50 bids or asks price levels\n",
    "       * Perpetual\n",
    "       * Futures\n",
    "       * Options\n",
    "   * Incremental order book L2 - Tick-level order book L2 updates for all levels in contrast to top 50 levels snapshots\n",
    "       * Perpetual\n",
    "       * Futures\n",
    "       * Options\n",
    "   * Quotes - Tick level top of the book data (best bid & ask)\n",
    "       * Perpetual\n",
    "       * Futures\n",
    "       * Options\n",
    "   * Options chain - Tick-level options summary info (strike prices, expiration dates, open interest, implied volatility, greeks, bbo etc.) for all active options instruments\n",
    "       * Options Chain\n",
    "   * Derivative tickers - Funding data, open interest, mark and index prices\n",
    "       * Perpetual\n",
    "       * Futures\n",
    "       \n",
    "       "
   ]
  },
  {
   "cell_type": "code",
   "execution_count": 4,
   "id": "e4cfda1e-faa3-4dbe-a188-96078f3bc47b",
   "metadata": {},
   "outputs": [],
   "source": [
    "from croqr.data.deribit.data_utils import url_csv_zip_file_reader\n",
    "import os\n",
    "import pandas as pd\n",
    "from croqr.common.config import LOCAL_DATA_DIR\n",
    "from croqr.common.dt_utils import DataTimeUtil\n",
    "from croqr.data.deribit.config import DeribitSampleDataUrl, get_deribit_sample_data_url\n",
    "import time\n",
    "from datetime import timedelta, datetime\n",
    "from functools import partial\n",
    "import matplotlib.pylab as plt"
   ]
  },
  {
   "cell_type": "code",
   "execution_count": 5,
   "id": "b49e018e-da12-4d35-9497-8e046035b813",
   "metadata": {},
   "outputs": [
    {
     "data": {
      "text/plain": [
       "['PERPETUALS', 'FUTURES', 'OPTIONS']"
      ]
     },
     "metadata": {},
     "output_type": "display_data"
    },
    {
     "data": {
      "text/plain": [
       "['trades',\n",
       " 'book_snapshot_50',\n",
       " 'incremental_book_L2',\n",
       " 'quotes',\n",
       " 'options_chain',\n",
       " 'derivative_ticker']"
      ]
     },
     "metadata": {},
     "output_type": "display_data"
    }
   ],
   "source": [
    "display(DeribitSampleDataUrl.asset_class_list)\n",
    "display(DeribitSampleDataUrl.data_type_list)"
   ]
  },
  {
   "cell_type": "code",
   "execution_count": 6,
   "id": "a00ae1af-d5e5-49e5-9d0e-c0babc59f37a",
   "metadata": {},
   "outputs": [],
   "source": [
    "# quick check all data\n",
    "if False:\n",
    "    for data_type in DeribitSampleDataUrl.data_type_list:\n",
    "        for asset_class in DeribitSampleDataUrl.asset_class_list:\n",
    "            url = get_deribit_sample_data_url(asset_class, data_type)\n",
    "            df = url_csv_zip_file_reader(url)\n",
    "            if df is not None:\n",
    "                display(df.head(2))"
   ]
  },
  {
   "cell_type": "markdown",
   "id": "214dc9a9-50fb-4e5f-9bfb-5992bb1dc4aa",
   "metadata": {},
   "source": [
    "## 1) Check trade data "
   ]
  },
  {
   "cell_type": "markdown",
   "id": "7d4b8519-6d75-426d-9fbb-71c224e75d7d",
   "metadata": {},
   "source": [
    "### 1.1) Perpetual"
   ]
  },
  {
   "cell_type": "code",
   "execution_count": 7,
   "id": "af807e6d-3e59-4f22-9e39-c1a033b23f3b",
   "metadata": {},
   "outputs": [
    {
     "name": "stdout",
     "output_type": "stream",
     "text": [
      "loading cached Deribit_PERPETUALS_trades_2020-07-01_2020-07-31.csv.gz\n"
     ]
    }
   ],
   "source": [
    "url = get_deribit_sample_data_url('PERPETUALS', 'trades')\n",
    "df = url_csv_zip_file_reader(url)"
   ]
  },
  {
   "cell_type": "code",
   "execution_count": 15,
   "id": "27e9d278-ec9d-4010-9b3b-61370787b5a5",
   "metadata": {},
   "outputs": [],
   "source": [
    "df['timestamp_s'], df['microsec'] = zip(*df['timestamp'].apply(DataTimeUtil.epoch_time_converter, 1))\n",
    "\n",
    "df['timestamp_1m'] = df['timestamp_s'].apply(partial(DataTimeUtil.ceil_dt, timedelta(minutes=1)))\n",
    "\n",
    "df['timestamp_10m'] = df['timestamp_s'].apply(partial(DataTimeUtil.ceil_dt, timedelta(minutes=10)))\n",
    "\n",
    "df['vol'] = df['price']*df['amount']"
   ]
  },
  {
   "cell_type": "code",
   "execution_count": 16,
   "id": "828c30ca-211c-4b17-9a07-258f41fdf7a5",
   "metadata": {},
   "outputs": [
    {
     "data": {
      "text/html": [
       "<div>\n",
       "<style scoped>\n",
       "    .dataframe tbody tr th:only-of-type {\n",
       "        vertical-align: middle;\n",
       "    }\n",
       "\n",
       "    .dataframe tbody tr th {\n",
       "        vertical-align: top;\n",
       "    }\n",
       "\n",
       "    .dataframe thead th {\n",
       "        text-align: right;\n",
       "    }\n",
       "</style>\n",
       "<table border=\"1\" class=\"dataframe\">\n",
       "  <thead>\n",
       "    <tr style=\"text-align: right;\">\n",
       "      <th></th>\n",
       "      <th>symbol</th>\n",
       "      <th>timestamp</th>\n",
       "      <th>local_timestamp</th>\n",
       "      <th>id</th>\n",
       "      <th>side</th>\n",
       "      <th>price</th>\n",
       "      <th>amount</th>\n",
       "      <th>timestamp_s</th>\n",
       "      <th>microsec</th>\n",
       "      <th>timestamp_1m</th>\n",
       "      <th>timestamp_10m</th>\n",
       "      <th>vol</th>\n",
       "    </tr>\n",
       "    <tr>\n",
       "      <th>exchange</th>\n",
       "      <th></th>\n",
       "      <th></th>\n",
       "      <th></th>\n",
       "      <th></th>\n",
       "      <th></th>\n",
       "      <th></th>\n",
       "      <th></th>\n",
       "      <th></th>\n",
       "      <th></th>\n",
       "      <th></th>\n",
       "      <th></th>\n",
       "      <th></th>\n",
       "    </tr>\n",
       "  </thead>\n",
       "  <tbody>\n",
       "    <tr>\n",
       "      <th>deribit</th>\n",
       "      <td>BTC-PERPETUAL</td>\n",
       "      <td>1593561604287000</td>\n",
       "      <td>1593561604299954</td>\n",
       "      <td>83913093</td>\n",
       "      <td>buy</td>\n",
       "      <td>9133.0</td>\n",
       "      <td>90</td>\n",
       "      <td>2020-07-01 01:00:04</td>\n",
       "      <td>287000</td>\n",
       "      <td>2020-07-01 01:01:00</td>\n",
       "      <td>2020-07-01 01:10:00</td>\n",
       "      <td>821970.0</td>\n",
       "    </tr>\n",
       "    <tr>\n",
       "      <th>deribit</th>\n",
       "      <td>BTC-PERPETUAL</td>\n",
       "      <td>1593561604287000</td>\n",
       "      <td>1593561604299954</td>\n",
       "      <td>83913094</td>\n",
       "      <td>buy</td>\n",
       "      <td>9133.0</td>\n",
       "      <td>3090</td>\n",
       "      <td>2020-07-01 01:00:04</td>\n",
       "      <td>287000</td>\n",
       "      <td>2020-07-01 01:01:00</td>\n",
       "      <td>2020-07-01 01:10:00</td>\n",
       "      <td>28220970.0</td>\n",
       "    </tr>\n",
       "    <tr>\n",
       "      <th>deribit</th>\n",
       "      <td>ETH-PERPETUAL</td>\n",
       "      <td>1593561606422000</td>\n",
       "      <td>1593561606431442</td>\n",
       "      <td>ETH-18083992</td>\n",
       "      <td>sell</td>\n",
       "      <td>225.5</td>\n",
       "      <td>1</td>\n",
       "      <td>2020-07-01 01:00:06</td>\n",
       "      <td>422000</td>\n",
       "      <td>2020-07-01 01:01:00</td>\n",
       "      <td>2020-07-01 01:10:00</td>\n",
       "      <td>225.5</td>\n",
       "    </tr>\n",
       "    <tr>\n",
       "      <th>deribit</th>\n",
       "      <td>ETH-PERPETUAL</td>\n",
       "      <td>1593561606438000</td>\n",
       "      <td>1593561606446047</td>\n",
       "      <td>ETH-18083993</td>\n",
       "      <td>sell</td>\n",
       "      <td>225.5</td>\n",
       "      <td>1</td>\n",
       "      <td>2020-07-01 01:00:06</td>\n",
       "      <td>438000</td>\n",
       "      <td>2020-07-01 01:01:00</td>\n",
       "      <td>2020-07-01 01:10:00</td>\n",
       "      <td>225.5</td>\n",
       "    </tr>\n",
       "    <tr>\n",
       "      <th>deribit</th>\n",
       "      <td>BTC-PERPETUAL</td>\n",
       "      <td>1593561608442000</td>\n",
       "      <td>1593561608461506</td>\n",
       "      <td>83913095</td>\n",
       "      <td>buy</td>\n",
       "      <td>9133.0</td>\n",
       "      <td>2190</td>\n",
       "      <td>2020-07-01 01:00:08</td>\n",
       "      <td>442000</td>\n",
       "      <td>2020-07-01 01:01:00</td>\n",
       "      <td>2020-07-01 01:10:00</td>\n",
       "      <td>20001270.0</td>\n",
       "    </tr>\n",
       "  </tbody>\n",
       "</table>\n",
       "</div>"
      ],
      "text/plain": [
       "                 symbol         timestamp   local_timestamp            id  \\\n",
       "exchange                                                                    \n",
       "deribit   BTC-PERPETUAL  1593561604287000  1593561604299954      83913093   \n",
       "deribit   BTC-PERPETUAL  1593561604287000  1593561604299954      83913094   \n",
       "deribit   ETH-PERPETUAL  1593561606422000  1593561606431442  ETH-18083992   \n",
       "deribit   ETH-PERPETUAL  1593561606438000  1593561606446047  ETH-18083993   \n",
       "deribit   BTC-PERPETUAL  1593561608442000  1593561608461506      83913095   \n",
       "\n",
       "          side   price  amount         timestamp_s  microsec  \\\n",
       "exchange                                                       \n",
       "deribit    buy  9133.0      90 2020-07-01 01:00:04    287000   \n",
       "deribit    buy  9133.0    3090 2020-07-01 01:00:04    287000   \n",
       "deribit   sell   225.5       1 2020-07-01 01:00:06    422000   \n",
       "deribit   sell   225.5       1 2020-07-01 01:00:06    438000   \n",
       "deribit    buy  9133.0    2190 2020-07-01 01:00:08    442000   \n",
       "\n",
       "                timestamp_1m       timestamp_10m         vol  \n",
       "exchange                                                      \n",
       "deribit  2020-07-01 01:01:00 2020-07-01 01:10:00    821970.0  \n",
       "deribit  2020-07-01 01:01:00 2020-07-01 01:10:00  28220970.0  \n",
       "deribit  2020-07-01 01:01:00 2020-07-01 01:10:00       225.5  \n",
       "deribit  2020-07-01 01:01:00 2020-07-01 01:10:00       225.5  \n",
       "deribit  2020-07-01 01:01:00 2020-07-01 01:10:00  20001270.0  "
      ]
     },
     "execution_count": 16,
     "metadata": {},
     "output_type": "execute_result"
    }
   ],
   "source": [
    "df.head()"
   ]
  },
  {
   "cell_type": "code",
   "execution_count": 17,
   "id": "fcebea09-e079-4404-92d1-30b886e6b22a",
   "metadata": {},
   "outputs": [
    {
     "data": {
      "text/plain": [
       "Text(0.5, 1.0, 'BTC-PERP trading volume every 10min')"
      ]
     },
     "execution_count": 17,
     "metadata": {},
     "output_type": "execute_result"
    },
    {
     "data": {
      "image/png": "[encoded data removed]",
      "text/plain": [
       "<Figure size 432x288 with 1 Axes>"
      ]
     },
     "metadata": {
      "needs_background": "light"
     },
     "output_type": "display_data"
    }
   ],
   "source": [
    "df[df['symbol']=='BTC-PERPETUAL'].groupby('timestamp_10m')['vol'].sum().plot()\n",
    "plt.title('BTC-PERP trading volume every 10min')"
   ]
  },
  {
   "cell_type": "markdown",
   "id": "9c733cb6-55b3-4798-b4d3-4a3b7f963ffc",
   "metadata": {},
   "source": [
    "### 1.2) Futures"
   ]
  },
  {
   "cell_type": "code",
   "execution_count": 18,
   "id": "035c8395-f795-4e9f-afc2-0b6eab9a1654",
   "metadata": {},
   "outputs": [
    {
     "name": "stdout",
     "output_type": "stream",
     "text": [
      "loading cached Deribit_FUTURES_trades_2020-07-01_2020-07-31.csv.gz\n"
     ]
    }
   ],
   "source": [
    "url = get_deribit_sample_data_url('FUTURES', 'trades')\n",
    "df = url_csv_zip_file_reader(url)"
   ]
  },
  {
   "cell_type": "code",
   "execution_count": 24,
   "id": "10d5f75c-ea8e-4ce8-a2c5-702b6efeec88",
   "metadata": {},
   "outputs": [
    {
     "data": {
      "text/plain": [
       "(657649, 12)"
      ]
     },
     "metadata": {},
     "output_type": "display_data"
    }
   ],
   "source": [
    "display(df.shape)"
   ]
  },
  {
   "cell_type": "code",
   "execution_count": 23,
   "id": "fd35f2cd-a53c-4ff4-b91a-483093da582f",
   "metadata": {},
   "outputs": [],
   "source": [
    "df['timestamp_s'], df['microsec'] = zip(*df['timestamp'].apply(DataTimeUtil.epoch_time_converter, 1))\n",
    "\n",
    "df['timestamp_1m'] = df['timestamp_s'].apply(partial(DataTimeUtil.ceil_dt, timedelta(minutes=1)))\n",
    "\n",
    "df['timestamp_10m'] = df['timestamp_s'].apply(partial(DataTimeUtil.ceil_dt, timedelta(minutes=10)))\n",
    "\n",
    "df['vol'] = df['price']*df['amount']"
   ]
  },
  {
   "cell_type": "code",
   "execution_count": 19,
   "id": "7620ca37-b240-4b85-86fc-6e0577201eb7",
   "metadata": {},
   "outputs": [
    {
     "data": {
      "text/plain": [
       "array(['ETH-25SEP20', 'BTC-25SEP20', 'BTC-25DEC20', 'BTC-26MAR21',\n",
       "       'ETH-25DEC20', 'ETH-26MAR21'], dtype=object)"
      ]
     },
     "execution_count": 19,
     "metadata": {},
     "output_type": "execute_result"
    }
   ],
   "source": [
    "df['symbol'].unique()"
   ]
  },
  {
   "cell_type": "code",
   "execution_count": 20,
   "id": "58ed125d-3147-47bf-92ca-8b7eac521943",
   "metadata": {},
   "outputs": [
    {
     "data": {
      "text/html": [
       "<div>\n",
       "<style scoped>\n",
       "    .dataframe tbody tr th:only-of-type {\n",
       "        vertical-align: middle;\n",
       "    }\n",
       "\n",
       "    .dataframe tbody tr th {\n",
       "        vertical-align: top;\n",
       "    }\n",
       "\n",
       "    .dataframe thead th {\n",
       "        text-align: right;\n",
       "    }\n",
       "</style>\n",
       "<table border=\"1\" class=\"dataframe\">\n",
       "  <thead>\n",
       "    <tr style=\"text-align: right;\">\n",
       "      <th></th>\n",
       "      <th>symbol</th>\n",
       "      <th>timestamp</th>\n",
       "      <th>local_timestamp</th>\n",
       "      <th>id</th>\n",
       "      <th>side</th>\n",
       "      <th>price</th>\n",
       "      <th>amount</th>\n",
       "    </tr>\n",
       "    <tr>\n",
       "      <th>exchange</th>\n",
       "      <th></th>\n",
       "      <th></th>\n",
       "      <th></th>\n",
       "      <th></th>\n",
       "      <th></th>\n",
       "      <th></th>\n",
       "      <th></th>\n",
       "    </tr>\n",
       "  </thead>\n",
       "  <tbody>\n",
       "    <tr>\n",
       "      <th>deribit</th>\n",
       "      <td>ETH-25SEP20</td>\n",
       "      <td>1593561640656000</td>\n",
       "      <td>1593561640665430</td>\n",
       "      <td>ETH-18083995</td>\n",
       "      <td>buy</td>\n",
       "      <td>227.55</td>\n",
       "      <td>100</td>\n",
       "    </tr>\n",
       "    <tr>\n",
       "      <th>deribit</th>\n",
       "      <td>BTC-25SEP20</td>\n",
       "      <td>1593561642083000</td>\n",
       "      <td>1593561642090778</td>\n",
       "      <td>83913108</td>\n",
       "      <td>buy</td>\n",
       "      <td>9201.50</td>\n",
       "      <td>100</td>\n",
       "    </tr>\n",
       "    <tr>\n",
       "      <th>deribit</th>\n",
       "      <td>BTC-25SEP20</td>\n",
       "      <td>1593561642083000</td>\n",
       "      <td>1593561642090778</td>\n",
       "      <td>83913109</td>\n",
       "      <td>buy</td>\n",
       "      <td>9201.50</td>\n",
       "      <td>100</td>\n",
       "    </tr>\n",
       "    <tr>\n",
       "      <th>deribit</th>\n",
       "      <td>ETH-25SEP20</td>\n",
       "      <td>1593561646090000</td>\n",
       "      <td>1593561646098113</td>\n",
       "      <td>ETH-18083998</td>\n",
       "      <td>buy</td>\n",
       "      <td>227.55</td>\n",
       "      <td>100</td>\n",
       "    </tr>\n",
       "    <tr>\n",
       "      <th>deribit</th>\n",
       "      <td>BTC-25DEC20</td>\n",
       "      <td>1593561646724000</td>\n",
       "      <td>1593561646732510</td>\n",
       "      <td>83913111</td>\n",
       "      <td>sell</td>\n",
       "      <td>9267.00</td>\n",
       "      <td>1300</td>\n",
       "    </tr>\n",
       "  </tbody>\n",
       "</table>\n",
       "</div>"
      ],
      "text/plain": [
       "               symbol         timestamp   local_timestamp            id  side  \\\n",
       "exchange                                                                        \n",
       "deribit   ETH-25SEP20  1593561640656000  1593561640665430  ETH-18083995   buy   \n",
       "deribit   BTC-25SEP20  1593561642083000  1593561642090778      83913108   buy   \n",
       "deribit   BTC-25SEP20  1593561642083000  1593561642090778      83913109   buy   \n",
       "deribit   ETH-25SEP20  1593561646090000  1593561646098113  ETH-18083998   buy   \n",
       "deribit   BTC-25DEC20  1593561646724000  1593561646732510      83913111  sell   \n",
       "\n",
       "            price  amount  \n",
       "exchange                   \n",
       "deribit    227.55     100  \n",
       "deribit   9201.50     100  \n",
       "deribit   9201.50     100  \n",
       "deribit    227.55     100  \n",
       "deribit   9267.00    1300  "
      ]
     },
     "execution_count": 20,
     "metadata": {},
     "output_type": "execute_result"
    }
   ],
   "source": [
    "df.head()"
   ]
  },
  {
   "cell_type": "code",
   "execution_count": 21,
   "id": "d9ec4177-6e06-43a4-ad2a-d8a510da7a27",
   "metadata": {},
   "outputs": [
    {
     "data": {
      "text/plain": [
       "array(['ETH-25SEP20', 'BTC-25SEP20', 'BTC-25DEC20', 'BTC-26MAR21',\n",
       "       'ETH-25DEC20', 'ETH-26MAR21'], dtype=object)"
      ]
     },
     "execution_count": 21,
     "metadata": {},
     "output_type": "execute_result"
    }
   ],
   "source": [
    "df['symbol'].unique()"
   ]
  },
  {
   "cell_type": "code",
   "execution_count": 27,
   "id": "106c048d-6fb9-4a99-84fe-d33ac784109b",
   "metadata": {},
   "outputs": [
    {
     "data": {
      "text/plain": [
       "Text(0.5, 1.0, 'BTC-FUTURE trading volume every 10min')"
      ]
     },
     "execution_count": 27,
     "metadata": {},
     "output_type": "execute_result"
    },
    {
     "data": {
      "image/png": "[encoded data removed]",
      "text/plain": [
       "<Figure size 432x288 with 1 Axes>"
      ]
     },
     "metadata": {
      "needs_background": "light"
     },
     "output_type": "display_data"
    }
   ],
   "source": [
    "df[df['symbol']=='BTC-25SEP20'].groupby('timestamp_10m')['vol'].sum().plot()\n",
    "plt.title('BTC-FUTURE trading volume every 10min')"
   ]
  },
  {
   "cell_type": "markdown",
   "id": "3b910ea6-99c4-415c-ae49-befc82020e6d",
   "metadata": {},
   "source": [
    "### 1.3) Options"
   ]
  },
  {
   "cell_type": "code",
   "execution_count": 30,
   "id": "0ceb2d45-90f7-4371-9d84-1678f9f93c23",
   "metadata": {},
   "outputs": [
    {
     "name": "stdout",
     "output_type": "stream",
     "text": [
      "loading cached Deribit_OPTIONS_trades_2020-07-01_2020-07-31.csv.gz\n"
     ]
    },
    {
     "data": {
      "text/plain": [
       "(108723, 7)"
      ]
     },
     "metadata": {},
     "output_type": "display_data"
    }
   ],
   "source": [
    "url = get_deribit_sample_data_url('OPTIONS', 'trades')\n",
    "df = url_csv_zip_file_reader(url)\n",
    "display(df.shape)"
   ]
  },
  {
   "cell_type": "code",
   "execution_count": 29,
   "id": "feb8aad9-2c9f-4e02-946a-e6afb7ee2443",
   "metadata": {},
   "outputs": [
    {
     "data": {
      "text/html": [
       "<div>\n",
       "<style scoped>\n",
       "    .dataframe tbody tr th:only-of-type {\n",
       "        vertical-align: middle;\n",
       "    }\n",
       "\n",
       "    .dataframe tbody tr th {\n",
       "        vertical-align: top;\n",
       "    }\n",
       "\n",
       "    .dataframe thead th {\n",
       "        text-align: right;\n",
       "    }\n",
       "</style>\n",
       "<table border=\"1\" class=\"dataframe\">\n",
       "  <thead>\n",
       "    <tr style=\"text-align: right;\">\n",
       "      <th></th>\n",
       "      <th>symbol</th>\n",
       "      <th>timestamp</th>\n",
       "      <th>local_timestamp</th>\n",
       "      <th>id</th>\n",
       "      <th>side</th>\n",
       "      <th>price</th>\n",
       "      <th>amount</th>\n",
       "    </tr>\n",
       "    <tr>\n",
       "      <th>exchange</th>\n",
       "      <th></th>\n",
       "      <th></th>\n",
       "      <th></th>\n",
       "      <th></th>\n",
       "      <th></th>\n",
       "      <th></th>\n",
       "      <th></th>\n",
       "    </tr>\n",
       "  </thead>\n",
       "  <tbody>\n",
       "    <tr>\n",
       "      <th>deribit</th>\n",
       "      <td>ETH-10JUL20-260-C</td>\n",
       "      <td>1593561650814000</td>\n",
       "      <td>1593561650820880</td>\n",
       "      <td>ETH-18084009</td>\n",
       "      <td>sell</td>\n",
       "      <td>0.003</td>\n",
       "      <td>35.0</td>\n",
       "    </tr>\n",
       "    <tr>\n",
       "      <th>deribit</th>\n",
       "      <td>BTC-25DEC20-36000-C</td>\n",
       "      <td>1593561707919000</td>\n",
       "      <td>1593561707926798</td>\n",
       "      <td>83913246</td>\n",
       "      <td>sell</td>\n",
       "      <td>0.008</td>\n",
       "      <td>0.1</td>\n",
       "    </tr>\n",
       "    <tr>\n",
       "      <th>deribit</th>\n",
       "      <td>BTC-10JUL20-9000-P</td>\n",
       "      <td>1593561715723000</td>\n",
       "      <td>1593561715736665</td>\n",
       "      <td>83913333</td>\n",
       "      <td>buy</td>\n",
       "      <td>0.023</td>\n",
       "      <td>0.1</td>\n",
       "    </tr>\n",
       "    <tr>\n",
       "      <th>deribit</th>\n",
       "      <td>BTC-31JUL20-9750-C</td>\n",
       "      <td>1593561716136000</td>\n",
       "      <td>1593561716148667</td>\n",
       "      <td>83913337</td>\n",
       "      <td>sell</td>\n",
       "      <td>0.032</td>\n",
       "      <td>2.0</td>\n",
       "    </tr>\n",
       "    <tr>\n",
       "      <th>deribit</th>\n",
       "      <td>BTC-10JUL20-9500-C</td>\n",
       "      <td>1593561716317000</td>\n",
       "      <td>1593561716350558</td>\n",
       "      <td>83913396</td>\n",
       "      <td>sell</td>\n",
       "      <td>0.014</td>\n",
       "      <td>0.3</td>\n",
       "    </tr>\n",
       "  </tbody>\n",
       "</table>\n",
       "</div>"
      ],
      "text/plain": [
       "                       symbol         timestamp   local_timestamp  \\\n",
       "exchange                                                            \n",
       "deribit     ETH-10JUL20-260-C  1593561650814000  1593561650820880   \n",
       "deribit   BTC-25DEC20-36000-C  1593561707919000  1593561707926798   \n",
       "deribit    BTC-10JUL20-9000-P  1593561715723000  1593561715736665   \n",
       "deribit    BTC-31JUL20-9750-C  1593561716136000  1593561716148667   \n",
       "deribit    BTC-10JUL20-9500-C  1593561716317000  1593561716350558   \n",
       "\n",
       "                    id  side  price  amount  \n",
       "exchange                                     \n",
       "deribit   ETH-18084009  sell  0.003    35.0  \n",
       "deribit       83913246  sell  0.008     0.1  \n",
       "deribit       83913333   buy  0.023     0.1  \n",
       "deribit       83913337  sell  0.032     2.0  \n",
       "deribit       83913396  sell  0.014     0.3  "
      ]
     },
     "execution_count": 29,
     "metadata": {},
     "output_type": "execute_result"
    }
   ],
   "source": [
    "df.head()"
   ]
  },
  {
   "cell_type": "code",
   "execution_count": 35,
   "id": "25826b8e-5768-4687-9c73-6a658152fe1a",
   "metadata": {
    "tags": []
   },
   "outputs": [
    {
     "data": {
      "text/plain": [
       "['BTC-10JUL20-9000-P',\n",
       " 'BTC-10JUL20-9500-C',\n",
       " 'BTC-25DEC20-36000-C',\n",
       " 'BTC-2JUL20-9250-C',\n",
       " 'BTC-31JUL20-10000-C',\n",
       " 'BTC-31JUL20-9750-C',\n",
       " 'ETH-10JUL20-260-C',\n",
       " 'ETH-1JUL20-230-C']"
      ]
     },
     "execution_count": 35,
     "metadata": {},
     "output_type": "execute_result"
    }
   ],
   "source": [
    "sorted(list(df['symbol'].unique())[:8])"
   ]
  },
  {
   "cell_type": "markdown",
   "id": "f9e9871c-5818-45a5-bb9a-a25a90366085",
   "metadata": {},
   "source": [
    "## 2) Check book_snapshot_50"
   ]
  },
  {
   "cell_type": "markdown",
   "id": "42e49ccd-fbbd-4d03-8b7b-5d7279c917a8",
   "metadata": {},
   "source": [
    "### 2.1) Perpetual"
   ]
  },
  {
   "cell_type": "code",
   "execution_count": 39,
   "id": "aea67f93-5046-4379-9177-68642d5e1511",
   "metadata": {},
   "outputs": [
    {
     "name": "stdout",
     "output_type": "stream",
     "text": [
      "loading cached Deribit_PERPETUALS_book_snapshot_50_2020-07-01_2020-07-31.csv.gz\n",
      "file size > 500MB, load top 5000 rows\n"
     ]
    },
    {
     "data": {
      "text/html": [
       "<div>\n",
       "<style scoped>\n",
       "    .dataframe tbody tr th:only-of-type {\n",
       "        vertical-align: middle;\n",
       "    }\n",
       "\n",
       "    .dataframe tbody tr th {\n",
       "        vertical-align: top;\n",
       "    }\n",
       "\n",
       "    .dataframe thead th {\n",
       "        text-align: right;\n",
       "    }\n",
       "</style>\n",
       "<table border=\"1\" class=\"dataframe\">\n",
       "  <thead>\n",
       "    <tr style=\"text-align: right;\">\n",
       "      <th></th>\n",
       "      <th>symbol</th>\n",
       "      <th>timestamp</th>\n",
       "      <th>local_timestamp</th>\n",
       "      <th>asks[0].price</th>\n",
       "      <th>asks[0].amount</th>\n",
       "      <th>asks[1].price</th>\n",
       "      <th>asks[1].amount</th>\n",
       "      <th>asks[2].price</th>\n",
       "      <th>asks[2].amount</th>\n",
       "      <th>asks[3].price</th>\n",
       "      <th>...</th>\n",
       "      <th>bids[45].price</th>\n",
       "      <th>bids[45].amount</th>\n",
       "      <th>bids[46].price</th>\n",
       "      <th>bids[46].amount</th>\n",
       "      <th>bids[47].price</th>\n",
       "      <th>bids[47].amount</th>\n",
       "      <th>bids[48].price</th>\n",
       "      <th>bids[48].amount</th>\n",
       "      <th>bids[49].price</th>\n",
       "      <th>bids[49].amount</th>\n",
       "    </tr>\n",
       "    <tr>\n",
       "      <th>exchange</th>\n",
       "      <th></th>\n",
       "      <th></th>\n",
       "      <th></th>\n",
       "      <th></th>\n",
       "      <th></th>\n",
       "      <th></th>\n",
       "      <th></th>\n",
       "      <th></th>\n",
       "      <th></th>\n",
       "      <th></th>\n",
       "      <th></th>\n",
       "      <th></th>\n",
       "      <th></th>\n",
       "      <th></th>\n",
       "      <th></th>\n",
       "      <th></th>\n",
       "      <th></th>\n",
       "      <th></th>\n",
       "      <th></th>\n",
       "      <th></th>\n",
       "      <th></th>\n",
       "    </tr>\n",
       "  </thead>\n",
       "  <tbody>\n",
       "    <tr>\n",
       "      <th>deribit</th>\n",
       "      <td>ETH-PERPETUAL</td>\n",
       "      <td>1593561600154000</td>\n",
       "      <td>1593561600165998</td>\n",
       "      <td>225.55</td>\n",
       "      <td>6809</td>\n",
       "      <td>225.6</td>\n",
       "      <td>7574</td>\n",
       "      <td>225.65</td>\n",
       "      <td>38476</td>\n",
       "      <td>225.7</td>\n",
       "      <td>...</td>\n",
       "      <td>222.8</td>\n",
       "      <td>160</td>\n",
       "      <td>222.7</td>\n",
       "      <td>4454</td>\n",
       "      <td>222.6</td>\n",
       "      <td>61730</td>\n",
       "      <td>222.5</td>\n",
       "      <td>93965</td>\n",
       "      <td>222.45</td>\n",
       "      <td>16335</td>\n",
       "    </tr>\n",
       "    <tr>\n",
       "      <th>deribit</th>\n",
       "      <td>BTC-PERPETUAL</td>\n",
       "      <td>1593561600123000</td>\n",
       "      <td>1593561600185656</td>\n",
       "      <td>9133.00</td>\n",
       "      <td>42520</td>\n",
       "      <td>9133.5</td>\n",
       "      <td>90</td>\n",
       "      <td>9134.00</td>\n",
       "      <td>250</td>\n",
       "      <td>9134.5</td>\n",
       "      <td>...</td>\n",
       "      <td>9110.0</td>\n",
       "      <td>26460</td>\n",
       "      <td>9109.0</td>\n",
       "      <td>36870</td>\n",
       "      <td>9108.5</td>\n",
       "      <td>13990</td>\n",
       "      <td>9108.0</td>\n",
       "      <td>41880</td>\n",
       "      <td>9107.50</td>\n",
       "      <td>170540</td>\n",
       "    </tr>\n",
       "  </tbody>\n",
       "</table>\n",
       "<p>2 rows × 203 columns</p>\n",
       "</div>"
      ],
      "text/plain": [
       "                 symbol         timestamp   local_timestamp  asks[0].price  \\\n",
       "exchange                                                                     \n",
       "deribit   ETH-PERPETUAL  1593561600154000  1593561600165998         225.55   \n",
       "deribit   BTC-PERPETUAL  1593561600123000  1593561600185656        9133.00   \n",
       "\n",
       "          asks[0].amount  asks[1].price  asks[1].amount  asks[2].price  \\\n",
       "exchange                                                                 \n",
       "deribit             6809          225.6            7574         225.65   \n",
       "deribit            42520         9133.5              90        9134.00   \n",
       "\n",
       "          asks[2].amount  asks[3].price  ...  bids[45].price  bids[45].amount  \\\n",
       "exchange                                 ...                                    \n",
       "deribit            38476          225.7  ...           222.8              160   \n",
       "deribit              250         9134.5  ...          9110.0            26460   \n",
       "\n",
       "          bids[46].price  bids[46].amount  bids[47].price  bids[47].amount  \\\n",
       "exchange                                                                     \n",
       "deribit            222.7             4454           222.6            61730   \n",
       "deribit           9109.0            36870          9108.5            13990   \n",
       "\n",
       "          bids[48].price  bids[48].amount  bids[49].price  bids[49].amount  \n",
       "exchange                                                                    \n",
       "deribit            222.5            93965          222.45            16335  \n",
       "deribit           9108.0            41880         9107.50           170540  \n",
       "\n",
       "[2 rows x 203 columns]"
      ]
     },
     "execution_count": 39,
     "metadata": {},
     "output_type": "execute_result"
    }
   ],
   "source": [
    "url = get_deribit_sample_data_url('PERPETUALS', 'book_snapshot_50')\n",
    "df = url_csv_zip_file_reader(url)\n",
    "df.head(2)"
   ]
  },
  {
   "cell_type": "markdown",
   "id": "cbbf442d-966f-4ac7-bedb-49e3716acadc",
   "metadata": {},
   "source": [
    "### 2.2) Futures"
   ]
  },
  {
   "cell_type": "code",
   "execution_count": 40,
   "id": "505acec1-4f00-4ef4-8946-cc32fc2ea440",
   "metadata": {},
   "outputs": [
    {
     "name": "stdout",
     "output_type": "stream",
     "text": [
      "loading cached Deribit_FUTURES_book_snapshot_50_2020-07-01_2020-07-31.csv.gz\n",
      "file size > 500MB, load top 5000 rows\n"
     ]
    },
    {
     "data": {
      "text/html": [
       "<div>\n",
       "<style scoped>\n",
       "    .dataframe tbody tr th:only-of-type {\n",
       "        vertical-align: middle;\n",
       "    }\n",
       "\n",
       "    .dataframe tbody tr th {\n",
       "        vertical-align: top;\n",
       "    }\n",
       "\n",
       "    .dataframe thead th {\n",
       "        text-align: right;\n",
       "    }\n",
       "</style>\n",
       "<table border=\"1\" class=\"dataframe\">\n",
       "  <thead>\n",
       "    <tr style=\"text-align: right;\">\n",
       "      <th></th>\n",
       "      <th>symbol</th>\n",
       "      <th>timestamp</th>\n",
       "      <th>local_timestamp</th>\n",
       "      <th>asks[0].price</th>\n",
       "      <th>asks[0].amount</th>\n",
       "      <th>asks[1].price</th>\n",
       "      <th>asks[1].amount</th>\n",
       "      <th>asks[2].price</th>\n",
       "      <th>asks[2].amount</th>\n",
       "      <th>asks[3].price</th>\n",
       "      <th>...</th>\n",
       "      <th>bids[45].price</th>\n",
       "      <th>bids[45].amount</th>\n",
       "      <th>bids[46].price</th>\n",
       "      <th>bids[46].amount</th>\n",
       "      <th>bids[47].price</th>\n",
       "      <th>bids[47].amount</th>\n",
       "      <th>bids[48].price</th>\n",
       "      <th>bids[48].amount</th>\n",
       "      <th>bids[49].price</th>\n",
       "      <th>bids[49].amount</th>\n",
       "    </tr>\n",
       "    <tr>\n",
       "      <th>exchange</th>\n",
       "      <th></th>\n",
       "      <th></th>\n",
       "      <th></th>\n",
       "      <th></th>\n",
       "      <th></th>\n",
       "      <th></th>\n",
       "      <th></th>\n",
       "      <th></th>\n",
       "      <th></th>\n",
       "      <th></th>\n",
       "      <th></th>\n",
       "      <th></th>\n",
       "      <th></th>\n",
       "      <th></th>\n",
       "      <th></th>\n",
       "      <th></th>\n",
       "      <th></th>\n",
       "      <th></th>\n",
       "      <th></th>\n",
       "      <th></th>\n",
       "      <th></th>\n",
       "    </tr>\n",
       "  </thead>\n",
       "  <tbody>\n",
       "    <tr>\n",
       "      <th>deribit</th>\n",
       "      <td>ETH-26MAR21</td>\n",
       "      <td>1593561600127000</td>\n",
       "      <td>1593561600168701</td>\n",
       "      <td>230.30</td>\n",
       "      <td>30</td>\n",
       "      <td>230.4</td>\n",
       "      <td>230</td>\n",
       "      <td>230.65</td>\n",
       "      <td>13000</td>\n",
       "      <td>231.4</td>\n",
       "      <td>...</td>\n",
       "      <td>205.5</td>\n",
       "      <td>1</td>\n",
       "      <td>205.0</td>\n",
       "      <td>120</td>\n",
       "      <td>204.5</td>\n",
       "      <td>1</td>\n",
       "      <td>204.0</td>\n",
       "      <td>5</td>\n",
       "      <td>203.5</td>\n",
       "      <td>1</td>\n",
       "    </tr>\n",
       "    <tr>\n",
       "      <th>deribit</th>\n",
       "      <td>ETH-25SEP20</td>\n",
       "      <td>1593561596228000</td>\n",
       "      <td>1593561600168768</td>\n",
       "      <td>227.55</td>\n",
       "      <td>720</td>\n",
       "      <td>227.7</td>\n",
       "      <td>11483</td>\n",
       "      <td>227.75</td>\n",
       "      <td>3127</td>\n",
       "      <td>227.8</td>\n",
       "      <td>...</td>\n",
       "      <td>221.0</td>\n",
       "      <td>30150</td>\n",
       "      <td>220.5</td>\n",
       "      <td>150</td>\n",
       "      <td>220.0</td>\n",
       "      <td>150</td>\n",
       "      <td>219.5</td>\n",
       "      <td>150</td>\n",
       "      <td>219.1</td>\n",
       "      <td>10</td>\n",
       "    </tr>\n",
       "  </tbody>\n",
       "</table>\n",
       "<p>2 rows × 203 columns</p>\n",
       "</div>"
      ],
      "text/plain": [
       "               symbol         timestamp   local_timestamp  asks[0].price  \\\n",
       "exchange                                                                   \n",
       "deribit   ETH-26MAR21  1593561600127000  1593561600168701         230.30   \n",
       "deribit   ETH-25SEP20  1593561596228000  1593561600168768         227.55   \n",
       "\n",
       "          asks[0].amount  asks[1].price  asks[1].amount  asks[2].price  \\\n",
       "exchange                                                                 \n",
       "deribit               30          230.4             230         230.65   \n",
       "deribit              720          227.7           11483         227.75   \n",
       "\n",
       "          asks[2].amount  asks[3].price  ...  bids[45].price  bids[45].amount  \\\n",
       "exchange                                 ...                                    \n",
       "deribit            13000          231.4  ...           205.5                1   \n",
       "deribit             3127          227.8  ...           221.0            30150   \n",
       "\n",
       "          bids[46].price  bids[46].amount  bids[47].price  bids[47].amount  \\\n",
       "exchange                                                                     \n",
       "deribit            205.0              120           204.5                1   \n",
       "deribit            220.5              150           220.0              150   \n",
       "\n",
       "          bids[48].price  bids[48].amount  bids[49].price  bids[49].amount  \n",
       "exchange                                                                    \n",
       "deribit            204.0                5           203.5                1  \n",
       "deribit            219.5              150           219.1               10  \n",
       "\n",
       "[2 rows x 203 columns]"
      ]
     },
     "execution_count": 40,
     "metadata": {},
     "output_type": "execute_result"
    }
   ],
   "source": [
    "url = get_deribit_sample_data_url('FUTURES', 'book_snapshot_50')\n",
    "df = url_csv_zip_file_reader(url)\n",
    "df.head(2)"
   ]
  },
  {
   "cell_type": "markdown",
   "id": "93457912-3e79-40f7-b463-15ef13dda51b",
   "metadata": {},
   "source": [
    "### 2.3) Options"
   ]
  },
  {
   "cell_type": "code",
   "execution_count": 41,
   "id": "7efeb298-7c63-48d5-9e1b-70bf88c5cde4",
   "metadata": {},
   "outputs": [
    {
     "name": "stdout",
     "output_type": "stream",
     "text": [
      "loading cached Deribit_OPTIONS_book_snapshot_50_2020-07-01_2020-07-31.csv.gz\n",
      "file size > 500MB, load top 5000 rows\n"
     ]
    },
    {
     "data": {
      "text/html": [
       "<div>\n",
       "<style scoped>\n",
       "    .dataframe tbody tr th:only-of-type {\n",
       "        vertical-align: middle;\n",
       "    }\n",
       "\n",
       "    .dataframe tbody tr th {\n",
       "        vertical-align: top;\n",
       "    }\n",
       "\n",
       "    .dataframe thead th {\n",
       "        text-align: right;\n",
       "    }\n",
       "</style>\n",
       "<table border=\"1\" class=\"dataframe\">\n",
       "  <thead>\n",
       "    <tr style=\"text-align: right;\">\n",
       "      <th></th>\n",
       "      <th>symbol</th>\n",
       "      <th>timestamp</th>\n",
       "      <th>local_timestamp</th>\n",
       "      <th>asks[0].price</th>\n",
       "      <th>asks[0].amount</th>\n",
       "      <th>asks[1].price</th>\n",
       "      <th>asks[1].amount</th>\n",
       "      <th>asks[2].price</th>\n",
       "      <th>asks[2].amount</th>\n",
       "      <th>asks[3].price</th>\n",
       "      <th>...</th>\n",
       "      <th>bids[45].price</th>\n",
       "      <th>bids[45].amount</th>\n",
       "      <th>bids[46].price</th>\n",
       "      <th>bids[46].amount</th>\n",
       "      <th>bids[47].price</th>\n",
       "      <th>bids[47].amount</th>\n",
       "      <th>bids[48].price</th>\n",
       "      <th>bids[48].amount</th>\n",
       "      <th>bids[49].price</th>\n",
       "      <th>bids[49].amount</th>\n",
       "    </tr>\n",
       "    <tr>\n",
       "      <th>exchange</th>\n",
       "      <th></th>\n",
       "      <th></th>\n",
       "      <th></th>\n",
       "      <th></th>\n",
       "      <th></th>\n",
       "      <th></th>\n",
       "      <th></th>\n",
       "      <th></th>\n",
       "      <th></th>\n",
       "      <th></th>\n",
       "      <th></th>\n",
       "      <th></th>\n",
       "      <th></th>\n",
       "      <th></th>\n",
       "      <th></th>\n",
       "      <th></th>\n",
       "      <th></th>\n",
       "      <th></th>\n",
       "      <th></th>\n",
       "      <th></th>\n",
       "      <th></th>\n",
       "    </tr>\n",
       "  </thead>\n",
       "  <tbody>\n",
       "    <tr>\n",
       "      <th>deribit</th>\n",
       "      <td>ETH-3JUL20-330-P</td>\n",
       "      <td>1593561597050000</td>\n",
       "      <td>1593561600171286</td>\n",
       "      <td>0.9630</td>\n",
       "      <td>5.0</td>\n",
       "      <td>NaN</td>\n",
       "      <td>NaN</td>\n",
       "      <td>NaN</td>\n",
       "      <td>NaN</td>\n",
       "      <td>NaN</td>\n",
       "      <td>...</td>\n",
       "      <td>NaN</td>\n",
       "      <td>NaN</td>\n",
       "      <td>NaN</td>\n",
       "      <td>NaN</td>\n",
       "      <td>NaN</td>\n",
       "      <td>NaN</td>\n",
       "      <td>NaN</td>\n",
       "      <td>NaN</td>\n",
       "      <td>NaN</td>\n",
       "      <td>NaN</td>\n",
       "    </tr>\n",
       "    <tr>\n",
       "      <th>deribit</th>\n",
       "      <td>ETH-3JUL20-330-C</td>\n",
       "      <td>1593561600048000</td>\n",
       "      <td>1593561600171288</td>\n",
       "      <td>0.0005</td>\n",
       "      <td>451.0</td>\n",
       "      <td>0.2</td>\n",
       "      <td>62.0</td>\n",
       "      <td>NaN</td>\n",
       "      <td>NaN</td>\n",
       "      <td>NaN</td>\n",
       "      <td>...</td>\n",
       "      <td>NaN</td>\n",
       "      <td>NaN</td>\n",
       "      <td>NaN</td>\n",
       "      <td>NaN</td>\n",
       "      <td>NaN</td>\n",
       "      <td>NaN</td>\n",
       "      <td>NaN</td>\n",
       "      <td>NaN</td>\n",
       "      <td>NaN</td>\n",
       "      <td>NaN</td>\n",
       "    </tr>\n",
       "  </tbody>\n",
       "</table>\n",
       "<p>2 rows × 203 columns</p>\n",
       "</div>"
      ],
      "text/plain": [
       "                    symbol         timestamp   local_timestamp  asks[0].price  \\\n",
       "exchange                                                                        \n",
       "deribit   ETH-3JUL20-330-P  1593561597050000  1593561600171286         0.9630   \n",
       "deribit   ETH-3JUL20-330-C  1593561600048000  1593561600171288         0.0005   \n",
       "\n",
       "          asks[0].amount  asks[1].price  asks[1].amount  asks[2].price  \\\n",
       "exchange                                                                 \n",
       "deribit              5.0            NaN             NaN            NaN   \n",
       "deribit            451.0            0.2            62.0            NaN   \n",
       "\n",
       "          asks[2].amount  asks[3].price  ...  bids[45].price  bids[45].amount  \\\n",
       "exchange                                 ...                                    \n",
       "deribit              NaN            NaN  ...             NaN              NaN   \n",
       "deribit              NaN            NaN  ...             NaN              NaN   \n",
       "\n",
       "          bids[46].price  bids[46].amount  bids[47].price  bids[47].amount  \\\n",
       "exchange                                                                     \n",
       "deribit              NaN              NaN             NaN              NaN   \n",
       "deribit              NaN              NaN             NaN              NaN   \n",
       "\n",
       "          bids[48].price  bids[48].amount  bids[49].price  bids[49].amount  \n",
       "exchange                                                                    \n",
       "deribit              NaN              NaN             NaN              NaN  \n",
       "deribit              NaN              NaN             NaN              NaN  \n",
       "\n",
       "[2 rows x 203 columns]"
      ]
     },
     "execution_count": 41,
     "metadata": {},
     "output_type": "execute_result"
    }
   ],
   "source": [
    "url = get_deribit_sample_data_url('OPTIONS', 'book_snapshot_50')\n",
    "df = url_csv_zip_file_reader(url)\n",
    "df.head(2)"
   ]
  },
  {
   "cell_type": "markdown",
   "id": "15c530b5-9f2a-4f21-b107-f903cb886390",
   "metadata": {},
   "source": [
    "## 3) Check order book L2"
   ]
  },
  {
   "cell_type": "markdown",
   "id": "a83813f2-2230-4b99-87e5-4e99bfea709f",
   "metadata": {},
   "source": [
    "### 3.1) Perpetual"
   ]
  },
  {
   "cell_type": "code",
   "execution_count": 46,
   "id": "429c8fa9-69f9-47cc-a0e0-1c4ae8ff0c7f",
   "metadata": {},
   "outputs": [
    {
     "name": "stdout",
     "output_type": "stream",
     "text": [
      "loading cached Deribit_PERPETUALS_incremental_book_L2_2020-07-01_2020-07-31.csv.gz\n",
      "file size > 500MB, load top 5000 rows\n"
     ]
    },
    {
     "data": {
      "text/html": [
       "<div>\n",
       "<style scoped>\n",
       "    .dataframe tbody tr th:only-of-type {\n",
       "        vertical-align: middle;\n",
       "    }\n",
       "\n",
       "    .dataframe tbody tr th {\n",
       "        vertical-align: top;\n",
       "    }\n",
       "\n",
       "    .dataframe thead th {\n",
       "        text-align: right;\n",
       "    }\n",
       "</style>\n",
       "<table border=\"1\" class=\"dataframe\">\n",
       "  <thead>\n",
       "    <tr style=\"text-align: right;\">\n",
       "      <th></th>\n",
       "      <th>symbol</th>\n",
       "      <th>timestamp</th>\n",
       "      <th>local_timestamp</th>\n",
       "      <th>is_snapshot</th>\n",
       "      <th>side</th>\n",
       "      <th>price</th>\n",
       "      <th>amount</th>\n",
       "    </tr>\n",
       "    <tr>\n",
       "      <th>exchange</th>\n",
       "      <th></th>\n",
       "      <th></th>\n",
       "      <th></th>\n",
       "      <th></th>\n",
       "      <th></th>\n",
       "      <th></th>\n",
       "      <th></th>\n",
       "    </tr>\n",
       "  </thead>\n",
       "  <tbody>\n",
       "    <tr>\n",
       "      <th>deribit</th>\n",
       "      <td>ETH-PERPETUAL</td>\n",
       "      <td>1593561600154000</td>\n",
       "      <td>1593561600165998</td>\n",
       "      <td>True</td>\n",
       "      <td>ask</td>\n",
       "      <td>225.55</td>\n",
       "      <td>6809</td>\n",
       "    </tr>\n",
       "    <tr>\n",
       "      <th>deribit</th>\n",
       "      <td>ETH-PERPETUAL</td>\n",
       "      <td>1593561600154000</td>\n",
       "      <td>1593561600165998</td>\n",
       "      <td>True</td>\n",
       "      <td>ask</td>\n",
       "      <td>225.60</td>\n",
       "      <td>7574</td>\n",
       "    </tr>\n",
       "  </tbody>\n",
       "</table>\n",
       "</div>"
      ],
      "text/plain": [
       "                 symbol         timestamp   local_timestamp  is_snapshot side  \\\n",
       "exchange                                                                        \n",
       "deribit   ETH-PERPETUAL  1593561600154000  1593561600165998         True  ask   \n",
       "deribit   ETH-PERPETUAL  1593561600154000  1593561600165998         True  ask   \n",
       "\n",
       "           price  amount  \n",
       "exchange                  \n",
       "deribit   225.55    6809  \n",
       "deribit   225.60    7574  "
      ]
     },
     "execution_count": 46,
     "metadata": {},
     "output_type": "execute_result"
    }
   ],
   "source": [
    "url = get_deribit_sample_data_url('PERPETUALS', 'incremental_book_L2')\n",
    "df = url_csv_zip_file_reader(url)\n",
    "df.head(2)"
   ]
  },
  {
   "cell_type": "code",
   "execution_count": 47,
   "id": "e8e7bdb1-4d31-4c76-af24-988bc8065a7e",
   "metadata": {},
   "outputs": [
    {
     "data": {
      "text/plain": [
       "True     2898\n",
       "False    2102\n",
       "Name: is_snapshot, dtype: int64"
      ]
     },
     "execution_count": 47,
     "metadata": {},
     "output_type": "execute_result"
    }
   ],
   "source": [
    "df['is_snapshot'].value_counts()"
   ]
  },
  {
   "cell_type": "markdown",
   "id": "75960906-1f9c-4e30-9316-0a262d6c1a45",
   "metadata": {},
   "source": [
    "### 3.2) Futures"
   ]
  },
  {
   "cell_type": "code",
   "execution_count": 48,
   "id": "18554bac-4ae9-407b-8c3a-cd1bd0e3f48b",
   "metadata": {},
   "outputs": [
    {
     "name": "stdout",
     "output_type": "stream",
     "text": [
      "loading cached Deribit_FUTURES_incremental_book_L2_2020-07-01_2020-07-31.csv.gz\n",
      "file size > 500MB, load top 5000 rows\n"
     ]
    },
    {
     "data": {
      "text/html": [
       "<div>\n",
       "<style scoped>\n",
       "    .dataframe tbody tr th:only-of-type {\n",
       "        vertical-align: middle;\n",
       "    }\n",
       "\n",
       "    .dataframe tbody tr th {\n",
       "        vertical-align: top;\n",
       "    }\n",
       "\n",
       "    .dataframe thead th {\n",
       "        text-align: right;\n",
       "    }\n",
       "</style>\n",
       "<table border=\"1\" class=\"dataframe\">\n",
       "  <thead>\n",
       "    <tr style=\"text-align: right;\">\n",
       "      <th></th>\n",
       "      <th>symbol</th>\n",
       "      <th>timestamp</th>\n",
       "      <th>local_timestamp</th>\n",
       "      <th>is_snapshot</th>\n",
       "      <th>side</th>\n",
       "      <th>price</th>\n",
       "      <th>amount</th>\n",
       "    </tr>\n",
       "    <tr>\n",
       "      <th>exchange</th>\n",
       "      <th></th>\n",
       "      <th></th>\n",
       "      <th></th>\n",
       "      <th></th>\n",
       "      <th></th>\n",
       "      <th></th>\n",
       "      <th></th>\n",
       "    </tr>\n",
       "  </thead>\n",
       "  <tbody>\n",
       "    <tr>\n",
       "      <th>deribit</th>\n",
       "      <td>ETH-26MAR21</td>\n",
       "      <td>1593561600127000</td>\n",
       "      <td>1593561600168701</td>\n",
       "      <td>True</td>\n",
       "      <td>ask</td>\n",
       "      <td>230.3</td>\n",
       "      <td>30</td>\n",
       "    </tr>\n",
       "    <tr>\n",
       "      <th>deribit</th>\n",
       "      <td>ETH-26MAR21</td>\n",
       "      <td>1593561600127000</td>\n",
       "      <td>1593561600168701</td>\n",
       "      <td>True</td>\n",
       "      <td>ask</td>\n",
       "      <td>230.4</td>\n",
       "      <td>230</td>\n",
       "    </tr>\n",
       "  </tbody>\n",
       "</table>\n",
       "</div>"
      ],
      "text/plain": [
       "               symbol         timestamp   local_timestamp  is_snapshot side  \\\n",
       "exchange                                                                      \n",
       "deribit   ETH-26MAR21  1593561600127000  1593561600168701         True  ask   \n",
       "deribit   ETH-26MAR21  1593561600127000  1593561600168701         True  ask   \n",
       "\n",
       "          price  amount  \n",
       "exchange                 \n",
       "deribit   230.3      30  \n",
       "deribit   230.4     230  "
      ]
     },
     "execution_count": 48,
     "metadata": {},
     "output_type": "execute_result"
    }
   ],
   "source": [
    "url = get_deribit_sample_data_url('FUTURES', 'incremental_book_L2')\n",
    "df = url_csv_zip_file_reader(url)\n",
    "df.head(2)"
   ]
  },
  {
   "cell_type": "code",
   "execution_count": 49,
   "id": "317cfd7d-1b98-4f59-95f0-0be15b0fbfce",
   "metadata": {},
   "outputs": [
    {
     "data": {
      "text/plain": [
       "False    3436\n",
       "True     1564\n",
       "Name: is_snapshot, dtype: int64"
      ]
     },
     "execution_count": 49,
     "metadata": {},
     "output_type": "execute_result"
    }
   ],
   "source": [
    "df['is_snapshot'].value_counts()"
   ]
  },
  {
   "cell_type": "markdown",
   "id": "c39df5af-7591-4266-bfe9-45ad95111312",
   "metadata": {},
   "source": [
    "### 3.3) Options"
   ]
  },
  {
   "cell_type": "code",
   "execution_count": 50,
   "id": "51dcda7e-f6ea-46ea-85d5-8f50cd3fb9f2",
   "metadata": {},
   "outputs": [
    {
     "name": "stdout",
     "output_type": "stream",
     "text": [
      "loading cached Deribit_OPTIONS_incremental_book_L2_2020-07-01_2020-07-31.csv.gz\n",
      "file size > 500MB, load top 5000 rows\n"
     ]
    },
    {
     "data": {
      "text/html": [
       "<div>\n",
       "<style scoped>\n",
       "    .dataframe tbody tr th:only-of-type {\n",
       "        vertical-align: middle;\n",
       "    }\n",
       "\n",
       "    .dataframe tbody tr th {\n",
       "        vertical-align: top;\n",
       "    }\n",
       "\n",
       "    .dataframe thead th {\n",
       "        text-align: right;\n",
       "    }\n",
       "</style>\n",
       "<table border=\"1\" class=\"dataframe\">\n",
       "  <thead>\n",
       "    <tr style=\"text-align: right;\">\n",
       "      <th></th>\n",
       "      <th>symbol</th>\n",
       "      <th>timestamp</th>\n",
       "      <th>local_timestamp</th>\n",
       "      <th>is_snapshot</th>\n",
       "      <th>side</th>\n",
       "      <th>price</th>\n",
       "      <th>amount</th>\n",
       "    </tr>\n",
       "    <tr>\n",
       "      <th>exchange</th>\n",
       "      <th></th>\n",
       "      <th></th>\n",
       "      <th></th>\n",
       "      <th></th>\n",
       "      <th></th>\n",
       "      <th></th>\n",
       "      <th></th>\n",
       "    </tr>\n",
       "  </thead>\n",
       "  <tbody>\n",
       "    <tr>\n",
       "      <th>deribit</th>\n",
       "      <td>ETH-3JUL20-330-P</td>\n",
       "      <td>1593561597050000</td>\n",
       "      <td>1593561600171286</td>\n",
       "      <td>True</td>\n",
       "      <td>ask</td>\n",
       "      <td>0.9630</td>\n",
       "      <td>5.0</td>\n",
       "    </tr>\n",
       "    <tr>\n",
       "      <th>deribit</th>\n",
       "      <td>ETH-3JUL20-330-P</td>\n",
       "      <td>1593561597050000</td>\n",
       "      <td>1593561600171286</td>\n",
       "      <td>True</td>\n",
       "      <td>bid</td>\n",
       "      <td>0.0875</td>\n",
       "      <td>5.0</td>\n",
       "    </tr>\n",
       "  </tbody>\n",
       "</table>\n",
       "</div>"
      ],
      "text/plain": [
       "                    symbol         timestamp   local_timestamp  is_snapshot  \\\n",
       "exchange                                                                      \n",
       "deribit   ETH-3JUL20-330-P  1593561597050000  1593561600171286         True   \n",
       "deribit   ETH-3JUL20-330-P  1593561597050000  1593561600171286         True   \n",
       "\n",
       "         side   price  amount  \n",
       "exchange                       \n",
       "deribit   ask  0.9630     5.0  \n",
       "deribit   bid  0.0875     5.0  "
      ]
     },
     "execution_count": 50,
     "metadata": {},
     "output_type": "execute_result"
    }
   ],
   "source": [
    "url = get_deribit_sample_data_url('OPTIONS', 'incremental_book_L2')\n",
    "df = url_csv_zip_file_reader(url)\n",
    "df.head(2)"
   ]
  },
  {
   "cell_type": "code",
   "execution_count": 51,
   "id": "427e8dd9-e482-49aa-9ddb-732a4ac89d9b",
   "metadata": {},
   "outputs": [
    {
     "data": {
      "text/plain": [
       "True     4997\n",
       "False       3\n",
       "Name: is_snapshot, dtype: int64"
      ]
     },
     "execution_count": 51,
     "metadata": {},
     "output_type": "execute_result"
    }
   ],
   "source": [
    "df['is_snapshot'].value_counts()"
   ]
  },
  {
   "cell_type": "markdown",
   "id": "bedd72a1-f3d7-4d1a-8b7f-420809e4b460",
   "metadata": {},
   "source": [
    "## 4) Check tick level top of the book data"
   ]
  },
  {
   "cell_type": "markdown",
   "id": "95afdef2-c0b3-445e-887d-c8ef488e26eb",
   "metadata": {},
   "source": [
    "### 4.1) Perpetual"
   ]
  },
  {
   "cell_type": "code",
   "execution_count": 52,
   "id": "7ab0d27d-7362-40ba-9434-580c6ce8cef3",
   "metadata": {},
   "outputs": [
    {
     "name": "stdout",
     "output_type": "stream",
     "text": [
      "loading cached Deribit_PERPETUALS_quotes_2020-07-01_2020-07-31.csv.gz\n",
      "'url_csv_zip_file_reader'  26.29 sec\n"
     ]
    },
    {
     "data": {
      "text/html": [
       "<div>\n",
       "<style scoped>\n",
       "    .dataframe tbody tr th:only-of-type {\n",
       "        vertical-align: middle;\n",
       "    }\n",
       "\n",
       "    .dataframe tbody tr th {\n",
       "        vertical-align: top;\n",
       "    }\n",
       "\n",
       "    .dataframe thead th {\n",
       "        text-align: right;\n",
       "    }\n",
       "</style>\n",
       "<table border=\"1\" class=\"dataframe\">\n",
       "  <thead>\n",
       "    <tr style=\"text-align: right;\">\n",
       "      <th></th>\n",
       "      <th>symbol</th>\n",
       "      <th>timestamp</th>\n",
       "      <th>local_timestamp</th>\n",
       "      <th>ask_amount</th>\n",
       "      <th>ask_price</th>\n",
       "      <th>bid_price</th>\n",
       "      <th>bid_amount</th>\n",
       "    </tr>\n",
       "    <tr>\n",
       "      <th>exchange</th>\n",
       "      <th></th>\n",
       "      <th></th>\n",
       "      <th></th>\n",
       "      <th></th>\n",
       "      <th></th>\n",
       "      <th></th>\n",
       "      <th></th>\n",
       "    </tr>\n",
       "  </thead>\n",
       "  <tbody>\n",
       "    <tr>\n",
       "      <th>deribit</th>\n",
       "      <td>ETH-PERPETUAL</td>\n",
       "      <td>1593561600154000</td>\n",
       "      <td>1593561600165998</td>\n",
       "      <td>6809</td>\n",
       "      <td>225.55</td>\n",
       "      <td>225.5</td>\n",
       "      <td>14510</td>\n",
       "    </tr>\n",
       "    <tr>\n",
       "      <th>deribit</th>\n",
       "      <td>BTC-PERPETUAL</td>\n",
       "      <td>1593561600123000</td>\n",
       "      <td>1593561600185656</td>\n",
       "      <td>42520</td>\n",
       "      <td>9133.00</td>\n",
       "      <td>9132.5</td>\n",
       "      <td>264230</td>\n",
       "    </tr>\n",
       "  </tbody>\n",
       "</table>\n",
       "</div>"
      ],
      "text/plain": [
       "                 symbol         timestamp   local_timestamp  ask_amount  \\\n",
       "exchange                                                                  \n",
       "deribit   ETH-PERPETUAL  1593561600154000  1593561600165998        6809   \n",
       "deribit   BTC-PERPETUAL  1593561600123000  1593561600185656       42520   \n",
       "\n",
       "          ask_price  bid_price  bid_amount  \n",
       "exchange                                    \n",
       "deribit      225.55      225.5       14510  \n",
       "deribit     9133.00     9132.5      264230  "
      ]
     },
     "execution_count": 52,
     "metadata": {},
     "output_type": "execute_result"
    }
   ],
   "source": [
    "url = get_deribit_sample_data_url('PERPETUALS', 'quotes')\n",
    "df = url_csv_zip_file_reader(url)\n",
    "df.head(2)"
   ]
  },
  {
   "cell_type": "markdown",
   "id": "50a0289a-a514-4bd1-af77-f88e8d0b0042",
   "metadata": {},
   "source": [
    "### 4.2) Futures"
   ]
  },
  {
   "cell_type": "code",
   "execution_count": 53,
   "id": "136d4cc8-f5a5-4353-ac4d-708be1af450b",
   "metadata": {},
   "outputs": [
    {
     "name": "stdout",
     "output_type": "stream",
     "text": [
      "loading cached Deribit_FUTURES_quotes_2020-07-01_2020-07-31.csv.gz\n",
      "'url_csv_zip_file_reader'  18.88 sec\n"
     ]
    },
    {
     "data": {
      "text/html": [
       "<div>\n",
       "<style scoped>\n",
       "    .dataframe tbody tr th:only-of-type {\n",
       "        vertical-align: middle;\n",
       "    }\n",
       "\n",
       "    .dataframe tbody tr th {\n",
       "        vertical-align: top;\n",
       "    }\n",
       "\n",
       "    .dataframe thead th {\n",
       "        text-align: right;\n",
       "    }\n",
       "</style>\n",
       "<table border=\"1\" class=\"dataframe\">\n",
       "  <thead>\n",
       "    <tr style=\"text-align: right;\">\n",
       "      <th></th>\n",
       "      <th>symbol</th>\n",
       "      <th>timestamp</th>\n",
       "      <th>local_timestamp</th>\n",
       "      <th>ask_amount</th>\n",
       "      <th>ask_price</th>\n",
       "      <th>bid_price</th>\n",
       "      <th>bid_amount</th>\n",
       "    </tr>\n",
       "    <tr>\n",
       "      <th>exchange</th>\n",
       "      <th></th>\n",
       "      <th></th>\n",
       "      <th></th>\n",
       "      <th></th>\n",
       "      <th></th>\n",
       "      <th></th>\n",
       "      <th></th>\n",
       "    </tr>\n",
       "  </thead>\n",
       "  <tbody>\n",
       "    <tr>\n",
       "      <th>deribit</th>\n",
       "      <td>ETH-26MAR21</td>\n",
       "      <td>1593561600127000</td>\n",
       "      <td>1593561600168701</td>\n",
       "      <td>30</td>\n",
       "      <td>230.30</td>\n",
       "      <td>230.00</td>\n",
       "      <td>9098</td>\n",
       "    </tr>\n",
       "    <tr>\n",
       "      <th>deribit</th>\n",
       "      <td>ETH-25SEP20</td>\n",
       "      <td>1593561596228000</td>\n",
       "      <td>1593561600168768</td>\n",
       "      <td>720</td>\n",
       "      <td>227.55</td>\n",
       "      <td>227.25</td>\n",
       "      <td>7150</td>\n",
       "    </tr>\n",
       "  </tbody>\n",
       "</table>\n",
       "</div>"
      ],
      "text/plain": [
       "               symbol         timestamp   local_timestamp  ask_amount  \\\n",
       "exchange                                                                \n",
       "deribit   ETH-26MAR21  1593561600127000  1593561600168701          30   \n",
       "deribit   ETH-25SEP20  1593561596228000  1593561600168768         720   \n",
       "\n",
       "          ask_price  bid_price  bid_amount  \n",
       "exchange                                    \n",
       "deribit      230.30     230.00        9098  \n",
       "deribit      227.55     227.25        7150  "
      ]
     },
     "execution_count": 53,
     "metadata": {},
     "output_type": "execute_result"
    }
   ],
   "source": [
    "url = get_deribit_sample_data_url('FUTURES', 'quotes')\n",
    "df = url_csv_zip_file_reader(url)\n",
    "df.head(2)"
   ]
  },
  {
   "cell_type": "markdown",
   "id": "a1bdf778-5f52-4690-9f61-bfa526a46349",
   "metadata": {},
   "source": [
    "### 4.3) Options"
   ]
  },
  {
   "cell_type": "code",
   "execution_count": 54,
   "id": "9143e276-fb7b-4dee-9cd0-18fe2b8cf060",
   "metadata": {},
   "outputs": [
    {
     "name": "stdout",
     "output_type": "stream",
     "text": [
      "loading cached Deribit_OPTIONS_quotes_2020-07-01_2020-07-31.csv.gz\n",
      "file size > 500MB, load top 5000 rows\n"
     ]
    },
    {
     "data": {
      "text/html": [
       "<div>\n",
       "<style scoped>\n",
       "    .dataframe tbody tr th:only-of-type {\n",
       "        vertical-align: middle;\n",
       "    }\n",
       "\n",
       "    .dataframe tbody tr th {\n",
       "        vertical-align: top;\n",
       "    }\n",
       "\n",
       "    .dataframe thead th {\n",
       "        text-align: right;\n",
       "    }\n",
       "</style>\n",
       "<table border=\"1\" class=\"dataframe\">\n",
       "  <thead>\n",
       "    <tr style=\"text-align: right;\">\n",
       "      <th></th>\n",
       "      <th>symbol</th>\n",
       "      <th>timestamp</th>\n",
       "      <th>local_timestamp</th>\n",
       "      <th>ask_amount</th>\n",
       "      <th>ask_price</th>\n",
       "      <th>bid_price</th>\n",
       "      <th>bid_amount</th>\n",
       "    </tr>\n",
       "    <tr>\n",
       "      <th>exchange</th>\n",
       "      <th></th>\n",
       "      <th></th>\n",
       "      <th></th>\n",
       "      <th></th>\n",
       "      <th></th>\n",
       "      <th></th>\n",
       "      <th></th>\n",
       "    </tr>\n",
       "  </thead>\n",
       "  <tbody>\n",
       "    <tr>\n",
       "      <th>deribit</th>\n",
       "      <td>ETH-3JUL20-330-P</td>\n",
       "      <td>1593561597050000</td>\n",
       "      <td>1593561600171286</td>\n",
       "      <td>5.0</td>\n",
       "      <td>0.9630</td>\n",
       "      <td>0.0875</td>\n",
       "      <td>5.0</td>\n",
       "    </tr>\n",
       "    <tr>\n",
       "      <th>deribit</th>\n",
       "      <td>ETH-3JUL20-330-C</td>\n",
       "      <td>1593561600048000</td>\n",
       "      <td>1593561600171288</td>\n",
       "      <td>451.0</td>\n",
       "      <td>0.0005</td>\n",
       "      <td>NaN</td>\n",
       "      <td>NaN</td>\n",
       "    </tr>\n",
       "  </tbody>\n",
       "</table>\n",
       "</div>"
      ],
      "text/plain": [
       "                    symbol         timestamp   local_timestamp  ask_amount  \\\n",
       "exchange                                                                     \n",
       "deribit   ETH-3JUL20-330-P  1593561597050000  1593561600171286         5.0   \n",
       "deribit   ETH-3JUL20-330-C  1593561600048000  1593561600171288       451.0   \n",
       "\n",
       "          ask_price  bid_price  bid_amount  \n",
       "exchange                                    \n",
       "deribit      0.9630     0.0875         5.0  \n",
       "deribit      0.0005        NaN         NaN  "
      ]
     },
     "execution_count": 54,
     "metadata": {},
     "output_type": "execute_result"
    }
   ],
   "source": [
    "url = get_deribit_sample_data_url('OPTIONS', 'quotes')\n",
    "df = url_csv_zip_file_reader(url)\n",
    "df.head(2)"
   ]
  },
  {
   "cell_type": "markdown",
   "id": "e33765cc-43bc-4832-b66b-ed0e1df8c423",
   "metadata": {},
   "source": [
    "## 5) Options chain"
   ]
  },
  {
   "cell_type": "markdown",
   "id": "38486c94-7ad1-4b00-960a-fcf39956a579",
   "metadata": {},
   "source": [
    "### 5.1) Options Chain"
   ]
  },
  {
   "cell_type": "code",
   "execution_count": 64,
   "id": "0967a05f-da72-45f4-a9b0-2a0ad83a0593",
   "metadata": {},
   "outputs": [],
   "source": [
    "# TBD"
   ]
  },
  {
   "cell_type": "markdown",
   "id": "6703155f-d522-4784-95d1-9e70ac5efa37",
   "metadata": {},
   "source": [
    "## 6) Funding data, open interest, mark and index prices"
   ]
  },
  {
   "cell_type": "markdown",
   "id": "83176e54-1733-463f-8119-46b3cd69251a",
   "metadata": {},
   "source": [
    "### 6.1) Perpetual"
   ]
  },
  {
   "cell_type": "code",
   "execution_count": 59,
   "id": "8d368fdf-ba4b-491a-a0fe-ba207e82677e",
   "metadata": {},
   "outputs": [],
   "source": [
    "url = get_deribit_sample_data_url('PERPETUALS', 'derivative_ticker')\n",
    "df = url_csv_zip_file_reader(url)"
   ]
  },
  {
   "cell_type": "code",
   "execution_count": 61,
   "id": "12a745a3-dca7-49f7-8ace-46401247e1c6",
   "metadata": {},
   "outputs": [
    {
     "data": {
      "text/html": [
       "<div>\n",
       "<style scoped>\n",
       "    .dataframe tbody tr th:only-of-type {\n",
       "        vertical-align: middle;\n",
       "    }\n",
       "\n",
       "    .dataframe tbody tr th {\n",
       "        vertical-align: top;\n",
       "    }\n",
       "\n",
       "    .dataframe thead th {\n",
       "        text-align: right;\n",
       "    }\n",
       "</style>\n",
       "<table border=\"1\" class=\"dataframe\">\n",
       "  <thead>\n",
       "    <tr style=\"text-align: right;\">\n",
       "      <th></th>\n",
       "      <th>timestamp</th>\n",
       "      <th>local_timestamp</th>\n",
       "      <th>funding_timestamp</th>\n",
       "      <th>funding_rate</th>\n",
       "      <th>predicted_funding_rate</th>\n",
       "      <th>open_interest</th>\n",
       "      <th>last_price</th>\n",
       "      <th>index_price</th>\n",
       "      <th>mark_price</th>\n",
       "    </tr>\n",
       "  </thead>\n",
       "  <tbody>\n",
       "    <tr>\n",
       "      <th>count</th>\n",
       "      <td>4.107024e+06</td>\n",
       "      <td>4.107024e+06</td>\n",
       "      <td>0.0</td>\n",
       "      <td>4.107024e+06</td>\n",
       "      <td>0.0</td>\n",
       "      <td>4.107024e+06</td>\n",
       "      <td>4.107024e+06</td>\n",
       "      <td>4.107024e+06</td>\n",
       "      <td>4.107024e+06</td>\n",
       "    </tr>\n",
       "    <tr>\n",
       "      <th>mean</th>\n",
       "      <td>1.595023e+15</td>\n",
       "      <td>1.595023e+15</td>\n",
       "      <td>NaN</td>\n",
       "      <td>2.262745e-04</td>\n",
       "      <td>NaN</td>\n",
       "      <td>7.789649e+07</td>\n",
       "      <td>6.940841e+03</td>\n",
       "      <td>6.937556e+03</td>\n",
       "      <td>6.940831e+03</td>\n",
       "    </tr>\n",
       "    <tr>\n",
       "      <th>std</th>\n",
       "      <td>8.013707e+11</td>\n",
       "      <td>8.013713e+11</td>\n",
       "      <td>NaN</td>\n",
       "      <td>4.393484e-04</td>\n",
       "      <td>NaN</td>\n",
       "      <td>3.575700e+07</td>\n",
       "      <td>4.290416e+03</td>\n",
       "      <td>4.288048e+03</td>\n",
       "      <td>4.290406e+03</td>\n",
       "    </tr>\n",
       "    <tr>\n",
       "      <th>min</th>\n",
       "      <td>1.593562e+15</td>\n",
       "      <td>1.593562e+15</td>\n",
       "      <td>NaN</td>\n",
       "      <td>-3.586000e-03</td>\n",
       "      <td>NaN</td>\n",
       "      <td>1.807489e+07</td>\n",
       "      <td>2.228000e+02</td>\n",
       "      <td>2.230300e+02</td>\n",
       "      <td>2.229300e+02</td>\n",
       "    </tr>\n",
       "    <tr>\n",
       "      <th>25%</th>\n",
       "      <td>1.594293e+15</td>\n",
       "      <td>1.594293e+15</td>\n",
       "      <td>NaN</td>\n",
       "      <td>0.000000e+00</td>\n",
       "      <td>NaN</td>\n",
       "      <td>2.868032e+07</td>\n",
       "      <td>3.223000e+02</td>\n",
       "      <td>3.220300e+02</td>\n",
       "      <td>3.223300e+02</td>\n",
       "    </tr>\n",
       "    <tr>\n",
       "      <th>50%</th>\n",
       "      <td>1.595131e+15</td>\n",
       "      <td>1.595131e+15</td>\n",
       "      <td>NaN</td>\n",
       "      <td>0.000000e+00</td>\n",
       "      <td>NaN</td>\n",
       "      <td>9.260894e+07</td>\n",
       "      <td>9.206000e+03</td>\n",
       "      <td>9.203310e+03</td>\n",
       "      <td>9.205860e+03</td>\n",
       "    </tr>\n",
       "    <tr>\n",
       "      <th>75%</th>\n",
       "      <td>1.595793e+15</td>\n",
       "      <td>1.595793e+15</td>\n",
       "      <td>NaN</td>\n",
       "      <td>3.225500e-04</td>\n",
       "      <td>NaN</td>\n",
       "      <td>9.494000e+07</td>\n",
       "      <td>9.511000e+03</td>\n",
       "      <td>9.503850e+03</td>\n",
       "      <td>9.511000e+03</td>\n",
       "    </tr>\n",
       "    <tr>\n",
       "      <th>max</th>\n",
       "      <td>1.596161e+15</td>\n",
       "      <td>1.596161e+15</td>\n",
       "      <td>NaN</td>\n",
       "      <td>8.553000e-03</td>\n",
       "      <td>NaN</td>\n",
       "      <td>1.339326e+08</td>\n",
       "      <td>1.144400e+04</td>\n",
       "      <td>1.141165e+04</td>\n",
       "      <td>1.143543e+04</td>\n",
       "    </tr>\n",
       "  </tbody>\n",
       "</table>\n",
       "</div>"
      ],
      "text/plain": [
       "          timestamp  local_timestamp  funding_timestamp  funding_rate  \\\n",
       "count  4.107024e+06     4.107024e+06                0.0  4.107024e+06   \n",
       "mean   1.595023e+15     1.595023e+15                NaN  2.262745e-04   \n",
       "std    8.013707e+11     8.013713e+11                NaN  4.393484e-04   \n",
       "min    1.593562e+15     1.593562e+15                NaN -3.586000e-03   \n",
       "25%    1.594293e+15     1.594293e+15                NaN  0.000000e+00   \n",
       "50%    1.595131e+15     1.595131e+15                NaN  0.000000e+00   \n",
       "75%    1.595793e+15     1.595793e+15                NaN  3.225500e-04   \n",
       "max    1.596161e+15     1.596161e+15                NaN  8.553000e-03   \n",
       "\n",
       "       predicted_funding_rate  open_interest    last_price   index_price  \\\n",
       "count                     0.0   4.107024e+06  4.107024e+06  4.107024e+06   \n",
       "mean                      NaN   7.789649e+07  6.940841e+03  6.937556e+03   \n",
       "std                       NaN   3.575700e+07  4.290416e+03  4.288048e+03   \n",
       "min                       NaN   1.807489e+07  2.228000e+02  2.230300e+02   \n",
       "25%                       NaN   2.868032e+07  3.223000e+02  3.220300e+02   \n",
       "50%                       NaN   9.260894e+07  9.206000e+03  9.203310e+03   \n",
       "75%                       NaN   9.494000e+07  9.511000e+03  9.503850e+03   \n",
       "max                       NaN   1.339326e+08  1.144400e+04  1.141165e+04   \n",
       "\n",
       "         mark_price  \n",
       "count  4.107024e+06  \n",
       "mean   6.940831e+03  \n",
       "std    4.290406e+03  \n",
       "min    2.229300e+02  \n",
       "25%    3.223300e+02  \n",
       "50%    9.205860e+03  \n",
       "75%    9.511000e+03  \n",
       "max    1.143543e+04  "
      ]
     },
     "execution_count": 61,
     "metadata": {},
     "output_type": "execute_result"
    }
   ],
   "source": [
    "df.describe()"
   ]
  },
  {
   "cell_type": "markdown",
   "id": "bac19597-1275-46de-aecf-766640545c05",
   "metadata": {},
   "source": [
    "### 6.2) Futures"
   ]
  },
  {
   "cell_type": "code",
   "execution_count": 58,
   "id": "f0e6579d-af93-4751-8b2a-baaa735603c5",
   "metadata": {},
   "outputs": [],
   "source": [
    "url = get_deribit_sample_data_url('FUTURES', 'derivative_ticker')\n",
    "df = url_csv_zip_file_reader(url)"
   ]
  },
  {
   "cell_type": "code",
   "execution_count": 62,
   "id": "fdda30ed-6b49-433a-8964-390506d31e99",
   "metadata": {},
   "outputs": [
    {
     "data": {
      "text/html": [
       "<div>\n",
       "<style scoped>\n",
       "    .dataframe tbody tr th:only-of-type {\n",
       "        vertical-align: middle;\n",
       "    }\n",
       "\n",
       "    .dataframe tbody tr th {\n",
       "        vertical-align: top;\n",
       "    }\n",
       "\n",
       "    .dataframe thead th {\n",
       "        text-align: right;\n",
       "    }\n",
       "</style>\n",
       "<table border=\"1\" class=\"dataframe\">\n",
       "  <thead>\n",
       "    <tr style=\"text-align: right;\">\n",
       "      <th></th>\n",
       "      <th>symbol</th>\n",
       "      <th>timestamp</th>\n",
       "      <th>local_timestamp</th>\n",
       "      <th>funding_timestamp</th>\n",
       "      <th>funding_rate</th>\n",
       "      <th>predicted_funding_rate</th>\n",
       "      <th>open_interest</th>\n",
       "      <th>last_price</th>\n",
       "      <th>index_price</th>\n",
       "      <th>mark_price</th>\n",
       "    </tr>\n",
       "    <tr>\n",
       "      <th>exchange</th>\n",
       "      <th></th>\n",
       "      <th></th>\n",
       "      <th></th>\n",
       "      <th></th>\n",
       "      <th></th>\n",
       "      <th></th>\n",
       "      <th></th>\n",
       "      <th></th>\n",
       "      <th></th>\n",
       "      <th></th>\n",
       "    </tr>\n",
       "  </thead>\n",
       "  <tbody>\n",
       "    <tr>\n",
       "      <th>deribit</th>\n",
       "      <td>ETH-PERPETUAL</td>\n",
       "      <td>1593561600154000</td>\n",
       "      <td>1593561600158197</td>\n",
       "      <td>NaN</td>\n",
       "      <td>0.0</td>\n",
       "      <td>NaN</td>\n",
       "      <td>20111752</td>\n",
       "      <td>225.5</td>\n",
       "      <td>225.54</td>\n",
       "      <td>225.52</td>\n",
       "    </tr>\n",
       "    <tr>\n",
       "      <th>deribit</th>\n",
       "      <td>BTC-PERPETUAL</td>\n",
       "      <td>1593561600123000</td>\n",
       "      <td>1593561600174960</td>\n",
       "      <td>NaN</td>\n",
       "      <td>0.0</td>\n",
       "      <td>NaN</td>\n",
       "      <td>93554720</td>\n",
       "      <td>9132.5</td>\n",
       "      <td>9135.32</td>\n",
       "      <td>9133.78</td>\n",
       "    </tr>\n",
       "  </tbody>\n",
       "</table>\n",
       "</div>"
      ],
      "text/plain": [
       "                 symbol         timestamp   local_timestamp  \\\n",
       "exchange                                                      \n",
       "deribit   ETH-PERPETUAL  1593561600154000  1593561600158197   \n",
       "deribit   BTC-PERPETUAL  1593561600123000  1593561600174960   \n",
       "\n",
       "          funding_timestamp  funding_rate  predicted_funding_rate  \\\n",
       "exchange                                                            \n",
       "deribit                 NaN           0.0                     NaN   \n",
       "deribit                 NaN           0.0                     NaN   \n",
       "\n",
       "          open_interest  last_price  index_price  mark_price  \n",
       "exchange                                                      \n",
       "deribit        20111752       225.5       225.54      225.52  \n",
       "deribit        93554720      9132.5      9135.32     9133.78  "
      ]
     },
     "execution_count": 62,
     "metadata": {},
     "output_type": "execute_result"
    }
   ],
   "source": [
    "df.head(2)"
   ]
  },
  {
   "cell_type": "code",
   "execution_count": 63,
   "id": "5b69c68d-0e60-4f25-ac00-192587be5a6c",
   "metadata": {},
   "outputs": [
    {
     "data": {
      "text/html": [
       "<div>\n",
       "<style scoped>\n",
       "    .dataframe tbody tr th:only-of-type {\n",
       "        vertical-align: middle;\n",
       "    }\n",
       "\n",
       "    .dataframe tbody tr th {\n",
       "        vertical-align: top;\n",
       "    }\n",
       "\n",
       "    .dataframe thead th {\n",
       "        text-align: right;\n",
       "    }\n",
       "</style>\n",
       "<table border=\"1\" class=\"dataframe\">\n",
       "  <thead>\n",
       "    <tr style=\"text-align: right;\">\n",
       "      <th></th>\n",
       "      <th>timestamp</th>\n",
       "      <th>local_timestamp</th>\n",
       "      <th>funding_timestamp</th>\n",
       "      <th>funding_rate</th>\n",
       "      <th>predicted_funding_rate</th>\n",
       "      <th>open_interest</th>\n",
       "      <th>last_price</th>\n",
       "      <th>index_price</th>\n",
       "      <th>mark_price</th>\n",
       "    </tr>\n",
       "  </thead>\n",
       "  <tbody>\n",
       "    <tr>\n",
       "      <th>count</th>\n",
       "      <td>4.107024e+06</td>\n",
       "      <td>4.107024e+06</td>\n",
       "      <td>0.0</td>\n",
       "      <td>4.107024e+06</td>\n",
       "      <td>0.0</td>\n",
       "      <td>4.107024e+06</td>\n",
       "      <td>4.107024e+06</td>\n",
       "      <td>4.107024e+06</td>\n",
       "      <td>4.107024e+06</td>\n",
       "    </tr>\n",
       "    <tr>\n",
       "      <th>mean</th>\n",
       "      <td>1.595023e+15</td>\n",
       "      <td>1.595023e+15</td>\n",
       "      <td>NaN</td>\n",
       "      <td>2.262745e-04</td>\n",
       "      <td>NaN</td>\n",
       "      <td>7.789649e+07</td>\n",
       "      <td>6.940841e+03</td>\n",
       "      <td>6.937556e+03</td>\n",
       "      <td>6.940831e+03</td>\n",
       "    </tr>\n",
       "    <tr>\n",
       "      <th>std</th>\n",
       "      <td>8.013707e+11</td>\n",
       "      <td>8.013713e+11</td>\n",
       "      <td>NaN</td>\n",
       "      <td>4.393484e-04</td>\n",
       "      <td>NaN</td>\n",
       "      <td>3.575700e+07</td>\n",
       "      <td>4.290416e+03</td>\n",
       "      <td>4.288048e+03</td>\n",
       "      <td>4.290406e+03</td>\n",
       "    </tr>\n",
       "    <tr>\n",
       "      <th>min</th>\n",
       "      <td>1.593562e+15</td>\n",
       "      <td>1.593562e+15</td>\n",
       "      <td>NaN</td>\n",
       "      <td>-3.586000e-03</td>\n",
       "      <td>NaN</td>\n",
       "      <td>1.807489e+07</td>\n",
       "      <td>2.228000e+02</td>\n",
       "      <td>2.230300e+02</td>\n",
       "      <td>2.229300e+02</td>\n",
       "    </tr>\n",
       "    <tr>\n",
       "      <th>25%</th>\n",
       "      <td>1.594293e+15</td>\n",
       "      <td>1.594293e+15</td>\n",
       "      <td>NaN</td>\n",
       "      <td>0.000000e+00</td>\n",
       "      <td>NaN</td>\n",
       "      <td>2.868032e+07</td>\n",
       "      <td>3.223000e+02</td>\n",
       "      <td>3.220300e+02</td>\n",
       "      <td>3.223300e+02</td>\n",
       "    </tr>\n",
       "    <tr>\n",
       "      <th>50%</th>\n",
       "      <td>1.595131e+15</td>\n",
       "      <td>1.595131e+15</td>\n",
       "      <td>NaN</td>\n",
       "      <td>0.000000e+00</td>\n",
       "      <td>NaN</td>\n",
       "      <td>9.260894e+07</td>\n",
       "      <td>9.206000e+03</td>\n",
       "      <td>9.203310e+03</td>\n",
       "      <td>9.205860e+03</td>\n",
       "    </tr>\n",
       "    <tr>\n",
       "      <th>75%</th>\n",
       "      <td>1.595793e+15</td>\n",
       "      <td>1.595793e+15</td>\n",
       "      <td>NaN</td>\n",
       "      <td>3.225500e-04</td>\n",
       "      <td>NaN</td>\n",
       "      <td>9.494000e+07</td>\n",
       "      <td>9.511000e+03</td>\n",
       "      <td>9.503850e+03</td>\n",
       "      <td>9.511000e+03</td>\n",
       "    </tr>\n",
       "    <tr>\n",
       "      <th>max</th>\n",
       "      <td>1.596161e+15</td>\n",
       "      <td>1.596161e+15</td>\n",
       "      <td>NaN</td>\n",
       "      <td>8.553000e-03</td>\n",
       "      <td>NaN</td>\n",
       "      <td>1.339326e+08</td>\n",
       "      <td>1.144400e+04</td>\n",
       "      <td>1.141165e+04</td>\n",
       "      <td>1.143543e+04</td>\n",
       "    </tr>\n",
       "  </tbody>\n",
       "</table>\n",
       "</div>"
      ],
      "text/plain": [
       "          timestamp  local_timestamp  funding_timestamp  funding_rate  \\\n",
       "count  4.107024e+06     4.107024e+06                0.0  4.107024e+06   \n",
       "mean   1.595023e+15     1.595023e+15                NaN  2.262745e-04   \n",
       "std    8.013707e+11     8.013713e+11                NaN  4.393484e-04   \n",
       "min    1.593562e+15     1.593562e+15                NaN -3.586000e-03   \n",
       "25%    1.594293e+15     1.594293e+15                NaN  0.000000e+00   \n",
       "50%    1.595131e+15     1.595131e+15                NaN  0.000000e+00   \n",
       "75%    1.595793e+15     1.595793e+15                NaN  3.225500e-04   \n",
       "max    1.596161e+15     1.596161e+15                NaN  8.553000e-03   \n",
       "\n",
       "       predicted_funding_rate  open_interest    last_price   index_price  \\\n",
       "count                     0.0   4.107024e+06  4.107024e+06  4.107024e+06   \n",
       "mean                      NaN   7.789649e+07  6.940841e+03  6.937556e+03   \n",
       "std                       NaN   3.575700e+07  4.290416e+03  4.288048e+03   \n",
       "min                       NaN   1.807489e+07  2.228000e+02  2.230300e+02   \n",
       "25%                       NaN   2.868032e+07  3.223000e+02  3.220300e+02   \n",
       "50%                       NaN   9.260894e+07  9.206000e+03  9.203310e+03   \n",
       "75%                       NaN   9.494000e+07  9.511000e+03  9.503850e+03   \n",
       "max                       NaN   1.339326e+08  1.144400e+04  1.141165e+04   \n",
       "\n",
       "         mark_price  \n",
       "count  4.107024e+06  \n",
       "mean   6.940831e+03  \n",
       "std    4.290406e+03  \n",
       "min    2.229300e+02  \n",
       "25%    3.223300e+02  \n",
       "50%    9.205860e+03  \n",
       "75%    9.511000e+03  \n",
       "max    1.143543e+04  "
      ]
     },
     "execution_count": 63,
     "metadata": {},
     "output_type": "execute_result"
    }
   ],
   "source": [
    "df.describe()"
   ]
  }
 ],
 "metadata": {
  "kernelspec": {
   "display_name": "Python 3",
   "language": "python",
   "name": "python3"
  },
  "language_info": {
   "codemirror_mode": {
    "name": "ipython",
    "version": 3
   },
   "file_extension": ".py",
   "mimetype": "text/x-python",
   "name": "python",
   "nbconvert_exporter": "python",
   "pygments_lexer": "ipython3",
   "version": "3.8.8"
  }
 },
 "nbformat": 4,
 "nbformat_minor": 5
}
